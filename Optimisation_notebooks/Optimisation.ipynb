{
  "nbformat": 4,
  "nbformat_minor": 0,
  "metadata": {
    "colab": {
      "provenance": []
    },
    "kernelspec": {
      "name": "python3",
      "display_name": "Python 3"
    },
    "language_info": {
      "name": "python"
    }
  },
  "cells": [
    {
      "cell_type": "code",
      "execution_count": 1,
      "metadata": {
        "colab": {
          "base_uri": "https://localhost:8080/"
        },
        "id": "4zMiOTwGCc48",
        "outputId": "c9957be6-5147-4bdb-fc9c-e7c9315a7128"
      },
      "outputs": [
        {
          "output_type": "stream",
          "name": "stdout",
          "text": [
            "Cloning into 'EvoNet-CNN-Insight'...\n",
            "remote: Enumerating objects: 5616, done.\u001b[K\n",
            "remote: Counting objects: 100% (1237/1237), done.\u001b[K\n",
            "remote: Compressing objects: 100% (879/879), done.\u001b[K\n",
            "remote: Total 5616 (delta 432), reused 1112 (delta 341), pack-reused 4379\u001b[K\n",
            "Receiving objects: 100% (5616/5616), 8.07 GiB | 32.49 MiB/s, done.\n",
            "Resolving deltas: 100% (2030/2030), done.\n",
            "Updating files: 100% (261/261), done.\n",
            "/content/EvoNet-CNN-Insight/Optimisation_notebooks\n"
          ]
        }
      ],
      "source": [
        "!git clone https://github.com/Djinho/EvoNet-CNN-Insight.git\n",
        "\n",
        "# Navigate to the cloned repository\n",
        "%cd EvoNet-CNN-Insight/Optimisation_notebooks"
      ]
    },
    {
      "cell_type": "code",
      "source": [
        "%run -i ../../ImaGene.py"
      ],
      "metadata": {
        "id": "S7ZFl2RTDD2w"
      },
      "execution_count": null,
      "outputs": []
    }
  ]
}
