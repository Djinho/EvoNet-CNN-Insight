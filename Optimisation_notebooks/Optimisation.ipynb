{
  "nbformat": 4,
  "nbformat_minor": 0,
  "metadata": {
    "colab": {
      "provenance": [],
      "machine_shape": "hm",
      "gpuType": "A100"
    },
    "kernelspec": {
      "name": "python3",
      "display_name": "Python 3"
    },
    "language_info": {
      "name": "python"
    },
    "accelerator": "GPU"
  },
  "cells": [
    {
      "cell_type": "markdown",
      "source": [
        "# Bayesian Optimization for Evolutionary Scenarios\n",
        "\n",
        " Bayesian Optimization for all 9 selection scenarios using the following parameters:\n",
        "- **Number of Trials:** 30\n",
        "- **Number of Simulations Used:** 40,000\n",
        "- **GPU Used:** A100\n"
      ],
      "metadata": {
        "id": "FkPWlD3Ro7EK"
      }
    },
    {
      "cell_type": "code",
      "source": [
        "!pip install optuna\n",
        "!pip install optuna-integration\n",
        "\n"
      ],
      "metadata": {
        "id": "GRHg6VeRIv4p",
        "outputId": "314eddc5-4823-4deb-b705-3e13337c3468",
        "colab": {
          "base_uri": "https://localhost:8080/"
        }
      },
      "execution_count": 3,
      "outputs": [
        {
          "output_type": "stream",
          "name": "stdout",
          "text": [
            "Collecting optuna\n",
            "  Downloading optuna-3.6.1-py3-none-any.whl.metadata (17 kB)\n",
            "Collecting alembic>=1.5.0 (from optuna)\n",
            "  Downloading alembic-1.13.2-py3-none-any.whl.metadata (7.4 kB)\n",
            "Collecting colorlog (from optuna)\n",
            "  Downloading colorlog-6.8.2-py3-none-any.whl.metadata (10 kB)\n",
            "Requirement already satisfied: numpy in /usr/local/lib/python3.10/dist-packages (from optuna) (1.26.4)\n",
            "Requirement already satisfied: packaging>=20.0 in /usr/local/lib/python3.10/dist-packages (from optuna) (24.1)\n",
            "Requirement already satisfied: sqlalchemy>=1.3.0 in /usr/local/lib/python3.10/dist-packages (from optuna) (2.0.31)\n",
            "Requirement already satisfied: tqdm in /usr/local/lib/python3.10/dist-packages (from optuna) (4.66.4)\n",
            "Requirement already satisfied: PyYAML in /usr/local/lib/python3.10/dist-packages (from optuna) (6.0.1)\n",
            "Collecting Mako (from alembic>=1.5.0->optuna)\n",
            "  Downloading Mako-1.3.5-py3-none-any.whl.metadata (2.9 kB)\n",
            "Requirement already satisfied: typing-extensions>=4 in /usr/local/lib/python3.10/dist-packages (from alembic>=1.5.0->optuna) (4.12.2)\n",
            "Requirement already satisfied: greenlet!=0.4.17 in /usr/local/lib/python3.10/dist-packages (from sqlalchemy>=1.3.0->optuna) (3.0.3)\n",
            "Requirement already satisfied: MarkupSafe>=0.9.2 in /usr/local/lib/python3.10/dist-packages (from Mako->alembic>=1.5.0->optuna) (2.1.5)\n",
            "Downloading optuna-3.6.1-py3-none-any.whl (380 kB)\n",
            "\u001b[2K   \u001b[90m━━━━━━━━━━━━━━━━━━━━━━━━━━━━━━━━━━━━━━━━\u001b[0m \u001b[32m380.1/380.1 kB\u001b[0m \u001b[31m30.8 MB/s\u001b[0m eta \u001b[36m0:00:00\u001b[0m\n",
            "\u001b[?25hDownloading alembic-1.13.2-py3-none-any.whl (232 kB)\n",
            "\u001b[2K   \u001b[90m━━━━━━━━━━━━━━━━━━━━━━━━━━━━━━━━━━━━━━━━\u001b[0m \u001b[32m233.0/233.0 kB\u001b[0m \u001b[31m19.4 MB/s\u001b[0m eta \u001b[36m0:00:00\u001b[0m\n",
            "\u001b[?25hDownloading colorlog-6.8.2-py3-none-any.whl (11 kB)\n",
            "Downloading Mako-1.3.5-py3-none-any.whl (78 kB)\n",
            "\u001b[2K   \u001b[90m━━━━━━━━━━━━━━━━━━━━━━━━━━━━━━━━━━━━━━━━\u001b[0m \u001b[32m78.6/78.6 kB\u001b[0m \u001b[31m7.6 MB/s\u001b[0m eta \u001b[36m0:00:00\u001b[0m\n",
            "\u001b[?25hInstalling collected packages: Mako, colorlog, alembic, optuna\n",
            "Successfully installed Mako-1.3.5 alembic-1.13.2 colorlog-6.8.2 optuna-3.6.1\n",
            "Collecting optuna-integration\n",
            "  Downloading optuna_integration-3.6.0-py3-none-any.whl.metadata (10 kB)\n",
            "Requirement already satisfied: optuna in /usr/local/lib/python3.10/dist-packages (from optuna-integration) (3.6.1)\n",
            "Requirement already satisfied: alembic>=1.5.0 in /usr/local/lib/python3.10/dist-packages (from optuna->optuna-integration) (1.13.2)\n",
            "Requirement already satisfied: colorlog in /usr/local/lib/python3.10/dist-packages (from optuna->optuna-integration) (6.8.2)\n",
            "Requirement already satisfied: numpy in /usr/local/lib/python3.10/dist-packages (from optuna->optuna-integration) (1.26.4)\n",
            "Requirement already satisfied: packaging>=20.0 in /usr/local/lib/python3.10/dist-packages (from optuna->optuna-integration) (24.1)\n",
            "Requirement already satisfied: sqlalchemy>=1.3.0 in /usr/local/lib/python3.10/dist-packages (from optuna->optuna-integration) (2.0.31)\n",
            "Requirement already satisfied: tqdm in /usr/local/lib/python3.10/dist-packages (from optuna->optuna-integration) (4.66.4)\n",
            "Requirement already satisfied: PyYAML in /usr/local/lib/python3.10/dist-packages (from optuna->optuna-integration) (6.0.1)\n",
            "Requirement already satisfied: Mako in /usr/local/lib/python3.10/dist-packages (from alembic>=1.5.0->optuna->optuna-integration) (1.3.5)\n",
            "Requirement already satisfied: typing-extensions>=4 in /usr/local/lib/python3.10/dist-packages (from alembic>=1.5.0->optuna->optuna-integration) (4.12.2)\n",
            "Requirement already satisfied: greenlet!=0.4.17 in /usr/local/lib/python3.10/dist-packages (from sqlalchemy>=1.3.0->optuna->optuna-integration) (3.0.3)\n",
            "Requirement already satisfied: MarkupSafe>=0.9.2 in /usr/local/lib/python3.10/dist-packages (from Mako->alembic>=1.5.0->optuna->optuna-integration) (2.1.5)\n",
            "Downloading optuna_integration-3.6.0-py3-none-any.whl (93 kB)\n",
            "\u001b[2K   \u001b[90m━━━━━━━━━━━━━━━━━━━━━━━━━━━━━━━━━━━━━━━━\u001b[0m \u001b[32m93.4/93.4 kB\u001b[0m \u001b[31m8.5 MB/s\u001b[0m eta \u001b[36m0:00:00\u001b[0m\n",
            "\u001b[?25hInstalling collected packages: optuna-integration\n",
            "Successfully installed optuna-integration-3.6.0\n"
          ]
        }
      ]
    },
    {
      "cell_type": "code",
      "execution_count": 4,
      "metadata": {
        "id": "4zMiOTwGCc48",
        "outputId": "a5ac1d24-ef11-46fb-bbe7-5bd75c72c009",
        "colab": {
          "base_uri": "https://localhost:8080/"
        }
      },
      "outputs": [
        {
          "output_type": "stream",
          "name": "stdout",
          "text": [
            "Cloning into 'EvoNet-CNN-Insight'...\n",
            "remote: Enumerating objects: 5932, done.\u001b[K\n",
            "remote: Counting objects: 100% (1553/1553), done.\u001b[K\n",
            "remote: Compressing objects: 100% (1070/1070), done.\u001b[K\n",
            "remote: Total 5932 (delta 646), reused 1304 (delta 466), pack-reused 4379\u001b[K\n",
            "Receiving objects: 100% (5932/5932), 8.07 GiB | 17.31 MiB/s, done.\n",
            "Resolving deltas: 100% (2237/2237), done.\n",
            "Updating files: 100% (228/228), done.\n",
            "/content/EvoNet-CNN-Insight/Optimisation_notebooks\n"
          ]
        }
      ],
      "source": [
        "!git clone https://github.com/Djinho/EvoNet-CNN-Insight.git\n",
        "\n",
        "# Navigate to the cloned repository\n",
        "%cd EvoNet-CNN-Insight/Optimisation_notebooks"
      ]
    },
    {
      "cell_type": "code",
      "source": [
        "import optuna\n",
        "import tensorflow as tf\n",
        "from tensorflow.keras import models, layers, regularizers, callbacks\n",
        "from tensorflow.keras.callbacks import EarlyStopping\n",
        "from sklearn.model_selection import train_test_split\n",
        "from sklearn.metrics import accuracy_score\n",
        "import numpy as np\n",
        "import logging\n",
        "import os\n",
        "import time\n",
        "import gzip\n",
        "import skimage.transform\n",
        "from optuna.integration import TFKerasPruningCallback"
      ],
      "metadata": {
        "id": "FU46RIZg7xk3"
      },
      "execution_count": 5,
      "outputs": []
    },
    {
      "cell_type": "code",
      "source": [
        "%run -i ../ImaGene.py"
      ],
      "metadata": {
        "id": "S7ZFl2RTDD2w"
      },
      "execution_count": 6,
      "outputs": []
    },
    {
      "cell_type": "code",
      "source": [],
      "metadata": {
        "id": "L2oiPser6FBF"
      },
      "execution_count": null,
      "outputs": []
    },
    {
      "cell_type": "code",
      "source": [],
      "metadata": {
        "id": "EsVMuc576FO_"
      },
      "execution_count": null,
      "outputs": []
    },
    {
      "cell_type": "markdown",
      "source": [
        "Optimisation for Scenarios that happened 100kya"
      ],
      "metadata": {
        "id": "No_mLHxL6FmG"
      }
    },
    {
      "cell_type": "code",
      "source": [
        "\n",
        "\n",
        "# Configure logging to file in the current directory with the specified name\n",
        "logging.basicConfig(filename='Ancient_Scenarios_AM.log', level=logging.INFO,\n",
        "                    format='%(asctime)s:%(levelname)s:%(message)s')\n",
        "\n",
        "# Function to preprocess data\n",
        "def preprocess_data(simulations_folder, batch_number):\n",
        "    # Create ImaFile object for the specified simulation folder and model\n",
        "    file_sim = ImaFile(simulations_folder=os.path.join(simulations_folder, f'Simulations{batch_number}'), nr_samples=198, model_name='Marth-3epoch-CEU')\n",
        "\n",
        "    # Read the simulation data\n",
        "    gene_sim = file_sim.read_simulations(parameter_name='selection_coeff_hetero', max_nrepl=4000)\n",
        "\n",
        "    # Filter simulations based on frequency threshold\n",
        "    gene_sim.filter_freq(0.01)\n",
        "\n",
        "    # Sort simulations by row frequency\n",
        "    gene_sim.sort('rows_freq')\n",
        "\n",
        "    # Resize simulation data to the required dimensions\n",
        "    gene_sim.resize((198, 192))\n",
        "\n",
        "    # Convert simulation data (flip=True allows for data augmentation)\n",
        "    gene_sim.convert(flip=True)\n",
        "\n",
        "    # Get a random subset of indices and subset the simulation data\n",
        "    gene_sim.subset(get_index_random(gene_sim))\n",
        "\n",
        "    # Convert targets to binary format\n",
        "    gene_sim.targets = to_binary(gene_sim.targets)\n",
        "\n",
        "    return gene_sim\n",
        "\n",
        "# Objective function for Optuna optimization\n",
        "def objective(trial, simulations_folder, epochs=1):\n",
        "    # Set random seed\n",
        "    np.random.seed(42)\n",
        "    tf.random.set_seed(42)\n",
        "\n",
        "    # Hyperparameters to be optimized\n",
        "    num_layers = trial.suggest_int('num_layers', 3, 6)  # Limit the number of layers to avoid excessive reduction\n",
        "    filters = [trial.suggest_int(f'filters_{i}', 32, 128) for i in range(num_layers)]  # Adjust filters range\n",
        "    kernel_size = trial.suggest_int('kernel_size', 2, 3)  # Limit the kernel size to avoid excessive reduction\n",
        "    l1 = trial.suggest_float('l1', 1e-6, 1e-2, log=True)\n",
        "    l2 = trial.suggest_float('l2', 1e-6, 1e-2, log=True)\n",
        "    dense_units = trial.suggest_int('dense_units', 64, 256)  # Adjust dense units range\n",
        "    dropout_rate = trial.suggest_float('dropout_rate', 0.1, 0.5)\n",
        "    learning_rate = trial.suggest_float('learning_rate', 1e-5, 1e-3, log=True)\n",
        "\n",
        "    # Log the hyperparameters at the start of each trial\n",
        "    logging.info(f'Trial {trial.number} started with hyperparameters: num_layers={num_layers}, filters={filters}, '\n",
        "                 f'kernel_size={kernel_size}, l1={l1}, l2={l2}, dense_units={dense_units}, '\n",
        "                 f'dropout_rate={dropout_rate}, learning_rate={learning_rate}')\n",
        "    print(f'Trial {trial.number} started with hyperparameters: num_layers={num_layers}, filters={filters}, '\n",
        "          f'kernel_size={kernel_size}, l1={l1}, l2={l2}, dense_units={dense_units}, '\n",
        "          f'dropout_rate={dropout_rate}, learning_rate={learning_rate}')\n",
        "\n",
        "    # Building the model based on sampled hyperparameters\n",
        "    model = models.Sequential()\n",
        "    model.add(layers.Input(shape=(198, 192, 1)))  # Define the input layer\n",
        "    for i in range(num_layers):\n",
        "        model.add(layers.Conv2D(filters=filters[i], kernel_size=(kernel_size, kernel_size), strides=(1, 1), activation='relu',\n",
        "                                kernel_regularizer=regularizers.l1_l2(l1=l1, l2=l2), padding='same'))  # Use 'same' padding to avoid dimension issues\n",
        "        model.add(layers.MaxPooling2D(pool_size=(2, 2)))\n",
        "\n",
        "    model.add(layers.Flatten())  # Flatten the output for the Dense layers\n",
        "    model.add(layers.Dense(units=dense_units, activation='relu'))  # Add Dense layer\n",
        "    model.add(layers.Dropout(rate=dropout_rate))  # Add Dropout layer\n",
        "    model.add(layers.Dense(units=1, activation='sigmoid'))  # Output layer with sigmoid activation\n",
        "\n",
        "    optimizer = tf.keras.optimizers.Adam(learning_rate=learning_rate)  # Define optimizer\n",
        "    model.compile(optimizer=optimizer, loss='binary_crossentropy', metrics=['accuracy'])  # Compile the model\n",
        "\n",
        "    # Pruning callback to terminate unpromising trials\n",
        "    pruning_callback = TFKerasPruningCallback(trial, 'val_loss')\n",
        "\n",
        "    # Early stopping to prevent overfitting\n",
        "    early_stopping = EarlyStopping(monitor='val_loss', patience=3, restore_best_weights=True)\n",
        "\n",
        "    # Incremental training on 9 batches\n",
        "    best_val_loss = np.inf  # Track the best validation loss\n",
        "    for batch_number in range(1, 10):\n",
        "        gene_sim = preprocess_data(simulations_folder, batch_number)  # Preprocess data\n",
        "        history = model.fit(gene_sim.data, gene_sim.targets, batch_size=64, epochs=epochs, verbose=1, validation_split=0.2,\n",
        "                            callbacks=[early_stopping, pruning_callback])  # Train the model with callbacks\n",
        "\n",
        "        # Get the validation loss for the current epoch\n",
        "        val_loss = min(history.history['val_loss'])\n",
        "        if val_loss < best_val_loss:\n",
        "            best_val_loss = val_loss\n",
        "            trial.report(val_loss, batch_number)\n",
        "            if trial.should_prune():\n",
        "                raise optuna.exceptions.TrialPruned()\n",
        "\n",
        "    # Evaluate the model on the 10th batch\n",
        "    gene_sim = preprocess_data(simulations_folder, 10)\n",
        "    evaluation = model.evaluate(gene_sim.data, gene_sim.targets, verbose=1)\n",
        "    return evaluation[1]  # Return the accuracy\n",
        "\n",
        "# Function to run the optimization process\n",
        "def run_optimization():\n",
        "    start_time = time.time()  # Record start time\n",
        "\n",
        "    simulations_folder = '/content/EvoNet-CNN-Insight/model_training/Ancient_moderate/AM'  # Folder for this dataset\n",
        "    logging.info(f\"Starting optimization for {simulations_folder}\")\n",
        "    print(f\"Starting optimization for {simulations_folder}\")\n",
        "\n",
        "    # Create an Optuna study and optimize the objective function\n",
        "    study = optuna.create_study(direction='maximize', pruner=optuna.pruners.MedianPruner(), storage='sqlite:///am_study.db', load_if_exists=True)  # Use SQLite storage\n",
        "    study.optimize(lambda trial: objective(trial, simulations_folder), n_trials=30)  # Set to 30 trials\n",
        "\n",
        "    try:\n",
        "        trial = study.best_trial\n",
        "        print('Best trial:')\n",
        "        print('Value: {}'.format(trial.value))\n",
        "        print('Params: ')\n",
        "        for key, value in trial.params.items():\n",
        "            print('    {}: {}'.format(key, value))  # Print best trial parameters\n",
        "\n",
        "        logging.info('Best trial:')\n",
        "        logging.info('Value: {}'.format(trial.value))\n",
        "        logging.info('Params: ')\n",
        "        for key, value in trial.params.items():\n",
        "            logging.info('    {}: {}'.format(key, value))  # Log best trial parameters\n",
        "\n",
        "    except ValueError as e:\n",
        "        logging.error(f\"No completed trials: {e}\")  # Log error if no trials are completed\n",
        "\n",
        "    elapsed_time = time.time() - start_time  # Calculate elapsed time\n",
        "    print(f\"Elapsed time: {elapsed_time:.2f} seconds\")\n",
        "    logging.info(f\"Elapsed time: {elapsed_time:.2f} seconds\")  # Log elapsed time\n",
        "\n",
        "# Run the optimization process\n",
        "if __name__ == '__main__':\n",
        "    run_optimization()  # Execute the optimization function\n",
        "\n"
      ],
      "metadata": {
        "id": "ho5wRWLDNvni",
        "outputId": "1ec4ec6d-9001-46b0-c1b1-9dbc33dcffa0",
        "colab": {
          "base_uri": "https://localhost:8080/"
        }
      },
      "execution_count": null,
      "outputs": [
        {
          "metadata": {
            "tags": null
          },
          "name": "stdout",
          "output_type": "stream",
          "text": [
            "Starting optimization for /content/EvoNet-CNN-Insight/model_training/Ancient_moderate/AM\n"
          ]
        },
        {
          "metadata": {
            "tags": null
          },
          "name": "stderr",
          "output_type": "stream",
          "text": [
            "[I 2024-08-04 13:36:59,143] A new study created in RDB with name: no-name-27a1444c-e844-4903-abb6-66718ee507fa\n"
          ]
        },
        {
          "metadata": {
            "tags": null
          },
          "name": "stdout",
          "output_type": "stream",
          "text": [
            "Trial 0 started with hyperparameters: num_layers=3, filters=[81, 126, 62], kernel_size=2, l1=0.003188315471455216, l2=2.1306421274251034e-06, dense_units=188, dropout_rate=0.2436894556788965, learning_rate=1.5036844388351935e-05\n",
            "\u001b[1m50/50\u001b[0m \u001b[32m━━━━━━━━━━━━━━━━━━━━\u001b[0m\u001b[37m\u001b[0m \u001b[1m10s\u001b[0m 78ms/step - accuracy: 0.5079 - loss: 10.6863 - val_accuracy: 0.4825 - val_loss: 10.5606\n",
            "\u001b[1m50/50\u001b[0m \u001b[32m━━━━━━━━━━━━━━━━━━━━\u001b[0m\u001b[37m\u001b[0m \u001b[1m2s\u001b[0m 30ms/step - accuracy: 0.5231 - loss: 10.5152 - val_accuracy: 0.4837 - val_loss: 10.3877\n",
            "\u001b[1m50/50\u001b[0m \u001b[32m━━━━━━━━━━━━━━━━━━━━\u001b[0m\u001b[37m\u001b[0m \u001b[1m2s\u001b[0m 30ms/step - accuracy: 0.5693 - loss: 10.3430 - val_accuracy: 0.4737 - val_loss: 10.2302\n",
            "\u001b[1m50/50\u001b[0m \u001b[32m━━━━━━━━━━━━━━━━━━━━\u001b[0m\u001b[37m\u001b[0m \u001b[1m1s\u001b[0m 29ms/step - accuracy: 0.5440 - loss: 10.1843 - val_accuracy: 0.6637 - val_loss: 10.0538\n",
            "\u001b[1m50/50\u001b[0m \u001b[32m━━━━━━━━━━━━━━━━━━━━\u001b[0m\u001b[37m\u001b[0m \u001b[1m1s\u001b[0m 29ms/step - accuracy: 0.5939 - loss: 10.0165 - val_accuracy: 0.6388 - val_loss: 9.8921\n",
            "\u001b[1m50/50\u001b[0m \u001b[32m━━━━━━━━━━━━━━━━━━━━\u001b[0m\u001b[37m\u001b[0m \u001b[1m2s\u001b[0m 30ms/step - accuracy: 0.5748 - loss: 9.8590 - val_accuracy: 0.5938 - val_loss: 9.7430\n",
            "\u001b[1m50/50\u001b[0m \u001b[32m━━━━━━━━━━━━━━━━━━━━\u001b[0m\u001b[37m\u001b[0m \u001b[1m1s\u001b[0m 29ms/step - accuracy: 0.5955 - loss: 9.7042 - val_accuracy: 0.4875 - val_loss: 9.6047\n",
            "\u001b[1m50/50\u001b[0m \u001b[32m━━━━━━━━━━━━━━━━━━━━\u001b[0m\u001b[37m\u001b[0m \u001b[1m2s\u001b[0m 30ms/step - accuracy: 0.5719 - loss: 9.5580 - val_accuracy: 0.5063 - val_loss: 9.4568\n",
            "\u001b[1m50/50\u001b[0m \u001b[32m━━━━━━━━━━━━━━━━━━━━\u001b[0m\u001b[37m\u001b[0m \u001b[1m1s\u001b[0m 29ms/step - accuracy: 0.6232 - loss: 9.4087 - val_accuracy: 0.6288 - val_loss: 9.3058\n",
            "\u001b[1m125/125\u001b[0m \u001b[32m━━━━━━━━━━━━━━━━━━━━\u001b[0m\u001b[37m\u001b[0m \u001b[1m1s\u001b[0m 5ms/step - accuracy: 0.6363 - loss: 9.3032\n"
          ]
        },
        {
          "metadata": {
            "tags": null
          },
          "name": "stderr",
          "output_type": "stream",
          "text": [
            "[I 2024-08-04 13:50:59,172] Trial 0 finished with value: 0.6274999976158142 and parameters: {'num_layers': 3, 'filters_0': 81, 'filters_1': 126, 'filters_2': 62, 'kernel_size': 2, 'l1': 0.003188315471455216, 'l2': 2.1306421274251034e-06, 'dense_units': 188, 'dropout_rate': 0.2436894556788965, 'learning_rate': 1.5036844388351935e-05}. Best is trial 0 with value: 0.6274999976158142.\n"
          ]
        },
        {
          "metadata": {
            "tags": null
          },
          "name": "stdout",
          "output_type": "stream",
          "text": [
            "Trial 1 started with hyperparameters: num_layers=6, filters=[40, 67, 92, 32, 34, 55], kernel_size=2, l1=0.0037157522547798024, l2=0.00031460442046373686, dense_units=118, dropout_rate=0.14421927289369652, learning_rate=0.00013405854266477086\n",
            "\u001b[1m50/50\u001b[0m \u001b[32m━━━━━━━━━━━━━━━━━━━━\u001b[0m\u001b[37m\u001b[0m \u001b[1m11s\u001b[0m 79ms/step - accuracy: 0.4940 - loss: 12.7731 - val_accuracy: 0.5525 - val_loss: 11.7009\n",
            "\u001b[1m50/50\u001b[0m \u001b[32m━━━━━━━━━━━━━━━━━━━━\u001b[0m\u001b[37m\u001b[0m \u001b[1m1s\u001b[0m 21ms/step - accuracy: 0.5104 - loss: 11.3581 - val_accuracy: 0.4800 - val_loss: 10.3526\n",
            "\u001b[1m50/50\u001b[0m \u001b[32m━━━━━━━━━━━━━━━━━━━━\u001b[0m\u001b[37m\u001b[0m \u001b[1m1s\u001b[0m 21ms/step - accuracy: 0.5312 - loss: 10.0321 - val_accuracy: 0.5788 - val_loss: 9.0940\n",
            "\u001b[1m50/50\u001b[0m \u001b[32m━━━━━━━━━━━━━━━━━━━━\u001b[0m\u001b[37m\u001b[0m \u001b[1m1s\u001b[0m 21ms/step - accuracy: 0.5342 - loss: 8.7961 - val_accuracy: 0.4938 - val_loss: 7.9261\n",
            "\u001b[1m50/50\u001b[0m \u001b[32m━━━━━━━━━━━━━━━━━━━━\u001b[0m\u001b[37m\u001b[0m \u001b[1m1s\u001b[0m 21ms/step - accuracy: 0.5083 - loss: 7.6502 - val_accuracy: 0.5625 - val_loss: 6.8469\n",
            "\u001b[1m50/50\u001b[0m \u001b[32m━━━━━━━━━━━━━━━━━━━━\u001b[0m\u001b[37m\u001b[0m \u001b[1m1s\u001b[0m 21ms/step - accuracy: 0.5419 - loss: 6.5936 - val_accuracy: 0.5050 - val_loss: 5.8570\n",
            "\u001b[1m50/50\u001b[0m \u001b[32m━━━━━━━━━━━━━━━━━━━━\u001b[0m\u001b[37m\u001b[0m \u001b[1m1s\u001b[0m 21ms/step - accuracy: 0.4843 - loss: 5.6266 - val_accuracy: 0.4663 - val_loss: 4.9583\n",
            "\u001b[1m50/50\u001b[0m \u001b[32m━━━━━━━━━━━━━━━━━━━━\u001b[0m\u001b[37m\u001b[0m \u001b[1m1s\u001b[0m 21ms/step - accuracy: 0.5091 - loss: 4.7498 - val_accuracy: 0.4787 - val_loss: 4.1501\n",
            "\u001b[1m50/50\u001b[0m \u001b[32m━━━━━━━━━━━━━━━━━━━━\u001b[0m\u001b[37m\u001b[0m \u001b[1m1s\u001b[0m 21ms/step - accuracy: 0.5066 - loss: 3.9641 - val_accuracy: 0.5025 - val_loss: 3.4313\n",
            "\u001b[1m125/125\u001b[0m \u001b[32m━━━━━━━━━━━━━━━━━━━━\u001b[0m\u001b[37m\u001b[0m \u001b[1m1s\u001b[0m 4ms/step - accuracy: 0.4971 - loss: 3.4314\n"
          ]
        },
        {
          "metadata": {
            "tags": null
          },
          "name": "stderr",
          "output_type": "stream",
          "text": [
            "[I 2024-08-04 14:04:55,833] Trial 1 finished with value: 0.5 and parameters: {'num_layers': 6, 'filters_0': 40, 'filters_1': 67, 'filters_2': 92, 'filters_3': 32, 'filters_4': 34, 'filters_5': 55, 'kernel_size': 2, 'l1': 0.0037157522547798024, 'l2': 0.00031460442046373686, 'dense_units': 118, 'dropout_rate': 0.14421927289369652, 'learning_rate': 0.00013405854266477086}. Best is trial 0 with value: 0.6274999976158142.\n"
          ]
        },
        {
          "output_type": "stream",
          "name": "stdout",
          "text": [
            "Trial 2 started with hyperparameters: num_layers=6, filters=[77, 62, 62, 79, 43, 124], kernel_size=2, l1=0.003958400261066714, l2=0.0003186028997127795, dense_units=157, dropout_rate=0.48430149187312244, learning_rate=0.00015127304327059845\n",
            "\u001b[1m50/50\u001b[0m \u001b[32m━━━━━━━━━━━━━━━━━━━━\u001b[0m\u001b[37m\u001b[0m \u001b[1m11s\u001b[0m 86ms/step - accuracy: 0.4939 - loss: 18.4527 - val_accuracy: 0.5175 - val_loss: 16.5284\n",
            "\u001b[1m50/50\u001b[0m \u001b[32m━━━━━━━━━━━━━━━━━━━━\u001b[0m\u001b[37m\u001b[0m \u001b[1m1s\u001b[0m 26ms/step - accuracy: 0.5083 - loss: 15.9188 - val_accuracy: 0.4800 - val_loss: 14.1414\n",
            "\u001b[1m50/50\u001b[0m \u001b[32m━━━━━━━━━━━━━━━━━━━━\u001b[0m\u001b[37m\u001b[0m \u001b[1m1s\u001b[0m 26ms/step - accuracy: 0.5150 - loss: 13.5804 - val_accuracy: 0.5375 - val_loss: 11.9488\n",
            "\u001b[1m50/50\u001b[0m \u001b[32m━━━━━━━━━━━━━━━━━━━━\u001b[0m\u001b[37m\u001b[0m \u001b[1m1s\u001b[0m 26ms/step - accuracy: 0.5075 - loss: 11.4364 - val_accuracy: 0.4938 - val_loss: 9.9523\n",
            "\u001b[1m50/50\u001b[0m \u001b[32m━━━━━━━━━━━━━━━━━━━━\u001b[0m\u001b[37m\u001b[0m \u001b[1m1s\u001b[0m 26ms/step - accuracy: 0.5070 - loss: 9.4895 - val_accuracy: 0.4913 - val_loss: 8.1535\n",
            "\u001b[1m50/50\u001b[0m \u001b[32m━━━━━━━━━━━━━━━━━━━━\u001b[0m\u001b[37m\u001b[0m \u001b[1m1s\u001b[0m 25ms/step - accuracy: 0.5176 - loss: 7.7398 - val_accuracy: 0.5050 - val_loss: 6.5524\n",
            "\u001b[1m50/50\u001b[0m \u001b[32m━━━━━━━━━━━━━━━━━━━━\u001b[0m\u001b[37m\u001b[0m \u001b[1m1s\u001b[0m 25ms/step - accuracy: 0.4949 - loss: 6.1887 - val_accuracy: 0.4663 - val_loss: 5.1492\n",
            "\u001b[1m50/50\u001b[0m \u001b[32m━━━━━━━━━━━━━━━━━━━━\u001b[0m\u001b[37m\u001b[0m \u001b[1m1s\u001b[0m 25ms/step - accuracy: 0.5122 - loss: 4.8335 - val_accuracy: 0.4787 - val_loss: 3.9406\n",
            "\u001b[1m50/50\u001b[0m \u001b[32m━━━━━━━━━━━━━━━━━━━━\u001b[0m\u001b[37m\u001b[0m \u001b[1m1s\u001b[0m 25ms/step - accuracy: 0.5016 - loss: 3.6742 - val_accuracy: 0.5025 - val_loss: 2.9285\n",
            "\u001b[1m125/125\u001b[0m \u001b[32m━━━━━━━━━━━━━━━━━━━━\u001b[0m\u001b[37m\u001b[0m \u001b[1m1s\u001b[0m 5ms/step - accuracy: 0.4971 - loss: 2.9285\n"
          ]
        },
        {
          "output_type": "stream",
          "name": "stderr",
          "text": [
            "[I 2024-08-04 14:18:54,415] Trial 2 finished with value: 0.5 and parameters: {'num_layers': 6, 'filters_0': 77, 'filters_1': 62, 'filters_2': 62, 'filters_3': 79, 'filters_4': 43, 'filters_5': 124, 'kernel_size': 2, 'l1': 0.003958400261066714, 'l2': 0.0003186028997127795, 'dense_units': 157, 'dropout_rate': 0.48430149187312244, 'learning_rate': 0.00015127304327059845}. Best is trial 0 with value: 0.6274999976158142.\n"
          ]
        },
        {
          "output_type": "stream",
          "name": "stdout",
          "text": [
            "Trial 3 started with hyperparameters: num_layers=6, filters=[118, 72, 39, 63, 46, 37], kernel_size=2, l1=0.001534374491080392, l2=6.500453737357206e-05, dense_units=255, dropout_rate=0.4154533737909599, learning_rate=0.00010622693936776803\n",
            "\u001b[1m50/50\u001b[0m \u001b[32m━━━━━━━━━━━━━━━━━━━━\u001b[0m\u001b[37m\u001b[0m \u001b[1m13s\u001b[0m 94ms/step - accuracy: 0.4935 - loss: 6.5923 - val_accuracy: 0.4825 - val_loss: 6.1555\n",
            "\u001b[1m50/50\u001b[0m \u001b[32m━━━━━━━━━━━━━━━━━━━━\u001b[0m\u001b[37m\u001b[0m \u001b[1m1s\u001b[0m 29ms/step - accuracy: 0.5014 - loss: 6.0147 - val_accuracy: 0.4800 - val_loss: 5.5999\n",
            "\u001b[1m50/50\u001b[0m \u001b[32m━━━━━━━━━━━━━━━━━━━━\u001b[0m\u001b[37m\u001b[0m \u001b[1m1s\u001b[0m 29ms/step - accuracy: 0.5276 - loss: 5.4664 - val_accuracy: 0.5888 - val_loss: 5.0741\n",
            "\u001b[1m50/50\u001b[0m \u001b[32m━━━━━━━━━━━━━━━━━━━━\u001b[0m\u001b[37m\u001b[0m \u001b[1m1s\u001b[0m 29ms/step - accuracy: 0.4979 - loss: 4.9485 - val_accuracy: 0.4938 - val_loss: 4.5791\n",
            "\u001b[1m50/50\u001b[0m \u001b[32m━━━━━━━━━━━━━━━━━━━━\u001b[0m\u001b[37m\u001b[0m \u001b[1m1s\u001b[0m 29ms/step - accuracy: 0.5019 - loss: 4.4611 - val_accuracy: 0.4913 - val_loss: 4.1151\n",
            "\u001b[1m50/50\u001b[0m \u001b[32m━━━━━━━━━━━━━━━━━━━━\u001b[0m\u001b[37m\u001b[0m \u001b[1m1s\u001b[0m 29ms/step - accuracy: 0.5021 - loss: 4.0046 - val_accuracy: 0.5050 - val_loss: 3.6813\n",
            "\u001b[1m50/50\u001b[0m \u001b[32m━━━━━━━━━━━━━━━━━━━━\u001b[0m\u001b[37m\u001b[0m \u001b[1m1s\u001b[0m 29ms/step - accuracy: 0.4943 - loss: 3.5787 - val_accuracy: 0.4663 - val_loss: 3.2789\n",
            "\u001b[1m50/50\u001b[0m \u001b[32m━━━━━━━━━━━━━━━━━━━━\u001b[0m\u001b[37m\u001b[0m \u001b[1m1s\u001b[0m 29ms/step - accuracy: 0.5091 - loss: 3.1834 - val_accuracy: 0.4787 - val_loss: 2.9068\n",
            "\u001b[1m50/50\u001b[0m \u001b[32m━━━━━━━━━━━━━━━━━━━━\u001b[0m\u001b[37m\u001b[0m \u001b[1m2s\u001b[0m 30ms/step - accuracy: 0.5066 - loss: 2.8192 - val_accuracy: 0.5025 - val_loss: 2.5654\n",
            "\u001b[1m125/125\u001b[0m \u001b[32m━━━━━━━━━━━━━━━━━━━━\u001b[0m\u001b[37m\u001b[0m \u001b[1m1s\u001b[0m 5ms/step - accuracy: 0.4971 - loss: 2.5654\n"
          ]
        },
        {
          "output_type": "stream",
          "name": "stderr",
          "text": [
            "[I 2024-08-04 14:32:56,098] Trial 3 finished with value: 0.5 and parameters: {'num_layers': 6, 'filters_0': 118, 'filters_1': 72, 'filters_2': 39, 'filters_3': 63, 'filters_4': 46, 'filters_5': 37, 'kernel_size': 2, 'l1': 0.001534374491080392, 'l2': 6.500453737357206e-05, 'dense_units': 255, 'dropout_rate': 0.4154533737909599, 'learning_rate': 0.00010622693936776803}. Best is trial 0 with value: 0.6274999976158142.\n"
          ]
        },
        {
          "output_type": "stream",
          "name": "stdout",
          "text": [
            "Trial 4 started with hyperparameters: num_layers=5, filters=[65, 95, 120, 104, 101], kernel_size=2, l1=0.00103874997171825, l2=0.003585611973094507, dense_units=171, dropout_rate=0.4318525854836528, learning_rate=1.9115119201249632e-05\n",
            "\u001b[1m50/50\u001b[0m \u001b[32m━━━━━━━━━━━━━━━━━━━━\u001b[0m\u001b[37m\u001b[0m \u001b[1m11s\u001b[0m 84ms/step - accuracy: 0.4792 - loss: 9.3046 - val_accuracy: 0.5450 - val_loss: 9.1530\n",
            "\u001b[1m50/50\u001b[0m \u001b[32m━━━━━━━━━━━━━━━━━━━━\u001b[0m\u001b[37m\u001b[0m \u001b[1m1s\u001b[0m 27ms/step - accuracy: 0.5145 - loss: 9.1041 - val_accuracy: 0.6463 - val_loss: 8.9553\n",
            "\u001b[1m50/50\u001b[0m \u001b[32m━━━━━━━━━━━━━━━━━━━━\u001b[0m\u001b[37m\u001b[0m \u001b[1m1s\u001b[0m 27ms/step - accuracy: 0.5258 - loss: 8.9066 - val_accuracy: 0.5650 - val_loss: 8.7612\n",
            "\u001b[1m50/50\u001b[0m \u001b[32m━━━━━━━━━━━━━━━━━━━━\u001b[0m\u001b[37m\u001b[0m \u001b[1m1s\u001b[0m 27ms/step - accuracy: 0.5349 - loss: 8.7138 - val_accuracy: 0.5875 - val_loss: 8.5697\n",
            "\u001b[1m50/50\u001b[0m \u001b[32m━━━━━━━━━━━━━━━━━━━━\u001b[0m\u001b[37m\u001b[0m \u001b[1m1s\u001b[0m 27ms/step - accuracy: 0.5534 - loss: 8.5234 - val_accuracy: 0.5962 - val_loss: 8.3817\n",
            "\u001b[1m50/50\u001b[0m \u001b[32m━━━━━━━━━━━━━━━━━━━━\u001b[0m\u001b[37m\u001b[0m \u001b[1m1s\u001b[0m 27ms/step - accuracy: 0.5824 - loss: 8.3371 - val_accuracy: 0.5550 - val_loss: 8.2007\n",
            "\u001b[1m50/50\u001b[0m \u001b[32m━━━━━━━━━━━━━━━━━━━━\u001b[0m\u001b[37m\u001b[0m \u001b[1m1s\u001b[0m 27ms/step - accuracy: 0.5600 - loss: 8.1565 - val_accuracy: 0.5775 - val_loss: 8.0220\n",
            "\u001b[1m50/50\u001b[0m \u001b[32m━━━━━━━━━━━━━━━━━━━━\u001b[0m\u001b[37m\u001b[0m \u001b[1m1s\u001b[0m 27ms/step - accuracy: 0.5744 - loss: 7.9793 - val_accuracy: 0.4775 - val_loss: 7.8526\n",
            "\u001b[1m50/50\u001b[0m \u001b[32m━━━━━━━━━━━━━━━━━━━━\u001b[0m\u001b[37m\u001b[0m \u001b[1m1s\u001b[0m 27ms/step - accuracy: 0.5675 - loss: 7.8057 - val_accuracy: 0.6463 - val_loss: 7.6782\n",
            "\u001b[1m125/125\u001b[0m \u001b[32m━━━━━━━━━━━━━━━━━━━━\u001b[0m\u001b[37m\u001b[0m \u001b[1m1s\u001b[0m 5ms/step - accuracy: 0.6530 - loss: 7.6780\n"
          ]
        },
        {
          "output_type": "stream",
          "name": "stderr",
          "text": [
            "[I 2024-08-04 14:46:55,402] Trial 4 finished with value: 0.6389999985694885 and parameters: {'num_layers': 5, 'filters_0': 65, 'filters_1': 95, 'filters_2': 120, 'filters_3': 104, 'filters_4': 101, 'kernel_size': 2, 'l1': 0.00103874997171825, 'l2': 0.003585611973094507, 'dense_units': 171, 'dropout_rate': 0.4318525854836528, 'learning_rate': 1.9115119201249632e-05}. Best is trial 4 with value: 0.6389999985694885.\n"
          ]
        },
        {
          "output_type": "stream",
          "name": "stdout",
          "text": [
            "Trial 5 started with hyperparameters: num_layers=4, filters=[32, 75, 109, 83], kernel_size=3, l1=1.7174083354864713e-06, l2=1.6235738704898867e-06, dense_units=102, dropout_rate=0.3722838137130191, learning_rate=1.3704829496890478e-05\n",
            "\u001b[1m49/50\u001b[0m \u001b[32m━━━━━━━━━━━━━━━━━━━\u001b[0m\u001b[37m━\u001b[0m \u001b[1m0s\u001b[0m 15ms/step - accuracy: 0.5141 - loss: 0.7035"
          ]
        },
        {
          "output_type": "stream",
          "name": "stderr",
          "text": [
            "[I 2024-08-04 14:48:27,825] Trial 5 pruned. Trial was pruned at epoch 0.\n"
          ]
        },
        {
          "output_type": "stream",
          "name": "stdout",
          "text": [
            "Trial 6 started with hyperparameters: num_layers=6, filters=[40, 52, 125, 59, 36, 42], kernel_size=2, l1=0.0012471121629317858, l2=1.1542106152288147e-06, dense_units=133, dropout_rate=0.15469546050015587, learning_rate=1.785515750822334e-05\n",
            "\u001b[1m49/50\u001b[0m \u001b[32m━━━━━━━━━━━━━━━━━━━\u001b[0m\u001b[37m━\u001b[0m \u001b[1m0s\u001b[0m 14ms/step - accuracy: 0.4808 - loss: 5.6884"
          ]
        },
        {
          "output_type": "stream",
          "name": "stderr",
          "text": [
            "[I 2024-08-04 14:50:00,110] Trial 6 pruned. Trial was pruned at epoch 0.\n"
          ]
        },
        {
          "output_type": "stream",
          "name": "stdout",
          "text": [
            "Trial 7 started with hyperparameters: num_layers=4, filters=[79, 69, 104, 89], kernel_size=3, l1=1.1549867023508182e-05, l2=2.9234074338265126e-05, dense_units=96, dropout_rate=0.3019275105860717, learning_rate=0.0006964148965314465\n",
            "\u001b[1m48/50\u001b[0m \u001b[32m━━━━━━━━━━━━━━━━━━━\u001b[0m\u001b[37m━\u001b[0m \u001b[1m0s\u001b[0m 22ms/step - accuracy: 0.5156 - loss: 0.7742"
          ]
        },
        {
          "output_type": "stream",
          "name": "stderr",
          "text": [
            "[I 2024-08-04 14:51:33,213] Trial 7 pruned. Trial was pruned at epoch 0.\n"
          ]
        },
        {
          "output_type": "stream",
          "name": "stdout",
          "text": [
            "Trial 8 started with hyperparameters: num_layers=3, filters=[57, 55, 43], kernel_size=3, l1=0.00010204311744386488, l2=0.004730244459370741, dense_units=126, dropout_rate=0.4543217794285237, learning_rate=0.00021630608280942364\n",
            "\u001b[1m48/50\u001b[0m \u001b[32m━━━━━━━━━━━━━━━━━━━\u001b[0m\u001b[37m━\u001b[0m \u001b[1m0s\u001b[0m 17ms/step - accuracy: 0.5044 - loss: 1.3987"
          ]
        },
        {
          "output_type": "stream",
          "name": "stderr",
          "text": [
            "[I 2024-08-04 14:53:03,138] Trial 8 pruned. Trial was pruned at epoch 0.\n"
          ]
        },
        {
          "output_type": "stream",
          "name": "stdout",
          "text": [
            "Trial 9 started with hyperparameters: num_layers=6, filters=[110, 76, 87, 101, 110, 39], kernel_size=2, l1=1.2752803740715663e-06, l2=0.0027534046869533086, dense_units=158, dropout_rate=0.29558210452988243, learning_rate=9.10835088637428e-05\n",
            "\u001b[1m50/50\u001b[0m \u001b[32m━━━━━━━━━━━━━━━━━━━━\u001b[0m\u001b[37m\u001b[0m \u001b[1m0s\u001b[0m 24ms/step - accuracy: 0.5004 - loss: 1.8489"
          ]
        },
        {
          "output_type": "stream",
          "name": "stderr",
          "text": [
            "[I 2024-08-04 14:54:37,276] Trial 9 pruned. Trial was pruned at epoch 0.\n"
          ]
        },
        {
          "output_type": "stream",
          "name": "stdout",
          "text": [
            "Trial 10 started with hyperparameters: num_layers=5, filters=[98, 101, 126, 125, 106], kernel_size=3, l1=0.0001599413926484347, l2=0.0010965164795917188, dense_units=216, dropout_rate=0.36900493496534537, learning_rate=3.643917147482404e-05\n",
            "\u001b[1m49/50\u001b[0m \u001b[32m━━━━━━━━━━━━━━━━━━━\u001b[0m\u001b[37m━\u001b[0m \u001b[1m0s\u001b[0m 29ms/step - accuracy: 0.4922 - loss: 3.1665"
          ]
        },
        {
          "output_type": "stream",
          "name": "stderr",
          "text": [
            "[I 2024-08-04 14:56:15,021] Trial 10 pruned. Trial was pruned at epoch 0.\n"
          ]
        },
        {
          "output_type": "stream",
          "name": "stdout",
          "text": [
            "Trial 11 started with hyperparameters: num_layers=3, filters=[68, 126, 68], kernel_size=2, l1=0.0003308573272589914, l2=1.3485469414617025e-05, dense_units=198, dropout_rate=0.232537744438069, learning_rate=3.3205390538656154e-05\n",
            "\u001b[1m49/50\u001b[0m \u001b[32m━━━━━━━━━━━━━━━━━━━\u001b[0m\u001b[37m━\u001b[0m \u001b[1m0s\u001b[0m 21ms/step - accuracy: 0.5085 - loss: 1.6920"
          ]
        },
        {
          "output_type": "stream",
          "name": "stderr",
          "text": [
            "[I 2024-08-04 14:57:46,008] Trial 11 pruned. Trial was pruned at epoch 0.\n"
          ]
        },
        {
          "output_type": "stream",
          "name": "stdout",
          "text": [
            "Trial 12 started with hyperparameters: num_layers=5, filters=[95, 101, 63, 124, 85], kernel_size=2, l1=0.008830956777448488, l2=7.077152855435928e-06, dense_units=194, dropout_rate=0.21628666426711396, learning_rate=1.1550623069727768e-05\n",
            "\u001b[1m50/50\u001b[0m \u001b[32m━━━━━━━━━━━━━━━━━━━━\u001b[0m\u001b[37m\u001b[0m \u001b[1m12s\u001b[0m 91ms/step - accuracy: 0.5056 - loss: 54.3981 - val_accuracy: 0.5462 - val_loss: 53.8731\n",
            "\u001b[1m50/50\u001b[0m \u001b[32m━━━━━━━━━━━━━━━━━━━━\u001b[0m\u001b[37m\u001b[0m \u001b[1m2s\u001b[0m 30ms/step - accuracy: 0.5358 - loss: 53.6987 - val_accuracy: 0.5700 - val_loss: 53.1786\n",
            "\u001b[1m50/50\u001b[0m \u001b[32m━━━━━━━━━━━━━━━━━━━━\u001b[0m\u001b[37m\u001b[0m \u001b[1m1s\u001b[0m 30ms/step - accuracy: 0.4990 - loss: 53.0065 - val_accuracy: 0.4737 - val_loss: 52.4892\n",
            "\u001b[1m50/50\u001b[0m \u001b[32m━━━━━━━━━━━━━━━━━━━━\u001b[0m\u001b[37m\u001b[0m \u001b[1m2s\u001b[0m 30ms/step - accuracy: 0.5051 - loss: 52.3178 - val_accuracy: 0.5663 - val_loss: 51.8028\n",
            "\u001b[1m50/50\u001b[0m \u001b[32m━━━━━━━━━━━━━━━━━━━━\u001b[0m\u001b[37m\u001b[0m \u001b[1m2s\u001b[0m 30ms/step - accuracy: 0.5367 - loss: 51.6329 - val_accuracy: 0.5950 - val_loss: 51.1218\n",
            "\u001b[1m50/50\u001b[0m \u001b[32m━━━━━━━━━━━━━━━━━━━━\u001b[0m\u001b[37m\u001b[0m \u001b[1m1s\u001b[0m 30ms/step - accuracy: 0.5365 - loss: 50.9537 - val_accuracy: 0.6413 - val_loss: 50.4462\n",
            "\u001b[1m50/50\u001b[0m \u001b[32m━━━━━━━━━━━━━━━━━━━━\u001b[0m\u001b[37m\u001b[0m \u001b[1m1s\u001b[0m 30ms/step - accuracy: 0.5409 - loss: 50.2785 - val_accuracy: 0.6450 - val_loss: 49.7751\n",
            "\u001b[1m50/50\u001b[0m \u001b[32m━━━━━━━━━━━━━━━━━━━━\u001b[0m\u001b[37m\u001b[0m \u001b[1m1s\u001b[0m 30ms/step - accuracy: 0.5643 - loss: 49.6081 - val_accuracy: 0.5938 - val_loss: 49.1086\n",
            "\u001b[1m50/50\u001b[0m \u001b[32m━━━━━━━━━━━━━━━━━━━━\u001b[0m\u001b[37m\u001b[0m \u001b[1m1s\u001b[0m 29ms/step - accuracy: 0.5720 - loss: 48.9426 - val_accuracy: 0.6388 - val_loss: 48.4464\n",
            "\u001b[1m125/125\u001b[0m \u001b[32m━━━━━━━━━━━━━━━━━━━━\u001b[0m\u001b[37m\u001b[0m \u001b[1m1s\u001b[0m 5ms/step - accuracy: 0.6420 - loss: 48.4464\n"
          ]
        },
        {
          "output_type": "stream",
          "name": "stderr",
          "text": [
            "[I 2024-08-04 15:11:47,305] Trial 12 finished with value: 0.6342499852180481 and parameters: {'num_layers': 5, 'filters_0': 95, 'filters_1': 101, 'filters_2': 63, 'filters_3': 124, 'filters_4': 85, 'kernel_size': 2, 'l1': 0.008830956777448488, 'l2': 7.077152855435928e-06, 'dense_units': 194, 'dropout_rate': 0.21628666426711396, 'learning_rate': 1.1550623069727768e-05}. Best is trial 4 with value: 0.6389999985694885.\n"
          ]
        },
        {
          "output_type": "stream",
          "name": "stdout",
          "text": [
            "Trial 13 started with hyperparameters: num_layers=5, filters=[95, 97, 73, 128, 83], kernel_size=2, l1=0.00892468005694892, l2=8.142231605430539e-06, dense_units=230, dropout_rate=0.21725357886635532, learning_rate=3.1536924417588204e-05\n",
            "\u001b[1m50/50\u001b[0m \u001b[32m━━━━━━━━━━━━━━━━━━━━\u001b[0m\u001b[37m\u001b[0m \u001b[1m11s\u001b[0m 83ms/step - accuracy: 0.5061 - loss: 57.2015 - val_accuracy: 0.5175 - val_loss: 55.6821\n",
            "\u001b[1m50/50\u001b[0m \u001b[32m━━━━━━━━━━━━━━━━━━━━\u001b[0m\u001b[37m\u001b[0m \u001b[1m2s\u001b[0m 30ms/step - accuracy: 0.5187 - loss: 55.1826 - val_accuracy: 0.5725 - val_loss: 53.6917\n",
            "\u001b[1m50/50\u001b[0m \u001b[32m━━━━━━━━━━━━━━━━━━━━\u001b[0m\u001b[37m\u001b[0m \u001b[1m2s\u001b[0m 30ms/step - accuracy: 0.5368 - loss: 53.2013 - val_accuracy: 0.5788 - val_loss: 51.7387\n",
            "\u001b[1m50/50\u001b[0m \u001b[32m━━━━━━━━━━━━━━━━━━━━\u001b[0m\u001b[37m\u001b[0m \u001b[1m2s\u001b[0m 30ms/step - accuracy: 0.5492 - loss: 51.2578 - val_accuracy: 0.5987 - val_loss: 49.8222\n",
            "\u001b[1m50/50\u001b[0m \u001b[32m━━━━━━━━━━━━━━━━━━━━\u001b[0m\u001b[37m\u001b[0m \u001b[1m2s\u001b[0m 30ms/step - accuracy: 0.5756 - loss: 49.3507 - val_accuracy: 0.5875 - val_loss: 47.9434\n",
            "\u001b[1m50/50\u001b[0m \u001b[32m━━━━━━━━━━━━━━━━━━━━\u001b[0m\u001b[37m\u001b[0m \u001b[1m2s\u001b[0m 30ms/step - accuracy: 0.5737 - loss: 47.4831 - val_accuracy: 0.5587 - val_loss: 46.1056\n",
            "\u001b[1m50/50\u001b[0m \u001b[32m━━━━━━━━━━━━━━━━━━━━\u001b[0m\u001b[37m\u001b[0m \u001b[1m2s\u001b[0m 30ms/step - accuracy: 0.5502 - loss: 45.6536 - val_accuracy: 0.6350 - val_loss: 44.3054\n",
            "\u001b[1m50/50\u001b[0m \u001b[32m━━━━━━━━━━━━━━━━━━━━\u001b[0m\u001b[37m\u001b[0m \u001b[1m2s\u001b[0m 30ms/step - accuracy: 0.6045 - loss: 43.8637 - val_accuracy: 0.5387 - val_loss: 42.5465\n",
            "\u001b[1m50/50\u001b[0m \u001b[32m━━━━━━━━━━━━━━━━━━━━\u001b[0m\u001b[37m\u001b[0m \u001b[1m1s\u001b[0m 30ms/step - accuracy: 0.5641 - loss: 42.1123 - val_accuracy: 0.6000 - val_loss: 40.8233\n",
            "\u001b[1m125/125\u001b[0m \u001b[32m━━━━━━━━━━━━━━━━━━━━\u001b[0m\u001b[37m\u001b[0m \u001b[1m1s\u001b[0m 5ms/step - accuracy: 0.6020 - loss: 40.8233\n"
          ]
        },
        {
          "output_type": "stream",
          "name": "stderr",
          "text": [
            "[I 2024-08-04 15:25:48,942] Trial 13 finished with value: 0.5912500023841858 and parameters: {'num_layers': 5, 'filters_0': 95, 'filters_1': 97, 'filters_2': 73, 'filters_3': 128, 'filters_4': 83, 'kernel_size': 2, 'l1': 0.00892468005694892, 'l2': 8.142231605430539e-06, 'dense_units': 230, 'dropout_rate': 0.21725357886635532, 'learning_rate': 3.1536924417588204e-05}. Best is trial 4 with value: 0.6389999985694885.\n"
          ]
        },
        {
          "output_type": "stream",
          "name": "stdout",
          "text": [
            "Trial 14 started with hyperparameters: num_layers=5, filters=[57, 96, 53, 110, 83], kernel_size=2, l1=0.00075849685136056, l2=0.00022087313484647766, dense_units=182, dropout_rate=0.10073471109174587, learning_rate=1.0573664593952088e-05\n",
            "\u001b[1m48/50\u001b[0m \u001b[32m━━━━━━━━━━━━━━━━━━━\u001b[0m\u001b[37m━\u001b[0m \u001b[1m0s\u001b[0m 17ms/step - accuracy: 0.5087 - loss: 4.4363"
          ]
        },
        {
          "output_type": "stream",
          "name": "stderr",
          "text": [
            "[I 2024-08-04 15:27:21,571] Trial 14 pruned. Trial was pruned at epoch 0.\n"
          ]
        },
        {
          "output_type": "stream",
          "name": "stdout",
          "text": [
            "Trial 15 started with hyperparameters: num_layers=4, filters=[127, 111, 105, 110], kernel_size=2, l1=3.211516161635561e-05, l2=6.984180282618145e-06, dense_units=65, dropout_rate=0.30612398892409953, learning_rate=2.2503335389457226e-05\n",
            "\u001b[1m49/50\u001b[0m \u001b[32m━━━━━━━━━━━━━━━━━━━\u001b[0m\u001b[37m━\u001b[0m \u001b[1m0s\u001b[0m 28ms/step - accuracy: 0.5084 - loss: 0.8919"
          ]
        },
        {
          "output_type": "stream",
          "name": "stderr",
          "text": [
            "[I 2024-08-04 15:28:54,890] Trial 15 pruned. Trial was pruned at epoch 0.\n"
          ]
        },
        {
          "output_type": "stream",
          "name": "stdout",
          "text": [
            "Trial 16 started with hyperparameters: num_layers=5, filters=[95, 89, 80, 113, 96], kernel_size=2, l1=0.009668548682355706, l2=0.009865192175372252, dense_units=170, dropout_rate=0.36470345180988695, learning_rate=6.265350841857398e-05\n",
            "\u001b[1m50/50\u001b[0m \u001b[32m━━━━━━━━━━━━━━━━━━━━\u001b[0m\u001b[37m\u001b[0m \u001b[1m11s\u001b[0m 83ms/step - accuracy: 0.5077 - loss: 64.4831 - val_accuracy: 0.5175 - val_loss: 61.0416\n",
            "\u001b[1m50/50\u001b[0m \u001b[32m━━━━━━━━━━━━━━━━━━━━\u001b[0m\u001b[37m\u001b[0m \u001b[1m2s\u001b[0m 30ms/step - accuracy: 0.5152 - loss: 59.9270 - val_accuracy: 0.5650 - val_loss: 56.6261\n",
            "\u001b[1m50/50\u001b[0m \u001b[32m━━━━━━━━━━━━━━━━━━━━\u001b[0m\u001b[37m\u001b[0m \u001b[1m1s\u001b[0m 29ms/step - accuracy: 0.5423 - loss: 55.5567 - val_accuracy: 0.5325 - val_loss: 52.3954\n",
            "\u001b[1m50/50\u001b[0m \u001b[32m━━━━━━━━━━━━━━━━━━━━\u001b[0m\u001b[37m\u001b[0m \u001b[1m1s\u001b[0m 29ms/step - accuracy: 0.5482 - loss: 51.3727 - val_accuracy: 0.4938 - val_loss: 48.3513\n",
            "\u001b[1m50/50\u001b[0m \u001b[32m━━━━━━━━━━━━━━━━━━━━\u001b[0m\u001b[37m\u001b[0m \u001b[1m1s\u001b[0m 29ms/step - accuracy: 0.5274 - loss: 47.3754 - val_accuracy: 0.5612 - val_loss: 44.4929\n",
            "\u001b[1m50/50\u001b[0m \u001b[32m━━━━━━━━━━━━━━━━━━━━\u001b[0m\u001b[37m\u001b[0m \u001b[1m1s\u001b[0m 29ms/step - accuracy: 0.5490 - loss: 43.5623 - val_accuracy: 0.5312 - val_loss: 40.8150\n",
            "\u001b[1m50/50\u001b[0m \u001b[32m━━━━━━━━━━━━━━━━━━━━\u001b[0m\u001b[37m\u001b[0m \u001b[1m1s\u001b[0m 29ms/step - accuracy: 0.5096 - loss: 39.9289 - val_accuracy: 0.4663 - val_loss: 37.3145\n",
            "\u001b[1m50/50\u001b[0m \u001b[32m━━━━━━━━━━━━━━━━━━━━\u001b[0m\u001b[37m\u001b[0m \u001b[1m1s\u001b[0m 29ms/step - accuracy: 0.5113 - loss: 36.4708 - val_accuracy: 0.4787 - val_loss: 33.9890\n",
            "\u001b[1m50/50\u001b[0m \u001b[32m━━━━━━━━━━━━━━━━━━━━\u001b[0m\u001b[37m\u001b[0m \u001b[1m1s\u001b[0m 29ms/step - accuracy: 0.5232 - loss: 33.1899 - val_accuracy: 0.5025 - val_loss: 30.8384\n",
            "\u001b[1m125/125\u001b[0m \u001b[32m━━━━━━━━━━━━━━━━━━━━\u001b[0m\u001b[37m\u001b[0m \u001b[1m1s\u001b[0m 5ms/step - accuracy: 0.4971 - loss: 30.8384\n"
          ]
        },
        {
          "output_type": "stream",
          "name": "stderr",
          "text": [
            "[I 2024-08-04 15:42:55,185] Trial 16 finished with value: 0.5 and parameters: {'num_layers': 5, 'filters_0': 95, 'filters_1': 89, 'filters_2': 80, 'filters_3': 113, 'filters_4': 96, 'kernel_size': 2, 'l1': 0.009668548682355706, 'l2': 0.009865192175372252, 'dense_units': 170, 'dropout_rate': 0.36470345180988695, 'learning_rate': 6.265350841857398e-05}. Best is trial 4 with value: 0.6389999985694885.\n"
          ]
        },
        {
          "output_type": "stream",
          "name": "stdout",
          "text": [
            "Trial 17 started with hyperparameters: num_layers=5, filters=[62, 112, 51, 97, 128], kernel_size=3, l1=0.000570101925543305, l2=0.0010735580924276283, dense_units=212, dropout_rate=0.20062391619066527, learning_rate=5.4847242841985824e-05\n",
            "\u001b[1m49/50\u001b[0m \u001b[32m━━━━━━━━━━━━━━━━━━━\u001b[0m\u001b[37m━\u001b[0m \u001b[1m0s\u001b[0m 19ms/step - accuracy: 0.5094 - loss: 5.5744"
          ]
        },
        {
          "output_type": "stream",
          "name": "stderr",
          "text": [
            "[I 2024-08-04 15:44:29,308] Trial 17 pruned. Trial was pruned at epoch 0.\n"
          ]
        },
        {
          "output_type": "stream",
          "name": "stdout",
          "text": [
            "Trial 18 started with hyperparameters: num_layers=4, filters=[104, 35, 115, 123], kernel_size=2, l1=2.9695529012456717e-05, l2=6.983831542646024e-05, dense_units=245, dropout_rate=0.41709795573233444, learning_rate=0.0003276474463433371\n",
            "\u001b[1m49/50\u001b[0m \u001b[32m━━━━━━━━━━━━━━━━━━━\u001b[0m\u001b[37m━\u001b[0m \u001b[1m0s\u001b[0m 22ms/step - accuracy: 0.5148 - loss: 0.8203"
          ]
        },
        {
          "output_type": "stream",
          "name": "stderr",
          "text": [
            "[I 2024-08-04 15:46:00,916] Trial 18 pruned. Trial was pruned at epoch 0.\n"
          ]
        },
        {
          "output_type": "stream",
          "name": "stdout",
          "text": [
            "Trial 19 started with hyperparameters: num_layers=5, filters=[85, 111, 94, 99, 62], kernel_size=2, l1=0.0002618665877402687, l2=3.7206804019467463e-06, dense_units=150, dropout_rate=0.27685788141540424, learning_rate=1.1138582085029436e-05\n",
            "\u001b[1m48/50\u001b[0m \u001b[32m━━━━━━━━━━━━━━━━━━━\u001b[0m\u001b[37m━\u001b[0m \u001b[1m0s\u001b[0m 24ms/step - accuracy: 0.5073 - loss: 2.3380"
          ]
        },
        {
          "output_type": "stream",
          "name": "stderr",
          "text": [
            "[I 2024-08-04 15:47:34,280] Trial 19 pruned. Trial was pruned at epoch 0.\n"
          ]
        },
        {
          "output_type": "stream",
          "name": "stdout",
          "text": [
            "Trial 20 started with hyperparameters: num_layers=4, filters=[68, 83, 79, 117], kernel_size=3, l1=0.0019212456916767415, l2=2.3414616620659253e-05, dense_units=201, dropout_rate=0.3321293019441081, learning_rate=5.41989259219258e-05\n",
            "\u001b[1m49/50\u001b[0m \u001b[32m━━━━━━━━━━━━━━━━━━━\u001b[0m\u001b[37m━\u001b[0m \u001b[1m0s\u001b[0m 22ms/step - accuracy: 0.5014 - loss: 12.0592"
          ]
        },
        {
          "output_type": "stream",
          "name": "stderr",
          "text": [
            "[I 2024-08-04 15:49:07,830] Trial 20 pruned. Trial was pruned at epoch 0.\n"
          ]
        },
        {
          "output_type": "stream",
          "name": "stdout",
          "text": [
            "Trial 21 started with hyperparameters: num_layers=3, filters=[86, 128, 58], kernel_size=2, l1=0.003834468328454987, l2=2.725994196005307e-06, dense_units=189, dropout_rate=0.24093038190013383, learning_rate=1.872399855279294e-05\n",
            "\u001b[1m49/50\u001b[0m \u001b[32m━━━━━━━━━━━━━━━━━━━\u001b[0m\u001b[37m━\u001b[0m \u001b[1m0s\u001b[0m 22ms/step - accuracy: 0.5051 - loss: 12.8444"
          ]
        },
        {
          "output_type": "stream",
          "name": "stderr",
          "text": [
            "[I 2024-08-04 15:50:39,212] Trial 21 pruned. Trial was pruned at epoch 0.\n"
          ]
        },
        {
          "output_type": "stream",
          "name": "stdout",
          "text": [
            "Trial 22 started with hyperparameters: num_layers=5, filters=[73, 120, 66, 69, 67], kernel_size=2, l1=0.0029332959431420834, l2=3.4303281520413827e-06, dense_units=175, dropout_rate=0.17691795638839813, learning_rate=2.3474626056974196e-05\n",
            "\u001b[1m50/50\u001b[0m \u001b[32m━━━━━━━━━━━━━━━━━━━━\u001b[0m\u001b[37m\u001b[0m \u001b[1m11s\u001b[0m 84ms/step - accuracy: 0.4976 - loss: 15.0220 - val_accuracy: 0.5213 - val_loss: 14.7579\n",
            "\u001b[1m50/50\u001b[0m \u001b[32m━━━━━━━━━━━━━━━━━━━━\u001b[0m\u001b[37m\u001b[0m \u001b[1m1s\u001b[0m 27ms/step - accuracy: 0.5102 - loss: 14.6718 - val_accuracy: 0.5700 - val_loss: 14.4105\n",
            "\u001b[1m50/50\u001b[0m \u001b[32m━━━━━━━━━━━━━━━━━━━━\u001b[0m\u001b[37m\u001b[0m \u001b[1m1s\u001b[0m 27ms/step - accuracy: 0.5324 - loss: 14.3250 - val_accuracy: 0.4963 - val_loss: 14.0693\n",
            "\u001b[1m50/50\u001b[0m \u001b[32m━━━━━━━━━━━━━━━━━━━━\u001b[0m\u001b[37m\u001b[0m \u001b[1m1s\u001b[0m 27ms/step - accuracy: 0.5227 - loss: 13.9844 - val_accuracy: 0.6612 - val_loss: 13.7300\n",
            "\u001b[1m50/50\u001b[0m \u001b[32m━━━━━━━━━━━━━━━━━━━━\u001b[0m\u001b[37m\u001b[0m \u001b[1m1s\u001b[0m 27ms/step - accuracy: 0.5720 - loss: 13.6467 - val_accuracy: 0.5638 - val_loss: 13.3963\n",
            "\u001b[1m50/50\u001b[0m \u001b[32m━━━━━━━━━━━━━━━━━━━━\u001b[0m\u001b[37m\u001b[0m \u001b[1m1s\u001b[0m 27ms/step - accuracy: 0.5653 - loss: 13.3151 - val_accuracy: 0.5437 - val_loss: 13.0693\n",
            "\u001b[1m50/50\u001b[0m \u001b[32m━━━━━━━━━━━━━━━━━━━━\u001b[0m\u001b[37m\u001b[0m \u001b[1m1s\u001b[0m 26ms/step - accuracy: 0.5367 - loss: 12.9885 - val_accuracy: 0.5962 - val_loss: 12.7464\n",
            "\u001b[1m50/50\u001b[0m \u001b[32m━━━━━━━━━━━━━━━━━━━━\u001b[0m\u001b[37m\u001b[0m \u001b[1m1s\u001b[0m 27ms/step - accuracy: 0.6033 - loss: 12.6680 - val_accuracy: 0.5487 - val_loss: 12.4314\n",
            "\u001b[1m50/50\u001b[0m \u001b[32m━━━━━━━━━━━━━━━━━━━━\u001b[0m\u001b[37m\u001b[0m \u001b[1m1s\u001b[0m 27ms/step - accuracy: 0.5566 - loss: 12.3526 - val_accuracy: 0.6263 - val_loss: 12.1192\n",
            "\u001b[1m125/125\u001b[0m \u001b[32m━━━━━━━━━━━━━━━━━━━━\u001b[0m\u001b[37m\u001b[0m \u001b[1m1s\u001b[0m 5ms/step - accuracy: 0.6301 - loss: 12.1191\n"
          ]
        },
        {
          "output_type": "stream",
          "name": "stderr",
          "text": [
            "[I 2024-08-04 16:04:38,800] Trial 22 finished with value: 0.6140000224113464 and parameters: {'num_layers': 5, 'filters_0': 73, 'filters_1': 120, 'filters_2': 66, 'filters_3': 69, 'filters_4': 67, 'kernel_size': 2, 'l1': 0.0029332959431420834, 'l2': 3.4303281520413827e-06, 'dense_units': 175, 'dropout_rate': 0.17691795638839813, 'learning_rate': 2.3474626056974196e-05}. Best is trial 4 with value: 0.6389999985694885.\n"
          ]
        },
        {
          "output_type": "stream",
          "name": "stdout",
          "text": [
            "Trial 23 started with hyperparameters: num_layers=3, filters=[91, 88, 51], kernel_size=2, l1=0.00934936717475122, l2=3.2639609383735656e-05, dense_units=223, dropout_rate=0.2625384443371469, learning_rate=1.439427426743653e-05\n",
            "\u001b[1m50/50\u001b[0m \u001b[32m━━━━━━━━━━━━━━━━━━━━\u001b[0m\u001b[37m\u001b[0m \u001b[1m10s\u001b[0m 74ms/step - accuracy: 0.5226 - loss: 23.1136 - val_accuracy: 0.4825 - val_loss: 22.8613\n",
            "\u001b[1m50/50\u001b[0m \u001b[32m━━━━━━━━━━━━━━━━━━━━\u001b[0m\u001b[37m\u001b[0m \u001b[1m1s\u001b[0m 27ms/step - accuracy: 0.5305 - loss: 22.7765 - val_accuracy: 0.5750 - val_loss: 22.5227\n",
            "\u001b[1m50/50\u001b[0m \u001b[32m━━━━━━━━━━━━━━━━━━━━\u001b[0m\u001b[37m\u001b[0m \u001b[1m1s\u001b[0m 27ms/step - accuracy: 0.5598 - loss: 22.4405 - val_accuracy: 0.5013 - val_loss: 22.2001\n",
            "\u001b[1m50/50\u001b[0m \u001b[32m━━━━━━━━━━━━━━━━━━━━\u001b[0m\u001b[37m\u001b[0m \u001b[1m1s\u001b[0m 27ms/step - accuracy: 0.5595 - loss: 22.1154 - val_accuracy: 0.6700 - val_loss: 21.8635\n",
            "\u001b[1m50/50\u001b[0m \u001b[32m━━━━━━━━━━━━━━━━━━━━\u001b[0m\u001b[37m\u001b[0m \u001b[1m1s\u001b[0m 27ms/step - accuracy: 0.5927 - loss: 21.7852 - val_accuracy: 0.6850 - val_loss: 21.5385\n",
            "\u001b[1m50/50\u001b[0m \u001b[32m━━━━━━━━━━━━━━━━━━━━\u001b[0m\u001b[37m\u001b[0m \u001b[1m1s\u001b[0m 27ms/step - accuracy: 0.5811 - loss: 21.4656 - val_accuracy: 0.6025 - val_loss: 21.2294\n",
            "\u001b[1m50/50\u001b[0m \u001b[32m━━━━━━━━━━━━━━━━━━━━\u001b[0m\u001b[37m\u001b[0m \u001b[1m1s\u001b[0m 27ms/step - accuracy: 0.5859 - loss: 21.1511 - val_accuracy: 0.5337 - val_loss: 20.9272\n",
            "\u001b[1m50/50\u001b[0m \u001b[32m━━━━━━━━━━━━━━━━━━━━\u001b[0m\u001b[37m\u001b[0m \u001b[1m1s\u001b[0m 27ms/step - accuracy: 0.5660 - loss: 20.8493 - val_accuracy: 0.5063 - val_loss: 20.6288\n",
            "\u001b[1m50/50\u001b[0m \u001b[32m━━━━━━━━━━━━━━━━━━━━\u001b[0m\u001b[37m\u001b[0m \u001b[1m1s\u001b[0m 27ms/step - accuracy: 0.6208 - loss: 20.5409 - val_accuracy: 0.6500 - val_loss: 20.3211\n",
            "\u001b[1m125/125\u001b[0m \u001b[32m━━━━━━━━━━━━━━━━━━━━\u001b[0m\u001b[37m\u001b[0m \u001b[1m1s\u001b[0m 4ms/step - accuracy: 0.6470 - loss: 20.3200\n"
          ]
        },
        {
          "output_type": "stream",
          "name": "stderr",
          "text": [
            "[I 2024-08-04 16:18:39,804] Trial 23 finished with value: 0.6399999856948853 and parameters: {'num_layers': 3, 'filters_0': 91, 'filters_1': 88, 'filters_2': 51, 'kernel_size': 2, 'l1': 0.00934936717475122, 'l2': 3.2639609383735656e-05, 'dense_units': 223, 'dropout_rate': 0.2625384443371469, 'learning_rate': 1.439427426743653e-05}. Best is trial 23 with value: 0.6399999856948853.\n"
          ]
        },
        {
          "output_type": "stream",
          "name": "stdout",
          "text": [
            "Trial 24 started with hyperparameters: num_layers=4, filters=[90, 85, 48, 104], kernel_size=2, l1=0.007831178580633874, l2=3.31883772109201e-05, dense_units=232, dropout_rate=0.26712490397461175, learning_rate=1.003207843005365e-05\n",
            "\u001b[1m50/50\u001b[0m \u001b[32m━━━━━━━━━━━━━━━━━━━━\u001b[0m\u001b[37m\u001b[0m \u001b[1m10s\u001b[0m 81ms/step - accuracy: 0.5150 - loss: 26.4893 - val_accuracy: 0.5213 - val_loss: 26.2901\n",
            "\u001b[1m50/50\u001b[0m \u001b[32m━━━━━━━━━━━━━━━━━━━━\u001b[0m\u001b[37m\u001b[0m \u001b[1m1s\u001b[0m 28ms/step - accuracy: 0.5317 - loss: 26.2255 - val_accuracy: 0.5838 - val_loss: 26.0276\n",
            "\u001b[1m50/50\u001b[0m \u001b[32m━━━━━━━━━━━━━━━━━━━━\u001b[0m\u001b[37m\u001b[0m \u001b[1m1s\u001b[0m 28ms/step - accuracy: 0.5589 - loss: 25.9626 - val_accuracy: 0.6075 - val_loss: 25.7674\n",
            "\u001b[1m50/50\u001b[0m \u001b[32m━━━━━━━━━━━━━━━━━━━━\u001b[0m\u001b[37m\u001b[0m \u001b[1m1s\u001b[0m 28ms/step - accuracy: 0.5587 - loss: 25.7028 - val_accuracy: 0.5975 - val_loss: 25.5075\n",
            "\u001b[1m50/50\u001b[0m \u001b[32m━━━━━━━━━━━━━━━━━━━━\u001b[0m\u001b[37m\u001b[0m \u001b[1m1s\u001b[0m 28ms/step - accuracy: 0.5624 - loss: 25.4450 - val_accuracy: 0.5987 - val_loss: 25.2482\n",
            "\u001b[1m50/50\u001b[0m \u001b[32m━━━━━━━━━━━━━━━━━━━━\u001b[0m\u001b[37m\u001b[0m \u001b[1m1s\u001b[0m 28ms/step - accuracy: 0.5744 - loss: 25.1874 - val_accuracy: 0.5650 - val_loss: 24.9961\n",
            "\u001b[1m50/50\u001b[0m \u001b[32m━━━━━━━━━━━━━━━━━━━━\u001b[0m\u001b[37m\u001b[0m \u001b[1m1s\u001b[0m 28ms/step - accuracy: 0.5692 - loss: 24.9320 - val_accuracy: 0.5975 - val_loss: 24.7415\n",
            "\u001b[1m50/50\u001b[0m \u001b[32m━━━━━━━━━━━━━━━━━━━━\u001b[0m\u001b[37m\u001b[0m \u001b[1m1s\u001b[0m 28ms/step - accuracy: 0.5759 - loss: 24.6829 - val_accuracy: 0.5038 - val_loss: 24.4998\n",
            "\u001b[1m50/50\u001b[0m \u001b[32m━━━━━━━━━━━━━━━━━━━━\u001b[0m\u001b[37m\u001b[0m \u001b[1m1s\u001b[0m 28ms/step - accuracy: 0.5520 - loss: 24.4337 - val_accuracy: 0.5850 - val_loss: 24.2481\n",
            "\u001b[1m125/125\u001b[0m \u001b[32m━━━━━━━━━━━━━━━━━━━━\u001b[0m\u001b[37m\u001b[0m \u001b[1m1s\u001b[0m 5ms/step - accuracy: 0.6010 - loss: 24.2480\n"
          ]
        },
        {
          "output_type": "stream",
          "name": "stderr",
          "text": [
            "[I 2024-08-04 16:32:40,524] Trial 24 finished with value: 0.5842499732971191 and parameters: {'num_layers': 4, 'filters_0': 90, 'filters_1': 85, 'filters_2': 48, 'filters_3': 104, 'kernel_size': 2, 'l1': 0.007831178580633874, 'l2': 3.31883772109201e-05, 'dense_units': 232, 'dropout_rate': 0.26712490397461175, 'learning_rate': 1.003207843005365e-05}. Best is trial 23 with value: 0.6399999856948853.\n"
          ]
        },
        {
          "output_type": "stream",
          "name": "stdout",
          "text": [
            "Trial 25 started with hyperparameters: num_layers=5, filters=[107, 104, 42, 92, 97], kernel_size=2, l1=0.0007392638475217043, l2=0.00016602614868016817, dense_units=219, dropout_rate=0.1898362697995375, learning_rate=2.5239482501681245e-05\n",
            "\u001b[1m48/50\u001b[0m \u001b[32m━━━━━━━━━━━━━━━━━━━\u001b[0m\u001b[37m━\u001b[0m \u001b[1m0s\u001b[0m 24ms/step - accuracy: 0.5012 - loss: 4.5723"
          ]
        },
        {
          "output_type": "stream",
          "name": "stderr",
          "text": [
            "[I 2024-08-04 16:34:14,494] Trial 25 pruned. Trial was pruned at epoch 0.\n"
          ]
        },
        {
          "output_type": "stream",
          "name": "stdout",
          "text": [
            "Trial 26 started with hyperparameters: num_layers=4, filters=[50, 91, 73, 118], kernel_size=2, l1=0.0059151443315403895, l2=1.1259329056013594e-05, dense_units=142, dropout_rate=0.33221970808788714, learning_rate=1.6120646535662953e-05\n",
            "\u001b[1m50/50\u001b[0m \u001b[32m━━━━━━━━━━━━━━━━━━━━\u001b[0m\u001b[37m\u001b[0m \u001b[1m9s\u001b[0m 72ms/step - accuracy: 0.5194 - loss: 22.7581 - val_accuracy: 0.5188 - val_loss: 22.4741\n",
            "\u001b[1m50/50\u001b[0m \u001b[32m━━━━━━━━━━━━━━━━━━━━\u001b[0m\u001b[37m\u001b[0m \u001b[1m1s\u001b[0m 24ms/step - accuracy: 0.5204 - loss: 22.3820 - val_accuracy: 0.5462 - val_loss: 22.0998\n",
            "\u001b[1m50/50\u001b[0m \u001b[32m━━━━━━━━━━━━━━━━━━━━\u001b[0m\u001b[37m\u001b[0m \u001b[1m1s\u001b[0m 24ms/step - accuracy: 0.5582 - loss: 22.0091 - val_accuracy: 0.6500 - val_loss: 21.7314\n",
            "\u001b[1m50/50\u001b[0m \u001b[32m━━━━━━━━━━━━━━━━━━━━\u001b[0m\u001b[37m\u001b[0m \u001b[1m1s\u001b[0m 24ms/step - accuracy: 0.5736 - loss: 21.6406 - val_accuracy: 0.6237 - val_loss: 21.3652\n",
            "\u001b[1m50/50\u001b[0m \u001b[32m━━━━━━━━━━━━━━━━━━━━\u001b[0m\u001b[37m\u001b[0m \u001b[1m1s\u001b[0m 25ms/step - accuracy: 0.5985 - loss: 21.2757 - val_accuracy: 0.6037 - val_loss: 21.0023\n",
            "\u001b[1m50/50\u001b[0m \u001b[32m━━━━━━━━━━━━━━━━━━━━\u001b[0m\u001b[37m\u001b[0m \u001b[1m1s\u001b[0m 26ms/step - accuracy: 0.5805 - loss: 20.9165 - val_accuracy: 0.5587 - val_loss: 20.6510\n",
            "\u001b[1m50/50\u001b[0m \u001b[32m━━━━━━━━━━━━━━━━━━━━\u001b[0m\u001b[37m\u001b[0m \u001b[1m1s\u001b[0m 25ms/step - accuracy: 0.5679 - loss: 20.5628 - val_accuracy: 0.5975 - val_loss: 20.2992\n",
            "\u001b[1m50/50\u001b[0m \u001b[32m━━━━━━━━━━━━━━━━━━━━\u001b[0m\u001b[37m\u001b[0m \u001b[1m1s\u001b[0m 25ms/step - accuracy: 0.5885 - loss: 20.2158 - val_accuracy: 0.4863 - val_loss: 19.9646\n",
            "\u001b[1m50/50\u001b[0m \u001b[32m━━━━━━━━━━━━━━━━━━━━\u001b[0m\u001b[37m\u001b[0m \u001b[1m1s\u001b[0m 26ms/step - accuracy: 0.5737 - loss: 19.8731 - val_accuracy: 0.6538 - val_loss: 19.6178\n",
            "\u001b[1m125/125\u001b[0m \u001b[32m━━━━━━━━━━━━━━━━━━━━\u001b[0m\u001b[37m\u001b[0m \u001b[1m1s\u001b[0m 5ms/step - accuracy: 0.6701 - loss: 19.6170\n"
          ]
        },
        {
          "output_type": "stream",
          "name": "stderr",
          "text": [
            "[I 2024-08-04 16:48:23,971] Trial 26 finished with value: 0.6527500152587891 and parameters: {'num_layers': 4, 'filters_0': 50, 'filters_1': 91, 'filters_2': 73, 'filters_3': 118, 'kernel_size': 2, 'l1': 0.0059151443315403895, 'l2': 1.1259329056013594e-05, 'dense_units': 142, 'dropout_rate': 0.33221970808788714, 'learning_rate': 1.6120646535662953e-05}. Best is trial 26 with value: 0.6527500152587891.\n"
          ]
        },
        {
          "output_type": "stream",
          "name": "stdout",
          "text": [
            "Trial 27 started with hyperparameters: num_layers=3, filters=[51, 88, 86], kernel_size=2, l1=0.0010875382155268918, l2=9.746038405939761e-05, dense_units=140, dropout_rate=0.33068795393329103, learning_rate=4.340551521299577e-05\n",
            "\u001b[1m49/50\u001b[0m \u001b[32m━━━━━━━━━━━━━━━━━━━\u001b[0m\u001b[37m━\u001b[0m \u001b[1m0s\u001b[0m 17ms/step - accuracy: 0.5078 - loss: 3.2564"
          ]
        },
        {
          "output_type": "stream",
          "name": "stderr",
          "text": [
            "[I 2024-08-04 16:49:57,776] Trial 27 pruned. Trial was pruned at epoch 0.\n"
          ]
        },
        {
          "output_type": "stream",
          "name": "stdout",
          "text": [
            "Trial 28 started with hyperparameters: num_layers=3, filters=[46, 92, 36], kernel_size=2, l1=0.00036418951140005474, l2=0.0005864989581047493, dense_units=108, dropout_rate=0.3962471352461145, learning_rate=1.8836662706717208e-05\n",
            "\u001b[1m49/50\u001b[0m \u001b[32m━━━━━━━━━━━━━━━━━━━\u001b[0m\u001b[37m━\u001b[0m \u001b[1m0s\u001b[0m 14ms/step - accuracy: 0.4937 - loss: 1.3457"
          ]
        },
        {
          "output_type": "stream",
          "name": "stderr",
          "text": [
            "[I 2024-08-04 16:51:27,699] Trial 28 pruned. Trial was pruned at epoch 0.\n"
          ]
        },
        {
          "output_type": "stream",
          "name": "stdout",
          "text": [
            "Trial 29 started with hyperparameters: num_layers=3, filters=[64, 80, 75], kernel_size=2, l1=0.0027201470819170626, l2=1.4516792008647347e-05, dense_units=148, dropout_rate=0.43655419335065637, learning_rate=1.4983611953051604e-05\n",
            "\u001b[1m50/50\u001b[0m \u001b[32m━━━━━━━━━━━━━━━━━━━━\u001b[0m\u001b[37m\u001b[0m \u001b[1m0s\u001b[0m 16ms/step - accuracy: 0.5113 - loss: 6.8007"
          ]
        },
        {
          "output_type": "stream",
          "name": "stderr",
          "text": [
            "[I 2024-08-04 16:52:57,506] Trial 29 pruned. Trial was pruned at epoch 0.\n"
          ]
        },
        {
          "output_type": "stream",
          "name": "stdout",
          "text": [
            "Best trial:\n",
            "Value: 0.6527500152587891\n",
            "Params: \n",
            "    num_layers: 4\n",
            "    filters_0: 50\n",
            "    filters_1: 91\n",
            "    filters_2: 73\n",
            "    filters_3: 118\n",
            "    kernel_size: 2\n",
            "    l1: 0.0059151443315403895\n",
            "    l2: 1.1259329056013594e-05\n",
            "    dense_units: 142\n",
            "    dropout_rate: 0.33221970808788714\n",
            "    learning_rate: 1.6120646535662953e-05\n",
            "Elapsed time: 11758.62 seconds\n"
          ]
        }
      ]
    },
    {
      "cell_type": "code",
      "source": [],
      "metadata": {
        "id": "5ok3mgEDI3hG"
      },
      "execution_count": null,
      "outputs": []
    },
    {
      "cell_type": "code",
      "source": [
        "\n",
        "\n",
        "# Configure logging to file in the current directory with the specified name\n",
        "logging.basicConfig(filename='Ancient_Scenarios_AS.log', level=logging.INFO,\n",
        "                    format='%(asctime)s:%(levelname)s:%(message)s')\n",
        "\n",
        "# Function to preprocess data\n",
        "def preprocess_data(simulations_folder, batch_number):\n",
        "    # Create ImaFile object for the specified simulation folder and model\n",
        "    file_sim = ImaFile(simulations_folder=os.path.join(simulations_folder, f'Simulations{batch_number}'), nr_samples=198, model_name='Marth-3epoch-CEU')\n",
        "\n",
        "    # Read the simulation data\n",
        "    gene_sim = file_sim.read_simulations(parameter_name='selection_coeff_hetero', max_nrepl=4000)\n",
        "\n",
        "    # Filter simulations based on frequency threshold\n",
        "    gene_sim.filter_freq(0.01)\n",
        "\n",
        "    # Sort simulations by row frequency\n",
        "    gene_sim.sort('rows_freq')\n",
        "\n",
        "    # Resize simulation data to the required dimensions\n",
        "    gene_sim.resize((198, 192))\n",
        "\n",
        "    # Convert simulation data (flip=True allows for data augmentation)\n",
        "    gene_sim.convert(flip=True)\n",
        "\n",
        "    # Get a random subset of indices and subset the simulation data\n",
        "    gene_sim.subset(get_index_random(gene_sim))\n",
        "\n",
        "    # Convert targets to binary format\n",
        "    gene_sim.targets = to_binary(gene_sim.targets)\n",
        "\n",
        "    return gene_sim\n",
        "\n",
        "# Objective function for Optuna optimization\n",
        "def objective(trial, simulations_folder, epochs=1):\n",
        "    # Set random seed\n",
        "    np.random.seed(42)\n",
        "    tf.random.set_seed(42)\n",
        "\n",
        "    # Hyperparameters to be optimized\n",
        "    num_layers = trial.suggest_int('num_layers', 3, 6)  # Limit the number of layers to avoid excessive reduction\n",
        "    filters = [trial.suggest_int(f'filters_{i}', 32, 128) for i in range(num_layers)]  # Adjust filters range\n",
        "    kernel_size = trial.suggest_int('kernel_size', 2, 3)  # Limit the kernel size to avoid excessive reduction\n",
        "    l1 = trial.suggest_float('l1', 1e-6, 1e-2, log=True)\n",
        "    l2 = trial.suggest_float('l2', 1e-6, 1e-2, log=True)\n",
        "    dense_units = trial.suggest_int('dense_units', 64, 256)  # Adjust dense units range\n",
        "    dropout_rate = trial.suggest_float('dropout_rate', 0.1, 0.5)\n",
        "    learning_rate = trial.suggest_float('learning_rate', 1e-5, 1e-3, log=True)\n",
        "\n",
        "    # Log the hyperparameters at the start of each trial\n",
        "    logging.info(f'Trial {trial.number} started with hyperparameters: num_layers={num_layers}, filters={filters}, '\n",
        "                 f'kernel_size={kernel_size}, l1={l1}, l2={l2}, dense_units={dense_units}, '\n",
        "                 f'dropout_rate={dropout_rate}, learning_rate={learning_rate}')\n",
        "    print(f'Trial {trial.number} started with hyperparameters: num_layers={num_layers}, filters={filters}, '\n",
        "          f'kernel_size={kernel_size}, l1={l1}, l2={l2}, dense_units={dense_units}, '\n",
        "          f'dropout_rate={dropout_rate}, learning_rate={learning_rate}')\n",
        "\n",
        "    # Building the model based on sampled hyperparameters\n",
        "    model = models.Sequential()\n",
        "    model.add(layers.Input(shape=(198, 192, 1)))  # Define the input layer\n",
        "    for i in range(num_layers):\n",
        "        model.add(layers.Conv2D(filters=filters[i], kernel_size=(kernel_size, kernel_size), strides=(1, 1), activation='relu',\n",
        "                                kernel_regularizer=regularizers.l1_l2(l1=l1, l2=l2), padding='same'))  # Use 'same' padding to avoid dimension issues\n",
        "        model.add(layers.MaxPooling2D(pool_size=(2, 2)))\n",
        "\n",
        "    model.add(layers.Flatten())  # Flatten the output for the Dense layers\n",
        "    model.add(layers.Dense(units=dense_units, activation='relu'))  # Add Dense layer\n",
        "    model.add(layers.Dropout(rate=dropout_rate))  # Add Dropout layer\n",
        "    model.add(layers.Dense(units=1, activation='sigmoid'))  # Output layer with sigmoid activation\n",
        "\n",
        "    optimizer = tf.keras.optimizers.Adam(learning_rate=learning_rate)  # Define optimizer\n",
        "    model.compile(optimizer=optimizer, loss='binary_crossentropy', metrics=['accuracy'])  # Compile the model\n",
        "\n",
        "    # Pruning callback to terminate unpromising trials\n",
        "    pruning_callback = TFKerasPruningCallback(trial, 'val_loss')\n",
        "\n",
        "    # Early stopping to prevent overfitting\n",
        "    early_stopping = EarlyStopping(monitor='val_loss', patience=3, restore_best_weights=True)\n",
        "\n",
        "    # Incremental training on 9 batches\n",
        "    best_val_loss = np.inf  # Track the best validation loss\n",
        "    for batch_number in range(1, 10):\n",
        "        gene_sim = preprocess_data(simulations_folder, batch_number)  # Preprocess data\n",
        "        history = model.fit(gene_sim.data, gene_sim.targets, batch_size=64, epochs=epochs, verbose=1, validation_split=0.2,\n",
        "                            callbacks=[early_stopping, pruning_callback])  # Train the model with callbacks\n",
        "\n",
        "        # Get the validation loss for the current epoch\n",
        "        val_loss = min(history.history['val_loss'])\n",
        "        if val_loss < best_val_loss:\n",
        "            best_val_loss = val_loss\n",
        "            trial.report(val_loss, batch_number)\n",
        "            if trial.should_prune():\n",
        "                raise optuna.exceptions.TrialPruned()\n",
        "\n",
        "    # Evaluate the model on the 10th batch\n",
        "    gene_sim = preprocess_data(simulations_folder, 10)\n",
        "    evaluation = model.evaluate(gene_sim.data, gene_sim.targets, verbose=1)\n",
        "    return evaluation[1]  # Return the accuracy\n",
        "\n",
        "# Function to run the optimization process\n",
        "def run_optimization():\n",
        "    start_time = time.time()  # Record start time\n",
        "\n",
        "    simulations_folder = '/content/EvoNet-CNN-Insight/model_training/Ancient_strong/AS'  # Folder for this dataset\n",
        "    logging.info(f\"Starting optimization for {simulations_folder}\")\n",
        "    print(f\"Starting optimization for {simulations_folder}\")\n",
        "\n",
        "    # Create an Optuna study and optimize the objective function\n",
        "    study = optuna.create_study(direction='maximize', pruner=optuna.pruners.MedianPruner(), storage='sqlite:///as_study.db', load_if_exists=True)  # Use SQLite storage\n",
        "    study.optimize(lambda trial: objective(trial, simulations_folder), n_trials=30)  # Set to 30 trials\n",
        "\n",
        "    try:\n",
        "        trial = study.best_trial\n",
        "        print('Best trial:')\n",
        "        print('Value: {}'.format(trial.value))\n",
        "        print('Params: ')\n",
        "        for key, value in trial.params.items():\n",
        "            print('    {}: {}'.format(key, value))  # Print best trial parameters\n",
        "\n",
        "        logging.info('Best trial:')\n",
        "        logging.info('Value: {}'.format(trial.value))\n",
        "        logging.info('Params: ')\n",
        "        for key, value in trial.params.items():\n",
        "            logging.info('    {}: {}'.format(key, value))  # Log best trial parameters\n",
        "\n",
        "    except ValueError as e:\n",
        "        logging.error(f\"No completed trials: {e}\")  # Log error if no trials are completed\n",
        "\n",
        "    elapsed_time = time.time() - start_time  # Calculate elapsed time\n",
        "    print(f\"Elapsed time: {elapsed_time:.2f} seconds\")\n",
        "    logging.info(f\"Elapsed time: {elapsed_time:.2f} seconds\")  # Log elapsed time\n",
        "\n",
        "# Run the optimization process\n",
        "if __name__ == '__main__':\n",
        "    run_optimization()  # Execute the optimization function\n"
      ],
      "metadata": {
        "id": "ToN8-2PNI4At",
        "outputId": "9adaf18a-b89b-426d-f84d-086291113580",
        "colab": {
          "base_uri": "https://localhost:8080/"
        }
      },
      "execution_count": null,
      "outputs": [
        {
          "metadata": {
            "tags": null
          },
          "name": "stdout",
          "output_type": "stream",
          "text": [
            "Starting optimization for /content/EvoNet-CNN-Insight/model_training/Ancient_strong/AS\n"
          ]
        },
        {
          "metadata": {
            "tags": null
          },
          "name": "stderr",
          "output_type": "stream",
          "text": [
            "[I 2024-08-04 16:53:47,831] A new study created in RDB with name: no-name-067d7dc7-68ad-43ea-b254-8bbaa3d81a1b\n"
          ]
        },
        {
          "metadata": {
            "tags": null
          },
          "name": "stdout",
          "output_type": "stream",
          "text": [
            "Trial 0 started with hyperparameters: num_layers=4, filters=[88, 38, 88, 106], kernel_size=3, l1=1.5022150089120748e-05, l2=0.0035801025371631446, dense_units=193, dropout_rate=0.2866844238417743, learning_rate=0.00016920857191232494\n",
            "\u001b[1m50/50\u001b[0m \u001b[32m━━━━━━━━━━━━━━━━━━━━\u001b[0m\u001b[37m\u001b[0m \u001b[1m10s\u001b[0m 82ms/step - accuracy: 0.4980 - loss: 1.4448 - val_accuracy: 0.5175 - val_loss: 1.2840\n",
            "\u001b[1m50/50\u001b[0m \u001b[32m━━━━━━━━━━━━━━━━━━━━\u001b[0m\u001b[37m\u001b[0m \u001b[1m1s\u001b[0m 26ms/step - accuracy: 0.5155 - loss: 1.2405 - val_accuracy: 0.5200 - val_loss: 1.1213\n",
            "\u001b[1m50/50\u001b[0m \u001b[32m━━━━━━━━━━━━━━━━━━━━\u001b[0m\u001b[37m\u001b[0m \u001b[1m1s\u001b[0m 26ms/step - accuracy: 0.5080 - loss: 1.0901 - val_accuracy: 0.4888 - val_loss: 1.0035\n",
            "\u001b[1m50/50\u001b[0m \u001b[32m━━━━━━━━━━━━━━━━━━━━\u001b[0m\u001b[37m\u001b[0m \u001b[1m1s\u001b[0m 26ms/step - accuracy: 0.5203 - loss: 0.9798 - val_accuracy: 0.5813 - val_loss: 0.9162\n",
            "\u001b[1m50/50\u001b[0m \u001b[32m━━━━━━━━━━━━━━━━━━━━\u001b[0m\u001b[37m\u001b[0m \u001b[1m1s\u001b[0m 26ms/step - accuracy: 0.5418 - loss: 0.8997 - val_accuracy: 0.5100 - val_loss: 0.8571\n",
            "\u001b[1m50/50\u001b[0m \u001b[32m━━━━━━━━━━━━━━━━━━━━\u001b[0m\u001b[37m\u001b[0m \u001b[1m1s\u001b[0m 26ms/step - accuracy: 0.5257 - loss: 0.8457 - val_accuracy: 0.5050 - val_loss: 0.8200\n",
            "\u001b[1m50/50\u001b[0m \u001b[32m━━━━━━━━━━━━━━━━━━━━\u001b[0m\u001b[37m\u001b[0m \u001b[1m1s\u001b[0m 26ms/step - accuracy: 0.5750 - loss: 0.7936 - val_accuracy: 0.5875 - val_loss: 0.7658\n",
            "\u001b[1m50/50\u001b[0m \u001b[32m━━━━━━━━━━━━━━━━━━━━\u001b[0m\u001b[37m\u001b[0m \u001b[1m1s\u001b[0m 26ms/step - accuracy: 0.5728 - loss: 0.7611 - val_accuracy: 0.6250 - val_loss: 0.7311\n",
            "\u001b[1m50/50\u001b[0m \u001b[32m━━━━━━━━━━━━━━━━━━━━\u001b[0m\u001b[37m\u001b[0m \u001b[1m1s\u001b[0m 26ms/step - accuracy: 0.6284 - loss: 0.7155 - val_accuracy: 0.6375 - val_loss: 0.7022\n",
            "\u001b[1m125/125\u001b[0m \u001b[32m━━━━━━━━━━━━━━━━━━━━\u001b[0m\u001b[37m\u001b[0m \u001b[1m1s\u001b[0m 5ms/step - accuracy: 0.6490 - loss: 0.6942\n"
          ]
        },
        {
          "metadata": {
            "tags": null
          },
          "name": "stderr",
          "output_type": "stream",
          "text": [
            "[I 2024-08-04 17:08:01,942] Trial 0 finished with value: 0.6507499814033508 and parameters: {'num_layers': 4, 'filters_0': 88, 'filters_1': 38, 'filters_2': 88, 'filters_3': 106, 'kernel_size': 3, 'l1': 1.5022150089120748e-05, 'l2': 0.0035801025371631446, 'dense_units': 193, 'dropout_rate': 0.2866844238417743, 'learning_rate': 0.00016920857191232494}. Best is trial 0 with value: 0.6507499814033508.\n"
          ]
        },
        {
          "metadata": {
            "tags": null
          },
          "name": "stdout",
          "output_type": "stream",
          "text": [
            "Trial 1 started with hyperparameters: num_layers=5, filters=[121, 83, 93, 35, 127], kernel_size=2, l1=8.57767954844711e-06, l2=0.0018156400922245438, dense_units=162, dropout_rate=0.43753306747558995, learning_rate=1.4487334426505518e-05\n",
            "\u001b[1m50/50\u001b[0m \u001b[32m━━━━━━━━━━━━━━━━━━━━\u001b[0m\u001b[37m\u001b[0m \u001b[1m13s\u001b[0m 115ms/step - accuracy: 0.5112 - loss: 1.2640 - val_accuracy: 0.5288 - val_loss: 1.2556\n",
            "\u001b[1m50/50\u001b[0m \u001b[32m━━━━━━━━━━━━━━━━━━━━\u001b[0m\u001b[37m\u001b[0m \u001b[1m2s\u001b[0m 34ms/step - accuracy: 0.4991 - loss: 1.2534 - val_accuracy: 0.4800 - val_loss: 1.2456\n",
            "\u001b[1m50/50\u001b[0m \u001b[32m━━━━━━━━━━━━━━━━━━━━\u001b[0m\u001b[37m\u001b[0m \u001b[1m2s\u001b[0m 34ms/step - accuracy: 0.4995 - loss: 1.2433 - val_accuracy: 0.4875 - val_loss: 1.2350\n",
            "\u001b[1m50/50\u001b[0m \u001b[32m━━━━━━━━━━━━━━━━━━━━\u001b[0m\u001b[37m\u001b[0m \u001b[1m2s\u001b[0m 33ms/step - accuracy: 0.5220 - loss: 1.2323 - val_accuracy: 0.5125 - val_loss: 1.2247\n",
            "\u001b[1m50/50\u001b[0m \u001b[32m━━━━━━━━━━━━━━━━━━━━\u001b[0m\u001b[37m\u001b[0m \u001b[1m2s\u001b[0m 33ms/step - accuracy: 0.5141 - loss: 1.2222 - val_accuracy: 0.5163 - val_loss: 1.2148\n",
            "\u001b[1m50/50\u001b[0m \u001b[32m━━━━━━━━━━━━━━━━━━━━\u001b[0m\u001b[37m\u001b[0m \u001b[1m2s\u001b[0m 34ms/step - accuracy: 0.5341 - loss: 1.2124 - val_accuracy: 0.5200 - val_loss: 1.2053\n",
            "\u001b[1m50/50\u001b[0m \u001b[32m━━━━━━━━━━━━━━━━━━━━\u001b[0m\u001b[37m\u001b[0m \u001b[1m2s\u001b[0m 33ms/step - accuracy: 0.5155 - loss: 1.2031 - val_accuracy: 0.5150 - val_loss: 1.1959\n",
            "\u001b[1m50/50\u001b[0m \u001b[32m━━━━━━━━━━━━━━━━━━━━\u001b[0m\u001b[37m\u001b[0m \u001b[1m2s\u001b[0m 33ms/step - accuracy: 0.5175 - loss: 1.1939 - val_accuracy: 0.6037 - val_loss: 1.1865\n",
            "\u001b[1m50/50\u001b[0m \u001b[32m━━━━━━━━━━━━━━━━━━━━\u001b[0m\u001b[37m\u001b[0m \u001b[1m2s\u001b[0m 33ms/step - accuracy: 0.5309 - loss: 1.1841 - val_accuracy: 0.5975 - val_loss: 1.1772\n",
            "\u001b[1m125/125\u001b[0m \u001b[32m━━━━━━━━━━━━━━━━━━━━\u001b[0m\u001b[37m\u001b[0m \u001b[1m1s\u001b[0m 6ms/step - accuracy: 0.6031 - loss: 1.1770\n"
          ]
        },
        {
          "metadata": {
            "tags": null
          },
          "name": "stderr",
          "output_type": "stream",
          "text": [
            "[I 2024-08-04 17:22:29,124] Trial 1 finished with value: 0.6042500138282776 and parameters: {'num_layers': 5, 'filters_0': 121, 'filters_1': 83, 'filters_2': 93, 'filters_3': 35, 'filters_4': 127, 'kernel_size': 2, 'l1': 8.57767954844711e-06, 'l2': 0.0018156400922245438, 'dense_units': 162, 'dropout_rate': 0.43753306747558995, 'learning_rate': 1.4487334426505518e-05}. Best is trial 0 with value: 0.6507499814033508.\n"
          ]
        },
        {
          "metadata": {
            "tags": null
          },
          "name": "stdout",
          "output_type": "stream",
          "text": [
            "Trial 2 started with hyperparameters: num_layers=5, filters=[127, 50, 117, 44, 107], kernel_size=2, l1=0.0016065992182362483, l2=4.475662058253424e-06, dense_units=100, dropout_rate=0.3325663252391241, learning_rate=4.8068198908046e-05\n",
            "\u001b[1m50/50\u001b[0m \u001b[32m━━━━━━━━━━━━━━━━━━━━\u001b[0m\u001b[37m\u001b[0m \u001b[1m10s\u001b[0m 80ms/step - accuracy: 0.5083 - loss: 7.4071 - val_accuracy: 0.5175 - val_loss: 7.1565\n",
            "\u001b[1m50/50\u001b[0m \u001b[32m━━━━━━━━━━━━━━━━━━━━\u001b[0m\u001b[37m\u001b[0m \u001b[1m2s\u001b[0m 31ms/step - accuracy: 0.5092 - loss: 7.0754 - val_accuracy: 0.5288 - val_loss: 6.8312\n",
            "\u001b[1m50/50\u001b[0m \u001b[32m━━━━━━━━━━━━━━━━━━━━\u001b[0m\u001b[37m\u001b[0m \u001b[1m2s\u001b[0m 31ms/step - accuracy: 0.5144 - loss: 6.7511 - val_accuracy: 0.4725 - val_loss: 6.5137\n",
            "\u001b[1m50/50\u001b[0m \u001b[32m━━━━━━━━━━━━━━━━━━━━\u001b[0m\u001b[37m\u001b[0m \u001b[1m2s\u001b[0m 31ms/step - accuracy: 0.5013 - loss: 6.4357 - val_accuracy: 0.5100 - val_loss: 6.2039\n",
            "\u001b[1m50/50\u001b[0m \u001b[32m━━━━━━━━━━━━━━━━━━━━\u001b[0m\u001b[37m\u001b[0m \u001b[1m2s\u001b[0m 31ms/step - accuracy: 0.5123 - loss: 6.1282 - val_accuracy: 0.5125 - val_loss: 5.9028\n",
            "\u001b[1m50/50\u001b[0m \u001b[32m━━━━━━━━━━━━━━━━━━━━\u001b[0m\u001b[37m\u001b[0m \u001b[1m2s\u001b[0m 32ms/step - accuracy: 0.5244 - loss: 5.8291 - val_accuracy: 0.5050 - val_loss: 5.6103\n",
            "\u001b[1m50/50\u001b[0m \u001b[32m━━━━━━━━━━━━━━━━━━━━\u001b[0m\u001b[37m\u001b[0m \u001b[1m2s\u001b[0m 31ms/step - accuracy: 0.5061 - loss: 5.5390 - val_accuracy: 0.4663 - val_loss: 5.3266\n",
            "\u001b[1m50/50\u001b[0m \u001b[32m━━━━━━━━━━━━━━━━━━━━\u001b[0m\u001b[37m\u001b[0m \u001b[1m2s\u001b[0m 31ms/step - accuracy: 0.5058 - loss: 5.2572 - val_accuracy: 0.4787 - val_loss: 5.0511\n",
            "\u001b[1m50/50\u001b[0m \u001b[32m━━━━━━━━━━━━━━━━━━━━\u001b[0m\u001b[37m\u001b[0m \u001b[1m2s\u001b[0m 31ms/step - accuracy: 0.5296 - loss: 4.9835 - val_accuracy: 0.5025 - val_loss: 4.7837\n",
            "\u001b[1m125/125\u001b[0m \u001b[32m━━━━━━━━━━━━━━━━━━━━\u001b[0m\u001b[37m\u001b[0m \u001b[1m1s\u001b[0m 5ms/step - accuracy: 0.4971 - loss: 4.7838\n"
          ]
        },
        {
          "metadata": {
            "tags": null
          },
          "name": "stderr",
          "output_type": "stream",
          "text": [
            "[I 2024-08-04 17:36:44,192] Trial 2 finished with value: 0.5 and parameters: {'num_layers': 5, 'filters_0': 127, 'filters_1': 50, 'filters_2': 117, 'filters_3': 44, 'filters_4': 107, 'kernel_size': 2, 'l1': 0.0016065992182362483, 'l2': 4.475662058253424e-06, 'dense_units': 100, 'dropout_rate': 0.3325663252391241, 'learning_rate': 4.8068198908046e-05}. Best is trial 0 with value: 0.6507499814033508.\n"
          ]
        },
        {
          "metadata": {
            "tags": null
          },
          "name": "stdout",
          "output_type": "stream",
          "text": [
            "Trial 3 started with hyperparameters: num_layers=5, filters=[110, 38, 122, 64, 116], kernel_size=2, l1=1.7249234370956124e-06, l2=0.0006412900136628196, dense_units=82, dropout_rate=0.2348662865247278, learning_rate=0.0006829476287295161\n",
            "\u001b[1m50/50\u001b[0m \u001b[32m━━━━━━━━━━━━━━━━━━━━\u001b[0m\u001b[37m\u001b[0m \u001b[1m10s\u001b[0m 77ms/step - accuracy: 0.4976 - loss: 0.8508 - val_accuracy: 0.5175 - val_loss: 0.7730\n",
            "\u001b[1m50/50\u001b[0m \u001b[32m━━━━━━━━━━━━━━━━━━━━\u001b[0m\u001b[37m\u001b[0m \u001b[1m1s\u001b[0m 29ms/step - accuracy: 0.5068 - loss: 0.7584 - val_accuracy: 0.4800 - val_loss: 0.7264\n",
            "\u001b[1m50/50\u001b[0m \u001b[32m━━━━━━━━━━━━━━━━━━━━\u001b[0m\u001b[37m\u001b[0m \u001b[1m1s\u001b[0m 29ms/step - accuracy: 0.5055 - loss: 0.7206 - val_accuracy: 0.4725 - val_loss: 0.7083\n",
            "\u001b[1m50/50\u001b[0m \u001b[32m━━━━━━━━━━━━━━━━━━━━\u001b[0m\u001b[37m\u001b[0m \u001b[1m1s\u001b[0m 29ms/step - accuracy: 0.4958 - loss: 0.7059 - val_accuracy: 0.5063 - val_loss: 0.7007\n",
            "\u001b[1m50/50\u001b[0m \u001b[32m━━━━━━━━━━━━━━━━━━━━\u001b[0m\u001b[37m\u001b[0m \u001b[1m1s\u001b[0m 29ms/step - accuracy: 0.4930 - loss: 0.6998 - val_accuracy: 0.5088 - val_loss: 0.6974\n",
            "\u001b[1m50/50\u001b[0m \u001b[32m━━━━━━━━━━━━━━━━━━━━\u001b[0m\u001b[37m\u001b[0m \u001b[1m1s\u001b[0m 29ms/step - accuracy: 0.4933 - loss: 0.6969 - val_accuracy: 0.5050 - val_loss: 0.6956\n",
            "\u001b[1m50/50\u001b[0m \u001b[32m━━━━━━━━━━━━━━━━━━━━\u001b[0m\u001b[37m\u001b[0m \u001b[1m1s\u001b[0m 28ms/step - accuracy: 0.4778 - loss: 0.6954 - val_accuracy: 0.4663 - val_loss: 0.6947\n",
            "\u001b[1m50/50\u001b[0m \u001b[32m━━━━━━━━━━━━━━━━━━━━\u001b[0m\u001b[37m\u001b[0m \u001b[1m1s\u001b[0m 29ms/step - accuracy: 0.5091 - loss: 0.6945 - val_accuracy: 0.4787 - val_loss: 0.6942\n",
            "\u001b[1m50/50\u001b[0m \u001b[32m━━━━━━━━━━━━━━━━━━━━\u001b[0m\u001b[37m\u001b[0m \u001b[1m1s\u001b[0m 28ms/step - accuracy: 0.5066 - loss: 0.6940 - val_accuracy: 0.5025 - val_loss: 0.6937\n",
            "\u001b[1m125/125\u001b[0m \u001b[32m━━━━━━━━━━━━━━━━━━━━\u001b[0m\u001b[37m\u001b[0m \u001b[1m1s\u001b[0m 5ms/step - accuracy: 0.4971 - loss: 0.6937\n"
          ]
        },
        {
          "metadata": {
            "tags": null
          },
          "name": "stderr",
          "output_type": "stream",
          "text": [
            "[I 2024-08-04 17:50:56,075] Trial 3 finished with value: 0.5 and parameters: {'num_layers': 5, 'filters_0': 110, 'filters_1': 38, 'filters_2': 122, 'filters_3': 64, 'filters_4': 116, 'kernel_size': 2, 'l1': 1.7249234370956124e-06, 'l2': 0.0006412900136628196, 'dense_units': 82, 'dropout_rate': 0.2348662865247278, 'learning_rate': 0.0006829476287295161}. Best is trial 0 with value: 0.6507499814033508.\n"
          ]
        },
        {
          "metadata": {
            "tags": null
          },
          "name": "stdout",
          "output_type": "stream",
          "text": [
            "Trial 4 started with hyperparameters: num_layers=5, filters=[39, 88, 99, 45, 99], kernel_size=3, l1=0.0002015246722596806, l2=7.107814817245623e-06, dense_units=76, dropout_rate=0.1408388447731393, learning_rate=2.5814020296899426e-05\n",
            "\u001b[1m50/50\u001b[0m \u001b[32m━━━━━━━━━━━━━━━━━━━━\u001b[0m\u001b[37m\u001b[0m \u001b[1m11s\u001b[0m 83ms/step - accuracy: 0.4978 - loss: 1.9368 - val_accuracy: 0.5175 - val_loss: 1.9060\n",
            "\u001b[1m50/50\u001b[0m \u001b[32m━━━━━━━━━━━━━━━━━━━━\u001b[0m\u001b[37m\u001b[0m \u001b[1m1s\u001b[0m 22ms/step - accuracy: 0.5125 - loss: 1.8972 - val_accuracy: 0.5213 - val_loss: 1.8682\n",
            "\u001b[1m50/50\u001b[0m \u001b[32m━━━━━━━━━━━━━━━━━━━━\u001b[0m\u001b[37m\u001b[0m \u001b[1m1s\u001b[0m 22ms/step - accuracy: 0.5181 - loss: 1.8590 - val_accuracy: 0.5587 - val_loss: 1.8304\n",
            "\u001b[1m50/50\u001b[0m \u001b[32m━━━━━━━━━━━━━━━━━━━━\u001b[0m\u001b[37m\u001b[0m \u001b[1m1s\u001b[0m 22ms/step - accuracy: 0.5046 - loss: 1.8218 - val_accuracy: 0.4938 - val_loss: 1.7941\n",
            "\u001b[1m50/50\u001b[0m \u001b[32m━━━━━━━━━━━━━━━━━━━━\u001b[0m\u001b[37m\u001b[0m \u001b[1m1s\u001b[0m 22ms/step - accuracy: 0.5188 - loss: 1.7845 - val_accuracy: 0.5088 - val_loss: 1.7575\n",
            "\u001b[1m50/50\u001b[0m \u001b[32m━━━━━━━━━━━━━━━━━━━━\u001b[0m\u001b[37m\u001b[0m \u001b[1m1s\u001b[0m 23ms/step - accuracy: 0.5121 - loss: 1.7493 - val_accuracy: 0.4950 - val_loss: 1.7236\n",
            "\u001b[1m50/50\u001b[0m \u001b[32m━━━━━━━━━━━━━━━━━━━━\u001b[0m\u001b[37m\u001b[0m \u001b[1m1s\u001b[0m 22ms/step - accuracy: 0.5138 - loss: 1.7152 - val_accuracy: 0.6025 - val_loss: 1.6891\n",
            "\u001b[1m50/50\u001b[0m \u001b[32m━━━━━━━━━━━━━━━━━━━━\u001b[0m\u001b[37m\u001b[0m \u001b[1m1s\u001b[0m 23ms/step - accuracy: 0.5413 - loss: 1.6811 - val_accuracy: 0.4787 - val_loss: 1.6570\n",
            "\u001b[1m50/50\u001b[0m \u001b[32m━━━━━━━━━━━━━━━━━━━━\u001b[0m\u001b[37m\u001b[0m \u001b[1m1s\u001b[0m 22ms/step - accuracy: 0.5225 - loss: 1.6480 - val_accuracy: 0.5500 - val_loss: 1.6232\n",
            "\u001b[1m125/125\u001b[0m \u001b[32m━━━━━━━━━━━━━━━━━━━━\u001b[0m\u001b[37m\u001b[0m \u001b[1m1s\u001b[0m 4ms/step - accuracy: 0.5624 - loss: 1.6229\n"
          ]
        },
        {
          "metadata": {
            "tags": null
          },
          "name": "stderr",
          "output_type": "stream",
          "text": [
            "[I 2024-08-04 18:05:06,637] Trial 4 finished with value: 0.5647500157356262 and parameters: {'num_layers': 5, 'filters_0': 39, 'filters_1': 88, 'filters_2': 99, 'filters_3': 45, 'filters_4': 99, 'kernel_size': 3, 'l1': 0.0002015246722596806, 'l2': 7.107814817245623e-06, 'dense_units': 76, 'dropout_rate': 0.1408388447731393, 'learning_rate': 2.5814020296899426e-05}. Best is trial 0 with value: 0.6507499814033508.\n"
          ]
        },
        {
          "metadata": {
            "tags": null
          },
          "name": "stdout",
          "output_type": "stream",
          "text": [
            "Trial 5 started with hyperparameters: num_layers=6, filters=[69, 83, 49, 46, 55, 113], kernel_size=2, l1=0.00010381470663759735, l2=0.006591678568082662, dense_units=219, dropout_rate=0.4474944648999233, learning_rate=0.0009371554544969989\n",
            "\u001b[1m50/50\u001b[0m \u001b[32m━━━━━━━━━━━━━━━━━━━━\u001b[0m\u001b[37m\u001b[0m \u001b[1m12s\u001b[0m 88ms/step - accuracy: 0.4859 - loss: 2.5854 - val_accuracy: 0.5175 - val_loss: 1.3207\n",
            "\u001b[1m50/50\u001b[0m \u001b[32m━━━━━━━━━━━━━━━━━━━━\u001b[0m\u001b[37m\u001b[0m \u001b[1m1s\u001b[0m 26ms/step - accuracy: 0.4915 - loss: 1.1396 - val_accuracy: 0.4800 - val_loss: 0.8096\n",
            "\u001b[1m50/50\u001b[0m \u001b[32m━━━━━━━━━━━━━━━━━━━━\u001b[0m\u001b[37m\u001b[0m \u001b[1m1s\u001b[0m 26ms/step - accuracy: 0.4909 - loss: 0.7713 - val_accuracy: 0.4725 - val_loss: 0.7080\n",
            "\u001b[1m50/50\u001b[0m \u001b[32m━━━━━━━━━━━━━━━━━━━━\u001b[0m\u001b[37m\u001b[0m \u001b[1m1s\u001b[0m 27ms/step - accuracy: 0.5057 - loss: 0.7026 - val_accuracy: 0.4938 - val_loss: 0.6947\n",
            "\u001b[1m50/50\u001b[0m \u001b[32m━━━━━━━━━━━━━━━━━━━━\u001b[0m\u001b[37m\u001b[0m \u001b[1m1s\u001b[0m 26ms/step - accuracy: 0.4934 - loss: 0.6943 - val_accuracy: 0.4913 - val_loss: 0.6937\n",
            "\u001b[1m50/50\u001b[0m \u001b[32m━━━━━━━━━━━━━━━━━━━━\u001b[0m\u001b[37m\u001b[0m \u001b[1m1s\u001b[0m 27ms/step - accuracy: 0.4940 - loss: 0.6938 - val_accuracy: 0.5050 - val_loss: 0.6937\n",
            "\u001b[1m50/50\u001b[0m \u001b[32m━━━━━━━━━━━━━━━━━━━━\u001b[0m\u001b[37m\u001b[0m \u001b[1m1s\u001b[0m 26ms/step - accuracy: 0.4829 - loss: 0.6938 - val_accuracy: 0.4663 - val_loss: 0.6939\n",
            "\u001b[1m50/50\u001b[0m \u001b[32m━━━━━━━━━━━━━━━━━━━━\u001b[0m\u001b[37m\u001b[0m \u001b[1m1s\u001b[0m 26ms/step - accuracy: 0.4882 - loss: 0.6938 - val_accuracy: 0.4787 - val_loss: 0.6939\n",
            "\u001b[1m50/50\u001b[0m \u001b[32m━━━━━━━━━━━━━━━━━━━━\u001b[0m\u001b[37m\u001b[0m \u001b[1m1s\u001b[0m 26ms/step - accuracy: 0.5049 - loss: 0.6938 - val_accuracy: 0.5025 - val_loss: 0.6937\n",
            "\u001b[1m125/125\u001b[0m \u001b[32m━━━━━━━━━━━━━━━━━━━━\u001b[0m\u001b[37m\u001b[0m \u001b[1m1s\u001b[0m 5ms/step - accuracy: 0.4971 - loss: 0.6938\n"
          ]
        },
        {
          "metadata": {
            "tags": null
          },
          "name": "stderr",
          "output_type": "stream",
          "text": [
            "[I 2024-08-04 18:19:20,914] Trial 5 finished with value: 0.5 and parameters: {'num_layers': 6, 'filters_0': 69, 'filters_1': 83, 'filters_2': 49, 'filters_3': 46, 'filters_4': 55, 'filters_5': 113, 'kernel_size': 2, 'l1': 0.00010381470663759735, 'l2': 0.006591678568082662, 'dense_units': 219, 'dropout_rate': 0.4474944648999233, 'learning_rate': 0.0009371554544969989}. Best is trial 0 with value: 0.6507499814033508.\n"
          ]
        },
        {
          "metadata": {
            "tags": null
          },
          "name": "stdout",
          "output_type": "stream",
          "text": [
            "Trial 6 started with hyperparameters: num_layers=6, filters=[81, 120, 116, 105, 59, 112], kernel_size=3, l1=0.006603823222315412, l2=0.002900513795476131, dense_units=146, dropout_rate=0.41997302492548794, learning_rate=0.0004072581667211054\n",
            "\u001b[1m50/50\u001b[0m \u001b[32m━━━━━━━━━━━━━━━━━━━━\u001b[0m\u001b[37m\u001b[0m \u001b[1m15s\u001b[0m 109ms/step - accuracy: 0.5037 - loss: 71.0582 - val_accuracy: 0.4825 - val_loss: 35.8280\n",
            "\u001b[1m50/50\u001b[0m \u001b[32m━━━━━━━━━━━━━━━━━━━━\u001b[0m\u001b[37m\u001b[0m \u001b[1m2s\u001b[0m 31ms/step - accuracy: 0.4967 - loss: 27.5236 - val_accuracy: 0.4800 - val_loss: 8.4121\n",
            "\u001b[1m50/50\u001b[0m \u001b[32m━━━━━━━━━━━━━━━━━━━━\u001b[0m\u001b[37m\u001b[0m \u001b[1m2s\u001b[0m 31ms/step - accuracy: 0.4994 - loss: 5.3775 - val_accuracy: 0.4725 - val_loss: 1.0833\n",
            "\u001b[1m50/50\u001b[0m \u001b[32m━━━━━━━━━━━━━━━━━━━━\u001b[0m\u001b[37m\u001b[0m \u001b[1m2s\u001b[0m 31ms/step - accuracy: 0.5272 - loss: 0.9705 - val_accuracy: 0.5063 - val_loss: 0.8498\n",
            "\u001b[1m50/50\u001b[0m \u001b[32m━━━━━━━━━━━━━━━━━━━━\u001b[0m\u001b[37m\u001b[0m \u001b[1m2s\u001b[0m 31ms/step - accuracy: 0.4817 - loss: 0.8465 - val_accuracy: 0.4913 - val_loss: 0.8427\n",
            "\u001b[1m50/50\u001b[0m \u001b[32m━━━━━━━━━━━━━━━━━━━━\u001b[0m\u001b[37m\u001b[0m \u001b[1m2s\u001b[0m 31ms/step - accuracy: 0.5001 - loss: 0.8435 - val_accuracy: 0.5050 - val_loss: 0.8430\n",
            "\u001b[1m50/50\u001b[0m \u001b[32m━━━━━━━━━━━━━━━━━━━━\u001b[0m\u001b[37m\u001b[0m \u001b[1m2s\u001b[0m 32ms/step - accuracy: 0.4898 - loss: 0.8433 - val_accuracy: 0.4663 - val_loss: 0.8434\n",
            "\u001b[1m50/50\u001b[0m \u001b[32m━━━━━━━━━━━━━━━━━━━━\u001b[0m\u001b[37m\u001b[0m \u001b[1m2s\u001b[0m 31ms/step - accuracy: 0.5085 - loss: 0.8431 - val_accuracy: 0.4787 - val_loss: 0.8431\n",
            "\u001b[1m50/50\u001b[0m \u001b[32m━━━━━━━━━━━━━━━━━━━━\u001b[0m\u001b[37m\u001b[0m \u001b[1m2s\u001b[0m 32ms/step - accuracy: 0.5039 - loss: 0.8430 - val_accuracy: 0.5025 - val_loss: 0.8434\n",
            "\u001b[1m125/125\u001b[0m \u001b[32m━━━━━━━━━━━━━━━━━━━━\u001b[0m\u001b[37m\u001b[0m \u001b[1m1s\u001b[0m 5ms/step - accuracy: 0.4971 - loss: 0.8434\n"
          ]
        },
        {
          "metadata": {
            "tags": null
          },
          "name": "stderr",
          "output_type": "stream",
          "text": [
            "[I 2024-08-04 18:33:40,751] Trial 6 finished with value: 0.5 and parameters: {'num_layers': 6, 'filters_0': 81, 'filters_1': 120, 'filters_2': 116, 'filters_3': 105, 'filters_4': 59, 'filters_5': 112, 'kernel_size': 3, 'l1': 0.006603823222315412, 'l2': 0.002900513795476131, 'dense_units': 146, 'dropout_rate': 0.41997302492548794, 'learning_rate': 0.0004072581667211054}. Best is trial 0 with value: 0.6507499814033508.\n"
          ]
        },
        {
          "metadata": {
            "tags": null
          },
          "name": "stdout",
          "output_type": "stream",
          "text": [
            "Trial 7 started with hyperparameters: num_layers=3, filters=[77, 116, 66], kernel_size=2, l1=0.0009818686340810788, l2=0.0055574421855256835, dense_units=187, dropout_rate=0.1317230125277924, learning_rate=0.0008096562501811213\n",
            "\u001b[1m50/50\u001b[0m \u001b[32m━━━━━━━━━━━━━━━━━━━━\u001b[0m\u001b[37m\u001b[0m \u001b[1m8s\u001b[0m 66ms/step - accuracy: 0.4914 - loss: 4.2322 - val_accuracy: 0.4825 - val_loss: 2.6402\n",
            "\u001b[1m50/50\u001b[0m \u001b[32m━━━━━━━━━━━━━━━━━━━━\u001b[0m\u001b[37m\u001b[0m \u001b[1m1s\u001b[0m 27ms/step - accuracy: 0.5066 - loss: 2.3279 - val_accuracy: 0.4812 - val_loss: 1.6303\n",
            "\u001b[1m50/50\u001b[0m \u001b[32m━━━━━━━━━━━━━━━━━━━━\u001b[0m\u001b[37m\u001b[0m \u001b[1m1s\u001b[0m 27ms/step - accuracy: 0.5036 - loss: 1.5107 - val_accuracy: 0.4725 - val_loss: 1.2646\n",
            "\u001b[1m50/50\u001b[0m \u001b[32m━━━━━━━━━━━━━━━━━━━━\u001b[0m\u001b[37m\u001b[0m \u001b[1m1s\u001b[0m 26ms/step - accuracy: 0.4958 - loss: 1.2118 - val_accuracy: 0.5075 - val_loss: 1.0780\n",
            "\u001b[1m50/50\u001b[0m \u001b[32m━━━━━━━━━━━━━━━━━━━━\u001b[0m\u001b[37m\u001b[0m \u001b[1m1s\u001b[0m 27ms/step - accuracy: 0.5074 - loss: 1.0447 - val_accuracy: 0.5088 - val_loss: 0.9584\n",
            "\u001b[1m50/50\u001b[0m \u001b[32m━━━━━━━━━━━━━━━━━━━━\u001b[0m\u001b[37m\u001b[0m \u001b[1m1s\u001b[0m 27ms/step - accuracy: 0.4917 - loss: 0.9361 - val_accuracy: 0.4950 - val_loss: 0.8788\n",
            "\u001b[1m50/50\u001b[0m \u001b[32m━━━━━━━━━━━━━━━━━━━━\u001b[0m\u001b[37m\u001b[0m \u001b[1m1s\u001b[0m 27ms/step - accuracy: 0.5133 - loss: 0.8635 - val_accuracy: 0.4663 - val_loss: 0.8229\n",
            "\u001b[1m50/50\u001b[0m \u001b[32m━━━━━━━━━━━━━━━━━━━━\u001b[0m\u001b[37m\u001b[0m \u001b[1m1s\u001b[0m 27ms/step - accuracy: 0.5091 - loss: 0.8119 - val_accuracy: 0.4787 - val_loss: 0.7851\n",
            "\u001b[1m50/50\u001b[0m \u001b[32m━━━━━━━━━━━━━━━━━━━━\u001b[0m\u001b[37m\u001b[0m \u001b[1m1s\u001b[0m 26ms/step - accuracy: 0.5066 - loss: 0.7775 - val_accuracy: 0.5025 - val_loss: 0.7586\n",
            "\u001b[1m125/125\u001b[0m \u001b[32m━━━━━━━━━━━━━━━━━━━━\u001b[0m\u001b[37m\u001b[0m \u001b[1m1s\u001b[0m 4ms/step - accuracy: 0.4971 - loss: 0.7587\n"
          ]
        },
        {
          "metadata": {
            "tags": null
          },
          "name": "stderr",
          "output_type": "stream",
          "text": [
            "[I 2024-08-04 18:47:51,434] Trial 7 finished with value: 0.5 and parameters: {'num_layers': 3, 'filters_0': 77, 'filters_1': 116, 'filters_2': 66, 'kernel_size': 2, 'l1': 0.0009818686340810788, 'l2': 0.0055574421855256835, 'dense_units': 187, 'dropout_rate': 0.1317230125277924, 'learning_rate': 0.0008096562501811213}. Best is trial 0 with value: 0.6507499814033508.\n"
          ]
        },
        {
          "metadata": {
            "tags": null
          },
          "name": "stdout",
          "output_type": "stream",
          "text": [
            "Trial 8 started with hyperparameters: num_layers=6, filters=[121, 90, 71, 128, 112, 109], kernel_size=3, l1=0.0018981462169385098, l2=4.1261149660181787e-05, dense_units=208, dropout_rate=0.14262679293217184, learning_rate=0.00022335554608512317\n",
            "\u001b[1m50/50\u001b[0m \u001b[32m━━━━━━━━━━━━━━━━━━━━\u001b[0m\u001b[37m\u001b[0m \u001b[1m16s\u001b[0m 114ms/step - accuracy: 0.5012 - loss: 23.7731 - val_accuracy: 0.4825 - val_loss: 17.1137\n",
            "\u001b[1m50/50\u001b[0m \u001b[32m━━━━━━━━━━━━━━━━━━━━\u001b[0m\u001b[37m\u001b[0m \u001b[1m2s\u001b[0m 37ms/step - accuracy: 0.5107 - loss: 15.2096 - val_accuracy: 0.4800 - val_loss: 10.0376\n",
            "\u001b[1m50/50\u001b[0m \u001b[32m━━━━━━━━━━━━━━━━━━━━\u001b[0m\u001b[37m\u001b[0m \u001b[1m2s\u001b[0m 37ms/step - accuracy: 0.4937 - loss: 8.6329 - val_accuracy: 0.4725 - val_loss: 4.9626\n",
            "\u001b[1m50/50\u001b[0m \u001b[32m━━━━━━━━━━━━━━━━━━━━\u001b[0m\u001b[37m\u001b[0m \u001b[1m2s\u001b[0m 37ms/step - accuracy: 0.4964 - loss: 4.0602 - val_accuracy: 0.5063 - val_loss: 1.9011\n",
            "\u001b[1m50/50\u001b[0m \u001b[32m━━━━━━━━━━━━━━━━━━━━\u001b[0m\u001b[37m\u001b[0m \u001b[1m2s\u001b[0m 36ms/step - accuracy: 0.5071 - loss: 1.5024 - val_accuracy: 0.5088 - val_loss: 0.8198\n",
            "\u001b[1m50/50\u001b[0m \u001b[32m━━━━━━━━━━━━━━━━━━━━\u001b[0m\u001b[37m\u001b[0m \u001b[1m2s\u001b[0m 36ms/step - accuracy: 0.5016 - loss: 0.7757 - val_accuracy: 0.5050 - val_loss: 0.7221\n",
            "\u001b[1m50/50\u001b[0m \u001b[32m━━━━━━━━━━━━━━━━━━━━\u001b[0m\u001b[37m\u001b[0m \u001b[1m2s\u001b[0m 37ms/step - accuracy: 0.5029 - loss: 0.7208 - val_accuracy: 0.4663 - val_loss: 0.7192\n",
            "\u001b[1m50/50\u001b[0m \u001b[32m━━━━━━━━━━━━━━━━━━━━\u001b[0m\u001b[37m\u001b[0m \u001b[1m2s\u001b[0m 38ms/step - accuracy: 0.5091 - loss: 0.7190 - val_accuracy: 0.4787 - val_loss: 0.7191\n",
            "\u001b[1m50/50\u001b[0m \u001b[32m━━━━━━━━━━━━━━━━━━━━\u001b[0m\u001b[37m\u001b[0m \u001b[1m2s\u001b[0m 36ms/step - accuracy: 0.5066 - loss: 0.7189 - val_accuracy: 0.5025 - val_loss: 0.7190\n",
            "\u001b[1m125/125\u001b[0m \u001b[32m━━━━━━━━━━━━━━━━━━━━\u001b[0m\u001b[37m\u001b[0m \u001b[1m1s\u001b[0m 6ms/step - accuracy: 0.4971 - loss: 0.7190\n"
          ]
        },
        {
          "metadata": {
            "tags": null
          },
          "name": "stderr",
          "output_type": "stream",
          "text": [
            "[I 2024-08-04 19:02:12,880] Trial 8 finished with value: 0.5 and parameters: {'num_layers': 6, 'filters_0': 121, 'filters_1': 90, 'filters_2': 71, 'filters_3': 128, 'filters_4': 112, 'filters_5': 109, 'kernel_size': 3, 'l1': 0.0018981462169385098, 'l2': 4.1261149660181787e-05, 'dense_units': 208, 'dropout_rate': 0.14262679293217184, 'learning_rate': 0.00022335554608512317}. Best is trial 0 with value: 0.6507499814033508.\n"
          ]
        },
        {
          "metadata": {
            "tags": null
          },
          "name": "stdout",
          "output_type": "stream",
          "text": [
            "Trial 9 started with hyperparameters: num_layers=4, filters=[90, 79, 89, 89], kernel_size=3, l1=0.0018049079483755707, l2=2.0755299715900565e-06, dense_units=215, dropout_rate=0.4540769502809594, learning_rate=4.437418904982602e-05\n",
            "\u001b[1m50/50\u001b[0m \u001b[32m━━━━━━━━━━━━━━━━━━━━\u001b[0m\u001b[37m\u001b[0m \u001b[1m13s\u001b[0m 119ms/step - accuracy: 0.5018 - loss: 11.7318 - val_accuracy: 0.4837 - val_loss: 11.1620\n",
            "\u001b[1m50/50\u001b[0m \u001b[32m━━━━━━━━━━━━━━━━━━━━\u001b[0m\u001b[37m\u001b[0m \u001b[1m2s\u001b[0m 31ms/step - accuracy: 0.4964 - loss: 10.9793 - val_accuracy: 0.5838 - val_loss: 10.4298\n",
            "\u001b[1m50/50\u001b[0m \u001b[32m━━━━━━━━━━━━━━━━━━━━\u001b[0m\u001b[37m\u001b[0m \u001b[1m2s\u001b[0m 31ms/step - accuracy: 0.5397 - loss: 10.2522 - val_accuracy: 0.4762 - val_loss: 9.7335\n",
            "\u001b[1m50/50\u001b[0m \u001b[32m━━━━━━━━━━━━━━━━━━━━\u001b[0m\u001b[37m\u001b[0m \u001b[1m2s\u001b[0m 32ms/step - accuracy: 0.5282 - loss: 9.5619 - val_accuracy: 0.6325 - val_loss: 9.0581\n",
            "\u001b[1m50/50\u001b[0m \u001b[32m━━━━━━━━━━━━━━━━━━━━\u001b[0m\u001b[37m\u001b[0m \u001b[1m2s\u001b[0m 31ms/step - accuracy: 0.5399 - loss: 8.8983 - val_accuracy: 0.5050 - val_loss: 8.4258\n",
            "\u001b[1m50/50\u001b[0m \u001b[32m━━━━━━━━━━━━━━━━━━━━\u001b[0m\u001b[37m\u001b[0m \u001b[1m2s\u001b[0m 31ms/step - accuracy: 0.5456 - loss: 8.2722 - val_accuracy: 0.5425 - val_loss: 7.8271\n",
            "\u001b[1m50/50\u001b[0m \u001b[32m━━━━━━━━━━━━━━━━━━━━\u001b[0m\u001b[37m\u001b[0m \u001b[1m2s\u001b[0m 31ms/step - accuracy: 0.5641 - loss: 7.6792 - val_accuracy: 0.5537 - val_loss: 7.2623\n",
            "\u001b[1m50/50\u001b[0m \u001b[32m━━━━━━━━━━━━━━━━━━━━\u001b[0m\u001b[37m\u001b[0m \u001b[1m2s\u001b[0m 31ms/step - accuracy: 0.5453 - loss: 7.1317 - val_accuracy: 0.5425 - val_loss: 6.7279\n",
            "\u001b[1m50/50\u001b[0m \u001b[32m━━━━━━━━━━━━━━━━━━━━\u001b[0m\u001b[37m\u001b[0m \u001b[1m2s\u001b[0m 31ms/step - accuracy: 0.5851 - loss: 6.5921 - val_accuracy: 0.5938 - val_loss: 6.2152\n",
            "\u001b[1m125/125\u001b[0m \u001b[32m━━━━━━━━━━━━━━━━━━━━\u001b[0m\u001b[37m\u001b[0m \u001b[1m1s\u001b[0m 5ms/step - accuracy: 0.6126 - loss: 6.2128\n"
          ]
        },
        {
          "metadata": {
            "tags": null
          },
          "name": "stderr",
          "output_type": "stream",
          "text": [
            "[I 2024-08-04 19:16:43,056] Trial 9 finished with value: 0.6147500276565552 and parameters: {'num_layers': 4, 'filters_0': 90, 'filters_1': 79, 'filters_2': 89, 'filters_3': 89, 'kernel_size': 3, 'l1': 0.0018049079483755707, 'l2': 2.0755299715900565e-06, 'dense_units': 215, 'dropout_rate': 0.4540769502809594, 'learning_rate': 4.437418904982602e-05}. Best is trial 0 with value: 0.6507499814033508.\n"
          ]
        },
        {
          "metadata": {
            "tags": null
          },
          "name": "stdout",
          "output_type": "stream",
          "text": [
            "Trial 10 started with hyperparameters: num_layers=3, filters=[55, 57, 33], kernel_size=3, l1=1.3714743508594547e-05, l2=0.00016166631967919707, dense_units=246, dropout_rate=0.28202435845806834, learning_rate=0.00012923740943007048\n",
            "\u001b[1m48/50\u001b[0m \u001b[32m━━━━━━━━━━━━━━━━━━━\u001b[0m\u001b[37m━\u001b[0m \u001b[1m0s\u001b[0m 16ms/step - accuracy: 0.4982 - loss: 0.7548"
          ]
        },
        {
          "metadata": {
            "tags": null
          },
          "name": "stderr",
          "output_type": "stream",
          "text": [
            "[I 2024-08-04 19:18:15,998] Trial 10 pruned. Trial was pruned at epoch 0.\n"
          ]
        },
        {
          "output_type": "stream",
          "name": "stdout",
          "text": [
            "Trial 11 started with hyperparameters: num_layers=4, filters=[98, 61, 89, 92], kernel_size=3, l1=2.0315537942732576e-05, l2=1.013174390493206e-06, dense_units=253, dropout_rate=0.3562699778711074, learning_rate=6.831377684582747e-05\n",
            "\u001b[1m49/50\u001b[0m \u001b[32m━━━━━━━━━━━━━━━━━━━\u001b[0m\u001b[37m━\u001b[0m \u001b[1m0s\u001b[0m 24ms/step - accuracy: 0.5017 - loss: 0.8102"
          ]
        },
        {
          "output_type": "stream",
          "name": "stderr",
          "text": [
            "[I 2024-08-04 19:19:49,915] Trial 11 pruned. Trial was pruned at epoch 0.\n"
          ]
        },
        {
          "output_type": "stream",
          "name": "stdout",
          "text": [
            "Trial 12 started with hyperparameters: num_layers=4, filters=[93, 33, 80, 107], kernel_size=3, l1=0.00032059494129308737, l2=7.700735055106116e-05, dense_units=176, dropout_rate=0.2404348225153734, learning_rate=0.00014549043508741327\n",
            "\u001b[1m50/50\u001b[0m \u001b[32m━━━━━━━━━━━━━━━━━━━━\u001b[0m\u001b[37m\u001b[0m \u001b[1m0s\u001b[0m 22ms/step - accuracy: 0.5062 - loss: 2.0193"
          ]
        },
        {
          "output_type": "stream",
          "name": "stderr",
          "text": [
            "[I 2024-08-04 19:21:25,109] Trial 12 pruned. Trial was pruned at epoch 0.\n"
          ]
        },
        {
          "output_type": "stream",
          "name": "stdout",
          "text": [
            "Trial 13 started with hyperparameters: num_layers=4, filters=[96, 101, 103, 79], kernel_size=3, l1=2.885009823140431e-05, l2=0.00037230288571827165, dense_units=128, dropout_rate=0.4939953185961022, learning_rate=4.33571293850659e-05\n",
            "\u001b[1m49/50\u001b[0m \u001b[32m━━━━━━━━━━━━━━━━━━━\u001b[0m\u001b[37m━\u001b[0m \u001b[1m0s\u001b[0m 26ms/step - accuracy: 0.5096 - loss: 1.0149"
          ]
        },
        {
          "output_type": "stream",
          "name": "stderr",
          "text": [
            "[I 2024-08-04 19:23:01,700] Trial 13 pruned. Trial was pruned at epoch 0.\n"
          ]
        },
        {
          "output_type": "stream",
          "name": "stdout",
          "text": [
            "Trial 14 started with hyperparameters: num_layers=3, filters=[64, 71, 62], kernel_size=3, l1=2.1878287105007017e-06, l2=1.780138527833866e-05, dense_units=200, dropout_rate=0.36933172243735557, learning_rate=0.00025434666693325344\n",
            "\u001b[1m49/50\u001b[0m \u001b[32m━━━━━━━━━━━━━━━━━━━\u001b[0m\u001b[37m━\u001b[0m \u001b[1m0s\u001b[0m 19ms/step - accuracy: 0.5254 - loss: 0.7160"
          ]
        },
        {
          "output_type": "stream",
          "name": "stderr",
          "text": [
            "[I 2024-08-04 19:24:34,765] Trial 14 pruned. Trial was pruned at epoch 0.\n"
          ]
        },
        {
          "output_type": "stream",
          "name": "stdout",
          "text": [
            "Trial 15 started with hyperparameters: num_layers=4, filters=[85, 45, 81, 121], kernel_size=3, l1=0.007253034846949363, l2=1.2242808651660255e-06, dense_units=221, dropout_rate=0.20611511960717066, learning_rate=1.0104664299774052e-05\n",
            "\u001b[1m50/50\u001b[0m \u001b[32m━━━━━━━━━━━━━━━━━━━━\u001b[0m\u001b[37m\u001b[0m \u001b[1m11s\u001b[0m 86ms/step - accuracy: 0.5026 - loss: 36.8778 - val_accuracy: 0.5175 - val_loss: 36.4501\n",
            "\u001b[1m50/50\u001b[0m \u001b[32m━━━━━━━━━━━━━━━━━━━━\u001b[0m\u001b[37m\u001b[0m \u001b[1m1s\u001b[0m 27ms/step - accuracy: 0.5032 - loss: 36.3103 - val_accuracy: 0.5200 - val_loss: 35.8851\n",
            "\u001b[1m50/50\u001b[0m \u001b[32m━━━━━━━━━━━━━━━━━━━━\u001b[0m\u001b[37m\u001b[0m \u001b[1m1s\u001b[0m 27ms/step - accuracy: 0.5067 - loss: 35.7453 - val_accuracy: 0.5763 - val_loss: 35.3249\n",
            "\u001b[1m50/50\u001b[0m \u001b[32m━━━━━━━━━━━━━━━━━━━━\u001b[0m\u001b[37m\u001b[0m \u001b[1m1s\u001b[0m 27ms/step - accuracy: 0.5065 - loss: 35.1864 - val_accuracy: 0.4950 - val_loss: 34.7695\n",
            "\u001b[1m50/50\u001b[0m \u001b[32m━━━━━━━━━━━━━━━━━━━━\u001b[0m\u001b[37m\u001b[0m \u001b[1m1s\u001b[0m 27ms/step - accuracy: 0.5164 - loss: 34.6315 - val_accuracy: 0.5088 - val_loss: 34.2176\n",
            "\u001b[1m50/50\u001b[0m \u001b[32m━━━━━━━━━━━━━━━━━━━━\u001b[0m\u001b[37m\u001b[0m \u001b[1m1s\u001b[0m 28ms/step - accuracy: 0.5135 - loss: 34.0815 - val_accuracy: 0.4950 - val_loss: 33.6721\n",
            "\u001b[1m50/50\u001b[0m \u001b[32m━━━━━━━━━━━━━━━━━━━━\u001b[0m\u001b[37m\u001b[0m \u001b[1m1s\u001b[0m 27ms/step - accuracy: 0.5019 - loss: 33.5365 - val_accuracy: 0.6263 - val_loss: 33.1296\n",
            "\u001b[1m50/50\u001b[0m \u001b[32m━━━━━━━━━━━━━━━━━━━━\u001b[0m\u001b[37m\u001b[0m \u001b[1m1s\u001b[0m 28ms/step - accuracy: 0.5382 - loss: 32.9956 - val_accuracy: 0.6313 - val_loss: 32.5929\n",
            "\u001b[1m50/50\u001b[0m \u001b[32m━━━━━━━━━━━━━━━━━━━━\u001b[0m\u001b[37m\u001b[0m \u001b[1m1s\u001b[0m 27ms/step - accuracy: 0.5268 - loss: 32.4600 - val_accuracy: 0.6012 - val_loss: 32.0606\n",
            "\u001b[1m125/125\u001b[0m \u001b[32m━━━━━━━━━━━━━━━━━━━━\u001b[0m\u001b[37m\u001b[0m \u001b[1m1s\u001b[0m 5ms/step - accuracy: 0.5981 - loss: 32.0605\n"
          ]
        },
        {
          "output_type": "stream",
          "name": "stderr",
          "text": [
            "[I 2024-08-04 19:38:46,206] Trial 15 finished with value: 0.5979999899864197 and parameters: {'num_layers': 4, 'filters_0': 85, 'filters_1': 45, 'filters_2': 81, 'filters_3': 121, 'kernel_size': 3, 'l1': 0.007253034846949363, 'l2': 1.2242808651660255e-06, 'dense_units': 221, 'dropout_rate': 0.20611511960717066, 'learning_rate': 1.0104664299774052e-05}. Best is trial 0 with value: 0.6507499814033508.\n"
          ]
        },
        {
          "output_type": "stream",
          "name": "stdout",
          "text": [
            "Trial 16 started with hyperparameters: num_layers=4, filters=[111, 67, 106, 82], kernel_size=3, l1=5.3592890515914255e-05, l2=0.0009521282165903795, dense_units=232, dropout_rate=0.3048368692517198, learning_rate=9.222811594538403e-05\n",
            "\u001b[1m49/50\u001b[0m \u001b[32m━━━━━━━━━━━━━━━━━━━\u001b[0m\u001b[37m━\u001b[0m \u001b[1m0s\u001b[0m 27ms/step - accuracy: 0.4916 - loss: 1.2717"
          ]
        },
        {
          "output_type": "stream",
          "name": "stderr",
          "text": [
            "[I 2024-08-04 19:40:22,197] Trial 16 pruned. Trial was pruned at epoch 0.\n"
          ]
        },
        {
          "output_type": "stream",
          "name": "stdout",
          "text": [
            "Trial 17 started with hyperparameters: num_layers=3, filters=[53, 102, 56], kernel_size=3, l1=5.505538299648664e-06, l2=0.00023593750109406053, dense_units=185, dropout_rate=0.3851180428299373, learning_rate=2.6509497194085158e-05\n",
            "\u001b[1m49/50\u001b[0m \u001b[32m━━━━━━━━━━━━━━━━━━━\u001b[0m\u001b[37m━\u001b[0m \u001b[1m0s\u001b[0m 19ms/step - accuracy: 0.4915 - loss: 0.7515"
          ]
        },
        {
          "output_type": "stream",
          "name": "stderr",
          "text": [
            "[I 2024-08-04 19:41:54,981] Trial 17 pruned. Trial was pruned at epoch 0.\n"
          ]
        },
        {
          "output_type": "stream",
          "name": "stdout",
          "text": [
            "Trial 18 started with hyperparameters: num_layers=4, filters=[105, 74, 87, 102], kernel_size=3, l1=0.00039935402546442835, l2=2.744144361007307e-05, dense_units=129, dropout_rate=0.2776900919933366, learning_rate=0.00021495145391508638\n",
            "\u001b[1m49/50\u001b[0m \u001b[32m━━━━━━━━━━━━━━━━━━━\u001b[0m\u001b[37m━\u001b[0m \u001b[1m0s\u001b[0m 27ms/step - accuracy: 0.4964 - loss: 3.0869"
          ]
        },
        {
          "output_type": "stream",
          "name": "stderr",
          "text": [
            "[I 2024-08-04 19:43:30,862] Trial 18 pruned. Trial was pruned at epoch 0.\n"
          ]
        },
        {
          "output_type": "stream",
          "name": "stdout",
          "text": [
            "Trial 19 started with hyperparameters: num_layers=5, filters=[87, 106, 73, 77, 32], kernel_size=3, l1=7.528061183642421e-05, l2=4.155005413091779e-06, dense_units=161, dropout_rate=0.48975684471043807, learning_rate=6.26064694720531e-05\n",
            "\u001b[1m49/50\u001b[0m \u001b[32m━━━━━━━━━━━━━━━━━━━\u001b[0m\u001b[37m━\u001b[0m \u001b[1m0s\u001b[0m 26ms/step - accuracy: 0.5004 - loss: 1.2271"
          ]
        },
        {
          "output_type": "stream",
          "name": "stderr",
          "text": [
            "[I 2024-08-04 19:45:08,436] Trial 19 pruned. Trial was pruned at epoch 0.\n"
          ]
        },
        {
          "output_type": "stream",
          "name": "stdout",
          "text": [
            "Trial 20 started with hyperparameters: num_layers=3, filters=[72, 48, 112], kernel_size=2, l1=3.569805953473113e-06, l2=8.723982782358374e-05, dense_units=201, dropout_rate=0.1828547235200355, learning_rate=2.9392044074171436e-05\n",
            "\u001b[1m49/50\u001b[0m \u001b[32m━━━━━━━━━━━━━━━━━━━\u001b[0m\u001b[37m━\u001b[0m \u001b[1m0s\u001b[0m 18ms/step - accuracy: 0.4992 - loss: 0.7168"
          ]
        },
        {
          "output_type": "stream",
          "name": "stderr",
          "text": [
            "[I 2024-08-04 19:46:40,087] Trial 20 pruned. Trial was pruned at epoch 0.\n"
          ]
        },
        {
          "output_type": "stream",
          "name": "stdout",
          "text": [
            "Trial 21 started with hyperparameters: num_layers=5, filters=[120, 79, 94, 60, 82], kernel_size=2, l1=8.89977332275106e-06, l2=0.001664620134252906, dense_units=165, dropout_rate=0.4319353202355606, learning_rate=1.1304574967167206e-05\n",
            "\u001b[1m49/50\u001b[0m \u001b[32m━━━━━━━━━━━━━━━━━━━\u001b[0m\u001b[37m━\u001b[0m \u001b[1m0s\u001b[0m 26ms/step - accuracy: 0.5048 - loss: 1.2772"
          ]
        },
        {
          "output_type": "stream",
          "name": "stderr",
          "text": [
            "[I 2024-08-04 19:48:17,135] Trial 21 pruned. Trial was pruned at epoch 0.\n"
          ]
        },
        {
          "output_type": "stream",
          "name": "stdout",
          "text": [
            "Trial 22 started with hyperparameters: num_layers=4, filters=[102, 97, 128, 93], kernel_size=2, l1=3.468247781489886e-05, l2=0.002423213067358153, dense_units=143, dropout_rate=0.402548900654826, learning_rate=1.5330226637885333e-05\n",
            "\u001b[1m49/50\u001b[0m \u001b[32m━━━━━━━━━━━━━━━━━━━\u001b[0m\u001b[37m━\u001b[0m \u001b[1m0s\u001b[0m 25ms/step - accuracy: 0.5085 - loss: 1.6615"
          ]
        },
        {
          "output_type": "stream",
          "name": "stderr",
          "text": [
            "[I 2024-08-04 19:49:52,227] Trial 22 pruned. Trial was pruned at epoch 0.\n"
          ]
        },
        {
          "output_type": "stream",
          "name": "stdout",
          "text": [
            "Trial 23 started with hyperparameters: num_layers=5, filters=[90, 110, 94, 116, 88], kernel_size=2, l1=9.343895494162638e-06, l2=0.0007553219937124926, dense_units=177, dropout_rate=0.4511969287776317, learning_rate=1.945550226904966e-05\n",
            "\u001b[1m49/50\u001b[0m \u001b[32m━━━━━━━━━━━━━━━━━━━\u001b[0m\u001b[37m━\u001b[0m \u001b[1m0s\u001b[0m 25ms/step - accuracy: 0.5069 - loss: 1.0650"
          ]
        },
        {
          "output_type": "stream",
          "name": "stderr",
          "text": [
            "[I 2024-08-04 19:51:26,801] Trial 23 pruned. Trial was pruned at epoch 0.\n"
          ]
        },
        {
          "output_type": "stream",
          "name": "stdout",
          "text": [
            "Trial 24 started with hyperparameters: num_layers=4, filters=[114, 125, 77, 65], kernel_size=2, l1=4.2915746113632035e-06, l2=0.008097615188714208, dense_units=231, dropout_rate=0.3310697701371276, learning_rate=3.9275479598952294e-05\n",
            "\u001b[1m50/50\u001b[0m \u001b[32m━━━━━━━━━━━━━━━━━━━━\u001b[0m\u001b[37m\u001b[0m \u001b[1m11s\u001b[0m 92ms/step - accuracy: 0.4850 - loss: 3.0006 - val_accuracy: 0.5138 - val_loss: 2.8908\n",
            "\u001b[1m50/50\u001b[0m \u001b[32m━━━━━━━━━━━━━━━━━━━━\u001b[0m\u001b[37m\u001b[0m \u001b[1m2s\u001b[0m 35ms/step - accuracy: 0.5147 - loss: 2.8571 - val_accuracy: 0.4825 - val_loss: 2.7564\n",
            "\u001b[1m50/50\u001b[0m \u001b[32m━━━━━━━━━━━━━━━━━━━━\u001b[0m\u001b[37m\u001b[0m \u001b[1m2s\u001b[0m 34ms/step - accuracy: 0.5214 - loss: 2.7241 - val_accuracy: 0.4888 - val_loss: 2.6304\n",
            "\u001b[1m50/50\u001b[0m \u001b[32m━━━━━━━━━━━━━━━━━━━━\u001b[0m\u001b[37m\u001b[0m \u001b[1m2s\u001b[0m 35ms/step - accuracy: 0.5143 - loss: 2.6005 - val_accuracy: 0.6375 - val_loss: 2.5105\n",
            "\u001b[1m50/50\u001b[0m \u001b[32m━━━━━━━━━━━━━━━━━━━━\u001b[0m\u001b[37m\u001b[0m \u001b[1m2s\u001b[0m 34ms/step - accuracy: 0.5479 - loss: 2.4832 - val_accuracy: 0.6000 - val_loss: 2.4006\n",
            "\u001b[1m50/50\u001b[0m \u001b[32m━━━━━━━━━━━━━━━━━━━━\u001b[0m\u001b[37m\u001b[0m \u001b[1m2s\u001b[0m 34ms/step - accuracy: 0.5258 - loss: 2.3756 - val_accuracy: 0.5200 - val_loss: 2.3014\n",
            "\u001b[1m50/50\u001b[0m \u001b[32m━━━━━━━━━━━━━━━━━━━━\u001b[0m\u001b[37m\u001b[0m \u001b[1m2s\u001b[0m 34ms/step - accuracy: 0.5487 - loss: 2.2738 - val_accuracy: 0.6000 - val_loss: 2.2054\n",
            "\u001b[1m50/50\u001b[0m \u001b[32m━━━━━━━━━━━━━━━━━━━━\u001b[0m\u001b[37m\u001b[0m \u001b[1m2s\u001b[0m 34ms/step - accuracy: 0.5394 - loss: 2.1888 - val_accuracy: 0.4812 - val_loss: 2.1258\n",
            "\u001b[1m50/50\u001b[0m \u001b[32m━━━━━━━━━━━━━━━━━━━━\u001b[0m\u001b[37m\u001b[0m \u001b[1m2s\u001b[0m 34ms/step - accuracy: 0.5883 - loss: 2.0973 - val_accuracy: 0.5900 - val_loss: 2.0374\n",
            "\u001b[1m125/125\u001b[0m \u001b[32m━━━━━━━━━━━━━━━━━━━━\u001b[0m\u001b[37m\u001b[0m \u001b[1m1s\u001b[0m 6ms/step - accuracy: 0.5915 - loss: 2.0363\n"
          ]
        },
        {
          "output_type": "stream",
          "name": "stderr",
          "text": [
            "[I 2024-08-04 20:05:39,997] Trial 24 finished with value: 0.597000002861023 and parameters: {'num_layers': 4, 'filters_0': 114, 'filters_1': 125, 'filters_2': 77, 'filters_3': 65, 'kernel_size': 2, 'l1': 4.2915746113632035e-06, 'l2': 0.008097615188714208, 'dense_units': 231, 'dropout_rate': 0.3310697701371276, 'learning_rate': 3.9275479598952294e-05}. Best is trial 0 with value: 0.6507499814033508.\n"
          ]
        },
        {
          "output_type": "stream",
          "name": "stdout",
          "text": [
            "Trial 25 started with hyperparameters: num_layers=5, filters=[59, 60, 87, 32, 121], kernel_size=3, l1=1.1520688628231588e-06, l2=0.0037330676886308273, dense_units=145, dropout_rate=0.4685164662142885, learning_rate=8.730035702610689e-05\n",
            "\u001b[1m49/50\u001b[0m \u001b[32m━━━━━━━━━━━━━━━━━━━\u001b[0m\u001b[37m━\u001b[0m \u001b[1m0s\u001b[0m 18ms/step - accuracy: 0.5103 - loss: 1.5265"
          ]
        },
        {
          "output_type": "stream",
          "name": "stderr",
          "text": [
            "[I 2024-08-04 20:07:14,489] Trial 25 pruned. Trial was pruned at epoch 0.\n"
          ]
        },
        {
          "output_type": "stream",
          "name": "stdout",
          "text": [
            "Trial 26 started with hyperparameters: num_layers=4, filters=[42, 78, 108, 91], kernel_size=2, l1=0.00010907024235598691, l2=0.0016922387384330105, dense_units=194, dropout_rate=0.4096283336810391, learning_rate=1.7028755580610168e-05\n",
            "\u001b[1m48/50\u001b[0m \u001b[32m━━━━━━━━━━━━━━━━━━━\u001b[0m\u001b[37m━\u001b[0m \u001b[1m0s\u001b[0m 16ms/step - accuracy: 0.4868 - loss: 1.5394"
          ]
        },
        {
          "output_type": "stream",
          "name": "stderr",
          "text": [
            "[I 2024-08-04 20:08:46,961] Trial 26 pruned. Trial was pruned at epoch 0.\n"
          ]
        },
        {
          "output_type": "stream",
          "name": "stdout",
          "text": [
            "Trial 27 started with hyperparameters: num_layers=5, filters=[76, 87, 96, 114, 66], kernel_size=3, l1=0.00416907308130264, l2=0.00039673159205364666, dense_units=217, dropout_rate=0.3131464073569233, learning_rate=0.00013418581956140143\n",
            "\u001b[1m50/50\u001b[0m \u001b[32m━━━━━━━━━━━━━━━━━━━━\u001b[0m\u001b[37m\u001b[0m \u001b[1m13s\u001b[0m 96ms/step - accuracy: 0.5047 - loss: 36.3963 - val_accuracy: 0.5175 - val_loss: 30.4948\n",
            "\u001b[1m50/50\u001b[0m \u001b[32m━━━━━━━━━━━━━━━━━━━━\u001b[0m\u001b[37m\u001b[0m \u001b[1m1s\u001b[0m 29ms/step - accuracy: 0.5051 - loss: 28.6781 - val_accuracy: 0.4837 - val_loss: 23.4782\n",
            "\u001b[1m50/50\u001b[0m \u001b[32m━━━━━━━━━━━━━━━━━━━━\u001b[0m\u001b[37m\u001b[0m \u001b[1m1s\u001b[0m 29ms/step - accuracy: 0.5105 - loss: 21.8975 - val_accuracy: 0.5288 - val_loss: 17.4084\n",
            "\u001b[1m50/50\u001b[0m \u001b[32m━━━━━━━━━━━━━━━━━━━━\u001b[0m\u001b[37m\u001b[0m \u001b[1m1s\u001b[0m 29ms/step - accuracy: 0.5181 - loss: 16.0647 - val_accuracy: 0.4938 - val_loss: 12.2875\n",
            "\u001b[1m50/50\u001b[0m \u001b[32m━━━━━━━━━━━━━━━━━━━━\u001b[0m\u001b[37m\u001b[0m \u001b[1m1s\u001b[0m 29ms/step - accuracy: 0.5078 - loss: 11.1804 - val_accuracy: 0.4913 - val_loss: 8.1146\n",
            "\u001b[1m50/50\u001b[0m \u001b[32m━━━━━━━━━━━━━━━━━━━━\u001b[0m\u001b[37m\u001b[0m \u001b[1m1s\u001b[0m 29ms/step - accuracy: 0.5080 - loss: 7.2430 - val_accuracy: 0.5050 - val_loss: 4.8825\n",
            "\u001b[1m50/50\u001b[0m \u001b[32m━━━━━━━━━━━━━━━━━━━━\u001b[0m\u001b[37m\u001b[0m \u001b[1m1s\u001b[0m 29ms/step - accuracy: 0.4993 - loss: 4.2462 - val_accuracy: 0.4663 - val_loss: 2.5907\n",
            "\u001b[1m50/50\u001b[0m \u001b[32m━━━━━━━━━━━━━━━━━━━━\u001b[0m\u001b[37m\u001b[0m \u001b[1m1s\u001b[0m 29ms/step - accuracy: 0.5091 - loss: 2.1892 - val_accuracy: 0.4787 - val_loss: 1.2411\n",
            "\u001b[1m50/50\u001b[0m \u001b[32m━━━━━━━━━━━━━━━━━━━━\u001b[0m\u001b[37m\u001b[0m \u001b[1m1s\u001b[0m 29ms/step - accuracy: 0.5066 - loss: 1.0726 - val_accuracy: 0.5025 - val_loss: 0.7710\n",
            "\u001b[1m125/125\u001b[0m \u001b[32m━━━━━━━━━━━━━━━━━━━━\u001b[0m\u001b[37m\u001b[0m \u001b[1m1s\u001b[0m 5ms/step - accuracy: 0.4971 - loss: 0.7711\n"
          ]
        },
        {
          "output_type": "stream",
          "name": "stderr",
          "text": [
            "[I 2024-08-04 20:23:00,230] Trial 27 finished with value: 0.5 and parameters: {'num_layers': 5, 'filters_0': 76, 'filters_1': 87, 'filters_2': 96, 'filters_3': 114, 'filters_4': 66, 'kernel_size': 3, 'l1': 0.00416907308130264, 'l2': 0.00039673159205364666, 'dense_units': 217, 'dropout_rate': 0.3131464073569233, 'learning_rate': 0.00013418581956140143}. Best is trial 0 with value: 0.6507499814033508.\n"
          ]
        },
        {
          "output_type": "stream",
          "name": "stdout",
          "text": [
            "Trial 28 started with hyperparameters: num_layers=6, filters=[106, 96, 85, 99, 93, 36], kernel_size=2, l1=0.0007205614464315885, l2=1.017806123650197e-05, dense_units=125, dropout_rate=0.26814687992250474, learning_rate=0.00035590581636867015\n",
            "\u001b[1m50/50\u001b[0m \u001b[32m━━━━━━━━━━━━━━━━━━━━\u001b[0m\u001b[37m\u001b[0m \u001b[1m13s\u001b[0m 97ms/step - accuracy: 0.5232 - loss: 5.3721 - val_accuracy: 0.5175 - val_loss: 4.0915\n",
            "\u001b[1m50/50\u001b[0m \u001b[32m━━━━━━━━━━━━━━━━━━━━\u001b[0m\u001b[37m\u001b[0m \u001b[1m2s\u001b[0m 30ms/step - accuracy: 0.5165 - loss: 3.7168 - val_accuracy: 0.4800 - val_loss: 2.6893\n",
            "\u001b[1m50/50\u001b[0m \u001b[32m━━━━━━━━━━━━━━━━━━━━\u001b[0m\u001b[37m\u001b[0m \u001b[1m2s\u001b[0m 30ms/step - accuracy: 0.5007 - loss: 2.4060 - val_accuracy: 0.4725 - val_loss: 1.6583\n",
            "\u001b[1m50/50\u001b[0m \u001b[32m━━━━━━━━━━━━━━━━━━━━\u001b[0m\u001b[37m\u001b[0m \u001b[1m2s\u001b[0m 30ms/step - accuracy: 0.4957 - loss: 1.4695 - val_accuracy: 0.5063 - val_loss: 1.0080\n",
            "\u001b[1m50/50\u001b[0m \u001b[32m━━━━━━━━━━━━━━━━━━━━\u001b[0m\u001b[37m\u001b[0m \u001b[1m2s\u001b[0m 30ms/step - accuracy: 0.5133 - loss: 0.9161 - val_accuracy: 0.4913 - val_loss: 0.7450\n",
            "\u001b[1m50/50\u001b[0m \u001b[32m━━━━━━━━━━━━━━━━━━━━\u001b[0m\u001b[37m\u001b[0m \u001b[1m2s\u001b[0m 30ms/step - accuracy: 0.5015 - loss: 0.7304 - val_accuracy: 0.5050 - val_loss: 0.7058\n",
            "\u001b[1m50/50\u001b[0m \u001b[32m━━━━━━━━━━━━━━━━━━━━\u001b[0m\u001b[37m\u001b[0m \u001b[1m2s\u001b[0m 30ms/step - accuracy: 0.4846 - loss: 0.7040 - val_accuracy: 0.4663 - val_loss: 0.7006\n",
            "\u001b[1m50/50\u001b[0m \u001b[32m━━━━━━━━━━━━━━━━━━━━\u001b[0m\u001b[37m\u001b[0m \u001b[1m2s\u001b[0m 31ms/step - accuracy: 0.5024 - loss: 0.7000 - val_accuracy: 0.4787 - val_loss: 0.6992\n",
            "\u001b[1m50/50\u001b[0m \u001b[32m━━━━━━━━━━━━━━━━━━━━\u001b[0m\u001b[37m\u001b[0m \u001b[1m2s\u001b[0m 30ms/step - accuracy: 0.5037 - loss: 0.6989 - val_accuracy: 0.5025 - val_loss: 0.6985\n",
            "\u001b[1m125/125\u001b[0m \u001b[32m━━━━━━━━━━━━━━━━━━━━\u001b[0m\u001b[37m\u001b[0m \u001b[1m1s\u001b[0m 5ms/step - accuracy: 0.4971 - loss: 0.6985\n"
          ]
        },
        {
          "output_type": "stream",
          "name": "stderr",
          "text": [
            "[I 2024-08-04 20:37:13,448] Trial 28 finished with value: 0.5 and parameters: {'num_layers': 6, 'filters_0': 106, 'filters_1': 96, 'filters_2': 85, 'filters_3': 99, 'filters_4': 93, 'filters_5': 36, 'kernel_size': 2, 'l1': 0.0007205614464315885, 'l2': 1.017806123650197e-05, 'dense_units': 125, 'dropout_rate': 0.26814687992250474, 'learning_rate': 0.00035590581636867015}. Best is trial 0 with value: 0.6507499814033508.\n"
          ]
        },
        {
          "output_type": "stream",
          "name": "stdout",
          "text": [
            "Trial 29 started with hyperparameters: num_layers=5, filters=[119, 52, 102, 82, 126], kernel_size=3, l1=1.5488173218113703e-05, l2=0.0014269498193011146, dense_units=110, dropout_rate=0.32992348013633777, learning_rate=5.1802745298826076e-05\n",
            "\u001b[1m49/50\u001b[0m \u001b[32m━━━━━━━━━━━━━━━━━━━\u001b[0m\u001b[37m━\u001b[0m \u001b[1m0s\u001b[0m 26ms/step - accuracy: 0.4970 - loss: 1.2846"
          ]
        },
        {
          "output_type": "stream",
          "name": "stderr",
          "text": [
            "[I 2024-08-04 20:38:49,656] Trial 29 pruned. Trial was pruned at epoch 0.\n"
          ]
        },
        {
          "output_type": "stream",
          "name": "stdout",
          "text": [
            "Best trial:\n",
            "Value: 0.6507499814033508\n",
            "Params: \n",
            "    num_layers: 4\n",
            "    filters_0: 88\n",
            "    filters_1: 38\n",
            "    filters_2: 88\n",
            "    filters_3: 106\n",
            "    kernel_size: 3\n",
            "    l1: 1.5022150089120748e-05\n",
            "    l2: 0.0035801025371631446\n",
            "    dense_units: 193\n",
            "    dropout_rate: 0.2866844238417743\n",
            "    learning_rate: 0.00016920857191232494\n",
            "Elapsed time: 13502.07 seconds\n"
          ]
        }
      ]
    },
    {
      "cell_type": "code",
      "source": [],
      "metadata": {
        "id": "vfrLaMAGIB7t"
      },
      "execution_count": null,
      "outputs": []
    },
    {
      "cell_type": "code",
      "source": [
        "\n",
        "\n",
        "# Configure logging to file in the current directory with the specified name\n",
        "logging.basicConfig(filename='Ancient_Scenarios_AW.log', level=logging.INFO,\n",
        "                    format='%(asctime)s:%(levelname)s:%(message)s')\n",
        "\n",
        "# Function to preprocess data\n",
        "def preprocess_data(simulations_folder, batch_number):\n",
        "    # Create ImaFile object for the specified simulation folder and model\n",
        "    file_sim = ImaFile(simulations_folder=os.path.join(simulations_folder, f'Simulations{batch_number}'), nr_samples=198, model_name='Marth-3epoch-CEU')\n",
        "\n",
        "    # Read the simulation data\n",
        "    gene_sim = file_sim.read_simulations(parameter_name='selection_coeff_hetero', max_nrepl=4000)\n",
        "\n",
        "    # Filter simulations based on frequency threshold\n",
        "    gene_sim.filter_freq(0.01)\n",
        "\n",
        "    # Sort simulations by row frequency\n",
        "    gene_sim.sort('rows_freq')\n",
        "\n",
        "    # Resize simulation data to the required dimensions\n",
        "    gene_sim.resize((198, 192))\n",
        "\n",
        "    # Convert simulation data (flip=True allows for data augmentation)\n",
        "    gene_sim.convert(flip=True)\n",
        "\n",
        "    # Get a random subset of indices and subset the simulation data\n",
        "    gene_sim.subset(get_index_random(gene_sim))\n",
        "\n",
        "    # Convert targets to binary format\n",
        "    gene_sim.targets = to_binary(gene_sim.targets)\n",
        "\n",
        "    return gene_sim\n",
        "\n",
        "# Objective function for Optuna optimization\n",
        "def objective(trial, simulations_folder, epochs=1):\n",
        "    # Set random seed\n",
        "    np.random.seed(42)\n",
        "    tf.random.set_seed(42)\n",
        "\n",
        "    # Hyperparameters to be optimized\n",
        "    num_layers = trial.suggest_int('num_layers', 3, 6)  # Limit the number of layers to avoid excessive reduction\n",
        "    filters = [trial.suggest_int(f'filters_{i}', 32, 128) for i in range(num_layers)]  # Adjust filters range\n",
        "    kernel_size = trial.suggest_int('kernel_size', 2, 3)  # Limit the kernel size to avoid excessive reduction\n",
        "    l1 = trial.suggest_float('l1', 1e-6, 1e-2, log=True)\n",
        "    l2 = trial.suggest_float('l2', 1e-6, 1e-2, log=True)\n",
        "    dense_units = trial.suggest_int('dense_units', 64, 256)  # Adjust dense units range\n",
        "    dropout_rate = trial.suggest_float('dropout_rate', 0.1, 0.5)\n",
        "    learning_rate = trial.suggest_float('learning_rate', 1e-5, 1e-3, log=True)\n",
        "\n",
        "    # Log the hyperparameters at the start of each trial\n",
        "    logging.info(f'Trial {trial.number} started with hyperparameters: num_layers={num_layers}, filters={filters}, '\n",
        "                 f'kernel_size={kernel_size}, l1={l1}, l2={l2}, dense_units={dense_units}, '\n",
        "                 f'dropout_rate={dropout_rate}, learning_rate={learning_rate}')\n",
        "    print(f'Trial {trial.number} started with hyperparameters: num_layers={num_layers}, filters={filters}, '\n",
        "          f'kernel_size={kernel_size}, l1={l1}, l2={l2}, dense_units={dense_units}, '\n",
        "          f'dropout_rate={dropout_rate}, learning_rate={learning_rate}')\n",
        "\n",
        "    # Building the model based on sampled hyperparameters\n",
        "    model = models.Sequential()\n",
        "    model.add(layers.Input(shape=(198, 192, 1)))  # Define the input layer\n",
        "    for i in range(num_layers):\n",
        "        model.add(layers.Conv2D(filters=filters[i], kernel_size=(kernel_size, kernel_size), strides=(1, 1), activation='relu',\n",
        "                                kernel_regularizer=regularizers.l1_l2(l1=l1, l2=l2), padding='same'))  # Use 'same' padding to avoid dimension issues\n",
        "        model.add(layers.MaxPooling2D(pool_size=(2, 2)))\n",
        "\n",
        "    model.add(layers.Flatten())  # Flatten the output for the Dense layers\n",
        "    model.add(layers.Dense(units=dense_units, activation='relu'))  # Add Dense layer\n",
        "    model.add(layers.Dropout(rate=dropout_rate))  # Add Dropout layer\n",
        "    model.add(layers.Dense(units=1, activation='sigmoid'))  # Output layer with sigmoid activation\n",
        "\n",
        "    optimizer = tf.keras.optimizers.Adam(learning_rate=learning_rate)  # Define optimizer\n",
        "    model.compile(optimizer=optimizer, loss='binary_crossentropy', metrics=['accuracy'])  # Compile the model\n",
        "\n",
        "    # Pruning callback to terminate unpromising trials\n",
        "    pruning_callback = TFKerasPruningCallback(trial, 'val_loss')\n",
        "\n",
        "    # Early stopping to prevent overfitting\n",
        "    early_stopping = EarlyStopping(monitor='val_loss', patience=3, restore_best_weights=True)\n",
        "\n",
        "    # Incremental training on 9 batches\n",
        "    best_val_loss = np.inf  # Track the best validation loss\n",
        "    for batch_number in range(1, 10):\n",
        "        gene_sim = preprocess_data(simulations_folder, batch_number)  # Preprocess data\n",
        "        history = model.fit(gene_sim.data, gene_sim.targets, batch_size=64, epochs=epochs, verbose=1, validation_split=0.2,\n",
        "                            callbacks=[early_stopping, pruning_callback])  # Train the model with callbacks\n",
        "\n",
        "        # Get the validation loss for the current epoch\n",
        "        val_loss = min(history.history['val_loss'])\n",
        "        if val_loss < best_val_loss:\n",
        "            best_val_loss = val_loss\n",
        "            trial.report(val_loss, batch_number)\n",
        "            if trial.should_prune():\n",
        "                raise optuna.exceptions.TrialPruned()\n",
        "\n",
        "    # Evaluate the model on the 10th batch\n",
        "    gene_sim = preprocess_data(simulations_folder, 10)\n",
        "    evaluation = model.evaluate(gene_sim.data, gene_sim.targets, verbose=1)\n",
        "    return evaluation[1]  # Return the accuracy\n",
        "\n",
        "# Function to run the optimization process\n",
        "def run_optimization():\n",
        "    start_time = time.time()  # Record start time\n",
        "\n",
        "    simulations_folder = '/content/EvoNet-CNN-Insight/model_training/Ancient_weak/AW'  # Folder for this dataset\n",
        "    logging.info(f\"Starting optimization for {simulations_folder}\")\n",
        "    print(f\"Starting optimization for {simulations_folder}\")\n",
        "\n",
        "    # Create an Optuna study and optimize the objective function\n",
        "    study = optuna.create_study(direction='maximize', pruner=optuna.pruners.MedianPruner(), storage='sqlite:///aw_study.db', load_if_exists=True)  # Use SQLite storage\n",
        "    study.optimize(lambda trial: objective(trial, simulations_folder), n_trials=30)  # Set to 30 trials\n",
        "\n",
        "    try:\n",
        "        trial = study.best_trial\n",
        "        print('Best trial:')\n",
        "        print('Value: {}'.format(trial.value))\n",
        "        print('Params: ')\n",
        "        for key, value in trial.params.items():\n",
        "            print('    {}: {}'.format(key, value))  # Print best trial parameters\n",
        "\n",
        "        logging.info('Best trial:')\n",
        "        logging.info('Value: {}'.format(trial.value))\n",
        "        logging.info('Params: ')\n",
        "        for key, value in trial.params.items():\n",
        "            logging.info('    {}: {}'.format(key, value))  # Log best trial parameters\n",
        "\n",
        "    except ValueError as e:\n",
        "        logging.error(f\"No completed trials: {e}\")  # Log error if no trials are completed\n",
        "\n",
        "    elapsed_time = time.time() - start_time  # Calculate elapsed time\n",
        "    print(f\"Elapsed time: {elapsed_time:.2f} seconds\")\n",
        "    logging.info(f\"Elapsed time: {elapsed_time:.2f} seconds\")  # Log elapsed time\n",
        "\n",
        "# Run the optimization process\n",
        "if __name__ == '__main__':\n",
        "    run_optimization()  # Execute the optimization function\n"
      ],
      "metadata": {
        "id": "pljwmA8cICq1",
        "outputId": "1fcb301b-a531-444b-f301-1779710218aa",
        "colab": {
          "base_uri": "https://localhost:8080/"
        }
      },
      "execution_count": null,
      "outputs": [
        {
          "output_type": "stream",
          "name": "stdout",
          "text": [
            "Starting optimization for /content/EvoNet-CNN-Insight/model_training/Ancient_weak/AW\n"
          ]
        },
        {
          "output_type": "stream",
          "name": "stderr",
          "text": [
            "[I 2024-08-04 20:43:01,424] A new study created in RDB with name: no-name-e83c06ce-ce7b-44ee-a988-e1ccf1a89758\n"
          ]
        },
        {
          "output_type": "stream",
          "name": "stdout",
          "text": [
            "Trial 0 started with hyperparameters: num_layers=3, filters=[32, 112, 80], kernel_size=2, l1=5.6564905040331065e-06, l2=0.0006596203709234314, dense_units=91, dropout_rate=0.22209327106425047, learning_rate=2.7822404420087316e-05\n",
            "\u001b[1m50/50\u001b[0m \u001b[32m━━━━━━━━━━━━━━━━━━━━\u001b[0m\u001b[37m\u001b[0m \u001b[1m8s\u001b[0m 62ms/step - accuracy: 0.5095 - loss: 0.8014 - val_accuracy: 0.5387 - val_loss: 0.7875\n",
            "\u001b[1m50/50\u001b[0m \u001b[32m━━━━━━━━━━━━━━━━━━━━\u001b[0m\u001b[37m\u001b[0m \u001b[1m1s\u001b[0m 19ms/step - accuracy: 0.6045 - loss: 0.7792 - val_accuracy: 0.6975 - val_loss: 0.7487\n",
            "\u001b[1m50/50\u001b[0m \u001b[32m━━━━━━━━━━━━━━━━━━━━\u001b[0m\u001b[37m\u001b[0m \u001b[1m1s\u001b[0m 19ms/step - accuracy: 0.6771 - loss: 0.7451 - val_accuracy: 0.6950 - val_loss: 0.7143\n",
            "\u001b[1m50/50\u001b[0m \u001b[32m━━━━━━━━━━━━━━━━━━━━\u001b[0m\u001b[37m\u001b[0m \u001b[1m1s\u001b[0m 19ms/step - accuracy: 0.6721 - loss: 0.7183 - val_accuracy: 0.7337 - val_loss: 0.6788\n",
            "\u001b[1m50/50\u001b[0m \u001b[32m━━━━━━━━━━━━━━━━━━━━\u001b[0m\u001b[37m\u001b[0m \u001b[1m1s\u001b[0m 19ms/step - accuracy: 0.6924 - loss: 0.6908 - val_accuracy: 0.7237 - val_loss: 0.6620\n",
            "\u001b[1m50/50\u001b[0m \u001b[32m━━━━━━━━━━━━━━━━━━━━\u001b[0m\u001b[37m\u001b[0m \u001b[1m1s\u001b[0m 19ms/step - accuracy: 0.7284 - loss: 0.6612 - val_accuracy: 0.7275 - val_loss: 0.6671\n",
            "\u001b[1m50/50\u001b[0m \u001b[32m━━━━━━━━━━━━━━━━━━━━\u001b[0m\u001b[37m\u001b[0m \u001b[1m1s\u001b[0m 20ms/step - accuracy: 0.7081 - loss: 0.6627 - val_accuracy: 0.7212 - val_loss: 0.6459\n",
            "\u001b[1m50/50\u001b[0m \u001b[32m━━━━━━━━━━━━━━━━━━━━\u001b[0m\u001b[37m\u001b[0m \u001b[1m1s\u001b[0m 19ms/step - accuracy: 0.6901 - loss: 0.6623 - val_accuracy: 0.7300 - val_loss: 0.6371\n",
            "\u001b[1m50/50\u001b[0m \u001b[32m━━━━━━━━━━━━━━━━━━━━\u001b[0m\u001b[37m\u001b[0m \u001b[1m1s\u001b[0m 19ms/step - accuracy: 0.7207 - loss: 0.6494 - val_accuracy: 0.7188 - val_loss: 0.6582\n",
            "\u001b[1m125/125\u001b[0m \u001b[32m━━━━━━━━━━━━━━━━━━━━\u001b[0m\u001b[37m\u001b[0m \u001b[1m0s\u001b[0m 3ms/step - accuracy: 0.7565 - loss: 0.6344\n"
          ]
        },
        {
          "output_type": "stream",
          "name": "stderr",
          "text": [
            "[I 2024-08-04 20:56:54,247] Trial 0 finished with value: 0.7494999766349792 and parameters: {'num_layers': 3, 'filters_0': 32, 'filters_1': 112, 'filters_2': 80, 'kernel_size': 2, 'l1': 5.6564905040331065e-06, 'l2': 0.0006596203709234314, 'dense_units': 91, 'dropout_rate': 0.22209327106425047, 'learning_rate': 2.7822404420087316e-05}. Best is trial 0 with value: 0.7494999766349792.\n"
          ]
        },
        {
          "output_type": "stream",
          "name": "stdout",
          "text": [
            "Trial 1 started with hyperparameters: num_layers=3, filters=[77, 37, 98], kernel_size=2, l1=1.372647917189269e-06, l2=0.0047751555805138944, dense_units=172, dropout_rate=0.1236472638677225, learning_rate=1.0186907345142566e-05\n",
            "\u001b[1m50/50\u001b[0m \u001b[32m━━━━━━━━━━━━━━━━━━━━\u001b[0m\u001b[37m\u001b[0m \u001b[1m8s\u001b[0m 62ms/step - accuracy: 0.5103 - loss: 1.1950 - val_accuracy: 0.4825 - val_loss: 1.1860\n",
            "\u001b[1m50/50\u001b[0m \u001b[32m━━━━━━━━━━━━━━━━━━━━\u001b[0m\u001b[37m\u001b[0m \u001b[1m1s\u001b[0m 25ms/step - accuracy: 0.5583 - loss: 1.1791 - val_accuracy: 0.7387 - val_loss: 1.1625\n",
            "\u001b[1m50/50\u001b[0m \u001b[32m━━━━━━━━━━━━━━━━━━━━\u001b[0m\u001b[37m\u001b[0m \u001b[1m1s\u001b[0m 25ms/step - accuracy: 0.6769 - loss: 1.1558 - val_accuracy: 0.5888 - val_loss: 1.1503\n",
            "\u001b[1m50/50\u001b[0m \u001b[32m━━━━━━━━━━━━━━━━━━━━\u001b[0m\u001b[37m\u001b[0m \u001b[1m1s\u001b[0m 25ms/step - accuracy: 0.6569 - loss: 1.1375 - val_accuracy: 0.7400 - val_loss: 1.1081\n",
            "\u001b[1m50/50\u001b[0m \u001b[32m━━━━━━━━━━━━━━━━━━━━\u001b[0m\u001b[37m\u001b[0m \u001b[1m1s\u001b[0m 25ms/step - accuracy: 0.7037 - loss: 1.1104 - val_accuracy: 0.7375 - val_loss: 1.0846\n",
            "\u001b[1m50/50\u001b[0m \u001b[32m━━━━━━━━━━━━━━━━━━━━\u001b[0m\u001b[37m\u001b[0m \u001b[1m1s\u001b[0m 25ms/step - accuracy: 0.7334 - loss: 1.0798 - val_accuracy: 0.7325 - val_loss: 1.0702\n",
            "\u001b[1m50/50\u001b[0m \u001b[32m━━━━━━━━━━━━━━━━━━━━\u001b[0m\u001b[37m\u001b[0m \u001b[1m1s\u001b[0m 24ms/step - accuracy: 0.7172 - loss: 1.0651 - val_accuracy: 0.6212 - val_loss: 1.0722\n",
            "\u001b[1m50/50\u001b[0m \u001b[32m━━━━━━━━━━━━━━━━━━━━\u001b[0m\u001b[37m\u001b[0m \u001b[1m1s\u001b[0m 25ms/step - accuracy: 0.6788 - loss: 1.0592 - val_accuracy: 0.7038 - val_loss: 1.0418\n",
            "\u001b[1m50/50\u001b[0m \u001b[32m━━━━━━━━━━━━━━━━━━━━\u001b[0m\u001b[37m\u001b[0m \u001b[1m1s\u001b[0m 24ms/step - accuracy: 0.7345 - loss: 1.0335 - val_accuracy: 0.7000 - val_loss: 1.0540\n",
            "\u001b[1m125/125\u001b[0m \u001b[32m━━━━━━━━━━━━━━━━━━━━\u001b[0m\u001b[37m\u001b[0m \u001b[1m1s\u001b[0m 4ms/step - accuracy: 0.7519 - loss: 1.0325\n"
          ]
        },
        {
          "output_type": "stream",
          "name": "stderr",
          "text": [
            "[I 2024-08-04 21:10:49,603] Trial 1 finished with value: 0.7440000176429749 and parameters: {'num_layers': 3, 'filters_0': 77, 'filters_1': 37, 'filters_2': 98, 'kernel_size': 2, 'l1': 1.372647917189269e-06, 'l2': 0.0047751555805138944, 'dense_units': 172, 'dropout_rate': 0.1236472638677225, 'learning_rate': 1.0186907345142566e-05}. Best is trial 0 with value: 0.7494999766349792.\n"
          ]
        },
        {
          "output_type": "stream",
          "name": "stdout",
          "text": [
            "Trial 2 started with hyperparameters: num_layers=3, filters=[79, 79, 125], kernel_size=2, l1=1.4238915610455433e-06, l2=0.0011892049877332892, dense_units=227, dropout_rate=0.2605345852243278, learning_rate=2.5834311151381096e-05\n",
            "\u001b[1m50/50\u001b[0m \u001b[32m━━━━━━━━━━━━━━━━━━━━\u001b[0m\u001b[37m\u001b[0m \u001b[1m9s\u001b[0m 76ms/step - accuracy: 0.5117 - loss: 0.9098 - val_accuracy: 0.6825 - val_loss: 0.8913\n",
            "\u001b[1m50/50\u001b[0m \u001b[32m━━━━━━━━━━━━━━━━━━━━\u001b[0m\u001b[37m\u001b[0m \u001b[1m1s\u001b[0m 29ms/step - accuracy: 0.5565 - loss: 0.8887 - val_accuracy: 0.7425 - val_loss: 0.8630\n",
            "\u001b[1m50/50\u001b[0m \u001b[32m━━━━━━━━━━━━━━━━━━━━\u001b[0m\u001b[37m\u001b[0m \u001b[1m1s\u001b[0m 29ms/step - accuracy: 0.6644 - loss: 0.8560 - val_accuracy: 0.7200 - val_loss: 0.8189\n",
            "\u001b[1m50/50\u001b[0m \u001b[32m━━━━━━━━━━━━━━━━━━━━\u001b[0m\u001b[37m\u001b[0m \u001b[1m1s\u001b[0m 29ms/step - accuracy: 0.6757 - loss: 0.8179 - val_accuracy: 0.6963 - val_loss: 0.7817\n",
            "\u001b[1m50/50\u001b[0m \u001b[32m━━━━━━━━━━━━━━━━━━━━\u001b[0m\u001b[37m\u001b[0m \u001b[1m1s\u001b[0m 29ms/step - accuracy: 0.7034 - loss: 0.7875 - val_accuracy: 0.7287 - val_loss: 0.7521\n",
            "\u001b[1m50/50\u001b[0m \u001b[32m━━━━━━━━━━━━━━━━━━━━\u001b[0m\u001b[37m\u001b[0m \u001b[1m1s\u001b[0m 28ms/step - accuracy: 0.7314 - loss: 0.7510 - val_accuracy: 0.7300 - val_loss: 0.7528\n",
            "\u001b[1m50/50\u001b[0m \u001b[32m━━━━━━━━━━━━━━━━━━━━\u001b[0m\u001b[37m\u001b[0m \u001b[1m1s\u001b[0m 29ms/step - accuracy: 0.7193 - loss: 0.7479 - val_accuracy: 0.6913 - val_loss: 0.7323\n",
            "\u001b[1m50/50\u001b[0m \u001b[32m━━━━━━━━━━━━━━━━━━━━\u001b[0m\u001b[37m\u001b[0m \u001b[1m1s\u001b[0m 29ms/step - accuracy: 0.6915 - loss: 0.7481 - val_accuracy: 0.7500 - val_loss: 0.7172\n",
            "\u001b[1m50/50\u001b[0m \u001b[32m━━━━━━━━━━━━━━━━━━━━\u001b[0m\u001b[37m\u001b[0m \u001b[1m1s\u001b[0m 28ms/step - accuracy: 0.7352 - loss: 0.7271 - val_accuracy: 0.7300 - val_loss: 0.7288\n",
            "\u001b[1m125/125\u001b[0m \u001b[32m━━━━━━━━━━━━━━━━━━━━\u001b[0m\u001b[37m\u001b[0m \u001b[1m1s\u001b[0m 5ms/step - accuracy: 0.7546 - loss: 0.7063\n"
          ]
        },
        {
          "output_type": "stream",
          "name": "stderr",
          "text": [
            "[I 2024-08-04 21:24:49,147] Trial 2 finished with value: 0.7509999871253967 and parameters: {'num_layers': 3, 'filters_0': 79, 'filters_1': 79, 'filters_2': 125, 'kernel_size': 2, 'l1': 1.4238915610455433e-06, 'l2': 0.0011892049877332892, 'dense_units': 227, 'dropout_rate': 0.2605345852243278, 'learning_rate': 2.5834311151381096e-05}. Best is trial 2 with value: 0.7509999871253967.\n"
          ]
        },
        {
          "output_type": "stream",
          "name": "stdout",
          "text": [
            "Trial 3 started with hyperparameters: num_layers=6, filters=[33, 38, 109, 93, 101, 101], kernel_size=2, l1=0.00038774904195475266, l2=0.0006237706192384797, dense_units=105, dropout_rate=0.39104611988171223, learning_rate=0.000310471523491917\n",
            "\u001b[1m50/50\u001b[0m \u001b[32m━━━━━━━━━━━━━━━━━━━━\u001b[0m\u001b[37m\u001b[0m \u001b[1m12s\u001b[0m 77ms/step - accuracy: 0.5048 - loss: 3.2069 - val_accuracy: 0.5288 - val_loss: 2.6157\n",
            "\u001b[1m50/50\u001b[0m \u001b[32m━━━━━━━━━━━━━━━━━━━━\u001b[0m\u001b[37m\u001b[0m \u001b[1m1s\u001b[0m 19ms/step - accuracy: 0.6249 - loss: 2.4346 - val_accuracy: 0.7163 - val_loss: 1.9216\n",
            "\u001b[1m50/50\u001b[0m \u001b[32m━━━━━━━━━━━━━━━━━━━━\u001b[0m\u001b[37m\u001b[0m \u001b[1m1s\u001b[0m 19ms/step - accuracy: 0.7062 - loss: 1.8166 - val_accuracy: 0.7088 - val_loss: 1.5136\n",
            "\u001b[1m50/50\u001b[0m \u001b[32m━━━━━━━━━━━━━━━━━━━━\u001b[0m\u001b[37m\u001b[0m \u001b[1m1s\u001b[0m 20ms/step - accuracy: 0.7106 - loss: 1.4507 - val_accuracy: 0.7513 - val_loss: 1.2216\n",
            "\u001b[1m50/50\u001b[0m \u001b[32m━━━━━━━━━━━━━━━━━━━━\u001b[0m\u001b[37m\u001b[0m \u001b[1m1s\u001b[0m 19ms/step - accuracy: 0.7175 - loss: 1.2019 - val_accuracy: 0.7400 - val_loss: 1.0499\n",
            "\u001b[1m50/50\u001b[0m \u001b[32m━━━━━━━━━━━━━━━━━━━━\u001b[0m\u001b[37m\u001b[0m \u001b[1m1s\u001b[0m 19ms/step - accuracy: 0.7367 - loss: 1.0261 - val_accuracy: 0.6925 - val_loss: 1.0320\n",
            "\u001b[1m50/50\u001b[0m \u001b[32m━━━━━━━━━━━━━━━━━━━━\u001b[0m\u001b[37m\u001b[0m \u001b[1m1s\u001b[0m 19ms/step - accuracy: 0.7213 - loss: 0.9765 - val_accuracy: 0.7538 - val_loss: 0.9189\n",
            "\u001b[1m50/50\u001b[0m \u001b[32m━━━━━━━━━━━━━━━━━━━━\u001b[0m\u001b[37m\u001b[0m \u001b[1m1s\u001b[0m 19ms/step - accuracy: 0.6929 - loss: 0.9564 - val_accuracy: 0.7325 - val_loss: 0.9118\n",
            "\u001b[1m50/50\u001b[0m \u001b[32m━━━━━━━━━━━━━━━━━━━━\u001b[0m\u001b[37m\u001b[0m \u001b[1m1s\u001b[0m 20ms/step - accuracy: 0.7207 - loss: 0.9048 - val_accuracy: 0.7125 - val_loss: 0.8909\n",
            "\u001b[1m125/125\u001b[0m \u001b[32m━━━━━━━━━━━━━━━━━━━━\u001b[0m\u001b[37m\u001b[0m \u001b[1m1s\u001b[0m 4ms/step - accuracy: 0.7453 - loss: 0.8621\n"
          ]
        },
        {
          "output_type": "stream",
          "name": "stderr",
          "text": [
            "[I 2024-08-04 21:38:54,524] Trial 3 finished with value: 0.7404999732971191 and parameters: {'num_layers': 6, 'filters_0': 33, 'filters_1': 38, 'filters_2': 109, 'filters_3': 93, 'filters_4': 101, 'filters_5': 101, 'kernel_size': 2, 'l1': 0.00038774904195475266, 'l2': 0.0006237706192384797, 'dense_units': 105, 'dropout_rate': 0.39104611988171223, 'learning_rate': 0.000310471523491917}. Best is trial 2 with value: 0.7509999871253967.\n"
          ]
        },
        {
          "output_type": "stream",
          "name": "stdout",
          "text": [
            "Trial 4 started with hyperparameters: num_layers=4, filters=[47, 93, 49, 79], kernel_size=3, l1=1.2768768751592014e-06, l2=9.604232302132508e-06, dense_units=80, dropout_rate=0.26553158133657734, learning_rate=1.1214926892821376e-05\n",
            "\u001b[1m50/50\u001b[0m \u001b[32m━━━━━━━━━━━━━━━━━━━━\u001b[0m\u001b[37m\u001b[0m \u001b[1m10s\u001b[0m 79ms/step - accuracy: 0.5038 - loss: 0.7005 - val_accuracy: 0.6162 - val_loss: 0.6946\n",
            "\u001b[1m50/50\u001b[0m \u001b[32m━━━━━━━━━━━━━━━━━━━━\u001b[0m\u001b[37m\u001b[0m \u001b[1m1s\u001b[0m 24ms/step - accuracy: 0.5907 - loss: 0.6934 - val_accuracy: 0.6775 - val_loss: 0.6857\n",
            "\u001b[1m50/50\u001b[0m \u001b[32m━━━━━━━━━━━━━━━━━━━━\u001b[0m\u001b[37m\u001b[0m \u001b[1m1s\u001b[0m 24ms/step - accuracy: 0.6520 - loss: 0.6832 - val_accuracy: 0.6475 - val_loss: 0.6728\n",
            "\u001b[1m50/50\u001b[0m \u001b[32m━━━━━━━━━━━━━━━━━━━━\u001b[0m\u001b[37m\u001b[0m \u001b[1m1s\u001b[0m 24ms/step - accuracy: 0.6643 - loss: 0.6662 - val_accuracy: 0.7250 - val_loss: 0.6447\n",
            "\u001b[1m50/50\u001b[0m \u001b[32m━━━━━━━━━━━━━━━━━━━━\u001b[0m\u001b[37m\u001b[0m \u001b[1m1s\u001b[0m 24ms/step - accuracy: 0.6703 - loss: 0.6449 - val_accuracy: 0.7100 - val_loss: 0.6175\n",
            "\u001b[1m50/50\u001b[0m \u001b[32m━━━━━━━━━━━━━━━━━━━━\u001b[0m\u001b[37m\u001b[0m \u001b[1m1s\u001b[0m 24ms/step - accuracy: 0.7104 - loss: 0.6075 - val_accuracy: 0.7050 - val_loss: 0.6041\n",
            "\u001b[1m50/50\u001b[0m \u001b[32m━━━━━━━━━━━━━━━━━━━━\u001b[0m\u001b[37m\u001b[0m \u001b[1m1s\u001b[0m 24ms/step - accuracy: 0.6982 - loss: 0.5956 - val_accuracy: 0.6363 - val_loss: 0.6019\n",
            "\u001b[1m50/50\u001b[0m \u001b[32m━━━━━━━━━━━━━━━━━━━━\u001b[0m\u001b[37m\u001b[0m \u001b[1m1s\u001b[0m 24ms/step - accuracy: 0.6635 - loss: 0.6025 - val_accuracy: 0.6725 - val_loss: 0.5855\n",
            "\u001b[1m50/50\u001b[0m \u001b[32m━━━━━━━━━━━━━━━━━━━━\u001b[0m\u001b[37m\u001b[0m \u001b[1m1s\u001b[0m 24ms/step - accuracy: 0.7060 - loss: 0.5730 - val_accuracy: 0.6950 - val_loss: 0.5902\n",
            "\u001b[1m125/125\u001b[0m \u001b[32m━━━━━━━━━━━━━━━━━━━━\u001b[0m\u001b[37m\u001b[0m \u001b[1m1s\u001b[0m 4ms/step - accuracy: 0.7346 - loss: 0.5661\n"
          ]
        },
        {
          "output_type": "stream",
          "name": "stderr",
          "text": [
            "[I 2024-08-04 21:52:57,553] Trial 4 finished with value: 0.7245000004768372 and parameters: {'num_layers': 4, 'filters_0': 47, 'filters_1': 93, 'filters_2': 49, 'filters_3': 79, 'kernel_size': 3, 'l1': 1.2768768751592014e-06, 'l2': 9.604232302132508e-06, 'dense_units': 80, 'dropout_rate': 0.26553158133657734, 'learning_rate': 1.1214926892821376e-05}. Best is trial 2 with value: 0.7509999871253967.\n"
          ]
        },
        {
          "output_type": "stream",
          "name": "stdout",
          "text": [
            "Trial 5 started with hyperparameters: num_layers=5, filters=[64, 100, 76, 74, 55], kernel_size=2, l1=4.7021998031313704e-06, l2=0.005847866115271297, dense_units=159, dropout_rate=0.26717349703824117, learning_rate=2.5647740371392422e-05\n",
            "\u001b[1m50/50\u001b[0m \u001b[32m━━━━━━━━━━━━━━━━━━━━\u001b[0m\u001b[37m\u001b[0m \u001b[1m10s\u001b[0m 74ms/step - accuracy: 0.5138 - loss: 2.4715 - val_accuracy: 0.5475 - val_loss: 2.4223\n",
            "\u001b[1m50/50\u001b[0m \u001b[32m━━━━━━━━━━━━━━━━━━━━\u001b[0m\u001b[37m\u001b[0m \u001b[1m1s\u001b[0m 23ms/step - accuracy: 0.5438 - loss: 2.4072 - val_accuracy: 0.5725 - val_loss: 2.3592\n",
            "\u001b[1m50/50\u001b[0m \u001b[32m━━━━━━━━━━━━━━━━━━━━\u001b[0m\u001b[37m\u001b[0m \u001b[1m1s\u001b[0m 23ms/step - accuracy: 0.5729 - loss: 2.3441 - val_accuracy: 0.6525 - val_loss: 2.2991\n",
            "\u001b[1m50/50\u001b[0m \u001b[32m━━━━━━━━━━━━━━━━━━━━\u001b[0m\u001b[37m\u001b[0m \u001b[1m1s\u001b[0m 23ms/step - accuracy: 0.6138 - loss: 2.2840 - val_accuracy: 0.7462 - val_loss: 2.2368\n",
            "\u001b[1m50/50\u001b[0m \u001b[32m━━━━━━━━━━━━━━━━━━━━\u001b[0m\u001b[37m\u001b[0m \u001b[1m1s\u001b[0m 23ms/step - accuracy: 0.6781 - loss: 2.2240 - val_accuracy: 0.7362 - val_loss: 2.1737\n",
            "\u001b[1m50/50\u001b[0m \u001b[32m━━━━━━━━━━━━━━━━━━━━\u001b[0m\u001b[37m\u001b[0m \u001b[1m1s\u001b[0m 23ms/step - accuracy: 0.6929 - loss: 2.1580 - val_accuracy: 0.6850 - val_loss: 2.1140\n",
            "\u001b[1m50/50\u001b[0m \u001b[32m━━━━━━━━━━━━━━━━━━━━\u001b[0m\u001b[37m\u001b[0m \u001b[1m1s\u001b[0m 23ms/step - accuracy: 0.6718 - loss: 2.0947 - val_accuracy: 0.5138 - val_loss: 2.0710\n",
            "\u001b[1m50/50\u001b[0m \u001b[32m━━━━━━━━━━━━━━━━━━━━\u001b[0m\u001b[37m\u001b[0m \u001b[1m1s\u001b[0m 23ms/step - accuracy: 0.6242 - loss: 2.0436 - val_accuracy: 0.7163 - val_loss: 1.9842\n",
            "\u001b[1m50/50\u001b[0m \u001b[32m━━━━━━━━━━━━━━━━━━━━\u001b[0m\u001b[37m\u001b[0m \u001b[1m1s\u001b[0m 23ms/step - accuracy: 0.7137 - loss: 1.9734 - val_accuracy: 0.6888 - val_loss: 1.9515\n",
            "\u001b[1m125/125\u001b[0m \u001b[32m━━━━━━━━━━━━━━━━━━━━\u001b[0m\u001b[37m\u001b[0m \u001b[1m1s\u001b[0m 4ms/step - accuracy: 0.7301 - loss: 1.9328\n"
          ]
        },
        {
          "output_type": "stream",
          "name": "stderr",
          "text": [
            "[I 2024-08-04 22:06:59,462] Trial 5 finished with value: 0.721750020980835 and parameters: {'num_layers': 5, 'filters_0': 64, 'filters_1': 100, 'filters_2': 76, 'filters_3': 74, 'filters_4': 55, 'kernel_size': 2, 'l1': 4.7021998031313704e-06, 'l2': 0.005847866115271297, 'dense_units': 159, 'dropout_rate': 0.26717349703824117, 'learning_rate': 2.5647740371392422e-05}. Best is trial 2 with value: 0.7509999871253967.\n"
          ]
        },
        {
          "output_type": "stream",
          "name": "stdout",
          "text": [
            "Trial 6 started with hyperparameters: num_layers=6, filters=[66, 91, 91, 54, 45, 49], kernel_size=2, l1=0.005885485010007552, l2=1.2368614978249004e-06, dense_units=247, dropout_rate=0.3548034110646663, learning_rate=8.480036970285573e-05\n",
            "\u001b[1m50/50\u001b[0m \u001b[32m━━━━━━━━━━━━━━━━━━━━\u001b[0m\u001b[37m\u001b[0m \u001b[1m12s\u001b[0m 90ms/step - accuracy: 0.4918 - loss: 28.7152 - val_accuracy: 0.5175 - val_loss: 26.9722\n",
            "\u001b[1m50/50\u001b[0m \u001b[32m━━━━━━━━━━━━━━━━━━━━\u001b[0m\u001b[37m\u001b[0m \u001b[1m1s\u001b[0m 27ms/step - accuracy: 0.5076 - loss: 26.4090 - val_accuracy: 0.5750 - val_loss: 24.7407\n",
            "\u001b[1m50/50\u001b[0m \u001b[32m━━━━━━━━━━━━━━━━━━━━\u001b[0m\u001b[37m\u001b[0m \u001b[1m1s\u001b[0m 27ms/step - accuracy: 0.5420 - loss: 24.2016 - val_accuracy: 0.5537 - val_loss: 22.6094\n",
            "\u001b[1m50/50\u001b[0m \u001b[32m━━━━━━━━━━━━━━━━━━━━\u001b[0m\u001b[37m\u001b[0m \u001b[1m1s\u001b[0m 27ms/step - accuracy: 0.5573 - loss: 22.0947 - val_accuracy: 0.6438 - val_loss: 20.5760\n",
            "\u001b[1m50/50\u001b[0m \u001b[32m━━━━━━━━━━━━━━━━━━━━\u001b[0m\u001b[37m\u001b[0m \u001b[1m1s\u001b[0m 27ms/step - accuracy: 0.5941 - loss: 20.0862 - val_accuracy: 0.6837 - val_loss: 18.6419\n",
            "\u001b[1m50/50\u001b[0m \u001b[32m━━━━━━━━━━━━━━━━━━━━\u001b[0m\u001b[37m\u001b[0m \u001b[1m1s\u001b[0m 27ms/step - accuracy: 0.5950 - loss: 18.1770 - val_accuracy: 0.6425 - val_loss: 16.8085\n",
            "\u001b[1m50/50\u001b[0m \u001b[32m━━━━━━━━━━━━━━━━━━━━\u001b[0m\u001b[37m\u001b[0m \u001b[1m1s\u001b[0m 27ms/step - accuracy: 0.5932 - loss: 16.3682 - val_accuracy: 0.4950 - val_loss: 15.0739\n",
            "\u001b[1m50/50\u001b[0m \u001b[32m━━━━━━━━━━━━━━━━━━━━\u001b[0m\u001b[37m\u001b[0m \u001b[1m1s\u001b[0m 27ms/step - accuracy: 0.5321 - loss: 14.6586 - val_accuracy: 0.4787 - val_loss: 13.4389\n",
            "\u001b[1m50/50\u001b[0m \u001b[32m━━━━━━━━━━━━━━━━━━━━\u001b[0m\u001b[37m\u001b[0m \u001b[1m1s\u001b[0m 27ms/step - accuracy: 0.5137 - loss: 13.0484 - val_accuracy: 0.5025 - val_loss: 11.9044\n",
            "\u001b[1m125/125\u001b[0m \u001b[32m━━━━━━━━━━━━━━━━━━━━\u001b[0m\u001b[37m\u001b[0m \u001b[1m1s\u001b[0m 5ms/step - accuracy: 0.4971 - loss: 11.9043\n"
          ]
        },
        {
          "output_type": "stream",
          "name": "stderr",
          "text": [
            "[I 2024-08-04 22:21:04,510] Trial 6 finished with value: 0.5 and parameters: {'num_layers': 6, 'filters_0': 66, 'filters_1': 91, 'filters_2': 91, 'filters_3': 54, 'filters_4': 45, 'filters_5': 49, 'kernel_size': 2, 'l1': 0.005885485010007552, 'l2': 1.2368614978249004e-06, 'dense_units': 247, 'dropout_rate': 0.3548034110646663, 'learning_rate': 8.480036970285573e-05}. Best is trial 2 with value: 0.7509999871253967.\n"
          ]
        },
        {
          "output_type": "stream",
          "name": "stdout",
          "text": [
            "Trial 7 started with hyperparameters: num_layers=5, filters=[104, 33, 123, 128, 39], kernel_size=2, l1=2.9071198028236248e-05, l2=0.002187047619800581, dense_units=155, dropout_rate=0.19035707741227714, learning_rate=0.00034288667657427516\n",
            "\u001b[1m48/50\u001b[0m \u001b[32m━━━━━━━━━━━━━━━━━━━\u001b[0m\u001b[37m━\u001b[0m \u001b[1m0s\u001b[0m 22ms/step - accuracy: 0.5098 - loss: 1.3852"
          ]
        },
        {
          "output_type": "stream",
          "name": "stderr",
          "text": [
            "[I 2024-08-04 22:22:37,286] Trial 7 pruned. Trial was pruned at epoch 0.\n"
          ]
        },
        {
          "output_type": "stream",
          "name": "stdout",
          "text": [
            "Trial 8 started with hyperparameters: num_layers=6, filters=[89, 96, 53, 63, 41, 67], kernel_size=3, l1=1.743786384843828e-06, l2=8.427905520864181e-05, dense_units=195, dropout_rate=0.2846863251383474, learning_rate=0.0005334940923780643\n",
            "\u001b[1m50/50\u001b[0m \u001b[32m━━━━━━━━━━━━━━━━━━━━\u001b[0m\u001b[37m\u001b[0m \u001b[1m0s\u001b[0m 23ms/step - accuracy: 0.4977 - loss: 0.7308"
          ]
        },
        {
          "output_type": "stream",
          "name": "stderr",
          "text": [
            "[I 2024-08-04 22:24:13,998] Trial 8 pruned. Trial was pruned at epoch 0.\n"
          ]
        },
        {
          "output_type": "stream",
          "name": "stdout",
          "text": [
            "Trial 9 started with hyperparameters: num_layers=4, filters=[39, 57, 48, 80], kernel_size=2, l1=0.0026103694152217966, l2=9.983840514985239e-05, dense_units=128, dropout_rate=0.1530353337511684, learning_rate=1.9369894474490272e-05\n",
            "\u001b[1m50/50\u001b[0m \u001b[32m━━━━━━━━━━━━━━━━━━━━\u001b[0m\u001b[37m\u001b[0m \u001b[1m9s\u001b[0m 65ms/step - accuracy: 0.5063 - loss: 6.0601 - val_accuracy: 0.5238 - val_loss: 5.9899\n",
            "\u001b[1m50/50\u001b[0m \u001b[32m━━━━━━━━━━━━━━━━━━━━\u001b[0m\u001b[37m\u001b[0m \u001b[1m1s\u001b[0m 19ms/step - accuracy: 0.5550 - loss: 5.9694 - val_accuracy: 0.6637 - val_loss: 5.8995\n",
            "\u001b[1m50/50\u001b[0m \u001b[32m━━━━━━━━━━━━━━━━━━━━\u001b[0m\u001b[37m\u001b[0m \u001b[1m1s\u001b[0m 19ms/step - accuracy: 0.6267 - loss: 5.8777 - val_accuracy: 0.6313 - val_loss: 5.8101\n",
            "\u001b[1m50/50\u001b[0m \u001b[32m━━━━━━━━━━━━━━━━━━━━\u001b[0m\u001b[37m\u001b[0m \u001b[1m1s\u001b[0m 19ms/step - accuracy: 0.6486 - loss: 5.7868 - val_accuracy: 0.7500 - val_loss: 5.7139\n",
            "\u001b[1m50/50\u001b[0m \u001b[32m━━━━━━━━━━━━━━━━━━━━\u001b[0m\u001b[37m\u001b[0m \u001b[1m1s\u001b[0m 19ms/step - accuracy: 0.6965 - loss: 5.6958 - val_accuracy: 0.7325 - val_loss: 5.6209\n",
            "\u001b[1m50/50\u001b[0m \u001b[32m━━━━━━━━━━━━━━━━━━━━\u001b[0m\u001b[37m\u001b[0m \u001b[1m1s\u001b[0m 19ms/step - accuracy: 0.7140 - loss: 5.5993 - val_accuracy: 0.7175 - val_loss: 5.5379\n",
            "\u001b[1m50/50\u001b[0m \u001b[32m━━━━━━━━━━━━━━━━━━━━\u001b[0m\u001b[37m\u001b[0m \u001b[1m1s\u001b[0m 19ms/step - accuracy: 0.7053 - loss: 5.5130 - val_accuracy: 0.6400 - val_loss: 5.4586\n",
            "\u001b[1m50/50\u001b[0m \u001b[32m━━━━━━━━━━━━━━━━━━━━\u001b[0m\u001b[37m\u001b[0m \u001b[1m1s\u001b[0m 19ms/step - accuracy: 0.6448 - loss: 5.4453 - val_accuracy: 0.6500 - val_loss: 5.3817\n",
            "\u001b[1m50/50\u001b[0m \u001b[32m━━━━━━━━━━━━━━━━━━━━\u001b[0m\u001b[37m\u001b[0m \u001b[1m1s\u001b[0m 19ms/step - accuracy: 0.7067 - loss: 5.3548 - val_accuracy: 0.6950 - val_loss: 5.3137\n",
            "\u001b[1m125/125\u001b[0m \u001b[32m━━━━━━━━━━━━━━━━━━━━\u001b[0m\u001b[37m\u001b[0m \u001b[1m0s\u001b[0m 4ms/step - accuracy: 0.7371 - loss: 5.2963\n"
          ]
        },
        {
          "output_type": "stream",
          "name": "stderr",
          "text": [
            "[I 2024-08-04 22:38:09,756] Trial 9 finished with value: 0.7292500138282776 and parameters: {'num_layers': 4, 'filters_0': 39, 'filters_1': 57, 'filters_2': 48, 'filters_3': 80, 'kernel_size': 2, 'l1': 0.0026103694152217966, 'l2': 9.983840514985239e-05, 'dense_units': 128, 'dropout_rate': 0.1530353337511684, 'learning_rate': 1.9369894474490272e-05}. Best is trial 2 with value: 0.7509999871253967.\n"
          ]
        },
        {
          "output_type": "stream",
          "name": "stdout",
          "text": [
            "Trial 10 started with hyperparameters: num_layers=3, filters=[119, 68, 127], kernel_size=3, l1=8.639000203442336e-05, l2=1.500707489978116e-05, dense_units=255, dropout_rate=0.49174705734738106, learning_rate=8.083222418626741e-05\n",
            "\u001b[1m49/50\u001b[0m \u001b[32m━━━━━━━━━━━━━━━━━━━\u001b[0m\u001b[37m━\u001b[0m \u001b[1m0s\u001b[0m 27ms/step - accuracy: 0.5250 - loss: 1.0891"
          ]
        },
        {
          "output_type": "stream",
          "name": "stderr",
          "text": [
            "[I 2024-08-04 22:39:42,766] Trial 10 pruned. Trial was pruned at epoch 0.\n"
          ]
        },
        {
          "output_type": "stream",
          "name": "stdout",
          "text": [
            "Trial 11 started with hyperparameters: num_layers=3, filters=[56, 117, 74], kernel_size=2, l1=1.3104633651925766e-05, l2=0.0005933349337686679, dense_units=208, dropout_rate=0.21045573710426235, learning_rate=3.605953550845774e-05\n",
            "\u001b[1m49/50\u001b[0m \u001b[32m━━━━━━━━━━━━━━━━━━━\u001b[0m\u001b[37m━\u001b[0m \u001b[1m0s\u001b[0m 19ms/step - accuracy: 0.5034 - loss: 0.8369"
          ]
        },
        {
          "output_type": "stream",
          "name": "stderr",
          "text": [
            "[I 2024-08-04 22:41:13,509] Trial 11 pruned. Trial was pruned at epoch 0.\n"
          ]
        },
        {
          "output_type": "stream",
          "name": "stdout",
          "text": [
            "Trial 12 started with hyperparameters: num_layers=4, filters=[92, 122, 65, 40], kernel_size=2, l1=5.642743371473763e-06, l2=0.0006375409017782348, dense_units=85, dropout_rate=0.3512466822898067, learning_rate=3.454274744555845e-05\n",
            "\u001b[1m49/50\u001b[0m \u001b[32m━━━━━━━━━━━━━━━━━━━\u001b[0m\u001b[37m━\u001b[0m \u001b[1m0s\u001b[0m 24ms/step - accuracy: 0.5041 - loss: 0.8685"
          ]
        },
        {
          "output_type": "stream",
          "name": "stderr",
          "text": [
            "[I 2024-08-04 22:42:46,366] Trial 12 pruned. Trial was pruned at epoch 0.\n"
          ]
        },
        {
          "output_type": "stream",
          "name": "stdout",
          "text": [
            "Trial 13 started with hyperparameters: num_layers=3, filters=[122, 74, 88], kernel_size=2, l1=2.2717850938822887e-05, l2=0.0013922930377730828, dense_units=64, dropout_rate=0.21703552316314964, learning_rate=5.7890901571620457e-05\n",
            "\u001b[1m49/50\u001b[0m \u001b[32m━━━━━━━━━━━━━━━━━━━\u001b[0m\u001b[37m━\u001b[0m \u001b[1m0s\u001b[0m 25ms/step - accuracy: 0.5163 - loss: 0.9965"
          ]
        },
        {
          "output_type": "stream",
          "name": "stderr",
          "text": [
            "[I 2024-08-04 22:44:18,135] Trial 13 pruned. Trial was pruned at epoch 0.\n"
          ]
        },
        {
          "output_type": "stream",
          "name": "stdout",
          "text": [
            "Trial 14 started with hyperparameters: num_layers=4, filters=[74, 108, 108, 112], kernel_size=3, l1=0.0002574202522671307, l2=0.00022363880083939658, dense_units=210, dropout_rate=0.31875794218469505, learning_rate=0.0001613509668484967\n",
            "\u001b[1m50/50\u001b[0m \u001b[32m━━━━━━━━━━━━━━━━━━━━\u001b[0m\u001b[37m\u001b[0m \u001b[1m12s\u001b[0m 92ms/step - accuracy: 0.5201 - loss: 2.7329 - val_accuracy: 0.5663 - val_loss: 2.3539\n",
            "\u001b[1m50/50\u001b[0m \u001b[32m━━━━━━━━━━━━━━━━━━━━\u001b[0m\u001b[37m\u001b[0m \u001b[1m1s\u001b[0m 29ms/step - accuracy: 0.6637 - loss: 2.2278 - val_accuracy: 0.7538 - val_loss: 1.9523\n",
            "\u001b[1m50/50\u001b[0m \u001b[32m━━━━━━━━━━━━━━━━━━━━\u001b[0m\u001b[37m\u001b[0m \u001b[1m1s\u001b[0m 29ms/step - accuracy: 0.7098 - loss: 1.8912 - val_accuracy: 0.7225 - val_loss: 1.6763\n",
            "\u001b[1m50/50\u001b[0m \u001b[32m━━━━━━━━━━━━━━━━━━━━\u001b[0m\u001b[37m\u001b[0m \u001b[1m1s\u001b[0m 29ms/step - accuracy: 0.7261 - loss: 1.6314 - val_accuracy: 0.7237 - val_loss: 1.5089\n",
            "\u001b[1m50/50\u001b[0m \u001b[32m━━━━━━━━━━━━━━━━━━━━\u001b[0m\u001b[37m\u001b[0m \u001b[1m1s\u001b[0m 29ms/step - accuracy: 0.6926 - loss: 1.5027 - val_accuracy: 0.7513 - val_loss: 1.3219\n",
            "\u001b[1m50/50\u001b[0m \u001b[32m━━━━━━━━━━━━━━━━━━━━\u001b[0m\u001b[37m\u001b[0m \u001b[1m1s\u001b[0m 29ms/step - accuracy: 0.7498 - loss: 1.3005 - val_accuracy: 0.7462 - val_loss: 1.2525\n",
            "\u001b[1m50/50\u001b[0m \u001b[32m━━━━━━━━━━━━━━━━━━━━\u001b[0m\u001b[37m\u001b[0m \u001b[1m1s\u001b[0m 29ms/step - accuracy: 0.7541 - loss: 1.2139 - val_accuracy: 0.7850 - val_loss: 1.1294\n",
            "\u001b[1m50/50\u001b[0m \u001b[32m━━━━━━━━━━━━━━━━━━━━\u001b[0m\u001b[37m\u001b[0m \u001b[1m1s\u001b[0m 28ms/step - accuracy: 0.7332 - loss: 1.1676 - val_accuracy: 0.7675 - val_loss: 1.1274\n",
            "\u001b[1m50/50\u001b[0m \u001b[32m━━━━━━━━━━━━━━━━━━━━\u001b[0m\u001b[37m\u001b[0m \u001b[1m1s\u001b[0m 29ms/step - accuracy: 0.7493 - loss: 1.1209 - val_accuracy: 0.7475 - val_loss: 1.1091\n"
          ]
        },
        {
          "output_type": "stream",
          "name": "stderr",
          "text": [
            "[I 2024-08-04 22:56:58,823] Trial 14 pruned. \n"
          ]
        },
        {
          "output_type": "stream",
          "name": "stdout",
          "text": [
            "Trial 15 started with hyperparameters: num_layers=3, filters=[49, 82, 63], kernel_size=2, l1=5.194639320195182e-06, l2=3.33773367955495e-05, dense_units=123, dropout_rate=0.4201248840417293, learning_rate=1.970617991092491e-05\n",
            "\u001b[1m49/50\u001b[0m \u001b[32m━━━━━━━━━━━━━━━━━━━\u001b[0m\u001b[37m━\u001b[0m \u001b[1m0s\u001b[0m 17ms/step - accuracy: 0.5079 - loss: 0.7060"
          ]
        },
        {
          "output_type": "stream",
          "name": "stderr",
          "text": [
            "[I 2024-08-04 22:58:29,681] Trial 15 pruned. Trial was pruned at epoch 0.\n"
          ]
        },
        {
          "output_type": "stream",
          "name": "stdout",
          "text": [
            "Trial 16 started with hyperparameters: num_layers=3, filters=[100, 57, 33], kernel_size=2, l1=6.551038976888805e-05, l2=0.00025136030610568356, dense_units=221, dropout_rate=0.2431845563910644, learning_rate=0.0009993930476508526\n",
            "\u001b[1m49/50\u001b[0m \u001b[32m━━━━━━━━━━━━━━━━━━━\u001b[0m\u001b[37m━\u001b[0m \u001b[1m0s\u001b[0m 21ms/step - accuracy: 0.5543 - loss: 0.8980"
          ]
        },
        {
          "output_type": "stream",
          "name": "stderr",
          "text": [
            "[I 2024-08-04 23:00:00,590] Trial 16 pruned. Trial was pruned at epoch 0.\n"
          ]
        },
        {
          "output_type": "stream",
          "name": "stdout",
          "text": [
            "Trial 17 started with hyperparameters: num_layers=5, filters=[110, 110, 109, 32, 119], kernel_size=3, l1=3.960703512523192e-06, l2=0.0025069456632635183, dense_units=181, dropout_rate=0.1648643098014621, learning_rate=4.980470275530553e-05\n",
            "\u001b[1m49/50\u001b[0m \u001b[32m━━━━━━━━━━━━━━━━━━━\u001b[0m\u001b[37m━\u001b[0m \u001b[1m0s\u001b[0m 29ms/step - accuracy: 0.5189 - loss: 1.5106"
          ]
        },
        {
          "output_type": "stream",
          "name": "stderr",
          "text": [
            "[I 2024-08-04 23:01:39,004] Trial 17 pruned. Trial was pruned at epoch 0.\n"
          ]
        },
        {
          "output_type": "stream",
          "name": "stdout",
          "text": [
            "Trial 18 started with hyperparameters: num_layers=4, filters=[89, 85, 88, 106], kernel_size=2, l1=1.1969658585844553e-05, l2=0.007936867011278357, dense_units=143, dropout_rate=0.3123689867532133, learning_rate=0.00013397016701278662\n",
            "\u001b[1m50/50\u001b[0m \u001b[32m━━━━━━━━━━━━━━━━━━━━\u001b[0m\u001b[37m\u001b[0m \u001b[1m10s\u001b[0m 83ms/step - accuracy: 0.5288 - loss: 2.8058 - val_accuracy: 0.6825 - val_loss: 2.4840\n",
            "\u001b[1m50/50\u001b[0m \u001b[32m━━━━━━━━━━━━━━━━━━━━\u001b[0m\u001b[37m\u001b[0m \u001b[1m1s\u001b[0m 29ms/step - accuracy: 0.6748 - loss: 2.3800 - val_accuracy: 0.7337 - val_loss: 2.1135\n",
            "\u001b[1m50/50\u001b[0m \u001b[32m━━━━━━━━━━━━━━━━━━━━\u001b[0m\u001b[37m\u001b[0m \u001b[1m1s\u001b[0m 28ms/step - accuracy: 0.7135 - loss: 2.0556 - val_accuracy: 0.7312 - val_loss: 1.8592\n",
            "\u001b[1m50/50\u001b[0m \u001b[32m━━━━━━━━━━━━━━━━━━━━\u001b[0m\u001b[37m\u001b[0m \u001b[1m1s\u001b[0m 28ms/step - accuracy: 0.7281 - loss: 1.8467 - val_accuracy: 0.7862 - val_loss: 1.6747\n",
            "\u001b[1m50/50\u001b[0m \u001b[32m━━━━━━━━━━━━━━━━━━━━\u001b[0m\u001b[37m\u001b[0m \u001b[1m1s\u001b[0m 28ms/step - accuracy: 0.7448 - loss: 1.6777 - val_accuracy: 0.7225 - val_loss: 1.5821\n",
            "\u001b[1m50/50\u001b[0m \u001b[32m━━━━━━━━━━━━━━━━━━━━\u001b[0m\u001b[37m\u001b[0m \u001b[1m1s\u001b[0m 29ms/step - accuracy: 0.7461 - loss: 1.5555 - val_accuracy: 0.7300 - val_loss: 1.5123\n",
            "\u001b[1m50/50\u001b[0m \u001b[32m━━━━━━━━━━━━━━━━━━━━\u001b[0m\u001b[37m\u001b[0m \u001b[1m1s\u001b[0m 28ms/step - accuracy: 0.7517 - loss: 1.4528 - val_accuracy: 0.7650 - val_loss: 1.3709\n",
            "\u001b[1m50/50\u001b[0m \u001b[32m━━━━━━━━━━━━━━━━━━━━\u001b[0m\u001b[37m\u001b[0m \u001b[1m1s\u001b[0m 28ms/step - accuracy: 0.7347 - loss: 1.3890 - val_accuracy: 0.7788 - val_loss: 1.2957\n",
            "\u001b[1m50/50\u001b[0m \u001b[32m━━━━━━━━━━━━━━━━━━━━\u001b[0m\u001b[37m\u001b[0m \u001b[1m1s\u001b[0m 28ms/step - accuracy: 0.7331 - loss: 1.3213 - val_accuracy: 0.7400 - val_loss: 1.2755\n"
          ]
        },
        {
          "output_type": "stream",
          "name": "stderr",
          "text": [
            "[I 2024-08-04 23:14:22,450] Trial 18 pruned. \n"
          ]
        },
        {
          "output_type": "stream",
          "name": "stdout",
          "text": [
            "Trial 19 started with hyperparameters: num_layers=3, filters=[63, 59, 99], kernel_size=2, l1=0.0005291710273615084, l2=0.00026442816434863326, dense_units=239, dropout_rate=0.126467290049805, learning_rate=1.5300447441843284e-05\n",
            "\u001b[1m48/50\u001b[0m \u001b[32m━━━━━━━━━━━━━━━━━━━\u001b[0m\u001b[37m━\u001b[0m \u001b[1m0s\u001b[0m 18ms/step - accuracy: 0.5048 - loss: 1.7782"
          ]
        },
        {
          "output_type": "stream",
          "name": "stderr",
          "text": [
            "[I 2024-08-04 23:15:54,126] Trial 19 pruned. Trial was pruned at epoch 0.\n"
          ]
        },
        {
          "output_type": "stream",
          "name": "stdout",
          "text": [
            "Trial 20 started with hyperparameters: num_layers=4, filters=[128, 126, 68, 123], kernel_size=3, l1=1.0771307585473345e-06, l2=0.0010899936187889145, dense_units=98, dropout_rate=0.2438449000550495, learning_rate=3.4582234344104575e-05\n",
            "\u001b[1m49/50\u001b[0m \u001b[32m━━━━━━━━━━━━━━━━━━━\u001b[0m\u001b[37m━\u001b[0m \u001b[1m0s\u001b[0m 30ms/step - accuracy: 0.5103 - loss: 1.0279"
          ]
        },
        {
          "output_type": "stream",
          "name": "stderr",
          "text": [
            "[I 2024-08-04 23:17:30,692] Trial 20 pruned. Trial was pruned at epoch 0.\n"
          ]
        },
        {
          "output_type": "stream",
          "name": "stdout",
          "text": [
            "Trial 21 started with hyperparameters: num_layers=3, filters=[80, 44, 117], kernel_size=2, l1=2.777757015003424e-06, l2=0.003325155193437487, dense_units=181, dropout_rate=0.10691728758754662, learning_rate=1.0663780032957135e-05\n",
            "\u001b[1m49/50\u001b[0m \u001b[32m━━━━━━━━━━━━━━━━━━━\u001b[0m\u001b[37m━\u001b[0m \u001b[1m0s\u001b[0m 18ms/step - accuracy: 0.5281 - loss: 1.1054"
          ]
        },
        {
          "output_type": "stream",
          "name": "stderr",
          "text": [
            "[I 2024-08-04 23:19:01,411] Trial 21 pruned. Trial was pruned at epoch 0.\n"
          ]
        },
        {
          "output_type": "stream",
          "name": "stdout",
          "text": [
            "Trial 22 started with hyperparameters: num_layers=3, filters=[74, 50, 99], kernel_size=2, l1=2.2292717946368963e-06, l2=0.00988792988528563, dense_units=234, dropout_rate=0.16694297650988332, learning_rate=1.4530137279857798e-05\n",
            "\u001b[1m50/50\u001b[0m \u001b[32m━━━━━━━━━━━━━━━━━━━━\u001b[0m\u001b[37m\u001b[0m \u001b[1m8s\u001b[0m 69ms/step - accuracy: 0.5202 - loss: 1.9550 - val_accuracy: 0.4825 - val_loss: 1.9323\n",
            "\u001b[1m50/50\u001b[0m \u001b[32m━━━━━━━━━━━━━━━━━━━━\u001b[0m\u001b[37m\u001b[0m \u001b[1m1s\u001b[0m 26ms/step - accuracy: 0.5596 - loss: 1.9208 - val_accuracy: 0.6900 - val_loss: 1.8878\n",
            "\u001b[1m50/50\u001b[0m \u001b[32m━━━━━━━━━━━━━━━━━━━━\u001b[0m\u001b[37m\u001b[0m \u001b[1m1s\u001b[0m 26ms/step - accuracy: 0.6799 - loss: 1.8787 - val_accuracy: 0.6187 - val_loss: 1.8587\n",
            "\u001b[1m50/50\u001b[0m \u001b[32m━━━━━━━━━━━━━━━━━━━━\u001b[0m\u001b[37m\u001b[0m \u001b[1m1s\u001b[0m 26ms/step - accuracy: 0.6433 - loss: 1.8427 - val_accuracy: 0.6963 - val_loss: 1.7994\n",
            "\u001b[1m50/50\u001b[0m \u001b[32m━━━━━━━━━━━━━━━━━━━━\u001b[0m\u001b[37m\u001b[0m \u001b[1m1s\u001b[0m 26ms/step - accuracy: 0.6955 - loss: 1.7985 - val_accuracy: 0.7175 - val_loss: 1.7601\n",
            "\u001b[1m50/50\u001b[0m \u001b[32m━━━━━━━━━━━━━━━━━━━━\u001b[0m\u001b[37m\u001b[0m \u001b[1m1s\u001b[0m 26ms/step - accuracy: 0.7227 - loss: 1.7510 - val_accuracy: 0.7200 - val_loss: 1.7427\n",
            "\u001b[1m50/50\u001b[0m \u001b[32m━━━━━━━━━━━━━━━━━━━━\u001b[0m\u001b[37m\u001b[0m \u001b[1m1s\u001b[0m 26ms/step - accuracy: 0.7055 - loss: 1.7346 - val_accuracy: 0.6300 - val_loss: 1.7343\n",
            "\u001b[1m50/50\u001b[0m \u001b[32m━━━━━━━━━━━━━━━━━━━━\u001b[0m\u001b[37m\u001b[0m \u001b[1m1s\u001b[0m 26ms/step - accuracy: 0.6649 - loss: 1.7234 - val_accuracy: 0.7063 - val_loss: 1.6891\n",
            "\u001b[1m50/50\u001b[0m \u001b[32m━━━━━━━━━━━━━━━━━━━━\u001b[0m\u001b[37m\u001b[0m \u001b[1m1s\u001b[0m 25ms/step - accuracy: 0.7118 - loss: 1.6880 - val_accuracy: 0.6950 - val_loss: 1.7033\n",
            "\u001b[1m125/125\u001b[0m \u001b[32m━━━━━━━━━━━━━━━━━━━━\u001b[0m\u001b[37m\u001b[0m \u001b[1m1s\u001b[0m 4ms/step - accuracy: 0.7358 - loss: 1.6775\n"
          ]
        },
        {
          "output_type": "stream",
          "name": "stderr",
          "text": [
            "[I 2024-08-04 23:33:00,793] Trial 22 finished with value: 0.7275000214576721 and parameters: {'num_layers': 3, 'filters_0': 74, 'filters_1': 50, 'filters_2': 99, 'kernel_size': 2, 'l1': 2.2292717946368963e-06, 'l2': 0.00988792988528563, 'dense_units': 234, 'dropout_rate': 0.16694297650988332, 'learning_rate': 1.4530137279857798e-05}. Best is trial 2 with value: 0.7509999871253967.\n"
          ]
        },
        {
          "output_type": "stream",
          "name": "stdout",
          "text": [
            "Trial 23 started with hyperparameters: num_layers=3, filters=[80, 70, 82], kernel_size=2, l1=9.263200059431897e-06, l2=0.0038342274268266707, dense_units=180, dropout_rate=0.135607711185187, learning_rate=2.3326711626829587e-05\n",
            "\u001b[1m49/50\u001b[0m \u001b[32m━━━━━━━━━━━━━━━━━━━\u001b[0m\u001b[37m━\u001b[0m \u001b[1m0s\u001b[0m 20ms/step - accuracy: 0.5098 - loss: 1.2979"
          ]
        },
        {
          "output_type": "stream",
          "name": "stderr",
          "text": [
            "[I 2024-08-04 23:34:31,899] Trial 23 pruned. Trial was pruned at epoch 0.\n"
          ]
        },
        {
          "output_type": "stream",
          "name": "stdout",
          "text": [
            "Trial 24 started with hyperparameters: num_layers=3, filters=[54, 106, 98], kernel_size=2, l1=1.1696017000163084e-06, l2=0.0012780414889432758, dense_units=134, dropout_rate=0.10115085204000313, learning_rate=1.035244291879792e-05\n",
            "\u001b[1m49/50\u001b[0m \u001b[32m━━━━━━━━━━━━━━━━━━━\u001b[0m\u001b[37m━\u001b[0m \u001b[1m0s\u001b[0m 19ms/step - accuracy: 0.5065 - loss: 0.9215"
          ]
        },
        {
          "output_type": "stream",
          "name": "stderr",
          "text": [
            "[I 2024-08-04 23:36:03,146] Trial 24 pruned. Trial was pruned at epoch 0.\n"
          ]
        },
        {
          "output_type": "stream",
          "name": "stdout",
          "text": [
            "Trial 25 started with hyperparameters: num_layers=4, filters=[32, 75, 117, 52], kernel_size=2, l1=3.384862799336577e-05, l2=0.0003699539830926601, dense_units=112, dropout_rate=0.20023947401814896, learning_rate=2.8112700730005784e-05\n",
            "\u001b[1m49/50\u001b[0m \u001b[32m━━━━━━━━━━━━━━━━━━━\u001b[0m\u001b[37m━\u001b[0m \u001b[1m0s\u001b[0m 15ms/step - accuracy: 0.5043 - loss: 0.8811"
          ]
        },
        {
          "output_type": "stream",
          "name": "stderr",
          "text": [
            "[I 2024-08-04 23:37:34,353] Trial 25 pruned. Trial was pruned at epoch 0.\n"
          ]
        },
        {
          "output_type": "stream",
          "name": "stdout",
          "text": [
            "Trial 26 started with hyperparameters: num_layers=3, filters=[43, 117, 103], kernel_size=2, l1=2.316745906437951e-06, l2=0.0013406482637932846, dense_units=171, dropout_rate=0.24755644589404902, learning_rate=5.157626498609322e-05\n",
            "\u001b[1m49/50\u001b[0m \u001b[32m━━━━━━━━━━━━━━━━━━━\u001b[0m\u001b[37m━\u001b[0m \u001b[1m0s\u001b[0m 18ms/step - accuracy: 0.5068 - loss: 0.9457"
          ]
        },
        {
          "output_type": "stream",
          "name": "stderr",
          "text": [
            "[I 2024-08-04 23:39:05,873] Trial 26 pruned. Trial was pruned at epoch 0.\n"
          ]
        },
        {
          "output_type": "stream",
          "name": "stdout",
          "text": [
            "Trial 27 started with hyperparameters: num_layers=4, filters=[72, 63, 81, 91], kernel_size=2, l1=6.223690811081266e-06, l2=0.0033255635665438684, dense_units=146, dropout_rate=0.17460397369010866, learning_rate=1.5822685141375934e-05\n",
            "\u001b[1m49/50\u001b[0m \u001b[32m━━━━━━━━━━━━━━━━━━━\u001b[0m\u001b[37m━\u001b[0m \u001b[1m0s\u001b[0m 19ms/step - accuracy: 0.5241 - loss: 1.4609"
          ]
        },
        {
          "output_type": "stream",
          "name": "stderr",
          "text": [
            "[I 2024-08-04 23:40:37,289] Trial 27 pruned. Trial was pruned at epoch 0.\n"
          ]
        },
        {
          "output_type": "stream",
          "name": "stdout",
          "text": [
            "Trial 28 started with hyperparameters: num_layers=3, filters=[96, 48, 118], kernel_size=2, l1=2.593774609648388e-06, l2=0.0001665345041415093, dense_units=197, dropout_rate=0.29508920580027626, learning_rate=4.151554702128399e-05\n",
            "\u001b[1m49/50\u001b[0m \u001b[32m━━━━━━━━━━━━━━━━━━━\u001b[0m\u001b[37m━\u001b[0m \u001b[1m0s\u001b[0m 20ms/step - accuracy: 0.5074 - loss: 0.7296"
          ]
        },
        {
          "output_type": "stream",
          "name": "stderr",
          "text": [
            "[I 2024-08-04 23:42:08,657] Trial 28 pruned. Trial was pruned at epoch 0.\n"
          ]
        },
        {
          "output_type": "stream",
          "name": "stdout",
          "text": [
            "Trial 29 started with hyperparameters: num_layers=5, filters=[86, 39, 94, 107, 79], kernel_size=2, l1=0.00030344891195144437, l2=0.0005471693294126225, dense_units=225, dropout_rate=0.44225500363817927, learning_rate=0.00012994004948262334\n",
            "\u001b[1m50/50\u001b[0m \u001b[32m━━━━━━━━━━━━━━━━━━━━\u001b[0m\u001b[37m\u001b[0m \u001b[1m10s\u001b[0m 75ms/step - accuracy: 0.4940 - loss: 2.2494 - val_accuracy: 0.4825 - val_loss: 2.1026\n",
            "\u001b[1m50/50\u001b[0m \u001b[32m━━━━━━━━━━━━━━━━━━━━\u001b[0m\u001b[37m\u001b[0m \u001b[1m1s\u001b[0m 26ms/step - accuracy: 0.5460 - loss: 2.0551 - val_accuracy: 0.7113 - val_loss: 1.9151\n",
            "\u001b[1m50/50\u001b[0m \u001b[32m━━━━━━━━━━━━━━━━━━━━\u001b[0m\u001b[37m\u001b[0m \u001b[1m1s\u001b[0m 26ms/step - accuracy: 0.6433 - loss: 1.8620 - val_accuracy: 0.7063 - val_loss: 1.6658\n",
            "\u001b[1m50/50\u001b[0m \u001b[32m━━━━━━━━━━━━━━━━━━━━\u001b[0m\u001b[37m\u001b[0m \u001b[1m1s\u001b[0m 25ms/step - accuracy: 0.7064 - loss: 1.6231 - val_accuracy: 0.7325 - val_loss: 1.4950\n",
            "\u001b[1m50/50\u001b[0m \u001b[32m━━━━━━━━━━━━━━━━━━━━\u001b[0m\u001b[37m\u001b[0m \u001b[1m1s\u001b[0m 25ms/step - accuracy: 0.7119 - loss: 1.4873 - val_accuracy: 0.7400 - val_loss: 1.3936\n",
            "\u001b[1m50/50\u001b[0m \u001b[32m━━━━━━━━━━━━━━━━━━━━\u001b[0m\u001b[37m\u001b[0m \u001b[1m1s\u001b[0m 26ms/step - accuracy: 0.7357 - loss: 1.3727 - val_accuracy: 0.7262 - val_loss: 1.3215\n",
            "\u001b[1m50/50\u001b[0m \u001b[32m━━━━━━━━━━━━━━━━━━━━\u001b[0m\u001b[37m\u001b[0m \u001b[1m1s\u001b[0m 25ms/step - accuracy: 0.7341 - loss: 1.2982 - val_accuracy: 0.7475 - val_loss: 1.2380\n",
            "\u001b[1m50/50\u001b[0m \u001b[32m━━━━━━━━━━━━━━━━━━━━\u001b[0m\u001b[37m\u001b[0m \u001b[1m1s\u001b[0m 25ms/step - accuracy: 0.7332 - loss: 1.2337 - val_accuracy: 0.7600 - val_loss: 1.1630\n",
            "\u001b[1m50/50\u001b[0m \u001b[32m━━━━━━━━━━━━━━━━━━━━\u001b[0m\u001b[37m\u001b[0m \u001b[1m1s\u001b[0m 25ms/step - accuracy: 0.7333 - loss: 1.1703 - val_accuracy: 0.7188 - val_loss: 1.1430\n"
          ]
        },
        {
          "output_type": "stream",
          "name": "stderr",
          "text": [
            "[I 2024-08-04 23:54:45,786] Trial 29 pruned. \n"
          ]
        },
        {
          "output_type": "stream",
          "name": "stdout",
          "text": [
            "Best trial:\n",
            "Value: 0.7509999871253967\n",
            "Params: \n",
            "    num_layers: 3\n",
            "    filters_0: 79\n",
            "    filters_1: 79\n",
            "    filters_2: 125\n",
            "    kernel_size: 2\n",
            "    l1: 1.4238915610455433e-06\n",
            "    l2: 0.0011892049877332892\n",
            "    dense_units: 227\n",
            "    dropout_rate: 0.2605345852243278\n",
            "    learning_rate: 2.5834311151381096e-05\n",
            "Elapsed time: 11504.60 seconds\n"
          ]
        }
      ]
    },
    {
      "cell_type": "code",
      "source": [],
      "metadata": {
        "id": "tz3bZsOhKY7b"
      },
      "execution_count": null,
      "outputs": []
    },
    {
      "cell_type": "markdown",
      "source": [
        "Optimisation for Scenarios that happened 50kya"
      ],
      "metadata": {
        "id": "H_lVAxes733O"
      }
    },
    {
      "cell_type": "code",
      "source": [
        "\n",
        "\n",
        "# Configure logging to file in the current directory with the specified name\n",
        "logging.basicConfig(filename='Intermediate_Scenarios_IM.log', level=logging.INFO,\n",
        "                    format='%(asctime)s:%(levelname)s:%(message)s')\n",
        "\n",
        "# Function to preprocess data\n",
        "def preprocess_data(simulations_folder, batch_number):\n",
        "    # Create ImaFile object for the specified simulation folder and model\n",
        "    file_sim = ImaFile(simulations_folder=os.path.join(simulations_folder, f'Simulations{batch_number}'), nr_samples=198, model_name='Marth-3epoch-CEU')\n",
        "\n",
        "    # Read the simulation data\n",
        "    gene_sim = file_sim.read_simulations(parameter_name='selection_coeff_hetero', max_nrepl=4000)\n",
        "\n",
        "    # Filter simulations based on frequency threshold\n",
        "    gene_sim.filter_freq(0.01)\n",
        "\n",
        "    # Sort simulations by row frequency\n",
        "    gene_sim.sort('rows_freq')\n",
        "\n",
        "    # Resize simulation data to the required dimensions\n",
        "    gene_sim.resize((198, 192))\n",
        "\n",
        "    # Convert simulation data (flip=True allows for data augmentation)\n",
        "    gene_sim.convert(flip=True)\n",
        "\n",
        "    # Get a random subset of indices and subset the simulation data\n",
        "    gene_sim.subset(get_index_random(gene_sim))\n",
        "\n",
        "    # Convert targets to binary format\n",
        "    gene_sim.targets = to_binary(gene_sim.targets)\n",
        "\n",
        "    return gene_sim\n",
        "\n",
        "# Objective function for Optuna optimization\n",
        "def objective(trial, simulations_folder, epochs=1):\n",
        "    # Set random seed\n",
        "    np.random.seed(42)\n",
        "    tf.random.set_seed(42)\n",
        "\n",
        "    # Hyperparameters to be optimized\n",
        "    num_layers = trial.suggest_int('num_layers', 3, 6)  # Limit the number of layers to avoid excessive reduction\n",
        "    filters = [trial.suggest_int(f'filters_{i}', 32, 128) for i in range(num_layers)]  # Adjust filters range\n",
        "    kernel_size = trial.suggest_int('kernel_size', 2, 3)  # Limit the kernel size to avoid excessive reduction\n",
        "    l1 = trial.suggest_float('l1', 1e-6, 1e-2, log=True)\n",
        "    l2 = trial.suggest_float('l2', 1e-6, 1e-2, log=True)\n",
        "    dense_units = trial.suggest_int('dense_units', 64, 256)  # Adjust dense units range\n",
        "    dropout_rate = trial.suggest_float('dropout_rate', 0.1, 0.5)\n",
        "    learning_rate = trial.suggest_float('learning_rate', 1e-5, 1e-3, log=True)\n",
        "\n",
        "    # Log the hyperparameters at the start of each trial\n",
        "    logging.info(f'Trial {trial.number} started with hyperparameters: num_layers={num_layers}, filters={filters}, '\n",
        "                 f'kernel_size={kernel_size}, l1={l1}, l2={l2}, dense_units={dense_units}, '\n",
        "                 f'dropout_rate={dropout_rate}, learning_rate={learning_rate}')\n",
        "    print(f'Trial {trial.number} started with hyperparameters: num_layers={num_layers}, filters={filters}, '\n",
        "          f'kernel_size={kernel_size}, l1={l1}, l2={l2}, dense_units={dense_units}, '\n",
        "          f'dropout_rate={dropout_rate}, learning_rate={learning_rate}')\n",
        "\n",
        "    # Building the model based on sampled hyperparameters\n",
        "    model = models.Sequential()\n",
        "    model.add(layers.Input(shape=(198, 192, 1)))  # Define the input layer\n",
        "    for i in range(num_layers):\n",
        "        model.add(layers.Conv2D(filters=filters[i], kernel_size=(kernel_size, kernel_size), strides=(1, 1), activation='relu',\n",
        "                                kernel_regularizer=regularizers.l1_l2(l1=l1, l2=l2), padding='same'))  # Use 'same' padding to avoid dimension issues\n",
        "        model.add(layers.MaxPooling2D(pool_size=(2, 2)))\n",
        "\n",
        "    model.add(layers.Flatten())  # Flatten the output for the Dense layers\n",
        "    model.add(layers.Dense(units=dense_units, activation='relu'))  # Add Dense layer\n",
        "    model.add(layers.Dropout(rate=dropout_rate))  # Add Dropout layer\n",
        "    model.add(layers.Dense(units=1, activation='sigmoid'))  # Output layer with sigmoid activation\n",
        "\n",
        "    optimizer = tf.keras.optimizers.Adam(learning_rate=learning_rate)  # Define optimizer\n",
        "    model.compile(optimizer=optimizer, loss='binary_crossentropy', metrics=['accuracy'])  # Compile the model\n",
        "\n",
        "    # Pruning callback to terminate unpromising trials\n",
        "    pruning_callback = TFKerasPruningCallback(trial, 'val_loss')\n",
        "\n",
        "    # Early stopping to prevent overfitting\n",
        "    early_stopping = EarlyStopping(monitor='val_loss', patience=3, restore_best_weights=True)\n",
        "\n",
        "    # Incremental training on 9 batches\n",
        "    best_val_loss = np.inf  # Track the best validation loss\n",
        "    for batch_number in range(1, 10):\n",
        "        gene_sim = preprocess_data(simulations_folder, batch_number)  # Preprocess data\n",
        "        history = model.fit(gene_sim.data, gene_sim.targets, batch_size=64, epochs=epochs, verbose=1, validation_split=0.2,\n",
        "                            callbacks=[early_stopping, pruning_callback])  # Train the model with callbacks\n",
        "\n",
        "        # Get the validation loss for the current epoch\n",
        "        val_loss = min(history.history['val_loss'])\n",
        "        if val_loss < best_val_loss:\n",
        "            best_val_loss = val_loss\n",
        "            trial.report(val_loss, batch_number)\n",
        "            if trial.should_prune():\n",
        "                raise optuna.exceptions.TrialPruned()\n",
        "\n",
        "    # Evaluate the model on the 10th batch\n",
        "    gene_sim = preprocess_data(simulations_folder, 10)\n",
        "    evaluation = model.evaluate(gene_sim.data, gene_sim.targets, verbose=1)\n",
        "    return evaluation[1]  # Return the accuracy\n",
        "\n",
        "# Function to run the optimization process\n",
        "def run_optimization():\n",
        "    start_time = time.time()  # Record start time\n",
        "\n",
        "    simulations_folder = '/content/EvoNet-CNN-Insight/model_training/intermediate_moderate/IM'  # Folder for this dataset\n",
        "    logging.info(f\"Starting optimization for {simulations_folder}\")\n",
        "    print(f\"Starting optimization for {simulations_folder}\")\n",
        "\n",
        "    # Create an Optuna study and optimize the objective function\n",
        "    study = optuna.create_study(direction='maximize', pruner=optuna.pruners.MedianPruner(), storage='sqlite:///im_study.db', load_if_exists=True)  # Use SQLite storage\n",
        "    study.optimize(lambda trial: objective(trial, simulations_folder), n_trials=30)  # Set to 30 trials\n",
        "\n",
        "    try:\n",
        "        trial = study.best_trial\n",
        "        print('Best trial:')\n",
        "        print('Value: {}'.format(trial.value))\n",
        "        print('Params: ')\n",
        "        for key, value in trial.params.items():\n",
        "            print('    {}: {}'.format(key, value))  # Print best trial parameters\n",
        "\n",
        "        logging.info('Best trial:')\n",
        "        logging.info('Value: {}'.format(trial.value))\n",
        "        logging.info('Params: ')\n",
        "        for key, value in trial.params.items():\n",
        "            logging.info('    {}: {}'.format(key, value))  # Log best trial parameters\n",
        "\n",
        "    except ValueError as e:\n",
        "        logging.error(f\"No completed trials: {e}\")  # Log error if no trials are completed\n",
        "\n",
        "    elapsed_time = time.time() - start_time  # Calculate elapsed time\n",
        "    print(f\"Elapsed time: {elapsed_time:.2f} seconds\")\n",
        "    logging.info(f\"Elapsed time: {elapsed_time:.2f} seconds\")  # Log elapsed time\n",
        "\n",
        "# Run the optimization process\n",
        "if __name__ == '__main__':\n",
        "    run_optimization()  # Execute the optimization function"
      ],
      "metadata": {
        "colab": {
          "base_uri": "https://localhost:8080/"
        },
        "id": "jxj4LY1Y76ey",
        "outputId": "c2a3d976-05cf-437a-b559-fbcc3079ed97"
      },
      "execution_count": 5,
      "outputs": [
        {
          "metadata": {
            "tags": null
          },
          "name": "stdout",
          "output_type": "stream",
          "text": [
            "Starting optimization for /content/EvoNet-CNN-Insight/model_training/intermediate_moderate/IM\n"
          ]
        },
        {
          "metadata": {
            "tags": null
          },
          "name": "stderr",
          "output_type": "stream",
          "text": [
            "[I 2024-08-06 18:34:23,998] A new study created in RDB with name: no-name-5ecb7b7b-0564-4c66-ba0a-80f940748a27\n"
          ]
        },
        {
          "metadata": {
            "tags": null
          },
          "name": "stdout",
          "output_type": "stream",
          "text": [
            "Trial 0 started with hyperparameters: num_layers=3, filters=[47, 42, 56], kernel_size=3, l1=0.0039943234962920605, l2=0.008507420851027302, dense_units=185, dropout_rate=0.3142634724317197, learning_rate=2.8081158509386363e-05\n",
            "\u001b[1m50/50\u001b[0m \u001b[32m━━━━━━━━━━━━━━━━━━━━\u001b[0m\u001b[37m\u001b[0m \u001b[1m11s\u001b[0m 64ms/step - accuracy: 0.5311 - loss: 8.0567 - val_accuracy: 0.5238 - val_loss: 7.8627\n",
            "\u001b[1m50/50\u001b[0m \u001b[32m━━━━━━━━━━━━━━━━━━━━\u001b[0m\u001b[37m\u001b[0m \u001b[1m1s\u001b[0m 20ms/step - accuracy: 0.5707 - loss: 7.8002 - val_accuracy: 0.7362 - val_loss: 7.6112\n"
          ]
        },
        {
          "metadata": {
            "tags": null
          },
          "name": "stderr",
          "output_type": "stream",
          "text": [
            "/usr/local/lib/python3.10/dist-packages/optuna/trial/_trial.py:493: UserWarning: The reported value is ignored because this `step` 0 is already reported.\n",
            "  warnings.warn(\n"
          ]
        },
        {
          "metadata": {
            "tags": null
          },
          "name": "stdout",
          "output_type": "stream",
          "text": [
            "\u001b[1m50/50\u001b[0m \u001b[32m━━━━━━━━━━━━━━━━━━━━\u001b[0m\u001b[37m\u001b[0m \u001b[1m1s\u001b[0m 20ms/step - accuracy: 0.6700 - loss: 7.5558 - val_accuracy: 0.7350 - val_loss: 7.3692\n",
            "\u001b[1m50/50\u001b[0m \u001b[32m━━━━━━━━━━━━━━━━━━━━\u001b[0m\u001b[37m\u001b[0m \u001b[1m1s\u001b[0m 21ms/step - accuracy: 0.6669 - loss: 7.3187 - val_accuracy: 0.7362 - val_loss: 7.1478\n",
            "\u001b[1m50/50\u001b[0m \u001b[32m━━━━━━━━━━━━━━━━━━━━\u001b[0m\u001b[37m\u001b[0m \u001b[1m1s\u001b[0m 20ms/step - accuracy: 0.7309 - loss: 7.1039 - val_accuracy: 0.7312 - val_loss: 6.9563\n",
            "\u001b[1m50/50\u001b[0m \u001b[32m━━━━━━━━━━━━━━━━━━━━\u001b[0m\u001b[37m\u001b[0m \u001b[1m1s\u001b[0m 20ms/step - accuracy: 0.7367 - loss: 6.8995 - val_accuracy: 0.6938 - val_loss: 6.7920\n",
            "\u001b[1m50/50\u001b[0m \u001b[32m━━━━━━━━━━━━━━━━━━━━\u001b[0m\u001b[37m\u001b[0m \u001b[1m1s\u001b[0m 20ms/step - accuracy: 0.7154 - loss: 6.7270 - val_accuracy: 0.6750 - val_loss: 6.6293\n",
            "\u001b[1m50/50\u001b[0m \u001b[32m━━━━━━━━━━━━━━━━━━━━\u001b[0m\u001b[37m\u001b[0m \u001b[1m1s\u001b[0m 20ms/step - accuracy: 0.7245 - loss: 6.5514 - val_accuracy: 0.7525 - val_loss: 6.4228\n",
            "\u001b[1m50/50\u001b[0m \u001b[32m━━━━━━━━━━━━━━━━━━━━\u001b[0m\u001b[37m\u001b[0m \u001b[1m1s\u001b[0m 20ms/step - accuracy: 0.7494 - loss: 6.3912 - val_accuracy: 0.7563 - val_loss: 6.2630\n",
            "\u001b[1m125/125\u001b[0m \u001b[32m━━━━━━━━━━━━━━━━━━━━\u001b[0m\u001b[37m\u001b[0m \u001b[1m1s\u001b[0m 4ms/step - accuracy: 0.7481 - loss: 6.2701\n"
          ]
        },
        {
          "metadata": {
            "tags": null
          },
          "name": "stderr",
          "output_type": "stream",
          "text": [
            "[I 2024-08-06 18:48:15,608] Trial 0 finished with value: 0.7457500100135803 and parameters: {'num_layers': 3, 'filters_0': 47, 'filters_1': 42, 'filters_2': 56, 'kernel_size': 3, 'l1': 0.0039943234962920605, 'l2': 0.008507420851027302, 'dense_units': 185, 'dropout_rate': 0.3142634724317197, 'learning_rate': 2.8081158509386363e-05}. Best is trial 0 with value: 0.7457500100135803.\n"
          ]
        },
        {
          "metadata": {
            "tags": null
          },
          "name": "stdout",
          "output_type": "stream",
          "text": [
            "Trial 1 started with hyperparameters: num_layers=6, filters=[48, 63, 32, 117, 102, 67], kernel_size=3, l1=1.605680908254782e-05, l2=0.007488162631706173, dense_units=215, dropout_rate=0.35984410315441295, learning_rate=4.36181364607453e-05\n",
            "\u001b[1m50/50\u001b[0m \u001b[32m━━━━━━━━━━━━━━━━━━━━\u001b[0m\u001b[37m\u001b[0m \u001b[1m11s\u001b[0m 82ms/step - accuracy: 0.5106 - loss: 3.2938 - val_accuracy: 0.5238 - val_loss: 3.1207\n",
            "\u001b[1m50/50\u001b[0m \u001b[32m━━━━━━━━━━━━━━━━━━━━\u001b[0m\u001b[37m\u001b[0m \u001b[1m1s\u001b[0m 21ms/step - accuracy: 0.5355 - loss: 3.0654 - val_accuracy: 0.5475 - val_loss: 2.9060\n",
            "\u001b[1m50/50\u001b[0m \u001b[32m━━━━━━━━━━━━━━━━━━━━\u001b[0m\u001b[37m\u001b[0m \u001b[1m1s\u001b[0m 22ms/step - accuracy: 0.5478 - loss: 2.8552 - val_accuracy: 0.4875 - val_loss: 2.7101\n",
            "\u001b[1m50/50\u001b[0m \u001b[32m━━━━━━━━━━━━━━━━━━━━\u001b[0m\u001b[37m\u001b[0m \u001b[1m1s\u001b[0m 22ms/step - accuracy: 0.5704 - loss: 2.6634 - val_accuracy: 0.5437 - val_loss: 2.5288\n",
            "\u001b[1m50/50\u001b[0m \u001b[32m━━━━━━━━━━━━━━━━━━━━\u001b[0m\u001b[37m\u001b[0m \u001b[1m1s\u001b[0m 21ms/step - accuracy: 0.6169 - loss: 2.4862 - val_accuracy: 0.6350 - val_loss: 2.3598\n",
            "\u001b[1m50/50\u001b[0m \u001b[32m━━━━━━━━━━━━━━━━━━━━\u001b[0m\u001b[37m\u001b[0m \u001b[1m1s\u001b[0m 22ms/step - accuracy: 0.6421 - loss: 2.3166 - val_accuracy: 0.5537 - val_loss: 2.2224\n",
            "\u001b[1m50/50\u001b[0m \u001b[32m━━━━━━━━━━━━━━━━━━━━\u001b[0m\u001b[37m\u001b[0m \u001b[1m1s\u001b[0m 22ms/step - accuracy: 0.6931 - loss: 2.1390 - val_accuracy: 0.7113 - val_loss: 2.0202\n",
            "\u001b[1m50/50\u001b[0m \u001b[32m━━━━━━━━━━━━━━━━━━━━\u001b[0m\u001b[37m\u001b[0m \u001b[1m1s\u001b[0m 22ms/step - accuracy: 0.7176 - loss: 1.9821 - val_accuracy: 0.7188 - val_loss: 1.9182\n",
            "\u001b[1m50/50\u001b[0m \u001b[32m━━━━━━━━━━━━━━━━━━━━\u001b[0m\u001b[37m\u001b[0m \u001b[1m1s\u001b[0m 22ms/step - accuracy: 0.7436 - loss: 1.8826 - val_accuracy: 0.7563 - val_loss: 1.8015\n",
            "\u001b[1m125/125\u001b[0m \u001b[32m━━━━━━━━━━━━━━━━━━━━\u001b[0m\u001b[37m\u001b[0m \u001b[1m1s\u001b[0m 4ms/step - accuracy: 0.7440 - loss: 1.8025\n"
          ]
        },
        {
          "metadata": {
            "tags": null
          },
          "name": "stderr",
          "output_type": "stream",
          "text": [
            "[I 2024-08-06 19:02:07,861] Trial 1 finished with value: 0.7437499761581421 and parameters: {'num_layers': 6, 'filters_0': 48, 'filters_1': 63, 'filters_2': 32, 'filters_3': 117, 'filters_4': 102, 'filters_5': 67, 'kernel_size': 3, 'l1': 1.605680908254782e-05, 'l2': 0.007488162631706173, 'dense_units': 215, 'dropout_rate': 0.35984410315441295, 'learning_rate': 4.36181364607453e-05}. Best is trial 0 with value: 0.7457500100135803.\n"
          ]
        },
        {
          "metadata": {
            "tags": null
          },
          "name": "stdout",
          "output_type": "stream",
          "text": [
            "Trial 2 started with hyperparameters: num_layers=6, filters=[59, 54, 83, 50, 34, 127], kernel_size=2, l1=2.8587384494778548e-05, l2=5.671783474995727e-05, dense_units=224, dropout_rate=0.2041862323089208, learning_rate=0.0009414670659609863\n",
            "\u001b[1m50/50\u001b[0m \u001b[32m━━━━━━━━━━━━━━━━━━━━\u001b[0m\u001b[37m\u001b[0m \u001b[1m11s\u001b[0m 79ms/step - accuracy: 0.5110 - loss: 0.8036 - val_accuracy: 0.6925 - val_loss: 0.6805\n",
            "\u001b[1m50/50\u001b[0m \u001b[32m━━━━━━━━━━━━━━━━━━━━\u001b[0m\u001b[37m\u001b[0m \u001b[1m1s\u001b[0m 23ms/step - accuracy: 0.6941 - loss: 0.6664 - val_accuracy: 0.7462 - val_loss: 0.5642\n",
            "\u001b[1m50/50\u001b[0m \u001b[32m━━━━━━━━━━━━━━━━━━━━\u001b[0m\u001b[37m\u001b[0m \u001b[1m1s\u001b[0m 22ms/step - accuracy: 0.7417 - loss: 0.5758 - val_accuracy: 0.7550 - val_loss: 0.5497\n",
            "\u001b[1m50/50\u001b[0m \u001b[32m━━━━━━━━━━━━━━━━━━━━\u001b[0m\u001b[37m\u001b[0m \u001b[1m1s\u001b[0m 22ms/step - accuracy: 0.7428 - loss: 0.5618 - val_accuracy: 0.7425 - val_loss: 0.5640\n",
            "\u001b[1m50/50\u001b[0m \u001b[32m━━━━━━━━━━━━━━━━━━━━\u001b[0m\u001b[37m\u001b[0m \u001b[1m1s\u001b[0m 22ms/step - accuracy: 0.7567 - loss: 0.5386 - val_accuracy: 0.7437 - val_loss: 0.5606\n",
            "\u001b[1m50/50\u001b[0m \u001b[32m━━━━━━━━━━━━━━━━━━━━\u001b[0m\u001b[37m\u001b[0m \u001b[1m1s\u001b[0m 22ms/step - accuracy: 0.7587 - loss: 0.5288 - val_accuracy: 0.7588 - val_loss: 0.5430\n",
            "\u001b[1m50/50\u001b[0m \u001b[32m━━━━━━━━━━━━━━━━━━━━\u001b[0m\u001b[37m\u001b[0m \u001b[1m1s\u001b[0m 22ms/step - accuracy: 0.7643 - loss: 0.5332 - val_accuracy: 0.7412 - val_loss: 0.5386\n",
            "\u001b[1m50/50\u001b[0m \u001b[32m━━━━━━━━━━━━━━━━━━━━\u001b[0m\u001b[37m\u001b[0m \u001b[1m1s\u001b[0m 22ms/step - accuracy: 0.7581 - loss: 0.5389 - val_accuracy: 0.7738 - val_loss: 0.5181\n",
            "\u001b[1m50/50\u001b[0m \u001b[32m━━━━━━━━━━━━━━━━━━━━\u001b[0m\u001b[37m\u001b[0m \u001b[1m1s\u001b[0m 22ms/step - accuracy: 0.7593 - loss: 0.5335 - val_accuracy: 0.7713 - val_loss: 0.5167\n",
            "\u001b[1m125/125\u001b[0m \u001b[32m━━━━━━━━━━━━━━━━━━━━\u001b[0m\u001b[37m\u001b[0m \u001b[1m1s\u001b[0m 4ms/step - accuracy: 0.7779 - loss: 0.5126\n"
          ]
        },
        {
          "metadata": {
            "tags": null
          },
          "name": "stderr",
          "output_type": "stream",
          "text": [
            "[I 2024-08-06 19:16:00,211] Trial 2 finished with value: 0.7749999761581421 and parameters: {'num_layers': 6, 'filters_0': 59, 'filters_1': 54, 'filters_2': 83, 'filters_3': 50, 'filters_4': 34, 'filters_5': 127, 'kernel_size': 2, 'l1': 2.8587384494778548e-05, 'l2': 5.671783474995727e-05, 'dense_units': 224, 'dropout_rate': 0.2041862323089208, 'learning_rate': 0.0009414670659609863}. Best is trial 2 with value: 0.7749999761581421.\n"
          ]
        },
        {
          "metadata": {
            "tags": null
          },
          "name": "stdout",
          "output_type": "stream",
          "text": [
            "Trial 3 started with hyperparameters: num_layers=3, filters=[79, 83, 81], kernel_size=2, l1=2.4768594237307907e-05, l2=0.0006992137199417164, dense_units=108, dropout_rate=0.18570184832201814, learning_rate=0.00018161195979508115\n",
            "\u001b[1m50/50\u001b[0m \u001b[32m━━━━━━━━━━━━━━━━━━━━\u001b[0m\u001b[37m\u001b[0m \u001b[1m9s\u001b[0m 74ms/step - accuracy: 0.5494 - loss: 0.8631 - val_accuracy: 0.7325 - val_loss: 0.7271\n",
            "\u001b[1m50/50\u001b[0m \u001b[32m━━━━━━━━━━━━━━━━━━━━\u001b[0m\u001b[37m\u001b[0m \u001b[1m1s\u001b[0m 27ms/step - accuracy: 0.7218 - loss: 0.7219 - val_accuracy: 0.7713 - val_loss: 0.6443\n",
            "\u001b[1m50/50\u001b[0m \u001b[32m━━━━━━━━━━━━━━━━━━━━\u001b[0m\u001b[37m\u001b[0m \u001b[1m1s\u001b[0m 27ms/step - accuracy: 0.7573 - loss: 0.6615 - val_accuracy: 0.7825 - val_loss: 0.6247\n",
            "\u001b[1m50/50\u001b[0m \u001b[32m━━━━━━━━━━━━━━━━━━━━\u001b[0m\u001b[37m\u001b[0m \u001b[1m1s\u001b[0m 27ms/step - accuracy: 0.7717 - loss: 0.6258 - val_accuracy: 0.7700 - val_loss: 0.6182\n",
            "\u001b[1m50/50\u001b[0m \u001b[32m━━━━━━━━━━━━━━━━━━━━\u001b[0m\u001b[37m\u001b[0m \u001b[1m1s\u001b[0m 27ms/step - accuracy: 0.7677 - loss: 0.6298 - val_accuracy: 0.7513 - val_loss: 0.6177\n",
            "\u001b[1m50/50\u001b[0m \u001b[32m━━━━━━━━━━━━━━━━━━━━\u001b[0m\u001b[37m\u001b[0m \u001b[1m1s\u001b[0m 27ms/step - accuracy: 0.7800 - loss: 0.5952 - val_accuracy: 0.7837 - val_loss: 0.5930\n",
            "\u001b[1m50/50\u001b[0m \u001b[32m━━━━━━━━━━━━━━━━━━━━\u001b[0m\u001b[37m\u001b[0m \u001b[1m1s\u001b[0m 27ms/step - accuracy: 0.7723 - loss: 0.6047 - val_accuracy: 0.7800 - val_loss: 0.5877\n",
            "\u001b[1m50/50\u001b[0m \u001b[32m━━━━━━━━━━━━━━━━━━━━\u001b[0m\u001b[37m\u001b[0m \u001b[1m1s\u001b[0m 27ms/step - accuracy: 0.7776 - loss: 0.6024 - val_accuracy: 0.7862 - val_loss: 0.5795\n",
            "\u001b[1m50/50\u001b[0m \u001b[32m━━━━━━━━━━━━━━━━━━━━\u001b[0m\u001b[37m\u001b[0m \u001b[1m1s\u001b[0m 28ms/step - accuracy: 0.7823 - loss: 0.5937 - val_accuracy: 0.7812 - val_loss: 0.5737\n",
            "\u001b[1m125/125\u001b[0m \u001b[32m━━━━━━━━━━━━━━━━━━━━\u001b[0m\u001b[37m\u001b[0m \u001b[1m1s\u001b[0m 5ms/step - accuracy: 0.7898 - loss: 0.5636\n"
          ]
        },
        {
          "metadata": {
            "tags": null
          },
          "name": "stderr",
          "output_type": "stream",
          "text": [
            "[I 2024-08-06 19:29:50,369] Trial 3 finished with value: 0.7867500185966492 and parameters: {'num_layers': 3, 'filters_0': 79, 'filters_1': 83, 'filters_2': 81, 'kernel_size': 2, 'l1': 2.4768594237307907e-05, 'l2': 0.0006992137199417164, 'dense_units': 108, 'dropout_rate': 0.18570184832201814, 'learning_rate': 0.00018161195979508115}. Best is trial 3 with value: 0.7867500185966492.\n"
          ]
        },
        {
          "metadata": {
            "tags": null
          },
          "name": "stdout",
          "output_type": "stream",
          "text": [
            "Trial 4 started with hyperparameters: num_layers=3, filters=[116, 72, 123], kernel_size=3, l1=5.3796372481907575e-06, l2=6.588835167272095e-05, dense_units=175, dropout_rate=0.219228799164776, learning_rate=1.6760833502051187e-05\n",
            "\u001b[1m50/50\u001b[0m \u001b[32m━━━━━━━━━━━━━━━━━━━━\u001b[0m\u001b[37m\u001b[0m \u001b[1m11s\u001b[0m 87ms/step - accuracy: 0.5009 - loss: 0.7338 - val_accuracy: 0.4825 - val_loss: 0.7234\n",
            "\u001b[1m50/50\u001b[0m \u001b[32m━━━━━━━━━━━━━━━━━━━━\u001b[0m\u001b[37m\u001b[0m \u001b[1m2s\u001b[0m 33ms/step - accuracy: 0.5761 - loss: 0.7122 - val_accuracy: 0.7500 - val_loss: 0.6746\n",
            "\u001b[1m50/50\u001b[0m \u001b[32m━━━━━━━━━━━━━━━━━━━━\u001b[0m\u001b[37m\u001b[0m \u001b[1m2s\u001b[0m 34ms/step - accuracy: 0.6998 - loss: 0.6630 - val_accuracy: 0.7250 - val_loss: 0.6111\n",
            "\u001b[1m50/50\u001b[0m \u001b[32m━━━━━━━━━━━━━━━━━━━━\u001b[0m\u001b[37m\u001b[0m \u001b[1m2s\u001b[0m 35ms/step - accuracy: 0.7320 - loss: 0.6034 - val_accuracy: 0.7400 - val_loss: 0.5694\n",
            "\u001b[1m50/50\u001b[0m \u001b[32m━━━━━━━━━━━━━━━━━━━━\u001b[0m\u001b[37m\u001b[0m \u001b[1m2s\u001b[0m 33ms/step - accuracy: 0.7380 - loss: 0.5758 - val_accuracy: 0.7325 - val_loss: 0.5606\n",
            "\u001b[1m50/50\u001b[0m \u001b[32m━━━━━━━━━━━━━━━━━━━━\u001b[0m\u001b[37m\u001b[0m \u001b[1m2s\u001b[0m 33ms/step - accuracy: 0.7560 - loss: 0.5430 - val_accuracy: 0.7437 - val_loss: 0.5645\n",
            "\u001b[1m50/50\u001b[0m \u001b[32m━━━━━━━━━━━━━━━━━━━━\u001b[0m\u001b[37m\u001b[0m \u001b[1m2s\u001b[0m 33ms/step - accuracy: 0.7453 - loss: 0.5396 - val_accuracy: 0.7100 - val_loss: 0.5826\n",
            "\u001b[1m50/50\u001b[0m \u001b[32m━━━━━━━━━━━━━━━━━━━━\u001b[0m\u001b[37m\u001b[0m \u001b[1m2s\u001b[0m 34ms/step - accuracy: 0.7466 - loss: 0.5334 - val_accuracy: 0.7513 - val_loss: 0.5274\n",
            "\u001b[1m50/50\u001b[0m \u001b[32m━━━━━━━━━━━━━━━━━━━━\u001b[0m\u001b[37m\u001b[0m \u001b[1m2s\u001b[0m 34ms/step - accuracy: 0.7707 - loss: 0.5251 - val_accuracy: 0.7550 - val_loss: 0.5222\n",
            "\u001b[1m125/125\u001b[0m \u001b[32m━━━━━━━━━━━━━━━━━━━━\u001b[0m\u001b[37m\u001b[0m \u001b[1m1s\u001b[0m 5ms/step - accuracy: 0.7544 - loss: 0.5228\n"
          ]
        },
        {
          "metadata": {
            "tags": null
          },
          "name": "stderr",
          "output_type": "stream",
          "text": [
            "[I 2024-08-06 19:43:46,037] Trial 4 finished with value: 0.7519999742507935 and parameters: {'num_layers': 3, 'filters_0': 116, 'filters_1': 72, 'filters_2': 123, 'kernel_size': 3, 'l1': 5.3796372481907575e-06, 'l2': 6.588835167272095e-05, 'dense_units': 175, 'dropout_rate': 0.219228799164776, 'learning_rate': 1.6760833502051187e-05}. Best is trial 3 with value: 0.7867500185966492.\n"
          ]
        },
        {
          "metadata": {
            "tags": null
          },
          "name": "stdout",
          "output_type": "stream",
          "text": [
            "Trial 5 started with hyperparameters: num_layers=6, filters=[96, 128, 119, 38, 63, 120], kernel_size=3, l1=9.872774609631383e-06, l2=3.4320966367446358e-06, dense_units=170, dropout_rate=0.47129964644061806, learning_rate=7.558215860770073e-05\n",
            "\u001b[1m50/50\u001b[0m \u001b[32m━━━━━━━━━━━━━━━━━━━━\u001b[0m\u001b[37m\u001b[0m \u001b[1m15s\u001b[0m 109ms/step - accuracy: 0.5027 - loss: 0.8012 - val_accuracy: 0.7138 - val_loss: 0.7930\n",
            "\u001b[1m50/50\u001b[0m \u001b[32m━━━━━━━━━━━━━━━━━━━━\u001b[0m\u001b[37m\u001b[0m \u001b[1m2s\u001b[0m 32ms/step - accuracy: 0.6196 - loss: 0.7823 - val_accuracy: 0.6913 - val_loss: 0.7089\n",
            "\u001b[1m50/50\u001b[0m \u001b[32m━━━━━━━━━━━━━━━━━━━━\u001b[0m\u001b[37m\u001b[0m \u001b[1m2s\u001b[0m 32ms/step - accuracy: 0.7076 - loss: 0.6786 - val_accuracy: 0.7750 - val_loss: 0.5861\n",
            "\u001b[1m50/50\u001b[0m \u001b[32m━━━━━━━━━━━━━━━━━━━━\u001b[0m\u001b[37m\u001b[0m \u001b[1m2s\u001b[0m 33ms/step - accuracy: 0.7591 - loss: 0.6034 - val_accuracy: 0.7638 - val_loss: 0.5841\n"
          ]
        },
        {
          "metadata": {
            "tags": null
          },
          "name": "stderr",
          "output_type": "stream",
          "text": [
            "[I 2024-08-06 19:49:29,888] Trial 5 pruned. \n"
          ]
        },
        {
          "metadata": {
            "tags": null
          },
          "name": "stdout",
          "output_type": "stream",
          "text": [
            "Trial 6 started with hyperparameters: num_layers=6, filters=[124, 66, 64, 86, 124, 57], kernel_size=2, l1=3.405554287680758e-06, l2=9.419224503963682e-06, dense_units=212, dropout_rate=0.35556230657297294, learning_rate=0.00031993604417710424\n",
            "\u001b[1m48/50\u001b[0m \u001b[32m━━━━━━━━━━━━━━━━━━━\u001b[0m\u001b[37m━\u001b[0m \u001b[1m0s\u001b[0m 25ms/step - accuracy: 0.4983 - loss: 0.7187"
          ]
        },
        {
          "metadata": {
            "tags": null
          },
          "name": "stderr",
          "output_type": "stream",
          "text": [
            "[I 2024-08-06 19:51:03,682] Trial 6 pruned. Trial was pruned at epoch 0.\n"
          ]
        },
        {
          "metadata": {
            "tags": null
          },
          "name": "stdout",
          "output_type": "stream",
          "text": [
            "Trial 7 started with hyperparameters: num_layers=4, filters=[105, 46, 96, 123], kernel_size=3, l1=1.132946961805373e-06, l2=0.0018149105328082102, dense_units=183, dropout_rate=0.39865520775123164, learning_rate=1.1023429601685468e-05\n",
            "\u001b[1m50/50\u001b[0m \u001b[32m━━━━━━━━━━━━━━━━━━━━\u001b[0m\u001b[37m\u001b[0m \u001b[1m12s\u001b[0m 88ms/step - accuracy: 0.4980 - loss: 1.1286 - val_accuracy: 0.5188 - val_loss: 1.1182\n",
            "\u001b[1m50/50\u001b[0m \u001b[32m━━━━━━━━━━━━━━━━━━━━\u001b[0m\u001b[37m\u001b[0m \u001b[1m2s\u001b[0m 30ms/step - accuracy: 0.5246 - loss: 1.1175 - val_accuracy: 0.7225 - val_loss: 1.1064\n",
            "\u001b[1m50/50\u001b[0m \u001b[32m━━━━━━━━━━━━━━━━━━━━\u001b[0m\u001b[37m\u001b[0m \u001b[1m2s\u001b[0m 31ms/step - accuracy: 0.5881 - loss: 1.1042 - val_accuracy: 0.6587 - val_loss: 1.0922\n",
            "\u001b[1m50/50\u001b[0m \u001b[32m━━━━━━━━━━━━━━━━━━━━\u001b[0m\u001b[37m\u001b[0m \u001b[1m2s\u001b[0m 30ms/step - accuracy: 0.6607 - loss: 1.0853 - val_accuracy: 0.7475 - val_loss: 1.0666\n"
          ]
        },
        {
          "metadata": {
            "tags": null
          },
          "name": "stderr",
          "output_type": "stream",
          "text": [
            "[I 2024-08-06 19:56:43,603] Trial 7 pruned. \n"
          ]
        },
        {
          "metadata": {
            "tags": null
          },
          "name": "stdout",
          "output_type": "stream",
          "text": [
            "Trial 8 started with hyperparameters: num_layers=6, filters=[125, 69, 92, 63, 70, 85], kernel_size=3, l1=8.44748920697264e-05, l2=1.6055710536895412e-06, dense_units=77, dropout_rate=0.15957234474377155, learning_rate=0.00022775552105532929\n",
            "\u001b[1m50/50\u001b[0m \u001b[32m━━━━━━━━━━━━━━━━━━━━\u001b[0m\u001b[37m\u001b[0m \u001b[1m15s\u001b[0m 108ms/step - accuracy: 0.5022 - loss: 1.4104 - val_accuracy: 0.4825 - val_loss: 1.2744\n",
            "\u001b[1m50/50\u001b[0m \u001b[32m━━━━━━━━━━━━━━━━━━━━\u001b[0m\u001b[37m\u001b[0m \u001b[1m2s\u001b[0m 34ms/step - accuracy: 0.5193 - loss: 1.2319 - val_accuracy: 0.4837 - val_loss: 1.1111\n",
            "\u001b[1m50/50\u001b[0m \u001b[32m━━━━━━━━━━━━━━━━━━━━\u001b[0m\u001b[37m\u001b[0m \u001b[1m2s\u001b[0m 35ms/step - accuracy: 0.6075 - loss: 1.0626 - val_accuracy: 0.7800 - val_loss: 0.8220\n",
            "\u001b[1m50/50\u001b[0m \u001b[32m━━━━━━━━━━━━━━━━━━━━\u001b[0m\u001b[37m\u001b[0m \u001b[1m2s\u001b[0m 35ms/step - accuracy: 0.6958 - loss: 0.8821 - val_accuracy: 0.7437 - val_loss: 0.7746\n"
          ]
        },
        {
          "metadata": {
            "tags": null
          },
          "name": "stderr",
          "output_type": "stream",
          "text": [
            "[I 2024-08-06 20:02:27,152] Trial 8 pruned. \n"
          ]
        },
        {
          "metadata": {
            "tags": null
          },
          "name": "stdout",
          "output_type": "stream",
          "text": [
            "Trial 9 started with hyperparameters: num_layers=4, filters=[37, 45, 124, 46], kernel_size=3, l1=0.002594681645218939, l2=0.0008892414514162331, dense_units=217, dropout_rate=0.3708984212716815, learning_rate=0.00043416062430333635\n",
            "\u001b[1m50/50\u001b[0m \u001b[32m━━━━━━━━━━━━━━━━━━━━\u001b[0m\u001b[37m\u001b[0m \u001b[1m9s\u001b[0m 70ms/step - accuracy: 0.5128 - loss: 9.4658 - val_accuracy: 0.7312 - val_loss: 5.5791\n",
            "\u001b[1m50/50\u001b[0m \u001b[32m━━━━━━━━━━━━━━━━━━━━\u001b[0m\u001b[37m\u001b[0m \u001b[1m1s\u001b[0m 20ms/step - accuracy: 0.6030 - loss: 4.6295 - val_accuracy: 0.7638 - val_loss: 2.3678\n",
            "\u001b[1m50/50\u001b[0m \u001b[32m━━━━━━━━━━━━━━━━━━━━\u001b[0m\u001b[37m\u001b[0m \u001b[1m1s\u001b[0m 20ms/step - accuracy: 0.6877 - loss: 1.9507 - val_accuracy: 0.7312 - val_loss: 1.1731\n",
            "\u001b[1m50/50\u001b[0m \u001b[32m━━━━━━━━━━━━━━━━━━━━\u001b[0m\u001b[37m\u001b[0m \u001b[1m1s\u001b[0m 20ms/step - accuracy: 0.7289 - loss: 1.1030 - val_accuracy: 0.7487 - val_loss: 0.9348\n",
            "\u001b[1m50/50\u001b[0m \u001b[32m━━━━━━━━━━━━━━━━━━━━\u001b[0m\u001b[37m\u001b[0m \u001b[1m1s\u001b[0m 20ms/step - accuracy: 0.7464 - loss: 0.9181 - val_accuracy: 0.7362 - val_loss: 0.8621\n",
            "\u001b[1m50/50\u001b[0m \u001b[32m━━━━━━━━━━━━━━━━━━━━\u001b[0m\u001b[37m\u001b[0m \u001b[1m1s\u001b[0m 20ms/step - accuracy: 0.7412 - loss: 0.8454 - val_accuracy: 0.7563 - val_loss: 0.8137\n",
            "\u001b[1m50/50\u001b[0m \u001b[32m━━━━━━━━━━━━━━━━━━━━\u001b[0m\u001b[37m\u001b[0m \u001b[1m1s\u001b[0m 20ms/step - accuracy: 0.7495 - loss: 0.8182 - val_accuracy: 0.7588 - val_loss: 0.7919\n",
            "\u001b[1m50/50\u001b[0m \u001b[32m━━━━━━━━━━━━━━━━━━━━\u001b[0m\u001b[37m\u001b[0m \u001b[1m1s\u001b[0m 20ms/step - accuracy: 0.7611 - loss: 0.7830 - val_accuracy: 0.7525 - val_loss: 0.7573\n",
            "\u001b[1m50/50\u001b[0m \u001b[32m━━━━━━━━━━━━━━━━━━━━\u001b[0m\u001b[37m\u001b[0m \u001b[1m1s\u001b[0m 20ms/step - accuracy: 0.7623 - loss: 0.7549 - val_accuracy: 0.7525 - val_loss: 0.7307\n",
            "\u001b[1m125/125\u001b[0m \u001b[32m━━━━━━━━━━━━━━━━━━━━\u001b[0m\u001b[37m\u001b[0m \u001b[1m1s\u001b[0m 4ms/step - accuracy: 0.7565 - loss: 0.7302\n"
          ]
        },
        {
          "metadata": {
            "tags": null
          },
          "name": "stderr",
          "output_type": "stream",
          "text": [
            "[I 2024-08-06 20:16:13,037] Trial 9 finished with value: 0.7627500295639038 and parameters: {'num_layers': 4, 'filters_0': 37, 'filters_1': 45, 'filters_2': 124, 'filters_3': 46, 'kernel_size': 3, 'l1': 0.002594681645218939, 'l2': 0.0008892414514162331, 'dense_units': 217, 'dropout_rate': 0.3708984212716815, 'learning_rate': 0.00043416062430333635}. Best is trial 3 with value: 0.7867500185966492.\n"
          ]
        },
        {
          "metadata": {
            "tags": null
          },
          "name": "stdout",
          "output_type": "stream",
          "text": [
            "Trial 10 started with hyperparameters: num_layers=3, filters=[76, 97, 55], kernel_size=2, l1=0.00047832367323550343, l2=0.0002734411672433124, dense_units=110, dropout_rate=0.1042004376177876, learning_rate=0.00012959168040638504\n",
            "\u001b[1m49/50\u001b[0m \u001b[32m━━━━━━━━━━━━━━━━━━━\u001b[0m\u001b[37m━\u001b[0m \u001b[1m0s\u001b[0m 21ms/step - accuracy: 0.5100 - loss: 1.8822"
          ]
        },
        {
          "metadata": {
            "tags": null
          },
          "name": "stderr",
          "output_type": "stream",
          "text": [
            "[I 2024-08-06 20:17:43,350] Trial 10 pruned. Trial was pruned at epoch 0.\n"
          ]
        },
        {
          "metadata": {
            "tags": null
          },
          "name": "stdout",
          "output_type": "stream",
          "text": [
            "Trial 11 started with hyperparameters: num_layers=5, filters=[70, 96, 80, 80, 35], kernel_size=2, l1=6.203145087347025e-05, l2=3.2989093031818e-05, dense_units=121, dropout_rate=0.2338866889939318, learning_rate=0.000995964994182545\n",
            "\u001b[1m49/50\u001b[0m \u001b[32m━━━━━━━━━━━━━━━━━━━\u001b[0m\u001b[37m━\u001b[0m \u001b[1m0s\u001b[0m 19ms/step - accuracy: 0.5123 - loss: 0.9452"
          ]
        },
        {
          "metadata": {
            "tags": null
          },
          "name": "stderr",
          "output_type": "stream",
          "text": [
            "[I 2024-08-06 20:19:15,366] Trial 11 pruned. Trial was pruned at epoch 0.\n"
          ]
        },
        {
          "metadata": {
            "tags": null
          },
          "name": "stdout",
          "output_type": "stream",
          "text": [
            "Trial 12 started with hyperparameters: num_layers=5, filters=[63, 94, 77, 63, 32], kernel_size=2, l1=0.0003156125656981619, l2=0.0002372577959204949, dense_units=254, dropout_rate=0.20785626620575354, learning_rate=0.00058824228715917\n",
            "\u001b[1m49/50\u001b[0m \u001b[32m━━━━━━━━━━━━━━━━━━━\u001b[0m\u001b[37m━\u001b[0m \u001b[1m0s\u001b[0m 19ms/step - accuracy: 0.5110 - loss: 1.8826"
          ]
        },
        {
          "metadata": {
            "tags": null
          },
          "name": "stderr",
          "output_type": "stream",
          "text": [
            "[I 2024-08-06 20:20:47,714] Trial 12 pruned. Trial was pruned at epoch 0.\n"
          ]
        },
        {
          "metadata": {
            "tags": null
          },
          "name": "stdout",
          "output_type": "stream",
          "text": [
            "Trial 13 started with hyperparameters: num_layers=4, filters=[89, 85, 107, 95], kernel_size=2, l1=2.4994136990220134e-05, l2=1.8759078037446335e-05, dense_units=129, dropout_rate=0.14593025702222973, learning_rate=0.00015540093915291964\n",
            "\u001b[1m48/50\u001b[0m \u001b[32m━━━━━━━━━━━━━━━━━━━\u001b[0m\u001b[37m━\u001b[0m \u001b[1m0s\u001b[0m 23ms/step - accuracy: 0.5064 - loss: 0.8179"
          ]
        },
        {
          "metadata": {
            "tags": null
          },
          "name": "stderr",
          "output_type": "stream",
          "text": [
            "[I 2024-08-06 20:22:19,837] Trial 13 pruned. Trial was pruned at epoch 0.\n"
          ]
        },
        {
          "metadata": {
            "tags": null
          },
          "name": "stdout",
          "output_type": "stream",
          "text": [
            "Trial 14 started with hyperparameters: num_layers=5, filters=[60, 117, 95, 58, 52], kernel_size=2, l1=0.0002995203644123708, l2=0.0001759814020095826, dense_units=80, dropout_rate=0.2694546575258704, learning_rate=0.0008786842909341013\n",
            "\u001b[1m49/50\u001b[0m \u001b[32m━━━━━━━━━━━━━━━━━━━\u001b[0m\u001b[37m━\u001b[0m \u001b[1m0s\u001b[0m 20ms/step - accuracy: 0.5191 - loss: 1.9841"
          ]
        },
        {
          "metadata": {
            "tags": null
          },
          "name": "stderr",
          "output_type": "stream",
          "text": [
            "[I 2024-08-06 20:23:52,112] Trial 14 pruned. Trial was pruned at epoch 0.\n"
          ]
        },
        {
          "metadata": {
            "tags": null
          },
          "name": "stdout",
          "output_type": "stream",
          "text": [
            "Trial 15 started with hyperparameters: num_layers=4, filters=[84, 55, 69, 33], kernel_size=2, l1=4.641614249761191e-05, l2=0.0013392351288244112, dense_units=144, dropout_rate=0.1767683958487478, learning_rate=6.835798626355143e-05\n",
            "\u001b[1m49/50\u001b[0m \u001b[32m━━━━━━━━━━━━━━━━━━━\u001b[0m\u001b[37m━\u001b[0m \u001b[1m0s\u001b[0m 20ms/step - accuracy: 0.4922 - loss: 1.0312"
          ]
        },
        {
          "metadata": {
            "tags": null
          },
          "name": "stderr",
          "output_type": "stream",
          "text": [
            "[I 2024-08-06 20:25:22,761] Trial 15 pruned. Trial was pruned at epoch 0.\n"
          ]
        },
        {
          "metadata": {
            "tags": null
          },
          "name": "stdout",
          "output_type": "stream",
          "text": [
            "Trial 16 started with hyperparameters: num_layers=5, filters=[58, 77, 43, 103, 92], kernel_size=2, l1=1.5105038929027418e-06, l2=0.0005391248363162956, dense_units=246, dropout_rate=0.28193377841347933, learning_rate=0.00022531137997999572\n",
            "\u001b[1m49/50\u001b[0m \u001b[32m━━━━━━━━━━━━━━━━━━━\u001b[0m\u001b[37m━\u001b[0m \u001b[1m0s\u001b[0m 18ms/step - accuracy: 0.5041 - loss: 0.8463"
          ]
        },
        {
          "metadata": {
            "tags": null
          },
          "name": "stderr",
          "output_type": "stream",
          "text": [
            "[I 2024-08-06 20:26:54,598] Trial 16 pruned. Trial was pruned at epoch 0.\n"
          ]
        },
        {
          "metadata": {
            "tags": null
          },
          "name": "stdout",
          "output_type": "stream",
          "text": [
            "Trial 17 started with hyperparameters: num_layers=3, filters=[33, 32, 85], kernel_size=2, l1=0.0009646650799427892, l2=8.583027104421842e-05, dense_units=97, dropout_rate=0.10777642147979047, learning_rate=0.0004437289239563394\n",
            "\u001b[1m46/50\u001b[0m \u001b[32m━━━━━━━━━━━━━━━━━━\u001b[0m\u001b[37m━━\u001b[0m \u001b[1m0s\u001b[0m 11ms/step - accuracy: 0.5536 - loss: 1.5608"
          ]
        },
        {
          "metadata": {
            "tags": null
          },
          "name": "stderr",
          "output_type": "stream",
          "text": [
            "[I 2024-08-06 20:28:23,032] Trial 17 pruned. Trial was pruned at epoch 0.\n"
          ]
        },
        {
          "metadata": {
            "tags": null
          },
          "name": "stdout",
          "output_type": "stream",
          "text": [
            "Trial 18 started with hyperparameters: num_layers=4, filters=[75, 85, 108, 73], kernel_size=2, l1=0.00016629891894140095, l2=0.003031934370473462, dense_units=146, dropout_rate=0.24471377253499407, learning_rate=0.0006247796727903461\n",
            "\u001b[1m49/50\u001b[0m \u001b[32m━━━━━━━━━━━━━━━━━━━\u001b[0m\u001b[37m━\u001b[0m \u001b[1m0s\u001b[0m 21ms/step - accuracy: 0.5144 - loss: 2.0003"
          ]
        },
        {
          "metadata": {
            "tags": null
          },
          "name": "stderr",
          "output_type": "stream",
          "text": [
            "[I 2024-08-06 20:29:54,144] Trial 18 pruned. Trial was pruned at epoch 0.\n"
          ]
        },
        {
          "metadata": {
            "tags": null
          },
          "name": "stdout",
          "output_type": "stream",
          "text": [
            "Trial 19 started with hyperparameters: num_layers=5, filters=[99, 106, 70, 49, 53], kernel_size=2, l1=3.451101012040201e-05, l2=1.0865528958914258e-05, dense_units=233, dropout_rate=0.1899451949417758, learning_rate=0.0002197006899804171\n",
            "\u001b[1m50/50\u001b[0m \u001b[32m━━━━━━━━━━━━━━━━━━━━\u001b[0m\u001b[37m\u001b[0m \u001b[1m0s\u001b[0m 26ms/step - accuracy: 0.5037 - loss: 0.8503"
          ]
        },
        {
          "metadata": {
            "tags": null
          },
          "name": "stderr",
          "output_type": "stream",
          "text": [
            "[I 2024-08-06 20:31:27,837] Trial 19 pruned. Trial was pruned at epoch 0.\n"
          ]
        },
        {
          "metadata": {
            "tags": null
          },
          "name": "stdout",
          "output_type": "stream",
          "text": [
            "Trial 20 started with hyperparameters: num_layers=6, filters=[49, 55, 109, 72, 85, 125], kernel_size=2, l1=1.0258907309637565e-05, l2=4.427974204290512e-05, dense_units=95, dropout_rate=0.3037277229520962, learning_rate=0.00010323922778740876\n",
            "\u001b[1m49/50\u001b[0m \u001b[32m━━━━━━━━━━━━━━━━━━━\u001b[0m\u001b[37m━\u001b[0m \u001b[1m0s\u001b[0m 16ms/step - accuracy: 0.5095 - loss: 0.7728"
          ]
        },
        {
          "metadata": {
            "tags": null
          },
          "name": "stderr",
          "output_type": "stream",
          "text": [
            "[I 2024-08-06 20:33:00,661] Trial 20 pruned. Trial was pruned at epoch 0.\n"
          ]
        },
        {
          "output_type": "stream",
          "name": "stdout",
          "text": [
            "Trial 21 started with hyperparameters: num_layers=4, filters=[38, 32, 90, 48], kernel_size=3, l1=0.008269424084361971, l2=0.0006783639217573163, dense_units=207, dropout_rate=0.40755195333854416, learning_rate=0.0004046381325755592\n",
            "\u001b[1m50/50\u001b[0m \u001b[32m━━━━━━━━━━━━━━━━━━━━\u001b[0m\u001b[37m\u001b[0m \u001b[1m9s\u001b[0m 67ms/step - accuracy: 0.5037 - loss: 21.5889 - val_accuracy: 0.4837 - val_loss: 13.6399\n",
            "\u001b[1m50/50\u001b[0m \u001b[32m━━━━━━━━━━━━━━━━━━━━\u001b[0m\u001b[37m\u001b[0m \u001b[1m1s\u001b[0m 19ms/step - accuracy: 0.5139 - loss: 11.5239 - val_accuracy: 0.4800 - val_loss: 6.0916\n",
            "\u001b[1m50/50\u001b[0m \u001b[32m━━━━━━━━━━━━━━━━━━━━\u001b[0m\u001b[37m\u001b[0m \u001b[1m1s\u001b[0m 19ms/step - accuracy: 0.4955 - loss: 4.8256 - val_accuracy: 0.5275 - val_loss: 1.9739\n",
            "\u001b[1m50/50\u001b[0m \u001b[32m━━━━━━━━━━━━━━━━━━━━\u001b[0m\u001b[37m\u001b[0m \u001b[1m1s\u001b[0m 19ms/step - accuracy: 0.4837 - loss: 1.5581 - val_accuracy: 0.5063 - val_loss: 0.9193\n",
            "\u001b[1m50/50\u001b[0m \u001b[32m━━━━━━━━━━━━━━━━━━━━\u001b[0m\u001b[37m\u001b[0m \u001b[1m1s\u001b[0m 19ms/step - accuracy: 0.5025 - loss: 0.8506 - val_accuracy: 0.5088 - val_loss: 0.7488\n",
            "\u001b[1m50/50\u001b[0m \u001b[32m━━━━━━━━━━━━━━━━━━━━\u001b[0m\u001b[37m\u001b[0m \u001b[1m1s\u001b[0m 19ms/step - accuracy: 0.4790 - loss: 0.7429 - val_accuracy: 0.5050 - val_loss: 0.7314\n",
            "\u001b[1m50/50\u001b[0m \u001b[32m━━━━━━━━━━━━━━━━━━━━\u001b[0m\u001b[37m\u001b[0m \u001b[1m1s\u001b[0m 19ms/step - accuracy: 0.4976 - loss: 0.7298 - val_accuracy: 0.5337 - val_loss: 0.7269\n",
            "\u001b[1m50/50\u001b[0m \u001b[32m━━━━━━━━━━━━━━━━━━━━\u001b[0m\u001b[37m\u001b[0m \u001b[1m1s\u001b[0m 19ms/step - accuracy: 0.5126 - loss: 0.7263 - val_accuracy: 0.4787 - val_loss: 0.7252\n",
            "\u001b[1m50/50\u001b[0m \u001b[32m━━━━━━━━━━━━━━━━━━━━\u001b[0m\u001b[37m\u001b[0m \u001b[1m1s\u001b[0m 19ms/step - accuracy: 0.4840 - loss: 0.7252 - val_accuracy: 0.5025 - val_loss: 0.7249\n",
            "\u001b[1m125/125\u001b[0m \u001b[32m━━━━━━━━━━━━━━━━━━━━\u001b[0m\u001b[37m\u001b[0m \u001b[1m0s\u001b[0m 4ms/step - accuracy: 0.4971 - loss: 0.7249\n"
          ]
        },
        {
          "output_type": "stream",
          "name": "stderr",
          "text": [
            "[I 2024-08-06 20:46:45,167] Trial 21 finished with value: 0.5 and parameters: {'num_layers': 4, 'filters_0': 38, 'filters_1': 32, 'filters_2': 90, 'filters_3': 48, 'kernel_size': 3, 'l1': 0.008269424084361971, 'l2': 0.0006783639217573163, 'dense_units': 207, 'dropout_rate': 0.40755195333854416, 'learning_rate': 0.0004046381325755592}. Best is trial 3 with value: 0.7867500185966492.\n"
          ]
        },
        {
          "output_type": "stream",
          "name": "stdout",
          "text": [
            "Trial 22 started with hyperparameters: num_layers=3, filters=[42, 53, 127], kernel_size=3, l1=0.0012105121817287904, l2=0.0008274372583487559, dense_units=232, dropout_rate=0.44382420564601766, learning_rate=0.0006739461902436197\n",
            "\u001b[1m48/50\u001b[0m \u001b[32m━━━━━━━━━━━━━━━━━━━\u001b[0m\u001b[37m━\u001b[0m \u001b[1m0s\u001b[0m 16ms/step - accuracy: 0.5000 - loss: 4.0659"
          ]
        },
        {
          "output_type": "stream",
          "name": "stderr",
          "text": [
            "[I 2024-08-06 20:48:15,265] Trial 22 pruned. Trial was pruned at epoch 0.\n"
          ]
        },
        {
          "output_type": "stream",
          "name": "stdout",
          "text": [
            "Trial 23 started with hyperparameters: num_layers=4, filters=[68, 44, 101, 46], kernel_size=2, l1=0.00013144021309847542, l2=0.003061881156947998, dense_units=197, dropout_rate=0.35386013772299046, learning_rate=0.00034427757031660393\n",
            "\u001b[1m50/50\u001b[0m \u001b[32m━━━━━━━━━━━━━━━━━━━━\u001b[0m\u001b[37m\u001b[0m \u001b[1m0s\u001b[0m 17ms/step - accuracy: 0.5363 - loss: 1.5072"
          ]
        },
        {
          "output_type": "stream",
          "name": "stderr",
          "text": [
            "[I 2024-08-06 20:49:45,694] Trial 23 pruned. Trial was pruned at epoch 0.\n"
          ]
        },
        {
          "output_type": "stream",
          "name": "stdout",
          "text": [
            "Trial 24 started with hyperparameters: num_layers=3, filters=[52, 61, 78], kernel_size=3, l1=0.0011574675728111745, l2=0.0001777548481399488, dense_units=158, dropout_rate=0.1422110663562175, learning_rate=0.0005768298917690022\n",
            "\u001b[1m50/50\u001b[0m \u001b[32m━━━━━━━━━━━━━━━━━━━━\u001b[0m\u001b[37m\u001b[0m \u001b[1m0s\u001b[0m 17ms/step - accuracy: 0.5204 - loss: 3.4155"
          ]
        },
        {
          "output_type": "stream",
          "name": "stderr",
          "text": [
            "[I 2024-08-06 20:51:15,930] Trial 24 pruned. Trial was pruned at epoch 0.\n"
          ]
        },
        {
          "output_type": "stream",
          "name": "stdout",
          "text": [
            "Trial 25 started with hyperparameters: num_layers=4, filters=[84, 81, 117, 41], kernel_size=2, l1=1.7712309874959635e-05, l2=0.00043519807435495695, dense_units=231, dropout_rate=0.32007575729171334, learning_rate=0.00028620192989433957\n",
            "\u001b[1m49/50\u001b[0m \u001b[32m━━━━━━━━━━━━━━━━━━━\u001b[0m\u001b[37m━\u001b[0m \u001b[1m0s\u001b[0m 22ms/step - accuracy: 0.5350 - loss: 0.8549"
          ]
        },
        {
          "output_type": "stream",
          "name": "stderr",
          "text": [
            "[I 2024-08-06 20:52:46,507] Trial 25 pruned. Trial was pruned at epoch 0.\n"
          ]
        },
        {
          "output_type": "stream",
          "name": "stdout",
          "text": [
            "Trial 26 started with hyperparameters: num_layers=5, filters=[35, 38, 55, 53, 125], kernel_size=3, l1=0.002870559867064408, l2=0.00011398948562120972, dense_units=65, dropout_rate=0.2514709366872369, learning_rate=0.00044790947814115386\n",
            "\u001b[1m50/50\u001b[0m \u001b[32m━━━━━━━━━━━━━━━━━━━━\u001b[0m\u001b[37m\u001b[0m \u001b[1m11s\u001b[0m 75ms/step - accuracy: 0.5008 - loss: 11.1895 - val_accuracy: 0.4825 - val_loss: 6.6492\n",
            "\u001b[1m50/50\u001b[0m \u001b[32m━━━━━━━━━━━━━━━━━━━━\u001b[0m\u001b[37m\u001b[0m \u001b[1m1s\u001b[0m 19ms/step - accuracy: 0.5123 - loss: 5.5043 - val_accuracy: 0.5200 - val_loss: 2.7047\n",
            "\u001b[1m50/50\u001b[0m \u001b[32m━━━━━━━━━━━━━━━━━━━━\u001b[0m\u001b[37m\u001b[0m \u001b[1m1s\u001b[0m 20ms/step - accuracy: 0.5093 - loss: 2.1504 - val_accuracy: 0.4725 - val_loss: 1.0740\n",
            "\u001b[1m50/50\u001b[0m \u001b[32m━━━━━━━━━━━━━━━━━━━━\u001b[0m\u001b[37m\u001b[0m \u001b[1m1s\u001b[0m 19ms/step - accuracy: 0.4861 - loss: 0.9385 - val_accuracy: 0.4938 - val_loss: 0.7387\n",
            "\u001b[1m50/50\u001b[0m \u001b[32m━━━━━━━━━━━━━━━━━━━━\u001b[0m\u001b[37m\u001b[0m \u001b[1m1s\u001b[0m 19ms/step - accuracy: 0.4892 - loss: 0.7293 - val_accuracy: 0.4913 - val_loss: 0.7175\n",
            "\u001b[1m50/50\u001b[0m \u001b[32m━━━━━━━━━━━━━━━━━━━━\u001b[0m\u001b[37m\u001b[0m \u001b[1m1s\u001b[0m 19ms/step - accuracy: 0.4822 - loss: 0.7164 - val_accuracy: 0.5050 - val_loss: 0.7136\n",
            "\u001b[1m50/50\u001b[0m \u001b[32m━━━━━━━━━━━━━━━━━━━━\u001b[0m\u001b[37m\u001b[0m \u001b[1m1s\u001b[0m 19ms/step - accuracy: 0.4887 - loss: 0.7134 - val_accuracy: 0.4663 - val_loss: 0.7126\n",
            "\u001b[1m50/50\u001b[0m \u001b[32m━━━━━━━━━━━━━━━━━━━━\u001b[0m\u001b[37m\u001b[0m \u001b[1m1s\u001b[0m 19ms/step - accuracy: 0.5089 - loss: 0.7123 - val_accuracy: 0.4787 - val_loss: 0.7124\n",
            "\u001b[1m50/50\u001b[0m \u001b[32m━━━━━━━━━━━━━━━━━━━━\u001b[0m\u001b[37m\u001b[0m \u001b[1m1s\u001b[0m 19ms/step - accuracy: 0.5066 - loss: 0.7121 - val_accuracy: 0.5025 - val_loss: 0.7120\n",
            "\u001b[1m125/125\u001b[0m \u001b[32m━━━━━━━━━━━━━━━━━━━━\u001b[0m\u001b[37m\u001b[0m \u001b[1m1s\u001b[0m 4ms/step - accuracy: 0.4971 - loss: 0.7121\n"
          ]
        },
        {
          "output_type": "stream",
          "name": "stderr",
          "text": [
            "[I 2024-08-06 21:06:34,079] Trial 26 finished with value: 0.5 and parameters: {'num_layers': 5, 'filters_0': 35, 'filters_1': 38, 'filters_2': 55, 'filters_3': 53, 'filters_4': 125, 'kernel_size': 3, 'l1': 0.002870559867064408, 'l2': 0.00011398948562120972, 'dense_units': 65, 'dropout_rate': 0.2514709366872369, 'learning_rate': 0.00044790947814115386}. Best is trial 3 with value: 0.7867500185966492.\n"
          ]
        },
        {
          "output_type": "stream",
          "name": "stdout",
          "text": [
            "Trial 27 started with hyperparameters: num_layers=3, filters=[54, 75, 85], kernel_size=2, l1=4.380755865764938e-06, l2=0.0014488119641891538, dense_units=198, dropout_rate=0.394999618407702, learning_rate=0.00018386239252749512\n",
            "\u001b[1m49/50\u001b[0m \u001b[32m━━━━━━━━━━━━━━━━━━━\u001b[0m\u001b[37m━\u001b[0m \u001b[1m0s\u001b[0m 17ms/step - accuracy: 0.5251 - loss: 0.9317"
          ]
        },
        {
          "output_type": "stream",
          "name": "stderr",
          "text": [
            "[I 2024-08-06 21:08:04,134] Trial 27 pruned. Trial was pruned at epoch 0.\n"
          ]
        },
        {
          "output_type": "stream",
          "name": "stdout",
          "text": [
            "Trial 28 started with hyperparameters: num_layers=4, filters=[66, 49, 114, 33], kernel_size=3, l1=0.00013752028959552887, l2=0.004381252981908339, dense_units=222, dropout_rate=0.20800292849239196, learning_rate=0.0007803184369483995\n",
            "\u001b[1m49/50\u001b[0m \u001b[32m━━━━━━━━━━━━━━━━━━━\u001b[0m\u001b[37m━\u001b[0m \u001b[1m0s\u001b[0m 20ms/step - accuracy: 0.5269 - loss: 1.7262"
          ]
        },
        {
          "output_type": "stream",
          "name": "stderr",
          "text": [
            "[I 2024-08-06 21:09:36,256] Trial 28 pruned. Trial was pruned at epoch 0.\n"
          ]
        },
        {
          "output_type": "stream",
          "name": "stdout",
          "text": [
            "Trial 29 started with hyperparameters: num_layers=3, filters=[73, 42, 64], kernel_size=2, l1=0.00864511191583622, l2=0.0004363016128036331, dense_units=195, dropout_rate=0.3247610835303203, learning_rate=3.904337652970191e-05\n",
            "\u001b[1m50/50\u001b[0m \u001b[32m━━━━━━━━━━━━━━━━━━━━\u001b[0m\u001b[37m\u001b[0m \u001b[1m8s\u001b[0m 65ms/step - accuracy: 0.5004 - loss: 12.4490 - val_accuracy: 0.5713 - val_loss: 12.1462\n",
            "\u001b[1m50/50\u001b[0m \u001b[32m━━━━━━━━━━━━━━━━━━━━\u001b[0m\u001b[37m\u001b[0m \u001b[1m1s\u001b[0m 24ms/step - accuracy: 0.5564 - loss: 12.0497 - val_accuracy: 0.6850 - val_loss: 11.7570\n",
            "\u001b[1m50/50\u001b[0m \u001b[32m━━━━━━━━━━━━━━━━━━━━\u001b[0m\u001b[37m\u001b[0m \u001b[1m1s\u001b[0m 24ms/step - accuracy: 0.6209 - loss: 11.6645 - val_accuracy: 0.5200 - val_loss: 11.3922\n",
            "\u001b[1m50/50\u001b[0m \u001b[32m━━━━━━━━━━━━━━━━━━━━\u001b[0m\u001b[37m\u001b[0m \u001b[1m1s\u001b[0m 24ms/step - accuracy: 0.5935 - loss: 11.2996 - val_accuracy: 0.6850 - val_loss: 11.0176\n",
            "\u001b[1m50/50\u001b[0m \u001b[32m━━━━━━━━━━━━━━━━━━━━\u001b[0m\u001b[37m\u001b[0m \u001b[1m1s\u001b[0m 24ms/step - accuracy: 0.6982 - loss: 10.9282 - val_accuracy: 0.7150 - val_loss: 10.6690\n",
            "\u001b[1m50/50\u001b[0m \u001b[32m━━━━━━━━━━━━━━━━━━━━\u001b[0m\u001b[37m\u001b[0m \u001b[1m1s\u001b[0m 24ms/step - accuracy: 0.7276 - loss: 10.5748 - val_accuracy: 0.6662 - val_loss: 10.3498\n",
            "\u001b[1m50/50\u001b[0m \u001b[32m━━━━━━━━━━━━━━━━━━━━\u001b[0m\u001b[37m\u001b[0m \u001b[1m1s\u001b[0m 24ms/step - accuracy: 0.7080 - loss: 10.2574 - val_accuracy: 0.6725 - val_loss: 10.0490\n",
            "\u001b[1m50/50\u001b[0m \u001b[32m━━━━━━━━━━━━━━━━━━━━\u001b[0m\u001b[37m\u001b[0m \u001b[1m1s\u001b[0m 24ms/step - accuracy: 0.7389 - loss: 9.9429 - val_accuracy: 0.7387 - val_loss: 9.7306\n",
            "\u001b[1m50/50\u001b[0m \u001b[32m━━━━━━━━━━━━━━━━━━━━\u001b[0m\u001b[37m\u001b[0m \u001b[1m1s\u001b[0m 24ms/step - accuracy: 0.7462 - loss: 9.6643 - val_accuracy: 0.7613 - val_loss: 9.4425\n",
            "\u001b[1m125/125\u001b[0m \u001b[32m━━━━━━━━━━━━━━━━━━━━\u001b[0m\u001b[37m\u001b[0m \u001b[1m1s\u001b[0m 4ms/step - accuracy: 0.7517 - loss: 9.4446\n"
          ]
        },
        {
          "output_type": "stream",
          "name": "stderr",
          "text": [
            "[I 2024-08-06 21:23:22,792] Trial 29 finished with value: 0.7517499923706055 and parameters: {'num_layers': 3, 'filters_0': 73, 'filters_1': 42, 'filters_2': 64, 'kernel_size': 2, 'l1': 0.00864511191583622, 'l2': 0.0004363016128036331, 'dense_units': 195, 'dropout_rate': 0.3247610835303203, 'learning_rate': 3.904337652970191e-05}. Best is trial 3 with value: 0.7867500185966492.\n"
          ]
        },
        {
          "output_type": "stream",
          "name": "stdout",
          "text": [
            "Best trial:\n",
            "Value: 0.7867500185966492\n",
            "Params: \n",
            "    num_layers: 3\n",
            "    filters_0: 79\n",
            "    filters_1: 83\n",
            "    filters_2: 81\n",
            "    kernel_size: 2\n",
            "    l1: 2.4768594237307907e-05\n",
            "    l2: 0.0006992137199417164\n",
            "    dense_units: 108\n",
            "    dropout_rate: 0.18570184832201814\n",
            "    learning_rate: 0.00018161195979508115\n",
            "Elapsed time: 10139.75 seconds\n"
          ]
        }
      ]
    },
    {
      "cell_type": "code",
      "source": [],
      "metadata": {
        "id": "-eRibqz88I8p"
      },
      "execution_count": null,
      "outputs": []
    },
    {
      "cell_type": "code",
      "source": [
        "\n",
        "\n",
        "# Configure logging to file in the current directory with the specified name\n",
        "logging.basicConfig(filename='intermediate_Scenarios_IS.log', level=logging.INFO,\n",
        "                    format='%(asctime)s:%(levelname)s:%(message)s')\n",
        "\n",
        "# Function to preprocess data\n",
        "def preprocess_data(simulations_folder, batch_number):\n",
        "    # Create ImaFile object for the specified simulation folder and model\n",
        "    file_sim = ImaFile(simulations_folder=os.path.join(simulations_folder, f'Simulations{batch_number}'), nr_samples=198, model_name='Marth-3epoch-CEU')\n",
        "\n",
        "    # Read the simulation data\n",
        "    gene_sim = file_sim.read_simulations(parameter_name='selection_coeff_hetero', max_nrepl=4000)\n",
        "\n",
        "    # Filter simulations based on frequency threshold\n",
        "    gene_sim.filter_freq(0.01)\n",
        "\n",
        "    # Sort simulations by row frequency\n",
        "    gene_sim.sort('rows_freq')\n",
        "\n",
        "    # Resize simulation data to the required dimensions\n",
        "    gene_sim.resize((198, 192))\n",
        "\n",
        "    # Convert simulation data (flip=True allows for data augmentation)\n",
        "    gene_sim.convert(flip=True)\n",
        "\n",
        "    # Get a random subset of indices and subset the simulation data\n",
        "    gene_sim.subset(get_index_random(gene_sim))\n",
        "\n",
        "    # Convert targets to binary format\n",
        "    gene_sim.targets = to_binary(gene_sim.targets)\n",
        "\n",
        "    return gene_sim\n",
        "\n",
        "# Objective function for Optuna optimization\n",
        "def objective(trial, simulations_folder, epochs=1):\n",
        "    # Set random seed\n",
        "    np.random.seed(42)\n",
        "    tf.random.set_seed(42)\n",
        "\n",
        "    # Hyperparameters to be optimized\n",
        "    num_layers = trial.suggest_int('num_layers', 3, 6)  # Limit the number of layers to avoid excessive reduction\n",
        "    filters = [trial.suggest_int(f'filters_{i}', 32, 128) for i in range(num_layers)]  # Adjust filters range\n",
        "    kernel_size = trial.suggest_int('kernel_size', 2, 3)  # Limit the kernel size to avoid excessive reduction\n",
        "    l1 = trial.suggest_float('l1', 1e-6, 1e-2, log=True)\n",
        "    l2 = trial.suggest_float('l2', 1e-6, 1e-2, log=True)\n",
        "    dense_units = trial.suggest_int('dense_units', 64, 256)  # Adjust dense units range\n",
        "    dropout_rate = trial.suggest_float('dropout_rate', 0.1, 0.5)\n",
        "    learning_rate = trial.suggest_float('learning_rate', 1e-5, 1e-3, log=True)\n",
        "\n",
        "    # Log the hyperparameters at the start of each trial\n",
        "    logging.info(f'Trial {trial.number} started with hyperparameters: num_layers={num_layers}, filters={filters}, '\n",
        "                 f'kernel_size={kernel_size}, l1={l1}, l2={l2}, dense_units={dense_units}, '\n",
        "                 f'dropout_rate={dropout_rate}, learning_rate={learning_rate}')\n",
        "    print(f'Trial {trial.number} started with hyperparameters: num_layers={num_layers}, filters={filters}, '\n",
        "          f'kernel_size={kernel_size}, l1={l1}, l2={l2}, dense_units={dense_units}, '\n",
        "          f'dropout_rate={dropout_rate}, learning_rate={learning_rate}')\n",
        "\n",
        "    # Building the model based on sampled hyperparameters\n",
        "    model = models.Sequential()\n",
        "    model.add(layers.Input(shape=(198, 192, 1)))  # Define the input layer\n",
        "    for i in range(num_layers):\n",
        "        model.add(layers.Conv2D(filters=filters[i], kernel_size=(kernel_size, kernel_size), strides=(1, 1), activation='relu',\n",
        "                                kernel_regularizer=regularizers.l1_l2(l1=l1, l2=l2), padding='same'))  # Use 'same' padding to avoid dimension issues\n",
        "        model.add(layers.MaxPooling2D(pool_size=(2, 2)))\n",
        "\n",
        "    model.add(layers.Flatten())  # Flatten the output for the Dense layers\n",
        "    model.add(layers.Dense(units=dense_units, activation='relu'))  # Add Dense layer\n",
        "    model.add(layers.Dropout(rate=dropout_rate))  # Add Dropout layer\n",
        "    model.add(layers.Dense(units=1, activation='sigmoid'))  # Output layer with sigmoid activation\n",
        "\n",
        "    optimizer = tf.keras.optimizers.Adam(learning_rate=learning_rate)  # Define optimizer\n",
        "    model.compile(optimizer=optimizer, loss='binary_crossentropy', metrics=['accuracy'])  # Compile the model\n",
        "\n",
        "    # Pruning callback to terminate unpromising trials\n",
        "    pruning_callback = TFKerasPruningCallback(trial, 'val_loss')\n",
        "\n",
        "    # Early stopping to prevent overfitting\n",
        "    early_stopping = EarlyStopping(monitor='val_loss', patience=3, restore_best_weights=True)\n",
        "\n",
        "    # Incremental training on 9 batches\n",
        "    best_val_loss = np.inf  # Track the best validation loss\n",
        "    for batch_number in range(1, 10):\n",
        "        gene_sim = preprocess_data(simulations_folder, batch_number)  # Preprocess data\n",
        "        history = model.fit(gene_sim.data, gene_sim.targets, batch_size=64, epochs=epochs, verbose=1, validation_split=0.2,\n",
        "                            callbacks=[early_stopping, pruning_callback])  # Train the model with callbacks\n",
        "\n",
        "        # Get the validation loss for the current epoch\n",
        "        val_loss = min(history.history['val_loss'])\n",
        "        if val_loss < best_val_loss:\n",
        "            best_val_loss = val_loss\n",
        "            trial.report(val_loss, batch_number)\n",
        "            if trial.should_prune():\n",
        "                raise optuna.exceptions.TrialPruned()\n",
        "\n",
        "    # Evaluate the model on the 10th batch\n",
        "    gene_sim = preprocess_data(simulations_folder, 10)\n",
        "    evaluation = model.evaluate(gene_sim.data, gene_sim.targets, verbose=1)\n",
        "    return evaluation[1]  # Return the accuracy\n",
        "\n",
        "# Function to run the optimization process\n",
        "def run_optimization():\n",
        "    start_time = time.time()  # Record start time\n",
        "\n",
        "    simulations_folder = '/content/EvoNet-CNN-Insight/model_training/intermediate_strong/IS'  # Folder for this dataset\n",
        "    logging.info(f\"Starting optimization for {simulations_folder}\")\n",
        "    print(f\"Starting optimization for {simulations_folder}\")\n",
        "\n",
        "    # Create an Optuna study and optimize the objective function\n",
        "    study = optuna.create_study(direction='maximize', pruner=optuna.pruners.MedianPruner(), storage='sqlite:///is_study.db', load_if_exists=True)  # Use SQLite storage\n",
        "    study.optimize(lambda trial: objective(trial, simulations_folder), n_trials=30)  # Set to 30 trials\n",
        "\n",
        "    try:\n",
        "        trial = study.best_trial\n",
        "        print('Best trial:')\n",
        "        print('Value: {}'.format(trial.value))\n",
        "        print('Params: ')\n",
        "        for key, value in trial.params.items():\n",
        "            print('    {}: {}'.format(key, value))  # Print best trial parameters\n",
        "\n",
        "        logging.info('Best trial:')\n",
        "        logging.info('Value: {}'.format(trial.value))\n",
        "        logging.info('Params: ')\n",
        "        for key, value in trial.params.items():\n",
        "            logging.info('    {}: {}'.format(key, value))  # Log best trial parameters\n",
        "\n",
        "    except ValueError as e:\n",
        "        logging.error(f\"No completed trials: {e}\")  # Log error if no trials are completed\n",
        "\n",
        "    elapsed_time = time.time() - start_time  # Calculate elapsed time\n",
        "    print(f\"Elapsed time: {elapsed_time:.2f} seconds\")\n",
        "    logging.info(f\"Elapsed time: {elapsed_time:.2f} seconds\")  # Log elapsed time\n",
        "\n",
        "# Run the optimization process\n",
        "if __name__ == '__main__':\n",
        "    run_optimization()  # Execute the optimization function"
      ],
      "metadata": {
        "colab": {
          "base_uri": "https://localhost:8080/"
        },
        "id": "tIvTLWnJ8JWX",
        "outputId": "4fa68c9a-d63a-4cdb-ce74-777c78e43cfe"
      },
      "execution_count": 6,
      "outputs": [
        {
          "metadata": {
            "tags": null
          },
          "name": "stdout",
          "output_type": "stream",
          "text": [
            "Starting optimization for /content/EvoNet-CNN-Insight/model_training/intermediate_strong/IS\n"
          ]
        },
        {
          "metadata": {
            "tags": null
          },
          "name": "stderr",
          "output_type": "stream",
          "text": [
            "[I 2024-08-06 21:27:26,941] A new study created in RDB with name: no-name-87092a2b-4c54-419c-bc9e-c0282d1f5480\n"
          ]
        },
        {
          "metadata": {
            "tags": null
          },
          "name": "stdout",
          "output_type": "stream",
          "text": [
            "Trial 0 started with hyperparameters: num_layers=4, filters=[124, 107, 37, 107], kernel_size=3, l1=0.00023342282213110015, l2=6.698426243226582e-06, dense_units=205, dropout_rate=0.3223287518244954, learning_rate=0.00011551960587189376\n",
            "\u001b[1m50/50\u001b[0m \u001b[32m━━━━━━━━━━━━━━━━━━━━\u001b[0m\u001b[37m\u001b[0m \u001b[1m13s\u001b[0m 100ms/step - accuracy: 0.5064 - loss: 1.9724 - val_accuracy: 0.4825 - val_loss: 1.8275\n",
            "\u001b[1m50/50\u001b[0m \u001b[32m━━━━━━━━━━━━━━━━━━━━\u001b[0m\u001b[37m\u001b[0m \u001b[1m2s\u001b[0m 36ms/step - accuracy: 0.5358 - loss: 1.7772 - val_accuracy: 0.5575 - val_loss: 1.6401\n",
            "\u001b[1m50/50\u001b[0m \u001b[32m━━━━━━━━━━━━━━━━━━━━\u001b[0m\u001b[37m\u001b[0m \u001b[1m2s\u001b[0m 36ms/step - accuracy: 0.6510 - loss: 1.5776 - val_accuracy: 0.6550 - val_loss: 1.4678\n",
            "\u001b[1m50/50\u001b[0m \u001b[32m━━━━━━━━━━━━━━━━━━━━\u001b[0m\u001b[37m\u001b[0m \u001b[1m2s\u001b[0m 36ms/step - accuracy: 0.7005 - loss: 1.4219 - val_accuracy: 0.7300 - val_loss: 1.3289\n",
            "\u001b[1m50/50\u001b[0m \u001b[32m━━━━━━━━━━━━━━━━━━━━\u001b[0m\u001b[37m\u001b[0m \u001b[1m2s\u001b[0m 37ms/step - accuracy: 0.6970 - loss: 1.3381 - val_accuracy: 0.7312 - val_loss: 1.2826\n",
            "\u001b[1m50/50\u001b[0m \u001b[32m━━━━━━━━━━━━━━━━━━━━\u001b[0m\u001b[37m\u001b[0m \u001b[1m2s\u001b[0m 36ms/step - accuracy: 0.7083 - loss: 1.2788 - val_accuracy: 0.6625 - val_loss: 1.2675\n",
            "\u001b[1m50/50\u001b[0m \u001b[32m━━━━━━━━━━━━━━━━━━━━\u001b[0m\u001b[37m\u001b[0m \u001b[1m2s\u001b[0m 36ms/step - accuracy: 0.7197 - loss: 1.1964 - val_accuracy: 0.6612 - val_loss: 1.2365\n",
            "\u001b[1m50/50\u001b[0m \u001b[32m━━━━━━━━━━━━━━━━━━━━\u001b[0m\u001b[37m\u001b[0m \u001b[1m2s\u001b[0m 36ms/step - accuracy: 0.7164 - loss: 1.1524 - val_accuracy: 0.7025 - val_loss: 1.1394\n",
            "\u001b[1m50/50\u001b[0m \u001b[32m━━━━━━━━━━━━━━━━━━━━\u001b[0m\u001b[37m\u001b[0m \u001b[1m2s\u001b[0m 37ms/step - accuracy: 0.6804 - loss: 1.1731 - val_accuracy: 0.7175 - val_loss: 1.0974\n",
            "\u001b[1m125/125\u001b[0m \u001b[32m━━━━━━━━━━━━━━━━━━━━\u001b[0m\u001b[37m\u001b[0m \u001b[1m1s\u001b[0m 6ms/step - accuracy: 0.7346 - loss: 1.0774\n"
          ]
        },
        {
          "metadata": {
            "tags": null
          },
          "name": "stderr",
          "output_type": "stream",
          "text": [
            "[I 2024-08-06 21:41:39,747] Trial 0 finished with value: 0.722000002861023 and parameters: {'num_layers': 4, 'filters_0': 124, 'filters_1': 107, 'filters_2': 37, 'filters_3': 107, 'kernel_size': 3, 'l1': 0.00023342282213110015, 'l2': 6.698426243226582e-06, 'dense_units': 205, 'dropout_rate': 0.3223287518244954, 'learning_rate': 0.00011551960587189376}. Best is trial 0 with value: 0.722000002861023.\n"
          ]
        },
        {
          "metadata": {
            "tags": null
          },
          "name": "stdout",
          "output_type": "stream",
          "text": [
            "Trial 1 started with hyperparameters: num_layers=6, filters=[97, 94, 108, 118, 106, 128], kernel_size=2, l1=0.001852533461203631, l2=1.361448639239735e-05, dense_units=145, dropout_rate=0.38933747072406477, learning_rate=0.000678679641586361\n",
            "\u001b[1m50/50\u001b[0m \u001b[32m━━━━━━━━━━━━━━━━━━━━\u001b[0m\u001b[37m\u001b[0m \u001b[1m13s\u001b[0m 98ms/step - accuracy: 0.4974 - loss: 15.3638 - val_accuracy: 0.5175 - val_loss: 7.1181\n",
            "\u001b[1m50/50\u001b[0m \u001b[32m━━━━━━━━━━━━━━━━━━━━\u001b[0m\u001b[37m\u001b[0m \u001b[1m2s\u001b[0m 31ms/step - accuracy: 0.4916 - loss: 5.2980 - val_accuracy: 0.4800 - val_loss: 1.4582\n",
            "\u001b[1m50/50\u001b[0m \u001b[32m━━━━━━━━━━━━━━━━━━━━\u001b[0m\u001b[37m\u001b[0m \u001b[1m2s\u001b[0m 31ms/step - accuracy: 0.4902 - loss: 1.0866 - val_accuracy: 0.4725 - val_loss: 0.7445\n",
            "\u001b[1m50/50\u001b[0m \u001b[32m━━━━━━━━━━━━━━━━━━━━\u001b[0m\u001b[37m\u001b[0m \u001b[1m2s\u001b[0m 31ms/step - accuracy: 0.4955 - loss: 0.7372 - val_accuracy: 0.5063 - val_loss: 0.7302\n",
            "\u001b[1m50/50\u001b[0m \u001b[32m━━━━━━━━━━━━━━━━━━━━\u001b[0m\u001b[37m\u001b[0m \u001b[1m2s\u001b[0m 31ms/step - accuracy: 0.4948 - loss: 0.7301 - val_accuracy: 0.4913 - val_loss: 0.7300\n",
            "\u001b[1m50/50\u001b[0m \u001b[32m━━━━━━━━━━━━━━━━━━━━\u001b[0m\u001b[37m\u001b[0m \u001b[1m2s\u001b[0m 31ms/step - accuracy: 0.5026 - loss: 0.7300 - val_accuracy: 0.5050 - val_loss: 0.7299\n",
            "\u001b[1m50/50\u001b[0m \u001b[32m━━━━━━━━━━━━━━━━━━━━\u001b[0m\u001b[37m\u001b[0m \u001b[1m2s\u001b[0m 31ms/step - accuracy: 0.4830 - loss: 0.7302 - val_accuracy: 0.4663 - val_loss: 0.7303\n",
            "\u001b[1m50/50\u001b[0m \u001b[32m━━━━━━━━━━━━━━━━━━━━\u001b[0m\u001b[37m\u001b[0m \u001b[1m2s\u001b[0m 32ms/step - accuracy: 0.5078 - loss: 0.7300 - val_accuracy: 0.4787 - val_loss: 0.7302\n",
            "\u001b[1m50/50\u001b[0m \u001b[32m━━━━━━━━━━━━━━━━━━━━\u001b[0m\u001b[37m\u001b[0m \u001b[1m2s\u001b[0m 31ms/step - accuracy: 0.5110 - loss: 0.7300 - val_accuracy: 0.5025 - val_loss: 0.7301\n",
            "\u001b[1m125/125\u001b[0m \u001b[32m━━━━━━━━━━━━━━━━━━━━\u001b[0m\u001b[37m\u001b[0m \u001b[1m1s\u001b[0m 5ms/step - accuracy: 0.4971 - loss: 0.7302\n"
          ]
        },
        {
          "metadata": {
            "tags": null
          },
          "name": "stderr",
          "output_type": "stream",
          "text": [
            "[I 2024-08-06 21:55:49,491] Trial 1 finished with value: 0.5 and parameters: {'num_layers': 6, 'filters_0': 97, 'filters_1': 94, 'filters_2': 108, 'filters_3': 118, 'filters_4': 106, 'filters_5': 128, 'kernel_size': 2, 'l1': 0.001852533461203631, 'l2': 1.361448639239735e-05, 'dense_units': 145, 'dropout_rate': 0.38933747072406477, 'learning_rate': 0.000678679641586361}. Best is trial 0 with value: 0.722000002861023.\n"
          ]
        },
        {
          "metadata": {
            "tags": null
          },
          "name": "stdout",
          "output_type": "stream",
          "text": [
            "Trial 2 started with hyperparameters: num_layers=4, filters=[100, 76, 117, 106], kernel_size=2, l1=0.0010626448948346842, l2=0.002599234959017053, dense_units=127, dropout_rate=0.400447026548275, learning_rate=0.00019575445756883294\n",
            "\u001b[1m50/50\u001b[0m \u001b[32m━━━━━━━━━━━━━━━━━━━━\u001b[0m\u001b[37m\u001b[0m \u001b[1m10s\u001b[0m 84ms/step - accuracy: 0.5064 - loss: 6.4732 - val_accuracy: 0.4825 - val_loss: 5.4985\n",
            "\u001b[1m50/50\u001b[0m \u001b[32m━━━━━━━━━━━━━━━━━━━━\u001b[0m\u001b[37m\u001b[0m \u001b[1m1s\u001b[0m 29ms/step - accuracy: 0.5224 - loss: 5.2037 - val_accuracy: 0.6712 - val_loss: 4.3758\n",
            "\u001b[1m50/50\u001b[0m \u001b[32m━━━━━━━━━━━━━━━━━━━━\u001b[0m\u001b[37m\u001b[0m \u001b[1m1s\u001b[0m 28ms/step - accuracy: 0.5797 - loss: 4.1309 - val_accuracy: 0.5275 - val_loss: 3.4472\n",
            "\u001b[1m50/50\u001b[0m \u001b[32m━━━━━━━━━━━━━━━━━━━━\u001b[0m\u001b[37m\u001b[0m \u001b[1m1s\u001b[0m 29ms/step - accuracy: 0.6123 - loss: 3.2495 - val_accuracy: 0.6875 - val_loss: 2.6982\n",
            "\u001b[1m50/50\u001b[0m \u001b[32m━━━━━━━━━━━━━━━━━━━━\u001b[0m\u001b[37m\u001b[0m \u001b[1m1s\u001b[0m 29ms/step - accuracy: 0.6599 - loss: 2.5736 - val_accuracy: 0.5975 - val_loss: 2.2177\n",
            "\u001b[1m50/50\u001b[0m \u001b[32m━━━━━━━━━━━━━━━━━━━━\u001b[0m\u001b[37m\u001b[0m \u001b[1m1s\u001b[0m 29ms/step - accuracy: 0.6502 - loss: 2.0957 - val_accuracy: 0.6012 - val_loss: 1.8291\n",
            "\u001b[1m50/50\u001b[0m \u001b[32m━━━━━━━━━━━━━━━━━━━━\u001b[0m\u001b[37m\u001b[0m \u001b[1m1s\u001b[0m 30ms/step - accuracy: 0.6851 - loss: 1.6970 - val_accuracy: 0.6625 - val_loss: 1.5064\n",
            "\u001b[1m50/50\u001b[0m \u001b[32m━━━━━━━━━━━━━━━━━━━━\u001b[0m\u001b[37m\u001b[0m \u001b[1m1s\u001b[0m 28ms/step - accuracy: 0.7082 - loss: 1.4078 - val_accuracy: 0.6837 - val_loss: 1.2636\n",
            "\u001b[1m50/50\u001b[0m \u001b[32m━━━━━━━━━━━━━━━━━━━━\u001b[0m\u001b[37m\u001b[0m \u001b[1m1s\u001b[0m 29ms/step - accuracy: 0.6656 - loss: 1.2593 - val_accuracy: 0.7188 - val_loss: 1.1126\n",
            "\u001b[1m125/125\u001b[0m \u001b[32m━━━━━━━━━━━━━━━━━━━━\u001b[0m\u001b[37m\u001b[0m \u001b[1m1s\u001b[0m 5ms/step - accuracy: 0.7173 - loss: 1.1065\n"
          ]
        },
        {
          "metadata": {
            "tags": null
          },
          "name": "stderr",
          "output_type": "stream",
          "text": [
            "[I 2024-08-06 22:09:56,633] Trial 2 finished with value: 0.7070000171661377 and parameters: {'num_layers': 4, 'filters_0': 100, 'filters_1': 76, 'filters_2': 117, 'filters_3': 106, 'kernel_size': 2, 'l1': 0.0010626448948346842, 'l2': 0.002599234959017053, 'dense_units': 127, 'dropout_rate': 0.400447026548275, 'learning_rate': 0.00019575445756883294}. Best is trial 0 with value: 0.722000002861023.\n"
          ]
        },
        {
          "metadata": {
            "tags": null
          },
          "name": "stdout",
          "output_type": "stream",
          "text": [
            "Trial 3 started with hyperparameters: num_layers=5, filters=[96, 45, 38, 62, 96], kernel_size=3, l1=1.506319280010745e-05, l2=0.00023326938482492025, dense_units=204, dropout_rate=0.2781482504688976, learning_rate=5.369740279186518e-05\n",
            "\u001b[1m50/50\u001b[0m \u001b[32m━━━━━━━━━━━━━━━━━━━━\u001b[0m\u001b[37m\u001b[0m \u001b[1m11s\u001b[0m 80ms/step - accuracy: 0.5123 - loss: 0.8147 - val_accuracy: 0.6125 - val_loss: 0.8087\n",
            "\u001b[1m50/50\u001b[0m \u001b[32m━━━━━━━━━━━━━━━━━━━━\u001b[0m\u001b[37m\u001b[0m \u001b[1m1s\u001b[0m 26ms/step - accuracy: 0.5376 - loss: 0.8069 - val_accuracy: 0.5288 - val_loss: 0.7980\n",
            "\u001b[1m50/50\u001b[0m \u001b[32m━━━━━━━━━━━━━━━━━━━━\u001b[0m\u001b[37m\u001b[0m \u001b[1m1s\u001b[0m 26ms/step - accuracy: 0.6208 - loss: 0.7844 - val_accuracy: 0.7138 - val_loss: 0.7211\n",
            "\u001b[1m50/50\u001b[0m \u001b[32m━━━━━━━━━━━━━━━━━━━━\u001b[0m\u001b[37m\u001b[0m \u001b[1m1s\u001b[0m 26ms/step - accuracy: 0.7161 - loss: 0.6967 - val_accuracy: 0.6913 - val_loss: 0.6698\n",
            "\u001b[1m50/50\u001b[0m \u001b[32m━━━━━━━━━━━━━━━━━━━━\u001b[0m\u001b[37m\u001b[0m \u001b[1m1s\u001b[0m 26ms/step - accuracy: 0.6959 - loss: 0.6757 - val_accuracy: 0.7013 - val_loss: 0.6833\n",
            "\u001b[1m50/50\u001b[0m \u001b[32m━━━━━━━━━━━━━━━━━━━━\u001b[0m\u001b[37m\u001b[0m \u001b[1m1s\u001b[0m 27ms/step - accuracy: 0.6882 - loss: 0.6872 - val_accuracy: 0.6988 - val_loss: 0.6885\n",
            "\u001b[1m50/50\u001b[0m \u001b[32m━━━━━━━━━━━━━━━━━━━━\u001b[0m\u001b[37m\u001b[0m \u001b[1m1s\u001b[0m 26ms/step - accuracy: 0.7213 - loss: 0.6575 - val_accuracy: 0.6538 - val_loss: 0.7392\n",
            "\u001b[1m50/50\u001b[0m \u001b[32m━━━━━━━━━━━━━━━━━━━━\u001b[0m\u001b[37m\u001b[0m \u001b[1m1s\u001b[0m 26ms/step - accuracy: 0.7220 - loss: 0.6496 - val_accuracy: 0.7138 - val_loss: 0.6475\n",
            "\u001b[1m50/50\u001b[0m \u001b[32m━━━━━━━━━━━━━━━━━━━━\u001b[0m\u001b[37m\u001b[0m \u001b[1m1s\u001b[0m 26ms/step - accuracy: 0.6823 - loss: 0.6881 - val_accuracy: 0.7100 - val_loss: 0.6576\n",
            "\u001b[1m125/125\u001b[0m \u001b[32m━━━━━━━━━━━━━━━━━━━━\u001b[0m\u001b[37m\u001b[0m \u001b[1m1s\u001b[0m 5ms/step - accuracy: 0.7173 - loss: 0.6432\n"
          ]
        },
        {
          "metadata": {
            "tags": null
          },
          "name": "stderr",
          "output_type": "stream",
          "text": [
            "[I 2024-08-06 22:24:02,732] Trial 3 finished with value: 0.7067499756813049 and parameters: {'num_layers': 5, 'filters_0': 96, 'filters_1': 45, 'filters_2': 38, 'filters_3': 62, 'filters_4': 96, 'kernel_size': 3, 'l1': 1.506319280010745e-05, 'l2': 0.00023326938482492025, 'dense_units': 204, 'dropout_rate': 0.2781482504688976, 'learning_rate': 5.369740279186518e-05}. Best is trial 0 with value: 0.722000002861023.\n"
          ]
        },
        {
          "metadata": {
            "tags": null
          },
          "name": "stdout",
          "output_type": "stream",
          "text": [
            "Trial 4 started with hyperparameters: num_layers=4, filters=[70, 116, 49, 100], kernel_size=2, l1=0.001246270884834451, l2=3.4039804227898975e-06, dense_units=220, dropout_rate=0.17943950374175732, learning_rate=3.8694966395196905e-05\n",
            "\u001b[1m50/50\u001b[0m \u001b[32m━━━━━━━━━━━━━━━━━━━━\u001b[0m\u001b[37m\u001b[0m \u001b[1m10s\u001b[0m 72ms/step - accuracy: 0.4875 - loss: 5.0748 - val_accuracy: 0.4825 - val_loss: 4.9439\n",
            "\u001b[1m50/50\u001b[0m \u001b[32m━━━━━━━━━━━━━━━━━━━━\u001b[0m\u001b[37m\u001b[0m \u001b[1m1s\u001b[0m 26ms/step - accuracy: 0.5315 - loss: 4.8994 - val_accuracy: 0.5750 - val_loss: 4.7728\n",
            "\u001b[1m50/50\u001b[0m \u001b[32m━━━━━━━━━━━━━━━━━━━━\u001b[0m\u001b[37m\u001b[0m \u001b[1m1s\u001b[0m 25ms/step - accuracy: 0.6070 - loss: 4.7293 - val_accuracy: 0.5337 - val_loss: 4.6108\n",
            "\u001b[1m50/50\u001b[0m \u001b[32m━━━━━━━━━━━━━━━━━━━━\u001b[0m\u001b[37m\u001b[0m \u001b[1m1s\u001b[0m 26ms/step - accuracy: 0.5872 - loss: 4.5665 - val_accuracy: 0.6862 - val_loss: 4.4339\n",
            "\u001b[1m50/50\u001b[0m \u001b[32m━━━━━━━━━━━━━━━━━━━━\u001b[0m\u001b[37m\u001b[0m \u001b[1m1s\u001b[0m 26ms/step - accuracy: 0.6735 - loss: 4.4051 - val_accuracy: 0.7150 - val_loss: 4.2867\n",
            "\u001b[1m50/50\u001b[0m \u001b[32m━━━━━━━━━━━━━━━━━━━━\u001b[0m\u001b[37m\u001b[0m \u001b[1m1s\u001b[0m 26ms/step - accuracy: 0.6828 - loss: 4.2574 - val_accuracy: 0.6413 - val_loss: 4.1838\n",
            "\u001b[1m50/50\u001b[0m \u001b[32m━━━━━━━━━━━━━━━━━━━━\u001b[0m\u001b[37m\u001b[0m \u001b[1m1s\u001b[0m 26ms/step - accuracy: 0.7040 - loss: 4.1230 - val_accuracy: 0.6212 - val_loss: 4.0937\n",
            "\u001b[1m50/50\u001b[0m \u001b[32m━━━━━━━━━━━━━━━━━━━━\u001b[0m\u001b[37m\u001b[0m \u001b[1m1s\u001b[0m 26ms/step - accuracy: 0.7046 - loss: 4.0042 - val_accuracy: 0.7013 - val_loss: 3.9184\n",
            "\u001b[1m50/50\u001b[0m \u001b[32m━━━━━━━━━━━━━━━━━━━━\u001b[0m\u001b[37m\u001b[0m \u001b[1m1s\u001b[0m 25ms/step - accuracy: 0.6764 - loss: 3.9286 - val_accuracy: 0.7063 - val_loss: 3.8271\n",
            "\u001b[1m125/125\u001b[0m \u001b[32m━━━━━━━━━━━━━━━━━━━━\u001b[0m\u001b[37m\u001b[0m \u001b[1m1s\u001b[0m 4ms/step - accuracy: 0.7098 - loss: 3.8183\n"
          ]
        },
        {
          "metadata": {
            "tags": null
          },
          "name": "stderr",
          "output_type": "stream",
          "text": [
            "[I 2024-08-06 22:38:14,114] Trial 4 finished with value: 0.7057499885559082 and parameters: {'num_layers': 4, 'filters_0': 70, 'filters_1': 116, 'filters_2': 49, 'filters_3': 100, 'kernel_size': 2, 'l1': 0.001246270884834451, 'l2': 3.4039804227898975e-06, 'dense_units': 220, 'dropout_rate': 0.17943950374175732, 'learning_rate': 3.8694966395196905e-05}. Best is trial 0 with value: 0.722000002861023.\n"
          ]
        },
        {
          "metadata": {
            "tags": null
          },
          "name": "stdout",
          "output_type": "stream",
          "text": [
            "Trial 5 started with hyperparameters: num_layers=6, filters=[64, 86, 77, 70, 39, 118], kernel_size=2, l1=9.446546320284654e-06, l2=1.3465848274812145e-06, dense_units=89, dropout_rate=0.2797329235435891, learning_rate=1.8837104148674652e-05\n",
            "\u001b[1m49/50\u001b[0m \u001b[32m━━━━━━━━━━━━━━━━━━━\u001b[0m\u001b[37m━\u001b[0m \u001b[1m0s\u001b[0m 19ms/step - accuracy: 0.4862 - loss: 0.7407"
          ]
        },
        {
          "metadata": {
            "tags": null
          },
          "name": "stderr",
          "output_type": "stream",
          "text": [
            "[I 2024-08-06 22:39:49,320] Trial 5 pruned. Trial was pruned at epoch 0.\n"
          ]
        },
        {
          "metadata": {
            "tags": null
          },
          "name": "stdout",
          "output_type": "stream",
          "text": [
            "Trial 6 started with hyperparameters: num_layers=4, filters=[37, 89, 44, 56], kernel_size=2, l1=0.00016182289801824556, l2=0.004683210972082878, dense_units=253, dropout_rate=0.4346070015426743, learning_rate=0.0009179567236895322\n",
            "\u001b[1m48/50\u001b[0m \u001b[32m━━━━━━━━━━━━━━━━━━━\u001b[0m\u001b[37m━\u001b[0m \u001b[1m0s\u001b[0m 15ms/step - accuracy: 0.5090 - loss: 1.5939"
          ]
        },
        {
          "metadata": {
            "tags": null
          },
          "name": "stderr",
          "output_type": "stream",
          "text": [
            "[I 2024-08-06 22:41:21,481] Trial 6 pruned. Trial was pruned at epoch 0.\n"
          ]
        },
        {
          "metadata": {
            "tags": null
          },
          "name": "stdout",
          "output_type": "stream",
          "text": [
            "Trial 7 started with hyperparameters: num_layers=3, filters=[92, 101, 111], kernel_size=2, l1=2.7681319412381496e-06, l2=0.005445359876303994, dense_units=252, dropout_rate=0.15027210434708793, learning_rate=9.502217702824541e-05\n",
            "\u001b[1m48/50\u001b[0m \u001b[32m━━━━━━━━━━━━━━━━━━━\u001b[0m\u001b[37m━\u001b[0m \u001b[1m0s\u001b[0m 23ms/step - accuracy: 0.5177 - loss: 1.7955"
          ]
        },
        {
          "metadata": {
            "tags": null
          },
          "name": "stderr",
          "output_type": "stream",
          "text": [
            "[I 2024-08-06 22:42:54,134] Trial 7 pruned. Trial was pruned at epoch 0.\n"
          ]
        },
        {
          "metadata": {
            "tags": null
          },
          "name": "stdout",
          "output_type": "stream",
          "text": [
            "Trial 8 started with hyperparameters: num_layers=3, filters=[62, 53, 84], kernel_size=3, l1=0.001845672139042231, l2=0.0016636332709470995, dense_units=146, dropout_rate=0.37942224583808937, learning_rate=0.00046200384140597197\n",
            "\u001b[1m49/50\u001b[0m \u001b[32m━━━━━━━━━━━━━━━━━━━\u001b[0m\u001b[37m━\u001b[0m \u001b[1m0s\u001b[0m 18ms/step - accuracy: 0.5211 - loss: 5.1614"
          ]
        },
        {
          "metadata": {
            "tags": null
          },
          "name": "stderr",
          "output_type": "stream",
          "text": [
            "[I 2024-08-06 22:44:25,848] Trial 8 pruned. Trial was pruned at epoch 0.\n"
          ]
        },
        {
          "metadata": {
            "tags": null
          },
          "name": "stdout",
          "output_type": "stream",
          "text": [
            "Trial 9 started with hyperparameters: num_layers=5, filters=[64, 56, 40, 116, 86], kernel_size=3, l1=0.0007670222237173658, l2=0.003112727996405407, dense_units=196, dropout_rate=0.46589045103789084, learning_rate=2.5308330702638138e-05\n",
            "\u001b[1m50/50\u001b[0m \u001b[32m━━━━━━━━━━━━━━━━━━━━\u001b[0m\u001b[37m\u001b[0m \u001b[1m11s\u001b[0m 79ms/step - accuracy: 0.5021 - loss: 6.0890 - val_accuracy: 0.5275 - val_loss: 5.9329\n",
            "\u001b[1m50/50\u001b[0m \u001b[32m━━━━━━━━━━━━━━━━━━━━\u001b[0m\u001b[37m\u001b[0m \u001b[1m1s\u001b[0m 22ms/step - accuracy: 0.5045 - loss: 5.8820 - val_accuracy: 0.4800 - val_loss: 5.7293\n",
            "\u001b[1m50/50\u001b[0m \u001b[32m━━━━━━━━━━━━━━━━━━━━\u001b[0m\u001b[37m\u001b[0m \u001b[1m1s\u001b[0m 22ms/step - accuracy: 0.5023 - loss: 5.6796 - val_accuracy: 0.6300 - val_loss: 5.5300\n",
            "\u001b[1m50/50\u001b[0m \u001b[32m━━━━━━━━━━━━━━━━━━━━\u001b[0m\u001b[37m\u001b[0m \u001b[1m1s\u001b[0m 23ms/step - accuracy: 0.5591 - loss: 5.4811 - val_accuracy: 0.4938 - val_loss: 5.3372\n",
            "\u001b[1m50/50\u001b[0m \u001b[32m━━━━━━━━━━━━━━━━━━━━\u001b[0m\u001b[37m\u001b[0m \u001b[1m1s\u001b[0m 22ms/step - accuracy: 0.5469 - loss: 5.2899 - val_accuracy: 0.6025 - val_loss: 5.1500\n",
            "\u001b[1m50/50\u001b[0m \u001b[32m━━━━━━━━━━━━━━━━━━━━\u001b[0m\u001b[37m\u001b[0m \u001b[1m1s\u001b[0m 22ms/step - accuracy: 0.5689 - loss: 5.1042 - val_accuracy: 0.5088 - val_loss: 4.9720\n",
            "\u001b[1m50/50\u001b[0m \u001b[32m━━━━━━━━━━━━━━━━━━━━\u001b[0m\u001b[37m\u001b[0m \u001b[1m1s\u001b[0m 22ms/step - accuracy: 0.5550 - loss: 4.9265 - val_accuracy: 0.6250 - val_loss: 4.7967\n",
            "\u001b[1m50/50\u001b[0m \u001b[32m━━━━━━━━━━━━━━━━━━━━\u001b[0m\u001b[37m\u001b[0m \u001b[1m1s\u001b[0m 22ms/step - accuracy: 0.5714 - loss: 4.7570 - val_accuracy: 0.4825 - val_loss: 4.6372\n",
            "\u001b[1m50/50\u001b[0m \u001b[32m━━━━━━━━━━━━━━━━━━━━\u001b[0m\u001b[37m\u001b[0m \u001b[1m1s\u001b[0m 22ms/step - accuracy: 0.5854 - loss: 4.5914 - val_accuracy: 0.6513 - val_loss: 4.4700\n",
            "\u001b[1m125/125\u001b[0m \u001b[32m━━━━━━━━━━━━━━━━━━━━\u001b[0m\u001b[37m\u001b[0m \u001b[1m1s\u001b[0m 4ms/step - accuracy: 0.6554 - loss: 4.4695\n"
          ]
        },
        {
          "metadata": {
            "tags": null
          },
          "name": "stderr",
          "output_type": "stream",
          "text": [
            "[I 2024-08-06 22:58:30,138] Trial 9 finished with value: 0.6495000123977661 and parameters: {'num_layers': 5, 'filters_0': 64, 'filters_1': 56, 'filters_2': 40, 'filters_3': 116, 'filters_4': 86, 'kernel_size': 3, 'l1': 0.0007670222237173658, 'l2': 0.003112727996405407, 'dense_units': 196, 'dropout_rate': 0.46589045103789084, 'learning_rate': 2.5308330702638138e-05}. Best is trial 0 with value: 0.722000002861023.\n"
          ]
        },
        {
          "metadata": {
            "tags": null
          },
          "name": "stdout",
          "output_type": "stream",
          "text": [
            "Trial 10 started with hyperparameters: num_layers=3, filters=[126, 124, 66], kernel_size=3, l1=0.008409526765806289, l2=2.674163846065841e-05, dense_units=72, dropout_rate=0.21405514301456713, learning_rate=1.0151887876233969e-05\n",
            "\u001b[1m50/50\u001b[0m \u001b[32m━━━━━━━━━━━━━━━━━━━━\u001b[0m\u001b[37m\u001b[0m \u001b[1m13s\u001b[0m 94ms/step - accuracy: 0.5142 - loss: 49.7033 - val_accuracy: 0.5362 - val_loss: 49.0170\n",
            "\u001b[1m50/50\u001b[0m \u001b[32m━━━━━━━━━━━━━━━━━━━━\u001b[0m\u001b[37m\u001b[0m \u001b[1m2s\u001b[0m 35ms/step - accuracy: 0.5209 - loss: 48.7911 - val_accuracy: 0.5800 - val_loss: 48.1115\n",
            "\u001b[1m50/50\u001b[0m \u001b[32m━━━━━━━━━━━━━━━━━━━━\u001b[0m\u001b[37m\u001b[0m \u001b[1m2s\u001b[0m 36ms/step - accuracy: 0.5399 - loss: 47.8874 - val_accuracy: 0.7000 - val_loss: 47.2138\n",
            "\u001b[1m50/50\u001b[0m \u001b[32m━━━━━━━━━━━━━━━━━━━━\u001b[0m\u001b[37m\u001b[0m \u001b[1m2s\u001b[0m 35ms/step - accuracy: 0.5632 - loss: 46.9924 - val_accuracy: 0.6925 - val_loss: 46.3259\n",
            "\u001b[1m50/50\u001b[0m \u001b[32m━━━━━━━━━━━━━━━━━━━━\u001b[0m\u001b[37m\u001b[0m \u001b[1m2s\u001b[0m 35ms/step - accuracy: 0.5953 - loss: 46.1076 - val_accuracy: 0.5975 - val_loss: 45.4506\n",
            "\u001b[1m50/50\u001b[0m \u001b[32m━━━━━━━━━━━━━━━━━━━━\u001b[0m\u001b[37m\u001b[0m \u001b[1m2s\u001b[0m 35ms/step - accuracy: 0.5808 - loss: 45.2354 - val_accuracy: 0.5063 - val_loss: 44.5925\n",
            "\u001b[1m50/50\u001b[0m \u001b[32m━━━━━━━━━━━━━━━━━━━━\u001b[0m\u001b[37m\u001b[0m \u001b[1m2s\u001b[0m 35ms/step - accuracy: 0.5585 - loss: 44.3761 - val_accuracy: 0.6087 - val_loss: 43.7381\n",
            "\u001b[1m50/50\u001b[0m \u001b[32m━━━━━━━━━━━━━━━━━━━━\u001b[0m\u001b[37m\u001b[0m \u001b[1m2s\u001b[0m 35ms/step - accuracy: 0.5761 - loss: 43.5313 - val_accuracy: 0.4938 - val_loss: 42.9075\n",
            "\u001b[1m50/50\u001b[0m \u001b[32m━━━━━━━━━━━━━━━━━━━━\u001b[0m\u001b[37m\u001b[0m \u001b[1m2s\u001b[0m 35ms/step - accuracy: 0.5969 - loss: 42.6956 - val_accuracy: 0.6612 - val_loss: 42.0760\n",
            "\u001b[1m125/125\u001b[0m \u001b[32m━━━━━━━━━━━━━━━━━━━━\u001b[0m\u001b[37m\u001b[0m \u001b[1m1s\u001b[0m 5ms/step - accuracy: 0.6734 - loss: 42.0745\n"
          ]
        },
        {
          "metadata": {
            "tags": null
          },
          "name": "stderr",
          "output_type": "stream",
          "text": [
            "[I 2024-08-06 23:12:40,373] Trial 10 finished with value: 0.6679999828338623 and parameters: {'num_layers': 3, 'filters_0': 126, 'filters_1': 124, 'filters_2': 66, 'kernel_size': 3, 'l1': 0.008409526765806289, 'l2': 2.674163846065841e-05, 'dense_units': 72, 'dropout_rate': 0.21405514301456713, 'learning_rate': 1.0151887876233969e-05}. Best is trial 0 with value: 0.722000002861023.\n"
          ]
        },
        {
          "metadata": {
            "tags": null
          },
          "name": "stdout",
          "output_type": "stream",
          "text": [
            "Trial 11 started with hyperparameters: num_layers=4, filters=[127, 68, 121, 93], kernel_size=3, l1=0.00012953776540493514, l2=0.0003681762490938312, dense_units=109, dropout_rate=0.345777339819014, learning_rate=0.00020088377595223346\n",
            "\u001b[1m49/50\u001b[0m \u001b[32m━━━━━━━━━━━━━━━━━━━\u001b[0m\u001b[37m━\u001b[0m \u001b[1m0s\u001b[0m 28ms/step - accuracy: 0.5125 - loss: 1.6840"
          ]
        },
        {
          "metadata": {
            "tags": null
          },
          "name": "stderr",
          "output_type": "stream",
          "text": [
            "[I 2024-08-06 23:14:16,512] Trial 11 pruned. Trial was pruned at epoch 0.\n"
          ]
        },
        {
          "output_type": "stream",
          "name": "stdout",
          "text": [
            "Trial 12 started with hyperparameters: num_layers=4, filters=[112, 106, 95, 94], kernel_size=3, l1=0.00029740649461873855, l2=4.747495583390147e-05, dense_units=175, dropout_rate=0.3326831165539205, learning_rate=0.00022641346002341014\n",
            "\u001b[1m49/50\u001b[0m \u001b[32m━━━━━━━━━━━━━━━━━━━\u001b[0m\u001b[37m━\u001b[0m \u001b[1m0s\u001b[0m 28ms/step - accuracy: 0.5017 - loss: 2.9092"
          ]
        },
        {
          "output_type": "stream",
          "name": "stderr",
          "text": [
            "[I 2024-08-06 23:15:52,458] Trial 12 pruned. Trial was pruned at epoch 0.\n"
          ]
        },
        {
          "output_type": "stream",
          "name": "stdout",
          "text": [
            "Trial 13 started with hyperparameters: num_layers=5, filters=[111, 72, 128, 34, 38], kernel_size=2, l1=3.355210918314788e-05, l2=6.389795692511498e-06, dense_units=122, dropout_rate=0.4904976852335749, learning_rate=0.00015115760995346072\n",
            "\u001b[1m48/50\u001b[0m \u001b[32m━━━━━━━━━━━━━━━━━━━\u001b[0m\u001b[37m━\u001b[0m \u001b[1m0s\u001b[0m 23ms/step - accuracy: 0.4968 - loss: 0.8363"
          ]
        },
        {
          "output_type": "stream",
          "name": "stderr",
          "text": [
            "[I 2024-08-06 23:17:26,178] Trial 13 pruned. Trial was pruned at epoch 0.\n"
          ]
        },
        {
          "output_type": "stream",
          "name": "stdout",
          "text": [
            "Trial 14 started with hyperparameters: num_layers=4, filters=[111, 34, 61, 126], kernel_size=2, l1=0.006732585407615999, l2=0.0007352329907071146, dense_units=176, dropout_rate=0.4229705717291891, learning_rate=0.00034710304786259873\n",
            "\u001b[1m50/50\u001b[0m \u001b[32m━━━━━━━━━━━━━━━━━━━━\u001b[0m\u001b[37m\u001b[0m \u001b[1m10s\u001b[0m 70ms/step - accuracy: 0.5099 - loss: 17.4353 - val_accuracy: 0.6875 - val_loss: 13.1657\n",
            "\u001b[1m50/50\u001b[0m \u001b[32m━━━━━━━━━━━━━━━━━━━━\u001b[0m\u001b[37m\u001b[0m \u001b[1m1s\u001b[0m 28ms/step - accuracy: 0.6266 - loss: 11.9333 - val_accuracy: 0.6400 - val_loss: 8.6041\n",
            "\u001b[1m50/50\u001b[0m \u001b[32m━━━━━━━━━━━━━━━━━━━━\u001b[0m\u001b[37m\u001b[0m \u001b[1m1s\u001b[0m 29ms/step - accuracy: 0.6640 - loss: 7.7059 - val_accuracy: 0.6625 - val_loss: 5.3269\n",
            "\u001b[1m50/50\u001b[0m \u001b[32m━━━━━━━━━━━━━━━━━━━━\u001b[0m\u001b[37m\u001b[0m \u001b[1m1s\u001b[0m 28ms/step - accuracy: 0.6755 - loss: 4.7147 - val_accuracy: 0.5962 - val_loss: 3.2190\n",
            "\u001b[1m50/50\u001b[0m \u001b[32m━━━━━━━━━━━━━━━━━━━━\u001b[0m\u001b[37m\u001b[0m \u001b[1m1s\u001b[0m 27ms/step - accuracy: 0.6856 - loss: 2.8386 - val_accuracy: 0.7375 - val_loss: 2.0036\n",
            "\u001b[1m50/50\u001b[0m \u001b[32m━━━━━━━━━━━━━━━━━━━━\u001b[0m\u001b[37m\u001b[0m \u001b[1m1s\u001b[0m 28ms/step - accuracy: 0.6798 - loss: 1.8685 - val_accuracy: 0.6288 - val_loss: 1.5664\n",
            "\u001b[1m50/50\u001b[0m \u001b[32m━━━━━━━━━━━━━━━━━━━━\u001b[0m\u001b[37m\u001b[0m \u001b[1m1s\u001b[0m 28ms/step - accuracy: 0.6924 - loss: 1.4693 - val_accuracy: 0.6363 - val_loss: 1.3422\n",
            "\u001b[1m50/50\u001b[0m \u001b[32m━━━━━━━━━━━━━━━━━━━━\u001b[0m\u001b[37m\u001b[0m \u001b[1m1s\u001b[0m 28ms/step - accuracy: 0.6803 - loss: 1.2774 - val_accuracy: 0.6388 - val_loss: 1.2349\n",
            "\u001b[1m50/50\u001b[0m \u001b[32m━━━━━━━━━━━━━━━━━━━━\u001b[0m\u001b[37m\u001b[0m \u001b[1m1s\u001b[0m 28ms/step - accuracy: 0.6702 - loss: 1.2125 - val_accuracy: 0.7113 - val_loss: 1.1201\n",
            "\u001b[1m125/125\u001b[0m \u001b[32m━━━━━━━━━━━━━━━━━━━━\u001b[0m\u001b[37m\u001b[0m \u001b[1m1s\u001b[0m 5ms/step - accuracy: 0.7003 - loss: 1.1198\n"
          ]
        },
        {
          "output_type": "stream",
          "name": "stderr",
          "text": [
            "[I 2024-08-06 23:31:30,548] Trial 14 finished with value: 0.6937500238418579 and parameters: {'num_layers': 4, 'filters_0': 111, 'filters_1': 34, 'filters_2': 61, 'filters_3': 126, 'kernel_size': 2, 'l1': 0.006732585407615999, 'l2': 0.0007352329907071146, 'dense_units': 176, 'dropout_rate': 0.4229705717291891, 'learning_rate': 0.00034710304786259873}. Best is trial 0 with value: 0.722000002861023.\n"
          ]
        },
        {
          "output_type": "stream",
          "name": "stdout",
          "text": [
            "Trial 15 started with hyperparameters: num_layers=5, filters=[84, 78, 89, 108, 125], kernel_size=3, l1=0.00045675000788062174, l2=0.00010687350112722787, dense_units=127, dropout_rate=0.23480751212292233, learning_rate=9.081359502879773e-05\n",
            "\u001b[1m49/50\u001b[0m \u001b[32m━━━━━━━━━━━━━━━━━━━\u001b[0m\u001b[37m━\u001b[0m \u001b[1m0s\u001b[0m 24ms/step - accuracy: 0.5046 - loss: 5.0000"
          ]
        },
        {
          "output_type": "stream",
          "name": "stderr",
          "text": [
            "[I 2024-08-06 23:33:06,698] Trial 15 pruned. Trial was pruned at epoch 0.\n"
          ]
        },
        {
          "output_type": "stream",
          "name": "stdout",
          "text": [
            "Trial 16 started with hyperparameters: num_layers=3, filters=[117, 110, 58], kernel_size=2, l1=3.974674712533101e-05, l2=7.937046115275899e-05, dense_units=215, dropout_rate=0.3348466595981512, learning_rate=6.611095270819454e-05\n",
            "\u001b[1m49/50\u001b[0m \u001b[32m━━━━━━━━━━━━━━━━━━━\u001b[0m\u001b[37m━\u001b[0m \u001b[1m0s\u001b[0m 26ms/step - accuracy: 0.5054 - loss: 0.8435"
          ]
        },
        {
          "output_type": "stream",
          "name": "stderr",
          "text": [
            "[I 2024-08-06 23:34:39,511] Trial 16 pruned. Trial was pruned at epoch 0.\n"
          ]
        },
        {
          "output_type": "stream",
          "name": "stdout",
          "text": [
            "Trial 17 started with hyperparameters: num_layers=4, filters=[103, 127, 101, 81], kernel_size=3, l1=1.0232384020228891e-06, l2=1.1239068564450225e-06, dense_units=174, dropout_rate=0.38700852937524505, learning_rate=0.0002981046677973831\n",
            "\u001b[1m49/50\u001b[0m \u001b[32m━━━━━━━━━━━━━━━━━━━\u001b[0m\u001b[37m━\u001b[0m \u001b[1m0s\u001b[0m 29ms/step - accuracy: 0.5072 - loss: 0.7086"
          ]
        },
        {
          "output_type": "stream",
          "name": "stderr",
          "text": [
            "[I 2024-08-06 23:36:15,760] Trial 17 pruned. Trial was pruned at epoch 0.\n"
          ]
        },
        {
          "output_type": "stream",
          "name": "stdout",
          "text": [
            "Trial 18 started with hyperparameters: num_layers=5, filters=[81, 65, 73, 86, 65], kernel_size=2, l1=6.263728502250453e-05, l2=0.0009850562972439079, dense_units=228, dropout_rate=0.11949601739366594, learning_rate=0.00014046471280523414\n",
            "\u001b[1m49/50\u001b[0m \u001b[32m━━━━━━━━━━━━━━━━━━━\u001b[0m\u001b[37m━\u001b[0m \u001b[1m0s\u001b[0m 21ms/step - accuracy: 0.4969 - loss: 1.2420"
          ]
        },
        {
          "output_type": "stream",
          "name": "stderr",
          "text": [
            "[I 2024-08-06 23:37:49,038] Trial 18 pruned. Trial was pruned at epoch 0.\n"
          ]
        },
        {
          "output_type": "stream",
          "name": "stdout",
          "text": [
            "Trial 19 started with hyperparameters: num_layers=3, filters=[45, 96, 54], kernel_size=3, l1=0.003706423328407604, l2=1.1954972695141923e-05, dense_units=151, dropout_rate=0.28839427440987686, learning_rate=0.00013541316839110363\n",
            "\u001b[1m50/50\u001b[0m \u001b[32m━━━━━━━━━━━━━━━━━━━━\u001b[0m\u001b[37m\u001b[0m \u001b[1m9s\u001b[0m 71ms/step - accuracy: 0.5052 - loss: 11.0230 - val_accuracy: 0.5888 - val_loss: 9.5694\n",
            "\u001b[1m50/50\u001b[0m \u001b[32m━━━━━━━━━━━━━━━━━━━━\u001b[0m\u001b[37m\u001b[0m \u001b[1m1s\u001b[0m 22ms/step - accuracy: 0.5757 - loss: 9.1295 - val_accuracy: 0.5813 - val_loss: 7.8942\n",
            "\u001b[1m50/50\u001b[0m \u001b[32m━━━━━━━━━━━━━━━━━━━━\u001b[0m\u001b[37m\u001b[0m \u001b[1m1s\u001b[0m 22ms/step - accuracy: 0.6132 - loss: 7.5277 - val_accuracy: 0.6538 - val_loss: 6.5055\n",
            "\u001b[1m50/50\u001b[0m \u001b[32m━━━━━━━━━━━━━━━━━━━━\u001b[0m\u001b[37m\u001b[0m \u001b[1m1s\u001b[0m 22ms/step - accuracy: 0.6548 - loss: 6.2085 - val_accuracy: 0.6837 - val_loss: 5.3676\n",
            "\u001b[1m50/50\u001b[0m \u001b[32m━━━━━━━━━━━━━━━━━━━━\u001b[0m\u001b[37m\u001b[0m \u001b[1m1s\u001b[0m 22ms/step - accuracy: 0.6653 - loss: 5.1508 - val_accuracy: 0.6350 - val_loss: 4.5062\n",
            "\u001b[1m50/50\u001b[0m \u001b[32m━━━━━━━━━━━━━━━━━━━━\u001b[0m\u001b[37m\u001b[0m \u001b[1m1s\u001b[0m 22ms/step - accuracy: 0.6603 - loss: 4.3036 - val_accuracy: 0.5537 - val_loss: 3.8214\n",
            "\u001b[1m50/50\u001b[0m \u001b[32m━━━━━━━━━━━━━━━━━━━━\u001b[0m\u001b[37m\u001b[0m \u001b[1m1s\u001b[0m 23ms/step - accuracy: 0.6720 - loss: 3.5782 - val_accuracy: 0.6463 - val_loss: 3.1480\n",
            "\u001b[1m50/50\u001b[0m \u001b[32m━━━━━━━━━━━━━━━━━━━━\u001b[0m\u001b[37m\u001b[0m \u001b[1m1s\u001b[0m 23ms/step - accuracy: 0.6963 - loss: 2.9896 - val_accuracy: 0.6812 - val_loss: 2.6442\n",
            "\u001b[1m50/50\u001b[0m \u001b[32m━━━━━━━━━━━━━━━━━━━━\u001b[0m\u001b[37m\u001b[0m \u001b[1m1s\u001b[0m 23ms/step - accuracy: 0.6591 - loss: 2.5887 - val_accuracy: 0.6862 - val_loss: 2.3103\n",
            "\u001b[1m125/125\u001b[0m \u001b[32m━━━━━━━━━━━━━━━━━━━━\u001b[0m\u001b[37m\u001b[0m \u001b[1m1s\u001b[0m 4ms/step - accuracy: 0.7014 - loss: 2.2949\n"
          ]
        },
        {
          "output_type": "stream",
          "name": "stderr",
          "text": [
            "[I 2024-08-06 23:51:48,282] Trial 19 finished with value: 0.6945000290870667 and parameters: {'num_layers': 3, 'filters_0': 45, 'filters_1': 96, 'filters_2': 54, 'kernel_size': 3, 'l1': 0.003706423328407604, 'l2': 1.1954972695141923e-05, 'dense_units': 151, 'dropout_rate': 0.28839427440987686, 'learning_rate': 0.00013541316839110363}. Best is trial 0 with value: 0.722000002861023.\n"
          ]
        },
        {
          "output_type": "stream",
          "name": "stdout",
          "text": [
            "Trial 20 started with hyperparameters: num_layers=4, filters=[119, 76, 34, 104], kernel_size=2, l1=0.0003148961774572259, l2=0.00026916017880333694, dense_units=99, dropout_rate=0.23954852031627138, learning_rate=0.0004543368481984062\n",
            "\u001b[1m48/50\u001b[0m \u001b[32m━━━━━━━━━━━━━━━━━━━\u001b[0m\u001b[37m━\u001b[0m \u001b[1m0s\u001b[0m 23ms/step - accuracy: 0.5137 - loss: 1.5880"
          ]
        },
        {
          "output_type": "stream",
          "name": "stderr",
          "text": [
            "[I 2024-08-06 23:53:21,836] Trial 20 pruned. Trial was pruned at epoch 0.\n"
          ]
        },
        {
          "output_type": "stream",
          "name": "stdout",
          "text": [
            "Trial 21 started with hyperparameters: num_layers=5, filters=[98, 38, 32, 65, 85], kernel_size=3, l1=1.776184328041276e-05, l2=0.00023666051400873635, dense_units=198, dropout_rate=0.29828666444290736, learning_rate=5.373930782100795e-05\n",
            "\u001b[1m48/50\u001b[0m \u001b[32m━━━━━━━━━━━━━━━━━━━\u001b[0m\u001b[37m━\u001b[0m \u001b[1m0s\u001b[0m 22ms/step - accuracy: 0.5060 - loss: 0.8155"
          ]
        },
        {
          "output_type": "stream",
          "name": "stderr",
          "text": [
            "[I 2024-08-06 23:54:55,978] Trial 21 pruned. Trial was pruned at epoch 0.\n"
          ]
        },
        {
          "output_type": "stream",
          "name": "stdout",
          "text": [
            "Trial 22 started with hyperparameters: num_layers=6, filters=[87, 46, 43, 46, 110, 33], kernel_size=3, l1=4.671200362061558e-06, l2=0.0018688919571161792, dense_units=202, dropout_rate=0.3414714701189359, learning_rate=3.915257430728503e-05\n",
            "\u001b[1m49/50\u001b[0m \u001b[32m━━━━━━━━━━━━━━━━━━━\u001b[0m\u001b[37m━\u001b[0m \u001b[1m0s\u001b[0m 21ms/step - accuracy: 0.4906 - loss: 1.2103"
          ]
        },
        {
          "output_type": "stream",
          "name": "stderr",
          "text": [
            "[I 2024-08-06 23:56:31,210] Trial 22 pruned. Trial was pruned at epoch 0.\n"
          ]
        },
        {
          "output_type": "stream",
          "name": "stdout",
          "text": [
            "Trial 23 started with hyperparameters: num_layers=5, filters=[103, 63, 69, 70, 66], kernel_size=3, l1=0.00010185253217818912, l2=0.00014477844567955468, dense_units=234, dropout_rate=0.2757082109161207, learning_rate=5.808945726680266e-05\n",
            "\u001b[1m49/50\u001b[0m \u001b[32m━━━━━━━━━━━━━━━━━━━\u001b[0m\u001b[37m━\u001b[0m \u001b[1m0s\u001b[0m 24ms/step - accuracy: 0.4893 - loss: 1.3611"
          ]
        },
        {
          "output_type": "stream",
          "name": "stderr",
          "text": [
            "[I 2024-08-06 23:58:05,098] Trial 23 pruned. Trial was pruned at epoch 0.\n"
          ]
        },
        {
          "output_type": "stream",
          "name": "stdout",
          "text": [
            "Trial 24 started with hyperparameters: num_layers=4, filters=[101, 45, 50, 128], kernel_size=3, l1=1.765740275370996e-05, l2=0.009936539330199744, dense_units=187, dropout_rate=0.4214421023287428, learning_rate=8.371584249278107e-05\n",
            "\u001b[1m50/50\u001b[0m \u001b[32m━━━━━━━━━━━━━━━━━━━━\u001b[0m\u001b[37m\u001b[0m \u001b[1m0s\u001b[0m 23ms/step - accuracy: 0.4929 - loss: 2.5166"
          ]
        },
        {
          "output_type": "stream",
          "name": "stderr",
          "text": [
            "[I 2024-08-06 23:59:38,505] Trial 24 pruned. Trial was pruned at epoch 0.\n"
          ]
        },
        {
          "output_type": "stream",
          "name": "stdout",
          "text": [
            "Trial 25 started with hyperparameters: num_layers=5, filters=[74, 83, 115, 111, 101], kernel_size=3, l1=0.0004604505979640711, l2=0.00048588989231148553, dense_units=161, dropout_rate=0.25822641197003426, learning_rate=0.00017916024533932854\n",
            "\u001b[1m50/50\u001b[0m \u001b[32m━━━━━━━━━━━━━━━━━━━━\u001b[0m\u001b[37m\u001b[0m \u001b[1m0s\u001b[0m 24ms/step - accuracy: 0.5113 - loss: 5.2761"
          ]
        },
        {
          "output_type": "stream",
          "name": "stderr",
          "text": [
            "[I 2024-08-07 00:01:15,112] Trial 25 pruned. Trial was pruned at epoch 0.\n"
          ]
        },
        {
          "output_type": "stream",
          "name": "stdout",
          "text": [
            "Trial 26 started with hyperparameters: num_layers=4, filters=[92, 51, 98, 56], kernel_size=3, l1=0.00021301005250892963, l2=3.875805410699371e-05, dense_units=124, dropout_rate=0.31933493400562574, learning_rate=3.785520332754111e-05\n",
            "\u001b[1m48/50\u001b[0m \u001b[32m━━━━━━━━━━━━━━━━━━━\u001b[0m\u001b[37m━\u001b[0m \u001b[1m0s\u001b[0m 22ms/step - accuracy: 0.5094 - loss: 1.6749"
          ]
        },
        {
          "output_type": "stream",
          "name": "stderr",
          "text": [
            "[I 2024-08-07 00:02:49,009] Trial 26 pruned. Trial was pruned at epoch 0.\n"
          ]
        },
        {
          "output_type": "stream",
          "name": "stdout",
          "text": [
            "Trial 27 started with hyperparameters: num_layers=5, filters=[119, 117, 38, 90, 128], kernel_size=3, l1=0.0007598882026597221, l2=4.157557783535281e-06, dense_units=237, dropout_rate=0.3703894926565228, learning_rate=0.00012344422750170577\n",
            "\u001b[1m50/50\u001b[0m \u001b[32m━━━━━━━━━━━━━━━━━━━━\u001b[0m\u001b[37m\u001b[0m \u001b[1m15s\u001b[0m 109ms/step - accuracy: 0.4931 - loss: 6.9507 - val_accuracy: 0.4825 - val_loss: 6.0109\n",
            "\u001b[1m50/50\u001b[0m \u001b[32m━━━━━━━━━━━━━━━━━━━━\u001b[0m\u001b[37m\u001b[0m \u001b[1m2s\u001b[0m 37ms/step - accuracy: 0.5212 - loss: 5.7181 - val_accuracy: 0.4825 - val_loss: 4.8797\n",
            "\u001b[1m50/50\u001b[0m \u001b[32m━━━━━━━━━━━━━━━━━━━━\u001b[0m\u001b[37m\u001b[0m \u001b[1m2s\u001b[0m 37ms/step - accuracy: 0.5654 - loss: 4.6214 - val_accuracy: 0.6725 - val_loss: 3.8814\n",
            "\u001b[1m50/50\u001b[0m \u001b[32m━━━━━━━━━━━━━━━━━━━━\u001b[0m\u001b[37m\u001b[0m \u001b[1m2s\u001b[0m 37ms/step - accuracy: 0.6187 - loss: 3.7031 - val_accuracy: 0.6725 - val_loss: 3.1577\n",
            "\u001b[1m50/50\u001b[0m \u001b[32m━━━━━━━━━━━━━━━━━━━━\u001b[0m\u001b[37m\u001b[0m \u001b[1m2s\u001b[0m 36ms/step - accuracy: 0.6695 - loss: 3.0298 - val_accuracy: 0.6963 - val_loss: 2.6192\n",
            "\u001b[1m50/50\u001b[0m \u001b[32m━━━━━━━━━━━━━━━━━━━━\u001b[0m\u001b[37m\u001b[0m \u001b[1m2s\u001b[0m 37ms/step - accuracy: 0.6917 - loss: 2.5107 - val_accuracy: 0.6538 - val_loss: 2.2240\n",
            "\u001b[1m50/50\u001b[0m \u001b[32m━━━━━━━━━━━━━━━━━━━━\u001b[0m\u001b[37m\u001b[0m \u001b[1m2s\u001b[0m 36ms/step - accuracy: 0.7180 - loss: 2.0969 - val_accuracy: 0.6288 - val_loss: 1.9540\n",
            "\u001b[1m50/50\u001b[0m \u001b[32m━━━━━━━━━━━━━━━━━━━━\u001b[0m\u001b[37m\u001b[0m \u001b[1m2s\u001b[0m 36ms/step - accuracy: 0.6868 - loss: 1.8090 - val_accuracy: 0.6612 - val_loss: 1.6724\n",
            "\u001b[1m50/50\u001b[0m \u001b[32m━━━━━━━━━━━━━━━━━━━━\u001b[0m\u001b[37m\u001b[0m \u001b[1m2s\u001b[0m 37ms/step - accuracy: 0.6570 - loss: 1.6449 - val_accuracy: 0.6825 - val_loss: 1.5113\n",
            "\u001b[1m125/125\u001b[0m \u001b[32m━━━━━━━━━━━━━━━━━━━━\u001b[0m\u001b[37m\u001b[0m \u001b[1m1s\u001b[0m 6ms/step - accuracy: 0.7030 - loss: 1.4901\n"
          ]
        },
        {
          "output_type": "stream",
          "name": "stderr",
          "text": [
            "[I 2024-08-07 00:17:00,971] Trial 27 finished with value: 0.6972500085830688 and parameters: {'num_layers': 5, 'filters_0': 119, 'filters_1': 117, 'filters_2': 38, 'filters_3': 90, 'filters_4': 128, 'kernel_size': 3, 'l1': 0.0007598882026597221, 'l2': 4.157557783535281e-06, 'dense_units': 237, 'dropout_rate': 0.3703894926565228, 'learning_rate': 0.00012344422750170577}. Best is trial 0 with value: 0.722000002861023.\n"
          ]
        },
        {
          "output_type": "stream",
          "name": "stdout",
          "text": [
            "Trial 28 started with hyperparameters: num_layers=6, filters=[109, 62, 84, 76, 66, 58], kernel_size=2, l1=6.442755035734006e-05, l2=2.1647272156682473e-05, dense_units=201, dropout_rate=0.2022081556042603, learning_rate=0.0002816798028058433\n",
            "\u001b[1m48/50\u001b[0m \u001b[32m━━━━━━━━━━━━━━━━━━━\u001b[0m\u001b[37m━\u001b[0m \u001b[1m0s\u001b[0m 23ms/step - accuracy: 0.4896 - loss: 1.0382"
          ]
        },
        {
          "output_type": "stream",
          "name": "stderr",
          "text": [
            "[I 2024-08-07 00:18:36,296] Trial 28 pruned. Trial was pruned at epoch 0.\n"
          ]
        },
        {
          "output_type": "stream",
          "name": "stdout",
          "text": [
            "Trial 29 started with hyperparameters: num_layers=4, filters=[92, 94, 104, 99], kernel_size=3, l1=0.0027320770150265363, l2=1.3751552420917071e-05, dense_units=135, dropout_rate=0.36162013928323195, learning_rate=2.2501702153061602e-05\n",
            "\u001b[1m50/50\u001b[0m \u001b[32m━━━━━━━━━━━━━━━━━━━━\u001b[0m\u001b[37m\u001b[0m \u001b[1m12s\u001b[0m 87ms/step - accuracy: 0.5236 - loss: 21.1720 - val_accuracy: 0.4938 - val_loss: 20.5921\n",
            "\u001b[1m50/50\u001b[0m \u001b[32m━━━━━━━━━━━━━━━━━━━━\u001b[0m\u001b[37m\u001b[0m \u001b[1m2s\u001b[0m 32ms/step - accuracy: 0.5336 - loss: 20.4009 - val_accuracy: 0.4825 - val_loss: 19.8377\n",
            "\u001b[1m50/50\u001b[0m \u001b[32m━━━━━━━━━━━━━━━━━━━━\u001b[0m\u001b[37m\u001b[0m \u001b[1m2s\u001b[0m 31ms/step - accuracy: 0.5524 - loss: 19.6509 - val_accuracy: 0.4775 - val_loss: 19.1032\n",
            "\u001b[1m50/50\u001b[0m \u001b[32m━━━━━━━━━━━━━━━━━━━━\u001b[0m\u001b[37m\u001b[0m \u001b[1m2s\u001b[0m 32ms/step - accuracy: 0.5682 - loss: 18.9192 - val_accuracy: 0.5775 - val_loss: 18.3828\n",
            "\u001b[1m50/50\u001b[0m \u001b[32m━━━━━━━━━━━━━━━━━━━━\u001b[0m\u001b[37m\u001b[0m \u001b[1m2s\u001b[0m 32ms/step - accuracy: 0.6152 - loss: 18.2118 - val_accuracy: 0.6538 - val_loss: 17.6988\n",
            "\u001b[1m50/50\u001b[0m \u001b[32m━━━━━━━━━━━━━━━━━━━━\u001b[0m\u001b[37m\u001b[0m \u001b[1m2s\u001b[0m 32ms/step - accuracy: 0.6392 - loss: 17.5325 - val_accuracy: 0.5500 - val_loss: 17.0607\n",
            "\u001b[1m50/50\u001b[0m \u001b[32m━━━━━━━━━━━━━━━━━━━━\u001b[0m\u001b[37m\u001b[0m \u001b[1m2s\u001b[0m 32ms/step - accuracy: 0.6350 - loss: 16.8830 - val_accuracy: 0.5725 - val_loss: 16.4377\n",
            "\u001b[1m50/50\u001b[0m \u001b[32m━━━━━━━━━━━━━━━━━━━━\u001b[0m\u001b[37m\u001b[0m \u001b[1m2s\u001b[0m 33ms/step - accuracy: 0.6631 - loss: 16.2676 - val_accuracy: 0.6850 - val_loss: 15.8111\n",
            "\u001b[1m50/50\u001b[0m \u001b[32m━━━━━━━━━━━━━━━━━━━━\u001b[0m\u001b[37m\u001b[0m \u001b[1m2s\u001b[0m 32ms/step - accuracy: 0.6462 - loss: 15.6873 - val_accuracy: 0.6675 - val_loss: 15.2536\n",
            "\u001b[1m125/125\u001b[0m \u001b[32m━━━━━━━━━━━━━━━━━━━━\u001b[0m\u001b[37m\u001b[0m \u001b[1m1s\u001b[0m 5ms/step - accuracy: 0.6830 - loss: 15.2453\n"
          ]
        },
        {
          "output_type": "stream",
          "name": "stderr",
          "text": [
            "[I 2024-08-07 00:32:43,589] Trial 29 finished with value: 0.6777499914169312 and parameters: {'num_layers': 4, 'filters_0': 92, 'filters_1': 94, 'filters_2': 104, 'filters_3': 99, 'kernel_size': 3, 'l1': 0.0027320770150265363, 'l2': 1.3751552420917071e-05, 'dense_units': 135, 'dropout_rate': 0.36162013928323195, 'learning_rate': 2.2501702153061602e-05}. Best is trial 0 with value: 0.722000002861023.\n"
          ]
        },
        {
          "output_type": "stream",
          "name": "stdout",
          "text": [
            "Best trial:\n",
            "Value: 0.722000002861023\n",
            "Params: \n",
            "    num_layers: 4\n",
            "    filters_0: 124\n",
            "    filters_1: 107\n",
            "    filters_2: 37\n",
            "    filters_3: 107\n",
            "    kernel_size: 3\n",
            "    l1: 0.00023342282213110015\n",
            "    l2: 6.698426243226582e-06\n",
            "    dense_units: 205\n",
            "    dropout_rate: 0.3223287518244954\n",
            "    learning_rate: 0.00011551960587189376\n",
            "Elapsed time: 11116.90 seconds\n"
          ]
        }
      ]
    },
    {
      "cell_type": "code",
      "source": [],
      "metadata": {
        "id": "XHOtD9jvjLsP"
      },
      "execution_count": null,
      "outputs": []
    },
    {
      "cell_type": "code",
      "source": [
        "\n",
        "\n",
        "# Configure logging to file in the current directory with the specified name\n",
        "logging.basicConfig(filename='intermediate_Scenarios_IW.log', level=logging.INFO,\n",
        "                    format='%(asctime)s:%(levelname)s:%(message)s')\n",
        "\n",
        "# Function to preprocess data\n",
        "def preprocess_data(simulations_folder, batch_number):\n",
        "    # Create ImaFile object for the specified simulation folder and model\n",
        "    file_sim = ImaFile(simulations_folder=os.path.join(simulations_folder, f'Simulations{batch_number}'), nr_samples=198, model_name='Marth-3epoch-CEU')\n",
        "\n",
        "    # Read the simulation data\n",
        "    gene_sim = file_sim.read_simulations(parameter_name='selection_coeff_hetero', max_nrepl=4000)\n",
        "\n",
        "    # Filter simulations based on frequency threshold\n",
        "    gene_sim.filter_freq(0.01)\n",
        "\n",
        "    # Sort simulations by row frequency\n",
        "    gene_sim.sort('rows_freq')\n",
        "\n",
        "    # Resize simulation data to the required dimensions\n",
        "    gene_sim.resize((198, 192))\n",
        "\n",
        "    # Convert simulation data (flip=True allows for data augmentation)\n",
        "    gene_sim.convert(flip=True)\n",
        "\n",
        "    # Get a random subset of indices and subset the simulation data\n",
        "    gene_sim.subset(get_index_random(gene_sim))\n",
        "\n",
        "    # Convert targets to binary format\n",
        "    gene_sim.targets = to_binary(gene_sim.targets)\n",
        "\n",
        "    return gene_sim\n",
        "\n",
        "# Objective function for Optuna optimization\n",
        "def objective(trial, simulations_folder, epochs=1):\n",
        "    # Set random seed\n",
        "    np.random.seed(42)\n",
        "    tf.random.set_seed(42)\n",
        "\n",
        "    # Hyperparameters to be optimized\n",
        "    num_layers = trial.suggest_int('num_layers', 3, 6)  # Limit the number of layers to avoid excessive reduction\n",
        "    filters = [trial.suggest_int(f'filters_{i}', 32, 128) for i in range(num_layers)]  # Adjust filters range\n",
        "    kernel_size = trial.suggest_int('kernel_size', 2, 3)  # Limit the kernel size to avoid excessive reduction\n",
        "    l1 = trial.suggest_float('l1', 1e-6, 1e-2, log=True)\n",
        "    l2 = trial.suggest_float('l2', 1e-6, 1e-2, log=True)\n",
        "    dense_units = trial.suggest_int('dense_units', 64, 256)  # Adjust dense units range\n",
        "    dropout_rate = trial.suggest_float('dropout_rate', 0.1, 0.5)\n",
        "    learning_rate = trial.suggest_float('learning_rate', 1e-5, 1e-3, log=True)\n",
        "\n",
        "    # Log the hyperparameters at the start of each trial\n",
        "    logging.info(f'Trial {trial.number} started with hyperparameters: num_layers={num_layers}, filters={filters}, '\n",
        "                 f'kernel_size={kernel_size}, l1={l1}, l2={l2}, dense_units={dense_units}, '\n",
        "                 f'dropout_rate={dropout_rate}, learning_rate={learning_rate}')\n",
        "    print(f'Trial {trial.number} started with hyperparameters: num_layers={num_layers}, filters={filters}, '\n",
        "          f'kernel_size={kernel_size}, l1={l1}, l2={l2}, dense_units={dense_units}, '\n",
        "          f'dropout_rate={dropout_rate}, learning_rate={learning_rate}')\n",
        "\n",
        "    # Building the model based on sampled hyperparameters\n",
        "    model = models.Sequential()\n",
        "    model.add(layers.Input(shape=(198, 192, 1)))  # Define the input layer\n",
        "    for i in range(num_layers):\n",
        "        model.add(layers.Conv2D(filters=filters[i], kernel_size=(kernel_size, kernel_size), strides=(1, 1), activation='relu',\n",
        "                                kernel_regularizer=regularizers.l1_l2(l1=l1, l2=l2), padding='same'))  # Use 'same' padding to avoid dimension issues\n",
        "        model.add(layers.MaxPooling2D(pool_size=(2, 2)))\n",
        "\n",
        "    model.add(layers.Flatten())  # Flatten the output for the Dense layers\n",
        "    model.add(layers.Dense(units=dense_units, activation='relu'))  # Add Dense layer\n",
        "    model.add(layers.Dropout(rate=dropout_rate))  # Add Dropout layer\n",
        "    model.add(layers.Dense(units=1, activation='sigmoid'))  # Output layer with sigmoid activation\n",
        "\n",
        "    optimizer = tf.keras.optimizers.Adam(learning_rate=learning_rate)  # Define optimizer\n",
        "    model.compile(optimizer=optimizer, loss='binary_crossentropy', metrics=['accuracy'])  # Compile the model\n",
        "\n",
        "    # Pruning callback to terminate unpromising trials\n",
        "    pruning_callback = TFKerasPruningCallback(trial, 'val_loss')\n",
        "\n",
        "    # Early stopping to prevent overfitting\n",
        "    early_stopping = EarlyStopping(monitor='val_loss', patience=3, restore_best_weights=True)\n",
        "\n",
        "    # Incremental training on 9 batches\n",
        "    best_val_loss = np.inf  # Track the best validation loss\n",
        "    for batch_number in range(1, 10):\n",
        "        gene_sim = preprocess_data(simulations_folder, batch_number)  # Preprocess data\n",
        "        history = model.fit(gene_sim.data, gene_sim.targets, batch_size=64, epochs=epochs, verbose=1, validation_split=0.2,\n",
        "                            callbacks=[early_stopping, pruning_callback])  # Train the model with callbacks\n",
        "\n",
        "        # Get the validation loss for the current epoch\n",
        "        val_loss = min(history.history['val_loss'])\n",
        "        if val_loss < best_val_loss:\n",
        "            best_val_loss = val_loss\n",
        "            trial.report(val_loss, batch_number)\n",
        "            if trial.should_prune():\n",
        "                raise optuna.exceptions.TrialPruned()\n",
        "\n",
        "    # Evaluate the model on the 10th batch\n",
        "    gene_sim = preprocess_data(simulations_folder, 10)\n",
        "    evaluation = model.evaluate(gene_sim.data, gene_sim.targets, verbose=1)\n",
        "    return evaluation[1]  # Return the accuracy\n",
        "\n",
        "# Function to run the optimization process\n",
        "def run_optimization():\n",
        "    start_time = time.time()  # Record start time\n",
        "\n",
        "    simulations_folder = '/content/EvoNet-CNN-Insight/model_training/intermediate_weak/IW'  # Folder for this dataset\n",
        "    logging.info(f\"Starting optimization for {simulations_folder}\")\n",
        "    print(f\"Starting optimization for {simulations_folder}\")\n",
        "\n",
        "    # Create an Optuna study and optimize the objective function\n",
        "    study = optuna.create_study(direction='maximize', pruner=optuna.pruners.MedianPruner(), storage='sqlite:///iw_study.db', load_if_exists=True)  # Use SQLite storage\n",
        "    study.optimize(lambda trial: objective(trial, simulations_folder), n_trials=30)  # Set to 30 trials\n",
        "\n",
        "    try:\n",
        "        trial = study.best_trial\n",
        "        print('Best trial:')\n",
        "        print('Value: {}'.format(trial.value))\n",
        "        print('Params: ')\n",
        "        for key, value in trial.params.items():\n",
        "            print('    {}: {}'.format(key, value))  # Print best trial parameters\n",
        "\n",
        "        logging.info('Best trial:')\n",
        "        logging.info('Value: {}'.format(trial.value))\n",
        "        logging.info('Params: ')\n",
        "        for key, value in trial.params.items():\n",
        "            logging.info('    {}: {}'.format(key, value))  # Log best trial parameters\n",
        "\n",
        "    except ValueError as e:\n",
        "        logging.error(f\"No completed trials: {e}\")  # Log error if no trials are completed\n",
        "\n",
        "    elapsed_time = time.time() - start_time  # Calculate elapsed time\n",
        "    print(f\"Elapsed time: {elapsed_time:.2f} seconds\")\n",
        "    logging.info(f\"Elapsed time: {elapsed_time:.2f} seconds\")  # Log elapsed time\n",
        "\n",
        "# Run the optimization process\n",
        "if __name__ == '__main__':\n",
        "    run_optimization()  # Execute the optimization function"
      ],
      "metadata": {
        "colab": {
          "base_uri": "https://localhost:8080/"
        },
        "id": "zWOV71j9jMi6",
        "outputId": "50235102-5f24-458c-fbec-5e29c13fa9ad"
      },
      "execution_count": 7,
      "outputs": [
        {
          "metadata": {
            "tags": null
          },
          "name": "stdout",
          "output_type": "stream",
          "text": [
            "Starting optimization for /content/EvoNet-CNN-Insight/model_training/intermediate_weak/IW\n"
          ]
        },
        {
          "metadata": {
            "tags": null
          },
          "name": "stderr",
          "output_type": "stream",
          "text": [
            "[I 2024-08-07 00:43:41,099] A new study created in RDB with name: no-name-ff4afe7d-4c1d-4880-a3e7-4e3df50326e0\n"
          ]
        },
        {
          "metadata": {
            "tags": null
          },
          "name": "stdout",
          "output_type": "stream",
          "text": [
            "Trial 0 started with hyperparameters: num_layers=4, filters=[123, 56, 121, 107], kernel_size=3, l1=0.0003808975593362682, l2=4.527261196487089e-05, dense_units=72, dropout_rate=0.41997702959346495, learning_rate=0.0001955672821478825\n",
            "\u001b[1m50/50\u001b[0m \u001b[32m━━━━━━━━━━━━━━━━━━━━\u001b[0m\u001b[37m\u001b[0m \u001b[1m12s\u001b[0m 93ms/step - accuracy: 0.5470 - loss: 3.1628 - val_accuracy: 0.7412 - val_loss: 2.5713\n",
            "\u001b[1m50/50\u001b[0m \u001b[32m━━━━━━━━━━━━━━━━━━━━\u001b[0m\u001b[37m\u001b[0m \u001b[1m2s\u001b[0m 33ms/step - accuracy: 0.7563 - loss: 2.3853 - val_accuracy: 0.7312 - val_loss: 2.0628\n"
          ]
        },
        {
          "metadata": {
            "tags": null
          },
          "name": "stderr",
          "output_type": "stream",
          "text": [
            "/usr/local/lib/python3.10/dist-packages/optuna/trial/_trial.py:493: UserWarning: The reported value is ignored because this `step` 0 is already reported.\n",
            "  warnings.warn(\n"
          ]
        },
        {
          "metadata": {
            "tags": null
          },
          "name": "stdout",
          "output_type": "stream",
          "text": [
            "\u001b[1m50/50\u001b[0m \u001b[32m━━━━━━━━━━━━━━━━━━━━\u001b[0m\u001b[37m\u001b[0m \u001b[1m2s\u001b[0m 33ms/step - accuracy: 0.8045 - loss: 1.9116 - val_accuracy: 0.8550 - val_loss: 1.6014\n",
            "\u001b[1m50/50\u001b[0m \u001b[32m━━━━━━━━━━━━━━━━━━━━\u001b[0m\u001b[37m\u001b[0m \u001b[1m2s\u001b[0m 33ms/step - accuracy: 0.8405 - loss: 1.5547 - val_accuracy: 0.8675 - val_loss: 1.3665\n",
            "\u001b[1m50/50\u001b[0m \u001b[32m━━━━━━━━━━━━━━━━━━━━\u001b[0m\u001b[37m\u001b[0m \u001b[1m2s\u001b[0m 33ms/step - accuracy: 0.8374 - loss: 1.3882 - val_accuracy: 0.8225 - val_loss: 1.2946\n",
            "\u001b[1m50/50\u001b[0m \u001b[32m━━━━━━━━━━━━━━━━━━━━\u001b[0m\u001b[37m\u001b[0m \u001b[1m2s\u001b[0m 33ms/step - accuracy: 0.8346 - loss: 1.2700 - val_accuracy: 0.8500 - val_loss: 1.1706\n",
            "\u001b[1m50/50\u001b[0m \u001b[32m━━━━━━━━━━━━━━━━━━━━\u001b[0m\u001b[37m\u001b[0m \u001b[1m2s\u001b[0m 32ms/step - accuracy: 0.8514 - loss: 1.1449 - val_accuracy: 0.8575 - val_loss: 1.0945\n",
            "\u001b[1m50/50\u001b[0m \u001b[32m━━━━━━━━━━━━━━━━━━━━\u001b[0m\u001b[37m\u001b[0m \u001b[1m2s\u001b[0m 33ms/step - accuracy: 0.8589 - loss: 1.0962 - val_accuracy: 0.7650 - val_loss: 1.1800\n",
            "\u001b[1m50/50\u001b[0m \u001b[32m━━━━━━━━━━━━━━━━━━━━\u001b[0m\u001b[37m\u001b[0m \u001b[1m2s\u001b[0m 32ms/step - accuracy: 0.8462 - loss: 1.0812 - val_accuracy: 0.8350 - val_loss: 1.0672\n",
            "\u001b[1m125/125\u001b[0m \u001b[32m━━━━━━━━━━━━━━━━━━━━\u001b[0m\u001b[37m\u001b[0m \u001b[1m1s\u001b[0m 5ms/step - accuracy: 0.8593 - loss: 1.0316\n"
          ]
        },
        {
          "metadata": {
            "tags": null
          },
          "name": "stderr",
          "output_type": "stream",
          "text": [
            "[I 2024-08-07 00:57:27,567] Trial 0 finished with value: 0.8565000295639038 and parameters: {'num_layers': 4, 'filters_0': 123, 'filters_1': 56, 'filters_2': 121, 'filters_3': 107, 'kernel_size': 3, 'l1': 0.0003808975593362682, 'l2': 4.527261196487089e-05, 'dense_units': 72, 'dropout_rate': 0.41997702959346495, 'learning_rate': 0.0001955672821478825}. Best is trial 0 with value: 0.8565000295639038.\n"
          ]
        },
        {
          "metadata": {
            "tags": null
          },
          "name": "stdout",
          "output_type": "stream",
          "text": [
            "Trial 1 started with hyperparameters: num_layers=6, filters=[45, 59, 109, 60, 97, 34], kernel_size=3, l1=0.00020719583186205152, l2=5.857147703205873e-06, dense_units=212, dropout_rate=0.17024928877972617, learning_rate=9.364898991711462e-05\n",
            "\u001b[1m50/50\u001b[0m \u001b[32m━━━━━━━━━━━━━━━━━━━━\u001b[0m\u001b[37m\u001b[0m \u001b[1m11s\u001b[0m 81ms/step - accuracy: 0.5040 - loss: 2.1884 - val_accuracy: 0.4825 - val_loss: 2.0621\n",
            "\u001b[1m50/50\u001b[0m \u001b[32m━━━━━━━━━━━━━━━━━━━━\u001b[0m\u001b[37m\u001b[0m \u001b[1m1s\u001b[0m 22ms/step - accuracy: 0.5410 - loss: 2.0200 - val_accuracy: 0.7788 - val_loss: 1.8870\n",
            "\u001b[1m50/50\u001b[0m \u001b[32m━━━━━━━━━━━━━━━━━━━━\u001b[0m\u001b[37m\u001b[0m \u001b[1m1s\u001b[0m 23ms/step - accuracy: 0.7562 - loss: 1.8104 - val_accuracy: 0.8363 - val_loss: 1.5161\n",
            "\u001b[1m50/50\u001b[0m \u001b[32m━━━━━━━━━━━━━━━━━━━━\u001b[0m\u001b[37m\u001b[0m \u001b[1m1s\u001b[0m 23ms/step - accuracy: 0.8208 - loss: 1.4811 - val_accuracy: 0.8487 - val_loss: 1.3700\n",
            "\u001b[1m50/50\u001b[0m \u001b[32m━━━━━━━━━━━━━━━━━━━━\u001b[0m\u001b[37m\u001b[0m \u001b[1m1s\u001b[0m 23ms/step - accuracy: 0.8378 - loss: 1.3862 - val_accuracy: 0.8425 - val_loss: 1.3010\n",
            "\u001b[1m50/50\u001b[0m \u001b[32m━━━━━━━━━━━━━━━━━━━━\u001b[0m\u001b[37m\u001b[0m \u001b[1m1s\u001b[0m 22ms/step - accuracy: 0.8416 - loss: 1.2897 - val_accuracy: 0.8338 - val_loss: 1.2361\n",
            "\u001b[1m50/50\u001b[0m \u001b[32m━━━━━━━━━━━━━━━━━━━━\u001b[0m\u001b[37m\u001b[0m \u001b[1m1s\u001b[0m 23ms/step - accuracy: 0.8545 - loss: 1.2023 - val_accuracy: 0.8537 - val_loss: 1.1582\n",
            "\u001b[1m50/50\u001b[0m \u001b[32m━━━━━━━━━━━━━━━━━━━━\u001b[0m\u001b[37m\u001b[0m \u001b[1m1s\u001b[0m 23ms/step - accuracy: 0.8540 - loss: 1.1520 - val_accuracy: 0.8138 - val_loss: 1.1666\n",
            "\u001b[1m50/50\u001b[0m \u001b[32m━━━━━━━━━━━━━━━━━━━━\u001b[0m\u001b[37m\u001b[0m \u001b[1m1s\u001b[0m 23ms/step - accuracy: 0.8607 - loss: 1.0861 - val_accuracy: 0.8388 - val_loss: 1.0887\n",
            "\u001b[1m125/125\u001b[0m \u001b[32m━━━━━━━━━━━━━━━━━━━━\u001b[0m\u001b[37m\u001b[0m \u001b[1m1s\u001b[0m 4ms/step - accuracy: 0.8594 - loss: 1.0600\n"
          ]
        },
        {
          "metadata": {
            "tags": null
          },
          "name": "stderr",
          "output_type": "stream",
          "text": [
            "[I 2024-08-07 01:11:09,035] Trial 1 finished with value: 0.859250009059906 and parameters: {'num_layers': 6, 'filters_0': 45, 'filters_1': 59, 'filters_2': 109, 'filters_3': 60, 'filters_4': 97, 'filters_5': 34, 'kernel_size': 3, 'l1': 0.00020719583186205152, 'l2': 5.857147703205873e-06, 'dense_units': 212, 'dropout_rate': 0.17024928877972617, 'learning_rate': 9.364898991711462e-05}. Best is trial 1 with value: 0.859250009059906.\n"
          ]
        },
        {
          "metadata": {
            "tags": null
          },
          "name": "stdout",
          "output_type": "stream",
          "text": [
            "Trial 2 started with hyperparameters: num_layers=6, filters=[36, 61, 125, 58, 46, 80], kernel_size=2, l1=5.7944957902052485e-05, l2=0.00013078230073021723, dense_units=152, dropout_rate=0.24228689196387476, learning_rate=0.0003981287110754072\n",
            "\u001b[1m50/50\u001b[0m \u001b[32m━━━━━━━━━━━━━━━━━━━━\u001b[0m\u001b[37m\u001b[0m \u001b[1m11s\u001b[0m 78ms/step - accuracy: 0.5028 - loss: 0.9882 - val_accuracy: 0.4825 - val_loss: 0.9321\n",
            "\u001b[1m50/50\u001b[0m \u001b[32m━━━━━━━━━━━━━━━━━━━━\u001b[0m\u001b[37m\u001b[0m \u001b[1m1s\u001b[0m 21ms/step - accuracy: 0.6127 - loss: 0.8861 - val_accuracy: 0.7300 - val_loss: 0.6999\n",
            "\u001b[1m50/50\u001b[0m \u001b[32m━━━━━━━━━━━━━━━━━━━━\u001b[0m\u001b[37m\u001b[0m \u001b[1m1s\u001b[0m 20ms/step - accuracy: 0.8109 - loss: 0.6045 - val_accuracy: 0.8487 - val_loss: 0.5180\n",
            "\u001b[1m50/50\u001b[0m \u001b[32m━━━━━━━━━━━━━━━━━━━━\u001b[0m\u001b[37m\u001b[0m \u001b[1m1s\u001b[0m 21ms/step - accuracy: 0.8395 - loss: 0.5222 - val_accuracy: 0.8275 - val_loss: 0.5344\n",
            "\u001b[1m50/50\u001b[0m \u001b[32m━━━━━━━━━━━━━━━━━━━━\u001b[0m\u001b[37m\u001b[0m \u001b[1m1s\u001b[0m 21ms/step - accuracy: 0.8427 - loss: 0.5301 - val_accuracy: 0.8475 - val_loss: 0.5023\n",
            "\u001b[1m50/50\u001b[0m \u001b[32m━━━━━━━━━━━━━━━━━━━━\u001b[0m\u001b[37m\u001b[0m \u001b[1m1s\u001b[0m 20ms/step - accuracy: 0.8399 - loss: 0.5201 - val_accuracy: 0.8300 - val_loss: 0.5206\n",
            "\u001b[1m50/50\u001b[0m \u001b[32m━━━━━━━━━━━━━━━━━━━━\u001b[0m\u001b[37m\u001b[0m \u001b[1m1s\u001b[0m 20ms/step - accuracy: 0.8567 - loss: 0.4772 - val_accuracy: 0.8687 - val_loss: 0.4543\n",
            "\u001b[1m50/50\u001b[0m \u001b[32m━━━━━━━━━━━━━━━━━━━━\u001b[0m\u001b[37m\u001b[0m \u001b[1m1s\u001b[0m 21ms/step - accuracy: 0.8579 - loss: 0.4639 - val_accuracy: 0.8775 - val_loss: 0.4408\n",
            "\u001b[1m50/50\u001b[0m \u001b[32m━━━━━━━━━━━━━━━━━━━━\u001b[0m\u001b[37m\u001b[0m \u001b[1m1s\u001b[0m 20ms/step - accuracy: 0.8763 - loss: 0.4391 - val_accuracy: 0.8625 - val_loss: 0.4618\n",
            "\u001b[1m125/125\u001b[0m \u001b[32m━━━━━━━━━━━━━━━━━━━━\u001b[0m\u001b[37m\u001b[0m \u001b[1m1s\u001b[0m 4ms/step - accuracy: 0.8789 - loss: 0.4323\n"
          ]
        },
        {
          "metadata": {
            "tags": null
          },
          "name": "stderr",
          "output_type": "stream",
          "text": [
            "[I 2024-08-07 01:24:50,310] Trial 2 finished with value: 0.8797500133514404 and parameters: {'num_layers': 6, 'filters_0': 36, 'filters_1': 61, 'filters_2': 125, 'filters_3': 58, 'filters_4': 46, 'filters_5': 80, 'kernel_size': 2, 'l1': 5.7944957902052485e-05, 'l2': 0.00013078230073021723, 'dense_units': 152, 'dropout_rate': 0.24228689196387476, 'learning_rate': 0.0003981287110754072}. Best is trial 2 with value: 0.8797500133514404.\n"
          ]
        },
        {
          "metadata": {
            "tags": null
          },
          "name": "stdout",
          "output_type": "stream",
          "text": [
            "Trial 3 started with hyperparameters: num_layers=3, filters=[100, 126, 112], kernel_size=3, l1=6.8624894705265395e-06, l2=0.00019845423671788312, dense_units=231, dropout_rate=0.14131085310362224, learning_rate=1.403934263952626e-05\n",
            "\u001b[1m50/50\u001b[0m \u001b[32m━━━━━━━━━━━━━━━━━━━━\u001b[0m\u001b[37m\u001b[0m \u001b[1m13s\u001b[0m 98ms/step - accuracy: 0.5412 - loss: 0.7776 - val_accuracy: 0.7138 - val_loss: 0.7340\n",
            "\u001b[1m50/50\u001b[0m \u001b[32m━━━━━━━━━━━━━━━━━━━━\u001b[0m\u001b[37m\u001b[0m \u001b[1m2s\u001b[0m 36ms/step - accuracy: 0.7534 - loss: 0.7142 - val_accuracy: 0.7875 - val_loss: 0.6306\n",
            "\u001b[1m50/50\u001b[0m \u001b[32m━━━━━━━━━━━━━━━━━━━━\u001b[0m\u001b[37m\u001b[0m \u001b[1m2s\u001b[0m 36ms/step - accuracy: 0.8019 - loss: 0.6004 - val_accuracy: 0.8288 - val_loss: 0.5236\n",
            "\u001b[1m50/50\u001b[0m \u001b[32m━━━━━━━━━━━━━━━━━━━━\u001b[0m\u001b[37m\u001b[0m \u001b[1m2s\u001b[0m 36ms/step - accuracy: 0.8307 - loss: 0.5095 - val_accuracy: 0.8525 - val_loss: 0.4646\n",
            "\u001b[1m50/50\u001b[0m \u001b[32m━━━━━━━━━━━━━━━━━━━━\u001b[0m\u001b[37m\u001b[0m \u001b[1m2s\u001b[0m 35ms/step - accuracy: 0.8416 - loss: 0.4699 - val_accuracy: 0.8388 - val_loss: 0.4731\n",
            "\u001b[1m50/50\u001b[0m \u001b[32m━━━━━━━━━━━━━━━━━━━━\u001b[0m\u001b[37m\u001b[0m \u001b[1m2s\u001b[0m 36ms/step - accuracy: 0.8511 - loss: 0.4604 - val_accuracy: 0.8375 - val_loss: 0.4503\n",
            "\u001b[1m50/50\u001b[0m \u001b[32m━━━━━━━━━━━━━━━━━━━━\u001b[0m\u001b[37m\u001b[0m \u001b[1m2s\u001b[0m 36ms/step - accuracy: 0.8569 - loss: 0.4210 - val_accuracy: 0.8637 - val_loss: 0.4154\n",
            "\u001b[1m50/50\u001b[0m \u001b[32m━━━━━━━━━━━━━━━━━━━━\u001b[0m\u001b[37m\u001b[0m \u001b[1m2s\u001b[0m 36ms/step - accuracy: 0.8623 - loss: 0.4204 - val_accuracy: 0.8725 - val_loss: 0.4057\n",
            "\u001b[1m50/50\u001b[0m \u001b[32m━━━━━━━━━━━━━━━━━━━━\u001b[0m\u001b[37m\u001b[0m \u001b[1m2s\u001b[0m 35ms/step - accuracy: 0.8600 - loss: 0.4116 - val_accuracy: 0.8537 - val_loss: 0.4297\n",
            "\u001b[1m125/125\u001b[0m \u001b[32m━━━━━━━━━━━━━━━━━━━━\u001b[0m\u001b[37m\u001b[0m \u001b[1m1s\u001b[0m 6ms/step - accuracy: 0.8716 - loss: 0.4057\n"
          ]
        },
        {
          "metadata": {
            "tags": null
          },
          "name": "stderr",
          "output_type": "stream",
          "text": [
            "[I 2024-08-07 01:38:41,032] Trial 3 finished with value: 0.8734999895095825 and parameters: {'num_layers': 3, 'filters_0': 100, 'filters_1': 126, 'filters_2': 112, 'kernel_size': 3, 'l1': 6.8624894705265395e-06, 'l2': 0.00019845423671788312, 'dense_units': 231, 'dropout_rate': 0.14131085310362224, 'learning_rate': 1.403934263952626e-05}. Best is trial 2 with value: 0.8797500133514404.\n"
          ]
        },
        {
          "metadata": {
            "tags": null
          },
          "name": "stdout",
          "output_type": "stream",
          "text": [
            "Trial 4 started with hyperparameters: num_layers=5, filters=[37, 47, 32, 35, 101], kernel_size=3, l1=0.0037791851211067618, l2=3.0215383452568897e-06, dense_units=228, dropout_rate=0.27085551792619145, learning_rate=0.00015569735423490286\n",
            "\u001b[1m50/50\u001b[0m \u001b[32m━━━━━━━━━━━━━━━━━━━━\u001b[0m\u001b[37m\u001b[0m \u001b[1m9s\u001b[0m 69ms/step - accuracy: 0.5256 - loss: 11.3798 - val_accuracy: 0.5337 - val_loss: 9.9180\n",
            "\u001b[1m50/50\u001b[0m \u001b[32m━━━━━━━━━━━━━━━━━━━━\u001b[0m\u001b[37m\u001b[0m \u001b[1m1s\u001b[0m 19ms/step - accuracy: 0.6280 - loss: 9.4640 - val_accuracy: 0.6587 - val_loss: 8.1565\n",
            "\u001b[1m50/50\u001b[0m \u001b[32m━━━━━━━━━━━━━━━━━━━━\u001b[0m\u001b[37m\u001b[0m \u001b[1m1s\u001b[0m 19ms/step - accuracy: 0.7490 - loss: 7.7466 - val_accuracy: 0.8200 - val_loss: 6.5621\n",
            "\u001b[1m50/50\u001b[0m \u001b[32m━━━━━━━━━━━━━━━━━━━━\u001b[0m\u001b[37m\u001b[0m \u001b[1m1s\u001b[0m 19ms/step - accuracy: 0.8127 - loss: 6.2727 - val_accuracy: 0.8425 - val_loss: 5.4500\n",
            "\u001b[1m50/50\u001b[0m \u001b[32m━━━━━━━━━━━━━━━━━━━━\u001b[0m\u001b[37m\u001b[0m \u001b[1m1s\u001b[0m 19ms/step - accuracy: 0.8194 - loss: 5.2503 - val_accuracy: 0.8350 - val_loss: 4.5920\n",
            "\u001b[1m50/50\u001b[0m \u001b[32m━━━━━━━━━━━━━━━━━━━━\u001b[0m\u001b[37m\u001b[0m \u001b[1m1s\u001b[0m 19ms/step - accuracy: 0.8277 - loss: 4.4163 - val_accuracy: 0.8375 - val_loss: 3.8494\n",
            "\u001b[1m50/50\u001b[0m \u001b[32m━━━━━━━━━━━━━━━━━━━━\u001b[0m\u001b[37m\u001b[0m \u001b[1m1s\u001b[0m 19ms/step - accuracy: 0.8350 - loss: 3.7039 - val_accuracy: 0.8425 - val_loss: 3.2617\n",
            "\u001b[1m50/50\u001b[0m \u001b[32m━━━━━━━━━━━━━━━━━━━━\u001b[0m\u001b[37m\u001b[0m \u001b[1m1s\u001b[0m 19ms/step - accuracy: 0.8471 - loss: 3.1403 - val_accuracy: 0.8050 - val_loss: 2.8591\n",
            "\u001b[1m50/50\u001b[0m \u001b[32m━━━━━━━━━━━━━━━━━━━━\u001b[0m\u001b[37m\u001b[0m \u001b[1m1s\u001b[0m 19ms/step - accuracy: 0.8449 - loss: 2.6994 - val_accuracy: 0.8350 - val_loss: 2.4758\n",
            "\u001b[1m125/125\u001b[0m \u001b[32m━━━━━━━━━━━━━━━━━━━━\u001b[0m\u001b[37m\u001b[0m \u001b[1m1s\u001b[0m 4ms/step - accuracy: 0.8468 - loss: 2.4595\n"
          ]
        },
        {
          "metadata": {
            "tags": null
          },
          "name": "stderr",
          "output_type": "stream",
          "text": [
            "[I 2024-08-07 01:52:21,010] Trial 4 finished with value: 0.847000002861023 and parameters: {'num_layers': 5, 'filters_0': 37, 'filters_1': 47, 'filters_2': 32, 'filters_3': 35, 'filters_4': 101, 'kernel_size': 3, 'l1': 0.0037791851211067618, 'l2': 3.0215383452568897e-06, 'dense_units': 228, 'dropout_rate': 0.27085551792619145, 'learning_rate': 0.00015569735423490286}. Best is trial 2 with value: 0.8797500133514404.\n"
          ]
        },
        {
          "metadata": {
            "tags": null
          },
          "name": "stdout",
          "output_type": "stream",
          "text": [
            "Trial 5 started with hyperparameters: num_layers=4, filters=[79, 111, 48, 59], kernel_size=2, l1=0.0008844487057556489, l2=4.118844338107327e-06, dense_units=106, dropout_rate=0.22682205829652924, learning_rate=1.03467732710812e-05\n",
            "\u001b[1m50/50\u001b[0m \u001b[32m━━━━━━━━━━━━━━━━━━━━\u001b[0m\u001b[37m\u001b[0m \u001b[1m9s\u001b[0m 74ms/step - accuracy: 0.5053 - loss: 3.5934 - val_accuracy: 0.5312 - val_loss: 3.5695\n",
            "\u001b[1m50/50\u001b[0m \u001b[32m━━━━━━━━━━━━━━━━━━━━\u001b[0m\u001b[37m\u001b[0m \u001b[1m1s\u001b[0m 28ms/step - accuracy: 0.5442 - loss: 3.5633 - val_accuracy: 0.6963 - val_loss: 3.5396\n",
            "\u001b[1m50/50\u001b[0m \u001b[32m━━━━━━━━━━━━━━━━━━━━\u001b[0m\u001b[37m\u001b[0m \u001b[1m1s\u001b[0m 27ms/step - accuracy: 0.5753 - loss: 3.5325 - val_accuracy: 0.7625 - val_loss: 3.5093\n",
            "\u001b[1m50/50\u001b[0m \u001b[32m━━━━━━━━━━━━━━━━━━━━\u001b[0m\u001b[37m\u001b[0m \u001b[1m1s\u001b[0m 28ms/step - accuracy: 0.6435 - loss: 3.5013 - val_accuracy: 0.6712 - val_loss: 3.4774\n",
            "\u001b[1m50/50\u001b[0m \u001b[32m━━━━━━━━━━━━━━━━━━━━\u001b[0m\u001b[37m\u001b[0m \u001b[1m1s\u001b[0m 27ms/step - accuracy: 0.6930 - loss: 3.4697 - val_accuracy: 0.6325 - val_loss: 3.4455\n",
            "\u001b[1m50/50\u001b[0m \u001b[32m━━━━━━━━━━━━━━━━━━━━\u001b[0m\u001b[37m\u001b[0m \u001b[1m1s\u001b[0m 28ms/step - accuracy: 0.7208 - loss: 3.4385 - val_accuracy: 0.5250 - val_loss: 3.4158\n",
            "\u001b[1m50/50\u001b[0m \u001b[32m━━━━━━━━━━━━━━━━━━━━\u001b[0m\u001b[37m\u001b[0m \u001b[1m1s\u001b[0m 27ms/step - accuracy: 0.6217 - loss: 3.4047 - val_accuracy: 0.6450 - val_loss: 3.3773\n",
            "\u001b[1m50/50\u001b[0m \u001b[32m━━━━━━━━━━━━━━━━━━━━\u001b[0m\u001b[37m\u001b[0m \u001b[1m1s\u001b[0m 27ms/step - accuracy: 0.7030 - loss: 3.3739 - val_accuracy: 0.6263 - val_loss: 3.3529\n",
            "\u001b[1m50/50\u001b[0m \u001b[32m━━━━━━━━━━━━━━━━━━━━\u001b[0m\u001b[37m\u001b[0m \u001b[1m1s\u001b[0m 27ms/step - accuracy: 0.7428 - loss: 3.3347 - val_accuracy: 0.8487 - val_loss: 3.3079\n",
            "\u001b[1m125/125\u001b[0m \u001b[32m━━━━━━━━━━━━━━━━━━━━\u001b[0m\u001b[37m\u001b[0m \u001b[1m1s\u001b[0m 5ms/step - accuracy: 0.8568 - loss: 3.3052\n"
          ]
        },
        {
          "metadata": {
            "tags": null
          },
          "name": "stderr",
          "output_type": "stream",
          "text": [
            "[I 2024-08-07 02:06:04,838] Trial 5 finished with value: 0.8532500267028809 and parameters: {'num_layers': 4, 'filters_0': 79, 'filters_1': 111, 'filters_2': 48, 'filters_3': 59, 'kernel_size': 2, 'l1': 0.0008844487057556489, 'l2': 4.118844338107327e-06, 'dense_units': 106, 'dropout_rate': 0.22682205829652924, 'learning_rate': 1.03467732710812e-05}. Best is trial 2 with value: 0.8797500133514404.\n"
          ]
        },
        {
          "metadata": {
            "tags": null
          },
          "name": "stdout",
          "output_type": "stream",
          "text": [
            "Trial 6 started with hyperparameters: num_layers=5, filters=[120, 60, 78, 98, 65], kernel_size=3, l1=0.0009565848201681719, l2=2.430225713593229e-05, dense_units=107, dropout_rate=0.10427770733275024, learning_rate=3.143584362885126e-05\n",
            "\u001b[1m50/50\u001b[0m \u001b[32m━━━━━━━━━━━━━━━━━━━━\u001b[0m\u001b[37m\u001b[0m \u001b[1m14s\u001b[0m 96ms/step - accuracy: 0.5087 - loss: 7.7191 - val_accuracy: 0.6837 - val_loss: 7.4667\n",
            "\u001b[1m50/50\u001b[0m \u001b[32m━━━━━━━━━━━━━━━━━━━━\u001b[0m\u001b[37m\u001b[0m \u001b[1m2s\u001b[0m 31ms/step - accuracy: 0.5506 - loss: 7.3844 - val_accuracy: 0.7163 - val_loss: 7.1390\n",
            "\u001b[1m50/50\u001b[0m \u001b[32m━━━━━━━━━━━━━━━━━━━━\u001b[0m\u001b[37m\u001b[0m \u001b[1m2s\u001b[0m 33ms/step - accuracy: 0.5798 - loss: 7.0592 - val_accuracy: 0.4800 - val_loss: 6.8222\n",
            "\u001b[1m50/50\u001b[0m \u001b[32m━━━━━━━━━━━━━━━━━━━━\u001b[0m\u001b[37m\u001b[0m \u001b[1m2s\u001b[0m 31ms/step - accuracy: 0.5940 - loss: 6.7428 - val_accuracy: 0.7362 - val_loss: 6.5104\n",
            "\u001b[1m50/50\u001b[0m \u001b[32m━━━━━━━━━━━━━━━━━━━━\u001b[0m\u001b[37m\u001b[0m \u001b[1m2s\u001b[0m 31ms/step - accuracy: 0.7395 - loss: 6.4336 - val_accuracy: 0.8087 - val_loss: 6.2000\n",
            "\u001b[1m50/50\u001b[0m \u001b[32m━━━━━━━━━━━━━━━━━━━━\u001b[0m\u001b[37m\u001b[0m \u001b[1m2s\u001b[0m 31ms/step - accuracy: 0.7643 - loss: 6.1253 - val_accuracy: 0.6162 - val_loss: 5.9162\n",
            "\u001b[1m50/50\u001b[0m \u001b[32m━━━━━━━━━━━━━━━━━━━━\u001b[0m\u001b[37m\u001b[0m \u001b[1m2s\u001b[0m 31ms/step - accuracy: 0.7981 - loss: 5.7857 - val_accuracy: 0.8075 - val_loss: 5.5542\n",
            "\u001b[1m50/50\u001b[0m \u001b[32m━━━━━━━━━━━━━━━━━━━━\u001b[0m\u001b[37m\u001b[0m \u001b[1m2s\u001b[0m 31ms/step - accuracy: 0.8232 - loss: 5.4860 - val_accuracy: 0.7713 - val_loss: 5.3883\n",
            "\u001b[1m50/50\u001b[0m \u001b[32m━━━━━━━━━━━━━━━━━━━━\u001b[0m\u001b[37m\u001b[0m \u001b[1m2s\u001b[0m 31ms/step - accuracy: 0.8259 - loss: 5.2706 - val_accuracy: 0.8400 - val_loss: 5.1408\n",
            "\u001b[1m125/125\u001b[0m \u001b[32m━━━━━━━━━━━━━━━━━━━━\u001b[0m\u001b[37m\u001b[0m \u001b[1m1s\u001b[0m 5ms/step - accuracy: 0.8398 - loss: 5.1217\n"
          ]
        },
        {
          "metadata": {
            "tags": null
          },
          "name": "stderr",
          "output_type": "stream",
          "text": [
            "[I 2024-08-07 02:20:01,683] Trial 6 finished with value: 0.8477500081062317 and parameters: {'num_layers': 5, 'filters_0': 120, 'filters_1': 60, 'filters_2': 78, 'filters_3': 98, 'filters_4': 65, 'kernel_size': 3, 'l1': 0.0009565848201681719, 'l2': 2.430225713593229e-05, 'dense_units': 107, 'dropout_rate': 0.10427770733275024, 'learning_rate': 3.143584362885126e-05}. Best is trial 2 with value: 0.8797500133514404.\n"
          ]
        },
        {
          "metadata": {
            "tags": null
          },
          "name": "stdout",
          "output_type": "stream",
          "text": [
            "Trial 7 started with hyperparameters: num_layers=5, filters=[117, 82, 111, 55, 100], kernel_size=3, l1=0.00013823881528056325, l2=0.0020162373682857783, dense_units=232, dropout_rate=0.10382735547031596, learning_rate=0.00017283661751698446\n",
            "\u001b[1m49/50\u001b[0m \u001b[32m━━━━━━━━━━━━━━━━━━━\u001b[0m\u001b[37m━\u001b[0m \u001b[1m0s\u001b[0m 29ms/step - accuracy: 0.5277 - loss: 2.4090"
          ]
        },
        {
          "metadata": {
            "tags": null
          },
          "name": "stderr",
          "output_type": "stream",
          "text": [
            "[I 2024-08-07 02:21:37,224] Trial 7 pruned. Trial was pruned at epoch 0.\n"
          ]
        },
        {
          "metadata": {
            "tags": null
          },
          "name": "stdout",
          "output_type": "stream",
          "text": [
            "Trial 8 started with hyperparameters: num_layers=6, filters=[124, 47, 72, 101, 50, 84], kernel_size=2, l1=1.559751474213421e-06, l2=7.347013076908226e-06, dense_units=83, dropout_rate=0.35999337077949056, learning_rate=0.0001429256670322277\n",
            "\u001b[1m50/50\u001b[0m \u001b[32m━━━━━━━━━━━━━━━━━━━━\u001b[0m\u001b[37m\u001b[0m \u001b[1m0s\u001b[0m 24ms/step - accuracy: 0.5388 - loss: 0.7005"
          ]
        },
        {
          "metadata": {
            "tags": null
          },
          "name": "stderr",
          "output_type": "stream",
          "text": [
            "[I 2024-08-07 02:23:10,112] Trial 8 pruned. Trial was pruned at epoch 0.\n"
          ]
        },
        {
          "metadata": {
            "tags": null
          },
          "name": "stdout",
          "output_type": "stream",
          "text": [
            "Trial 9 started with hyperparameters: num_layers=5, filters=[84, 104, 36, 33, 98], kernel_size=2, l1=0.003289061581950551, l2=1.774115138566553e-06, dense_units=165, dropout_rate=0.39509380556018436, learning_rate=1.5167087225014611e-05\n",
            "\u001b[1m50/50\u001b[0m \u001b[32m━━━━━━━━━━━━━━━━━━━━\u001b[0m\u001b[37m\u001b[0m \u001b[1m10s\u001b[0m 79ms/step - accuracy: 0.5149 - loss: 11.8247 - val_accuracy: 0.5150 - val_loss: 11.6991\n",
            "\u001b[1m50/50\u001b[0m \u001b[32m━━━━━━━━━━━━━━━━━━━━\u001b[0m\u001b[37m\u001b[0m \u001b[1m1s\u001b[0m 26ms/step - accuracy: 0.4903 - loss: 11.6581 - val_accuracy: 0.6162 - val_loss: 11.5326\n",
            "\u001b[1m50/50\u001b[0m \u001b[32m━━━━━━━━━━━━━━━━━━━━\u001b[0m\u001b[37m\u001b[0m \u001b[1m1s\u001b[0m 26ms/step - accuracy: 0.5151 - loss: 11.4915 - val_accuracy: 0.4725 - val_loss: 11.3678\n",
            "\u001b[1m50/50\u001b[0m \u001b[32m━━━━━━━━━━━━━━━━━━━━\u001b[0m\u001b[37m\u001b[0m \u001b[1m1s\u001b[0m 26ms/step - accuracy: 0.5195 - loss: 11.3263 - val_accuracy: 0.6375 - val_loss: 11.2028\n",
            "\u001b[1m50/50\u001b[0m \u001b[32m━━━━━━━━━━━━━━━━━━━━\u001b[0m\u001b[37m\u001b[0m \u001b[1m1s\u001b[0m 26ms/step - accuracy: 0.5574 - loss: 11.1622 - val_accuracy: 0.5088 - val_loss: 11.0391\n",
            "\u001b[1m50/50\u001b[0m \u001b[32m━━━━━━━━━━━━━━━━━━━━\u001b[0m\u001b[37m\u001b[0m \u001b[1m1s\u001b[0m 26ms/step - accuracy: 0.5925 - loss: 10.9991 - val_accuracy: 0.5050 - val_loss: 10.8778\n",
            "\u001b[1m50/50\u001b[0m \u001b[32m━━━━━━━━━━━━━━━━━━━━\u001b[0m\u001b[37m\u001b[0m \u001b[1m1s\u001b[0m 27ms/step - accuracy: 0.5585 - loss: 10.8383 - val_accuracy: 0.6087 - val_loss: 10.7169\n",
            "\u001b[1m50/50\u001b[0m \u001b[32m━━━━━━━━━━━━━━━━━━━━\u001b[0m\u001b[37m\u001b[0m \u001b[1m1s\u001b[0m 26ms/step - accuracy: 0.6752 - loss: 10.6779 - val_accuracy: 0.8200 - val_loss: 10.5608\n",
            "\u001b[1m50/50\u001b[0m \u001b[32m━━━━━━━━━━━━━━━━━━━━\u001b[0m\u001b[37m\u001b[0m \u001b[1m1s\u001b[0m 27ms/step - accuracy: 0.6796 - loss: 10.5204 - val_accuracy: 0.8125 - val_loss: 10.4035\n",
            "\u001b[1m125/125\u001b[0m \u001b[32m━━━━━━━━━━━━━━━━━━━━\u001b[0m\u001b[37m\u001b[0m \u001b[1m1s\u001b[0m 4ms/step - accuracy: 0.8222 - loss: 10.4031\n"
          ]
        },
        {
          "metadata": {
            "tags": null
          },
          "name": "stderr",
          "output_type": "stream",
          "text": [
            "[I 2024-08-07 02:36:55,747] Trial 9 finished with value: 0.8262500166893005 and parameters: {'num_layers': 5, 'filters_0': 84, 'filters_1': 104, 'filters_2': 36, 'filters_3': 33, 'filters_4': 98, 'kernel_size': 2, 'l1': 0.003289061581950551, 'l2': 1.774115138566553e-06, 'dense_units': 165, 'dropout_rate': 0.39509380556018436, 'learning_rate': 1.5167087225014611e-05}. Best is trial 2 with value: 0.8797500133514404.\n"
          ]
        },
        {
          "metadata": {
            "tags": null
          },
          "name": "stdout",
          "output_type": "stream",
          "text": [
            "Trial 10 started with hyperparameters: num_layers=6, filters=[58, 33, 128, 81, 32, 128], kernel_size=2, l1=2.294877529615846e-05, l2=0.0006282387245372213, dense_units=160, dropout_rate=0.4800881487711024, learning_rate=0.0008612241972141527\n",
            "\u001b[1m47/50\u001b[0m \u001b[32m━━━━━━━━━━━━━━━━━━\u001b[0m\u001b[37m━━\u001b[0m \u001b[1m0s\u001b[0m 16ms/step - accuracy: 0.5132 - loss: 0.9316"
          ]
        },
        {
          "metadata": {
            "tags": null
          },
          "name": "stderr",
          "output_type": "stream",
          "text": [
            "[I 2024-08-07 02:38:26,706] Trial 10 pruned. Trial was pruned at epoch 0.\n"
          ]
        },
        {
          "metadata": {
            "tags": null
          },
          "name": "stdout",
          "output_type": "stream",
          "text": [
            "Trial 11 started with hyperparameters: num_layers=3, filters=[94, 127, 96], kernel_size=2, l1=1.4665941089196144e-05, l2=0.00021787844852266935, dense_units=194, dropout_rate=0.207100856229704, learning_rate=0.0007148729605720092\n",
            "\u001b[1m48/50\u001b[0m \u001b[32m━━━━━━━━━━━━━━━━━━━\u001b[0m\u001b[37m━\u001b[0m \u001b[1m0s\u001b[0m 24ms/step - accuracy: 0.5568 - loss: 0.9495"
          ]
        },
        {
          "metadata": {
            "tags": null
          },
          "name": "stderr",
          "output_type": "stream",
          "text": [
            "[I 2024-08-07 02:39:57,232] Trial 11 pruned. Trial was pruned at epoch 0.\n"
          ]
        },
        {
          "metadata": {
            "tags": null
          },
          "name": "stdout",
          "output_type": "stream",
          "text": [
            "Trial 12 started with hyperparameters: num_layers=3, filters=[67, 78, 103], kernel_size=3, l1=1.6900358279026897e-05, l2=0.00019179473665698467, dense_units=254, dropout_rate=0.2906301109547753, learning_rate=6.03006398794105e-05\n",
            "\u001b[1m49/50\u001b[0m \u001b[32m━━━━━━━━━━━━━━━━━━━\u001b[0m\u001b[37m━\u001b[0m \u001b[1m0s\u001b[0m 22ms/step - accuracy: 0.5488 - loss: 0.7863"
          ]
        },
        {
          "metadata": {
            "tags": null
          },
          "name": "stderr",
          "output_type": "stream",
          "text": [
            "[I 2024-08-07 02:41:28,464] Trial 12 pruned. Trial was pruned at epoch 0.\n"
          ]
        },
        {
          "metadata": {
            "tags": null
          },
          "name": "stdout",
          "output_type": "stream",
          "text": [
            "Trial 13 started with hyperparameters: num_layers=4, filters=[102, 80, 90, 127], kernel_size=2, l1=3.0860537807053964e-06, l2=0.007688957860659646, dense_units=138, dropout_rate=0.16173877448702312, learning_rate=0.0003904145318100306\n",
            "\u001b[1m48/50\u001b[0m \u001b[32m━━━━━━━━━━━━━━━━━━━\u001b[0m\u001b[37m━\u001b[0m \u001b[1m0s\u001b[0m 23ms/step - accuracy: 0.5536 - loss: 2.5903"
          ]
        },
        {
          "metadata": {
            "tags": null
          },
          "name": "stderr",
          "output_type": "stream",
          "text": [
            "[I 2024-08-07 02:42:59,545] Trial 13 pruned. Trial was pruned at epoch 0.\n"
          ]
        },
        {
          "metadata": {
            "tags": null
          },
          "name": "stdout",
          "output_type": "stream",
          "text": [
            "Trial 14 started with hyperparameters: num_layers=3, filters=[101, 103, 118], kernel_size=2, l1=4.5549165731235465e-05, l2=0.0009750118775434019, dense_units=180, dropout_rate=0.24087638762776756, learning_rate=3.63635852369684e-05\n",
            "\u001b[1m49/50\u001b[0m \u001b[32m━━━━━━━━━━━━━━━━━━━\u001b[0m\u001b[37m━\u001b[0m \u001b[1m0s\u001b[0m 26ms/step - accuracy: 0.5266 - loss: 1.0720"
          ]
        },
        {
          "metadata": {
            "tags": null
          },
          "name": "stderr",
          "output_type": "stream",
          "text": [
            "[I 2024-08-07 02:44:30,117] Trial 14 pruned. Trial was pruned at epoch 0.\n"
          ]
        },
        {
          "metadata": {
            "tags": null
          },
          "name": "stdout",
          "output_type": "stream",
          "text": [
            "Trial 15 started with hyperparameters: num_layers=4, filters=[57, 128, 64, 80], kernel_size=3, l1=5.549933789948834e-06, l2=4.3678156886000025e-05, dense_units=137, dropout_rate=0.33241694112901643, learning_rate=0.00035189242535512625\n",
            "\u001b[1m49/50\u001b[0m \u001b[32m━━━━━━━━━━━━━━━━━━━\u001b[0m\u001b[37m━\u001b[0m \u001b[1m0s\u001b[0m 20ms/step - accuracy: 0.5617 - loss: 0.7221"
          ]
        },
        {
          "metadata": {
            "tags": null
          },
          "name": "stderr",
          "output_type": "stream",
          "text": [
            "[I 2024-08-07 02:46:01,514] Trial 15 pruned. Trial was pruned at epoch 0.\n"
          ]
        },
        {
          "metadata": {
            "tags": null
          },
          "name": "stdout",
          "output_type": "stream",
          "text": [
            "Trial 16 started with hyperparameters: num_layers=6, filters=[32, 94, 90, 46, 128, 76], kernel_size=2, l1=5.5990115496107725e-05, l2=0.00015118586499375495, dense_units=256, dropout_rate=0.15939578116619374, learning_rate=2.5140888467570846e-05\n",
            "\u001b[1m48/50\u001b[0m \u001b[32m━━━━━━━━━━━━━━━━━━━\u001b[0m\u001b[37m━\u001b[0m \u001b[1m0s\u001b[0m 15ms/step - accuracy: 0.5281 - loss: 1.0719"
          ]
        },
        {
          "metadata": {
            "tags": null
          },
          "name": "stderr",
          "output_type": "stream",
          "text": [
            "[I 2024-08-07 02:47:33,047] Trial 16 pruned. Trial was pruned at epoch 0.\n"
          ]
        },
        {
          "metadata": {
            "tags": null
          },
          "name": "stdout",
          "output_type": "stream",
          "text": [
            "Trial 17 started with hyperparameters: num_layers=3, filters=[75, 71, 127], kernel_size=3, l1=1.2978515184594855e-06, l2=0.0005313070109498906, dense_units=145, dropout_rate=0.19996108153826997, learning_rate=0.00038368918898472776\n",
            "\u001b[1m49/50\u001b[0m \u001b[32m━━━━━━━━━━━━━━━━━━━\u001b[0m\u001b[37m━\u001b[0m \u001b[1m0s\u001b[0m 22ms/step - accuracy: 0.5551 - loss: 0.8778"
          ]
        },
        {
          "metadata": {
            "tags": null
          },
          "name": "stderr",
          "output_type": "stream",
          "text": [
            "[I 2024-08-07 02:49:04,556] Trial 17 pruned. Trial was pruned at epoch 0.\n"
          ]
        },
        {
          "metadata": {
            "tags": null
          },
          "name": "stdout",
          "output_type": "stream",
          "text": [
            "Trial 18 started with hyperparameters: num_layers=5, filters=[106, 116, 114, 80, 32], kernel_size=2, l1=6.131000944419157e-06, l2=0.00308743495491257, dense_units=198, dropout_rate=0.26000936585539536, learning_rate=1.590804683474023e-05\n",
            "\u001b[1m48/50\u001b[0m \u001b[32m━━━━━━━━━━━━━━━━━━━\u001b[0m\u001b[37m━\u001b[0m \u001b[1m0s\u001b[0m 25ms/step - accuracy: 0.4828 - loss: 1.8693"
          ]
        },
        {
          "metadata": {
            "tags": null
          },
          "name": "stderr",
          "output_type": "stream",
          "text": [
            "[I 2024-08-07 02:50:37,273] Trial 18 pruned. Trial was pruned at epoch 0.\n"
          ]
        },
        {
          "metadata": {
            "tags": null
          },
          "name": "stdout",
          "output_type": "stream",
          "text": [
            "Trial 19 started with hyperparameters: num_layers=4, filters=[88, 91, 100, 67], kernel_size=3, l1=6.242896197812554e-05, l2=2.041034137504793e-05, dense_units=108, dropout_rate=0.13765856534692233, learning_rate=5.699775819521546e-05\n",
            "\u001b[1m48/50\u001b[0m \u001b[32m━━━━━━━━━━━━━━━━━━━\u001b[0m\u001b[37m━\u001b[0m \u001b[1m0s\u001b[0m 24ms/step - accuracy: 0.5152 - loss: 1.1015"
          ]
        },
        {
          "metadata": {
            "tags": null
          },
          "name": "stderr",
          "output_type": "stream",
          "text": [
            "[I 2024-08-07 02:52:10,086] Trial 19 pruned. Trial was pruned at epoch 0.\n"
          ]
        },
        {
          "metadata": {
            "tags": null
          },
          "name": "stdout",
          "output_type": "stream",
          "text": [
            "Trial 20 started with hyperparameters: num_layers=6, filters=[46, 72, 64, 127, 64, 84], kernel_size=2, l1=7.669121776157414e-06, l2=8.08360677352471e-05, dense_units=180, dropout_rate=0.3137704975460097, learning_rate=0.0002605935308005615\n",
            "\u001b[1m48/50\u001b[0m \u001b[32m━━━━━━━━━━━━━━━━━━━\u001b[0m\u001b[37m━\u001b[0m \u001b[1m0s\u001b[0m 15ms/step - accuracy: 0.4892 - loss: 0.7643"
          ]
        },
        {
          "metadata": {
            "tags": null
          },
          "name": "stderr",
          "output_type": "stream",
          "text": [
            "[I 2024-08-07 02:53:43,012] Trial 20 pruned. Trial was pruned at epoch 0.\n"
          ]
        },
        {
          "metadata": {
            "tags": null
          },
          "name": "stdout",
          "output_type": "stream",
          "text": [
            "Trial 21 started with hyperparameters: num_layers=6, filters=[46, 61, 107, 70, 83, 32], kernel_size=3, l1=0.00019012686563834187, l2=9.774015859843471e-06, dense_units=219, dropout_rate=0.1792429205922904, learning_rate=8.309985747480324e-05\n",
            "\u001b[1m48/50\u001b[0m \u001b[32m━━━━━━━━━━━━━━━━━━━\u001b[0m\u001b[37m━\u001b[0m \u001b[1m0s\u001b[0m 17ms/step - accuracy: 0.4875 - loss: 2.1001"
          ]
        },
        {
          "metadata": {
            "tags": null
          },
          "name": "stderr",
          "output_type": "stream",
          "text": [
            "[I 2024-08-07 02:55:16,733] Trial 21 pruned. Trial was pruned at epoch 0.\n"
          ]
        },
        {
          "metadata": {
            "tags": null
          },
          "name": "stdout",
          "output_type": "stream",
          "text": [
            "Trial 22 started with hyperparameters: num_layers=6, filters=[43, 47, 120, 48, 123, 35], kernel_size=3, l1=0.00035001327084976, l2=0.00032401607647877687, dense_units=210, dropout_rate=0.19711934477142384, learning_rate=0.0005744907434381776\n",
            "\u001b[1m47/50\u001b[0m \u001b[32m━━━━━━━━━━━━━━━━━━\u001b[0m\u001b[37m━━\u001b[0m \u001b[1m0s\u001b[0m 15ms/step - accuracy: 0.4981 - loss: 2.8142"
          ]
        },
        {
          "metadata": {
            "tags": null
          },
          "name": "stderr",
          "output_type": "stream",
          "text": [
            "[I 2024-08-07 02:56:49,623] Trial 22 pruned. Trial was pruned at epoch 0.\n"
          ]
        },
        {
          "metadata": {
            "tags": null
          },
          "name": "stdout",
          "output_type": "stream",
          "text": [
            "Trial 23 started with hyperparameters: num_layers=6, filters=[55, 36, 108, 67, 82, 59], kernel_size=3, l1=3.0868780154799225e-05, l2=1.0831867368451293e-06, dense_units=236, dropout_rate=0.13995591858162076, learning_rate=0.00010151564991892391\n",
            "\u001b[1m50/50\u001b[0m \u001b[32m━━━━━━━━━━━━━━━━━━━━\u001b[0m\u001b[37m\u001b[0m \u001b[1m0s\u001b[0m 16ms/step - accuracy: 0.5506 - loss: 0.9056"
          ]
        },
        {
          "metadata": {
            "tags": null
          },
          "name": "stderr",
          "output_type": "stream",
          "text": [
            "[I 2024-08-07 02:58:21,783] Trial 23 pruned. Trial was pruned at epoch 0.\n"
          ]
        },
        {
          "metadata": {
            "tags": null
          },
          "name": "stdout",
          "output_type": "stream",
          "text": [
            "Trial 24 started with hyperparameters: num_layers=5, filters=[69, 66, 91, 47, 51], kernel_size=3, l1=0.001059821194884088, l2=8.261343206673018e-05, dense_units=202, dropout_rate=0.13410478011336593, learning_rate=5.296781333159517e-05\n",
            "\u001b[1m50/50\u001b[0m \u001b[32m━━━━━━━━━━━━━━━━━━━━\u001b[0m\u001b[37m\u001b[0m \u001b[1m12s\u001b[0m 92ms/step - accuracy: 0.5136 - loss: 6.4158 - val_accuracy: 0.4850 - val_loss: 6.1206\n",
            "\u001b[1m50/50\u001b[0m \u001b[32m━━━━━━━━━━━━━━━━━━━━\u001b[0m\u001b[37m\u001b[0m \u001b[1m1s\u001b[0m 28ms/step - accuracy: 0.5829 - loss: 6.0221 - val_accuracy: 0.7513 - val_loss: 5.7350\n",
            "\u001b[1m50/50\u001b[0m \u001b[32m━━━━━━━━━━━━━━━━━━━━\u001b[0m\u001b[37m\u001b[0m \u001b[1m1s\u001b[0m 28ms/step - accuracy: 0.7234 - loss: 5.6368 - val_accuracy: 0.7262 - val_loss: 5.3341\n",
            "\u001b[1m50/50\u001b[0m \u001b[32m━━━━━━━━━━━━━━━━━━━━\u001b[0m\u001b[37m\u001b[0m \u001b[1m1s\u001b[0m 28ms/step - accuracy: 0.7948 - loss: 5.2085 - val_accuracy: 0.8025 - val_loss: 4.9250\n",
            "\u001b[1m50/50\u001b[0m \u001b[32m━━━━━━━━━━━━━━━━━━━━\u001b[0m\u001b[37m\u001b[0m \u001b[1m1s\u001b[0m 27ms/step - accuracy: 0.8276 - loss: 4.8375 - val_accuracy: 0.8450 - val_loss: 4.6378\n",
            "\u001b[1m50/50\u001b[0m \u001b[32m━━━━━━━━━━━━━━━━━━━━\u001b[0m\u001b[37m\u001b[0m \u001b[1m1s\u001b[0m 27ms/step - accuracy: 0.8329 - loss: 4.5895 - val_accuracy: 0.8425 - val_loss: 4.4153\n",
            "\u001b[1m50/50\u001b[0m \u001b[32m━━━━━━━━━━━━━━━━━━━━\u001b[0m\u001b[37m\u001b[0m \u001b[1m1s\u001b[0m 28ms/step - accuracy: 0.8553 - loss: 4.3432 - val_accuracy: 0.8450 - val_loss: 4.2071\n",
            "\u001b[1m50/50\u001b[0m \u001b[32m━━━━━━━━━━━━━━━━━━━━\u001b[0m\u001b[37m\u001b[0m \u001b[1m1s\u001b[0m 27ms/step - accuracy: 0.8476 - loss: 4.1505 - val_accuracy: 0.7850 - val_loss: 4.1129\n",
            "\u001b[1m50/50\u001b[0m \u001b[32m━━━━━━━━━━━━━━━━━━━━\u001b[0m\u001b[37m\u001b[0m \u001b[1m1s\u001b[0m 27ms/step - accuracy: 0.8362 - loss: 3.9917 - val_accuracy: 0.8450 - val_loss: 3.8499\n",
            "\u001b[1m125/125\u001b[0m \u001b[32m━━━━━━━━━━━━━━━━━━━━\u001b[0m\u001b[37m\u001b[0m \u001b[1m1s\u001b[0m 5ms/step - accuracy: 0.8612 - loss: 3.8235\n"
          ]
        },
        {
          "metadata": {
            "tags": null
          },
          "name": "stderr",
          "output_type": "stream",
          "text": [
            "[I 2024-08-07 03:12:06,240] Trial 24 finished with value: 0.8650000095367432 and parameters: {'num_layers': 5, 'filters_0': 69, 'filters_1': 66, 'filters_2': 91, 'filters_3': 47, 'filters_4': 51, 'kernel_size': 3, 'l1': 0.001059821194884088, 'l2': 8.261343206673018e-05, 'dense_units': 202, 'dropout_rate': 0.13410478011336593, 'learning_rate': 5.296781333159517e-05}. Best is trial 2 with value: 0.8797500133514404.\n"
          ]
        },
        {
          "metadata": {
            "tags": null
          },
          "name": "stdout",
          "output_type": "stream",
          "text": [
            "Trial 25 started with hyperparameters: num_layers=5, filters=[67, 68, 92, 45, 49], kernel_size=3, l1=0.0070813437058816885, l2=8.617526111211565e-05, dense_units=187, dropout_rate=0.12752096118437622, learning_rate=2.143548012278629e-05\n",
            "\u001b[1m50/50\u001b[0m \u001b[32m━━━━━━━━━━━━━━━━━━━━\u001b[0m\u001b[37m\u001b[0m \u001b[1m11s\u001b[0m 81ms/step - accuracy: 0.4905 - loss: 38.8874 - val_accuracy: 0.5038 - val_loss: 38.0123\n",
            "\u001b[1m50/50\u001b[0m \u001b[32m━━━━━━━━━━━━━━━━━━━━\u001b[0m\u001b[37m\u001b[0m \u001b[1m1s\u001b[0m 26ms/step - accuracy: 0.5290 - loss: 37.7237 - val_accuracy: 0.4812 - val_loss: 36.8639\n",
            "\u001b[1m50/50\u001b[0m \u001b[32m━━━━━━━━━━━━━━━━━━━━\u001b[0m\u001b[37m\u001b[0m \u001b[1m1s\u001b[0m 26ms/step - accuracy: 0.5123 - loss: 36.5800 - val_accuracy: 0.6488 - val_loss: 35.7325\n",
            "\u001b[1m50/50\u001b[0m \u001b[32m━━━━━━━━━━━━━━━━━━━━\u001b[0m\u001b[37m\u001b[0m \u001b[1m1s\u001b[0m 26ms/step - accuracy: 0.5389 - loss: 35.4532 - val_accuracy: 0.4988 - val_loss: 34.6192\n",
            "\u001b[1m50/50\u001b[0m \u001b[32m━━━━━━━━━━━━━━━━━━━━\u001b[0m\u001b[37m\u001b[0m \u001b[1m1s\u001b[0m 26ms/step - accuracy: 0.5424 - loss: 34.3442 - val_accuracy: 0.7287 - val_loss: 33.5243\n",
            "\u001b[1m50/50\u001b[0m \u001b[32m━━━━━━━━━━━━━━━━━━━━\u001b[0m\u001b[37m\u001b[0m \u001b[1m1s\u001b[0m 26ms/step - accuracy: 0.5817 - loss: 33.2538 - val_accuracy: 0.7075 - val_loss: 32.4476\n",
            "\u001b[1m50/50\u001b[0m \u001b[32m━━━━━━━━━━━━━━━━━━━━\u001b[0m\u001b[37m\u001b[0m \u001b[1m1s\u001b[0m 25ms/step - accuracy: 0.5393 - loss: 32.1820 - val_accuracy: 0.4913 - val_loss: 31.3891\n",
            "\u001b[1m50/50\u001b[0m \u001b[32m━━━━━━━━━━━━━━━━━━━━\u001b[0m\u001b[37m\u001b[0m \u001b[1m1s\u001b[0m 25ms/step - accuracy: 0.5757 - loss: 31.1274 - val_accuracy: 0.5763 - val_loss: 30.3481\n",
            "\u001b[1m50/50\u001b[0m \u001b[32m━━━━━━━━━━━━━━━━━━━━\u001b[0m\u001b[37m\u001b[0m \u001b[1m1s\u001b[0m 26ms/step - accuracy: 0.5721 - loss: 30.0911 - val_accuracy: 0.8213 - val_loss: 29.3257\n",
            "\u001b[1m125/125\u001b[0m \u001b[32m━━━━━━━━━━━━━━━━━━━━\u001b[0m\u001b[37m\u001b[0m \u001b[1m1s\u001b[0m 5ms/step - accuracy: 0.8098 - loss: 29.3257\n"
          ]
        },
        {
          "metadata": {
            "tags": null
          },
          "name": "stderr",
          "output_type": "stream",
          "text": [
            "[I 2024-08-07 03:25:49,051] Trial 25 finished with value: 0.8147500157356262 and parameters: {'num_layers': 5, 'filters_0': 67, 'filters_1': 68, 'filters_2': 92, 'filters_3': 45, 'filters_4': 49, 'kernel_size': 3, 'l1': 0.0070813437058816885, 'l2': 8.617526111211565e-05, 'dense_units': 187, 'dropout_rate': 0.12752096118437622, 'learning_rate': 2.143548012278629e-05}. Best is trial 2 with value: 0.8797500133514404.\n"
          ]
        },
        {
          "output_type": "stream",
          "name": "stdout",
          "text": [
            "Trial 26 started with hyperparameters: num_layers=5, filters=[112, 84, 85, 39, 49], kernel_size=3, l1=0.0010169711976132714, l2=4.924958568652966e-05, dense_units=171, dropout_rate=0.24980176057555553, learning_rate=3.924075761598764e-05\n",
            "\u001b[1m50/50\u001b[0m \u001b[32m━━━━━━━━━━━━━━━━━━━━\u001b[0m\u001b[37m\u001b[0m \u001b[1m13s\u001b[0m 92ms/step - accuracy: 0.5074 - loss: 7.0879 - val_accuracy: 0.5400 - val_loss: 6.8087\n",
            "\u001b[1m50/50\u001b[0m \u001b[32m━━━━━━━━━━━━━━━━━━━━\u001b[0m\u001b[37m\u001b[0m \u001b[1m2s\u001b[0m 33ms/step - accuracy: 0.5413 - loss: 6.7187 - val_accuracy: 0.7675 - val_loss: 6.4496\n",
            "\u001b[1m50/50\u001b[0m \u001b[32m━━━━━━━━━━━━━━━━━━━━\u001b[0m\u001b[37m\u001b[0m \u001b[1m2s\u001b[0m 32ms/step - accuracy: 0.6052 - loss: 6.3618 - val_accuracy: 0.4725 - val_loss: 6.1078\n",
            "\u001b[1m50/50\u001b[0m \u001b[32m━━━━━━━━━━━━━━━━━━━━\u001b[0m\u001b[37m\u001b[0m \u001b[1m2s\u001b[0m 32ms/step - accuracy: 0.5930 - loss: 6.0201 - val_accuracy: 0.7962 - val_loss: 5.7609\n",
            "\u001b[1m50/50\u001b[0m \u001b[32m━━━━━━━━━━━━━━━━━━━━\u001b[0m\u001b[37m\u001b[0m \u001b[1m2s\u001b[0m 32ms/step - accuracy: 0.7625 - loss: 5.6754 - val_accuracy: 0.6488 - val_loss: 5.4456\n",
            "\u001b[1m50/50\u001b[0m \u001b[32m━━━━━━━━━━━━━━━━━━━━\u001b[0m\u001b[37m\u001b[0m \u001b[1m2s\u001b[0m 32ms/step - accuracy: 0.7141 - loss: 5.3520 - val_accuracy: 0.8075 - val_loss: 5.0845\n",
            "\u001b[1m50/50\u001b[0m \u001b[32m━━━━━━━━━━━━━━━━━━━━\u001b[0m\u001b[37m\u001b[0m \u001b[1m2s\u001b[0m 32ms/step - accuracy: 0.8423 - loss: 4.9840 - val_accuracy: 0.8313 - val_loss: 4.7789\n",
            "\u001b[1m50/50\u001b[0m \u001b[32m━━━━━━━━━━━━━━━━━━━━\u001b[0m\u001b[37m\u001b[0m \u001b[1m2s\u001b[0m 32ms/step - accuracy: 0.8304 - loss: 4.7372 - val_accuracy: 0.7825 - val_loss: 4.6626\n",
            "\u001b[1m50/50\u001b[0m \u001b[32m━━━━━━━━━━━━━━━━━━━━\u001b[0m\u001b[37m\u001b[0m \u001b[1m2s\u001b[0m 32ms/step - accuracy: 0.8366 - loss: 4.5335 - val_accuracy: 0.8325 - val_loss: 4.4081\n",
            "\u001b[1m125/125\u001b[0m \u001b[32m━━━━━━━━━━━━━━━━━━━━\u001b[0m\u001b[37m\u001b[0m \u001b[1m1s\u001b[0m 5ms/step - accuracy: 0.8486 - loss: 4.3890\n"
          ]
        },
        {
          "output_type": "stream",
          "name": "stderr",
          "text": [
            "[I 2024-08-07 03:39:36,566] Trial 26 finished with value: 0.8532500267028809 and parameters: {'num_layers': 5, 'filters_0': 112, 'filters_1': 84, 'filters_2': 85, 'filters_3': 39, 'filters_4': 49, 'kernel_size': 3, 'l1': 0.0010169711976132714, 'l2': 4.924958568652966e-05, 'dense_units': 171, 'dropout_rate': 0.24980176057555553, 'learning_rate': 3.924075761598764e-05}. Best is trial 2 with value: 0.8797500133514404.\n"
          ]
        },
        {
          "output_type": "stream",
          "name": "stdout",
          "text": [
            "Trial 27 started with hyperparameters: num_layers=4, filters=[93, 91, 100, 54], kernel_size=3, l1=9.175045735484573e-05, l2=0.0013903498151688527, dense_units=147, dropout_rate=0.22168579240071404, learning_rate=4.944777366191964e-05\n",
            "\u001b[1m49/50\u001b[0m \u001b[32m━━━━━━━━━━━━━━━━━━━\u001b[0m\u001b[37m━\u001b[0m \u001b[1m0s\u001b[0m 26ms/step - accuracy: 0.5349 - loss: 1.6186"
          ]
        },
        {
          "output_type": "stream",
          "name": "stderr",
          "text": [
            "[I 2024-08-07 03:41:09,294] Trial 27 pruned. Trial was pruned at epoch 0.\n"
          ]
        },
        {
          "output_type": "stream",
          "name": "stdout",
          "text": [
            "Trial 28 started with hyperparameters: num_layers=3, filters=[72, 53, 123], kernel_size=2, l1=0.002123253759158271, l2=0.0003355255919125102, dense_units=243, dropout_rate=0.12498011448020835, learning_rate=1.0170213380634555e-05\n",
            "\u001b[1m49/50\u001b[0m \u001b[32m━━━━━━━━━━━━━━━━━━━\u001b[0m\u001b[37m━\u001b[0m \u001b[1m0s\u001b[0m 19ms/step - accuracy: 0.5135 - loss: 5.0894"
          ]
        },
        {
          "output_type": "stream",
          "name": "stderr",
          "text": [
            "[I 2024-08-07 03:42:37,888] Trial 28 pruned. Trial was pruned at epoch 0.\n"
          ]
        },
        {
          "output_type": "stream",
          "name": "stdout",
          "text": [
            "Trial 29 started with hyperparameters: num_layers=5, filters=[92, 68, 118, 87, 64], kernel_size=3, l1=0.00048319599828856885, l2=1.5711542478419776e-05, dense_units=200, dropout_rate=0.4297757414631109, learning_rate=7.432991809020302e-05\n",
            "\u001b[1m48/50\u001b[0m \u001b[32m━━━━━━━━━━━━━━━━━━━\u001b[0m\u001b[37m━\u001b[0m \u001b[1m0s\u001b[0m 23ms/step - accuracy: 0.5232 - loss: 4.6063"
          ]
        },
        {
          "output_type": "stream",
          "name": "stderr",
          "text": [
            "[I 2024-08-07 03:44:10,084] Trial 29 pruned. Trial was pruned at epoch 0.\n"
          ]
        },
        {
          "output_type": "stream",
          "name": "stdout",
          "text": [
            "Best trial:\n",
            "Value: 0.8797500133514404\n",
            "Params: \n",
            "    num_layers: 6\n",
            "    filters_0: 36\n",
            "    filters_1: 61\n",
            "    filters_2: 125\n",
            "    filters_3: 58\n",
            "    filters_4: 46\n",
            "    filters_5: 80\n",
            "    kernel_size: 2\n",
            "    l1: 5.7944957902052485e-05\n",
            "    l2: 0.00013078230073021723\n",
            "    dense_units: 152\n",
            "    dropout_rate: 0.24228689196387476\n",
            "    learning_rate: 0.0003981287110754072\n",
            "Elapsed time: 10829.23 seconds\n"
          ]
        }
      ]
    },
    {
      "cell_type": "code",
      "source": [],
      "metadata": {
        "id": "bgI5LN1q52Yh"
      },
      "execution_count": null,
      "outputs": []
    },
    {
      "cell_type": "code",
      "source": [],
      "metadata": {
        "id": "dC41kXtP52wJ"
      },
      "execution_count": null,
      "outputs": []
    },
    {
      "cell_type": "markdown",
      "source": [
        "Optimisation for Scenarios that happened 10kya  "
      ],
      "metadata": {
        "id": "3AZP5E4j8Tnn"
      }
    },
    {
      "cell_type": "code",
      "source": [
        "\n",
        "\n",
        "# Configure logging to file in the current directory with the specified name\n",
        "logging.basicConfig(filename='recent_Scenarios_RW.log', level=logging.INFO,\n",
        "                    format='%(asctime)s:%(levelname)s:%(message)s')\n",
        "\n",
        "# Function to preprocess data\n",
        "def preprocess_data(simulations_folder, batch_number):\n",
        "    # Create ImaFile object for the specified simulation folder and model\n",
        "    file_sim = ImaFile(simulations_folder=os.path.join(simulations_folder, f'Simulations{batch_number}'), nr_samples=198, model_name='Marth-3epoch-CEU')\n",
        "\n",
        "    # Read the simulation data\n",
        "    gene_sim = file_sim.read_simulations(parameter_name='selection_coeff_hetero', max_nrepl=4000)\n",
        "\n",
        "    # Filter simulations based on frequency threshold\n",
        "    gene_sim.filter_freq(0.01)\n",
        "\n",
        "    # Sort simulations by row frequency\n",
        "    gene_sim.sort('rows_freq')\n",
        "\n",
        "    # Resize simulation data to the required dimensions\n",
        "    gene_sim.resize((198, 192))\n",
        "\n",
        "    # Convert simulation data (flip=True allows for data augmentation)\n",
        "    gene_sim.convert(flip=True)\n",
        "\n",
        "    # Get a random subset of indices and subset the simulation data\n",
        "    gene_sim.subset(get_index_random(gene_sim))\n",
        "\n",
        "    # Convert targets to binary format\n",
        "    gene_sim.targets = to_binary(gene_sim.targets)\n",
        "\n",
        "    return gene_sim\n",
        "\n",
        "# Objective function for Optuna optimization\n",
        "def objective(trial, simulations_folder, epochs=1):\n",
        "    # Set random seed\n",
        "    np.random.seed(42)\n",
        "    tf.random.set_seed(42)\n",
        "\n",
        "    # Hyperparameters to be optimized\n",
        "    num_layers = trial.suggest_int('num_layers', 3, 6)  # Limit the number of layers to avoid excessive reduction\n",
        "    filters = [trial.suggest_int(f'filters_{i}', 32, 128) for i in range(num_layers)]  # Adjust filters range\n",
        "    kernel_size = trial.suggest_int('kernel_size', 2, 3)  # Limit the kernel size to avoid excessive reduction\n",
        "    l1 = trial.suggest_float('l1', 1e-6, 1e-2, log=True)\n",
        "    l2 = trial.suggest_float('l2', 1e-6, 1e-2, log=True)\n",
        "    dense_units = trial.suggest_int('dense_units', 64, 256)  # Adjust dense units range\n",
        "    dropout_rate = trial.suggest_float('dropout_rate', 0.1, 0.5)\n",
        "    learning_rate = trial.suggest_float('learning_rate', 1e-5, 1e-3, log=True)\n",
        "\n",
        "    # Log the hyperparameters at the start of each trial\n",
        "    logging.info(f'Trial {trial.number} started with hyperparameters: num_layers={num_layers}, filters={filters}, '\n",
        "                 f'kernel_size={kernel_size}, l1={l1}, l2={l2}, dense_units={dense_units}, '\n",
        "                 f'dropout_rate={dropout_rate}, learning_rate={learning_rate}')\n",
        "    print(f'Trial {trial.number} started with hyperparameters: num_layers={num_layers}, filters={filters}, '\n",
        "          f'kernel_size={kernel_size}, l1={l1}, l2={l2}, dense_units={dense_units}, '\n",
        "          f'dropout_rate={dropout_rate}, learning_rate={learning_rate}')\n",
        "\n",
        "    # Building the model based on sampled hyperparameters\n",
        "    model = models.Sequential()\n",
        "    model.add(layers.Input(shape=(198, 192, 1)))  # Define the input layer\n",
        "    for i in range(num_layers):\n",
        "        model.add(layers.Conv2D(filters=filters[i], kernel_size=(kernel_size, kernel_size), strides=(1, 1), activation='relu',\n",
        "                                kernel_regularizer=regularizers.l1_l2(l1=l1, l2=l2), padding='same'))  # Use 'same' padding to avoid dimension issues\n",
        "        model.add(layers.MaxPooling2D(pool_size=(2, 2)))\n",
        "\n",
        "    model.add(layers.Flatten())  # Flatten the output for the Dense layers\n",
        "    model.add(layers.Dense(units=dense_units, activation='relu'))  # Add Dense layer\n",
        "    model.add(layers.Dropout(rate=dropout_rate))  # Add Dropout layer\n",
        "    model.add(layers.Dense(units=1, activation='sigmoid'))  # Output layer with sigmoid activation\n",
        "\n",
        "    optimizer = tf.keras.optimizers.Adam(learning_rate=learning_rate)  # Define optimizer\n",
        "    model.compile(optimizer=optimizer, loss='binary_crossentropy', metrics=['accuracy'])  # Compile the model\n",
        "\n",
        "    # Pruning callback to terminate unpromising trials\n",
        "    pruning_callback = TFKerasPruningCallback(trial, 'val_loss')\n",
        "\n",
        "    # Early stopping to prevent overfitting\n",
        "    early_stopping = EarlyStopping(monitor='val_loss', patience=3, restore_best_weights=True)\n",
        "\n",
        "    # Incremental training on 9 batches\n",
        "    best_val_loss = np.inf  # Track the best validation loss\n",
        "    for batch_number in range(1, 10):\n",
        "        gene_sim = preprocess_data(simulations_folder, batch_number)  # Preprocess data\n",
        "        history = model.fit(gene_sim.data, gene_sim.targets, batch_size=64, epochs=epochs, verbose=1, validation_split=0.2,\n",
        "                            callbacks=[early_stopping, pruning_callback])  # Train the model with callbacks\n",
        "\n",
        "        # Get the validation loss for the current epoch\n",
        "        val_loss = min(history.history['val_loss'])\n",
        "        if val_loss < best_val_loss:\n",
        "            best_val_loss = val_loss\n",
        "            trial.report(val_loss, batch_number)\n",
        "            if trial.should_prune():\n",
        "                raise optuna.exceptions.TrialPruned()\n",
        "\n",
        "    # Evaluate the model on the 10th batch\n",
        "    gene_sim = preprocess_data(simulations_folder, 10)\n",
        "    evaluation = model.evaluate(gene_sim.data, gene_sim.targets, verbose=1)\n",
        "    return evaluation[1]  # Return the accuracy\n",
        "\n",
        "# Function to run the optimization process\n",
        "def run_optimization():\n",
        "    start_time = time.time()  # Record start time\n",
        "\n",
        "    simulations_folder = '/content/EvoNet-CNN-Insight/model_training/recent_weak/RW'  # Folder for this dataset\n",
        "    logging.info(f\"Starting optimization for {simulations_folder}\")\n",
        "    print(f\"Starting optimization for {simulations_folder}\")\n",
        "\n",
        "    # Create an Optuna study and optimize the objective function\n",
        "    study = optuna.create_study(direction='maximize', pruner=optuna.pruners.MedianPruner(), storage='sqlite:///rw_study.db', load_if_exists=True)  # Use SQLite storage\n",
        "    study.optimize(lambda trial: objective(trial, simulations_folder), n_trials=30)  # Set to 30 trials\n",
        "\n",
        "    try:\n",
        "        trial = study.best_trial\n",
        "        print('Best trial:')\n",
        "        print('Value: {}'.format(trial.value))\n",
        "        print('Params: ')\n",
        "        for key, value in trial.params.items():\n",
        "            print('    {}: {}'.format(key, value))  # Print best trial parameters\n",
        "\n",
        "        logging.info('Best trial:')\n",
        "        logging.info('Value: {}'.format(trial.value))\n",
        "        logging.info('Params: ')\n",
        "        for key, value in trial.params.items():\n",
        "            logging.info('    {}: {}'.format(key, value))  # Log best trial parameters\n",
        "\n",
        "    except ValueError as e:\n",
        "        logging.error(f\"No completed trials: {e}\")  # Log error if no trials are completed\n",
        "\n",
        "    elapsed_time = time.time() - start_time  # Calculate elapsed time\n",
        "    print(f\"Elapsed time: {elapsed_time:.2f} seconds\")\n",
        "    logging.info(f\"Elapsed time: {elapsed_time:.2f} seconds\")  # Log elapsed time\n",
        "\n",
        "# Run the optimization process\n",
        "if __name__ == '__main__':\n",
        "    run_optimization()  # Execute the optimization function"
      ],
      "metadata": {
        "colab": {
          "base_uri": "https://localhost:8080/"
        },
        "id": "4DEjHu0z8U4M",
        "outputId": "2b64a3a1-ba9c-4672-ea1f-d4042d1416e9"
      },
      "execution_count": 8,
      "outputs": [
        {
          "output_type": "stream",
          "name": "stdout",
          "text": [
            "Starting optimization for /content/EvoNet-CNN-Insight/model_training/recent_weak/RW\n"
          ]
        },
        {
          "output_type": "stream",
          "name": "stderr",
          "text": [
            "[I 2024-08-07 03:46:00,565] A new study created in RDB with name: no-name-80f9b14d-ea26-4b8d-9777-284e22cab0d5\n"
          ]
        },
        {
          "output_type": "stream",
          "name": "stdout",
          "text": [
            "Trial 0 started with hyperparameters: num_layers=6, filters=[78, 48, 123, 56, 63, 99], kernel_size=3, l1=9.465429154930995e-05, l2=5.231336448999233e-06, dense_units=248, dropout_rate=0.12794780935940386, learning_rate=0.00011441495559896669\n",
            "\u001b[1m50/50\u001b[0m \u001b[32m━━━━━━━━━━━━━━━━━━━━\u001b[0m\u001b[37m\u001b[0m \u001b[1m13s\u001b[0m 96ms/step - accuracy: 0.5057 - loss: 1.4098 - val_accuracy: 0.5175 - val_loss: 1.3402\n",
            "\u001b[1m50/50\u001b[0m \u001b[32m━━━━━━━━━━━━━━━━━━━━\u001b[0m\u001b[37m\u001b[0m \u001b[1m1s\u001b[0m 27ms/step - accuracy: 0.5018 - loss: 1.3181 - val_accuracy: 0.4800 - val_loss: 1.2515\n",
            "\u001b[1m50/50\u001b[0m \u001b[32m━━━━━━━━━━━━━━━━━━━━\u001b[0m\u001b[37m\u001b[0m \u001b[1m1s\u001b[0m 26ms/step - accuracy: 0.5115 - loss: 1.2300 - val_accuracy: 0.4725 - val_loss: 1.1674\n",
            "\u001b[1m50/50\u001b[0m \u001b[32m━━━━━━━━━━━━━━━━━━━━\u001b[0m\u001b[37m\u001b[0m \u001b[1m1s\u001b[0m 26ms/step - accuracy: 0.4962 - loss: 1.1471 - val_accuracy: 0.4925 - val_loss: 1.0884\n",
            "\u001b[1m50/50\u001b[0m \u001b[32m━━━━━━━━━━━━━━━━━━━━\u001b[0m\u001b[37m\u001b[0m \u001b[1m1s\u001b[0m 26ms/step - accuracy: 0.5081 - loss: 1.0700 - val_accuracy: 0.4913 - val_loss: 1.0166\n",
            "\u001b[1m50/50\u001b[0m \u001b[32m━━━━━━━━━━━━━━━━━━━━\u001b[0m\u001b[37m\u001b[0m \u001b[1m1s\u001b[0m 27ms/step - accuracy: 0.5081 - loss: 0.9999 - val_accuracy: 0.5050 - val_loss: 0.9519\n",
            "\u001b[1m50/50\u001b[0m \u001b[32m━━━━━━━━━━━━━━━━━━━━\u001b[0m\u001b[37m\u001b[0m \u001b[1m1s\u001b[0m 26ms/step - accuracy: 0.4848 - loss: 0.9372 - val_accuracy: 0.4663 - val_loss: 0.8952\n",
            "\u001b[1m50/50\u001b[0m \u001b[32m━━━━━━━━━━━━━━━━━━━━\u001b[0m\u001b[37m\u001b[0m \u001b[1m1s\u001b[0m 26ms/step - accuracy: 0.5091 - loss: 0.8822 - val_accuracy: 0.4787 - val_loss: 0.8464\n",
            "\u001b[1m50/50\u001b[0m \u001b[32m━━━━━━━━━━━━━━━━━━━━\u001b[0m\u001b[37m\u001b[0m \u001b[1m1s\u001b[0m 26ms/step - accuracy: 0.5066 - loss: 0.8355 - val_accuracy: 0.5025 - val_loss: 0.8059\n",
            "\u001b[1m125/125\u001b[0m \u001b[32m━━━━━━━━━━━━━━━━━━━━\u001b[0m\u001b[37m\u001b[0m \u001b[1m1s\u001b[0m 5ms/step - accuracy: 0.4971 - loss: 0.8059\n"
          ]
        },
        {
          "output_type": "stream",
          "name": "stderr",
          "text": [
            "[I 2024-08-07 04:01:10,234] Trial 0 finished with value: 0.5 and parameters: {'num_layers': 6, 'filters_0': 78, 'filters_1': 48, 'filters_2': 123, 'filters_3': 56, 'filters_4': 63, 'filters_5': 99, 'kernel_size': 3, 'l1': 9.465429154930995e-05, 'l2': 5.231336448999233e-06, 'dense_units': 248, 'dropout_rate': 0.12794780935940386, 'learning_rate': 0.00011441495559896669}. Best is trial 0 with value: 0.5.\n"
          ]
        },
        {
          "output_type": "stream",
          "name": "stdout",
          "text": [
            "Trial 1 started with hyperparameters: num_layers=3, filters=[64, 68, 107], kernel_size=3, l1=1.516284715555556e-06, l2=9.237633869810113e-05, dense_units=187, dropout_rate=0.3805477866893684, learning_rate=0.0009800067534568566\n",
            "\u001b[1m50/50\u001b[0m \u001b[32m━━━━━━━━━━━━━━━━━━━━\u001b[0m\u001b[37m\u001b[0m \u001b[1m9s\u001b[0m 67ms/step - accuracy: 0.5167 - loss: 0.8078 - val_accuracy: 0.5175 - val_loss: 0.7064\n",
            "\u001b[1m50/50\u001b[0m \u001b[32m━━━━━━━━━━━━━━━━━━━━\u001b[0m\u001b[37m\u001b[0m \u001b[1m1s\u001b[0m 25ms/step - accuracy: 0.4853 - loss: 0.7059 - val_accuracy: 0.4800 - val_loss: 0.7044\n",
            "\u001b[1m50/50\u001b[0m \u001b[32m━━━━━━━━━━━━━━━━━━━━\u001b[0m\u001b[37m\u001b[0m \u001b[1m1s\u001b[0m 25ms/step - accuracy: 0.4878 - loss: 0.7041 - val_accuracy: 0.4725 - val_loss: 0.7040\n",
            "\u001b[1m50/50\u001b[0m \u001b[32m━━━━━━━━━━━━━━━━━━━━\u001b[0m\u001b[37m\u001b[0m \u001b[1m1s\u001b[0m 25ms/step - accuracy: 0.5002 - loss: 0.7033 - val_accuracy: 0.5063 - val_loss: 0.7024\n",
            "\u001b[1m50/50\u001b[0m \u001b[32m━━━━━━━━━━━━━━━━━━━━\u001b[0m\u001b[37m\u001b[0m \u001b[1m1s\u001b[0m 25ms/step - accuracy: 0.4818 - loss: 0.7023 - val_accuracy: 0.5088 - val_loss: 0.7018\n",
            "\u001b[1m50/50\u001b[0m \u001b[32m━━━━━━━━━━━━━━━━━━━━\u001b[0m\u001b[37m\u001b[0m \u001b[1m1s\u001b[0m 25ms/step - accuracy: 0.4912 - loss: 0.7018 - val_accuracy: 0.5050 - val_loss: 0.7013\n",
            "\u001b[1m50/50\u001b[0m \u001b[32m━━━━━━━━━━━━━━━━━━━━\u001b[0m\u001b[37m\u001b[0m \u001b[1m1s\u001b[0m 26ms/step - accuracy: 0.4941 - loss: 0.7013 - val_accuracy: 0.4663 - val_loss: 0.7011\n",
            "\u001b[1m50/50\u001b[0m \u001b[32m━━━━━━━━━━━━━━━━━━━━\u001b[0m\u001b[37m\u001b[0m \u001b[1m1s\u001b[0m 25ms/step - accuracy: 0.5096 - loss: 0.7007 - val_accuracy: 0.4787 - val_loss: 0.7007\n",
            "\u001b[1m50/50\u001b[0m \u001b[32m━━━━━━━━━━━━━━━━━━━━\u001b[0m\u001b[37m\u001b[0m \u001b[1m1s\u001b[0m 26ms/step - accuracy: 0.5047 - loss: 0.7005 - val_accuracy: 0.5025 - val_loss: 0.7002\n",
            "\u001b[1m125/125\u001b[0m \u001b[32m━━━━━━━━━━━━━━━━━━━━\u001b[0m\u001b[37m\u001b[0m \u001b[1m1s\u001b[0m 4ms/step - accuracy: 0.4971 - loss: 0.7003\n"
          ]
        },
        {
          "output_type": "stream",
          "name": "stderr",
          "text": [
            "[I 2024-08-07 04:16:16,184] Trial 1 finished with value: 0.5 and parameters: {'num_layers': 3, 'filters_0': 64, 'filters_1': 68, 'filters_2': 107, 'kernel_size': 3, 'l1': 1.516284715555556e-06, 'l2': 9.237633869810113e-05, 'dense_units': 187, 'dropout_rate': 0.3805477866893684, 'learning_rate': 0.0009800067534568566}. Best is trial 0 with value: 0.5.\n"
          ]
        },
        {
          "output_type": "stream",
          "name": "stdout",
          "text": [
            "Trial 2 started with hyperparameters: num_layers=4, filters=[39, 53, 94, 101], kernel_size=2, l1=7.734333542494201e-05, l2=6.536870301639723e-05, dense_units=238, dropout_rate=0.29358511911026797, learning_rate=5.723121393552307e-05\n",
            "\u001b[1m50/50\u001b[0m \u001b[32m━━━━━━━━━━━━━━━━━━━━\u001b[0m\u001b[37m\u001b[0m \u001b[1m9s\u001b[0m 69ms/step - accuracy: 0.5047 - loss: 0.9563 - val_accuracy: 0.4825 - val_loss: 0.9494\n",
            "\u001b[1m50/50\u001b[0m \u001b[32m━━━━━━━━━━━━━━━━━━━━\u001b[0m\u001b[37m\u001b[0m \u001b[1m1s\u001b[0m 20ms/step - accuracy: 0.5117 - loss: 0.9456 - val_accuracy: 0.4825 - val_loss: 0.9370\n",
            "\u001b[1m50/50\u001b[0m \u001b[32m━━━━━━━━━━━━━━━━━━━━\u001b[0m\u001b[37m\u001b[0m \u001b[1m1s\u001b[0m 21ms/step - accuracy: 0.5176 - loss: 0.9344 - val_accuracy: 0.5275 - val_loss: 0.9262\n",
            "\u001b[1m50/50\u001b[0m \u001b[32m━━━━━━━━━━━━━━━━━━━━\u001b[0m\u001b[37m\u001b[0m \u001b[1m1s\u001b[0m 20ms/step - accuracy: 0.5098 - loss: 0.9248 - val_accuracy: 0.4938 - val_loss: 0.9179\n",
            "\u001b[1m50/50\u001b[0m \u001b[32m━━━━━━━━━━━━━━━━━━━━\u001b[0m\u001b[37m\u001b[0m \u001b[1m1s\u001b[0m 20ms/step - accuracy: 0.5029 - loss: 0.9148 - val_accuracy: 0.5088 - val_loss: 0.9075\n",
            "\u001b[1m50/50\u001b[0m \u001b[32m━━━━━━━━━━━━━━━━━━━━\u001b[0m\u001b[37m\u001b[0m \u001b[1m1s\u001b[0m 20ms/step - accuracy: 0.4898 - loss: 0.9056 - val_accuracy: 0.4950 - val_loss: 0.8985\n",
            "\u001b[1m50/50\u001b[0m \u001b[32m━━━━━━━━━━━━━━━━━━━━\u001b[0m\u001b[37m\u001b[0m \u001b[1m1s\u001b[0m 21ms/step - accuracy: 0.4936 - loss: 0.8972 - val_accuracy: 0.4663 - val_loss: 0.8898\n",
            "\u001b[1m50/50\u001b[0m \u001b[32m━━━━━━━━━━━━━━━━━━━━\u001b[0m\u001b[37m\u001b[0m \u001b[1m1s\u001b[0m 20ms/step - accuracy: 0.5170 - loss: 0.8866 - val_accuracy: 0.4787 - val_loss: 0.8804\n",
            "\u001b[1m50/50\u001b[0m \u001b[32m━━━━━━━━━━━━━━━━━━━━\u001b[0m\u001b[37m\u001b[0m \u001b[1m1s\u001b[0m 20ms/step - accuracy: 0.4851 - loss: 0.8780 - val_accuracy: 0.4913 - val_loss: 0.8715\n",
            "\u001b[1m125/125\u001b[0m \u001b[32m━━━━━━━━━━━━━━━━━━━━\u001b[0m\u001b[37m\u001b[0m \u001b[1m1s\u001b[0m 4ms/step - accuracy: 0.4978 - loss: 0.8715\n"
          ]
        },
        {
          "output_type": "stream",
          "name": "stderr",
          "text": [
            "[I 2024-08-07 04:31:19,621] Trial 2 finished with value: 0.5005000233650208 and parameters: {'num_layers': 4, 'filters_0': 39, 'filters_1': 53, 'filters_2': 94, 'filters_3': 101, 'kernel_size': 2, 'l1': 7.734333542494201e-05, 'l2': 6.536870301639723e-05, 'dense_units': 238, 'dropout_rate': 0.29358511911026797, 'learning_rate': 5.723121393552307e-05}. Best is trial 2 with value: 0.5005000233650208.\n"
          ]
        },
        {
          "output_type": "stream",
          "name": "stdout",
          "text": [
            "Trial 3 started with hyperparameters: num_layers=4, filters=[33, 38, 36, 91], kernel_size=2, l1=2.9658469634259308e-06, l2=1.376163726948393e-06, dense_units=125, dropout_rate=0.2754801114467006, learning_rate=3.274504613597229e-05\n",
            "\u001b[1m50/50\u001b[0m \u001b[32m━━━━━━━━━━━━━━━━━━━━\u001b[0m\u001b[37m\u001b[0m \u001b[1m8s\u001b[0m 59ms/step - accuracy: 0.5096 - loss: 0.6980 - val_accuracy: 0.4925 - val_loss: 0.6975\n",
            "\u001b[1m50/50\u001b[0m \u001b[32m━━━━━━━━━━━━━━━━━━━━\u001b[0m\u001b[37m\u001b[0m \u001b[1m1s\u001b[0m 18ms/step - accuracy: 0.5121 - loss: 0.6981 - val_accuracy: 0.5238 - val_loss: 0.6974\n",
            "\u001b[1m50/50\u001b[0m \u001b[32m━━━━━━━━━━━━━━━━━━━━\u001b[0m\u001b[37m\u001b[0m \u001b[1m1s\u001b[0m 18ms/step - accuracy: 0.4816 - loss: 0.6999 - val_accuracy: 0.5275 - val_loss: 0.6968\n",
            "\u001b[1m50/50\u001b[0m \u001b[32m━━━━━━━━━━━━━━━━━━━━\u001b[0m\u001b[37m\u001b[0m \u001b[1m1s\u001b[0m 18ms/step - accuracy: 0.4944 - loss: 0.6981 - val_accuracy: 0.4938 - val_loss: 0.6983\n",
            "\u001b[1m50/50\u001b[0m \u001b[32m━━━━━━━━━━━━━━━━━━━━\u001b[0m\u001b[37m\u001b[0m \u001b[1m1s\u001b[0m 17ms/step - accuracy: 0.5016 - loss: 0.6976 - val_accuracy: 0.5088 - val_loss: 0.6974\n",
            "\u001b[1m50/50\u001b[0m \u001b[32m━━━━━━━━━━━━━━━━━━━━\u001b[0m\u001b[37m\u001b[0m \u001b[1m1s\u001b[0m 18ms/step - accuracy: 0.5072 - loss: 0.6976 - val_accuracy: 0.4950 - val_loss: 0.6977\n",
            "\u001b[1m50/50\u001b[0m \u001b[32m━━━━━━━━━━━━━━━━━━━━\u001b[0m\u001b[37m\u001b[0m \u001b[1m1s\u001b[0m 17ms/step - accuracy: 0.4927 - loss: 0.6987 - val_accuracy: 0.4775 - val_loss: 0.6977\n",
            "\u001b[1m50/50\u001b[0m \u001b[32m━━━━━━━━━━━━━━━━━━━━\u001b[0m\u001b[37m\u001b[0m \u001b[1m1s\u001b[0m 18ms/step - accuracy: 0.5036 - loss: 0.6975 - val_accuracy: 0.4737 - val_loss: 0.6977\n",
            "\u001b[1m50/50\u001b[0m \u001b[32m━━━━━━━━━━━━━━━━━━━━\u001b[0m\u001b[37m\u001b[0m \u001b[1m1s\u001b[0m 17ms/step - accuracy: 0.4982 - loss: 0.6977 - val_accuracy: 0.5088 - val_loss: 0.6973\n",
            "\u001b[1m125/125\u001b[0m \u001b[32m━━━━━━━━━━━━━━━━━━━━\u001b[0m\u001b[37m\u001b[0m \u001b[1m0s\u001b[0m 3ms/step - accuracy: 0.5031 - loss: 0.6974\n"
          ]
        },
        {
          "output_type": "stream",
          "name": "stderr",
          "text": [
            "[I 2024-08-07 04:46:20,849] Trial 3 finished with value: 0.49950000643730164 and parameters: {'num_layers': 4, 'filters_0': 33, 'filters_1': 38, 'filters_2': 36, 'filters_3': 91, 'kernel_size': 2, 'l1': 2.9658469634259308e-06, 'l2': 1.376163726948393e-06, 'dense_units': 125, 'dropout_rate': 0.2754801114467006, 'learning_rate': 3.274504613597229e-05}. Best is trial 2 with value: 0.5005000233650208.\n"
          ]
        },
        {
          "output_type": "stream",
          "name": "stdout",
          "text": [
            "Trial 4 started with hyperparameters: num_layers=6, filters=[47, 90, 103, 93, 34, 56], kernel_size=3, l1=7.942829952432158e-05, l2=1.1740529668311256e-06, dense_units=127, dropout_rate=0.2400456627153642, learning_rate=0.0004842000672086483\n",
            "\u001b[1m50/50\u001b[0m \u001b[32m━━━━━━━━━━━━━━━━━━━━\u001b[0m\u001b[37m\u001b[0m \u001b[1m13s\u001b[0m 92ms/step - accuracy: 0.5044 - loss: 1.2573 - val_accuracy: 0.4825 - val_loss: 1.0340\n",
            "\u001b[1m50/50\u001b[0m \u001b[32m━━━━━━━━━━━━━━━━━━━━\u001b[0m\u001b[37m\u001b[0m \u001b[1m1s\u001b[0m 26ms/step - accuracy: 0.5173 - loss: 0.9760 - val_accuracy: 0.4800 - val_loss: 0.8356\n",
            "\u001b[1m50/50\u001b[0m \u001b[32m━━━━━━━━━━━━━━━━━━━━\u001b[0m\u001b[37m\u001b[0m \u001b[1m1s\u001b[0m 26ms/step - accuracy: 0.4921 - loss: 0.8092 - val_accuracy: 0.4725 - val_loss: 0.7570\n",
            "\u001b[1m50/50\u001b[0m \u001b[32m━━━━━━━━━━━━━━━━━━━━\u001b[0m\u001b[37m\u001b[0m \u001b[1m1s\u001b[0m 26ms/step - accuracy: 0.4948 - loss: 0.7478 - val_accuracy: 0.5063 - val_loss: 0.7273\n",
            "\u001b[1m50/50\u001b[0m \u001b[32m━━━━━━━━━━━━━━━━━━━━\u001b[0m\u001b[37m\u001b[0m \u001b[1m1s\u001b[0m 26ms/step - accuracy: 0.4876 - loss: 0.7231 - val_accuracy: 0.4913 - val_loss: 0.7130\n",
            "\u001b[1m50/50\u001b[0m \u001b[32m━━━━━━━━━━━━━━━━━━━━\u001b[0m\u001b[37m\u001b[0m \u001b[1m1s\u001b[0m 26ms/step - accuracy: 0.5182 - loss: 0.7107 - val_accuracy: 0.5050 - val_loss: 0.7053\n",
            "\u001b[1m50/50\u001b[0m \u001b[32m━━━━━━━━━━━━━━━━━━━━\u001b[0m\u001b[37m\u001b[0m \u001b[1m1s\u001b[0m 25ms/step - accuracy: 0.4896 - loss: 0.7043 - val_accuracy: 0.4663 - val_loss: 0.7015\n",
            "\u001b[1m50/50\u001b[0m \u001b[32m━━━━━━━━━━━━━━━━━━━━\u001b[0m\u001b[37m\u001b[0m \u001b[1m1s\u001b[0m 27ms/step - accuracy: 0.5092 - loss: 0.7005 - val_accuracy: 0.4787 - val_loss: 0.6990\n",
            "\u001b[1m50/50\u001b[0m \u001b[32m━━━━━━━━━━━━━━━━━━━━\u001b[0m\u001b[37m\u001b[0m \u001b[1m1s\u001b[0m 26ms/step - accuracy: 0.5066 - loss: 0.6984 - val_accuracy: 0.5025 - val_loss: 0.6973\n",
            "\u001b[1m125/125\u001b[0m \u001b[32m━━━━━━━━━━━━━━━━━━━━\u001b[0m\u001b[37m\u001b[0m \u001b[1m1s\u001b[0m 5ms/step - accuracy: 0.4971 - loss: 0.6974\n"
          ]
        },
        {
          "output_type": "stream",
          "name": "stderr",
          "text": [
            "[I 2024-08-07 05:01:29,173] Trial 4 finished with value: 0.5 and parameters: {'num_layers': 6, 'filters_0': 47, 'filters_1': 90, 'filters_2': 103, 'filters_3': 93, 'filters_4': 34, 'filters_5': 56, 'kernel_size': 3, 'l1': 7.942829952432158e-05, 'l2': 1.1740529668311256e-06, 'dense_units': 127, 'dropout_rate': 0.2400456627153642, 'learning_rate': 0.0004842000672086483}. Best is trial 2 with value: 0.5005000233650208.\n"
          ]
        },
        {
          "output_type": "stream",
          "name": "stdout",
          "text": [
            "Trial 5 started with hyperparameters: num_layers=4, filters=[69, 73, 59, 117], kernel_size=2, l1=0.0001872494906504513, l2=0.003725208379405039, dense_units=123, dropout_rate=0.4993208590235836, learning_rate=0.00023668109623953702\n",
            "\u001b[1m50/50\u001b[0m \u001b[32m━━━━━━━━━━━━━━━━━━━━\u001b[0m\u001b[37m\u001b[0m \u001b[1m9s\u001b[0m 74ms/step - accuracy: 0.4958 - loss: 2.0233 - val_accuracy: 0.5175 - val_loss: 1.7597\n",
            "\u001b[1m50/50\u001b[0m \u001b[32m━━━━━━━━━━━━━━━━━━━━\u001b[0m\u001b[37m\u001b[0m \u001b[1m1s\u001b[0m 26ms/step - accuracy: 0.4852 - loss: 1.6854 - val_accuracy: 0.4800 - val_loss: 1.4776\n",
            "\u001b[1m50/50\u001b[0m \u001b[32m━━━━━━━━━━━━━━━━━━━━\u001b[0m\u001b[37m\u001b[0m \u001b[1m1s\u001b[0m 26ms/step - accuracy: 0.4915 - loss: 1.4186 - val_accuracy: 0.5275 - val_loss: 1.2581\n",
            "\u001b[1m50/50\u001b[0m \u001b[32m━━━━━━━━━━━━━━━━━━━━\u001b[0m\u001b[37m\u001b[0m \u001b[1m1s\u001b[0m 26ms/step - accuracy: 0.4762 - loss: 1.2134 - val_accuracy: 0.4938 - val_loss: 1.0913\n",
            "\u001b[1m50/50\u001b[0m \u001b[32m━━━━━━━━━━━━━━━━━━━━\u001b[0m\u001b[37m\u001b[0m \u001b[1m1s\u001b[0m 26ms/step - accuracy: 0.4970 - loss: 1.0575 - val_accuracy: 0.4913 - val_loss: 0.9662\n",
            "\u001b[1m50/50\u001b[0m \u001b[32m━━━━━━━━━━━━━━━━━━━━\u001b[0m\u001b[37m\u001b[0m \u001b[1m1s\u001b[0m 26ms/step - accuracy: 0.4989 - loss: 0.9413 - val_accuracy: 0.5050 - val_loss: 0.8745\n",
            "\u001b[1m50/50\u001b[0m \u001b[32m━━━━━━━━━━━━━━━━━━━━\u001b[0m\u001b[37m\u001b[0m \u001b[1m1s\u001b[0m 25ms/step - accuracy: 0.5015 - loss: 0.8565 - val_accuracy: 0.4663 - val_loss: 0.8087\n",
            "\u001b[1m50/50\u001b[0m \u001b[32m━━━━━━━━━━━━━━━━━━━━\u001b[0m\u001b[37m\u001b[0m \u001b[1m1s\u001b[0m 26ms/step - accuracy: 0.5091 - loss: 0.7960 - val_accuracy: 0.4787 - val_loss: 0.7629\n",
            "\u001b[1m50/50\u001b[0m \u001b[32m━━━━━━━━━━━━━━━━━━━━\u001b[0m\u001b[37m\u001b[0m \u001b[1m1s\u001b[0m 26ms/step - accuracy: 0.5066 - loss: 0.7543 - val_accuracy: 0.5025 - val_loss: 0.7323\n",
            "\u001b[1m125/125\u001b[0m \u001b[32m━━━━━━━━━━━━━━━━━━━━\u001b[0m\u001b[37m\u001b[0m \u001b[1m1s\u001b[0m 5ms/step - accuracy: 0.4971 - loss: 0.7323\n"
          ]
        },
        {
          "output_type": "stream",
          "name": "stderr",
          "text": [
            "[I 2024-08-07 05:16:34,566] Trial 5 finished with value: 0.5 and parameters: {'num_layers': 4, 'filters_0': 69, 'filters_1': 73, 'filters_2': 59, 'filters_3': 117, 'kernel_size': 2, 'l1': 0.0001872494906504513, 'l2': 0.003725208379405039, 'dense_units': 123, 'dropout_rate': 0.4993208590235836, 'learning_rate': 0.00023668109623953702}. Best is trial 2 with value: 0.5005000233650208.\n"
          ]
        },
        {
          "output_type": "stream",
          "name": "stdout",
          "text": [
            "Trial 6 started with hyperparameters: num_layers=4, filters=[122, 113, 92, 127], kernel_size=2, l1=1.0701058524337562e-05, l2=0.00018647538054520908, dense_units=185, dropout_rate=0.2610109101682417, learning_rate=9.866688089966146e-05\n",
            "\u001b[1m49/50\u001b[0m \u001b[32m━━━━━━━━━━━━━━━━━━━\u001b[0m\u001b[37m━\u001b[0m \u001b[1m0s\u001b[0m 28ms/step - accuracy: 0.4978 - loss: 0.8198"
          ]
        },
        {
          "output_type": "stream",
          "name": "stderr",
          "text": [
            "[I 2024-08-07 05:18:19,210] Trial 6 pruned. Trial was pruned at epoch 0.\n"
          ]
        },
        {
          "output_type": "stream",
          "name": "stdout",
          "text": [
            "Trial 7 started with hyperparameters: num_layers=3, filters=[90, 84, 114], kernel_size=3, l1=5.374254082313118e-05, l2=2.30977199124791e-06, dense_units=88, dropout_rate=0.24504251416819858, learning_rate=3.0313317923622354e-05\n",
            "\u001b[1m48/50\u001b[0m \u001b[32m━━━━━━━━━━━━━━━━━━━\u001b[0m\u001b[37m━\u001b[0m \u001b[1m0s\u001b[0m 23ms/step - accuracy: 0.5029 - loss: 0.9460"
          ]
        },
        {
          "output_type": "stream",
          "name": "stderr",
          "text": [
            "[I 2024-08-07 05:20:00,467] Trial 7 pruned. Trial was pruned at epoch 0.\n"
          ]
        },
        {
          "output_type": "stream",
          "name": "stdout",
          "text": [
            "Trial 8 started with hyperparameters: num_layers=6, filters=[71, 88, 92, 119, 50, 66], kernel_size=3, l1=4.0980620466408636e-05, l2=0.00024204726151803922, dense_units=187, dropout_rate=0.13218312119699524, learning_rate=0.00011066539734986659\n",
            "\u001b[1m50/50\u001b[0m \u001b[32m━━━━━━━━━━━━━━━━━━━━\u001b[0m\u001b[37m\u001b[0m \u001b[1m14s\u001b[0m 100ms/step - accuracy: 0.4993 - loss: 1.1698 - val_accuracy: 0.5175 - val_loss: 1.1212\n",
            "\u001b[1m50/50\u001b[0m \u001b[32m━━━━━━━━━━━━━━━━━━━━\u001b[0m\u001b[37m\u001b[0m \u001b[1m1s\u001b[0m 28ms/step - accuracy: 0.5003 - loss: 1.1062 - val_accuracy: 0.5200 - val_loss: 1.0618\n",
            "\u001b[1m50/50\u001b[0m \u001b[32m━━━━━━━━━━━━━━━━━━━━\u001b[0m\u001b[37m\u001b[0m \u001b[1m1s\u001b[0m 27ms/step - accuracy: 0.5036 - loss: 1.0480 - val_accuracy: 0.5275 - val_loss: 1.0076\n",
            "\u001b[1m50/50\u001b[0m \u001b[32m━━━━━━━━━━━━━━━━━━━━\u001b[0m\u001b[37m\u001b[0m \u001b[1m1s\u001b[0m 27ms/step - accuracy: 0.5014 - loss: 0.9954 - val_accuracy: 0.4938 - val_loss: 0.9591\n",
            "\u001b[1m50/50\u001b[0m \u001b[32m━━━━━━━━━━━━━━━━━━━━\u001b[0m\u001b[37m\u001b[0m \u001b[1m1s\u001b[0m 27ms/step - accuracy: 0.5096 - loss: 0.9479 - val_accuracy: 0.5038 - val_loss: 0.9158\n",
            "\u001b[1m50/50\u001b[0m \u001b[32m━━━━━━━━━━━━━━━━━━━━\u001b[0m\u001b[37m\u001b[0m \u001b[1m1s\u001b[0m 27ms/step - accuracy: 0.4866 - loss: 0.9060 - val_accuracy: 0.5050 - val_loss: 0.8777\n",
            "\u001b[1m50/50\u001b[0m \u001b[32m━━━━━━━━━━━━━━━━━━━━\u001b[0m\u001b[37m\u001b[0m \u001b[1m1s\u001b[0m 28ms/step - accuracy: 0.4852 - loss: 0.8692 - val_accuracy: 0.4663 - val_loss: 0.8447\n",
            "\u001b[1m50/50\u001b[0m \u001b[32m━━━━━━━━━━━━━━━━━━━━\u001b[0m\u001b[37m\u001b[0m \u001b[1m1s\u001b[0m 27ms/step - accuracy: 0.5087 - loss: 0.8372 - val_accuracy: 0.4787 - val_loss: 0.8163\n",
            "\u001b[1m50/50\u001b[0m \u001b[32m━━━━━━━━━━━━━━━━━━━━\u001b[0m\u001b[37m\u001b[0m \u001b[1m1s\u001b[0m 27ms/step - accuracy: 0.5066 - loss: 0.8099 - val_accuracy: 0.5025 - val_loss: 0.7923\n",
            "\u001b[1m125/125\u001b[0m \u001b[32m━━━━━━━━━━━━━━━━━━━━\u001b[0m\u001b[37m\u001b[0m \u001b[1m1s\u001b[0m 5ms/step - accuracy: 0.4971 - loss: 0.7923\n"
          ]
        },
        {
          "output_type": "stream",
          "name": "stderr",
          "text": [
            "[I 2024-08-07 05:35:13,980] Trial 8 finished with value: 0.5 and parameters: {'num_layers': 6, 'filters_0': 71, 'filters_1': 88, 'filters_2': 92, 'filters_3': 119, 'filters_4': 50, 'filters_5': 66, 'kernel_size': 3, 'l1': 4.0980620466408636e-05, 'l2': 0.00024204726151803922, 'dense_units': 187, 'dropout_rate': 0.13218312119699524, 'learning_rate': 0.00011066539734986659}. Best is trial 2 with value: 0.5005000233650208.\n"
          ]
        },
        {
          "output_type": "stream",
          "name": "stdout",
          "text": [
            "Trial 9 started with hyperparameters: num_layers=3, filters=[49, 91, 36], kernel_size=2, l1=0.00019268172861156203, l2=8.07346285459148e-06, dense_units=100, dropout_rate=0.1192119828950764, learning_rate=0.00045701338772016195\n",
            "\u001b[1m48/50\u001b[0m \u001b[32m━━━━━━━━━━━━━━━━━━━\u001b[0m\u001b[37m━\u001b[0m \u001b[1m0s\u001b[0m 16ms/step - accuracy: 0.5000 - loss: 1.0546"
          ]
        },
        {
          "output_type": "stream",
          "name": "stderr",
          "text": [
            "[I 2024-08-07 05:36:51,275] Trial 9 pruned. Trial was pruned at epoch 0.\n"
          ]
        },
        {
          "output_type": "stream",
          "name": "stdout",
          "text": [
            "Trial 10 started with hyperparameters: num_layers=5, filters=[100, 58, 69, 32, 128], kernel_size=2, l1=0.003600144594045701, l2=3.1264345944290356e-05, dense_units=245, dropout_rate=0.3626672846921637, learning_rate=1.023780762249111e-05\n",
            "\u001b[1m50/50\u001b[0m \u001b[32m━━━━━━━━━━━━━━━━━━━━\u001b[0m\u001b[37m\u001b[0m \u001b[1m10s\u001b[0m 75ms/step - accuracy: 0.4868 - loss: 12.7312 - val_accuracy: 0.4913 - val_loss: 12.6410\n",
            "\u001b[1m50/50\u001b[0m \u001b[32m━━━━━━━━━━━━━━━━━━━━\u001b[0m\u001b[37m\u001b[0m \u001b[1m1s\u001b[0m 28ms/step - accuracy: 0.4916 - loss: 12.6124 - val_accuracy: 0.4913 - val_loss: 12.5235\n",
            "\u001b[1m50/50\u001b[0m \u001b[32m━━━━━━━━━━━━━━━━━━━━\u001b[0m\u001b[37m\u001b[0m \u001b[1m1s\u001b[0m 28ms/step - accuracy: 0.4936 - loss: 12.4950 - val_accuracy: 0.4663 - val_loss: 12.4069\n",
            "\u001b[1m50/50\u001b[0m \u001b[32m━━━━━━━━━━━━━━━━━━━━\u001b[0m\u001b[37m\u001b[0m \u001b[1m1s\u001b[0m 28ms/step - accuracy: 0.4987 - loss: 12.3775 - val_accuracy: 0.4938 - val_loss: 12.2904\n",
            "\u001b[1m50/50\u001b[0m \u001b[32m━━━━━━━━━━━━━━━━━━━━\u001b[0m\u001b[37m\u001b[0m \u001b[1m1s\u001b[0m 28ms/step - accuracy: 0.5027 - loss: 12.2614 - val_accuracy: 0.5088 - val_loss: 12.1741\n",
            "\u001b[1m50/50\u001b[0m \u001b[32m━━━━━━━━━━━━━━━━━━━━\u001b[0m\u001b[37m\u001b[0m \u001b[1m1s\u001b[0m 28ms/step - accuracy: 0.5113 - loss: 12.1454 - val_accuracy: 0.5013 - val_loss: 12.0588\n",
            "\u001b[1m50/50\u001b[0m \u001b[32m━━━━━━━━━━━━━━━━━━━━\u001b[0m\u001b[37m\u001b[0m \u001b[1m1s\u001b[0m 28ms/step - accuracy: 0.4885 - loss: 12.0315 - val_accuracy: 0.4663 - val_loss: 11.9447\n",
            "\u001b[1m50/50\u001b[0m \u001b[32m━━━━━━━━━━━━━━━━━━━━\u001b[0m\u001b[37m\u001b[0m \u001b[1m1s\u001b[0m 29ms/step - accuracy: 0.4835 - loss: 11.9167 - val_accuracy: 0.4812 - val_loss: 11.8301\n",
            "\u001b[1m50/50\u001b[0m \u001b[32m━━━━━━━━━━━━━━━━━━━━\u001b[0m\u001b[37m\u001b[0m \u001b[1m1s\u001b[0m 28ms/step - accuracy: 0.5029 - loss: 11.8012 - val_accuracy: 0.4975 - val_loss: 11.7162\n",
            "\u001b[1m125/125\u001b[0m \u001b[32m━━━━━━━━━━━━━━━━━━━━\u001b[0m\u001b[37m\u001b[0m \u001b[1m1s\u001b[0m 5ms/step - accuracy: 0.4958 - loss: 11.7162\n"
          ]
        },
        {
          "output_type": "stream",
          "name": "stderr",
          "text": [
            "[I 2024-08-07 05:51:59,367] Trial 10 finished with value: 0.4984999895095825 and parameters: {'num_layers': 5, 'filters_0': 100, 'filters_1': 58, 'filters_2': 69, 'filters_3': 32, 'filters_4': 128, 'kernel_size': 2, 'l1': 0.003600144594045701, 'l2': 3.1264345944290356e-05, 'dense_units': 245, 'dropout_rate': 0.3626672846921637, 'learning_rate': 1.023780762249111e-05}. Best is trial 2 with value: 0.5005000233650208.\n"
          ]
        },
        {
          "output_type": "stream",
          "name": "stdout",
          "text": [
            "Trial 11 started with hyperparameters: num_layers=5, filters=[112, 32, 128, 51, 79], kernel_size=3, l1=0.0009569000684600432, l2=1.6557777300207853e-05, dense_units=254, dropout_rate=0.17405839489881708, learning_rate=6.643080267157267e-05\n",
            "\u001b[1m50/50\u001b[0m \u001b[32m━━━━━━━━━━━━━━━━━━━━\u001b[0m\u001b[37m\u001b[0m \u001b[1m11s\u001b[0m 82ms/step - accuracy: 0.4837 - loss: 5.7609 - val_accuracy: 0.5175 - val_loss: 5.3889\n",
            "\u001b[1m50/50\u001b[0m \u001b[32m━━━━━━━━━━━━━━━━━━━━\u001b[0m\u001b[37m\u001b[0m \u001b[1m1s\u001b[0m 28ms/step - accuracy: 0.4899 - loss: 5.2696 - val_accuracy: 0.4800 - val_loss: 4.9150\n",
            "\u001b[1m50/50\u001b[0m \u001b[32m━━━━━━━━━━━━━━━━━━━━\u001b[0m\u001b[37m\u001b[0m \u001b[1m1s\u001b[0m 28ms/step - accuracy: 0.5010 - loss: 4.8005 - val_accuracy: 0.4725 - val_loss: 4.4639\n",
            "\u001b[1m50/50\u001b[0m \u001b[32m━━━━━━━━━━━━━━━━━━━━\u001b[0m\u001b[37m\u001b[0m \u001b[1m1s\u001b[0m 28ms/step - accuracy: 0.4963 - loss: 4.3553 - val_accuracy: 0.5088 - val_loss: 4.0363\n",
            "\u001b[1m50/50\u001b[0m \u001b[32m━━━━━━━━━━━━━━━━━━━━\u001b[0m\u001b[37m\u001b[0m \u001b[1m1s\u001b[0m 28ms/step - accuracy: 0.5032 - loss: 3.9341 - val_accuracy: 0.4913 - val_loss: 3.6339\n",
            "\u001b[1m50/50\u001b[0m \u001b[32m━━━━━━━━━━━━━━━━━━━━\u001b[0m\u001b[37m\u001b[0m \u001b[1m1s\u001b[0m 28ms/step - accuracy: 0.5049 - loss: 3.5378 - val_accuracy: 0.5050 - val_loss: 3.2564\n",
            "\u001b[1m50/50\u001b[0m \u001b[32m━━━━━━━━━━━━━━━━━━━━\u001b[0m\u001b[37m\u001b[0m \u001b[1m1s\u001b[0m 28ms/step - accuracy: 0.4822 - loss: 3.1668 - val_accuracy: 0.4663 - val_loss: 2.9049\n",
            "\u001b[1m50/50\u001b[0m \u001b[32m━━━━━━━━━━━━━━━━━━━━\u001b[0m\u001b[37m\u001b[0m \u001b[1m1s\u001b[0m 28ms/step - accuracy: 0.5091 - loss: 2.8216 - val_accuracy: 0.4787 - val_loss: 2.5793\n",
            "\u001b[1m50/50\u001b[0m \u001b[32m━━━━━━━━━━━━━━━━━━━━\u001b[0m\u001b[37m\u001b[0m \u001b[1m1s\u001b[0m 28ms/step - accuracy: 0.5066 - loss: 2.5025 - val_accuracy: 0.5025 - val_loss: 2.2795\n",
            "\u001b[1m125/125\u001b[0m \u001b[32m━━━━━━━━━━━━━━━━━━━━\u001b[0m\u001b[37m\u001b[0m \u001b[1m1s\u001b[0m 5ms/step - accuracy: 0.4971 - loss: 2.2795\n"
          ]
        },
        {
          "output_type": "stream",
          "name": "stderr",
          "text": [
            "[I 2024-08-07 06:07:08,077] Trial 11 finished with value: 0.5 and parameters: {'num_layers': 5, 'filters_0': 112, 'filters_1': 32, 'filters_2': 128, 'filters_3': 51, 'filters_4': 79, 'kernel_size': 3, 'l1': 0.0009569000684600432, 'l2': 1.6557777300207853e-05, 'dense_units': 254, 'dropout_rate': 0.17405839489881708, 'learning_rate': 6.643080267157267e-05}. Best is trial 2 with value: 0.5005000233650208.\n"
          ]
        },
        {
          "output_type": "stream",
          "name": "stdout",
          "text": [
            "Trial 12 started with hyperparameters: num_layers=5, filters=[85, 51, 128, 64, 75], kernel_size=3, l1=0.0009371546515865241, l2=0.0011862617350346725, dense_units=223, dropout_rate=0.353822511440242, learning_rate=4.243624826908062e-05\n",
            "\u001b[1m50/50\u001b[0m \u001b[32m━━━━━━━━━━━━━━━━━━━━\u001b[0m\u001b[37m\u001b[0m \u001b[1m12s\u001b[0m 91ms/step - accuracy: 0.5029 - loss: 7.3538 - val_accuracy: 0.5175 - val_loss: 7.0343\n",
            "\u001b[1m50/50\u001b[0m \u001b[32m━━━━━━━━━━━━━━━━━━━━\u001b[0m\u001b[37m\u001b[0m \u001b[1m1s\u001b[0m 27ms/step - accuracy: 0.5027 - loss: 6.9303 - val_accuracy: 0.5225 - val_loss: 6.6194\n",
            "\u001b[1m50/50\u001b[0m \u001b[32m━━━━━━━━━━━━━━━━━━━━\u001b[0m\u001b[37m\u001b[0m \u001b[1m1s\u001b[0m 27ms/step - accuracy: 0.4915 - loss: 6.5189 - val_accuracy: 0.5100 - val_loss: 6.2175\n",
            "\u001b[1m50/50\u001b[0m \u001b[32m━━━━━━━━━━━━━━━━━━━━\u001b[0m\u001b[37m\u001b[0m \u001b[1m1s\u001b[0m 28ms/step - accuracy: 0.5120 - loss: 6.1196 - val_accuracy: 0.4950 - val_loss: 5.8292\n",
            "\u001b[1m50/50\u001b[0m \u001b[32m━━━━━━━━━━━━━━━━━━━━\u001b[0m\u001b[37m\u001b[0m \u001b[1m1s\u001b[0m 28ms/step - accuracy: 0.5021 - loss: 5.7347 - val_accuracy: 0.5088 - val_loss: 5.4546\n",
            "\u001b[1m50/50\u001b[0m \u001b[32m━━━━━━━━━━━━━━━━━━━━\u001b[0m\u001b[37m\u001b[0m \u001b[1m1s\u001b[0m 27ms/step - accuracy: 0.4917 - loss: 5.3639 - val_accuracy: 0.5050 - val_loss: 5.0949\n",
            "\u001b[1m50/50\u001b[0m \u001b[32m━━━━━━━━━━━━━━━━━━━━\u001b[0m\u001b[37m\u001b[0m \u001b[1m1s\u001b[0m 27ms/step - accuracy: 0.4833 - loss: 5.0078 - val_accuracy: 0.4663 - val_loss: 4.7496\n",
            "\u001b[1m50/50\u001b[0m \u001b[32m━━━━━━━━━━━━━━━━━━━━\u001b[0m\u001b[37m\u001b[0m \u001b[1m1s\u001b[0m 28ms/step - accuracy: 0.5149 - loss: 4.6656 - val_accuracy: 0.4787 - val_loss: 4.4187\n",
            "\u001b[1m50/50\u001b[0m \u001b[32m━━━━━━━━━━━━━━━━━━━━\u001b[0m\u001b[37m\u001b[0m \u001b[1m1s\u001b[0m 28ms/step - accuracy: 0.5021 - loss: 4.3385 - val_accuracy: 0.5025 - val_loss: 4.1021\n",
            "\u001b[1m125/125\u001b[0m \u001b[32m━━━━━━━━━━━━━━━━━━━━\u001b[0m\u001b[37m\u001b[0m \u001b[1m1s\u001b[0m 5ms/step - accuracy: 0.4971 - loss: 4.1022\n"
          ]
        },
        {
          "output_type": "stream",
          "name": "stderr",
          "text": [
            "[I 2024-08-07 06:22:17,677] Trial 12 finished with value: 0.5 and parameters: {'num_layers': 5, 'filters_0': 85, 'filters_1': 51, 'filters_2': 128, 'filters_3': 64, 'filters_4': 75, 'kernel_size': 3, 'l1': 0.0009371546515865241, 'l2': 0.0011862617350346725, 'dense_units': 223, 'dropout_rate': 0.353822511440242, 'learning_rate': 4.243624826908062e-05}. Best is trial 2 with value: 0.5005000233650208.\n"
          ]
        },
        {
          "output_type": "stream",
          "name": "stdout",
          "text": [
            "Trial 13 started with hyperparameters: num_layers=6, filters=[32, 50, 78, 69, 111, 123], kernel_size=2, l1=1.0947599261682395e-05, l2=7.0810167492897455e-06, dense_units=220, dropout_rate=0.18798435163188124, learning_rate=0.00021237083406730077\n",
            "\u001b[1m49/50\u001b[0m \u001b[32m━━━━━━━━━━━━━━━━━━━\u001b[0m\u001b[37m━\u001b[0m \u001b[1m0s\u001b[0m 13ms/step - accuracy: 0.5043 - loss: 0.7602"
          ]
        },
        {
          "output_type": "stream",
          "name": "stderr",
          "text": [
            "[I 2024-08-07 06:23:57,377] Trial 13 pruned. Trial was pruned at epoch 0.\n"
          ]
        },
        {
          "output_type": "stream",
          "name": "stdout",
          "text": [
            "Trial 14 started with hyperparameters: num_layers=5, filters=[52, 61, 117, 96, 60], kernel_size=2, l1=1.4292249054956327e-05, l2=4.148609007099406e-05, dense_units=222, dropout_rate=0.4332888432076138, learning_rate=1.4557504334806954e-05\n",
            "\u001b[1m48/50\u001b[0m \u001b[32m━━━━━━━━━━━━━━━━━━━\u001b[0m\u001b[37m━\u001b[0m \u001b[1m0s\u001b[0m 17ms/step - accuracy: 0.5059 - loss: 0.7799"
          ]
        },
        {
          "output_type": "stream",
          "name": "stderr",
          "text": [
            "[I 2024-08-07 06:25:36,736] Trial 14 pruned. Trial was pruned at epoch 0.\n"
          ]
        },
        {
          "output_type": "stream",
          "name": "stdout",
          "text": [
            "Trial 15 started with hyperparameters: num_layers=4, filters=[102, 48, 93, 47], kernel_size=3, l1=0.0005966983368516617, l2=0.0009734146255823634, dense_units=162, dropout_rate=0.19588230163913317, learning_rate=0.00013507555911300214\n",
            "\u001b[1m50/50\u001b[0m \u001b[32m━━━━━━━━━━━━━━━━━━━━\u001b[0m\u001b[37m\u001b[0m \u001b[1m11s\u001b[0m 83ms/step - accuracy: 0.4969 - loss: 3.2976 - val_accuracy: 0.5175 - val_loss: 2.9449\n",
            "\u001b[1m50/50\u001b[0m \u001b[32m━━━━━━━━━━━━━━━━━━━━\u001b[0m\u001b[37m\u001b[0m \u001b[1m1s\u001b[0m 28ms/step - accuracy: 0.4896 - loss: 2.8337 - val_accuracy: 0.5200 - val_loss: 2.5096\n",
            "\u001b[1m50/50\u001b[0m \u001b[32m━━━━━━━━━━━━━━━━━━━━\u001b[0m\u001b[37m\u001b[0m \u001b[1m1s\u001b[0m 28ms/step - accuracy: 0.5026 - loss: 2.4097 - val_accuracy: 0.4900 - val_loss: 2.1219\n",
            "\u001b[1m50/50\u001b[0m \u001b[32m━━━━━━━━━━━━━━━━━━━━\u001b[0m\u001b[37m\u001b[0m \u001b[1m1s\u001b[0m 28ms/step - accuracy: 0.5078 - loss: 2.0337 - val_accuracy: 0.4938 - val_loss: 1.7825\n",
            "\u001b[1m50/50\u001b[0m \u001b[32m━━━━━━━━━━━━━━━━━━━━\u001b[0m\u001b[37m\u001b[0m \u001b[1m1s\u001b[0m 28ms/step - accuracy: 0.5108 - loss: 1.7064 - val_accuracy: 0.4913 - val_loss: 1.4918\n",
            "\u001b[1m50/50\u001b[0m \u001b[32m━━━━━━━━━━━━━━━━━━━━\u001b[0m\u001b[37m\u001b[0m \u001b[1m1s\u001b[0m 28ms/step - accuracy: 0.5122 - loss: 1.4279 - val_accuracy: 0.5050 - val_loss: 1.2491\n",
            "\u001b[1m50/50\u001b[0m \u001b[32m━━━━━━━━━━━━━━━━━━━━\u001b[0m\u001b[37m\u001b[0m \u001b[1m1s\u001b[0m 28ms/step - accuracy: 0.4805 - loss: 1.1971 - val_accuracy: 0.4663 - val_loss: 1.0533\n",
            "\u001b[1m50/50\u001b[0m \u001b[32m━━━━━━━━━━━━━━━━━━━━\u001b[0m\u001b[37m\u001b[0m \u001b[1m1s\u001b[0m 28ms/step - accuracy: 0.5091 - loss: 1.0126 - val_accuracy: 0.4787 - val_loss: 0.9035\n",
            "\u001b[1m50/50\u001b[0m \u001b[32m━━━━━━━━━━━━━━━━━━━━\u001b[0m\u001b[37m\u001b[0m \u001b[1m1s\u001b[0m 28ms/step - accuracy: 0.5066 - loss: 0.8740 - val_accuracy: 0.5025 - val_loss: 0.7981\n",
            "\u001b[1m125/125\u001b[0m \u001b[32m━━━━━━━━━━━━━━━━━━━━\u001b[0m\u001b[37m\u001b[0m \u001b[1m1s\u001b[0m 5ms/step - accuracy: 0.4971 - loss: 0.7981\n"
          ]
        },
        {
          "output_type": "stream",
          "name": "stderr",
          "text": [
            "[I 2024-08-07 06:40:42,733] Trial 15 finished with value: 0.5 and parameters: {'num_layers': 4, 'filters_0': 102, 'filters_1': 48, 'filters_2': 93, 'filters_3': 47, 'kernel_size': 3, 'l1': 0.0005966983368516617, 'l2': 0.0009734146255823634, 'dense_units': 162, 'dropout_rate': 0.19588230163913317, 'learning_rate': 0.00013507555911300214}. Best is trial 2 with value: 0.5005000233650208.\n"
          ]
        },
        {
          "output_type": "stream",
          "name": "stdout",
          "text": [
            "Trial 16 started with hyperparameters: num_layers=6, filters=[59, 42, 78, 76, 99, 110], kernel_size=2, l1=0.009304034901151502, l2=4.788443999332478e-06, dense_units=237, dropout_rate=0.31121346309839365, learning_rate=5.556271644601261e-05\n",
            "\u001b[1m50/50\u001b[0m \u001b[32m━━━━━━━━━━━━━━━━━━━━\u001b[0m\u001b[37m\u001b[0m \u001b[1m11s\u001b[0m 77ms/step - accuracy: 0.4967 - loss: 53.4685 - val_accuracy: 0.5013 - val_loss: 51.1729\n",
            "\u001b[1m50/50\u001b[0m \u001b[32m━━━━━━━━━━━━━━━━━━━━\u001b[0m\u001b[37m\u001b[0m \u001b[1m1s\u001b[0m 22ms/step - accuracy: 0.5014 - loss: 50.4230 - val_accuracy: 0.4800 - val_loss: 48.1962\n",
            "\u001b[1m50/50\u001b[0m \u001b[32m━━━━━━━━━━━━━━━━━━━━\u001b[0m\u001b[37m\u001b[0m \u001b[1m1s\u001b[0m 22ms/step - accuracy: 0.5075 - loss: 47.4688 - val_accuracy: 0.4725 - val_loss: 45.3106\n",
            "\u001b[1m50/50\u001b[0m \u001b[32m━━━━━━━━━━━━━━━━━━━━\u001b[0m\u001b[37m\u001b[0m \u001b[1m1s\u001b[0m 22ms/step - accuracy: 0.5007 - loss: 44.6060 - val_accuracy: 0.4900 - val_loss: 42.5162\n",
            "\u001b[1m50/50\u001b[0m \u001b[32m━━━━━━━━━━━━━━━━━━━━\u001b[0m\u001b[37m\u001b[0m \u001b[1m1s\u001b[0m 22ms/step - accuracy: 0.4934 - loss: 41.8351 - val_accuracy: 0.4925 - val_loss: 39.8148\n",
            "\u001b[1m50/50\u001b[0m \u001b[32m━━━━━━━━━━━━━━━━━━━━\u001b[0m\u001b[37m\u001b[0m \u001b[1m1s\u001b[0m 22ms/step - accuracy: 0.5117 - loss: 39.1569 - val_accuracy: 0.5050 - val_loss: 37.2068\n",
            "\u001b[1m50/50\u001b[0m \u001b[32m━━━━━━━━━━━━━━━━━━━━\u001b[0m\u001b[37m\u001b[0m \u001b[1m1s\u001b[0m 22ms/step - accuracy: 0.4774 - loss: 36.5724 - val_accuracy: 0.4663 - val_loss: 34.6920\n",
            "\u001b[1m50/50\u001b[0m \u001b[32m━━━━━━━━━━━━━━━━━━━━\u001b[0m\u001b[37m\u001b[0m \u001b[1m1s\u001b[0m 23ms/step - accuracy: 0.5074 - loss: 34.0798 - val_accuracy: 0.4787 - val_loss: 32.2685\n",
            "\u001b[1m50/50\u001b[0m \u001b[32m━━━━━━━━━━━━━━━━━━━━\u001b[0m\u001b[37m\u001b[0m \u001b[1m1s\u001b[0m 22ms/step - accuracy: 0.5048 - loss: 31.6800 - val_accuracy: 0.5025 - val_loss: 29.9379\n",
            "\u001b[1m125/125\u001b[0m \u001b[32m━━━━━━━━━━━━━━━━━━━━\u001b[0m\u001b[37m\u001b[0m \u001b[1m1s\u001b[0m 4ms/step - accuracy: 0.4971 - loss: 29.9380\n"
          ]
        },
        {
          "output_type": "stream",
          "name": "stderr",
          "text": [
            "[I 2024-08-07 06:55:47,740] Trial 16 finished with value: 0.5 and parameters: {'num_layers': 6, 'filters_0': 59, 'filters_1': 42, 'filters_2': 78, 'filters_3': 76, 'filters_4': 99, 'filters_5': 110, 'kernel_size': 2, 'l1': 0.009304034901151502, 'l2': 4.788443999332478e-06, 'dense_units': 237, 'dropout_rate': 0.31121346309839365, 'learning_rate': 5.556271644601261e-05}. Best is trial 2 with value: 0.5005000233650208.\n"
          ]
        },
        {
          "output_type": "stream",
          "name": "stdout",
          "text": [
            "Trial 17 started with hyperparameters: num_layers=5, filters=[83, 109, 53, 106, 58], kernel_size=3, l1=0.0003022568549102259, l2=0.009953708034936991, dense_units=200, dropout_rate=0.4240170963289345, learning_rate=2.213809835127783e-05\n",
            "\u001b[1m50/50\u001b[0m \u001b[32m━━━━━━━━━━━━━━━━━━━━\u001b[0m\u001b[37m\u001b[0m \u001b[1m13s\u001b[0m 99ms/step - accuracy: 0.4965 - loss: 6.0219 - val_accuracy: 0.5150 - val_loss: 5.8526\n",
            "\u001b[1m50/50\u001b[0m \u001b[32m━━━━━━━━━━━━━━━━━━━━\u001b[0m\u001b[37m\u001b[0m \u001b[1m2s\u001b[0m 32ms/step - accuracy: 0.4974 - loss: 5.7978 - val_accuracy: 0.5275 - val_loss: 5.6348\n",
            "\u001b[1m50/50\u001b[0m \u001b[32m━━━━━━━━━━━━━━━━━━━━\u001b[0m\u001b[37m\u001b[0m \u001b[1m2s\u001b[0m 31ms/step - accuracy: 0.5007 - loss: 5.5826 - val_accuracy: 0.4613 - val_loss: 5.4246\n",
            "\u001b[1m50/50\u001b[0m \u001b[32m━━━━━━━━━━━━━━━━━━━━\u001b[0m\u001b[37m\u001b[0m \u001b[1m2s\u001b[0m 31ms/step - accuracy: 0.5050 - loss: 5.3734 - val_accuracy: 0.4938 - val_loss: 5.2217\n",
            "\u001b[1m50/50\u001b[0m \u001b[32m━━━━━━━━━━━━━━━━━━━━\u001b[0m\u001b[37m\u001b[0m \u001b[1m2s\u001b[0m 31ms/step - accuracy: 0.5040 - loss: 5.1722 - val_accuracy: 0.4938 - val_loss: 5.0256\n",
            "\u001b[1m50/50\u001b[0m \u001b[32m━━━━━━━━━━━━━━━━━━━━\u001b[0m\u001b[37m\u001b[0m \u001b[1m2s\u001b[0m 32ms/step - accuracy: 0.4930 - loss: 4.9783 - val_accuracy: 0.5000 - val_loss: 4.8365\n",
            "\u001b[1m50/50\u001b[0m \u001b[32m━━━━━━━━━━━━━━━━━━━━\u001b[0m\u001b[37m\u001b[0m \u001b[1m2s\u001b[0m 32ms/step - accuracy: 0.5071 - loss: 4.7905 - val_accuracy: 0.4663 - val_loss: 4.6545\n",
            "\u001b[1m50/50\u001b[0m \u001b[32m━━━━━━━━━━━━━━━━━━━━\u001b[0m\u001b[37m\u001b[0m \u001b[1m2s\u001b[0m 31ms/step - accuracy: 0.4792 - loss: 4.6101 - val_accuracy: 0.4787 - val_loss: 4.4785\n",
            "\u001b[1m50/50\u001b[0m \u001b[32m━━━━━━━━━━━━━━━━━━━━\u001b[0m\u001b[37m\u001b[0m \u001b[1m2s\u001b[0m 32ms/step - accuracy: 0.5106 - loss: 4.4355 - val_accuracy: 0.5063 - val_loss: 4.3084\n",
            "\u001b[1m125/125\u001b[0m \u001b[32m━━━━━━━━━━━━━━━━━━━━\u001b[0m\u001b[37m\u001b[0m \u001b[1m1s\u001b[0m 6ms/step - accuracy: 0.4961 - loss: 4.3085\n"
          ]
        },
        {
          "output_type": "stream",
          "name": "stderr",
          "text": [
            "[I 2024-08-07 07:10:59,783] Trial 17 finished with value: 0.49950000643730164 and parameters: {'num_layers': 5, 'filters_0': 83, 'filters_1': 109, 'filters_2': 53, 'filters_3': 106, 'filters_4': 58, 'kernel_size': 3, 'l1': 0.0003022568549102259, 'l2': 0.009953708034936991, 'dense_units': 200, 'dropout_rate': 0.4240170963289345, 'learning_rate': 2.213809835127783e-05}. Best is trial 2 with value: 0.5005000233650208.\n"
          ]
        },
        {
          "output_type": "stream",
          "name": "stdout",
          "text": [
            "Trial 18 started with hyperparameters: num_layers=4, filters=[43, 74, 101, 60], kernel_size=2, l1=2.6900020421842548e-05, l2=5.819090249118172e-05, dense_units=65, dropout_rate=0.10225066030863866, learning_rate=7.252202775070962e-05\n",
            "\u001b[1m50/50\u001b[0m \u001b[32m━━━━━━━━━━━━━━━━━━━━\u001b[0m\u001b[37m\u001b[0m \u001b[1m0s\u001b[0m 16ms/step - accuracy: 0.4981 - loss: 0.7948"
          ]
        },
        {
          "output_type": "stream",
          "name": "stderr",
          "text": [
            "[I 2024-08-07 07:12:38,231] Trial 18 pruned. Trial was pruned at epoch 0.\n"
          ]
        },
        {
          "output_type": "stream",
          "name": "stdout",
          "text": [
            "Trial 19 started with hyperparameters: num_layers=3, filters=[76, 124, 115], kernel_size=3, l1=0.002333930646301374, l2=1.8517589364277717e-05, dense_units=152, dropout_rate=0.3330080489830696, learning_rate=0.00022956477488134602\n",
            "\u001b[1m50/50\u001b[0m \u001b[32m━━━━━━━━━━━━━━━━━━━━\u001b[0m\u001b[37m\u001b[0m \u001b[1m12s\u001b[0m 87ms/step - accuracy: 0.4898 - loss: 13.1114 - val_accuracy: 0.4825 - val_loss: 9.4941\n",
            "\u001b[1m50/50\u001b[0m \u001b[32m━━━━━━━━━━━━━━━━━━━━\u001b[0m\u001b[37m\u001b[0m \u001b[1m2s\u001b[0m 30ms/step - accuracy: 0.5137 - loss: 8.4529 - val_accuracy: 0.5088 - val_loss: 5.6342\n",
            "\u001b[1m50/50\u001b[0m \u001b[32m━━━━━━━━━━━━━━━━━━━━\u001b[0m\u001b[37m\u001b[0m \u001b[1m2s\u001b[0m 30ms/step - accuracy: 0.5102 - loss: 4.8726 - val_accuracy: 0.5275 - val_loss: 2.8947\n",
            "\u001b[1m50/50\u001b[0m \u001b[32m━━━━━━━━━━━━━━━━━━━━\u001b[0m\u001b[37m\u001b[0m \u001b[1m2s\u001b[0m 30ms/step - accuracy: 0.5014 - loss: 2.4171 - val_accuracy: 0.4938 - val_loss: 1.2971\n",
            "\u001b[1m50/50\u001b[0m \u001b[32m━━━━━━━━━━━━━━━━━━━━\u001b[0m\u001b[37m\u001b[0m \u001b[1m2s\u001b[0m 30ms/step - accuracy: 0.4972 - loss: 1.1063 - val_accuracy: 0.4913 - val_loss: 0.7953\n",
            "\u001b[1m50/50\u001b[0m \u001b[32m━━━━━━━━━━━━━━━━━━━━\u001b[0m\u001b[37m\u001b[0m \u001b[1m2s\u001b[0m 30ms/step - accuracy: 0.5080 - loss: 0.7734 - val_accuracy: 0.5050 - val_loss: 0.7372\n",
            "\u001b[1m50/50\u001b[0m \u001b[32m━━━━━━━━━━━━━━━━━━━━\u001b[0m\u001b[37m\u001b[0m \u001b[1m2s\u001b[0m 30ms/step - accuracy: 0.5014 - loss: 0.7331 - val_accuracy: 0.4663 - val_loss: 0.7247\n",
            "\u001b[1m50/50\u001b[0m \u001b[32m━━━━━━━━━━━━━━━━━━━━\u001b[0m\u001b[37m\u001b[0m \u001b[1m2s\u001b[0m 30ms/step - accuracy: 0.5091 - loss: 0.7229 - val_accuracy: 0.4787 - val_loss: 0.7192\n",
            "\u001b[1m50/50\u001b[0m \u001b[32m━━━━━━━━━━━━━━━━━━━━\u001b[0m\u001b[37m\u001b[0m \u001b[1m2s\u001b[0m 30ms/step - accuracy: 0.5066 - loss: 0.7181 - val_accuracy: 0.5025 - val_loss: 0.7157\n",
            "\u001b[1m125/125\u001b[0m \u001b[32m━━━━━━━━━━━━━━━━━━━━\u001b[0m\u001b[37m\u001b[0m \u001b[1m1s\u001b[0m 5ms/step - accuracy: 0.4971 - loss: 0.7157\n"
          ]
        },
        {
          "output_type": "stream",
          "name": "stderr",
          "text": [
            "[I 2024-08-07 07:27:45,907] Trial 19 finished with value: 0.5 and parameters: {'num_layers': 3, 'filters_0': 76, 'filters_1': 124, 'filters_2': 115, 'kernel_size': 3, 'l1': 0.002333930646301374, 'l2': 1.8517589364277717e-05, 'dense_units': 152, 'dropout_rate': 0.3330080489830696, 'learning_rate': 0.00022956477488134602}. Best is trial 2 with value: 0.5005000233650208.\n"
          ]
        },
        {
          "output_type": "stream",
          "name": "stdout",
          "text": [
            "Trial 20 started with hyperparameters: num_layers=6, filters=[126, 60, 65, 84, 97, 94], kernel_size=2, l1=4.50157815421858e-06, l2=0.00037313115917503347, dense_units=256, dropout_rate=0.20927888460231014, learning_rate=0.00014603630481467531\n",
            "\u001b[1m49/50\u001b[0m \u001b[32m━━━━━━━━━━━━━━━━━━━\u001b[0m\u001b[37m━\u001b[0m \u001b[1m0s\u001b[0m 24ms/step - accuracy: 0.4736 - loss: 0.8681"
          ]
        },
        {
          "output_type": "stream",
          "name": "stderr",
          "text": [
            "[I 2024-08-07 07:29:26,977] Trial 20 pruned. Trial was pruned at epoch 0.\n"
          ]
        },
        {
          "output_type": "stream",
          "name": "stdout",
          "text": [
            "Trial 21 started with hyperparameters: num_layers=3, filters=[66, 66, 106], kernel_size=3, l1=5.21198628212308e-06, l2=0.00010203236287214482, dense_units=200, dropout_rate=0.395919958062793, learning_rate=0.0009693687984089372\n",
            "\u001b[1m49/50\u001b[0m \u001b[32m━━━━━━━━━━━━━━━━━━━\u001b[0m\u001b[37m━\u001b[0m \u001b[1m0s\u001b[0m 21ms/step - accuracy: 0.5049 - loss: 0.8790"
          ]
        },
        {
          "output_type": "stream",
          "name": "stderr",
          "text": [
            "[I 2024-08-07 07:31:05,126] Trial 21 pruned. Trial was pruned at epoch 0.\n"
          ]
        },
        {
          "output_type": "stream",
          "name": "stdout",
          "text": [
            "Trial 22 started with hyperparameters: num_layers=3, filters=[64, 73, 120], kernel_size=3, l1=1.2375848809817663e-06, l2=0.0001073687400566737, dense_units=230, dropout_rate=0.4799811142551475, learning_rate=0.0008011116624374293\n",
            "\u001b[1m49/50\u001b[0m \u001b[32m━━━━━━━━━━━━━━━━━━━\u001b[0m\u001b[37m━\u001b[0m \u001b[1m0s\u001b[0m 19ms/step - accuracy: 0.5078 - loss: 0.8313"
          ]
        },
        {
          "output_type": "stream",
          "name": "stderr",
          "text": [
            "[I 2024-08-07 07:32:42,786] Trial 22 pruned. Trial was pruned at epoch 0.\n"
          ]
        },
        {
          "output_type": "stream",
          "name": "stdout",
          "text": [
            "Trial 23 started with hyperparameters: num_layers=4, filters=[58, 55, 109, 32], kernel_size=3, l1=0.00011801427634465876, l2=0.0005306734658749633, dense_units=207, dropout_rate=0.29804896585975726, learning_rate=0.0003694739171825232\n",
            "\u001b[1m49/50\u001b[0m \u001b[32m━━━━━━━━━━━━━━━━━━━\u001b[0m\u001b[37m━\u001b[0m \u001b[1m0s\u001b[0m 18ms/step - accuracy: 0.4970 - loss: 1.2104"
          ]
        },
        {
          "output_type": "stream",
          "name": "stderr",
          "text": [
            "[I 2024-08-07 07:34:21,495] Trial 23 pruned. Trial was pruned at epoch 0.\n"
          ]
        },
        {
          "output_type": "stream",
          "name": "stdout",
          "text": [
            "Trial 24 started with hyperparameters: num_layers=3, filters=[39, 41, 96], kernel_size=3, l1=1.1368495018000454e-06, l2=3.199227521336899e-06, dense_units=168, dropout_rate=0.1500656498666305, learning_rate=2.0461792457473702e-05\n",
            "\u001b[1m49/50\u001b[0m \u001b[32m━━━━━━━━━━━━━━━━━━━\u001b[0m\u001b[37m━\u001b[0m \u001b[1m0s\u001b[0m 14ms/step - accuracy: 0.5012 - loss: 0.7001"
          ]
        },
        {
          "output_type": "stream",
          "name": "stderr",
          "text": [
            "[I 2024-08-07 07:35:58,479] Trial 24 pruned. Trial was pruned at epoch 0.\n"
          ]
        },
        {
          "output_type": "stream",
          "name": "stdout",
          "text": [
            "Trial 25 started with hyperparameters: num_layers=4, filters=[92, 67, 87, 103], kernel_size=3, l1=2.2744508639147397e-05, l2=1.3871213466196942e-05, dense_units=242, dropout_rate=0.3892230817455748, learning_rate=4.5031418859652654e-05\n",
            "\u001b[1m50/50\u001b[0m \u001b[32m━━━━━━━━━━━━━━━━━━━━\u001b[0m\u001b[37m\u001b[0m \u001b[1m0s\u001b[0m 24ms/step - accuracy: 0.5060 - loss: 0.8324"
          ]
        },
        {
          "output_type": "stream",
          "name": "stderr",
          "text": [
            "[I 2024-08-07 07:37:41,559] Trial 25 pruned. Trial was pruned at epoch 0.\n"
          ]
        },
        {
          "output_type": "stream",
          "name": "stdout",
          "text": [
            "Trial 26 started with hyperparameters: num_layers=5, filters=[76, 98, 84, 79, 42], kernel_size=3, l1=9.147579872086701e-05, l2=6.284983336000155e-05, dense_units=184, dropout_rate=0.29870042013001036, learning_rate=0.0005631641717676168\n",
            "\u001b[1m48/50\u001b[0m \u001b[32m━━━━━━━━━━━━━━━━━━━\u001b[0m\u001b[37m━\u001b[0m \u001b[1m0s\u001b[0m 24ms/step - accuracy: 0.4994 - loss: 1.2987"
          ]
        },
        {
          "output_type": "stream",
          "name": "stderr",
          "text": [
            "[I 2024-08-07 07:39:23,527] Trial 26 pruned. Trial was pruned at epoch 0.\n"
          ]
        },
        {
          "output_type": "stream",
          "name": "stdout",
          "text": [
            "Trial 27 started with hyperparameters: num_layers=3, filters=[56, 66, 121], kernel_size=3, l1=1.8347663167436638e-06, l2=2.852460726386032e-05, dense_units=209, dropout_rate=0.4554756945365799, learning_rate=0.0003082313908406039\n",
            "\u001b[1m49/50\u001b[0m \u001b[32m━━━━━━━━━━━━━━━━━━━\u001b[0m\u001b[37m━\u001b[0m \u001b[1m0s\u001b[0m 19ms/step - accuracy: 0.4986 - loss: 0.7902"
          ]
        },
        {
          "output_type": "stream",
          "name": "stderr",
          "text": [
            "[I 2024-08-07 07:41:02,333] Trial 27 pruned. Trial was pruned at epoch 0.\n"
          ]
        },
        {
          "output_type": "stream",
          "name": "stdout",
          "text": [
            "Trial 28 started with hyperparameters: num_layers=4, filters=[42, 32, 110, 46], kernel_size=2, l1=0.00032559811579543717, l2=0.00019502508524209773, dense_units=151, dropout_rate=0.39351942683358326, learning_rate=0.00017221549725393855\n",
            "\u001b[1m49/50\u001b[0m \u001b[32m━━━━━━━━━━━━━━━━━━━\u001b[0m\u001b[37m━\u001b[0m \u001b[1m0s\u001b[0m 14ms/step - accuracy: 0.4837 - loss: 1.3971"
          ]
        },
        {
          "output_type": "stream",
          "name": "stderr",
          "text": [
            "[I 2024-08-07 07:42:40,199] Trial 28 pruned. Trial was pruned at epoch 0.\n"
          ]
        },
        {
          "output_type": "stream",
          "name": "stdout",
          "text": [
            "Trial 29 started with hyperparameters: num_layers=3, filters=[77, 45, 97], kernel_size=3, l1=2.8882453118904157e-06, l2=2.2930226626038986e-06, dense_units=174, dropout_rate=0.3369432691243377, learning_rate=8.171326176027981e-05\n",
            "\u001b[1m49/50\u001b[0m \u001b[32m━━━━━━━━━━━━━━━━━━━\u001b[0m\u001b[37m━\u001b[0m \u001b[1m0s\u001b[0m 20ms/step - accuracy: 0.4884 - loss: 0.7095"
          ]
        },
        {
          "output_type": "stream",
          "name": "stderr",
          "text": [
            "[I 2024-08-07 07:44:18,765] Trial 29 pruned. Trial was pruned at epoch 0.\n"
          ]
        },
        {
          "output_type": "stream",
          "name": "stdout",
          "text": [
            "Best trial:\n",
            "Value: 0.5005000233650208\n",
            "Params: \n",
            "    num_layers: 4\n",
            "    filters_0: 39\n",
            "    filters_1: 53\n",
            "    filters_2: 94\n",
            "    filters_3: 101\n",
            "    kernel_size: 2\n",
            "    l1: 7.734333542494201e-05\n",
            "    l2: 6.536870301639723e-05\n",
            "    dense_units: 238\n",
            "    dropout_rate: 0.29358511911026797\n",
            "    learning_rate: 5.723121393552307e-05\n",
            "Elapsed time: 14298.44 seconds\n"
          ]
        }
      ]
    },
    {
      "cell_type": "code",
      "source": [],
      "metadata": {
        "id": "KFLHvWRAaxS8"
      },
      "execution_count": null,
      "outputs": []
    },
    {
      "cell_type": "code",
      "source": [
        "\n",
        "\n",
        "# Configure logging to file in the current directory with the specified name\n",
        "logging.basicConfig(filename='recent_Scenarios_RM.log', level=logging.INFO,\n",
        "                    format='%(asctime)s:%(levelname)s:%(message)s')\n",
        "\n",
        "# Function to preprocess data\n",
        "def preprocess_data(simulations_folder, batch_number):\n",
        "    # Create ImaFile object for the specified simulation folder and model\n",
        "    file_sim = ImaFile(simulations_folder=os.path.join(simulations_folder, f'Simulations{batch_number}'), nr_samples=198, model_name='Marth-3epoch-CEU')\n",
        "\n",
        "    # Read the simulation data\n",
        "    gene_sim = file_sim.read_simulations(parameter_name='selection_coeff_hetero', max_nrepl=4000)\n",
        "\n",
        "    # Filter simulations based on frequency threshold\n",
        "    gene_sim.filter_freq(0.01)\n",
        "\n",
        "    # Sort simulations by row frequency\n",
        "    gene_sim.sort('rows_freq')\n",
        "\n",
        "    # Resize simulation data to the required dimensions\n",
        "    gene_sim.resize((198, 192))\n",
        "\n",
        "    # Convert simulation data (flip=True allows for data augmentation)\n",
        "    gene_sim.convert(flip=True)\n",
        "\n",
        "    # Get a random subset of indices and subset the simulation data\n",
        "    gene_sim.subset(get_index_random(gene_sim))\n",
        "\n",
        "    # Convert targets to binary format\n",
        "    gene_sim.targets = to_binary(gene_sim.targets)\n",
        "\n",
        "    return gene_sim\n",
        "\n",
        "# Objective function for Optuna optimization\n",
        "def objective(trial, simulations_folder, epochs=1):\n",
        "    # Set random seed\n",
        "    np.random.seed(42)\n",
        "    tf.random.set_seed(42)\n",
        "\n",
        "    # Hyperparameters to be optimized\n",
        "    num_layers = trial.suggest_int('num_layers', 3, 6)  # Limit the number of layers to avoid excessive reduction\n",
        "    filters = [trial.suggest_int(f'filters_{i}', 32, 128) for i in range(num_layers)]  # Adjust filters range\n",
        "    kernel_size = trial.suggest_int('kernel_size', 2, 3)  # Limit the kernel size to avoid excessive reduction\n",
        "    l1 = trial.suggest_float('l1', 1e-6, 1e-2, log=True)\n",
        "    l2 = trial.suggest_float('l2', 1e-6, 1e-2, log=True)\n",
        "    dense_units = trial.suggest_int('dense_units', 64, 256)  # Adjust dense units range\n",
        "    dropout_rate = trial.suggest_float('dropout_rate', 0.1, 0.5)\n",
        "    learning_rate = trial.suggest_float('learning_rate', 1e-5, 1e-3, log=True)\n",
        "\n",
        "    # Log the hyperparameters at the start of each trial\n",
        "    logging.info(f'Trial {trial.number} started with hyperparameters: num_layers={num_layers}, filters={filters}, '\n",
        "                 f'kernel_size={kernel_size}, l1={l1}, l2={l2}, dense_units={dense_units}, '\n",
        "                 f'dropout_rate={dropout_rate}, learning_rate={learning_rate}')\n",
        "    print(f'Trial {trial.number} started with hyperparameters: num_layers={num_layers}, filters={filters}, '\n",
        "          f'kernel_size={kernel_size}, l1={l1}, l2={l2}, dense_units={dense_units}, '\n",
        "          f'dropout_rate={dropout_rate}, learning_rate={learning_rate}')\n",
        "\n",
        "    # Building the model based on sampled hyperparameters\n",
        "    model = models.Sequential()\n",
        "    model.add(layers.Input(shape=(198, 192, 1)))  # Define the input layer\n",
        "    for i in range(num_layers):\n",
        "        model.add(layers.Conv2D(filters=filters[i], kernel_size=(kernel_size, kernel_size), strides=(1, 1), activation='relu',\n",
        "                                kernel_regularizer=regularizers.l1_l2(l1=l1, l2=l2), padding='same'))  # Use 'same' padding to avoid dimension issues\n",
        "        model.add(layers.MaxPooling2D(pool_size=(2, 2)))\n",
        "\n",
        "    model.add(layers.Flatten())  # Flatten the output for the Dense layers\n",
        "    model.add(layers.Dense(units=dense_units, activation='relu'))  # Add Dense layer\n",
        "    model.add(layers.Dropout(rate=dropout_rate))  # Add Dropout layer\n",
        "    model.add(layers.Dense(units=1, activation='sigmoid'))  # Output layer with sigmoid activation\n",
        "\n",
        "    optimizer = tf.keras.optimizers.Adam(learning_rate=learning_rate)  # Define optimizer\n",
        "    model.compile(optimizer=optimizer, loss='binary_crossentropy', metrics=['accuracy'])  # Compile the model\n",
        "\n",
        "    # Pruning callback to terminate unpromising trials\n",
        "    pruning_callback = TFKerasPruningCallback(trial, 'val_loss')\n",
        "\n",
        "    # Early stopping to prevent overfitting\n",
        "    early_stopping = EarlyStopping(monitor='val_loss', patience=3, restore_best_weights=True)\n",
        "\n",
        "    # Incremental training on 9 batches\n",
        "    best_val_loss = np.inf  # Track the best validation loss\n",
        "    for batch_number in range(1, 10):\n",
        "        gene_sim = preprocess_data(simulations_folder, batch_number)  # Preprocess data\n",
        "        history = model.fit(gene_sim.data, gene_sim.targets, batch_size=64, epochs=epochs, verbose=1, validation_split=0.2,\n",
        "                            callbacks=[early_stopping, pruning_callback])  # Train the model with callbacks\n",
        "\n",
        "        # Get the validation loss for the current epoch\n",
        "        val_loss = min(history.history['val_loss'])\n",
        "        if val_loss < best_val_loss:\n",
        "            best_val_loss = val_loss\n",
        "            trial.report(val_loss, batch_number)\n",
        "            if trial.should_prune():\n",
        "                raise optuna.exceptions.TrialPruned()\n",
        "\n",
        "    # Evaluate the model on the 10th batch\n",
        "    gene_sim = preprocess_data(simulations_folder, 10)\n",
        "    evaluation = model.evaluate(gene_sim.data, gene_sim.targets, verbose=1)\n",
        "    return evaluation[1]  # Return the accuracy\n",
        "\n",
        "# Function to run the optimization process\n",
        "def run_optimization():\n",
        "    start_time = time.time()  # Record start time\n",
        "\n",
        "    simulations_folder = '/content/EvoNet-CNN-Insight/model_training/recent_moderate/RM'  # Folder for this dataset\n",
        "    logging.info(f\"Starting optimization for {simulations_folder}\")\n",
        "    print(f\"Starting optimization for {simulations_folder}\")\n",
        "\n",
        "    # Create an Optuna study and optimize the objective function\n",
        "    study = optuna.create_study(direction='maximize', pruner=optuna.pruners.MedianPruner(), storage='sqlite:///rm_study.db', load_if_exists=True)  # Use SQLite storage\n",
        "    study.optimize(lambda trial: objective(trial, simulations_folder), n_trials=30)  # Set to 30 trials\n",
        "\n",
        "    try:\n",
        "        trial = study.best_trial\n",
        "        print('Best trial:')\n",
        "        print('Value: {}'.format(trial.value))\n",
        "        print('Params: ')\n",
        "        for key, value in trial.params.items():\n",
        "            print('    {}: {}'.format(key, value))  # Print best trial parameters\n",
        "\n",
        "        logging.info('Best trial:')\n",
        "        logging.info('Value: {}'.format(trial.value))\n",
        "        logging.info('Params: ')\n",
        "        for key, value in trial.params.items():\n",
        "            logging.info('    {}: {}'.format(key, value))  # Log best trial parameters\n",
        "\n",
        "    except ValueError as e:\n",
        "        logging.error(f\"No completed trials: {e}\")  # Log error if no trials are completed\n",
        "\n",
        "    elapsed_time = time.time() - start_time  # Calculate elapsed time\n",
        "    print(f\"Elapsed time: {elapsed_time:.2f} seconds\")\n",
        "    logging.info(f\"Elapsed time: {elapsed_time:.2f} seconds\")  # Log elapsed time\n",
        "\n",
        "# Run the optimization process\n",
        "if __name__ == '__main__':\n",
        "    run_optimization()  # Execute the optimization function"
      ],
      "metadata": {
        "id": "cjTe9aRDaydr",
        "outputId": "ce23af0e-144e-4834-9ed9-861e0833fbd6",
        "colab": {
          "base_uri": "https://localhost:8080/"
        }
      },
      "execution_count": 7,
      "outputs": [
        {
          "metadata": {
            "tags": null
          },
          "name": "stdout",
          "output_type": "stream",
          "text": [
            "Starting optimization for /content/EvoNet-CNN-Insight/model_training/recent_moderate/RM\n"
          ]
        },
        {
          "metadata": {
            "tags": null
          },
          "name": "stderr",
          "output_type": "stream",
          "text": [
            "[I 2024-08-07 10:52:11,225] A new study created in RDB with name: no-name-dca59641-1aad-41d4-9877-3f8f361ee265\n"
          ]
        },
        {
          "metadata": {
            "tags": null
          },
          "name": "stdout",
          "output_type": "stream",
          "text": [
            "Trial 0 started with hyperparameters: num_layers=5, filters=[63, 81, 89, 84, 120], kernel_size=2, l1=0.0003394086925385009, l2=0.000665520165287859, dense_units=204, dropout_rate=0.3675811174839049, learning_rate=4.9643676521892325e-05\n",
            "\u001b[1m50/50\u001b[0m \u001b[32m━━━━━━━━━━━━━━━━━━━━\u001b[0m\u001b[37m\u001b[0m \u001b[1m13s\u001b[0m 84ms/step - accuracy: 0.5078 - loss: 2.7761 - val_accuracy: 0.5175 - val_loss: 2.6994\n",
            "\u001b[1m50/50\u001b[0m \u001b[32m━━━━━━━━━━━━━━━━━━━━\u001b[0m\u001b[37m\u001b[0m \u001b[1m1s\u001b[0m 25ms/step - accuracy: 0.5068 - loss: 2.6755 - val_accuracy: 0.5200 - val_loss: 2.6008\n"
          ]
        },
        {
          "metadata": {
            "tags": null
          },
          "name": "stderr",
          "output_type": "stream",
          "text": [
            "/usr/local/lib/python3.10/dist-packages/optuna/trial/_trial.py:493: UserWarning: The reported value is ignored because this `step` 0 is already reported.\n",
            "  warnings.warn(\n"
          ]
        },
        {
          "metadata": {
            "tags": null
          },
          "name": "stdout",
          "output_type": "stream",
          "text": [
            "\u001b[1m50/50\u001b[0m \u001b[32m━━━━━━━━━━━━━━━━━━━━\u001b[0m\u001b[37m\u001b[0m \u001b[1m1s\u001b[0m 25ms/step - accuracy: 0.5254 - loss: 2.5771 - val_accuracy: 0.5700 - val_loss: 2.5052\n",
            "\u001b[1m50/50\u001b[0m \u001b[32m━━━━━━━━━━━━━━━━━━━━\u001b[0m\u001b[37m\u001b[0m \u001b[1m1s\u001b[0m 26ms/step - accuracy: 0.5246 - loss: 2.4824 - val_accuracy: 0.4938 - val_loss: 2.4128\n",
            "\u001b[1m50/50\u001b[0m \u001b[32m━━━━━━━━━━━━━━━━━━━━\u001b[0m\u001b[37m\u001b[0m \u001b[1m1s\u001b[0m 25ms/step - accuracy: 0.5333 - loss: 2.3902 - val_accuracy: 0.5088 - val_loss: 2.3227\n",
            "\u001b[1m50/50\u001b[0m \u001b[32m━━━━━━━━━━━━━━━━━━━━\u001b[0m\u001b[37m\u001b[0m \u001b[1m1s\u001b[0m 25ms/step - accuracy: 0.5185 - loss: 2.3012 - val_accuracy: 0.4950 - val_loss: 2.2384\n",
            "\u001b[1m50/50\u001b[0m \u001b[32m━━━━━━━━━━━━━━━━━━━━\u001b[0m\u001b[37m\u001b[0m \u001b[1m1s\u001b[0m 25ms/step - accuracy: 0.5138 - loss: 2.2177 - val_accuracy: 0.7038 - val_loss: 2.1540\n",
            "\u001b[1m50/50\u001b[0m \u001b[32m━━━━━━━━━━━━━━━━━━━━\u001b[0m\u001b[37m\u001b[0m \u001b[1m1s\u001b[0m 25ms/step - accuracy: 0.5668 - loss: 2.1331 - val_accuracy: 0.4787 - val_loss: 2.0744\n",
            "\u001b[1m50/50\u001b[0m \u001b[32m━━━━━━━━━━━━━━━━━━━━\u001b[0m\u001b[37m\u001b[0m \u001b[1m1s\u001b[0m 26ms/step - accuracy: 0.5268 - loss: 2.0541 - val_accuracy: 0.6125 - val_loss: 1.9951\n",
            "\u001b[1m125/125\u001b[0m \u001b[32m━━━━━━━━━━━━━━━━━━━━\u001b[0m\u001b[37m\u001b[0m \u001b[1m1s\u001b[0m 5ms/step - accuracy: 0.6102 - loss: 1.9955\n"
          ]
        },
        {
          "metadata": {
            "tags": null
          },
          "name": "stderr",
          "output_type": "stream",
          "text": [
            "[I 2024-08-07 11:07:06,994] Trial 0 finished with value: 0.6117500066757202 and parameters: {'num_layers': 5, 'filters_0': 63, 'filters_1': 81, 'filters_2': 89, 'filters_3': 84, 'filters_4': 120, 'kernel_size': 2, 'l1': 0.0003394086925385009, 'l2': 0.000665520165287859, 'dense_units': 204, 'dropout_rate': 0.3675811174839049, 'learning_rate': 4.9643676521892325e-05}. Best is trial 0 with value: 0.6117500066757202.\n"
          ]
        },
        {
          "metadata": {
            "tags": null
          },
          "name": "stdout",
          "output_type": "stream",
          "text": [
            "Trial 1 started with hyperparameters: num_layers=5, filters=[85, 119, 99, 115, 54], kernel_size=3, l1=0.00020959985382232806, l2=0.00010741242396156945, dense_units=69, dropout_rate=0.29601406545155096, learning_rate=0.00013314057394016722\n",
            "\u001b[1m50/50\u001b[0m \u001b[32m━━━━━━━━━━━━━━━━━━━━\u001b[0m\u001b[37m\u001b[0m \u001b[1m15s\u001b[0m 107ms/step - accuracy: 0.5179 - loss: 2.7715 - val_accuracy: 0.4913 - val_loss: 2.4902\n",
            "\u001b[1m50/50\u001b[0m \u001b[32m━━━━━━━━━━━━━━━━━━━━\u001b[0m\u001b[37m\u001b[0m \u001b[1m2s\u001b[0m 34ms/step - accuracy: 0.5099 - loss: 2.4008 - val_accuracy: 0.4800 - val_loss: 2.1411\n",
            "\u001b[1m50/50\u001b[0m \u001b[32m━━━━━━━━━━━━━━━━━━━━\u001b[0m\u001b[37m\u001b[0m \u001b[1m2s\u001b[0m 34ms/step - accuracy: 0.5316 - loss: 2.0595 - val_accuracy: 0.5325 - val_loss: 1.8292\n",
            "\u001b[1m50/50\u001b[0m \u001b[32m━━━━━━━━━━━━━━━━━━━━\u001b[0m\u001b[37m\u001b[0m \u001b[1m2s\u001b[0m 34ms/step - accuracy: 0.5252 - loss: 1.7593 - val_accuracy: 0.5825 - val_loss: 1.5569\n",
            "\u001b[1m50/50\u001b[0m \u001b[32m━━━━━━━━━━━━━━━━━━━━\u001b[0m\u001b[37m\u001b[0m \u001b[1m2s\u001b[0m 34ms/step - accuracy: 0.5730 - loss: 1.4957 - val_accuracy: 0.7975 - val_loss: 1.3187\n",
            "\u001b[1m50/50\u001b[0m \u001b[32m━━━━━━━━━━━━━━━━━━━━\u001b[0m\u001b[37m\u001b[0m \u001b[1m2s\u001b[0m 34ms/step - accuracy: 0.6362 - loss: 1.2528 - val_accuracy: 0.7700 - val_loss: 0.9602\n",
            "\u001b[1m50/50\u001b[0m \u001b[32m━━━━━━━━━━━━━━━━━━━━\u001b[0m\u001b[37m\u001b[0m \u001b[1m2s\u001b[0m 34ms/step - accuracy: 0.7732 - loss: 0.9302 - val_accuracy: 0.7763 - val_loss: 0.8480\n",
            "\u001b[1m50/50\u001b[0m \u001b[32m━━━━━━━━━━━━━━━━━━━━\u001b[0m\u001b[37m\u001b[0m \u001b[1m2s\u001b[0m 34ms/step - accuracy: 0.7938 - loss: 0.8100 - val_accuracy: 0.8238 - val_loss: 0.6928\n",
            "\u001b[1m50/50\u001b[0m \u001b[32m━━━━━━━━━━━━━━━━━━━━\u001b[0m\u001b[37m\u001b[0m \u001b[1m2s\u001b[0m 34ms/step - accuracy: 0.8116 - loss: 0.7202 - val_accuracy: 0.8500 - val_loss: 0.6146\n",
            "\u001b[1m125/125\u001b[0m \u001b[32m━━━━━━━━━━━━━━━━━━━━\u001b[0m\u001b[37m\u001b[0m \u001b[1m1s\u001b[0m 6ms/step - accuracy: 0.8320 - loss: 0.6499\n"
          ]
        },
        {
          "metadata": {
            "tags": null
          },
          "name": "stderr",
          "output_type": "stream",
          "text": [
            "[I 2024-08-07 11:22:04,726] Trial 1 finished with value: 0.8305000066757202 and parameters: {'num_layers': 5, 'filters_0': 85, 'filters_1': 119, 'filters_2': 99, 'filters_3': 115, 'filters_4': 54, 'kernel_size': 3, 'l1': 0.00020959985382232806, 'l2': 0.00010741242396156945, 'dense_units': 69, 'dropout_rate': 0.29601406545155096, 'learning_rate': 0.00013314057394016722}. Best is trial 1 with value: 0.8305000066757202.\n"
          ]
        },
        {
          "metadata": {
            "tags": null
          },
          "name": "stdout",
          "output_type": "stream",
          "text": [
            "Trial 2 started with hyperparameters: num_layers=4, filters=[76, 81, 104, 121], kernel_size=3, l1=0.0008057607979769009, l2=0.002742944468738477, dense_units=184, dropout_rate=0.26214391757211963, learning_rate=0.0005011329575183328\n",
            "\u001b[1m50/50\u001b[0m \u001b[32m━━━━━━━━━━━━━━━━━━━━\u001b[0m\u001b[37m\u001b[0m \u001b[1m12s\u001b[0m 91ms/step - accuracy: 0.5035 - loss: 6.1207 - val_accuracy: 0.4825 - val_loss: 3.1845\n",
            "\u001b[1m50/50\u001b[0m \u001b[32m━━━━━━━━━━━━━━━━━━━━\u001b[0m\u001b[37m\u001b[0m \u001b[1m1s\u001b[0m 29ms/step - accuracy: 0.5116 - loss: 2.5472 - val_accuracy: 0.5200 - val_loss: 1.1852\n",
            "\u001b[1m50/50\u001b[0m \u001b[32m━━━━━━━━━━━━━━━━━━━━\u001b[0m\u001b[37m\u001b[0m \u001b[1m1s\u001b[0m 29ms/step - accuracy: 0.5041 - loss: 1.0127 - val_accuracy: 0.4725 - val_loss: 0.7643\n",
            "\u001b[1m50/50\u001b[0m \u001b[32m━━━━━━━━━━━━━━━━━━━━\u001b[0m\u001b[37m\u001b[0m \u001b[1m1s\u001b[0m 30ms/step - accuracy: 0.4969 - loss: 0.7461 - val_accuracy: 0.5063 - val_loss: 0.7175\n",
            "\u001b[1m50/50\u001b[0m \u001b[32m━━━━━━━━━━━━━━━━━━━━\u001b[0m\u001b[37m\u001b[0m \u001b[1m1s\u001b[0m 29ms/step - accuracy: 0.4954 - loss: 0.7149 - val_accuracy: 0.4913 - val_loss: 0.7098\n",
            "\u001b[1m50/50\u001b[0m \u001b[32m━━━━━━━━━━━━━━━━━━━━\u001b[0m\u001b[37m\u001b[0m \u001b[1m1s\u001b[0m 29ms/step - accuracy: 0.5058 - loss: 0.7090 - val_accuracy: 0.5050 - val_loss: 0.7074\n",
            "\u001b[1m50/50\u001b[0m \u001b[32m━━━━━━━━━━━━━━━━━━━━\u001b[0m\u001b[37m\u001b[0m \u001b[1m1s\u001b[0m 29ms/step - accuracy: 0.4971 - loss: 0.7071 - val_accuracy: 0.4663 - val_loss: 0.7065\n",
            "\u001b[1m50/50\u001b[0m \u001b[32m━━━━━━━━━━━━━━━━━━━━\u001b[0m\u001b[37m\u001b[0m \u001b[1m2s\u001b[0m 30ms/step - accuracy: 0.5091 - loss: 0.7061 - val_accuracy: 0.4787 - val_loss: 0.7059\n",
            "\u001b[1m50/50\u001b[0m \u001b[32m━━━━━━━━━━━━━━━━━━━━\u001b[0m\u001b[37m\u001b[0m \u001b[1m1s\u001b[0m 30ms/step - accuracy: 0.5066 - loss: 0.7056 - val_accuracy: 0.5025 - val_loss: 0.7055\n",
            "\u001b[1m125/125\u001b[0m \u001b[32m━━━━━━━━━━━━━━━━━━━━\u001b[0m\u001b[37m\u001b[0m \u001b[1m1s\u001b[0m 5ms/step - accuracy: 0.4971 - loss: 0.7056\n"
          ]
        },
        {
          "metadata": {
            "tags": null
          },
          "name": "stderr",
          "output_type": "stream",
          "text": [
            "[I 2024-08-07 11:36:57,661] Trial 2 finished with value: 0.5 and parameters: {'num_layers': 4, 'filters_0': 76, 'filters_1': 81, 'filters_2': 104, 'filters_3': 121, 'kernel_size': 3, 'l1': 0.0008057607979769009, 'l2': 0.002742944468738477, 'dense_units': 184, 'dropout_rate': 0.26214391757211963, 'learning_rate': 0.0005011329575183328}. Best is trial 1 with value: 0.8305000066757202.\n"
          ]
        },
        {
          "metadata": {
            "tags": null
          },
          "name": "stdout",
          "output_type": "stream",
          "text": [
            "Trial 3 started with hyperparameters: num_layers=3, filters=[91, 109, 47], kernel_size=2, l1=0.0007125923154458567, l2=0.0009338823566809086, dense_units=68, dropout_rate=0.16384704954847185, learning_rate=1.2470412287854133e-05\n",
            "\u001b[1m50/50\u001b[0m \u001b[32m━━━━━━━━━━━━━━━━━━━━\u001b[0m\u001b[37m\u001b[0m \u001b[1m9s\u001b[0m 77ms/step - accuracy: 0.4978 - loss: 2.8006 - val_accuracy: 0.4925 - val_loss: 2.7776\n",
            "\u001b[1m50/50\u001b[0m \u001b[32m━━━━━━━━━━━━━━━━━━━━\u001b[0m\u001b[37m\u001b[0m \u001b[1m1s\u001b[0m 30ms/step - accuracy: 0.5299 - loss: 2.7694 - val_accuracy: 0.5562 - val_loss: 2.7482\n",
            "\u001b[1m50/50\u001b[0m \u001b[32m━━━━━━━━━━━━━━━━━━━━\u001b[0m\u001b[37m\u001b[0m \u001b[1m1s\u001b[0m 29ms/step - accuracy: 0.5561 - loss: 2.7408 - val_accuracy: 0.5163 - val_loss: 2.7206\n",
            "\u001b[1m50/50\u001b[0m \u001b[32m━━━━━━━━━━━━━━━━━━━━\u001b[0m\u001b[37m\u001b[0m \u001b[1m1s\u001b[0m 29ms/step - accuracy: 0.5573 - loss: 2.7138 - val_accuracy: 0.7050 - val_loss: 2.6911\n",
            "\u001b[1m50/50\u001b[0m \u001b[32m━━━━━━━━━━━━━━━━━━━━\u001b[0m\u001b[37m\u001b[0m \u001b[1m1s\u001b[0m 29ms/step - accuracy: 0.6524 - loss: 2.6827 - val_accuracy: 0.7638 - val_loss: 2.6613\n",
            "\u001b[1m50/50\u001b[0m \u001b[32m━━━━━━━━━━━━━━━━━━━━\u001b[0m\u001b[37m\u001b[0m \u001b[1m2s\u001b[0m 30ms/step - accuracy: 0.6471 - loss: 2.6552 - val_accuracy: 0.5025 - val_loss: 2.6359\n",
            "\u001b[1m50/50\u001b[0m \u001b[32m━━━━━━━━━━━━━━━━━━━━\u001b[0m\u001b[37m\u001b[0m \u001b[1m1s\u001b[0m 29ms/step - accuracy: 0.5727 - loss: 2.6291 - val_accuracy: 0.7825 - val_loss: 2.6052\n",
            "\u001b[1m50/50\u001b[0m \u001b[32m━━━━━━━━━━━━━━━━━━━━\u001b[0m\u001b[37m\u001b[0m \u001b[1m1s\u001b[0m 29ms/step - accuracy: 0.6041 - loss: 2.6028 - val_accuracy: 0.5375 - val_loss: 2.5870\n",
            "\u001b[1m50/50\u001b[0m \u001b[32m━━━━━━━━━━━━━━━━━━━━\u001b[0m\u001b[37m\u001b[0m \u001b[1m1s\u001b[0m 29ms/step - accuracy: 0.6446 - loss: 2.5738 - val_accuracy: 0.7775 - val_loss: 2.5495\n",
            "\u001b[1m125/125\u001b[0m \u001b[32m━━━━━━━━━━━━━━━━━━━━\u001b[0m\u001b[37m\u001b[0m \u001b[1m1s\u001b[0m 5ms/step - accuracy: 0.7515 - loss: 2.5513\n"
          ]
        },
        {
          "metadata": {
            "tags": null
          },
          "name": "stderr",
          "output_type": "stream",
          "text": [
            "[I 2024-08-07 11:51:46,805] Trial 3 finished with value: 0.7540000081062317 and parameters: {'num_layers': 3, 'filters_0': 91, 'filters_1': 109, 'filters_2': 47, 'kernel_size': 2, 'l1': 0.0007125923154458567, 'l2': 0.0009338823566809086, 'dense_units': 68, 'dropout_rate': 0.16384704954847185, 'learning_rate': 1.2470412287854133e-05}. Best is trial 1 with value: 0.8305000066757202.\n"
          ]
        },
        {
          "metadata": {
            "tags": null
          },
          "name": "stdout",
          "output_type": "stream",
          "text": [
            "Trial 4 started with hyperparameters: num_layers=4, filters=[120, 64, 41, 91], kernel_size=2, l1=0.00031876215840038503, l2=3.620090293397304e-05, dense_units=176, dropout_rate=0.3095807975364757, learning_rate=4.2673170985888435e-05\n",
            "\u001b[1m50/50\u001b[0m \u001b[32m━━━━━━━━━━━━━━━━━━━━\u001b[0m\u001b[37m\u001b[0m \u001b[1m11s\u001b[0m 83ms/step - accuracy: 0.4846 - loss: 1.5973 - val_accuracy: 0.4825 - val_loss: 1.5713\n",
            "\u001b[1m50/50\u001b[0m \u001b[32m━━━━━━━━━━━━━━━━━━━━\u001b[0m\u001b[37m\u001b[0m \u001b[1m1s\u001b[0m 28ms/step - accuracy: 0.5252 - loss: 1.5629 - val_accuracy: 0.5238 - val_loss: 1.5373\n",
            "\u001b[1m50/50\u001b[0m \u001b[32m━━━━━━━━━━━━━━━━━━━━\u001b[0m\u001b[37m\u001b[0m \u001b[1m1s\u001b[0m 29ms/step - accuracy: 0.5585 - loss: 1.5277 - val_accuracy: 0.4725 - val_loss: 1.5077\n",
            "\u001b[1m50/50\u001b[0m \u001b[32m━━━━━━━━━━━━━━━━━━━━\u001b[0m\u001b[37m\u001b[0m \u001b[1m1s\u001b[0m 29ms/step - accuracy: 0.5519 - loss: 1.4968 - val_accuracy: 0.7575 - val_loss: 1.4695\n",
            "\u001b[1m50/50\u001b[0m \u001b[32m━━━━━━━━━━━━━━━━━━━━\u001b[0m\u001b[37m\u001b[0m \u001b[1m1s\u001b[0m 29ms/step - accuracy: 0.6457 - loss: 1.4609 - val_accuracy: 0.7663 - val_loss: 1.4305\n",
            "\u001b[1m50/50\u001b[0m \u001b[32m━━━━━━━━━━━━━━━━━━━━\u001b[0m\u001b[37m\u001b[0m \u001b[1m1s\u001b[0m 29ms/step - accuracy: 0.6715 - loss: 1.4211 - val_accuracy: 0.5213 - val_loss: 1.3884\n",
            "\u001b[1m50/50\u001b[0m \u001b[32m━━━━━━━━━━━━━━━━━━━━\u001b[0m\u001b[37m\u001b[0m \u001b[1m1s\u001b[0m 29ms/step - accuracy: 0.6378 - loss: 1.3737 - val_accuracy: 0.6888 - val_loss: 1.3320\n",
            "\u001b[1m50/50\u001b[0m \u001b[32m━━━━━━━━━━━━━━━━━━━━\u001b[0m\u001b[37m\u001b[0m \u001b[1m1s\u001b[0m 29ms/step - accuracy: 0.7572 - loss: 1.3002 - val_accuracy: 0.7925 - val_loss: 1.2236\n",
            "\u001b[1m50/50\u001b[0m \u001b[32m━━━━━━━━━━━━━━━━━━━━\u001b[0m\u001b[37m\u001b[0m \u001b[1m1s\u001b[0m 29ms/step - accuracy: 0.7829 - loss: 1.2190 - val_accuracy: 0.8250 - val_loss: 1.1368\n",
            "\u001b[1m125/125\u001b[0m \u001b[32m━━━━━━━━━━━━━━━━━━━━\u001b[0m\u001b[37m\u001b[0m \u001b[1m1s\u001b[0m 4ms/step - accuracy: 0.8013 - loss: 1.1575\n"
          ]
        },
        {
          "metadata": {
            "tags": null
          },
          "name": "stderr",
          "output_type": "stream",
          "text": [
            "[I 2024-08-07 12:06:35,304] Trial 4 finished with value: 0.8029999732971191 and parameters: {'num_layers': 4, 'filters_0': 120, 'filters_1': 64, 'filters_2': 41, 'filters_3': 91, 'kernel_size': 2, 'l1': 0.00031876215840038503, 'l2': 3.620090293397304e-05, 'dense_units': 176, 'dropout_rate': 0.3095807975364757, 'learning_rate': 4.2673170985888435e-05}. Best is trial 1 with value: 0.8305000066757202.\n"
          ]
        },
        {
          "metadata": {
            "tags": null
          },
          "name": "stdout",
          "output_type": "stream",
          "text": [
            "Trial 5 started with hyperparameters: num_layers=4, filters=[39, 128, 82, 65], kernel_size=2, l1=1.253828951257716e-06, l2=0.0016968955177184785, dense_units=170, dropout_rate=0.20155990327289983, learning_rate=0.0001579931853519011\n",
            "\u001b[1m50/50\u001b[0m \u001b[32m━━━━━━━━━━━━━━━━━━━━\u001b[0m\u001b[37m\u001b[0m \u001b[1m0s\u001b[0m 16ms/step - accuracy: 0.5117 - loss: 1.0816"
          ]
        },
        {
          "metadata": {
            "tags": null
          },
          "name": "stderr",
          "output_type": "stream",
          "text": [
            "[I 2024-08-07 12:08:11,959] Trial 5 pruned. Trial was pruned at epoch 0.\n"
          ]
        },
        {
          "metadata": {
            "tags": null
          },
          "name": "stdout",
          "output_type": "stream",
          "text": [
            "Trial 6 started with hyperparameters: num_layers=3, filters=[52, 40, 98], kernel_size=2, l1=4.900585789192069e-05, l2=2.4249702044997143e-05, dense_units=193, dropout_rate=0.32927351820779155, learning_rate=7.664116206702432e-05\n",
            "\u001b[1m49/50\u001b[0m \u001b[32m━━━━━━━━━━━━━━━━━━━\u001b[0m\u001b[37m━\u001b[0m \u001b[1m0s\u001b[0m 14ms/step - accuracy: 0.5108 - loss: 0.7693"
          ]
        },
        {
          "metadata": {
            "tags": null
          },
          "name": "stderr",
          "output_type": "stream",
          "text": [
            "[I 2024-08-07 12:09:46,397] Trial 6 pruned. Trial was pruned at epoch 0.\n"
          ]
        },
        {
          "metadata": {
            "tags": null
          },
          "name": "stdout",
          "output_type": "stream",
          "text": [
            "Trial 7 started with hyperparameters: num_layers=3, filters=[48, 105, 78], kernel_size=2, l1=0.0009555076233192856, l2=0.0071975978675566325, dense_units=128, dropout_rate=0.3667078924008921, learning_rate=4.923846560965734e-05\n",
            "\u001b[1m50/50\u001b[0m \u001b[32m━━━━━━━━━━━━━━━━━━━━\u001b[0m\u001b[37m\u001b[0m \u001b[1m9s\u001b[0m 68ms/step - accuracy: 0.5191 - loss: 4.1571 - val_accuracy: 0.4875 - val_loss: 3.9975\n",
            "\u001b[1m50/50\u001b[0m \u001b[32m━━━━━━━━━━━━━━━━━━━━\u001b[0m\u001b[37m\u001b[0m \u001b[1m1s\u001b[0m 24ms/step - accuracy: 0.5583 - loss: 3.9496 - val_accuracy: 0.7875 - val_loss: 3.8006\n",
            "\u001b[1m50/50\u001b[0m \u001b[32m━━━━━━━━━━━━━━━━━━━━\u001b[0m\u001b[37m\u001b[0m \u001b[1m1s\u001b[0m 25ms/step - accuracy: 0.6071 - loss: 3.7537 - val_accuracy: 0.4725 - val_loss: 3.6298\n",
            "\u001b[1m50/50\u001b[0m \u001b[32m━━━━━━━━━━━━━━━━━━━━\u001b[0m\u001b[37m\u001b[0m \u001b[1m1s\u001b[0m 24ms/step - accuracy: 0.5843 - loss: 3.5788 - val_accuracy: 0.7038 - val_loss: 3.4373\n",
            "\u001b[1m50/50\u001b[0m \u001b[32m━━━━━━━━━━━━━━━━━━━━\u001b[0m\u001b[37m\u001b[0m \u001b[1m1s\u001b[0m 24ms/step - accuracy: 0.6797 - loss: 3.3921 - val_accuracy: 0.7462 - val_loss: 3.2617\n",
            "\u001b[1m50/50\u001b[0m \u001b[32m━━━━━━━━━━━━━━━━━━━━\u001b[0m\u001b[37m\u001b[0m \u001b[1m1s\u001b[0m 24ms/step - accuracy: 0.7225 - loss: 3.2199 - val_accuracy: 0.5850 - val_loss: 3.1029\n",
            "\u001b[1m50/50\u001b[0m \u001b[32m━━━━━━━━━━━━━━━━━━━━\u001b[0m\u001b[37m\u001b[0m \u001b[1m1s\u001b[0m 24ms/step - accuracy: 0.7004 - loss: 3.0561 - val_accuracy: 0.7237 - val_loss: 2.9340\n",
            "\u001b[1m50/50\u001b[0m \u001b[32m━━━━━━━━━━━━━━━━━━━━\u001b[0m\u001b[37m\u001b[0m \u001b[1m1s\u001b[0m 25ms/step - accuracy: 0.7478 - loss: 2.8925 - val_accuracy: 0.8175 - val_loss: 2.7568\n",
            "\u001b[1m50/50\u001b[0m \u001b[32m━━━━━━━━━━━━━━━━━━━━\u001b[0m\u001b[37m\u001b[0m \u001b[1m1s\u001b[0m 25ms/step - accuracy: 0.7728 - loss: 2.7430 - val_accuracy: 0.8413 - val_loss: 2.5960\n",
            "\u001b[1m125/125\u001b[0m \u001b[32m━━━━━━━━━━━━━━━━━━━━\u001b[0m\u001b[37m\u001b[0m \u001b[1m1s\u001b[0m 5ms/step - accuracy: 0.8133 - loss: 2.6098\n"
          ]
        },
        {
          "metadata": {
            "tags": null
          },
          "name": "stderr",
          "output_type": "stream",
          "text": [
            "[I 2024-08-07 12:24:29,516] Trial 7 finished with value: 0.809249997138977 and parameters: {'num_layers': 3, 'filters_0': 48, 'filters_1': 105, 'filters_2': 78, 'kernel_size': 2, 'l1': 0.0009555076233192856, 'l2': 0.0071975978675566325, 'dense_units': 128, 'dropout_rate': 0.3667078924008921, 'learning_rate': 4.923846560965734e-05}. Best is trial 1 with value: 0.8305000066757202.\n"
          ]
        },
        {
          "metadata": {
            "tags": null
          },
          "name": "stdout",
          "output_type": "stream",
          "text": [
            "Trial 8 started with hyperparameters: num_layers=3, filters=[77, 86, 88], kernel_size=3, l1=0.0028395485378568757, l2=9.065526804233451e-06, dense_units=184, dropout_rate=0.3301081042771936, learning_rate=0.0009788670040864569\n",
            "\u001b[1m50/50\u001b[0m \u001b[32m━━━━━━━━━━━━━━━━━━━━\u001b[0m\u001b[37m\u001b[0m \u001b[1m11s\u001b[0m 84ms/step - accuracy: 0.5219 - loss: 9.2910 - val_accuracy: 0.4825 - val_loss: 2.8866\n",
            "\u001b[1m50/50\u001b[0m \u001b[32m━━━━━━━━━━━━━━━━━━━━\u001b[0m\u001b[37m\u001b[0m \u001b[1m1s\u001b[0m 29ms/step - accuracy: 0.4931 - loss: 2.1983 - val_accuracy: 0.5200 - val_loss: 1.1747\n",
            "\u001b[1m50/50\u001b[0m \u001b[32m━━━━━━━━━━━━━━━━━━━━\u001b[0m\u001b[37m\u001b[0m \u001b[1m1s\u001b[0m 29ms/step - accuracy: 0.5042 - loss: 1.0617 - val_accuracy: 0.4725 - val_loss: 0.8523\n",
            "\u001b[1m50/50\u001b[0m \u001b[32m━━━━━━━━━━━━━━━━━━━━\u001b[0m\u001b[37m\u001b[0m \u001b[1m1s\u001b[0m 29ms/step - accuracy: 0.4939 - loss: 0.8247 - val_accuracy: 0.4938 - val_loss: 0.7734\n",
            "\u001b[1m50/50\u001b[0m \u001b[32m━━━━━━━━━━━━━━━━━━━━\u001b[0m\u001b[37m\u001b[0m \u001b[1m1s\u001b[0m 29ms/step - accuracy: 0.4938 - loss: 0.7662 - val_accuracy: 0.4913 - val_loss: 0.7511\n",
            "\u001b[1m50/50\u001b[0m \u001b[32m━━━━━━━━━━━━━━━━━━━━\u001b[0m\u001b[37m\u001b[0m \u001b[1m1s\u001b[0m 29ms/step - accuracy: 0.5003 - loss: 0.7487 - val_accuracy: 0.5050 - val_loss: 0.7429\n",
            "\u001b[1m50/50\u001b[0m \u001b[32m━━━━━━━━━━━━━━━━━━━━\u001b[0m\u001b[37m\u001b[0m \u001b[1m1s\u001b[0m 29ms/step - accuracy: 0.4974 - loss: 0.7419 - val_accuracy: 0.4663 - val_loss: 0.7395\n",
            "\u001b[1m50/50\u001b[0m \u001b[32m━━━━━━━━━━━━━━━━━━━━\u001b[0m\u001b[37m\u001b[0m \u001b[1m1s\u001b[0m 29ms/step - accuracy: 0.5091 - loss: 0.7386 - val_accuracy: 0.4787 - val_loss: 0.7375\n",
            "\u001b[1m50/50\u001b[0m \u001b[32m━━━━━━━━━━━━━━━━━━━━\u001b[0m\u001b[37m\u001b[0m \u001b[1m1s\u001b[0m 29ms/step - accuracy: 0.5066 - loss: 0.7370 - val_accuracy: 0.5025 - val_loss: 0.7362\n",
            "\u001b[1m125/125\u001b[0m \u001b[32m━━━━━━━━━━━━━━━━━━━━\u001b[0m\u001b[37m\u001b[0m \u001b[1m1s\u001b[0m 5ms/step - accuracy: 0.4971 - loss: 0.7363\n"
          ]
        },
        {
          "metadata": {
            "tags": null
          },
          "name": "stderr",
          "output_type": "stream",
          "text": [
            "[I 2024-08-07 12:39:17,817] Trial 8 finished with value: 0.5 and parameters: {'num_layers': 3, 'filters_0': 77, 'filters_1': 86, 'filters_2': 88, 'kernel_size': 3, 'l1': 0.0028395485378568757, 'l2': 9.065526804233451e-06, 'dense_units': 184, 'dropout_rate': 0.3301081042771936, 'learning_rate': 0.0009788670040864569}. Best is trial 1 with value: 0.8305000066757202.\n"
          ]
        },
        {
          "metadata": {
            "tags": null
          },
          "name": "stdout",
          "output_type": "stream",
          "text": [
            "Trial 9 started with hyperparameters: num_layers=4, filters=[50, 91, 58, 63], kernel_size=2, l1=0.00538377310074094, l2=5.2830082736100984e-05, dense_units=146, dropout_rate=0.12303578301760557, learning_rate=1.3860953200894656e-05\n",
            "\u001b[1m50/50\u001b[0m \u001b[32m━━━━━━━━━━━━━━━━━━━━\u001b[0m\u001b[37m\u001b[0m \u001b[1m9s\u001b[0m 73ms/step - accuracy: 0.5138 - loss: 15.8866 - val_accuracy: 0.5200 - val_loss: 15.7353\n",
            "\u001b[1m50/50\u001b[0m \u001b[32m━━━━━━━━━━━━━━━━━━━━\u001b[0m\u001b[37m\u001b[0m \u001b[1m1s\u001b[0m 23ms/step - accuracy: 0.5212 - loss: 15.6869 - val_accuracy: 0.5738 - val_loss: 15.5363\n",
            "\u001b[1m50/50\u001b[0m \u001b[32m━━━━━━━━━━━━━━━━━━━━\u001b[0m\u001b[37m\u001b[0m \u001b[1m1s\u001b[0m 23ms/step - accuracy: 0.5471 - loss: 15.4869 - val_accuracy: 0.5825 - val_loss: 15.3389\n",
            "\u001b[1m50/50\u001b[0m \u001b[32m━━━━━━━━━━━━━━━━━━━━\u001b[0m\u001b[37m\u001b[0m \u001b[1m1s\u001b[0m 23ms/step - accuracy: 0.5520 - loss: 15.2905 - val_accuracy: 0.5088 - val_loss: 15.1448\n",
            "\u001b[1m50/50\u001b[0m \u001b[32m━━━━━━━━━━━━━━━━━━━━\u001b[0m\u001b[37m\u001b[0m \u001b[1m1s\u001b[0m 23ms/step - accuracy: 0.5660 - loss: 15.0949 - val_accuracy: 0.5150 - val_loss: 14.9493\n",
            "\u001b[1m50/50\u001b[0m \u001b[32m━━━━━━━━━━━━━━━━━━━━\u001b[0m\u001b[37m\u001b[0m \u001b[1m1s\u001b[0m 23ms/step - accuracy: 0.5678 - loss: 14.9017 - val_accuracy: 0.5025 - val_loss: 14.7585\n",
            "\u001b[1m50/50\u001b[0m \u001b[32m━━━━━━━━━━━━━━━━━━━━\u001b[0m\u001b[37m\u001b[0m \u001b[1m1s\u001b[0m 23ms/step - accuracy: 0.5296 - loss: 14.7112 - val_accuracy: 0.6600 - val_loss: 14.5665\n",
            "\u001b[1m50/50\u001b[0m \u001b[32m━━━━━━━━━━━━━━━━━━━━\u001b[0m\u001b[37m\u001b[0m \u001b[1m1s\u001b[0m 23ms/step - accuracy: 0.6297 - loss: 14.5206 - val_accuracy: 0.5663 - val_loss: 14.3810\n",
            "\u001b[1m50/50\u001b[0m \u001b[32m━━━━━━━━━━━━━━━━━━━━\u001b[0m\u001b[37m\u001b[0m \u001b[1m1s\u001b[0m 23ms/step - accuracy: 0.5620 - loss: 14.3331 - val_accuracy: 0.6675 - val_loss: 14.1923\n",
            "\u001b[1m125/125\u001b[0m \u001b[32m━━━━━━━━━━━━━━━━━━━━\u001b[0m\u001b[37m\u001b[0m \u001b[1m1s\u001b[0m 4ms/step - accuracy: 0.6743 - loss: 14.1930\n"
          ]
        },
        {
          "metadata": {
            "tags": null
          },
          "name": "stderr",
          "output_type": "stream",
          "text": [
            "[I 2024-08-07 12:54:01,513] Trial 9 finished with value: 0.6742500066757202 and parameters: {'num_layers': 4, 'filters_0': 50, 'filters_1': 91, 'filters_2': 58, 'filters_3': 63, 'kernel_size': 2, 'l1': 0.00538377310074094, 'l2': 5.2830082736100984e-05, 'dense_units': 146, 'dropout_rate': 0.12303578301760557, 'learning_rate': 1.3860953200894656e-05}. Best is trial 1 with value: 0.8305000066757202.\n"
          ]
        },
        {
          "metadata": {
            "tags": null
          },
          "name": "stdout",
          "output_type": "stream",
          "text": [
            "Trial 10 started with hyperparameters: num_layers=6, filters=[105, 127, 128, 124, 33, 81], kernel_size=3, l1=2.1949115543636626e-05, l2=1.5585834775630536e-06, dense_units=241, dropout_rate=0.4815736370792296, learning_rate=0.0002246480159547278\n",
            "\u001b[1m49/50\u001b[0m \u001b[32m━━━━━━━━━━━━━━━━━━━\u001b[0m\u001b[37m━\u001b[0m \u001b[1m0s\u001b[0m 31ms/step - accuracy: 0.5095 - loss: 0.9596"
          ]
        },
        {
          "metadata": {
            "tags": null
          },
          "name": "stderr",
          "output_type": "stream",
          "text": [
            "[I 2024-08-07 12:55:44,856] Trial 10 pruned. Trial was pruned at epoch 0.\n"
          ]
        },
        {
          "metadata": {
            "tags": null
          },
          "name": "stdout",
          "output_type": "stream",
          "text": [
            "Trial 11 started with hyperparameters: num_layers=5, filters=[34, 108, 68, 105, 51], kernel_size=3, l1=7.1336206131459835e-06, l2=0.00778097462766366, dense_units=77, dropout_rate=0.4041291126125261, learning_rate=3.3752094247209034e-05\n",
            "\u001b[1m49/50\u001b[0m \u001b[32m━━━━━━━━━━━━━━━━━━━\u001b[0m\u001b[37m━\u001b[0m \u001b[1m0s\u001b[0m 18ms/step - accuracy: 0.5088 - loss: 2.9431"
          ]
        },
        {
          "metadata": {
            "tags": null
          },
          "name": "stderr",
          "output_type": "stream",
          "text": [
            "[I 2024-08-07 12:57:23,671] Trial 11 pruned. Trial was pruned at epoch 0.\n"
          ]
        },
        {
          "metadata": {
            "tags": null
          },
          "name": "stdout",
          "output_type": "stream",
          "text": [
            "Trial 12 started with hyperparameters: num_layers=6, filters=[92, 106, 113, 45, 79, 127], kernel_size=3, l1=9.9604623501211e-05, l2=0.00018932223436815413, dense_units=113, dropout_rate=0.4225513314885839, learning_rate=0.00013020155623166436\n",
            "\u001b[1m49/50\u001b[0m \u001b[32m━━━━━━━━━━━━━━━━━━━\u001b[0m\u001b[37m━\u001b[0m \u001b[1m0s\u001b[0m 28ms/step - accuracy: 0.4962 - loss: 1.8038"
          ]
        },
        {
          "metadata": {
            "tags": null
          },
          "name": "stderr",
          "output_type": "stream",
          "text": [
            "[I 2024-08-07 12:59:06,327] Trial 12 pruned. Trial was pruned at epoch 0.\n"
          ]
        },
        {
          "metadata": {
            "tags": null
          },
          "name": "stdout",
          "output_type": "stream",
          "text": [
            "Trial 13 started with hyperparameters: num_layers=5, filters=[63, 115, 70, 104, 72], kernel_size=3, l1=0.00197514320612535, l2=0.00022342753010272818, dense_units=113, dropout_rate=0.2492264530406562, learning_rate=0.00037208733475148934\n",
            "\u001b[1m50/50\u001b[0m \u001b[32m━━━━━━━━━━━━━━━━━━━━\u001b[0m\u001b[37m\u001b[0m \u001b[1m12s\u001b[0m 92ms/step - accuracy: 0.5007 - loss: 14.8665 - val_accuracy: 0.5175 - val_loss: 8.7876\n",
            "\u001b[1m50/50\u001b[0m \u001b[32m━━━━━━━━━━━━━━━━━━━━\u001b[0m\u001b[37m\u001b[0m \u001b[1m1s\u001b[0m 29ms/step - accuracy: 0.5061 - loss: 7.2289 - val_accuracy: 0.5200 - val_loss: 3.3625\n",
            "\u001b[1m50/50\u001b[0m \u001b[32m━━━━━━━━━━━━━━━━━━━━\u001b[0m\u001b[37m\u001b[0m \u001b[1m1s\u001b[0m 29ms/step - accuracy: 0.5177 - loss: 2.5524 - val_accuracy: 0.4725 - val_loss: 0.9339\n",
            "\u001b[1m50/50\u001b[0m \u001b[32m━━━━━━━━━━━━━━━━━━━━\u001b[0m\u001b[37m\u001b[0m \u001b[1m1s\u001b[0m 29ms/step - accuracy: 0.4941 - loss: 0.8246 - val_accuracy: 0.5063 - val_loss: 0.7291\n",
            "\u001b[1m50/50\u001b[0m \u001b[32m━━━━━━━━━━━━━━━━━━━━\u001b[0m\u001b[37m\u001b[0m \u001b[1m1s\u001b[0m 29ms/step - accuracy: 0.4897 - loss: 0.7257 - val_accuracy: 0.5088 - val_loss: 0.7202\n",
            "\u001b[1m50/50\u001b[0m \u001b[32m━━━━━━━━━━━━━━━━━━━━\u001b[0m\u001b[37m\u001b[0m \u001b[1m1s\u001b[0m 29ms/step - accuracy: 0.5041 - loss: 0.7196 - val_accuracy: 0.5050 - val_loss: 0.7184\n",
            "\u001b[1m50/50\u001b[0m \u001b[32m━━━━━━━━━━━━━━━━━━━━\u001b[0m\u001b[37m\u001b[0m \u001b[1m1s\u001b[0m 29ms/step - accuracy: 0.4902 - loss: 0.7184 - val_accuracy: 0.4663 - val_loss: 0.7184\n",
            "\u001b[1m50/50\u001b[0m \u001b[32m━━━━━━━━━━━━━━━━━━━━\u001b[0m\u001b[37m\u001b[0m \u001b[1m1s\u001b[0m 28ms/step - accuracy: 0.5091 - loss: 0.7183 - val_accuracy: 0.4787 - val_loss: 0.7185\n",
            "\u001b[1m50/50\u001b[0m \u001b[32m━━━━━━━━━━━━━━━━━━━━\u001b[0m\u001b[37m\u001b[0m \u001b[1m1s\u001b[0m 29ms/step - accuracy: 0.5066 - loss: 0.7183 - val_accuracy: 0.5025 - val_loss: 0.7184\n",
            "\u001b[1m125/125\u001b[0m \u001b[32m━━━━━━━━━━━━━━━━━━━━\u001b[0m\u001b[37m\u001b[0m \u001b[1m1s\u001b[0m 5ms/step - accuracy: 0.4971 - loss: 0.7184\n"
          ]
        },
        {
          "metadata": {
            "tags": null
          },
          "name": "stderr",
          "output_type": "stream",
          "text": [
            "[I 2024-08-07 13:13:57,285] Trial 13 finished with value: 0.5 and parameters: {'num_layers': 5, 'filters_0': 63, 'filters_1': 115, 'filters_2': 70, 'filters_3': 104, 'filters_4': 72, 'kernel_size': 3, 'l1': 0.00197514320612535, 'l2': 0.00022342753010272818, 'dense_units': 113, 'dropout_rate': 0.2492264530406562, 'learning_rate': 0.00037208733475148934}. Best is trial 1 with value: 0.8305000066757202.\n"
          ]
        },
        {
          "metadata": {
            "tags": null
          },
          "name": "stdout",
          "output_type": "stream",
          "text": [
            "Trial 14 started with hyperparameters: num_layers=5, filters=[100, 98, 116, 35, 109], kernel_size=2, l1=0.00019630392991303413, l2=0.0075575194333145895, dense_units=108, dropout_rate=0.48298731747434936, learning_rate=2.740144646104062e-05\n",
            "\u001b[1m50/50\u001b[0m \u001b[32m━━━━━━━━━━━━━━━━━━━━\u001b[0m\u001b[37m\u001b[0m \u001b[1m12s\u001b[0m 93ms/step - accuracy: 0.5091 - loss: 4.0511 - val_accuracy: 0.4825 - val_loss: 3.9522\n",
            "\u001b[1m50/50\u001b[0m \u001b[32m━━━━━━━━━━━━━━━━━━━━\u001b[0m\u001b[37m\u001b[0m \u001b[1m2s\u001b[0m 31ms/step - accuracy: 0.5139 - loss: 3.9193 - val_accuracy: 0.4800 - val_loss: 3.8247\n",
            "\u001b[1m50/50\u001b[0m \u001b[32m━━━━━━━━━━━━━━━━━━━━\u001b[0m\u001b[37m\u001b[0m \u001b[1m2s\u001b[0m 32ms/step - accuracy: 0.5183 - loss: 3.7931 - val_accuracy: 0.5025 - val_loss: 3.7014\n",
            "\u001b[1m50/50\u001b[0m \u001b[32m━━━━━━━━━━━━━━━━━━━━\u001b[0m\u001b[37m\u001b[0m \u001b[1m2s\u001b[0m 32ms/step - accuracy: 0.5173 - loss: 3.6710 - val_accuracy: 0.6338 - val_loss: 3.5825\n",
            "\u001b[1m50/50\u001b[0m \u001b[32m━━━━━━━━━━━━━━━━━━━━\u001b[0m\u001b[37m\u001b[0m \u001b[1m2s\u001b[0m 31ms/step - accuracy: 0.5080 - loss: 3.5541 - val_accuracy: 0.5688 - val_loss: 3.4680\n",
            "\u001b[1m50/50\u001b[0m \u001b[32m━━━━━━━━━━━━━━━━━━━━\u001b[0m\u001b[37m\u001b[0m \u001b[1m2s\u001b[0m 31ms/step - accuracy: 0.5312 - loss: 3.4403 - val_accuracy: 0.6150 - val_loss: 3.3579\n",
            "\u001b[1m50/50\u001b[0m \u001b[32m━━━━━━━━━━━━━━━━━━━━\u001b[0m\u001b[37m\u001b[0m \u001b[1m2s\u001b[0m 31ms/step - accuracy: 0.5078 - loss: 3.3314 - val_accuracy: 0.4663 - val_loss: 3.2523\n",
            "\u001b[1m50/50\u001b[0m \u001b[32m━━━━━━━━━━━━━━━━━━━━\u001b[0m\u001b[37m\u001b[0m \u001b[1m2s\u001b[0m 31ms/step - accuracy: 0.5354 - loss: 3.2255 - val_accuracy: 0.6875 - val_loss: 3.1489\n",
            "\u001b[1m50/50\u001b[0m \u001b[32m━━━━━━━━━━━━━━━━━━━━\u001b[0m\u001b[37m\u001b[0m \u001b[1m2s\u001b[0m 31ms/step - accuracy: 0.5403 - loss: 3.1241 - val_accuracy: 0.6625 - val_loss: 3.0499\n",
            "\u001b[1m125/125\u001b[0m \u001b[32m━━━━━━━━━━━━━━━━━━━━\u001b[0m\u001b[37m\u001b[0m \u001b[1m1s\u001b[0m 5ms/step - accuracy: 0.6532 - loss: 3.0500\n"
          ]
        },
        {
          "metadata": {
            "tags": null
          },
          "name": "stderr",
          "output_type": "stream",
          "text": [
            "[I 2024-08-07 13:28:47,363] Trial 14 finished with value: 0.6499999761581421 and parameters: {'num_layers': 5, 'filters_0': 100, 'filters_1': 98, 'filters_2': 116, 'filters_3': 35, 'filters_4': 109, 'kernel_size': 2, 'l1': 0.00019630392991303413, 'l2': 0.0075575194333145895, 'dense_units': 108, 'dropout_rate': 0.48298731747434936, 'learning_rate': 2.740144646104062e-05}. Best is trial 1 with value: 0.8305000066757202.\n"
          ]
        },
        {
          "metadata": {
            "tags": null
          },
          "name": "stdout",
          "output_type": "stream",
          "text": [
            "Trial 15 started with hyperparameters: num_layers=6, filters=[124, 66, 100, 105, 56, 34], kernel_size=3, l1=0.0010674552828638542, l2=3.867754190801663e-06, dense_units=140, dropout_rate=0.2464979285154268, learning_rate=6.970395752692004e-05\n",
            "\u001b[1m50/50\u001b[0m \u001b[32m━━━━━━━━━━━━━━━━━━━━\u001b[0m\u001b[37m\u001b[0m \u001b[1m15s\u001b[0m 108ms/step - accuracy: 0.4916 - loss: 10.2806 - val_accuracy: 0.5175 - val_loss: 9.4894\n",
            "\u001b[1m50/50\u001b[0m \u001b[32m━━━━━━━━━━━━━━━━━━━━\u001b[0m\u001b[37m\u001b[0m \u001b[1m2s\u001b[0m 35ms/step - accuracy: 0.4943 - loss: 9.2358 - val_accuracy: 0.5900 - val_loss: 8.4873\n",
            "\u001b[1m50/50\u001b[0m \u001b[32m━━━━━━━━━━━━━━━━━━━━\u001b[0m\u001b[37m\u001b[0m \u001b[1m2s\u001b[0m 35ms/step - accuracy: 0.5244 - loss: 8.2475 - val_accuracy: 0.4725 - val_loss: 7.5434\n",
            "\u001b[1m50/50\u001b[0m \u001b[32m━━━━━━━━━━━━━━━━━━━━\u001b[0m\u001b[37m\u001b[0m \u001b[1m2s\u001b[0m 35ms/step - accuracy: 0.5189 - loss: 7.3185 - val_accuracy: 0.5450 - val_loss: 6.6595\n",
            "\u001b[1m50/50\u001b[0m \u001b[32m━━━━━━━━━━━━━━━━━━━━\u001b[0m\u001b[37m\u001b[0m \u001b[1m2s\u001b[0m 35ms/step - accuracy: 0.5121 - loss: 6.4496 - val_accuracy: 0.4913 - val_loss: 5.8362\n",
            "\u001b[1m50/50\u001b[0m \u001b[32m━━━━━━━━━━━━━━━━━━━━\u001b[0m\u001b[37m\u001b[0m \u001b[1m2s\u001b[0m 35ms/step - accuracy: 0.5074 - loss: 5.6416 - val_accuracy: 0.5050 - val_loss: 5.0743\n",
            "\u001b[1m50/50\u001b[0m \u001b[32m━━━━━━━━━━━━━━━━━━━━\u001b[0m\u001b[37m\u001b[0m \u001b[1m2s\u001b[0m 34ms/step - accuracy: 0.5018 - loss: 4.8952 - val_accuracy: 0.4663 - val_loss: 4.3740\n",
            "\u001b[1m50/50\u001b[0m \u001b[32m━━━━━━━━━━━━━━━━━━━━\u001b[0m\u001b[37m\u001b[0m \u001b[1m2s\u001b[0m 35ms/step - accuracy: 0.5091 - loss: 4.2099 - val_accuracy: 0.4787 - val_loss: 3.7352\n",
            "\u001b[1m50/50\u001b[0m \u001b[32m━━━━━━━━━━━━━━━━━━━━\u001b[0m\u001b[37m\u001b[0m \u001b[1m2s\u001b[0m 35ms/step - accuracy: 0.5066 - loss: 3.5867 - val_accuracy: 0.5025 - val_loss: 3.1588\n",
            "\u001b[1m125/125\u001b[0m \u001b[32m━━━━━━━━━━━━━━━━━━━━\u001b[0m\u001b[37m\u001b[0m \u001b[1m1s\u001b[0m 6ms/step - accuracy: 0.4971 - loss: 3.1588\n"
          ]
        },
        {
          "metadata": {
            "tags": null
          },
          "name": "stderr",
          "output_type": "stream",
          "text": [
            "[I 2024-08-07 13:43:41,586] Trial 15 finished with value: 0.5 and parameters: {'num_layers': 6, 'filters_0': 124, 'filters_1': 66, 'filters_2': 100, 'filters_3': 105, 'filters_4': 56, 'filters_5': 34, 'kernel_size': 3, 'l1': 0.0010674552828638542, 'l2': 3.867754190801663e-06, 'dense_units': 140, 'dropout_rate': 0.2464979285154268, 'learning_rate': 6.970395752692004e-05}. Best is trial 1 with value: 0.8305000066757202.\n"
          ]
        },
        {
          "metadata": {
            "tags": null
          },
          "name": "stdout",
          "output_type": "stream",
          "text": [
            "Trial 16 started with hyperparameters: num_layers=3, filters=[65, 119, 71], kernel_size=2, l1=3.0236622539056695e-05, l2=0.0003342534335121364, dense_units=89, dropout_rate=0.3808544458915668, learning_rate=0.00021615519321606171\n",
            "\u001b[1m49/50\u001b[0m \u001b[32m━━━━━━━━━━━━━━━━━━━\u001b[0m\u001b[37m━\u001b[0m \u001b[1m0s\u001b[0m 21ms/step - accuracy: 0.5071 - loss: 0.8426"
          ]
        },
        {
          "metadata": {
            "tags": null
          },
          "name": "stderr",
          "output_type": "stream",
          "text": [
            "[I 2024-08-07 13:45:17,873] Trial 16 pruned. Trial was pruned at epoch 0.\n"
          ]
        },
        {
          "metadata": {
            "tags": null
          },
          "name": "stdout",
          "output_type": "stream",
          "text": [
            "Trial 17 started with hyperparameters: num_layers=4, filters=[87, 95, 56, 128], kernel_size=3, l1=0.009872976951123406, l2=9.056345974730185e-05, dense_units=137, dropout_rate=0.42762595213780025, learning_rate=9.5050777883519e-05\n",
            "\u001b[1m50/50\u001b[0m \u001b[32m━━━━━━━━━━━━━━━━━━━━\u001b[0m\u001b[37m\u001b[0m \u001b[1m12s\u001b[0m 93ms/step - accuracy: 0.5110 - loss: 55.9150 - val_accuracy: 0.4963 - val_loss: 49.6240\n",
            "\u001b[1m50/50\u001b[0m \u001b[32m━━━━━━━━━━━━━━━━━━━━\u001b[0m\u001b[37m\u001b[0m \u001b[1m2s\u001b[0m 30ms/step - accuracy: 0.5133 - loss: 47.6347 - val_accuracy: 0.5200 - val_loss: 41.8411\n",
            "\u001b[1m50/50\u001b[0m \u001b[32m━━━━━━━━━━━━━━━━━━━━\u001b[0m\u001b[37m\u001b[0m \u001b[1m2s\u001b[0m 31ms/step - accuracy: 0.5345 - loss: 40.0195 - val_accuracy: 0.7387 - val_loss: 34.7333\n",
            "\u001b[1m50/50\u001b[0m \u001b[32m━━━━━━━━━━━━━━━━━━━━\u001b[0m\u001b[37m\u001b[0m \u001b[1m2s\u001b[0m 30ms/step - accuracy: 0.5313 - loss: 33.0815 - val_accuracy: 0.4938 - val_loss: 28.3041\n",
            "\u001b[1m50/50\u001b[0m \u001b[32m━━━━━━━━━━━━━━━━━━━━\u001b[0m\u001b[37m\u001b[0m \u001b[1m2s\u001b[0m 31ms/step - accuracy: 0.5436 - loss: 26.8207 - val_accuracy: 0.5088 - val_loss: 22.5528\n",
            "\u001b[1m50/50\u001b[0m \u001b[32m━━━━━━━━━━━━━━━━━━━━\u001b[0m\u001b[37m\u001b[0m \u001b[1m2s\u001b[0m 31ms/step - accuracy: 0.5317 - loss: 21.2397 - val_accuracy: 0.4950 - val_loss: 17.4808\n",
            "\u001b[1m50/50\u001b[0m \u001b[32m━━━━━━━━━━━━━━━━━━━━\u001b[0m\u001b[37m\u001b[0m \u001b[1m2s\u001b[0m 31ms/step - accuracy: 0.5007 - loss: 16.3371 - val_accuracy: 0.5950 - val_loss: 13.0832\n",
            "\u001b[1m50/50\u001b[0m \u001b[32m━━━━━━━━━━━━━━━━━━━━\u001b[0m\u001b[37m\u001b[0m \u001b[1m2s\u001b[0m 30ms/step - accuracy: 0.5100 - loss: 12.1069 - val_accuracy: 0.4787 - val_loss: 9.3584\n",
            "\u001b[1m50/50\u001b[0m \u001b[32m━━━━━━━━━━━━━━━━━━━━\u001b[0m\u001b[37m\u001b[0m \u001b[1m2s\u001b[0m 31ms/step - accuracy: 0.5009 - loss: 8.5514 - val_accuracy: 0.5025 - val_loss: 6.3129\n",
            "\u001b[1m125/125\u001b[0m \u001b[32m━━━━━━━━━━━━━━━━━━━━\u001b[0m\u001b[37m\u001b[0m \u001b[1m1s\u001b[0m 5ms/step - accuracy: 0.4971 - loss: 6.3130\n"
          ]
        },
        {
          "metadata": {
            "tags": null
          },
          "name": "stderr",
          "output_type": "stream",
          "text": [
            "[I 2024-08-07 14:00:07,989] Trial 17 finished with value: 0.5 and parameters: {'num_layers': 4, 'filters_0': 87, 'filters_1': 95, 'filters_2': 56, 'filters_3': 128, 'kernel_size': 3, 'l1': 0.009872976951123406, 'l2': 9.056345974730185e-05, 'dense_units': 137, 'dropout_rate': 0.42762595213780025, 'learning_rate': 9.5050777883519e-05}. Best is trial 1 with value: 0.8305000066757202.\n"
          ]
        },
        {
          "metadata": {
            "tags": null
          },
          "name": "stdout",
          "output_type": "stream",
          "text": [
            "Trial 18 started with hyperparameters: num_layers=5, filters=[110, 69, 79, 71, 100], kernel_size=2, l1=0.00012532319842961518, l2=1.1008928919793385e-05, dense_units=95, dropout_rate=0.287906292245581, learning_rate=2.578231893938768e-05\n",
            "\u001b[1m48/50\u001b[0m \u001b[32m━━━━━━━━━━━━━━━━━━━\u001b[0m\u001b[37m━\u001b[0m \u001b[1m0s\u001b[0m 25ms/step - accuracy: 0.4925 - loss: 1.3166"
          ]
        },
        {
          "metadata": {
            "tags": null
          },
          "name": "stderr",
          "output_type": "stream",
          "text": [
            "[I 2024-08-07 14:01:47,155] Trial 18 pruned. Trial was pruned at epoch 0.\n"
          ]
        },
        {
          "metadata": {
            "tags": null
          },
          "name": "stdout",
          "output_type": "stream",
          "text": [
            "Trial 19 started with hyperparameters: num_layers=6, filters=[50, 42, 112, 94, 33, 37], kernel_size=3, l1=6.598977731053762e-06, l2=1.213960988694877e-06, dense_units=227, dropout_rate=0.20517808983316788, learning_rate=1.9692555200269426e-05\n",
            "\u001b[1m49/50\u001b[0m \u001b[32m━━━━━━━━━━━━━━━━━━━\u001b[0m\u001b[37m━\u001b[0m \u001b[1m0s\u001b[0m 17ms/step - accuracy: 0.5051 - loss: 0.7360"
          ]
        },
        {
          "metadata": {
            "tags": null
          },
          "name": "stderr",
          "output_type": "stream",
          "text": [
            "[I 2024-08-07 14:03:26,421] Trial 19 pruned. Trial was pruned at epoch 0.\n"
          ]
        },
        {
          "metadata": {
            "tags": null
          },
          "name": "stdout",
          "output_type": "stream",
          "text": [
            "Trial 20 started with hyperparameters: num_layers=3, filters=[70, 102, 94], kernel_size=2, l1=0.00047724701301013646, l2=0.00420656634297498, dense_units=126, dropout_rate=0.3452537915590541, learning_rate=5.74016071240871e-05\n",
            "\u001b[1m49/50\u001b[0m \u001b[32m━━━━━━━━━━━━━━━━━━━\u001b[0m\u001b[37m━\u001b[0m \u001b[1m0s\u001b[0m 21ms/step - accuracy: 0.5173 - loss: 2.8827"
          ]
        },
        {
          "metadata": {
            "tags": null
          },
          "name": "stderr",
          "output_type": "stream",
          "text": [
            "[I 2024-08-07 14:05:02,488] Trial 20 pruned. Trial was pruned at epoch 0.\n"
          ]
        },
        {
          "metadata": {
            "tags": null
          },
          "name": "stdout",
          "output_type": "stream",
          "text": [
            "Trial 21 started with hyperparameters: num_layers=4, filters=[121, 62, 34, 91], kernel_size=2, l1=0.00026954929547254997, l2=2.401514717190003e-05, dense_units=166, dropout_rate=0.30121301389934946, learning_rate=4.3138892813344976e-05\n",
            "\u001b[1m48/50\u001b[0m \u001b[32m━━━━━━━━━━━━━━━━━━━\u001b[0m\u001b[37m━\u001b[0m \u001b[1m0s\u001b[0m 25ms/step - accuracy: 0.5031 - loss: 1.3922"
          ]
        },
        {
          "metadata": {
            "tags": null
          },
          "name": "stderr",
          "output_type": "stream",
          "text": [
            "[I 2024-08-07 14:06:39,598] Trial 21 pruned. Trial was pruned at epoch 0.\n"
          ]
        },
        {
          "metadata": {
            "tags": null
          },
          "name": "stdout",
          "output_type": "stream",
          "text": [
            "Trial 22 started with hyperparameters: num_layers=4, filters=[116, 47, 33, 115], kernel_size=2, l1=0.002379682429173295, l2=3.256963970332294e-05, dense_units=154, dropout_rate=0.2926285937854133, learning_rate=0.00011645831388997764\n",
            "\u001b[1m50/50\u001b[0m \u001b[32m━━━━━━━━━━━━━━━━━━━━\u001b[0m\u001b[37m\u001b[0m \u001b[1m10s\u001b[0m 79ms/step - accuracy: 0.5087 - loss: 5.9402 - val_accuracy: 0.4825 - val_loss: 5.5057\n",
            "\u001b[1m50/50\u001b[0m \u001b[32m━━━━━━━━━━━━━━━━━━━━\u001b[0m\u001b[37m\u001b[0m \u001b[1m1s\u001b[0m 29ms/step - accuracy: 0.5143 - loss: 5.3657 - val_accuracy: 0.5150 - val_loss: 4.9576\n",
            "\u001b[1m50/50\u001b[0m \u001b[32m━━━━━━━━━━━━━━━━━━━━\u001b[0m\u001b[37m\u001b[0m \u001b[1m1s\u001b[0m 29ms/step - accuracy: 0.5314 - loss: 4.8277 - val_accuracy: 0.4725 - val_loss: 4.4525\n",
            "\u001b[1m50/50\u001b[0m \u001b[32m━━━━━━━━━━━━━━━━━━━━\u001b[0m\u001b[37m\u001b[0m \u001b[1m1s\u001b[0m 29ms/step - accuracy: 0.5277 - loss: 4.3286 - val_accuracy: 0.6550 - val_loss: 3.9762\n",
            "\u001b[1m50/50\u001b[0m \u001b[32m━━━━━━━━━━━━━━━━━━━━\u001b[0m\u001b[37m\u001b[0m \u001b[1m1s\u001b[0m 29ms/step - accuracy: 0.5947 - loss: 3.8649 - val_accuracy: 0.7050 - val_loss: 3.5410\n",
            "\u001b[1m50/50\u001b[0m \u001b[32m━━━━━━━━━━━━━━━━━━━━\u001b[0m\u001b[37m\u001b[0m \u001b[1m1s\u001b[0m 28ms/step - accuracy: 0.5815 - loss: 3.4406 - val_accuracy: 0.4950 - val_loss: 3.1485\n",
            "\u001b[1m50/50\u001b[0m \u001b[32m━━━━━━━━━━━━━━━━━━━━\u001b[0m\u001b[37m\u001b[0m \u001b[1m1s\u001b[0m 29ms/step - accuracy: 0.5365 - loss: 3.0529 - val_accuracy: 0.6737 - val_loss: 2.7840\n",
            "\u001b[1m50/50\u001b[0m \u001b[32m━━━━━━━━━━━━━━━━━━━━\u001b[0m\u001b[37m\u001b[0m \u001b[1m1s\u001b[0m 29ms/step - accuracy: 0.5410 - loss: 2.7029 - val_accuracy: 0.4787 - val_loss: 2.4588\n",
            "\u001b[1m50/50\u001b[0m \u001b[32m━━━━━━━━━━━━━━━━━━━━\u001b[0m\u001b[37m\u001b[0m \u001b[1m1s\u001b[0m 28ms/step - accuracy: 0.5429 - loss: 2.3791 - val_accuracy: 0.6400 - val_loss: 2.1569\n",
            "\u001b[1m125/125\u001b[0m \u001b[32m━━━━━━━━━━━━━━━━━━━━\u001b[0m\u001b[37m\u001b[0m \u001b[1m1s\u001b[0m 5ms/step - accuracy: 0.6475 - loss: 2.1574\n"
          ]
        },
        {
          "metadata": {
            "tags": null
          },
          "name": "stderr",
          "output_type": "stream",
          "text": [
            "[I 2024-08-07 14:21:24,239] Trial 22 finished with value: 0.6414999961853027 and parameters: {'num_layers': 4, 'filters_0': 116, 'filters_1': 47, 'filters_2': 33, 'filters_3': 115, 'kernel_size': 2, 'l1': 0.002379682429173295, 'l2': 3.256963970332294e-05, 'dense_units': 154, 'dropout_rate': 0.2926285937854133, 'learning_rate': 0.00011645831388997764}. Best is trial 1 with value: 0.8305000066757202.\n"
          ]
        },
        {
          "metadata": {
            "tags": null
          },
          "name": "stdout",
          "output_type": "stream",
          "text": [
            "Trial 23 started with hyperparameters: num_layers=5, filters=[82, 51, 43, 81, 60], kernel_size=2, l1=8.947570210698326e-05, l2=0.00010240212929696655, dense_units=217, dropout_rate=0.3617580402633632, learning_rate=4.363475519779985e-05\n",
            "\u001b[1m49/50\u001b[0m \u001b[32m━━━━━━━━━━━━━━━━━━━\u001b[0m\u001b[37m━\u001b[0m \u001b[1m0s\u001b[0m 19ms/step - accuracy: 0.4905 - loss: 1.0066"
          ]
        },
        {
          "metadata": {
            "tags": null
          },
          "name": "stderr",
          "output_type": "stream",
          "text": [
            "[I 2024-08-07 14:23:01,734] Trial 23 pruned. Trial was pruned at epoch 0.\n"
          ]
        },
        {
          "metadata": {
            "tags": null
          },
          "name": "stdout",
          "output_type": "stream",
          "text": [
            "Trial 24 started with hyperparameters: num_layers=3, filters=[127, 57, 59], kernel_size=2, l1=0.0012652505076573718, l2=9.325025821539535e-06, dense_units=128, dropout_rate=0.3048863924204667, learning_rate=1.921208275515873e-05\n",
            "\u001b[1m48/50\u001b[0m \u001b[32m━━━━━━━━━━━━━━━━━━━\u001b[0m\u001b[37m━\u001b[0m \u001b[1m0s\u001b[0m 23ms/step - accuracy: 0.4987 - loss: 3.3209"
          ]
        },
        {
          "metadata": {
            "tags": null
          },
          "name": "stderr",
          "output_type": "stream",
          "text": [
            "[I 2024-08-07 14:24:37,622] Trial 24 pruned. Trial was pruned at epoch 0.\n"
          ]
        },
        {
          "metadata": {
            "tags": null
          },
          "name": "stdout",
          "output_type": "stream",
          "text": [
            "Trial 25 started with hyperparameters: num_layers=4, filters=[99, 71, 127, 96], kernel_size=2, l1=0.00048100338879541365, l2=0.0006418062239067246, dense_units=84, dropout_rate=0.449731491995233, learning_rate=0.00018071832566231508\n",
            "\u001b[1m50/50\u001b[0m \u001b[32m━━━━━━━━━━━━━━━━━━━━\u001b[0m\u001b[37m\u001b[0m \u001b[1m0s\u001b[0m 24ms/step - accuracy: 0.4979 - loss: 3.1323"
          ]
        },
        {
          "metadata": {
            "tags": null
          },
          "name": "stderr",
          "output_type": "stream",
          "text": [
            "[I 2024-08-07 14:26:15,278] Trial 25 pruned. Trial was pruned at epoch 0.\n"
          ]
        },
        {
          "metadata": {
            "tags": null
          },
          "name": "stdout",
          "output_type": "stream",
          "text": [
            "Trial 26 started with hyperparameters: num_layers=5, filters=[42, 89, 79, 113, 95], kernel_size=3, l1=0.00019308907199944852, l2=3.0684619890030464e-06, dense_units=163, dropout_rate=0.3853723585127579, learning_rate=8.033957212460796e-05\n",
            "\u001b[1m49/50\u001b[0m \u001b[32m━━━━━━━━━━━━━━━━━━━\u001b[0m\u001b[37m━\u001b[0m \u001b[1m0s\u001b[0m 19ms/step - accuracy: 0.4945 - loss: 2.2670"
          ]
        },
        {
          "metadata": {
            "tags": null
          },
          "name": "stderr",
          "output_type": "stream",
          "text": [
            "[I 2024-08-07 14:27:54,422] Trial 26 pruned. Trial was pruned at epoch 0.\n"
          ]
        },
        {
          "metadata": {
            "tags": null
          },
          "name": "stdout",
          "output_type": "stream",
          "text": [
            "Trial 27 started with hyperparameters: num_layers=4, filters=[110, 121, 107, 53], kernel_size=2, l1=6.991225904893969e-05, l2=5.55462608648237e-05, dense_units=101, dropout_rate=0.22159412893510158, learning_rate=3.646330556555569e-05\n",
            "\u001b[1m49/50\u001b[0m \u001b[32m━━━━━━━━━━━━━━━━━━━\u001b[0m\u001b[37m━\u001b[0m \u001b[1m0s\u001b[0m 27ms/step - accuracy: 0.5129 - loss: 1.0826"
          ]
        },
        {
          "metadata": {
            "tags": null
          },
          "name": "stderr",
          "output_type": "stream",
          "text": [
            "[I 2024-08-07 14:29:31,545] Trial 27 pruned. Trial was pruned at epoch 0.\n"
          ]
        },
        {
          "metadata": {
            "tags": null
          },
          "name": "stdout",
          "output_type": "stream",
          "text": [
            "Trial 28 started with hyperparameters: num_layers=3, filters=[57, 33, 47], kernel_size=3, l1=1.7023647466315208e-05, l2=0.00034844497107361166, dense_units=68, dropout_rate=0.32752139211669795, learning_rate=0.00028260713894674656\n",
            "\u001b[1m48/50\u001b[0m \u001b[32m━━━━━━━━━━━━━━━━━━━\u001b[0m\u001b[37m━\u001b[0m \u001b[1m0s\u001b[0m 15ms/step - accuracy: 0.5085 - loss: 0.7454"
          ]
        },
        {
          "metadata": {
            "tags": null
          },
          "name": "stderr",
          "output_type": "stream",
          "text": [
            "[I 2024-08-07 14:31:06,307] Trial 28 pruned. Trial was pruned at epoch 0.\n"
          ]
        },
        {
          "metadata": {
            "tags": null
          },
          "name": "stdout",
          "output_type": "stream",
          "text": [
            "Trial 29 started with hyperparameters: num_layers=5, filters=[70, 75, 89, 88, 47], kernel_size=2, l1=0.0004949788023177079, l2=0.0019301238242910037, dense_units=200, dropout_rate=0.36358587244813667, learning_rate=6.039268774173777e-05\n",
            "\u001b[1m49/50\u001b[0m \u001b[32m━━━━━━━━━━━━━━━━━━━\u001b[0m\u001b[37m━\u001b[0m \u001b[1m0s\u001b[0m 20ms/step - accuracy: 0.5166 - loss: 3.5590"
          ]
        },
        {
          "metadata": {
            "tags": null
          },
          "name": "stderr",
          "output_type": "stream",
          "text": [
            "[I 2024-08-07 14:32:43,270] Trial 29 pruned. Trial was pruned at epoch 0.\n"
          ]
        },
        {
          "metadata": {
            "tags": null
          },
          "name": "stdout",
          "output_type": "stream",
          "text": [
            "Best trial:\n",
            "Value: 0.8305000066757202\n",
            "Params: \n",
            "    num_layers: 5\n",
            "    filters_0: 85\n",
            "    filters_1: 119\n",
            "    filters_2: 99\n",
            "    filters_3: 115\n",
            "    filters_4: 54\n",
            "    kernel_size: 3\n",
            "    l1: 0.00020959985382232806\n",
            "    l2: 0.00010741242396156945\n",
            "    dense_units: 69\n",
            "    dropout_rate: 0.29601406545155096\n",
            "    learning_rate: 0.00013314057394016722\n",
            "Elapsed time: 13232.99 seconds\n"
          ]
        }
      ]
    },
    {
      "cell_type": "code",
      "source": [
        "!pwd"
      ],
      "metadata": {
        "id": "9GOT_x5-bONH",
        "outputId": "4d4ddf2a-2c56-45af-9e80-58ab26ae3d3e",
        "colab": {
          "base_uri": "https://localhost:8080/"
        }
      },
      "execution_count": 2,
      "outputs": [
        {
          "output_type": "stream",
          "name": "stdout",
          "text": [
            "/content\n"
          ]
        }
      ]
    }
  ]
}