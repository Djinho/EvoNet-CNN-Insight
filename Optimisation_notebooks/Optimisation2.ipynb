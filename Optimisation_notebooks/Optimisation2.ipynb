{
  "nbformat": 4,
  "nbformat_minor": 0,
  "metadata": {
    "colab": {
      "provenance": [],
      "machine_shape": "hm",
      "gpuType": "L4"
    },
    "kernelspec": {
      "name": "python3",
      "display_name": "Python 3"
    },
    "language_info": {
      "name": "python"
    },
    "accelerator": "GPU"
  },
  "cells": [
    {
      "cell_type": "markdown",
      "source": [
        "**Bayesian Optimization for Evolutionary Scenarios**\n",
        "\n",
        "Bayesian Optimization for all 9 selection scenarios\n",
        "\n",
        "**Number of Trials: 50**\n",
        "\n",
        "**Number of Simulations Used: 40,000**\n",
        "\n",
        "**GPU Used: A100**"
      ],
      "metadata": {
        "id": "9LlA-VuXYO9a"
      }
    },
    {
      "cell_type": "code",
      "execution_count": null,
      "metadata": {
        "colab": {
          "base_uri": "https://localhost:8080/"
        },
        "id": "7Thsi7YMYNnj",
        "outputId": "1e2d4d28-1419-479e-e342-f02d73e4f0c3"
      },
      "outputs": [
        {
          "output_type": "stream",
          "name": "stdout",
          "text": [
            "Cloning into 'EvoNet-CNN-Insight'...\n",
            "remote: Enumerating objects: 6054, done.\u001b[K\n",
            "remote: Counting objects: 100% (1675/1675), done.\u001b[K\n",
            "remote: Compressing objects: 100% (1039/1039), done.\u001b[K\n",
            "remote: Total 6054 (delta 722), reused 1525 (delta 618), pack-reused 4379 (from 1)\u001b[K\n",
            "Receiving objects: 100% (6054/6054), 8.08 GiB | 46.71 MiB/s, done.\n",
            "Resolving deltas: 100% (2313/2313), done.\n",
            "Updating files: 100% (216/216), done.\n",
            "/content/EvoNet-CNN-Insight/Optimisation_notebooks\n"
          ]
        }
      ],
      "source": [
        "\n",
        "!git clone https://github.com/Djinho/EvoNet-CNN-Insight.git\n",
        "\n",
        "# Navigate to the cloned repository\n",
        "%cd EvoNet-CNN-Insight/Optimisation_notebooks"
      ]
    },
    {
      "cell_type": "code",
      "source": [
        "\n",
        "!pip install optuna\n",
        "!pip install optuna-integration"
      ],
      "metadata": {
        "colab": {
          "base_uri": "https://localhost:8080/"
        },
        "id": "wKfpCApeaCKn",
        "outputId": "3ec47f88-77ac-4de6-ef87-55f3175e8c7b"
      },
      "execution_count": 2,
      "outputs": [
        {
          "output_type": "stream",
          "name": "stdout",
          "text": [
            "Collecting optuna\n",
            "  Downloading optuna-3.6.1-py3-none-any.whl.metadata (17 kB)\n",
            "Collecting alembic>=1.5.0 (from optuna)\n",
            "  Downloading alembic-1.13.2-py3-none-any.whl.metadata (7.4 kB)\n",
            "Collecting colorlog (from optuna)\n",
            "  Downloading colorlog-6.8.2-py3-none-any.whl.metadata (10 kB)\n",
            "Requirement already satisfied: numpy in /usr/local/lib/python3.10/dist-packages (from optuna) (1.26.4)\n",
            "Requirement already satisfied: packaging>=20.0 in /usr/local/lib/python3.10/dist-packages (from optuna) (24.1)\n",
            "Requirement already satisfied: sqlalchemy>=1.3.0 in /usr/local/lib/python3.10/dist-packages (from optuna) (2.0.32)\n",
            "Requirement already satisfied: tqdm in /usr/local/lib/python3.10/dist-packages (from optuna) (4.66.5)\n",
            "Requirement already satisfied: PyYAML in /usr/local/lib/python3.10/dist-packages (from optuna) (6.0.2)\n",
            "Collecting Mako (from alembic>=1.5.0->optuna)\n",
            "  Downloading Mako-1.3.5-py3-none-any.whl.metadata (2.9 kB)\n",
            "Requirement already satisfied: typing-extensions>=4 in /usr/local/lib/python3.10/dist-packages (from alembic>=1.5.0->optuna) (4.12.2)\n",
            "Requirement already satisfied: greenlet!=0.4.17 in /usr/local/lib/python3.10/dist-packages (from sqlalchemy>=1.3.0->optuna) (3.0.3)\n",
            "Requirement already satisfied: MarkupSafe>=0.9.2 in /usr/local/lib/python3.10/dist-packages (from Mako->alembic>=1.5.0->optuna) (2.1.5)\n",
            "Downloading optuna-3.6.1-py3-none-any.whl (380 kB)\n",
            "\u001b[2K   \u001b[90m━━━━━━━━━━━━━━━━━━━━━━━━━━━━━━━━━━━━━━━━\u001b[0m \u001b[32m380.1/380.1 kB\u001b[0m \u001b[31m23.9 MB/s\u001b[0m eta \u001b[36m0:00:00\u001b[0m\n",
            "\u001b[?25hDownloading alembic-1.13.2-py3-none-any.whl (232 kB)\n",
            "\u001b[2K   \u001b[90m━━━━━━━━━━━━━━━━━━━━━━━━━━━━━━━━━━━━━━━━\u001b[0m \u001b[32m233.0/233.0 kB\u001b[0m \u001b[31m18.7 MB/s\u001b[0m eta \u001b[36m0:00:00\u001b[0m\n",
            "\u001b[?25hDownloading colorlog-6.8.2-py3-none-any.whl (11 kB)\n",
            "Downloading Mako-1.3.5-py3-none-any.whl (78 kB)\n",
            "\u001b[2K   \u001b[90m━━━━━━━━━━━━━━━━━━━━━━━━━━━━━━━━━━━━━━━━\u001b[0m \u001b[32m78.6/78.6 kB\u001b[0m \u001b[31m6.8 MB/s\u001b[0m eta \u001b[36m0:00:00\u001b[0m\n",
            "\u001b[?25hInstalling collected packages: Mako, colorlog, alembic, optuna\n",
            "Successfully installed Mako-1.3.5 alembic-1.13.2 colorlog-6.8.2 optuna-3.6.1\n",
            "Collecting optuna-integration\n",
            "  Downloading optuna_integration-3.6.0-py3-none-any.whl.metadata (10 kB)\n",
            "Requirement already satisfied: optuna in /usr/local/lib/python3.10/dist-packages (from optuna-integration) (3.6.1)\n",
            "Requirement already satisfied: alembic>=1.5.0 in /usr/local/lib/python3.10/dist-packages (from optuna->optuna-integration) (1.13.2)\n",
            "Requirement already satisfied: colorlog in /usr/local/lib/python3.10/dist-packages (from optuna->optuna-integration) (6.8.2)\n",
            "Requirement already satisfied: numpy in /usr/local/lib/python3.10/dist-packages (from optuna->optuna-integration) (1.26.4)\n",
            "Requirement already satisfied: packaging>=20.0 in /usr/local/lib/python3.10/dist-packages (from optuna->optuna-integration) (24.1)\n",
            "Requirement already satisfied: sqlalchemy>=1.3.0 in /usr/local/lib/python3.10/dist-packages (from optuna->optuna-integration) (2.0.32)\n",
            "Requirement already satisfied: tqdm in /usr/local/lib/python3.10/dist-packages (from optuna->optuna-integration) (4.66.5)\n",
            "Requirement already satisfied: PyYAML in /usr/local/lib/python3.10/dist-packages (from optuna->optuna-integration) (6.0.2)\n",
            "Requirement already satisfied: Mako in /usr/local/lib/python3.10/dist-packages (from alembic>=1.5.0->optuna->optuna-integration) (1.3.5)\n",
            "Requirement already satisfied: typing-extensions>=4 in /usr/local/lib/python3.10/dist-packages (from alembic>=1.5.0->optuna->optuna-integration) (4.12.2)\n",
            "Requirement already satisfied: greenlet!=0.4.17 in /usr/local/lib/python3.10/dist-packages (from sqlalchemy>=1.3.0->optuna->optuna-integration) (3.0.3)\n",
            "Requirement already satisfied: MarkupSafe>=0.9.2 in /usr/local/lib/python3.10/dist-packages (from Mako->alembic>=1.5.0->optuna->optuna-integration) (2.1.5)\n",
            "Downloading optuna_integration-3.6.0-py3-none-any.whl (93 kB)\n",
            "\u001b[2K   \u001b[90m━━━━━━━━━━━━━━━━━━━━━━━━━━━━━━━━━━━━━━━━\u001b[0m \u001b[32m93.4/93.4 kB\u001b[0m \u001b[31m7.4 MB/s\u001b[0m eta \u001b[36m0:00:00\u001b[0m\n",
            "\u001b[?25hInstalling collected packages: optuna-integration\n",
            "Successfully installed optuna-integration-3.6.0\n"
          ]
        }
      ]
    },
    {
      "cell_type": "code",
      "source": [
        "import optuna\n",
        "import tensorflow as tf\n",
        "from tensorflow.keras import models, layers, regularizers, callbacks\n",
        "from tensorflow.keras.callbacks import EarlyStopping\n",
        "from sklearn.model_selection import train_test_split\n",
        "from sklearn.metrics import accuracy_score\n",
        "import numpy as np\n",
        "import logging\n",
        "import os\n",
        "import time\n",
        "import gzip\n",
        "import skimage.transform\n",
        "from optuna.integration import TFKerasPruningCallback"
      ],
      "metadata": {
        "id": "8zrYIXPkaFj-"
      },
      "execution_count": 3,
      "outputs": []
    },
    {
      "cell_type": "code",
      "source": [
        "\n",
        "%run -i ../ImaGene.py\n"
      ],
      "metadata": {
        "id": "KsL3dYFraI_O"
      },
      "execution_count": 4,
      "outputs": []
    },
    {
      "cell_type": "code",
      "source": [],
      "metadata": {
        "id": "nnkdeva9aRFG"
      },
      "execution_count": null,
      "outputs": []
    },
    {
      "cell_type": "code",
      "source": [
        "# Configure logging to file in the current directory with the specified name\n",
        "logging.basicConfig(filename='Ancient_Scenarios_AM.log', level=logging.INFO,\n",
        "                    format='%(asctime)s:%(levelname)s:%(message)s')\n",
        "\n",
        "# Function to preprocess data\n",
        "def preprocess_data(simulations_folder, batch_number):\n",
        "    # Create ImaFile object for the specified simulation folder and model\n",
        "    file_sim = ImaFile(simulations_folder=os.path.join(simulations_folder, f'Simulations{batch_number}'), nr_samples=198, model_name='Marth-3epoch-CEU')\n",
        "\n",
        "    # Read the simulation data\n",
        "    gene_sim = file_sim.read_simulations(parameter_name='selection_coeff_hetero', max_nrepl=4000)\n",
        "\n",
        "    # Filter simulations based on frequency threshold\n",
        "    gene_sim.filter_freq(0.01)\n",
        "\n",
        "    # Sort simulations by row frequency\n",
        "    gene_sim.sort('rows_freq')\n",
        "\n",
        "    # Resize simulation data to the required dimensions\n",
        "    gene_sim.resize((198, 192))\n",
        "\n",
        "    # Convert simulation data (flip=True allows for data augmentation)\n",
        "    gene_sim.convert(flip=True)\n",
        "\n",
        "    # Get a random subset of indices and subset the simulation data\n",
        "    gene_sim.subset(get_index_random(gene_sim))\n",
        "\n",
        "    # Convert targets to binary format\n",
        "    gene_sim.targets = to_binary(gene_sim.targets)\n",
        "\n",
        "    return gene_sim\n",
        "\n",
        "# Objective function for Optuna optimization\n",
        "def objective(trial, simulations_folder, epochs=1):\n",
        "    # Set random seed\n",
        "    np.random.seed(42)\n",
        "    tf.random.set_seed(42)\n",
        "\n",
        "    # Hyperparameters to be optimized\n",
        "    num_layers = trial.suggest_int('num_layers', 3, 6)  # Limit the number of layers to avoid excessive reduction\n",
        "    filters = [trial.suggest_int(f'filters_{i}', 32, 128) for i in range(num_layers)]  # Adjust filters range\n",
        "    kernel_size = trial.suggest_int('kernel_size', 2, 3)  # Limit the kernel size to avoid excessive reduction\n",
        "    l1 = trial.suggest_float('l1', 1e-6, 1e-2, log=True)\n",
        "    l2 = trial.suggest_float('l2', 1e-6, 1e-2, log=True)\n",
        "    dense_units = trial.suggest_int('dense_units', 64, 256)  # Adjust dense units range\n",
        "    dropout_rate = trial.suggest_float('dropout_rate', 0.1, 0.5)\n",
        "    learning_rate = trial.suggest_float('learning_rate', 1e-5, 1e-3, log=True)\n",
        "\n",
        "    # Log the hyperparameters at the start of each trial\n",
        "    logging.info(f'Trial {trial.number} started with hyperparameters: num_layers={num_layers}, filters={filters}, '\n",
        "                 f'kernel_size={kernel_size}, l1={l1}, l2={l2}, dense_units={dense_units}, '\n",
        "                 f'dropout_rate={dropout_rate}, learning_rate={learning_rate}')\n",
        "    print(f'Trial {trial.number} started with hyperparameters: num_layers={num_layers}, filters={filters}, '\n",
        "          f'kernel_size={kernel_size}, l1={l1}, l2={l2}, dense_units={dense_units}, '\n",
        "          f'dropout_rate={dropout_rate}, learning_rate={learning_rate}')\n",
        "\n",
        "    # Building the model based on sampled hyperparameters\n",
        "    model = models.Sequential()\n",
        "    model.add(layers.Input(shape=(198, 192, 1)))  # Define the input layer\n",
        "    for i in range(num_layers):\n",
        "        model.add(layers.Conv2D(filters=filters[i], kernel_size=(kernel_size, kernel_size), strides=(1, 1), activation='relu',\n",
        "                                kernel_regularizer=regularizers.l1_l2(l1=l1, l2=l2), padding='same'))  # Use 'same' padding to avoid dimension issues\n",
        "        model.add(layers.MaxPooling2D(pool_size=(2, 2)))\n",
        "\n",
        "    model.add(layers.Flatten())  # Flatten the output for the Dense layers\n",
        "    model.add(layers.Dense(units=dense_units, activation='relu'))  # Add Dense layer\n",
        "    model.add(layers.Dropout(rate=dropout_rate))  # Add Dropout layer\n",
        "    model.add(layers.Dense(units=1, activation='sigmoid'))  # Output layer with sigmoid activation\n",
        "\n",
        "    optimizer = tf.keras.optimizers.Adam(learning_rate=learning_rate)  # Define optimizer\n",
        "    model.compile(optimizer=optimizer, loss='binary_crossentropy', metrics=['accuracy'])  # Compile the model\n",
        "\n",
        "    # Pruning callback to terminate unpromising trials\n",
        "    pruning_callback = TFKerasPruningCallback(trial, 'val_loss')\n",
        "\n",
        "    # Early stopping to prevent overfitting\n",
        "    early_stopping = EarlyStopping(monitor='val_loss', patience=3, restore_best_weights=True)\n",
        "\n",
        "    # Incremental training on 9 batches\n",
        "    best_val_loss = np.inf  # Track the best validation loss\n",
        "    for batch_number in range(1, 10):\n",
        "        gene_sim = preprocess_data(simulations_folder, batch_number)  # Preprocess data\n",
        "        history = model.fit(gene_sim.data, gene_sim.targets, batch_size=64, epochs=epochs, verbose=1, validation_split=0.2,\n",
        "                            callbacks=[early_stopping, pruning_callback])  # Train the model with callbacks\n",
        "\n",
        "        # Get the validation loss for the current epoch\n",
        "        val_loss = min(history.history['val_loss'])\n",
        "        if val_loss < best_val_loss:\n",
        "            best_val_loss = val_loss\n",
        "            trial.report(val_loss, batch_number)\n",
        "            if trial.should_prune():\n",
        "                raise optuna.exceptions.TrialPruned()\n",
        "\n",
        "    # Evaluate the model on the 10th batch\n",
        "    gene_sim = preprocess_data(simulations_folder, 10)\n",
        "    evaluation = model.evaluate(gene_sim.data, gene_sim.targets, verbose=1)\n",
        "    return evaluation[1]  # Return the accuracy\n",
        "\n",
        "# Function to run the optimization process\n",
        "def run_optimization():\n",
        "    start_time = time.time()  # Record start time\n",
        "\n",
        "    simulations_folder = '/content/EvoNet-CNN-Insight/model_training/Ancient_moderate/AM'  # Folder for this dataset\n",
        "    logging.info(f\"Starting optimization for {simulations_folder}\")\n",
        "    print(f\"Starting optimization for {simulations_folder}\")\n",
        "\n",
        "    # Create an Optuna study and optimize the objective function\n",
        "    study = optuna.create_study(direction='maximize', pruner=optuna.pruners.MedianPruner(), storage='sqlite:///am_study.db', load_if_exists=True)  # Use SQLite storage\n",
        "    study.optimize(lambda trial: objective(trial, simulations_folder), n_trials=50)  # Set to 50 trials\n",
        "\n",
        "    try:\n",
        "        trial = study.best_trial\n",
        "        print('Best trial:')\n",
        "        print('Value: {}'.format(trial.value))\n",
        "        print('Params: ')\n",
        "        for key, value in trial.params.items():\n",
        "            print('    {}: {}'.format(key, value))  # Print best trial parameters\n",
        "\n",
        "        logging.info('Best trial:')\n",
        "        logging.info('Value: {}'.format(trial.value))\n",
        "        logging.info('Params: ')\n",
        "        for key, value in trial.params.items():\n",
        "            logging.info('    {}: {}'.format(key, value))  # Log best trial parameters\n",
        "\n",
        "    except ValueError as e:\n",
        "        logging.error(f\"No completed trials: {e}\")  # Log error if no trials are completed\n",
        "\n",
        "    elapsed_time = time.time() - start_time  # Calculate elapsed time\n",
        "    print(f\"Elapsed time: {elapsed_time:.2f} seconds\")\n",
        "    logging.info(f\"Elapsed time: {elapsed_time:.2f} seconds\")  # Log elapsed time\n",
        "\n",
        "# Run the optimization process\n",
        "if __name__ == '__main__':\n",
        "    run_optimization()  # Execute the optimization function\n"
      ],
      "metadata": {
        "colab": {
          "base_uri": "https://localhost:8080/"
        },
        "id": "5uxWUypfaRau",
        "outputId": "3be4b393-5879-424e-df65-7f8ce57c6d69"
      },
      "execution_count": null,
      "outputs": [
        {
          "output_type": "stream",
          "name": "stdout",
          "text": [
            "Starting optimization for /content/EvoNet-CNN-Insight/model_training/Ancient_moderate/AM\n"
          ]
        },
        {
          "output_type": "stream",
          "name": "stderr",
          "text": [
            "[I 2024-08-11 21:04:32,025] A new study created in RDB with name: no-name-c492fb7f-dc7c-4412-9dbd-8d7338bfea6c\n"
          ]
        },
        {
          "output_type": "stream",
          "name": "stdout",
          "text": [
            "Trial 0 started with hyperparameters: num_layers=6, filters=[55, 60, 87, 50, 64, 33], kernel_size=2, l1=0.00035664681070305104, l2=0.0005729901632281326, dense_units=193, dropout_rate=0.3107556174793292, learning_rate=1.690623670619887e-05\n",
            "\u001b[1m50/50\u001b[0m \u001b[32m━━━━━━━━━━━━━━━━━━━━\u001b[0m\u001b[37m\u001b[0m \u001b[1m13s\u001b[0m 79ms/step - accuracy: 0.4912 - loss: 2.2807 - val_accuracy: 0.5175 - val_loss: 2.2617\n",
            "\u001b[1m50/50\u001b[0m \u001b[32m━━━━━━━━━━━━━━━━━━━━\u001b[0m\u001b[37m\u001b[0m \u001b[1m1s\u001b[0m 21ms/step - accuracy: 0.4865 - loss: 2.2570 - val_accuracy: 0.5200 - val_loss: 2.2383\n"
          ]
        },
        {
          "output_type": "stream",
          "name": "stderr",
          "text": [
            "/usr/local/lib/python3.10/dist-packages/optuna/trial/_trial.py:493: UserWarning: The reported value is ignored because this `step` 0 is already reported.\n",
            "  warnings.warn(\n"
          ]
        },
        {
          "output_type": "stream",
          "name": "stdout",
          "text": [
            "\u001b[1m50/50\u001b[0m \u001b[32m━━━━━━━━━━━━━━━━━━━━\u001b[0m\u001b[37m\u001b[0m \u001b[1m1s\u001b[0m 21ms/step - accuracy: 0.5119 - loss: 2.2325 - val_accuracy: 0.4725 - val_loss: 2.2162\n",
            "\u001b[1m50/50\u001b[0m \u001b[32m━━━━━━━━━━━━━━━━━━━━\u001b[0m\u001b[37m\u001b[0m \u001b[1m1s\u001b[0m 22ms/step - accuracy: 0.5042 - loss: 2.2096 - val_accuracy: 0.5150 - val_loss: 2.1921\n",
            "\u001b[1m50/50\u001b[0m \u001b[32m━━━━━━━━━━━━━━━━━━━━\u001b[0m\u001b[37m\u001b[0m \u001b[1m1s\u001b[0m 21ms/step - accuracy: 0.5149 - loss: 2.1866 - val_accuracy: 0.5225 - val_loss: 2.1693\n",
            "\u001b[1m50/50\u001b[0m \u001b[32m━━━━━━━━━━━━━━━━━━━━\u001b[0m\u001b[37m\u001b[0m \u001b[1m1s\u001b[0m 21ms/step - accuracy: 0.5344 - loss: 2.1640 - val_accuracy: 0.5275 - val_loss: 2.1474\n",
            "\u001b[1m50/50\u001b[0m \u001b[32m━━━━━━━━━━━━━━━━━━━━\u001b[0m\u001b[37m\u001b[0m \u001b[1m1s\u001b[0m 21ms/step - accuracy: 0.5222 - loss: 2.1422 - val_accuracy: 0.5962 - val_loss: 2.1251\n",
            "\u001b[1m50/50\u001b[0m \u001b[32m━━━━━━━━━━━━━━━━━━━━\u001b[0m\u001b[37m\u001b[0m \u001b[1m1s\u001b[0m 21ms/step - accuracy: 0.5661 - loss: 2.1198 - val_accuracy: 0.5987 - val_loss: 2.1034\n",
            "\u001b[1m50/50\u001b[0m \u001b[32m━━━━━━━━━━━━━━━━━━━━\u001b[0m\u001b[37m\u001b[0m \u001b[1m1s\u001b[0m 21ms/step - accuracy: 0.5483 - loss: 2.0986 - val_accuracy: 0.6137 - val_loss: 2.0821\n",
            "\u001b[1m125/125\u001b[0m \u001b[32m━━━━━━━━━━━━━━━━━━━━\u001b[0m\u001b[37m\u001b[0m \u001b[1m1s\u001b[0m 4ms/step - accuracy: 0.6110 - loss: 2.0821\n"
          ]
        },
        {
          "output_type": "stream",
          "name": "stderr",
          "text": [
            "[I 2024-08-11 21:18:35,205] Trial 0 finished with value: 0.6065000295639038 and parameters: {'num_layers': 6, 'filters_0': 55, 'filters_1': 60, 'filters_2': 87, 'filters_3': 50, 'filters_4': 64, 'filters_5': 33, 'kernel_size': 2, 'l1': 0.00035664681070305104, 'l2': 0.0005729901632281326, 'dense_units': 193, 'dropout_rate': 0.3107556174793292, 'learning_rate': 1.690623670619887e-05}. Best is trial 0 with value: 0.6065000295639038.\n"
          ]
        },
        {
          "output_type": "stream",
          "name": "stdout",
          "text": [
            "Trial 1 started with hyperparameters: num_layers=3, filters=[101, 116, 54], kernel_size=3, l1=0.0009986048540607797, l2=0.002627859757716432, dense_units=241, dropout_rate=0.21088086063305855, learning_rate=0.00023080165846634928\n",
            "\u001b[1m50/50\u001b[0m \u001b[32m━━━━━━━━━━━━━━━━━━━━\u001b[0m\u001b[37m\u001b[0m \u001b[1m12s\u001b[0m 89ms/step - accuracy: 0.5148 - loss: 5.5126 - val_accuracy: 0.5437 - val_loss: 4.3061\n",
            "\u001b[1m50/50\u001b[0m \u001b[32m━━━━━━━━━━━━━━━━━━━━\u001b[0m\u001b[37m\u001b[0m \u001b[1m2s\u001b[0m 32ms/step - accuracy: 0.6149 - loss: 3.9706 - val_accuracy: 0.6837 - val_loss: 3.0750\n",
            "\u001b[1m50/50\u001b[0m \u001b[32m━━━━━━━━━━━━━━━━━━━━\u001b[0m\u001b[37m\u001b[0m \u001b[1m2s\u001b[0m 32ms/step - accuracy: 0.6621 - loss: 2.8511 - val_accuracy: 0.6812 - val_loss: 2.2365\n",
            "\u001b[1m50/50\u001b[0m \u001b[32m━━━━━━━━━━━━━━━━━━━━\u001b[0m\u001b[37m\u001b[0m \u001b[1m2s\u001b[0m 33ms/step - accuracy: 0.6299 - loss: 2.1231 - val_accuracy: 0.7063 - val_loss: 1.6910\n",
            "\u001b[1m50/50\u001b[0m \u001b[32m━━━━━━━━━━━━━━━━━━━━\u001b[0m\u001b[37m\u001b[0m \u001b[1m2s\u001b[0m 33ms/step - accuracy: 0.6496 - loss: 1.6247 - val_accuracy: 0.6913 - val_loss: 1.3721\n",
            "\u001b[1m50/50\u001b[0m \u001b[32m━━━━━━━━━━━━━━━━━━━━\u001b[0m\u001b[37m\u001b[0m \u001b[1m2s\u001b[0m 33ms/step - accuracy: 0.6450 - loss: 1.3613 - val_accuracy: 0.7075 - val_loss: 1.2188\n",
            "\u001b[1m50/50\u001b[0m \u001b[32m━━━━━━━━━━━━━━━━━━━━\u001b[0m\u001b[37m\u001b[0m \u001b[1m2s\u001b[0m 32ms/step - accuracy: 0.6967 - loss: 1.1997 - val_accuracy: 0.6862 - val_loss: 1.1489\n",
            "\u001b[1m50/50\u001b[0m \u001b[32m━━━━━━━━━━━━━━━━━━━━\u001b[0m\u001b[37m\u001b[0m \u001b[1m2s\u001b[0m 33ms/step - accuracy: 0.6696 - loss: 1.1365 - val_accuracy: 0.6675 - val_loss: 1.0940\n",
            "\u001b[1m50/50\u001b[0m \u001b[32m━━━━━━━━━━━━━━━━━━━━\u001b[0m\u001b[37m\u001b[0m \u001b[1m2s\u001b[0m 32ms/step - accuracy: 0.6700 - loss: 1.0861 - val_accuracy: 0.7138 - val_loss: 1.0207\n",
            "\u001b[1m125/125\u001b[0m \u001b[32m━━━━━━━━━━━━━━━━━━━━\u001b[0m\u001b[37m\u001b[0m \u001b[1m1s\u001b[0m 5ms/step - accuracy: 0.7010 - loss: 1.0292\n"
          ]
        },
        {
          "output_type": "stream",
          "name": "stderr",
          "text": [
            "[I 2024-08-11 21:32:41,237] Trial 1 finished with value: 0.6942499876022339 and parameters: {'num_layers': 3, 'filters_0': 101, 'filters_1': 116, 'filters_2': 54, 'kernel_size': 3, 'l1': 0.0009986048540607797, 'l2': 0.002627859757716432, 'dense_units': 241, 'dropout_rate': 0.21088086063305855, 'learning_rate': 0.00023080165846634928}. Best is trial 1 with value: 0.6942499876022339.\n"
          ]
        },
        {
          "output_type": "stream",
          "name": "stdout",
          "text": [
            "Trial 2 started with hyperparameters: num_layers=5, filters=[101, 125, 126, 65, 52], kernel_size=2, l1=0.0005247649260976362, l2=5.5740227692451466e-05, dense_units=80, dropout_rate=0.3467266196564742, learning_rate=7.566885128723997e-05\n",
            "\u001b[1m50/50\u001b[0m \u001b[32m━━━━━━━━━━━━━━━━━━━━\u001b[0m\u001b[37m\u001b[0m \u001b[1m13s\u001b[0m 96ms/step - accuracy: 0.5034 - loss: 4.1769 - val_accuracy: 0.5625 - val_loss: 3.9600\n",
            "\u001b[1m50/50\u001b[0m \u001b[32m━━━━━━━━━━━━━━━━━━━━\u001b[0m\u001b[37m\u001b[0m \u001b[1m2s\u001b[0m 33ms/step - accuracy: 0.5260 - loss: 3.8908 - val_accuracy: 0.4863 - val_loss: 3.6872\n",
            "\u001b[1m50/50\u001b[0m \u001b[32m━━━━━━━━━━━━━━━━━━━━\u001b[0m\u001b[37m\u001b[0m \u001b[1m2s\u001b[0m 33ms/step - accuracy: 0.5605 - loss: 3.6217 - val_accuracy: 0.4988 - val_loss: 3.4357\n",
            "\u001b[1m50/50\u001b[0m \u001b[32m━━━━━━━━━━━━━━━━━━━━\u001b[0m\u001b[37m\u001b[0m \u001b[1m2s\u001b[0m 34ms/step - accuracy: 0.5420 - loss: 3.3719 - val_accuracy: 0.5150 - val_loss: 3.1866\n",
            "\u001b[1m50/50\u001b[0m \u001b[32m━━━━━━━━━━━━━━━━━━━━\u001b[0m\u001b[37m\u001b[0m \u001b[1m2s\u001b[0m 33ms/step - accuracy: 0.6015 - loss: 3.1300 - val_accuracy: 0.5775 - val_loss: 2.9556\n",
            "\u001b[1m50/50\u001b[0m \u001b[32m━━━━━━━━━━━━━━━━━━━━\u001b[0m\u001b[37m\u001b[0m \u001b[1m2s\u001b[0m 33ms/step - accuracy: 0.5985 - loss: 2.9113 - val_accuracy: 0.5725 - val_loss: 2.7728\n",
            "\u001b[1m50/50\u001b[0m \u001b[32m━━━━━━━━━━━━━━━━━━━━\u001b[0m\u001b[37m\u001b[0m \u001b[1m2s\u001b[0m 34ms/step - accuracy: 0.6151 - loss: 2.7059 - val_accuracy: 0.6325 - val_loss: 2.5712\n",
            "\u001b[1m50/50\u001b[0m \u001b[32m━━━━━━━━━━━━━━━━━━━━\u001b[0m\u001b[37m\u001b[0m \u001b[1m2s\u001b[0m 33ms/step - accuracy: 0.6427 - loss: 2.5201 - val_accuracy: 0.6187 - val_loss: 2.4031\n",
            "\u001b[1m50/50\u001b[0m \u001b[32m━━━━━━━━━━━━━━━━━━━━\u001b[0m\u001b[37m\u001b[0m \u001b[1m2s\u001b[0m 33ms/step - accuracy: 0.6243 - loss: 2.3605 - val_accuracy: 0.6662 - val_loss: 2.2355\n",
            "\u001b[1m125/125\u001b[0m \u001b[32m━━━━━━━━━━━━━━━━━━━━\u001b[0m\u001b[37m\u001b[0m \u001b[1m1s\u001b[0m 6ms/step - accuracy: 0.6653 - loss: 2.2384\n"
          ]
        },
        {
          "output_type": "stream",
          "name": "stderr",
          "text": [
            "[I 2024-08-11 21:46:47,489] Trial 2 finished with value: 0.6495000123977661 and parameters: {'num_layers': 5, 'filters_0': 101, 'filters_1': 125, 'filters_2': 126, 'filters_3': 65, 'filters_4': 52, 'kernel_size': 2, 'l1': 0.0005247649260976362, 'l2': 5.5740227692451466e-05, 'dense_units': 80, 'dropout_rate': 0.3467266196564742, 'learning_rate': 7.566885128723997e-05}. Best is trial 1 with value: 0.6942499876022339.\n"
          ]
        },
        {
          "output_type": "stream",
          "name": "stdout",
          "text": [
            "Trial 3 started with hyperparameters: num_layers=6, filters=[91, 63, 88, 117, 90, 102], kernel_size=2, l1=0.0001471663445242385, l2=1.4016363124151108e-06, dense_units=252, dropout_rate=0.11766010734232119, learning_rate=0.0007862862563853406\n",
            "\u001b[1m50/50\u001b[0m \u001b[32m━━━━━━━━━━━━━━━━━━━━\u001b[0m\u001b[37m\u001b[0m \u001b[1m12s\u001b[0m 89ms/step - accuracy: 0.5069 - loss: 1.6121 - val_accuracy: 0.5175 - val_loss: 1.1366\n",
            "\u001b[1m50/50\u001b[0m \u001b[32m━━━━━━━━━━━━━━━━━━━━\u001b[0m\u001b[37m\u001b[0m \u001b[1m1s\u001b[0m 27ms/step - accuracy: 0.5244 - loss: 1.0251 - val_accuracy: 0.4800 - val_loss: 0.7845\n",
            "\u001b[1m50/50\u001b[0m \u001b[32m━━━━━━━━━━━━━━━━━━━━\u001b[0m\u001b[37m\u001b[0m \u001b[1m1s\u001b[0m 27ms/step - accuracy: 0.4991 - loss: 0.7560 - val_accuracy: 0.4725 - val_loss: 0.7127\n",
            "\u001b[1m50/50\u001b[0m \u001b[32m━━━━━━━━━━━━━━━━━━━━\u001b[0m\u001b[37m\u001b[0m \u001b[1m1s\u001b[0m 27ms/step - accuracy: 0.4957 - loss: 0.7081 - val_accuracy: 0.5063 - val_loss: 0.6999\n",
            "\u001b[1m50/50\u001b[0m \u001b[32m━━━━━━━━━━━━━━━━━━━━\u001b[0m\u001b[37m\u001b[0m \u001b[1m1s\u001b[0m 28ms/step - accuracy: 0.4995 - loss: 0.6990 - val_accuracy: 0.5088 - val_loss: 0.6969\n",
            "\u001b[1m50/50\u001b[0m \u001b[32m━━━━━━━━━━━━━━━━━━━━\u001b[0m\u001b[37m\u001b[0m \u001b[1m1s\u001b[0m 27ms/step - accuracy: 0.4981 - loss: 0.6966 - val_accuracy: 0.5050 - val_loss: 0.6960\n",
            "\u001b[1m50/50\u001b[0m \u001b[32m━━━━━━━━━━━━━━━━━━━━\u001b[0m\u001b[37m\u001b[0m \u001b[1m1s\u001b[0m 27ms/step - accuracy: 0.4887 - loss: 0.6960 - val_accuracy: 0.4663 - val_loss: 0.6960\n",
            "\u001b[1m50/50\u001b[0m \u001b[32m━━━━━━━━━━━━━━━━━━━━\u001b[0m\u001b[37m\u001b[0m \u001b[1m1s\u001b[0m 27ms/step - accuracy: 0.5091 - loss: 0.6957 - val_accuracy: 0.4787 - val_loss: 0.6959\n",
            "\u001b[1m50/50\u001b[0m \u001b[32m━━━━━━━━━━━━━━━━━━━━\u001b[0m\u001b[37m\u001b[0m \u001b[1m1s\u001b[0m 27ms/step - accuracy: 0.5066 - loss: 0.6956 - val_accuracy: 0.5025 - val_loss: 0.6956\n",
            "\u001b[1m125/125\u001b[0m \u001b[32m━━━━━━━━━━━━━━━━━━━━\u001b[0m\u001b[37m\u001b[0m \u001b[1m1s\u001b[0m 5ms/step - accuracy: 0.4971 - loss: 0.6956\n"
          ]
        },
        {
          "output_type": "stream",
          "name": "stderr",
          "text": [
            "[I 2024-08-11 22:00:49,929] Trial 3 finished with value: 0.5 and parameters: {'num_layers': 6, 'filters_0': 91, 'filters_1': 63, 'filters_2': 88, 'filters_3': 117, 'filters_4': 90, 'filters_5': 102, 'kernel_size': 2, 'l1': 0.0001471663445242385, 'l2': 1.4016363124151108e-06, 'dense_units': 252, 'dropout_rate': 0.11766010734232119, 'learning_rate': 0.0007862862563853406}. Best is trial 1 with value: 0.6942499876022339.\n"
          ]
        },
        {
          "output_type": "stream",
          "name": "stdout",
          "text": [
            "Trial 4 started with hyperparameters: num_layers=5, filters=[65, 128, 77, 48, 127], kernel_size=2, l1=5.39171365329603e-06, l2=0.000508098182990793, dense_units=122, dropout_rate=0.44775481260866545, learning_rate=0.00023021217142648836\n",
            "\u001b[1m50/50\u001b[0m \u001b[32m━━━━━━━━━━━━━━━━━━━━\u001b[0m\u001b[37m\u001b[0m \u001b[1m11s\u001b[0m 82ms/step - accuracy: 0.5052 - loss: 0.8700 - val_accuracy: 0.4825 - val_loss: 0.8408\n",
            "\u001b[1m50/50\u001b[0m \u001b[32m━━━━━━━━━━━━━━━━━━━━\u001b[0m\u001b[37m\u001b[0m \u001b[1m1s\u001b[0m 26ms/step - accuracy: 0.5252 - loss: 0.8306 - val_accuracy: 0.6600 - val_loss: 0.7767\n",
            "\u001b[1m50/50\u001b[0m \u001b[32m━━━━━━━━━━━━━━━━━━━━\u001b[0m\u001b[37m\u001b[0m \u001b[1m1s\u001b[0m 26ms/step - accuracy: 0.6258 - loss: 0.7596 - val_accuracy: 0.6787 - val_loss: 0.7007\n",
            "\u001b[1m50/50\u001b[0m \u001b[32m━━━━━━━━━━━━━━━━━━━━\u001b[0m\u001b[37m\u001b[0m \u001b[1m1s\u001b[0m 26ms/step - accuracy: 0.6415 - loss: 0.7069 - val_accuracy: 0.7013 - val_loss: 0.6433\n",
            "\u001b[1m50/50\u001b[0m \u001b[32m━━━━━━━━━━━━━━━━━━━━\u001b[0m\u001b[37m\u001b[0m \u001b[1m1s\u001b[0m 26ms/step - accuracy: 0.6849 - loss: 0.6692 - val_accuracy: 0.7225 - val_loss: 0.6261\n",
            "\u001b[1m50/50\u001b[0m \u001b[32m━━━━━━━━━━━━━━━━━━━━\u001b[0m\u001b[37m\u001b[0m \u001b[1m1s\u001b[0m 26ms/step - accuracy: 0.6714 - loss: 0.6735 - val_accuracy: 0.6988 - val_loss: 0.6283\n",
            "\u001b[1m50/50\u001b[0m \u001b[32m━━━━━━━━━━━━━━━━━━━━\u001b[0m\u001b[37m\u001b[0m \u001b[1m1s\u001b[0m 26ms/step - accuracy: 0.7113 - loss: 0.6254 - val_accuracy: 0.7138 - val_loss: 0.6227\n",
            "\u001b[1m50/50\u001b[0m \u001b[32m━━━━━━━━━━━━━━━━━━━━\u001b[0m\u001b[37m\u001b[0m \u001b[1m1s\u001b[0m 26ms/step - accuracy: 0.6983 - loss: 0.6266 - val_accuracy: 0.6900 - val_loss: 0.6343\n",
            "\u001b[1m50/50\u001b[0m \u001b[32m━━━━━━━━━━━━━━━━━━━━\u001b[0m\u001b[37m\u001b[0m \u001b[1m1s\u001b[0m 26ms/step - accuracy: 0.7021 - loss: 0.6237 - val_accuracy: 0.7437 - val_loss: 0.5712\n",
            "\u001b[1m125/125\u001b[0m \u001b[32m━━━━━━━━━━━━━━━━━━━━\u001b[0m\u001b[37m\u001b[0m \u001b[1m1s\u001b[0m 4ms/step - accuracy: 0.7276 - loss: 0.5879\n"
          ]
        },
        {
          "output_type": "stream",
          "name": "stderr",
          "text": [
            "[I 2024-08-11 22:14:50,576] Trial 4 finished with value: 0.7225000262260437 and parameters: {'num_layers': 5, 'filters_0': 65, 'filters_1': 128, 'filters_2': 77, 'filters_3': 48, 'filters_4': 127, 'kernel_size': 2, 'l1': 5.39171365329603e-06, 'l2': 0.000508098182990793, 'dense_units': 122, 'dropout_rate': 0.44775481260866545, 'learning_rate': 0.00023021217142648836}. Best is trial 4 with value: 0.7225000262260437.\n"
          ]
        },
        {
          "output_type": "stream",
          "name": "stdout",
          "text": [
            "Trial 5 started with hyperparameters: num_layers=6, filters=[50, 37, 89, 53, 42, 107], kernel_size=2, l1=1.9233496604683495e-06, l2=1.2753896003404279e-05, dense_units=87, dropout_rate=0.21603343000694922, learning_rate=2.161713178224045e-05\n",
            "\u001b[1m47/50\u001b[0m \u001b[32m━━━━━━━━━━━━━━━━━━\u001b[0m\u001b[37m━━\u001b[0m \u001b[1m0s\u001b[0m 15ms/step - accuracy: 0.4880 - loss: 0.7037"
          ]
        },
        {
          "output_type": "stream",
          "name": "stderr",
          "text": [
            "[I 2024-08-11 22:16:23,913] Trial 5 pruned. Trial was pruned at epoch 0.\n"
          ]
        },
        {
          "output_type": "stream",
          "name": "stdout",
          "text": [
            "Trial 6 started with hyperparameters: num_layers=3, filters=[76, 66, 78], kernel_size=2, l1=7.468164125503987e-05, l2=0.00010731043098283127, dense_units=252, dropout_rate=0.3129886989076277, learning_rate=0.00015987305851459204\n",
            "\u001b[1m49/50\u001b[0m \u001b[32m━━━━━━━━━━━━━━━━━━━\u001b[0m\u001b[37m━\u001b[0m \u001b[1m0s\u001b[0m 20ms/step - accuracy: 0.5149 - loss: 0.8900"
          ]
        },
        {
          "output_type": "stream",
          "name": "stderr",
          "text": [
            "[I 2024-08-11 22:17:55,198] Trial 6 pruned. Trial was pruned at epoch 0.\n"
          ]
        },
        {
          "output_type": "stream",
          "name": "stdout",
          "text": [
            "Trial 7 started with hyperparameters: num_layers=4, filters=[38, 54, 90, 126], kernel_size=3, l1=0.0014879423280489527, l2=2.1657315660506146e-05, dense_units=241, dropout_rate=0.11048325371090782, learning_rate=0.0005747780546337774\n",
            "\u001b[1m50/50\u001b[0m \u001b[32m━━━━━━━━━━━━━━━━━━━━\u001b[0m\u001b[37m\u001b[0m \u001b[1m10s\u001b[0m 73ms/step - accuracy: 0.5065 - loss: 7.0148 - val_accuracy: 0.4825 - val_loss: 3.5540\n",
            "\u001b[1m50/50\u001b[0m \u001b[32m━━━━━━━━━━━━━━━━━━━━\u001b[0m\u001b[37m\u001b[0m \u001b[1m1s\u001b[0m 22ms/step - accuracy: 0.5146 - loss: 2.8116 - val_accuracy: 0.5200 - val_loss: 1.3449\n",
            "\u001b[1m50/50\u001b[0m \u001b[32m━━━━━━━━━━━━━━━━━━━━\u001b[0m\u001b[37m\u001b[0m \u001b[1m1s\u001b[0m 22ms/step - accuracy: 0.5187 - loss: 1.1761 - val_accuracy: 0.5275 - val_loss: 0.8900\n",
            "\u001b[1m50/50\u001b[0m \u001b[32m━━━━━━━━━━━━━━━━━━━━\u001b[0m\u001b[37m\u001b[0m \u001b[1m1s\u001b[0m 22ms/step - accuracy: 0.5047 - loss: 0.8566 - val_accuracy: 0.4938 - val_loss: 0.7884\n",
            "\u001b[1m50/50\u001b[0m \u001b[32m━━━━━━━━━━━━━━━━━━━━\u001b[0m\u001b[37m\u001b[0m \u001b[1m1s\u001b[0m 22ms/step - accuracy: 0.5063 - loss: 0.7766 - val_accuracy: 0.4913 - val_loss: 0.7504\n",
            "\u001b[1m50/50\u001b[0m \u001b[32m━━━━━━━━━━━━━━━━━━━━\u001b[0m\u001b[37m\u001b[0m \u001b[1m1s\u001b[0m 22ms/step - accuracy: 0.5109 - loss: 0.7448 - val_accuracy: 0.5050 - val_loss: 0.7319\n",
            "\u001b[1m50/50\u001b[0m \u001b[32m━━━━━━━━━━━━━━━━━━━━\u001b[0m\u001b[37m\u001b[0m \u001b[1m1s\u001b[0m 21ms/step - accuracy: 0.4892 - loss: 0.7293 - val_accuracy: 0.4663 - val_loss: 0.7227\n",
            "\u001b[1m50/50\u001b[0m \u001b[32m━━━━━━━━━━━━━━━━━━━━\u001b[0m\u001b[37m\u001b[0m \u001b[1m1s\u001b[0m 22ms/step - accuracy: 0.5091 - loss: 0.7210 - val_accuracy: 0.4787 - val_loss: 0.7179\n",
            "\u001b[1m50/50\u001b[0m \u001b[32m━━━━━━━━━━━━━━━━━━━━\u001b[0m\u001b[37m\u001b[0m \u001b[1m1s\u001b[0m 21ms/step - accuracy: 0.5066 - loss: 0.7169 - val_accuracy: 0.5025 - val_loss: 0.7153\n",
            "\u001b[1m125/125\u001b[0m \u001b[32m━━━━━━━━━━━━━━━━━━━━\u001b[0m\u001b[37m\u001b[0m \u001b[1m1s\u001b[0m 4ms/step - accuracy: 0.4971 - loss: 0.7153\n"
          ]
        },
        {
          "output_type": "stream",
          "name": "stderr",
          "text": [
            "[I 2024-08-11 22:31:51,961] Trial 7 finished with value: 0.5 and parameters: {'num_layers': 4, 'filters_0': 38, 'filters_1': 54, 'filters_2': 90, 'filters_3': 126, 'kernel_size': 3, 'l1': 0.0014879423280489527, 'l2': 2.1657315660506146e-05, 'dense_units': 241, 'dropout_rate': 0.11048325371090782, 'learning_rate': 0.0005747780546337774}. Best is trial 4 with value: 0.7225000262260437.\n"
          ]
        },
        {
          "output_type": "stream",
          "name": "stdout",
          "text": [
            "Trial 8 started with hyperparameters: num_layers=6, filters=[64, 98, 81, 128, 95, 98], kernel_size=2, l1=0.0007330625519980488, l2=0.00027240298047426155, dense_units=183, dropout_rate=0.2374804565684054, learning_rate=0.000594663300729966\n",
            "\u001b[1m50/50\u001b[0m \u001b[32m━━━━━━━━━━━━━━━━━━━━\u001b[0m\u001b[37m\u001b[0m \u001b[1m11s\u001b[0m 86ms/step - accuracy: 0.4911 - loss: 5.8061 - val_accuracy: 0.4825 - val_loss: 3.3954\n",
            "\u001b[1m50/50\u001b[0m \u001b[32m━━━━━━━━━━━━━━━━━━━━\u001b[0m\u001b[37m\u001b[0m \u001b[1m1s\u001b[0m 26ms/step - accuracy: 0.5079 - loss: 2.8064 - val_accuracy: 0.4800 - val_loss: 1.4064\n",
            "\u001b[1m50/50\u001b[0m \u001b[32m━━━━━━━━━━━━━━━━━━━━\u001b[0m\u001b[37m\u001b[0m \u001b[1m1s\u001b[0m 26ms/step - accuracy: 0.5041 - loss: 1.1530 - val_accuracy: 0.4725 - val_loss: 0.7402\n",
            "\u001b[1m50/50\u001b[0m \u001b[32m━━━━━━━━━━━━━━━━━━━━\u001b[0m\u001b[37m\u001b[0m \u001b[1m1s\u001b[0m 26ms/step - accuracy: 0.4949 - loss: 0.7236 - val_accuracy: 0.5063 - val_loss: 0.7062\n",
            "\u001b[1m50/50\u001b[0m \u001b[32m━━━━━━━━━━━━━━━━━━━━\u001b[0m\u001b[37m\u001b[0m \u001b[1m1s\u001b[0m 27ms/step - accuracy: 0.4934 - loss: 0.7056 - val_accuracy: 0.5088 - val_loss: 0.7042\n",
            "\u001b[1m50/50\u001b[0m \u001b[32m━━━━━━━━━━━━━━━━━━━━\u001b[0m\u001b[37m\u001b[0m \u001b[1m1s\u001b[0m 26ms/step - accuracy: 0.4988 - loss: 0.7040 - val_accuracy: 0.5050 - val_loss: 0.7035\n",
            "\u001b[1m50/50\u001b[0m \u001b[32m━━━━━━━━━━━━━━━━━━━━\u001b[0m\u001b[37m\u001b[0m \u001b[1m1s\u001b[0m 26ms/step - accuracy: 0.4861 - loss: 0.7036 - val_accuracy: 0.4663 - val_loss: 0.7036\n",
            "\u001b[1m50/50\u001b[0m \u001b[32m━━━━━━━━━━━━━━━━━━━━\u001b[0m\u001b[37m\u001b[0m \u001b[1m1s\u001b[0m 26ms/step - accuracy: 0.5064 - loss: 0.7033 - val_accuracy: 0.4787 - val_loss: 0.7035\n",
            "\u001b[1m50/50\u001b[0m \u001b[32m━━━━━━━━━━━━━━━━━━━━\u001b[0m\u001b[37m\u001b[0m \u001b[1m1s\u001b[0m 26ms/step - accuracy: 0.5062 - loss: 0.7032 - val_accuracy: 0.5025 - val_loss: 0.7033\n",
            "\u001b[1m125/125\u001b[0m \u001b[32m━━━━━━━━━━━━━━━━━━━━\u001b[0m\u001b[37m\u001b[0m \u001b[1m1s\u001b[0m 5ms/step - accuracy: 0.4971 - loss: 0.7033\n"
          ]
        },
        {
          "output_type": "stream",
          "name": "stderr",
          "text": [
            "[I 2024-08-11 22:45:52,816] Trial 8 finished with value: 0.5 and parameters: {'num_layers': 6, 'filters_0': 64, 'filters_1': 98, 'filters_2': 81, 'filters_3': 128, 'filters_4': 95, 'filters_5': 98, 'kernel_size': 2, 'l1': 0.0007330625519980488, 'l2': 0.00027240298047426155, 'dense_units': 183, 'dropout_rate': 0.2374804565684054, 'learning_rate': 0.000594663300729966}. Best is trial 4 with value: 0.7225000262260437.\n"
          ]
        },
        {
          "output_type": "stream",
          "name": "stdout",
          "text": [
            "Trial 9 started with hyperparameters: num_layers=5, filters=[76, 91, 48, 79, 107], kernel_size=3, l1=0.0004385157374745225, l2=0.00034722794470527866, dense_units=220, dropout_rate=0.28324351282481897, learning_rate=0.0008555021458350018\n",
            "\u001b[1m48/50\u001b[0m \u001b[32m━━━━━━━━━━━━━━━━━━━\u001b[0m\u001b[37m━\u001b[0m \u001b[1m0s\u001b[0m 23ms/step - accuracy: 0.4867 - loss: 3.0759"
          ]
        },
        {
          "output_type": "stream",
          "name": "stderr",
          "text": [
            "[I 2024-08-11 22:47:27,719] Trial 9 pruned. Trial was pruned at epoch 0.\n"
          ]
        },
        {
          "output_type": "stream",
          "name": "stdout",
          "text": [
            "Trial 10 started with hyperparameters: num_layers=4, filters=[127, 108, 125, 37], kernel_size=3, l1=3.188962156786051e-06, l2=0.007563562152050047, dense_units=126, dropout_rate=0.46610330603845346, learning_rate=6.711938117634237e-05\n",
            "\u001b[1m49/50\u001b[0m \u001b[32m━━━━━━━━━━━━━━━━━━━\u001b[0m\u001b[37m━\u001b[0m \u001b[1m0s\u001b[0m 29ms/step - accuracy: 0.4925 - loss: 2.8461"
          ]
        },
        {
          "output_type": "stream",
          "name": "stderr",
          "text": [
            "[I 2024-08-11 22:49:03,567] Trial 10 pruned. Trial was pruned at epoch 0.\n"
          ]
        },
        {
          "output_type": "stream",
          "name": "stdout",
          "text": [
            "Trial 11 started with hyperparameters: num_layers=3, filters=[110, 126, 50], kernel_size=3, l1=0.005850985615973771, l2=0.004149861116907144, dense_units=135, dropout_rate=0.45420502943650126, learning_rate=0.00023577617701059668\n",
            "\u001b[1m50/50\u001b[0m \u001b[32m━━━━━━━━━━━━━━━━━━━━\u001b[0m\u001b[37m\u001b[0m \u001b[1m13s\u001b[0m 92ms/step - accuracy: 0.5082 - loss: 28.2606 - val_accuracy: 0.4825 - val_loss: 19.8869\n",
            "\u001b[1m50/50\u001b[0m \u001b[32m━━━━━━━━━━━━━━━━━━━━\u001b[0m\u001b[37m\u001b[0m \u001b[1m2s\u001b[0m 35ms/step - accuracy: 0.5370 - loss: 17.5322 - val_accuracy: 0.6562 - val_loss: 11.2243\n",
            "\u001b[1m50/50\u001b[0m \u001b[32m━━━━━━━━━━━━━━━━━━━━\u001b[0m\u001b[37m\u001b[0m \u001b[1m2s\u001b[0m 35ms/step - accuracy: 0.5683 - loss: 9.5633 - val_accuracy: 0.6237 - val_loss: 5.3047\n",
            "\u001b[1m50/50\u001b[0m \u001b[32m━━━━━━━━━━━━━━━━━━━━\u001b[0m\u001b[37m\u001b[0m \u001b[1m2s\u001b[0m 35ms/step - accuracy: 0.5711 - loss: 4.3094 - val_accuracy: 0.4938 - val_loss: 1.9975\n",
            "\u001b[1m50/50\u001b[0m \u001b[32m━━━━━━━━━━━━━━━━━━━━\u001b[0m\u001b[37m\u001b[0m \u001b[1m2s\u001b[0m 35ms/step - accuracy: 0.5521 - loss: 1.6184 - val_accuracy: 0.4913 - val_loss: 0.9696\n",
            "\u001b[1m50/50\u001b[0m \u001b[32m━━━━━━━━━━━━━━━━━━━━\u001b[0m\u001b[37m\u001b[0m \u001b[1m2s\u001b[0m 35ms/step - accuracy: 0.5085 - loss: 0.9067 - val_accuracy: 0.4950 - val_loss: 0.8148\n",
            "\u001b[1m50/50\u001b[0m \u001b[32m━━━━━━━━━━━━━━━━━━━━\u001b[0m\u001b[37m\u001b[0m \u001b[1m2s\u001b[0m 35ms/step - accuracy: 0.5140 - loss: 0.8015 - val_accuracy: 0.4663 - val_loss: 0.7748\n",
            "\u001b[1m50/50\u001b[0m \u001b[32m━━━━━━━━━━━━━━━━━━━━\u001b[0m\u001b[37m\u001b[0m \u001b[1m2s\u001b[0m 35ms/step - accuracy: 0.5019 - loss: 0.7683 - val_accuracy: 0.4787 - val_loss: 0.7550\n",
            "\u001b[1m50/50\u001b[0m \u001b[32m━━━━━━━━━━━━━━━━━━━━\u001b[0m\u001b[37m\u001b[0m \u001b[1m2s\u001b[0m 35ms/step - accuracy: 0.5064 - loss: 0.7517 - val_accuracy: 0.5025 - val_loss: 0.7442\n",
            "\u001b[1m125/125\u001b[0m \u001b[32m━━━━━━━━━━━━━━━━━━━━\u001b[0m\u001b[37m\u001b[0m \u001b[1m1s\u001b[0m 6ms/step - accuracy: 0.4971 - loss: 0.7443\n"
          ]
        },
        {
          "output_type": "stream",
          "name": "stderr",
          "text": [
            "[I 2024-08-11 23:03:08,437] Trial 11 finished with value: 0.5 and parameters: {'num_layers': 3, 'filters_0': 110, 'filters_1': 126, 'filters_2': 50, 'kernel_size': 3, 'l1': 0.005850985615973771, 'l2': 0.004149861116907144, 'dense_units': 135, 'dropout_rate': 0.45420502943650126, 'learning_rate': 0.00023577617701059668}. Best is trial 4 with value: 0.7225000262260437.\n"
          ]
        },
        {
          "output_type": "stream",
          "name": "stdout",
          "text": [
            "Trial 12 started with hyperparameters: num_layers=4, filters=[90, 112, 62, 100], kernel_size=3, l1=1.6776832482223923e-05, l2=0.0017014002167894209, dense_units=147, dropout_rate=0.4037807699360157, learning_rate=0.0002750711894255622\n",
            "\u001b[1m48/50\u001b[0m \u001b[32m━━━━━━━━━━━━━━━━━━━\u001b[0m\u001b[37m━\u001b[0m \u001b[1m0s\u001b[0m 24ms/step - accuracy: 0.5135 - loss: 1.1949"
          ]
        },
        {
          "output_type": "stream",
          "name": "stderr",
          "text": [
            "[I 2024-08-11 23:04:43,214] Trial 12 pruned. Trial was pruned at epoch 0.\n"
          ]
        },
        {
          "output_type": "stream",
          "name": "stdout",
          "text": [
            "Trial 13 started with hyperparameters: num_layers=5, filters=[117, 128, 65, 32, 125], kernel_size=3, l1=1.287797680255723e-05, l2=0.001815137638159481, dense_units=106, dropout_rate=0.18492885975517534, learning_rate=0.0001577363589629533\n",
            "\u001b[1m49/50\u001b[0m \u001b[32m━━━━━━━━━━━━━━━━━━━\u001b[0m\u001b[37m━\u001b[0m \u001b[1m0s\u001b[0m 28ms/step - accuracy: 0.4864 - loss: 1.3033"
          ]
        },
        {
          "output_type": "stream",
          "name": "stderr",
          "text": [
            "[I 2024-08-11 23:06:19,592] Trial 13 pruned. Trial was pruned at epoch 0.\n"
          ]
        },
        {
          "output_type": "stream",
          "name": "stdout",
          "text": [
            "Trial 14 started with hyperparameters: num_layers=3, filters=[90, 84, 105], kernel_size=2, l1=0.008500573643902871, l2=0.0011882180831240027, dense_units=170, dropout_rate=0.407165388247748, learning_rate=3.790575365022451e-05\n",
            "\u001b[1m50/50\u001b[0m \u001b[32m━━━━━━━━━━━━━━━━━━━━\u001b[0m\u001b[37m\u001b[0m \u001b[1m9s\u001b[0m 76ms/step - accuracy: 0.5176 - loss: 26.1239 - val_accuracy: 0.6012 - val_loss: 25.3230\n",
            "\u001b[1m50/50\u001b[0m \u001b[32m━━━━━━━━━━━━━━━━━━━━\u001b[0m\u001b[37m\u001b[0m \u001b[1m1s\u001b[0m 28ms/step - accuracy: 0.5627 - loss: 25.0661 - val_accuracy: 0.6525 - val_loss: 24.2905\n",
            "\u001b[1m50/50\u001b[0m \u001b[32m━━━━━━━━━━━━━━━━━━━━\u001b[0m\u001b[37m\u001b[0m \u001b[1m1s\u001b[0m 28ms/step - accuracy: 0.5745 - loss: 24.0472 - val_accuracy: 0.5663 - val_loss: 23.3062\n",
            "\u001b[1m50/50\u001b[0m \u001b[32m━━━━━━━━━━━━━━━━━━━━\u001b[0m\u001b[37m\u001b[0m \u001b[1m1s\u001b[0m 28ms/step - accuracy: 0.5430 - loss: 23.0712 - val_accuracy: 0.6237 - val_loss: 22.3380\n",
            "\u001b[1m50/50\u001b[0m \u001b[32m━━━━━━━━━━━━━━━━━━━━\u001b[0m\u001b[37m\u001b[0m \u001b[1m1s\u001b[0m 28ms/step - accuracy: 0.5962 - loss: 22.1125 - val_accuracy: 0.5675 - val_loss: 21.4174\n",
            "\u001b[1m50/50\u001b[0m \u001b[32m━━━━━━━━━━━━━━━━━━━━\u001b[0m\u001b[37m\u001b[0m \u001b[1m1s\u001b[0m 28ms/step - accuracy: 0.5750 - loss: 21.2044 - val_accuracy: 0.5975 - val_loss: 20.5435\n",
            "\u001b[1m50/50\u001b[0m \u001b[32m━━━━━━━━━━━━━━━━━━━━\u001b[0m\u001b[37m\u001b[0m \u001b[1m1s\u001b[0m 28ms/step - accuracy: 0.6154 - loss: 20.3181 - val_accuracy: 0.5875 - val_loss: 19.6828\n",
            "\u001b[1m50/50\u001b[0m \u001b[32m━━━━━━━━━━━━━━━━━━━━\u001b[0m\u001b[37m\u001b[0m \u001b[1m1s\u001b[0m 28ms/step - accuracy: 0.6240 - loss: 19.4608 - val_accuracy: 0.6225 - val_loss: 18.8441\n",
            "\u001b[1m50/50\u001b[0m \u001b[32m━━━━━━━━━━━━━━━━━━━━\u001b[0m\u001b[37m\u001b[0m \u001b[1m1s\u001b[0m 28ms/step - accuracy: 0.6364 - loss: 18.6379 - val_accuracy: 0.6538 - val_loss: 18.0323\n",
            "\u001b[1m125/125\u001b[0m \u001b[32m━━━━━━━━━━━━━━━━━━━━\u001b[0m\u001b[37m\u001b[0m \u001b[1m1s\u001b[0m 4ms/step - accuracy: 0.6778 - loss: 18.0304\n"
          ]
        },
        {
          "output_type": "stream",
          "name": "stderr",
          "text": [
            "[I 2024-08-11 23:20:17,302] Trial 14 finished with value: 0.659500002861023 and parameters: {'num_layers': 3, 'filters_0': 90, 'filters_1': 84, 'filters_2': 105, 'kernel_size': 2, 'l1': 0.008500573643902871, 'l2': 0.0011882180831240027, 'dense_units': 170, 'dropout_rate': 0.407165388247748, 'learning_rate': 3.790575365022451e-05}. Best is trial 4 with value: 0.7225000262260437.\n"
          ]
        },
        {
          "output_type": "stream",
          "name": "stdout",
          "text": [
            "Trial 15 started with hyperparameters: num_layers=4, filters=[66, 111, 34, 86], kernel_size=3, l1=3.310951904532454e-05, l2=0.009565654474100124, dense_units=204, dropout_rate=0.49946774203592376, learning_rate=0.00032488137445442727\n",
            "\u001b[1m49/50\u001b[0m \u001b[32m━━━━━━━━━━━━━━━━━━━\u001b[0m\u001b[37m━\u001b[0m \u001b[1m0s\u001b[0m 22ms/step - accuracy: 0.5037 - loss: 2.3440"
          ]
        },
        {
          "output_type": "stream",
          "name": "stderr",
          "text": [
            "[I 2024-08-11 23:21:50,812] Trial 15 pruned. Trial was pruned at epoch 0.\n"
          ]
        },
        {
          "output_type": "stream",
          "name": "stdout",
          "text": [
            "Trial 16 started with hyperparameters: num_layers=5, filters=[108, 104, 67, 68, 122], kernel_size=2, l1=6.43214458309404e-06, l2=0.00011974684010563846, dense_units=119, dropout_rate=0.16730856075362402, learning_rate=0.00012038112268041093\n",
            "\u001b[1m48/50\u001b[0m \u001b[32m━━━━━━━━━━━━━━━━━━━\u001b[0m\u001b[37m━\u001b[0m \u001b[1m0s\u001b[0m 24ms/step - accuracy: 0.5047 - loss: 0.7695"
          ]
        },
        {
          "output_type": "stream",
          "name": "stderr",
          "text": [
            "[I 2024-08-11 23:23:24,304] Trial 16 pruned. Trial was pruned at epoch 0.\n"
          ]
        },
        {
          "output_type": "stream",
          "name": "stdout",
          "text": [
            "Trial 17 started with hyperparameters: num_layers=3, filters=[41, 117, 105], kernel_size=3, l1=0.0026233912758075674, l2=0.0008732903608781751, dense_units=64, dropout_rate=0.36205951032019856, learning_rate=0.000362650503410307\n",
            "\u001b[1m50/50\u001b[0m \u001b[32m━━━━━━━━━━━━━━━━━━━━\u001b[0m\u001b[37m\u001b[0m \u001b[1m11s\u001b[0m 78ms/step - accuracy: 0.5330 - loss: 11.1344 - val_accuracy: 0.4863 - val_loss: 7.1090\n",
            "\u001b[1m50/50\u001b[0m \u001b[32m━━━━━━━━━━━━━━━━━━━━\u001b[0m\u001b[37m\u001b[0m \u001b[1m1s\u001b[0m 26ms/step - accuracy: 0.5638 - loss: 6.0550 - val_accuracy: 0.6750 - val_loss: 3.4067\n",
            "\u001b[1m50/50\u001b[0m \u001b[32m━━━━━━━━━━━━━━━━━━━━\u001b[0m\u001b[37m\u001b[0m \u001b[1m1s\u001b[0m 26ms/step - accuracy: 0.6116 - loss: 2.8524 - val_accuracy: 0.6587 - val_loss: 1.6398\n",
            "\u001b[1m50/50\u001b[0m \u001b[32m━━━━━━━━━━━━━━━━━━━━\u001b[0m\u001b[37m\u001b[0m \u001b[1m1s\u001b[0m 26ms/step - accuracy: 0.6007 - loss: 1.5367 - val_accuracy: 0.6650 - val_loss: 1.1756\n",
            "\u001b[1m50/50\u001b[0m \u001b[32m━━━━━━━━━━━━━━━━━━━━\u001b[0m\u001b[37m\u001b[0m \u001b[1m1s\u001b[0m 26ms/step - accuracy: 0.6528 - loss: 1.1539 - val_accuracy: 0.6450 - val_loss: 1.0386\n",
            "\u001b[1m50/50\u001b[0m \u001b[32m━━━━━━━━━━━━━━━━━━━━\u001b[0m\u001b[37m\u001b[0m \u001b[1m1s\u001b[0m 26ms/step - accuracy: 0.6482 - loss: 1.0344 - val_accuracy: 0.6250 - val_loss: 1.0051\n",
            "\u001b[1m50/50\u001b[0m \u001b[32m━━━━━━━━━━━━━━━━━━━━\u001b[0m\u001b[37m\u001b[0m \u001b[1m1s\u001b[0m 26ms/step - accuracy: 0.6700 - loss: 0.9582 - val_accuracy: 0.6787 - val_loss: 0.9288\n",
            "\u001b[1m50/50\u001b[0m \u001b[32m━━━━━━━━━━━━━━━━━━━━\u001b[0m\u001b[37m\u001b[0m \u001b[1m1s\u001b[0m 26ms/step - accuracy: 0.6329 - loss: 0.9400 - val_accuracy: 0.6600 - val_loss: 0.8956\n",
            "\u001b[1m50/50\u001b[0m \u001b[32m━━━━━━━━━━━━━━━━━━━━\u001b[0m\u001b[37m\u001b[0m \u001b[1m1s\u001b[0m 26ms/step - accuracy: 0.6701 - loss: 0.8846 - val_accuracy: 0.6737 - val_loss: 0.8549\n",
            "\u001b[1m125/125\u001b[0m \u001b[32m━━━━━━━━━━━━━━━━━━━━\u001b[0m\u001b[37m\u001b[0m \u001b[1m1s\u001b[0m 5ms/step - accuracy: 0.6567 - loss: 0.8649\n"
          ]
        },
        {
          "output_type": "stream",
          "name": "stderr",
          "text": [
            "[I 2024-08-11 23:37:26,232] Trial 17 finished with value: 0.6522499918937683 and parameters: {'num_layers': 3, 'filters_0': 41, 'filters_1': 117, 'filters_2': 105, 'kernel_size': 3, 'l1': 0.0026233912758075674, 'l2': 0.0008732903608781751, 'dense_units': 64, 'dropout_rate': 0.36205951032019856, 'learning_rate': 0.000362650503410307}. Best is trial 4 with value: 0.7225000262260437.\n"
          ]
        },
        {
          "output_type": "stream",
          "name": "stdout",
          "text": [
            "Trial 18 started with hyperparameters: num_layers=4, filters=[66, 74, 32, 49], kernel_size=2, l1=0.00011124044512628608, l2=0.002599954369235233, dense_units=160, dropout_rate=0.2598227524252472, learning_rate=7.718808572875722e-05\n",
            "\u001b[1m49/50\u001b[0m \u001b[32m━━━━━━━━━━━━━━━━━━━\u001b[0m\u001b[37m━\u001b[0m \u001b[1m0s\u001b[0m 19ms/step - accuracy: 0.4970 - loss: 1.3104"
          ]
        },
        {
          "output_type": "stream",
          "name": "stderr",
          "text": [
            "[I 2024-08-11 23:38:58,387] Trial 18 pruned. Trial was pruned at epoch 0.\n"
          ]
        },
        {
          "output_type": "stream",
          "name": "stdout",
          "text": [
            "Trial 19 started with hyperparameters: num_layers=5, filters=[95, 95, 52, 93, 68], kernel_size=3, l1=1.1522206550040683e-06, l2=1.343772951699216e-06, dense_units=218, dropout_rate=0.1704341149775896, learning_rate=4.481344781656836e-05\n",
            "\u001b[1m50/50\u001b[0m \u001b[32m━━━━━━━━━━━━━━━━━━━━\u001b[0m\u001b[37m\u001b[0m \u001b[1m0s\u001b[0m 24ms/step - accuracy: 0.4977 - loss: 0.7024"
          ]
        },
        {
          "output_type": "stream",
          "name": "stderr",
          "text": [
            "[I 2024-08-11 23:40:33,859] Trial 19 pruned. Trial was pruned at epoch 0.\n"
          ]
        },
        {
          "output_type": "stream",
          "name": "stdout",
          "text": [
            "Trial 20 started with hyperparameters: num_layers=3, filters=[82, 118, 72], kernel_size=2, l1=2.8957670425913994e-05, l2=0.00031408644658553265, dense_units=148, dropout_rate=0.40164284630032987, learning_rate=0.00018185255688058928\n",
            "\u001b[1m49/50\u001b[0m \u001b[32m━━━━━━━━━━━━━━━━━━━\u001b[0m\u001b[37m━\u001b[0m \u001b[1m0s\u001b[0m 22ms/step - accuracy: 0.5192 - loss: 0.8428"
          ]
        },
        {
          "output_type": "stream",
          "name": "stderr",
          "text": [
            "[I 2024-08-11 23:42:05,161] Trial 20 pruned. Trial was pruned at epoch 0.\n"
          ]
        },
        {
          "output_type": "stream",
          "name": "stdout",
          "text": [
            "Trial 21 started with hyperparameters: num_layers=3, filters=[84, 88, 109], kernel_size=2, l1=0.00881378065388581, l2=0.0009081347616933861, dense_units=170, dropout_rate=0.41657172761174804, learning_rate=3.368890025576175e-05\n",
            "\u001b[1m50/50\u001b[0m \u001b[32m━━━━━━━━━━━━━━━━━━━━\u001b[0m\u001b[37m\u001b[0m \u001b[1m9s\u001b[0m 73ms/step - accuracy: 0.5212 - loss: 27.7895 - val_accuracy: 0.6250 - val_loss: 27.0204\n",
            "\u001b[1m50/50\u001b[0m \u001b[32m━━━━━━━━━━━━━━━━━━━━\u001b[0m\u001b[37m\u001b[0m \u001b[1m1s\u001b[0m 27ms/step - accuracy: 0.5551 - loss: 26.7755 - val_accuracy: 0.6625 - val_loss: 26.0299\n",
            "\u001b[1m50/50\u001b[0m \u001b[32m━━━━━━━━━━━━━━━━━━━━\u001b[0m\u001b[37m\u001b[0m \u001b[1m1s\u001b[0m 27ms/step - accuracy: 0.5877 - loss: 25.7976 - val_accuracy: 0.5875 - val_loss: 25.0819\n",
            "\u001b[1m50/50\u001b[0m \u001b[32m━━━━━━━━━━━━━━━━━━━━\u001b[0m\u001b[37m\u001b[0m \u001b[1m1s\u001b[0m 27ms/step - accuracy: 0.5540 - loss: 24.8591 - val_accuracy: 0.6413 - val_loss: 24.1456\n",
            "\u001b[1m50/50\u001b[0m \u001b[32m━━━━━━━━━━━━━━━━━━━━\u001b[0m\u001b[37m\u001b[0m \u001b[1m1s\u001b[0m 27ms/step - accuracy: 0.6317 - loss: 23.9242 - val_accuracy: 0.6212 - val_loss: 23.2418\n",
            "\u001b[1m50/50\u001b[0m \u001b[32m━━━━━━━━━━━━━━━━━━━━\u001b[0m\u001b[37m\u001b[0m \u001b[1m1s\u001b[0m 27ms/step - accuracy: 0.6163 - loss: 23.0373 - val_accuracy: 0.5888 - val_loss: 22.3954\n",
            "\u001b[1m50/50\u001b[0m \u001b[32m━━━━━━━━━━━━━━━━━━━━\u001b[0m\u001b[37m\u001b[0m \u001b[1m1s\u001b[0m 27ms/step - accuracy: 0.6049 - loss: 22.1799 - val_accuracy: 0.4938 - val_loss: 21.5764\n",
            "\u001b[1m50/50\u001b[0m \u001b[32m━━━━━━━━━━━━━━━━━━━━\u001b[0m\u001b[37m\u001b[0m \u001b[1m1s\u001b[0m 27ms/step - accuracy: 0.6106 - loss: 21.3419 - val_accuracy: 0.6300 - val_loss: 20.7312\n",
            "\u001b[1m50/50\u001b[0m \u001b[32m━━━━━━━━━━━━━━━━━━━━\u001b[0m\u001b[37m\u001b[0m \u001b[1m1s\u001b[0m 27ms/step - accuracy: 0.6313 - loss: 20.5278 - val_accuracy: 0.6488 - val_loss: 19.9370\n",
            "\u001b[1m125/125\u001b[0m \u001b[32m━━━━━━━━━━━━━━━━━━━━\u001b[0m\u001b[37m\u001b[0m \u001b[1m1s\u001b[0m 4ms/step - accuracy: 0.6499 - loss: 19.9335\n"
          ]
        },
        {
          "output_type": "stream",
          "name": "stderr",
          "text": [
            "[I 2024-08-11 23:56:01,220] Trial 21 finished with value: 0.6417499780654907 and parameters: {'num_layers': 3, 'filters_0': 84, 'filters_1': 88, 'filters_2': 109, 'kernel_size': 2, 'l1': 0.00881378065388581, 'l2': 0.0009081347616933861, 'dense_units': 170, 'dropout_rate': 0.41657172761174804, 'learning_rate': 3.368890025576175e-05}. Best is trial 4 with value: 0.7225000262260437.\n"
          ]
        },
        {
          "output_type": "stream",
          "name": "stdout",
          "text": [
            "Trial 22 started with hyperparameters: num_layers=3, filters=[99, 81, 103], kernel_size=2, l1=0.0030205380093875005, l2=0.004358094362758423, dense_units=106, dropout_rate=0.4421838793353998, learning_rate=3.105629094949289e-05\n",
            "\u001b[1m50/50\u001b[0m \u001b[32m━━━━━━━━━━━━━━━━━━━━\u001b[0m\u001b[37m\u001b[0m \u001b[1m10s\u001b[0m 79ms/step - accuracy: 0.5152 - loss: 10.4365 - val_accuracy: 0.4825 - val_loss: 10.1787\n",
            "\u001b[1m50/50\u001b[0m \u001b[32m━━━━━━━━━━━━━━━━━━━━\u001b[0m\u001b[37m\u001b[0m \u001b[1m2s\u001b[0m 30ms/step - accuracy: 0.5501 - loss: 10.0947 - val_accuracy: 0.6425 - val_loss: 9.8455\n",
            "\u001b[1m50/50\u001b[0m \u001b[32m━━━━━━━━━━━━━━━━━━━━\u001b[0m\u001b[37m\u001b[0m \u001b[1m2s\u001b[0m 31ms/step - accuracy: 0.5714 - loss: 9.7680 - val_accuracy: 0.5387 - val_loss: 9.5377\n",
            "\u001b[1m50/50\u001b[0m \u001b[32m━━━━━━━━━━━━━━━━━━━━\u001b[0m\u001b[37m\u001b[0m \u001b[1m2s\u001b[0m 31ms/step - accuracy: 0.5505 - loss: 9.4602 - val_accuracy: 0.5475 - val_loss: 9.2186\n",
            "\u001b[1m50/50\u001b[0m \u001b[32m━━━━━━━━━━━━━━━━━━━━\u001b[0m\u001b[37m\u001b[0m \u001b[1m2s\u001b[0m 30ms/step - accuracy: 0.6061 - loss: 9.1489 - val_accuracy: 0.6338 - val_loss: 8.9172\n",
            "\u001b[1m50/50\u001b[0m \u001b[32m━━━━━━━━━━━━━━━━━━━━\u001b[0m\u001b[37m\u001b[0m \u001b[1m2s\u001b[0m 31ms/step - accuracy: 0.5939 - loss: 8.8588 - val_accuracy: 0.6100 - val_loss: 8.6471\n",
            "\u001b[1m50/50\u001b[0m \u001b[32m━━━━━━━━━━━━━━━━━━━━\u001b[0m\u001b[37m\u001b[0m \u001b[1m2s\u001b[0m 30ms/step - accuracy: 0.6001 - loss: 8.5804 - val_accuracy: 0.4950 - val_loss: 8.3965\n",
            "\u001b[1m50/50\u001b[0m \u001b[32m━━━━━━━━━━━━━━━━━━━━\u001b[0m\u001b[37m\u001b[0m \u001b[1m2s\u001b[0m 30ms/step - accuracy: 0.6034 - loss: 8.3086 - val_accuracy: 0.6350 - val_loss: 8.1110\n",
            "\u001b[1m50/50\u001b[0m \u001b[32m━━━━━━━━━━━━━━━━━━━━\u001b[0m\u001b[37m\u001b[0m \u001b[1m2s\u001b[0m 30ms/step - accuracy: 0.6369 - loss: 8.0437 - val_accuracy: 0.6562 - val_loss: 7.8542\n",
            "\u001b[1m125/125\u001b[0m \u001b[32m━━━━━━━━━━━━━━━━━━━━\u001b[0m\u001b[37m\u001b[0m \u001b[1m1s\u001b[0m 5ms/step - accuracy: 0.6576 - loss: 7.8514\n"
          ]
        },
        {
          "output_type": "stream",
          "name": "stderr",
          "text": [
            "[I 2024-08-12 00:09:59,552] Trial 22 finished with value: 0.6464999914169312 and parameters: {'num_layers': 3, 'filters_0': 99, 'filters_1': 81, 'filters_2': 103, 'kernel_size': 2, 'l1': 0.0030205380093875005, 'l2': 0.004358094362758423, 'dense_units': 106, 'dropout_rate': 0.4421838793353998, 'learning_rate': 3.105629094949289e-05}. Best is trial 4 with value: 0.7225000262260437.\n"
          ]
        },
        {
          "output_type": "stream",
          "name": "stdout",
          "text": [
            "Trial 23 started with hyperparameters: num_layers=4, filters=[107, 38, 98, 68], kernel_size=2, l1=0.0016257514995275525, l2=0.0009336596993429519, dense_units=226, dropout_rate=0.36290029476435487, learning_rate=0.00040575781715401294\n",
            "\u001b[1m48/50\u001b[0m \u001b[32m━━━━━━━━━━━━━━━━━━━\u001b[0m\u001b[37m━\u001b[0m \u001b[1m0s\u001b[0m 22ms/step - accuracy: 0.5027 - loss: 5.1857"
          ]
        },
        {
          "output_type": "stream",
          "name": "stderr",
          "text": [
            "[I 2024-08-12 00:11:31,655] Trial 23 pruned. Trial was pruned at epoch 0.\n"
          ]
        },
        {
          "output_type": "stream",
          "name": "stdout",
          "text": [
            "Trial 24 started with hyperparameters: num_layers=3, filters=[75, 101, 112], kernel_size=2, l1=0.004516284770849155, l2=0.00018714220922998463, dense_units=175, dropout_rate=0.4839784648495332, learning_rate=1.2253759134421204e-05\n",
            "\u001b[1m50/50\u001b[0m \u001b[32m━━━━━━━━━━━━━━━━━━━━\u001b[0m\u001b[37m\u001b[0m \u001b[1m9s\u001b[0m 76ms/step - accuracy: 0.4910 - loss: 15.6002 - val_accuracy: 0.4825 - val_loss: 15.4424\n",
            "\u001b[1m50/50\u001b[0m \u001b[32m━━━━━━━━━━━━━━━━━━━━\u001b[0m\u001b[37m\u001b[0m \u001b[1m1s\u001b[0m 29ms/step - accuracy: 0.4868 - loss: 15.3934 - val_accuracy: 0.5587 - val_loss: 15.2315\n",
            "\u001b[1m50/50\u001b[0m \u001b[32m━━━━━━━━━━━━━━━━━━━━\u001b[0m\u001b[37m\u001b[0m \u001b[1m1s\u001b[0m 29ms/step - accuracy: 0.5166 - loss: 15.1826 - val_accuracy: 0.4900 - val_loss: 15.0288\n",
            "\u001b[1m50/50\u001b[0m \u001b[32m━━━━━━━━━━━━━━━━━━━━\u001b[0m\u001b[37m\u001b[0m \u001b[1m1s\u001b[0m 29ms/step - accuracy: 0.5169 - loss: 14.9776 - val_accuracy: 0.6625 - val_loss: 14.8227\n",
            "\u001b[1m50/50\u001b[0m \u001b[32m━━━━━━━━━━━━━━━━━━━━\u001b[0m\u001b[37m\u001b[0m \u001b[1m1s\u001b[0m 29ms/step - accuracy: 0.5320 - loss: 14.7738 - val_accuracy: 0.5587 - val_loss: 14.6178\n",
            "\u001b[1m50/50\u001b[0m \u001b[32m━━━━━━━━━━━━━━━━━━━━\u001b[0m\u001b[37m\u001b[0m \u001b[1m1s\u001b[0m 29ms/step - accuracy: 0.5442 - loss: 14.5710 - val_accuracy: 0.5125 - val_loss: 14.4207\n",
            "\u001b[1m50/50\u001b[0m \u001b[32m━━━━━━━━━━━━━━━━━━━━\u001b[0m\u001b[37m\u001b[0m \u001b[1m1s\u001b[0m 29ms/step - accuracy: 0.5546 - loss: 14.3713 - val_accuracy: 0.5575 - val_loss: 14.2196\n",
            "\u001b[1m50/50\u001b[0m \u001b[32m━━━━━━━━━━━━━━━━━━━━\u001b[0m\u001b[37m\u001b[0m \u001b[1m1s\u001b[0m 29ms/step - accuracy: 0.5367 - loss: 14.1749 - val_accuracy: 0.4775 - val_loss: 14.0297\n",
            "\u001b[1m50/50\u001b[0m \u001b[32m━━━━━━━━━━━━━━━━━━━━\u001b[0m\u001b[37m\u001b[0m \u001b[1m1s\u001b[0m 29ms/step - accuracy: 0.5449 - loss: 13.9772 - val_accuracy: 0.6425 - val_loss: 13.8297\n",
            "\u001b[1m125/125\u001b[0m \u001b[32m━━━━━━━━━━━━━━━━━━━━\u001b[0m\u001b[37m\u001b[0m \u001b[1m1s\u001b[0m 5ms/step - accuracy: 0.6596 - loss: 13.8292\n"
          ]
        },
        {
          "output_type": "stream",
          "name": "stderr",
          "text": [
            "[I 2024-08-12 00:25:32,243] Trial 24 finished with value: 0.643750011920929 and parameters: {'num_layers': 3, 'filters_0': 75, 'filters_1': 101, 'filters_2': 112, 'kernel_size': 2, 'l1': 0.004516284770849155, 'l2': 0.00018714220922998463, 'dense_units': 175, 'dropout_rate': 0.4839784648495332, 'learning_rate': 1.2253759134421204e-05}. Best is trial 4 with value: 0.7225000262260437.\n"
          ]
        },
        {
          "output_type": "stream",
          "name": "stdout",
          "text": [
            "Trial 25 started with hyperparameters: num_layers=4, filters=[56, 118, 117, 105], kernel_size=2, l1=0.0011808612592300316, l2=0.0028097376649125474, dense_units=150, dropout_rate=0.34472590351113835, learning_rate=0.00010475342836908468\n",
            "\u001b[1m50/50\u001b[0m \u001b[32m━━━━━━━━━━━━━━━━━━━━\u001b[0m\u001b[37m\u001b[0m \u001b[1m11s\u001b[0m 77ms/step - accuracy: 0.4945 - loss: 7.7965 - val_accuracy: 0.4825 - val_loss: 7.1262\n",
            "\u001b[1m50/50\u001b[0m \u001b[32m━━━━━━━━━━━━━━━━━━━━\u001b[0m\u001b[37m\u001b[0m \u001b[1m1s\u001b[0m 26ms/step - accuracy: 0.5139 - loss: 6.9114 - val_accuracy: 0.6637 - val_loss: 6.2938\n",
            "\u001b[1m50/50\u001b[0m \u001b[32m━━━━━━━━━━━━━━━━━━━━\u001b[0m\u001b[37m\u001b[0m \u001b[1m1s\u001b[0m 26ms/step - accuracy: 0.5941 - loss: 6.1011 - val_accuracy: 0.5825 - val_loss: 5.5494\n",
            "\u001b[1m50/50\u001b[0m \u001b[32m━━━━━━━━━━━━━━━━━━━━\u001b[0m\u001b[37m\u001b[0m \u001b[1m1s\u001b[0m 26ms/step - accuracy: 0.5381 - loss: 5.3862 - val_accuracy: 0.6162 - val_loss: 4.8837\n",
            "\u001b[1m50/50\u001b[0m \u001b[32m━━━━━━━━━━━━━━━━━━━━\u001b[0m\u001b[37m\u001b[0m \u001b[1m1s\u001b[0m 27ms/step - accuracy: 0.6132 - loss: 4.7356 - val_accuracy: 0.5238 - val_loss: 4.3116\n",
            "\u001b[1m50/50\u001b[0m \u001b[32m━━━━━━━━━━━━━━━━━━━━\u001b[0m\u001b[37m\u001b[0m \u001b[1m1s\u001b[0m 26ms/step - accuracy: 0.6062 - loss: 4.1829 - val_accuracy: 0.5850 - val_loss: 3.8229\n",
            "\u001b[1m50/50\u001b[0m \u001b[32m━━━━━━━━━━━━━━━━━━━━\u001b[0m\u001b[37m\u001b[0m \u001b[1m1s\u001b[0m 26ms/step - accuracy: 0.6249 - loss: 3.6775 - val_accuracy: 0.5838 - val_loss: 3.3708\n",
            "\u001b[1m50/50\u001b[0m \u001b[32m━━━━━━━━━━━━━━━━━━━━\u001b[0m\u001b[37m\u001b[0m \u001b[1m1s\u001b[0m 26ms/step - accuracy: 0.6426 - loss: 3.2445 - val_accuracy: 0.5975 - val_loss: 2.9744\n",
            "\u001b[1m50/50\u001b[0m \u001b[32m━━━━━━━━━━━━━━━━━━━━\u001b[0m\u001b[37m\u001b[0m \u001b[1m1s\u001b[0m 26ms/step - accuracy: 0.6238 - loss: 2.8793 - val_accuracy: 0.6575 - val_loss: 2.6115\n",
            "\u001b[1m125/125\u001b[0m \u001b[32m━━━━━━━━━━━━━━━━━━━━\u001b[0m\u001b[37m\u001b[0m \u001b[1m1s\u001b[0m 5ms/step - accuracy: 0.6617 - loss: 2.6133\n"
          ]
        },
        {
          "output_type": "stream",
          "name": "stderr",
          "text": [
            "[I 2024-08-12 00:39:32,143] Trial 25 finished with value: 0.6489999890327454 and parameters: {'num_layers': 4, 'filters_0': 56, 'filters_1': 118, 'filters_2': 117, 'filters_3': 105, 'kernel_size': 2, 'l1': 0.0011808612592300316, 'l2': 0.0028097376649125474, 'dense_units': 150, 'dropout_rate': 0.34472590351113835, 'learning_rate': 0.00010475342836908468}. Best is trial 4 with value: 0.7225000262260437.\n"
          ]
        },
        {
          "output_type": "stream",
          "name": "stdout",
          "text": [
            "Trial 26 started with hyperparameters: num_layers=5, filters=[88, 80, 41, 43, 108], kernel_size=3, l1=0.0002222414768642496, l2=0.0006251149025768911, dense_units=201, dropout_rate=0.4166486701205026, learning_rate=4.4986642939331467e-05\n",
            "\u001b[1m49/50\u001b[0m \u001b[32m━━━━━━━━━━━━━━━━━━━\u001b[0m\u001b[37m━\u001b[0m \u001b[1m0s\u001b[0m 21ms/step - accuracy: 0.4911 - loss: 1.9908"
          ]
        },
        {
          "output_type": "stream",
          "name": "stderr",
          "text": [
            "[I 2024-08-12 00:41:07,009] Trial 26 pruned. Trial was pruned at epoch 0.\n"
          ]
        },
        {
          "output_type": "stream",
          "name": "stdout",
          "text": [
            "Trial 27 started with hyperparameters: num_layers=3, filters=[116, 120, 57], kernel_size=2, l1=0.009774673125284444, l2=4.493262264686182e-05, dense_units=106, dropout_rate=0.3811091217971302, learning_rate=0.00019950886575246181\n",
            "\u001b[1m50/50\u001b[0m \u001b[32m━━━━━━━━━━━━━━━━━━━━\u001b[0m\u001b[37m\u001b[0m \u001b[1m10s\u001b[0m 80ms/step - accuracy: 0.5132 - loss: 33.2027 - val_accuracy: 0.5987 - val_loss: 27.5526\n",
            "\u001b[1m50/50\u001b[0m \u001b[32m━━━━━━━━━━━━━━━━━━━━\u001b[0m\u001b[37m\u001b[0m \u001b[1m2s\u001b[0m 31ms/step - accuracy: 0.5573 - loss: 25.8406 - val_accuracy: 0.6637 - val_loss: 20.9728\n",
            "\u001b[1m50/50\u001b[0m \u001b[32m━━━━━━━━━━━━━━━━━━━━\u001b[0m\u001b[37m\u001b[0m \u001b[1m2s\u001b[0m 30ms/step - accuracy: 0.6078 - loss: 19.5204 - val_accuracy: 0.6037 - val_loss: 15.4091\n",
            "\u001b[1m50/50\u001b[0m \u001b[32m━━━━━━━━━━━━━━━━━━━━\u001b[0m\u001b[37m\u001b[0m \u001b[1m2s\u001b[0m 30ms/step - accuracy: 0.6020 - loss: 14.1980 - val_accuracy: 0.6313 - val_loss: 10.8018\n",
            "\u001b[1m50/50\u001b[0m \u001b[32m━━━━━━━━━━━━━━━━━━━━\u001b[0m\u001b[37m\u001b[0m \u001b[1m2s\u001b[0m 31ms/step - accuracy: 0.6087 - loss: 9.8351 - val_accuracy: 0.6438 - val_loss: 7.1631\n",
            "\u001b[1m50/50\u001b[0m \u001b[32m━━━━━━━━━━━━━━━━━━━━\u001b[0m\u001b[37m\u001b[0m \u001b[1m2s\u001b[0m 31ms/step - accuracy: 0.5974 - loss: 6.4310 - val_accuracy: 0.6288 - val_loss: 4.4289\n",
            "\u001b[1m50/50\u001b[0m \u001b[32m━━━━━━━━━━━━━━━━━━━━\u001b[0m\u001b[37m\u001b[0m \u001b[1m2s\u001b[0m 32ms/step - accuracy: 0.5935 - loss: 3.9019 - val_accuracy: 0.4663 - val_loss: 2.6000\n",
            "\u001b[1m50/50\u001b[0m \u001b[32m━━━━━━━━━━━━━━━━━━━━\u001b[0m\u001b[37m\u001b[0m \u001b[1m2s\u001b[0m 31ms/step - accuracy: 0.5921 - loss: 2.2625 - val_accuracy: 0.5412 - val_loss: 1.5759\n",
            "\u001b[1m50/50\u001b[0m \u001b[32m━━━━━━━━━━━━━━━━━━━━\u001b[0m\u001b[37m\u001b[0m \u001b[1m2s\u001b[0m 30ms/step - accuracy: 0.5867 - loss: 1.4563 - val_accuracy: 0.6425 - val_loss: 1.1860\n",
            "\u001b[1m125/125\u001b[0m \u001b[32m━━━━━━━━━━━━━━━━━━━━\u001b[0m\u001b[37m\u001b[0m \u001b[1m1s\u001b[0m 5ms/step - accuracy: 0.6563 - loss: 1.1857\n"
          ]
        },
        {
          "output_type": "stream",
          "name": "stderr",
          "text": [
            "[I 2024-08-12 00:55:07,496] Trial 27 finished with value: 0.6417499780654907 and parameters: {'num_layers': 3, 'filters_0': 116, 'filters_1': 120, 'filters_2': 57, 'kernel_size': 2, 'l1': 0.009774673125284444, 'l2': 4.493262264686182e-05, 'dense_units': 106, 'dropout_rate': 0.3811091217971302, 'learning_rate': 0.00019950886575246181}. Best is trial 4 with value: 0.7225000262260437.\n"
          ]
        },
        {
          "output_type": "stream",
          "name": "stdout",
          "text": [
            "Trial 28 started with hyperparameters: num_layers=4, filters=[69, 45, 97, 58], kernel_size=3, l1=5.2864069920816947e-05, l2=0.0015445262126257005, dense_units=126, dropout_rate=0.43728615143030924, learning_rate=0.0005076040857399163\n",
            "\u001b[1m49/50\u001b[0m \u001b[32m━━━━━━━━━━━━━━━━━━━\u001b[0m\u001b[37m━\u001b[0m \u001b[1m0s\u001b[0m 19ms/step - accuracy: 0.5067 - loss: 1.1397"
          ]
        },
        {
          "output_type": "stream",
          "name": "stderr",
          "text": [
            "[I 2024-08-12 00:56:40,075] Trial 28 pruned. Trial was pruned at epoch 0.\n"
          ]
        },
        {
          "output_type": "stream",
          "name": "stdout",
          "text": [
            "Trial 29 started with hyperparameters: num_layers=6, filters=[58, 55, 75, 80, 80, 54], kernel_size=2, l1=0.00025865447712319125, l2=0.0004900546860617423, dense_units=189, dropout_rate=0.3127073339126526, learning_rate=1.975392074179577e-05\n",
            "\u001b[1m47/50\u001b[0m \u001b[32m━━━━━━━━━━━━━━━━━━\u001b[0m\u001b[37m━━\u001b[0m \u001b[1m0s\u001b[0m 17ms/step - accuracy: 0.4891 - loss: 2.1442"
          ]
        },
        {
          "output_type": "stream",
          "name": "stderr",
          "text": [
            "[I 2024-08-12 00:58:12,824] Trial 29 pruned. Trial was pruned at epoch 0.\n"
          ]
        },
        {
          "output_type": "stream",
          "name": "stdout",
          "text": [
            "Trial 30 started with hyperparameters: num_layers=3, filters=[48, 72, 83], kernel_size=2, l1=0.0008626417947292036, l2=4.357768305182219e-06, dense_units=90, dropout_rate=0.2750093944755879, learning_rate=5.3581969337740576e-05\n",
            "\u001b[1m49/50\u001b[0m \u001b[32m━━━━━━━━━━━━━━━━━━━\u001b[0m\u001b[37m━\u001b[0m \u001b[1m0s\u001b[0m 15ms/step - accuracy: 0.4976 - loss: 2.3752"
          ]
        },
        {
          "output_type": "stream",
          "name": "stderr",
          "text": [
            "[I 2024-08-12 00:59:42,280] Trial 30 pruned. Trial was pruned at epoch 0.\n"
          ]
        },
        {
          "output_type": "stream",
          "name": "stdout",
          "text": [
            "Trial 31 started with hyperparameters: num_layers=3, filters=[33, 115, 98], kernel_size=3, l1=0.003841339338919923, l2=0.0009761895198890836, dense_units=74, dropout_rate=0.3754078136861881, learning_rate=0.00034389671414568253\n",
            "\u001b[1m50/50\u001b[0m \u001b[32m━━━━━━━━━━━━━━━━━━━━\u001b[0m\u001b[37m\u001b[0m \u001b[1m10s\u001b[0m 77ms/step - accuracy: 0.5433 - loss: 14.3668 - val_accuracy: 0.6350 - val_loss: 9.1196\n",
            "\u001b[1m50/50\u001b[0m \u001b[32m━━━━━━━━━━━━━━━━━━━━\u001b[0m\u001b[37m\u001b[0m \u001b[1m1s\u001b[0m 25ms/step - accuracy: 0.6052 - loss: 7.8270 - val_accuracy: 0.6650 - val_loss: 4.5228\n",
            "\u001b[1m50/50\u001b[0m \u001b[32m━━━━━━━━━━━━━━━━━━━━\u001b[0m\u001b[37m\u001b[0m \u001b[1m1s\u001b[0m 25ms/step - accuracy: 0.6326 - loss: 3.7932 - val_accuracy: 0.4950 - val_loss: 2.2157\n",
            "\u001b[1m50/50\u001b[0m \u001b[32m━━━━━━━━━━━━━━━━━━━━\u001b[0m\u001b[37m\u001b[0m \u001b[1m1s\u001b[0m 25ms/step - accuracy: 0.5756 - loss: 1.9463 - val_accuracy: 0.6700 - val_loss: 1.4567\n",
            "\u001b[1m50/50\u001b[0m \u001b[32m━━━━━━━━━━━━━━━━━━━━\u001b[0m\u001b[37m\u001b[0m \u001b[1m1s\u001b[0m 25ms/step - accuracy: 0.6476 - loss: 1.4075 - val_accuracy: 0.6675 - val_loss: 1.2318\n",
            "\u001b[1m50/50\u001b[0m \u001b[32m━━━━━━━━━━━━━━━━━━━━\u001b[0m\u001b[37m\u001b[0m \u001b[1m1s\u001b[0m 25ms/step - accuracy: 0.6244 - loss: 1.2465 - val_accuracy: 0.6225 - val_loss: 1.1745\n",
            "\u001b[1m50/50\u001b[0m \u001b[32m━━━━━━━━━━━━━━━━━━━━\u001b[0m\u001b[37m\u001b[0m \u001b[1m1s\u001b[0m 25ms/step - accuracy: 0.6434 - loss: 1.1266 - val_accuracy: 0.6575 - val_loss: 1.0678\n",
            "\u001b[1m50/50\u001b[0m \u001b[32m━━━━━━━━━━━━━━━━━━━━\u001b[0m\u001b[37m\u001b[0m \u001b[1m1s\u001b[0m 25ms/step - accuracy: 0.6141 - loss: 1.0864 - val_accuracy: 0.6700 - val_loss: 1.0284\n",
            "\u001b[1m50/50\u001b[0m \u001b[32m━━━━━━━━━━━━━━━━━━━━\u001b[0m\u001b[37m\u001b[0m \u001b[1m1s\u001b[0m 25ms/step - accuracy: 0.6560 - loss: 1.0075 - val_accuracy: 0.6637 - val_loss: 0.9581\n",
            "\u001b[1m125/125\u001b[0m \u001b[32m━━━━━━━━━━━━━━━━━━━━\u001b[0m\u001b[37m\u001b[0m \u001b[1m1s\u001b[0m 5ms/step - accuracy: 0.6524 - loss: 0.9664\n"
          ]
        },
        {
          "output_type": "stream",
          "name": "stderr",
          "text": [
            "[I 2024-08-12 01:13:39,503] Trial 31 finished with value: 0.6422500014305115 and parameters: {'num_layers': 3, 'filters_0': 33, 'filters_1': 115, 'filters_2': 98, 'kernel_size': 3, 'l1': 0.003841339338919923, 'l2': 0.0009761895198890836, 'dense_units': 74, 'dropout_rate': 0.3754078136861881, 'learning_rate': 0.00034389671414568253}. Best is trial 4 with value: 0.7225000262260437.\n"
          ]
        },
        {
          "output_type": "stream",
          "name": "stdout",
          "text": [
            "Trial 32 started with hyperparameters: num_layers=3, filters=[42, 121, 108], kernel_size=3, l1=0.002183541015313407, l2=0.000598258203807373, dense_units=94, dropout_rate=0.32884900748673535, learning_rate=0.00042264191595240325\n",
            "\u001b[1m49/50\u001b[0m \u001b[32m━━━━━━━━━━━━━━━━━━━\u001b[0m\u001b[37m━\u001b[0m \u001b[1m0s\u001b[0m 20ms/step - accuracy: 0.5134 - loss: 9.5980"
          ]
        },
        {
          "output_type": "stream",
          "name": "stderr",
          "text": [
            "[I 2024-08-12 01:15:11,587] Trial 32 pruned. Trial was pruned at epoch 0.\n"
          ]
        },
        {
          "output_type": "stream",
          "name": "stdout",
          "text": [
            "Trial 33 started with hyperparameters: num_layers=3, filters=[101, 105, 117], kernel_size=3, l1=0.0029869865599696666, l2=0.004094779831042744, dense_units=68, dropout_rate=0.3827371639523426, learning_rate=0.00012431562531388848\n",
            "\u001b[1m50/50\u001b[0m \u001b[32m━━━━━━━━━━━━━━━━━━━━\u001b[0m\u001b[37m\u001b[0m \u001b[1m11s\u001b[0m 85ms/step - accuracy: 0.5248 - loss: 17.8767 - val_accuracy: 0.5875 - val_loss: 15.0690\n",
            "\u001b[1m50/50\u001b[0m \u001b[32m━━━━━━━━━━━━━━━━━━━━\u001b[0m\u001b[37m\u001b[0m \u001b[1m2s\u001b[0m 34ms/step - accuracy: 0.5722 - loss: 14.2272 - val_accuracy: 0.6650 - val_loss: 11.8415\n",
            "\u001b[1m50/50\u001b[0m \u001b[32m━━━━━━━━━━━━━━━━━━━━\u001b[0m\u001b[37m\u001b[0m \u001b[1m2s\u001b[0m 35ms/step - accuracy: 0.5869 - loss: 11.1539 - val_accuracy: 0.5400 - val_loss: 9.1799\n",
            "\u001b[1m50/50\u001b[0m \u001b[32m━━━━━━━━━━━━━━━━━━━━\u001b[0m\u001b[37m\u001b[0m \u001b[1m2s\u001b[0m 34ms/step - accuracy: 0.6053 - loss: 8.5953 - val_accuracy: 0.6675 - val_loss: 6.9519\n",
            "\u001b[1m50/50\u001b[0m \u001b[32m━━━━━━━━━━━━━━━━━━━━\u001b[0m\u001b[37m\u001b[0m \u001b[1m2s\u001b[0m 35ms/step - accuracy: 0.6183 - loss: 6.4975 - val_accuracy: 0.4963 - val_loss: 5.2372\n",
            "\u001b[1m50/50\u001b[0m \u001b[32m━━━━━━━━━━━━━━━━━━━━\u001b[0m\u001b[37m\u001b[0m \u001b[1m2s\u001b[0m 34ms/step - accuracy: 0.6067 - loss: 4.8423 - val_accuracy: 0.6762 - val_loss: 3.7802\n",
            "\u001b[1m50/50\u001b[0m \u001b[32m━━━━━━━━━━━━━━━━━━━━\u001b[0m\u001b[37m\u001b[0m \u001b[1m2s\u001b[0m 35ms/step - accuracy: 0.6350 - loss: 3.5047 - val_accuracy: 0.6637 - val_loss: 2.7448\n",
            "\u001b[1m50/50\u001b[0m \u001b[32m━━━━━━━━━━━━━━━━━━━━\u001b[0m\u001b[37m\u001b[0m \u001b[1m2s\u001b[0m 34ms/step - accuracy: 0.6371 - loss: 2.5602 - val_accuracy: 0.6475 - val_loss: 2.0509\n",
            "\u001b[1m50/50\u001b[0m \u001b[32m━━━━━━━━━━━━━━━━━━━━\u001b[0m\u001b[37m\u001b[0m \u001b[1m2s\u001b[0m 34ms/step - accuracy: 0.6025 - loss: 1.9388 - val_accuracy: 0.6550 - val_loss: 1.6210\n",
            "\u001b[1m125/125\u001b[0m \u001b[32m━━━━━━━━━━━━━━━━━━━━\u001b[0m\u001b[37m\u001b[0m \u001b[1m1s\u001b[0m 6ms/step - accuracy: 0.6553 - loss: 1.6223\n"
          ]
        },
        {
          "output_type": "stream",
          "name": "stderr",
          "text": [
            "[I 2024-08-12 01:29:23,632] Trial 33 finished with value: 0.6430000066757202 and parameters: {'num_layers': 3, 'filters_0': 101, 'filters_1': 105, 'filters_2': 117, 'kernel_size': 3, 'l1': 0.0029869865599696666, 'l2': 0.004094779831042744, 'dense_units': 68, 'dropout_rate': 0.3827371639523426, 'learning_rate': 0.00012431562531388848}. Best is trial 4 with value: 0.7225000262260437.\n"
          ]
        },
        {
          "output_type": "stream",
          "name": "stdout",
          "text": [
            "Trial 34 started with hyperparameters: num_layers=5, filters=[94, 123, 127, 60, 32], kernel_size=3, l1=0.005603181151604657, l2=0.00018435697984292123, dense_units=165, dropout_rate=0.3570088088440216, learning_rate=0.00022041738598489063\n",
            "\u001b[1m50/50\u001b[0m \u001b[32m━━━━━━━━━━━━━━━━━━━━\u001b[0m\u001b[37m\u001b[0m \u001b[1m15s\u001b[0m 108ms/step - accuracy: 0.4901 - loss: 48.1408 - val_accuracy: 0.5175 - val_loss: 34.6428\n",
            "\u001b[1m50/50\u001b[0m \u001b[32m━━━━━━━━━━━━━━━━━━━━\u001b[0m\u001b[37m\u001b[0m \u001b[1m2s\u001b[0m 34ms/step - accuracy: 0.5087 - loss: 30.7839 - val_accuracy: 0.4800 - val_loss: 20.2873\n",
            "\u001b[1m50/50\u001b[0m \u001b[32m━━━━━━━━━━━━━━━━━━━━\u001b[0m\u001b[37m\u001b[0m \u001b[1m2s\u001b[0m 34ms/step - accuracy: 0.5028 - loss: 17.4370 - val_accuracy: 0.4725 - val_loss: 9.9835\n",
            "\u001b[1m50/50\u001b[0m \u001b[32m━━━━━━━━━━━━━━━━━━━━\u001b[0m\u001b[37m\u001b[0m \u001b[1m2s\u001b[0m 34ms/step - accuracy: 0.4827 - loss: 8.1456 - val_accuracy: 0.4938 - val_loss: 3.7257\n",
            "\u001b[1m50/50\u001b[0m \u001b[32m━━━━━━━━━━━━━━━━━━━━\u001b[0m\u001b[37m\u001b[0m \u001b[1m2s\u001b[0m 34ms/step - accuracy: 0.5046 - loss: 2.8962 - val_accuracy: 0.4913 - val_loss: 1.4052\n",
            "\u001b[1m50/50\u001b[0m \u001b[32m━━━━━━━━━━━━━━━━━━━━\u001b[0m\u001b[37m\u001b[0m \u001b[1m2s\u001b[0m 35ms/step - accuracy: 0.5055 - loss: 1.2578 - val_accuracy: 0.5050 - val_loss: 0.9707\n",
            "\u001b[1m50/50\u001b[0m \u001b[32m━━━━━━━━━━━━━━━━━━━━\u001b[0m\u001b[37m\u001b[0m \u001b[1m2s\u001b[0m 35ms/step - accuracy: 0.5020 - loss: 0.9147 - val_accuracy: 0.4663 - val_loss: 0.7886\n",
            "\u001b[1m50/50\u001b[0m \u001b[32m━━━━━━━━━━━━━━━━━━━━\u001b[0m\u001b[37m\u001b[0m \u001b[1m2s\u001b[0m 34ms/step - accuracy: 0.5091 - loss: 0.7691 - val_accuracy: 0.4787 - val_loss: 0.7459\n",
            "\u001b[1m50/50\u001b[0m \u001b[32m━━━━━━━━━━━━━━━━━━━━\u001b[0m\u001b[37m\u001b[0m \u001b[1m2s\u001b[0m 34ms/step - accuracy: 0.5066 - loss: 0.7452 - val_accuracy: 0.5025 - val_loss: 0.7448\n",
            "\u001b[1m125/125\u001b[0m \u001b[32m━━━━━━━━━━━━━━━━━━━━\u001b[0m\u001b[37m\u001b[0m \u001b[1m1s\u001b[0m 6ms/step - accuracy: 0.4971 - loss: 0.7449\n"
          ]
        },
        {
          "output_type": "stream",
          "name": "stderr",
          "text": [
            "[I 2024-08-12 01:43:31,358] Trial 34 finished with value: 0.5 and parameters: {'num_layers': 5, 'filters_0': 94, 'filters_1': 123, 'filters_2': 127, 'filters_3': 60, 'filters_4': 32, 'kernel_size': 3, 'l1': 0.005603181151604657, 'l2': 0.00018435697984292123, 'dense_units': 165, 'dropout_rate': 0.3570088088440216, 'learning_rate': 0.00022041738598489063}. Best is trial 4 with value: 0.7225000262260437.\n"
          ]
        },
        {
          "output_type": "stream",
          "name": "stdout",
          "text": [
            "Trial 35 started with hyperparameters: num_layers=3, filters=[46, 113, 92], kernel_size=3, l1=0.00047348901987143453, l2=0.0011066167695260138, dense_units=237, dropout_rate=0.33515993922415543, learning_rate=0.00027755787911711374\n",
            "\u001b[1m49/50\u001b[0m \u001b[32m━━━━━━━━━━━━━━━━━━━\u001b[0m\u001b[37m━\u001b[0m \u001b[1m0s\u001b[0m 20ms/step - accuracy: 0.5546 - loss: 2.6839"
          ]
        },
        {
          "output_type": "stream",
          "name": "stderr",
          "text": [
            "[I 2024-08-12 01:45:03,905] Trial 35 pruned. Trial was pruned at epoch 0.\n"
          ]
        },
        {
          "output_type": "stream",
          "name": "stdout",
          "text": [
            "Trial 36 started with hyperparameters: num_layers=3, filters=[52, 125, 84], kernel_size=2, l1=0.0019158424457454044, l2=0.0024230777061791395, dense_units=83, dropout_rate=0.14083733934066237, learning_rate=0.0009667814426629445\n",
            "\u001b[1m49/50\u001b[0m \u001b[32m━━━━━━━━━━━━━━━━━━━\u001b[0m\u001b[37m━\u001b[0m \u001b[1m0s\u001b[0m 18ms/step - accuracy: 0.5276 - loss: 5.8074"
          ]
        },
        {
          "output_type": "stream",
          "name": "stderr",
          "text": [
            "[I 2024-08-12 01:46:34,781] Trial 36 pruned. Trial was pruned at epoch 0.\n"
          ]
        },
        {
          "output_type": "stream",
          "name": "stdout",
          "text": [
            "Trial 37 started with hyperparameters: num_layers=4, filters=[59, 86, 103, 75], kernel_size=2, l1=0.0008773356479125744, l2=5.592390927151675e-05, dense_units=253, dropout_rate=0.2274012331348199, learning_rate=0.0006462443606347697\n",
            "\u001b[1m49/50\u001b[0m \u001b[32m━━━━━━━━━━━━━━━━━━━\u001b[0m\u001b[37m━\u001b[0m \u001b[1m0s\u001b[0m 19ms/step - accuracy: 0.5177 - loss: 3.8550"
          ]
        },
        {
          "output_type": "stream",
          "name": "stderr",
          "text": [
            "[I 2024-08-12 01:48:06,698] Trial 37 pruned. Trial was pruned at epoch 0.\n"
          ]
        },
        {
          "output_type": "stream",
          "name": "stdout",
          "text": [
            "Trial 38 started with hyperparameters: num_layers=6, filters=[73, 95, 70, 42, 109, 127], kernel_size=3, l1=4.378846246542669e-06, l2=0.006048991154340429, dense_units=117, dropout_rate=0.42870848825449315, learning_rate=0.00014219146683435628\n",
            "\u001b[1m49/50\u001b[0m \u001b[32m━━━━━━━━━━━━━━━━━━━\u001b[0m\u001b[37m━\u001b[0m \u001b[1m0s\u001b[0m 23ms/step - accuracy: 0.5032 - loss: 2.9574"
          ]
        },
        {
          "output_type": "stream",
          "name": "stderr",
          "text": [
            "[I 2024-08-12 01:49:42,820] Trial 38 pruned. Trial was pruned at epoch 0.\n"
          ]
        },
        {
          "output_type": "stream",
          "name": "stdout",
          "text": [
            "Trial 39 started with hyperparameters: num_layers=5, filters=[32, 107, 41, 89, 127], kernel_size=2, l1=0.0001851417978379945, l2=0.0004493479084926034, dense_units=66, dropout_rate=0.4684068039488271, learning_rate=8.233606414020829e-05\n",
            "\u001b[1m47/50\u001b[0m \u001b[32m━━━━━━━━━━━━━━━━━━\u001b[0m\u001b[37m━━\u001b[0m \u001b[1m0s\u001b[0m 15ms/step - accuracy: 0.4939 - loss: 1.5915"
          ]
        },
        {
          "output_type": "stream",
          "name": "stderr",
          "text": [
            "[I 2024-08-12 01:51:14,908] Trial 39 pruned. Trial was pruned at epoch 0.\n"
          ]
        },
        {
          "output_type": "stream",
          "name": "stdout",
          "text": [
            "Trial 40 started with hyperparameters: num_layers=3, filters=[84, 99, 121], kernel_size=3, l1=0.008031966773381092, l2=0.00015362550719592123, dense_units=137, dropout_rate=0.2936072973850422, learning_rate=0.0004631266137429955\n",
            "\u001b[1m50/50\u001b[0m \u001b[32m━━━━━━━━━━━━━━━━━━━━\u001b[0m\u001b[37m\u001b[0m \u001b[1m12s\u001b[0m 89ms/step - accuracy: 0.5158 - loss: 36.4344 - val_accuracy: 0.4825 - val_loss: 18.2724\n",
            "\u001b[1m50/50\u001b[0m \u001b[32m━━━━━━━━━━━━━━━━━━━━\u001b[0m\u001b[37m\u001b[0m \u001b[1m2s\u001b[0m 32ms/step - accuracy: 0.5363 - loss: 13.9469 - val_accuracy: 0.5587 - val_loss: 4.2760\n",
            "\u001b[1m50/50\u001b[0m \u001b[32m━━━━━━━━━━━━━━━━━━━━\u001b[0m\u001b[37m\u001b[0m \u001b[1m2s\u001b[0m 33ms/step - accuracy: 0.5264 - loss: 2.9871 - val_accuracy: 0.4725 - val_loss: 1.2204\n",
            "\u001b[1m50/50\u001b[0m \u001b[32m━━━━━━━━━━━━━━━━━━━━\u001b[0m\u001b[37m\u001b[0m \u001b[1m2s\u001b[0m 33ms/step - accuracy: 0.4695 - loss: 1.0932 - val_accuracy: 0.4938 - val_loss: 0.8913\n",
            "\u001b[1m50/50\u001b[0m \u001b[32m━━━━━━━━━━━━━━━━━━━━\u001b[0m\u001b[37m\u001b[0m \u001b[1m2s\u001b[0m 33ms/step - accuracy: 0.4992 - loss: 0.8714 - val_accuracy: 0.4913 - val_loss: 0.8331\n",
            "\u001b[1m50/50\u001b[0m \u001b[32m━━━━━━━━━━━━━━━━━━━━\u001b[0m\u001b[37m\u001b[0m \u001b[1m2s\u001b[0m 32ms/step - accuracy: 0.5077 - loss: 0.8263 - val_accuracy: 0.5050 - val_loss: 0.8099\n",
            "\u001b[1m50/50\u001b[0m \u001b[32m━━━━━━━━━━━━━━━━━━━━\u001b[0m\u001b[37m\u001b[0m \u001b[1m2s\u001b[0m 33ms/step - accuracy: 0.4873 - loss: 0.8068 - val_accuracy: 0.4663 - val_loss: 0.7980\n",
            "\u001b[1m50/50\u001b[0m \u001b[32m━━━━━━━━━━━━━━━━━━━━\u001b[0m\u001b[37m\u001b[0m \u001b[1m2s\u001b[0m 33ms/step - accuracy: 0.5097 - loss: 0.7956 - val_accuracy: 0.4787 - val_loss: 0.7900\n",
            "\u001b[1m50/50\u001b[0m \u001b[32m━━━━━━━━━━━━━━━━━━━━\u001b[0m\u001b[37m\u001b[0m \u001b[1m2s\u001b[0m 32ms/step - accuracy: 0.5093 - loss: 0.7886 - val_accuracy: 0.5025 - val_loss: 0.7850\n",
            "\u001b[1m125/125\u001b[0m \u001b[32m━━━━━━━━━━━━━━━━━━━━\u001b[0m\u001b[37m\u001b[0m \u001b[1m1s\u001b[0m 6ms/step - accuracy: 0.4971 - loss: 0.7850\n"
          ]
        },
        {
          "output_type": "stream",
          "name": "stderr",
          "text": [
            "[I 2024-08-12 02:05:18,803] Trial 40 finished with value: 0.5 and parameters: {'num_layers': 3, 'filters_0': 84, 'filters_1': 99, 'filters_2': 121, 'kernel_size': 3, 'l1': 0.008031966773381092, 'l2': 0.00015362550719592123, 'dense_units': 137, 'dropout_rate': 0.2936072973850422, 'learning_rate': 0.0004631266137429955}. Best is trial 4 with value: 0.7225000262260437.\n"
          ]
        },
        {
          "output_type": "stream",
          "name": "stdout",
          "text": [
            "Trial 41 started with hyperparameters: num_layers=5, filters=[101, 128, 89, 66, 53], kernel_size=2, l1=0.0005410448439361618, l2=1.5019174442954534e-05, dense_units=95, dropout_rate=0.39408841978068737, learning_rate=2.4602853922383222e-05\n",
            "\u001b[1m50/50\u001b[0m \u001b[32m━━━━━━━━━━━━━━━━━━━━\u001b[0m\u001b[37m\u001b[0m \u001b[1m0s\u001b[0m 26ms/step - accuracy: 0.5017 - loss: 3.9037"
          ]
        },
        {
          "output_type": "stream",
          "name": "stderr",
          "text": [
            "[I 2024-08-12 02:06:52,647] Trial 41 pruned. Trial was pruned at epoch 0.\n"
          ]
        },
        {
          "output_type": "stream",
          "name": "stdout",
          "text": [
            "Trial 42 started with hyperparameters: num_layers=6, filters=[114, 116, 120, 60, 62, 70], kernel_size=2, l1=0.0003474581078107183, l2=5.4363529445257805e-05, dense_units=82, dropout_rate=0.20325059758290642, learning_rate=6.538763443256017e-05\n",
            "\u001b[1m49/50\u001b[0m \u001b[32m━━━━━━━━━━━━━━━━━━━\u001b[0m\u001b[37m━\u001b[0m \u001b[1m0s\u001b[0m 27ms/step - accuracy: 0.5010 - loss: 3.2617"
          ]
        },
        {
          "output_type": "stream",
          "name": "stderr",
          "text": [
            "[I 2024-08-12 02:08:28,077] Trial 42 pruned. Trial was pruned at epoch 0.\n"
          ]
        },
        {
          "output_type": "stream",
          "name": "stdout",
          "text": [
            "Trial 43 started with hyperparameters: num_layers=5, filters=[121, 122, 59, 74, 78], kernel_size=2, l1=0.0027636696152467, l2=2.6406796039693778e-05, dense_units=75, dropout_rate=0.2558999999617405, learning_rate=9.848971914684154e-05\n",
            "\u001b[1m50/50\u001b[0m \u001b[32m━━━━━━━━━━━━━━━━━━━━\u001b[0m\u001b[37m\u001b[0m \u001b[1m13s\u001b[0m 99ms/step - accuracy: 0.5005 - loss: 16.1369 - val_accuracy: 0.5175 - val_loss: 14.8713\n",
            "\u001b[1m50/50\u001b[0m \u001b[32m━━━━━━━━━━━━━━━━━━━━\u001b[0m\u001b[37m\u001b[0m \u001b[1m2s\u001b[0m 36ms/step - accuracy: 0.5061 - loss: 14.4664 - val_accuracy: 0.6750 - val_loss: 13.2732\n",
            "\u001b[1m50/50\u001b[0m \u001b[32m━━━━━━━━━━━━━━━━━━━━\u001b[0m\u001b[37m\u001b[0m \u001b[1m2s\u001b[0m 36ms/step - accuracy: 0.5481 - loss: 12.8913 - val_accuracy: 0.5763 - val_loss: 11.7711\n",
            "\u001b[1m50/50\u001b[0m \u001b[32m━━━━━━━━━━━━━━━━━━━━\u001b[0m\u001b[37m\u001b[0m \u001b[1m2s\u001b[0m 35ms/step - accuracy: 0.5368 - loss: 11.4134 - val_accuracy: 0.4938 - val_loss: 10.3648\n",
            "\u001b[1m50/50\u001b[0m \u001b[32m━━━━━━━━━━━━━━━━━━━━\u001b[0m\u001b[37m\u001b[0m \u001b[1m2s\u001b[0m 35ms/step - accuracy: 0.5202 - loss: 10.0310 - val_accuracy: 0.5537 - val_loss: 9.0552\n",
            "\u001b[1m50/50\u001b[0m \u001b[32m━━━━━━━━━━━━━━━━━━━━\u001b[0m\u001b[37m\u001b[0m \u001b[1m2s\u001b[0m 35ms/step - accuracy: 0.5327 - loss: 8.7462 - val_accuracy: 0.5625 - val_loss: 7.8433\n",
            "\u001b[1m50/50\u001b[0m \u001b[32m━━━━━━━━━━━━━━━━━━━━\u001b[0m\u001b[37m\u001b[0m \u001b[1m2s\u001b[0m 36ms/step - accuracy: 0.5190 - loss: 7.5585 - val_accuracy: 0.4663 - val_loss: 6.7303\n",
            "\u001b[1m50/50\u001b[0m \u001b[32m━━━━━━━━━━━━━━━━━━━━\u001b[0m\u001b[37m\u001b[0m \u001b[1m2s\u001b[0m 36ms/step - accuracy: 0.5091 - loss: 6.4683 - val_accuracy: 0.4787 - val_loss: 5.7132\n",
            "\u001b[1m50/50\u001b[0m \u001b[32m━━━━━━━━━━━━━━━━━━━━\u001b[0m\u001b[37m\u001b[0m \u001b[1m2s\u001b[0m 35ms/step - accuracy: 0.5066 - loss: 5.4766 - val_accuracy: 0.5025 - val_loss: 4.7944\n",
            "\u001b[1m125/125\u001b[0m \u001b[32m━━━━━━━━━━━━━━━━━━━━\u001b[0m\u001b[37m\u001b[0m \u001b[1m1s\u001b[0m 6ms/step - accuracy: 0.4971 - loss: 4.7945\n"
          ]
        },
        {
          "output_type": "stream",
          "name": "stderr",
          "text": [
            "[I 2024-08-12 02:22:36,551] Trial 43 finished with value: 0.5 and parameters: {'num_layers': 5, 'filters_0': 121, 'filters_1': 122, 'filters_2': 59, 'filters_3': 74, 'filters_4': 78, 'kernel_size': 2, 'l1': 0.0027636696152467, 'l2': 2.6406796039693778e-05, 'dense_units': 75, 'dropout_rate': 0.2558999999617405, 'learning_rate': 9.848971914684154e-05}. Best is trial 4 with value: 0.7225000262260437.\n"
          ]
        },
        {
          "output_type": "stream",
          "name": "stdout",
          "text": [
            "Trial 44 started with hyperparameters: num_layers=5, filters=[103, 112, 78, 40, 49], kernel_size=2, l1=0.0013058933367586076, l2=8.522613983168593e-05, dense_units=102, dropout_rate=0.31737730166211486, learning_rate=0.0007216548117487627\n",
            "\u001b[1m48/50\u001b[0m \u001b[32m━━━━━━━━━━━━━━━━━━━\u001b[0m\u001b[37m━\u001b[0m \u001b[1m0s\u001b[0m 24ms/step - accuracy: 0.4971 - loss: 5.8841"
          ]
        },
        {
          "output_type": "stream",
          "name": "stderr",
          "text": [
            "[I 2024-08-12 02:24:11,204] Trial 44 pruned. Trial was pruned at epoch 0.\n"
          ]
        },
        {
          "output_type": "stream",
          "name": "stdout",
          "text": [
            "Trial 45 started with hyperparameters: num_layers=4, filters=[89, 128, 113, 51], kernel_size=2, l1=0.0006400891210760033, l2=4.276627025612399e-06, dense_units=115, dropout_rate=0.3497139081494682, learning_rate=0.00026281657856792764\n",
            "\u001b[1m49/50\u001b[0m \u001b[32m━━━━━━━━━━━━━━━━━━━\u001b[0m\u001b[37m━\u001b[0m \u001b[1m0s\u001b[0m 23ms/step - accuracy: 0.5174 - loss: 3.8853"
          ]
        },
        {
          "output_type": "stream",
          "name": "stderr",
          "text": [
            "[I 2024-08-12 02:25:43,985] Trial 45 pruned. Trial was pruned at epoch 0.\n"
          ]
        },
        {
          "output_type": "stream",
          "name": "stdout",
          "text": [
            "Trial 46 started with hyperparameters: num_layers=5, filters=[94, 110, 93, 47, 34], kernel_size=3, l1=8.209959216736836e-05, l2=0.0013686588869021746, dense_units=78, dropout_rate=0.45808570306516744, learning_rate=0.0003480568819856838\n",
            "\u001b[1m49/50\u001b[0m \u001b[32m━━━━━━━━━━━━━━━━━━━\u001b[0m\u001b[37m━\u001b[0m \u001b[1m0s\u001b[0m 27ms/step - accuracy: 0.4875 - loss: 1.6114"
          ]
        },
        {
          "output_type": "stream",
          "name": "stderr",
          "text": [
            "[I 2024-08-12 02:27:19,097] Trial 46 pruned. Trial was pruned at epoch 0.\n"
          ]
        },
        {
          "output_type": "stream",
          "name": "stdout",
          "text": [
            "Trial 47 started with hyperparameters: num_layers=5, filters=[79, 60, 54, 33, 76], kernel_size=2, l1=0.00014116885181233933, l2=0.00027449355210544, dense_units=138, dropout_rate=0.3727881545028794, learning_rate=0.00015463239814699859\n",
            "\u001b[1m49/50\u001b[0m \u001b[32m━━━━━━━━━━━━━━━━━━━\u001b[0m\u001b[37m━\u001b[0m \u001b[1m0s\u001b[0m 19ms/step - accuracy: 0.5069 - loss: 1.1370"
          ]
        },
        {
          "output_type": "stream",
          "name": "stderr",
          "text": [
            "[I 2024-08-12 02:28:51,438] Trial 47 pruned. Trial was pruned at epoch 0.\n"
          ]
        },
        {
          "output_type": "stream",
          "name": "stdout",
          "text": [
            "Trial 48 started with hyperparameters: num_layers=3, filters=[40, 124, 103], kernel_size=3, l1=2.195655020140089e-06, l2=0.0006963405631647386, dense_units=239, dropout_rate=0.13236113984711123, learning_rate=1.4527206048438652e-05\n",
            "\u001b[1m49/50\u001b[0m \u001b[32m━━━━━━━━━━━━━━━━━━━\u001b[0m\u001b[37m━\u001b[0m \u001b[1m0s\u001b[0m 18ms/step - accuracy: 0.5064 - loss: 0.8293"
          ]
        },
        {
          "output_type": "stream",
          "name": "stderr",
          "text": [
            "[I 2024-08-12 02:30:23,438] Trial 48 pruned. Trial was pruned at epoch 0.\n"
          ]
        },
        {
          "output_type": "stream",
          "name": "stdout",
          "text": [
            "Trial 49 started with hyperparameters: num_layers=4, filters=[97, 66, 43, 56], kernel_size=2, l1=1.045876041342991e-05, l2=0.002171021539639442, dense_units=210, dropout_rate=0.4140624319100813, learning_rate=3.339705968715223e-05\n",
            "\u001b[1m48/50\u001b[0m \u001b[32m━━━━━━━━━━━━━━━━━━━\u001b[0m\u001b[37m━\u001b[0m \u001b[1m0s\u001b[0m 22ms/step - accuracy: 0.5085 - loss: 1.1111"
          ]
        },
        {
          "output_type": "stream",
          "name": "stderr",
          "text": [
            "[I 2024-08-12 02:31:55,453] Trial 49 pruned. Trial was pruned at epoch 0.\n"
          ]
        },
        {
          "output_type": "stream",
          "name": "stdout",
          "text": [
            "Best trial:\n",
            "Value: 0.7225000262260437\n",
            "Params: \n",
            "    num_layers: 5\n",
            "    filters_0: 65\n",
            "    filters_1: 128\n",
            "    filters_2: 77\n",
            "    filters_3: 48\n",
            "    filters_4: 127\n",
            "    kernel_size: 2\n",
            "    l1: 5.39171365329603e-06\n",
            "    l2: 0.000508098182990793\n",
            "    dense_units: 122\n",
            "    dropout_rate: 0.44775481260866545\n",
            "    learning_rate: 0.00023021217142648836\n",
            "Elapsed time: 19644.33 seconds\n"
          ]
        }
      ]
    },
    {
      "cell_type": "markdown",
      "source": [
        "Ancient and strong selection"
      ],
      "metadata": {
        "id": "Shf2r5VIbZjv"
      }
    },
    {
      "cell_type": "code",
      "source": [
        "\n",
        "# Configure logging to file in the current directory with the specified name\n",
        "logging.basicConfig(filename='Ancient_Scenarios_AS.log', level=logging.INFO,\n",
        "                    format='%(asctime)s:%(levelname)s:%(message)s')\n",
        "\n",
        "# Function to preprocess data\n",
        "def preprocess_data(simulations_folder, batch_number):\n",
        "    # Create ImaFile object for the specified simulation folder and model\n",
        "    file_sim = ImaFile(simulations_folder=os.path.join(simulations_folder, f'Simulations{batch_number}'), nr_samples=198, model_name='Marth-3epoch-CEU')\n",
        "\n",
        "    # Read the simulation data\n",
        "    gene_sim = file_sim.read_simulations(parameter_name='selection_coeff_hetero', max_nrepl=4000)\n",
        "\n",
        "    # Filter simulations based on frequency threshold\n",
        "    gene_sim.filter_freq(0.01)\n",
        "\n",
        "    # Sort simulations by row frequency\n",
        "    gene_sim.sort('rows_freq')\n",
        "\n",
        "    # Resize simulation data to the required dimensions\n",
        "    gene_sim.resize((198, 192))\n",
        "\n",
        "    # Convert simulation data (flip=True allows for data augmentation)\n",
        "    gene_sim.convert(flip=True)\n",
        "\n",
        "    # Get a random subset of indices and subset the simulation data\n",
        "    gene_sim.subset(get_index_random(gene_sim))\n",
        "\n",
        "    # Convert targets to binary format\n",
        "    gene_sim.targets = to_binary(gene_sim.targets)\n",
        "\n",
        "    return gene_sim\n",
        "\n",
        "# Objective function for Optuna optimization\n",
        "def objective(trial, simulations_folder, epochs=1):\n",
        "    # Set random seed\n",
        "    np.random.seed(42)\n",
        "    tf.random.set_seed(42)\n",
        "\n",
        "    # Hyperparameters to be optimized\n",
        "    num_layers = trial.suggest_int('num_layers', 3, 6)  # Limit the number of layers to avoid excessive reduction\n",
        "    filters = [trial.suggest_int(f'filters_{i}', 32, 128) for i in range(num_layers)]  # Adjust filters range\n",
        "    kernel_size = trial.suggest_int('kernel_size', 2, 3)  # Limit the kernel size to avoid excessive reduction\n",
        "    l1 = trial.suggest_float('l1', 1e-6, 1e-2, log=True)\n",
        "    l2 = trial.suggest_float('l2', 1e-6, 1e-2, log=True)\n",
        "    dense_units = trial.suggest_int('dense_units', 64, 256)  # Adjust dense units range\n",
        "    dropout_rate = trial.suggest_float('dropout_rate', 0.1, 0.5)\n",
        "    learning_rate = trial.suggest_float('learning_rate', 1e-5, 1e-3, log=True)\n",
        "\n",
        "    # Log the hyperparameters at the start of each trial\n",
        "    logging.info(f'Trial {trial.number} started with hyperparameters: num_layers={num_layers}, filters={filters}, '\n",
        "                 f'kernel_size={kernel_size}, l1={l1}, l2={l2}, dense_units={dense_units}, '\n",
        "                 f'dropout_rate={dropout_rate}, learning_rate={learning_rate}')\n",
        "    print(f'Trial {trial.number} started with hyperparameters: num_layers={num_layers}, filters={filters}, '\n",
        "          f'kernel_size={kernel_size}, l1={l1}, l2={l2}, dense_units={dense_units}, '\n",
        "          f'dropout_rate={dropout_rate}, learning_rate={learning_rate}')\n",
        "\n",
        "    # Building the model based on sampled hyperparameters\n",
        "    model = models.Sequential()\n",
        "    model.add(layers.Input(shape=(198, 192, 1)))  # Define the input layer\n",
        "    for i in range(num_layers):\n",
        "        model.add(layers.Conv2D(filters=filters[i], kernel_size=(kernel_size, kernel_size), strides=(1, 1), activation='relu',\n",
        "                                kernel_regularizer=regularizers.l1_l2(l1=l1, l2=l2), padding='same'))  # Use 'same' padding to avoid dimension issues\n",
        "        model.add(layers.MaxPooling2D(pool_size=(2, 2)))\n",
        "\n",
        "    model.add(layers.Flatten())  # Flatten the output for the Dense layers\n",
        "    model.add(layers.Dense(units=dense_units, activation='relu'))  # Add Dense layer\n",
        "    model.add(layers.Dropout(rate=dropout_rate))  # Add Dropout layer\n",
        "    model.add(layers.Dense(units=1, activation='sigmoid'))  # Output layer with sigmoid activation\n",
        "\n",
        "    optimizer = tf.keras.optimizers.Adam(learning_rate=learning_rate)  # Define optimizer\n",
        "    model.compile(optimizer=optimizer, loss='binary_crossentropy', metrics=['accuracy'])  # Compile the model\n",
        "\n",
        "    # Pruning callback to terminate unpromising trials\n",
        "    pruning_callback = TFKerasPruningCallback(trial, 'val_loss')\n",
        "\n",
        "    # Early stopping to prevent overfitting\n",
        "    early_stopping = EarlyStopping(monitor='val_loss', patience=3, restore_best_weights=True)\n",
        "\n",
        "    # Incremental training on 9 batches\n",
        "    best_val_loss = np.inf  # Track the best validation loss\n",
        "    for batch_number in range(1, 10):\n",
        "        gene_sim = preprocess_data(simulations_folder, batch_number)  # Preprocess data\n",
        "        history = model.fit(gene_sim.data, gene_sim.targets, batch_size=64, epochs=epochs, verbose=1, validation_split=0.2,\n",
        "                            callbacks=[early_stopping, pruning_callback])  # Train the model with callbacks\n",
        "\n",
        "        # Get the validation loss for the current epoch\n",
        "        val_loss = min(history.history['val_loss'])\n",
        "        if val_loss < best_val_loss:\n",
        "            best_val_loss = val_loss\n",
        "            trial.report(val_loss, batch_number)\n",
        "            if trial.should_prune():\n",
        "                raise optuna.exceptions.TrialPruned()\n",
        "\n",
        "    # Evaluate the model on the 10th batch\n",
        "    gene_sim = preprocess_data(simulations_folder, 10)\n",
        "    evaluation = model.evaluate(gene_sim.data, gene_sim.targets, verbose=1)\n",
        "    return evaluation[1]  # Return the accuracy\n",
        "\n",
        "# Function to run the optimization process\n",
        "def run_optimization():\n",
        "    start_time = time.time()  # Record start time\n",
        "\n",
        "    simulations_folder = '/content/EvoNet-CNN-Insight/model_training/Ancient_strong/AS'  # Folder for this dataset\n",
        "    logging.info(f\"Starting optimization for {simulations_folder}\")\n",
        "    print(f\"Starting optimization for {simulations_folder}\")\n",
        "\n",
        "    # Create an Optuna study and optimize the objective function\n",
        "    study = optuna.create_study(direction='maximize', pruner=optuna.pruners.MedianPruner(), storage='sqlite:///as_study.db', load_if_exists=True)  # Use SQLite storage\n",
        "    study.optimize(lambda trial: objective(trial, simulations_folder), n_trials=50)  # Set to 50 trials\n",
        "\n",
        "    try:\n",
        "        trial = study.best_trial\n",
        "        print('Best trial:')\n",
        "        print('Value: {}'.format(trial.value))\n",
        "        print('Params: ')\n",
        "        for key, value in trial.params.items():\n",
        "            print('    {}: {}'.format(key, value))  # Print best trial parameters\n",
        "\n",
        "        logging.info('Best trial:')\n",
        "        logging.info('Value: {}'.format(trial.value))\n",
        "        logging.info('Params: ')\n",
        "        for key, value in trial.params.items():\n",
        "            logging.info('    {}: {}'.format(key, value))  # Log best trial parameters\n",
        "\n",
        "    except ValueError as e:\n",
        "        logging.error(f\"No completed trials: {e}\")  # Log error if no trials are completed\n",
        "\n",
        "    elapsed_time = time.time() - start_time  # Calculate elapsed time\n",
        "    print(f\"Elapsed time: {elapsed_time:.2f} seconds\")\n",
        "    logging.info(f\"Elapsed time: {elapsed_time:.2f} seconds\")  # Log elapsed time\n",
        "\n",
        "# Run the optimization process\n",
        "if __name__ == '__main__':\n",
        "    run_optimization()  # Execute the optimization function\n"
      ],
      "metadata": {
        "colab": {
          "base_uri": "https://localhost:8080/"
        },
        "id": "QyInF-3ObdCx",
        "outputId": "d47a5487-859e-4464-b724-2de70395fd68"
      },
      "execution_count": null,
      "outputs": [
        {
          "metadata": {
            "tags": null
          },
          "name": "stdout",
          "output_type": "stream",
          "text": [
            "Starting optimization for /content/EvoNet-CNN-Insight/model_training/Ancient_strong/AS\n"
          ]
        },
        {
          "metadata": {
            "tags": null
          },
          "name": "stderr",
          "output_type": "stream",
          "text": [
            "[I 2024-08-13 11:10:17,548] A new study created in RDB with name: no-name-da99b1f4-10c0-4dcf-80b8-0fe09ecf6472\n"
          ]
        },
        {
          "metadata": {
            "tags": null
          },
          "name": "stdout",
          "output_type": "stream",
          "text": [
            "Trial 0 started with hyperparameters: num_layers=5, filters=[118, 124, 38, 78, 78], kernel_size=3, l1=1.549449854388779e-05, l2=0.0001894902426840597, dense_units=121, dropout_rate=0.11205384804668804, learning_rate=1.251314385156787e-05\n",
            "\u001b[1m50/50\u001b[0m \u001b[32m━━━━━━━━━━━━━━━━━━━━\u001b[0m\u001b[37m\u001b[0m \u001b[1m30s\u001b[0m 262ms/step - accuracy: 0.5012 - loss: 0.8696 - val_accuracy: 0.4875 - val_loss: 0.8680\n",
            "\u001b[1m50/50\u001b[0m \u001b[32m━━━━━━━━━━━━━━━━━━━━\u001b[0m\u001b[37m\u001b[0m \u001b[1m6s\u001b[0m 129ms/step - accuracy: 0.5223 - loss: 0.8673 - val_accuracy: 0.4913 - val_loss: 0.8658\n"
          ]
        },
        {
          "metadata": {
            "tags": null
          },
          "name": "stderr",
          "output_type": "stream",
          "text": [
            "/usr/local/lib/python3.10/dist-packages/optuna/trial/_trial.py:493: UserWarning: The reported value is ignored because this `step` 0 is already reported.\n",
            "  warnings.warn(\n"
          ]
        },
        {
          "metadata": {
            "tags": null
          },
          "name": "stdout",
          "output_type": "stream",
          "text": [
            "\u001b[1m50/50\u001b[0m \u001b[32m━━━━━━━━━━━━━━━━━━━━\u001b[0m\u001b[37m\u001b[0m \u001b[1m7s\u001b[0m 130ms/step - accuracy: 0.5214 - loss: 0.8652 - val_accuracy: 0.5487 - val_loss: 0.8626\n",
            "\u001b[1m50/50\u001b[0m \u001b[32m━━━━━━━━━━━━━━━━━━━━\u001b[0m\u001b[37m\u001b[0m \u001b[1m6s\u001b[0m 130ms/step - accuracy: 0.5261 - loss: 0.8624 - val_accuracy: 0.5100 - val_loss: 0.8605\n",
            "\u001b[1m50/50\u001b[0m \u001b[32m━━━━━━━━━━━━━━━━━━━━\u001b[0m\u001b[37m\u001b[0m \u001b[1m7s\u001b[0m 130ms/step - accuracy: 0.5391 - loss: 0.8604 - val_accuracy: 0.5100 - val_loss: 0.8586\n",
            "\u001b[1m50/50\u001b[0m \u001b[32m━━━━━━━━━━━━━━━━━━━━\u001b[0m\u001b[37m\u001b[0m \u001b[1m6s\u001b[0m 130ms/step - accuracy: 0.5493 - loss: 0.8578 - val_accuracy: 0.4950 - val_loss: 0.8568\n",
            "\u001b[1m50/50\u001b[0m \u001b[32m━━━━━━━━━━━━━━━━━━━━\u001b[0m\u001b[37m\u001b[0m \u001b[1m6s\u001b[0m 130ms/step - accuracy: 0.5269 - loss: 0.8556 - val_accuracy: 0.5312 - val_loss: 0.8512\n",
            "\u001b[1m50/50\u001b[0m \u001b[32m━━━━━━━━━━━━━━━━━━━━\u001b[0m\u001b[37m\u001b[0m \u001b[1m6s\u001b[0m 130ms/step - accuracy: 0.5156 - loss: 0.8538 - val_accuracy: 0.4925 - val_loss: 0.8547\n",
            "\u001b[1m50/50\u001b[0m \u001b[32m━━━━━━━━━━━━━━━━━━━━\u001b[0m\u001b[37m\u001b[0m \u001b[1m6s\u001b[0m 130ms/step - accuracy: 0.5262 - loss: 0.8517 - val_accuracy: 0.6150 - val_loss: 0.8471\n",
            "\u001b[1m125/125\u001b[0m \u001b[32m━━━━━━━━━━━━━━━━━━━━\u001b[0m\u001b[37m\u001b[0m \u001b[1m2s\u001b[0m 15ms/step - accuracy: 0.6127 - loss: 0.8466\n"
          ]
        },
        {
          "metadata": {
            "tags": null
          },
          "name": "stderr",
          "output_type": "stream",
          "text": [
            "[I 2024-08-13 11:25:40,569] Trial 0 finished with value: 0.6150000095367432 and parameters: {'num_layers': 5, 'filters_0': 118, 'filters_1': 124, 'filters_2': 38, 'filters_3': 78, 'filters_4': 78, 'kernel_size': 3, 'l1': 1.549449854388779e-05, 'l2': 0.0001894902426840597, 'dense_units': 121, 'dropout_rate': 0.11205384804668804, 'learning_rate': 1.251314385156787e-05}. Best is trial 0 with value: 0.6150000095367432.\n"
          ]
        },
        {
          "metadata": {
            "tags": null
          },
          "name": "stdout",
          "output_type": "stream",
          "text": [
            "Trial 1 started with hyperparameters: num_layers=3, filters=[101, 121, 91], kernel_size=2, l1=0.001813842475479977, l2=0.006947803355494983, dense_units=233, dropout_rate=0.43384079474113, learning_rate=2.7770805206373986e-05\n",
            "\u001b[1m50/50\u001b[0m \u001b[32m━━━━━━━━━━━━━━━━━━━━\u001b[0m\u001b[37m\u001b[0m \u001b[1m19s\u001b[0m 199ms/step - accuracy: 0.5067 - loss: 9.1634 - val_accuracy: 0.4825 - val_loss: 8.9389\n",
            "\u001b[1m50/50\u001b[0m \u001b[32m━━━━━━━━━━━━━━━━━━━━\u001b[0m\u001b[37m\u001b[0m \u001b[1m6s\u001b[0m 112ms/step - accuracy: 0.5194 - loss: 8.8651 - val_accuracy: 0.5100 - val_loss: 8.6439\n",
            "\u001b[1m50/50\u001b[0m \u001b[32m━━━━━━━━━━━━━━━━━━━━\u001b[0m\u001b[37m\u001b[0m \u001b[1m6s\u001b[0m 112ms/step - accuracy: 0.5257 - loss: 8.5742 - val_accuracy: 0.4725 - val_loss: 8.3623\n",
            "\u001b[1m50/50\u001b[0m \u001b[32m━━━━━━━━━━━━━━━━━━━━\u001b[0m\u001b[37m\u001b[0m \u001b[1m6s\u001b[0m 112ms/step - accuracy: 0.5309 - loss: 8.2916 - val_accuracy: 0.6513 - val_loss: 8.0809\n",
            "\u001b[1m50/50\u001b[0m \u001b[32m━━━━━━━━━━━━━━━━━━━━\u001b[0m\u001b[37m\u001b[0m \u001b[1m6s\u001b[0m 112ms/step - accuracy: 0.5579 - loss: 8.0159 - val_accuracy: 0.5900 - val_loss: 7.8154\n",
            "\u001b[1m50/50\u001b[0m \u001b[32m━━━━━━━━━━━━━━━━━━━━\u001b[0m\u001b[37m\u001b[0m \u001b[1m6s\u001b[0m 112ms/step - accuracy: 0.5539 - loss: 7.7514 - val_accuracy: 0.4950 - val_loss: 7.5594\n",
            "\u001b[1m50/50\u001b[0m \u001b[32m━━━━━━━━━━━━━━━━━━━━\u001b[0m\u001b[37m\u001b[0m \u001b[1m6s\u001b[0m 112ms/step - accuracy: 0.5295 - loss: 7.4940 - val_accuracy: 0.5462 - val_loss: 7.3099\n",
            "\u001b[1m50/50\u001b[0m \u001b[32m━━━━━━━━━━━━━━━━━━━━\u001b[0m\u001b[37m\u001b[0m \u001b[1m6s\u001b[0m 112ms/step - accuracy: 0.5517 - loss: 7.2519 - val_accuracy: 0.5088 - val_loss: 7.0735\n",
            "\u001b[1m50/50\u001b[0m \u001b[32m━━━━━━━━━━━━━━━━━━━━\u001b[0m\u001b[37m\u001b[0m \u001b[1m6s\u001b[0m 112ms/step - accuracy: 0.5561 - loss: 7.0099 - val_accuracy: 0.5675 - val_loss: 6.8330\n",
            "\u001b[1m125/125\u001b[0m \u001b[32m━━━━━━━━━━━━━━━━━━━━\u001b[0m\u001b[37m\u001b[0m \u001b[1m2s\u001b[0m 12ms/step - accuracy: 0.5938 - loss: 6.8309\n"
          ]
        },
        {
          "metadata": {
            "tags": null
          },
          "name": "stderr",
          "output_type": "stream",
          "text": [
            "[I 2024-08-13 11:40:44,502] Trial 1 finished with value: 0.5885000228881836 and parameters: {'num_layers': 3, 'filters_0': 101, 'filters_1': 121, 'filters_2': 91, 'kernel_size': 2, 'l1': 0.001813842475479977, 'l2': 0.006947803355494983, 'dense_units': 233, 'dropout_rate': 0.43384079474113, 'learning_rate': 2.7770805206373986e-05}. Best is trial 0 with value: 0.6150000095367432.\n"
          ]
        },
        {
          "metadata": {
            "tags": null
          },
          "name": "stdout",
          "output_type": "stream",
          "text": [
            "Trial 2 started with hyperparameters: num_layers=6, filters=[32, 48, 71, 48, 118, 98], kernel_size=3, l1=3.138771068677089e-06, l2=0.009232171128969863, dense_units=159, dropout_rate=0.2683624808781867, learning_rate=0.00029688643091087345\n",
            "\u001b[1m50/50\u001b[0m \u001b[32m━━━━━━━━━━━━━━━━━━━━\u001b[0m\u001b[37m\u001b[0m \u001b[1m14s\u001b[0m 124ms/step - accuracy: 0.4918 - loss: 3.3326 - val_accuracy: 0.5175 - val_loss: 2.2446\n",
            "\u001b[1m50/50\u001b[0m \u001b[32m━━━━━━━━━━━━━━━━━━━━\u001b[0m\u001b[37m\u001b[0m \u001b[1m2s\u001b[0m 48ms/step - accuracy: 0.4937 - loss: 2.0042 - val_accuracy: 0.4800 - val_loss: 1.4359\n",
            "\u001b[1m50/50\u001b[0m \u001b[32m━━━━━━━━━━━━━━━━━━━━\u001b[0m\u001b[37m\u001b[0m \u001b[1m2s\u001b[0m 48ms/step - accuracy: 0.5119 - loss: 1.3158 - val_accuracy: 0.4725 - val_loss: 1.0368\n",
            "\u001b[1m50/50\u001b[0m \u001b[32m━━━━━━━━━━━━━━━━━━━━\u001b[0m\u001b[37m\u001b[0m \u001b[1m2s\u001b[0m 48ms/step - accuracy: 0.4842 - loss: 0.9794 - val_accuracy: 0.5063 - val_loss: 0.8477\n",
            "\u001b[1m50/50\u001b[0m \u001b[32m━━━━━━━━━━━━━━━━━━━━\u001b[0m\u001b[37m\u001b[0m \u001b[1m2s\u001b[0m 48ms/step - accuracy: 0.5049 - loss: 0.8213 - val_accuracy: 0.4913 - val_loss: 0.7614\n",
            "\u001b[1m50/50\u001b[0m \u001b[32m━━━━━━━━━━━━━━━━━━━━\u001b[0m\u001b[37m\u001b[0m \u001b[1m2s\u001b[0m 48ms/step - accuracy: 0.5066 - loss: 0.7496 - val_accuracy: 0.5050 - val_loss: 0.7229\n",
            "\u001b[1m50/50\u001b[0m \u001b[32m━━━━━━━━━━━━━━━━━━━━\u001b[0m\u001b[37m\u001b[0m \u001b[1m2s\u001b[0m 48ms/step - accuracy: 0.4990 - loss: 0.7179 - val_accuracy: 0.4663 - val_loss: 0.7064\n",
            "\u001b[1m50/50\u001b[0m \u001b[32m━━━━━━━━━━━━━━━━━━━━\u001b[0m\u001b[37m\u001b[0m \u001b[1m2s\u001b[0m 48ms/step - accuracy: 0.5090 - loss: 0.7039 - val_accuracy: 0.4787 - val_loss: 0.6991\n",
            "\u001b[1m50/50\u001b[0m \u001b[32m━━━━━━━━━━━━━━━━━━━━\u001b[0m\u001b[37m\u001b[0m \u001b[1m2s\u001b[0m 48ms/step - accuracy: 0.5063 - loss: 0.6979 - val_accuracy: 0.5025 - val_loss: 0.6958\n",
            "\u001b[1m125/125\u001b[0m \u001b[32m━━━━━━━━━━━━━━━━━━━━\u001b[0m\u001b[37m\u001b[0m \u001b[1m1s\u001b[0m 6ms/step - accuracy: 0.4971 - loss: 0.6958\n"
          ]
        },
        {
          "metadata": {
            "tags": null
          },
          "name": "stderr",
          "output_type": "stream",
          "text": [
            "[I 2024-08-13 11:55:15,963] Trial 2 finished with value: 0.5 and parameters: {'num_layers': 6, 'filters_0': 32, 'filters_1': 48, 'filters_2': 71, 'filters_3': 48, 'filters_4': 118, 'filters_5': 98, 'kernel_size': 3, 'l1': 3.138771068677089e-06, 'l2': 0.009232171128969863, 'dense_units': 159, 'dropout_rate': 0.2683624808781867, 'learning_rate': 0.00029688643091087345}. Best is trial 0 with value: 0.6150000095367432.\n"
          ]
        },
        {
          "metadata": {
            "tags": null
          },
          "name": "stdout",
          "output_type": "stream",
          "text": [
            "Trial 3 started with hyperparameters: num_layers=6, filters=[94, 53, 104, 38, 47, 104], kernel_size=2, l1=0.004827363156192313, l2=9.008881344309305e-06, dense_units=184, dropout_rate=0.4432571265647731, learning_rate=0.00015789955140178027\n",
            "\u001b[1m50/50\u001b[0m \u001b[32m━━━━━━━━━━━━━━━━━━━━\u001b[0m\u001b[37m\u001b[0m \u001b[1m17s\u001b[0m 166ms/step - accuracy: 0.5122 - loss: 21.0005 - val_accuracy: 0.5950 - val_loss: 18.6896\n",
            "\u001b[1m50/50\u001b[0m \u001b[32m━━━━━━━━━━━━━━━━━━━━\u001b[0m\u001b[37m\u001b[0m \u001b[1m4s\u001b[0m 87ms/step - accuracy: 0.5111 - loss: 17.9584 - val_accuracy: 0.4800 - val_loss: 15.8302\n",
            "\u001b[1m50/50\u001b[0m \u001b[32m━━━━━━━━━━━━━━━━━━━━\u001b[0m\u001b[37m\u001b[0m \u001b[1m4s\u001b[0m 87ms/step - accuracy: 0.5129 - loss: 15.1604 - val_accuracy: 0.4725 - val_loss: 13.2183\n",
            "\u001b[1m50/50\u001b[0m \u001b[32m━━━━━━━━━━━━━━━━━━━━\u001b[0m\u001b[37m\u001b[0m \u001b[1m4s\u001b[0m 87ms/step - accuracy: 0.5041 - loss: 12.6116 - val_accuracy: 0.5063 - val_loss: 10.8586\n",
            "\u001b[1m50/50\u001b[0m \u001b[32m━━━━━━━━━━━━━━━━━━━━\u001b[0m\u001b[37m\u001b[0m \u001b[1m4s\u001b[0m 87ms/step - accuracy: 0.4907 - loss: 10.3144 - val_accuracy: 0.5088 - val_loss: 8.7472\n",
            "\u001b[1m50/50\u001b[0m \u001b[32m━━━━━━━━━━━━━━━━━━━━\u001b[0m\u001b[37m\u001b[0m \u001b[1m4s\u001b[0m 87ms/step - accuracy: 0.5108 - loss: 8.2647 - val_accuracy: 0.5050 - val_loss: 6.8841\n",
            "\u001b[1m50/50\u001b[0m \u001b[32m━━━━━━━━━━━━━━━━━━━━\u001b[0m\u001b[37m\u001b[0m \u001b[1m4s\u001b[0m 87ms/step - accuracy: 0.4839 - loss: 6.4647 - val_accuracy: 0.4663 - val_loss: 5.2729\n",
            "\u001b[1m50/50\u001b[0m \u001b[32m━━━━━━━━━━━━━━━━━━━━\u001b[0m\u001b[37m\u001b[0m \u001b[1m4s\u001b[0m 88ms/step - accuracy: 0.5111 - loss: 4.9160 - val_accuracy: 0.4787 - val_loss: 3.9135\n",
            "\u001b[1m50/50\u001b[0m \u001b[32m━━━━━━━━━━━━━━━━━━━━\u001b[0m\u001b[37m\u001b[0m \u001b[1m4s\u001b[0m 87ms/step - accuracy: 0.5059 - loss: 3.6188 - val_accuracy: 0.5025 - val_loss: 2.8020\n",
            "\u001b[1m125/125\u001b[0m \u001b[32m━━━━━━━━━━━━━━━━━━━━\u001b[0m\u001b[37m\u001b[0m \u001b[1m1s\u001b[0m 9ms/step - accuracy: 0.4971 - loss: 2.8021\n"
          ]
        },
        {
          "metadata": {
            "tags": null
          },
          "name": "stderr",
          "output_type": "stream",
          "text": [
            "[I 2024-08-13 12:10:06,942] Trial 3 finished with value: 0.5 and parameters: {'num_layers': 6, 'filters_0': 94, 'filters_1': 53, 'filters_2': 104, 'filters_3': 38, 'filters_4': 47, 'filters_5': 104, 'kernel_size': 2, 'l1': 0.004827363156192313, 'l2': 9.008881344309305e-06, 'dense_units': 184, 'dropout_rate': 0.4432571265647731, 'learning_rate': 0.00015789955140178027}. Best is trial 0 with value: 0.6150000095367432.\n"
          ]
        },
        {
          "metadata": {
            "tags": null
          },
          "name": "stdout",
          "output_type": "stream",
          "text": [
            "Trial 4 started with hyperparameters: num_layers=4, filters=[44, 83, 72, 64], kernel_size=3, l1=0.00013537781122606584, l2=0.0037394012860948295, dense_units=167, dropout_rate=0.18690845934507774, learning_rate=1.0525370626878665e-05\n",
            "\u001b[1m50/50\u001b[0m \u001b[32m━━━━━━━━━━━━━━━━━━━━\u001b[0m\u001b[37m\u001b[0m \u001b[1m16s\u001b[0m 145ms/step - accuracy: 0.5119 - loss: 2.0496 - val_accuracy: 0.5300 - val_loss: 2.0327\n",
            "\u001b[1m50/50\u001b[0m \u001b[32m━━━━━━━━━━━━━━━━━━━━\u001b[0m\u001b[37m\u001b[0m \u001b[1m3s\u001b[0m 69ms/step - accuracy: 0.5042 - loss: 2.0283 - val_accuracy: 0.5512 - val_loss: 2.0128\n",
            "\u001b[1m50/50\u001b[0m \u001b[32m━━━━━━━━━━━━━━━━━━━━\u001b[0m\u001b[37m\u001b[0m \u001b[1m3s\u001b[0m 69ms/step - accuracy: 0.5293 - loss: 2.0073 - val_accuracy: 0.5575 - val_loss: 1.9909\n",
            "\u001b[1m50/50\u001b[0m \u001b[32m━━━━━━━━━━━━━━━━━━━━\u001b[0m\u001b[37m\u001b[0m \u001b[1m3s\u001b[0m 68ms/step - accuracy: 0.5398 - loss: 1.9869 - val_accuracy: 0.5362 - val_loss: 1.9716\n",
            "\u001b[1m50/50\u001b[0m \u001b[32m━━━━━━━━━━━━━━━━━━━━\u001b[0m\u001b[37m\u001b[0m \u001b[1m3s\u001b[0m 68ms/step - accuracy: 0.5744 - loss: 1.9672 - val_accuracy: 0.5138 - val_loss: 1.9529\n",
            "\u001b[1m50/50\u001b[0m \u001b[32m━━━━━━━━━━━━━━━━━━━━\u001b[0m\u001b[37m\u001b[0m \u001b[1m3s\u001b[0m 68ms/step - accuracy: 0.5652 - loss: 1.9477 - val_accuracy: 0.4950 - val_loss: 1.9350\n",
            "\u001b[1m50/50\u001b[0m \u001b[32m━━━━━━━━━━━━━━━━━━━━\u001b[0m\u001b[37m\u001b[0m \u001b[1m3s\u001b[0m 69ms/step - accuracy: 0.5302 - loss: 1.9285 - val_accuracy: 0.5387 - val_loss: 1.9113\n",
            "\u001b[1m50/50\u001b[0m \u001b[32m━━━━━━━━━━━━━━━━━━━━\u001b[0m\u001b[37m\u001b[0m \u001b[1m3s\u001b[0m 69ms/step - accuracy: 0.5328 - loss: 1.9134 - val_accuracy: 0.5113 - val_loss: 1.9020\n",
            "\u001b[1m50/50\u001b[0m \u001b[32m━━━━━━━━━━━━━━━━━━━━\u001b[0m\u001b[37m\u001b[0m \u001b[1m3s\u001b[0m 68ms/step - accuracy: 0.5488 - loss: 1.8950 - val_accuracy: 0.6162 - val_loss: 1.8782\n",
            "\u001b[1m125/125\u001b[0m \u001b[32m━━━━━━━━━━━━━━━━━━━━\u001b[0m\u001b[37m\u001b[0m \u001b[1m1s\u001b[0m 8ms/step - accuracy: 0.6272 - loss: 1.8764\n"
          ]
        },
        {
          "metadata": {
            "tags": null
          },
          "name": "stderr",
          "output_type": "stream",
          "text": [
            "[I 2024-08-13 12:24:49,182] Trial 4 finished with value: 0.6287500262260437 and parameters: {'num_layers': 4, 'filters_0': 44, 'filters_1': 83, 'filters_2': 72, 'filters_3': 64, 'kernel_size': 3, 'l1': 0.00013537781122606584, 'l2': 0.0037394012860948295, 'dense_units': 167, 'dropout_rate': 0.18690845934507774, 'learning_rate': 1.0525370626878665e-05}. Best is trial 4 with value: 0.6287500262260437.\n"
          ]
        },
        {
          "metadata": {
            "tags": null
          },
          "name": "stdout",
          "output_type": "stream",
          "text": [
            "Trial 5 started with hyperparameters: num_layers=6, filters=[46, 54, 43, 32, 117, 93], kernel_size=2, l1=0.0010964084748472118, l2=2.5524193899014488e-05, dense_units=163, dropout_rate=0.33143947176020455, learning_rate=3.823558023843106e-05\n",
            "\u001b[1m50/50\u001b[0m \u001b[32m━━━━━━━━━━━━━━━━━━━━\u001b[0m\u001b[37m\u001b[0m \u001b[1m13s\u001b[0m 117ms/step - accuracy: 0.5037 - loss: 5.2398 - val_accuracy: 0.4825 - val_loss: 5.1141\n",
            "\u001b[1m50/50\u001b[0m \u001b[32m━━━━━━━━━━━━━━━━━━━━\u001b[0m\u001b[37m\u001b[0m \u001b[1m3s\u001b[0m 53ms/step - accuracy: 0.5032 - loss: 5.0721 - val_accuracy: 0.4800 - val_loss: 4.9496\n",
            "\u001b[1m50/50\u001b[0m \u001b[32m━━━━━━━━━━━━━━━━━━━━\u001b[0m\u001b[37m\u001b[0m \u001b[1m3s\u001b[0m 53ms/step - accuracy: 0.5033 - loss: 4.9081 - val_accuracy: 0.5263 - val_loss: 4.7874\n",
            "\u001b[1m50/50\u001b[0m \u001b[32m━━━━━━━━━━━━━━━━━━━━\u001b[0m\u001b[37m\u001b[0m \u001b[1m3s\u001b[0m 53ms/step - accuracy: 0.5157 - loss: 4.7476 - val_accuracy: 0.4938 - val_loss: 4.6287\n",
            "\u001b[1m50/50\u001b[0m \u001b[32m━━━━━━━━━━━━━━━━━━━━\u001b[0m\u001b[37m\u001b[0m \u001b[1m3s\u001b[0m 53ms/step - accuracy: 0.5097 - loss: 4.5898 - val_accuracy: 0.5562 - val_loss: 4.4733\n",
            "\u001b[1m50/50\u001b[0m \u001b[32m━━━━━━━━━━━━━━━━━━━━\u001b[0m\u001b[37m\u001b[0m \u001b[1m3s\u001b[0m 53ms/step - accuracy: 0.4999 - loss: 4.4352 - val_accuracy: 0.5175 - val_loss: 4.3210\n",
            "\u001b[1m50/50\u001b[0m \u001b[32m━━━━━━━━━━━━━━━━━━━━\u001b[0m\u001b[37m\u001b[0m \u001b[1m3s\u001b[0m 53ms/step - accuracy: 0.5052 - loss: 4.2837 - val_accuracy: 0.4762 - val_loss: 4.1723\n",
            "\u001b[1m50/50\u001b[0m \u001b[32m━━━━━━━━━━━━━━━━━━━━\u001b[0m\u001b[37m\u001b[0m \u001b[1m3s\u001b[0m 53ms/step - accuracy: 0.5118 - loss: 4.1355 - val_accuracy: 0.4800 - val_loss: 4.0265\n",
            "\u001b[1m50/50\u001b[0m \u001b[32m━━━━━━━━━━━━━━━━━━━━\u001b[0m\u001b[37m\u001b[0m \u001b[1m3s\u001b[0m 53ms/step - accuracy: 0.5053 - loss: 3.9905 - val_accuracy: 0.5050 - val_loss: 3.8835\n",
            "\u001b[1m125/125\u001b[0m \u001b[32m━━━━━━━━━━━━━━━━━━━━\u001b[0m\u001b[37m\u001b[0m \u001b[1m1s\u001b[0m 6ms/step - accuracy: 0.5004 - loss: 3.8835\n"
          ]
        },
        {
          "metadata": {
            "tags": null
          },
          "name": "stderr",
          "output_type": "stream",
          "text": [
            "[I 2024-08-13 12:39:22,714] Trial 5 finished with value: 0.5042499899864197 and parameters: {'num_layers': 6, 'filters_0': 46, 'filters_1': 54, 'filters_2': 43, 'filters_3': 32, 'filters_4': 117, 'filters_5': 93, 'kernel_size': 2, 'l1': 0.0010964084748472118, 'l2': 2.5524193899014488e-05, 'dense_units': 163, 'dropout_rate': 0.33143947176020455, 'learning_rate': 3.823558023843106e-05}. Best is trial 4 with value: 0.6287500262260437.\n"
          ]
        },
        {
          "metadata": {
            "tags": null
          },
          "name": "stdout",
          "output_type": "stream",
          "text": [
            "Trial 6 started with hyperparameters: num_layers=4, filters=[100, 34, 34, 116], kernel_size=2, l1=7.173737866347107e-05, l2=6.206287637424764e-05, dense_units=116, dropout_rate=0.43186577586095964, learning_rate=0.00013287127466748112\n",
            "\u001b[1m50/50\u001b[0m \u001b[32m━━━━━━━━━━━━━━━━━━━━\u001b[0m\u001b[37m\u001b[0m \u001b[1m0s\u001b[0m 75ms/step - accuracy: 0.4939 - loss: 0.8354"
          ]
        },
        {
          "metadata": {
            "tags": null
          },
          "name": "stderr",
          "output_type": "stream",
          "text": [
            "[I 2024-08-13 12:41:03,103] Trial 6 pruned. Trial was pruned at epoch 0.\n"
          ]
        },
        {
          "metadata": {
            "tags": null
          },
          "name": "stdout",
          "output_type": "stream",
          "text": [
            "Trial 7 started with hyperparameters: num_layers=3, filters=[56, 55, 107], kernel_size=3, l1=7.244775826260838e-05, l2=4.087982631359028e-06, dense_units=123, dropout_rate=0.4695215413117618, learning_rate=1.1060988232814134e-05\n",
            "\u001b[1m50/50\u001b[0m \u001b[32m━━━━━━━━━━━━━━━━━━━━\u001b[0m\u001b[37m\u001b[0m \u001b[1m0s\u001b[0m 62ms/step - accuracy: 0.5034 - loss: 0.8983"
          ]
        },
        {
          "metadata": {
            "tags": null
          },
          "name": "stderr",
          "output_type": "stream",
          "text": [
            "[I 2024-08-13 12:42:41,698] Trial 7 pruned. Trial was pruned at epoch 0.\n"
          ]
        },
        {
          "metadata": {
            "tags": null
          },
          "name": "stdout",
          "output_type": "stream",
          "text": [
            "Trial 8 started with hyperparameters: num_layers=6, filters=[82, 108, 114, 39, 111, 53], kernel_size=2, l1=0.002620789107293861, l2=4.208865904869444e-05, dense_units=158, dropout_rate=0.20259065405313043, learning_rate=0.00044277355159178905\n",
            "\u001b[1m50/50\u001b[0m \u001b[32m━━━━━━━━━━━━━━━━━━━━\u001b[0m\u001b[37m\u001b[0m \u001b[1m21s\u001b[0m 198ms/step - accuracy: 0.5107 - loss: 15.7883 - val_accuracy: 0.5175 - val_loss: 10.4707\n",
            "\u001b[1m50/50\u001b[0m \u001b[32m━━━━━━━━━━━━━━━━━━━━\u001b[0m\u001b[37m\u001b[0m \u001b[1m5s\u001b[0m 98ms/step - accuracy: 0.4844 - loss: 9.0197 - val_accuracy: 0.4800 - val_loss: 5.2176\n",
            "\u001b[1m50/50\u001b[0m \u001b[32m━━━━━━━━━━━━━━━━━━━━\u001b[0m\u001b[37m\u001b[0m \u001b[1m5s\u001b[0m 98ms/step - accuracy: 0.5113 - loss: 4.2777 - val_accuracy: 0.4725 - val_loss: 2.0142\n",
            "\u001b[1m50/50\u001b[0m \u001b[32m━━━━━━━━━━━━━━━━━━━━\u001b[0m\u001b[37m\u001b[0m \u001b[1m5s\u001b[0m 98ms/step - accuracy: 0.4977 - loss: 1.5863 - val_accuracy: 0.5063 - val_loss: 0.8215\n",
            "\u001b[1m50/50\u001b[0m \u001b[32m━━━━━━━━━━━━━━━━━━━━\u001b[0m\u001b[37m\u001b[0m \u001b[1m5s\u001b[0m 97ms/step - accuracy: 0.5134 - loss: 0.7691 - val_accuracy: 0.4913 - val_loss: 0.7183\n",
            "\u001b[1m50/50\u001b[0m \u001b[32m━━━━━━━━━━━━━━━━━━━━\u001b[0m\u001b[37m\u001b[0m \u001b[1m5s\u001b[0m 97ms/step - accuracy: 0.4991 - loss: 0.7168 - val_accuracy: 0.5050 - val_loss: 0.7145\n",
            "\u001b[1m50/50\u001b[0m \u001b[32m━━━━━━━━━━━━━━━━━━━━\u001b[0m\u001b[37m\u001b[0m \u001b[1m5s\u001b[0m 97ms/step - accuracy: 0.4821 - loss: 0.7145 - val_accuracy: 0.4663 - val_loss: 0.7146\n",
            "\u001b[1m50/50\u001b[0m \u001b[32m━━━━━━━━━━━━━━━━━━━━\u001b[0m\u001b[37m\u001b[0m \u001b[1m5s\u001b[0m 97ms/step - accuracy: 0.5038 - loss: 0.7143 - val_accuracy: 0.4787 - val_loss: 0.7145\n",
            "\u001b[1m50/50\u001b[0m \u001b[32m━━━━━━━━━━━━━━━━━━━━\u001b[0m\u001b[37m\u001b[0m \u001b[1m5s\u001b[0m 97ms/step - accuracy: 0.5065 - loss: 0.7144 - val_accuracy: 0.5025 - val_loss: 0.7144\n",
            "\u001b[1m125/125\u001b[0m \u001b[32m━━━━━━━━━━━━━━━━━━━━\u001b[0m\u001b[37m\u001b[0m \u001b[1m1s\u001b[0m 11ms/step - accuracy: 0.4971 - loss: 0.7144\n"
          ]
        },
        {
          "metadata": {
            "tags": null
          },
          "name": "stderr",
          "output_type": "stream",
          "text": [
            "[I 2024-08-13 12:57:40,055] Trial 8 finished with value: 0.5 and parameters: {'num_layers': 6, 'filters_0': 82, 'filters_1': 108, 'filters_2': 114, 'filters_3': 39, 'filters_4': 111, 'filters_5': 53, 'kernel_size': 2, 'l1': 0.002620789107293861, 'l2': 4.208865904869444e-05, 'dense_units': 158, 'dropout_rate': 0.20259065405313043, 'learning_rate': 0.00044277355159178905}. Best is trial 4 with value: 0.6287500262260437.\n"
          ]
        },
        {
          "metadata": {
            "tags": null
          },
          "name": "stdout",
          "output_type": "stream",
          "text": [
            "Trial 9 started with hyperparameters: num_layers=3, filters=[75, 91, 123], kernel_size=2, l1=0.0006942420027432777, l2=4.4058139810729575e-06, dense_units=83, dropout_rate=0.18580358240389874, learning_rate=2.7696027569711712e-05\n",
            "\u001b[1m50/50\u001b[0m \u001b[32m━━━━━━━━━━━━━━━━━━━━\u001b[0m\u001b[37m\u001b[0m \u001b[1m0s\u001b[0m 81ms/step - accuracy: 0.4978 - loss: 2.9063"
          ]
        },
        {
          "metadata": {
            "tags": null
          },
          "name": "stderr",
          "output_type": "stream",
          "text": [
            "[I 2024-08-13 12:59:19,745] Trial 9 pruned. Trial was pruned at epoch 0.\n"
          ]
        },
        {
          "metadata": {
            "tags": null
          },
          "name": "stdout",
          "output_type": "stream",
          "text": [
            "Trial 10 started with hyperparameters: num_layers=4, filters=[59, 81, 64, 75], kernel_size=3, l1=1.6160209193867572e-06, l2=0.0007530015725878223, dense_units=256, dropout_rate=0.1052373610691276, learning_rate=0.0007293867801681623\n",
            "\u001b[1m50/50\u001b[0m \u001b[32m━━━━━━━━━━━━━━━━━━━━\u001b[0m\u001b[37m\u001b[0m \u001b[1m0s\u001b[0m 71ms/step - accuracy: 0.5026 - loss: 0.8967"
          ]
        },
        {
          "metadata": {
            "tags": null
          },
          "name": "stderr",
          "output_type": "stream",
          "text": [
            "[I 2024-08-13 13:01:00,625] Trial 10 pruned. Trial was pruned at epoch 0.\n"
          ]
        },
        {
          "metadata": {
            "tags": null
          },
          "name": "stdout",
          "output_type": "stream",
          "text": [
            "Trial 11 started with hyperparameters: num_layers=5, filters=[126, 127, 54, 77, 66], kernel_size=3, l1=1.5089341736621539e-05, l2=0.0005630194592762102, dense_units=202, dropout_rate=0.11375881922086543, learning_rate=1.0571246465579758e-05\n",
            "\u001b[1m50/50\u001b[0m \u001b[32m━━━━━━━━━━━━━━━━━━━━\u001b[0m\u001b[37m\u001b[0m \u001b[1m0s\u001b[0m 126ms/step - accuracy: 0.4921 - loss: 1.0112"
          ]
        },
        {
          "metadata": {
            "tags": null
          },
          "name": "stderr",
          "output_type": "stream",
          "text": [
            "[I 2024-08-13 13:02:51,994] Trial 11 pruned. Trial was pruned at epoch 0.\n"
          ]
        },
        {
          "metadata": {
            "tags": null
          },
          "name": "stdout",
          "output_type": "stream",
          "text": [
            "Trial 12 started with hyperparameters: num_layers=5, filters=[121, 100, 87, 94, 85], kernel_size=3, l1=1.5190809474380165e-05, l2=0.0005312906140709758, dense_units=118, dropout_rate=0.17637765395056826, learning_rate=5.3716498215515717e-05\n",
            "\u001b[1m50/50\u001b[0m \u001b[32m━━━━━━━━━━━━━━━━━━━━\u001b[0m\u001b[37m\u001b[0m \u001b[1m0s\u001b[0m 122ms/step - accuracy: 0.4998 - loss: 1.0419"
          ]
        },
        {
          "metadata": {
            "tags": null
          },
          "name": "stderr",
          "output_type": "stream",
          "text": [
            "[I 2024-08-13 13:04:43,522] Trial 12 pruned. Trial was pruned at epoch 0.\n"
          ]
        },
        {
          "metadata": {
            "tags": null
          },
          "name": "stdout",
          "output_type": "stream",
          "text": [
            "Trial 13 started with hyperparameters: num_layers=4, filters=[115, 75, 54, 64], kernel_size=3, l1=0.00026026791094087336, l2=0.0018077167610265983, dense_units=77, dropout_rate=0.26004213625474915, learning_rate=1.6864627838909066e-05\n",
            "\u001b[1m50/50\u001b[0m \u001b[32m━━━━━━━━━━━━━━━━━━━━\u001b[0m\u001b[37m\u001b[0m \u001b[1m0s\u001b[0m 104ms/step - accuracy: 0.5038 - loss: 2.3238"
          ]
        },
        {
          "metadata": {
            "tags": null
          },
          "name": "stderr",
          "output_type": "stream",
          "text": [
            "[I 2024-08-13 13:06:28,920] Trial 13 pruned. Trial was pruned at epoch 0.\n"
          ]
        },
        {
          "metadata": {
            "tags": null
          },
          "name": "stdout",
          "output_type": "stream",
          "text": [
            "Trial 14 started with hyperparameters: num_layers=5, filters=[75, 111, 32, 93, 82], kernel_size=3, l1=1.538909893237039e-05, l2=0.00015345992370381016, dense_units=133, dropout_rate=0.16105438332356223, learning_rate=7.260471236478795e-05\n",
            "\u001b[1m50/50\u001b[0m \u001b[32m━━━━━━━━━━━━━━━━━━━━\u001b[0m\u001b[37m\u001b[0m \u001b[1m0s\u001b[0m 88ms/step - accuracy: 0.5022 - loss: 0.8329"
          ]
        },
        {
          "metadata": {
            "tags": null
          },
          "name": "stderr",
          "output_type": "stream",
          "text": [
            "[I 2024-08-13 13:08:14,247] Trial 14 pruned. Trial was pruned at epoch 0.\n"
          ]
        },
        {
          "metadata": {
            "tags": null
          },
          "name": "stdout",
          "output_type": "stream",
          "text": [
            "Trial 15 started with hyperparameters: num_layers=4, filters=[35, 73, 74, 61], kernel_size=3, l1=0.0002127752772147133, l2=0.002021065218101769, dense_units=200, dropout_rate=0.33388778742027186, learning_rate=1.939860319479683e-05\n",
            "\u001b[1m50/50\u001b[0m \u001b[32m━━━━━━━━━━━━━━━━━━━━\u001b[0m\u001b[37m\u001b[0m \u001b[1m0s\u001b[0m 53ms/step - accuracy: 0.4967 - loss: 1.9199"
          ]
        },
        {
          "metadata": {
            "tags": null
          },
          "name": "stderr",
          "output_type": "stream",
          "text": [
            "[I 2024-08-13 13:09:52,353] Trial 15 pruned. Trial was pruned at epoch 0.\n"
          ]
        },
        {
          "metadata": {
            "tags": null
          },
          "name": "stdout",
          "output_type": "stream",
          "text": [
            "Trial 16 started with hyperparameters: num_layers=5, filters=[62, 90, 55, 90, 35], kernel_size=3, l1=5.1846135252947574e-06, l2=0.0002011291255615434, dense_units=101, dropout_rate=0.2292828447308949, learning_rate=1.7256778262785365e-05\n",
            "\u001b[1m50/50\u001b[0m \u001b[32m━━━━━━━━━━━━━━━━━━━━\u001b[0m\u001b[37m\u001b[0m \u001b[1m0s\u001b[0m 73ms/step - accuracy: 0.4935 - loss: 0.7764"
          ]
        },
        {
          "metadata": {
            "tags": null
          },
          "name": "stderr",
          "output_type": "stream",
          "text": [
            "[I 2024-08-13 13:11:35,083] Trial 16 pruned. Trial was pruned at epoch 0.\n"
          ]
        },
        {
          "metadata": {
            "tags": null
          },
          "name": "stdout",
          "output_type": "stream",
          "text": [
            "Trial 17 started with hyperparameters: num_layers=4, filters=[90, 67, 90, 59], kernel_size=3, l1=3.903362580260715e-05, l2=0.0023444581504832723, dense_units=138, dropout_rate=0.1424809570339905, learning_rate=5.0829632331376114e-05\n",
            "\u001b[1m50/50\u001b[0m \u001b[32m━━━━━━━━━━━━━━━━━━━━\u001b[0m\u001b[37m\u001b[0m \u001b[1m0s\u001b[0m 90ms/step - accuracy: 0.5177 - loss: 1.4158"
          ]
        },
        {
          "metadata": {
            "tags": null
          },
          "name": "stderr",
          "output_type": "stream",
          "text": [
            "[I 2024-08-13 13:13:19,540] Trial 17 pruned. Trial was pruned at epoch 0.\n"
          ]
        },
        {
          "metadata": {
            "tags": null
          },
          "name": "stdout",
          "output_type": "stream",
          "text": [
            "Trial 18 started with hyperparameters: num_layers=5, filters=[116, 113, 44, 127, 96], kernel_size=3, l1=0.0005714930391171143, l2=1.5477723104552904e-05, dense_units=176, dropout_rate=0.22085410628476482, learning_rate=1.0784854900636255e-05\n",
            "\u001b[1m50/50\u001b[0m \u001b[32m━━━━━━━━━━━━━━━━━━━━\u001b[0m\u001b[37m\u001b[0m \u001b[1m27s\u001b[0m 255ms/step - accuracy: 0.4931 - loss: 5.9716 - val_accuracy: 0.4888 - val_loss: 5.9006\n",
            "\u001b[1m50/50\u001b[0m \u001b[32m━━━━━━━━━━━━━━━━━━━━\u001b[0m\u001b[37m\u001b[0m \u001b[1m6s\u001b[0m 130ms/step - accuracy: 0.5072 - loss: 5.8772 - val_accuracy: 0.4800 - val_loss: 5.8081\n",
            "\u001b[1m50/50\u001b[0m \u001b[32m━━━━━━━━━━━━━━━━━━━━\u001b[0m\u001b[37m\u001b[0m \u001b[1m7s\u001b[0m 130ms/step - accuracy: 0.5049 - loss: 5.7853 - val_accuracy: 0.5838 - val_loss: 5.7159\n",
            "\u001b[1m50/50\u001b[0m \u001b[32m━━━━━━━━━━━━━━━━━━━━\u001b[0m\u001b[37m\u001b[0m \u001b[1m6s\u001b[0m 130ms/step - accuracy: 0.5055 - loss: 5.6936 - val_accuracy: 0.5013 - val_loss: 5.6253\n",
            "\u001b[1m50/50\u001b[0m \u001b[32m━━━━━━━━━━━━━━━━━━━━\u001b[0m\u001b[37m\u001b[0m \u001b[1m6s\u001b[0m 129ms/step - accuracy: 0.5214 - loss: 5.6028 - val_accuracy: 0.5562 - val_loss: 5.5356\n",
            "\u001b[1m50/50\u001b[0m \u001b[32m━━━━━━━━━━━━━━━━━━━━\u001b[0m\u001b[37m\u001b[0m \u001b[1m6s\u001b[0m 130ms/step - accuracy: 0.5359 - loss: 5.5132 - val_accuracy: 0.5987 - val_loss: 5.4468\n",
            "\u001b[1m50/50\u001b[0m \u001b[32m━━━━━━━━━━━━━━━━━━━━\u001b[0m\u001b[37m\u001b[0m \u001b[1m6s\u001b[0m 130ms/step - accuracy: 0.4982 - loss: 5.4254 - val_accuracy: 0.4663 - val_loss: 5.3604\n",
            "\u001b[1m50/50\u001b[0m \u001b[32m━━━━━━━━━━━━━━━━━━━━\u001b[0m\u001b[37m\u001b[0m \u001b[1m6s\u001b[0m 129ms/step - accuracy: 0.5149 - loss: 5.3374 - val_accuracy: 0.5038 - val_loss: 5.2728\n",
            "\u001b[1m50/50\u001b[0m \u001b[32m━━━━━━━━━━━━━━━━━━━━\u001b[0m\u001b[37m\u001b[0m \u001b[1m6s\u001b[0m 129ms/step - accuracy: 0.5232 - loss: 5.2511 - val_accuracy: 0.5288 - val_loss: 5.1868\n",
            "\u001b[1m125/125\u001b[0m \u001b[32m━━━━━━━━━━━━━━━━━━━━\u001b[0m\u001b[37m\u001b[0m \u001b[1m2s\u001b[0m 15ms/step - accuracy: 0.5328 - loss: 5.1867\n"
          ]
        },
        {
          "metadata": {
            "tags": null
          },
          "name": "stderr",
          "output_type": "stream",
          "text": [
            "[I 2024-08-13 13:28:38,049] Trial 18 finished with value: 0.5364999771118164 and parameters: {'num_layers': 5, 'filters_0': 116, 'filters_1': 113, 'filters_2': 44, 'filters_3': 127, 'filters_4': 96, 'kernel_size': 3, 'l1': 0.0005714930391171143, 'l2': 1.5477723104552904e-05, 'dense_units': 176, 'dropout_rate': 0.22085410628476482, 'learning_rate': 1.0784854900636255e-05}. Best is trial 4 with value: 0.6287500262260437.\n"
          ]
        },
        {
          "metadata": {
            "tags": null
          },
          "name": "stdout",
          "output_type": "stream",
          "text": [
            "Trial 19 started with hyperparameters: num_layers=4, filters=[109, 96, 64, 105], kernel_size=3, l1=3.227349575361264e-05, l2=0.00023637081137491305, dense_units=94, dropout_rate=0.12979868321170968, learning_rate=8.751671068559541e-05\n",
            "\u001b[1m50/50\u001b[0m \u001b[32m━━━━━━━━━━━━━━━━━━━━\u001b[0m\u001b[37m\u001b[0m \u001b[1m0s\u001b[0m 105ms/step - accuracy: 0.5062 - loss: 0.9581"
          ]
        },
        {
          "metadata": {
            "tags": null
          },
          "name": "stderr",
          "output_type": "stream",
          "text": [
            "[I 2024-08-13 13:30:26,576] Trial 19 pruned. Trial was pruned at epoch 0.\n"
          ]
        },
        {
          "metadata": {
            "tags": null
          },
          "name": "stdout",
          "output_type": "stream",
          "text": [
            "Trial 20 started with hyperparameters: num_layers=5, filters=[45, 82, 44, 67, 62], kernel_size=3, l1=0.0002015807099168019, l2=1.383498123049519e-06, dense_units=215, dropout_rate=0.38389332246431407, learning_rate=2.2833007718456208e-05\n",
            "\u001b[1m50/50\u001b[0m \u001b[32m━━━━━━━━━━━━━━━━━━━━\u001b[0m\u001b[37m\u001b[0m \u001b[1m0s\u001b[0m 60ms/step - accuracy: 0.5061 - loss: 1.6562"
          ]
        },
        {
          "metadata": {
            "tags": null
          },
          "name": "stderr",
          "output_type": "stream",
          "text": [
            "[I 2024-08-13 13:32:06,615] Trial 20 pruned. Trial was pruned at epoch 0.\n"
          ]
        },
        {
          "metadata": {
            "tags": null
          },
          "name": "stdout",
          "output_type": "stream",
          "text": [
            "Trial 21 started with hyperparameters: num_layers=3, filters=[105, 128, 93], kernel_size=2, l1=0.009037320570742188, l2=0.007937911299606203, dense_units=247, dropout_rate=0.3728559662754747, learning_rate=3.315709424210431e-05\n",
            "\u001b[1m50/50\u001b[0m \u001b[32m━━━━━━━━━━━━━━━━━━━━\u001b[0m\u001b[37m\u001b[0m \u001b[1m20s\u001b[0m 204ms/step - accuracy: 0.4936 - loss: 39.6041 - val_accuracy: 0.5337 - val_loss: 38.3907\n",
            "\u001b[1m50/50\u001b[0m \u001b[32m━━━━━━━━━━━━━━━━━━━━\u001b[0m\u001b[37m\u001b[0m \u001b[1m6s\u001b[0m 116ms/step - accuracy: 0.5162 - loss: 37.9982 - val_accuracy: 0.5275 - val_loss: 36.8160\n",
            "\u001b[1m50/50\u001b[0m \u001b[32m━━━━━━━━━━━━━━━━━━━━\u001b[0m\u001b[37m\u001b[0m \u001b[1m6s\u001b[0m 116ms/step - accuracy: 0.5170 - loss: 36.4313 - val_accuracy: 0.4725 - val_loss: 35.2834\n",
            "\u001b[1m50/50\u001b[0m \u001b[32m━━━━━━━━━━━━━━━━━━━━\u001b[0m\u001b[37m\u001b[0m \u001b[1m6s\u001b[0m 116ms/step - accuracy: 0.5144 - loss: 34.9042 - val_accuracy: 0.6400 - val_loss: 33.7769\n",
            "\u001b[1m50/50\u001b[0m \u001b[32m━━━━━━━━━━━━━━━━━━━━\u001b[0m\u001b[37m\u001b[0m \u001b[1m6s\u001b[0m 116ms/step - accuracy: 0.5495 - loss: 33.4085 - val_accuracy: 0.5375 - val_loss: 32.3139\n",
            "\u001b[1m50/50\u001b[0m \u001b[32m━━━━━━━━━━━━━━━━━━━━\u001b[0m\u001b[37m\u001b[0m \u001b[1m6s\u001b[0m 116ms/step - accuracy: 0.5338 - loss: 31.9567 - val_accuracy: 0.4950 - val_loss: 30.8906\n",
            "\u001b[1m50/50\u001b[0m \u001b[32m━━━━━━━━━━━━━━━━━━━━\u001b[0m\u001b[37m\u001b[0m \u001b[1m6s\u001b[0m 116ms/step - accuracy: 0.5269 - loss: 30.5394 - val_accuracy: 0.5337 - val_loss: 29.4973\n",
            "\u001b[1m50/50\u001b[0m \u001b[32m━━━━━━━━━━━━━━━━━━━━\u001b[0m\u001b[37m\u001b[0m \u001b[1m6s\u001b[0m 116ms/step - accuracy: 0.5210 - loss: 29.1628 - val_accuracy: 0.4837 - val_loss: 28.1528\n",
            "\u001b[1m50/50\u001b[0m \u001b[32m━━━━━━━━━━━━━━━━━━━━\u001b[0m\u001b[37m\u001b[0m \u001b[1m6s\u001b[0m 116ms/step - accuracy: 0.5190 - loss: 27.8210 - val_accuracy: 0.5325 - val_loss: 26.8344\n",
            "\u001b[1m125/125\u001b[0m \u001b[32m━━━━━━━━━━━━━━━━━━━━\u001b[0m\u001b[37m\u001b[0m \u001b[1m2s\u001b[0m 12ms/step - accuracy: 0.5324 - loss: 26.8341\n"
          ]
        },
        {
          "metadata": {
            "tags": null
          },
          "name": "stderr",
          "output_type": "stream",
          "text": [
            "[I 2024-08-13 13:47:11,591] Trial 21 finished with value: 0.5377500057220459 and parameters: {'num_layers': 3, 'filters_0': 105, 'filters_1': 128, 'filters_2': 93, 'kernel_size': 2, 'l1': 0.009037320570742188, 'l2': 0.007937911299606203, 'dense_units': 247, 'dropout_rate': 0.3728559662754747, 'learning_rate': 3.315709424210431e-05}. Best is trial 4 with value: 0.6287500262260437.\n"
          ]
        },
        {
          "metadata": {
            "tags": null
          },
          "name": "stdout",
          "output_type": "stream",
          "text": [
            "Trial 22 started with hyperparameters: num_layers=3, filters=[87, 121, 84], kernel_size=2, l1=0.0018157657121068188, l2=0.0039119397672325185, dense_units=234, dropout_rate=0.28454969601190216, learning_rate=1.533983257301794e-05\n",
            "\u001b[1m50/50\u001b[0m \u001b[32m━━━━━━━━━━━━━━━━━━━━\u001b[0m\u001b[37m\u001b[0m \u001b[1m18s\u001b[0m 187ms/step - accuracy: 0.4986 - loss: 7.8944 - val_accuracy: 0.4825 - val_loss: 7.7969\n",
            "\u001b[1m50/50\u001b[0m \u001b[32m━━━━━━━━━━━━━━━━━━━━\u001b[0m\u001b[37m\u001b[0m \u001b[1m5s\u001b[0m 103ms/step - accuracy: 0.5055 - loss: 7.7603 - val_accuracy: 0.4800 - val_loss: 7.6621\n",
            "\u001b[1m50/50\u001b[0m \u001b[32m━━━━━━━━━━━━━━━━━━━━\u001b[0m\u001b[37m\u001b[0m \u001b[1m5s\u001b[0m 103ms/step - accuracy: 0.5144 - loss: 7.6299 - val_accuracy: 0.4725 - val_loss: 7.5367\n",
            "\u001b[1m50/50\u001b[0m \u001b[32m━━━━━━━━━━━━━━━━━━━━\u001b[0m\u001b[37m\u001b[0m \u001b[1m5s\u001b[0m 103ms/step - accuracy: 0.5001 - loss: 7.5040 - val_accuracy: 0.5888 - val_loss: 7.4050\n",
            "\u001b[1m50/50\u001b[0m \u001b[32m━━━━━━━━━━━━━━━━━━━━\u001b[0m\u001b[37m\u001b[0m \u001b[1m5s\u001b[0m 103ms/step - accuracy: 0.5134 - loss: 7.3752 - val_accuracy: 0.5238 - val_loss: 7.2807\n",
            "\u001b[1m50/50\u001b[0m \u001b[32m━━━━━━━━━━━━━━━━━━━━\u001b[0m\u001b[37m\u001b[0m \u001b[1m5s\u001b[0m 103ms/step - accuracy: 0.5198 - loss: 7.2498 - val_accuracy: 0.4950 - val_loss: 7.1586\n",
            "\u001b[1m50/50\u001b[0m \u001b[32m━━━━━━━━━━━━━━━━━━━━\u001b[0m\u001b[37m\u001b[0m \u001b[1m5s\u001b[0m 103ms/step - accuracy: 0.5160 - loss: 7.1278 - val_accuracy: 0.5337 - val_loss: 7.0322\n",
            "\u001b[1m50/50\u001b[0m \u001b[32m━━━━━━━━━━━━━━━━━━━━\u001b[0m\u001b[37m\u001b[0m \u001b[1m5s\u001b[0m 103ms/step - accuracy: 0.5138 - loss: 7.0080 - val_accuracy: 0.4787 - val_loss: 6.9208\n",
            "\u001b[1m50/50\u001b[0m \u001b[32m━━━━━━━━━━━━━━━━━━━━\u001b[0m\u001b[37m\u001b[0m \u001b[1m5s\u001b[0m 103ms/step - accuracy: 0.5163 - loss: 6.8892 - val_accuracy: 0.6100 - val_loss: 6.7975\n",
            "\u001b[1m125/125\u001b[0m \u001b[32m━━━━━━━━━━━━━━━━━━━━\u001b[0m\u001b[37m\u001b[0m \u001b[1m1s\u001b[0m 11ms/step - accuracy: 0.6165 - loss: 6.7967\n"
          ]
        },
        {
          "metadata": {
            "tags": null
          },
          "name": "stderr",
          "output_type": "stream",
          "text": [
            "[I 2024-08-13 14:02:07,989] Trial 22 finished with value: 0.6184999942779541 and parameters: {'num_layers': 3, 'filters_0': 87, 'filters_1': 121, 'filters_2': 84, 'kernel_size': 2, 'l1': 0.0018157657121068188, 'l2': 0.0039119397672325185, 'dense_units': 234, 'dropout_rate': 0.28454969601190216, 'learning_rate': 1.533983257301794e-05}. Best is trial 4 with value: 0.6287500262260437.\n"
          ]
        },
        {
          "metadata": {
            "tags": null
          },
          "name": "stdout",
          "output_type": "stream",
          "text": [
            "Trial 23 started with hyperparameters: num_layers=3, filters=[67, 118, 78], kernel_size=2, l1=0.00039885698677757383, l2=0.003485827607148941, dense_units=226, dropout_rate=0.29745095112036507, learning_rate=1.530772298814454e-05\n",
            "\u001b[1m50/50\u001b[0m \u001b[32m━━━━━━━━━━━━━━━━━━━━\u001b[0m\u001b[37m\u001b[0m \u001b[1m0s\u001b[0m 80ms/step - accuracy: 0.5042 - loss: 2.5321"
          ]
        },
        {
          "metadata": {
            "tags": null
          },
          "name": "stderr",
          "output_type": "stream",
          "text": [
            "[I 2024-08-13 14:03:47,426] Trial 23 pruned. Trial was pruned at epoch 0.\n"
          ]
        },
        {
          "metadata": {
            "tags": null
          },
          "name": "stdout",
          "output_type": "stream",
          "text": [
            "Trial 24 started with hyperparameters: num_layers=3, filters=[90, 99, 102], kernel_size=2, l1=4.3098582701346025e-06, l2=0.0011350957357428256, dense_units=65, dropout_rate=0.23586990620078074, learning_rate=1.39447104145083e-05\n",
            "\u001b[1m50/50\u001b[0m \u001b[32m━━━━━━━━━━━━━━━━━━━━\u001b[0m\u001b[37m\u001b[0m \u001b[1m0s\u001b[0m 89ms/step - accuracy: 0.5192 - loss: 0.9296"
          ]
        },
        {
          "metadata": {
            "tags": null
          },
          "name": "stderr",
          "output_type": "stream",
          "text": [
            "[I 2024-08-13 14:05:28,705] Trial 24 pruned. Trial was pruned at epoch 0.\n"
          ]
        },
        {
          "metadata": {
            "tags": null
          },
          "name": "stdout",
          "output_type": "stream",
          "text": [
            "Trial 25 started with hyperparameters: num_layers=4, filters=[83, 120, 84, 83], kernel_size=3, l1=4.3189192421766213e-05, l2=0.00024591888218066893, dense_units=138, dropout_rate=0.15371777459442887, learning_rate=1.0063456646774977e-05\n",
            "\u001b[1m50/50\u001b[0m \u001b[32m━━━━━━━━━━━━━━━━━━━━\u001b[0m\u001b[37m\u001b[0m \u001b[1m0s\u001b[0m 98ms/step - accuracy: 0.4989 - loss: 1.0723"
          ]
        },
        {
          "metadata": {
            "tags": null
          },
          "name": "stderr",
          "output_type": "stream",
          "text": [
            "[I 2024-08-13 14:07:15,714] Trial 25 pruned. Trial was pruned at epoch 0.\n"
          ]
        },
        {
          "metadata": {
            "tags": null
          },
          "name": "stdout",
          "output_type": "stream",
          "text": [
            "Trial 26 started with hyperparameters: num_layers=5, filters=[48, 107, 67, 51, 97], kernel_size=2, l1=0.00013531207459363756, l2=0.004248233579619089, dense_units=148, dropout_rate=0.2816812073955186, learning_rate=4.6441002387821526e-05\n",
            "\u001b[1m50/50\u001b[0m \u001b[32m━━━━━━━━━━━━━━━━━━━━\u001b[0m\u001b[37m\u001b[0m \u001b[1m0s\u001b[0m 61ms/step - accuracy: 0.5021 - loss: 2.4006"
          ]
        },
        {
          "metadata": {
            "tags": null
          },
          "name": "stderr",
          "output_type": "stream",
          "text": [
            "[I 2024-08-13 14:08:56,513] Trial 26 pruned. Trial was pruned at epoch 0.\n"
          ]
        },
        {
          "metadata": {
            "tags": null
          },
          "name": "stdout",
          "output_type": "stream",
          "text": [
            "Trial 27 started with hyperparameters: num_layers=4, filters=[128, 65, 81, 75], kernel_size=3, l1=0.0013202513806668235, l2=0.001186078395029645, dense_units=180, dropout_rate=0.3251976130664404, learning_rate=2.569068560414119e-05\n",
            "\u001b[1m50/50\u001b[0m \u001b[32m━━━━━━━━━━━━━━━━━━━━\u001b[0m\u001b[37m\u001b[0m \u001b[1m24s\u001b[0m 232ms/step - accuracy: 0.4962 - loss: 8.3282 - val_accuracy: 0.5188 - val_loss: 8.1002\n",
            "\u001b[1m50/50\u001b[0m \u001b[32m━━━━━━━━━━━━━━━━━━━━\u001b[0m\u001b[37m\u001b[0m \u001b[1m6s\u001b[0m 123ms/step - accuracy: 0.5243 - loss: 8.0263 - val_accuracy: 0.5225 - val_loss: 7.8029\n",
            "\u001b[1m50/50\u001b[0m \u001b[32m━━━━━━━━━━━━━━━━━━━━\u001b[0m\u001b[37m\u001b[0m \u001b[1m6s\u001b[0m 123ms/step - accuracy: 0.4831 - loss: 7.7319 - val_accuracy: 0.5275 - val_loss: 7.5114\n",
            "\u001b[1m50/50\u001b[0m \u001b[32m━━━━━━━━━━━━━━━━━━━━\u001b[0m\u001b[37m\u001b[0m \u001b[1m6s\u001b[0m 123ms/step - accuracy: 0.5380 - loss: 7.4405 - val_accuracy: 0.4938 - val_loss: 7.2290\n",
            "\u001b[1m50/50\u001b[0m \u001b[32m━━━━━━━━━━━━━━━━━━━━\u001b[0m\u001b[37m\u001b[0m \u001b[1m6s\u001b[0m 123ms/step - accuracy: 0.5284 - loss: 7.1593 - val_accuracy: 0.5138 - val_loss: 6.9517\n",
            "\u001b[1m50/50\u001b[0m \u001b[32m━━━━━━━━━━━━━━━━━━━━\u001b[0m\u001b[37m\u001b[0m \u001b[1m6s\u001b[0m 123ms/step - accuracy: 0.5358 - loss: 6.8844 - val_accuracy: 0.4950 - val_loss: 6.6870\n",
            "\u001b[1m50/50\u001b[0m \u001b[32m━━━━━━━━━━━━━━━━━━━━\u001b[0m\u001b[37m\u001b[0m \u001b[1m6s\u001b[0m 123ms/step - accuracy: 0.5235 - loss: 6.6200 - val_accuracy: 0.5350 - val_loss: 6.4280\n",
            "\u001b[1m50/50\u001b[0m \u001b[32m━━━━━━━━━━━━━━━━━━━━\u001b[0m\u001b[37m\u001b[0m \u001b[1m6s\u001b[0m 124ms/step - accuracy: 0.5209 - loss: 6.3676 - val_accuracy: 0.4938 - val_loss: 6.1835\n",
            "\u001b[1m50/50\u001b[0m \u001b[32m━━━━━━━━━━━━━━━━━━━━\u001b[0m\u001b[37m\u001b[0m \u001b[1m6s\u001b[0m 124ms/step - accuracy: 0.5237 - loss: 6.1203 - val_accuracy: 0.5900 - val_loss: 5.9379\n",
            "\u001b[1m125/125\u001b[0m \u001b[32m━━━━━━━━━━━━━━━━━━━━\u001b[0m\u001b[37m\u001b[0m \u001b[1m2s\u001b[0m 14ms/step - accuracy: 0.5865 - loss: 5.9372\n"
          ]
        },
        {
          "metadata": {
            "tags": null
          },
          "name": "stderr",
          "output_type": "stream",
          "text": [
            "[I 2024-08-13 14:24:07,715] Trial 27 finished with value: 0.5889999866485596 and parameters: {'num_layers': 4, 'filters_0': 128, 'filters_1': 65, 'filters_2': 81, 'filters_3': 75, 'kernel_size': 3, 'l1': 0.0013202513806668235, 'l2': 0.001186078395029645, 'dense_units': 180, 'dropout_rate': 0.3251976130664404, 'learning_rate': 2.569068560414119e-05}. Best is trial 4 with value: 0.6287500262260437.\n"
          ]
        },
        {
          "metadata": {
            "tags": null
          },
          "name": "stdout",
          "output_type": "stream",
          "text": [
            "Trial 28 started with hyperparameters: num_layers=3, filters=[69, 105, 97], kernel_size=2, l1=0.003474227817517821, l2=9.018301004040166e-05, dense_units=192, dropout_rate=0.19886021826179687, learning_rate=1.46826894083785e-05\n",
            "\u001b[1m50/50\u001b[0m \u001b[32m━━━━━━━━━━━━━━━━━━━━\u001b[0m\u001b[37m\u001b[0m \u001b[1m15s\u001b[0m 157ms/step - accuracy: 0.5140 - loss: 11.5011 - val_accuracy: 0.4825 - val_loss: 11.3709\n",
            "\u001b[1m50/50\u001b[0m \u001b[32m━━━━━━━━━━━━━━━━━━━━\u001b[0m\u001b[37m\u001b[0m \u001b[1m4s\u001b[0m 89ms/step - accuracy: 0.4869 - loss: 11.3251 - val_accuracy: 0.4850 - val_loss: 11.1918\n",
            "\u001b[1m50/50\u001b[0m \u001b[32m━━━━━━━━━━━━━━━━━━━━\u001b[0m\u001b[37m\u001b[0m \u001b[1m4s\u001b[0m 89ms/step - accuracy: 0.5213 - loss: 11.1482 - val_accuracy: 0.4725 - val_loss: 11.0211\n",
            "\u001b[1m50/50\u001b[0m \u001b[32m━━━━━━━━━━━━━━━━━━━━\u001b[0m\u001b[37m\u001b[0m \u001b[1m4s\u001b[0m 90ms/step - accuracy: 0.5250 - loss: 10.9757 - val_accuracy: 0.5800 - val_loss: 10.8434\n",
            "\u001b[1m50/50\u001b[0m \u001b[32m━━━━━━━━━━━━━━━━━━━━\u001b[0m\u001b[37m\u001b[0m \u001b[1m4s\u001b[0m 90ms/step - accuracy: 0.5501 - loss: 10.8033 - val_accuracy: 0.5763 - val_loss: 10.6760\n",
            "\u001b[1m50/50\u001b[0m \u001b[32m━━━━━━━━━━━━━━━━━━━━\u001b[0m\u001b[37m\u001b[0m \u001b[1m4s\u001b[0m 89ms/step - accuracy: 0.5357 - loss: 10.6355 - val_accuracy: 0.4950 - val_loss: 10.5122\n",
            "\u001b[1m50/50\u001b[0m \u001b[32m━━━━━━━━━━━━━━━━━━━━\u001b[0m\u001b[37m\u001b[0m \u001b[1m4s\u001b[0m 90ms/step - accuracy: 0.5288 - loss: 10.4684 - val_accuracy: 0.5875 - val_loss: 10.3421\n",
            "\u001b[1m50/50\u001b[0m \u001b[32m━━━━━━━━━━━━━━━━━━━━\u001b[0m\u001b[37m\u001b[0m \u001b[1m4s\u001b[0m 89ms/step - accuracy: 0.5466 - loss: 10.3093 - val_accuracy: 0.5075 - val_loss: 10.1897\n",
            "\u001b[1m50/50\u001b[0m \u001b[32m━━━━━━━━━━━━━━━━━━━━\u001b[0m\u001b[37m\u001b[0m \u001b[1m4s\u001b[0m 90ms/step - accuracy: 0.5525 - loss: 10.1445 - val_accuracy: 0.5713 - val_loss: 10.0254\n",
            "\u001b[1m125/125\u001b[0m \u001b[32m━━━━━━━━━━━━━━━━━━━━\u001b[0m\u001b[37m\u001b[0m \u001b[1m1s\u001b[0m 9ms/step - accuracy: 0.5767 - loss: 10.0228\n"
          ]
        },
        {
          "metadata": {
            "tags": null
          },
          "name": "stderr",
          "output_type": "stream",
          "text": [
            "[I 2024-08-13 14:38:56,506] Trial 28 finished with value: 0.578000009059906 and parameters: {'num_layers': 3, 'filters_0': 69, 'filters_1': 105, 'filters_2': 97, 'kernel_size': 2, 'l1': 0.003474227817517821, 'l2': 9.018301004040166e-05, 'dense_units': 192, 'dropout_rate': 0.19886021826179687, 'learning_rate': 1.46826894083785e-05}. Best is trial 4 with value: 0.6287500262260437.\n"
          ]
        },
        {
          "metadata": {
            "tags": null
          },
          "name": "stdout",
          "output_type": "stream",
          "text": [
            "Trial 29 started with hyperparameters: num_layers=3, filters=[98, 120, 58], kernel_size=3, l1=8.00122648245318e-06, l2=0.004977316852787248, dense_units=234, dropout_rate=0.10050500722562465, learning_rate=2.3422627551641444e-05\n",
            "\u001b[1m50/50\u001b[0m \u001b[32m━━━━━━━━━━━━━━━━━━━━\u001b[0m\u001b[37m\u001b[0m \u001b[1m0s\u001b[0m 105ms/step - accuracy: 0.5004 - loss: 1.6642"
          ]
        },
        {
          "metadata": {
            "tags": null
          },
          "name": "stderr",
          "output_type": "stream",
          "text": [
            "[I 2024-08-13 14:40:44,938] Trial 29 pruned. Trial was pruned at epoch 0.\n"
          ]
        },
        {
          "metadata": {
            "tags": null
          },
          "name": "stdout",
          "output_type": "stream",
          "text": [
            "Trial 30 started with hyperparameters: num_layers=4, filters=[108, 88, 126, 106], kernel_size=2, l1=1.3706510603566538e-06, l2=0.0005640119032510741, dense_units=217, dropout_rate=0.2485673305297636, learning_rate=0.00021312790756600474\n",
            "\u001b[1m50/50\u001b[0m \u001b[32m━━━━━━━━━━━━━━━━━━━━\u001b[0m\u001b[37m\u001b[0m \u001b[1m0s\u001b[0m 100ms/step - accuracy: 0.4974 - loss: 0.8785"
          ]
        },
        {
          "metadata": {
            "tags": null
          },
          "name": "stderr",
          "output_type": "stream",
          "text": [
            "[I 2024-08-13 14:42:29,264] Trial 30 pruned. Trial was pruned at epoch 0.\n"
          ]
        },
        {
          "metadata": {
            "tags": null
          },
          "name": "stdout",
          "output_type": "stream",
          "text": [
            "Trial 31 started with hyperparameters: num_layers=4, filters=[127, 62, 82, 73], kernel_size=3, l1=0.0013104865242856332, l2=0.001014412088527161, dense_units=169, dropout_rate=0.3358294766745212, learning_rate=2.9294627818580707e-05\n",
            "\u001b[1m50/50\u001b[0m \u001b[32m━━━━━━━━━━━━━━━━━━━━\u001b[0m\u001b[37m\u001b[0m \u001b[1m0s\u001b[0m 107ms/step - accuracy: 0.4922 - loss: 8.0070"
          ]
        },
        {
          "metadata": {
            "tags": null
          },
          "name": "stderr",
          "output_type": "stream",
          "text": [
            "[I 2024-08-13 14:44:14,835] Trial 31 pruned. Trial was pruned at epoch 0.\n"
          ]
        },
        {
          "metadata": {
            "tags": null
          },
          "name": "stdout",
          "output_type": "stream",
          "text": [
            "Trial 32 started with hyperparameters: num_layers=4, filters=[117, 38, 76, 85], kernel_size=3, l1=0.0019534103495537354, l2=0.003139055675696886, dense_units=179, dropout_rate=0.3772497873546848, learning_rate=1.945706827976615e-05\n",
            "\u001b[1m50/50\u001b[0m \u001b[32m━━━━━━━━━━━━━━━━━━━━\u001b[0m\u001b[37m\u001b[0m \u001b[1m20s\u001b[0m 189ms/step - accuracy: 0.5107 - loss: 9.4682 - val_accuracy: 0.5175 - val_loss: 9.2769\n",
            "\u001b[1m50/50\u001b[0m \u001b[32m━━━━━━━━━━━━━━━━━━━━\u001b[0m\u001b[37m\u001b[0m \u001b[1m5s\u001b[0m 105ms/step - accuracy: 0.4999 - loss: 9.2148 - val_accuracy: 0.5175 - val_loss: 9.0256\n",
            "\u001b[1m50/50\u001b[0m \u001b[32m━━━━━━━━━━━━━━━━━━━━\u001b[0m\u001b[37m\u001b[0m \u001b[1m5s\u001b[0m 105ms/step - accuracy: 0.5144 - loss: 8.9634 - val_accuracy: 0.5275 - val_loss: 8.7774\n",
            "\u001b[1m50/50\u001b[0m \u001b[32m━━━━━━━━━━━━━━━━━━━━\u001b[0m\u001b[37m\u001b[0m \u001b[1m5s\u001b[0m 105ms/step - accuracy: 0.5081 - loss: 8.7175 - val_accuracy: 0.4938 - val_loss: 8.5356\n",
            "\u001b[1m50/50\u001b[0m \u001b[32m━━━━━━━━━━━━━━━━━━━━\u001b[0m\u001b[37m\u001b[0m \u001b[1m5s\u001b[0m 105ms/step - accuracy: 0.5218 - loss: 8.4757 - val_accuracy: 0.5088 - val_loss: 8.2970\n",
            "\u001b[1m50/50\u001b[0m \u001b[32m━━━━━━━━━━━━━━━━━━━━\u001b[0m\u001b[37m\u001b[0m \u001b[1m5s\u001b[0m 105ms/step - accuracy: 0.5032 - loss: 8.2387 - val_accuracy: 0.4950 - val_loss: 8.0629\n",
            "\u001b[1m50/50\u001b[0m \u001b[32m━━━━━━━━━━━━━━━━━━━━\u001b[0m\u001b[37m\u001b[0m \u001b[1m5s\u001b[0m 105ms/step - accuracy: 0.5088 - loss: 8.0057 - val_accuracy: 0.4675 - val_loss: 7.8346\n",
            "\u001b[1m50/50\u001b[0m \u001b[32m━━━━━━━━━━━━━━━━━━━━\u001b[0m\u001b[37m\u001b[0m \u001b[1m5s\u001b[0m 105ms/step - accuracy: 0.5199 - loss: 7.7769 - val_accuracy: 0.5350 - val_loss: 7.6083\n",
            "\u001b[1m50/50\u001b[0m \u001b[32m━━━━━━━━━━━━━━━━━━━━\u001b[0m\u001b[37m\u001b[0m \u001b[1m5s\u001b[0m 105ms/step - accuracy: 0.5222 - loss: 7.5531 - val_accuracy: 0.5913 - val_loss: 7.3870\n",
            "\u001b[1m125/125\u001b[0m \u001b[32m━━━━━━━━━━━━━━━━━━━━\u001b[0m\u001b[37m\u001b[0m \u001b[1m1s\u001b[0m 12ms/step - accuracy: 0.5993 - loss: 7.3869\n"
          ]
        },
        {
          "metadata": {
            "tags": null
          },
          "name": "stderr",
          "output_type": "stream",
          "text": [
            "[I 2024-08-13 14:59:12,958] Trial 32 finished with value: 0.6007500290870667 and parameters: {'num_layers': 4, 'filters_0': 117, 'filters_1': 38, 'filters_2': 76, 'filters_3': 85, 'kernel_size': 3, 'l1': 0.0019534103495537354, 'l2': 0.003139055675696886, 'dense_units': 179, 'dropout_rate': 0.3772497873546848, 'learning_rate': 1.945706827976615e-05}. Best is trial 4 with value: 0.6287500262260437.\n"
          ]
        },
        {
          "metadata": {
            "tags": null
          },
          "name": "stdout",
          "output_type": "stream",
          "text": [
            "Trial 33 started with hyperparameters: num_layers=5, filters=[117, 38, 75, 86, 64], kernel_size=3, l1=0.007938540290082376, l2=0.006922767333781387, dense_units=150, dropout_rate=0.3774855651611835, learning_rate=1.3252634544002003e-05\n",
            "\u001b[1m50/50\u001b[0m \u001b[32m━━━━━━━━━━━━━━━━━━━━\u001b[0m\u001b[37m\u001b[0m \u001b[1m13s\u001b[0m 150ms/step - accuracy: 0.5125 - loss: 48.7899 - val_accuracy: 0.4825 - val_loss: 48.0673\n",
            "\u001b[1m50/50\u001b[0m \u001b[32m━━━━━━━━━━━━━━━━━━━━\u001b[0m\u001b[37m\u001b[0m \u001b[1m5s\u001b[0m 105ms/step - accuracy: 0.5168 - loss: 47.8274 - val_accuracy: 0.4800 - val_loss: 47.1137\n",
            "\u001b[1m50/50\u001b[0m \u001b[32m━━━━━━━━━━━━━━━━━━━━\u001b[0m\u001b[37m\u001b[0m \u001b[1m5s\u001b[0m 105ms/step - accuracy: 0.4859 - loss: 46.8776 - val_accuracy: 0.5150 - val_loss: 46.1699\n",
            "\u001b[1m50/50\u001b[0m \u001b[32m━━━━━━━━━━━━━━━━━━━━\u001b[0m\u001b[37m\u001b[0m \u001b[1m5s\u001b[0m 105ms/step - accuracy: 0.5190 - loss: 45.9358 - val_accuracy: 0.5150 - val_loss: 45.2371\n",
            "\u001b[1m50/50\u001b[0m \u001b[32m━━━━━━━━━━━━━━━━━━━━\u001b[0m\u001b[37m\u001b[0m \u001b[1m5s\u001b[0m 105ms/step - accuracy: 0.5242 - loss: 45.0052 - val_accuracy: 0.4900 - val_loss: 44.3148\n",
            "\u001b[1m50/50\u001b[0m \u001b[32m━━━━━━━━━━━━━━━━━━━━\u001b[0m\u001b[37m\u001b[0m \u001b[1m5s\u001b[0m 105ms/step - accuracy: 0.5040 - loss: 44.0864 - val_accuracy: 0.5050 - val_loss: 43.4027\n",
            "\u001b[1m50/50\u001b[0m \u001b[32m━━━━━━━━━━━━━━━━━━━━\u001b[0m\u001b[37m\u001b[0m \u001b[1m5s\u001b[0m 105ms/step - accuracy: 0.4991 - loss: 43.1773 - val_accuracy: 0.4650 - val_loss: 42.5019\n",
            "\u001b[1m50/50\u001b[0m \u001b[32m━━━━━━━━━━━━━━━━━━━━\u001b[0m\u001b[37m\u001b[0m \u001b[1m5s\u001b[0m 105ms/step - accuracy: 0.4909 - loss: 42.2782 - val_accuracy: 0.4787 - val_loss: 41.6109\n",
            "\u001b[1m50/50\u001b[0m \u001b[32m━━━━━━━━━━━━━━━━━━━━\u001b[0m\u001b[37m\u001b[0m \u001b[1m5s\u001b[0m 105ms/step - accuracy: 0.5103 - loss: 41.3900 - val_accuracy: 0.5038 - val_loss: 40.7298\n",
            "\u001b[1m125/125\u001b[0m \u001b[32m━━━━━━━━━━━━━━━━━━━━\u001b[0m\u001b[37m\u001b[0m \u001b[1m1s\u001b[0m 12ms/step - accuracy: 0.4978 - loss: 40.7298\n"
          ]
        },
        {
          "metadata": {
            "tags": null
          },
          "name": "stderr",
          "output_type": "stream",
          "text": [
            "[I 2024-08-13 15:14:04,371] Trial 33 finished with value: 0.5009999871253967 and parameters: {'num_layers': 5, 'filters_0': 117, 'filters_1': 38, 'filters_2': 75, 'filters_3': 86, 'filters_4': 64, 'kernel_size': 3, 'l1': 0.007938540290082376, 'l2': 0.006922767333781387, 'dense_units': 150, 'dropout_rate': 0.3774855651611835, 'learning_rate': 1.3252634544002003e-05}. Best is trial 4 with value: 0.6287500262260437.\n"
          ]
        },
        {
          "metadata": {
            "tags": null
          },
          "name": "stdout",
          "output_type": "stream",
          "text": [
            "Trial 34 started with hyperparameters: num_layers=6, filters=[113, 116, 68, 97, 51, 37], kernel_size=3, l1=0.004749478739108329, l2=0.0030676814362441745, dense_units=189, dropout_rate=0.4153384181404576, learning_rate=1.9866304599437923e-05\n",
            "\u001b[1m50/50\u001b[0m \u001b[32m━━━━━━━━━━━━━━━━━━━━\u001b[0m\u001b[37m\u001b[0m \u001b[1m29s\u001b[0m 264ms/step - accuracy: 0.5038 - loss: 46.4675 - val_accuracy: 0.4825 - val_loss: 45.3380\n",
            "\u001b[1m50/50\u001b[0m \u001b[32m━━━━━━━━━━━━━━━━━━━━\u001b[0m\u001b[37m\u001b[0m \u001b[1m6s\u001b[0m 129ms/step - accuracy: 0.5061 - loss: 44.9658 - val_accuracy: 0.4800 - val_loss: 43.8565\n",
            "\u001b[1m50/50\u001b[0m \u001b[32m━━━━━━━━━━━━━━━━━━━━\u001b[0m\u001b[37m\u001b[0m \u001b[1m6s\u001b[0m 129ms/step - accuracy: 0.4968 - loss: 43.4909 - val_accuracy: 0.5275 - val_loss: 42.4004\n",
            "\u001b[1m50/50\u001b[0m \u001b[32m━━━━━━━━━━━━━━━━━━━━\u001b[0m\u001b[37m\u001b[0m \u001b[1m6s\u001b[0m 128ms/step - accuracy: 0.4943 - loss: 42.0424 - val_accuracy: 0.4938 - val_loss: 40.9723\n",
            "\u001b[1m50/50\u001b[0m \u001b[32m━━━━━━━━━━━━━━━━━━━━\u001b[0m\u001b[37m\u001b[0m \u001b[1m6s\u001b[0m 129ms/step - accuracy: 0.4821 - loss: 40.6204 - val_accuracy: 0.4913 - val_loss: 39.5701\n",
            "\u001b[1m50/50\u001b[0m \u001b[32m━━━━━━━━━━━━━━━━━━━━\u001b[0m\u001b[37m\u001b[0m \u001b[1m6s\u001b[0m 128ms/step - accuracy: 0.5124 - loss: 39.2246 - val_accuracy: 0.5050 - val_loss: 38.1942\n",
            "\u001b[1m50/50\u001b[0m \u001b[32m━━━━━━━━━━━━━━━━━━━━\u001b[0m\u001b[37m\u001b[0m \u001b[1m6s\u001b[0m 129ms/step - accuracy: 0.5124 - loss: 37.8555 - val_accuracy: 0.4663 - val_loss: 36.8455\n",
            "\u001b[1m50/50\u001b[0m \u001b[32m━━━━━━━━━━━━━━━━━━━━\u001b[0m\u001b[37m\u001b[0m \u001b[1m6s\u001b[0m 128ms/step - accuracy: 0.5088 - loss: 36.5128 - val_accuracy: 0.4787 - val_loss: 35.5228\n",
            "\u001b[1m50/50\u001b[0m \u001b[32m━━━━━━━━━━━━━━━━━━━━\u001b[0m\u001b[37m\u001b[0m \u001b[1m6s\u001b[0m 129ms/step - accuracy: 0.5307 - loss: 35.1968 - val_accuracy: 0.5025 - val_loss: 34.2263\n",
            "\u001b[1m125/125\u001b[0m \u001b[32m━━━━━━━━━━━━━━━━━━━━\u001b[0m\u001b[37m\u001b[0m \u001b[1m2s\u001b[0m 15ms/step - accuracy: 0.4971 - loss: 34.2263\n"
          ]
        },
        {
          "metadata": {
            "tags": null
          },
          "name": "stderr",
          "output_type": "stream",
          "text": [
            "[I 2024-08-13 15:29:23,489] Trial 34 finished with value: 0.5 and parameters: {'num_layers': 6, 'filters_0': 113, 'filters_1': 116, 'filters_2': 68, 'filters_3': 97, 'filters_4': 51, 'filters_5': 37, 'kernel_size': 3, 'l1': 0.004749478739108329, 'l2': 0.0030676814362441745, 'dense_units': 189, 'dropout_rate': 0.4153384181404576, 'learning_rate': 1.9866304599437923e-05}. Best is trial 4 with value: 0.6287500262260437.\n"
          ]
        },
        {
          "metadata": {
            "tags": null
          },
          "name": "stdout",
          "output_type": "stream",
          "text": [
            "Trial 35 started with hyperparameters: num_layers=4, filters=[93, 43, 95, 56], kernel_size=3, l1=0.0008503003794413222, l2=0.00033630577862875166, dense_units=105, dropout_rate=0.30244000663930387, learning_rate=3.839123099772206e-05\n",
            "\u001b[1m50/50\u001b[0m \u001b[32m━━━━━━━━━━━━━━━━━━━━\u001b[0m\u001b[37m\u001b[0m \u001b[1m0s\u001b[0m 83ms/step - accuracy: 0.4977 - loss: 4.2534"
          ]
        },
        {
          "metadata": {
            "tags": null
          },
          "name": "stderr",
          "output_type": "stream",
          "text": [
            "[I 2024-08-13 15:31:06,448] Trial 35 pruned. Trial was pruned at epoch 0.\n"
          ]
        },
        {
          "metadata": {
            "tags": null
          },
          "name": "stdout",
          "output_type": "stream",
          "text": [
            "Trial 36 started with hyperparameters: num_layers=3, filters=[121, 49, 59], kernel_size=3, l1=0.0024509396469045326, l2=0.008255026966570248, dense_units=169, dropout_rate=0.47491607942776287, learning_rate=1.3465130295050249e-05\n",
            "\u001b[1m50/50\u001b[0m \u001b[32m━━━━━━━━━━━━━━━━━━━━\u001b[0m\u001b[37m\u001b[0m \u001b[1m0s\u001b[0m 98ms/step - accuracy: 0.4915 - loss: 8.3878"
          ]
        },
        {
          "metadata": {
            "tags": null
          },
          "name": "stderr",
          "output_type": "stream",
          "text": [
            "[I 2024-08-13 15:32:47,114] Trial 36 pruned. Trial was pruned at epoch 0.\n"
          ]
        },
        {
          "metadata": {
            "tags": null
          },
          "name": "stdout",
          "output_type": "stream",
          "text": [
            "Trial 37 started with hyperparameters: num_layers=5, filters=[102, 59, 112, 69, 102], kernel_size=2, l1=0.0004524832429901408, l2=0.0018752491165967308, dense_units=156, dropout_rate=0.41863815544304833, learning_rate=1.9295494464514517e-05\n",
            "\u001b[1m50/50\u001b[0m \u001b[32m━━━━━━━━━━━━━━━━━━━━\u001b[0m\u001b[37m\u001b[0m \u001b[1m0s\u001b[0m 88ms/step - accuracy: 0.4965 - loss: 3.6096"
          ]
        },
        {
          "metadata": {
            "tags": null
          },
          "name": "stderr",
          "output_type": "stream",
          "text": [
            "[I 2024-08-13 15:34:28,996] Trial 37 pruned. Trial was pruned at epoch 0.\n"
          ]
        },
        {
          "metadata": {
            "tags": null
          },
          "name": "stdout",
          "output_type": "stream",
          "text": [
            "Trial 38 started with hyperparameters: num_layers=4, filters=[85, 123, 40, 83], kernel_size=3, l1=0.00011323958787537416, l2=0.009787245744899113, dense_units=127, dropout_rate=0.35387749139319524, learning_rate=3.479274394212846e-05\n",
            "\u001b[1m50/50\u001b[0m \u001b[32m━━━━━━━━━━━━━━━━━━━━\u001b[0m\u001b[37m\u001b[0m \u001b[1m0s\u001b[0m 98ms/step - accuracy: 0.5032 - loss: 3.3671"
          ]
        },
        {
          "metadata": {
            "tags": null
          },
          "name": "stderr",
          "output_type": "stream",
          "text": [
            "[I 2024-08-13 15:36:15,606] Trial 38 pruned. Trial was pruned at epoch 0.\n"
          ]
        },
        {
          "metadata": {
            "tags": null
          },
          "name": "stdout",
          "output_type": "stream",
          "text": [
            "Trial 39 started with hyperparameters: num_layers=6, filters=[38, 34, 48, 49, 77, 128], kernel_size=2, l1=0.001599665497441694, l2=3.386063970306124e-05, dense_units=239, dropout_rate=0.12881692952732404, learning_rate=0.0001346871599284265\n",
            "\u001b[1m49/50\u001b[0m \u001b[32m━━━━━━━━━━━━━━━━━━━\u001b[0m\u001b[37m━\u001b[0m \u001b[1m0s\u001b[0m 37ms/step - accuracy: 0.4947 - loss: 6.7856"
          ]
        },
        {
          "metadata": {
            "tags": null
          },
          "name": "stderr",
          "output_type": "stream",
          "text": [
            "[I 2024-08-13 15:37:51,876] Trial 39 pruned. Trial was pruned at epoch 0.\n"
          ]
        },
        {
          "metadata": {
            "tags": null
          },
          "name": "stdout",
          "output_type": "stream",
          "text": [
            "Trial 40 started with hyperparameters: num_layers=3, filters=[53, 71, 72], kernel_size=3, l1=5.8352456091599824e-05, l2=0.004662381177062875, dense_units=205, dropout_rate=0.4526887763583648, learning_rate=0.00041779290323674614\n",
            "\u001b[1m50/50\u001b[0m \u001b[32m━━━━━━━━━━━━━━━━━━━━\u001b[0m\u001b[37m\u001b[0m \u001b[1m0s\u001b[0m 65ms/step - accuracy: 0.5141 - loss: 1.4460"
          ]
        },
        {
          "metadata": {
            "tags": null
          },
          "name": "stderr",
          "output_type": "stream",
          "text": [
            "[I 2024-08-13 15:39:30,320] Trial 40 pruned. Trial was pruned at epoch 0.\n"
          ]
        },
        {
          "metadata": {
            "tags": null
          },
          "name": "stdout",
          "output_type": "stream",
          "text": [
            "Trial 41 started with hyperparameters: num_layers=4, filters=[127, 45, 79, 71], kernel_size=3, l1=0.0023350109041964883, l2=0.001741994865532764, dense_units=180, dropout_rate=0.31598285596262016, learning_rate=2.5585343225810227e-05\n",
            "\u001b[1m50/50\u001b[0m \u001b[32m━━━━━━━━━━━━━━━━━━━━\u001b[0m\u001b[37m\u001b[0m \u001b[1m18s\u001b[0m 185ms/step - accuracy: 0.5113 - loss: 11.4361 - val_accuracy: 0.5600 - val_loss: 11.1287\n",
            "\u001b[1m50/50\u001b[0m \u001b[32m━━━━━━━━━━━━━━━━━━━━\u001b[0m\u001b[37m\u001b[0m \u001b[1m6s\u001b[0m 113ms/step - accuracy: 0.5035 - loss: 11.0289 - val_accuracy: 0.5950 - val_loss: 10.7267\n",
            "\u001b[1m50/50\u001b[0m \u001b[32m━━━━━━━━━━━━━━━━━━━━\u001b[0m\u001b[37m\u001b[0m \u001b[1m6s\u001b[0m 113ms/step - accuracy: 0.5191 - loss: 10.6290 - val_accuracy: 0.5825 - val_loss: 10.3336\n",
            "\u001b[1m50/50\u001b[0m \u001b[32m━━━━━━━━━━━━━━━━━━━━\u001b[0m\u001b[37m\u001b[0m \u001b[1m6s\u001b[0m 113ms/step - accuracy: 0.5427 - loss: 10.2377 - val_accuracy: 0.5550 - val_loss: 9.9517\n",
            "\u001b[1m50/50\u001b[0m \u001b[32m━━━━━━━━━━━━━━━━━━━━\u001b[0m\u001b[37m\u001b[0m \u001b[1m6s\u001b[0m 113ms/step - accuracy: 0.5637 - loss: 9.8584 - val_accuracy: 0.5113 - val_loss: 9.5805\n",
            "\u001b[1m50/50\u001b[0m \u001b[32m━━━━━━━━━━━━━━━━━━━━\u001b[0m\u001b[37m\u001b[0m \u001b[1m6s\u001b[0m 113ms/step - accuracy: 0.5593 - loss: 9.4894 - val_accuracy: 0.4950 - val_loss: 9.2217\n",
            "\u001b[1m50/50\u001b[0m \u001b[32m━━━━━━━━━━━━━━━━━━━━\u001b[0m\u001b[37m\u001b[0m \u001b[1m6s\u001b[0m 113ms/step - accuracy: 0.5311 - loss: 9.1325 - val_accuracy: 0.5638 - val_loss: 8.8688\n",
            "\u001b[1m50/50\u001b[0m \u001b[32m━━━━━━━━━━━━━━━━━━━━\u001b[0m\u001b[37m\u001b[0m \u001b[1m6s\u001b[0m 113ms/step - accuracy: 0.5159 - loss: 8.7876 - val_accuracy: 0.5075 - val_loss: 8.5341\n",
            "\u001b[1m50/50\u001b[0m \u001b[32m━━━━━━━━━━━━━━━━━━━━\u001b[0m\u001b[37m\u001b[0m \u001b[1m6s\u001b[0m 113ms/step - accuracy: 0.5353 - loss: 8.4496 - val_accuracy: 0.6012 - val_loss: 8.2013\n",
            "\u001b[1m125/125\u001b[0m \u001b[32m━━━━━━━━━━━━━━━━━━━━\u001b[0m\u001b[37m\u001b[0m \u001b[1m2s\u001b[0m 12ms/step - accuracy: 0.5985 - loss: 8.2006\n"
          ]
        },
        {
          "metadata": {
            "tags": null
          },
          "name": "stderr",
          "output_type": "stream",
          "text": [
            "[I 2024-08-13 15:54:28,632] Trial 41 finished with value: 0.6042500138282776 and parameters: {'num_layers': 4, 'filters_0': 127, 'filters_1': 45, 'filters_2': 79, 'filters_3': 71, 'kernel_size': 3, 'l1': 0.0023350109041964883, 'l2': 0.001741994865532764, 'dense_units': 180, 'dropout_rate': 0.31598285596262016, 'learning_rate': 2.5585343225810227e-05}. Best is trial 4 with value: 0.6287500262260437.\n"
          ]
        },
        {
          "metadata": {
            "tags": null
          },
          "name": "stdout",
          "output_type": "stream",
          "text": [
            "Trial 42 started with hyperparameters: num_layers=4, filters=[121, 40, 87, 81], kernel_size=3, l1=0.0022184521574659267, l2=0.0026955383498319307, dense_units=174, dropout_rate=0.396613104197431, learning_rate=1.2346757214517912e-05\n",
            "\u001b[1m50/50\u001b[0m \u001b[32m━━━━━━━━━━━━━━━━━━━━\u001b[0m\u001b[37m\u001b[0m \u001b[1m18s\u001b[0m 184ms/step - accuracy: 0.5058 - loss: 11.3168 - val_accuracy: 0.5138 - val_loss: 11.1667\n",
            "\u001b[1m50/50\u001b[0m \u001b[32m━━━━━━━━━━━━━━━━━━━━\u001b[0m\u001b[37m\u001b[0m \u001b[1m5s\u001b[0m 108ms/step - accuracy: 0.5050 - loss: 11.1184 - val_accuracy: 0.5312 - val_loss: 10.9695\n",
            "\u001b[1m50/50\u001b[0m \u001b[32m━━━━━━━━━━━━━━━━━━━━\u001b[0m\u001b[37m\u001b[0m \u001b[1m5s\u001b[0m 108ms/step - accuracy: 0.5021 - loss: 10.9222 - val_accuracy: 0.5600 - val_loss: 10.7732\n",
            "\u001b[1m50/50\u001b[0m \u001b[32m━━━━━━━━━━━━━━━━━━━━\u001b[0m\u001b[37m\u001b[0m \u001b[1m5s\u001b[0m 108ms/step - accuracy: 0.5421 - loss: 10.7251 - val_accuracy: 0.5150 - val_loss: 10.5816\n",
            "\u001b[1m50/50\u001b[0m \u001b[32m━━━━━━━━━━━━━━━━━━━━\u001b[0m\u001b[37m\u001b[0m \u001b[1m5s\u001b[0m 108ms/step - accuracy: 0.5532 - loss: 10.5339 - val_accuracy: 0.5088 - val_loss: 10.3930\n",
            "\u001b[1m50/50\u001b[0m \u001b[32m━━━━━━━━━━━━━━━━━━━━\u001b[0m\u001b[37m\u001b[0m \u001b[1m5s\u001b[0m 109ms/step - accuracy: 0.5379 - loss: 10.3473 - val_accuracy: 0.4950 - val_loss: 10.2089\n",
            "\u001b[1m50/50\u001b[0m \u001b[32m━━━━━━━━━━━━━━━━━━━━\u001b[0m\u001b[37m\u001b[0m \u001b[1m5s\u001b[0m 108ms/step - accuracy: 0.5302 - loss: 10.1623 - val_accuracy: 0.5350 - val_loss: 10.0237\n",
            "\u001b[1m50/50\u001b[0m \u001b[32m━━━━━━━━━━━━━━━━━━━━\u001b[0m\u001b[37m\u001b[0m \u001b[1m5s\u001b[0m 109ms/step - accuracy: 0.4983 - loss: 9.9845 - val_accuracy: 0.4938 - val_loss: 9.8523\n",
            "\u001b[1m50/50\u001b[0m \u001b[32m━━━━━━━━━━━━━━━━━━━━\u001b[0m\u001b[37m\u001b[0m \u001b[1m5s\u001b[0m 109ms/step - accuracy: 0.5270 - loss: 9.8061 - val_accuracy: 0.5825 - val_loss: 9.6734\n",
            "\u001b[1m125/125\u001b[0m \u001b[32m━━━━━━━━━━━━━━━━━━━━\u001b[0m\u001b[37m\u001b[0m \u001b[1m2s\u001b[0m 12ms/step - accuracy: 0.5732 - loss: 9.6729\n"
          ]
        },
        {
          "metadata": {
            "tags": null
          },
          "name": "stderr",
          "output_type": "stream",
          "text": [
            "[I 2024-08-13 16:09:26,045] Trial 42 finished with value: 0.5740000009536743 and parameters: {'num_layers': 4, 'filters_0': 121, 'filters_1': 40, 'filters_2': 87, 'filters_3': 81, 'kernel_size': 3, 'l1': 0.0022184521574659267, 'l2': 0.0026955383498319307, 'dense_units': 174, 'dropout_rate': 0.396613104197431, 'learning_rate': 1.2346757214517912e-05}. Best is trial 4 with value: 0.6287500262260437.\n"
          ]
        },
        {
          "metadata": {
            "tags": null
          },
          "name": "stdout",
          "output_type": "stream",
          "text": [
            "Trial 43 started with hyperparameters: num_layers=4, filters=[111, 53, 77, 69], kernel_size=3, l1=0.005130755211153466, l2=0.001499439319190587, dense_units=163, dropout_rate=0.35411335827249746, learning_rate=2.235129077578333e-05\n",
            "\u001b[1m50/50\u001b[0m \u001b[32m━━━━━━━━━━━━━━━━━━━━\u001b[0m\u001b[37m\u001b[0m \u001b[1m22s\u001b[0m 209ms/step - accuracy: 0.5045 - loss: 24.7390 - val_accuracy: 0.5175 - val_loss: 24.1400\n",
            "\u001b[1m50/50\u001b[0m \u001b[32m━━━━━━━━━━━━━━━━━━━━\u001b[0m\u001b[37m\u001b[0m \u001b[1m5s\u001b[0m 106ms/step - accuracy: 0.5268 - loss: 23.9429 - val_accuracy: 0.5337 - val_loss: 23.3553\n",
            "\u001b[1m50/50\u001b[0m \u001b[32m━━━━━━━━━━━━━━━━━━━━\u001b[0m\u001b[37m\u001b[0m \u001b[1m5s\u001b[0m 106ms/step - accuracy: 0.4938 - loss: 23.1630 - val_accuracy: 0.5275 - val_loss: 22.5828\n",
            "\u001b[1m50/50\u001b[0m \u001b[32m━━━━━━━━━━━━━━━━━━━━\u001b[0m\u001b[37m\u001b[0m \u001b[1m5s\u001b[0m 106ms/step - accuracy: 0.4990 - loss: 22.3952 - val_accuracy: 0.4938 - val_loss: 21.8265\n",
            "\u001b[1m50/50\u001b[0m \u001b[32m━━━━━━━━━━━━━━━━━━━━\u001b[0m\u001b[37m\u001b[0m \u001b[1m5s\u001b[0m 106ms/step - accuracy: 0.5209 - loss: 21.6399 - val_accuracy: 0.5088 - val_loss: 21.0822\n",
            "\u001b[1m50/50\u001b[0m \u001b[32m━━━━━━━━━━━━━━━━━━━━\u001b[0m\u001b[37m\u001b[0m \u001b[1m5s\u001b[0m 106ms/step - accuracy: 0.5078 - loss: 20.8994 - val_accuracy: 0.6200 - val_loss: 20.3524\n",
            "\u001b[1m50/50\u001b[0m \u001b[32m━━━━━━━━━━━━━━━━━━━━\u001b[0m\u001b[37m\u001b[0m \u001b[1m5s\u001b[0m 106ms/step - accuracy: 0.4959 - loss: 20.1738 - val_accuracy: 0.4663 - val_loss: 19.6381\n",
            "\u001b[1m50/50\u001b[0m \u001b[32m━━━━━━━━━━━━━━━━━━━━\u001b[0m\u001b[37m\u001b[0m \u001b[1m5s\u001b[0m 106ms/step - accuracy: 0.5110 - loss: 19.4613 - val_accuracy: 0.5088 - val_loss: 18.9352\n",
            "\u001b[1m50/50\u001b[0m \u001b[32m━━━━━━━━━━━━━━━━━━━━\u001b[0m\u001b[37m\u001b[0m \u001b[1m5s\u001b[0m 106ms/step - accuracy: 0.5002 - loss: 18.7627 - val_accuracy: 0.5725 - val_loss: 18.2470\n",
            "\u001b[1m125/125\u001b[0m \u001b[32m━━━━━━━━━━━━━━━━━━━━\u001b[0m\u001b[37m\u001b[0m \u001b[1m1s\u001b[0m 12ms/step - accuracy: 0.5665 - loss: 18.2469\n"
          ]
        },
        {
          "metadata": {
            "tags": null
          },
          "name": "stderr",
          "output_type": "stream",
          "text": [
            "[I 2024-08-13 16:24:31,789] Trial 43 finished with value: 0.5730000138282776 and parameters: {'num_layers': 4, 'filters_0': 111, 'filters_1': 53, 'filters_2': 77, 'filters_3': 69, 'kernel_size': 3, 'l1': 0.005130755211153466, 'l2': 0.001499439319190587, 'dense_units': 163, 'dropout_rate': 0.35411335827249746, 'learning_rate': 2.235129077578333e-05}. Best is trial 4 with value: 0.6287500262260437.\n"
          ]
        },
        {
          "metadata": {
            "tags": null
          },
          "name": "stdout",
          "output_type": "stream",
          "text": [
            "Trial 44 started with hyperparameters: num_layers=5, filters=[123, 47, 86, 101, 125], kernel_size=3, l1=2.258961269951359e-05, l2=0.00554112823948074, dense_units=146, dropout_rate=0.279306165618744, learning_rate=1.657351102514601e-05\n",
            "\u001b[1m50/50\u001b[0m \u001b[32m━━━━━━━━━━━━━━━━━━━━\u001b[0m\u001b[37m\u001b[0m \u001b[1m0s\u001b[0m 103ms/step - accuracy: 0.4921 - loss: 2.7163"
          ]
        },
        {
          "metadata": {
            "tags": null
          },
          "name": "stderr",
          "output_type": "stream",
          "text": [
            "[I 2024-08-13 16:26:18,580] Trial 44 pruned. Trial was pruned at epoch 0.\n"
          ]
        },
        {
          "metadata": {
            "tags": null
          },
          "name": "stdout",
          "output_type": "stream",
          "text": [
            "Trial 45 started with hyperparameters: num_layers=4, filters=[77, 33, 100, 88], kernel_size=3, l1=0.0009195106143090796, l2=0.0004011638446213795, dense_units=193, dropout_rate=0.18352578011932824, learning_rate=7.12631401579276e-05\n",
            "\u001b[1m50/50\u001b[0m \u001b[32m━━━━━━━━━━━━━━━━━━━━\u001b[0m\u001b[37m\u001b[0m \u001b[1m0s\u001b[0m 73ms/step - accuracy: 0.4999 - loss: 4.6632"
          ]
        },
        {
          "metadata": {
            "tags": null
          },
          "name": "stderr",
          "output_type": "stream",
          "text": [
            "[I 2024-08-13 16:27:59,643] Trial 45 pruned. Trial was pruned at epoch 0.\n"
          ]
        },
        {
          "output_type": "stream",
          "name": "stdout",
          "text": [
            "Trial 46 started with hyperparameters: num_layers=4, filters=[98, 46, 108, 53], kernel_size=3, l1=0.0036535039943255596, l2=0.0008424044468628806, dense_units=212, dropout_rate=0.3140025643236368, learning_rate=2.8198921822313324e-05\n",
            "\u001b[1m50/50\u001b[0m \u001b[32m━━━━━━━━━━━━━━━━━━━━\u001b[0m\u001b[37m\u001b[0m \u001b[1m17s\u001b[0m 168ms/step - accuracy: 0.4965 - loss: 17.3327 - val_accuracy: 0.5175 - val_loss: 16.8038\n",
            "\u001b[1m50/50\u001b[0m \u001b[32m━━━━━━━━━━━━━━━━━━━━\u001b[0m\u001b[37m\u001b[0m \u001b[1m5s\u001b[0m 97ms/step - accuracy: 0.5157 - loss: 16.6312 - val_accuracy: 0.5263 - val_loss: 16.1129\n",
            "\u001b[1m50/50\u001b[0m \u001b[32m━━━━━━━━━━━━━━━━━━━━\u001b[0m\u001b[37m\u001b[0m \u001b[1m5s\u001b[0m 97ms/step - accuracy: 0.5041 - loss: 15.9445 - val_accuracy: 0.5325 - val_loss: 15.4371\n",
            "\u001b[1m50/50\u001b[0m \u001b[32m━━━━━━━━━━━━━━━━━━━━\u001b[0m\u001b[37m\u001b[0m \u001b[1m5s\u001b[0m 98ms/step - accuracy: 0.5277 - loss: 15.2729 - val_accuracy: 0.5350 - val_loss: 14.7802\n",
            "\u001b[1m50/50\u001b[0m \u001b[32m━━━━━━━━━━━━━━━━━━━━\u001b[0m\u001b[37m\u001b[0m \u001b[1m5s\u001b[0m 97ms/step - accuracy: 0.5431 - loss: 14.6197 - val_accuracy: 0.5113 - val_loss: 14.1417\n",
            "\u001b[1m50/50\u001b[0m \u001b[32m━━━━━━━━━━━━━━━━━━━━\u001b[0m\u001b[37m\u001b[0m \u001b[1m5s\u001b[0m 97ms/step - accuracy: 0.5472 - loss: 13.9854 - val_accuracy: 0.4950 - val_loss: 13.5226\n",
            "\u001b[1m50/50\u001b[0m \u001b[32m━━━━━━━━━━━━━━━━━━━━\u001b[0m\u001b[37m\u001b[0m \u001b[1m5s\u001b[0m 97ms/step - accuracy: 0.5325 - loss: 13.3700 - val_accuracy: 0.5913 - val_loss: 12.9170\n",
            "\u001b[1m50/50\u001b[0m \u001b[32m━━━━━━━━━━━━━━━━━━━━\u001b[0m\u001b[37m\u001b[0m \u001b[1m5s\u001b[0m 97ms/step - accuracy: 0.5294 - loss: 12.7749 - val_accuracy: 0.5025 - val_loss: 12.3388\n",
            "\u001b[1m50/50\u001b[0m \u001b[32m━━━━━━━━━━━━━━━━━━━━\u001b[0m\u001b[37m\u001b[0m \u001b[1m5s\u001b[0m 97ms/step - accuracy: 0.5334 - loss: 12.1943 - val_accuracy: 0.6012 - val_loss: 11.7676\n",
            "\u001b[1m125/125\u001b[0m \u001b[32m━━━━━━━━━━━━━━━━━━━━\u001b[0m\u001b[37m\u001b[0m \u001b[1m1s\u001b[0m 11ms/step - accuracy: 0.6279 - loss: 11.7668\n"
          ]
        },
        {
          "output_type": "stream",
          "name": "stderr",
          "text": [
            "[I 2024-08-13 16:42:48,700] Trial 46 finished with value: 0.625 and parameters: {'num_layers': 4, 'filters_0': 98, 'filters_1': 46, 'filters_2': 108, 'filters_3': 53, 'kernel_size': 3, 'l1': 0.0036535039943255596, 'l2': 0.0008424044468628806, 'dense_units': 212, 'dropout_rate': 0.3140025643236368, 'learning_rate': 2.8198921822313324e-05}. Best is trial 4 with value: 0.6287500262260437.\n"
          ]
        },
        {
          "output_type": "stream",
          "name": "stdout",
          "text": [
            "Trial 47 started with hyperparameters: num_layers=5, filters=[97, 124, 109, 54, 34], kernel_size=3, l1=1.9732602444928957e-06, l2=0.0001312447570565037, dense_units=222, dropout_rate=0.3089810995504413, learning_rate=1.2333068828852327e-05\n",
            "\u001b[1m50/50\u001b[0m \u001b[32m━━━━━━━━━━━━━━━━━━━━\u001b[0m\u001b[37m\u001b[0m \u001b[1m0s\u001b[0m 114ms/step - accuracy: 0.5041 - loss: 0.7541"
          ]
        },
        {
          "output_type": "stream",
          "name": "stderr",
          "text": [
            "[I 2024-08-13 16:44:40,494] Trial 47 pruned. Trial was pruned at epoch 0.\n"
          ]
        },
        {
          "output_type": "stream",
          "name": "stdout",
          "text": [
            "Trial 48 started with hyperparameters: num_layers=3, filters=[104, 57, 91], kernel_size=3, l1=0.0036212070150548168, l2=0.000795735286931679, dense_units=207, dropout_rate=0.2741834321935408, learning_rate=4.224083472922052e-05\n",
            "\u001b[1m50/50\u001b[0m \u001b[32m━━━━━━━━━━━━━━━━━━━━\u001b[0m\u001b[37m\u001b[0m \u001b[1m20s\u001b[0m 203ms/step - accuracy: 0.5081 - loss: 12.6624 - val_accuracy: 0.4825 - val_loss: 12.0933\n",
            "\u001b[1m50/50\u001b[0m \u001b[32m━━━━━━━━━━━━━━━━━━━━\u001b[0m\u001b[37m\u001b[0m \u001b[1m5s\u001b[0m 104ms/step - accuracy: 0.4893 - loss: 11.9087 - val_accuracy: 0.4800 - val_loss: 11.3578\n",
            "\u001b[1m50/50\u001b[0m \u001b[32m━━━━━━━━━━━━━━━━━━━━\u001b[0m\u001b[37m\u001b[0m \u001b[1m5s\u001b[0m 104ms/step - accuracy: 0.5079 - loss: 11.1772 - val_accuracy: 0.5550 - val_loss: 10.6452\n",
            "\u001b[1m50/50\u001b[0m \u001b[32m━━━━━━━━━━━━━━━━━━━━\u001b[0m\u001b[37m\u001b[0m \u001b[1m5s\u001b[0m 104ms/step - accuracy: 0.5155 - loss: 10.4737 - val_accuracy: 0.5825 - val_loss: 9.9605\n",
            "\u001b[1m50/50\u001b[0m \u001b[32m━━━━━━━━━━━━━━━━━━━━\u001b[0m\u001b[37m\u001b[0m \u001b[1m5s\u001b[0m 104ms/step - accuracy: 0.5359 - loss: 9.7950 - val_accuracy: 0.5088 - val_loss: 9.3027\n",
            "\u001b[1m50/50\u001b[0m \u001b[32m━━━━━━━━━━━━━━━━━━━━\u001b[0m\u001b[37m\u001b[0m \u001b[1m5s\u001b[0m 104ms/step - accuracy: 0.5180 - loss: 9.1434 - val_accuracy: 0.4950 - val_loss: 8.6705\n",
            "\u001b[1m50/50\u001b[0m \u001b[32m━━━━━━━━━━━━━━━━━━━━\u001b[0m\u001b[37m\u001b[0m \u001b[1m5s\u001b[0m 105ms/step - accuracy: 0.5198 - loss: 8.5171 - val_accuracy: 0.5337 - val_loss: 8.0601\n",
            "\u001b[1m50/50\u001b[0m \u001b[32m━━━━━━━━━━━━━━━━━━━━\u001b[0m\u001b[37m\u001b[0m \u001b[1m5s\u001b[0m 104ms/step - accuracy: 0.5066 - loss: 7.9151 - val_accuracy: 0.4787 - val_loss: 7.4795\n",
            "\u001b[1m50/50\u001b[0m \u001b[32m━━━━━━━━━━━━━━━━━━━━\u001b[0m\u001b[37m\u001b[0m \u001b[1m5s\u001b[0m 104ms/step - accuracy: 0.5153 - loss: 7.3377 - val_accuracy: 0.5738 - val_loss: 6.9197\n",
            "\u001b[1m125/125\u001b[0m \u001b[32m━━━━━━━━━━━━━━━━━━━━\u001b[0m\u001b[37m\u001b[0m \u001b[1m1s\u001b[0m 11ms/step - accuracy: 0.5778 - loss: 6.9194\n"
          ]
        },
        {
          "output_type": "stream",
          "name": "stderr",
          "text": [
            "[I 2024-08-13 16:59:35,818] Trial 48 finished with value: 0.5805000066757202 and parameters: {'num_layers': 3, 'filters_0': 104, 'filters_1': 57, 'filters_2': 91, 'kernel_size': 3, 'l1': 0.0036212070150548168, 'l2': 0.000795735286931679, 'dense_units': 207, 'dropout_rate': 0.2741834321935408, 'learning_rate': 4.224083472922052e-05}. Best is trial 4 with value: 0.6287500262260437.\n"
          ]
        },
        {
          "output_type": "stream",
          "name": "stdout",
          "text": [
            "Trial 49 started with hyperparameters: num_layers=4, filters=[88, 85, 122, 40], kernel_size=3, l1=8.139097571408362e-06, l2=7.442998453007265e-05, dense_units=250, dropout_rate=0.20477975640930332, learning_rate=6.074789931733123e-05\n",
            "\u001b[1m50/50\u001b[0m \u001b[32m━━━━━━━━━━━━━━━━━━━━\u001b[0m\u001b[37m\u001b[0m \u001b[1m0s\u001b[0m 94ms/step - accuracy: 0.4854 - loss: 0.7657"
          ]
        },
        {
          "output_type": "stream",
          "name": "stderr",
          "text": [
            "[I 2024-08-13 17:01:21,934] Trial 49 pruned. Trial was pruned at epoch 0.\n"
          ]
        },
        {
          "output_type": "stream",
          "name": "stdout",
          "text": [
            "Best trial:\n",
            "Value: 0.6287500262260437\n",
            "Params: \n",
            "    num_layers: 4\n",
            "    filters_0: 44\n",
            "    filters_1: 83\n",
            "    filters_2: 72\n",
            "    filters_3: 64\n",
            "    kernel_size: 3\n",
            "    l1: 0.00013537781122606584\n",
            "    l2: 0.0037394012860948295\n",
            "    dense_units: 167\n",
            "    dropout_rate: 0.18690845934507774\n",
            "    learning_rate: 1.0525370626878665e-05\n",
            "Elapsed time: 21065.31 seconds\n"
          ]
        }
      ]
    },
    {
      "cell_type": "markdown",
      "source": [
        "ancient and weak selection"
      ],
      "metadata": {
        "id": "lPaqbE-1FL7Q"
      }
    },
    {
      "cell_type": "code",
      "source": [
        "#Configure logging to file in the current directory with the specified name\n",
        "logging.basicConfig(filename='Ancient_Scenarios_AW.log', level=logging.INFO,\n",
        "                    format='%(asctime)s:%(levelname)s:%(message)s')\n",
        "\n",
        "# Function to preprocess data\n",
        "def preprocess_data(simulations_folder, batch_number):\n",
        "    # Create ImaFile object for the specified simulation folder and model\n",
        "    file_sim = ImaFile(simulations_folder=os.path.join(simulations_folder, f'Simulations{batch_number}'), nr_samples=198, model_name='Marth-3epoch-CEU')\n",
        "\n",
        "    # Read the simulation data\n",
        "    gene_sim = file_sim.read_simulations(parameter_name='selection_coeff_hetero', max_nrepl=4000)\n",
        "\n",
        "    # Filter simulations based on frequency threshold\n",
        "    gene_sim.filter_freq(0.01)\n",
        "\n",
        "    # Sort simulations by row frequency\n",
        "    gene_sim.sort('rows_freq')\n",
        "\n",
        "    # Resize simulation data to the required dimensions\n",
        "    gene_sim.resize((198, 192))\n",
        "\n",
        "    # Convert simulation data (flip=True allows for data augmentation)\n",
        "    gene_sim.convert(flip=True)\n",
        "\n",
        "    # Get a random subset of indices and subset the simulation data\n",
        "    gene_sim.subset(get_index_random(gene_sim))\n",
        "\n",
        "    # Convert targets to binary format\n",
        "    gene_sim.targets = to_binary(gene_sim.targets)\n",
        "\n",
        "    return gene_sim\n",
        "\n",
        "# Objective function for Optuna optimization\n",
        "def objective(trial, simulations_folder, epochs=1):\n",
        "    # Set random seed\n",
        "    np.random.seed(42)\n",
        "    tf.random.set_seed(42)\n",
        "\n",
        "    # Hyperparameters to be optimized\n",
        "    num_layers = trial.suggest_int('num_layers', 3, 6)  # Limit the number of layers to avoid excessive reduction\n",
        "    filters = [trial.suggest_int(f'filters_{i}', 32, 128) for i in range(num_layers)]  # Adjust filters range\n",
        "    kernel_size = trial.suggest_int('kernel_size', 2, 3)  # Limit the kernel size to avoid excessive reduction\n",
        "    l1 = trial.suggest_float('l1', 1e-6, 1e-2, log=True)\n",
        "    l2 = trial.suggest_float('l2', 1e-6, 1e-2, log=True)\n",
        "    dense_units = trial.suggest_int('dense_units', 64, 256)  # Adjust dense units range\n",
        "    dropout_rate = trial.suggest_float('dropout_rate', 0.1, 0.5)\n",
        "    learning_rate = trial.suggest_float('learning_rate', 1e-5, 1e-3, log=True)\n",
        "\n",
        "    # Log the hyperparameters at the start of each trial\n",
        "    logging.info(f'Trial {trial.number} started with hyperparameters: num_layers={num_layers}, filters={filters}, '\n",
        "                 f'kernel_size={kernel_size}, l1={l1}, l2={l2}, dense_units={dense_units}, '\n",
        "                 f'dropout_rate={dropout_rate}, learning_rate={learning_rate}')\n",
        "    print(f'Trial {trial.number} started with hyperparameters: num_layers={num_layers}, filters={filters}, '\n",
        "          f'kernel_size={kernel_size}, l1={l1}, l2={l2}, dense_units={dense_units}, '\n",
        "          f'dropout_rate={dropout_rate}, learning_rate={learning_rate}')\n",
        "\n",
        "    # Building the model based on sampled hyperparameters\n",
        "    model = models.Sequential()\n",
        "    model.add(layers.Input(shape=(198, 192, 1)))  # Define the input layer\n",
        "    for i in range(num_layers):\n",
        "        model.add(layers.Conv2D(filters=filters[i], kernel_size=(kernel_size, kernel_size), strides=(1, 1), activation='relu',\n",
        "                                kernel_regularizer=regularizers.l1_l2(l1=l1, l2=l2), padding='same'))  # Use 'same' padding to avoid dimension issues\n",
        "        model.add(layers.MaxPooling2D(pool_size=(2, 2)))\n",
        "\n",
        "    model.add(layers.Flatten())  # Flatten the output for the Dense layers\n",
        "    model.add(layers.Dense(units=dense_units, activation='relu'))  # Add Dense layer\n",
        "    model.add(layers.Dropout(rate=dropout_rate))  # Add Dropout layer\n",
        "    model.add(layers.Dense(units=1, activation='sigmoid'))  # Output layer with sigmoid activation\n",
        "\n",
        "    optimizer = tf.keras.optimizers.Adam(learning_rate=learning_rate)  # Define optimizer\n",
        "    model.compile(optimizer=optimizer, loss='binary_crossentropy', metrics=['accuracy'])  # Compile the model\n",
        "\n",
        "    # Pruning callback to terminate unpromising trials\n",
        "    pruning_callback = TFKerasPruningCallback(trial, 'val_loss')\n",
        "\n",
        "    # Early stopping to prevent overfitting\n",
        "    early_stopping = EarlyStopping(monitor='val_loss', patience=3, restore_best_weights=True)\n",
        "\n",
        "    # Incremental training on 9 batches\n",
        "    best_val_loss = np.inf  # Track the best validation loss\n",
        "    for batch_number in range(1, 10):\n",
        "        gene_sim = preprocess_data(simulations_folder, batch_number)  # Preprocess data\n",
        "        history = model.fit(gene_sim.data, gene_sim.targets, batch_size=64, epochs=epochs, verbose=1, validation_split=0.2,\n",
        "                            callbacks=[early_stopping, pruning_callback])  # Train the model with callbacks\n",
        "\n",
        "        # Get the validation loss for the current epoch\n",
        "        val_loss = min(history.history['val_loss'])\n",
        "        if val_loss < best_val_loss:\n",
        "            best_val_loss = val_loss\n",
        "            trial.report(val_loss, batch_number)\n",
        "            if trial.should_prune():\n",
        "                raise optuna.exceptions.TrialPruned()\n",
        "\n",
        "    # Evaluate the model on the 10th batch\n",
        "    gene_sim = preprocess_data(simulations_folder, 10)\n",
        "    evaluation = model.evaluate(gene_sim.data, gene_sim.targets, verbose=1)\n",
        "    return evaluation[1]  # Return the accuracy\n",
        "\n",
        "# Function to run the optimization process\n",
        "def run_optimization():\n",
        "    start_time = time.time()  # Record start time\n",
        "\n",
        "    simulations_folder = '/content/EvoNet-CNN-Insight/model_training/Ancient_weak/AW'  # Folder for this dataset\n",
        "    logging.info(f\"Starting optimization for {simulations_folder}\")\n",
        "    print(f\"Starting optimization for {simulations_folder}\")\n",
        "\n",
        "    # Create an Optuna study and optimize the objective function\n",
        "    study = optuna.create_study(direction='maximize', pruner=optuna.pruners.MedianPruner(), storage='sqlite:///aw_study.db', load_if_exists=True)  # Use SQLite storage\n",
        "    study.optimize(lambda trial: objective(trial, simulations_folder), n_trials=50)  # Set to 50 trials\n",
        "\n",
        "    try:\n",
        "        trial = study.best_trial\n",
        "        print('Best trial:')\n",
        "        print('Value: {}'.format(trial.value))\n",
        "        print('Params: ')\n",
        "        for key, value in trial.params.items():\n",
        "            print('    {}: {}'.format(key, value))  # Print best trial parameters\n",
        "\n",
        "        logging.info('Best trial:')\n",
        "        logging.info('Value: {}'.format(trial.value))\n",
        "        logging.info('Params: ')\n",
        "        for key, value in trial.params.items():\n",
        "            logging.info('    {}: {}'.format(key, value))  # Log best trial parameters\n",
        "\n",
        "    except ValueError as e:\n",
        "        logging.error(f\"No completed trials: {e}\")  # Log error if no trials are completed\n",
        "\n",
        "    elapsed_time = time.time() - start_time  # Calculate elapsed time\n",
        "    print(f\"Elapsed time: {elapsed_time:.2f} seconds\")\n",
        "    logging.info(f\"Elapsed time: {elapsed_time:.2f} seconds\")  # Log elapsed time\n",
        "\n",
        "# Run the optimization process\n",
        "if __name__ == '__main__':\n",
        "    run_optimization()  # Execute the optimization function\n"
      ],
      "metadata": {
        "colab": {
          "base_uri": "https://localhost:8080/"
        },
        "id": "hazW0faQFOxV",
        "outputId": "9b8b6fa5-d295-4c27-91f0-1e36e33bcbb0"
      },
      "execution_count": null,
      "outputs": [
        {
          "metadata": {
            "tags": null
          },
          "name": "stdout",
          "output_type": "stream",
          "text": [
            "Starting optimization for /content/EvoNet-CNN-Insight/model_training/Ancient_weak/AW\n"
          ]
        },
        {
          "metadata": {
            "tags": null
          },
          "name": "stderr",
          "output_type": "stream",
          "text": [
            "[I 2024-08-14 08:55:52,119] A new study created in RDB with name: no-name-224fb6af-34df-4042-ad31-4c6510227cdb\n"
          ]
        },
        {
          "metadata": {
            "tags": null
          },
          "name": "stdout",
          "output_type": "stream",
          "text": [
            "Trial 0 started with hyperparameters: num_layers=3, filters=[124, 62, 50], kernel_size=2, l1=0.005142999155128057, l2=0.0003479960392214099, dense_units=138, dropout_rate=0.3836690939826398, learning_rate=2.266424435926498e-05\n",
            "\u001b[1m50/50\u001b[0m \u001b[32m━━━━━━━━━━━━━━━━━━━━\u001b[0m\u001b[37m\u001b[0m \u001b[1m19s\u001b[0m 174ms/step - accuracy: 0.5249 - loss: 11.6111 - val_accuracy: 0.4837 - val_loss: 11.4201\n",
            "\u001b[1m50/50\u001b[0m \u001b[32m━━━━━━━━━━━━━━━━━━━━\u001b[0m\u001b[37m\u001b[0m \u001b[1m5s\u001b[0m 104ms/step - accuracy: 0.5515 - loss: 11.3526 - val_accuracy: 0.6675 - val_loss: 11.1614\n"
          ]
        },
        {
          "metadata": {
            "tags": null
          },
          "name": "stderr",
          "output_type": "stream",
          "text": [
            "/usr/local/lib/python3.10/dist-packages/optuna/trial/_trial.py:493: UserWarning: The reported value is ignored because this `step` 0 is already reported.\n",
            "  warnings.warn(\n"
          ]
        },
        {
          "metadata": {
            "tags": null
          },
          "name": "stdout",
          "output_type": "stream",
          "text": [
            "\u001b[1m50/50\u001b[0m \u001b[32m━━━━━━━━━━━━━━━━━━━━\u001b[0m\u001b[37m\u001b[0m \u001b[1m5s\u001b[0m 105ms/step - accuracy: 0.6028 - loss: 11.0977 - val_accuracy: 0.5163 - val_loss: 10.9154\n",
            "\u001b[1m50/50\u001b[0m \u001b[32m━━━━━━━━━━━━━━━━━━━━\u001b[0m\u001b[37m\u001b[0m \u001b[1m5s\u001b[0m 104ms/step - accuracy: 0.5997 - loss: 10.8572 - val_accuracy: 0.6525 - val_loss: 10.6800\n",
            "\u001b[1m50/50\u001b[0m \u001b[32m━━━━━━━━━━━━━━━━━━━━\u001b[0m\u001b[37m\u001b[0m \u001b[1m5s\u001b[0m 104ms/step - accuracy: 0.6613 - loss: 10.6126 - val_accuracy: 0.7325 - val_loss: 10.4296\n",
            "\u001b[1m50/50\u001b[0m \u001b[32m━━━━━━━━━━━━━━━━━━━━\u001b[0m\u001b[37m\u001b[0m \u001b[1m5s\u001b[0m 104ms/step - accuracy: 0.6921 - loss: 10.3853 - val_accuracy: 0.6313 - val_loss: 10.2179\n",
            "\u001b[1m50/50\u001b[0m \u001b[32m━━━━━━━━━━━━━━━━━━━━\u001b[0m\u001b[37m\u001b[0m \u001b[1m5s\u001b[0m 104ms/step - accuracy: 0.6333 - loss: 10.1750 - val_accuracy: 0.6438 - val_loss: 10.0483\n",
            "\u001b[1m50/50\u001b[0m \u001b[32m━━━━━━━━━━━━━━━━━━━━\u001b[0m\u001b[37m\u001b[0m \u001b[1m5s\u001b[0m 104ms/step - accuracy: 0.6742 - loss: 9.9645 - val_accuracy: 0.6888 - val_loss: 9.8127\n",
            "\u001b[1m50/50\u001b[0m \u001b[32m━━━━━━━━━━━━━━━━━━━━\u001b[0m\u001b[37m\u001b[0m \u001b[1m5s\u001b[0m 104ms/step - accuracy: 0.6859 - loss: 9.7593 - val_accuracy: 0.6600 - val_loss: 9.6163\n",
            "\u001b[1m125/125\u001b[0m \u001b[32m━━━━━━━━━━━━━━━━━━━━\u001b[0m\u001b[37m\u001b[0m \u001b[1m1s\u001b[0m 11ms/step - accuracy: 0.6324 - loss: 9.6236\n"
          ]
        },
        {
          "metadata": {
            "tags": null
          },
          "name": "stderr",
          "output_type": "stream",
          "text": [
            "[I 2024-08-14 09:10:35,126] Trial 0 finished with value: 0.6480000019073486 and parameters: {'num_layers': 3, 'filters_0': 124, 'filters_1': 62, 'filters_2': 50, 'kernel_size': 2, 'l1': 0.005142999155128057, 'l2': 0.0003479960392214099, 'dense_units': 138, 'dropout_rate': 0.3836690939826398, 'learning_rate': 2.266424435926498e-05}. Best is trial 0 with value: 0.6480000019073486.\n"
          ]
        },
        {
          "metadata": {
            "tags": null
          },
          "name": "stdout",
          "output_type": "stream",
          "text": [
            "Trial 1 started with hyperparameters: num_layers=6, filters=[77, 68, 56, 55, 39, 44], kernel_size=2, l1=4.30237278634917e-06, l2=1.268976380131339e-05, dense_units=220, dropout_rate=0.2127140706800128, learning_rate=0.0001711701618314229\n",
            "\u001b[1m50/50\u001b[0m \u001b[32m━━━━━━━━━━━━━━━━━━━━\u001b[0m\u001b[37m\u001b[0m \u001b[1m17s\u001b[0m 163ms/step - accuracy: 0.4983 - loss: 0.7107 - val_accuracy: 0.5650 - val_loss: 0.7016\n",
            "\u001b[1m50/50\u001b[0m \u001b[32m━━━━━━━━━━━━━━━━━━━━\u001b[0m\u001b[37m\u001b[0m \u001b[1m4s\u001b[0m 82ms/step - accuracy: 0.6522 - loss: 0.6824 - val_accuracy: 0.7113 - val_loss: 0.5903\n",
            "\u001b[1m50/50\u001b[0m \u001b[32m━━━━━━━━━━━━━━━━━━━━\u001b[0m\u001b[37m\u001b[0m \u001b[1m4s\u001b[0m 82ms/step - accuracy: 0.6997 - loss: 0.5725 - val_accuracy: 0.7275 - val_loss: 0.5091\n",
            "\u001b[1m50/50\u001b[0m \u001b[32m━━━━━━━━━━━━━━━━━━━━\u001b[0m\u001b[37m\u001b[0m \u001b[1m4s\u001b[0m 82ms/step - accuracy: 0.7377 - loss: 0.5418 - val_accuracy: 0.6750 - val_loss: 0.6559\n",
            "\u001b[1m50/50\u001b[0m \u001b[32m━━━━━━━━━━━━━━━━━━━━\u001b[0m\u001b[37m\u001b[0m \u001b[1m4s\u001b[0m 83ms/step - accuracy: 0.7331 - loss: 0.5537 - val_accuracy: 0.7825 - val_loss: 0.4779\n",
            "\u001b[1m50/50\u001b[0m \u001b[32m━━━━━━━━━━━━━━━━━━━━\u001b[0m\u001b[37m\u001b[0m \u001b[1m4s\u001b[0m 82ms/step - accuracy: 0.7787 - loss: 0.4834 - val_accuracy: 0.7812 - val_loss: 0.4672\n",
            "\u001b[1m50/50\u001b[0m \u001b[32m━━━━━━━━━━━━━━━━━━━━\u001b[0m\u001b[37m\u001b[0m \u001b[1m4s\u001b[0m 82ms/step - accuracy: 0.7709 - loss: 0.4882 - val_accuracy: 0.7450 - val_loss: 0.5085\n",
            "\u001b[1m50/50\u001b[0m \u001b[32m━━━━━━━━━━━━━━━━━━━━\u001b[0m\u001b[37m\u001b[0m \u001b[1m4s\u001b[0m 82ms/step - accuracy: 0.7679 - loss: 0.5001 - val_accuracy: 0.7575 - val_loss: 0.4923\n",
            "\u001b[1m50/50\u001b[0m \u001b[32m━━━━━━━━━━━━━━━━━━━━\u001b[0m\u001b[37m\u001b[0m \u001b[1m4s\u001b[0m 82ms/step - accuracy: 0.7566 - loss: 0.5032 - val_accuracy: 0.7800 - val_loss: 0.4752\n",
            "\u001b[1m125/125\u001b[0m \u001b[32m━━━━━━━━━━━━━━━━━━━━\u001b[0m\u001b[37m\u001b[0m \u001b[1m1s\u001b[0m 9ms/step - accuracy: 0.7612 - loss: 0.4885\n"
          ]
        },
        {
          "metadata": {
            "tags": null
          },
          "name": "stderr",
          "output_type": "stream",
          "text": [
            "[I 2024-08-14 09:25:04,871] Trial 1 finished with value: 0.765749990940094 and parameters: {'num_layers': 6, 'filters_0': 77, 'filters_1': 68, 'filters_2': 56, 'filters_3': 55, 'filters_4': 39, 'filters_5': 44, 'kernel_size': 2, 'l1': 4.30237278634917e-06, 'l2': 1.268976380131339e-05, 'dense_units': 220, 'dropout_rate': 0.2127140706800128, 'learning_rate': 0.0001711701618314229}. Best is trial 1 with value: 0.765749990940094.\n"
          ]
        },
        {
          "metadata": {
            "tags": null
          },
          "name": "stdout",
          "output_type": "stream",
          "text": [
            "Trial 2 started with hyperparameters: num_layers=5, filters=[93, 98, 63, 41, 80], kernel_size=3, l1=0.000342559345578496, l2=1.3747890036200283e-06, dense_units=240, dropout_rate=0.4855800635500228, learning_rate=1.8967944526607667e-05\n",
            "\u001b[1m50/50\u001b[0m \u001b[32m━━━━━━━━━━━━━━━━━━━━\u001b[0m\u001b[37m\u001b[0m \u001b[1m24s\u001b[0m 224ms/step - accuracy: 0.4884 - loss: 2.8366 - val_accuracy: 0.4875 - val_loss: 2.7958\n",
            "\u001b[1m50/50\u001b[0m \u001b[32m━━━━━━━━━━━━━━━━━━━━\u001b[0m\u001b[37m\u001b[0m \u001b[1m5s\u001b[0m 108ms/step - accuracy: 0.5190 - loss: 2.7823 - val_accuracy: 0.5913 - val_loss: 2.7445\n",
            "\u001b[1m50/50\u001b[0m \u001b[32m━━━━━━━━━━━━━━━━━━━━\u001b[0m\u001b[37m\u001b[0m \u001b[1m5s\u001b[0m 109ms/step - accuracy: 0.5437 - loss: 2.7315 - val_accuracy: 0.6737 - val_loss: 2.6914\n",
            "\u001b[1m50/50\u001b[0m \u001b[32m━━━━━━━━━━━━━━━━━━━━\u001b[0m\u001b[37m\u001b[0m \u001b[1m5s\u001b[0m 108ms/step - accuracy: 0.6096 - loss: 2.6777 - val_accuracy: 0.6438 - val_loss: 2.6355\n",
            "\u001b[1m50/50\u001b[0m \u001b[32m━━━━━━━━━━━━━━━━━━━━\u001b[0m\u001b[37m\u001b[0m \u001b[1m5s\u001b[0m 108ms/step - accuracy: 0.6625 - loss: 2.6159 - val_accuracy: 0.7412 - val_loss: 2.5562\n",
            "\u001b[1m50/50\u001b[0m \u001b[32m━━━━━━━━━━━━━━━━━━━━\u001b[0m\u001b[37m\u001b[0m \u001b[1m5s\u001b[0m 108ms/step - accuracy: 0.7143 - loss: 2.5427 - val_accuracy: 0.5987 - val_loss: 2.4958\n",
            "\u001b[1m50/50\u001b[0m \u001b[32m━━━━━━━━━━━━━━━━━━━━\u001b[0m\u001b[37m\u001b[0m \u001b[1m5s\u001b[0m 108ms/step - accuracy: 0.6711 - loss: 2.4782 - val_accuracy: 0.6988 - val_loss: 2.4411\n",
            "\u001b[1m50/50\u001b[0m \u001b[32m━━━━━━━━━━━━━━━━━━━━\u001b[0m\u001b[37m\u001b[0m \u001b[1m5s\u001b[0m 108ms/step - accuracy: 0.7141 - loss: 2.4106 - val_accuracy: 0.7063 - val_loss: 2.3753\n",
            "\u001b[1m50/50\u001b[0m \u001b[32m━━━━━━━━━━━━━━━━━━━━\u001b[0m\u001b[37m\u001b[0m \u001b[1m5s\u001b[0m 108ms/step - accuracy: 0.7083 - loss: 2.3669 - val_accuracy: 0.7325 - val_loss: 2.3244\n",
            "\u001b[1m125/125\u001b[0m \u001b[32m━━━━━━━━━━━━━━━━━━━━\u001b[0m\u001b[37m\u001b[0m \u001b[1m2s\u001b[0m 12ms/step - accuracy: 0.7267 - loss: 2.3358\n"
          ]
        },
        {
          "metadata": {
            "tags": null
          },
          "name": "stderr",
          "output_type": "stream",
          "text": [
            "[I 2024-08-14 09:39:48,546] Trial 2 finished with value: 0.7365000247955322 and parameters: {'num_layers': 5, 'filters_0': 93, 'filters_1': 98, 'filters_2': 63, 'filters_3': 41, 'filters_4': 80, 'kernel_size': 3, 'l1': 0.000342559345578496, 'l2': 1.3747890036200283e-06, 'dense_units': 240, 'dropout_rate': 0.4855800635500228, 'learning_rate': 1.8967944526607667e-05}. Best is trial 1 with value: 0.765749990940094.\n"
          ]
        },
        {
          "metadata": {
            "tags": null
          },
          "name": "stdout",
          "output_type": "stream",
          "text": [
            "Trial 3 started with hyperparameters: num_layers=5, filters=[38, 104, 60, 86, 63], kernel_size=2, l1=5.178471083573243e-06, l2=0.0001446019670236893, dense_units=187, dropout_rate=0.17884975602613437, learning_rate=0.00015172597960847004\n",
            "\u001b[1m50/50\u001b[0m \u001b[32m━━━━━━━━━━━━━━━━━━━━\u001b[0m\u001b[37m\u001b[0m \u001b[1m14s\u001b[0m 126ms/step - accuracy: 0.4943 - loss: 0.7526 - val_accuracy: 0.6687 - val_loss: 0.7308\n",
            "\u001b[1m50/50\u001b[0m \u001b[32m━━━━━━━━━━━━━━━━━━━━\u001b[0m\u001b[37m\u001b[0m \u001b[1m3s\u001b[0m 60ms/step - accuracy: 0.6521 - loss: 0.7066 - val_accuracy: 0.6963 - val_loss: 0.6259\n",
            "\u001b[1m50/50\u001b[0m \u001b[32m━━━━━━━━━━━━━━━━━━━━\u001b[0m\u001b[37m\u001b[0m \u001b[1m3s\u001b[0m 60ms/step - accuracy: 0.6996 - loss: 0.6144 - val_accuracy: 0.7275 - val_loss: 0.5617\n",
            "\u001b[1m50/50\u001b[0m \u001b[32m━━━━━━━━━━━━━━━━━━━━\u001b[0m\u001b[37m\u001b[0m \u001b[1m3s\u001b[0m 60ms/step - accuracy: 0.7237 - loss: 0.5781 - val_accuracy: 0.6800 - val_loss: 0.6442\n",
            "\u001b[1m50/50\u001b[0m \u001b[32m━━━━━━━━━━━━━━━━━━━━\u001b[0m\u001b[37m\u001b[0m \u001b[1m3s\u001b[0m 60ms/step - accuracy: 0.7134 - loss: 0.5846 - val_accuracy: 0.7688 - val_loss: 0.5160\n",
            "\u001b[1m50/50\u001b[0m \u001b[32m━━━━━━━━━━━━━━━━━━━━\u001b[0m\u001b[37m\u001b[0m \u001b[1m3s\u001b[0m 60ms/step - accuracy: 0.7722 - loss: 0.5202 - val_accuracy: 0.7912 - val_loss: 0.4894\n",
            "\u001b[1m50/50\u001b[0m \u001b[32m━━━━━━━━━━━━━━━━━━━━\u001b[0m\u001b[37m\u001b[0m \u001b[1m3s\u001b[0m 60ms/step - accuracy: 0.7725 - loss: 0.5209 - val_accuracy: 0.7650 - val_loss: 0.5179\n",
            "\u001b[1m50/50\u001b[0m \u001b[32m━━━━━━━━━━━━━━━━━━━━\u001b[0m\u001b[37m\u001b[0m \u001b[1m3s\u001b[0m 60ms/step - accuracy: 0.7575 - loss: 0.5311 - val_accuracy: 0.7588 - val_loss: 0.5177\n",
            "\u001b[1m50/50\u001b[0m \u001b[32m━━━━━━━━━━━━━━━━━━━━\u001b[0m\u001b[37m\u001b[0m \u001b[1m3s\u001b[0m 60ms/step - accuracy: 0.7582 - loss: 0.5247 - val_accuracy: 0.7900 - val_loss: 0.4937\n",
            "\u001b[1m125/125\u001b[0m \u001b[32m━━━━━━━━━━━━━━━━━━━━\u001b[0m\u001b[37m\u001b[0m \u001b[1m1s\u001b[0m 7ms/step - accuracy: 0.7685 - loss: 0.5128\n"
          ]
        },
        {
          "metadata": {
            "tags": null
          },
          "name": "stderr",
          "output_type": "stream",
          "text": [
            "[I 2024-08-14 09:54:04,825] Trial 3 finished with value: 0.7682499885559082 and parameters: {'num_layers': 5, 'filters_0': 38, 'filters_1': 104, 'filters_2': 60, 'filters_3': 86, 'filters_4': 63, 'kernel_size': 2, 'l1': 5.178471083573243e-06, 'l2': 0.0001446019670236893, 'dense_units': 187, 'dropout_rate': 0.17884975602613437, 'learning_rate': 0.00015172597960847004}. Best is trial 3 with value: 0.7682499885559082.\n"
          ]
        },
        {
          "metadata": {
            "tags": null
          },
          "name": "stdout",
          "output_type": "stream",
          "text": [
            "Trial 4 started with hyperparameters: num_layers=3, filters=[107, 59, 46], kernel_size=2, l1=0.00016304339205731714, l2=0.002456946341830996, dense_units=168, dropout_rate=0.2661072941042272, learning_rate=8.291682986720239e-05\n",
            "\u001b[1m50/50\u001b[0m \u001b[32m━━━━━━━━━━━━━━━━━━━━\u001b[0m\u001b[37m\u001b[0m \u001b[1m15s\u001b[0m 155ms/step - accuracy: 0.5261 - loss: 1.3101 - val_accuracy: 0.6712 - val_loss: 1.2508\n",
            "\u001b[1m50/50\u001b[0m \u001b[32m━━━━━━━━━━━━━━━━━━━━\u001b[0m\u001b[37m\u001b[0m \u001b[1m5s\u001b[0m 92ms/step - accuracy: 0.6584 - loss: 1.2247 - val_accuracy: 0.7113 - val_loss: 1.1419\n",
            "\u001b[1m50/50\u001b[0m \u001b[32m━━━━━━━━━━━━━━━━━━━━\u001b[0m\u001b[37m\u001b[0m \u001b[1m5s\u001b[0m 92ms/step - accuracy: 0.6717 - loss: 1.1347 - val_accuracy: 0.7613 - val_loss: 1.0553\n",
            "\u001b[1m50/50\u001b[0m \u001b[32m━━━━━━━━━━━━━━━━━━━━\u001b[0m\u001b[37m\u001b[0m \u001b[1m5s\u001b[0m 92ms/step - accuracy: 0.7267 - loss: 1.0718 - val_accuracy: 0.7138 - val_loss: 1.0499\n",
            "\u001b[1m50/50\u001b[0m \u001b[32m━━━━━━━━━━━━━━━━━━━━\u001b[0m\u001b[37m\u001b[0m \u001b[1m5s\u001b[0m 93ms/step - accuracy: 0.7319 - loss: 1.0301 - val_accuracy: 0.7788 - val_loss: 0.9852\n",
            "\u001b[1m50/50\u001b[0m \u001b[32m━━━━━━━━━━━━━━━━━━━━\u001b[0m\u001b[37m\u001b[0m \u001b[1m5s\u001b[0m 92ms/step - accuracy: 0.7586 - loss: 0.9925 - val_accuracy: 0.6137 - val_loss: 1.0456\n",
            "\u001b[1m50/50\u001b[0m \u001b[32m━━━━━━━━━━━━━━━━━━━━\u001b[0m\u001b[37m\u001b[0m \u001b[1m5s\u001b[0m 93ms/step - accuracy: 0.7332 - loss: 0.9815 - val_accuracy: 0.7063 - val_loss: 1.0516\n",
            "\u001b[1m50/50\u001b[0m \u001b[32m━━━━━━━━━━━━━━━━━━━━\u001b[0m\u001b[37m\u001b[0m \u001b[1m5s\u001b[0m 92ms/step - accuracy: 0.7530 - loss: 0.9586 - val_accuracy: 0.7412 - val_loss: 0.9424\n",
            "\u001b[1m50/50\u001b[0m \u001b[32m━━━━━━━━━━━━━━━━━━━━\u001b[0m\u001b[37m\u001b[0m \u001b[1m5s\u001b[0m 93ms/step - accuracy: 0.7452 - loss: 0.9450 - val_accuracy: 0.7788 - val_loss: 0.9059\n",
            "\u001b[1m125/125\u001b[0m \u001b[32m━━━━━━━━━━━━━━━━━━━━\u001b[0m\u001b[37m\u001b[0m \u001b[1m1s\u001b[0m 10ms/step - accuracy: 0.7531 - loss: 0.9197\n"
          ]
        },
        {
          "metadata": {
            "tags": null
          },
          "name": "stderr",
          "output_type": "stream",
          "text": [
            "[I 2024-08-14 10:08:34,196] Trial 4 finished with value: 0.762499988079071 and parameters: {'num_layers': 3, 'filters_0': 107, 'filters_1': 59, 'filters_2': 46, 'kernel_size': 2, 'l1': 0.00016304339205731714, 'l2': 0.002456946341830996, 'dense_units': 168, 'dropout_rate': 0.2661072941042272, 'learning_rate': 8.291682986720239e-05}. Best is trial 3 with value: 0.7682499885559082.\n"
          ]
        },
        {
          "metadata": {
            "tags": null
          },
          "name": "stdout",
          "output_type": "stream",
          "text": [
            "Trial 5 started with hyperparameters: num_layers=3, filters=[37, 70, 60], kernel_size=2, l1=5.286985399015341e-06, l2=6.3477654047018395e-06, dense_units=241, dropout_rate=0.45200124248709594, learning_rate=0.0003702096473106869\n",
            "\u001b[1m49/50\u001b[0m \u001b[32m━━━━━━━━━━━━━━━━━━━\u001b[0m\u001b[37m━\u001b[0m \u001b[1m0s\u001b[0m 46ms/step - accuracy: 0.5363 - loss: 0.7089"
          ]
        },
        {
          "metadata": {
            "tags": null
          },
          "name": "stderr",
          "output_type": "stream",
          "text": [
            "[I 2024-08-14 10:10:07,306] Trial 5 pruned. Trial was pruned at epoch 0.\n"
          ]
        },
        {
          "metadata": {
            "tags": null
          },
          "name": "stdout",
          "output_type": "stream",
          "text": [
            "Trial 6 started with hyperparameters: num_layers=6, filters=[96, 80, 119, 84, 37, 120], kernel_size=2, l1=3.541085812826177e-05, l2=0.0004343218330268527, dense_units=200, dropout_rate=0.41225952168494817, learning_rate=0.00010509546165761224\n",
            "\u001b[1m50/50\u001b[0m \u001b[32m━━━━━━━━━━━━━━━━━━━━\u001b[0m\u001b[37m\u001b[0m \u001b[1m0s\u001b[0m 90ms/step - accuracy: 0.5011 - loss: 1.0789"
          ]
        },
        {
          "metadata": {
            "tags": null
          },
          "name": "stderr",
          "output_type": "stream",
          "text": [
            "[I 2024-08-14 10:11:49,021] Trial 6 pruned. Trial was pruned at epoch 0.\n"
          ]
        },
        {
          "metadata": {
            "tags": null
          },
          "name": "stdout",
          "output_type": "stream",
          "text": [
            "Trial 7 started with hyperparameters: num_layers=5, filters=[123, 121, 43, 126, 49], kernel_size=3, l1=4.80860309918227e-05, l2=1.1396394937776129e-05, dense_units=175, dropout_rate=0.442548052954276, learning_rate=0.0009021138557880961\n",
            "\u001b[1m50/50\u001b[0m \u001b[32m━━━━━━━━━━━━━━━━━━━━\u001b[0m\u001b[37m\u001b[0m \u001b[1m0s\u001b[0m 123ms/step - accuracy: 0.5124 - loss: 1.0235"
          ]
        },
        {
          "metadata": {
            "tags": null
          },
          "name": "stderr",
          "output_type": "stream",
          "text": [
            "[I 2024-08-14 10:13:38,497] Trial 7 pruned. Trial was pruned at epoch 0.\n"
          ]
        },
        {
          "metadata": {
            "tags": null
          },
          "name": "stdout",
          "output_type": "stream",
          "text": [
            "Trial 8 started with hyperparameters: num_layers=5, filters=[111, 93, 48, 65, 54], kernel_size=2, l1=2.2309277346060187e-06, l2=1.1345166617236002e-06, dense_units=213, dropout_rate=0.21539051094574033, learning_rate=7.366768362296118e-05\n",
            "\u001b[1m50/50\u001b[0m \u001b[32m━━━━━━━━━━━━━━━━━━━━\u001b[0m\u001b[37m\u001b[0m \u001b[1m0s\u001b[0m 96ms/step - accuracy: 0.5107 - loss: 0.7027"
          ]
        },
        {
          "metadata": {
            "tags": null
          },
          "name": "stderr",
          "output_type": "stream",
          "text": [
            "[I 2024-08-14 10:15:20,503] Trial 8 pruned. Trial was pruned at epoch 0.\n"
          ]
        },
        {
          "metadata": {
            "tags": null
          },
          "name": "stdout",
          "output_type": "stream",
          "text": [
            "Trial 9 started with hyperparameters: num_layers=4, filters=[53, 74, 54, 90], kernel_size=3, l1=1.0241385232363069e-06, l2=0.0033794571059360843, dense_units=131, dropout_rate=0.3907246314872198, learning_rate=3.4900227369735664e-05\n",
            "\u001b[1m50/50\u001b[0m \u001b[32m━━━━━━━━━━━━━━━━━━━━\u001b[0m\u001b[37m\u001b[0m \u001b[1m16s\u001b[0m 146ms/step - accuracy: 0.5147 - loss: 1.3379 - val_accuracy: 0.5088 - val_loss: 1.3065\n",
            "\u001b[1m50/50\u001b[0m \u001b[32m━━━━━━━━━━━━━━━━━━━━\u001b[0m\u001b[37m\u001b[0m \u001b[1m4s\u001b[0m 71ms/step - accuracy: 0.6104 - loss: 1.2854 - val_accuracy: 0.7088 - val_loss: 1.2269\n",
            "\u001b[1m50/50\u001b[0m \u001b[32m━━━━━━━━━━━━━━━━━━━━\u001b[0m\u001b[37m\u001b[0m \u001b[1m4s\u001b[0m 71ms/step - accuracy: 0.6912 - loss: 1.2049 - val_accuracy: 0.7437 - val_loss: 1.1292\n",
            "\u001b[1m50/50\u001b[0m \u001b[32m━━━━━━━━━━━━━━━━━━━━\u001b[0m\u001b[37m\u001b[0m \u001b[1m4s\u001b[0m 71ms/step - accuracy: 0.7108 - loss: 1.1316 - val_accuracy: 0.7063 - val_loss: 1.1056\n"
          ]
        },
        {
          "metadata": {
            "tags": null
          },
          "name": "stderr",
          "output_type": "stream",
          "text": [
            "[I 2024-08-14 10:21:12,923] Trial 9 pruned. \n"
          ]
        },
        {
          "metadata": {
            "tags": null
          },
          "name": "stdout",
          "output_type": "stream",
          "text": [
            "Trial 10 started with hyperparameters: num_layers=4, filters=[66, 37, 88, 112], kernel_size=3, l1=1.3862825479347882e-05, l2=8.6509286238654e-05, dense_units=91, dropout_rate=0.10534518814995454, learning_rate=0.0003133555910645418\n",
            "\u001b[1m50/50\u001b[0m \u001b[32m━━━━━━━━━━━━━━━━━━━━\u001b[0m\u001b[37m\u001b[0m \u001b[1m0s\u001b[0m 63ms/step - accuracy: 0.4971 - loss: 0.7762"
          ]
        },
        {
          "metadata": {
            "tags": null
          },
          "name": "stderr",
          "output_type": "stream",
          "text": [
            "[I 2024-08-14 10:22:50,880] Trial 10 pruned. Trial was pruned at epoch 0.\n"
          ]
        },
        {
          "metadata": {
            "tags": null
          },
          "name": "stdout",
          "output_type": "stream",
          "text": [
            "Trial 11 started with hyperparameters: num_layers=6, filters=[32, 117, 82, 52, 125, 33], kernel_size=2, l1=7.288858989149023e-06, l2=4.271315496985442e-05, dense_units=201, dropout_rate=0.15734975621540395, learning_rate=0.000193918193303762\n",
            "\u001b[1m50/50\u001b[0m \u001b[32m━━━━━━━━━━━━━━━━━━━━\u001b[0m\u001b[37m\u001b[0m \u001b[1m0s\u001b[0m 53ms/step - accuracy: 0.5086 - loss: 0.7432"
          ]
        },
        {
          "metadata": {
            "tags": null
          },
          "name": "stderr",
          "output_type": "stream",
          "text": [
            "[I 2024-08-14 10:24:27,313] Trial 11 pruned. Trial was pruned at epoch 0.\n"
          ]
        },
        {
          "metadata": {
            "tags": null
          },
          "name": "stdout",
          "output_type": "stream",
          "text": [
            "Trial 12 started with hyperparameters: num_layers=6, filters=[73, 101, 75, 68, 73, 41], kernel_size=2, l1=1.7260034832937686e-05, l2=2.1526267974602334e-05, dense_units=221, dropout_rate=0.21981324057590357, learning_rate=0.00016445482613043275\n",
            "\u001b[1m50/50\u001b[0m \u001b[32m━━━━━━━━━━━━━━━━━━━━\u001b[0m\u001b[37m\u001b[0m \u001b[1m0s\u001b[0m 79ms/step - accuracy: 0.5045 - loss: 0.7944"
          ]
        },
        {
          "metadata": {
            "tags": null
          },
          "name": "stderr",
          "output_type": "stream",
          "text": [
            "[I 2024-08-14 10:26:07,940] Trial 12 pruned. Trial was pruned at epoch 0.\n"
          ]
        },
        {
          "metadata": {
            "tags": null
          },
          "name": "stdout",
          "output_type": "stream",
          "text": [
            "Trial 13 started with hyperparameters: num_layers=6, filters=[52, 42, 34, 32, 60, 74], kernel_size=2, l1=0.0008222348990027736, l2=0.0003200575728669564, dense_units=254, dropout_rate=0.3264675155999132, learning_rate=0.0005121018397170809\n",
            "\u001b[1m50/50\u001b[0m \u001b[32m━━━━━━━━━━━━━━━━━━━━\u001b[0m\u001b[37m\u001b[0m \u001b[1m13s\u001b[0m 118ms/step - accuracy: 0.5082 - loss: 2.7949 - val_accuracy: 0.5175 - val_loss: 2.1880\n",
            "\u001b[1m50/50\u001b[0m \u001b[32m━━━━━━━━━━━━━━━━━━━━\u001b[0m\u001b[37m\u001b[0m \u001b[1m3s\u001b[0m 54ms/step - accuracy: 0.5388 - loss: 2.0153 - val_accuracy: 0.6425 - val_loss: 1.5493\n",
            "\u001b[1m50/50\u001b[0m \u001b[32m━━━━━━━━━━━━━━━━━━━━\u001b[0m\u001b[37m\u001b[0m \u001b[1m3s\u001b[0m 54ms/step - accuracy: 0.5300 - loss: 1.4247 - val_accuracy: 0.5275 - val_loss: 1.1014\n",
            "\u001b[1m50/50\u001b[0m \u001b[32m━━━━━━━━━━━━━━━━━━━━\u001b[0m\u001b[37m\u001b[0m \u001b[1m3s\u001b[0m 53ms/step - accuracy: 0.5047 - loss: 1.0238 - val_accuracy: 0.4938 - val_loss: 0.8383\n"
          ]
        },
        {
          "metadata": {
            "tags": null
          },
          "name": "stderr",
          "output_type": "stream",
          "text": [
            "[I 2024-08-14 10:31:55,012] Trial 13 pruned. \n"
          ]
        },
        {
          "metadata": {
            "tags": null
          },
          "name": "stdout",
          "output_type": "stream",
          "text": [
            "Trial 14 started with hyperparameters: num_layers=5, filters=[55, 108, 94, 97, 33], kernel_size=2, l1=2.5475514280391147e-06, l2=4.516739302258313e-06, dense_units=189, dropout_rate=0.18331286197233837, learning_rate=4.885960938895335e-05\n",
            "\u001b[1m50/50\u001b[0m \u001b[32m━━━━━━━━━━━━━━━━━━━━\u001b[0m\u001b[37m\u001b[0m \u001b[1m0s\u001b[0m 66ms/step - accuracy: 0.5136 - loss: 0.7075"
          ]
        },
        {
          "metadata": {
            "tags": null
          },
          "name": "stderr",
          "output_type": "stream",
          "text": [
            "[I 2024-08-14 10:33:32,787] Trial 14 pruned. Trial was pruned at epoch 0.\n"
          ]
        },
        {
          "metadata": {
            "tags": null
          },
          "name": "stdout",
          "output_type": "stream",
          "text": [
            "Trial 15 started with hyperparameters: num_layers=4, filters=[85, 86, 70, 69], kernel_size=2, l1=1.0326776831339563e-06, l2=0.00011928323715995338, dense_units=150, dropout_rate=0.28879807095115284, learning_rate=1.0037783342241825e-05\n",
            "\u001b[1m50/50\u001b[0m \u001b[32m━━━━━━━━━━━━━━━━━━━━\u001b[0m\u001b[37m\u001b[0m \u001b[1m0s\u001b[0m 83ms/step - accuracy: 0.5176 - loss: 0.7228"
          ]
        },
        {
          "metadata": {
            "tags": null
          },
          "name": "stderr",
          "output_type": "stream",
          "text": [
            "[I 2024-08-14 10:35:11,203] Trial 15 pruned. Trial was pruned at epoch 0.\n"
          ]
        },
        {
          "metadata": {
            "tags": null
          },
          "name": "stdout",
          "output_type": "stream",
          "text": [
            "Trial 16 started with hyperparameters: num_layers=6, filters=[66, 128, 100, 54, 104, 66], kernel_size=2, l1=8.05359762058521e-05, l2=0.0010211275905795748, dense_units=94, dropout_rate=0.10489543732747308, learning_rate=0.00016388048212197208\n",
            "\u001b[1m50/50\u001b[0m \u001b[32m━━━━━━━━━━━━━━━━━━━━\u001b[0m\u001b[37m\u001b[0m \u001b[1m18s\u001b[0m 176ms/step - accuracy: 0.5002 - loss: 1.6458 - val_accuracy: 0.5050 - val_loss: 1.5204\n",
            "\u001b[1m50/50\u001b[0m \u001b[32m━━━━━━━━━━━━━━━━━━━━\u001b[0m\u001b[37m\u001b[0m \u001b[1m4s\u001b[0m 90ms/step - accuracy: 0.6223 - loss: 1.4726 - val_accuracy: 0.7212 - val_loss: 1.2978\n",
            "\u001b[1m50/50\u001b[0m \u001b[32m━━━━━━━━━━━━━━━━━━━━\u001b[0m\u001b[37m\u001b[0m \u001b[1m5s\u001b[0m 90ms/step - accuracy: 0.6981 - loss: 1.2517 - val_accuracy: 0.7638 - val_loss: 1.1199\n",
            "\u001b[1m50/50\u001b[0m \u001b[32m━━━━━━━━━━━━━━━━━━━━\u001b[0m\u001b[37m\u001b[0m \u001b[1m4s\u001b[0m 90ms/step - accuracy: 0.7454 - loss: 1.1384 - val_accuracy: 0.7163 - val_loss: 1.1295\n",
            "\u001b[1m50/50\u001b[0m \u001b[32m━━━━━━━━━━━━━━━━━━━━\u001b[0m\u001b[37m\u001b[0m \u001b[1m5s\u001b[0m 90ms/step - accuracy: 0.7420 - loss: 1.0681 - val_accuracy: 0.7788 - val_loss: 1.0007\n",
            "\u001b[1m50/50\u001b[0m \u001b[32m━━━━━━━━━━━━━━━━━━━━\u001b[0m\u001b[37m\u001b[0m \u001b[1m4s\u001b[0m 90ms/step - accuracy: 0.7709 - loss: 0.9969 - val_accuracy: 0.7875 - val_loss: 0.9462\n",
            "\u001b[1m50/50\u001b[0m \u001b[32m━━━━━━━━━━━━━━━━━━━━\u001b[0m\u001b[37m\u001b[0m \u001b[1m5s\u001b[0m 90ms/step - accuracy: 0.7671 - loss: 0.9636 - val_accuracy: 0.7175 - val_loss: 1.0079\n",
            "\u001b[1m50/50\u001b[0m \u001b[32m━━━━━━━━━━━━━━━━━━━━\u001b[0m\u001b[37m\u001b[0m \u001b[1m5s\u001b[0m 90ms/step - accuracy: 0.7585 - loss: 0.9428 - val_accuracy: 0.7487 - val_loss: 0.9190\n"
          ]
        },
        {
          "metadata": {
            "tags": null
          },
          "name": "stderr",
          "output_type": "stream",
          "text": [
            "[I 2024-08-14 10:46:53,127] Trial 16 pruned. \n"
          ]
        },
        {
          "metadata": {
            "tags": null
          },
          "name": "stdout",
          "output_type": "stream",
          "text": [
            "Trial 17 started with hyperparameters: num_layers=5, filters=[43, 55, 68, 101, 66], kernel_size=3, l1=9.487783798870018e-06, l2=3.8414173198895894e-05, dense_units=224, dropout_rate=0.23483651478176631, learning_rate=0.00023129660910119564\n",
            "\u001b[1m50/50\u001b[0m \u001b[32m━━━━━━━━━━━━━━━━━━━━\u001b[0m\u001b[37m\u001b[0m \u001b[1m0s\u001b[0m 52ms/step - accuracy: 0.5084 - loss: 0.7587"
          ]
        },
        {
          "metadata": {
            "tags": null
          },
          "name": "stderr",
          "output_type": "stream",
          "text": [
            "[I 2024-08-14 10:48:30,604] Trial 17 pruned. Trial was pruned at epoch 0.\n"
          ]
        },
        {
          "metadata": {
            "tags": null
          },
          "name": "stdout",
          "output_type": "stream",
          "text": [
            "Trial 18 started with hyperparameters: num_layers=6, filters=[77, 49, 34, 79, 94, 111], kernel_size=2, l1=3.1777974707564375e-06, l2=0.00010836376876212746, dense_units=113, dropout_rate=0.16078257991525238, learning_rate=0.0008036772766254252\n",
            "\u001b[1m50/50\u001b[0m \u001b[32m━━━━━━━━━━━━━━━━━━━━\u001b[0m\u001b[37m\u001b[0m \u001b[1m0s\u001b[0m 65ms/step - accuracy: 0.4992 - loss: 0.7393"
          ]
        },
        {
          "metadata": {
            "tags": null
          },
          "name": "stderr",
          "output_type": "stream",
          "text": [
            "[I 2024-08-14 10:50:06,620] Trial 18 pruned. Trial was pruned at epoch 0.\n"
          ]
        },
        {
          "metadata": {
            "tags": null
          },
          "name": "stdout",
          "output_type": "stream",
          "text": [
            "Trial 19 started with hyperparameters: num_layers=5, filters=[62, 85, 111, 54, 47], kernel_size=2, l1=2.2937810658547676e-05, l2=0.007063094093440018, dense_units=185, dropout_rate=0.35206453289600426, learning_rate=0.00010676880900504873\n",
            "\u001b[1m50/50\u001b[0m \u001b[32m━━━━━━━━━━━━━━━━━━━━\u001b[0m\u001b[37m\u001b[0m \u001b[1m15s\u001b[0m 150ms/step - accuracy: 0.5053 - loss: 2.7893 - val_accuracy: 0.4825 - val_loss: 2.5643\n",
            "\u001b[1m50/50\u001b[0m \u001b[32m━━━━━━━━━━━━━━━━━━━━\u001b[0m\u001b[37m\u001b[0m \u001b[1m4s\u001b[0m 75ms/step - accuracy: 0.5661 - loss: 2.4931 - val_accuracy: 0.6925 - val_loss: 2.2856\n",
            "\u001b[1m50/50\u001b[0m \u001b[32m━━━━━━━━━━━━━━━━━━━━\u001b[0m\u001b[37m\u001b[0m \u001b[1m4s\u001b[0m 75ms/step - accuracy: 0.6499 - loss: 2.2186 - val_accuracy: 0.7063 - val_loss: 2.0014\n",
            "\u001b[1m50/50\u001b[0m \u001b[32m━━━━━━━━━━━━━━━━━━━━\u001b[0m\u001b[37m\u001b[0m \u001b[1m4s\u001b[0m 75ms/step - accuracy: 0.6900 - loss: 1.9668 - val_accuracy: 0.7013 - val_loss: 1.8479\n"
          ]
        },
        {
          "metadata": {
            "tags": null
          },
          "name": "stderr",
          "output_type": "stream",
          "text": [
            "[I 2024-08-14 10:55:59,313] Trial 19 pruned. \n"
          ]
        },
        {
          "metadata": {
            "tags": null
          },
          "name": "stdout",
          "output_type": "stream",
          "text": [
            "Trial 20 started with hyperparameters: num_layers=4, filters=[46, 107, 78, 80], kernel_size=3, l1=0.0026483945631109247, l2=3.9007204068557806e-06, dense_units=70, dropout_rate=0.2623786911847069, learning_rate=0.0005063486178751791\n",
            "\u001b[1m50/50\u001b[0m \u001b[32m━━━━━━━━━━━━━━━━━━━━\u001b[0m\u001b[37m\u001b[0m \u001b[1m17s\u001b[0m 159ms/step - accuracy: 0.5376 - loss: 12.9000 - val_accuracy: 0.6637 - val_loss: 6.6055\n",
            "\u001b[1m50/50\u001b[0m \u001b[32m━━━━━━━━━━━━━━━━━━━━\u001b[0m\u001b[37m\u001b[0m \u001b[1m4s\u001b[0m 78ms/step - accuracy: 0.6472 - loss: 5.2075 - val_accuracy: 0.6925 - val_loss: 2.1858\n",
            "\u001b[1m50/50\u001b[0m \u001b[32m━━━━━━━━━━━━━━━━━━━━\u001b[0m\u001b[37m\u001b[0m \u001b[1m4s\u001b[0m 78ms/step - accuracy: 0.6932 - loss: 1.7769 - val_accuracy: 0.7462 - val_loss: 1.1612\n",
            "\u001b[1m50/50\u001b[0m \u001b[32m━━━━━━━━━━━━━━━━━━━━\u001b[0m\u001b[37m\u001b[0m \u001b[1m4s\u001b[0m 78ms/step - accuracy: 0.7072 - loss: 1.1403 - val_accuracy: 0.7100 - val_loss: 1.0172\n",
            "\u001b[1m50/50\u001b[0m \u001b[32m━━━━━━━━━━━━━━━━━━━━\u001b[0m\u001b[37m\u001b[0m \u001b[1m4s\u001b[0m 77ms/step - accuracy: 0.7018 - loss: 0.9992 - val_accuracy: 0.7487 - val_loss: 0.8775\n",
            "\u001b[1m50/50\u001b[0m \u001b[32m━━━━━━━━━━━━━━━━━━━━\u001b[0m\u001b[37m\u001b[0m \u001b[1m4s\u001b[0m 77ms/step - accuracy: 0.7537 - loss: 0.8671 - val_accuracy: 0.7850 - val_loss: 0.7971\n",
            "\u001b[1m50/50\u001b[0m \u001b[32m━━━━━━━━━━━━━━━━━━━━\u001b[0m\u001b[37m\u001b[0m \u001b[1m4s\u001b[0m 77ms/step - accuracy: 0.7299 - loss: 0.8329 - val_accuracy: 0.7375 - val_loss: 0.7845\n",
            "\u001b[1m50/50\u001b[0m \u001b[32m━━━━━━━━━━━━━━━━━━━━\u001b[0m\u001b[37m\u001b[0m \u001b[1m4s\u001b[0m 77ms/step - accuracy: 0.7266 - loss: 0.8088 - val_accuracy: 0.7262 - val_loss: 0.7675\n",
            "\u001b[1m50/50\u001b[0m \u001b[32m━━━━━━━━━━━━━━━━━━━━\u001b[0m\u001b[37m\u001b[0m \u001b[1m4s\u001b[0m 77ms/step - accuracy: 0.7232 - loss: 0.7725 - val_accuracy: 0.7563 - val_loss: 0.7268\n",
            "\u001b[1m125/125\u001b[0m \u001b[32m━━━━━━━━━━━━━━━━━━━━\u001b[0m\u001b[37m\u001b[0m \u001b[1m1s\u001b[0m 9ms/step - accuracy: 0.7490 - loss: 0.7339\n"
          ]
        },
        {
          "metadata": {
            "tags": null
          },
          "name": "stderr",
          "output_type": "stream",
          "text": [
            "[I 2024-08-14 11:10:25,140] Trial 20 finished with value: 0.7577499747276306 and parameters: {'num_layers': 4, 'filters_0': 46, 'filters_1': 107, 'filters_2': 78, 'filters_3': 80, 'kernel_size': 3, 'l1': 0.0026483945631109247, 'l2': 3.9007204068557806e-06, 'dense_units': 70, 'dropout_rate': 0.2623786911847069, 'learning_rate': 0.0005063486178751791}. Best is trial 3 with value: 0.7682499885559082.\n"
          ]
        },
        {
          "metadata": {
            "tags": null
          },
          "name": "stdout",
          "output_type": "stream",
          "text": [
            "Trial 21 started with hyperparameters: num_layers=3, filters=[108, 65, 58], kernel_size=2, l1=0.00024209132208435468, l2=0.0013611712567908202, dense_units=170, dropout_rate=0.2739588122749626, learning_rate=6.592394013030607e-05\n",
            "\u001b[1m50/50\u001b[0m \u001b[32m━━━━━━━━━━━━━━━━━━━━\u001b[0m\u001b[37m\u001b[0m \u001b[1m0s\u001b[0m 91ms/step - accuracy: 0.5277 - loss: 1.4049"
          ]
        },
        {
          "metadata": {
            "tags": null
          },
          "name": "stderr",
          "output_type": "stream",
          "text": [
            "[I 2024-08-14 11:12:03,519] Trial 21 pruned. Trial was pruned at epoch 0.\n"
          ]
        },
        {
          "metadata": {
            "tags": null
          },
          "name": "stdout",
          "output_type": "stream",
          "text": [
            "Trial 22 started with hyperparameters: num_layers=4, filters=[106, 57, 42, 116], kernel_size=2, l1=0.0001686149544959144, l2=0.007965083277450012, dense_units=156, dropout_rate=0.1877458056506402, learning_rate=0.00012192100439667154\n",
            "\u001b[1m50/50\u001b[0m \u001b[32m━━━━━━━━━━━━━━━━━━━━\u001b[0m\u001b[37m\u001b[0m \u001b[1m16s\u001b[0m 161ms/step - accuracy: 0.5119 - loss: 2.5590 - val_accuracy: 0.6600 - val_loss: 2.3396\n",
            "\u001b[1m50/50\u001b[0m \u001b[32m━━━━━━━━━━━━━━━━━━━━\u001b[0m\u001b[37m\u001b[0m \u001b[1m5s\u001b[0m 93ms/step - accuracy: 0.6416 - loss: 2.2684 - val_accuracy: 0.7025 - val_loss: 2.0553\n",
            "\u001b[1m50/50\u001b[0m \u001b[32m━━━━━━━━━━━━━━━━━━━━\u001b[0m\u001b[37m\u001b[0m \u001b[1m5s\u001b[0m 93ms/step - accuracy: 0.6936 - loss: 1.9971 - val_accuracy: 0.7525 - val_loss: 1.8191\n",
            "\u001b[1m50/50\u001b[0m \u001b[32m━━━━━━━━━━━━━━━━━━━━\u001b[0m\u001b[37m\u001b[0m \u001b[1m5s\u001b[0m 92ms/step - accuracy: 0.7110 - loss: 1.8223 - val_accuracy: 0.6900 - val_loss: 1.7665\n",
            "\u001b[1m50/50\u001b[0m \u001b[32m━━━━━━━━━━━━━━━━━━━━\u001b[0m\u001b[37m\u001b[0m \u001b[1m5s\u001b[0m 92ms/step - accuracy: 0.7276 - loss: 1.6876 - val_accuracy: 0.7763 - val_loss: 1.5741\n",
            "\u001b[1m50/50\u001b[0m \u001b[32m━━━━━━━━━━━━━━━━━━━━\u001b[0m\u001b[37m\u001b[0m \u001b[1m5s\u001b[0m 93ms/step - accuracy: 0.7660 - loss: 1.5575 - val_accuracy: 0.7538 - val_loss: 1.4688\n",
            "\u001b[1m50/50\u001b[0m \u001b[32m━━━━━━━━━━━━━━━━━━━━\u001b[0m\u001b[37m\u001b[0m \u001b[1m5s\u001b[0m 92ms/step - accuracy: 0.7611 - loss: 1.4667 - val_accuracy: 0.7450 - val_loss: 1.4342\n"
          ]
        },
        {
          "metadata": {
            "tags": null
          },
          "name": "stderr",
          "output_type": "stream",
          "text": [
            "[I 2024-08-14 11:22:17,327] Trial 22 pruned. \n"
          ]
        },
        {
          "metadata": {
            "tags": null
          },
          "name": "stdout",
          "output_type": "stream",
          "text": [
            "Trial 23 started with hyperparameters: num_layers=3, filters=[87, 74, 44], kernel_size=2, l1=0.000700180294690077, l2=0.0010573258338213848, dense_units=167, dropout_rate=0.24654028009205867, learning_rate=6.24947042136573e-05\n",
            "\u001b[1m50/50\u001b[0m \u001b[32m━━━━━━━━━━━━━━━━━━━━\u001b[0m\u001b[37m\u001b[0m \u001b[1m15s\u001b[0m 153ms/step - accuracy: 0.5261 - loss: 2.2228 - val_accuracy: 0.6400 - val_loss: 2.1327\n",
            "\u001b[1m50/50\u001b[0m \u001b[32m━━━━━━━━━━━━━━━━━━━━\u001b[0m\u001b[37m\u001b[0m \u001b[1m4s\u001b[0m 89ms/step - accuracy: 0.6873 - loss: 2.0969 - val_accuracy: 0.7150 - val_loss: 1.9966\n",
            "\u001b[1m50/50\u001b[0m \u001b[32m━━━━━━━━━━━━━━━━━━━━\u001b[0m\u001b[37m\u001b[0m \u001b[1m4s\u001b[0m 89ms/step - accuracy: 0.6906 - loss: 1.9807 - val_accuracy: 0.7600 - val_loss: 1.8890\n",
            "\u001b[1m50/50\u001b[0m \u001b[32m━━━━━━━━━━━━━━━━━━━━\u001b[0m\u001b[37m\u001b[0m \u001b[1m4s\u001b[0m 89ms/step - accuracy: 0.7253 - loss: 1.8924 - val_accuracy: 0.7063 - val_loss: 1.8535\n",
            "\u001b[1m50/50\u001b[0m \u001b[32m━━━━━━━━━━━━━━━━━━━━\u001b[0m\u001b[37m\u001b[0m \u001b[1m4s\u001b[0m 89ms/step - accuracy: 0.7213 - loss: 1.8296 - val_accuracy: 0.7713 - val_loss: 1.7546\n",
            "\u001b[1m50/50\u001b[0m \u001b[32m━━━━━━━━━━━━━━━━━━━━\u001b[0m\u001b[37m\u001b[0m \u001b[1m4s\u001b[0m 88ms/step - accuracy: 0.7621 - loss: 1.7595 - val_accuracy: 0.6112 - val_loss: 1.7881\n",
            "\u001b[1m50/50\u001b[0m \u001b[32m━━━━━━━━━━━━━━━━━━━━\u001b[0m\u001b[37m\u001b[0m \u001b[1m4s\u001b[0m 89ms/step - accuracy: 0.7175 - loss: 1.7341 - val_accuracy: 0.7275 - val_loss: 1.7401\n"
          ]
        },
        {
          "metadata": {
            "tags": null
          },
          "name": "stderr",
          "output_type": "stream",
          "text": [
            "[I 2024-08-14 11:32:29,059] Trial 23 pruned. \n"
          ]
        },
        {
          "metadata": {
            "tags": null
          },
          "name": "stdout",
          "output_type": "stream",
          "text": [
            "Trial 24 started with hyperparameters: num_layers=5, filters=[99, 47, 65, 46, 46], kernel_size=2, l1=7.482052329456991e-05, l2=0.0022671701159617834, dense_units=206, dropout_rate=0.31665337187205356, learning_rate=0.0002525325150857062\n",
            "\u001b[1m50/50\u001b[0m \u001b[32m━━━━━━━━━━━━━━━━━━━━\u001b[0m\u001b[37m\u001b[0m \u001b[1m0s\u001b[0m 80ms/step - accuracy: 0.5296 - loss: 1.3649"
          ]
        },
        {
          "metadata": {
            "tags": null
          },
          "name": "stderr",
          "output_type": "stream",
          "text": [
            "[I 2024-08-14 11:34:08,271] Trial 24 pruned. Trial was pruned at epoch 0.\n"
          ]
        },
        {
          "metadata": {
            "tags": null
          },
          "name": "stdout",
          "output_type": "stream",
          "text": [
            "Trial 25 started with hyperparameters: num_layers=4, filters=[118, 33, 50, 64], kernel_size=2, l1=0.0007638162828203858, l2=1.3803248172456848e-05, dense_units=188, dropout_rate=0.14247684593020504, learning_rate=0.00013267723068756306\n",
            "\u001b[1m50/50\u001b[0m \u001b[32m━━━━━━━━━━━━━━━━━━━━\u001b[0m\u001b[37m\u001b[0m \u001b[1m16s\u001b[0m 159ms/step - accuracy: 0.5319 - loss: 2.1762 - val_accuracy: 0.6538 - val_loss: 2.0432\n",
            "\u001b[1m50/50\u001b[0m \u001b[32m━━━━━━━━━━━━━━━━━━━━\u001b[0m\u001b[37m\u001b[0m \u001b[1m5s\u001b[0m 95ms/step - accuracy: 0.6906 - loss: 1.9923 - val_accuracy: 0.7100 - val_loss: 1.8535\n",
            "\u001b[1m50/50\u001b[0m \u001b[32m━━━━━━━━━━━━━━━━━━━━\u001b[0m\u001b[37m\u001b[0m \u001b[1m5s\u001b[0m 95ms/step - accuracy: 0.7111 - loss: 1.8146 - val_accuracy: 0.7200 - val_loss: 1.7033\n",
            "\u001b[1m50/50\u001b[0m \u001b[32m━━━━━━━━━━━━━━━━━━━━\u001b[0m\u001b[37m\u001b[0m \u001b[1m5s\u001b[0m 95ms/step - accuracy: 0.7168 - loss: 1.7131 - val_accuracy: 0.7138 - val_loss: 1.6886\n",
            "\u001b[1m50/50\u001b[0m \u001b[32m━━━━━━━━━━━━━━━━━━━━\u001b[0m\u001b[37m\u001b[0m \u001b[1m5s\u001b[0m 95ms/step - accuracy: 0.7285 - loss: 1.6288 - val_accuracy: 0.7725 - val_loss: 1.5503\n",
            "\u001b[1m50/50\u001b[0m \u001b[32m━━━━━━━━━━━━━━━━━━━━\u001b[0m\u001b[37m\u001b[0m \u001b[1m5s\u001b[0m 95ms/step - accuracy: 0.7615 - loss: 1.5392 - val_accuracy: 0.7513 - val_loss: 1.4795\n",
            "\u001b[1m50/50\u001b[0m \u001b[32m━━━━━━━━━━━━━━━━━━━━\u001b[0m\u001b[37m\u001b[0m \u001b[1m5s\u001b[0m 95ms/step - accuracy: 0.7631 - loss: 1.4749 - val_accuracy: 0.7150 - val_loss: 1.5286\n",
            "\u001b[1m50/50\u001b[0m \u001b[32m━━━━━━━━━━━━━━━━━━━━\u001b[0m\u001b[37m\u001b[0m \u001b[1m5s\u001b[0m 95ms/step - accuracy: 0.7551 - loss: 1.4372 - val_accuracy: 0.7513 - val_loss: 1.3890\n",
            "\u001b[1m50/50\u001b[0m \u001b[32m━━━━━━━━━━━━━━━━━━━━\u001b[0m\u001b[37m\u001b[0m \u001b[1m5s\u001b[0m 95ms/step - accuracy: 0.7519 - loss: 1.3902 - val_accuracy: 0.7725 - val_loss: 1.3295\n",
            "\u001b[1m125/125\u001b[0m \u001b[32m━━━━━━━━━━━━━━━━━━━━\u001b[0m\u001b[37m\u001b[0m \u001b[1m1s\u001b[0m 10ms/step - accuracy: 0.7577 - loss: 1.3438\n"
          ]
        },
        {
          "metadata": {
            "tags": null
          },
          "name": "stderr",
          "output_type": "stream",
          "text": [
            "[I 2024-08-14 11:48:38,967] Trial 25 finished with value: 0.762499988079071 and parameters: {'num_layers': 4, 'filters_0': 118, 'filters_1': 33, 'filters_2': 50, 'filters_3': 64, 'kernel_size': 2, 'l1': 0.0007638162828203858, 'l2': 1.3803248172456848e-05, 'dense_units': 188, 'dropout_rate': 0.14247684593020504, 'learning_rate': 0.00013267723068756306}. Best is trial 3 with value: 0.7682499885559082.\n"
          ]
        },
        {
          "metadata": {
            "tags": null
          },
          "name": "stdout",
          "output_type": "stream",
          "text": [
            "Trial 26 started with hyperparameters: num_layers=6, filters=[73, 90, 56, 75, 91, 56], kernel_size=2, l1=0.00013966273858438322, l2=0.0002558486344054294, dense_units=232, dropout_rate=0.2031559944389944, learning_rate=8.628374450615897e-05\n",
            "\u001b[1m50/50\u001b[0m \u001b[32m━━━━━━━━━━━━━━━━━━━━\u001b[0m\u001b[37m\u001b[0m \u001b[1m0s\u001b[0m 76ms/step - accuracy: 0.4953 - loss: 1.5417"
          ]
        },
        {
          "metadata": {
            "tags": null
          },
          "name": "stderr",
          "output_type": "stream",
          "text": [
            "[I 2024-08-14 11:50:16,769] Trial 26 pruned. Trial was pruned at epoch 0.\n"
          ]
        },
        {
          "metadata": {
            "tags": null
          },
          "name": "stdout",
          "output_type": "stream",
          "text": [
            "Trial 27 started with hyperparameters: num_layers=3, filters=[83, 66, 38], kernel_size=2, l1=5.284390293760061e-06, l2=4.720116704970484e-05, dense_units=147, dropout_rate=0.1297247990822334, learning_rate=4.2254194596831696e-05\n",
            "\u001b[1m50/50\u001b[0m \u001b[32m━━━━━━━━━━━━━━━━━━━━\u001b[0m\u001b[37m\u001b[0m \u001b[1m0s\u001b[0m 76ms/step - accuracy: 0.5407 - loss: 0.7023"
          ]
        },
        {
          "metadata": {
            "tags": null
          },
          "name": "stderr",
          "output_type": "stream",
          "text": [
            "[I 2024-08-14 11:51:53,052] Trial 27 pruned. Trial was pruned at epoch 0.\n"
          ]
        },
        {
          "metadata": {
            "tags": null
          },
          "name": "stdout",
          "output_type": "stream",
          "text": [
            "Trial 28 started with hyperparameters: num_layers=5, filters=[128, 78, 72, 93, 68], kernel_size=2, l1=0.0018980169570206316, l2=0.00019666223137892438, dense_units=179, dropout_rate=0.25930989165840135, learning_rate=3.08110148078044e-05\n",
            "\u001b[1m50/50\u001b[0m \u001b[32m━━━━━━━━━━━━━━━━━━━━\u001b[0m\u001b[37m\u001b[0m \u001b[1m21s\u001b[0m 214ms/step - accuracy: 0.5065 - loss: 10.8377 - val_accuracy: 0.6650 - val_loss: 10.5884\n",
            "\u001b[1m50/50\u001b[0m \u001b[32m━━━━━━━━━━━━━━━━━━━━\u001b[0m\u001b[37m\u001b[0m \u001b[1m6s\u001b[0m 117ms/step - accuracy: 0.5483 - loss: 10.5070 - val_accuracy: 0.5875 - val_loss: 10.2635\n",
            "\u001b[1m50/50\u001b[0m \u001b[32m━━━━━━━━━━━━━━━━━━━━\u001b[0m\u001b[37m\u001b[0m \u001b[1m6s\u001b[0m 117ms/step - accuracy: 0.6161 - loss: 10.1824 - val_accuracy: 0.7387 - val_loss: 9.9429\n",
            "\u001b[1m50/50\u001b[0m \u001b[32m━━━━━━━━━━━━━━━━━━━━\u001b[0m\u001b[37m\u001b[0m \u001b[1m6s\u001b[0m 117ms/step - accuracy: 0.6567 - loss: 9.8652 - val_accuracy: 0.6862 - val_loss: 9.6339\n",
            "\u001b[1m50/50\u001b[0m \u001b[32m━━━━━━━━━━━━━━━━━━━━\u001b[0m\u001b[37m\u001b[0m \u001b[1m6s\u001b[0m 117ms/step - accuracy: 0.6790 - loss: 9.5563 - val_accuracy: 0.7437 - val_loss: 9.3270\n",
            "\u001b[1m50/50\u001b[0m \u001b[32m━━━━━━━━━━━━━━━━━━━━\u001b[0m\u001b[37m\u001b[0m \u001b[1m6s\u001b[0m 117ms/step - accuracy: 0.6882 - loss: 9.2561 - val_accuracy: 0.6400 - val_loss: 9.0350\n",
            "\u001b[1m50/50\u001b[0m \u001b[32m━━━━━━━━━━━━━━━━━━━━\u001b[0m\u001b[37m\u001b[0m \u001b[1m6s\u001b[0m 117ms/step - accuracy: 0.6303 - loss: 8.9667 - val_accuracy: 0.6037 - val_loss: 8.7746\n",
            "\u001b[1m50/50\u001b[0m \u001b[32m━━━━━━━━━━━━━━━━━━━━\u001b[0m\u001b[37m\u001b[0m \u001b[1m6s\u001b[0m 117ms/step - accuracy: 0.6440 - loss: 8.6865 - val_accuracy: 0.6988 - val_loss: 8.4848\n",
            "\u001b[1m50/50\u001b[0m \u001b[32m━━━━━━━━━━━━━━━━━━━━\u001b[0m\u001b[37m\u001b[0m \u001b[1m6s\u001b[0m 117ms/step - accuracy: 0.6924 - loss: 8.4141 - val_accuracy: 0.6762 - val_loss: 8.2198\n",
            "\u001b[1m125/125\u001b[0m \u001b[32m━━━━━━━━━━━━━━━━━━━━\u001b[0m\u001b[37m\u001b[0m \u001b[1m2s\u001b[0m 13ms/step - accuracy: 0.6631 - loss: 8.2257\n"
          ]
        },
        {
          "metadata": {
            "tags": null
          },
          "name": "stderr",
          "output_type": "stream",
          "text": [
            "[I 2024-08-14 12:06:36,509] Trial 28 finished with value: 0.6725000143051147 and parameters: {'num_layers': 5, 'filters_0': 128, 'filters_1': 78, 'filters_2': 72, 'filters_3': 93, 'filters_4': 68, 'kernel_size': 2, 'l1': 0.0018980169570206316, 'l2': 0.00019666223137892438, 'dense_units': 179, 'dropout_rate': 0.25930989165840135, 'learning_rate': 3.08110148078044e-05}. Best is trial 3 with value: 0.7682499885559082.\n"
          ]
        },
        {
          "metadata": {
            "tags": null
          },
          "name": "stdout",
          "output_type": "stream",
          "text": [
            "Trial 29 started with hyperparameters: num_layers=3, filters=[114, 67, 51], kernel_size=2, l1=2.6516385217423455e-05, l2=0.0004147913870373405, dense_units=127, dropout_rate=0.3506845480324705, learning_rate=2.0932940641670975e-05\n",
            "\u001b[1m50/50\u001b[0m \u001b[32m━━━━━━━━━━━━━━━━━━━━\u001b[0m\u001b[37m\u001b[0m \u001b[1m0s\u001b[0m 94ms/step - accuracy: 0.5237 - loss: 0.8089"
          ]
        },
        {
          "metadata": {
            "tags": null
          },
          "name": "stderr",
          "output_type": "stream",
          "text": [
            "[I 2024-08-14 12:08:14,942] Trial 29 pruned. Trial was pruned at epoch 0.\n"
          ]
        },
        {
          "metadata": {
            "tags": null
          },
          "name": "stdout",
          "output_type": "stream",
          "text": [
            "Trial 30 started with hyperparameters: num_layers=6, filters=[100, 55, 63, 59, 32, 93], kernel_size=2, l1=0.0003718609731395578, l2=2.404765503570104e-06, dense_units=196, dropout_rate=0.18225623359240148, learning_rate=0.00033891897963606726\n",
            "\u001b[1m50/50\u001b[0m \u001b[32m━━━━━━━━━━━━━━━━━━━━\u001b[0m\u001b[37m\u001b[0m \u001b[1m0s\u001b[0m 82ms/step - accuracy: 0.5044 - loss: 2.0312"
          ]
        },
        {
          "metadata": {
            "tags": null
          },
          "name": "stderr",
          "output_type": "stream",
          "text": [
            "[I 2024-08-14 12:09:54,924] Trial 30 pruned. Trial was pruned at epoch 0.\n"
          ]
        },
        {
          "metadata": {
            "tags": null
          },
          "name": "stdout",
          "output_type": "stream",
          "text": [
            "Trial 31 started with hyperparameters: num_layers=4, filters=[120, 32, 53, 62], kernel_size=2, l1=0.0008818521643717558, l2=1.2894181294310316e-05, dense_units=214, dropout_rate=0.14539440805912454, learning_rate=0.00013402157553179844\n",
            "\u001b[1m50/50\u001b[0m \u001b[32m━━━━━━━━━━━━━━━━━━━━\u001b[0m\u001b[37m\u001b[0m \u001b[1m0s\u001b[0m 83ms/step - accuracy: 0.5029 - loss: 2.4081"
          ]
        },
        {
          "metadata": {
            "tags": null
          },
          "name": "stderr",
          "output_type": "stream",
          "text": [
            "[I 2024-08-14 12:11:32,202] Trial 31 pruned. Trial was pruned at epoch 0.\n"
          ]
        },
        {
          "metadata": {
            "tags": null
          },
          "name": "stdout",
          "output_type": "stream",
          "text": [
            "Trial 32 started with hyperparameters: num_layers=4, filters=[115, 48, 50, 72], kernel_size=2, l1=0.002458483002927289, l2=2.239327351245159e-05, dense_units=164, dropout_rate=0.13507061228970818, learning_rate=0.00014448919367345402\n",
            "\u001b[1m50/50\u001b[0m \u001b[32m━━━━━━━━━━━━━━━━━━━━\u001b[0m\u001b[37m\u001b[0m \u001b[1m16s\u001b[0m 162ms/step - accuracy: 0.5409 - loss: 6.6259 - val_accuracy: 0.7113 - val_loss: 6.0438\n",
            "\u001b[1m50/50\u001b[0m \u001b[32m━━━━━━━━━━━━━━━━━━━━\u001b[0m\u001b[37m\u001b[0m \u001b[1m5s\u001b[0m 96ms/step - accuracy: 0.6564 - loss: 5.8575 - val_accuracy: 0.7250 - val_loss: 5.3101\n",
            "\u001b[1m50/50\u001b[0m \u001b[32m━━━━━━━━━━━━━━━━━━━━\u001b[0m\u001b[37m\u001b[0m \u001b[1m5s\u001b[0m 95ms/step - accuracy: 0.6995 - loss: 5.1488 - val_accuracy: 0.7250 - val_loss: 4.6780\n",
            "\u001b[1m50/50\u001b[0m \u001b[32m━━━━━━━━━━━━━━━━━━━━\u001b[0m\u001b[37m\u001b[0m \u001b[1m5s\u001b[0m 96ms/step - accuracy: 0.7163 - loss: 4.5660 - val_accuracy: 0.7163 - val_loss: 4.2288\n",
            "\u001b[1m50/50\u001b[0m \u001b[32m━━━━━━━━━━━━━━━━━━━━\u001b[0m\u001b[37m\u001b[0m \u001b[1m6s\u001b[0m 113ms/step - accuracy: 0.7390 - loss: 4.0783 - val_accuracy: 0.7763 - val_loss: 3.7406\n",
            "\u001b[1m50/50\u001b[0m \u001b[32m━━━━━━━━━━━━━━━━━━━━\u001b[0m\u001b[37m\u001b[0m \u001b[1m5s\u001b[0m 96ms/step - accuracy: 0.7557 - loss: 3.6475 - val_accuracy: 0.6413 - val_loss: 3.4049\n",
            "\u001b[1m50/50\u001b[0m \u001b[32m━━━━━━━━━━━━━━━━━━━━\u001b[0m\u001b[37m\u001b[0m \u001b[1m5s\u001b[0m 96ms/step - accuracy: 0.7383 - loss: 3.2761 - val_accuracy: 0.7113 - val_loss: 3.1035\n",
            "\u001b[1m50/50\u001b[0m \u001b[32m━━━━━━━━━━━━━━━━━━━━\u001b[0m\u001b[37m\u001b[0m \u001b[1m5s\u001b[0m 97ms/step - accuracy: 0.7459 - loss: 2.9346 - val_accuracy: 0.7312 - val_loss: 2.7096\n",
            "\u001b[1m50/50\u001b[0m \u001b[32m━━━━━━━━━━━━━━━━━━━━\u001b[0m\u001b[37m\u001b[0m \u001b[1m5s\u001b[0m 96ms/step - accuracy: 0.7350 - loss: 2.6496 - val_accuracy: 0.7638 - val_loss: 2.4236\n",
            "\u001b[1m125/125\u001b[0m \u001b[32m━━━━━━━━━━━━━━━━━━━━\u001b[0m\u001b[37m\u001b[0m \u001b[1m1s\u001b[0m 10ms/step - accuracy: 0.7487 - loss: 2.4389\n"
          ]
        },
        {
          "metadata": {
            "tags": null
          },
          "name": "stderr",
          "output_type": "stream",
          "text": [
            "[I 2024-08-14 12:26:08,371] Trial 32 finished with value: 0.7572500109672546 and parameters: {'num_layers': 4, 'filters_0': 115, 'filters_1': 48, 'filters_2': 50, 'filters_3': 72, 'kernel_size': 2, 'l1': 0.002458483002927289, 'l2': 2.239327351245159e-05, 'dense_units': 164, 'dropout_rate': 0.13507061228970818, 'learning_rate': 0.00014448919367345402}. Best is trial 3 with value: 0.7682499885559082.\n"
          ]
        },
        {
          "metadata": {
            "tags": null
          },
          "name": "stdout",
          "output_type": "stream",
          "text": [
            "Trial 33 started with hyperparameters: num_layers=3, filters=[103, 59, 46], kernel_size=2, l1=0.00046950748847690154, l2=9.38844090008266e-06, dense_units=189, dropout_rate=0.16793573596284028, learning_rate=8.80932290927737e-05\n",
            "\u001b[1m50/50\u001b[0m \u001b[32m━━━━━━━━━━━━━━━━━━━━\u001b[0m\u001b[37m\u001b[0m \u001b[1m0s\u001b[0m 83ms/step - accuracy: 0.5097 - loss: 1.5596"
          ]
        },
        {
          "metadata": {
            "tags": null
          },
          "name": "stderr",
          "output_type": "stream",
          "text": [
            "[I 2024-08-14 12:27:46,008] Trial 33 pruned. Trial was pruned at epoch 0.\n"
          ]
        },
        {
          "metadata": {
            "tags": null
          },
          "name": "stdout",
          "output_type": "stream",
          "text": [
            "Trial 34 started with hyperparameters: num_layers=3, filters=[89, 40, 60], kernel_size=2, l1=5.007380027124262e-05, l2=2.7369226456580293e-06, dense_units=142, dropout_rate=0.23737856745506178, learning_rate=0.0001995204271341459\n",
            "\u001b[1m50/50\u001b[0m \u001b[32m━━━━━━━━━━━━━━━━━━━━\u001b[0m\u001b[37m\u001b[0m \u001b[1m0s\u001b[0m 72ms/step - accuracy: 0.5124 - loss: 0.7838"
          ]
        },
        {
          "metadata": {
            "tags": null
          },
          "name": "stderr",
          "output_type": "stream",
          "text": [
            "[I 2024-08-14 12:29:21,845] Trial 34 pruned. Trial was pruned at epoch 0.\n"
          ]
        },
        {
          "metadata": {
            "tags": null
          },
          "name": "stdout",
          "output_type": "stream",
          "text": [
            "Trial 35 started with hyperparameters: num_layers=4, filters=[119, 73, 40, 39], kernel_size=2, l1=0.001312344012987313, l2=2.2333379802134148e-05, dense_units=240, dropout_rate=0.29191940662838445, learning_rate=0.00010898604374534329\n",
            "\u001b[1m50/50\u001b[0m \u001b[32m━━━━━━━━━━━━━━━━━━━━\u001b[0m\u001b[37m\u001b[0m \u001b[1m18s\u001b[0m 185ms/step - accuracy: 0.5288 - loss: 4.1017 - val_accuracy: 0.6288 - val_loss: 3.8368\n",
            "\u001b[1m50/50\u001b[0m \u001b[32m━━━━━━━━━━━━━━━━━━━━\u001b[0m\u001b[37m\u001b[0m \u001b[1m5s\u001b[0m 110ms/step - accuracy: 0.6547 - loss: 3.7476 - val_accuracy: 0.7138 - val_loss: 3.4938\n",
            "\u001b[1m50/50\u001b[0m \u001b[32m━━━━━━━━━━━━━━━━━━━━\u001b[0m\u001b[37m\u001b[0m \u001b[1m5s\u001b[0m 110ms/step - accuracy: 0.6985 - loss: 3.4222 - val_accuracy: 0.7375 - val_loss: 3.2138\n",
            "\u001b[1m50/50\u001b[0m \u001b[32m━━━━━━━━━━━━━━━━━━━━\u001b[0m\u001b[37m\u001b[0m \u001b[1m5s\u001b[0m 109ms/step - accuracy: 0.7131 - loss: 3.1939 - val_accuracy: 0.7025 - val_loss: 3.0794\n",
            "\u001b[1m50/50\u001b[0m \u001b[32m━━━━━━━━━━━━━━━━━━━━\u001b[0m\u001b[37m\u001b[0m \u001b[1m5s\u001b[0m 110ms/step - accuracy: 0.7284 - loss: 2.9943 - val_accuracy: 0.7750 - val_loss: 2.8350\n",
            "\u001b[1m50/50\u001b[0m \u001b[32m━━━━━━━━━━━━━━━━━━━━\u001b[0m\u001b[37m\u001b[0m \u001b[1m6s\u001b[0m 110ms/step - accuracy: 0.7662 - loss: 2.8008 - val_accuracy: 0.7163 - val_loss: 2.6830\n",
            "\u001b[1m50/50\u001b[0m \u001b[32m━━━━━━━━━━━━━━━━━━━━\u001b[0m\u001b[37m\u001b[0m \u001b[1m6s\u001b[0m 110ms/step - accuracy: 0.7486 - loss: 2.6550 - val_accuracy: 0.7088 - val_loss: 2.6143\n",
            "\u001b[1m50/50\u001b[0m \u001b[32m━━━━━━━━━━━━━━━━━━━━\u001b[0m\u001b[37m\u001b[0m \u001b[1m5s\u001b[0m 110ms/step - accuracy: 0.7509 - loss: 2.5153 - val_accuracy: 0.7387 - val_loss: 2.4056\n",
            "\u001b[1m50/50\u001b[0m \u001b[32m━━━━━━━━━━━━━━━━━━━━\u001b[0m\u001b[37m\u001b[0m \u001b[1m5s\u001b[0m 110ms/step - accuracy: 0.7359 - loss: 2.3851 - val_accuracy: 0.7675 - val_loss: 2.2696\n",
            "\u001b[1m125/125\u001b[0m \u001b[32m━━━━━━━━━━━━━━━━━━━━\u001b[0m\u001b[37m\u001b[0m \u001b[1m2s\u001b[0m 12ms/step - accuracy: 0.7545 - loss: 2.2846\n"
          ]
        },
        {
          "metadata": {
            "tags": null
          },
          "name": "stderr",
          "output_type": "stream",
          "text": [
            "[I 2024-08-14 12:44:00,193] Trial 35 finished with value: 0.7599999904632568 and parameters: {'num_layers': 4, 'filters_0': 119, 'filters_1': 73, 'filters_2': 40, 'filters_3': 39, 'kernel_size': 2, 'l1': 0.001312344012987313, 'l2': 2.2333379802134148e-05, 'dense_units': 240, 'dropout_rate': 0.29191940662838445, 'learning_rate': 0.00010898604374534329}. Best is trial 3 with value: 0.7682499885559082.\n"
          ]
        },
        {
          "metadata": {
            "tags": null
          },
          "name": "stdout",
          "output_type": "stream",
          "text": [
            "Trial 36 started with hyperparameters: num_layers=5, filters=[94, 33, 63, 85, 60], kernel_size=2, l1=0.00919106342149974, l2=6.44422128003559e-06, dense_units=178, dropout_rate=0.2031012380242609, learning_rate=5.916763984814781e-05\n",
            "\u001b[1m50/50\u001b[0m \u001b[32m━━━━━━━━━━━━━━━━━━━━\u001b[0m\u001b[37m\u001b[0m \u001b[1m16s\u001b[0m 154ms/step - accuracy: 0.5157 - loss: 30.9283 - val_accuracy: 0.6913 - val_loss: 29.6657\n",
            "\u001b[1m50/50\u001b[0m \u001b[32m━━━━━━━━━━━━━━━━━━━━\u001b[0m\u001b[37m\u001b[0m \u001b[1m4s\u001b[0m 82ms/step - accuracy: 0.6078 - loss: 29.2528 - val_accuracy: 0.6975 - val_loss: 28.0269\n",
            "\u001b[1m50/50\u001b[0m \u001b[32m━━━━━━━━━━━━━━━━━━━━\u001b[0m\u001b[37m\u001b[0m \u001b[1m4s\u001b[0m 82ms/step - accuracy: 0.6003 - loss: 27.6269 - val_accuracy: 0.6513 - val_loss: 26.4410\n",
            "\u001b[1m50/50\u001b[0m \u001b[32m━━━━━━━━━━━━━━━━━━━━\u001b[0m\u001b[37m\u001b[0m \u001b[1m4s\u001b[0m 82ms/step - accuracy: 0.6228 - loss: 26.0551 - val_accuracy: 0.6875 - val_loss: 24.9103\n",
            "\u001b[1m50/50\u001b[0m \u001b[32m━━━━━━━━━━━━━━━━━━━━\u001b[0m\u001b[37m\u001b[0m \u001b[1m4s\u001b[0m 82ms/step - accuracy: 0.6943 - loss: 24.5366 - val_accuracy: 0.7462 - val_loss: 23.4301\n",
            "\u001b[1m50/50\u001b[0m \u001b[32m━━━━━━━━━━━━━━━━━━━━\u001b[0m\u001b[37m\u001b[0m \u001b[1m4s\u001b[0m 82ms/step - accuracy: 0.7041 - loss: 23.0736 - val_accuracy: 0.5838 - val_loss: 22.0109\n",
            "\u001b[1m50/50\u001b[0m \u001b[32m━━━━━━━━━━━━━━━━━━━━\u001b[0m\u001b[37m\u001b[0m \u001b[1m4s\u001b[0m 82ms/step - accuracy: 0.6206 - loss: 21.6668 - val_accuracy: 0.5975 - val_loss: 20.6548\n",
            "\u001b[1m50/50\u001b[0m \u001b[32m━━━━━━━━━━━━━━━━━━━━\u001b[0m\u001b[37m\u001b[0m \u001b[1m4s\u001b[0m 81ms/step - accuracy: 0.6176 - loss: 20.3147 - val_accuracy: 0.6350 - val_loss: 19.3404\n",
            "\u001b[1m50/50\u001b[0m \u001b[32m━━━━━━━━━━━━━━━━━━━━\u001b[0m\u001b[37m\u001b[0m \u001b[1m4s\u001b[0m 81ms/step - accuracy: 0.6840 - loss: 19.0126 - val_accuracy: 0.6413 - val_loss: 18.0737\n",
            "\u001b[1m125/125\u001b[0m \u001b[32m━━━━━━━━━━━━━━━━━━━━\u001b[0m\u001b[37m\u001b[0m \u001b[1m1s\u001b[0m 9ms/step - accuracy: 0.6287 - loss: 18.0757\n"
          ]
        },
        {
          "metadata": {
            "tags": null
          },
          "name": "stderr",
          "output_type": "stream",
          "text": [
            "[I 2024-08-14 12:58:26,845] Trial 36 finished with value: 0.6349999904632568 and parameters: {'num_layers': 5, 'filters_0': 94, 'filters_1': 33, 'filters_2': 63, 'filters_3': 85, 'filters_4': 60, 'kernel_size': 2, 'l1': 0.00919106342149974, 'l2': 6.44422128003559e-06, 'dense_units': 178, 'dropout_rate': 0.2031012380242609, 'learning_rate': 5.916763984814781e-05}. Best is trial 3 with value: 0.7682499885559082.\n"
          ]
        },
        {
          "metadata": {
            "tags": null
          },
          "name": "stdout",
          "output_type": "stream",
          "text": [
            "Trial 37 started with hyperparameters: num_layers=4, filters=[126, 81, 32, 103], kernel_size=3, l1=0.0002148456856036944, l2=0.0005801451680281827, dense_units=209, dropout_rate=0.12279606238472673, learning_rate=0.0002530871588450951\n",
            "\u001b[1m50/50\u001b[0m \u001b[32m━━━━━━━━━━━━━━━━━━━━\u001b[0m\u001b[37m\u001b[0m \u001b[1m0s\u001b[0m 110ms/step - accuracy: 0.5074 - loss: 1.7130"
          ]
        },
        {
          "metadata": {
            "tags": null
          },
          "name": "stderr",
          "output_type": "stream",
          "text": [
            "[I 2024-08-14 13:00:11,989] Trial 37 pruned. Trial was pruned at epoch 0.\n"
          ]
        },
        {
          "metadata": {
            "tags": null
          },
          "name": "stdout",
          "output_type": "stream",
          "text": [
            "Trial 38 started with hyperparameters: num_layers=5, filters=[39, 51, 56, 40, 80], kernel_size=2, l1=3.757190800029147e-06, l2=0.0038232782518623516, dense_units=194, dropout_rate=0.21583016068529992, learning_rate=8.603282172823692e-05\n",
            "\u001b[1m49/50\u001b[0m \u001b[32m━━━━━━━━━━━━━━━━━━━\u001b[0m\u001b[37m━\u001b[0m \u001b[1m0s\u001b[0m 41ms/step - accuracy: 0.5121 - loss: 1.4434"
          ]
        },
        {
          "metadata": {
            "tags": null
          },
          "name": "stderr",
          "output_type": "stream",
          "text": [
            "[I 2024-08-14 13:01:45,773] Trial 38 pruned. Trial was pruned at epoch 0.\n"
          ]
        },
        {
          "metadata": {
            "tags": null
          },
          "name": "stdout",
          "output_type": "stream",
          "text": [
            "Trial 39 started with hyperparameters: num_layers=3, filters=[110, 95, 49], kernel_size=2, l1=1.5853535027394828e-06, l2=6.135956279672455e-05, dense_units=254, dropout_rate=0.4930270231467432, learning_rate=0.00017274833132868106\n",
            "\u001b[1m50/50\u001b[0m \u001b[32m━━━━━━━━━━━━━━━━━━━━\u001b[0m\u001b[37m\u001b[0m \u001b[1m0s\u001b[0m 98ms/step - accuracy: 0.5593 - loss: 0.6972"
          ]
        },
        {
          "metadata": {
            "tags": null
          },
          "name": "stderr",
          "output_type": "stream",
          "text": [
            "[I 2024-08-14 13:03:25,967] Trial 39 pruned. Trial was pruned at epoch 0.\n"
          ]
        },
        {
          "metadata": {
            "tags": null
          },
          "name": "stdout",
          "output_type": "stream",
          "text": [
            "Trial 40 started with hyperparameters: num_layers=4, filters=[91, 61, 39, 48], kernel_size=3, l1=7.987583627652987e-06, l2=0.00016302586083577345, dense_units=222, dropout_rate=0.17314467543284207, learning_rate=0.000303208414901694\n",
            "\u001b[1m50/50\u001b[0m \u001b[32m━━━━━━━━━━━━━━━━━━━━\u001b[0m\u001b[37m\u001b[0m \u001b[1m0s\u001b[0m 80ms/step - accuracy: 0.5249 - loss: 0.7438"
          ]
        },
        {
          "metadata": {
            "tags": null
          },
          "name": "stderr",
          "output_type": "stream",
          "text": [
            "[I 2024-08-14 13:05:06,179] Trial 40 pruned. Trial was pruned at epoch 0.\n"
          ]
        },
        {
          "metadata": {
            "tags": null
          },
          "name": "stdout",
          "output_type": "stream",
          "text": [
            "Trial 41 started with hyperparameters: num_layers=4, filters=[120, 73, 40, 36], kernel_size=2, l1=0.0017300465681363568, l2=2.029811334728148e-05, dense_units=237, dropout_rate=0.2855766539113006, learning_rate=0.00011472865872594913\n",
            "\u001b[1m50/50\u001b[0m \u001b[32m━━━━━━━━━━━━━━━━━━━━\u001b[0m\u001b[37m\u001b[0m \u001b[1m15s\u001b[0m 164ms/step - accuracy: 0.5215 - loss: 5.1328 - val_accuracy: 0.6425 - val_loss: 4.7620\n",
            "\u001b[1m50/50\u001b[0m \u001b[32m━━━━━━━━━━━━━━━━━━━━\u001b[0m\u001b[37m\u001b[0m \u001b[1m5s\u001b[0m 108ms/step - accuracy: 0.6404 - loss: 4.6441 - val_accuracy: 0.6888 - val_loss: 4.3018\n",
            "\u001b[1m50/50\u001b[0m \u001b[32m━━━━━━━━━━━━━━━━━━━━\u001b[0m\u001b[37m\u001b[0m \u001b[1m5s\u001b[0m 107ms/step - accuracy: 0.6799 - loss: 4.2019 - val_accuracy: 0.7500 - val_loss: 3.9085\n",
            "\u001b[1m50/50\u001b[0m \u001b[32m━━━━━━━━━━━━━━━━━━━━\u001b[0m\u001b[37m\u001b[0m \u001b[1m5s\u001b[0m 108ms/step - accuracy: 0.7096 - loss: 3.8561 - val_accuracy: 0.6950 - val_loss: 3.6400\n",
            "\u001b[1m50/50\u001b[0m \u001b[32m━━━━━━━━━━━━━━━━━━━━\u001b[0m\u001b[37m\u001b[0m \u001b[1m5s\u001b[0m 108ms/step - accuracy: 0.7079 - loss: 3.5550 - val_accuracy: 0.7538 - val_loss: 3.3278\n",
            "\u001b[1m50/50\u001b[0m \u001b[32m━━━━━━━━━━━━━━━━━━━━\u001b[0m\u001b[37m\u001b[0m \u001b[1m5s\u001b[0m 107ms/step - accuracy: 0.7449 - loss: 3.2755 - val_accuracy: 0.6750 - val_loss: 3.1050\n",
            "\u001b[1m50/50\u001b[0m \u001b[32m━━━━━━━━━━━━━━━━━━━━\u001b[0m\u001b[37m\u001b[0m \u001b[1m5s\u001b[0m 108ms/step - accuracy: 0.7232 - loss: 3.0451 - val_accuracy: 0.7025 - val_loss: 2.9258\n",
            "\u001b[1m50/50\u001b[0m \u001b[32m━━━━━━━━━━━━━━━━━━━━\u001b[0m\u001b[37m\u001b[0m \u001b[1m5s\u001b[0m 107ms/step - accuracy: 0.7338 - loss: 2.8305 - val_accuracy: 0.7212 - val_loss: 2.6737\n",
            "\u001b[1m50/50\u001b[0m \u001b[32m━━━━━━━━━━━━━━━━━━━━\u001b[0m\u001b[37m\u001b[0m \u001b[1m5s\u001b[0m 108ms/step - accuracy: 0.7256 - loss: 2.6395 - val_accuracy: 0.7638 - val_loss: 2.4798\n",
            "\u001b[1m125/125\u001b[0m \u001b[32m━━━━━━━━━━━━━━━━━━━━\u001b[0m\u001b[37m\u001b[0m \u001b[1m2s\u001b[0m 12ms/step - accuracy: 0.7333 - loss: 2.4974\n"
          ]
        },
        {
          "metadata": {
            "tags": null
          },
          "name": "stderr",
          "output_type": "stream",
          "text": [
            "[I 2024-08-14 13:19:39,333] Trial 41 finished with value: 0.7437499761581421 and parameters: {'num_layers': 4, 'filters_0': 120, 'filters_1': 73, 'filters_2': 40, 'filters_3': 36, 'kernel_size': 2, 'l1': 0.0017300465681363568, 'l2': 2.029811334728148e-05, 'dense_units': 237, 'dropout_rate': 0.2855766539113006, 'learning_rate': 0.00011472865872594913}. Best is trial 3 with value: 0.7682499885559082.\n"
          ]
        },
        {
          "metadata": {
            "tags": null
          },
          "name": "stdout",
          "output_type": "stream",
          "text": [
            "Trial 42 started with hyperparameters: num_layers=4, filters=[118, 78, 45, 42], kernel_size=2, l1=0.004300478894661527, l2=1.3217913167259959e-05, dense_units=244, dropout_rate=0.3318318727177399, learning_rate=0.00010241497512448901\n",
            "\u001b[1m50/50\u001b[0m \u001b[32m━━━━━━━━━━━━━━━━━━━━\u001b[0m\u001b[37m\u001b[0m \u001b[1m16s\u001b[0m 175ms/step - accuracy: 0.5126 - loss: 12.8877 - val_accuracy: 0.4938 - val_loss: 11.9629\n",
            "\u001b[1m50/50\u001b[0m \u001b[32m━━━━━━━━━━━━━━━━━━━━\u001b[0m\u001b[37m\u001b[0m \u001b[1m5s\u001b[0m 109ms/step - accuracy: 0.5884 - loss: 11.6638 - val_accuracy: 0.6862 - val_loss: 10.8004\n",
            "\u001b[1m50/50\u001b[0m \u001b[32m━━━━━━━━━━━━━━━━━━━━\u001b[0m\u001b[37m\u001b[0m \u001b[1m5s\u001b[0m 108ms/step - accuracy: 0.6804 - loss: 10.5275 - val_accuracy: 0.7250 - val_loss: 9.7466\n",
            "\u001b[1m50/50\u001b[0m \u001b[32m━━━━━━━━━━━━━━━━━━━━\u001b[0m\u001b[37m\u001b[0m \u001b[1m5s\u001b[0m 108ms/step - accuracy: 0.6973 - loss: 9.5366 - val_accuracy: 0.6938 - val_loss: 8.9205\n",
            "\u001b[1m50/50\u001b[0m \u001b[32m━━━━━━━━━━━━━━━━━━━━\u001b[0m\u001b[37m\u001b[0m \u001b[1m5s\u001b[0m 108ms/step - accuracy: 0.7092 - loss: 8.6944 - val_accuracy: 0.7600 - val_loss: 8.1078\n",
            "\u001b[1m50/50\u001b[0m \u001b[32m━━━━━━━━━━━━━━━━━━━━\u001b[0m\u001b[37m\u001b[0m \u001b[1m5s\u001b[0m 109ms/step - accuracy: 0.7373 - loss: 7.9365 - val_accuracy: 0.6850 - val_loss: 7.4230\n",
            "\u001b[1m50/50\u001b[0m \u001b[32m━━━━━━━━━━━━━━━━━━━━\u001b[0m\u001b[37m\u001b[0m \u001b[1m6s\u001b[0m 129ms/step - accuracy: 0.7159 - loss: 7.2605 - val_accuracy: 0.6900 - val_loss: 6.8375\n",
            "\u001b[1m50/50\u001b[0m \u001b[32m━━━━━━━━━━━━━━━━━━━━\u001b[0m\u001b[37m\u001b[0m \u001b[1m5s\u001b[0m 109ms/step - accuracy: 0.7307 - loss: 6.6295 - val_accuracy: 0.7163 - val_loss: 6.1873\n",
            "\u001b[1m50/50\u001b[0m \u001b[32m━━━━━━━━━━━━━━━━━━━━\u001b[0m\u001b[37m\u001b[0m \u001b[1m5s\u001b[0m 108ms/step - accuracy: 0.7114 - loss: 6.0565 - val_accuracy: 0.7538 - val_loss: 5.6362\n",
            "\u001b[1m125/125\u001b[0m \u001b[32m━━━━━━━━━━━━━━━━━━━━\u001b[0m\u001b[37m\u001b[0m \u001b[1m1s\u001b[0m 12ms/step - accuracy: 0.7360 - loss: 5.6517\n"
          ]
        },
        {
          "metadata": {
            "tags": null
          },
          "name": "stderr",
          "output_type": "stream",
          "text": [
            "[I 2024-08-14 13:34:21,083] Trial 42 finished with value: 0.7437499761581421 and parameters: {'num_layers': 4, 'filters_0': 118, 'filters_1': 78, 'filters_2': 45, 'filters_3': 42, 'kernel_size': 2, 'l1': 0.004300478894661527, 'l2': 1.3217913167259959e-05, 'dense_units': 244, 'dropout_rate': 0.3318318727177399, 'learning_rate': 0.00010241497512448901}. Best is trial 3 with value: 0.7682499885559082.\n"
          ]
        },
        {
          "metadata": {
            "tags": null
          },
          "name": "stdout",
          "output_type": "stream",
          "text": [
            "Trial 43 started with hyperparameters: num_layers=4, filters=[122, 70, 38, 56], kernel_size=2, l1=0.0005792203801054572, l2=3.287647778258223e-05, dense_units=157, dropout_rate=0.22450302762212637, learning_rate=0.00013567523268708613\n",
            "\u001b[1m50/50\u001b[0m \u001b[32m━━━━━━━━━━━━━━━━━━━━\u001b[0m\u001b[37m\u001b[0m \u001b[1m0s\u001b[0m 95ms/step - accuracy: 0.5120 - loss: 2.2156"
          ]
        },
        {
          "metadata": {
            "tags": null
          },
          "name": "stderr",
          "output_type": "stream",
          "text": [
            "[I 2024-08-14 13:36:02,157] Trial 43 pruned. Trial was pruned at epoch 0.\n"
          ]
        },
        {
          "metadata": {
            "tags": null
          },
          "name": "stdout",
          "output_type": "stream",
          "text": [
            "Trial 44 started with hyperparameters: num_layers=4, filters=[116, 99, 53, 47], kernel_size=2, l1=1.2129308714880708e-05, l2=7.982142963778612e-06, dense_units=229, dropout_rate=0.20117258395351467, learning_rate=0.0004284377369207679\n",
            "\u001b[1m50/50\u001b[0m \u001b[32m━━━━━━━━━━━━━━━━━━━━\u001b[0m\u001b[37m\u001b[0m \u001b[1m0s\u001b[0m 99ms/step - accuracy: 0.5136 - loss: 0.7413"
          ]
        },
        {
          "metadata": {
            "tags": null
          },
          "name": "stderr",
          "output_type": "stream",
          "text": [
            "[I 2024-08-14 13:37:44,601] Trial 44 pruned. Trial was pruned at epoch 0.\n"
          ]
        },
        {
          "metadata": {
            "tags": null
          },
          "name": "stdout",
          "output_type": "stream",
          "text": [
            "Trial 45 started with hyperparameters: num_layers=5, filters=[33, 116, 124, 63, 42], kernel_size=2, l1=0.0011548281005196183, l2=6.82534586130229e-05, dense_units=243, dropout_rate=0.30175042717156486, learning_rate=0.00021707060263290317\n",
            "\u001b[1m50/50\u001b[0m \u001b[32m━━━━━━━━━━━━━━━━━━━━\u001b[0m\u001b[37m\u001b[0m \u001b[1m14s\u001b[0m 133ms/step - accuracy: 0.5072 - loss: 6.2584 - val_accuracy: 0.7075 - val_loss: 5.3171\n",
            "\u001b[1m50/50\u001b[0m \u001b[32m━━━━━━━━━━━━━━━━━━━━\u001b[0m\u001b[37m\u001b[0m \u001b[1m3s\u001b[0m 62ms/step - accuracy: 0.6100 - loss: 5.0313 - val_accuracy: 0.6513 - val_loss: 4.2271\n",
            "\u001b[1m50/50\u001b[0m \u001b[32m━━━━━━━━━━━━━━━━━━━━\u001b[0m\u001b[37m\u001b[0m \u001b[1m3s\u001b[0m 63ms/step - accuracy: 0.6705 - loss: 3.9989 - val_accuracy: 0.7487 - val_loss: 3.3827\n",
            "\u001b[1m50/50\u001b[0m \u001b[32m━━━━━━━━━━━━━━━━━━━━\u001b[0m\u001b[37m\u001b[0m \u001b[1m3s\u001b[0m 63ms/step - accuracy: 0.7139 - loss: 3.2394 - val_accuracy: 0.7013 - val_loss: 2.8083\n",
            "\u001b[1m50/50\u001b[0m \u001b[32m━━━━━━━━━━━━━━━━━━━━\u001b[0m\u001b[37m\u001b[0m \u001b[1m3s\u001b[0m 63ms/step - accuracy: 0.7301 - loss: 2.6447 - val_accuracy: 0.7588 - val_loss: 2.2635\n",
            "\u001b[1m50/50\u001b[0m \u001b[32m━━━━━━━━━━━━━━━━━━━━\u001b[0m\u001b[37m\u001b[0m \u001b[1m3s\u001b[0m 63ms/step - accuracy: 0.7702 - loss: 2.1712 - val_accuracy: 0.7887 - val_loss: 1.8934\n",
            "\u001b[1m50/50\u001b[0m \u001b[32m━━━━━━━━━━━━━━━━━━━━\u001b[0m\u001b[37m\u001b[0m \u001b[1m3s\u001b[0m 63ms/step - accuracy: 0.7481 - loss: 1.8569 - val_accuracy: 0.7475 - val_loss: 1.6846\n",
            "\u001b[1m50/50\u001b[0m \u001b[32m━━━━━━━━━━━━━━━━━━━━\u001b[0m\u001b[37m\u001b[0m \u001b[1m3s\u001b[0m 63ms/step - accuracy: 0.7347 - loss: 1.6620 - val_accuracy: 0.7362 - val_loss: 1.5445\n",
            "\u001b[1m50/50\u001b[0m \u001b[32m━━━━━━━━━━━━━━━━━━━━\u001b[0m\u001b[37m\u001b[0m \u001b[1m3s\u001b[0m 63ms/step - accuracy: 0.7341 - loss: 1.5293 - val_accuracy: 0.7625 - val_loss: 1.4402\n",
            "\u001b[1m125/125\u001b[0m \u001b[32m━━━━━━━━━━━━━━━━━━━━\u001b[0m\u001b[37m\u001b[0m \u001b[1m1s\u001b[0m 7ms/step - accuracy: 0.7423 - loss: 1.4562\n"
          ]
        },
        {
          "metadata": {
            "tags": null
          },
          "name": "stderr",
          "output_type": "stream",
          "text": [
            "[I 2024-08-14 13:52:01,681] Trial 45 finished with value: 0.7522500157356262 and parameters: {'num_layers': 5, 'filters_0': 33, 'filters_1': 116, 'filters_2': 124, 'filters_3': 63, 'filters_4': 42, 'kernel_size': 2, 'l1': 0.0011548281005196183, 'l2': 6.82534586130229e-05, 'dense_units': 243, 'dropout_rate': 0.30175042717156486, 'learning_rate': 0.00021707060263290317}. Best is trial 3 with value: 0.7682499885559082.\n"
          ]
        },
        {
          "metadata": {
            "tags": null
          },
          "name": "stdout",
          "output_type": "stream",
          "text": [
            "Trial 46 started with hyperparameters: num_layers=5, filters=[112, 43, 60, 87, 127], kernel_size=2, l1=0.0002952400530666958, l2=1.884738739565822e-05, dense_units=214, dropout_rate=0.436914113952108, learning_rate=7.6295713773897e-05\n",
            "\u001b[1m50/50\u001b[0m \u001b[32m━━━━━━━━━━━━━━━━━━━━\u001b[0m\u001b[37m\u001b[0m \u001b[1m0s\u001b[0m 86ms/step - accuracy: 0.5167 - loss: 2.0008"
          ]
        },
        {
          "metadata": {
            "tags": null
          },
          "name": "stderr",
          "output_type": "stream",
          "text": [
            "[I 2024-08-14 13:53:41,554] Trial 46 pruned. Trial was pruned at epoch 0.\n"
          ]
        },
        {
          "metadata": {
            "tags": null
          },
          "name": "stdout",
          "output_type": "stream",
          "text": [
            "Trial 47 started with hyperparameters: num_layers=6, filters=[59, 83, 48, 75, 58, 94], kernel_size=2, l1=0.0012332994972151028, l2=1.731627827340267e-06, dense_units=201, dropout_rate=0.2588895262013154, learning_rate=5.6659167693474206e-05\n",
            "\u001b[1m50/50\u001b[0m \u001b[32m━━━━━━━━━━━━━━━━━━━━\u001b[0m\u001b[37m\u001b[0m \u001b[1m15s\u001b[0m 143ms/step - accuracy: 0.5102 - loss: 6.3653 - val_accuracy: 0.5375 - val_loss: 6.1413\n",
            "\u001b[1m50/50\u001b[0m \u001b[32m━━━━━━━━━━━━━━━━━━━━\u001b[0m\u001b[37m\u001b[0m \u001b[1m4s\u001b[0m 71ms/step - accuracy: 0.5443 - loss: 6.0679 - val_accuracy: 0.5788 - val_loss: 5.8495\n",
            "\u001b[1m50/50\u001b[0m \u001b[32m━━━━━━━━━━━━━━━━━━━━\u001b[0m\u001b[37m\u001b[0m \u001b[1m4s\u001b[0m 70ms/step - accuracy: 0.6069 - loss: 5.7774 - val_accuracy: 0.5550 - val_loss: 5.5662\n",
            "\u001b[1m50/50\u001b[0m \u001b[32m━━━━━━━━━━━━━━━━━━━━\u001b[0m\u001b[37m\u001b[0m \u001b[1m4s\u001b[0m 70ms/step - accuracy: 0.5997 - loss: 5.4976 - val_accuracy: 0.6637 - val_loss: 5.2937\n",
            "\u001b[1m50/50\u001b[0m \u001b[32m━━━━━━━━━━━━━━━━━━━━\u001b[0m\u001b[37m\u001b[0m \u001b[1m4s\u001b[0m 70ms/step - accuracy: 0.6708 - loss: 5.2263 - val_accuracy: 0.7163 - val_loss: 5.0268\n",
            "\u001b[1m50/50\u001b[0m \u001b[32m━━━━━━━━━━━━━━━━━━━━\u001b[0m\u001b[37m\u001b[0m \u001b[1m4s\u001b[0m 70ms/step - accuracy: 0.6917 - loss: 4.9641 - val_accuracy: 0.5612 - val_loss: 4.7771\n",
            "\u001b[1m50/50\u001b[0m \u001b[32m━━━━━━━━━━━━━━━━━━━━\u001b[0m\u001b[37m\u001b[0m \u001b[1m4s\u001b[0m 71ms/step - accuracy: 0.6113 - loss: 4.7145 - val_accuracy: 0.6712 - val_loss: 4.5366\n",
            "\u001b[1m50/50\u001b[0m \u001b[32m━━━━━━━━━━━━━━━━━━━━\u001b[0m\u001b[37m\u001b[0m \u001b[1m4s\u001b[0m 70ms/step - accuracy: 0.7055 - loss: 4.4658 - val_accuracy: 0.6712 - val_loss: 4.2972\n",
            "\u001b[1m50/50\u001b[0m \u001b[32m━━━━━━━━━━━━━━━━━━━━\u001b[0m\u001b[37m\u001b[0m \u001b[1m4s\u001b[0m 70ms/step - accuracy: 0.6885 - loss: 4.2436 - val_accuracy: 0.7225 - val_loss: 4.0779\n",
            "\u001b[1m125/125\u001b[0m \u001b[32m━━━━━━━━━━━━━━━━━━━━\u001b[0m\u001b[37m\u001b[0m \u001b[1m1s\u001b[0m 8ms/step - accuracy: 0.6998 - loss: 4.0934\n"
          ]
        },
        {
          "metadata": {
            "tags": null
          },
          "name": "stderr",
          "output_type": "stream",
          "text": [
            "[I 2024-08-14 14:08:02,602] Trial 47 finished with value: 0.7145000100135803 and parameters: {'num_layers': 6, 'filters_0': 59, 'filters_1': 83, 'filters_2': 48, 'filters_3': 75, 'filters_4': 58, 'filters_5': 94, 'kernel_size': 2, 'l1': 0.0012332994972151028, 'l2': 1.731627827340267e-06, 'dense_units': 201, 'dropout_rate': 0.2588895262013154, 'learning_rate': 5.6659167693474206e-05}. Best is trial 3 with value: 0.7682499885559082.\n"
          ]
        },
        {
          "metadata": {
            "tags": null
          },
          "name": "stdout",
          "output_type": "stream",
          "text": [
            "Trial 48 started with hyperparameters: num_layers=3, filters=[103, 89, 67], kernel_size=2, l1=5.010392531286037e-05, l2=2.8662140441190135e-05, dense_units=174, dropout_rate=0.1521269218011923, learning_rate=0.00016437147576239271\n",
            "\u001b[1m50/50\u001b[0m \u001b[32m━━━━━━━━━━━━━━━━━━━━\u001b[0m\u001b[37m\u001b[0m \u001b[1m0s\u001b[0m 91ms/step - accuracy: 0.5037 - loss: 0.8568"
          ]
        },
        {
          "metadata": {
            "tags": null
          },
          "name": "stderr",
          "output_type": "stream",
          "text": [
            "[I 2024-08-14 14:09:39,501] Trial 48 pruned. Trial was pruned at epoch 0.\n"
          ]
        },
        {
          "output_type": "stream",
          "name": "stdout",
          "text": [
            "Trial 49 started with hyperparameters: num_layers=4, filters=[49, 62, 82, 39], kernel_size=2, l1=0.003987074659485699, l2=4.657020954827509e-06, dense_units=189, dropout_rate=0.38592846434041694, learning_rate=3.343661598875031e-05\n",
            "\u001b[1m50/50\u001b[0m \u001b[32m━━━━━━━━━━━━━━━━━━━━\u001b[0m\u001b[37m\u001b[0m \u001b[1m12s\u001b[0m 115ms/step - accuracy: 0.5189 - loss: 10.4689 - val_accuracy: 0.6425 - val_loss: 10.2440\n",
            "\u001b[1m50/50\u001b[0m \u001b[32m━━━━━━━━━━━━━━━━━━━━\u001b[0m\u001b[37m\u001b[0m \u001b[1m3s\u001b[0m 59ms/step - accuracy: 0.5739 - loss: 10.1689 - val_accuracy: 0.6612 - val_loss: 9.9472\n",
            "\u001b[1m50/50\u001b[0m \u001b[32m━━━━━━━━━━━━━━━━━━━━\u001b[0m\u001b[37m\u001b[0m \u001b[1m3s\u001b[0m 59ms/step - accuracy: 0.6409 - loss: 9.8741 - val_accuracy: 0.5213 - val_loss: 9.6658\n",
            "\u001b[1m50/50\u001b[0m \u001b[32m━━━━━━━━━━━━━━━━━━━━\u001b[0m\u001b[37m\u001b[0m \u001b[1m3s\u001b[0m 59ms/step - accuracy: 0.6204 - loss: 9.5980 - val_accuracy: 0.6700 - val_loss: 9.3984\n",
            "\u001b[1m50/50\u001b[0m \u001b[32m━━━━━━━━━━━━━━━━━━━━\u001b[0m\u001b[37m\u001b[0m \u001b[1m3s\u001b[0m 59ms/step - accuracy: 0.6850 - loss: 9.3259 - val_accuracy: 0.7425 - val_loss: 9.1200\n",
            "\u001b[1m50/50\u001b[0m \u001b[32m━━━━━━━━━━━━━━━━━━━━\u001b[0m\u001b[37m\u001b[0m \u001b[1m3s\u001b[0m 59ms/step - accuracy: 0.7069 - loss: 9.0705 - val_accuracy: 0.6250 - val_loss: 8.8905\n",
            "\u001b[1m50/50\u001b[0m \u001b[32m━━━━━━━━━━━━━━━━━━━━\u001b[0m\u001b[37m\u001b[0m \u001b[1m3s\u001b[0m 59ms/step - accuracy: 0.6660 - loss: 8.8362 - val_accuracy: 0.6600 - val_loss: 8.6892\n",
            "\u001b[1m50/50\u001b[0m \u001b[32m━━━━━━━━━━━━━━━━━━━━\u001b[0m\u001b[37m\u001b[0m \u001b[1m3s\u001b[0m 59ms/step - accuracy: 0.6929 - loss: 8.5997 - val_accuracy: 0.6963 - val_loss: 8.4352\n",
            "\u001b[1m50/50\u001b[0m \u001b[32m━━━━━━━━━━━━━━━━━━━━\u001b[0m\u001b[37m\u001b[0m \u001b[1m3s\u001b[0m 59ms/step - accuracy: 0.6963 - loss: 8.3813 - val_accuracy: 0.7063 - val_loss: 8.2164\n",
            "\u001b[1m125/125\u001b[0m \u001b[32m━━━━━━━━━━━━━━━━━━━━\u001b[0m\u001b[37m\u001b[0m \u001b[1m1s\u001b[0m 6ms/step - accuracy: 0.6667 - loss: 8.2286\n"
          ]
        },
        {
          "output_type": "stream",
          "name": "stderr",
          "text": [
            "[I 2024-08-14 14:23:53,271] Trial 49 finished with value: 0.6812499761581421 and parameters: {'num_layers': 4, 'filters_0': 49, 'filters_1': 62, 'filters_2': 82, 'filters_3': 39, 'kernel_size': 2, 'l1': 0.003987074659485699, 'l2': 4.657020954827509e-06, 'dense_units': 189, 'dropout_rate': 0.38592846434041694, 'learning_rate': 3.343661598875031e-05}. Best is trial 3 with value: 0.7682499885559082.\n"
          ]
        },
        {
          "output_type": "stream",
          "name": "stdout",
          "text": [
            "Best trial:\n",
            "Value: 0.7682499885559082\n",
            "Params: \n",
            "    num_layers: 5\n",
            "    filters_0: 38\n",
            "    filters_1: 104\n",
            "    filters_2: 60\n",
            "    filters_3: 86\n",
            "    filters_4: 63\n",
            "    kernel_size: 2\n",
            "    l1: 5.178471083573243e-06\n",
            "    l2: 0.0001446019670236893\n",
            "    dense_units: 187\n",
            "    dropout_rate: 0.17884975602613437\n",
            "    learning_rate: 0.00015172597960847004\n",
            "Elapsed time: 19682.10 seconds\n"
          ]
        }
      ]
    },
    {
      "cell_type": "markdown",
      "source": [
        "Intermediate and moderate selection"
      ],
      "metadata": {
        "id": "DhFriEG3V3RK"
      }
    },
    {
      "cell_type": "code",
      "source": [
        "# Configure logging to file in the current directory with the specified name\n",
        "logging.basicConfig(filename='Intermediate_Scenarios_IM.log', level=logging.INFO,\n",
        "                    format='%(asctime)s:%(levelname)s:%(message)s')\n",
        "\n",
        "# Function to preprocess data\n",
        "def preprocess_data(simulations_folder, batch_number):\n",
        "    # Create ImaFile object for the specified simulation folder and model\n",
        "    file_sim = ImaFile(simulations_folder=os.path.join(simulations_folder, f'Simulations{batch_number}'), nr_samples=198, model_name='Marth-3epoch-CEU')\n",
        "\n",
        "    # Read the simulation data\n",
        "    gene_sim = file_sim.read_simulations(parameter_name='selection_coeff_hetero', max_nrepl=4000)\n",
        "\n",
        "    # Filter simulations based on frequency threshold\n",
        "    gene_sim.filter_freq(0.01)\n",
        "\n",
        "    # Sort simulations by row frequency\n",
        "    gene_sim.sort('rows_freq')\n",
        "\n",
        "    # Resize simulation data to the required dimensions\n",
        "    gene_sim.resize((198, 192))\n",
        "\n",
        "    # Convert simulation data (flip=True allows for data augmentation)\n",
        "    gene_sim.convert(flip=True)\n",
        "\n",
        "    # Get a random subset of indices and subset the simulation data\n",
        "    gene_sim.subset(get_index_random(gene_sim))\n",
        "\n",
        "    # Convert targets to binary format\n",
        "    gene_sim.targets = to_binary(gene_sim.targets)\n",
        "\n",
        "    return gene_sim\n",
        "\n",
        "# Objective function for Optuna optimization\n",
        "def objective(trial, simulations_folder, epochs=1):\n",
        "    # Set random seed\n",
        "    np.random.seed(42)\n",
        "    tf.random.set_seed(42)\n",
        "\n",
        "    # Hyperparameters to be optimized\n",
        "    num_layers = trial.suggest_int('num_layers', 3, 6)  # Limit the number of layers to avoid excessive reduction\n",
        "    filters = [trial.suggest_int(f'filters_{i}', 32, 128) for i in range(num_layers)]  # Adjust filters range\n",
        "    kernel_size = trial.suggest_int('kernel_size', 2, 3)  # Limit the kernel size to avoid excessive reduction\n",
        "    l1 = trial.suggest_float('l1', 1e-6, 1e-2, log=True)\n",
        "    l2 = trial.suggest_float('l2', 1e-6, 1e-2, log=True)\n",
        "    dense_units = trial.suggest_int('dense_units', 64, 256)  # Adjust dense units range\n",
        "    dropout_rate = trial.suggest_float('dropout_rate', 0.1, 0.5)\n",
        "    learning_rate = trial.suggest_float('learning_rate', 1e-5, 1e-3, log=True)\n",
        "\n",
        "    # Log the hyperparameters at the start of each trial\n",
        "    logging.info(f'Trial {trial.number} started with hyperparameters: num_layers={num_layers}, filters={filters}, '\n",
        "                 f'kernel_size={kernel_size}, l1={l1}, l2={l2}, dense_units={dense_units}, '\n",
        "                 f'dropout_rate={dropout_rate}, learning_rate={learning_rate}')\n",
        "    print(f'Trial {trial.number} started with hyperparameters: num_layers={num_layers}, filters={filters}, '\n",
        "          f'kernel_size={kernel_size}, l1={l1}, l2={l2}, dense_units={dense_units}, '\n",
        "          f'dropout_rate={dropout_rate}, learning_rate={learning_rate}')\n",
        "\n",
        "    # Building the model based on sampled hyperparameters\n",
        "    model = models.Sequential()\n",
        "    model.add(layers.Input(shape=(198, 192, 1)))  # Define the input layer\n",
        "    for i in range(num_layers):\n",
        "        model.add(layers.Conv2D(filters=filters[i], kernel_size=(kernel_size, kernel_size), strides=(1, 1), activation='relu',\n",
        "                                kernel_regularizer=regularizers.l1_l2(l1=l1, l2=l2), padding='same'))  # Use 'same' padding to avoid dimension issues\n",
        "        model.add(layers.MaxPooling2D(pool_size=(2, 2)))\n",
        "\n",
        "    model.add(layers.Flatten())  # Flatten the output for the Dense layers\n",
        "    model.add(layers.Dense(units=dense_units, activation='relu'))  # Add Dense layer\n",
        "    model.add(layers.Dropout(rate=dropout_rate))  # Add Dropout layer\n",
        "    model.add(layers.Dense(units=1, activation='sigmoid'))  # Output layer with sigmoid activation\n",
        "\n",
        "    optimizer = tf.keras.optimizers.Adam(learning_rate=learning_rate)  # Define optimizer\n",
        "    model.compile(optimizer=optimizer, loss='binary_crossentropy', metrics=['accuracy'])  # Compile the model\n",
        "\n",
        "    # Pruning callback to terminate unpromising trials\n",
        "    pruning_callback = TFKerasPruningCallback(trial, 'val_loss')\n",
        "\n",
        "    # Early stopping to prevent overfitting\n",
        "    early_stopping = EarlyStopping(monitor='val_loss', patience=3, restore_best_weights=True)\n",
        "\n",
        "    # Incremental training on 9 batches\n",
        "    best_val_loss = np.inf  # Track the best validation loss\n",
        "    for batch_number in range(1, 10):\n",
        "        gene_sim = preprocess_data(simulations_folder, batch_number)  # Preprocess data\n",
        "        history = model.fit(gene_sim.data, gene_sim.targets, batch_size=64, epochs=epochs, verbose=1, validation_split=0.2,\n",
        "                            callbacks=[early_stopping, pruning_callback])  # Train the model with callbacks\n",
        "\n",
        "        # Get the validation loss for the current epoch\n",
        "        val_loss = min(history.history['val_loss'])\n",
        "        if val_loss < best_val_loss:\n",
        "            best_val_loss = val_loss\n",
        "            trial.report(val_loss, batch_number)\n",
        "            if trial.should_prune():\n",
        "                raise optuna.exceptions.TrialPruned()\n",
        "\n",
        "    # Evaluate the model on the 10th batch\n",
        "    gene_sim = preprocess_data(simulations_folder, 10)\n",
        "    evaluation = model.evaluate(gene_sim.data, gene_sim.targets, verbose=1)\n",
        "    return evaluation[1]  # Return the accuracy\n",
        "\n",
        "# Function to run the optimization process\n",
        "def run_optimization():\n",
        "    start_time = time.time()  # Record start time\n",
        "\n",
        "    simulations_folder = '/content/EvoNet-CNN-Insight/model_training/intermediate_moderate/IM'  # Folder for this dataset\n",
        "    logging.info(f\"Starting optimization for {simulations_folder}\")\n",
        "    print(f\"Starting optimization for {simulations_folder}\")\n",
        "\n",
        "    # Create an Optuna study and optimize the objective function\n",
        "    study = optuna.create_study(direction='maximize', pruner=optuna.pruners.MedianPruner(), storage='sqlite:///im_study.db', load_if_exists=True)  # Use SQLite storage\n",
        "    study.optimize(lambda trial: objective(trial, simulations_folder), n_trials=50)  # Set to 50 trials\n",
        "\n",
        "    try:\n",
        "        trial = study.best_trial\n",
        "        print('Best trial:')\n",
        "        print('Value: {}'.format(trial.value))\n",
        "        print('Params: ')\n",
        "        for key, value in trial.params.items():\n",
        "            print('    {}: {}'.format(key, value))  # Print best trial parameters\n",
        "\n",
        "        logging.info('Best trial:')\n",
        "        logging.info('Value: {}'.format(trial.value))\n",
        "        logging.info('Params: ')\n",
        "        for key, value in trial.params.items():\n",
        "            logging.info('    {}: {}'.format(key, value))  # Log best trial parameters\n",
        "\n",
        "    except ValueError as e:\n",
        "        logging.error(f\"No completed trials: {e}\")  # Log error if no trials are completed\n",
        "\n",
        "    elapsed_time = time.time() - start_time  # Calculate elapsed time\n",
        "    print(f\"Elapsed time: {elapsed_time:.2f} seconds\")\n",
        "    logging.info(f\"Elapsed time: {elapsed_time:.2f} seconds\")  # Log elapsed time\n",
        "\n",
        "# Run the optimization process\n",
        "if __name__ == '__main__':\n",
        "    run_optimization()  # Execute the optimization function"
      ],
      "metadata": {
        "colab": {
          "base_uri": "https://localhost:8080/"
        },
        "id": "F7xinvhHV6nD",
        "outputId": "dd7fffcb-2fed-44aa-c7e2-29a239eb366b"
      },
      "execution_count": null,
      "outputs": [
        {
          "metadata": {
            "tags": null
          },
          "name": "stdout",
          "output_type": "stream",
          "text": [
            "Starting optimization for /content/EvoNet-CNN-Insight/model_training/intermediate_moderate/IM\n"
          ]
        },
        {
          "metadata": {
            "tags": null
          },
          "name": "stderr",
          "output_type": "stream",
          "text": [
            "[I 2024-08-14 14:45:00,480] A new study created in RDB with name: no-name-e80ac72b-ff86-42f2-89a8-6571a2b7ac24\n"
          ]
        },
        {
          "metadata": {
            "tags": null
          },
          "name": "stdout",
          "output_type": "stream",
          "text": [
            "Trial 0 started with hyperparameters: num_layers=4, filters=[34, 79, 46, 128], kernel_size=2, l1=0.00028388247327834105, l2=0.000465838511968768, dense_units=84, dropout_rate=0.3457305709638745, learning_rate=0.0002843109150332335\n",
            "\u001b[1m50/50\u001b[0m \u001b[32m━━━━━━━━━━━━━━━━━━━━\u001b[0m\u001b[37m\u001b[0m \u001b[1m12s\u001b[0m 104ms/step - accuracy: 0.5116 - loss: 1.4596 - val_accuracy: 0.6988 - val_loss: 1.3004\n",
            "\u001b[1m50/50\u001b[0m \u001b[32m━━━━━━━━━━━━━━━━━━━━\u001b[0m\u001b[37m\u001b[0m \u001b[1m3s\u001b[0m 51ms/step - accuracy: 0.7010 - loss: 1.2372 - val_accuracy: 0.7775 - val_loss: 1.0551\n",
            "\u001b[1m50/50\u001b[0m \u001b[32m━━━━━━━━━━━━━━━━━━━━\u001b[0m\u001b[37m\u001b[0m \u001b[1m3s\u001b[0m 51ms/step - accuracy: 0.7590 - loss: 1.0467 - val_accuracy: 0.7588 - val_loss: 0.9997\n",
            "\u001b[1m50/50\u001b[0m \u001b[32m━━━━━━━━━━━━━━━━━━━━\u001b[0m\u001b[37m\u001b[0m \u001b[1m3s\u001b[0m 51ms/step - accuracy: 0.7712 - loss: 0.9679 - val_accuracy: 0.7588 - val_loss: 0.9235\n",
            "\u001b[1m50/50\u001b[0m \u001b[32m━━━━━━━━━━━━━━━━━━━━\u001b[0m\u001b[37m\u001b[0m \u001b[1m3s\u001b[0m 51ms/step - accuracy: 0.7575 - loss: 0.9183 - val_accuracy: 0.7513 - val_loss: 0.8896\n",
            "\u001b[1m50/50\u001b[0m \u001b[32m━━━━━━━━━━━━━━━━━━━━\u001b[0m\u001b[37m\u001b[0m \u001b[1m3s\u001b[0m 51ms/step - accuracy: 0.7655 - loss: 0.8590 - val_accuracy: 0.7663 - val_loss: 0.8361\n",
            "\u001b[1m50/50\u001b[0m \u001b[32m━━━━━━━━━━━━━━━━━━━━\u001b[0m\u001b[37m\u001b[0m \u001b[1m3s\u001b[0m 51ms/step - accuracy: 0.7635 - loss: 0.8542 - val_accuracy: 0.7387 - val_loss: 0.8519\n",
            "\u001b[1m50/50\u001b[0m \u001b[32m━━━━━━━━━━━━━━━━━━━━\u001b[0m\u001b[37m\u001b[0m \u001b[1m3s\u001b[0m 51ms/step - accuracy: 0.7664 - loss: 0.8258 - val_accuracy: 0.7713 - val_loss: 0.7958\n",
            "\u001b[1m50/50\u001b[0m \u001b[32m━━━━━━━━━━━━━━━━━━━━\u001b[0m\u001b[37m\u001b[0m \u001b[1m3s\u001b[0m 51ms/step - accuracy: 0.7723 - loss: 0.8074 - val_accuracy: 0.7663 - val_loss: 0.7899\n",
            "\u001b[1m125/125\u001b[0m \u001b[32m━━━━━━━━━━━━━━━━━━━━\u001b[0m\u001b[37m\u001b[0m \u001b[1m1s\u001b[0m 6ms/step - accuracy: 0.7755 - loss: 0.7756\n"
          ]
        },
        {
          "metadata": {
            "tags": null
          },
          "name": "stderr",
          "output_type": "stream",
          "text": [
            "[I 2024-08-14 14:59:03,911] Trial 0 finished with value: 0.7795000076293945 and parameters: {'num_layers': 4, 'filters_0': 34, 'filters_1': 79, 'filters_2': 46, 'filters_3': 128, 'kernel_size': 2, 'l1': 0.00028388247327834105, 'l2': 0.000465838511968768, 'dense_units': 84, 'dropout_rate': 0.3457305709638745, 'learning_rate': 0.0002843109150332335}. Best is trial 0 with value: 0.7795000076293945.\n"
          ]
        },
        {
          "metadata": {
            "tags": null
          },
          "name": "stdout",
          "output_type": "stream",
          "text": [
            "Trial 1 started with hyperparameters: num_layers=6, filters=[97, 75, 117, 115, 51, 100], kernel_size=2, l1=9.642593640517168e-05, l2=5.3313246214758025e-06, dense_units=135, dropout_rate=0.4852022664041491, learning_rate=0.00045541177527236374\n",
            "\u001b[1m50/50\u001b[0m \u001b[32m━━━━━━━━━━━━━━━━━━━━\u001b[0m\u001b[37m\u001b[0m \u001b[1m20s\u001b[0m 190ms/step - accuracy: 0.5083 - loss: 1.3331 - val_accuracy: 0.5000 - val_loss: 1.1595\n",
            "\u001b[1m50/50\u001b[0m \u001b[32m━━━━━━━━━━━━━━━━━━━━\u001b[0m\u001b[37m\u001b[0m \u001b[1m5s\u001b[0m 100ms/step - accuracy: 0.5067 - loss: 1.1084 - val_accuracy: 0.5200 - val_loss: 0.9711\n",
            "\u001b[1m50/50\u001b[0m \u001b[32m━━━━━━━━━━━━━━━━━━━━\u001b[0m\u001b[37m\u001b[0m \u001b[1m5s\u001b[0m 100ms/step - accuracy: 0.5024 - loss: 0.9342 - val_accuracy: 0.5275 - val_loss: 0.8392\n",
            "\u001b[1m50/50\u001b[0m \u001b[32m━━━━━━━━━━━━━━━━━━━━\u001b[0m\u001b[37m\u001b[0m \u001b[1m5s\u001b[0m 100ms/step - accuracy: 0.5191 - loss: 0.8177 - val_accuracy: 0.4938 - val_loss: 0.7691\n",
            "\u001b[1m50/50\u001b[0m \u001b[32m━━━━━━━━━━━━━━━━━━━━\u001b[0m\u001b[37m\u001b[0m \u001b[1m5s\u001b[0m 100ms/step - accuracy: 0.5018 - loss: 0.7599 - val_accuracy: 0.4925 - val_loss: 0.7381\n",
            "\u001b[1m50/50\u001b[0m \u001b[32m━━━━━━━━━━━━━━━━━━━━\u001b[0m\u001b[37m\u001b[0m \u001b[1m5s\u001b[0m 100ms/step - accuracy: 0.5074 - loss: 0.7333 - val_accuracy: 0.6225 - val_loss: 0.7216\n",
            "\u001b[1m50/50\u001b[0m \u001b[32m━━━━━━━━━━━━━━━━━━━━\u001b[0m\u001b[37m\u001b[0m \u001b[1m5s\u001b[0m 100ms/step - accuracy: 0.5104 - loss: 0.7194 - val_accuracy: 0.5400 - val_loss: 0.7124\n",
            "\u001b[1m50/50\u001b[0m \u001b[32m━━━━━━━━━━━━━━━━━━━━\u001b[0m\u001b[37m\u001b[0m \u001b[1m5s\u001b[0m 100ms/step - accuracy: 0.5172 - loss: 0.7106 - val_accuracy: 0.4787 - val_loss: 0.7060\n",
            "\u001b[1m50/50\u001b[0m \u001b[32m━━━━━━━━━━━━━━━━━━━━\u001b[0m\u001b[37m\u001b[0m \u001b[1m5s\u001b[0m 100ms/step - accuracy: 0.5119 - loss: 0.7048 - val_accuracy: 0.5025 - val_loss: 0.7014\n",
            "\u001b[1m125/125\u001b[0m \u001b[32m━━━━━━━━━━━━━━━━━━━━\u001b[0m\u001b[37m\u001b[0m \u001b[1m1s\u001b[0m 11ms/step - accuracy: 0.4971 - loss: 0.7015\n"
          ]
        },
        {
          "metadata": {
            "tags": null
          },
          "name": "stderr",
          "output_type": "stream",
          "text": [
            "[I 2024-08-14 15:13:35,138] Trial 1 finished with value: 0.5 and parameters: {'num_layers': 6, 'filters_0': 97, 'filters_1': 75, 'filters_2': 117, 'filters_3': 115, 'filters_4': 51, 'filters_5': 100, 'kernel_size': 2, 'l1': 9.642593640517168e-05, 'l2': 5.3313246214758025e-06, 'dense_units': 135, 'dropout_rate': 0.4852022664041491, 'learning_rate': 0.00045541177527236374}. Best is trial 0 with value: 0.7795000076293945.\n"
          ]
        },
        {
          "metadata": {
            "tags": null
          },
          "name": "stdout",
          "output_type": "stream",
          "text": [
            "Trial 2 started with hyperparameters: num_layers=4, filters=[105, 44, 85, 102], kernel_size=3, l1=2.8717172360735456e-06, l2=0.0026994868997402767, dense_units=173, dropout_rate=0.3478299576563249, learning_rate=1.8397814631107485e-05\n",
            "\u001b[1m50/50\u001b[0m \u001b[32m━━━━━━━━━━━━━━━━━━━━\u001b[0m\u001b[37m\u001b[0m \u001b[1m19s\u001b[0m 193ms/step - accuracy: 0.5080 - loss: 1.2826 - val_accuracy: 0.4975 - val_loss: 1.2669\n",
            "\u001b[1m50/50\u001b[0m \u001b[32m━━━━━━━━━━━━━━━━━━━━\u001b[0m\u001b[37m\u001b[0m \u001b[1m5s\u001b[0m 99ms/step - accuracy: 0.5365 - loss: 1.2617 - val_accuracy: 0.5238 - val_loss: 1.2435\n",
            "\u001b[1m50/50\u001b[0m \u001b[32m━━━━━━━━━━━━━━━━━━━━\u001b[0m\u001b[37m\u001b[0m \u001b[1m5s\u001b[0m 99ms/step - accuracy: 0.6158 - loss: 1.2351 - val_accuracy: 0.4913 - val_loss: 1.2239\n",
            "\u001b[1m50/50\u001b[0m \u001b[32m━━━━━━━━━━━━━━━━━━━━\u001b[0m\u001b[37m\u001b[0m \u001b[1m5s\u001b[0m 99ms/step - accuracy: 0.6014 - loss: 1.2031 - val_accuracy: 0.7300 - val_loss: 1.1587\n",
            "\u001b[1m50/50\u001b[0m \u001b[32m━━━━━━━━━━━━━━━━━━━━\u001b[0m\u001b[37m\u001b[0m \u001b[1m5s\u001b[0m 99ms/step - accuracy: 0.7087 - loss: 1.1499 - val_accuracy: 0.7362 - val_loss: 1.1083\n",
            "\u001b[1m50/50\u001b[0m \u001b[32m━━━━━━━━━━━━━━━━━━━━\u001b[0m\u001b[37m\u001b[0m \u001b[1m5s\u001b[0m 99ms/step - accuracy: 0.7302 - loss: 1.0926 - val_accuracy: 0.7113 - val_loss: 1.0897\n",
            "\u001b[1m50/50\u001b[0m \u001b[32m━━━━━━━━━━━━━━━━━━━━\u001b[0m\u001b[37m\u001b[0m \u001b[1m5s\u001b[0m 99ms/step - accuracy: 0.7391 - loss: 1.0573 - val_accuracy: 0.7050 - val_loss: 1.0715\n",
            "\u001b[1m50/50\u001b[0m \u001b[32m━━━━━━━━━━━━━━━━━━━━\u001b[0m\u001b[37m\u001b[0m \u001b[1m5s\u001b[0m 99ms/step - accuracy: 0.7418 - loss: 1.0216 - val_accuracy: 0.7513 - val_loss: 1.0089\n",
            "\u001b[1m50/50\u001b[0m \u001b[32m━━━━━━━━━━━━━━━━━━━━\u001b[0m\u001b[37m\u001b[0m \u001b[1m5s\u001b[0m 99ms/step - accuracy: 0.7574 - loss: 1.0017 - val_accuracy: 0.7563 - val_loss: 0.9870\n",
            "\u001b[1m125/125\u001b[0m \u001b[32m━━━━━━━━━━━━━━━━━━━━\u001b[0m\u001b[37m\u001b[0m \u001b[1m1s\u001b[0m 11ms/step - accuracy: 0.7502 - loss: 0.9896\n"
          ]
        },
        {
          "metadata": {
            "tags": null
          },
          "name": "stderr",
          "output_type": "stream",
          "text": [
            "[I 2024-08-14 15:28:20,619] Trial 2 finished with value: 0.7507500052452087 and parameters: {'num_layers': 4, 'filters_0': 105, 'filters_1': 44, 'filters_2': 85, 'filters_3': 102, 'kernel_size': 3, 'l1': 2.8717172360735456e-06, 'l2': 0.0026994868997402767, 'dense_units': 173, 'dropout_rate': 0.3478299576563249, 'learning_rate': 1.8397814631107485e-05}. Best is trial 0 with value: 0.7795000076293945.\n"
          ]
        },
        {
          "metadata": {
            "tags": null
          },
          "name": "stdout",
          "output_type": "stream",
          "text": [
            "Trial 3 started with hyperparameters: num_layers=5, filters=[58, 108, 107, 90, 84], kernel_size=2, l1=0.003055103501293051, l2=0.004136757990618889, dense_units=130, dropout_rate=0.22842171588074012, learning_rate=0.0008751924789550026\n",
            "\u001b[1m50/50\u001b[0m \u001b[32m━━━━━━━━━━━━━━━━━━━━\u001b[0m\u001b[37m\u001b[0m \u001b[1m16s\u001b[0m 158ms/step - accuracy: 0.5060 - loss: 16.7050 - val_accuracy: 0.5175 - val_loss: 6.1556\n",
            "\u001b[1m50/50\u001b[0m \u001b[32m━━━━━━━━━━━━━━━━━━━━\u001b[0m\u001b[37m\u001b[0m \u001b[1m4s\u001b[0m 78ms/step - accuracy: 0.5072 - loss: 4.2474 - val_accuracy: 0.4800 - val_loss: 0.9838\n",
            "\u001b[1m50/50\u001b[0m \u001b[32m━━━━━━━━━━━━━━━━━━━━\u001b[0m\u001b[37m\u001b[0m \u001b[1m4s\u001b[0m 77ms/step - accuracy: 0.4957 - loss: 0.8671 - val_accuracy: 0.4725 - val_loss: 0.7497\n",
            "\u001b[1m50/50\u001b[0m \u001b[32m━━━━━━━━━━━━━━━━━━━━\u001b[0m\u001b[37m\u001b[0m \u001b[1m4s\u001b[0m 78ms/step - accuracy: 0.4958 - loss: 0.7460 - val_accuracy: 0.5063 - val_loss: 0.7416\n",
            "\u001b[1m50/50\u001b[0m \u001b[32m━━━━━━━━━━━━━━━━━━━━\u001b[0m\u001b[37m\u001b[0m \u001b[1m4s\u001b[0m 77ms/step - accuracy: 0.4878 - loss: 0.7414 - val_accuracy: 0.5088 - val_loss: 0.7407\n",
            "\u001b[1m50/50\u001b[0m \u001b[32m━━━━━━━━━━━━━━━━━━━━\u001b[0m\u001b[37m\u001b[0m \u001b[1m4s\u001b[0m 77ms/step - accuracy: 0.4933 - loss: 0.7409 - val_accuracy: 0.5050 - val_loss: 0.7406\n",
            "\u001b[1m50/50\u001b[0m \u001b[32m━━━━━━━━━━━━━━━━━━━━\u001b[0m\u001b[37m\u001b[0m \u001b[1m4s\u001b[0m 77ms/step - accuracy: 0.4835 - loss: 0.7407 - val_accuracy: 0.4663 - val_loss: 0.7405\n",
            "\u001b[1m50/50\u001b[0m \u001b[32m━━━━━━━━━━━━━━━━━━━━\u001b[0m\u001b[37m\u001b[0m \u001b[1m4s\u001b[0m 77ms/step - accuracy: 0.5091 - loss: 0.7405 - val_accuracy: 0.4787 - val_loss: 0.7404\n",
            "\u001b[1m50/50\u001b[0m \u001b[32m━━━━━━━━━━━━━━━━━━━━\u001b[0m\u001b[37m\u001b[0m \u001b[1m4s\u001b[0m 77ms/step - accuracy: 0.5066 - loss: 0.7403 - val_accuracy: 0.5025 - val_loss: 0.7403\n",
            "\u001b[1m125/125\u001b[0m \u001b[32m━━━━━━━━━━━━━━━━━━━━\u001b[0m\u001b[37m\u001b[0m \u001b[1m1s\u001b[0m 9ms/step - accuracy: 0.4971 - loss: 0.7404\n"
          ]
        },
        {
          "metadata": {
            "tags": null
          },
          "name": "stderr",
          "output_type": "stream",
          "text": [
            "[I 2024-08-14 15:42:43,570] Trial 3 finished with value: 0.5 and parameters: {'num_layers': 5, 'filters_0': 58, 'filters_1': 108, 'filters_2': 107, 'filters_3': 90, 'filters_4': 84, 'kernel_size': 2, 'l1': 0.003055103501293051, 'l2': 0.004136757990618889, 'dense_units': 130, 'dropout_rate': 0.22842171588074012, 'learning_rate': 0.0008751924789550026}. Best is trial 0 with value: 0.7795000076293945.\n"
          ]
        },
        {
          "metadata": {
            "tags": null
          },
          "name": "stdout",
          "output_type": "stream",
          "text": [
            "Trial 4 started with hyperparameters: num_layers=5, filters=[119, 64, 86, 99, 86], kernel_size=2, l1=6.486323712873669e-06, l2=1.7399490958771606e-06, dense_units=189, dropout_rate=0.2930131796499318, learning_rate=7.769263207030109e-05\n",
            "\u001b[1m50/50\u001b[0m \u001b[32m━━━━━━━━━━━━━━━━━━━━\u001b[0m\u001b[37m\u001b[0m \u001b[1m16s\u001b[0m 165ms/step - accuracy: 0.4970 - loss: 0.7297 - val_accuracy: 0.5525 - val_loss: 0.7270\n",
            "\u001b[1m50/50\u001b[0m \u001b[32m━━━━━━━━━━━━━━━━━━━━\u001b[0m\u001b[37m\u001b[0m \u001b[1m5s\u001b[0m 102ms/step - accuracy: 0.5433 - loss: 0.7253 - val_accuracy: 0.7038 - val_loss: 0.7133\n",
            "\u001b[1m50/50\u001b[0m \u001b[32m━━━━━━━━━━━━━━━━━━━━\u001b[0m\u001b[37m\u001b[0m \u001b[1m5s\u001b[0m 102ms/step - accuracy: 0.6972 - loss: 0.6968 - val_accuracy: 0.7575 - val_loss: 0.6090\n",
            "\u001b[1m50/50\u001b[0m \u001b[32m━━━━━━━━━━━━━━━━━━━━\u001b[0m\u001b[37m\u001b[0m \u001b[1m5s\u001b[0m 102ms/step - accuracy: 0.7404 - loss: 0.5828 - val_accuracy: 0.7588 - val_loss: 0.5340\n",
            "\u001b[1m50/50\u001b[0m \u001b[32m━━━━━━━━━━━━━━━━━━━━\u001b[0m\u001b[37m\u001b[0m \u001b[1m5s\u001b[0m 102ms/step - accuracy: 0.7624 - loss: 0.5340 - val_accuracy: 0.7300 - val_loss: 0.5571\n",
            "\u001b[1m50/50\u001b[0m \u001b[32m━━━━━━━━━━━━━━━━━━━━\u001b[0m\u001b[37m\u001b[0m \u001b[1m5s\u001b[0m 102ms/step - accuracy: 0.7774 - loss: 0.5133 - val_accuracy: 0.7713 - val_loss: 0.5345\n",
            "\u001b[1m50/50\u001b[0m \u001b[32m━━━━━━━━━━━━━━━━━━━━\u001b[0m\u001b[37m\u001b[0m \u001b[1m5s\u001b[0m 102ms/step - accuracy: 0.7707 - loss: 0.5260 - val_accuracy: 0.7100 - val_loss: 0.5978\n",
            "\u001b[1m50/50\u001b[0m \u001b[32m━━━━━━━━━━━━━━━━━━━━\u001b[0m\u001b[37m\u001b[0m \u001b[1m5s\u001b[0m 102ms/step - accuracy: 0.7526 - loss: 0.5320 - val_accuracy: 0.7575 - val_loss: 0.5124\n",
            "\u001b[1m50/50\u001b[0m \u001b[32m━━━━━━━━━━━━━━━━━━━━\u001b[0m\u001b[37m\u001b[0m \u001b[1m5s\u001b[0m 102ms/step - accuracy: 0.7709 - loss: 0.5194 - val_accuracy: 0.7638 - val_loss: 0.5019\n",
            "\u001b[1m125/125\u001b[0m \u001b[32m━━━━━━━━━━━━━━━━━━━━\u001b[0m\u001b[37m\u001b[0m \u001b[1m1s\u001b[0m 11ms/step - accuracy: 0.7673 - loss: 0.4996\n"
          ]
        },
        {
          "metadata": {
            "tags": null
          },
          "name": "stderr",
          "output_type": "stream",
          "text": [
            "[I 2024-08-14 15:57:14,070] Trial 4 finished with value: 0.7720000147819519 and parameters: {'num_layers': 5, 'filters_0': 119, 'filters_1': 64, 'filters_2': 86, 'filters_3': 99, 'filters_4': 86, 'kernel_size': 2, 'l1': 6.486323712873669e-06, 'l2': 1.7399490958771606e-06, 'dense_units': 189, 'dropout_rate': 0.2930131796499318, 'learning_rate': 7.769263207030109e-05}. Best is trial 0 with value: 0.7795000076293945.\n"
          ]
        },
        {
          "metadata": {
            "tags": null
          },
          "name": "stdout",
          "output_type": "stream",
          "text": [
            "Trial 5 started with hyperparameters: num_layers=3, filters=[83, 89, 69], kernel_size=3, l1=1.851885577650634e-05, l2=0.0006859331728223681, dense_units=236, dropout_rate=0.3523469658134337, learning_rate=1.3958689859157645e-05\n",
            "\u001b[1m50/50\u001b[0m \u001b[32m━━━━━━━━━━━━━━━━━━━━\u001b[0m\u001b[37m\u001b[0m \u001b[1m0s\u001b[0m 89ms/step - accuracy: 0.5107 - loss: 0.8768"
          ]
        },
        {
          "metadata": {
            "tags": null
          },
          "name": "stderr",
          "output_type": "stream",
          "text": [
            "[I 2024-08-14 15:58:55,602] Trial 5 pruned. Trial was pruned at epoch 0.\n"
          ]
        },
        {
          "metadata": {
            "tags": null
          },
          "name": "stdout",
          "output_type": "stream",
          "text": [
            "Trial 6 started with hyperparameters: num_layers=4, filters=[53, 38, 108, 95], kernel_size=2, l1=1.1788352156674252e-05, l2=0.0005709980725594006, dense_units=133, dropout_rate=0.23046977013646897, learning_rate=6.809279488425575e-05\n",
            "\u001b[1m50/50\u001b[0m \u001b[32m━━━━━━━━━━━━━━━━━━━━\u001b[0m\u001b[37m\u001b[0m \u001b[1m0s\u001b[0m 53ms/step - accuracy: 0.5225 - loss: 0.8418"
          ]
        },
        {
          "metadata": {
            "tags": null
          },
          "name": "stderr",
          "output_type": "stream",
          "text": [
            "[I 2024-08-14 16:00:29,345] Trial 6 pruned. Trial was pruned at epoch 0.\n"
          ]
        },
        {
          "metadata": {
            "tags": null
          },
          "name": "stdout",
          "output_type": "stream",
          "text": [
            "Trial 7 started with hyperparameters: num_layers=6, filters=[93, 113, 123, 99, 82, 60], kernel_size=2, l1=0.002726508156379498, l2=0.0023120018742244478, dense_units=225, dropout_rate=0.4201309476438476, learning_rate=0.0001943304270714409\n",
            "\u001b[1m50/50\u001b[0m \u001b[32m━━━━━━━━━━━━━━━━━━━━\u001b[0m\u001b[37m\u001b[0m \u001b[1m21s\u001b[0m 204ms/step - accuracy: 0.5011 - loss: 23.6884 - val_accuracy: 0.6300 - val_loss: 19.7762\n",
            "\u001b[1m50/50\u001b[0m \u001b[32m━━━━━━━━━━━━━━━━━━━━\u001b[0m\u001b[37m\u001b[0m \u001b[1m5s\u001b[0m 105ms/step - accuracy: 0.5372 - loss: 18.5837 - val_accuracy: 0.4800 - val_loss: 15.1899\n",
            "\u001b[1m50/50\u001b[0m \u001b[32m━━━━━━━━━━━━━━━━━━━━\u001b[0m\u001b[37m\u001b[0m \u001b[1m5s\u001b[0m 105ms/step - accuracy: 0.5236 - loss: 14.1676 - val_accuracy: 0.5275 - val_loss: 11.2806\n",
            "\u001b[1m50/50\u001b[0m \u001b[32m━━━━━━━━━━━━━━━━━━━━\u001b[0m\u001b[37m\u001b[0m \u001b[1m5s\u001b[0m 105ms/step - accuracy: 0.5190 - loss: 10.4244 - val_accuracy: 0.4938 - val_loss: 8.0302\n",
            "\u001b[1m50/50\u001b[0m \u001b[32m━━━━━━━━━━━━━━━━━━━━\u001b[0m\u001b[37m\u001b[0m \u001b[1m5s\u001b[0m 105ms/step - accuracy: 0.5017 - loss: 7.3348 - val_accuracy: 0.4913 - val_loss: 5.4173\n",
            "\u001b[1m50/50\u001b[0m \u001b[32m━━━━━━━━━━━━━━━━━━━━\u001b[0m\u001b[37m\u001b[0m \u001b[1m5s\u001b[0m 106ms/step - accuracy: 0.4921 - loss: 4.8759 - val_accuracy: 0.5050 - val_loss: 3.4117\n",
            "\u001b[1m50/50\u001b[0m \u001b[32m━━━━━━━━━━━━━━━━━━━━\u001b[0m\u001b[37m\u001b[0m \u001b[1m5s\u001b[0m 105ms/step - accuracy: 0.4859 - loss: 3.0179 - val_accuracy: 0.4663 - val_loss: 1.9949\n",
            "\u001b[1m50/50\u001b[0m \u001b[32m━━━━━━━━━━━━━━━━━━━━\u001b[0m\u001b[37m\u001b[0m \u001b[1m5s\u001b[0m 105ms/step - accuracy: 0.5035 - loss: 1.7453 - val_accuracy: 0.4787 - val_loss: 1.1507\n",
            "\u001b[1m50/50\u001b[0m \u001b[32m━━━━━━━━━━━━━━━━━━━━\u001b[0m\u001b[37m\u001b[0m \u001b[1m5s\u001b[0m 105ms/step - accuracy: 0.5127 - loss: 1.0389 - val_accuracy: 0.5025 - val_loss: 0.8217\n",
            "\u001b[1m125/125\u001b[0m \u001b[32m━━━━━━━━━━━━━━━━━━━━\u001b[0m\u001b[37m\u001b[0m \u001b[1m1s\u001b[0m 11ms/step - accuracy: 0.4971 - loss: 0.8218\n"
          ]
        },
        {
          "metadata": {
            "tags": null
          },
          "name": "stderr",
          "output_type": "stream",
          "text": [
            "[I 2024-08-14 16:15:03,735] Trial 7 finished with value: 0.5 and parameters: {'num_layers': 6, 'filters_0': 93, 'filters_1': 113, 'filters_2': 123, 'filters_3': 99, 'filters_4': 82, 'filters_5': 60, 'kernel_size': 2, 'l1': 0.002726508156379498, 'l2': 0.0023120018742244478, 'dense_units': 225, 'dropout_rate': 0.4201309476438476, 'learning_rate': 0.0001943304270714409}. Best is trial 0 with value: 0.7795000076293945.\n"
          ]
        },
        {
          "metadata": {
            "tags": null
          },
          "name": "stdout",
          "output_type": "stream",
          "text": [
            "Trial 8 started with hyperparameters: num_layers=3, filters=[36, 43, 46], kernel_size=3, l1=0.000526861675244197, l2=0.0002428318049886667, dense_units=166, dropout_rate=0.33624194099252047, learning_rate=8.308925412651451e-05\n",
            "\u001b[1m50/50\u001b[0m \u001b[32m━━━━━━━━━━━━━━━━━━━━\u001b[0m\u001b[37m\u001b[0m \u001b[1m11s\u001b[0m 101ms/step - accuracy: 0.5174 - loss: 1.4549 - val_accuracy: 0.7075 - val_loss: 1.3543\n",
            "\u001b[1m50/50\u001b[0m \u001b[32m━━━━━━━━━━━━━━━━━━━━\u001b[0m\u001b[37m\u001b[0m \u001b[1m2s\u001b[0m 47ms/step - accuracy: 0.7047 - loss: 1.3180 - val_accuracy: 0.7513 - val_loss: 1.2189\n",
            "\u001b[1m50/50\u001b[0m \u001b[32m━━━━━━━━━━━━━━━━━━━━\u001b[0m\u001b[37m\u001b[0m \u001b[1m2s\u001b[0m 47ms/step - accuracy: 0.7220 - loss: 1.2287 - val_accuracy: 0.7675 - val_loss: 1.1608\n",
            "\u001b[1m50/50\u001b[0m \u001b[32m━━━━━━━━━━━━━━━━━━━━\u001b[0m\u001b[37m\u001b[0m \u001b[1m2s\u001b[0m 47ms/step - accuracy: 0.7671 - loss: 1.1490 - val_accuracy: 0.7525 - val_loss: 1.1173\n",
            "\u001b[1m50/50\u001b[0m \u001b[32m━━━━━━━━━━━━━━━━━━━━\u001b[0m\u001b[37m\u001b[0m \u001b[1m2s\u001b[0m 47ms/step - accuracy: 0.7471 - loss: 1.1304 - val_accuracy: 0.7487 - val_loss: 1.1108\n",
            "\u001b[1m50/50\u001b[0m \u001b[32m━━━━━━━━━━━━━━━━━━━━\u001b[0m\u001b[37m\u001b[0m \u001b[1m2s\u001b[0m 47ms/step - accuracy: 0.7687 - loss: 1.0871 - val_accuracy: 0.7000 - val_loss: 1.1559\n",
            "\u001b[1m50/50\u001b[0m \u001b[32m━━━━━━━━━━━━━━━━━━━━\u001b[0m\u001b[37m\u001b[0m \u001b[1m2s\u001b[0m 47ms/step - accuracy: 0.7522 - loss: 1.0778 - val_accuracy: 0.7287 - val_loss: 1.1031\n",
            "\u001b[1m50/50\u001b[0m \u001b[32m━━━━━━━━━━━━━━━━━━━━\u001b[0m\u001b[37m\u001b[0m \u001b[1m2s\u001b[0m 47ms/step - accuracy: 0.7525 - loss: 1.0449 - val_accuracy: 0.7688 - val_loss: 1.0216\n",
            "\u001b[1m50/50\u001b[0m \u001b[32m━━━━━━━━━━━━━━━━━━━━\u001b[0m\u001b[37m\u001b[0m \u001b[1m2s\u001b[0m 47ms/step - accuracy: 0.7731 - loss: 1.0197 - val_accuracy: 0.7663 - val_loss: 0.9991\n",
            "\u001b[1m125/125\u001b[0m \u001b[32m━━━━━━━━━━━━━━━━━━━━\u001b[0m\u001b[37m\u001b[0m \u001b[1m1s\u001b[0m 6ms/step - accuracy: 0.7651 - loss: 0.9958\n"
          ]
        },
        {
          "metadata": {
            "tags": null
          },
          "name": "stderr",
          "output_type": "stream",
          "text": [
            "[I 2024-08-14 16:29:05,748] Trial 8 finished with value: 0.7670000195503235 and parameters: {'num_layers': 3, 'filters_0': 36, 'filters_1': 43, 'filters_2': 46, 'kernel_size': 3, 'l1': 0.000526861675244197, 'l2': 0.0002428318049886667, 'dense_units': 166, 'dropout_rate': 0.33624194099252047, 'learning_rate': 8.308925412651451e-05}. Best is trial 0 with value: 0.7795000076293945.\n"
          ]
        },
        {
          "metadata": {
            "tags": null
          },
          "name": "stdout",
          "output_type": "stream",
          "text": [
            "Trial 9 started with hyperparameters: num_layers=6, filters=[44, 84, 100, 52, 86, 78], kernel_size=3, l1=2.0529770654588606e-05, l2=7.735277838925674e-05, dense_units=147, dropout_rate=0.41050120403547763, learning_rate=4.349197505495719e-05\n",
            "\u001b[1m50/50\u001b[0m \u001b[32m━━━━━━━━━━━━━━━━━━━━\u001b[0m\u001b[37m\u001b[0m \u001b[1m0s\u001b[0m 63ms/step - accuracy: 0.5094 - loss: 0.8915"
          ]
        },
        {
          "metadata": {
            "tags": null
          },
          "name": "stderr",
          "output_type": "stream",
          "text": [
            "[I 2024-08-14 16:30:46,169] Trial 9 pruned. Trial was pruned at epoch 0.\n"
          ]
        },
        {
          "metadata": {
            "tags": null
          },
          "name": "stdout",
          "output_type": "stream",
          "text": [
            "Trial 10 started with hyperparameters: num_layers=4, filters=[70, 101, 35, 127], kernel_size=2, l1=0.00025060005011378044, l2=2.5691294528526058e-05, dense_units=66, dropout_rate=0.11311122250517575, learning_rate=0.00023788305333032246\n",
            "\u001b[1m50/50\u001b[0m \u001b[32m━━━━━━━━━━━━━━━━━━━━\u001b[0m\u001b[37m\u001b[0m \u001b[1m0s\u001b[0m 75ms/step - accuracy: 0.5239 - loss: 1.4063"
          ]
        },
        {
          "metadata": {
            "tags": null
          },
          "name": "stderr",
          "output_type": "stream",
          "text": [
            "[I 2024-08-14 16:32:23,005] Trial 10 pruned. Trial was pruned at epoch 0.\n"
          ]
        },
        {
          "metadata": {
            "tags": null
          },
          "name": "stdout",
          "output_type": "stream",
          "text": [
            "Trial 11 started with hyperparameters: num_layers=5, filters=[127, 67, 63, 67, 127], kernel_size=2, l1=2.247307828382858e-06, l2=3.1361622742023438e-06, dense_units=73, dropout_rate=0.2548245814313089, learning_rate=0.0001888370292157538\n",
            "\u001b[1m50/50\u001b[0m \u001b[32m━━━━━━━━━━━━━━━━━━━━\u001b[0m\u001b[37m\u001b[0m \u001b[1m0s\u001b[0m 103ms/step - accuracy: 0.5171 - loss: 0.7038"
          ]
        },
        {
          "metadata": {
            "tags": null
          },
          "name": "stderr",
          "output_type": "stream",
          "text": [
            "[I 2024-08-14 16:34:03,322] Trial 11 pruned. Trial was pruned at epoch 0.\n"
          ]
        },
        {
          "metadata": {
            "tags": null
          },
          "name": "stdout",
          "output_type": "stream",
          "text": [
            "Trial 12 started with hyperparameters: num_layers=5, filters=[122, 62, 83, 128, 119], kernel_size=2, l1=0.00010605920409276108, l2=1.3733672611461924e-06, dense_units=206, dropout_rate=0.14488538703404213, learning_rate=4.62555352804026e-05\n",
            "\u001b[1m50/50\u001b[0m \u001b[32m━━━━━━━━━━━━━━━━━━━━\u001b[0m\u001b[37m\u001b[0m \u001b[1m16s\u001b[0m 166ms/step - accuracy: 0.5006 - loss: 1.3877 - val_accuracy: 0.6463 - val_loss: 1.3634\n",
            "\u001b[1m50/50\u001b[0m \u001b[32m━━━━━━━━━━━━━━━━━━━━\u001b[0m\u001b[37m\u001b[0m \u001b[1m5s\u001b[0m 106ms/step - accuracy: 0.5441 - loss: 1.3555 - val_accuracy: 0.5088 - val_loss: 1.3317\n",
            "\u001b[1m50/50\u001b[0m \u001b[32m━━━━━━━━━━━━━━━━━━━━\u001b[0m\u001b[37m\u001b[0m \u001b[1m5s\u001b[0m 107ms/step - accuracy: 0.6059 - loss: 1.3202 - val_accuracy: 0.5700 - val_loss: 1.2916\n",
            "\u001b[1m50/50\u001b[0m \u001b[32m━━━━━━━━━━━━━━━━━━━━\u001b[0m\u001b[37m\u001b[0m \u001b[1m5s\u001b[0m 107ms/step - accuracy: 0.6018 - loss: 1.2759 - val_accuracy: 0.7050 - val_loss: 1.2145\n",
            "\u001b[1m50/50\u001b[0m \u001b[32m━━━━━━━━━━━━━━━━━━━━\u001b[0m\u001b[37m\u001b[0m \u001b[1m5s\u001b[0m 107ms/step - accuracy: 0.7185 - loss: 1.1929 - val_accuracy: 0.7088 - val_loss: 1.1504\n",
            "\u001b[1m50/50\u001b[0m \u001b[32m━━━━━━━━━━━━━━━━━━━━\u001b[0m\u001b[37m\u001b[0m \u001b[1m5s\u001b[0m 107ms/step - accuracy: 0.7346 - loss: 1.1176 - val_accuracy: 0.6913 - val_loss: 1.1452\n",
            "\u001b[1m50/50\u001b[0m \u001b[32m━━━━━━━━━━━━━━━━━━━━\u001b[0m\u001b[37m\u001b[0m \u001b[1m5s\u001b[0m 107ms/step - accuracy: 0.7440 - loss: 1.0755 - val_accuracy: 0.7125 - val_loss: 1.1186\n",
            "\u001b[1m50/50\u001b[0m \u001b[32m━━━━━━━━━━━━━━━━━━━━\u001b[0m\u001b[37m\u001b[0m \u001b[1m5s\u001b[0m 107ms/step - accuracy: 0.7512 - loss: 1.0466 - val_accuracy: 0.7675 - val_loss: 1.0297\n",
            "\u001b[1m50/50\u001b[0m \u001b[32m━━━━━━━━━━━━━━━━━━━━\u001b[0m\u001b[37m\u001b[0m \u001b[1m5s\u001b[0m 107ms/step - accuracy: 0.7596 - loss: 1.0219 - val_accuracy: 0.7588 - val_loss: 1.0006\n",
            "\u001b[1m125/125\u001b[0m \u001b[32m━━━━━━━━━━━━━━━━━━━━\u001b[0m\u001b[37m\u001b[0m \u001b[1m1s\u001b[0m 11ms/step - accuracy: 0.7557 - loss: 1.0052\n"
          ]
        },
        {
          "metadata": {
            "tags": null
          },
          "name": "stderr",
          "output_type": "stream",
          "text": [
            "[I 2024-08-14 16:48:32,948] Trial 12 finished with value: 0.7557500004768372 and parameters: {'num_layers': 5, 'filters_0': 122, 'filters_1': 62, 'filters_2': 83, 'filters_3': 128, 'filters_4': 119, 'kernel_size': 2, 'l1': 0.00010605920409276108, 'l2': 1.3733672611461924e-06, 'dense_units': 206, 'dropout_rate': 0.14488538703404213, 'learning_rate': 4.62555352804026e-05}. Best is trial 0 with value: 0.7795000076293945.\n"
          ]
        },
        {
          "metadata": {
            "tags": null
          },
          "name": "stdout",
          "output_type": "stream",
          "text": [
            "Trial 13 started with hyperparameters: num_layers=4, filters=[111, 56, 55, 70], kernel_size=2, l1=0.0008034739097790428, l2=2.220915160629738e-05, dense_units=200, dropout_rate=0.2988217031330187, learning_rate=0.0004485555963056029\n",
            "\u001b[1m50/50\u001b[0m \u001b[32m━━━━━━━━━━━━━━━━━━━━\u001b[0m\u001b[37m\u001b[0m \u001b[1m14s\u001b[0m 147ms/step - accuracy: 0.5224 - loss: 2.7157 - val_accuracy: 0.7500 - val_loss: 2.1337\n",
            "\u001b[1m50/50\u001b[0m \u001b[32m━━━━━━━━━━━━━━━━━━━━\u001b[0m\u001b[37m\u001b[0m \u001b[1m5s\u001b[0m 95ms/step - accuracy: 0.6599 - loss: 2.0104 - val_accuracy: 0.7675 - val_loss: 1.6186\n",
            "\u001b[1m50/50\u001b[0m \u001b[32m━━━━━━━━━━━━━━━━━━━━\u001b[0m\u001b[37m\u001b[0m \u001b[1m5s\u001b[0m 95ms/step - accuracy: 0.7569 - loss: 1.5503 - val_accuracy: 0.7763 - val_loss: 1.3263\n",
            "\u001b[1m50/50\u001b[0m \u001b[32m━━━━━━━━━━━━━━━━━━━━\u001b[0m\u001b[37m\u001b[0m \u001b[1m5s\u001b[0m 95ms/step - accuracy: 0.7632 - loss: 1.3061 - val_accuracy: 0.7750 - val_loss: 1.1857\n",
            "\u001b[1m50/50\u001b[0m \u001b[32m━━━━━━━━━━━━━━━━━━━━\u001b[0m\u001b[37m\u001b[0m \u001b[1m5s\u001b[0m 95ms/step - accuracy: 0.7525 - loss: 1.1683 - val_accuracy: 0.7525 - val_loss: 1.1045\n",
            "\u001b[1m50/50\u001b[0m \u001b[32m━━━━━━━━━━━━━━━━━━━━\u001b[0m\u001b[37m\u001b[0m \u001b[1m5s\u001b[0m 95ms/step - accuracy: 0.7501 - loss: 1.0808 - val_accuracy: 0.7763 - val_loss: 1.0437\n",
            "\u001b[1m50/50\u001b[0m \u001b[32m━━━━━━━━━━━━━━━━━━━━\u001b[0m\u001b[37m\u001b[0m \u001b[1m5s\u001b[0m 95ms/step - accuracy: 0.7702 - loss: 1.0371 - val_accuracy: 0.7725 - val_loss: 1.0162\n",
            "\u001b[1m50/50\u001b[0m \u001b[32m━━━━━━━━━━━━━━━━━━━━\u001b[0m\u001b[37m\u001b[0m \u001b[1m5s\u001b[0m 95ms/step - accuracy: 0.7657 - loss: 1.0233 - val_accuracy: 0.7650 - val_loss: 0.9859\n",
            "\u001b[1m50/50\u001b[0m \u001b[32m━━━━━━━━━━━━━━━━━━━━\u001b[0m\u001b[37m\u001b[0m \u001b[1m5s\u001b[0m 95ms/step - accuracy: 0.7664 - loss: 1.0033 - val_accuracy: 0.7713 - val_loss: 0.9633\n",
            "\u001b[1m125/125\u001b[0m \u001b[32m━━━━━━━━━━━━━━━━━━━━\u001b[0m\u001b[37m\u001b[0m \u001b[1m1s\u001b[0m 10ms/step - accuracy: 0.7755 - loss: 0.9579\n"
          ]
        },
        {
          "metadata": {
            "tags": null
          },
          "name": "stderr",
          "output_type": "stream",
          "text": [
            "[I 2024-08-14 17:02:56,429] Trial 13 finished with value: 0.7757499814033508 and parameters: {'num_layers': 4, 'filters_0': 111, 'filters_1': 56, 'filters_2': 55, 'filters_3': 70, 'kernel_size': 2, 'l1': 0.0008034739097790428, 'l2': 2.220915160629738e-05, 'dense_units': 200, 'dropout_rate': 0.2988217031330187, 'learning_rate': 0.0004485555963056029}. Best is trial 0 with value: 0.7795000076293945.\n"
          ]
        },
        {
          "metadata": {
            "tags": null
          },
          "name": "stdout",
          "output_type": "stream",
          "text": [
            "Trial 14 started with hyperparameters: num_layers=3, filters=[73, 125, 52], kernel_size=2, l1=0.0009146384844578432, l2=4.119022464804665e-05, dense_units=100, dropout_rate=0.41233639455054105, learning_rate=0.0005046312048426708\n",
            "\u001b[1m50/50\u001b[0m \u001b[32m━━━━━━━━━━━━━━━━━━━━\u001b[0m\u001b[37m\u001b[0m \u001b[1m15s\u001b[0m 148ms/step - accuracy: 0.5209 - loss: 3.0077 - val_accuracy: 0.6900 - val_loss: 2.2383\n",
            "\u001b[1m50/50\u001b[0m \u001b[32m━━━━━━━━━━━━━━━━━━━━\u001b[0m\u001b[37m\u001b[0m \u001b[1m5s\u001b[0m 92ms/step - accuracy: 0.6831 - loss: 2.0862 - val_accuracy: 0.7563 - val_loss: 1.5850\n",
            "\u001b[1m50/50\u001b[0m \u001b[32m━━━━━━━━━━━━━━━━━━━━\u001b[0m\u001b[37m\u001b[0m \u001b[1m5s\u001b[0m 91ms/step - accuracy: 0.7496 - loss: 1.5198 - val_accuracy: 0.7850 - val_loss: 1.2516\n",
            "\u001b[1m50/50\u001b[0m \u001b[32m━━━━━━━━━━━━━━━━━━━━\u001b[0m\u001b[37m\u001b[0m \u001b[1m5s\u001b[0m 91ms/step - accuracy: 0.7588 - loss: 1.2359 - val_accuracy: 0.7613 - val_loss: 1.1336\n",
            "\u001b[1m50/50\u001b[0m \u001b[32m━━━━━━━━━━━━━━━━━━━━\u001b[0m\u001b[37m\u001b[0m \u001b[1m5s\u001b[0m 91ms/step - accuracy: 0.7543 - loss: 1.1283 - val_accuracy: 0.7237 - val_loss: 1.0900\n",
            "\u001b[1m50/50\u001b[0m \u001b[32m━━━━━━━━━━━━━━━━━━━━\u001b[0m\u001b[37m\u001b[0m \u001b[1m5s\u001b[0m 92ms/step - accuracy: 0.7596 - loss: 1.0425 - val_accuracy: 0.7625 - val_loss: 0.9981\n",
            "\u001b[1m50/50\u001b[0m \u001b[32m━━━━━━━━━━━━━━━━━━━━\u001b[0m\u001b[37m\u001b[0m \u001b[1m5s\u001b[0m 91ms/step - accuracy: 0.7594 - loss: 1.0094 - val_accuracy: 0.7138 - val_loss: 1.0225\n",
            "\u001b[1m50/50\u001b[0m \u001b[32m━━━━━━━━━━━━━━━━━━━━\u001b[0m\u001b[37m\u001b[0m \u001b[1m5s\u001b[0m 91ms/step - accuracy: 0.7546 - loss: 0.9870 - val_accuracy: 0.7575 - val_loss: 0.9264\n",
            "\u001b[1m50/50\u001b[0m \u001b[32m━━━━━━━━━━━━━━━━━━━━\u001b[0m\u001b[37m\u001b[0m \u001b[1m5s\u001b[0m 91ms/step - accuracy: 0.7610 - loss: 0.9447 - val_accuracy: 0.7650 - val_loss: 0.8990\n",
            "\u001b[1m125/125\u001b[0m \u001b[32m━━━━━━━━━━━━━━━━━━━━\u001b[0m\u001b[37m\u001b[0m \u001b[1m1s\u001b[0m 9ms/step - accuracy: 0.7624 - loss: 0.8999\n"
          ]
        },
        {
          "metadata": {
            "tags": null
          },
          "name": "stderr",
          "output_type": "stream",
          "text": [
            "[I 2024-08-14 17:17:31,332] Trial 14 finished with value: 0.7647500038146973 and parameters: {'num_layers': 3, 'filters_0': 73, 'filters_1': 125, 'filters_2': 52, 'kernel_size': 2, 'l1': 0.0009146384844578432, 'l2': 4.119022464804665e-05, 'dense_units': 100, 'dropout_rate': 0.41233639455054105, 'learning_rate': 0.0005046312048426708}. Best is trial 0 with value: 0.7795000076293945.\n"
          ]
        },
        {
          "metadata": {
            "tags": null
          },
          "name": "stdout",
          "output_type": "stream",
          "text": [
            "Trial 15 started with hyperparameters: num_layers=4, filters=[106, 57, 33, 68], kernel_size=2, l1=0.009362428009417667, l2=1.1480889216025872e-05, dense_units=104, dropout_rate=0.17820357914412738, learning_rate=0.0003902542915291836\n",
            "\u001b[1m50/50\u001b[0m \u001b[32m━━━━━━━━━━━━━━━━━━━━\u001b[0m\u001b[37m\u001b[0m \u001b[1m11s\u001b[0m 128ms/step - accuracy: 0.5216 - loss: 19.6669 - val_accuracy: 0.6687 - val_loss: 14.6926\n",
            "\u001b[1m50/50\u001b[0m \u001b[32m━━━━━━━━━━━━━━━━━━━━\u001b[0m\u001b[37m\u001b[0m \u001b[1m5s\u001b[0m 92ms/step - accuracy: 0.6074 - loss: 13.2552 - val_accuracy: 0.7188 - val_loss: 9.3116\n",
            "\u001b[1m50/50\u001b[0m \u001b[32m━━━━━━━━━━━━━━━━━━━━\u001b[0m\u001b[37m\u001b[0m \u001b[1m5s\u001b[0m 92ms/step - accuracy: 0.6412 - loss: 8.2269 - val_accuracy: 0.5275 - val_loss: 5.3401\n",
            "\u001b[1m50/50\u001b[0m \u001b[32m━━━━━━━━━━━━━━━━━━━━\u001b[0m\u001b[37m\u001b[0m \u001b[1m5s\u001b[0m 92ms/step - accuracy: 0.6018 - loss: 4.5988 - val_accuracy: 0.6775 - val_loss: 2.7284\n",
            "\u001b[1m50/50\u001b[0m \u001b[32m━━━━━━━━━━━━━━━━━━━━\u001b[0m\u001b[37m\u001b[0m \u001b[1m5s\u001b[0m 93ms/step - accuracy: 0.5959 - loss: 2.3179 - val_accuracy: 0.4913 - val_loss: 1.4141\n",
            "\u001b[1m50/50\u001b[0m \u001b[32m━━━━━━━━━━━━━━━━━━━━\u001b[0m\u001b[37m\u001b[0m \u001b[1m5s\u001b[0m 92ms/step - accuracy: 0.5128 - loss: 1.2522 - val_accuracy: 0.4950 - val_loss: 0.9111\n",
            "\u001b[1m50/50\u001b[0m \u001b[32m━━━━━━━━━━━━━━━━━━━━\u001b[0m\u001b[37m\u001b[0m \u001b[1m5s\u001b[0m 92ms/step - accuracy: 0.5100 - loss: 0.8624 - val_accuracy: 0.5337 - val_loss: 0.7900\n",
            "\u001b[1m50/50\u001b[0m \u001b[32m━━━━━━━━━━━━━━━━━━━━\u001b[0m\u001b[37m\u001b[0m \u001b[1m5s\u001b[0m 92ms/step - accuracy: 0.4850 - loss: 0.7846 - val_accuracy: 0.4787 - val_loss: 0.7616\n",
            "\u001b[1m50/50\u001b[0m \u001b[32m━━━━━━━━━━━━━━━━━━━━\u001b[0m\u001b[37m\u001b[0m \u001b[1m5s\u001b[0m 92ms/step - accuracy: 0.5133 - loss: 0.7570 - val_accuracy: 0.7125 - val_loss: 0.7468\n",
            "\u001b[1m125/125\u001b[0m \u001b[32m━━━━━━━━━━━━━━━━━━━━\u001b[0m\u001b[37m\u001b[0m \u001b[1m1s\u001b[0m 10ms/step - accuracy: 0.6850 - loss: 0.7468\n"
          ]
        },
        {
          "metadata": {
            "tags": null
          },
          "name": "stderr",
          "output_type": "stream",
          "text": [
            "[I 2024-08-14 17:31:57,581] Trial 15 finished with value: 0.6865000128746033 and parameters: {'num_layers': 4, 'filters_0': 106, 'filters_1': 57, 'filters_2': 33, 'filters_3': 68, 'kernel_size': 2, 'l1': 0.009362428009417667, 'l2': 1.1480889216025872e-05, 'dense_units': 104, 'dropout_rate': 0.17820357914412738, 'learning_rate': 0.0003902542915291836}. Best is trial 0 with value: 0.7795000076293945.\n"
          ]
        },
        {
          "metadata": {
            "tags": null
          },
          "name": "stdout",
          "output_type": "stream",
          "text": [
            "Trial 16 started with hyperparameters: num_layers=4, filters=[32, 52, 54, 32], kernel_size=2, l1=6.301830628639592e-05, l2=0.0001611650397893957, dense_units=218, dropout_rate=0.2868326688305793, learning_rate=0.0009862973515902176\n",
            "\u001b[1m49/50\u001b[0m \u001b[32m━━━━━━━━━━━━━━━━━━━\u001b[0m\u001b[37m━\u001b[0m \u001b[1m0s\u001b[0m 36ms/step - accuracy: 0.5439 - loss: 0.8013"
          ]
        },
        {
          "metadata": {
            "tags": null
          },
          "name": "stderr",
          "output_type": "stream",
          "text": [
            "[I 2024-08-14 17:33:29,786] Trial 16 pruned. Trial was pruned at epoch 0.\n"
          ]
        },
        {
          "metadata": {
            "tags": null
          },
          "name": "stdout",
          "output_type": "stream",
          "text": [
            "Trial 17 started with hyperparameters: num_layers=3, filters=[58, 94, 70], kernel_size=3, l1=0.0009538807673985353, l2=0.0005876529765221334, dense_units=194, dropout_rate=0.4617212418253709, learning_rate=0.00015187200393321527\n",
            "\u001b[1m50/50\u001b[0m \u001b[32m━━━━━━━━━━━━━━━━━━━━\u001b[0m\u001b[37m\u001b[0m \u001b[1m17s\u001b[0m 163ms/step - accuracy: 0.4989 - loss: 4.0485 - val_accuracy: 0.6012 - val_loss: 3.5578\n",
            "\u001b[1m50/50\u001b[0m \u001b[32m━━━━━━━━━━━━━━━━━━━━\u001b[0m\u001b[37m\u001b[0m \u001b[1m4s\u001b[0m 83ms/step - accuracy: 0.6372 - loss: 3.4090 - val_accuracy: 0.7625 - val_loss: 2.9850\n",
            "\u001b[1m50/50\u001b[0m \u001b[32m━━━━━━━━━━━━━━━━━━━━\u001b[0m\u001b[37m\u001b[0m \u001b[1m4s\u001b[0m 83ms/step - accuracy: 0.7214 - loss: 2.9084 - val_accuracy: 0.7688 - val_loss: 2.6276\n",
            "\u001b[1m50/50\u001b[0m \u001b[32m━━━━━━━━━━━━━━━━━━━━\u001b[0m\u001b[37m\u001b[0m \u001b[1m4s\u001b[0m 83ms/step - accuracy: 0.7526 - loss: 2.5625 - val_accuracy: 0.7713 - val_loss: 2.3509\n",
            "\u001b[1m50/50\u001b[0m \u001b[32m━━━━━━━━━━━━━━━━━━━━\u001b[0m\u001b[37m\u001b[0m \u001b[1m4s\u001b[0m 83ms/step - accuracy: 0.7219 - loss: 2.3391 - val_accuracy: 0.7300 - val_loss: 2.1705\n",
            "\u001b[1m50/50\u001b[0m \u001b[32m━━━━━━━━━━━━━━━━━━━━\u001b[0m\u001b[37m\u001b[0m \u001b[1m4s\u001b[0m 83ms/step - accuracy: 0.7619 - loss: 2.0991 - val_accuracy: 0.7525 - val_loss: 1.9792\n",
            "\u001b[1m50/50\u001b[0m \u001b[32m━━━━━━━━━━━━━━━━━━━━\u001b[0m\u001b[37m\u001b[0m \u001b[1m4s\u001b[0m 83ms/step - accuracy: 0.7525 - loss: 1.9541 - val_accuracy: 0.7150 - val_loss: 1.8902\n",
            "\u001b[1m50/50\u001b[0m \u001b[32m━━━━━━━━━━━━━━━━━━━━\u001b[0m\u001b[37m\u001b[0m \u001b[1m4s\u001b[0m 83ms/step - accuracy: 0.7462 - loss: 1.8266 - val_accuracy: 0.7600 - val_loss: 1.7158\n",
            "\u001b[1m50/50\u001b[0m \u001b[32m━━━━━━━━━━━━━━━━━━━━\u001b[0m\u001b[37m\u001b[0m \u001b[1m4s\u001b[0m 83ms/step - accuracy: 0.7571 - loss: 1.7217 - val_accuracy: 0.7625 - val_loss: 1.6455\n",
            "\u001b[1m125/125\u001b[0m \u001b[32m━━━━━━━━━━━━━━━━━━━━\u001b[0m\u001b[37m\u001b[0m \u001b[1m1s\u001b[0m 9ms/step - accuracy: 0.7577 - loss: 1.6461\n"
          ]
        },
        {
          "metadata": {
            "tags": null
          },
          "name": "stderr",
          "output_type": "stream",
          "text": [
            "[I 2024-08-14 17:47:54,107] Trial 17 finished with value: 0.7592499852180481 and parameters: {'num_layers': 3, 'filters_0': 58, 'filters_1': 94, 'filters_2': 70, 'kernel_size': 3, 'l1': 0.0009538807673985353, 'l2': 0.0005876529765221334, 'dense_units': 194, 'dropout_rate': 0.4617212418253709, 'learning_rate': 0.00015187200393321527}. Best is trial 0 with value: 0.7795000076293945.\n"
          ]
        },
        {
          "metadata": {
            "tags": null
          },
          "name": "stdout",
          "output_type": "stream",
          "text": [
            "Trial 18 started with hyperparameters: num_layers=4, filters=[111, 76, 43, 77], kernel_size=2, l1=0.00033067272972011366, l2=1.3877041991510776e-05, dense_units=243, dropout_rate=0.3634336168347128, learning_rate=0.0003907977058962246\n",
            "\u001b[1m50/50\u001b[0m \u001b[32m━━━━━━━━━━━━━━━━━━━━\u001b[0m\u001b[37m\u001b[0m \u001b[1m0s\u001b[0m 93ms/step - accuracy: 0.5106 - loss: 1.6233"
          ]
        },
        {
          "metadata": {
            "tags": null
          },
          "name": "stderr",
          "output_type": "stream",
          "text": [
            "[I 2024-08-14 17:49:32,021] Trial 18 pruned. Trial was pruned at epoch 0.\n"
          ]
        },
        {
          "metadata": {
            "tags": null
          },
          "name": "stdout",
          "output_type": "stream",
          "text": [
            "Trial 19 started with hyperparameters: num_layers=5, filters=[83, 71, 61, 51, 36], kernel_size=2, l1=0.002142658033538853, l2=0.008473590041189855, dense_units=105, dropout_rate=0.31329196503136947, learning_rate=0.0006713952704319455\n",
            "\u001b[1m50/50\u001b[0m \u001b[32m━━━━━━━━━━━━━━━━━━━━\u001b[0m\u001b[37m\u001b[0m \u001b[1m14s\u001b[0m 146ms/step - accuracy: 0.5117 - loss: 8.4496 - val_accuracy: 0.4825 - val_loss: 4.9201\n",
            "\u001b[1m50/50\u001b[0m \u001b[32m━━━━━━━━━━━━━━━━━━━━\u001b[0m\u001b[37m\u001b[0m \u001b[1m4s\u001b[0m 87ms/step - accuracy: 0.5122 - loss: 4.1031 - val_accuracy: 0.4800 - val_loss: 2.1646\n",
            "\u001b[1m50/50\u001b[0m \u001b[32m━━━━━━━━━━━━━━━━━━━━\u001b[0m\u001b[37m\u001b[0m \u001b[1m4s\u001b[0m 87ms/step - accuracy: 0.5043 - loss: 1.7774 - val_accuracy: 0.4725 - val_loss: 0.9693\n",
            "\u001b[1m50/50\u001b[0m \u001b[32m━━━━━━━━━━━━━━━━━━━━\u001b[0m\u001b[37m\u001b[0m \u001b[1m4s\u001b[0m 86ms/step - accuracy: 0.4958 - loss: 0.8683 - val_accuracy: 0.5063 - val_loss: 0.7219\n",
            "\u001b[1m50/50\u001b[0m \u001b[32m━━━━━━━━━━━━━━━━━━━━\u001b[0m\u001b[37m\u001b[0m \u001b[1m4s\u001b[0m 86ms/step - accuracy: 0.4936 - loss: 0.7129 - val_accuracy: 0.5088 - val_loss: 0.7039\n",
            "\u001b[1m50/50\u001b[0m \u001b[32m━━━━━━━━━━━━━━━━━━━━\u001b[0m\u001b[37m\u001b[0m \u001b[1m4s\u001b[0m 86ms/step - accuracy: 0.5068 - loss: 0.7038 - val_accuracy: 0.5050 - val_loss: 0.7036\n",
            "\u001b[1m50/50\u001b[0m \u001b[32m━━━━━━━━━━━━━━━━━━━━\u001b[0m\u001b[37m\u001b[0m \u001b[1m4s\u001b[0m 86ms/step - accuracy: 0.4744 - loss: 0.7037 - val_accuracy: 0.4663 - val_loss: 0.7038\n",
            "\u001b[1m50/50\u001b[0m \u001b[32m━━━━━━━━━━━━━━━━━━━━\u001b[0m\u001b[37m\u001b[0m \u001b[1m4s\u001b[0m 85ms/step - accuracy: 0.5070 - loss: 0.7037 - val_accuracy: 0.4787 - val_loss: 0.7038\n",
            "\u001b[1m50/50\u001b[0m \u001b[32m━━━━━━━━━━━━━━━━━━━━\u001b[0m\u001b[37m\u001b[0m \u001b[1m4s\u001b[0m 85ms/step - accuracy: 0.5066 - loss: 0.7037 - val_accuracy: 0.5025 - val_loss: 0.7038\n",
            "\u001b[1m125/125\u001b[0m \u001b[32m━━━━━━━━━━━━━━━━━━━━\u001b[0m\u001b[37m\u001b[0m \u001b[1m1s\u001b[0m 9ms/step - accuracy: 0.4971 - loss: 0.7038\n"
          ]
        },
        {
          "metadata": {
            "tags": null
          },
          "name": "stderr",
          "output_type": "stream",
          "text": [
            "[I 2024-08-14 18:03:53,084] Trial 19 finished with value: 0.5 and parameters: {'num_layers': 5, 'filters_0': 83, 'filters_1': 71, 'filters_2': 61, 'filters_3': 51, 'filters_4': 36, 'kernel_size': 2, 'l1': 0.002142658033538853, 'l2': 0.008473590041189855, 'dense_units': 105, 'dropout_rate': 0.31329196503136947, 'learning_rate': 0.0006713952704319455}. Best is trial 0 with value: 0.7795000076293945.\n"
          ]
        },
        {
          "metadata": {
            "tags": null
          },
          "name": "stdout",
          "output_type": "stream",
          "text": [
            "Trial 20 started with hyperparameters: num_layers=3, filters=[92, 32, 73], kernel_size=3, l1=4.1305545030693393e-05, l2=0.00010313114763466487, dense_units=184, dropout_rate=0.1973295905279884, learning_rate=0.00030150252453472283\n",
            "\u001b[1m50/50\u001b[0m \u001b[32m━━━━━━━━━━━━━━━━━━━━\u001b[0m\u001b[37m\u001b[0m \u001b[1m0s\u001b[0m 73ms/step - accuracy: 0.5751 - loss: 0.7666"
          ]
        },
        {
          "metadata": {
            "tags": null
          },
          "name": "stderr",
          "output_type": "stream",
          "text": [
            "[I 2024-08-14 18:05:30,775] Trial 20 pruned. Trial was pruned at epoch 0.\n"
          ]
        },
        {
          "metadata": {
            "tags": null
          },
          "name": "stdout",
          "output_type": "stream",
          "text": [
            "Trial 21 started with hyperparameters: num_layers=5, filters=[117, 53, 89, 112, 105], kernel_size=2, l1=5.828392542056655e-06, l2=1.606571206463888e-06, dense_units=200, dropout_rate=0.2779804055606463, learning_rate=0.00012463151850999614\n",
            "\u001b[1m50/50\u001b[0m \u001b[32m━━━━━━━━━━━━━━━━━━━━\u001b[0m\u001b[37m\u001b[0m \u001b[1m0s\u001b[0m 93ms/step - accuracy: 0.4962 - loss: 0.7270"
          ]
        },
        {
          "metadata": {
            "tags": null
          },
          "name": "stderr",
          "output_type": "stream",
          "text": [
            "[I 2024-08-14 18:07:10,051] Trial 21 pruned. Trial was pruned at epoch 0.\n"
          ]
        },
        {
          "metadata": {
            "tags": null
          },
          "name": "stdout",
          "output_type": "stream",
          "text": [
            "Trial 22 started with hyperparameters: num_layers=4, filters=[116, 63, 93, 85], kernel_size=2, l1=0.00017343267881467564, l2=6.930690578335911e-06, dense_units=178, dropout_rate=0.30478845025551254, learning_rate=2.6277031278987954e-05\n",
            "\u001b[1m50/50\u001b[0m \u001b[32m━━━━━━━━━━━━━━━━━━━━\u001b[0m\u001b[37m\u001b[0m \u001b[1m0s\u001b[0m 93ms/step - accuracy: 0.5081 - loss: 1.3779"
          ]
        },
        {
          "metadata": {
            "tags": null
          },
          "name": "stderr",
          "output_type": "stream",
          "text": [
            "[I 2024-08-14 18:08:46,226] Trial 22 pruned. Trial was pruned at epoch 0.\n"
          ]
        },
        {
          "metadata": {
            "tags": null
          },
          "name": "stdout",
          "output_type": "stream",
          "text": [
            "Trial 23 started with hyperparameters: num_layers=5, filters=[127, 84, 75, 111, 60], kernel_size=2, l1=1.3812426474147635e-06, l2=4.585757473103007e-05, dense_units=161, dropout_rate=0.38536514934163946, learning_rate=0.00012435546369274678\n",
            "\u001b[1m50/50\u001b[0m \u001b[32m━━━━━━━━━━━━━━━━━━━━\u001b[0m\u001b[37m\u001b[0m \u001b[1m0s\u001b[0m 105ms/step - accuracy: 0.5088 - loss: 0.7172"
          ]
        },
        {
          "metadata": {
            "tags": null
          },
          "name": "stderr",
          "output_type": "stream",
          "text": [
            "[I 2024-08-14 18:10:25,382] Trial 23 pruned. Trial was pruned at epoch 0.\n"
          ]
        },
        {
          "metadata": {
            "tags": null
          },
          "name": "stdout",
          "output_type": "stream",
          "text": [
            "Trial 24 started with hyperparameters: num_layers=4, filters=[101, 49, 41, 76], kernel_size=2, l1=0.000886865899233485, l2=0.00027895435203828013, dense_units=214, dropout_rate=0.2572558934185246, learning_rate=0.00027360324209931307\n",
            "\u001b[1m50/50\u001b[0m \u001b[32m━━━━━━━━━━━━━━━━━━━━\u001b[0m\u001b[37m\u001b[0m \u001b[1m15s\u001b[0m 158ms/step - accuracy: 0.5228 - loss: 2.6246 - val_accuracy: 0.7475 - val_loss: 2.2950\n",
            "\u001b[1m50/50\u001b[0m \u001b[32m━━━━━━━━━━━━━━━━━━━━\u001b[0m\u001b[37m\u001b[0m \u001b[1m4s\u001b[0m 88ms/step - accuracy: 0.6841 - loss: 2.1980 - val_accuracy: 0.7362 - val_loss: 1.9241\n",
            "\u001b[1m50/50\u001b[0m \u001b[32m━━━━━━━━━━━━━━━━━━━━\u001b[0m\u001b[37m\u001b[0m \u001b[1m4s\u001b[0m 88ms/step - accuracy: 0.7517 - loss: 1.8659 - val_accuracy: 0.7850 - val_loss: 1.6992\n",
            "\u001b[1m50/50\u001b[0m \u001b[32m━━━━━━━━━━━━━━━━━━━━\u001b[0m\u001b[37m\u001b[0m \u001b[1m4s\u001b[0m 89ms/step - accuracy: 0.7593 - loss: 1.6951 - val_accuracy: 0.7613 - val_loss: 1.5919\n",
            "\u001b[1m50/50\u001b[0m \u001b[32m━━━━━━━━━━━━━━━━━━━━\u001b[0m\u001b[37m\u001b[0m \u001b[1m4s\u001b[0m 88ms/step - accuracy: 0.7663 - loss: 1.5601 - val_accuracy: 0.7487 - val_loss: 1.4727\n",
            "\u001b[1m50/50\u001b[0m \u001b[32m━━━━━━━━━━━━━━━━━━━━\u001b[0m\u001b[37m\u001b[0m \u001b[1m4s\u001b[0m 89ms/step - accuracy: 0.7710 - loss: 1.4333 - val_accuracy: 0.7675 - val_loss: 1.3697\n",
            "\u001b[1m50/50\u001b[0m \u001b[32m━━━━━━━━━━━━━━━━━━━━\u001b[0m\u001b[37m\u001b[0m \u001b[1m4s\u001b[0m 88ms/step - accuracy: 0.7721 - loss: 1.3576 - val_accuracy: 0.7775 - val_loss: 1.3156\n",
            "\u001b[1m50/50\u001b[0m \u001b[32m━━━━━━━━━━━━━━━━━━━━\u001b[0m\u001b[37m\u001b[0m \u001b[1m4s\u001b[0m 88ms/step - accuracy: 0.7719 - loss: 1.3099 - val_accuracy: 0.7800 - val_loss: 1.2644\n",
            "\u001b[1m50/50\u001b[0m \u001b[32m━━━━━━━━━━━━━━━━━━━━\u001b[0m\u001b[37m\u001b[0m \u001b[1m4s\u001b[0m 88ms/step - accuracy: 0.7690 - loss: 1.2750 - val_accuracy: 0.7800 - val_loss: 1.2227\n",
            "\u001b[1m125/125\u001b[0m \u001b[32m━━━━━━━━━━━━━━━━━━━━\u001b[0m\u001b[37m\u001b[0m \u001b[1m1s\u001b[0m 9ms/step - accuracy: 0.7811 - loss: 1.2176\n"
          ]
        },
        {
          "metadata": {
            "tags": null
          },
          "name": "stderr",
          "output_type": "stream",
          "text": [
            "[I 2024-08-14 18:24:47,067] Trial 24 finished with value: 0.7852500081062317 and parameters: {'num_layers': 4, 'filters_0': 101, 'filters_1': 49, 'filters_2': 41, 'filters_3': 76, 'kernel_size': 2, 'l1': 0.000886865899233485, 'l2': 0.00027895435203828013, 'dense_units': 214, 'dropout_rate': 0.2572558934185246, 'learning_rate': 0.00027360324209931307}. Best is trial 24 with value: 0.7852500081062317.\n"
          ]
        },
        {
          "metadata": {
            "tags": null
          },
          "name": "stdout",
          "output_type": "stream",
          "text": [
            "Trial 25 started with hyperparameters: num_layers=4, filters=[103, 45, 42, 74], kernel_size=2, l1=0.0008345693512607706, l2=0.0002814644814380215, dense_units=215, dropout_rate=0.2448500432328654, learning_rate=0.00028029061002099925\n",
            "\u001b[1m50/50\u001b[0m \u001b[32m━━━━━━━━━━━━━━━━━━━━\u001b[0m\u001b[37m\u001b[0m \u001b[1m0s\u001b[0m 81ms/step - accuracy: 0.5188 - loss: 2.4503"
          ]
        },
        {
          "metadata": {
            "tags": null
          },
          "name": "stderr",
          "output_type": "stream",
          "text": [
            "[I 2024-08-14 18:26:22,075] Trial 25 pruned. Trial was pruned at epoch 0.\n"
          ]
        },
        {
          "metadata": {
            "tags": null
          },
          "name": "stdout",
          "output_type": "stream",
          "text": [
            "Trial 26 started with hyperparameters: num_layers=4, filters=[74, 52, 54, 57], kernel_size=2, l1=0.006162274953160798, l2=0.0011579127032940932, dense_units=248, dropout_rate=0.3215482775972376, learning_rate=0.0006125220452271783\n",
            "\u001b[1m50/50\u001b[0m \u001b[32m━━━━━━━━━━━━━━━━━━━━\u001b[0m\u001b[37m\u001b[0m \u001b[1m13s\u001b[0m 134ms/step - accuracy: 0.5167 - loss: 12.9728 - val_accuracy: 0.4963 - val_loss: 8.3976\n",
            "\u001b[1m50/50\u001b[0m \u001b[32m━━━━━━━━━━━━━━━━━━━━\u001b[0m\u001b[37m\u001b[0m \u001b[1m4s\u001b[0m 73ms/step - accuracy: 0.6098 - loss: 7.2389 - val_accuracy: 0.7775 - val_loss: 4.3535\n",
            "\u001b[1m50/50\u001b[0m \u001b[32m━━━━━━━━━━━━━━━━━━━━\u001b[0m\u001b[37m\u001b[0m \u001b[1m4s\u001b[0m 73ms/step - accuracy: 0.7112 - loss: 3.7086 - val_accuracy: 0.7425 - val_loss: 2.1643\n",
            "\u001b[1m50/50\u001b[0m \u001b[32m━━━━━━━━━━━━━━━━━━━━\u001b[0m\u001b[37m\u001b[0m \u001b[1m4s\u001b[0m 73ms/step - accuracy: 0.7211 - loss: 1.9024 - val_accuracy: 0.7025 - val_loss: 1.4452\n",
            "\u001b[1m50/50\u001b[0m \u001b[32m━━━━━━━━━━━━━━━━━━━━\u001b[0m\u001b[37m\u001b[0m \u001b[1m4s\u001b[0m 73ms/step - accuracy: 0.7189 - loss: 1.3786 - val_accuracy: 0.7475 - val_loss: 1.2085\n",
            "\u001b[1m50/50\u001b[0m \u001b[32m━━━━━━━━━━━━━━━━━━━━\u001b[0m\u001b[37m\u001b[0m \u001b[1m4s\u001b[0m 73ms/step - accuracy: 0.7512 - loss: 1.1550 - val_accuracy: 0.7325 - val_loss: 1.1232\n",
            "\u001b[1m50/50\u001b[0m \u001b[32m━━━━━━━━━━━━━━━━━━━━\u001b[0m\u001b[37m\u001b[0m \u001b[1m4s\u001b[0m 73ms/step - accuracy: 0.7259 - loss: 1.0891 - val_accuracy: 0.7175 - val_loss: 1.0579\n",
            "\u001b[1m50/50\u001b[0m \u001b[32m━━━━━━━━━━━━━━━━━━━━\u001b[0m\u001b[37m\u001b[0m \u001b[1m4s\u001b[0m 73ms/step - accuracy: 0.7433 - loss: 1.0104 - val_accuracy: 0.7600 - val_loss: 0.9546\n",
            "\u001b[1m50/50\u001b[0m \u001b[32m━━━━━━━━━━━━━━━━━━━━\u001b[0m\u001b[37m\u001b[0m \u001b[1m4s\u001b[0m 73ms/step - accuracy: 0.7193 - loss: 0.9869 - val_accuracy: 0.7575 - val_loss: 0.8958\n",
            "\u001b[1m125/125\u001b[0m \u001b[32m━━━━━━━━━━━━━━━━━━━━\u001b[0m\u001b[37m\u001b[0m \u001b[1m1s\u001b[0m 8ms/step - accuracy: 0.7580 - loss: 0.9003\n"
          ]
        },
        {
          "metadata": {
            "tags": null
          },
          "name": "stderr",
          "output_type": "stream",
          "text": [
            "[I 2024-08-14 18:40:36,426] Trial 26 finished with value: 0.7680000066757202 and parameters: {'num_layers': 4, 'filters_0': 74, 'filters_1': 52, 'filters_2': 54, 'filters_3': 57, 'kernel_size': 2, 'l1': 0.006162274953160798, 'l2': 0.0011579127032940932, 'dense_units': 248, 'dropout_rate': 0.3215482775972376, 'learning_rate': 0.0006125220452271783}. Best is trial 24 with value: 0.7852500081062317.\n"
          ]
        },
        {
          "metadata": {
            "tags": null
          },
          "name": "stdout",
          "output_type": "stream",
          "text": [
            "Trial 27 started with hyperparameters: num_layers=4, filters=[88, 35, 40, 66], kernel_size=2, l1=0.001446023327202511, l2=0.00020054726170231528, dense_units=231, dropout_rate=0.1959510810224403, learning_rate=0.00026597822905443465\n",
            "\u001b[1m50/50\u001b[0m \u001b[32m━━━━━━━━━━━━━━━━━━━━\u001b[0m\u001b[37m\u001b[0m \u001b[1m14s\u001b[0m 144ms/step - accuracy: 0.5052 - loss: 3.1033 - val_accuracy: 0.7025 - val_loss: 2.7330\n",
            "\u001b[1m50/50\u001b[0m \u001b[32m━━━━━━━━━━━━━━━━━━━━\u001b[0m\u001b[37m\u001b[0m \u001b[1m4s\u001b[0m 77ms/step - accuracy: 0.6727 - loss: 2.6156 - val_accuracy: 0.7362 - val_loss: 2.2697\n",
            "\u001b[1m50/50\u001b[0m \u001b[32m━━━━━━━━━━━━━━━━━━━━\u001b[0m\u001b[37m\u001b[0m \u001b[1m4s\u001b[0m 77ms/step - accuracy: 0.7445 - loss: 2.1958 - val_accuracy: 0.7638 - val_loss: 1.9880\n",
            "\u001b[1m50/50\u001b[0m \u001b[32m━━━━━━━━━━━━━━━━━━━━\u001b[0m\u001b[37m\u001b[0m \u001b[1m4s\u001b[0m 77ms/step - accuracy: 0.7729 - loss: 1.9265 - val_accuracy: 0.7775 - val_loss: 1.7767\n",
            "\u001b[1m50/50\u001b[0m \u001b[32m━━━━━━━━━━━━━━━━━━━━\u001b[0m\u001b[37m\u001b[0m \u001b[1m4s\u001b[0m 78ms/step - accuracy: 0.7682 - loss: 1.7465 - val_accuracy: 0.7575 - val_loss: 1.6531\n",
            "\u001b[1m50/50\u001b[0m \u001b[32m━━━━━━━━━━━━━━━━━━━━\u001b[0m\u001b[37m\u001b[0m \u001b[1m4s\u001b[0m 77ms/step - accuracy: 0.7666 - loss: 1.5944 - val_accuracy: 0.7575 - val_loss: 1.5063\n",
            "\u001b[1m50/50\u001b[0m \u001b[32m━━━━━━━━━━━━━━━━━━━━\u001b[0m\u001b[37m\u001b[0m \u001b[1m4s\u001b[0m 77ms/step - accuracy: 0.7599 - loss: 1.4836 - val_accuracy: 0.7650 - val_loss: 1.4193\n",
            "\u001b[1m50/50\u001b[0m \u001b[32m━━━━━━━━━━━━━━━━━━━━\u001b[0m\u001b[37m\u001b[0m \u001b[1m4s\u001b[0m 77ms/step - accuracy: 0.7667 - loss: 1.4060 - val_accuracy: 0.7788 - val_loss: 1.3435\n",
            "\u001b[1m50/50\u001b[0m \u001b[32m━━━━━━━━━━━━━━━━━━━━\u001b[0m\u001b[37m\u001b[0m \u001b[1m4s\u001b[0m 77ms/step - accuracy: 0.7761 - loss: 1.3387 - val_accuracy: 0.7713 - val_loss: 1.2887\n",
            "\u001b[1m125/125\u001b[0m \u001b[32m━━━━━━━━━━━━━━━━━━━━\u001b[0m\u001b[37m\u001b[0m \u001b[1m1s\u001b[0m 9ms/step - accuracy: 0.7782 - loss: 1.2849\n"
          ]
        },
        {
          "metadata": {
            "tags": null
          },
          "name": "stderr",
          "output_type": "stream",
          "text": [
            "[I 2024-08-14 18:54:55,032] Trial 27 finished with value: 0.7797499895095825 and parameters: {'num_layers': 4, 'filters_0': 88, 'filters_1': 35, 'filters_2': 40, 'filters_3': 66, 'kernel_size': 2, 'l1': 0.001446023327202511, 'l2': 0.00020054726170231528, 'dense_units': 231, 'dropout_rate': 0.1959510810224403, 'learning_rate': 0.00026597822905443465}. Best is trial 24 with value: 0.7852500081062317.\n"
          ]
        },
        {
          "metadata": {
            "tags": null
          },
          "name": "stdout",
          "output_type": "stream",
          "text": [
            "Trial 28 started with hyperparameters: num_layers=3, filters=[89, 32, 38], kernel_size=2, l1=0.0015387982073148782, l2=0.0003178683493981732, dense_units=255, dropout_rate=0.1893437029513057, learning_rate=0.0003031379722239169\n",
            "\u001b[1m50/50\u001b[0m \u001b[32m━━━━━━━━━━━━━━━━━━━━\u001b[0m\u001b[37m\u001b[0m \u001b[1m0s\u001b[0m 68ms/step - accuracy: 0.4984 - loss: 2.2574"
          ]
        },
        {
          "metadata": {
            "tags": null
          },
          "name": "stderr",
          "output_type": "stream",
          "text": [
            "[I 2024-08-14 18:56:28,221] Trial 28 pruned. Trial was pruned at epoch 0.\n"
          ]
        },
        {
          "metadata": {
            "tags": null
          },
          "name": "stdout",
          "output_type": "stream",
          "text": [
            "Trial 29 started with hyperparameters: num_layers=4, filters=[98, 39, 46, 60], kernel_size=2, l1=0.0004357322185025914, l2=0.0011754196702256055, dense_units=232, dropout_rate=0.49734402639217723, learning_rate=0.0001955234563554569\n",
            "\u001b[1m50/50\u001b[0m \u001b[32m━━━━━━━━━━━━━━━━━━━━\u001b[0m\u001b[37m\u001b[0m \u001b[1m0s\u001b[0m 77ms/step - accuracy: 0.5119 - loss: 1.6828"
          ]
        },
        {
          "metadata": {
            "tags": null
          },
          "name": "stderr",
          "output_type": "stream",
          "text": [
            "[I 2024-08-14 18:58:06,960] Trial 29 pruned. Trial was pruned at epoch 0.\n"
          ]
        },
        {
          "metadata": {
            "tags": null
          },
          "name": "stdout",
          "output_type": "stream",
          "text": [
            "Trial 30 started with hyperparameters: num_layers=3, filters=[80, 71, 62], kernel_size=2, l1=0.00014145259238195753, l2=0.00012853705685830308, dense_units=84, dropout_rate=0.16343803952749913, learning_rate=0.00011820343287154039\n",
            "\u001b[1m50/50\u001b[0m \u001b[32m━━━━━━━━━━━━━━━━━━━━\u001b[0m\u001b[37m\u001b[0m \u001b[1m0s\u001b[0m 76ms/step - accuracy: 0.5381 - loss: 0.9963"
          ]
        },
        {
          "metadata": {
            "tags": null
          },
          "name": "stderr",
          "output_type": "stream",
          "text": [
            "[I 2024-08-14 18:59:44,395] Trial 30 pruned. Trial was pruned at epoch 0.\n"
          ]
        },
        {
          "metadata": {
            "tags": null
          },
          "name": "stdout",
          "output_type": "stream",
          "text": [
            "Trial 31 started with hyperparameters: num_layers=4, filters=[99, 47, 50, 79], kernel_size=2, l1=0.0013324736725919112, l2=5.7079864517786365e-05, dense_units=213, dropout_rate=0.2124833938818278, learning_rate=0.000447394166030588\n",
            "\u001b[1m50/50\u001b[0m \u001b[32m━━━━━━━━━━━━━━━━━━━━\u001b[0m\u001b[37m\u001b[0m \u001b[1m11s\u001b[0m 126ms/step - accuracy: 0.5241 - loss: 3.6517 - val_accuracy: 0.4938 - val_loss: 2.8671\n",
            "\u001b[1m50/50\u001b[0m \u001b[32m━━━━━━━━━━━━━━━━━━━━\u001b[0m\u001b[37m\u001b[0m \u001b[1m4s\u001b[0m 89ms/step - accuracy: 0.6436 - loss: 2.6406 - val_accuracy: 0.7500 - val_loss: 2.0491\n",
            "\u001b[1m50/50\u001b[0m \u001b[32m━━━━━━━━━━━━━━━━━━━━\u001b[0m\u001b[37m\u001b[0m \u001b[1m4s\u001b[0m 89ms/step - accuracy: 0.7388 - loss: 1.9242 - val_accuracy: 0.7725 - val_loss: 1.5719\n",
            "\u001b[1m50/50\u001b[0m \u001b[32m━━━━━━━━━━━━━━━━━━━━\u001b[0m\u001b[37m\u001b[0m \u001b[1m4s\u001b[0m 89ms/step - accuracy: 0.7458 - loss: 1.5383 - val_accuracy: 0.7250 - val_loss: 1.3749\n",
            "\u001b[1m50/50\u001b[0m \u001b[32m━━━━━━━━━━━━━━━━━━━━\u001b[0m\u001b[37m\u001b[0m \u001b[1m4s\u001b[0m 89ms/step - accuracy: 0.7489 - loss: 1.3064 - val_accuracy: 0.7500 - val_loss: 1.2039\n",
            "\u001b[1m50/50\u001b[0m \u001b[32m━━━━━━━━━━━━━━━━━━━━\u001b[0m\u001b[37m\u001b[0m \u001b[1m4s\u001b[0m 89ms/step - accuracy: 0.7554 - loss: 1.1675 - val_accuracy: 0.7613 - val_loss: 1.1181\n",
            "\u001b[1m50/50\u001b[0m \u001b[32m━━━━━━━━━━━━━━━━━━━━\u001b[0m\u001b[37m\u001b[0m \u001b[1m4s\u001b[0m 88ms/step - accuracy: 0.7584 - loss: 1.1125 - val_accuracy: 0.7613 - val_loss: 1.0808\n",
            "\u001b[1m50/50\u001b[0m \u001b[32m━━━━━━━━━━━━━━━━━━━━\u001b[0m\u001b[37m\u001b[0m \u001b[1m4s\u001b[0m 89ms/step - accuracy: 0.7503 - loss: 1.0769 - val_accuracy: 0.7675 - val_loss: 1.0363\n",
            "\u001b[1m50/50\u001b[0m \u001b[32m━━━━━━━━━━━━━━━━━━━━\u001b[0m\u001b[37m\u001b[0m \u001b[1m4s\u001b[0m 89ms/step - accuracy: 0.7589 - loss: 1.0446 - val_accuracy: 0.7663 - val_loss: 0.9993\n",
            "\u001b[1m125/125\u001b[0m \u001b[32m━━━━━━━━━━━━━━━━━━━━\u001b[0m\u001b[37m\u001b[0m \u001b[1m1s\u001b[0m 10ms/step - accuracy: 0.7643 - loss: 0.9970\n"
          ]
        },
        {
          "metadata": {
            "tags": null
          },
          "name": "stderr",
          "output_type": "stream",
          "text": [
            "[I 2024-08-14 19:14:10,293] Trial 31 finished with value: 0.7717499732971191 and parameters: {'num_layers': 4, 'filters_0': 99, 'filters_1': 47, 'filters_2': 50, 'filters_3': 79, 'kernel_size': 2, 'l1': 0.0013324736725919112, 'l2': 5.7079864517786365e-05, 'dense_units': 213, 'dropout_rate': 0.2124833938818278, 'learning_rate': 0.000447394166030588}. Best is trial 24 with value: 0.7852500081062317.\n"
          ]
        },
        {
          "metadata": {
            "tags": null
          },
          "name": "stdout",
          "output_type": "stream",
          "text": [
            "Trial 32 started with hyperparameters: num_layers=4, filters=[111, 57, 38, 68], kernel_size=2, l1=0.004892420614707154, l2=0.00018691564469503435, dense_units=228, dropout_rate=0.2587423106283857, learning_rate=0.000646595233505206\n",
            "\u001b[1m50/50\u001b[0m \u001b[32m━━━━━━━━━━━━━━━━━━━━\u001b[0m\u001b[37m\u001b[0m \u001b[1m14s\u001b[0m 145ms/step - accuracy: 0.5078 - loss: 10.7907 - val_accuracy: 0.4825 - val_loss: 6.5345\n",
            "\u001b[1m50/50\u001b[0m \u001b[32m━━━━━━━━━━━━━━━━━━━━\u001b[0m\u001b[37m\u001b[0m \u001b[1m5s\u001b[0m 95ms/step - accuracy: 0.5420 - loss: 5.4456 - val_accuracy: 0.5200 - val_loss: 2.7688\n",
            "\u001b[1m50/50\u001b[0m \u001b[32m━━━━━━━━━━━━━━━━━━━━\u001b[0m\u001b[37m\u001b[0m \u001b[1m5s\u001b[0m 95ms/step - accuracy: 0.5307 - loss: 2.2115 - val_accuracy: 0.4725 - val_loss: 1.0888\n",
            "\u001b[1m50/50\u001b[0m \u001b[32m━━━━━━━━━━━━━━━━━━━━\u001b[0m\u001b[37m\u001b[0m \u001b[1m5s\u001b[0m 94ms/step - accuracy: 0.4969 - loss: 0.9453 - val_accuracy: 0.4938 - val_loss: 0.7391\n",
            "\u001b[1m50/50\u001b[0m \u001b[32m━━━━━━━━━━━━━━━━━━━━\u001b[0m\u001b[37m\u001b[0m \u001b[1m5s\u001b[0m 94ms/step - accuracy: 0.5084 - loss: 0.7283 - val_accuracy: 0.5088 - val_loss: 0.7146\n",
            "\u001b[1m50/50\u001b[0m \u001b[32m━━━━━━━━━━━━━━━━━━━━\u001b[0m\u001b[37m\u001b[0m \u001b[1m5s\u001b[0m 94ms/step - accuracy: 0.4927 - loss: 0.7137 - val_accuracy: 0.4950 - val_loss: 0.7113\n",
            "\u001b[1m50/50\u001b[0m \u001b[32m━━━━━━━━━━━━━━━━━━━━\u001b[0m\u001b[37m\u001b[0m \u001b[1m5s\u001b[0m 94ms/step - accuracy: 0.4952 - loss: 0.7111 - val_accuracy: 0.4663 - val_loss: 0.7107\n",
            "\u001b[1m50/50\u001b[0m \u001b[32m━━━━━━━━━━━━━━━━━━━━\u001b[0m\u001b[37m\u001b[0m \u001b[1m5s\u001b[0m 94ms/step - accuracy: 0.5105 - loss: 0.7101 - val_accuracy: 0.4787 - val_loss: 0.7104\n",
            "\u001b[1m50/50\u001b[0m \u001b[32m━━━━━━━━━━━━━━━━━━━━\u001b[0m\u001b[37m\u001b[0m \u001b[1m5s\u001b[0m 94ms/step - accuracy: 0.4929 - loss: 0.7104 - val_accuracy: 0.5025 - val_loss: 0.7102\n",
            "\u001b[1m125/125\u001b[0m \u001b[32m━━━━━━━━━━━━━━━━━━━━\u001b[0m\u001b[37m\u001b[0m \u001b[1m1s\u001b[0m 10ms/step - accuracy: 0.4971 - loss: 0.7102\n"
          ]
        },
        {
          "metadata": {
            "tags": null
          },
          "name": "stderr",
          "output_type": "stream",
          "text": [
            "[I 2024-08-14 19:28:39,593] Trial 32 finished with value: 0.5 and parameters: {'num_layers': 4, 'filters_0': 111, 'filters_1': 57, 'filters_2': 38, 'filters_3': 68, 'kernel_size': 2, 'l1': 0.004892420614707154, 'l2': 0.00018691564469503435, 'dense_units': 228, 'dropout_rate': 0.2587423106283857, 'learning_rate': 0.000646595233505206}. Best is trial 24 with value: 0.7852500081062317.\n"
          ]
        },
        {
          "metadata": {
            "tags": null
          },
          "name": "stdout",
          "output_type": "stream",
          "text": [
            "Trial 33 started with hyperparameters: num_layers=4, filters=[68, 38, 58, 86], kernel_size=2, l1=0.0005455711700913785, l2=2.5748645572433555e-05, dense_units=147, dropout_rate=0.267726564205143, learning_rate=0.00033910256909188395\n",
            "\u001b[1m50/50\u001b[0m \u001b[32m━━━━━━━━━━━━━━━━━━━━\u001b[0m\u001b[37m\u001b[0m \u001b[1m0s\u001b[0m 59ms/step - accuracy: 0.5025 - loss: 1.8308"
          ]
        },
        {
          "metadata": {
            "tags": null
          },
          "name": "stderr",
          "output_type": "stream",
          "text": [
            "[I 2024-08-14 19:30:15,371] Trial 33 pruned. Trial was pruned at epoch 0.\n"
          ]
        },
        {
          "metadata": {
            "tags": null
          },
          "name": "stdout",
          "output_type": "stream",
          "text": [
            "Trial 34 started with hyperparameters: num_layers=4, filters=[88, 49, 33, 46], kernel_size=2, l1=0.00025689709085413397, l2=0.0004348147274398812, dense_units=119, dropout_rate=0.22417232499580905, learning_rate=0.00022852850794203186\n",
            "\u001b[1m50/50\u001b[0m \u001b[32m━━━━━━━━━━━━━━━━━━━━\u001b[0m\u001b[37m\u001b[0m \u001b[1m0s\u001b[0m 71ms/step - accuracy: 0.5159 - loss: 1.1997"
          ]
        },
        {
          "metadata": {
            "tags": null
          },
          "name": "stderr",
          "output_type": "stream",
          "text": [
            "[I 2024-08-14 19:31:49,777] Trial 34 pruned. Trial was pruned at epoch 0.\n"
          ]
        },
        {
          "metadata": {
            "tags": null
          },
          "name": "stdout",
          "output_type": "stream",
          "text": [
            "Trial 35 started with hyperparameters: num_layers=4, filters=[108, 57, 41, 73], kernel_size=2, l1=0.003974539776380172, l2=0.0011564523731515683, dense_units=205, dropout_rate=0.36486819184865404, learning_rate=0.0005144104693220865\n",
            "\u001b[1m50/50\u001b[0m \u001b[32m━━━━━━━━━━━━━━━━━━━━\u001b[0m\u001b[37m\u001b[0m \u001b[1m13s\u001b[0m 145ms/step - accuracy: 0.5112 - loss: 9.5941 - val_accuracy: 0.4825 - val_loss: 6.5364\n",
            "\u001b[1m50/50\u001b[0m \u001b[32m━━━━━━━━━━━━━━━━━━━━\u001b[0m\u001b[37m\u001b[0m \u001b[1m5s\u001b[0m 94ms/step - accuracy: 0.5319 - loss: 5.7009 - val_accuracy: 0.4925 - val_loss: 3.5417\n",
            "\u001b[1m50/50\u001b[0m \u001b[32m━━━━━━━━━━━━━━━━━━━━\u001b[0m\u001b[37m\u001b[0m \u001b[1m5s\u001b[0m 94ms/step - accuracy: 0.5783 - loss: 3.0169 - val_accuracy: 0.5913 - val_loss: 1.7422\n",
            "\u001b[1m50/50\u001b[0m \u001b[32m━━━━━━━━━━━━━━━━━━━━\u001b[0m\u001b[37m\u001b[0m \u001b[1m5s\u001b[0m 94ms/step - accuracy: 0.6121 - loss: 1.4913 - val_accuracy: 0.4975 - val_loss: 0.9892\n",
            "\u001b[1m50/50\u001b[0m \u001b[32m━━━━━━━━━━━━━━━━━━━━\u001b[0m\u001b[37m\u001b[0m \u001b[1m5s\u001b[0m 94ms/step - accuracy: 0.6404 - loss: 0.9062 - val_accuracy: 0.6388 - val_loss: 0.7810\n",
            "\u001b[1m50/50\u001b[0m \u001b[32m━━━━━━━━━━━━━━━━━━━━\u001b[0m\u001b[37m\u001b[0m \u001b[1m5s\u001b[0m 93ms/step - accuracy: 0.7041 - loss: 0.7351 - val_accuracy: 0.6938 - val_loss: 0.7029\n",
            "\u001b[1m50/50\u001b[0m \u001b[32m━━━━━━━━━━━━━━━━━━━━\u001b[0m\u001b[37m\u001b[0m \u001b[1m5s\u001b[0m 93ms/step - accuracy: 0.7292 - loss: 0.6668 - val_accuracy: 0.7312 - val_loss: 0.6521\n",
            "\u001b[1m50/50\u001b[0m \u001b[32m━━━━━━━━━━━━━━━━━━━━\u001b[0m\u001b[37m\u001b[0m \u001b[1m5s\u001b[0m 93ms/step - accuracy: 0.7281 - loss: 0.6497 - val_accuracy: 0.7325 - val_loss: 0.6302\n",
            "\u001b[1m50/50\u001b[0m \u001b[32m━━━━━━━━━━━━━━━━━━━━\u001b[0m\u001b[37m\u001b[0m \u001b[1m5s\u001b[0m 93ms/step - accuracy: 0.7272 - loss: 0.6359 - val_accuracy: 0.7425 - val_loss: 0.6108\n",
            "\u001b[1m125/125\u001b[0m \u001b[32m━━━━━━━━━━━━━━━━━━━━\u001b[0m\u001b[37m\u001b[0m \u001b[1m1s\u001b[0m 10ms/step - accuracy: 0.7346 - loss: 0.6129\n"
          ]
        },
        {
          "metadata": {
            "tags": null
          },
          "name": "stderr",
          "output_type": "stream",
          "text": [
            "[I 2024-08-14 19:46:14,824] Trial 35 finished with value: 0.7302500009536743 and parameters: {'num_layers': 4, 'filters_0': 108, 'filters_1': 57, 'filters_2': 41, 'filters_3': 73, 'kernel_size': 2, 'l1': 0.003974539776380172, 'l2': 0.0011564523731515683, 'dense_units': 205, 'dropout_rate': 0.36486819184865404, 'learning_rate': 0.0005144104693220865}. Best is trial 24 with value: 0.7852500081062317.\n"
          ]
        },
        {
          "metadata": {
            "tags": null
          },
          "name": "stdout",
          "output_type": "stream",
          "text": [
            "Trial 36 started with hyperparameters: num_layers=5, filters=[99, 77, 51, 60, 61], kernel_size=2, l1=0.001588620029657606, l2=0.0021882067933582626, dense_units=173, dropout_rate=0.3248741848348246, learning_rate=0.0008481450717955201\n",
            "\u001b[1m50/50\u001b[0m \u001b[32m━━━━━━━━━━━━━━━━━━━━\u001b[0m\u001b[37m\u001b[0m \u001b[1m16s\u001b[0m 159ms/step - accuracy: 0.5109 - loss: 6.1163 - val_accuracy: 0.5175 - val_loss: 3.0884\n",
            "\u001b[1m50/50\u001b[0m \u001b[32m━━━━━━━━━━━━━━━━━━━━\u001b[0m\u001b[37m\u001b[0m \u001b[1m5s\u001b[0m 95ms/step - accuracy: 0.5127 - loss: 2.4451 - val_accuracy: 0.4800 - val_loss: 1.0831\n",
            "\u001b[1m50/50\u001b[0m \u001b[32m━━━━━━━━━━━━━━━━━━━━\u001b[0m\u001b[37m\u001b[0m \u001b[1m5s\u001b[0m 95ms/step - accuracy: 0.5017 - loss: 0.9212 - val_accuracy: 0.4725 - val_loss: 0.7181\n",
            "\u001b[1m50/50\u001b[0m \u001b[32m━━━━━━━━━━━━━━━━━━━━\u001b[0m\u001b[37m\u001b[0m \u001b[1m5s\u001b[0m 94ms/step - accuracy: 0.4946 - loss: 0.7122 - val_accuracy: 0.5063 - val_loss: 0.7059\n",
            "\u001b[1m50/50\u001b[0m \u001b[32m━━━━━━━━━━━━━━━━━━━━\u001b[0m\u001b[37m\u001b[0m \u001b[1m5s\u001b[0m 93ms/step - accuracy: 0.4835 - loss: 0.7058 - val_accuracy: 0.4913 - val_loss: 0.7056\n",
            "\u001b[1m50/50\u001b[0m \u001b[32m━━━━━━━━━━━━━━━━━━━━\u001b[0m\u001b[37m\u001b[0m \u001b[1m5s\u001b[0m 93ms/step - accuracy: 0.4977 - loss: 0.7057 - val_accuracy: 0.5050 - val_loss: 0.7055\n",
            "\u001b[1m50/50\u001b[0m \u001b[32m━━━━━━━━━━━━━━━━━━━━\u001b[0m\u001b[37m\u001b[0m \u001b[1m5s\u001b[0m 93ms/step - accuracy: 0.4922 - loss: 0.7057 - val_accuracy: 0.4663 - val_loss: 0.7058\n",
            "\u001b[1m50/50\u001b[0m \u001b[32m━━━━━━━━━━━━━━━━━━━━\u001b[0m\u001b[37m\u001b[0m \u001b[1m5s\u001b[0m 93ms/step - accuracy: 0.5044 - loss: 0.7055 - val_accuracy: 0.4787 - val_loss: 0.7057\n",
            "\u001b[1m50/50\u001b[0m \u001b[32m━━━━━━━━━━━━━━━━━━━━\u001b[0m\u001b[37m\u001b[0m \u001b[1m5s\u001b[0m 93ms/step - accuracy: 0.5073 - loss: 0.7055 - val_accuracy: 0.5025 - val_loss: 0.7055\n",
            "\u001b[1m125/125\u001b[0m \u001b[32m━━━━━━━━━━━━━━━━━━━━\u001b[0m\u001b[37m\u001b[0m \u001b[1m1s\u001b[0m 11ms/step - accuracy: 0.4971 - loss: 0.7056\n"
          ]
        },
        {
          "metadata": {
            "tags": null
          },
          "name": "stderr",
          "output_type": "stream",
          "text": [
            "[I 2024-08-14 20:00:43,014] Trial 36 finished with value: 0.5 and parameters: {'num_layers': 5, 'filters_0': 99, 'filters_1': 77, 'filters_2': 51, 'filters_3': 60, 'filters_4': 61, 'kernel_size': 2, 'l1': 0.001588620029657606, 'l2': 0.0021882067933582626, 'dense_units': 173, 'dropout_rate': 0.3248741848348246, 'learning_rate': 0.0008481450717955201}. Best is trial 24 with value: 0.7852500081062317.\n"
          ]
        },
        {
          "metadata": {
            "tags": null
          },
          "name": "stdout",
          "output_type": "stream",
          "text": [
            "Trial 37 started with hyperparameters: num_layers=4, filters=[63, 42, 47, 39], kernel_size=3, l1=0.0007003351469808547, l2=9.946033602815044e-05, dense_units=191, dropout_rate=0.12918885040771771, learning_rate=0.0001461147834404549\n",
            "\u001b[1m50/50\u001b[0m \u001b[32m━━━━━━━━━━━━━━━━━━━━\u001b[0m\u001b[37m\u001b[0m \u001b[1m0s\u001b[0m 59ms/step - accuracy: 0.5182 - loss: 2.3758"
          ]
        },
        {
          "metadata": {
            "tags": null
          },
          "name": "stderr",
          "output_type": "stream",
          "text": [
            "[I 2024-08-14 20:02:19,270] Trial 37 pruned. Trial was pruned at epoch 0.\n"
          ]
        },
        {
          "metadata": {
            "tags": null
          },
          "name": "stdout",
          "output_type": "stream",
          "text": [
            "Trial 38 started with hyperparameters: num_layers=4, filters=[79, 35, 66, 84], kernel_size=2, l1=0.0025687902264848288, l2=2.685036794464346e-05, dense_units=238, dropout_rate=0.29149254030703864, learning_rate=8.997646963931625e-05\n",
            "\u001b[1m50/50\u001b[0m \u001b[32m━━━━━━━━━━━━━━━━━━━━\u001b[0m\u001b[37m\u001b[0m \u001b[1m14s\u001b[0m 136ms/step - accuracy: 0.5220 - loss: 6.5443 - val_accuracy: 0.4825 - val_loss: 6.2002\n",
            "\u001b[1m50/50\u001b[0m \u001b[32m━━━━━━━━━━━━━━━━━━━━\u001b[0m\u001b[37m\u001b[0m \u001b[1m4s\u001b[0m 75ms/step - accuracy: 0.5145 - loss: 6.0859 - val_accuracy: 0.4800 - val_loss: 5.7553\n",
            "\u001b[1m50/50\u001b[0m \u001b[32m━━━━━━━━━━━━━━━━━━━━\u001b[0m\u001b[37m\u001b[0m \u001b[1m4s\u001b[0m 75ms/step - accuracy: 0.5635 - loss: 5.6468 - val_accuracy: 0.4725 - val_loss: 5.3504\n",
            "\u001b[1m50/50\u001b[0m \u001b[32m━━━━━━━━━━━━━━━━━━━━\u001b[0m\u001b[37m\u001b[0m \u001b[1m4s\u001b[0m 75ms/step - accuracy: 0.5532 - loss: 5.2384 - val_accuracy: 0.6712 - val_loss: 4.9319\n",
            "\u001b[1m50/50\u001b[0m \u001b[32m━━━━━━━━━━━━━━━━━━━━\u001b[0m\u001b[37m\u001b[0m \u001b[1m4s\u001b[0m 75ms/step - accuracy: 0.6909 - loss: 4.8374 - val_accuracy: 0.7450 - val_loss: 4.5526\n",
            "\u001b[1m50/50\u001b[0m \u001b[32m━━━━━━━━━━━━━━━━━━━━\u001b[0m\u001b[37m\u001b[0m \u001b[1m4s\u001b[0m 75ms/step - accuracy: 0.7201 - loss: 4.4556 - val_accuracy: 0.6212 - val_loss: 4.2338\n",
            "\u001b[1m50/50\u001b[0m \u001b[32m━━━━━━━━━━━━━━━━━━━━\u001b[0m\u001b[37m\u001b[0m \u001b[1m4s\u001b[0m 75ms/step - accuracy: 0.7245 - loss: 4.1100 - val_accuracy: 0.7188 - val_loss: 3.8991\n",
            "\u001b[1m50/50\u001b[0m \u001b[32m━━━━━━━━━━━━━━━━━━━━\u001b[0m\u001b[37m\u001b[0m \u001b[1m4s\u001b[0m 75ms/step - accuracy: 0.7315 - loss: 3.8146 - val_accuracy: 0.7613 - val_loss: 3.5971\n",
            "\u001b[1m50/50\u001b[0m \u001b[32m━━━━━━━━━━━━━━━━━━━━\u001b[0m\u001b[37m\u001b[0m \u001b[1m4s\u001b[0m 75ms/step - accuracy: 0.7504 - loss: 3.5484 - val_accuracy: 0.7688 - val_loss: 3.3560\n",
            "\u001b[1m125/125\u001b[0m \u001b[32m━━━━━━━━━━━━━━━━━━━━\u001b[0m\u001b[37m\u001b[0m \u001b[1m1s\u001b[0m 8ms/step - accuracy: 0.7623 - loss: 3.3590\n"
          ]
        },
        {
          "metadata": {
            "tags": null
          },
          "name": "stderr",
          "output_type": "stream",
          "text": [
            "[I 2024-08-14 20:16:36,647] Trial 38 finished with value: 0.7667499780654907 and parameters: {'num_layers': 4, 'filters_0': 79, 'filters_1': 35, 'filters_2': 66, 'filters_3': 84, 'kernel_size': 2, 'l1': 0.0025687902264848288, 'l2': 2.685036794464346e-05, 'dense_units': 238, 'dropout_rate': 0.29149254030703864, 'learning_rate': 8.997646963931625e-05}. Best is trial 24 with value: 0.7852500081062317.\n"
          ]
        },
        {
          "metadata": {
            "tags": null
          },
          "name": "stdout",
          "output_type": "stream",
          "text": [
            "Trial 39 started with hyperparameters: num_layers=3, filters=[41, 68, 58], kernel_size=2, l1=5.9699584483862045e-05, l2=0.00037492348371272053, dense_units=148, dropout_rate=0.23437858308865617, learning_rate=0.0002433720904718173\n",
            "\u001b[1m50/50\u001b[0m \u001b[32m━━━━━━━━━━━━━━━━━━━━\u001b[0m\u001b[37m\u001b[0m \u001b[1m0s\u001b[0m 47ms/step - accuracy: 0.5420 - loss: 0.8527"
          ]
        },
        {
          "metadata": {
            "tags": null
          },
          "name": "stderr",
          "output_type": "stream",
          "text": [
            "[I 2024-08-14 20:18:09,404] Trial 39 pruned. Trial was pruned at epoch 0.\n"
          ]
        },
        {
          "metadata": {
            "tags": null
          },
          "name": "stdout",
          "output_type": "stream",
          "text": [
            "Trial 40 started with hyperparameters: num_layers=5, filters=[52, 99, 42, 65, 102], kernel_size=3, l1=0.0003831106548625087, l2=0.004438511863493075, dense_units=218, dropout_rate=0.3505515031775049, learning_rate=6.12593406724022e-05\n",
            "\u001b[1m50/50\u001b[0m \u001b[32m━━━━━━━━━━━━━━━━━━━━\u001b[0m\u001b[37m\u001b[0m \u001b[1m18s\u001b[0m 168ms/step - accuracy: 0.5055 - loss: 3.9475 - val_accuracy: 0.4888 - val_loss: 3.7163\n",
            "\u001b[1m50/50\u001b[0m \u001b[32m━━━━━━━━━━━━━━━━━━━━\u001b[0m\u001b[37m\u001b[0m \u001b[1m4s\u001b[0m 77ms/step - accuracy: 0.5449 - loss: 3.6422 - val_accuracy: 0.6700 - val_loss: 3.4283\n",
            "\u001b[1m50/50\u001b[0m \u001b[32m━━━━━━━━━━━━━━━━━━━━\u001b[0m\u001b[37m\u001b[0m \u001b[1m4s\u001b[0m 77ms/step - accuracy: 0.6754 - loss: 3.3579 - val_accuracy: 0.7450 - val_loss: 3.1301\n",
            "\u001b[1m50/50\u001b[0m \u001b[32m━━━━━━━━━━━━━━━━━━━━\u001b[0m\u001b[37m\u001b[0m \u001b[1m4s\u001b[0m 77ms/step - accuracy: 0.7281 - loss: 3.0548 - val_accuracy: 0.7337 - val_loss: 2.8739\n",
            "\u001b[1m50/50\u001b[0m \u001b[32m━━━━━━━━━━━━━━━━━━━━\u001b[0m\u001b[37m\u001b[0m \u001b[1m4s\u001b[0m 77ms/step - accuracy: 0.7329 - loss: 2.8499 - val_accuracy: 0.7250 - val_loss: 2.7359\n",
            "\u001b[1m50/50\u001b[0m \u001b[32m━━━━━━━━━━━━━━━━━━━━\u001b[0m\u001b[37m\u001b[0m \u001b[1m4s\u001b[0m 77ms/step - accuracy: 0.7386 - loss: 2.6922 - val_accuracy: 0.7163 - val_loss: 2.6437\n",
            "\u001b[1m50/50\u001b[0m \u001b[32m━━━━━━━━━━━━━━━━━━━━\u001b[0m\u001b[37m\u001b[0m \u001b[1m4s\u001b[0m 77ms/step - accuracy: 0.7526 - loss: 2.5715 - val_accuracy: 0.7125 - val_loss: 2.5401\n",
            "\u001b[1m50/50\u001b[0m \u001b[32m━━━━━━━━━━━━━━━━━━━━\u001b[0m\u001b[37m\u001b[0m \u001b[1m4s\u001b[0m 77ms/step - accuracy: 0.7437 - loss: 2.4665 - val_accuracy: 0.7475 - val_loss: 2.3878\n",
            "\u001b[1m50/50\u001b[0m \u001b[32m━━━━━━━━━━━━━━━━━━━━\u001b[0m\u001b[37m\u001b[0m \u001b[1m4s\u001b[0m 77ms/step - accuracy: 0.7597 - loss: 2.3654 - val_accuracy: 0.7550 - val_loss: 2.2892\n",
            "\u001b[1m125/125\u001b[0m \u001b[32m━━━━━━━━━━━━━━━━━━━━\u001b[0m\u001b[37m\u001b[0m \u001b[1m1s\u001b[0m 9ms/step - accuracy: 0.7549 - loss: 2.2819\n"
          ]
        },
        {
          "metadata": {
            "tags": null
          },
          "name": "stderr",
          "output_type": "stream",
          "text": [
            "[I 2024-08-14 20:32:31,432] Trial 40 finished with value: 0.7595000267028809 and parameters: {'num_layers': 5, 'filters_0': 52, 'filters_1': 99, 'filters_2': 42, 'filters_3': 65, 'filters_4': 102, 'kernel_size': 3, 'l1': 0.0003831106548625087, 'l2': 0.004438511863493075, 'dense_units': 218, 'dropout_rate': 0.3505515031775049, 'learning_rate': 6.12593406724022e-05}. Best is trial 24 with value: 0.7852500081062317.\n"
          ]
        },
        {
          "metadata": {
            "tags": null
          },
          "name": "stdout",
          "output_type": "stream",
          "text": [
            "Trial 41 started with hyperparameters: num_layers=6, filters=[117, 61, 79, 105, 68, 128], kernel_size=2, l1=4.828163731973459e-06, l2=3.7340450053039936e-06, dense_units=189, dropout_rate=0.38673803660871375, learning_rate=7.415630684318599e-05\n",
            "\u001b[1m50/50\u001b[0m \u001b[32m━━━━━━━━━━━━━━━━━━━━\u001b[0m\u001b[37m\u001b[0m \u001b[1m0s\u001b[0m 95ms/step - accuracy: 0.5056 - loss: 0.7264"
          ]
        },
        {
          "metadata": {
            "tags": null
          },
          "name": "stderr",
          "output_type": "stream",
          "text": [
            "[I 2024-08-14 20:34:10,572] Trial 41 pruned. Trial was pruned at epoch 0.\n"
          ]
        },
        {
          "metadata": {
            "tags": null
          },
          "name": "stdout",
          "output_type": "stream",
          "text": [
            "Trial 42 started with hyperparameters: num_layers=5, filters=[122, 81, 112, 119, 102], kernel_size=2, l1=2.8818840196856778e-05, l2=0.0007715675618826873, dense_units=205, dropout_rate=0.2956162447972635, learning_rate=5.7589199786237664e-05\n",
            "\u001b[1m50/50\u001b[0m \u001b[32m━━━━━━━━━━━━━━━━━━━━\u001b[0m\u001b[37m\u001b[0m \u001b[1m0s\u001b[0m 105ms/step - accuracy: 0.4993 - loss: 1.2248"
          ]
        },
        {
          "metadata": {
            "tags": null
          },
          "name": "stderr",
          "output_type": "stream",
          "text": [
            "[I 2024-08-14 20:35:50,074] Trial 42 pruned. Trial was pruned at epoch 0.\n"
          ]
        },
        {
          "metadata": {
            "tags": null
          },
          "name": "stdout",
          "output_type": "stream",
          "text": [
            "Trial 43 started with hyperparameters: num_layers=5, filters=[103, 88, 90, 91, 39], kernel_size=2, l1=8.079379050573981e-06, l2=2.4473469662231963e-06, dense_units=169, dropout_rate=0.21061101592150183, learning_rate=2.6349595968383707e-05\n",
            "\u001b[1m50/50\u001b[0m \u001b[32m━━━━━━━━━━━━━━━━━━━━\u001b[0m\u001b[37m\u001b[0m \u001b[1m0s\u001b[0m 94ms/step - accuracy: 0.5082 - loss: 0.7377"
          ]
        },
        {
          "metadata": {
            "tags": null
          },
          "name": "stderr",
          "output_type": "stream",
          "text": [
            "[I 2024-08-14 20:37:29,027] Trial 43 pruned. Trial was pruned at epoch 0.\n"
          ]
        },
        {
          "metadata": {
            "tags": null
          },
          "name": "stdout",
          "output_type": "stream",
          "text": [
            "Trial 44 started with hyperparameters: num_layers=4, filters=[112, 64, 98, 120], kernel_size=2, l1=0.00020656668466676394, l2=0.00021126101031914923, dense_units=225, dropout_rate=0.2735241207176947, learning_rate=1.111768224492296e-05\n",
            "\u001b[1m50/50\u001b[0m \u001b[32m━━━━━━━━━━━━━━━━━━━━\u001b[0m\u001b[37m\u001b[0m \u001b[1m0s\u001b[0m 90ms/step - accuracy: 0.5103 - loss: 1.6765"
          ]
        },
        {
          "metadata": {
            "tags": null
          },
          "name": "stderr",
          "output_type": "stream",
          "text": [
            "[I 2024-08-14 20:39:05,531] Trial 44 pruned. Trial was pruned at epoch 0.\n"
          ]
        },
        {
          "metadata": {
            "tags": null
          },
          "name": "stdout",
          "output_type": "stream",
          "text": [
            "Trial 45 started with hyperparameters: num_layers=5, filters=[122, 48, 36, 105, 73], kernel_size=2, l1=0.00010069993295215758, l2=1.218511029049565e-05, dense_units=182, dropout_rate=0.3278655909276867, learning_rate=0.00019519210816273106\n",
            "\u001b[1m50/50\u001b[0m \u001b[32m━━━━━━━━━━━━━━━━━━━━\u001b[0m\u001b[37m\u001b[0m \u001b[1m0s\u001b[0m 90ms/step - accuracy: 0.5171 - loss: 1.0623"
          ]
        },
        {
          "metadata": {
            "tags": null
          },
          "name": "stderr",
          "output_type": "stream",
          "text": [
            "[I 2024-08-14 20:40:42,268] Trial 45 pruned. Trial was pruned at epoch 0.\n"
          ]
        },
        {
          "metadata": {
            "tags": null
          },
          "name": "stdout",
          "output_type": "stream",
          "text": [
            "Trial 46 started with hyperparameters: num_layers=4, filters=[92, 42, 47, 97], kernel_size=2, l1=0.0006228850146577889, l2=6.930628373090688e-06, dense_units=198, dropout_rate=0.24810798282114377, learning_rate=0.0003725783975298054\n",
            "\u001b[1m50/50\u001b[0m \u001b[32m━━━━━━━━━━━━━━━━━━━━\u001b[0m\u001b[37m\u001b[0m \u001b[1m0s\u001b[0m 73ms/step - accuracy: 0.5089 - loss: 2.0517"
          ]
        },
        {
          "metadata": {
            "tags": null
          },
          "name": "stderr",
          "output_type": "stream",
          "text": [
            "[I 2024-08-14 20:42:22,742] Trial 46 pruned. Trial was pruned at epoch 0.\n"
          ]
        },
        {
          "metadata": {
            "tags": null
          },
          "name": "stdout",
          "output_type": "stream",
          "text": [
            "Trial 47 started with hyperparameters: num_layers=6, filters=[95, 59, 126, 73, 91, 37], kernel_size=2, l1=1.2751142785267464e-05, l2=7.544311476187953e-05, dense_units=123, dropout_rate=0.3416396841753583, learning_rate=0.0001695142761818081\n",
            "\u001b[1m50/50\u001b[0m \u001b[32m━━━━━━━━━━━━━━━━━━━━\u001b[0m\u001b[37m\u001b[0m \u001b[1m0s\u001b[0m 83ms/step - accuracy: 0.4991 - loss: 0.7970"
          ]
        },
        {
          "metadata": {
            "tags": null
          },
          "name": "stderr",
          "output_type": "stream",
          "text": [
            "[I 2024-08-14 20:44:03,821] Trial 47 pruned. Trial was pruned at epoch 0.\n"
          ]
        },
        {
          "output_type": "stream",
          "name": "stdout",
          "text": [
            "Trial 48 started with hyperparameters: num_layers=5, filters=[85, 53, 80, 64, 113], kernel_size=2, l1=0.0010190961383610023, l2=1.0341881678375931e-06, dense_units=155, dropout_rate=0.43080111971190316, learning_rate=9.673684306045099e-05\n",
            "\u001b[1m50/50\u001b[0m \u001b[32m━━━━━━━━━━━━━━━━━━━━\u001b[0m\u001b[37m\u001b[0m \u001b[1m14s\u001b[0m 138ms/step - accuracy: 0.4974 - loss: 4.9188 - val_accuracy: 0.4825 - val_loss: 4.6340\n",
            "\u001b[1m50/50\u001b[0m \u001b[32m━━━━━━━━━━━━━━━━━━━━\u001b[0m\u001b[37m\u001b[0m \u001b[1m4s\u001b[0m 83ms/step - accuracy: 0.5342 - loss: 4.5411 - val_accuracy: 0.7150 - val_loss: 4.2715\n",
            "\u001b[1m50/50\u001b[0m \u001b[32m━━━━━━━━━━━━━━━━━━━━\u001b[0m\u001b[37m\u001b[0m \u001b[1m4s\u001b[0m 84ms/step - accuracy: 0.6366 - loss: 4.1853 - val_accuracy: 0.7600 - val_loss: 3.9309\n",
            "\u001b[1m50/50\u001b[0m \u001b[32m━━━━━━━━━━━━━━━━━━━━\u001b[0m\u001b[37m\u001b[0m \u001b[1m4s\u001b[0m 83ms/step - accuracy: 0.5991 - loss: 3.8553 - val_accuracy: 0.7250 - val_loss: 3.6109\n",
            "\u001b[1m50/50\u001b[0m \u001b[32m━━━━━━━━━━━━━━━━━━━━\u001b[0m\u001b[37m\u001b[0m \u001b[1m4s\u001b[0m 83ms/step - accuracy: 0.6903 - loss: 3.5395 - val_accuracy: 0.6575 - val_loss: 3.3486\n",
            "\u001b[1m50/50\u001b[0m \u001b[32m━━━━━━━━━━━━━━━━━━━━\u001b[0m\u001b[37m\u001b[0m \u001b[1m4s\u001b[0m 83ms/step - accuracy: 0.7086 - loss: 3.2574 - val_accuracy: 0.6875 - val_loss: 3.1218\n",
            "\u001b[1m50/50\u001b[0m \u001b[32m━━━━━━━━━━━━━━━━━━━━\u001b[0m\u001b[37m\u001b[0m \u001b[1m4s\u001b[0m 83ms/step - accuracy: 0.7358 - loss: 3.0190 - val_accuracy: 0.7150 - val_loss: 2.8979\n",
            "\u001b[1m50/50\u001b[0m \u001b[32m━━━━━━━━━━━━━━━━━━━━\u001b[0m\u001b[37m\u001b[0m \u001b[1m4s\u001b[0m 83ms/step - accuracy: 0.7429 - loss: 2.8152 - val_accuracy: 0.7588 - val_loss: 2.6701\n",
            "\u001b[1m50/50\u001b[0m \u001b[32m━━━━━━━━━━━━━━━━━━━━\u001b[0m\u001b[37m\u001b[0m \u001b[1m4s\u001b[0m 83ms/step - accuracy: 0.7505 - loss: 2.6413 - val_accuracy: 0.7588 - val_loss: 2.5027\n",
            "\u001b[1m125/125\u001b[0m \u001b[32m━━━━━━━━━━━━━━━━━━━━\u001b[0m\u001b[37m\u001b[0m \u001b[1m1s\u001b[0m 9ms/step - accuracy: 0.7489 - loss: 2.5086\n"
          ]
        },
        {
          "output_type": "stream",
          "name": "stderr",
          "text": [
            "[I 2024-08-14 20:58:24,457] Trial 48 finished with value: 0.7482500076293945 and parameters: {'num_layers': 5, 'filters_0': 85, 'filters_1': 53, 'filters_2': 80, 'filters_3': 64, 'filters_4': 113, 'kernel_size': 2, 'l1': 0.0010190961383610023, 'l2': 1.0341881678375931e-06, 'dense_units': 155, 'dropout_rate': 0.43080111971190316, 'learning_rate': 9.673684306045099e-05}. Best is trial 24 with value: 0.7852500081062317.\n"
          ]
        },
        {
          "output_type": "stream",
          "name": "stdout",
          "text": [
            "Trial 49 started with hyperparameters: num_layers=4, filters=[102, 72, 32, 91], kernel_size=2, l1=0.001802391356202278, l2=0.000520916623531664, dense_units=210, dropout_rate=0.3018479827222486, learning_rate=4.527838388547124e-05\n",
            "\u001b[1m50/50\u001b[0m \u001b[32m━━━━━━━━━━━━━━━━━━━━\u001b[0m\u001b[37m\u001b[0m \u001b[1m17s\u001b[0m 181ms/step - accuracy: 0.5019 - loss: 5.4168 - val_accuracy: 0.4825 - val_loss: 5.2659\n",
            "\u001b[1m50/50\u001b[0m \u001b[32m━━━━━━━━━━━━━━━━━━━━\u001b[0m\u001b[37m\u001b[0m \u001b[1m5s\u001b[0m 98ms/step - accuracy: 0.5709 - loss: 5.2123 - val_accuracy: 0.7175 - val_loss: 5.0638\n",
            "\u001b[1m50/50\u001b[0m \u001b[32m━━━━━━━━━━━━━━━━━━━━\u001b[0m\u001b[37m\u001b[0m \u001b[1m5s\u001b[0m 98ms/step - accuracy: 0.6984 - loss: 5.0180 - val_accuracy: 0.7462 - val_loss: 4.8725\n",
            "\u001b[1m50/50\u001b[0m \u001b[32m━━━━━━━━━━━━━━━━━━━━\u001b[0m\u001b[37m\u001b[0m \u001b[1m5s\u001b[0m 98ms/step - accuracy: 0.6647 - loss: 4.8351 - val_accuracy: 0.7362 - val_loss: 4.7040\n",
            "\u001b[1m50/50\u001b[0m \u001b[32m━━━━━━━━━━━━━━━━━━━━\u001b[0m\u001b[37m\u001b[0m \u001b[1m5s\u001b[0m 98ms/step - accuracy: 0.7269 - loss: 4.6723 - val_accuracy: 0.7600 - val_loss: 4.5524\n",
            "\u001b[1m50/50\u001b[0m \u001b[32m━━━━━━━━━━━━━━━━━━━━\u001b[0m\u001b[37m\u001b[0m \u001b[1m5s\u001b[0m 98ms/step - accuracy: 0.7438 - loss: 4.5092 - val_accuracy: 0.6562 - val_loss: 4.4570\n",
            "\u001b[1m50/50\u001b[0m \u001b[32m━━━━━━━━━━━━━━━━━━━━\u001b[0m\u001b[37m\u001b[0m \u001b[1m5s\u001b[0m 98ms/step - accuracy: 0.7459 - loss: 4.3783 - val_accuracy: 0.6800 - val_loss: 4.3322\n",
            "\u001b[1m50/50\u001b[0m \u001b[32m━━━━━━━━━━━━━━━━━━━━\u001b[0m\u001b[37m\u001b[0m \u001b[1m5s\u001b[0m 98ms/step - accuracy: 0.7433 - loss: 4.2471 - val_accuracy: 0.7675 - val_loss: 4.1617\n",
            "\u001b[1m50/50\u001b[0m \u001b[32m━━━━━━━━━━━━━━━━━━━━\u001b[0m\u001b[37m\u001b[0m \u001b[1m5s\u001b[0m 98ms/step - accuracy: 0.7661 - loss: 4.1367 - val_accuracy: 0.7500 - val_loss: 4.0467\n",
            "\u001b[1m125/125\u001b[0m \u001b[32m━━━━━━━━━━━━━━━━━━━━\u001b[0m\u001b[37m\u001b[0m \u001b[1m1s\u001b[0m 11ms/step - accuracy: 0.7661 - loss: 4.0461\n"
          ]
        },
        {
          "output_type": "stream",
          "name": "stderr",
          "text": [
            "[I 2024-08-14 21:12:54,916] Trial 49 finished with value: 0.7695000171661377 and parameters: {'num_layers': 4, 'filters_0': 102, 'filters_1': 72, 'filters_2': 32, 'filters_3': 91, 'kernel_size': 2, 'l1': 0.001802391356202278, 'l2': 0.000520916623531664, 'dense_units': 210, 'dropout_rate': 0.3018479827222486, 'learning_rate': 4.527838388547124e-05}. Best is trial 24 with value: 0.7852500081062317.\n"
          ]
        },
        {
          "output_type": "stream",
          "name": "stdout",
          "text": [
            "Best trial:\n",
            "Value: 0.7852500081062317\n",
            "Params: \n",
            "    num_layers: 4\n",
            "    filters_0: 101\n",
            "    filters_1: 49\n",
            "    filters_2: 41\n",
            "    filters_3: 76\n",
            "    kernel_size: 2\n",
            "    l1: 0.000886865899233485\n",
            "    l2: 0.00027895435203828013\n",
            "    dense_units: 214\n",
            "    dropout_rate: 0.2572558934185246\n",
            "    learning_rate: 0.00027360324209931307\n",
            "Elapsed time: 23274.69 seconds\n"
          ]
        }
      ]
    },
    {
      "cell_type": "markdown",
      "source": [
        "Intermediate and strong selection"
      ],
      "metadata": {
        "id": "6Csp-wRyvR2B"
      }
    },
    {
      "cell_type": "code",
      "source": [
        "# Configure logging to file in the current directory with the specified name\n",
        "logging.basicConfig(filename='intermediate_Scenarios_IS.log', level=logging.INFO,\n",
        "                    format='%(asctime)s:%(levelname)s:%(message)s')\n",
        "\n",
        "# Function to preprocess data\n",
        "def preprocess_data(simulations_folder, batch_number):\n",
        "    # Create ImaFile object for the specified simulation folder and model\n",
        "    file_sim = ImaFile(simulations_folder=os.path.join(simulations_folder, f'Simulations{batch_number}'), nr_samples=198, model_name='Marth-3epoch-CEU')\n",
        "\n",
        "    # Read the simulation data\n",
        "    gene_sim = file_sim.read_simulations(parameter_name='selection_coeff_hetero', max_nrepl=4000)\n",
        "\n",
        "    # Filter simulations based on frequency threshold\n",
        "    gene_sim.filter_freq(0.01)\n",
        "\n",
        "    # Sort simulations by row frequency\n",
        "    gene_sim.sort('rows_freq')\n",
        "\n",
        "    # Resize simulation data to the required dimensions\n",
        "    gene_sim.resize((198, 192))\n",
        "\n",
        "    # Convert simulation data (flip=True allows for data augmentation)\n",
        "    gene_sim.convert(flip=True)\n",
        "\n",
        "    # Get a random subset of indices and subset the simulation data\n",
        "    gene_sim.subset(get_index_random(gene_sim))\n",
        "\n",
        "    # Convert targets to binary format\n",
        "    gene_sim.targets = to_binary(gene_sim.targets)\n",
        "\n",
        "    return gene_sim\n",
        "\n",
        "# Objective function for Optuna optimization\n",
        "def objective(trial, simulations_folder, epochs=1):\n",
        "    # Set random seed\n",
        "    np.random.seed(42)\n",
        "    tf.random.set_seed(42)\n",
        "\n",
        "    # Hyperparameters to be optimized\n",
        "    num_layers = trial.suggest_int('num_layers', 3, 6)  # Limit the number of layers to avoid excessive reduction\n",
        "    filters = [trial.suggest_int(f'filters_{i}', 32, 128) for i in range(num_layers)]  # Adjust filters range\n",
        "    kernel_size = trial.suggest_int('kernel_size', 2, 3)  # Limit the kernel size to avoid excessive reduction\n",
        "    l1 = trial.suggest_float('l1', 1e-6, 1e-2, log=True)\n",
        "    l2 = trial.suggest_float('l2', 1e-6, 1e-2, log=True)\n",
        "    dense_units = trial.suggest_int('dense_units', 64, 256)  # Adjust dense units range\n",
        "    dropout_rate = trial.suggest_float('dropout_rate', 0.1, 0.5)\n",
        "    learning_rate = trial.suggest_float('learning_rate', 1e-5, 1e-3, log=True)\n",
        "\n",
        "    # Log the hyperparameters at the start of each trial\n",
        "    logging.info(f'Trial {trial.number} started with hyperparameters: num_layers={num_layers}, filters={filters}, '\n",
        "                 f'kernel_size={kernel_size}, l1={l1}, l2={l2}, dense_units={dense_units}, '\n",
        "                 f'dropout_rate={dropout_rate}, learning_rate={learning_rate}')\n",
        "    print(f'Trial {trial.number} started with hyperparameters: num_layers={num_layers}, filters={filters}, '\n",
        "          f'kernel_size={kernel_size}, l1={l1}, l2={l2}, dense_units={dense_units}, '\n",
        "          f'dropout_rate={dropout_rate}, learning_rate={learning_rate}')\n",
        "\n",
        "    # Building the model based on sampled hyperparameters\n",
        "    model = models.Sequential()\n",
        "    model.add(layers.Input(shape=(198, 192, 1)))  # Define the input layer\n",
        "    for i in range(num_layers):\n",
        "        model.add(layers.Conv2D(filters=filters[i], kernel_size=(kernel_size, kernel_size), strides=(1, 1), activation='relu',\n",
        "                                kernel_regularizer=regularizers.l1_l2(l1=l1, l2=l2), padding='same'))  # Use 'same' padding to avoid dimension issues\n",
        "        model.add(layers.MaxPooling2D(pool_size=(2, 2)))\n",
        "\n",
        "    model.add(layers.Flatten())  # Flatten the output for the Dense layers\n",
        "    model.add(layers.Dense(units=dense_units, activation='relu'))  # Add Dense layer\n",
        "    model.add(layers.Dropout(rate=dropout_rate))  # Add Dropout layer\n",
        "    model.add(layers.Dense(units=1, activation='sigmoid'))  # Output layer with sigmoid activation\n",
        "\n",
        "    optimizer = tf.keras.optimizers.Adam(learning_rate=learning_rate)  # Define optimizer\n",
        "    model.compile(optimizer=optimizer, loss='binary_crossentropy', metrics=['accuracy'])  # Compile the model\n",
        "\n",
        "    # Pruning callback to terminate unpromising trials\n",
        "    pruning_callback = TFKerasPruningCallback(trial, 'val_loss')\n",
        "\n",
        "    # Early stopping to prevent overfitting\n",
        "    early_stopping = EarlyStopping(monitor='val_loss', patience=3, restore_best_weights=True)\n",
        "\n",
        "    # Incremental training on 9 batches\n",
        "    best_val_loss = np.inf  # Track the best validation loss\n",
        "    for batch_number in range(1, 10):\n",
        "        gene_sim = preprocess_data(simulations_folder, batch_number)  # Preprocess data\n",
        "        history = model.fit(gene_sim.data, gene_sim.targets, batch_size=64, epochs=epochs, verbose=1, validation_split=0.2,\n",
        "                            callbacks=[early_stopping, pruning_callback])  # Train the model with callbacks\n",
        "\n",
        "        # Get the validation loss for the current epoch\n",
        "        val_loss = min(history.history['val_loss'])\n",
        "        if val_loss < best_val_loss:\n",
        "            best_val_loss = val_loss\n",
        "            trial.report(val_loss, batch_number)\n",
        "            if trial.should_prune():\n",
        "                raise optuna.exceptions.TrialPruned()\n",
        "\n",
        "    # Evaluate the model on the 10th batch\n",
        "    gene_sim = preprocess_data(simulations_folder, 10)\n",
        "    evaluation = model.evaluate(gene_sim.data, gene_sim.targets, verbose=1)\n",
        "    return evaluation[1]  # Return the accuracy\n",
        "\n",
        "# Function to run the optimization process\n",
        "def run_optimization():\n",
        "    start_time = time.time()  # Record start time\n",
        "\n",
        "    simulations_folder = '/content/EvoNet-CNN-Insight/model_training/intermediate_strong/IS'  # Folder for this dataset\n",
        "    logging.info(f\"Starting optimization for {simulations_folder}\")\n",
        "    print(f\"Starting optimization for {simulations_folder}\")\n",
        "\n",
        "    # Create an Optuna study and optimize the objective function\n",
        "    study = optuna.create_study(direction='maximize', pruner=optuna.pruners.MedianPruner(), storage='sqlite:///is_study.db', load_if_exists=True)  # Use SQLite storage\n",
        "    study.optimize(lambda trial: objective(trial, simulations_folder), n_trials=50)  # Set to 50 trials\n",
        "\n",
        "    try:\n",
        "        trial = study.best_trial\n",
        "        print('Best trial:')\n",
        "        print('Value: {}'.format(trial.value))\n",
        "        print('Params: ')\n",
        "        for key, value in trial.params.items():\n",
        "            print('    {}: {}'.format(key, value))  # Print best trial parameters\n",
        "\n",
        "        logging.info('Best trial:')\n",
        "        logging.info('Value: {}'.format(trial.value))\n",
        "        logging.info('Params: ')\n",
        "        for key, value in trial.params.items():\n",
        "            logging.info('    {}: {}'.format(key, value))  # Log best trial parameters\n",
        "\n",
        "    except ValueError as e:\n",
        "        logging.error(f\"No completed trials: {e}\")  # Log error if no trials are completed\n",
        "\n",
        "    elapsed_time = time.time() - start_time  # Calculate elapsed time\n",
        "    print(f\"Elapsed time: {elapsed_time:.2f} seconds\")\n",
        "    logging.info(f\"Elapsed time: {elapsed_time:.2f} seconds\")  # Log elapsed time\n",
        "\n",
        "# Run the optimization process\n",
        "if __name__ == '__main__':\n",
        "    run_optimization()  # Execute the optimization function"
      ],
      "metadata": {
        "colab": {
          "base_uri": "https://localhost:8080/"
        },
        "id": "ZJsLsW60vQdY",
        "outputId": "5c998e92-532f-4121-e77e-b6f84a59d03a"
      },
      "execution_count": null,
      "outputs": [
        {
          "output_type": "stream",
          "name": "stdout",
          "text": [
            "Starting optimization for /content/EvoNet-CNN-Insight/model_training/intermediate_strong/IS\n"
          ]
        },
        {
          "output_type": "stream",
          "name": "stderr",
          "text": [
            "[I 2024-08-14 22:59:40,685] A new study created in RDB with name: no-name-3fad69ab-3a4c-4321-99b9-400fb09b0464\n"
          ]
        },
        {
          "output_type": "stream",
          "name": "stdout",
          "text": [
            "Trial 0 started with hyperparameters: num_layers=4, filters=[98, 35, 111, 123], kernel_size=3, l1=0.0002447689183653179, l2=0.0007330573344016155, dense_units=225, dropout_rate=0.1690385347736852, learning_rate=3.978281882197443e-05\n",
            "\u001b[1m50/50\u001b[0m \u001b[32m━━━━━━━━━━━━━━━━━━━━\u001b[0m\u001b[37m\u001b[0m \u001b[1m19s\u001b[0m 191ms/step - accuracy: 0.5141 - loss: 2.2066 - val_accuracy: 0.4825 - val_loss: 2.1425\n",
            "\u001b[1m50/50\u001b[0m \u001b[32m━━━━━━━━━━━━━━━━━━━━\u001b[0m\u001b[37m\u001b[0m \u001b[1m5s\u001b[0m 96ms/step - accuracy: 0.5351 - loss: 2.1180 - val_accuracy: 0.6762 - val_loss: 2.0502\n",
            "\u001b[1m50/50\u001b[0m \u001b[32m━━━━━━━━━━━━━━━━━━━━\u001b[0m\u001b[37m\u001b[0m \u001b[1m5s\u001b[0m 96ms/step - accuracy: 0.6584 - loss: 2.0221 - val_accuracy: 0.7025 - val_loss: 1.9153\n",
            "\u001b[1m50/50\u001b[0m \u001b[32m━━━━━━━━━━━━━━━━━━━━\u001b[0m\u001b[37m\u001b[0m \u001b[1m5s\u001b[0m 96ms/step - accuracy: 0.7155 - loss: 1.8864 - val_accuracy: 0.7088 - val_loss: 1.8227\n",
            "\u001b[1m50/50\u001b[0m \u001b[32m━━━━━━━━━━━━━━━━━━━━\u001b[0m\u001b[37m\u001b[0m \u001b[1m5s\u001b[0m 96ms/step - accuracy: 0.6919 - loss: 1.8216 - val_accuracy: 0.6975 - val_loss: 1.8081\n",
            "\u001b[1m50/50\u001b[0m \u001b[32m━━━━━━━━━━━━━━━━━━━━\u001b[0m\u001b[37m\u001b[0m \u001b[1m5s\u001b[0m 96ms/step - accuracy: 0.6835 - loss: 1.7933 - val_accuracy: 0.7025 - val_loss: 1.7598\n",
            "\u001b[1m50/50\u001b[0m \u001b[32m━━━━━━━━━━━━━━━━━━━━\u001b[0m\u001b[37m\u001b[0m \u001b[1m5s\u001b[0m 96ms/step - accuracy: 0.7379 - loss: 1.7249 - val_accuracy: 0.6500 - val_loss: 1.7732\n",
            "\u001b[1m50/50\u001b[0m \u001b[32m━━━━━━━━━━━━━━━━━━━━\u001b[0m\u001b[37m\u001b[0m \u001b[1m5s\u001b[0m 96ms/step - accuracy: 0.7186 - loss: 1.6846 - val_accuracy: 0.7138 - val_loss: 1.6565\n",
            "\u001b[1m50/50\u001b[0m \u001b[32m━━━━━━━━━━━━━━━━━━━━\u001b[0m\u001b[37m\u001b[0m \u001b[1m5s\u001b[0m 96ms/step - accuracy: 0.6886 - loss: 1.6904 - val_accuracy: 0.7000 - val_loss: 1.6439\n",
            "\u001b[1m125/125\u001b[0m \u001b[32m━━━━━━━━━━━━━━━━━━━━\u001b[0m\u001b[37m\u001b[0m \u001b[1m1s\u001b[0m 11ms/step - accuracy: 0.7206 - loss: 1.6216\n"
          ]
        },
        {
          "output_type": "stream",
          "name": "stderr",
          "text": [
            "[I 2024-08-14 23:14:26,991] Trial 0 finished with value: 0.7110000252723694 and parameters: {'num_layers': 4, 'filters_0': 98, 'filters_1': 35, 'filters_2': 111, 'filters_3': 123, 'kernel_size': 3, 'l1': 0.0002447689183653179, 'l2': 0.0007330573344016155, 'dense_units': 225, 'dropout_rate': 0.1690385347736852, 'learning_rate': 3.978281882197443e-05}. Best is trial 0 with value: 0.7110000252723694.\n"
          ]
        },
        {
          "output_type": "stream",
          "name": "stdout",
          "text": [
            "Trial 1 started with hyperparameters: num_layers=5, filters=[105, 107, 59, 81, 90], kernel_size=3, l1=8.066935659989512e-06, l2=0.001072238590535673, dense_units=77, dropout_rate=0.3274310397851899, learning_rate=5.846119958155314e-05\n",
            "\u001b[1m50/50\u001b[0m \u001b[32m━━━━━━━━━━━━━━━━━━━━\u001b[0m\u001b[37m\u001b[0m \u001b[1m21s\u001b[0m 216ms/step - accuracy: 0.5090 - loss: 1.1144 - val_accuracy: 0.5800 - val_loss: 1.0872\n",
            "\u001b[1m50/50\u001b[0m \u001b[32m━━━━━━━━━━━━━━━━━━━━\u001b[0m\u001b[37m\u001b[0m \u001b[1m6s\u001b[0m 121ms/step - accuracy: 0.5243 - loss: 1.0781 - val_accuracy: 0.4800 - val_loss: 1.0542\n",
            "\u001b[1m50/50\u001b[0m \u001b[32m━━━━━━━━━━━━━━━━━━━━\u001b[0m\u001b[37m\u001b[0m \u001b[1m6s\u001b[0m 121ms/step - accuracy: 0.6002 - loss: 1.0380 - val_accuracy: 0.6787 - val_loss: 0.9678\n",
            "\u001b[1m50/50\u001b[0m \u001b[32m━━━━━━━━━━━━━━━━━━━━\u001b[0m\u001b[37m\u001b[0m \u001b[1m6s\u001b[0m 121ms/step - accuracy: 0.6599 - loss: 0.9540 - val_accuracy: 0.6650 - val_loss: 0.9209\n",
            "\u001b[1m50/50\u001b[0m \u001b[32m━━━━━━━━━━━━━━━━━━━━\u001b[0m\u001b[37m\u001b[0m \u001b[1m6s\u001b[0m 121ms/step - accuracy: 0.6783 - loss: 0.9168 - val_accuracy: 0.7088 - val_loss: 0.8748\n",
            "\u001b[1m50/50\u001b[0m \u001b[32m━━━━━━━━━━━━━━━━━━━━\u001b[0m\u001b[37m\u001b[0m \u001b[1m6s\u001b[0m 121ms/step - accuracy: 0.6939 - loss: 0.8856 - val_accuracy: 0.6475 - val_loss: 0.9217\n",
            "\u001b[1m50/50\u001b[0m \u001b[32m━━━━━━━━━━━━━━━━━━━━\u001b[0m\u001b[37m\u001b[0m \u001b[1m6s\u001b[0m 121ms/step - accuracy: 0.7217 - loss: 0.8579 - val_accuracy: 0.6450 - val_loss: 0.9330\n",
            "\u001b[1m50/50\u001b[0m \u001b[32m━━━━━━━━━━━━━━━━━━━━\u001b[0m\u001b[37m\u001b[0m \u001b[1m6s\u001b[0m 121ms/step - accuracy: 0.7133 - loss: 0.8583 - val_accuracy: 0.7163 - val_loss: 0.8490\n",
            "\u001b[1m50/50\u001b[0m \u001b[32m━━━━━━━━━━━━━━━━━━━━\u001b[0m\u001b[37m\u001b[0m \u001b[1m6s\u001b[0m 121ms/step - accuracy: 0.6734 - loss: 0.8858 - val_accuracy: 0.7013 - val_loss: 0.8394\n",
            "\u001b[1m125/125\u001b[0m \u001b[32m━━━━━━━━━━━━━━━━━━━━\u001b[0m\u001b[37m\u001b[0m \u001b[1m2s\u001b[0m 14ms/step - accuracy: 0.7190 - loss: 0.8214\n"
          ]
        },
        {
          "output_type": "stream",
          "name": "stderr",
          "text": [
            "[I 2024-08-14 23:29:25,769] Trial 1 finished with value: 0.7107499837875366 and parameters: {'num_layers': 5, 'filters_0': 105, 'filters_1': 107, 'filters_2': 59, 'filters_3': 81, 'filters_4': 90, 'kernel_size': 3, 'l1': 8.066935659989512e-06, 'l2': 0.001072238590535673, 'dense_units': 77, 'dropout_rate': 0.3274310397851899, 'learning_rate': 5.846119958155314e-05}. Best is trial 0 with value: 0.7110000252723694.\n"
          ]
        },
        {
          "output_type": "stream",
          "name": "stdout",
          "text": [
            "Trial 2 started with hyperparameters: num_layers=5, filters=[63, 75, 78, 34, 78], kernel_size=3, l1=0.006640580994744969, l2=0.0009655255792751019, dense_units=179, dropout_rate=0.201044555288187, learning_rate=1.963362497239483e-05\n",
            "\u001b[1m50/50\u001b[0m \u001b[32m━━━━━━━━━━━━━━━━━━━━\u001b[0m\u001b[37m\u001b[0m \u001b[1m16s\u001b[0m 157ms/step - accuracy: 0.5108 - loss: 34.4364 - val_accuracy: 0.5625 - val_loss: 33.7346\n",
            "\u001b[1m50/50\u001b[0m \u001b[32m━━━━━━━━━━━━━━━━━━━━\u001b[0m\u001b[37m\u001b[0m \u001b[1m4s\u001b[0m 80ms/step - accuracy: 0.5027 - loss: 33.5040 - val_accuracy: 0.4837 - val_loss: 32.8118\n",
            "\u001b[1m50/50\u001b[0m \u001b[32m━━━━━━━━━━━━━━━━━━━━\u001b[0m\u001b[37m\u001b[0m \u001b[1m4s\u001b[0m 80ms/step - accuracy: 0.4889 - loss: 32.5844 - val_accuracy: 0.5775 - val_loss: 31.9027\n",
            "\u001b[1m50/50\u001b[0m \u001b[32m━━━━━━━━━━━━━━━━━━━━\u001b[0m\u001b[37m\u001b[0m \u001b[1m4s\u001b[0m 80ms/step - accuracy: 0.5021 - loss: 31.6785 - val_accuracy: 0.4938 - val_loss: 31.0068\n",
            "\u001b[1m50/50\u001b[0m \u001b[32m━━━━━━━━━━━━━━━━━━━━\u001b[0m\u001b[37m\u001b[0m \u001b[1m4s\u001b[0m 80ms/step - accuracy: 0.5259 - loss: 30.7855 - val_accuracy: 0.6263 - val_loss: 30.1249\n",
            "\u001b[1m50/50\u001b[0m \u001b[32m━━━━━━━━━━━━━━━━━━━━\u001b[0m\u001b[37m\u001b[0m \u001b[1m4s\u001b[0m 80ms/step - accuracy: 0.5218 - loss: 29.9073 - val_accuracy: 0.5175 - val_loss: 29.2570\n",
            "\u001b[1m50/50\u001b[0m \u001b[32m━━━━━━━━━━━━━━━━━━━━\u001b[0m\u001b[37m\u001b[0m \u001b[1m4s\u001b[0m 80ms/step - accuracy: 0.5249 - loss: 29.0430 - val_accuracy: 0.4663 - val_loss: 28.4037\n",
            "\u001b[1m50/50\u001b[0m \u001b[32m━━━━━━━━━━━━━━━━━━━━\u001b[0m\u001b[37m\u001b[0m \u001b[1m4s\u001b[0m 80ms/step - accuracy: 0.5313 - loss: 28.1917 - val_accuracy: 0.4775 - val_loss: 27.5625\n",
            "\u001b[1m50/50\u001b[0m \u001b[32m━━━━━━━━━━━━━━━━━━━━\u001b[0m\u001b[37m\u001b[0m \u001b[1m4s\u001b[0m 81ms/step - accuracy: 0.5138 - loss: 27.3550 - val_accuracy: 0.5175 - val_loss: 26.7351\n",
            "\u001b[1m125/125\u001b[0m \u001b[32m━━━━━━━━━━━━━━━━━━━━\u001b[0m\u001b[37m\u001b[0m \u001b[1m1s\u001b[0m 9ms/step - accuracy: 0.5169 - loss: 26.7350\n"
          ]
        },
        {
          "output_type": "stream",
          "name": "stderr",
          "text": [
            "[I 2024-08-14 23:44:01,509] Trial 2 finished with value: 0.5205000042915344 and parameters: {'num_layers': 5, 'filters_0': 63, 'filters_1': 75, 'filters_2': 78, 'filters_3': 34, 'filters_4': 78, 'kernel_size': 3, 'l1': 0.006640580994744969, 'l2': 0.0009655255792751019, 'dense_units': 179, 'dropout_rate': 0.201044555288187, 'learning_rate': 1.963362497239483e-05}. Best is trial 0 with value: 0.7110000252723694.\n"
          ]
        },
        {
          "output_type": "stream",
          "name": "stdout",
          "text": [
            "Trial 3 started with hyperparameters: num_layers=6, filters=[77, 114, 44, 116, 80, 42], kernel_size=2, l1=5.422511814083103e-06, l2=0.0003612093238779426, dense_units=159, dropout_rate=0.23362524201095136, learning_rate=8.80109320647543e-05\n",
            "\u001b[1m50/50\u001b[0m \u001b[32m━━━━━━━━━━━━━━━━━━━━\u001b[0m\u001b[37m\u001b[0m \u001b[1m17s\u001b[0m 166ms/step - accuracy: 0.5178 - loss: 0.8551 - val_accuracy: 0.5288 - val_loss: 0.8442\n",
            "\u001b[1m50/50\u001b[0m \u001b[32m━━━━━━━━━━━━━━━━━━━━\u001b[0m\u001b[37m\u001b[0m \u001b[1m5s\u001b[0m 92ms/step - accuracy: 0.5258 - loss: 0.8409 - val_accuracy: 0.5150 - val_loss: 0.8309\n",
            "\u001b[1m50/50\u001b[0m \u001b[32m━━━━━━━━━━━━━━━━━━━━\u001b[0m\u001b[37m\u001b[0m \u001b[1m5s\u001b[0m 92ms/step - accuracy: 0.5743 - loss: 0.8266 - val_accuracy: 0.5038 - val_loss: 0.8152\n",
            "\u001b[1m50/50\u001b[0m \u001b[32m━━━━━━━━━━━━━━━━━━━━\u001b[0m\u001b[37m\u001b[0m \u001b[1m5s\u001b[0m 92ms/step - accuracy: 0.5611 - loss: 0.8088 - val_accuracy: 0.6525 - val_loss: 0.7711\n",
            "\u001b[1m50/50\u001b[0m \u001b[32m━━━━━━━━━━━━━━━━━━━━\u001b[0m\u001b[37m\u001b[0m \u001b[1m5s\u001b[0m 92ms/step - accuracy: 0.6518 - loss: 0.7638 - val_accuracy: 0.6137 - val_loss: 0.7571\n",
            "\u001b[1m50/50\u001b[0m \u001b[32m━━━━━━━━━━━━━━━━━━━━\u001b[0m\u001b[37m\u001b[0m \u001b[1m5s\u001b[0m 93ms/step - accuracy: 0.6522 - loss: 0.7419 - val_accuracy: 0.6712 - val_loss: 0.7216\n",
            "\u001b[1m50/50\u001b[0m \u001b[32m━━━━━━━━━━━━━━━━━━━━\u001b[0m\u001b[37m\u001b[0m \u001b[1m5s\u001b[0m 92ms/step - accuracy: 0.7145 - loss: 0.6952 - val_accuracy: 0.6275 - val_loss: 0.7447\n",
            "\u001b[1m50/50\u001b[0m \u001b[32m━━━━━━━━━━━━━━━━━━━━\u001b[0m\u001b[37m\u001b[0m \u001b[1m5s\u001b[0m 92ms/step - accuracy: 0.6853 - loss: 0.6884 - val_accuracy: 0.6925 - val_loss: 0.6741\n",
            "\u001b[1m50/50\u001b[0m \u001b[32m━━━━━━━━━━━━━━━━━━━━\u001b[0m\u001b[37m\u001b[0m \u001b[1m5s\u001b[0m 92ms/step - accuracy: 0.6615 - loss: 0.7145 - val_accuracy: 0.6888 - val_loss: 0.6795\n",
            "\u001b[1m125/125\u001b[0m \u001b[32m━━━━━━━━━━━━━━━━━━━━\u001b[0m\u001b[37m\u001b[0m \u001b[1m1s\u001b[0m 10ms/step - accuracy: 0.7037 - loss: 0.6642\n"
          ]
        },
        {
          "output_type": "stream",
          "name": "stderr",
          "text": [
            "[I 2024-08-14 23:58:42,520] Trial 3 finished with value: 0.6972500085830688 and parameters: {'num_layers': 6, 'filters_0': 77, 'filters_1': 114, 'filters_2': 44, 'filters_3': 116, 'filters_4': 80, 'filters_5': 42, 'kernel_size': 2, 'l1': 5.422511814083103e-06, 'l2': 0.0003612093238779426, 'dense_units': 159, 'dropout_rate': 0.23362524201095136, 'learning_rate': 8.80109320647543e-05}. Best is trial 0 with value: 0.7110000252723694.\n"
          ]
        },
        {
          "output_type": "stream",
          "name": "stdout",
          "text": [
            "Trial 4 started with hyperparameters: num_layers=6, filters=[83, 82, 80, 118, 101, 94], kernel_size=3, l1=2.9406712943657902e-05, l2=2.2306887659153147e-06, dense_units=247, dropout_rate=0.3032626748136775, learning_rate=0.00033230173317945645\n",
            "\u001b[1m50/50\u001b[0m \u001b[32m━━━━━━━━━━━━━━━━━━━━\u001b[0m\u001b[37m\u001b[0m \u001b[1m20s\u001b[0m 192ms/step - accuracy: 0.5100 - loss: 1.0203 - val_accuracy: 0.5175 - val_loss: 0.9531\n",
            "\u001b[1m50/50\u001b[0m \u001b[32m━━━━━━━━━━━━━━━━━━━━\u001b[0m\u001b[37m\u001b[0m \u001b[1m5s\u001b[0m 99ms/step - accuracy: 0.4937 - loss: 0.9331 - val_accuracy: 0.6350 - val_loss: 0.8706\n",
            "\u001b[1m50/50\u001b[0m \u001b[32m━━━━━━━━━━━━━━━━━━━━\u001b[0m\u001b[37m\u001b[0m \u001b[1m5s\u001b[0m 99ms/step - accuracy: 0.5891 - loss: 0.8492 - val_accuracy: 0.6750 - val_loss: 0.7596\n",
            "\u001b[1m50/50\u001b[0m \u001b[32m━━━━━━━━━━━━━━━━━━━━\u001b[0m\u001b[37m\u001b[0m \u001b[1m5s\u001b[0m 99ms/step - accuracy: 0.6874 - loss: 0.7326 - val_accuracy: 0.6825 - val_loss: 0.7267\n",
            "\u001b[1m50/50\u001b[0m \u001b[32m━━━━━━━━━━━━━━━━━━━━\u001b[0m\u001b[37m\u001b[0m \u001b[1m5s\u001b[0m 100ms/step - accuracy: 0.6921 - loss: 0.7156 - val_accuracy: 0.7225 - val_loss: 0.6614\n",
            "\u001b[1m50/50\u001b[0m \u001b[32m━━━━━━━━━━━━━━━━━━━━\u001b[0m\u001b[37m\u001b[0m \u001b[1m5s\u001b[0m 99ms/step - accuracy: 0.7093 - loss: 0.6696 - val_accuracy: 0.6812 - val_loss: 0.6909\n",
            "\u001b[1m50/50\u001b[0m \u001b[32m━━━━━━━━━━━━━━━━━━━━\u001b[0m\u001b[37m\u001b[0m \u001b[1m5s\u001b[0m 99ms/step - accuracy: 0.7201 - loss: 0.6406 - val_accuracy: 0.6775 - val_loss: 0.6878\n",
            "\u001b[1m50/50\u001b[0m \u001b[32m━━━━━━━━━━━━━━━━━━━━\u001b[0m\u001b[37m\u001b[0m \u001b[1m5s\u001b[0m 99ms/step - accuracy: 0.7160 - loss: 0.6420 - val_accuracy: 0.6850 - val_loss: 0.6496\n",
            "\u001b[1m50/50\u001b[0m \u001b[32m━━━━━━━━━━━━━━━━━━━━\u001b[0m\u001b[37m\u001b[0m \u001b[1m5s\u001b[0m 100ms/step - accuracy: 0.6838 - loss: 0.6792 - val_accuracy: 0.7188 - val_loss: 0.6383\n",
            "\u001b[1m125/125\u001b[0m \u001b[32m━━━━━━━━━━━━━━━━━━━━\u001b[0m\u001b[37m\u001b[0m \u001b[1m1s\u001b[0m 11ms/step - accuracy: 0.7205 - loss: 0.6209\n"
          ]
        },
        {
          "output_type": "stream",
          "name": "stderr",
          "text": [
            "[I 2024-08-15 00:13:26,762] Trial 4 finished with value: 0.7117499709129333 and parameters: {'num_layers': 6, 'filters_0': 83, 'filters_1': 82, 'filters_2': 80, 'filters_3': 118, 'filters_4': 101, 'filters_5': 94, 'kernel_size': 3, 'l1': 2.9406712943657902e-05, 'l2': 2.2306887659153147e-06, 'dense_units': 247, 'dropout_rate': 0.3032626748136775, 'learning_rate': 0.00033230173317945645}. Best is trial 4 with value: 0.7117499709129333.\n"
          ]
        },
        {
          "output_type": "stream",
          "name": "stdout",
          "text": [
            "Trial 5 started with hyperparameters: num_layers=5, filters=[124, 114, 105, 109, 47], kernel_size=2, l1=3.5280353786495863e-06, l2=6.515930224976252e-06, dense_units=82, dropout_rate=0.46375189238251224, learning_rate=1.1129197810246249e-05\n",
            "\u001b[1m50/50\u001b[0m \u001b[32m━━━━━━━━━━━━━━━━━━━━\u001b[0m\u001b[37m\u001b[0m \u001b[1m0s\u001b[0m 115ms/step - accuracy: 0.5002 - loss: 0.7213"
          ]
        },
        {
          "output_type": "stream",
          "name": "stderr",
          "text": [
            "[I 2024-08-15 00:15:10,798] Trial 5 pruned. Trial was pruned at epoch 0.\n"
          ]
        },
        {
          "output_type": "stream",
          "name": "stdout",
          "text": [
            "Trial 6 started with hyperparameters: num_layers=5, filters=[58, 57, 51, 127, 127], kernel_size=2, l1=2.1113083760682275e-05, l2=1.194466208258885e-05, dense_units=228, dropout_rate=0.4041074423013207, learning_rate=1.132916362625813e-05\n",
            "\u001b[1m50/50\u001b[0m \u001b[32m━━━━━━━━━━━━━━━━━━━━\u001b[0m\u001b[37m\u001b[0m \u001b[1m0s\u001b[0m 57ms/step - accuracy: 0.4924 - loss: 0.8073"
          ]
        },
        {
          "output_type": "stream",
          "name": "stderr",
          "text": [
            "[I 2024-08-15 00:16:45,627] Trial 6 pruned. Trial was pruned at epoch 0.\n"
          ]
        },
        {
          "output_type": "stream",
          "name": "stdout",
          "text": [
            "Trial 7 started with hyperparameters: num_layers=4, filters=[101, 123, 127, 64], kernel_size=3, l1=1.628480764861368e-05, l2=1.3419598495155785e-06, dense_units=220, dropout_rate=0.17790457549872074, learning_rate=1.8981080213530998e-05\n",
            "\u001b[1m50/50\u001b[0m \u001b[32m━━━━━━━━━━━━━━━━━━━━\u001b[0m\u001b[37m\u001b[0m \u001b[1m0s\u001b[0m 119ms/step - accuracy: 0.4984 - loss: 0.8369"
          ]
        },
        {
          "output_type": "stream",
          "name": "stderr",
          "text": [
            "[I 2024-08-15 00:18:34,402] Trial 7 pruned. Trial was pruned at epoch 0.\n"
          ]
        },
        {
          "output_type": "stream",
          "name": "stdout",
          "text": [
            "Trial 8 started with hyperparameters: num_layers=5, filters=[45, 76, 114, 116, 97], kernel_size=3, l1=0.0001381712935001494, l2=3.823105288640308e-05, dense_units=112, dropout_rate=0.1705481446740147, learning_rate=0.000307771731273551\n",
            "\u001b[1m50/50\u001b[0m \u001b[32m━━━━━━━━━━━━━━━━━━━━\u001b[0m\u001b[37m\u001b[0m \u001b[1m18s\u001b[0m 164ms/step - accuracy: 0.5077 - loss: 1.8892 - val_accuracy: 0.4825 - val_loss: 1.5043\n",
            "\u001b[1m50/50\u001b[0m \u001b[32m━━━━━━━━━━━━━━━━━━━━\u001b[0m\u001b[37m\u001b[0m \u001b[1m4s\u001b[0m 72ms/step - accuracy: 0.5091 - loss: 1.3951 - val_accuracy: 0.5200 - val_loss: 1.1073\n",
            "\u001b[1m50/50\u001b[0m \u001b[32m━━━━━━━━━━━━━━━━━━━━\u001b[0m\u001b[37m\u001b[0m \u001b[1m4s\u001b[0m 72ms/step - accuracy: 0.5075 - loss: 1.0345 - val_accuracy: 0.4725 - val_loss: 0.8573\n",
            "\u001b[1m50/50\u001b[0m \u001b[32m━━━━━━━━━━━━━━━━━━━━\u001b[0m\u001b[37m\u001b[0m \u001b[1m4s\u001b[0m 72ms/step - accuracy: 0.4958 - loss: 0.8226 - val_accuracy: 0.5063 - val_loss: 0.7549\n",
            "\u001b[1m50/50\u001b[0m \u001b[32m━━━━━━━━━━━━━━━━━━━━\u001b[0m\u001b[37m\u001b[0m \u001b[1m4s\u001b[0m 72ms/step - accuracy: 0.4877 - loss: 0.7443 - val_accuracy: 0.5088 - val_loss: 0.7216\n",
            "\u001b[1m50/50\u001b[0m \u001b[32m━━━━━━━━━━━━━━━━━━━━\u001b[0m\u001b[37m\u001b[0m \u001b[1m4s\u001b[0m 72ms/step - accuracy: 0.4952 - loss: 0.7175 - val_accuracy: 0.5050 - val_loss: 0.7081\n"
          ]
        },
        {
          "output_type": "stream",
          "name": "stderr",
          "text": [
            "[I 2024-08-15 00:27:24,577] Trial 8 pruned. \n"
          ]
        },
        {
          "output_type": "stream",
          "name": "stdout",
          "text": [
            "Trial 9 started with hyperparameters: num_layers=3, filters=[128, 121, 75], kernel_size=3, l1=5.626519412359677e-05, l2=2.2303261242873563e-06, dense_units=251, dropout_rate=0.4767776126838986, learning_rate=0.0003702490069304588\n",
            "\u001b[1m50/50\u001b[0m \u001b[32m━━━━━━━━━━━━━━━━━━━━\u001b[0m\u001b[37m\u001b[0m \u001b[1m0s\u001b[0m 128ms/step - accuracy: 0.5164 - loss: 1.0350"
          ]
        },
        {
          "output_type": "stream",
          "name": "stderr",
          "text": [
            "[I 2024-08-15 00:29:14,028] Trial 9 pruned. Trial was pruned at epoch 0.\n"
          ]
        },
        {
          "output_type": "stream",
          "name": "stdout",
          "text": [
            "Trial 10 started with hyperparameters: num_layers=6, filters=[80, 94, 90, 91, 121, 118], kernel_size=2, l1=0.001095119545467565, l2=0.00736583895125548, dense_units=163, dropout_rate=0.30449543986461564, learning_rate=0.0008298487198157035\n",
            "\u001b[1m50/50\u001b[0m \u001b[32m━━━━━━━━━━━━━━━━━━━━\u001b[0m\u001b[37m\u001b[0m \u001b[1m17s\u001b[0m 164ms/step - accuracy: 0.5013 - loss: 10.7312 - val_accuracy: 0.5175 - val_loss: 4.1047\n",
            "\u001b[1m50/50\u001b[0m \u001b[32m━━━━━━━━━━━━━━━━━━━━\u001b[0m\u001b[37m\u001b[0m \u001b[1m5s\u001b[0m 91ms/step - accuracy: 0.4983 - loss: 3.0022 - val_accuracy: 0.4800 - val_loss: 0.9946\n",
            "\u001b[1m50/50\u001b[0m \u001b[32m━━━━━━━━━━━━━━━━━━━━\u001b[0m\u001b[37m\u001b[0m \u001b[1m5s\u001b[0m 91ms/step - accuracy: 0.4956 - loss: 0.8532 - val_accuracy: 0.4725 - val_loss: 0.7204\n",
            "\u001b[1m50/50\u001b[0m \u001b[32m━━━━━━━━━━━━━━━━━━━━\u001b[0m\u001b[37m\u001b[0m \u001b[1m5s\u001b[0m 90ms/step - accuracy: 0.4920 - loss: 0.7176 - val_accuracy: 0.5063 - val_loss: 0.7148\n",
            "\u001b[1m50/50\u001b[0m \u001b[32m━━━━━━━━━━━━━━━━━━━━\u001b[0m\u001b[37m\u001b[0m \u001b[1m5s\u001b[0m 91ms/step - accuracy: 0.4981 - loss: 0.7149 - val_accuracy: 0.4913 - val_loss: 0.7151\n",
            "\u001b[1m50/50\u001b[0m \u001b[32m━━━━━━━━━━━━━━━━━━━━\u001b[0m\u001b[37m\u001b[0m \u001b[1m5s\u001b[0m 91ms/step - accuracy: 0.5066 - loss: 0.7151 - val_accuracy: 0.5050 - val_loss: 0.7154\n",
            "\u001b[1m50/50\u001b[0m \u001b[32m━━━━━━━━━━━━━━━━━━━━\u001b[0m\u001b[37m\u001b[0m \u001b[1m4s\u001b[0m 90ms/step - accuracy: 0.4711 - loss: 0.7154 - val_accuracy: 0.4663 - val_loss: 0.7157\n",
            "\u001b[1m50/50\u001b[0m \u001b[32m━━━━━━━━━━━━━━━━━━━━\u001b[0m\u001b[37m\u001b[0m \u001b[1m4s\u001b[0m 90ms/step - accuracy: 0.5092 - loss: 0.7155 - val_accuracy: 0.4787 - val_loss: 0.7159\n",
            "\u001b[1m50/50\u001b[0m \u001b[32m━━━━━━━━━━━━━━━━━━━━\u001b[0m\u001b[37m\u001b[0m \u001b[1m5s\u001b[0m 90ms/step - accuracy: 0.5066 - loss: 0.7158 - val_accuracy: 0.5025 - val_loss: 0.7161\n",
            "\u001b[1m125/125\u001b[0m \u001b[32m━━━━━━━━━━━━━━━━━━━━\u001b[0m\u001b[37m\u001b[0m \u001b[1m1s\u001b[0m 10ms/step - accuracy: 0.4971 - loss: 0.7161\n"
          ]
        },
        {
          "output_type": "stream",
          "name": "stderr",
          "text": [
            "[I 2024-08-15 00:43:53,007] Trial 10 finished with value: 0.5 and parameters: {'num_layers': 6, 'filters_0': 80, 'filters_1': 94, 'filters_2': 90, 'filters_3': 91, 'filters_4': 121, 'filters_5': 118, 'kernel_size': 2, 'l1': 0.001095119545467565, 'l2': 0.00736583895125548, 'dense_units': 163, 'dropout_rate': 0.30449543986461564, 'learning_rate': 0.0008298487198157035}. Best is trial 4 with value: 0.7117499709129333.\n"
          ]
        },
        {
          "output_type": "stream",
          "name": "stdout",
          "text": [
            "Trial 11 started with hyperparameters: num_layers=3, filters=[93, 32, 96], kernel_size=3, l1=0.000265598821809494, l2=0.00013051315101838404, dense_units=256, dropout_rate=0.10382431584974593, learning_rate=0.00023481802822246877\n",
            "\u001b[1m50/50\u001b[0m \u001b[32m━━━━━━━━━━━━━━━━━━━━\u001b[0m\u001b[37m\u001b[0m \u001b[1m0s\u001b[0m 76ms/step - accuracy: 0.5210 - loss: 1.2841"
          ]
        },
        {
          "output_type": "stream",
          "name": "stderr",
          "text": [
            "[I 2024-08-15 00:45:29,666] Trial 11 pruned. Trial was pruned at epoch 0.\n"
          ]
        },
        {
          "output_type": "stream",
          "name": "stdout",
          "text": [
            "Trial 12 started with hyperparameters: num_layers=4, filters=[85, 53, 64, 98], kernel_size=3, l1=0.000436810135737688, l2=0.0034318389014427347, dense_units=200, dropout_rate=0.372008219211831, learning_rate=4.600830450977816e-05\n",
            "\u001b[1m50/50\u001b[0m \u001b[32m━━━━━━━━━━━━━━━━━━━━\u001b[0m\u001b[37m\u001b[0m \u001b[1m17s\u001b[0m 168ms/step - accuracy: 0.5016 - loss: 3.2709 - val_accuracy: 0.4825 - val_loss: 3.1451\n",
            "\u001b[1m50/50\u001b[0m \u001b[32m━━━━━━━━━━━━━━━━━━━━\u001b[0m\u001b[37m\u001b[0m \u001b[1m4s\u001b[0m 86ms/step - accuracy: 0.5296 - loss: 3.1038 - val_accuracy: 0.6550 - val_loss: 2.9805\n",
            "\u001b[1m50/50\u001b[0m \u001b[32m━━━━━━━━━━━━━━━━━━━━\u001b[0m\u001b[37m\u001b[0m \u001b[1m4s\u001b[0m 85ms/step - accuracy: 0.6502 - loss: 2.9354 - val_accuracy: 0.7175 - val_loss: 2.7908\n",
            "\u001b[1m50/50\u001b[0m \u001b[32m━━━━━━━━━━━━━━━━━━━━\u001b[0m\u001b[37m\u001b[0m \u001b[1m4s\u001b[0m 85ms/step - accuracy: 0.7071 - loss: 2.7491 - val_accuracy: 0.6662 - val_loss: 2.6558\n",
            "\u001b[1m50/50\u001b[0m \u001b[32m━━━━━━━━━━━━━━━━━━━━\u001b[0m\u001b[37m\u001b[0m \u001b[1m4s\u001b[0m 86ms/step - accuracy: 0.6921 - loss: 2.6335 - val_accuracy: 0.6862 - val_loss: 2.5822\n",
            "\u001b[1m50/50\u001b[0m \u001b[32m━━━━━━━━━━━━━━━━━━━━\u001b[0m\u001b[37m\u001b[0m \u001b[1m4s\u001b[0m 86ms/step - accuracy: 0.6716 - loss: 2.5569 - val_accuracy: 0.6888 - val_loss: 2.4903\n",
            "\u001b[1m50/50\u001b[0m \u001b[32m━━━━━━━━━━━━━━━━━━━━\u001b[0m\u001b[37m\u001b[0m \u001b[1m4s\u001b[0m 86ms/step - accuracy: 0.7194 - loss: 2.4470 - val_accuracy: 0.6350 - val_loss: 2.4723\n"
          ]
        },
        {
          "output_type": "stream",
          "name": "stderr",
          "text": [
            "[I 2024-08-15 00:55:51,166] Trial 12 pruned. \n"
          ]
        },
        {
          "output_type": "stream",
          "name": "stdout",
          "text": [
            "Trial 13 started with hyperparameters: num_layers=4, filters=[114, 91, 126, 127], kernel_size=3, l1=0.0016959161390727835, l2=6.61665786952778e-05, dense_units=216, dropout_rate=0.2646959276632993, learning_rate=0.00017009646506493183\n",
            "\u001b[1m50/50\u001b[0m \u001b[32m━━━━━━━━━━━━━━━━━━━━\u001b[0m\u001b[37m\u001b[0m \u001b[1m27s\u001b[0m 244ms/step - accuracy: 0.4927 - loss: 15.2743 - val_accuracy: 0.4825 - val_loss: 12.0141\n",
            "\u001b[1m50/50\u001b[0m \u001b[32m━━━━━━━━━━━━━━━━━━━━\u001b[0m\u001b[37m\u001b[0m \u001b[1m6s\u001b[0m 127ms/step - accuracy: 0.5196 - loss: 11.0365 - val_accuracy: 0.5462 - val_loss: 8.3069\n",
            "\u001b[1m50/50\u001b[0m \u001b[32m━━━━━━━━━━━━━━━━━━━━\u001b[0m\u001b[37m\u001b[0m \u001b[1m6s\u001b[0m 127ms/step - accuracy: 0.5324 - loss: 7.5142 - val_accuracy: 0.4725 - val_loss: 5.3510\n",
            "\u001b[1m50/50\u001b[0m \u001b[32m━━━━━━━━━━━━━━━━━━━━\u001b[0m\u001b[37m\u001b[0m \u001b[1m6s\u001b[0m 127ms/step - accuracy: 0.4945 - loss: 4.7444 - val_accuracy: 0.4938 - val_loss: 3.1292\n",
            "\u001b[1m50/50\u001b[0m \u001b[32m━━━━━━━━━━━━━━━━━━━━\u001b[0m\u001b[37m\u001b[0m \u001b[1m6s\u001b[0m 127ms/step - accuracy: 0.5191 - loss: 2.7100 - val_accuracy: 0.5088 - val_loss: 1.6498\n",
            "\u001b[1m50/50\u001b[0m \u001b[32m━━━━━━━━━━━━━━━━━━━━\u001b[0m\u001b[37m\u001b[0m \u001b[1m6s\u001b[0m 127ms/step - accuracy: 0.5113 - loss: 1.4143 - val_accuracy: 0.5050 - val_loss: 0.9089\n",
            "\u001b[1m50/50\u001b[0m \u001b[32m━━━━━━━━━━━━━━━━━━━━\u001b[0m\u001b[37m\u001b[0m \u001b[1m6s\u001b[0m 127ms/step - accuracy: 0.4844 - loss: 0.8448 - val_accuracy: 0.4663 - val_loss: 0.7474\n"
          ]
        },
        {
          "output_type": "stream",
          "name": "stderr",
          "text": [
            "[I 2024-08-15 01:06:42,363] Trial 13 pruned. \n"
          ]
        },
        {
          "output_type": "stream",
          "name": "stdout",
          "text": [
            "Trial 14 started with hyperparameters: num_layers=6, filters=[69, 60, 33, 70, 37, 93], kernel_size=3, l1=4.6389412407693274e-05, l2=0.00026930421801880456, dense_units=137, dropout_rate=0.1121164267113871, learning_rate=0.0007734371205128543\n",
            "\u001b[1m50/50\u001b[0m \u001b[32m━━━━━━━━━━━━━━━━━━━━\u001b[0m\u001b[37m\u001b[0m \u001b[1m0s\u001b[0m 67ms/step - accuracy: 0.5094 - loss: 0.9502"
          ]
        },
        {
          "output_type": "stream",
          "name": "stderr",
          "text": [
            "[I 2024-08-15 01:08:25,153] Trial 14 pruned. Trial was pruned at epoch 0.\n"
          ]
        },
        {
          "output_type": "stream",
          "name": "stdout",
          "text": [
            "Trial 15 started with hyperparameters: num_layers=4, filters=[92, 42, 89, 101], kernel_size=3, l1=2.148154107632487e-06, l2=2.083347655854149e-05, dense_units=237, dropout_rate=0.25893450873080015, learning_rate=0.00011971583511633106\n",
            "\u001b[1m50/50\u001b[0m \u001b[32m━━━━━━━━━━━━━━━━━━━━\u001b[0m\u001b[37m\u001b[0m \u001b[1m0s\u001b[0m 80ms/step - accuracy: 0.5220 - loss: 0.7092"
          ]
        },
        {
          "output_type": "stream",
          "name": "stderr",
          "text": [
            "[I 2024-08-15 01:10:03,930] Trial 15 pruned. Trial was pruned at epoch 0.\n"
          ]
        },
        {
          "output_type": "stream",
          "name": "stdout",
          "text": [
            "Trial 16 started with hyperparameters: num_layers=3, filters=[35, 67, 108], kernel_size=3, l1=0.00011693463668067945, l2=4.177968557567461e-06, dense_units=199, dropout_rate=0.3526009391416636, learning_rate=3.649888012141528e-05\n",
            "\u001b[1m50/50\u001b[0m \u001b[32m━━━━━━━━━━━━━━━━━━━━\u001b[0m\u001b[37m\u001b[0m \u001b[1m0s\u001b[0m 54ms/step - accuracy: 0.5275 - loss: 1.0318"
          ]
        },
        {
          "output_type": "stream",
          "name": "stderr",
          "text": [
            "[I 2024-08-15 01:11:40,812] Trial 16 pruned. Trial was pruned at epoch 0.\n"
          ]
        },
        {
          "output_type": "stream",
          "name": "stdout",
          "text": [
            "Trial 17 started with hyperparameters: num_layers=6, filters=[110, 88, 73, 45, 107, 72], kernel_size=2, l1=0.0005559237723512767, l2=0.0012623776288968268, dense_units=208, dropout_rate=0.4053366499881588, learning_rate=0.0005964177868667503\n",
            "\u001b[1m50/50\u001b[0m \u001b[32m━━━━━━━━━━━━━━━━━━━━\u001b[0m\u001b[37m\u001b[0m \u001b[1m18s\u001b[0m 181ms/step - accuracy: 0.4853 - loss: 3.9885 - val_accuracy: 0.5175 - val_loss: 2.5260\n",
            "\u001b[1m50/50\u001b[0m \u001b[32m━━━━━━━━━━━━━━━━━━━━\u001b[0m\u001b[37m\u001b[0m \u001b[1m5s\u001b[0m 105ms/step - accuracy: 0.5012 - loss: 2.1695 - val_accuracy: 0.4800 - val_loss: 1.3095\n",
            "\u001b[1m50/50\u001b[0m \u001b[32m━━━━━━━━━━━━━━━━━━━━\u001b[0m\u001b[37m\u001b[0m \u001b[1m5s\u001b[0m 105ms/step - accuracy: 0.5075 - loss: 1.1356 - val_accuracy: 0.4725 - val_loss: 0.7836\n",
            "\u001b[1m50/50\u001b[0m \u001b[32m━━━━━━━━━━━━━━━━━━━━\u001b[0m\u001b[37m\u001b[0m \u001b[1m5s\u001b[0m 105ms/step - accuracy: 0.4884 - loss: 0.7481 - val_accuracy: 0.5063 - val_loss: 0.7024\n",
            "\u001b[1m50/50\u001b[0m \u001b[32m━━━━━━━━━━━━━━━━━━━━\u001b[0m\u001b[37m\u001b[0m \u001b[1m5s\u001b[0m 104ms/step - accuracy: 0.4849 - loss: 0.7008 - val_accuracy: 0.5088 - val_loss: 0.6987\n",
            "\u001b[1m50/50\u001b[0m \u001b[32m━━━━━━━━━━━━━━━━━━━━\u001b[0m\u001b[37m\u001b[0m \u001b[1m5s\u001b[0m 104ms/step - accuracy: 0.4988 - loss: 0.6986 - val_accuracy: 0.5050 - val_loss: 0.6984\n",
            "\u001b[1m50/50\u001b[0m \u001b[32m━━━━━━━━━━━━━━━━━━━━\u001b[0m\u001b[37m\u001b[0m \u001b[1m5s\u001b[0m 103ms/step - accuracy: 0.4883 - loss: 0.6986 - val_accuracy: 0.4663 - val_loss: 0.6987\n",
            "\u001b[1m50/50\u001b[0m \u001b[32m━━━━━━━━━━━━━━━━━━━━\u001b[0m\u001b[37m\u001b[0m \u001b[1m5s\u001b[0m 103ms/step - accuracy: 0.5057 - loss: 0.6984 - val_accuracy: 0.4787 - val_loss: 0.6986\n",
            "\u001b[1m50/50\u001b[0m \u001b[32m━━━━━━━━━━━━━━━━━━━━\u001b[0m\u001b[37m\u001b[0m \u001b[1m5s\u001b[0m 104ms/step - accuracy: 0.5081 - loss: 0.6984 - val_accuracy: 0.5025 - val_loss: 0.6984\n",
            "\u001b[1m125/125\u001b[0m \u001b[32m━━━━━━━━━━━━━━━━━━━━\u001b[0m\u001b[37m\u001b[0m \u001b[1m1s\u001b[0m 12ms/step - accuracy: 0.4971 - loss: 0.6985\n"
          ]
        },
        {
          "output_type": "stream",
          "name": "stderr",
          "text": [
            "[I 2024-08-15 01:26:30,903] Trial 17 finished with value: 0.5 and parameters: {'num_layers': 6, 'filters_0': 110, 'filters_1': 88, 'filters_2': 73, 'filters_3': 45, 'filters_4': 107, 'filters_5': 72, 'kernel_size': 2, 'l1': 0.0005559237723512767, 'l2': 0.0012623776288968268, 'dense_units': 208, 'dropout_rate': 0.4053366499881588, 'learning_rate': 0.0005964177868667503}. Best is trial 4 with value: 0.7117499709129333.\n"
          ]
        },
        {
          "output_type": "stream",
          "name": "stdout",
          "text": [
            "Trial 18 started with hyperparameters: num_layers=4, filters=[94, 46, 96, 112], kernel_size=3, l1=1.1722209319111487e-06, l2=0.0002475763520647314, dense_units=239, dropout_rate=0.14884696645618253, learning_rate=0.00010684462519169322\n",
            "\u001b[1m50/50\u001b[0m \u001b[32m━━━━━━━━━━━━━━━━━━━━\u001b[0m\u001b[37m\u001b[0m \u001b[1m0s\u001b[0m 82ms/step - accuracy: 0.5228 - loss: 0.7552"
          ]
        },
        {
          "output_type": "stream",
          "name": "stderr",
          "text": [
            "[I 2024-08-15 01:28:14,026] Trial 18 pruned. Trial was pruned at epoch 0.\n"
          ]
        },
        {
          "output_type": "stream",
          "name": "stdout",
          "text": [
            "Trial 19 started with hyperparameters: num_layers=3, filters=[71, 100, 118], kernel_size=3, l1=0.003915829045588453, l2=1.0073430926737477e-06, dense_units=182, dropout_rate=0.22014923926596391, learning_rate=2.72581866921731e-05\n",
            "\u001b[1m50/50\u001b[0m \u001b[32m━━━━━━━━━━━━━━━━━━━━\u001b[0m\u001b[37m\u001b[0m \u001b[1m20s\u001b[0m 201ms/step - accuracy: 0.5163 - loss: 19.8931 - val_accuracy: 0.5888 - val_loss: 19.2192\n",
            "\u001b[1m50/50\u001b[0m \u001b[32m━━━━━━━━━━━━━━━━━━━━\u001b[0m\u001b[37m\u001b[0m \u001b[1m5s\u001b[0m 99ms/step - accuracy: 0.5496 - loss: 19.0019 - val_accuracy: 0.6600 - val_loss: 18.3542\n",
            "\u001b[1m50/50\u001b[0m \u001b[32m━━━━━━━━━━━━━━━━━━━━\u001b[0m\u001b[37m\u001b[0m \u001b[1m5s\u001b[0m 99ms/step - accuracy: 0.6362 - loss: 18.1458 - val_accuracy: 0.7287 - val_loss: 17.5209\n",
            "\u001b[1m50/50\u001b[0m \u001b[32m━━━━━━━━━━━━━━━━━━━━\u001b[0m\u001b[37m\u001b[0m \u001b[1m5s\u001b[0m 99ms/step - accuracy: 0.6286 - loss: 17.3308 - val_accuracy: 0.6862 - val_loss: 16.7510\n",
            "\u001b[1m50/50\u001b[0m \u001b[32m━━━━━━━━━━━━━━━━━━━━\u001b[0m\u001b[37m\u001b[0m \u001b[1m5s\u001b[0m 99ms/step - accuracy: 0.6692 - loss: 16.5763 - val_accuracy: 0.7200 - val_loss: 16.0389\n",
            "\u001b[1m50/50\u001b[0m \u001b[32m━━━━━━━━━━━━━━━━━━━━\u001b[0m\u001b[37m\u001b[0m \u001b[1m5s\u001b[0m 99ms/step - accuracy: 0.6616 - loss: 15.8766 - val_accuracy: 0.5875 - val_loss: 15.4205\n",
            "\u001b[1m50/50\u001b[0m \u001b[32m━━━━━━━━━━━━━━━━━━━━\u001b[0m\u001b[37m\u001b[0m \u001b[1m5s\u001b[0m 99ms/step - accuracy: 0.6644 - loss: 15.2249 - val_accuracy: 0.6025 - val_loss: 14.8026\n"
          ]
        },
        {
          "output_type": "stream",
          "name": "stderr",
          "text": [
            "[I 2024-08-15 01:38:43,342] Trial 19 pruned. \n"
          ]
        },
        {
          "output_type": "stream",
          "name": "stdout",
          "text": [
            "Trial 20 started with hyperparameters: num_layers=6, filters=[53, 82, 67, 85, 60, 126], kernel_size=2, l1=2.8597245852429988e-05, l2=0.0028027643662012825, dense_units=131, dropout_rate=0.28302176253258066, learning_rate=6.674857415236648e-05\n",
            "\u001b[1m50/50\u001b[0m \u001b[32m━━━━━━━━━━━━━━━━━━━━\u001b[0m\u001b[37m\u001b[0m \u001b[1m0s\u001b[0m 60ms/step - accuracy: 0.4981 - loss: 1.8554"
          ]
        },
        {
          "output_type": "stream",
          "name": "stderr",
          "text": [
            "[I 2024-08-15 01:40:20,727] Trial 20 pruned. Trial was pruned at epoch 0.\n"
          ]
        },
        {
          "output_type": "stream",
          "name": "stdout",
          "text": [
            "Trial 21 started with hyperparameters: num_layers=5, filters=[109, 101, 57, 73, 90], kernel_size=3, l1=8.648109892994211e-06, l2=0.0006840648574238714, dense_units=79, dropout_rate=0.3255628372823689, learning_rate=5.5778106455011093e-05\n",
            "\u001b[1m50/50\u001b[0m \u001b[32m━━━━━━━━━━━━━━━━━━━━\u001b[0m\u001b[37m\u001b[0m \u001b[1m0s\u001b[0m 110ms/step - accuracy: 0.5058 - loss: 0.9769"
          ]
        },
        {
          "output_type": "stream",
          "name": "stderr",
          "text": [
            "[I 2024-08-15 01:42:08,887] Trial 21 pruned. Trial was pruned at epoch 0.\n"
          ]
        },
        {
          "output_type": "stream",
          "name": "stdout",
          "text": [
            "Trial 22 started with hyperparameters: num_layers=5, filters=[103, 104, 84, 54, 106], kernel_size=3, l1=8.930042439837866e-06, l2=0.0017800439929011246, dense_units=98, dropout_rate=0.3291042950961939, learning_rate=0.0001447295696478207\n",
            "\u001b[1m50/50\u001b[0m \u001b[32m━━━━━━━━━━━━━━━━━━━━\u001b[0m\u001b[37m\u001b[0m \u001b[1m0s\u001b[0m 106ms/step - accuracy: 0.5027 - loss: 1.3255"
          ]
        },
        {
          "output_type": "stream",
          "name": "stderr",
          "text": [
            "[I 2024-08-15 01:43:57,148] Trial 22 pruned. Trial was pruned at epoch 0.\n"
          ]
        },
        {
          "output_type": "stream",
          "name": "stdout",
          "text": [
            "Trial 23 started with hyperparameters: num_layers=4, filters=[118, 32, 61, 128], kernel_size=3, l1=6.670497727689738e-05, l2=0.006480191194036323, dense_units=64, dropout_rate=0.38963931244346384, learning_rate=8.012507184978203e-05\n",
            "\u001b[1m50/50\u001b[0m \u001b[32m━━━━━━━━━━━━━━━━━━━━\u001b[0m\u001b[37m\u001b[0m \u001b[1m0s\u001b[0m 87ms/step - accuracy: 0.5202 - loss: 2.0645"
          ]
        },
        {
          "output_type": "stream",
          "name": "stderr",
          "text": [
            "[I 2024-08-15 01:45:38,654] Trial 23 pruned. Trial was pruned at epoch 0.\n"
          ]
        },
        {
          "output_type": "stream",
          "name": "stdout",
          "text": [
            "Trial 24 started with hyperparameters: num_layers=6, filters=[99, 67, 100, 97, 67, 82], kernel_size=3, l1=0.00015680372434598912, l2=0.0005554271385195833, dense_units=123, dropout_rate=0.302546623877927, learning_rate=3.764569718377242e-05\n",
            "\u001b[1m50/50\u001b[0m \u001b[32m━━━━━━━━━━━━━━━━━━━━\u001b[0m\u001b[37m\u001b[0m \u001b[1m23s\u001b[0m 225ms/step - accuracy: 0.4918 - loss: 2.4497 - val_accuracy: 0.5475 - val_loss: 2.3775\n",
            "\u001b[1m50/50\u001b[0m \u001b[32m━━━━━━━━━━━━━━━━━━━━\u001b[0m\u001b[37m\u001b[0m \u001b[1m5s\u001b[0m 108ms/step - accuracy: 0.5105 - loss: 2.3548 - val_accuracy: 0.6587 - val_loss: 2.2852\n",
            "\u001b[1m50/50\u001b[0m \u001b[32m━━━━━━━━━━━━━━━━━━━━\u001b[0m\u001b[37m\u001b[0m \u001b[1m5s\u001b[0m 107ms/step - accuracy: 0.5525 - loss: 2.2622 - val_accuracy: 0.4725 - val_loss: 2.1976\n",
            "\u001b[1m50/50\u001b[0m \u001b[32m━━━━━━━━━━━━━━━━━━━━\u001b[0m\u001b[37m\u001b[0m \u001b[1m5s\u001b[0m 107ms/step - accuracy: 0.5945 - loss: 2.1718 - val_accuracy: 0.6525 - val_loss: 2.1004\n",
            "\u001b[1m50/50\u001b[0m \u001b[32m━━━━━━━━━━━━━━━━━━━━\u001b[0m\u001b[37m\u001b[0m \u001b[1m5s\u001b[0m 107ms/step - accuracy: 0.6521 - loss: 2.0765 - val_accuracy: 0.6913 - val_loss: 1.9924\n",
            "\u001b[1m50/50\u001b[0m \u001b[32m━━━━━━━━━━━━━━━━━━━━\u001b[0m\u001b[37m\u001b[0m \u001b[1m5s\u001b[0m 108ms/step - accuracy: 0.6682 - loss: 1.9766 - val_accuracy: 0.5938 - val_loss: 1.9617\n",
            "\u001b[1m50/50\u001b[0m \u001b[32m━━━━━━━━━━━━━━━━━━━━\u001b[0m\u001b[37m\u001b[0m \u001b[1m5s\u001b[0m 107ms/step - accuracy: 0.6824 - loss: 1.8884 - val_accuracy: 0.6338 - val_loss: 1.8838\n"
          ]
        },
        {
          "output_type": "stream",
          "name": "stderr",
          "text": [
            "[I 2024-08-15 01:56:13,285] Trial 24 pruned. \n"
          ]
        },
        {
          "output_type": "stream",
          "name": "stdout",
          "text": [
            "Trial 25 started with hyperparameters: num_layers=5, filters=[85, 110, 45, 83, 111], kernel_size=3, l1=1.3866873686589835e-05, l2=0.00015610965289349158, dense_units=148, dropout_rate=0.4480730534185421, learning_rate=0.00044740439146870575\n",
            "\u001b[1m50/50\u001b[0m \u001b[32m━━━━━━━━━━━━━━━━━━━━\u001b[0m\u001b[37m\u001b[0m \u001b[1m0s\u001b[0m 94ms/step - accuracy: 0.5137 - loss: 0.8364"
          ]
        },
        {
          "output_type": "stream",
          "name": "stderr",
          "text": [
            "[I 2024-08-15 01:57:56,604] Trial 25 pruned. Trial was pruned at epoch 0.\n"
          ]
        },
        {
          "output_type": "stream",
          "name": "stdout",
          "text": [
            "Trial 26 started with hyperparameters: num_layers=4, filters=[87, 82, 85, 106], kernel_size=3, l1=3.791548306207757e-05, l2=5.385629330433884e-05, dense_units=186, dropout_rate=0.24451141337385185, learning_rate=0.0002074304615916935\n",
            "\u001b[1m50/50\u001b[0m \u001b[32m━━━━━━━━━━━━━━━━━━━━\u001b[0m\u001b[37m\u001b[0m \u001b[1m0s\u001b[0m 92ms/step - accuracy: 0.5146 - loss: 0.9411"
          ]
        },
        {
          "output_type": "stream",
          "name": "stderr",
          "text": [
            "[I 2024-08-15 01:59:40,221] Trial 26 pruned. Trial was pruned at epoch 0.\n"
          ]
        },
        {
          "output_type": "stream",
          "name": "stdout",
          "text": [
            "Trial 27 started with hyperparameters: num_layers=5, filters=[105, 71, 53, 58, 91], kernel_size=3, l1=0.0002978497567142005, l2=0.0022695625943258265, dense_units=240, dropout_rate=0.34296966130220957, learning_rate=2.6567270688352773e-05\n",
            "\u001b[1m50/50\u001b[0m \u001b[32m━━━━━━━━━━━━━━━━━━━━\u001b[0m\u001b[37m\u001b[0m \u001b[1m19s\u001b[0m 190ms/step - accuracy: 0.5085 - loss: 3.0785 - val_accuracy: 0.5200 - val_loss: 3.0082\n",
            "\u001b[1m50/50\u001b[0m \u001b[32m━━━━━━━━━━━━━━━━━━━━\u001b[0m\u001b[37m\u001b[0m \u001b[1m5s\u001b[0m 108ms/step - accuracy: 0.4937 - loss: 2.9866 - val_accuracy: 0.5375 - val_loss: 2.9180\n",
            "\u001b[1m50/50\u001b[0m \u001b[32m━━━━━━━━━━━━━━━━━━━━\u001b[0m\u001b[37m\u001b[0m \u001b[1m5s\u001b[0m 108ms/step - accuracy: 0.5296 - loss: 2.8954 - val_accuracy: 0.5725 - val_loss: 2.8291\n",
            "\u001b[1m50/50\u001b[0m \u001b[32m━━━━━━━━━━━━━━━━━━━━\u001b[0m\u001b[37m\u001b[0m \u001b[1m5s\u001b[0m 108ms/step - accuracy: 0.5579 - loss: 2.8079 - val_accuracy: 0.6925 - val_loss: 2.7436\n",
            "\u001b[1m50/50\u001b[0m \u001b[32m━━━━━━━━━━━━━━━━━━━━\u001b[0m\u001b[37m\u001b[0m \u001b[1m5s\u001b[0m 108ms/step - accuracy: 0.5849 - loss: 2.7238 - val_accuracy: 0.5987 - val_loss: 2.6619\n",
            "\u001b[1m50/50\u001b[0m \u001b[32m━━━━━━━━━━━━━━━━━━━━\u001b[0m\u001b[37m\u001b[0m \u001b[1m5s\u001b[0m 108ms/step - accuracy: 0.5883 - loss: 2.6401 - val_accuracy: 0.5525 - val_loss: 2.5872\n",
            "\u001b[1m50/50\u001b[0m \u001b[32m━━━━━━━━━━━━━━━━━━━━\u001b[0m\u001b[37m\u001b[0m \u001b[1m5s\u001b[0m 108ms/step - accuracy: 0.5880 - loss: 2.5602 - val_accuracy: 0.5125 - val_loss: 2.5306\n"
          ]
        },
        {
          "output_type": "stream",
          "name": "stderr",
          "text": [
            "[I 2024-08-15 02:10:10,785] Trial 27 pruned. \n"
          ]
        },
        {
          "output_type": "stream",
          "name": "stdout",
          "text": [
            "Trial 28 started with hyperparameters: num_layers=6, filters=[119, 87, 71, 119, 77, 53], kernel_size=3, l1=4.320443110626712e-06, l2=0.0006110845269294602, dense_units=100, dropout_rate=0.43059746608779215, learning_rate=4.983866370976159e-05\n",
            "\u001b[1m50/50\u001b[0m \u001b[32m━━━━━━━━━━━━━━━━━━━━\u001b[0m\u001b[37m\u001b[0m \u001b[1m0s\u001b[0m 112ms/step - accuracy: 0.5034 - loss: 0.9928"
          ]
        },
        {
          "output_type": "stream",
          "name": "stderr",
          "text": [
            "[I 2024-08-15 02:11:59,189] Trial 28 pruned. Trial was pruned at epoch 0.\n"
          ]
        },
        {
          "output_type": "stream",
          "name": "stdout",
          "text": [
            "Trial 29 started with hyperparameters: num_layers=5, filters=[72, 96, 80, 77, 98], kernel_size=3, l1=9.012457324825389e-05, l2=0.0009178683577093491, dense_units=169, dropout_rate=0.20010658002375792, learning_rate=2.2991146253872027e-05\n",
            "\u001b[1m50/50\u001b[0m \u001b[32m━━━━━━━━━━━━━━━━━━━━\u001b[0m\u001b[37m\u001b[0m \u001b[1m0s\u001b[0m 84ms/step - accuracy: 0.4943 - loss: 1.7173"
          ]
        },
        {
          "output_type": "stream",
          "name": "stderr",
          "text": [
            "[I 2024-08-15 02:13:44,094] Trial 29 pruned. Trial was pruned at epoch 0.\n"
          ]
        },
        {
          "output_type": "stream",
          "name": "stdout",
          "text": [
            "Trial 30 started with hyperparameters: num_layers=5, filters=[78, 127, 36, 91, 64], kernel_size=3, l1=0.007927004706288588, l2=2.6167913348447473e-05, dense_units=195, dropout_rate=0.2798094259734833, learning_rate=1.642725325495168e-05\n",
            "\u001b[1m50/50\u001b[0m \u001b[32m━━━━━━━━━━━━━━━━━━━━\u001b[0m\u001b[37m\u001b[0m \u001b[1m23s\u001b[0m 224ms/step - accuracy: 0.5071 - loss: 53.3884 - val_accuracy: 0.5462 - val_loss: 52.3577\n",
            "\u001b[1m50/50\u001b[0m \u001b[32m━━━━━━━━━━━━━━━━━━━━\u001b[0m\u001b[37m\u001b[0m \u001b[1m5s\u001b[0m 103ms/step - accuracy: 0.5149 - loss: 52.0172 - val_accuracy: 0.4800 - val_loss: 51.0002\n",
            "\u001b[1m50/50\u001b[0m \u001b[32m━━━━━━━━━━━━━━━━━━━━\u001b[0m\u001b[37m\u001b[0m \u001b[1m5s\u001b[0m 102ms/step - accuracy: 0.5036 - loss: 50.6647 - val_accuracy: 0.6112 - val_loss: 49.6603\n",
            "\u001b[1m50/50\u001b[0m \u001b[32m━━━━━━━━━━━━━━━━━━━━\u001b[0m\u001b[37m\u001b[0m \u001b[1m5s\u001b[0m 103ms/step - accuracy: 0.5451 - loss: 49.3287 - val_accuracy: 0.5325 - val_loss: 48.3394\n",
            "\u001b[1m50/50\u001b[0m \u001b[32m━━━━━━━━━━━━━━━━━━━━\u001b[0m\u001b[37m\u001b[0m \u001b[1m5s\u001b[0m 103ms/step - accuracy: 0.5434 - loss: 48.0125 - val_accuracy: 0.6675 - val_loss: 47.0368\n",
            "\u001b[1m50/50\u001b[0m \u001b[32m━━━━━━━━━━━━━━━━━━━━\u001b[0m\u001b[37m\u001b[0m \u001b[1m5s\u001b[0m 103ms/step - accuracy: 0.5640 - loss: 46.7145 - val_accuracy: 0.6463 - val_loss: 45.7530\n",
            "\u001b[1m50/50\u001b[0m \u001b[32m━━━━━━━━━━━━━━━━━━━━\u001b[0m\u001b[37m\u001b[0m \u001b[1m5s\u001b[0m 103ms/step - accuracy: 0.5695 - loss: 45.4354 - val_accuracy: 0.5225 - val_loss: 44.4884\n",
            "\u001b[1m50/50\u001b[0m \u001b[32m━━━━━━━━━━━━━━━━━━━━\u001b[0m\u001b[37m\u001b[0m \u001b[1m5s\u001b[0m 103ms/step - accuracy: 0.5564 - loss: 44.1753 - val_accuracy: 0.5638 - val_loss: 43.2416\n",
            "\u001b[1m50/50\u001b[0m \u001b[32m━━━━━━━━━━━━━━━━━━━━\u001b[0m\u001b[37m\u001b[0m \u001b[1m5s\u001b[0m 103ms/step - accuracy: 0.5470 - loss: 42.9341 - val_accuracy: 0.5612 - val_loss: 42.0145\n",
            "\u001b[1m125/125\u001b[0m \u001b[32m━━━━━━━━━━━━━━━━━━━━\u001b[0m\u001b[37m\u001b[0m \u001b[1m1s\u001b[0m 12ms/step - accuracy: 0.5682 - loss: 42.0143\n"
          ]
        },
        {
          "output_type": "stream",
          "name": "stderr",
          "text": [
            "[I 2024-08-15 02:28:36,347] Trial 30 finished with value: 0.5709999799728394 and parameters: {'num_layers': 5, 'filters_0': 78, 'filters_1': 127, 'filters_2': 36, 'filters_3': 91, 'filters_4': 64, 'kernel_size': 3, 'l1': 0.007927004706288588, 'l2': 2.6167913348447473e-05, 'dense_units': 195, 'dropout_rate': 0.2798094259734833, 'learning_rate': 1.642725325495168e-05}. Best is trial 4 with value: 0.7117499709129333.\n"
          ]
        },
        {
          "output_type": "stream",
          "name": "stdout",
          "text": [
            "Trial 31 started with hyperparameters: num_layers=6, filters=[79, 112, 45, 116, 86, 33], kernel_size=2, l1=3.855330989251649e-06, l2=0.00031257338257391413, dense_units=146, dropout_rate=0.2239801739283137, learning_rate=8.293227227267995e-05\n",
            "\u001b[1m50/50\u001b[0m \u001b[32m━━━━━━━━━━━━━━━━━━━━\u001b[0m\u001b[37m\u001b[0m \u001b[1m0s\u001b[0m 84ms/step - accuracy: 0.5075 - loss: 0.8297"
          ]
        },
        {
          "output_type": "stream",
          "name": "stderr",
          "text": [
            "[I 2024-08-15 02:30:16,723] Trial 31 pruned. Trial was pruned at epoch 0.\n"
          ]
        },
        {
          "output_type": "stream",
          "name": "stdout",
          "text": [
            "Trial 32 started with hyperparameters: num_layers=6, filters=[65, 107, 40, 123, 75, 101], kernel_size=2, l1=7.2479713274477354e-06, l2=0.00040194637064020443, dense_units=172, dropout_rate=0.14513723869060768, learning_rate=7.780500759926892e-05\n",
            "\u001b[1m50/50\u001b[0m \u001b[32m━━━━━━━━━━━━━━━━━━━━\u001b[0m\u001b[37m\u001b[0m \u001b[1m0s\u001b[0m 74ms/step - accuracy: 0.4954 - loss: 0.8877"
          ]
        },
        {
          "output_type": "stream",
          "name": "stderr",
          "text": [
            "[I 2024-08-15 02:31:56,890] Trial 32 pruned. Trial was pruned at epoch 0.\n"
          ]
        },
        {
          "output_type": "stream",
          "name": "stdout",
          "text": [
            "Trial 33 started with hyperparameters: num_layers=6, filters=[97, 116, 48, 105, 99, 60], kernel_size=2, l1=1.0539167951914807e-06, l2=0.0012260174196038153, dense_units=228, dropout_rate=0.2311302248617227, learning_rate=3.591603322839297e-05\n",
            "\u001b[1m50/50\u001b[0m \u001b[32m━━━━━━━━━━━━━━━━━━━━\u001b[0m\u001b[37m\u001b[0m \u001b[1m0s\u001b[0m 96ms/step - accuracy: 0.5159 - loss: 1.2072"
          ]
        },
        {
          "output_type": "stream",
          "name": "stderr",
          "text": [
            "[I 2024-08-15 02:33:41,989] Trial 33 pruned. Trial was pruned at epoch 0.\n"
          ]
        },
        {
          "output_type": "stream",
          "name": "stdout",
          "text": [
            "Trial 34 started with hyperparameters: num_layers=6, filters=[88, 120, 58, 120, 85, 33], kernel_size=2, l1=2.123329215851015e-06, l2=7.601564970806714e-06, dense_units=153, dropout_rate=0.19465997481134395, learning_rate=0.00010955540141773671\n",
            "\u001b[1m50/50\u001b[0m \u001b[32m━━━━━━━━━━━━━━━━━━━━\u001b[0m\u001b[37m\u001b[0m \u001b[1m0s\u001b[0m 93ms/step - accuracy: 0.4989 - loss: 0.7111"
          ]
        },
        {
          "output_type": "stream",
          "name": "stderr",
          "text": [
            "[I 2024-08-15 02:35:25,178] Trial 34 pruned. Trial was pruned at epoch 0.\n"
          ]
        },
        {
          "output_type": "stream",
          "name": "stdout",
          "text": [
            "Trial 35 started with hyperparameters: num_layers=5, filters=[60, 113, 39, 40, 113], kernel_size=2, l1=1.9758364135223655e-05, l2=9.593369821044429e-05, dense_units=219, dropout_rate=0.1451985546806286, learning_rate=5.698419403810771e-05\n",
            "\u001b[1m50/50\u001b[0m \u001b[32m━━━━━━━━━━━━━━━━━━━━\u001b[0m\u001b[37m\u001b[0m \u001b[1m0s\u001b[0m 68ms/step - accuracy: 0.4973 - loss: 0.7839"
          ]
        },
        {
          "output_type": "stream",
          "name": "stderr",
          "text": [
            "[I 2024-08-15 02:37:04,634] Trial 35 pruned. Trial was pruned at epoch 0.\n"
          ]
        },
        {
          "output_type": "stream",
          "name": "stdout",
          "text": [
            "Trial 36 started with hyperparameters: num_layers=4, filters=[105, 128, 53, 106], kernel_size=2, l1=6.720618651563895e-06, l2=0.004309459288364725, dense_units=66, dropout_rate=0.18474545639084267, learning_rate=1.499282556775477e-05\n",
            "\u001b[1m50/50\u001b[0m \u001b[32m━━━━━━━━━━━━━━━━━━━━\u001b[0m\u001b[37m\u001b[0m \u001b[1m0s\u001b[0m 102ms/step - accuracy: 0.5018 - loss: 1.8550"
          ]
        },
        {
          "output_type": "stream",
          "name": "stderr",
          "text": [
            "[I 2024-08-15 02:38:48,975] Trial 36 pruned. Trial was pruned at epoch 0.\n"
          ]
        },
        {
          "output_type": "stream",
          "name": "stdout",
          "text": [
            "Trial 37 started with hyperparameters: num_layers=6, filters=[76, 74, 105, 32, 69, 107], kernel_size=2, l1=1.3366916295697916e-05, l2=0.0013891498007675917, dense_units=109, dropout_rate=0.3095031134767248, learning_rate=0.00016416939352199137\n",
            "\u001b[1m50/50\u001b[0m \u001b[32m━━━━━━━━━━━━━━━━━━━━\u001b[0m\u001b[37m\u001b[0m \u001b[1m0s\u001b[0m 78ms/step - accuracy: 0.5013 - loss: 1.2098"
          ]
        },
        {
          "output_type": "stream",
          "name": "stderr",
          "text": [
            "[I 2024-08-15 02:40:30,431] Trial 37 pruned. Trial was pruned at epoch 0.\n"
          ]
        },
        {
          "output_type": "stream",
          "name": "stdout",
          "text": [
            "Trial 38 started with hyperparameters: num_layers=5, filters=[50, 117, 121, 111, 57], kernel_size=3, l1=2.896011475397798e-05, l2=0.00019520302015701424, dense_units=244, dropout_rate=0.16563752842271245, learning_rate=0.00031327206779357313\n",
            "\u001b[1m50/50\u001b[0m \u001b[32m━━━━━━━━━━━━━━━━━━━━\u001b[0m\u001b[37m\u001b[0m \u001b[1m0s\u001b[0m 81ms/step - accuracy: 0.5082 - loss: 1.0346"
          ]
        },
        {
          "output_type": "stream",
          "name": "stderr",
          "text": [
            "[I 2024-08-15 02:42:14,460] Trial 38 pruned. Trial was pruned at epoch 0.\n"
          ]
        },
        {
          "output_type": "stream",
          "name": "stdout",
          "text": [
            "Trial 39 started with hyperparameters: num_layers=5, filters=[90, 97, 65, 122, 94], kernel_size=3, l1=2.417898015876432e-06, l2=2.2226195100512742e-06, dense_units=228, dropout_rate=0.2851786444288319, learning_rate=4.264668862682855e-05\n",
            "\u001b[1m50/50\u001b[0m \u001b[32m━━━━━━━━━━━━━━━━━━━━\u001b[0m\u001b[37m\u001b[0m \u001b[1m0s\u001b[0m 101ms/step - accuracy: 0.5137 - loss: 0.7150"
          ]
        },
        {
          "output_type": "stream",
          "name": "stderr",
          "text": [
            "[I 2024-08-15 02:44:01,432] Trial 39 pruned. Trial was pruned at epoch 0.\n"
          ]
        },
        {
          "output_type": "stream",
          "name": "stdout",
          "text": [
            "Trial 40 started with hyperparameters: num_layers=6, filters=[84, 42, 71, 115, 85, 53], kernel_size=2, l1=4.9318871461813285e-06, l2=0.00041392337546576624, dense_units=83, dropout_rate=0.25375562730194784, learning_rate=0.0002356121450599016\n",
            "\u001b[1m50/50\u001b[0m \u001b[32m━━━━━━━━━━━━━━━━━━━━\u001b[0m\u001b[37m\u001b[0m \u001b[1m0s\u001b[0m 73ms/step - accuracy: 0.4981 - loss: 0.8616"
          ]
        },
        {
          "output_type": "stream",
          "name": "stderr",
          "text": [
            "[I 2024-08-15 02:45:41,369] Trial 40 pruned. Trial was pruned at epoch 0.\n"
          ]
        },
        {
          "output_type": "stream",
          "name": "stdout",
          "text": [
            "Trial 41 started with hyperparameters: num_layers=5, filters=[77, 127, 34, 91, 69], kernel_size=3, l1=0.004379867612958126, l2=1.8294162847025705e-05, dense_units=195, dropout_rate=0.27622680779277897, learning_rate=1.4528953900006067e-05\n",
            "\u001b[1m50/50\u001b[0m \u001b[32m━━━━━━━━━━━━━━━━━━━━\u001b[0m\u001b[37m\u001b[0m \u001b[1m23s\u001b[0m 218ms/step - accuracy: 0.5025 - loss: 29.6251 - val_accuracy: 0.5300 - val_loss: 29.1257\n",
            "\u001b[1m50/50\u001b[0m \u001b[32m━━━━━━━━━━━━━━━━━━━━\u001b[0m\u001b[37m\u001b[0m \u001b[1m5s\u001b[0m 105ms/step - accuracy: 0.4929 - loss: 28.9619 - val_accuracy: 0.4800 - val_loss: 28.4679\n",
            "\u001b[1m50/50\u001b[0m \u001b[32m━━━━━━━━━━━━━━━━━━━━\u001b[0m\u001b[37m\u001b[0m \u001b[1m5s\u001b[0m 104ms/step - accuracy: 0.4954 - loss: 28.3055 - val_accuracy: 0.6112 - val_loss: 27.8167\n",
            "\u001b[1m50/50\u001b[0m \u001b[32m━━━━━━━━━━━━━━━━━━━━\u001b[0m\u001b[37m\u001b[0m \u001b[1m5s\u001b[0m 105ms/step - accuracy: 0.5204 - loss: 27.6554 - val_accuracy: 0.4938 - val_loss: 27.1741\n",
            "\u001b[1m50/50\u001b[0m \u001b[32m━━━━━━━━━━━━━━━━━━━━\u001b[0m\u001b[37m\u001b[0m \u001b[1m5s\u001b[0m 105ms/step - accuracy: 0.5354 - loss: 27.0138 - val_accuracy: 0.6175 - val_loss: 26.5385\n",
            "\u001b[1m50/50\u001b[0m \u001b[32m━━━━━━━━━━━━━━━━━━━━\u001b[0m\u001b[37m\u001b[0m \u001b[1m5s\u001b[0m 104ms/step - accuracy: 0.5247 - loss: 26.3809 - val_accuracy: 0.5138 - val_loss: 25.9119\n",
            "\u001b[1m50/50\u001b[0m \u001b[32m━━━━━━━━━━━━━━━━━━━━\u001b[0m\u001b[37m\u001b[0m \u001b[1m5s\u001b[0m 105ms/step - accuracy: 0.5101 - loss: 25.7574 - val_accuracy: 0.4663 - val_loss: 25.2936\n"
          ]
        },
        {
          "output_type": "stream",
          "name": "stderr",
          "text": [
            "[I 2024-08-15 02:56:13,116] Trial 41 pruned. \n"
          ]
        },
        {
          "output_type": "stream",
          "name": "stdout",
          "text": [
            "Trial 42 started with hyperparameters: num_layers=5, filters=[82, 123, 38, 89, 58], kernel_size=3, l1=0.001221235397309206, l2=3.310895128949964e-05, dense_units=210, dropout_rate=0.3555092469673276, learning_rate=1.1760399926530654e-05\n",
            "\u001b[1m50/50\u001b[0m \u001b[32m━━━━━━━━━━━━━━━━━━━━\u001b[0m\u001b[37m\u001b[0m \u001b[1m23s\u001b[0m 227ms/step - accuracy: 0.4915 - loss: 8.7717 - val_accuracy: 0.4625 - val_loss: 8.6623\n",
            "\u001b[1m50/50\u001b[0m \u001b[32m━━━━━━━━━━━━━━━━━━━━\u001b[0m\u001b[37m\u001b[0m \u001b[1m5s\u001b[0m 105ms/step - accuracy: 0.5117 - loss: 8.6261 - val_accuracy: 0.4800 - val_loss: 8.5182\n",
            "\u001b[1m50/50\u001b[0m \u001b[32m━━━━━━━━━━━━━━━━━━━━\u001b[0m\u001b[37m\u001b[0m \u001b[1m5s\u001b[0m 106ms/step - accuracy: 0.5024 - loss: 8.4825 - val_accuracy: 0.5125 - val_loss: 8.3746\n",
            "\u001b[1m50/50\u001b[0m \u001b[32m━━━━━━━━━━━━━━━━━━━━\u001b[0m\u001b[37m\u001b[0m \u001b[1m5s\u001b[0m 106ms/step - accuracy: 0.5093 - loss: 8.3387 - val_accuracy: 0.4938 - val_loss: 8.2327\n",
            "\u001b[1m50/50\u001b[0m \u001b[32m━━━━━━━━━━━━━━━━━━━━\u001b[0m\u001b[37m\u001b[0m \u001b[1m5s\u001b[0m 105ms/step - accuracy: 0.5112 - loss: 8.1974 - val_accuracy: 0.4913 - val_loss: 8.0920\n",
            "\u001b[1m50/50\u001b[0m \u001b[32m━━━━━━━━━━━━━━━━━━━━\u001b[0m\u001b[37m\u001b[0m \u001b[1m5s\u001b[0m 106ms/step - accuracy: 0.4946 - loss: 8.0574 - val_accuracy: 0.5050 - val_loss: 7.9525\n",
            "\u001b[1m50/50\u001b[0m \u001b[32m━━━━━━━━━━━━━━━━━━━━\u001b[0m\u001b[37m\u001b[0m \u001b[1m5s\u001b[0m 106ms/step - accuracy: 0.5059 - loss: 7.9186 - val_accuracy: 0.4663 - val_loss: 7.8154\n"
          ]
        },
        {
          "output_type": "stream",
          "name": "stderr",
          "text": [
            "[I 2024-08-15 03:06:44,315] Trial 42 pruned. \n"
          ]
        },
        {
          "output_type": "stream",
          "name": "stdout",
          "text": [
            "Trial 43 started with hyperparameters: num_layers=4, filters=[65, 107, 47, 95], kernel_size=3, l1=0.005749094077975541, l2=9.72630837064475e-05, dense_units=256, dropout_rate=0.3198733767493666, learning_rate=1.8802405043726024e-05\n",
            "\u001b[1m50/50\u001b[0m \u001b[32m━━━━━━━━━━━━━━━━━━━━\u001b[0m\u001b[37m\u001b[0m \u001b[1m19s\u001b[0m 189ms/step - accuracy: 0.4996 - loss: 28.3098 - val_accuracy: 0.5900 - val_loss: 27.7112\n",
            "\u001b[1m50/50\u001b[0m \u001b[32m━━━━━━━━━━━━━━━━━━━━\u001b[0m\u001b[37m\u001b[0m \u001b[1m5s\u001b[0m 93ms/step - accuracy: 0.5412 - loss: 27.5153 - val_accuracy: 0.6425 - val_loss: 26.9274\n",
            "\u001b[1m50/50\u001b[0m \u001b[32m━━━━━━━━━━━━━━━━━━━━\u001b[0m\u001b[37m\u001b[0m \u001b[1m5s\u001b[0m 93ms/step - accuracy: 0.5819 - loss: 26.7329 - val_accuracy: 0.6562 - val_loss: 26.1560\n",
            "\u001b[1m50/50\u001b[0m \u001b[32m━━━━━━━━━━━━━━━━━━━━\u001b[0m\u001b[37m\u001b[0m \u001b[1m5s\u001b[0m 93ms/step - accuracy: 0.6244 - loss: 25.9643 - val_accuracy: 0.7312 - val_loss: 25.3983\n",
            "\u001b[1m50/50\u001b[0m \u001b[32m━━━━━━━━━━━━━━━━━━━━\u001b[0m\u001b[37m\u001b[0m \u001b[1m5s\u001b[0m 93ms/step - accuracy: 0.6362 - loss: 25.2165 - val_accuracy: 0.7088 - val_loss: 24.6645\n",
            "\u001b[1m50/50\u001b[0m \u001b[32m━━━━━━━━━━━━━━━━━━━━\u001b[0m\u001b[37m\u001b[0m \u001b[1m5s\u001b[0m 94ms/step - accuracy: 0.6391 - loss: 24.4854 - val_accuracy: 0.5925 - val_loss: 23.9614\n",
            "\u001b[1m50/50\u001b[0m \u001b[32m━━━━━━━━━━━━━━━━━━━━\u001b[0m\u001b[37m\u001b[0m \u001b[1m5s\u001b[0m 93ms/step - accuracy: 0.6154 - loss: 23.7825 - val_accuracy: 0.4850 - val_loss: 23.3128\n"
          ]
        },
        {
          "output_type": "stream",
          "name": "stderr",
          "text": [
            "[I 2024-08-15 03:17:08,815] Trial 43 pruned. \n"
          ]
        },
        {
          "output_type": "stream",
          "name": "stdout",
          "text": [
            "Trial 44 started with hyperparameters: num_layers=5, filters=[74, 119, 42, 66, 80], kernel_size=3, l1=0.0026706730315906994, l2=7.176881728451244e-06, dense_units=227, dropout_rate=0.241900181065119, learning_rate=6.613441494263612e-05\n",
            "\u001b[1m50/50\u001b[0m \u001b[32m━━━━━━━━━━━━━━━━━━━━\u001b[0m\u001b[37m\u001b[0m \u001b[1m23s\u001b[0m 216ms/step - accuracy: 0.5030 - loss: 17.3346 - val_accuracy: 0.5175 - val_loss: 16.0773\n",
            "\u001b[1m50/50\u001b[0m \u001b[32m━━━━━━━━━━━━━━━━━━━━\u001b[0m\u001b[37m\u001b[0m \u001b[1m5s\u001b[0m 99ms/step - accuracy: 0.5231 - loss: 15.6738 - val_accuracy: 0.6388 - val_loss: 14.4840\n",
            "\u001b[1m50/50\u001b[0m \u001b[32m━━━━━━━━━━━━━━━━━━━━\u001b[0m\u001b[37m\u001b[0m \u001b[1m5s\u001b[0m 100ms/step - accuracy: 0.5391 - loss: 14.1021 - val_accuracy: 0.5450 - val_loss: 12.9787\n",
            "\u001b[1m50/50\u001b[0m \u001b[32m━━━━━━━━━━━━━━━━━━━━\u001b[0m\u001b[37m\u001b[0m \u001b[1m5s\u001b[0m 100ms/step - accuracy: 0.5800 - loss: 12.6195 - val_accuracy: 0.7063 - val_loss: 11.5650\n",
            "\u001b[1m50/50\u001b[0m \u001b[32m━━━━━━━━━━━━━━━━━━━━\u001b[0m\u001b[37m\u001b[0m \u001b[1m5s\u001b[0m 100ms/step - accuracy: 0.5875 - loss: 11.2294 - val_accuracy: 0.6750 - val_loss: 10.2453\n",
            "\u001b[1m50/50\u001b[0m \u001b[32m━━━━━━━━━━━━━━━━━━━━\u001b[0m\u001b[37m\u001b[0m \u001b[1m5s\u001b[0m 99ms/step - accuracy: 0.5674 - loss: 9.9336 - val_accuracy: 0.4963 - val_loss: 9.0252\n",
            "\u001b[1m50/50\u001b[0m \u001b[32m━━━━━━━━━━━━━━━━━━━━\u001b[0m\u001b[37m\u001b[0m \u001b[1m5s\u001b[0m 100ms/step - accuracy: 0.5468 - loss: 8.7335 - val_accuracy: 0.5163 - val_loss: 7.8948\n"
          ]
        },
        {
          "output_type": "stream",
          "name": "stderr",
          "text": [
            "[I 2024-08-15 03:27:39,324] Trial 44 pruned. \n"
          ]
        },
        {
          "output_type": "stream",
          "name": "stdout",
          "text": [
            "Trial 45 started with hyperparameters: num_layers=4, filters=[96, 60, 36, 80], kernel_size=3, l1=1.2969267190160541e-05, l2=4.65750668829827e-06, dense_units=248, dropout_rate=0.2904373931623366, learning_rate=0.00013256734186251846\n",
            "\u001b[1m50/50\u001b[0m \u001b[32m━━━━━━━━━━━━━━━━━━━━\u001b[0m\u001b[37m\u001b[0m \u001b[1m0s\u001b[0m 82ms/step - accuracy: 0.5338 - loss: 0.7381"
          ]
        },
        {
          "output_type": "stream",
          "name": "stderr",
          "text": [
            "[I 2024-08-15 03:29:22,210] Trial 45 pruned. Trial was pruned at epoch 0.\n"
          ]
        },
        {
          "output_type": "stream",
          "name": "stdout",
          "text": [
            "Trial 46 started with hyperparameters: num_layers=3, filters=[80, 125, 78], kernel_size=3, l1=0.008656855526001575, l2=1.2154653574344522e-05, dense_units=193, dropout_rate=0.21602987941582397, learning_rate=2.962108118281268e-05\n",
            "\u001b[1m50/50\u001b[0m \u001b[32m━━━━━━━━━━━━━━━━━━━━\u001b[0m\u001b[37m\u001b[0m \u001b[1m23s\u001b[0m 234ms/step - accuracy: 0.5011 - loss: 44.4632 - val_accuracy: 0.5300 - val_loss: 42.7700\n",
            "\u001b[1m50/50\u001b[0m \u001b[32m━━━━━━━━━━━━━━━━━━━━\u001b[0m\u001b[37m\u001b[0m \u001b[1m5s\u001b[0m 108ms/step - accuracy: 0.5411 - loss: 42.2203 - val_accuracy: 0.5462 - val_loss: 40.5842\n",
            "\u001b[1m50/50\u001b[0m \u001b[32m━━━━━━━━━━━━━━━━━━━━\u001b[0m\u001b[37m\u001b[0m \u001b[1m5s\u001b[0m 108ms/step - accuracy: 0.5809 - loss: 40.0523 - val_accuracy: 0.4888 - val_loss: 38.4782\n",
            "\u001b[1m50/50\u001b[0m \u001b[32m━━━━━━━━━━━━━━━━━━━━\u001b[0m\u001b[37m\u001b[0m \u001b[1m5s\u001b[0m 108ms/step - accuracy: 0.5697 - loss: 37.9607 - val_accuracy: 0.6363 - val_loss: 36.4395\n",
            "\u001b[1m50/50\u001b[0m \u001b[32m━━━━━━━━━━━━━━━━━━━━\u001b[0m\u001b[37m\u001b[0m \u001b[1m5s\u001b[0m 108ms/step - accuracy: 0.6146 - loss: 35.9546 - val_accuracy: 0.6288 - val_loss: 34.5046\n",
            "\u001b[1m50/50\u001b[0m \u001b[32m━━━━━━━━━━━━━━━━━━━━\u001b[0m\u001b[37m\u001b[0m \u001b[1m5s\u001b[0m 109ms/step - accuracy: 0.6212 - loss: 34.0365 - val_accuracy: 0.5275 - val_loss: 32.6769\n",
            "\u001b[1m50/50\u001b[0m \u001b[32m━━━━━━━━━━━━━━━━━━━━\u001b[0m\u001b[37m\u001b[0m \u001b[1m5s\u001b[0m 109ms/step - accuracy: 0.6209 - loss: 32.2097 - val_accuracy: 0.5575 - val_loss: 30.9148\n",
            "\u001b[1m50/50\u001b[0m \u001b[32m━━━━━━━━━━━━━━━━━━━━\u001b[0m\u001b[37m\u001b[0m \u001b[1m5s\u001b[0m 110ms/step - accuracy: 0.6494 - loss: 30.4512 - val_accuracy: 0.7050 - val_loss: 29.1723\n",
            "\u001b[1m50/50\u001b[0m \u001b[32m━━━━━━━━━━━━━━━━━━━━\u001b[0m\u001b[37m\u001b[0m \u001b[1m5s\u001b[0m 109ms/step - accuracy: 0.6480 - loss: 28.7869 - val_accuracy: 0.6975 - val_loss: 27.5563\n",
            "\u001b[1m125/125\u001b[0m \u001b[32m━━━━━━━━━━━━━━━━━━━━\u001b[0m\u001b[37m\u001b[0m \u001b[1m2s\u001b[0m 12ms/step - accuracy: 0.7014 - loss: 27.5532\n"
          ]
        },
        {
          "output_type": "stream",
          "name": "stderr",
          "text": [
            "[I 2024-08-15 03:44:15,910] Trial 46 finished with value: 0.6894999742507935 and parameters: {'num_layers': 3, 'filters_0': 80, 'filters_1': 125, 'filters_2': 78, 'kernel_size': 3, 'l1': 0.008656855526001575, 'l2': 1.2154653574344522e-05, 'dense_units': 193, 'dropout_rate': 0.21602987941582397, 'learning_rate': 2.962108118281268e-05}. Best is trial 4 with value: 0.7117499709129333.\n"
          ]
        },
        {
          "output_type": "stream",
          "name": "stdout",
          "text": [
            "Trial 47 started with hyperparameters: num_layers=3, filters=[100, 52, 77], kernel_size=3, l1=0.0004988490989893007, l2=3.0525668929232096e-06, dense_units=161, dropout_rate=0.21525017376920036, learning_rate=3.1434640546629e-05\n",
            "\u001b[1m50/50\u001b[0m \u001b[32m━━━━━━━━━━━━━━━━━━━━\u001b[0m\u001b[37m\u001b[0m \u001b[1m0s\u001b[0m 89ms/step - accuracy: 0.5099 - loss: 2.1227"
          ]
        },
        {
          "output_type": "stream",
          "name": "stderr",
          "text": [
            "[I 2024-08-15 03:45:58,672] Trial 47 pruned. Trial was pruned at epoch 0.\n"
          ]
        },
        {
          "output_type": "stream",
          "name": "stdout",
          "text": [
            "Trial 48 started with hyperparameters: num_layers=3, filters=[68, 79, 92], kernel_size=3, l1=0.0001905404298438518, l2=1.889887746005714e-06, dense_units=208, dropout_rate=0.170639433275539, learning_rate=2.372536722882356e-05\n",
            "\u001b[1m50/50\u001b[0m \u001b[32m━━━━━━━━━━━━━━━━━━━━\u001b[0m\u001b[37m\u001b[0m \u001b[1m0s\u001b[0m 79ms/step - accuracy: 0.5186 - loss: 1.3933"
          ]
        },
        {
          "output_type": "stream",
          "name": "stderr",
          "text": [
            "[I 2024-08-15 03:47:39,286] Trial 48 pruned. Trial was pruned at epoch 0.\n"
          ]
        },
        {
          "output_type": "stream",
          "name": "stdout",
          "text": [
            "Trial 49 started with hyperparameters: num_layers=3, filters=[91, 108, 85], kernel_size=3, l1=7.255047932672802e-05, l2=1.7827530921362437e-05, dense_units=232, dropout_rate=0.12884885939901933, learning_rate=9.115480597644008e-05\n",
            "\u001b[1m50/50\u001b[0m \u001b[32m━━━━━━━━━━━━━━━━━━━━\u001b[0m\u001b[37m\u001b[0m \u001b[1m0s\u001b[0m 103ms/step - accuracy: 0.5067 - loss: 1.0772"
          ]
        },
        {
          "output_type": "stream",
          "name": "stderr",
          "text": [
            "[I 2024-08-15 03:49:22,447] Trial 49 pruned. Trial was pruned at epoch 0.\n"
          ]
        },
        {
          "output_type": "stream",
          "name": "stdout",
          "text": [
            "Best trial:\n",
            "Value: 0.7117499709129333\n",
            "Params: \n",
            "    num_layers: 6\n",
            "    filters_0: 83\n",
            "    filters_1: 82\n",
            "    filters_2: 80\n",
            "    filters_3: 118\n",
            "    filters_4: 101\n",
            "    filters_5: 94\n",
            "    kernel_size: 3\n",
            "    l1: 2.9406712943657902e-05\n",
            "    l2: 2.2306887659153147e-06\n",
            "    dense_units: 247\n",
            "    dropout_rate: 0.3032626748136775\n",
            "    learning_rate: 0.00033230173317945645\n",
            "Elapsed time: 17382.02 seconds\n"
          ]
        }
      ]
    },
    {
      "cell_type": "markdown",
      "source": [
        "Intermediate and weak"
      ],
      "metadata": {
        "id": "1BPH0ex4gq1G"
      }
    },
    {
      "cell_type": "code",
      "source": [
        "\n",
        "# Configure logging to file in the current directory with the specified name\n",
        "logging.basicConfig(filename='intermediate_Scenarios_IW.log', level=logging.INFO,\n",
        "                    format='%(asctime)s:%(levelname)s:%(message)s')\n",
        "\n",
        "# Function to preprocess data\n",
        "def preprocess_data(simulations_folder, batch_number):\n",
        "    # Create ImaFile object for the specified simulation folder and model\n",
        "    file_sim = ImaFile(simulations_folder=os.path.join(simulations_folder, f'Simulations{batch_number}'), nr_samples=198, model_name='Marth-3epoch-CEU')\n",
        "\n",
        "    # Read the simulation data\n",
        "    gene_sim = file_sim.read_simulations(parameter_name='selection_coeff_hetero', max_nrepl=4000)\n",
        "\n",
        "    # Filter simulations based on frequency threshold\n",
        "    gene_sim.filter_freq(0.01)\n",
        "\n",
        "    # Sort simulations by row frequency\n",
        "    gene_sim.sort('rows_freq')\n",
        "\n",
        "    # Resize simulation data to the required dimensions\n",
        "    gene_sim.resize((198, 192))\n",
        "\n",
        "    # Convert simulation data (flip=True allows for data augmentation)\n",
        "    gene_sim.convert(flip=True)\n",
        "\n",
        "    # Get a random subset of indices and subset the simulation data\n",
        "    gene_sim.subset(get_index_random(gene_sim))\n",
        "\n",
        "    # Convert targets to binary format\n",
        "    gene_sim.targets = to_binary(gene_sim.targets)\n",
        "\n",
        "    return gene_sim\n",
        "\n",
        "# Objective function for Optuna optimization\n",
        "def objective(trial, simulations_folder, epochs=1):\n",
        "    # Set random seed\n",
        "    np.random.seed(42)\n",
        "    tf.random.set_seed(42)\n",
        "\n",
        "    # Hyperparameters to be optimized\n",
        "    num_layers = trial.suggest_int('num_layers', 3, 6)  # Limit the number of layers to avoid excessive reduction\n",
        "    filters = [trial.suggest_int(f'filters_{i}', 32, 128) for i in range(num_layers)]  # Adjust filters range\n",
        "    kernel_size = trial.suggest_int('kernel_size', 2, 3)  # Limit the kernel size to avoid excessive reduction\n",
        "    l1 = trial.suggest_float('l1', 1e-6, 1e-2, log=True)\n",
        "    l2 = trial.suggest_float('l2', 1e-6, 1e-2, log=True)\n",
        "    dense_units = trial.suggest_int('dense_units', 64, 256)  # Adjust dense units range\n",
        "    dropout_rate = trial.suggest_float('dropout_rate', 0.1, 0.5)\n",
        "    learning_rate = trial.suggest_float('learning_rate', 1e-5, 1e-3, log=True)\n",
        "\n",
        "    # Log the hyperparameters at the start of each trial\n",
        "    logging.info(f'Trial {trial.number} started with hyperparameters: num_layers={num_layers}, filters={filters}, '\n",
        "                 f'kernel_size={kernel_size}, l1={l1}, l2={l2}, dense_units={dense_units}, '\n",
        "                 f'dropout_rate={dropout_rate}, learning_rate={learning_rate}')\n",
        "    print(f'Trial {trial.number} started with hyperparameters: num_layers={num_layers}, filters={filters}, '\n",
        "          f'kernel_size={kernel_size}, l1={l1}, l2={l2}, dense_units={dense_units}, '\n",
        "          f'dropout_rate={dropout_rate}, learning_rate={learning_rate}')\n",
        "\n",
        "    # Building the model based on sampled hyperparameters\n",
        "    model = models.Sequential()\n",
        "    model.add(layers.Input(shape=(198, 192, 1)))  # Define the input layer\n",
        "    for i in range(num_layers):\n",
        "        model.add(layers.Conv2D(filters=filters[i], kernel_size=(kernel_size, kernel_size), strides=(1, 1), activation='relu',\n",
        "                                kernel_regularizer=regularizers.l1_l2(l1=l1, l2=l2), padding='same'))  # Use 'same' padding to avoid dimension issues\n",
        "        model.add(layers.MaxPooling2D(pool_size=(2, 2)))\n",
        "\n",
        "    model.add(layers.Flatten())  # Flatten the output for the Dense layers\n",
        "    model.add(layers.Dense(units=dense_units, activation='relu'))  # Add Dense layer\n",
        "    model.add(layers.Dropout(rate=dropout_rate))  # Add Dropout layer\n",
        "    model.add(layers.Dense(units=1, activation='sigmoid'))  # Output layer with sigmoid activation\n",
        "\n",
        "    optimizer = tf.keras.optimizers.Adam(learning_rate=learning_rate)  # Define optimizer\n",
        "    model.compile(optimizer=optimizer, loss='binary_crossentropy', metrics=['accuracy'])  # Compile the model\n",
        "\n",
        "    # Pruning callback to terminate unpromising trials\n",
        "    pruning_callback = TFKerasPruningCallback(trial, 'val_loss')\n",
        "\n",
        "    # Early stopping to prevent overfitting\n",
        "    early_stopping = EarlyStopping(monitor='val_loss', patience=3, restore_best_weights=True)\n",
        "\n",
        "    # Incremental training on 9 batches\n",
        "    best_val_loss = np.inf  # Track the best validation loss\n",
        "    for batch_number in range(1, 10):\n",
        "        gene_sim = preprocess_data(simulations_folder, batch_number)  # Preprocess data\n",
        "        history = model.fit(gene_sim.data, gene_sim.targets, batch_size=64, epochs=epochs, verbose=1, validation_split=0.2,\n",
        "                            callbacks=[early_stopping, pruning_callback])  # Train the model with callbacks\n",
        "\n",
        "        # Get the validation loss for the current epoch\n",
        "        val_loss = min(history.history['val_loss'])\n",
        "        if val_loss < best_val_loss:\n",
        "            best_val_loss = val_loss\n",
        "            trial.report(val_loss, batch_number)\n",
        "            if trial.should_prune():\n",
        "                raise optuna.exceptions.TrialPruned()\n",
        "\n",
        "    # Evaluate the model on the 10th batch\n",
        "    gene_sim = preprocess_data(simulations_folder, 10)\n",
        "    evaluation = model.evaluate(gene_sim.data, gene_sim.targets, verbose=1)\n",
        "    return evaluation[1]  # Return the accuracy\n",
        "\n",
        "# Function to run the optimization process\n",
        "def run_optimization():\n",
        "    start_time = time.time()  # Record start time\n",
        "\n",
        "    simulations_folder = '/content/EvoNet-CNN-Insight/model_training/intermediate_weak/IW'  # Folder for this dataset\n",
        "    logging.info(f\"Starting optimization for {simulations_folder}\")\n",
        "    print(f\"Starting optimization for {simulations_folder}\")\n",
        "\n",
        "    # Create an Optuna study and optimize the objective function\n",
        "    study = optuna.create_study(direction='maximize', pruner=optuna.pruners.MedianPruner(), storage='sqlite:///iw_study.db', load_if_exists=True)  # Use SQLite storage\n",
        "    study.optimize(lambda trial: objective(trial, simulations_folder), n_trials=50)  # Set to 50 trials\n",
        "\n",
        "    try:\n",
        "        trial = study.best_trial\n",
        "        print('Best trial:')\n",
        "        print('Value: {}'.format(trial.value))\n",
        "        print('Params: ')\n",
        "        for key, value in trial.params.items():\n",
        "            print('    {}: {}'.format(key, value))  # Print best trial parameters\n",
        "\n",
        "        logging.info('Best trial:')\n",
        "        logging.info('Value: {}'.format(trial.value))\n",
        "        logging.info('Params: ')\n",
        "        for key, value in trial.params.items():\n",
        "            logging.info('    {}: {}'.format(key, value))  # Log best trial parameters\n",
        "\n",
        "    except ValueError as e:\n",
        "        logging.error(f\"No completed trials: {e}\")  # Log error if no trials are completed\n",
        "\n",
        "    elapsed_time = time.time() - start_time  # Calculate elapsed time\n",
        "    print(f\"Elapsed time: {elapsed_time:.2f} seconds\")\n",
        "    logging.info(f\"Elapsed time: {elapsed_time:.2f} seconds\")  # Log elapsed time\n",
        "\n",
        "# Run the optimization process\n",
        "if __name__ == '__main__':\n",
        "    run_optimization()  # Execute the optimization function"
      ],
      "metadata": {
        "id": "px081ELZ3WLR",
        "outputId": "4e284140-c2e2-4e32-cb73-c6f9c7aa0856",
        "colab": {
          "base_uri": "https://localhost:8080/"
        }
      },
      "execution_count": 5,
      "outputs": [
        {
          "metadata": {
            "tags": null
          },
          "name": "stdout",
          "output_type": "stream",
          "text": [
            "Starting optimization for /content/EvoNet-CNN-Insight/model_training/intermediate_weak/IW\n"
          ]
        },
        {
          "metadata": {
            "tags": null
          },
          "name": "stderr",
          "output_type": "stream",
          "text": [
            "[I 2024-08-15 11:49:22,573] A new study created in RDB with name: no-name-7629f290-a204-468e-b142-5418b9205b6f\n"
          ]
        },
        {
          "metadata": {
            "tags": null
          },
          "name": "stdout",
          "output_type": "stream",
          "text": [
            "Trial 0 started with hyperparameters: num_layers=6, filters=[87, 45, 103, 70, 67, 48], kernel_size=2, l1=0.0019372153248872236, l2=1.6936862143720515e-06, dense_units=249, dropout_rate=0.47721701790853754, learning_rate=0.0004398097574304861\n",
            "\u001b[1m50/50\u001b[0m \u001b[32m━━━━━━━━━━━━━━━━━━━━\u001b[0m\u001b[37m\u001b[0m \u001b[1m19s\u001b[0m 162ms/step - accuracy: 0.4963 - loss: 9.1235 - val_accuracy: 0.5175 - val_loss: 6.4961\n",
            "\u001b[1m50/50\u001b[0m \u001b[32m━━━━━━━━━━━━━━━━━━━━\u001b[0m\u001b[37m\u001b[0m \u001b[1m4s\u001b[0m 84ms/step - accuracy: 0.4954 - loss: 5.7568 - val_accuracy: 0.4800 - val_loss: 3.7728\n"
          ]
        },
        {
          "metadata": {
            "tags": null
          },
          "name": "stderr",
          "output_type": "stream",
          "text": [
            "/usr/local/lib/python3.10/dist-packages/optuna/trial/_trial.py:493: UserWarning: The reported value is ignored because this `step` 0 is already reported.\n",
            "  warnings.warn(\n"
          ]
        },
        {
          "metadata": {
            "tags": null
          },
          "name": "stdout",
          "output_type": "stream",
          "text": [
            "\u001b[1m50/50\u001b[0m \u001b[32m━━━━━━━━━━━━━━━━━━━━\u001b[0m\u001b[37m\u001b[0m \u001b[1m4s\u001b[0m 84ms/step - accuracy: 0.5159 - loss: 3.2501 - val_accuracy: 0.4725 - val_loss: 1.9184\n",
            "\u001b[1m50/50\u001b[0m \u001b[32m━━━━━━━━━━━━━━━━━━━━\u001b[0m\u001b[37m\u001b[0m \u001b[1m4s\u001b[0m 84ms/step - accuracy: 0.4991 - loss: 1.6133 - val_accuracy: 0.5063 - val_loss: 0.9354\n",
            "\u001b[1m50/50\u001b[0m \u001b[32m━━━━━━━━━━━━━━━━━━━━\u001b[0m\u001b[37m\u001b[0m \u001b[1m4s\u001b[0m 84ms/step - accuracy: 0.4970 - loss: 0.8430 - val_accuracy: 0.4913 - val_loss: 0.7126\n",
            "\u001b[1m50/50\u001b[0m \u001b[32m━━━━━━━━━━━━━━━━━━━━\u001b[0m\u001b[37m\u001b[0m \u001b[1m4s\u001b[0m 84ms/step - accuracy: 0.5096 - loss: 0.7082 - val_accuracy: 0.5050 - val_loss: 0.7036\n",
            "\u001b[1m50/50\u001b[0m \u001b[32m━━━━━━━━━━━━━━━━━━━━\u001b[0m\u001b[37m\u001b[0m \u001b[1m4s\u001b[0m 83ms/step - accuracy: 0.5024 - loss: 0.7035 - val_accuracy: 0.4663 - val_loss: 0.7038\n",
            "\u001b[1m50/50\u001b[0m \u001b[32m━━━━━━━━━━━━━━━━━━━━\u001b[0m\u001b[37m\u001b[0m \u001b[1m4s\u001b[0m 83ms/step - accuracy: 0.5070 - loss: 0.7034 - val_accuracy: 0.4787 - val_loss: 0.7037\n",
            "\u001b[1m50/50\u001b[0m \u001b[32m━━━━━━━━━━━━━━━━━━━━\u001b[0m\u001b[37m\u001b[0m \u001b[1m4s\u001b[0m 83ms/step - accuracy: 0.5053 - loss: 0.7034 - val_accuracy: 0.5025 - val_loss: 0.7034\n",
            "\u001b[1m125/125\u001b[0m \u001b[32m━━━━━━━━━━━━━━━━━━━━\u001b[0m\u001b[37m\u001b[0m \u001b[1m1s\u001b[0m 9ms/step - accuracy: 0.4971 - loss: 0.7035\n"
          ]
        },
        {
          "metadata": {
            "tags": null
          },
          "name": "stderr",
          "output_type": "stream",
          "text": [
            "[I 2024-08-15 12:03:42,311] Trial 0 finished with value: 0.5 and parameters: {'num_layers': 6, 'filters_0': 87, 'filters_1': 45, 'filters_2': 103, 'filters_3': 70, 'filters_4': 67, 'filters_5': 48, 'kernel_size': 2, 'l1': 0.0019372153248872236, 'l2': 1.6936862143720515e-06, 'dense_units': 249, 'dropout_rate': 0.47721701790853754, 'learning_rate': 0.0004398097574304861}. Best is trial 0 with value: 0.5.\n"
          ]
        },
        {
          "metadata": {
            "tags": null
          },
          "name": "stdout",
          "output_type": "stream",
          "text": [
            "Trial 1 started with hyperparameters: num_layers=5, filters=[97, 92, 74, 115, 66], kernel_size=2, l1=1.004813651197435e-06, l2=0.0008961100203062567, dense_units=226, dropout_rate=0.39426368993604366, learning_rate=6.079989211204395e-05\n",
            "\u001b[1m50/50\u001b[0m \u001b[32m━━━━━━━━━━━━━━━━━━━━\u001b[0m\u001b[37m\u001b[0m \u001b[1m20s\u001b[0m 196ms/step - accuracy: 0.5193 - loss: 1.0091 - val_accuracy: 0.5038 - val_loss: 0.9900\n",
            "\u001b[1m50/50\u001b[0m \u001b[32m━━━━━━━━━━━━━━━━━━━━\u001b[0m\u001b[37m\u001b[0m \u001b[1m5s\u001b[0m 102ms/step - accuracy: 0.5934 - loss: 0.9795 - val_accuracy: 0.8087 - val_loss: 0.9326\n",
            "\u001b[1m50/50\u001b[0m \u001b[32m━━━━━━━━━━━━━━━━━━━━\u001b[0m\u001b[37m\u001b[0m \u001b[1m5s\u001b[0m 101ms/step - accuracy: 0.7337 - loss: 0.8972 - val_accuracy: 0.7962 - val_loss: 0.7628\n",
            "\u001b[1m50/50\u001b[0m \u001b[32m━━━━━━━━━━━━━━━━━━━━\u001b[0m\u001b[37m\u001b[0m \u001b[1m5s\u001b[0m 102ms/step - accuracy: 0.8244 - loss: 0.7136 - val_accuracy: 0.8213 - val_loss: 0.6574\n",
            "\u001b[1m50/50\u001b[0m \u001b[32m━━━━━━━━━━━━━━━━━━━━\u001b[0m\u001b[37m\u001b[0m \u001b[1m5s\u001b[0m 102ms/step - accuracy: 0.8461 - loss: 0.6435 - val_accuracy: 0.8475 - val_loss: 0.6118\n",
            "\u001b[1m50/50\u001b[0m \u001b[32m━━━━━━━━━━━━━━━━━━━━\u001b[0m\u001b[37m\u001b[0m \u001b[1m5s\u001b[0m 102ms/step - accuracy: 0.8387 - loss: 0.6291 - val_accuracy: 0.8512 - val_loss: 0.5804\n",
            "\u001b[1m50/50\u001b[0m \u001b[32m━━━━━━━━━━━━━━━━━━━━\u001b[0m\u001b[37m\u001b[0m \u001b[1m5s\u001b[0m 102ms/step - accuracy: 0.8560 - loss: 0.5795 - val_accuracy: 0.8562 - val_loss: 0.5738\n",
            "\u001b[1m50/50\u001b[0m \u001b[32m━━━━━━━━━━━━━━━━━━━━\u001b[0m\u001b[37m\u001b[0m \u001b[1m5s\u001b[0m 102ms/step - accuracy: 0.8489 - loss: 0.5795 - val_accuracy: 0.8562 - val_loss: 0.5809\n",
            "\u001b[1m50/50\u001b[0m \u001b[32m━━━━━━━━━━━━━━━━━━━━\u001b[0m\u001b[37m\u001b[0m \u001b[1m5s\u001b[0m 101ms/step - accuracy: 0.8519 - loss: 0.5813 - val_accuracy: 0.8500 - val_loss: 0.5704\n",
            "\u001b[1m125/125\u001b[0m \u001b[32m━━━━━━━━━━━━━━━━━━━━\u001b[0m\u001b[37m\u001b[0m \u001b[1m1s\u001b[0m 11ms/step - accuracy: 0.8632 - loss: 0.5478\n"
          ]
        },
        {
          "metadata": {
            "tags": null
          },
          "name": "stderr",
          "output_type": "stream",
          "text": [
            "[I 2024-08-15 12:18:10,537] Trial 1 finished with value: 0.8679999709129333 and parameters: {'num_layers': 5, 'filters_0': 97, 'filters_1': 92, 'filters_2': 74, 'filters_3': 115, 'filters_4': 66, 'kernel_size': 2, 'l1': 1.004813651197435e-06, 'l2': 0.0008961100203062567, 'dense_units': 226, 'dropout_rate': 0.39426368993604366, 'learning_rate': 6.079989211204395e-05}. Best is trial 1 with value: 0.8679999709129333.\n"
          ]
        },
        {
          "metadata": {
            "tags": null
          },
          "name": "stdout",
          "output_type": "stream",
          "text": [
            "Trial 2 started with hyperparameters: num_layers=6, filters=[121, 87, 54, 112, 33, 47], kernel_size=3, l1=5.0716695606694785e-06, l2=6.816909948117609e-06, dense_units=189, dropout_rate=0.4410372189591173, learning_rate=8.167479478069829e-05\n",
            "\u001b[1m50/50\u001b[0m \u001b[32m━━━━━━━━━━━━━━━━━━━━\u001b[0m\u001b[37m\u001b[0m \u001b[1m27s\u001b[0m 251ms/step - accuracy: 0.5070 - loss: 0.7326 - val_accuracy: 0.5775 - val_loss: 0.7148\n",
            "\u001b[1m50/50\u001b[0m \u001b[32m━━━━━━━━━━━━━━━━━━━━\u001b[0m\u001b[37m\u001b[0m \u001b[1m6s\u001b[0m 126ms/step - accuracy: 0.6883 - loss: 0.6868 - val_accuracy: 0.7887 - val_loss: 0.5258\n",
            "\u001b[1m50/50\u001b[0m \u001b[32m━━━━━━━━━━━━━━━━━━━━\u001b[0m\u001b[37m\u001b[0m \u001b[1m6s\u001b[0m 126ms/step - accuracy: 0.7964 - loss: 0.4903 - val_accuracy: 0.8438 - val_loss: 0.4097\n",
            "\u001b[1m50/50\u001b[0m \u001b[32m━━━━━━━━━━━━━━━━━━━━\u001b[0m\u001b[37m\u001b[0m \u001b[1m6s\u001b[0m 126ms/step - accuracy: 0.8247 - loss: 0.4187 - val_accuracy: 0.8562 - val_loss: 0.3609\n",
            "\u001b[1m50/50\u001b[0m \u001b[32m━━━━━━━━━━━━━━━━━━━━\u001b[0m\u001b[37m\u001b[0m \u001b[1m6s\u001b[0m 126ms/step - accuracy: 0.8337 - loss: 0.4072 - val_accuracy: 0.8487 - val_loss: 0.3814\n",
            "\u001b[1m50/50\u001b[0m \u001b[32m━━━━━━━━━━━━━━━━━━━━\u001b[0m\u001b[37m\u001b[0m \u001b[1m6s\u001b[0m 126ms/step - accuracy: 0.8407 - loss: 0.4020 - val_accuracy: 0.8275 - val_loss: 0.3979\n",
            "\u001b[1m50/50\u001b[0m \u001b[32m━━━━━━━━━━━━━━━━━━━━\u001b[0m\u001b[37m\u001b[0m \u001b[1m6s\u001b[0m 126ms/step - accuracy: 0.8552 - loss: 0.3849 - val_accuracy: 0.8550 - val_loss: 0.3668\n",
            "\u001b[1m50/50\u001b[0m \u001b[32m━━━━━━━━━━━━━━━━━━━━\u001b[0m\u001b[37m\u001b[0m \u001b[1m6s\u001b[0m 125ms/step - accuracy: 0.8446 - loss: 0.3661 - val_accuracy: 0.8062 - val_loss: 0.4496\n",
            "\u001b[1m50/50\u001b[0m \u001b[32m━━━━━━━━━━━━━━━━━━━━\u001b[0m\u001b[37m\u001b[0m \u001b[1m6s\u001b[0m 125ms/step - accuracy: 0.8396 - loss: 0.3885 - val_accuracy: 0.8450 - val_loss: 0.3818\n",
            "\u001b[1m125/125\u001b[0m \u001b[32m━━━━━━━━━━━━━━━━━━━━\u001b[0m\u001b[37m\u001b[0m \u001b[1m2s\u001b[0m 14ms/step - accuracy: 0.8708 - loss: 0.3499\n"
          ]
        },
        {
          "metadata": {
            "tags": null
          },
          "name": "stderr",
          "output_type": "stream",
          "text": [
            "[I 2024-08-15 12:32:55,296] Trial 2 finished with value: 0.8734999895095825 and parameters: {'num_layers': 6, 'filters_0': 121, 'filters_1': 87, 'filters_2': 54, 'filters_3': 112, 'filters_4': 33, 'filters_5': 47, 'kernel_size': 3, 'l1': 5.0716695606694785e-06, 'l2': 6.816909948117609e-06, 'dense_units': 189, 'dropout_rate': 0.4410372189591173, 'learning_rate': 8.167479478069829e-05}. Best is trial 2 with value: 0.8734999895095825.\n"
          ]
        },
        {
          "metadata": {
            "tags": null
          },
          "name": "stdout",
          "output_type": "stream",
          "text": [
            "Trial 3 started with hyperparameters: num_layers=6, filters=[117, 128, 79, 102, 42, 118], kernel_size=2, l1=0.00010046882716325959, l2=0.009429948667220099, dense_units=124, dropout_rate=0.4800558844831757, learning_rate=0.0006200196568866143\n",
            "\u001b[1m50/50\u001b[0m \u001b[32m━━━━━━━━━━━━━━━━━━━━\u001b[0m\u001b[37m\u001b[0m \u001b[1m24s\u001b[0m 229ms/step - accuracy: 0.4908 - loss: 4.5173 - val_accuracy: 0.5175 - val_loss: 2.2912\n",
            "\u001b[1m50/50\u001b[0m \u001b[32m━━━━━━━━━━━━━━━━━━━━\u001b[0m\u001b[37m\u001b[0m \u001b[1m6s\u001b[0m 122ms/step - accuracy: 0.4966 - loss: 1.9117 - val_accuracy: 0.4800 - val_loss: 1.1395\n",
            "\u001b[1m50/50\u001b[0m \u001b[32m━━━━━━━━━━━━━━━━━━━━\u001b[0m\u001b[37m\u001b[0m \u001b[1m6s\u001b[0m 122ms/step - accuracy: 0.4890 - loss: 1.0223 - val_accuracy: 0.4725 - val_loss: 0.7956\n",
            "\u001b[1m50/50\u001b[0m \u001b[32m━━━━━━━━━━━━━━━━━━━━\u001b[0m\u001b[37m\u001b[0m \u001b[1m6s\u001b[0m 121ms/step - accuracy: 0.4932 - loss: 0.7651 - val_accuracy: 0.5063 - val_loss: 0.7102\n",
            "\u001b[1m50/50\u001b[0m \u001b[32m━━━━━━━━━━━━━━━━━━━━\u001b[0m\u001b[37m\u001b[0m \u001b[1m6s\u001b[0m 121ms/step - accuracy: 0.4966 - loss: 0.7044 - val_accuracy: 0.4913 - val_loss: 0.6952\n",
            "\u001b[1m50/50\u001b[0m \u001b[32m━━━━━━━━━━━━━━━━━━━━\u001b[0m\u001b[37m\u001b[0m \u001b[1m6s\u001b[0m 120ms/step - accuracy: 0.5021 - loss: 0.6946 - val_accuracy: 0.5050 - val_loss: 0.6938\n",
            "\u001b[1m50/50\u001b[0m \u001b[32m━━━━━━━━━━━━━━━━━━━━\u001b[0m\u001b[37m\u001b[0m \u001b[1m6s\u001b[0m 120ms/step - accuracy: 0.4900 - loss: 0.6939 - val_accuracy: 0.4663 - val_loss: 0.6940\n",
            "\u001b[1m50/50\u001b[0m \u001b[32m━━━━━━━━━━━━━━━━━━━━\u001b[0m\u001b[37m\u001b[0m \u001b[1m6s\u001b[0m 119ms/step - accuracy: 0.5077 - loss: 0.6937 - val_accuracy: 0.4787 - val_loss: 0.6941\n",
            "\u001b[1m50/50\u001b[0m \u001b[32m━━━━━━━━━━━━━━━━━━━━\u001b[0m\u001b[37m\u001b[0m \u001b[1m6s\u001b[0m 119ms/step - accuracy: 0.5066 - loss: 0.6938 - val_accuracy: 0.5025 - val_loss: 0.6938\n",
            "\u001b[1m125/125\u001b[0m \u001b[32m━━━━━━━━━━━━━━━━━━━━\u001b[0m\u001b[37m\u001b[0m \u001b[1m2s\u001b[0m 13ms/step - accuracy: 0.4971 - loss: 0.6939\n"
          ]
        },
        {
          "metadata": {
            "tags": null
          },
          "name": "stderr",
          "output_type": "stream",
          "text": [
            "[I 2024-08-15 12:47:35,061] Trial 3 finished with value: 0.5 and parameters: {'num_layers': 6, 'filters_0': 117, 'filters_1': 128, 'filters_2': 79, 'filters_3': 102, 'filters_4': 42, 'filters_5': 118, 'kernel_size': 2, 'l1': 0.00010046882716325959, 'l2': 0.009429948667220099, 'dense_units': 124, 'dropout_rate': 0.4800558844831757, 'learning_rate': 0.0006200196568866143}. Best is trial 2 with value: 0.8734999895095825.\n"
          ]
        },
        {
          "metadata": {
            "tags": null
          },
          "name": "stdout",
          "output_type": "stream",
          "text": [
            "Trial 4 started with hyperparameters: num_layers=6, filters=[63, 117, 61, 100, 81, 77], kernel_size=2, l1=3.159487269994468e-05, l2=3.063332810434528e-06, dense_units=95, dropout_rate=0.3370308639655202, learning_rate=0.00010624167750375923\n",
            "\u001b[1m50/50\u001b[0m \u001b[32m━━━━━━━━━━━━━━━━━━━━\u001b[0m\u001b[37m\u001b[0m \u001b[1m17s\u001b[0m 161ms/step - accuracy: 0.5224 - loss: 0.8977 - val_accuracy: 0.4900 - val_loss: 0.8850\n",
            "\u001b[1m50/50\u001b[0m \u001b[32m━━━━━━━━━━━━━━━━━━━━\u001b[0m\u001b[37m\u001b[0m \u001b[1m4s\u001b[0m 81ms/step - accuracy: 0.5980 - loss: 0.8763 - val_accuracy: 0.7538 - val_loss: 0.8143\n",
            "\u001b[1m50/50\u001b[0m \u001b[32m━━━━━━━━━━━━━━━━━━━━\u001b[0m\u001b[37m\u001b[0m \u001b[1m4s\u001b[0m 81ms/step - accuracy: 0.7789 - loss: 0.7454 - val_accuracy: 0.8363 - val_loss: 0.5558\n",
            "\u001b[1m50/50\u001b[0m \u001b[32m━━━━━━━━━━━━━━━━━━━━\u001b[0m\u001b[37m\u001b[0m \u001b[1m4s\u001b[0m 81ms/step - accuracy: 0.8161 - loss: 0.5679 - val_accuracy: 0.8175 - val_loss: 0.5743\n",
            "\u001b[1m50/50\u001b[0m \u001b[32m━━━━━━━━━━━━━━━━━━━━\u001b[0m\u001b[37m\u001b[0m \u001b[1m4s\u001b[0m 81ms/step - accuracy: 0.8305 - loss: 0.5630 - val_accuracy: 0.8438 - val_loss: 0.5358\n",
            "\u001b[1m50/50\u001b[0m \u001b[32m━━━━━━━━━━━━━━━━━━━━\u001b[0m\u001b[37m\u001b[0m \u001b[1m4s\u001b[0m 81ms/step - accuracy: 0.8319 - loss: 0.5454 - val_accuracy: 0.8462 - val_loss: 0.4877\n",
            "\u001b[1m50/50\u001b[0m \u001b[32m━━━━━━━━━━━━━━━━━━━━\u001b[0m\u001b[37m\u001b[0m \u001b[1m4s\u001b[0m 81ms/step - accuracy: 0.8520 - loss: 0.5002 - val_accuracy: 0.8625 - val_loss: 0.4922\n",
            "\u001b[1m50/50\u001b[0m \u001b[32m━━━━━━━━━━━━━━━━━━━━\u001b[0m\u001b[37m\u001b[0m \u001b[1m4s\u001b[0m 80ms/step - accuracy: 0.8547 - loss: 0.4874 - val_accuracy: 0.8263 - val_loss: 0.5397\n",
            "\u001b[1m50/50\u001b[0m \u001b[32m━━━━━━━━━━━━━━━━━━━━\u001b[0m\u001b[37m\u001b[0m \u001b[1m4s\u001b[0m 80ms/step - accuracy: 0.8545 - loss: 0.4803 - val_accuracy: 0.8500 - val_loss: 0.4870\n",
            "\u001b[1m125/125\u001b[0m \u001b[32m━━━━━━━━━━━━━━━━━━━━\u001b[0m\u001b[37m\u001b[0m \u001b[1m1s\u001b[0m 9ms/step - accuracy: 0.8735 - loss: 0.4654\n"
          ]
        },
        {
          "metadata": {
            "tags": null
          },
          "name": "stderr",
          "output_type": "stream",
          "text": [
            "[I 2024-08-15 13:01:50,599] Trial 4 finished with value: 0.8707500100135803 and parameters: {'num_layers': 6, 'filters_0': 63, 'filters_1': 117, 'filters_2': 61, 'filters_3': 100, 'filters_4': 81, 'filters_5': 77, 'kernel_size': 2, 'l1': 3.159487269994468e-05, 'l2': 3.063332810434528e-06, 'dense_units': 95, 'dropout_rate': 0.3370308639655202, 'learning_rate': 0.00010624167750375923}. Best is trial 2 with value: 0.8734999895095825.\n"
          ]
        },
        {
          "metadata": {
            "tags": null
          },
          "name": "stdout",
          "output_type": "stream",
          "text": [
            "Trial 5 started with hyperparameters: num_layers=6, filters=[101, 58, 117, 106, 114, 81], kernel_size=3, l1=0.007284489126453118, l2=2.748248780411209e-06, dense_units=213, dropout_rate=0.4306101566793148, learning_rate=2.0463008512050013e-05\n",
            "\u001b[1m50/50\u001b[0m \u001b[32m━━━━━━━━━━━━━━━━━━━━\u001b[0m\u001b[37m\u001b[0m \u001b[1m24s\u001b[0m 226ms/step - accuracy: 0.5084 - loss: 87.9577 - val_accuracy: 0.5462 - val_loss: 85.6469\n",
            "\u001b[1m50/50\u001b[0m \u001b[32m━━━━━━━━━━━━━━━━━━━━\u001b[0m\u001b[37m\u001b[0m \u001b[1m5s\u001b[0m 106ms/step - accuracy: 0.5107 - loss: 84.8862 - val_accuracy: 0.5850 - val_loss: 82.6160\n",
            "\u001b[1m50/50\u001b[0m \u001b[32m━━━━━━━━━━━━━━━━━━━━\u001b[0m\u001b[37m\u001b[0m \u001b[1m5s\u001b[0m 105ms/step - accuracy: 0.5300 - loss: 81.8690 - val_accuracy: 0.4725 - val_loss: 79.6399\n",
            "\u001b[1m50/50\u001b[0m \u001b[32m━━━━━━━━━━━━━━━━━━━━\u001b[0m\u001b[37m\u001b[0m \u001b[1m5s\u001b[0m 105ms/step - accuracy: 0.5248 - loss: 78.9066 - val_accuracy: 0.5063 - val_loss: 76.7189\n",
            "\u001b[1m50/50\u001b[0m \u001b[32m━━━━━━━━━━━━━━━━━━━━\u001b[0m\u001b[37m\u001b[0m \u001b[1m5s\u001b[0m 105ms/step - accuracy: 0.5423 - loss: 75.9990 - val_accuracy: 0.5088 - val_loss: 73.8532\n",
            "\u001b[1m50/50\u001b[0m \u001b[32m━━━━━━━━━━━━━━━━━━━━\u001b[0m\u001b[37m\u001b[0m \u001b[1m5s\u001b[0m 105ms/step - accuracy: 0.5277 - loss: 73.1474 - val_accuracy: 0.5387 - val_loss: 71.0426\n",
            "\u001b[1m50/50\u001b[0m \u001b[32m━━━━━━━━━━━━━━━━━━━━\u001b[0m\u001b[37m\u001b[0m \u001b[1m5s\u001b[0m 105ms/step - accuracy: 0.5389 - loss: 70.3504 - val_accuracy: 0.6275 - val_loss: 68.2872\n",
            "\u001b[1m50/50\u001b[0m \u001b[32m━━━━━━━━━━━━━━━━━━━━\u001b[0m\u001b[37m\u001b[0m \u001b[1m5s\u001b[0m 105ms/step - accuracy: 0.5815 - loss: 67.6090 - val_accuracy: 0.7725 - val_loss: 65.5877\n",
            "\u001b[1m50/50\u001b[0m \u001b[32m━━━━━━━━━━━━━━━━━━━━\u001b[0m\u001b[37m\u001b[0m \u001b[1m5s\u001b[0m 105ms/step - accuracy: 0.6288 - loss: 64.9232 - val_accuracy: 0.7575 - val_loss: 62.9442\n",
            "\u001b[1m125/125\u001b[0m \u001b[32m━━━━━━━━━━━━━━━━━━━━\u001b[0m\u001b[37m\u001b[0m \u001b[1m1s\u001b[0m 11ms/step - accuracy: 0.7547 - loss: 62.9442\n"
          ]
        },
        {
          "metadata": {
            "tags": null
          },
          "name": "stderr",
          "output_type": "stream",
          "text": [
            "[I 2024-08-15 13:16:24,538] Trial 5 finished with value: 0.7615000009536743 and parameters: {'num_layers': 6, 'filters_0': 101, 'filters_1': 58, 'filters_2': 117, 'filters_3': 106, 'filters_4': 114, 'filters_5': 81, 'kernel_size': 3, 'l1': 0.007284489126453118, 'l2': 2.748248780411209e-06, 'dense_units': 213, 'dropout_rate': 0.4306101566793148, 'learning_rate': 2.0463008512050013e-05}. Best is trial 2 with value: 0.8734999895095825.\n"
          ]
        },
        {
          "metadata": {
            "tags": null
          },
          "name": "stdout",
          "output_type": "stream",
          "text": [
            "Trial 6 started with hyperparameters: num_layers=3, filters=[83, 105, 47], kernel_size=2, l1=0.0003539224820147832, l2=1.2733348288382046e-06, dense_units=188, dropout_rate=0.11727675782677482, learning_rate=1.5090006410046716e-05\n",
            "\u001b[1m50/50\u001b[0m \u001b[32m━━━━━━━━━━━━━━━━━━━━\u001b[0m\u001b[37m\u001b[0m \u001b[1m0s\u001b[0m 84ms/step - accuracy: 0.5271 - loss: 1.5965"
          ]
        },
        {
          "metadata": {
            "tags": null
          },
          "name": "stderr",
          "output_type": "stream",
          "text": [
            "[I 2024-08-15 13:18:02,577] Trial 6 pruned. Trial was pruned at epoch 0.\n"
          ]
        },
        {
          "metadata": {
            "tags": null
          },
          "name": "stdout",
          "output_type": "stream",
          "text": [
            "Trial 7 started with hyperparameters: num_layers=3, filters=[74, 76, 120], kernel_size=3, l1=5.151205541738989e-05, l2=1.22921975029054e-05, dense_units=66, dropout_rate=0.4872020942826516, learning_rate=0.0006650890702818806\n",
            "\u001b[1m50/50\u001b[0m \u001b[32m━━━━━━━━━━━━━━━━━━━━\u001b[0m\u001b[37m\u001b[0m \u001b[1m0s\u001b[0m 82ms/step - accuracy: 0.5451 - loss: 0.9129"
          ]
        },
        {
          "metadata": {
            "tags": null
          },
          "name": "stderr",
          "output_type": "stream",
          "text": [
            "[I 2024-08-15 13:19:42,300] Trial 7 pruned. Trial was pruned at epoch 0.\n"
          ]
        },
        {
          "metadata": {
            "tags": null
          },
          "name": "stdout",
          "output_type": "stream",
          "text": [
            "Trial 8 started with hyperparameters: num_layers=4, filters=[99, 103, 80, 121], kernel_size=2, l1=1.4221744237002906e-06, l2=1.1615573148065928e-06, dense_units=218, dropout_rate=0.3138105697243869, learning_rate=0.000280914586353352\n",
            "\u001b[1m50/50\u001b[0m \u001b[32m━━━━━━━━━━━━━━━━━━━━\u001b[0m\u001b[37m\u001b[0m \u001b[1m0s\u001b[0m 96ms/step - accuracy: 0.5769 - loss: 0.6710"
          ]
        },
        {
          "metadata": {
            "tags": null
          },
          "name": "stderr",
          "output_type": "stream",
          "text": [
            "[I 2024-08-15 13:21:22,065] Trial 8 pruned. Trial was pruned at epoch 0.\n"
          ]
        },
        {
          "metadata": {
            "tags": null
          },
          "name": "stdout",
          "output_type": "stream",
          "text": [
            "Trial 9 started with hyperparameters: num_layers=3, filters=[56, 80, 100], kernel_size=2, l1=0.001885615123690745, l2=9.296196330343895e-05, dense_units=70, dropout_rate=0.4003698680828617, learning_rate=7.169964561647569e-05\n",
            "\u001b[1m50/50\u001b[0m \u001b[32m━━━━━━━━━━━━━━━━━━━━\u001b[0m\u001b[37m\u001b[0m \u001b[1m13s\u001b[0m 131ms/step - accuracy: 0.5258 - loss: 5.2039 - val_accuracy: 0.6837 - val_loss: 4.9346\n",
            "\u001b[1m50/50\u001b[0m \u001b[32m━━━━━━━━━━━━━━━━━━━━\u001b[0m\u001b[37m\u001b[0m \u001b[1m3s\u001b[0m 69ms/step - accuracy: 0.6789 - loss: 4.8559 - val_accuracy: 0.7713 - val_loss: 4.5988\n",
            "\u001b[1m50/50\u001b[0m \u001b[32m━━━━━━━━━━━━━━━━━━━━\u001b[0m\u001b[37m\u001b[0m \u001b[1m4s\u001b[0m 70ms/step - accuracy: 0.7647 - loss: 4.5262 - val_accuracy: 0.8112 - val_loss: 4.2859\n",
            "\u001b[1m50/50\u001b[0m \u001b[32m━━━━━━━━━━━━━━━━━━━━\u001b[0m\u001b[37m\u001b[0m \u001b[1m4s\u001b[0m 70ms/step - accuracy: 0.8073 - loss: 4.2253 - val_accuracy: 0.8250 - val_loss: 4.0061\n",
            "\u001b[1m50/50\u001b[0m \u001b[32m━━━━━━━━━━━━━━━━━━━━\u001b[0m\u001b[37m\u001b[0m \u001b[1m4s\u001b[0m 70ms/step - accuracy: 0.8245 - loss: 3.9668 - val_accuracy: 0.8550 - val_loss: 3.7702\n",
            "\u001b[1m50/50\u001b[0m \u001b[32m━━━━━━━━━━━━━━━━━━━━\u001b[0m\u001b[37m\u001b[0m \u001b[1m4s\u001b[0m 70ms/step - accuracy: 0.8376 - loss: 3.7569 - val_accuracy: 0.8487 - val_loss: 3.5832\n",
            "\u001b[1m50/50\u001b[0m \u001b[32m━━━━━━━━━━━━━━━━━━━━\u001b[0m\u001b[37m\u001b[0m \u001b[1m4s\u001b[0m 70ms/step - accuracy: 0.8558 - loss: 3.5376 - val_accuracy: 0.8712 - val_loss: 3.3952\n"
          ]
        },
        {
          "metadata": {
            "tags": null
          },
          "name": "stderr",
          "output_type": "stream",
          "text": [
            "[I 2024-08-15 13:31:18,154] Trial 9 pruned. \n"
          ]
        },
        {
          "metadata": {
            "tags": null
          },
          "name": "stdout",
          "output_type": "stream",
          "text": [
            "Trial 10 started with hyperparameters: num_layers=5, filters=[35, 32, 35, 35, 36], kernel_size=3, l1=6.802771957934242e-06, l2=3.683538604809955e-05, dense_units=152, dropout_rate=0.21222555110345828, learning_rate=0.00016863919157450758\n",
            "\u001b[1m49/50\u001b[0m \u001b[32m━━━━━━━━━━━━━━━━━━━\u001b[0m\u001b[37m━\u001b[0m \u001b[1m0s\u001b[0m 35ms/step - accuracy: 0.5590 - loss: 0.7031"
          ]
        },
        {
          "metadata": {
            "tags": null
          },
          "name": "stderr",
          "output_type": "stream",
          "text": [
            "[I 2024-08-15 13:32:52,012] Trial 10 pruned. Trial was pruned at epoch 0.\n"
          ]
        },
        {
          "metadata": {
            "tags": null
          },
          "name": "stdout",
          "output_type": "stream",
          "text": [
            "Trial 11 started with hyperparameters: num_layers=5, filters=[124, 125, 58, 85, 103], kernel_size=3, l1=1.4400183115325215e-05, l2=1.1687820721535533e-05, dense_units=131, dropout_rate=0.3079993904727003, learning_rate=4.752465083519441e-05\n",
            "\u001b[1m50/50\u001b[0m \u001b[32m━━━━━━━━━━━━━━━━━━━━\u001b[0m\u001b[37m\u001b[0m \u001b[1m0s\u001b[0m 127ms/step - accuracy: 0.5160 - loss: 0.8318"
          ]
        },
        {
          "metadata": {
            "tags": null
          },
          "name": "stderr",
          "output_type": "stream",
          "text": [
            "[I 2024-08-15 13:34:41,379] Trial 11 pruned. Trial was pruned at epoch 0.\n"
          ]
        },
        {
          "metadata": {
            "tags": null
          },
          "name": "stdout",
          "output_type": "stream",
          "text": [
            "Trial 12 started with hyperparameters: num_layers=6, filters=[62, 111, 59, 85, 90, 32], kernel_size=3, l1=1.0440735816391887e-05, l2=8.955342832307251e-06, dense_units=104, dropout_rate=0.3457360083102967, learning_rate=0.00013884535270758454\n",
            "\u001b[1m50/50\u001b[0m \u001b[32m━━━━━━━━━━━━━━━━━━━━\u001b[0m\u001b[37m\u001b[0m \u001b[1m0s\u001b[0m 80ms/step - accuracy: 0.5091 - loss: 0.7812"
          ]
        },
        {
          "metadata": {
            "tags": null
          },
          "name": "stderr",
          "output_type": "stream",
          "text": [
            "[I 2024-08-15 13:36:23,591] Trial 12 pruned. Trial was pruned at epoch 0.\n"
          ]
        },
        {
          "metadata": {
            "tags": null
          },
          "name": "stdout",
          "output_type": "stream",
          "text": [
            "Trial 13 started with hyperparameters: num_layers=4, filters=[47, 72, 62, 126], kernel_size=3, l1=4.585542337762036e-05, l2=0.00025811754381100543, dense_units=179, dropout_rate=0.23108730036981626, learning_rate=3.276355631114407e-05\n",
            "\u001b[1m50/50\u001b[0m \u001b[32m━━━━━━━━━━━━━━━━━━━━\u001b[0m\u001b[37m\u001b[0m \u001b[1m0s\u001b[0m 59ms/step - accuracy: 0.5146 - loss: 0.9583"
          ]
        },
        {
          "metadata": {
            "tags": null
          },
          "name": "stderr",
          "output_type": "stream",
          "text": [
            "[I 2024-08-15 13:38:00,063] Trial 13 pruned. Trial was pruned at epoch 0.\n"
          ]
        },
        {
          "metadata": {
            "tags": null
          },
          "name": "stdout",
          "output_type": "stream",
          "text": [
            "Trial 14 started with hyperparameters: num_layers=5, filters=[113, 93, 33, 98, 78], kernel_size=2, l1=4.493381903697274e-06, l2=5.523571845834796e-06, dense_units=94, dropout_rate=0.24005454843045493, learning_rate=0.00010612395823080445\n",
            "\u001b[1m50/50\u001b[0m \u001b[32m━━━━━━━━━━━━━━━━━━━━\u001b[0m\u001b[37m\u001b[0m \u001b[1m0s\u001b[0m 98ms/step - accuracy: 0.5075 - loss: 0.7140"
          ]
        },
        {
          "metadata": {
            "tags": null
          },
          "name": "stderr",
          "output_type": "stream",
          "text": [
            "[I 2024-08-15 13:39:40,550] Trial 14 pruned. Trial was pruned at epoch 0.\n"
          ]
        },
        {
          "metadata": {
            "tags": null
          },
          "name": "stdout",
          "output_type": "stream",
          "text": [
            "Trial 15 started with hyperparameters: num_layers=6, filters=[68, 116, 48, 68, 55, 69], kernel_size=3, l1=0.000200232087482483, l2=3.349681044494527e-05, dense_units=168, dropout_rate=0.35778151705236816, learning_rate=0.00023533916075249128\n",
            "\u001b[1m50/50\u001b[0m \u001b[32m━━━━━━━━━━━━━━━━━━━━\u001b[0m\u001b[37m\u001b[0m \u001b[1m22s\u001b[0m 211ms/step - accuracy: 0.5213 - loss: 2.0741 - val_accuracy: 0.8050 - val_loss: 1.7583\n",
            "\u001b[1m50/50\u001b[0m \u001b[32m━━━━━━━━━━━━━━━━━━━━\u001b[0m\u001b[37m\u001b[0m \u001b[1m5s\u001b[0m 93ms/step - accuracy: 0.7420 - loss: 1.6202 - val_accuracy: 0.8037 - val_loss: 1.3298\n",
            "\u001b[1m50/50\u001b[0m \u001b[32m━━━━━━━━━━━━━━━━━━━━\u001b[0m\u001b[37m\u001b[0m \u001b[1m5s\u001b[0m 93ms/step - accuracy: 0.8068 - loss: 1.3040 - val_accuracy: 0.8413 - val_loss: 1.1312\n",
            "\u001b[1m50/50\u001b[0m \u001b[32m━━━━━━━━━━━━━━━━━━━━\u001b[0m\u001b[37m\u001b[0m \u001b[1m5s\u001b[0m 93ms/step - accuracy: 0.8501 - loss: 1.0993 - val_accuracy: 0.8712 - val_loss: 1.0020\n",
            "\u001b[1m50/50\u001b[0m \u001b[32m━━━━━━━━━━━━━━━━━━━━\u001b[0m\u001b[37m\u001b[0m \u001b[1m5s\u001b[0m 92ms/step - accuracy: 0.8367 - loss: 1.0167 - val_accuracy: 0.7837 - val_loss: 1.0770\n",
            "\u001b[1m50/50\u001b[0m \u001b[32m━━━━━━━━━━━━━━━━━━━━\u001b[0m\u001b[37m\u001b[0m \u001b[1m5s\u001b[0m 92ms/step - accuracy: 0.8187 - loss: 1.0135 - val_accuracy: 0.8188 - val_loss: 0.9770\n",
            "\u001b[1m50/50\u001b[0m \u001b[32m━━━━━━━━━━━━━━━━━━━━\u001b[0m\u001b[37m\u001b[0m \u001b[1m5s\u001b[0m 92ms/step - accuracy: 0.8497 - loss: 0.9129 - val_accuracy: 0.8575 - val_loss: 0.8787\n"
          ]
        },
        {
          "metadata": {
            "tags": null
          },
          "name": "stderr",
          "output_type": "stream",
          "text": [
            "[I 2024-08-15 13:49:52,095] Trial 15 pruned. \n"
          ]
        },
        {
          "metadata": {
            "tags": null
          },
          "name": "stdout",
          "output_type": "stream",
          "text": [
            "Trial 16 started with hyperparameters: num_layers=6, filters=[47, 90, 69, 93, 97, 90], kernel_size=2, l1=2.4864383275142992e-05, l2=3.6604729275964376e-05, dense_units=144, dropout_rate=0.4381454112831556, learning_rate=3.413608906365678e-05\n",
            "\u001b[1m50/50\u001b[0m \u001b[32m━━━━━━━━━━━━━━━━━━━━\u001b[0m\u001b[37m\u001b[0m \u001b[1m0s\u001b[0m 58ms/step - accuracy: 0.5003 - loss: 0.8698"
          ]
        },
        {
          "metadata": {
            "tags": null
          },
          "name": "stderr",
          "output_type": "stream",
          "text": [
            "[I 2024-08-15 13:51:27,755] Trial 16 pruned. Trial was pruned at epoch 0.\n"
          ]
        },
        {
          "metadata": {
            "tags": null
          },
          "name": "stdout",
          "output_type": "stream",
          "text": [
            "Trial 17 started with hyperparameters: num_layers=4, filters=[78, 64, 94, 111], kernel_size=3, l1=3.623175589899522e-06, l2=4.982831790134372e-06, dense_units=196, dropout_rate=0.26770606906089306, learning_rate=9.067427815814137e-05\n",
            "\u001b[1m50/50\u001b[0m \u001b[32m━━━━━━━━━━━━━━━━━━━━\u001b[0m\u001b[37m\u001b[0m \u001b[1m0s\u001b[0m 80ms/step - accuracy: 0.5984 - loss: 0.6911"
          ]
        },
        {
          "metadata": {
            "tags": null
          },
          "name": "stderr",
          "output_type": "stream",
          "text": [
            "[I 2024-08-15 13:53:08,398] Trial 17 pruned. Trial was pruned at epoch 0.\n"
          ]
        },
        {
          "metadata": {
            "tags": null
          },
          "name": "stdout",
          "output_type": "stream",
          "text": [
            "Trial 18 started with hyperparameters: num_layers=5, filters=[111, 100, 45, 53, 125], kernel_size=2, l1=0.0005037306551608884, l2=0.0005274568141837143, dense_units=108, dropout_rate=0.14369327844971475, learning_rate=0.0003034767017969335\n",
            "\u001b[1m50/50\u001b[0m \u001b[32m━━━━━━━━━━━━━━━━━━━━\u001b[0m\u001b[37m\u001b[0m \u001b[1m21s\u001b[0m 210ms/step - accuracy: 0.5193 - loss: 2.9805 - val_accuracy: 0.8263 - val_loss: 2.4484\n",
            "\u001b[1m50/50\u001b[0m \u001b[32m━━━━━━━━━━━━━━━━━━━━\u001b[0m\u001b[37m\u001b[0m \u001b[1m5s\u001b[0m 109ms/step - accuracy: 0.7341 - loss: 2.2706 - val_accuracy: 0.7262 - val_loss: 1.9627\n",
            "\u001b[1m50/50\u001b[0m \u001b[32m━━━━━━━━━━━━━━━━━━━━\u001b[0m\u001b[37m\u001b[0m \u001b[1m5s\u001b[0m 109ms/step - accuracy: 0.7883 - loss: 1.7963 - val_accuracy: 0.8313 - val_loss: 1.5379\n",
            "\u001b[1m50/50\u001b[0m \u001b[32m━━━━━━━━━━━━━━━━━━━━\u001b[0m\u001b[37m\u001b[0m \u001b[1m5s\u001b[0m 110ms/step - accuracy: 0.8347 - loss: 1.4833 - val_accuracy: 0.8512 - val_loss: 1.3180\n",
            "\u001b[1m50/50\u001b[0m \u001b[32m━━━━━━━━━━━━━━━━━━━━\u001b[0m\u001b[37m\u001b[0m \u001b[1m5s\u001b[0m 109ms/step - accuracy: 0.8327 - loss: 1.3221 - val_accuracy: 0.8288 - val_loss: 1.2497\n",
            "\u001b[1m50/50\u001b[0m \u001b[32m━━━━━━━━━━━━━━━━━━━━\u001b[0m\u001b[37m\u001b[0m \u001b[1m5s\u001b[0m 109ms/step - accuracy: 0.8123 - loss: 1.2548 - val_accuracy: 0.8550 - val_loss: 1.1112\n",
            "\u001b[1m50/50\u001b[0m \u001b[32m━━━━━━━━━━━━━━━━━━━━\u001b[0m\u001b[37m\u001b[0m \u001b[1m6s\u001b[0m 110ms/step - accuracy: 0.8503 - loss: 1.1143 - val_accuracy: 0.8587 - val_loss: 1.0649\n"
          ]
        },
        {
          "metadata": {
            "tags": null
          },
          "name": "stderr",
          "output_type": "stream",
          "text": [
            "[I 2024-08-15 14:03:24,709] Trial 18 pruned. \n"
          ]
        },
        {
          "metadata": {
            "tags": null
          },
          "name": "stdout",
          "output_type": "stream",
          "text": [
            "Trial 19 started with hyperparameters: num_layers=6, filters=[128, 87, 89, 127, 81, 59], kernel_size=3, l1=2.513755186578985e-06, l2=3.2673814025618665e-06, dense_units=255, dropout_rate=0.36507007285931076, learning_rate=1.132506840317934e-05\n",
            "\u001b[1m50/50\u001b[0m \u001b[32m━━━━━━━━━━━━━━━━━━━━\u001b[0m\u001b[37m\u001b[0m \u001b[1m0s\u001b[0m 118ms/step - accuracy: 0.5084 - loss: 0.7243"
          ]
        },
        {
          "metadata": {
            "tags": null
          },
          "name": "stderr",
          "output_type": "stream",
          "text": [
            "[I 2024-08-15 14:05:13,463] Trial 19 pruned. Trial was pruned at epoch 0.\n"
          ]
        },
        {
          "metadata": {
            "tags": null
          },
          "name": "stdout",
          "output_type": "stream",
          "text": [
            "Trial 20 started with hyperparameters: num_layers=5, filters=[91, 118, 67, 94, 52], kernel_size=2, l1=2.1997016561341474e-05, l2=0.003953019013279312, dense_units=163, dropout_rate=0.4305212244145077, learning_rate=0.00015452196782713226\n",
            "\u001b[1m50/50\u001b[0m \u001b[32m━━━━━━━━━━━━━━━━━━━━\u001b[0m\u001b[37m\u001b[0m \u001b[1m20s\u001b[0m 202ms/step - accuracy: 0.5002 - loss: 2.0660 - val_accuracy: 0.4850 - val_loss: 1.8612\n",
            "\u001b[1m50/50\u001b[0m \u001b[32m━━━━━━━━━━━━━━━━━━━━\u001b[0m\u001b[37m\u001b[0m \u001b[1m5s\u001b[0m 105ms/step - accuracy: 0.5671 - loss: 1.7962 - val_accuracy: 0.8037 - val_loss: 1.5594\n",
            "\u001b[1m50/50\u001b[0m \u001b[32m━━━━━━━━━━━━━━━━━━━━\u001b[0m\u001b[37m\u001b[0m \u001b[1m5s\u001b[0m 105ms/step - accuracy: 0.7859 - loss: 1.4463 - val_accuracy: 0.8388 - val_loss: 1.2209\n",
            "\u001b[1m50/50\u001b[0m \u001b[32m━━━━━━━━━━━━━━━━━━━━\u001b[0m\u001b[37m\u001b[0m \u001b[1m5s\u001b[0m 104ms/step - accuracy: 0.8281 - loss: 1.2012 - val_accuracy: 0.8600 - val_loss: 1.0778\n",
            "\u001b[1m50/50\u001b[0m \u001b[32m━━━━━━━━━━━━━━━━━━━━\u001b[0m\u001b[37m\u001b[0m \u001b[1m5s\u001b[0m 104ms/step - accuracy: 0.8344 - loss: 1.1041 - val_accuracy: 0.8400 - val_loss: 1.0398\n",
            "\u001b[1m50/50\u001b[0m \u001b[32m━━━━━━━━━━━━━━━━━━━━\u001b[0m\u001b[37m\u001b[0m \u001b[1m5s\u001b[0m 105ms/step - accuracy: 0.8145 - loss: 1.0667 - val_accuracy: 0.8637 - val_loss: 0.9532\n",
            "\u001b[1m50/50\u001b[0m \u001b[32m━━━━━━━━━━━━━━━━━━━━\u001b[0m\u001b[37m\u001b[0m \u001b[1m5s\u001b[0m 105ms/step - accuracy: 0.8641 - loss: 0.9374 - val_accuracy: 0.8600 - val_loss: 0.9005\n"
          ]
        },
        {
          "metadata": {
            "tags": null
          },
          "name": "stderr",
          "output_type": "stream",
          "text": [
            "[I 2024-08-15 14:15:28,247] Trial 20 pruned. \n"
          ]
        },
        {
          "metadata": {
            "tags": null
          },
          "name": "stdout",
          "output_type": "stream",
          "text": [
            "Trial 21 started with hyperparameters: num_layers=5, filters=[101, 96, 69, 115, 64], kernel_size=2, l1=1.5297903627233858e-06, l2=0.0016547783356015405, dense_units=229, dropout_rate=0.3959917794266705, learning_rate=6.135496638983247e-05\n",
            "\u001b[1m50/50\u001b[0m \u001b[32m━━━━━━━━━━━━━━━━━━━━\u001b[0m\u001b[37m\u001b[0m \u001b[1m0s\u001b[0m 95ms/step - accuracy: 0.5219 - loss: 1.2687"
          ]
        },
        {
          "metadata": {
            "tags": null
          },
          "name": "stderr",
          "output_type": "stream",
          "text": [
            "[I 2024-08-15 14:17:09,328] Trial 21 pruned. Trial was pruned at epoch 0.\n"
          ]
        },
        {
          "metadata": {
            "tags": null
          },
          "name": "stdout",
          "output_type": "stream",
          "text": [
            "Trial 22 started with hyperparameters: num_layers=6, filters=[94, 84, 54, 114, 74, 101], kernel_size=2, l1=1.1310010950851862e-06, l2=0.0008137268576508402, dense_units=202, dropout_rate=0.38248435006173676, learning_rate=4.260107340321686e-05\n",
            "\u001b[1m50/50\u001b[0m \u001b[32m━━━━━━━━━━━━━━━━━━━━\u001b[0m\u001b[37m\u001b[0m \u001b[1m0s\u001b[0m 89ms/step - accuracy: 0.5185 - loss: 1.0258"
          ]
        },
        {
          "metadata": {
            "tags": null
          },
          "name": "stderr",
          "output_type": "stream",
          "text": [
            "[I 2024-08-15 14:18:49,896] Trial 22 pruned. Trial was pruned at epoch 0.\n"
          ]
        },
        {
          "metadata": {
            "tags": null
          },
          "name": "stdout",
          "output_type": "stream",
          "text": [
            "Trial 23 started with hyperparameters: num_layers=5, filters=[108, 67, 80, 107, 33], kernel_size=2, l1=7.029844931138026e-06, l2=0.00014521682301133097, dense_units=235, dropout_rate=0.32922833326683604, learning_rate=9.061769013945214e-05\n",
            "\u001b[1m50/50\u001b[0m \u001b[32m━━━━━━━━━━━━━━━━━━━━\u001b[0m\u001b[37m\u001b[0m \u001b[1m0s\u001b[0m 95ms/step - accuracy: 0.5168 - loss: 0.7677"
          ]
        },
        {
          "metadata": {
            "tags": null
          },
          "name": "stderr",
          "output_type": "stream",
          "text": [
            "[I 2024-08-15 14:20:30,628] Trial 23 pruned. Trial was pruned at epoch 0.\n"
          ]
        },
        {
          "metadata": {
            "tags": null
          },
          "name": "stdout",
          "output_type": "stream",
          "text": [
            "Trial 24 started with hyperparameters: num_layers=6, filters=[68, 110, 73, 118, 49, 43], kernel_size=2, l1=2.741788260651563e-06, l2=0.001638331465234368, dense_units=178, dropout_rate=0.2772779304197451, learning_rate=2.6571935477415085e-05\n",
            "\u001b[1m50/50\u001b[0m \u001b[32m━━━━━━━━━━━━━━━━━━━━\u001b[0m\u001b[37m\u001b[0m \u001b[1m0s\u001b[0m 80ms/step - accuracy: 0.4906 - loss: 1.3271"
          ]
        },
        {
          "metadata": {
            "tags": null
          },
          "name": "stderr",
          "output_type": "stream",
          "text": [
            "[I 2024-08-15 14:22:10,317] Trial 24 pruned. Trial was pruned at epoch 0.\n"
          ]
        },
        {
          "metadata": {
            "tags": null
          },
          "name": "stdout",
          "output_type": "stream",
          "text": [
            "Trial 25 started with hyperparameters: num_layers=4, filters=[118, 55, 53, 74], kernel_size=2, l1=1.0096580277829468e-06, l2=2.0919282926703195e-05, dense_units=207, dropout_rate=0.4396221529213171, learning_rate=5.9359798797195326e-05\n",
            "\u001b[1m50/50\u001b[0m \u001b[32m━━━━━━━━━━━━━━━━━━━━\u001b[0m\u001b[37m\u001b[0m \u001b[1m0s\u001b[0m 93ms/step - accuracy: 0.5114 - loss: 0.6980"
          ]
        },
        {
          "metadata": {
            "tags": null
          },
          "name": "stderr",
          "output_type": "stream",
          "text": [
            "[I 2024-08-15 14:23:48,500] Trial 25 pruned. Trial was pruned at epoch 0.\n"
          ]
        },
        {
          "metadata": {
            "tags": null
          },
          "name": "stdout",
          "output_type": "stream",
          "text": [
            "Trial 26 started with hyperparameters: num_layers=5, filters=[54, 120, 40, 101, 86], kernel_size=3, l1=4.9387124396914685e-05, l2=0.00010084799237278818, dense_units=227, dropout_rate=0.4051710559882392, learning_rate=0.0001294801631166178\n",
            "\u001b[1m50/50\u001b[0m \u001b[32m━━━━━━━━━━━━━━━━━━━━\u001b[0m\u001b[37m\u001b[0m \u001b[1m0s\u001b[0m 74ms/step - accuracy: 0.5587 - loss: 1.0355"
          ]
        },
        {
          "metadata": {
            "tags": null
          },
          "name": "stderr",
          "output_type": "stream",
          "text": [
            "[I 2024-08-15 14:25:28,535] Trial 26 pruned. Trial was pruned at epoch 0.\n"
          ]
        },
        {
          "metadata": {
            "tags": null
          },
          "name": "stdout",
          "output_type": "stream",
          "text": [
            "Trial 27 started with hyperparameters: num_layers=6, filters=[106, 98, 87, 92, 58, 65], kernel_size=2, l1=1.769618662346487e-05, l2=0.00030620350451382726, dense_units=240, dropout_rate=0.4579692715279574, learning_rate=7.64698072403114e-05\n",
            "\u001b[1m50/50\u001b[0m \u001b[32m━━━━━━━━━━━━━━━━━━━━\u001b[0m\u001b[37m\u001b[0m \u001b[1m0s\u001b[0m 101ms/step - accuracy: 0.4927 - loss: 0.9359"
          ]
        },
        {
          "metadata": {
            "tags": null
          },
          "name": "stderr",
          "output_type": "stream",
          "text": [
            "[I 2024-08-15 14:27:11,964] Trial 27 pruned. Trial was pruned at epoch 0.\n"
          ]
        },
        {
          "metadata": {
            "tags": null
          },
          "name": "stdout",
          "output_type": "stream",
          "text": [
            "Trial 28 started with hyperparameters: num_layers=6, filters=[74, 82, 65, 109, 68, 101], kernel_size=3, l1=7.836310377135794e-06, l2=2.6447161665715404e-06, dense_units=85, dropout_rate=0.3746256327149291, learning_rate=0.000197313439357453\n",
            "\u001b[1m50/50\u001b[0m \u001b[32m━━━━━━━━━━━━━━━━━━━━\u001b[0m\u001b[37m\u001b[0m \u001b[1m0s\u001b[0m 86ms/step - accuracy: 0.5374 - loss: 0.7622"
          ]
        },
        {
          "metadata": {
            "tags": null
          },
          "name": "stderr",
          "output_type": "stream",
          "text": [
            "[I 2024-08-15 14:28:51,899] Trial 28 pruned. Trial was pruned at epoch 0.\n"
          ]
        },
        {
          "metadata": {
            "tags": null
          },
          "name": "stdout",
          "output_type": "stream",
          "text": [
            "Trial 29 started with hyperparameters: num_layers=6, filters=[87, 109, 109, 121, 103, 128], kernel_size=2, l1=2.3070965260057867e-06, l2=5.681108176616058e-05, dense_units=143, dropout_rate=0.4979698207224714, learning_rate=0.0004473042945739853\n",
            "\u001b[1m50/50\u001b[0m \u001b[32m━━━━━━━━━━━━━━━━━━━━\u001b[0m\u001b[37m\u001b[0m \u001b[1m0s\u001b[0m 94ms/step - accuracy: 0.5315 - loss: 0.7377"
          ]
        },
        {
          "metadata": {
            "tags": null
          },
          "name": "stderr",
          "output_type": "stream",
          "text": [
            "[I 2024-08-15 14:30:31,582] Trial 29 pruned. Trial was pruned at epoch 0.\n"
          ]
        },
        {
          "metadata": {
            "tags": null
          },
          "name": "stdout",
          "output_type": "stream",
          "text": [
            "Trial 30 started with hyperparameters: num_layers=5, filters=[34, 44, 76, 85, 41], kernel_size=2, l1=5.705787230361466e-06, l2=1.5463065903905672e-05, dense_units=193, dropout_rate=0.33912116416578914, learning_rate=0.0009816823677896483\n",
            "\u001b[1m49/50\u001b[0m \u001b[32m━━━━━━━━━━━━━━━━━━━\u001b[0m\u001b[37m━\u001b[0m \u001b[1m0s\u001b[0m 39ms/step - accuracy: 0.5456 - loss: 0.7024"
          ]
        },
        {
          "metadata": {
            "tags": null
          },
          "name": "stderr",
          "output_type": "stream",
          "text": [
            "[I 2024-08-15 14:32:05,000] Trial 30 pruned. Trial was pruned at epoch 0.\n"
          ]
        },
        {
          "metadata": {
            "tags": null
          },
          "name": "stdout",
          "output_type": "stream",
          "text": [
            "Trial 31 started with hyperparameters: num_layers=6, filters=[99, 48, 125, 103, 122, 81], kernel_size=3, l1=0.00807157904564376, l2=2.868852025120575e-06, dense_units=204, dropout_rate=0.41790361706709594, learning_rate=2.3366741145452328e-05\n",
            "\u001b[1m50/50\u001b[0m \u001b[32m━━━━━━━━━━━━━━━━━━━━\u001b[0m\u001b[37m\u001b[0m \u001b[1m22s\u001b[0m 211ms/step - accuracy: 0.5118 - loss: 95.9177 - val_accuracy: 0.5775 - val_loss: 93.0160\n",
            "\u001b[1m50/50\u001b[0m \u001b[32m━━━━━━━━━━━━━━━━━━━━\u001b[0m\u001b[37m\u001b[0m \u001b[1m5s\u001b[0m 99ms/step - accuracy: 0.5308 - loss: 92.0623 - val_accuracy: 0.4825 - val_loss: 89.2215\n",
            "\u001b[1m50/50\u001b[0m \u001b[32m━━━━━━━━━━━━━━━━━━━━\u001b[0m\u001b[37m\u001b[0m \u001b[1m5s\u001b[0m 99ms/step - accuracy: 0.5039 - loss: 88.2883 - val_accuracy: 0.5713 - val_loss: 85.5062\n",
            "\u001b[1m50/50\u001b[0m \u001b[32m━━━━━━━━━━━━━━━━━━━━\u001b[0m\u001b[37m\u001b[0m \u001b[1m5s\u001b[0m 100ms/step - accuracy: 0.5256 - loss: 84.5927 - val_accuracy: 0.6762 - val_loss: 81.8711\n",
            "\u001b[1m50/50\u001b[0m \u001b[32m━━━━━━━━━━━━━━━━━━━━\u001b[0m\u001b[37m\u001b[0m \u001b[1m5s\u001b[0m 99ms/step - accuracy: 0.5319 - loss: 80.9780 - val_accuracy: 0.6300 - val_loss: 78.3166\n",
            "\u001b[1m50/50\u001b[0m \u001b[32m━━━━━━━━━━━━━━━━━━━━\u001b[0m\u001b[37m\u001b[0m \u001b[1m5s\u001b[0m 100ms/step - accuracy: 0.5137 - loss: 77.4437 - val_accuracy: 0.7250 - val_loss: 74.8422\n",
            "\u001b[1m50/50\u001b[0m \u001b[32m━━━━━━━━━━━━━━━━━━━━\u001b[0m\u001b[37m\u001b[0m \u001b[1m5s\u001b[0m 99ms/step - accuracy: 0.5218 - loss: 73.9887 - val_accuracy: 0.6812 - val_loss: 71.4465\n",
            "\u001b[1m50/50\u001b[0m \u001b[32m━━━━━━━━━━━━━━━━━━━━\u001b[0m\u001b[37m\u001b[0m \u001b[1m5s\u001b[0m 99ms/step - accuracy: 0.5354 - loss: 70.6130 - val_accuracy: 0.7275 - val_loss: 68.1307\n",
            "\u001b[1m50/50\u001b[0m \u001b[32m━━━━━━━━━━━━━━━━━━━━\u001b[0m\u001b[37m\u001b[0m \u001b[1m5s\u001b[0m 99ms/step - accuracy: 0.5649 - loss: 67.3166 - val_accuracy: 0.7513 - val_loss: 64.8941\n",
            "\u001b[1m125/125\u001b[0m \u001b[32m━━━━━━━━━━━━━━━━━━━━\u001b[0m\u001b[37m\u001b[0m \u001b[1m1s\u001b[0m 11ms/step - accuracy: 0.7663 - loss: 64.8941\n"
          ]
        },
        {
          "metadata": {
            "tags": null
          },
          "name": "stderr",
          "output_type": "stream",
          "text": [
            "[I 2024-08-15 14:46:29,752] Trial 31 finished with value: 0.768750011920929 and parameters: {'num_layers': 6, 'filters_0': 99, 'filters_1': 48, 'filters_2': 125, 'filters_3': 103, 'filters_4': 122, 'filters_5': 81, 'kernel_size': 3, 'l1': 0.00807157904564376, 'l2': 2.868852025120575e-06, 'dense_units': 204, 'dropout_rate': 0.41790361706709594, 'learning_rate': 2.3366741145452328e-05}. Best is trial 2 with value: 0.8734999895095825.\n"
          ]
        },
        {
          "metadata": {
            "tags": null
          },
          "name": "stdout",
          "output_type": "stream",
          "text": [
            "Trial 32 started with hyperparameters: num_layers=6, filters=[119, 46, 124, 101, 120, 79], kernel_size=3, l1=0.004560876692159522, l2=1.813542502953621e-06, dense_units=219, dropout_rate=0.4121986962524915, learning_rate=2.172319429246738e-05\n",
            "\u001b[1m50/50\u001b[0m \u001b[32m━━━━━━━━━━━━━━━━━━━━\u001b[0m\u001b[37m\u001b[0m \u001b[1m24s\u001b[0m 219ms/step - accuracy: 0.4929 - loss: 53.7788 - val_accuracy: 0.5175 - val_loss: 52.2792\n",
            "\u001b[1m50/50\u001b[0m \u001b[32m━━━━━━━━━━━━━━━━━━━━\u001b[0m\u001b[37m\u001b[0m \u001b[1m6s\u001b[0m 113ms/step - accuracy: 0.5154 - loss: 51.7863 - val_accuracy: 0.5775 - val_loss: 50.3148\n",
            "\u001b[1m50/50\u001b[0m \u001b[32m━━━━━━━━━━━━━━━━━━━━\u001b[0m\u001b[37m\u001b[0m \u001b[1m6s\u001b[0m 113ms/step - accuracy: 0.5002 - loss: 49.8314 - val_accuracy: 0.4725 - val_loss: 48.3887\n",
            "\u001b[1m50/50\u001b[0m \u001b[32m━━━━━━━━━━━━━━━━━━━━\u001b[0m\u001b[37m\u001b[0m \u001b[1m6s\u001b[0m 113ms/step - accuracy: 0.5442 - loss: 47.9139 - val_accuracy: 0.5063 - val_loss: 46.5001\n",
            "\u001b[1m50/50\u001b[0m \u001b[32m━━━━━━━━━━━━━━━━━━━━\u001b[0m\u001b[37m\u001b[0m \u001b[1m6s\u001b[0m 113ms/step - accuracy: 0.5310 - loss: 46.0354 - val_accuracy: 0.5113 - val_loss: 44.6504\n",
            "\u001b[1m50/50\u001b[0m \u001b[32m━━━━━━━━━━━━━━━━━━━━\u001b[0m\u001b[37m\u001b[0m \u001b[1m6s\u001b[0m 113ms/step - accuracy: 0.5162 - loss: 44.1954 - val_accuracy: 0.6988 - val_loss: 42.8390\n",
            "\u001b[1m50/50\u001b[0m \u001b[32m━━━━━━━━━━━━━━━━━━━━\u001b[0m\u001b[37m\u001b[0m \u001b[1m6s\u001b[0m 113ms/step - accuracy: 0.5546 - loss: 42.3933 - val_accuracy: 0.7812 - val_loss: 41.0661\n"
          ]
        },
        {
          "metadata": {
            "tags": null
          },
          "name": "stderr",
          "output_type": "stream",
          "text": [
            "[I 2024-08-15 14:56:48,408] Trial 32 pruned. \n"
          ]
        },
        {
          "metadata": {
            "tags": null
          },
          "name": "stdout",
          "output_type": "stream",
          "text": [
            "Trial 33 started with hyperparameters: num_layers=6, filters=[95, 33, 108, 111, 113, 53], kernel_size=3, l1=0.0011840562277011114, l2=6.15618849561994e-06, dense_units=242, dropout_rate=0.46856112608662126, learning_rate=4.838388268409816e-05\n",
            "\u001b[1m50/50\u001b[0m \u001b[32m━━━━━━━━━━━━━━━━━━━━\u001b[0m\u001b[37m\u001b[0m \u001b[1m20s\u001b[0m 191ms/step - accuracy: 0.5105 - loss: 12.2117 - val_accuracy: 0.4825 - val_loss: 11.5210\n",
            "\u001b[1m50/50\u001b[0m \u001b[32m━━━━━━━━━━━━━━━━━━━━\u001b[0m\u001b[37m\u001b[0m \u001b[1m5s\u001b[0m 91ms/step - accuracy: 0.5365 - loss: 11.2960 - val_accuracy: 0.4800 - val_loss: 10.6321\n",
            "\u001b[1m50/50\u001b[0m \u001b[32m━━━━━━━━━━━━━━━━━━━━\u001b[0m\u001b[37m\u001b[0m \u001b[1m5s\u001b[0m 91ms/step - accuracy: 0.5281 - loss: 10.4164 - val_accuracy: 0.5550 - val_loss: 9.7798\n",
            "\u001b[1m50/50\u001b[0m \u001b[32m━━━━━━━━━━━━━━━━━━━━\u001b[0m\u001b[37m\u001b[0m \u001b[1m5s\u001b[0m 91ms/step - accuracy: 0.5495 - loss: 9.5739 - val_accuracy: 0.4963 - val_loss: 8.9661\n",
            "\u001b[1m50/50\u001b[0m \u001b[32m━━━━━━━━━━━━━━━━━━━━\u001b[0m\u001b[37m\u001b[0m \u001b[1m5s\u001b[0m 91ms/step - accuracy: 0.5508 - loss: 8.7695 - val_accuracy: 0.5387 - val_loss: 8.1908\n",
            "\u001b[1m50/50\u001b[0m \u001b[32m━━━━━━━━━━━━━━━━━━━━\u001b[0m\u001b[37m\u001b[0m \u001b[1m5s\u001b[0m 91ms/step - accuracy: 0.5444 - loss: 8.0044 - val_accuracy: 0.5788 - val_loss: 7.4542\n",
            "\u001b[1m50/50\u001b[0m \u001b[32m━━━━━━━━━━━━━━━━━━━━\u001b[0m\u001b[37m\u001b[0m \u001b[1m5s\u001b[0m 92ms/step - accuracy: 0.5475 - loss: 7.2771 - val_accuracy: 0.7925 - val_loss: 6.7558\n"
          ]
        },
        {
          "metadata": {
            "tags": null
          },
          "name": "stderr",
          "output_type": "stream",
          "text": [
            "[I 2024-08-15 15:06:56,011] Trial 33 pruned. \n"
          ]
        },
        {
          "metadata": {
            "tags": null
          },
          "name": "stdout",
          "output_type": "stream",
          "text": [
            "Trial 34 started with hyperparameters: num_layers=6, filters=[84, 74, 86, 120, 92, 75], kernel_size=3, l1=0.00027669779236109195, l2=2.5940036341058545e-06, dense_units=187, dropout_rate=0.42124985653103253, learning_rate=1.6461085963632517e-05\n",
            "\u001b[1m50/50\u001b[0m \u001b[32m━━━━━━━━━━━━━━━━━━━━\u001b[0m\u001b[37m\u001b[0m \u001b[1m24s\u001b[0m 221ms/step - accuracy: 0.4979 - loss: 3.7438 - val_accuracy: 0.6538 - val_loss: 3.6897\n",
            "\u001b[1m50/50\u001b[0m \u001b[32m━━━━━━━━━━━━━━━━━━━━\u001b[0m\u001b[37m\u001b[0m \u001b[1m5s\u001b[0m 98ms/step - accuracy: 0.5278 - loss: 3.6716 - val_accuracy: 0.7262 - val_loss: 3.6183\n",
            "\u001b[1m50/50\u001b[0m \u001b[32m━━━━━━━━━━━━━━━━━━━━\u001b[0m\u001b[37m\u001b[0m \u001b[1m5s\u001b[0m 98ms/step - accuracy: 0.5536 - loss: 3.6003 - val_accuracy: 0.4750 - val_loss: 3.5485\n",
            "\u001b[1m50/50\u001b[0m \u001b[32m━━━━━━━━━━━━━━━━━━━━\u001b[0m\u001b[37m\u001b[0m \u001b[1m5s\u001b[0m 97ms/step - accuracy: 0.5432 - loss: 3.5307 - val_accuracy: 0.7188 - val_loss: 3.4771\n",
            "\u001b[1m50/50\u001b[0m \u001b[32m━━━━━━━━━━━━━━━━━━━━\u001b[0m\u001b[37m\u001b[0m \u001b[1m5s\u001b[0m 98ms/step - accuracy: 0.6256 - loss: 3.4596 - val_accuracy: 0.6975 - val_loss: 3.4061\n",
            "\u001b[1m50/50\u001b[0m \u001b[32m━━━━━━━━━━━━━━━━━━━━\u001b[0m\u001b[37m\u001b[0m \u001b[1m5s\u001b[0m 98ms/step - accuracy: 0.6767 - loss: 3.3899 - val_accuracy: 0.5437 - val_loss: 3.3346\n",
            "\u001b[1m50/50\u001b[0m \u001b[32m━━━━━━━━━━━━━━━━━━━━\u001b[0m\u001b[37m\u001b[0m \u001b[1m5s\u001b[0m 98ms/step - accuracy: 0.6415 - loss: 3.3110 - val_accuracy: 0.7237 - val_loss: 3.2511\n"
          ]
        },
        {
          "metadata": {
            "tags": null
          },
          "name": "stderr",
          "output_type": "stream",
          "text": [
            "[I 2024-08-15 15:17:09,243] Trial 34 pruned. \n"
          ]
        },
        {
          "metadata": {
            "tags": null
          },
          "name": "stdout",
          "output_type": "stream",
          "text": [
            "Trial 35 started with hyperparameters: num_layers=6, filters=[102, 60, 53, 106, 44, 93], kernel_size=3, l1=0.00010309717405780419, l2=0.007496741218236985, dense_units=209, dropout_rate=0.4613401705859105, learning_rate=1.0521628665573608e-05\n",
            "\u001b[1m50/50\u001b[0m \u001b[32m━━━━━━━━━━━━━━━━━━━━\u001b[0m\u001b[37m\u001b[0m \u001b[1m23s\u001b[0m 216ms/step - accuracy: 0.4944 - loss: 3.8682 - val_accuracy: 0.5175 - val_loss: 3.8203\n",
            "\u001b[1m50/50\u001b[0m \u001b[32m━━━━━━━━━━━━━━━━━━━━\u001b[0m\u001b[37m\u001b[0m \u001b[1m5s\u001b[0m 101ms/step - accuracy: 0.5338 - loss: 3.8047 - val_accuracy: 0.6200 - val_loss: 3.7589\n",
            "\u001b[1m50/50\u001b[0m \u001b[32m━━━━━━━━━━━━━━━━━━━━\u001b[0m\u001b[37m\u001b[0m \u001b[1m5s\u001b[0m 100ms/step - accuracy: 0.5121 - loss: 3.7444 - val_accuracy: 0.5537 - val_loss: 3.6983\n",
            "\u001b[1m50/50\u001b[0m \u001b[32m━━━━━━━━━━━━━━━━━━━━\u001b[0m\u001b[37m\u001b[0m \u001b[1m5s\u001b[0m 100ms/step - accuracy: 0.5328 - loss: 3.6836 - val_accuracy: 0.7563 - val_loss: 3.6387\n",
            "\u001b[1m50/50\u001b[0m \u001b[32m━━━━━━━━━━━━━━━━━━━━\u001b[0m\u001b[37m\u001b[0m \u001b[1m5s\u001b[0m 100ms/step - accuracy: 0.5290 - loss: 3.6249 - val_accuracy: 0.5450 - val_loss: 3.5802\n",
            "\u001b[1m50/50\u001b[0m \u001b[32m━━━━━━━━━━━━━━━━━━━━\u001b[0m\u001b[37m\u001b[0m \u001b[1m5s\u001b[0m 100ms/step - accuracy: 0.5565 - loss: 3.5660 - val_accuracy: 0.6400 - val_loss: 3.5227\n",
            "\u001b[1m50/50\u001b[0m \u001b[32m━━━━━━━━━━━━━━━━━━━━\u001b[0m\u001b[37m\u001b[0m \u001b[1m5s\u001b[0m 100ms/step - accuracy: 0.5645 - loss: 3.5086 - val_accuracy: 0.6600 - val_loss: 3.4658\n"
          ]
        },
        {
          "metadata": {
            "tags": null
          },
          "name": "stderr",
          "output_type": "stream",
          "text": [
            "[I 2024-08-15 15:27:22,244] Trial 35 pruned. \n"
          ]
        },
        {
          "metadata": {
            "tags": null
          },
          "name": "stdout",
          "output_type": "stream",
          "text": [
            "Trial 36 started with hyperparameters: num_layers=6, filters=[90, 51, 75, 96, 60, 33], kernel_size=3, l1=0.0050946091241467996, l2=1.6672884233836813e-06, dense_units=178, dropout_rate=0.3831207590919744, learning_rate=0.00012021614267023366\n",
            "\u001b[1m50/50\u001b[0m \u001b[32m━━━━━━━━━━━━━━━━━━━━\u001b[0m\u001b[37m\u001b[0m \u001b[1m21s\u001b[0m 193ms/step - accuracy: 0.5080 - loss: 35.6469 - val_accuracy: 0.5175 - val_loss: 31.0694\n",
            "\u001b[1m50/50\u001b[0m \u001b[32m━━━━━━━━━━━━━━━━━━━━\u001b[0m\u001b[37m\u001b[0m \u001b[1m5s\u001b[0m 91ms/step - accuracy: 0.5161 - loss: 29.6343 - val_accuracy: 0.6700 - val_loss: 25.4779\n",
            "\u001b[1m50/50\u001b[0m \u001b[32m━━━━━━━━━━━━━━━━━━━━\u001b[0m\u001b[37m\u001b[0m \u001b[1m5s\u001b[0m 91ms/step - accuracy: 0.5444 - loss: 24.1850 - val_accuracy: 0.4725 - val_loss: 20.4584\n",
            "\u001b[1m50/50\u001b[0m \u001b[32m━━━━━━━━━━━━━━━━━━━━\u001b[0m\u001b[37m\u001b[0m \u001b[1m5s\u001b[0m 91ms/step - accuracy: 0.5198 - loss: 19.3096 - val_accuracy: 0.5013 - val_loss: 16.0201\n",
            "\u001b[1m50/50\u001b[0m \u001b[32m━━━━━━━━━━━━━━━━━━━━\u001b[0m\u001b[37m\u001b[0m \u001b[1m5s\u001b[0m 91ms/step - accuracy: 0.5381 - loss: 15.0164 - val_accuracy: 0.5088 - val_loss: 12.1569\n",
            "\u001b[1m50/50\u001b[0m \u001b[32m━━━━━━━━━━━━━━━━━━━━\u001b[0m\u001b[37m\u001b[0m \u001b[1m5s\u001b[0m 91ms/step - accuracy: 0.5043 - loss: 11.2951 - val_accuracy: 0.5050 - val_loss: 8.8645\n",
            "\u001b[1m50/50\u001b[0m \u001b[32m━━━━━━━━━━━━━━━━━━━━\u001b[0m\u001b[37m\u001b[0m \u001b[1m5s\u001b[0m 91ms/step - accuracy: 0.4812 - loss: 8.1466 - val_accuracy: 0.4663 - val_loss: 6.1473\n"
          ]
        },
        {
          "metadata": {
            "tags": null
          },
          "name": "stderr",
          "output_type": "stream",
          "text": [
            "[I 2024-08-15 15:37:31,944] Trial 36 pruned. \n"
          ]
        },
        {
          "metadata": {
            "tags": null
          },
          "name": "stdout",
          "output_type": "stream",
          "text": [
            "Trial 37 started with hyperparameters: num_layers=5, filters=[78, 128, 128, 102, 69], kernel_size=2, l1=0.0006787774327789344, l2=1.1468487526622326e-06, dense_units=218, dropout_rate=0.32755161534654204, learning_rate=3.446583798531811e-05\n",
            "\u001b[1m50/50\u001b[0m \u001b[32m━━━━━━━━━━━━━━━━━━━━\u001b[0m\u001b[37m\u001b[0m \u001b[1m20s\u001b[0m 194ms/step - accuracy: 0.5112 - loss: 5.8401 - val_accuracy: 0.5175 - val_loss: 5.6884\n",
            "\u001b[1m50/50\u001b[0m \u001b[32m━━━━━━━━━━━━━━━━━━━━\u001b[0m\u001b[37m\u001b[0m \u001b[1m5s\u001b[0m 102ms/step - accuracy: 0.5281 - loss: 5.6395 - val_accuracy: 0.5263 - val_loss: 5.4905\n",
            "\u001b[1m50/50\u001b[0m \u001b[32m━━━━━━━━━━━━━━━━━━━━\u001b[0m\u001b[37m\u001b[0m \u001b[1m5s\u001b[0m 102ms/step - accuracy: 0.5604 - loss: 5.4421 - val_accuracy: 0.4725 - val_loss: 5.3003\n",
            "\u001b[1m50/50\u001b[0m \u001b[32m━━━━━━━━━━━━━━━━━━━━\u001b[0m\u001b[37m\u001b[0m \u001b[1m5s\u001b[0m 102ms/step - accuracy: 0.5949 - loss: 5.2495 - val_accuracy: 0.8087 - val_loss: 5.1018\n",
            "\u001b[1m50/50\u001b[0m \u001b[32m━━━━━━━━━━━━━━━━━━━━\u001b[0m\u001b[37m\u001b[0m \u001b[1m5s\u001b[0m 103ms/step - accuracy: 0.7556 - loss: 5.0527 - val_accuracy: 0.7912 - val_loss: 4.9017\n",
            "\u001b[1m50/50\u001b[0m \u001b[32m━━━━━━━━━━━━━━━━━━━━\u001b[0m\u001b[37m\u001b[0m \u001b[1m5s\u001b[0m 102ms/step - accuracy: 0.7785 - loss: 4.8507 - val_accuracy: 0.7050 - val_loss: 4.6884\n",
            "\u001b[1m50/50\u001b[0m \u001b[32m━━━━━━━━━━━━━━━━━━━━\u001b[0m\u001b[37m\u001b[0m \u001b[1m5s\u001b[0m 103ms/step - accuracy: 0.8207 - loss: 4.5984 - val_accuracy: 0.8275 - val_loss: 4.4284\n"
          ]
        },
        {
          "metadata": {
            "tags": null
          },
          "name": "stderr",
          "output_type": "stream",
          "text": [
            "[I 2024-08-15 15:47:44,209] Trial 37 pruned. \n"
          ]
        },
        {
          "metadata": {
            "tags": null
          },
          "name": "stdout",
          "output_type": "stream",
          "text": [
            "Trial 38 started with hyperparameters: num_layers=6, filters=[123, 104, 95, 64, 110, 89], kernel_size=3, l1=0.00010036078293218177, l2=3.986715744070054e-06, dense_units=125, dropout_rate=0.47950741822015647, learning_rate=7.035317398547405e-05\n",
            "\u001b[1m50/50\u001b[0m \u001b[32m━━━━━━━━━━━━━━━━━━━━\u001b[0m\u001b[37m\u001b[0m \u001b[1m0s\u001b[0m 124ms/step - accuracy: 0.5023 - loss: 1.8785"
          ]
        },
        {
          "metadata": {
            "tags": null
          },
          "name": "stderr",
          "output_type": "stream",
          "text": [
            "[I 2024-08-15 15:49:34,949] Trial 38 pruned. Trial was pruned at epoch 0.\n"
          ]
        },
        {
          "metadata": {
            "tags": null
          },
          "name": "stdout",
          "output_type": "stream",
          "text": [
            "Trial 39 started with hyperparameters: num_layers=4, filters=[114, 69, 116, 89], kernel_size=2, l1=0.0001803451574290994, l2=7.881238921051384e-06, dense_units=199, dropout_rate=0.45293183894841904, learning_rate=2.137303640902161e-05\n",
            "\u001b[1m50/50\u001b[0m \u001b[32m━━━━━━━━━━━━━━━━━━━━\u001b[0m\u001b[37m\u001b[0m \u001b[1m0s\u001b[0m 103ms/step - accuracy: 0.4991 - loss: 1.5313"
          ]
        },
        {
          "metadata": {
            "tags": null
          },
          "name": "stderr",
          "output_type": "stream",
          "text": [
            "[I 2024-08-15 15:51:14,584] Trial 39 pruned. Trial was pruned at epoch 0.\n"
          ]
        },
        {
          "metadata": {
            "tags": null
          },
          "name": "stdout",
          "output_type": "stream",
          "text": [
            "Trial 40 started with hyperparameters: num_layers=3, filters=[105, 91, 41], kernel_size=3, l1=1.1842073748284033e-05, l2=1.8609154583845098e-06, dense_units=77, dropout_rate=0.29632700098003484, learning_rate=1.56307376444503e-05\n",
            "\u001b[1m50/50\u001b[0m \u001b[32m━━━━━━━━━━━━━━━━━━━━\u001b[0m\u001b[37m\u001b[0m \u001b[1m0s\u001b[0m 104ms/step - accuracy: 0.5046 - loss: 0.7398"
          ]
        },
        {
          "metadata": {
            "tags": null
          },
          "name": "stderr",
          "output_type": "stream",
          "text": [
            "[I 2024-08-15 15:52:57,128] Trial 40 pruned. Trial was pruned at epoch 0.\n"
          ]
        },
        {
          "metadata": {
            "tags": null
          },
          "name": "stdout",
          "output_type": "stream",
          "text": [
            "Trial 41 started with hyperparameters: num_layers=6, filters=[96, 41, 119, 107, 125, 82], kernel_size=3, l1=0.0033304750031054892, l2=1.7409505115291437e-05, dense_units=216, dropout_rate=0.3991381883796866, learning_rate=2.4804568204805003e-05\n",
            "\u001b[1m50/50\u001b[0m \u001b[32m━━━━━━━━━━━━━━━━━━━━\u001b[0m\u001b[37m\u001b[0m \u001b[1m22s\u001b[0m 205ms/step - accuracy: 0.4848 - loss: 39.0298 - val_accuracy: 0.4825 - val_loss: 37.7865\n",
            "\u001b[1m50/50\u001b[0m \u001b[32m━━━━━━━━━━━━━━━━━━━━\u001b[0m\u001b[37m\u001b[0m \u001b[1m5s\u001b[0m 95ms/step - accuracy: 0.5050 - loss: 37.3784 - val_accuracy: 0.4800 - val_loss: 36.1622\n",
            "\u001b[1m50/50\u001b[0m \u001b[32m━━━━━━━━━━━━━━━━━━━━\u001b[0m\u001b[37m\u001b[0m \u001b[1m5s\u001b[0m 95ms/step - accuracy: 0.5110 - loss: 35.7628 - val_accuracy: 0.7337 - val_loss: 34.5739\n",
            "\u001b[1m50/50\u001b[0m \u001b[32m━━━━━━━━━━━━━━━━━━━━\u001b[0m\u001b[37m\u001b[0m \u001b[1m5s\u001b[0m 95ms/step - accuracy: 0.5053 - loss: 34.1840 - val_accuracy: 0.7362 - val_loss: 33.0219\n",
            "\u001b[1m50/50\u001b[0m \u001b[32m━━━━━━━━━━━━━━━━━━━━\u001b[0m\u001b[37m\u001b[0m \u001b[1m5s\u001b[0m 95ms/step - accuracy: 0.5413 - loss: 32.6408 - val_accuracy: 0.7700 - val_loss: 31.5065\n",
            "\u001b[1m50/50\u001b[0m \u001b[32m━━━━━━━━━━━━━━━━━━━━\u001b[0m\u001b[37m\u001b[0m \u001b[1m5s\u001b[0m 95ms/step - accuracy: 0.5401 - loss: 31.1348 - val_accuracy: 0.6700 - val_loss: 30.0280\n",
            "\u001b[1m50/50\u001b[0m \u001b[32m━━━━━━━━━━━━━━━━━━━━\u001b[0m\u001b[37m\u001b[0m \u001b[1m5s\u001b[0m 95ms/step - accuracy: 0.5657 - loss: 29.6655 - val_accuracy: 0.6175 - val_loss: 28.5866\n"
          ]
        },
        {
          "metadata": {
            "tags": null
          },
          "name": "stderr",
          "output_type": "stream",
          "text": [
            "[I 2024-08-15 16:03:08,221] Trial 41 pruned. \n"
          ]
        },
        {
          "metadata": {
            "tags": null
          },
          "name": "stdout",
          "output_type": "stream",
          "text": [
            "Trial 42 started with hyperparameters: num_layers=6, filters=[100, 57, 114, 122, 118, 70], kernel_size=3, l1=0.008704476587820831, l2=9.046885873595625e-06, dense_units=189, dropout_rate=0.4207844968589066, learning_rate=4.2081974330730984e-05\n",
            "\u001b[1m50/50\u001b[0m \u001b[32m━━━━━━━━━━━━━━━━━━━━\u001b[0m\u001b[37m\u001b[0m \u001b[1m24s\u001b[0m 228ms/step - accuracy: 0.5216 - loss: 107.3993 - val_accuracy: 0.5175 - val_loss: 101.4965\n",
            "\u001b[1m50/50\u001b[0m \u001b[32m━━━━━━━━━━━━━━━━━━━━\u001b[0m\u001b[37m\u001b[0m \u001b[1m5s\u001b[0m 103ms/step - accuracy: 0.5361 - loss: 99.5780 - val_accuracy: 0.7237 - val_loss: 93.8978\n",
            "\u001b[1m50/50\u001b[0m \u001b[32m━━━━━━━━━━━━━━━━━━━━\u001b[0m\u001b[37m\u001b[0m \u001b[1m5s\u001b[0m 103ms/step - accuracy: 0.5158 - loss: 92.0542 - val_accuracy: 0.4737 - val_loss: 86.5978\n",
            "\u001b[1m50/50\u001b[0m \u001b[32m━━━━━━━━━━━━━━━━━━━━\u001b[0m\u001b[37m\u001b[0m \u001b[1m5s\u001b[0m 103ms/step - accuracy: 0.5330 - loss: 84.8288 - val_accuracy: 0.5612 - val_loss: 79.5966\n",
            "\u001b[1m50/50\u001b[0m \u001b[32m━━━━━━━━━━━━━━━━━━━━\u001b[0m\u001b[37m\u001b[0m \u001b[1m5s\u001b[0m 103ms/step - accuracy: 0.6049 - loss: 77.9021 - val_accuracy: 0.5163 - val_loss: 72.8948\n",
            "\u001b[1m50/50\u001b[0m \u001b[32m━━━━━━━━━━━━━━━━━━━━\u001b[0m\u001b[37m\u001b[0m \u001b[1m5s\u001b[0m 103ms/step - accuracy: 0.5918 - loss: 71.2756 - val_accuracy: 0.5188 - val_loss: 66.4948\n",
            "\u001b[1m50/50\u001b[0m \u001b[32m━━━━━━━━━━━━━━━━━━━━\u001b[0m\u001b[37m\u001b[0m \u001b[1m5s\u001b[0m 103ms/step - accuracy: 0.5321 - loss: 64.9510 - val_accuracy: 0.8012 - val_loss: 60.3963\n",
            "\u001b[1m50/50\u001b[0m \u001b[32m━━━━━━━━━━━━━━━━━━━━\u001b[0m\u001b[37m\u001b[0m \u001b[1m5s\u001b[0m 103ms/step - accuracy: 0.6219 - loss: 58.9268 - val_accuracy: 0.8000 - val_loss: 54.5934\n",
            "\u001b[1m50/50\u001b[0m \u001b[32m━━━━━━━━━━━━━━━━━━━━\u001b[0m\u001b[37m\u001b[0m \u001b[1m5s\u001b[0m 103ms/step - accuracy: 0.6048 - loss: 53.1985 - val_accuracy: 0.8000 - val_loss: 49.0913\n",
            "\u001b[1m125/125\u001b[0m \u001b[32m━━━━━━━━━━━━━━━━━━━━\u001b[0m\u001b[37m\u001b[0m \u001b[1m1s\u001b[0m 11ms/step - accuracy: 0.7994 - loss: 49.0913\n"
          ]
        },
        {
          "metadata": {
            "tags": null
          },
          "name": "stderr",
          "output_type": "stream",
          "text": [
            "[I 2024-08-15 16:17:35,125] Trial 42 finished with value: 0.809249997138977 and parameters: {'num_layers': 6, 'filters_0': 100, 'filters_1': 57, 'filters_2': 114, 'filters_3': 122, 'filters_4': 118, 'filters_5': 70, 'kernel_size': 3, 'l1': 0.008704476587820831, 'l2': 9.046885873595625e-06, 'dense_units': 189, 'dropout_rate': 0.4207844968589066, 'learning_rate': 4.2081974330730984e-05}. Best is trial 2 with value: 0.8734999895095825.\n"
          ]
        },
        {
          "metadata": {
            "tags": null
          },
          "name": "stdout",
          "output_type": "stream",
          "text": [
            "Trial 43 started with hyperparameters: num_layers=6, filters=[85, 77, 114, 125, 120, 67], kernel_size=3, l1=0.0020832538871871312, l2=1.0094853938168273e-05, dense_units=184, dropout_rate=0.42135669043943724, learning_rate=4.358755023789764e-05\n",
            "\u001b[1m50/50\u001b[0m \u001b[32m━━━━━━━━━━━━━━━━━━━━\u001b[0m\u001b[37m\u001b[0m \u001b[1m24s\u001b[0m 221ms/step - accuracy: 0.5009 - loss: 27.8958 - val_accuracy: 0.6837 - val_loss: 26.3284\n",
            "\u001b[1m50/50\u001b[0m \u001b[32m━━━━━━━━━━━━━━━━━━━━\u001b[0m\u001b[37m\u001b[0m \u001b[1m5s\u001b[0m 102ms/step - accuracy: 0.5283 - loss: 25.8194 - val_accuracy: 0.6100 - val_loss: 24.3124\n",
            "\u001b[1m50/50\u001b[0m \u001b[32m━━━━━━━━━━━━━━━━━━━━\u001b[0m\u001b[37m\u001b[0m \u001b[1m5s\u001b[0m 103ms/step - accuracy: 0.5492 - loss: 23.8234 - val_accuracy: 0.7200 - val_loss: 22.3777\n",
            "\u001b[1m50/50\u001b[0m \u001b[32m━━━━━━━━━━━━━━━━━━━━\u001b[0m\u001b[37m\u001b[0m \u001b[1m5s\u001b[0m 103ms/step - accuracy: 0.5535 - loss: 21.9094 - val_accuracy: 0.5250 - val_loss: 20.5255\n",
            "\u001b[1m50/50\u001b[0m \u001b[32m━━━━━━━━━━━━━━━━━━━━\u001b[0m\u001b[37m\u001b[0m \u001b[1m5s\u001b[0m 102ms/step - accuracy: 0.5587 - loss: 20.0778 - val_accuracy: 0.5487 - val_loss: 18.7566\n",
            "\u001b[1m50/50\u001b[0m \u001b[32m━━━━━━━━━━━━━━━━━━━━\u001b[0m\u001b[37m\u001b[0m \u001b[1m5s\u001b[0m 102ms/step - accuracy: 0.5676 - loss: 18.3299 - val_accuracy: 0.6687 - val_loss: 17.0708\n",
            "\u001b[1m50/50\u001b[0m \u001b[32m━━━━━━━━━━━━━━━━━━━━\u001b[0m\u001b[37m\u001b[0m \u001b[1m5s\u001b[0m 103ms/step - accuracy: 0.5599 - loss: 16.6648 - val_accuracy: 0.4888 - val_loss: 15.4685\n"
          ]
        },
        {
          "metadata": {
            "tags": null
          },
          "name": "stderr",
          "output_type": "stream",
          "text": [
            "[I 2024-08-15 16:27:51,425] Trial 43 pruned. \n"
          ]
        },
        {
          "metadata": {
            "tags": null
          },
          "name": "stdout",
          "output_type": "stream",
          "text": [
            "Trial 44 started with hyperparameters: num_layers=6, filters=[99, 52, 126, 115, 128, 57], kernel_size=3, l1=0.009540992615343413, l2=4.338115331304345e-06, dense_units=173, dropout_rate=0.35831522541236965, learning_rate=5.9629553937868646e-05\n",
            "\u001b[1m50/50\u001b[0m \u001b[32m━━━━━━━━━━━━━━━━━━━━\u001b[0m\u001b[37m\u001b[0m \u001b[1m19s\u001b[0m 188ms/step - accuracy: 0.5042 - loss: 114.4692 - val_accuracy: 0.6375 - val_loss: 105.4947\n",
            "\u001b[1m50/50\u001b[0m \u001b[32m━━━━━━━━━━━━━━━━━━━━\u001b[0m\u001b[37m\u001b[0m \u001b[1m5s\u001b[0m 102ms/step - accuracy: 0.5432 - loss: 102.6084 - val_accuracy: 0.4850 - val_loss: 94.1182\n",
            "\u001b[1m50/50\u001b[0m \u001b[32m━━━━━━━━━━━━━━━━━━━━\u001b[0m\u001b[37m\u001b[0m \u001b[1m5s\u001b[0m 102ms/step - accuracy: 0.5650 - loss: 91.3954 - val_accuracy: 0.4737 - val_loss: 83.3988\n",
            "\u001b[1m50/50\u001b[0m \u001b[32m━━━━━━━━━━━━━━━━━━━━\u001b[0m\u001b[37m\u001b[0m \u001b[1m5s\u001b[0m 102ms/step - accuracy: 0.5264 - loss: 80.8392 - val_accuracy: 0.5288 - val_loss: 73.3320\n",
            "\u001b[1m50/50\u001b[0m \u001b[32m━━━━━━━━━━━━━━━━━━━━\u001b[0m\u001b[37m\u001b[0m \u001b[1m5s\u001b[0m 102ms/step - accuracy: 0.5868 - loss: 70.9371 - val_accuracy: 0.5088 - val_loss: 63.9252\n",
            "\u001b[1m50/50\u001b[0m \u001b[32m━━━━━━━━━━━━━━━━━━━━\u001b[0m\u001b[37m\u001b[0m \u001b[1m5s\u001b[0m 102ms/step - accuracy: 0.5535 - loss: 61.6961 - val_accuracy: 0.5113 - val_loss: 55.1821\n",
            "\u001b[1m50/50\u001b[0m \u001b[32m━━━━━━━━━━━━━━━━━━━━\u001b[0m\u001b[37m\u001b[0m \u001b[1m5s\u001b[0m 102ms/step - accuracy: 0.5137 - loss: 53.1189 - val_accuracy: 0.4663 - val_loss: 47.1038\n",
            "\u001b[1m50/50\u001b[0m \u001b[32m━━━━━━━━━━━━━━━━━━━━\u001b[0m\u001b[37m\u001b[0m \u001b[1m5s\u001b[0m 102ms/step - accuracy: 0.5196 - loss: 45.2068 - val_accuracy: 0.4787 - val_loss: 39.6916\n",
            "\u001b[1m50/50\u001b[0m \u001b[32m━━━━━━━━━━━━━━━━━━━━\u001b[0m\u001b[37m\u001b[0m \u001b[1m5s\u001b[0m 102ms/step - accuracy: 0.5055 - loss: 37.9600 - val_accuracy: 0.5025 - val_loss: 32.9400\n",
            "\u001b[1m125/125\u001b[0m \u001b[32m━━━━━━━━━━━━━━━━━━━━\u001b[0m\u001b[37m\u001b[0m \u001b[1m1s\u001b[0m 11ms/step - accuracy: 0.4971 - loss: 32.9400\n"
          ]
        },
        {
          "metadata": {
            "tags": null
          },
          "name": "stderr",
          "output_type": "stream",
          "text": [
            "[I 2024-08-15 16:42:14,348] Trial 44 finished with value: 0.5 and parameters: {'num_layers': 6, 'filters_0': 99, 'filters_1': 52, 'filters_2': 126, 'filters_3': 115, 'filters_4': 128, 'filters_5': 57, 'kernel_size': 3, 'l1': 0.009540992615343413, 'l2': 4.338115331304345e-06, 'dense_units': 173, 'dropout_rate': 0.35831522541236965, 'learning_rate': 5.9629553937868646e-05}. Best is trial 2 with value: 0.8734999895095825.\n"
          ]
        },
        {
          "output_type": "stream",
          "name": "stdout",
          "text": [
            "Trial 45 started with hyperparameters: num_layers=5, filters=[71, 39, 104, 123, 105], kernel_size=3, l1=0.0065179179092621, l2=2.124559171282817e-05, dense_units=156, dropout_rate=0.4460288585388462, learning_rate=8.179617443827929e-05\n",
            "\u001b[1m50/50\u001b[0m \u001b[32m━━━━━━━━━━━━━━━━━━━━\u001b[0m\u001b[37m\u001b[0m \u001b[1m18s\u001b[0m 165ms/step - accuracy: 0.4993 - loss: 54.2418 - val_accuracy: 0.5175 - val_loss: 48.6342\n",
            "\u001b[1m50/50\u001b[0m \u001b[32m━━━━━━━━━━━━━━━━━━━━\u001b[0m\u001b[37m\u001b[0m \u001b[1m4s\u001b[0m 77ms/step - accuracy: 0.5631 - loss: 46.8545 - val_accuracy: 0.7475 - val_loss: 41.6633\n",
            "\u001b[1m50/50\u001b[0m \u001b[32m━━━━━━━━━━━━━━━━━━━━\u001b[0m\u001b[37m\u001b[0m \u001b[1m4s\u001b[0m 77ms/step - accuracy: 0.5828 - loss: 40.0244 - val_accuracy: 0.4725 - val_loss: 35.2596\n",
            "\u001b[1m50/50\u001b[0m \u001b[32m━━━━━━━━━━━━━━━━━━━━\u001b[0m\u001b[37m\u001b[0m \u001b[1m4s\u001b[0m 77ms/step - accuracy: 0.5900 - loss: 33.7593 - val_accuracy: 0.8213 - val_loss: 29.4121\n",
            "\u001b[1m50/50\u001b[0m \u001b[32m━━━━━━━━━━━━━━━━━━━━\u001b[0m\u001b[37m\u001b[0m \u001b[1m4s\u001b[0m 77ms/step - accuracy: 0.7157 - loss: 28.0563 - val_accuracy: 0.8213 - val_loss: 24.1381\n",
            "\u001b[1m50/50\u001b[0m \u001b[32m━━━━━━━━━━━━━━━━━━━━\u001b[0m\u001b[37m\u001b[0m \u001b[1m4s\u001b[0m 77ms/step - accuracy: 0.7119 - loss: 22.9242 - val_accuracy: 0.4950 - val_loss: 19.4331\n",
            "\u001b[1m50/50\u001b[0m \u001b[32m━━━━━━━━━━━━━━━━━━━━\u001b[0m\u001b[37m\u001b[0m \u001b[1m4s\u001b[0m 77ms/step - accuracy: 0.6252 - loss: 18.3545 - val_accuracy: 0.6513 - val_loss: 15.2818\n"
          ]
        },
        {
          "output_type": "stream",
          "name": "stderr",
          "text": [
            "[I 2024-08-15 16:52:16,453] Trial 45 pruned. \n"
          ]
        },
        {
          "output_type": "stream",
          "name": "stdout",
          "text": [
            "Trial 46 started with hyperparameters: num_layers=6, filters=[59, 61, 61, 117, 118, 65], kernel_size=3, l1=3.3163340107505196e-05, l2=7.08623162813162e-06, dense_units=228, dropout_rate=0.389906216351209, learning_rate=3.0418371878720552e-05\n",
            "\u001b[1m50/50\u001b[0m \u001b[32m━━━━━━━━━━━━━━━━━━━━\u001b[0m\u001b[37m\u001b[0m \u001b[1m0s\u001b[0m 63ms/step - accuracy: 0.5254 - loss: 1.0180"
          ]
        },
        {
          "output_type": "stream",
          "name": "stderr",
          "text": [
            "[I 2024-08-15 16:53:54,829] Trial 46 pruned. Trial was pruned at epoch 0.\n"
          ]
        },
        {
          "output_type": "stream",
          "name": "stdout",
          "text": [
            "Trial 47 started with hyperparameters: num_layers=6, filters=[81, 122, 122, 128, 97, 74], kernel_size=3, l1=0.0025357828128076136, l2=1.0172232261661296e-06, dense_units=192, dropout_rate=0.48341357621048675, learning_rate=0.0001128781766263995\n",
            "\u001b[1m50/50\u001b[0m \u001b[32m━━━━━━━━━━━━━━━━━━━━\u001b[0m\u001b[37m\u001b[0m \u001b[1m27s\u001b[0m 253ms/step - accuracy: 0.5023 - loss: 36.2620 - val_accuracy: 0.5175 - val_loss: 30.8468\n",
            "\u001b[1m50/50\u001b[0m \u001b[32m━━━━━━━━━━━━━━━━━━━━\u001b[0m\u001b[37m\u001b[0m \u001b[1m6s\u001b[0m 115ms/step - accuracy: 0.5491 - loss: 29.1666 - val_accuracy: 0.4800 - val_loss: 24.3348\n",
            "\u001b[1m50/50\u001b[0m \u001b[32m━━━━━━━━━━━━━━━━━━━━\u001b[0m\u001b[37m\u001b[0m \u001b[1m6s\u001b[0m 115ms/step - accuracy: 0.5243 - loss: 22.8515 - val_accuracy: 0.4725 - val_loss: 18.6161\n",
            "\u001b[1m50/50\u001b[0m \u001b[32m━━━━━━━━━━━━━━━━━━━━\u001b[0m\u001b[37m\u001b[0m \u001b[1m6s\u001b[0m 115ms/step - accuracy: 0.5136 - loss: 17.3326 - val_accuracy: 0.5063 - val_loss: 13.6933\n"
          ]
        },
        {
          "output_type": "stream",
          "name": "stderr",
          "text": [
            "[I 2024-08-15 17:00:04,542] Trial 47 pruned. \n"
          ]
        },
        {
          "output_type": "stream",
          "name": "stdout",
          "text": [
            "Trial 48 started with hyperparameters: num_layers=5, filters=[40, 78, 57, 80, 109], kernel_size=2, l1=0.0013176253338764328, l2=6.324867161932531e-05, dense_units=112, dropout_rate=0.18629145278274203, learning_rate=3.9039023780417255e-05\n",
            "\u001b[1m50/50\u001b[0m \u001b[32m━━━━━━━━━━━━━━━━━━━━\u001b[0m\u001b[37m\u001b[0m \u001b[1m0s\u001b[0m 49ms/step - accuracy: 0.5206 - loss: 6.1458"
          ]
        },
        {
          "output_type": "stream",
          "name": "stderr",
          "text": [
            "[I 2024-08-15 17:01:39,723] Trial 48 pruned. Trial was pruned at epoch 0.\n"
          ]
        },
        {
          "output_type": "stream",
          "name": "stdout",
          "text": [
            "Trial 49 started with hyperparameters: num_layers=6, filters=[108, 86, 72, 33, 38, 40], kernel_size=3, l1=3.922379448701403e-06, l2=1.2159236265292915e-05, dense_units=168, dropout_rate=0.35155542189029126, learning_rate=5.284213613032926e-05\n",
            "\u001b[1m50/50\u001b[0m \u001b[32m━━━━━━━━━━━━━━━━━━━━\u001b[0m\u001b[37m\u001b[0m \u001b[1m0s\u001b[0m 106ms/step - accuracy: 0.5079 - loss: 0.7206"
          ]
        },
        {
          "output_type": "stream",
          "name": "stderr",
          "text": [
            "[I 2024-08-15 17:03:26,921] Trial 49 pruned. Trial was pruned at epoch 0.\n"
          ]
        },
        {
          "output_type": "stream",
          "name": "stdout",
          "text": [
            "Best trial:\n",
            "Value: 0.8734999895095825\n",
            "Params: \n",
            "    num_layers: 6\n",
            "    filters_0: 121\n",
            "    filters_1: 87\n",
            "    filters_2: 54\n",
            "    filters_3: 112\n",
            "    filters_4: 33\n",
            "    filters_5: 47\n",
            "    kernel_size: 3\n",
            "    l1: 5.0716695606694785e-06\n",
            "    l2: 6.816909948117609e-06\n",
            "    dense_units: 189\n",
            "    dropout_rate: 0.4410372189591173\n",
            "    learning_rate: 8.167479478069829e-05\n",
            "Elapsed time: 18845.29 seconds\n"
          ]
        }
      ]
    },
    {
      "cell_type": "markdown",
      "source": [
        "Recent and moderate"
      ],
      "metadata": {
        "id": "st84dPKRAImo"
      }
    },
    {
      "cell_type": "code",
      "source": [
        "\n",
        "# Configure logging to file in the current directory with the specified name\n",
        "logging.basicConfig(filename='recent_Scenarios_RM.log', level=logging.INFO,\n",
        "                    format='%(asctime)s:%(levelname)s:%(message)s')\n",
        "\n",
        "# Function to preprocess data\n",
        "def preprocess_data(simulations_folder, batch_number):\n",
        "    # Create ImaFile object for the specified simulation folder and model\n",
        "    file_sim = ImaFile(simulations_folder=os.path.join(simulations_folder, f'Simulations{batch_number}'), nr_samples=198, model_name='Marth-3epoch-CEU')\n",
        "\n",
        "    # Read the simulation data\n",
        "    gene_sim = file_sim.read_simulations(parameter_name='selection_coeff_hetero', max_nrepl=4000)\n",
        "\n",
        "    # Filter simulations based on frequency threshold\n",
        "    gene_sim.filter_freq(0.01)\n",
        "\n",
        "    # Sort simulations by row frequency\n",
        "    gene_sim.sort('rows_freq')\n",
        "\n",
        "    # Resize simulation data to the required dimensions\n",
        "    gene_sim.resize((198, 192))\n",
        "\n",
        "    # Convert simulation data (flip=True allows for data augmentation)\n",
        "    gene_sim.convert(flip=True)\n",
        "\n",
        "    # Get a random subset of indices and subset the simulation data\n",
        "    gene_sim.subset(get_index_random(gene_sim))\n",
        "\n",
        "    # Convert targets to binary format\n",
        "    gene_sim.targets = to_binary(gene_sim.targets)\n",
        "\n",
        "    return gene_sim\n",
        "\n",
        "# Objective function for Optuna optimization\n",
        "def objective(trial, simulations_folder, epochs=1):\n",
        "    # Set random seed\n",
        "    np.random.seed(42)\n",
        "    tf.random.set_seed(42)\n",
        "\n",
        "    # Hyperparameters to be optimized\n",
        "    num_layers = trial.suggest_int('num_layers', 3, 6)  # Limit the number of layers to avoid excessive reduction\n",
        "    filters = [trial.suggest_int(f'filters_{i}', 32, 128) for i in range(num_layers)]  # Adjust filters range\n",
        "    kernel_size = trial.suggest_int('kernel_size', 2, 3)  # Limit the kernel size to avoid excessive reduction\n",
        "    l1 = trial.suggest_float('l1', 1e-6, 1e-2, log=True)\n",
        "    l2 = trial.suggest_float('l2', 1e-6, 1e-2, log=True)\n",
        "    dense_units = trial.suggest_int('dense_units', 64, 256)  # Adjust dense units range\n",
        "    dropout_rate = trial.suggest_float('dropout_rate', 0.1, 0.5)\n",
        "    learning_rate = trial.suggest_float('learning_rate', 1e-5, 1e-3, log=True)\n",
        "\n",
        "    # Log the hyperparameters at the start of each trial\n",
        "    logging.info(f'Trial {trial.number} started with hyperparameters: num_layers={num_layers}, filters={filters}, '\n",
        "                 f'kernel_size={kernel_size}, l1={l1}, l2={l2}, dense_units={dense_units}, '\n",
        "                 f'dropout_rate={dropout_rate}, learning_rate={learning_rate}')\n",
        "    print(f'Trial {trial.number} started with hyperparameters: num_layers={num_layers}, filters={filters}, '\n",
        "          f'kernel_size={kernel_size}, l1={l1}, l2={l2}, dense_units={dense_units}, '\n",
        "          f'dropout_rate={dropout_rate}, learning_rate={learning_rate}')\n",
        "\n",
        "    # Building the model based on sampled hyperparameters\n",
        "    model = models.Sequential()\n",
        "    model.add(layers.Input(shape=(198, 192, 1)))  # Define the input layer\n",
        "    for i in range(num_layers):\n",
        "        model.add(layers.Conv2D(filters=filters[i], kernel_size=(kernel_size, kernel_size), strides=(1, 1), activation='relu',\n",
        "                                kernel_regularizer=regularizers.l1_l2(l1=l1, l2=l2), padding='same'))  # Use 'same' padding to avoid dimension issues\n",
        "        model.add(layers.MaxPooling2D(pool_size=(2, 2)))\n",
        "\n",
        "    model.add(layers.Flatten())  # Flatten the output for the Dense layers\n",
        "    model.add(layers.Dense(units=dense_units, activation='relu'))  # Add Dense layer\n",
        "    model.add(layers.Dropout(rate=dropout_rate))  # Add Dropout layer\n",
        "    model.add(layers.Dense(units=1, activation='sigmoid'))  # Output layer with sigmoid activation\n",
        "\n",
        "    optimizer = tf.keras.optimizers.Adam(learning_rate=learning_rate)  # Define optimizer\n",
        "    model.compile(optimizer=optimizer, loss='binary_crossentropy', metrics=['accuracy'])  # Compile the model\n",
        "\n",
        "    # Pruning callback to terminate unpromising trials\n",
        "    pruning_callback = TFKerasPruningCallback(trial, 'val_loss')\n",
        "\n",
        "    # Early stopping to prevent overfitting\n",
        "    early_stopping = EarlyStopping(monitor='val_loss', patience=3, restore_best_weights=True)\n",
        "\n",
        "    # Incremental training on 9 batches\n",
        "    best_val_loss = np.inf  # Track the best validation loss\n",
        "    for batch_number in range(1, 10):\n",
        "        gene_sim = preprocess_data(simulations_folder, batch_number)  # Preprocess data\n",
        "        history = model.fit(gene_sim.data, gene_sim.targets, batch_size=64, epochs=epochs, verbose=1, validation_split=0.2,\n",
        "                            callbacks=[early_stopping, pruning_callback])  # Train the model with callbacks\n",
        "\n",
        "        # Get the validation loss for the current epoch\n",
        "        val_loss = min(history.history['val_loss'])\n",
        "        if val_loss < best_val_loss:\n",
        "            best_val_loss = val_loss\n",
        "            trial.report(val_loss, batch_number)\n",
        "            if trial.should_prune():\n",
        "                raise optuna.exceptions.TrialPruned()\n",
        "\n",
        "    # Evaluate the model on the 10th batch\n",
        "    gene_sim = preprocess_data(simulations_folder, 10)\n",
        "    evaluation = model.evaluate(gene_sim.data, gene_sim.targets, verbose=1)\n",
        "    return evaluation[1]  # Return the accuracy\n",
        "\n",
        "# Function to run the optimization process\n",
        "def run_optimization():\n",
        "    start_time = time.time()  # Record start time\n",
        "\n",
        "    simulations_folder = '/content/EvoNet-CNN-Insight/model_training/recent_moderate/RM'  # Folder for this dataset\n",
        "    logging.info(f\"Starting optimization for {simulations_folder}\")\n",
        "    print(f\"Starting optimization for {simulations_folder}\")\n",
        "\n",
        "    # Create an Optuna study and optimize the objective function\n",
        "    study = optuna.create_study(direction='maximize', pruner=optuna.pruners.MedianPruner(), storage='sqlite:///rm_study.db', load_if_exists=True)  # Use SQLite storage\n",
        "    study.optimize(lambda trial: objective(trial, simulations_folder), n_trials=50)  # Set to 50 trials\n",
        "\n",
        "    try:\n",
        "        trial = study.best_trial\n",
        "        print('Best trial:')\n",
        "        print('Value: {}'.format(trial.value))\n",
        "        print('Params: ')\n",
        "        for key, value in trial.params.items():\n",
        "            print('    {}: {}'.format(key, value))  # Print best trial parameters\n",
        "\n",
        "        logging.info('Best trial:')\n",
        "        logging.info('Value: {}'.format(trial.value))\n",
        "        logging.info('Params: ')\n",
        "        for key, value in trial.params.items():\n",
        "            logging.info('    {}: {}'.format(key, value))  # Log best trial parameters\n",
        "\n",
        "    except ValueError as e:\n",
        "        logging.error(f\"No completed trials: {e}\")  # Log error if no trials are completed\n",
        "\n",
        "    elapsed_time = time.time() - start_time  # Calculate elapsed time\n",
        "    print(f\"Elapsed time: {elapsed_time:.2f} seconds\")\n",
        "    logging.info(f\"Elapsed time: {elapsed_time:.2f} seconds\")  # Log elapsed time\n",
        "\n",
        "# Run the optimization process\n",
        "if __name__ == '__main__':\n",
        "    run_optimization()  # Execute the optimization function"
      ],
      "metadata": {
        "id": "Oei1AjsHAMAV",
        "outputId": "d8680414-2610-494b-897e-74942f9de6f1",
        "colab": {
          "base_uri": "https://localhost:8080/"
        }
      },
      "execution_count": 6,
      "outputs": [
        {
          "metadata": {
            "tags": null
          },
          "name": "stdout",
          "output_type": "stream",
          "text": [
            "Starting optimization for /content/EvoNet-CNN-Insight/model_training/recent_moderate/RM\n"
          ]
        },
        {
          "metadata": {
            "tags": null
          },
          "name": "stderr",
          "output_type": "stream",
          "text": [
            "[I 2024-08-15 17:07:47,527] A new study created in RDB with name: no-name-7489b865-a029-4254-8484-a76d60185ac8\n"
          ]
        },
        {
          "metadata": {
            "tags": null
          },
          "name": "stdout",
          "output_type": "stream",
          "text": [
            "Trial 0 started with hyperparameters: num_layers=6, filters=[40, 109, 83, 35, 82, 126], kernel_size=3, l1=0.0025522613113152025, l2=4.5403543299974466e-05, dense_units=82, dropout_rate=0.49090520398674264, learning_rate=0.0009174143043032445\n",
            "\u001b[1m50/50\u001b[0m \u001b[32m━━━━━━━━━━━━━━━━━━━━\u001b[0m\u001b[37m\u001b[0m \u001b[1m19s\u001b[0m 166ms/step - accuracy: 0.4790 - loss: 15.6271 - val_accuracy: 0.4825 - val_loss: 2.7800\n",
            "\u001b[1m50/50\u001b[0m \u001b[32m━━━━━━━━━━━━━━━━━━━━\u001b[0m\u001b[37m\u001b[0m \u001b[1m4s\u001b[0m 73ms/step - accuracy: 0.5024 - loss: 1.7691 - val_accuracy: 0.4800 - val_loss: 0.8134\n",
            "\u001b[1m50/50\u001b[0m \u001b[32m━━━━━━━━━━━━━━━━━━━━\u001b[0m\u001b[37m\u001b[0m \u001b[1m4s\u001b[0m 73ms/step - accuracy: 0.4967 - loss: 0.7919 - val_accuracy: 0.4725 - val_loss: 0.7715\n",
            "\u001b[1m50/50\u001b[0m \u001b[32m━━━━━━━━━━━━━━━━━━━━\u001b[0m\u001b[37m\u001b[0m \u001b[1m4s\u001b[0m 72ms/step - accuracy: 0.5035 - loss: 0.7706 - val_accuracy: 0.4938 - val_loss: 0.7699\n",
            "\u001b[1m50/50\u001b[0m \u001b[32m━━━━━━━━━━━━━━━━━━━━\u001b[0m\u001b[37m\u001b[0m \u001b[1m4s\u001b[0m 73ms/step - accuracy: 0.5086 - loss: 0.7700 - val_accuracy: 0.4913 - val_loss: 0.7693\n",
            "\u001b[1m50/50\u001b[0m \u001b[32m━━━━━━━━━━━━━━━━━━━━\u001b[0m\u001b[37m\u001b[0m \u001b[1m4s\u001b[0m 73ms/step - accuracy: 0.4999 - loss: 0.7701 - val_accuracy: 0.5050 - val_loss: 0.7698\n",
            "\u001b[1m50/50\u001b[0m \u001b[32m━━━━━━━━━━━━━━━━━━━━\u001b[0m\u001b[37m\u001b[0m \u001b[1m4s\u001b[0m 72ms/step - accuracy: 0.4937 - loss: 0.7702 - val_accuracy: 0.4663 - val_loss: 0.7708\n",
            "\u001b[1m50/50\u001b[0m \u001b[32m━━━━━━━━━━━━━━━━━━━━\u001b[0m\u001b[37m\u001b[0m \u001b[1m4s\u001b[0m 72ms/step - accuracy: 0.5126 - loss: 0.7701 - val_accuracy: 0.4787 - val_loss: 0.7703\n",
            "\u001b[1m50/50\u001b[0m \u001b[32m━━━━━━━━━━━━━━━━━━━━\u001b[0m\u001b[37m\u001b[0m \u001b[1m4s\u001b[0m 72ms/step - accuracy: 0.5058 - loss: 0.7701 - val_accuracy: 0.5025 - val_loss: 0.7705\n",
            "\u001b[1m125/125\u001b[0m \u001b[32m━━━━━━━━━━━━━━━━━━━━\u001b[0m\u001b[37m\u001b[0m \u001b[1m1s\u001b[0m 8ms/step - accuracy: 0.4971 - loss: 0.7706\n"
          ]
        },
        {
          "metadata": {
            "tags": null
          },
          "name": "stderr",
          "output_type": "stream",
          "text": [
            "[I 2024-08-15 17:23:07,757] Trial 0 finished with value: 0.5 and parameters: {'num_layers': 6, 'filters_0': 40, 'filters_1': 109, 'filters_2': 83, 'filters_3': 35, 'filters_4': 82, 'filters_5': 126, 'kernel_size': 3, 'l1': 0.0025522613113152025, 'l2': 4.5403543299974466e-05, 'dense_units': 82, 'dropout_rate': 0.49090520398674264, 'learning_rate': 0.0009174143043032445}. Best is trial 0 with value: 0.5.\n"
          ]
        },
        {
          "metadata": {
            "tags": null
          },
          "name": "stdout",
          "output_type": "stream",
          "text": [
            "Trial 1 started with hyperparameters: num_layers=6, filters=[107, 59, 97, 119, 128, 46], kernel_size=2, l1=8.323494526900126e-06, l2=0.001266087065785262, dense_units=242, dropout_rate=0.4648593476000483, learning_rate=0.00048696206153286785\n",
            "\u001b[1m50/50\u001b[0m \u001b[32m━━━━━━━━━━━━━━━━━━━━\u001b[0m\u001b[37m\u001b[0m \u001b[1m19s\u001b[0m 181ms/step - accuracy: 0.4970 - loss: 1.2345 - val_accuracy: 0.5175 - val_loss: 1.0053\n",
            "\u001b[1m50/50\u001b[0m \u001b[32m━━━━━━━━━━━━━━━━━━━━\u001b[0m\u001b[37m\u001b[0m \u001b[1m5s\u001b[0m 99ms/step - accuracy: 0.4966 - loss: 0.9558 - val_accuracy: 0.4800 - val_loss: 0.8386\n",
            "\u001b[1m50/50\u001b[0m \u001b[32m━━━━━━━━━━━━━━━━━━━━\u001b[0m\u001b[37m\u001b[0m \u001b[1m5s\u001b[0m 99ms/step - accuracy: 0.4965 - loss: 0.8142 - val_accuracy: 0.4725 - val_loss: 0.7590\n",
            "\u001b[1m50/50\u001b[0m \u001b[32m━━━━━━━━━━━━━━━━━━━━\u001b[0m\u001b[37m\u001b[0m \u001b[1m5s\u001b[0m 99ms/step - accuracy: 0.5049 - loss: 0.7479 - val_accuracy: 0.5063 - val_loss: 0.7228\n",
            "\u001b[1m50/50\u001b[0m \u001b[32m━━━━━━━━━━━━━━━━━━━━\u001b[0m\u001b[37m\u001b[0m \u001b[1m5s\u001b[0m 99ms/step - accuracy: 0.4923 - loss: 0.7180 - val_accuracy: 0.4913 - val_loss: 0.7070\n",
            "\u001b[1m50/50\u001b[0m \u001b[32m━━━━━━━━━━━━━━━━━━━━\u001b[0m\u001b[37m\u001b[0m \u001b[1m5s\u001b[0m 99ms/step - accuracy: 0.4844 - loss: 0.7050 - val_accuracy: 0.5050 - val_loss: 0.7000\n",
            "\u001b[1m50/50\u001b[0m \u001b[32m━━━━━━━━━━━━━━━━━━━━\u001b[0m\u001b[37m\u001b[0m \u001b[1m5s\u001b[0m 99ms/step - accuracy: 0.4837 - loss: 0.6993 - val_accuracy: 0.4663 - val_loss: 0.6970\n",
            "\u001b[1m50/50\u001b[0m \u001b[32m━━━━━━━━━━━━━━━━━━━━\u001b[0m\u001b[37m\u001b[0m \u001b[1m5s\u001b[0m 99ms/step - accuracy: 0.5170 - loss: 0.6963 - val_accuracy: 0.4787 - val_loss: 0.6954\n",
            "\u001b[1m50/50\u001b[0m \u001b[32m━━━━━━━━━━━━━━━━━━━━\u001b[0m\u001b[37m\u001b[0m \u001b[1m5s\u001b[0m 99ms/step - accuracy: 0.5067 - loss: 0.6950 - val_accuracy: 0.5025 - val_loss: 0.6943\n",
            "\u001b[1m125/125\u001b[0m \u001b[32m━━━━━━━━━━━━━━━━━━━━\u001b[0m\u001b[37m\u001b[0m \u001b[1m1s\u001b[0m 10ms/step - accuracy: 0.4971 - loss: 0.6944\n"
          ]
        },
        {
          "metadata": {
            "tags": null
          },
          "name": "stderr",
          "output_type": "stream",
          "text": [
            "[I 2024-08-15 17:38:36,247] Trial 1 finished with value: 0.5 and parameters: {'num_layers': 6, 'filters_0': 107, 'filters_1': 59, 'filters_2': 97, 'filters_3': 119, 'filters_4': 128, 'filters_5': 46, 'kernel_size': 2, 'l1': 8.323494526900126e-06, 'l2': 0.001266087065785262, 'dense_units': 242, 'dropout_rate': 0.4648593476000483, 'learning_rate': 0.00048696206153286785}. Best is trial 0 with value: 0.5.\n"
          ]
        },
        {
          "metadata": {
            "tags": null
          },
          "name": "stdout",
          "output_type": "stream",
          "text": [
            "Trial 2 started with hyperparameters: num_layers=4, filters=[112, 70, 66, 97], kernel_size=3, l1=1.4140077757263846e-05, l2=6.14525850610673e-05, dense_units=136, dropout_rate=0.24035812561692615, learning_rate=0.000944861039761829\n",
            "\u001b[1m50/50\u001b[0m \u001b[32m━━━━━━━━━━━━━━━━━━━━\u001b[0m\u001b[37m\u001b[0m \u001b[1m23s\u001b[0m 232ms/step - accuracy: 0.5174 - loss: 0.7863 - val_accuracy: 0.4825 - val_loss: 0.7452\n",
            "\u001b[1m50/50\u001b[0m \u001b[32m━━━━━━━━━━━━━━━━━━━━\u001b[0m\u001b[37m\u001b[0m \u001b[1m6s\u001b[0m 112ms/step - accuracy: 0.5433 - loss: 0.7318 - val_accuracy: 0.6737 - val_loss: 0.5970\n",
            "\u001b[1m50/50\u001b[0m \u001b[32m━━━━━━━━━━━━━━━━━━━━\u001b[0m\u001b[37m\u001b[0m \u001b[1m6s\u001b[0m 112ms/step - accuracy: 0.7725 - loss: 0.5330 - val_accuracy: 0.7962 - val_loss: 0.4603\n",
            "\u001b[1m50/50\u001b[0m \u001b[32m━━━━━━━━━━━━━━━━━━━━\u001b[0m\u001b[37m\u001b[0m \u001b[1m6s\u001b[0m 112ms/step - accuracy: 0.7997 - loss: 0.4756 - val_accuracy: 0.8138 - val_loss: 0.4986\n",
            "\u001b[1m50/50\u001b[0m \u001b[32m━━━━━━━━━━━━━━━━━━━━\u001b[0m\u001b[37m\u001b[0m \u001b[1m6s\u001b[0m 112ms/step - accuracy: 0.8267 - loss: 0.4443 - val_accuracy: 0.8500 - val_loss: 0.4269\n",
            "\u001b[1m50/50\u001b[0m \u001b[32m━━━━━━━━━━━━━━━━━━━━\u001b[0m\u001b[37m\u001b[0m \u001b[1m6s\u001b[0m 112ms/step - accuracy: 0.8368 - loss: 0.4112 - val_accuracy: 0.8500 - val_loss: 0.3910\n",
            "\u001b[1m50/50\u001b[0m \u001b[32m━━━━━━━━━━━━━━━━━━━━\u001b[0m\u001b[37m\u001b[0m \u001b[1m6s\u001b[0m 112ms/step - accuracy: 0.8262 - loss: 0.4215 - val_accuracy: 0.8575 - val_loss: 0.3971\n",
            "\u001b[1m50/50\u001b[0m \u001b[32m━━━━━━━━━━━━━━━━━━━━\u001b[0m\u001b[37m\u001b[0m \u001b[1m6s\u001b[0m 112ms/step - accuracy: 0.8336 - loss: 0.4105 - val_accuracy: 0.8550 - val_loss: 0.3947\n",
            "\u001b[1m50/50\u001b[0m \u001b[32m━━━━━━━━━━━━━━━━━━━━\u001b[0m\u001b[37m\u001b[0m \u001b[1m6s\u001b[0m 112ms/step - accuracy: 0.8308 - loss: 0.4223 - val_accuracy: 0.8712 - val_loss: 0.3504\n",
            "\u001b[1m125/125\u001b[0m \u001b[32m━━━━━━━━━━━━━━━━━━━━\u001b[0m\u001b[37m\u001b[0m \u001b[1m2s\u001b[0m 13ms/step - accuracy: 0.8502 - loss: 0.3734\n"
          ]
        },
        {
          "metadata": {
            "tags": null
          },
          "name": "stderr",
          "output_type": "stream",
          "text": [
            "[I 2024-08-15 17:54:13,254] Trial 2 finished with value: 0.8489999771118164 and parameters: {'num_layers': 4, 'filters_0': 112, 'filters_1': 70, 'filters_2': 66, 'filters_3': 97, 'kernel_size': 3, 'l1': 1.4140077757263846e-05, 'l2': 6.14525850610673e-05, 'dense_units': 136, 'dropout_rate': 0.24035812561692615, 'learning_rate': 0.000944861039761829}. Best is trial 2 with value: 0.8489999771118164.\n"
          ]
        },
        {
          "metadata": {
            "tags": null
          },
          "name": "stdout",
          "output_type": "stream",
          "text": [
            "Trial 3 started with hyperparameters: num_layers=4, filters=[124, 58, 44, 79], kernel_size=2, l1=0.004184763183516597, l2=0.0003277029977798182, dense_units=253, dropout_rate=0.27351335602633725, learning_rate=1.0355733886978215e-05\n",
            "\u001b[1m50/50\u001b[0m \u001b[32m━━━━━━━━━━━━━━━━━━━━\u001b[0m\u001b[37m\u001b[0m \u001b[1m18s\u001b[0m 181ms/step - accuracy: 0.5018 - loss: 12.0997 - val_accuracy: 0.5175 - val_loss: 12.0111\n",
            "\u001b[1m50/50\u001b[0m \u001b[32m━━━━━━━━━━━━━━━━━━━━\u001b[0m\u001b[37m\u001b[0m \u001b[1m5s\u001b[0m 105ms/step - accuracy: 0.5312 - loss: 11.9826 - val_accuracy: 0.5425 - val_loss: 11.8954\n",
            "\u001b[1m50/50\u001b[0m \u001b[32m━━━━━━━━━━━━━━━━━━━━\u001b[0m\u001b[37m\u001b[0m \u001b[1m5s\u001b[0m 105ms/step - accuracy: 0.5331 - loss: 11.8673 - val_accuracy: 0.5500 - val_loss: 11.7798\n",
            "\u001b[1m50/50\u001b[0m \u001b[32m━━━━━━━━━━━━━━━━━━━━\u001b[0m\u001b[37m\u001b[0m \u001b[1m5s\u001b[0m 105ms/step - accuracy: 0.5844 - loss: 11.7517 - val_accuracy: 0.5038 - val_loss: 11.6671\n",
            "\u001b[1m50/50\u001b[0m \u001b[32m━━━━━━━━━━━━━━━━━━━━\u001b[0m\u001b[37m\u001b[0m \u001b[1m5s\u001b[0m 105ms/step - accuracy: 0.5646 - loss: 11.6386 - val_accuracy: 0.5138 - val_loss: 11.5523\n",
            "\u001b[1m50/50\u001b[0m \u001b[32m━━━━━━━━━━━━━━━━━━━━\u001b[0m\u001b[37m\u001b[0m \u001b[1m5s\u001b[0m 105ms/step - accuracy: 0.5805 - loss: 11.5238 - val_accuracy: 0.4988 - val_loss: 11.4398\n",
            "\u001b[1m50/50\u001b[0m \u001b[32m━━━━━━━━━━━━━━━━━━━━\u001b[0m\u001b[37m\u001b[0m \u001b[1m5s\u001b[0m 105ms/step - accuracy: 0.5295 - loss: 11.4134 - val_accuracy: 0.7925 - val_loss: 11.3266\n",
            "\u001b[1m50/50\u001b[0m \u001b[32m━━━━━━━━━━━━━━━━━━━━\u001b[0m\u001b[37m\u001b[0m \u001b[1m5s\u001b[0m 105ms/step - accuracy: 0.6235 - loss: 11.3000 - val_accuracy: 0.6162 - val_loss: 11.2169\n",
            "\u001b[1m50/50\u001b[0m \u001b[32m━━━━━━━━━━━━━━━━━━━━\u001b[0m\u001b[37m\u001b[0m \u001b[1m5s\u001b[0m 105ms/step - accuracy: 0.5774 - loss: 11.1890 - val_accuracy: 0.7538 - val_loss: 11.1044\n",
            "\u001b[1m125/125\u001b[0m \u001b[32m━━━━━━━━━━━━━━━━━━━━\u001b[0m\u001b[37m\u001b[0m \u001b[1m1s\u001b[0m 11ms/step - accuracy: 0.7481 - loss: 11.1049\n"
          ]
        },
        {
          "metadata": {
            "tags": null
          },
          "name": "stderr",
          "output_type": "stream",
          "text": [
            "[I 2024-08-15 18:09:40,657] Trial 3 finished with value: 0.7457500100135803 and parameters: {'num_layers': 4, 'filters_0': 124, 'filters_1': 58, 'filters_2': 44, 'filters_3': 79, 'kernel_size': 2, 'l1': 0.004184763183516597, 'l2': 0.0003277029977798182, 'dense_units': 253, 'dropout_rate': 0.27351335602633725, 'learning_rate': 1.0355733886978215e-05}. Best is trial 2 with value: 0.8489999771118164.\n"
          ]
        },
        {
          "metadata": {
            "tags": null
          },
          "name": "stdout",
          "output_type": "stream",
          "text": [
            "Trial 4 started with hyperparameters: num_layers=6, filters=[42, 75, 116, 46, 51, 117], kernel_size=3, l1=3.302523469322023e-05, l2=5.8957572198669106e-06, dense_units=256, dropout_rate=0.44145046436994684, learning_rate=0.0002274889306004856\n",
            "\u001b[1m50/50\u001b[0m \u001b[32m━━━━━━━━━━━━━━━━━━━━\u001b[0m\u001b[37m\u001b[0m \u001b[1m18s\u001b[0m 157ms/step - accuracy: 0.5124 - loss: 0.9293 - val_accuracy: 0.4825 - val_loss: 0.8889\n",
            "\u001b[1m50/50\u001b[0m \u001b[32m━━━━━━━━━━━━━━━━━━━━\u001b[0m\u001b[37m\u001b[0m \u001b[1m3s\u001b[0m 68ms/step - accuracy: 0.5929 - loss: 0.8565 - val_accuracy: 0.7700 - val_loss: 0.6364\n",
            "\u001b[1m50/50\u001b[0m \u001b[32m━━━━━━━━━━━━━━━━━━━━\u001b[0m\u001b[37m\u001b[0m \u001b[1m3s\u001b[0m 68ms/step - accuracy: 0.7793 - loss: 0.6268 - val_accuracy: 0.8200 - val_loss: 0.5487\n",
            "\u001b[1m50/50\u001b[0m \u001b[32m━━━━━━━━━━━━━━━━━━━━\u001b[0m\u001b[37m\u001b[0m \u001b[1m3s\u001b[0m 68ms/step - accuracy: 0.8030 - loss: 0.5706 - val_accuracy: 0.7925 - val_loss: 0.5518\n",
            "\u001b[1m50/50\u001b[0m \u001b[32m━━━━━━━━━━━━━━━━━━━━\u001b[0m\u001b[37m\u001b[0m \u001b[1m3s\u001b[0m 68ms/step - accuracy: 0.8360 - loss: 0.5101 - val_accuracy: 0.8062 - val_loss: 0.6226\n",
            "\u001b[1m50/50\u001b[0m \u001b[32m━━━━━━━━━━━━━━━━━━━━\u001b[0m\u001b[37m\u001b[0m \u001b[1m3s\u001b[0m 68ms/step - accuracy: 0.8374 - loss: 0.5239 - val_accuracy: 0.8525 - val_loss: 0.4671\n",
            "\u001b[1m50/50\u001b[0m \u001b[32m━━━━━━━━━━━━━━━━━━━━\u001b[0m\u001b[37m\u001b[0m \u001b[1m3s\u001b[0m 69ms/step - accuracy: 0.8287 - loss: 0.5020 - val_accuracy: 0.8450 - val_loss: 0.4720\n",
            "\u001b[1m50/50\u001b[0m \u001b[32m━━━━━━━━━━━━━━━━━━━━\u001b[0m\u001b[37m\u001b[0m \u001b[1m3s\u001b[0m 68ms/step - accuracy: 0.8336 - loss: 0.4979 - val_accuracy: 0.8325 - val_loss: 0.4888\n",
            "\u001b[1m50/50\u001b[0m \u001b[32m━━━━━━━━━━━━━━━━━━━━\u001b[0m\u001b[37m\u001b[0m \u001b[1m3s\u001b[0m 68ms/step - accuracy: 0.8295 - loss: 0.5040 - val_accuracy: 0.8650 - val_loss: 0.4343\n",
            "\u001b[1m125/125\u001b[0m \u001b[32m━━━━━━━━━━━━━━━━━━━━\u001b[0m\u001b[37m\u001b[0m \u001b[1m1s\u001b[0m 8ms/step - accuracy: 0.8505 - loss: 0.4563\n"
          ]
        },
        {
          "metadata": {
            "tags": null
          },
          "name": "stderr",
          "output_type": "stream",
          "text": [
            "[I 2024-08-15 18:24:54,200] Trial 4 finished with value: 0.8477500081062317 and parameters: {'num_layers': 6, 'filters_0': 42, 'filters_1': 75, 'filters_2': 116, 'filters_3': 46, 'filters_4': 51, 'filters_5': 117, 'kernel_size': 3, 'l1': 3.302523469322023e-05, 'l2': 5.8957572198669106e-06, 'dense_units': 256, 'dropout_rate': 0.44145046436994684, 'learning_rate': 0.0002274889306004856}. Best is trial 2 with value: 0.8489999771118164.\n"
          ]
        },
        {
          "metadata": {
            "tags": null
          },
          "name": "stdout",
          "output_type": "stream",
          "text": [
            "Trial 5 started with hyperparameters: num_layers=5, filters=[33, 66, 69, 125, 40], kernel_size=3, l1=0.0003826876071150044, l2=3.4038370488866136e-06, dense_units=114, dropout_rate=0.125523948781631, learning_rate=4.5579350820123506e-05\n",
            "\u001b[1m50/50\u001b[0m \u001b[32m━━━━━━━━━━━━━━━━━━━━\u001b[0m\u001b[37m\u001b[0m \u001b[1m15s\u001b[0m 128ms/step - accuracy: 0.5100 - loss: 2.9426 - val_accuracy: 0.5200 - val_loss: 2.8409\n",
            "\u001b[1m50/50\u001b[0m \u001b[32m━━━━━━━━━━━━━━━━━━━━\u001b[0m\u001b[37m\u001b[0m \u001b[1m3s\u001b[0m 60ms/step - accuracy: 0.5290 - loss: 2.8081 - val_accuracy: 0.6725 - val_loss: 2.7093\n",
            "\u001b[1m50/50\u001b[0m \u001b[32m━━━━━━━━━━━━━━━━━━━━\u001b[0m\u001b[37m\u001b[0m \u001b[1m3s\u001b[0m 59ms/step - accuracy: 0.5335 - loss: 2.6776 - val_accuracy: 0.5913 - val_loss: 2.5816\n",
            "\u001b[1m50/50\u001b[0m \u001b[32m━━━━━━━━━━━━━━━━━━━━\u001b[0m\u001b[37m\u001b[0m \u001b[1m3s\u001b[0m 59ms/step - accuracy: 0.5474 - loss: 2.5516 - val_accuracy: 0.5038 - val_loss: 2.4595\n",
            "\u001b[1m50/50\u001b[0m \u001b[32m━━━━━━━━━━━━━━━━━━━━\u001b[0m\u001b[37m\u001b[0m \u001b[1m3s\u001b[0m 60ms/step - accuracy: 0.5650 - loss: 2.4293 - val_accuracy: 0.5088 - val_loss: 2.3400\n",
            "\u001b[1m50/50\u001b[0m \u001b[32m━━━━━━━━━━━━━━━━━━━━\u001b[0m\u001b[37m\u001b[0m \u001b[1m3s\u001b[0m 60ms/step - accuracy: 0.5744 - loss: 2.3114 - val_accuracy: 0.4950 - val_loss: 2.2277\n",
            "\u001b[1m50/50\u001b[0m \u001b[32m━━━━━━━━━━━━━━━━━━━━\u001b[0m\u001b[37m\u001b[0m \u001b[1m3s\u001b[0m 60ms/step - accuracy: 0.5377 - loss: 2.1999 - val_accuracy: 0.5337 - val_loss: 2.1150\n"
          ]
        },
        {
          "metadata": {
            "tags": null
          },
          "name": "stderr",
          "output_type": "stream",
          "text": [
            "[I 2024-08-15 18:35:33,930] Trial 5 pruned. \n"
          ]
        },
        {
          "metadata": {
            "tags": null
          },
          "name": "stdout",
          "output_type": "stream",
          "text": [
            "Trial 6 started with hyperparameters: num_layers=5, filters=[46, 44, 95, 104, 116], kernel_size=2, l1=0.00010853425576346056, l2=5.9963408531407666e-05, dense_units=172, dropout_rate=0.2684721262529166, learning_rate=6.561911405365034e-05\n",
            "\u001b[1m50/50\u001b[0m \u001b[32m━━━━━━━━━━━━━━━━━━━━\u001b[0m\u001b[37m\u001b[0m \u001b[1m13s\u001b[0m 115ms/step - accuracy: 0.5044 - loss: 1.2604 - val_accuracy: 0.4875 - val_loss: 1.2383\n",
            "\u001b[1m50/50\u001b[0m \u001b[32m━━━━━━━━━━━━━━━━━━━━\u001b[0m\u001b[37m\u001b[0m \u001b[1m3s\u001b[0m 54ms/step - accuracy: 0.5218 - loss: 1.2315 - val_accuracy: 0.4900 - val_loss: 1.2104\n",
            "\u001b[1m50/50\u001b[0m \u001b[32m━━━━━━━━━━━━━━━━━━━━\u001b[0m\u001b[37m\u001b[0m \u001b[1m3s\u001b[0m 54ms/step - accuracy: 0.5452 - loss: 1.2022 - val_accuracy: 0.4725 - val_loss: 1.1904\n",
            "\u001b[1m50/50\u001b[0m \u001b[32m━━━━━━━━━━━━━━━━━━━━\u001b[0m\u001b[37m\u001b[0m \u001b[1m3s\u001b[0m 54ms/step - accuracy: 0.5262 - loss: 1.1794 - val_accuracy: 0.6787 - val_loss: 1.1530\n",
            "\u001b[1m50/50\u001b[0m \u001b[32m━━━━━━━━━━━━━━━━━━━━\u001b[0m\u001b[37m\u001b[0m \u001b[1m3s\u001b[0m 54ms/step - accuracy: 0.6059 - loss: 1.1440 - val_accuracy: 0.6775 - val_loss: 1.1171\n",
            "\u001b[1m50/50\u001b[0m \u001b[32m━━━━━━━━━━━━━━━━━━━━\u001b[0m\u001b[37m\u001b[0m \u001b[1m3s\u001b[0m 54ms/step - accuracy: 0.6519 - loss: 1.1069 - val_accuracy: 0.5000 - val_loss: 1.0854\n",
            "\u001b[1m50/50\u001b[0m \u001b[32m━━━━━━━━━━━━━━━━━━━━\u001b[0m\u001b[37m\u001b[0m \u001b[1m3s\u001b[0m 54ms/step - accuracy: 0.6625 - loss: 1.0436 - val_accuracy: 0.7325 - val_loss: 0.9724\n"
          ]
        },
        {
          "metadata": {
            "tags": null
          },
          "name": "stderr",
          "output_type": "stream",
          "text": [
            "[I 2024-08-15 18:46:10,156] Trial 6 pruned. \n"
          ]
        },
        {
          "metadata": {
            "tags": null
          },
          "name": "stdout",
          "output_type": "stream",
          "text": [
            "Trial 7 started with hyperparameters: num_layers=6, filters=[44, 54, 45, 77, 72, 108], kernel_size=2, l1=2.1776942846522106e-06, l2=0.00016894807886129757, dense_units=85, dropout_rate=0.2086476625759769, learning_rate=1.045254869668482e-05\n",
            "\u001b[1m49/50\u001b[0m \u001b[32m━━━━━━━━━━━━━━━━━━━\u001b[0m\u001b[37m━\u001b[0m \u001b[1m0s\u001b[0m 45ms/step - accuracy: 0.5025 - loss: 0.7577"
          ]
        },
        {
          "metadata": {
            "tags": null
          },
          "name": "stderr",
          "output_type": "stream",
          "text": [
            "[I 2024-08-15 18:47:50,970] Trial 7 pruned. Trial was pruned at epoch 0.\n"
          ]
        },
        {
          "metadata": {
            "tags": null
          },
          "name": "stdout",
          "output_type": "stream",
          "text": [
            "Trial 8 started with hyperparameters: num_layers=3, filters=[62, 56, 40], kernel_size=2, l1=0.00030590868009483773, l2=2.8297812219943013e-05, dense_units=112, dropout_rate=0.4278599542644075, learning_rate=0.0003570671433712685\n",
            "\u001b[1m50/50\u001b[0m \u001b[32m━━━━━━━━━━━━━━━━━━━━\u001b[0m\u001b[37m\u001b[0m \u001b[1m13s\u001b[0m 146ms/step - accuracy: 0.5066 - loss: 1.1104 - val_accuracy: 0.4837 - val_loss: 1.0327\n",
            "\u001b[1m50/50\u001b[0m \u001b[32m━━━━━━━━━━━━━━━━━━━━\u001b[0m\u001b[37m\u001b[0m \u001b[1m3s\u001b[0m 64ms/step - accuracy: 0.5657 - loss: 1.0072 - val_accuracy: 0.7937 - val_loss: 0.9347\n",
            "\u001b[1m50/50\u001b[0m \u001b[32m━━━━━━━━━━━━━━━━━━━━\u001b[0m\u001b[37m\u001b[0m \u001b[1m3s\u001b[0m 64ms/step - accuracy: 0.6890 - loss: 0.9039 - val_accuracy: 0.7937 - val_loss: 0.7508\n",
            "\u001b[1m50/50\u001b[0m \u001b[32m━━━━━━━━━━━━━━━━━━━━\u001b[0m\u001b[37m\u001b[0m \u001b[1m3s\u001b[0m 64ms/step - accuracy: 0.7661 - loss: 0.7429 - val_accuracy: 0.7812 - val_loss: 0.6575\n",
            "\u001b[1m50/50\u001b[0m \u001b[32m━━━━━━━━━━━━━━━━━━━━\u001b[0m\u001b[37m\u001b[0m \u001b[1m3s\u001b[0m 63ms/step - accuracy: 0.7921 - loss: 0.6596 - val_accuracy: 0.7788 - val_loss: 0.7202\n",
            "\u001b[1m50/50\u001b[0m \u001b[32m━━━━━━━━━━━━━━━━━━━━\u001b[0m\u001b[37m\u001b[0m \u001b[1m3s\u001b[0m 63ms/step - accuracy: 0.7942 - loss: 0.6390 - val_accuracy: 0.8075 - val_loss: 0.5774\n",
            "\u001b[1m50/50\u001b[0m \u001b[32m━━━━━━━━━━━━━━━━━━━━\u001b[0m\u001b[37m\u001b[0m \u001b[1m3s\u001b[0m 63ms/step - accuracy: 0.8021 - loss: 0.6061 - val_accuracy: 0.8213 - val_loss: 0.5639\n"
          ]
        },
        {
          "metadata": {
            "tags": null
          },
          "name": "stderr",
          "output_type": "stream",
          "text": [
            "[I 2024-08-15 18:58:39,337] Trial 8 pruned. \n"
          ]
        },
        {
          "metadata": {
            "tags": null
          },
          "name": "stdout",
          "output_type": "stream",
          "text": [
            "Trial 9 started with hyperparameters: num_layers=3, filters=[46, 72, 67], kernel_size=3, l1=8.699119135048395e-05, l2=0.0006389551887668505, dense_units=92, dropout_rate=0.21365765979978046, learning_rate=0.00016857513331553083\n",
            "\u001b[1m50/50\u001b[0m \u001b[32m━━━━━━━━━━━━━━━━━━━━\u001b[0m\u001b[37m\u001b[0m \u001b[1m0s\u001b[0m 58ms/step - accuracy: 0.4917 - loss: 1.0066"
          ]
        },
        {
          "metadata": {
            "tags": null
          },
          "name": "stderr",
          "output_type": "stream",
          "text": [
            "[I 2024-08-15 19:00:22,413] Trial 9 pruned. Trial was pruned at epoch 0.\n"
          ]
        },
        {
          "metadata": {
            "tags": null
          },
          "name": "stdout",
          "output_type": "stream",
          "text": [
            "Trial 10 started with hyperparameters: num_layers=4, filters=[92, 97, 61, 93], kernel_size=3, l1=1.8473128446295008e-06, l2=0.005310858044010264, dense_units=179, dropout_rate=0.364560165819012, learning_rate=0.0009995153169719496\n",
            "\u001b[1m50/50\u001b[0m \u001b[32m━━━━━━━━━━━━━━━━━━━━\u001b[0m\u001b[37m\u001b[0m \u001b[1m0s\u001b[0m 97ms/step - accuracy: 0.4937 - loss: 1.6157"
          ]
        },
        {
          "metadata": {
            "tags": null
          },
          "name": "stderr",
          "output_type": "stream",
          "text": [
            "[I 2024-08-15 19:02:12,929] Trial 10 pruned. Trial was pruned at epoch 0.\n"
          ]
        },
        {
          "metadata": {
            "tags": null
          },
          "name": "stdout",
          "output_type": "stream",
          "text": [
            "Trial 11 started with hyperparameters: num_layers=4, filters=[76, 88, 122, 50], kernel_size=3, l1=1.8689930682370356e-05, l2=3.1892729270355917e-06, dense_units=206, dropout_rate=0.35448394645856685, learning_rate=0.0001823102747580894\n",
            "\u001b[1m50/50\u001b[0m \u001b[32m━━━━━━━━━━━━━━━━━━━━\u001b[0m\u001b[37m\u001b[0m \u001b[1m0s\u001b[0m 86ms/step - accuracy: 0.4936 - loss: 0.8130"
          ]
        },
        {
          "metadata": {
            "tags": null
          },
          "name": "stderr",
          "output_type": "stream",
          "text": [
            "[I 2024-08-15 19:04:01,965] Trial 11 pruned. Trial was pruned at epoch 0.\n"
          ]
        },
        {
          "metadata": {
            "tags": null
          },
          "name": "stdout",
          "output_type": "stream",
          "text": [
            "Trial 12 started with hyperparameters: num_layers=5, filters=[103, 123, 128, 61, 32], kernel_size=3, l1=1.6753667889931664e-05, l2=1.1973024359675466e-05, dense_units=134, dropout_rate=0.37176648450697103, learning_rate=0.00042339061854396236\n",
            "\u001b[1m50/50\u001b[0m \u001b[32m━━━━━━━━━━━━━━━━━━━━\u001b[0m\u001b[37m\u001b[0m \u001b[1m0s\u001b[0m 118ms/step - accuracy: 0.5213 - loss: 0.8507"
          ]
        },
        {
          "metadata": {
            "tags": null
          },
          "name": "stderr",
          "output_type": "stream",
          "text": [
            "[I 2024-08-15 19:05:56,767] Trial 12 pruned. Trial was pruned at epoch 0.\n"
          ]
        },
        {
          "metadata": {
            "tags": null
          },
          "name": "stdout",
          "output_type": "stream",
          "text": [
            "Trial 13 started with hyperparameters: num_layers=4, filters=[76, 81, 110, 98], kernel_size=3, l1=3.2326040436271886e-05, l2=1.213669789329405e-06, dense_units=210, dropout_rate=0.13654600247565335, learning_rate=0.00018760169672404182\n",
            "\u001b[1m50/50\u001b[0m \u001b[32m━━━━━━━━━━━━━━━━━━━━\u001b[0m\u001b[37m\u001b[0m \u001b[1m0s\u001b[0m 86ms/step - accuracy: 0.5064 - loss: 0.9207"
          ]
        },
        {
          "metadata": {
            "tags": null
          },
          "name": "stderr",
          "output_type": "stream",
          "text": [
            "[I 2024-08-15 19:07:42,444] Trial 13 pruned. Trial was pruned at epoch 0.\n"
          ]
        },
        {
          "metadata": {
            "tags": null
          },
          "name": "stdout",
          "output_type": "stream",
          "text": [
            "Trial 14 started with hyperparameters: num_layers=5, filters=[126, 32, 85, 61, 61], kernel_size=3, l1=8.645863806952075e-06, l2=9.145190046987282e-06, dense_units=148, dropout_rate=0.20993751248797493, learning_rate=3.2438824184567074e-05\n",
            "\u001b[1m50/50\u001b[0m \u001b[32m━━━━━━━━━━━━━━━━━━━━\u001b[0m\u001b[37m\u001b[0m \u001b[1m0s\u001b[0m 94ms/step - accuracy: 0.4969 - loss: 0.7383"
          ]
        },
        {
          "metadata": {
            "tags": null
          },
          "name": "stderr",
          "output_type": "stream",
          "text": [
            "[I 2024-08-15 19:09:30,315] Trial 14 pruned. Trial was pruned at epoch 0.\n"
          ]
        },
        {
          "metadata": {
            "tags": null
          },
          "name": "stdout",
          "output_type": "stream",
          "text": [
            "Trial 15 started with hyperparameters: num_layers=3, filters=[62, 93, 56], kernel_size=3, l1=1.0208894806632315e-06, l2=1.2982998622220015e-05, dense_units=204, dropout_rate=0.4229218766031698, learning_rate=0.00011471460721235224\n",
            "\u001b[1m50/50\u001b[0m \u001b[32m━━━━━━━━━━━━━━━━━━━━\u001b[0m\u001b[37m\u001b[0m \u001b[1m0s\u001b[0m 76ms/step - accuracy: 0.5299 - loss: 0.7044"
          ]
        },
        {
          "metadata": {
            "tags": null
          },
          "name": "stderr",
          "output_type": "stream",
          "text": [
            "[I 2024-08-15 19:11:12,051] Trial 15 pruned. Trial was pruned at epoch 0.\n"
          ]
        },
        {
          "metadata": {
            "tags": null
          },
          "name": "stdout",
          "output_type": "stream",
          "text": [
            "Trial 16 started with hyperparameters: num_layers=6, filters=[108, 74, 110, 33, 96, 80], kernel_size=3, l1=6.46041338737946e-05, l2=0.00011496280325146934, dense_units=130, dropout_rate=0.3201576792023536, learning_rate=0.000575646703256723\n",
            "\u001b[1m50/50\u001b[0m \u001b[32m━━━━━━━━━━━━━━━━━━━━\u001b[0m\u001b[37m\u001b[0m \u001b[1m0s\u001b[0m 104ms/step - accuracy: 0.5020 - loss: 1.2102"
          ]
        },
        {
          "metadata": {
            "tags": null
          },
          "name": "stderr",
          "output_type": "stream",
          "text": [
            "[I 2024-08-15 19:13:01,483] Trial 16 pruned. Trial was pruned at epoch 0.\n"
          ]
        },
        {
          "metadata": {
            "tags": null
          },
          "name": "stdout",
          "output_type": "stream",
          "text": [
            "Trial 17 started with hyperparameters: num_layers=5, filters=[89, 103, 96, 108, 54], kernel_size=3, l1=0.0006271191732655131, l2=1.2246993107290401e-06, dense_units=231, dropout_rate=0.17350569114312087, learning_rate=0.00029646503885024836\n",
            "\u001b[1m50/50\u001b[0m \u001b[32m━━━━━━━━━━━━━━━━━━━━\u001b[0m\u001b[37m\u001b[0m \u001b[1m24s\u001b[0m 233ms/step - accuracy: 0.5051 - loss: 5.9462 - val_accuracy: 0.4825 - val_loss: 4.1631\n",
            "\u001b[1m50/50\u001b[0m \u001b[32m━━━━━━━━━━━━━━━━━━━━\u001b[0m\u001b[37m\u001b[0m \u001b[1m6s\u001b[0m 111ms/step - accuracy: 0.5173 - loss: 3.6636 - val_accuracy: 0.5200 - val_loss: 2.3430\n",
            "\u001b[1m50/50\u001b[0m \u001b[32m━━━━━━━━━━━━━━━━━━━━\u001b[0m\u001b[37m\u001b[0m \u001b[1m6s\u001b[0m 111ms/step - accuracy: 0.5184 - loss: 2.0105 - val_accuracy: 0.4725 - val_loss: 1.2011\n",
            "\u001b[1m50/50\u001b[0m \u001b[32m━━━━━━━━━━━━━━━━━━━━\u001b[0m\u001b[37m\u001b[0m \u001b[1m6s\u001b[0m 110ms/step - accuracy: 0.4956 - loss: 1.0432 - val_accuracy: 0.5063 - val_loss: 0.7609\n",
            "\u001b[1m50/50\u001b[0m \u001b[32m━━━━━━━━━━━━━━━━━━━━\u001b[0m\u001b[37m\u001b[0m \u001b[1m6s\u001b[0m 110ms/step - accuracy: 0.5098 - loss: 0.7398 - val_accuracy: 0.4913 - val_loss: 0.7107\n",
            "\u001b[1m50/50\u001b[0m \u001b[32m━━━━━━━━━━━━━━━━━━━━\u001b[0m\u001b[37m\u001b[0m \u001b[1m6s\u001b[0m 110ms/step - accuracy: 0.5139 - loss: 0.7083 - val_accuracy: 0.5050 - val_loss: 0.7042\n",
            "\u001b[1m50/50\u001b[0m \u001b[32m━━━━━━━━━━━━━━━━━━━━\u001b[0m\u001b[37m\u001b[0m \u001b[1m5s\u001b[0m 110ms/step - accuracy: 0.4804 - loss: 0.7037 - val_accuracy: 0.4663 - val_loss: 0.7025\n"
          ]
        },
        {
          "metadata": {
            "tags": null
          },
          "name": "stderr",
          "output_type": "stream",
          "text": [
            "[I 2024-08-15 19:24:04,120] Trial 17 pruned. \n"
          ]
        },
        {
          "metadata": {
            "tags": null
          },
          "name": "stdout",
          "output_type": "stream",
          "text": [
            "Trial 18 started with hyperparameters: num_layers=4, filters=[60, 82, 74, 88], kernel_size=3, l1=4.8710860580800114e-06, l2=4.195327270132687e-06, dense_units=158, dropout_rate=0.30017656506766643, learning_rate=0.0006620290681909907\n",
            "\u001b[1m50/50\u001b[0m \u001b[32m━━━━━━━━━━━━━━━━━━━━\u001b[0m\u001b[37m\u001b[0m \u001b[1m0s\u001b[0m 73ms/step - accuracy: 0.5120 - loss: 0.7279"
          ]
        },
        {
          "metadata": {
            "tags": null
          },
          "name": "stderr",
          "output_type": "stream",
          "text": [
            "[I 2024-08-15 19:25:48,986] Trial 18 pruned. Trial was pruned at epoch 0.\n"
          ]
        },
        {
          "metadata": {
            "tags": null
          },
          "name": "stdout",
          "output_type": "stream",
          "text": [
            "Trial 19 started with hyperparameters: num_layers=3, filters=[113, 70, 54], kernel_size=3, l1=0.0012661228073922947, l2=2.3966518890934937e-05, dense_units=188, dropout_rate=0.2418295666445868, learning_rate=0.00026938970457641005\n",
            "\u001b[1m50/50\u001b[0m \u001b[32m━━━━━━━━━━━━━━━━━━━━\u001b[0m\u001b[37m\u001b[0m \u001b[1m20s\u001b[0m 202ms/step - accuracy: 0.5164 - loss: 4.7003 - val_accuracy: 0.4825 - val_loss: 3.6726\n",
            "\u001b[1m50/50\u001b[0m \u001b[32m━━━━━━━━━━━━━━━━━━━━\u001b[0m\u001b[37m\u001b[0m \u001b[1m6s\u001b[0m 113ms/step - accuracy: 0.5321 - loss: 3.3640 - val_accuracy: 0.7912 - val_loss: 2.5145\n",
            "\u001b[1m50/50\u001b[0m \u001b[32m━━━━━━━━━━━━━━━━━━━━\u001b[0m\u001b[37m\u001b[0m \u001b[1m6s\u001b[0m 113ms/step - accuracy: 0.6770 - loss: 2.2698 - val_accuracy: 0.7600 - val_loss: 1.6077\n",
            "\u001b[1m50/50\u001b[0m \u001b[32m━━━━━━━━━━━━━━━━━━━━\u001b[0m\u001b[37m\u001b[0m \u001b[1m6s\u001b[0m 114ms/step - accuracy: 0.7718 - loss: 1.4742 - val_accuracy: 0.8012 - val_loss: 1.1209\n",
            "\u001b[1m50/50\u001b[0m \u001b[32m━━━━━━━━━━━━━━━━━━━━\u001b[0m\u001b[37m\u001b[0m \u001b[1m6s\u001b[0m 113ms/step - accuracy: 0.8017 - loss: 1.0547 - val_accuracy: 0.8175 - val_loss: 0.9132\n",
            "\u001b[1m50/50\u001b[0m \u001b[32m━━━━━━━━━━━━━━━━━━━━\u001b[0m\u001b[37m\u001b[0m \u001b[1m6s\u001b[0m 113ms/step - accuracy: 0.8061 - loss: 0.8716 - val_accuracy: 0.8125 - val_loss: 0.7978\n",
            "\u001b[1m50/50\u001b[0m \u001b[32m━━━━━━━━━━━━━━━━━━━━\u001b[0m\u001b[37m\u001b[0m \u001b[1m6s\u001b[0m 113ms/step - accuracy: 0.8064 - loss: 0.7895 - val_accuracy: 0.8087 - val_loss: 0.7715\n"
          ]
        },
        {
          "metadata": {
            "tags": null
          },
          "name": "stderr",
          "output_type": "stream",
          "text": [
            "[I 2024-08-15 19:36:48,700] Trial 19 pruned. \n"
          ]
        },
        {
          "metadata": {
            "tags": null
          },
          "name": "stdout",
          "output_type": "stream",
          "text": [
            "Trial 20 started with hyperparameters: num_layers=6, filters=[88, 41, 107, 69, 51, 90], kernel_size=2, l1=0.00015633026304972102, l2=0.00023250977353335756, dense_units=67, dropout_rate=0.4202987928743259, learning_rate=2.4765996571576185e-05\n",
            "\u001b[1m50/50\u001b[0m \u001b[32m━━━━━━━━━━━━━━━━━━━━\u001b[0m\u001b[37m\u001b[0m \u001b[1m17s\u001b[0m 166ms/step - accuracy: 0.4889 - loss: 1.5138 - val_accuracy: 0.4825 - val_loss: 1.5013\n",
            "\u001b[1m50/50\u001b[0m \u001b[32m━━━━━━━━━━━━━━━━━━━━\u001b[0m\u001b[37m\u001b[0m \u001b[1m4s\u001b[0m 84ms/step - accuracy: 0.5139 - loss: 1.4966 - val_accuracy: 0.4800 - val_loss: 1.4852\n",
            "\u001b[1m50/50\u001b[0m \u001b[32m━━━━━━━━━━━━━━━━━━━━\u001b[0m\u001b[37m\u001b[0m \u001b[1m4s\u001b[0m 84ms/step - accuracy: 0.5106 - loss: 1.4803 - val_accuracy: 0.5663 - val_loss: 1.4685\n",
            "\u001b[1m50/50\u001b[0m \u001b[32m━━━━━━━━━━━━━━━━━━━━\u001b[0m\u001b[37m\u001b[0m \u001b[1m4s\u001b[0m 84ms/step - accuracy: 0.4975 - loss: 1.4650 - val_accuracy: 0.6037 - val_loss: 1.4525\n",
            "\u001b[1m50/50\u001b[0m \u001b[32m━━━━━━━━━━━━━━━━━━━━\u001b[0m\u001b[37m\u001b[0m \u001b[1m4s\u001b[0m 84ms/step - accuracy: 0.4948 - loss: 1.4491 - val_accuracy: 0.6000 - val_loss: 1.4368\n",
            "\u001b[1m50/50\u001b[0m \u001b[32m━━━━━━━━━━━━━━━━━━━━\u001b[0m\u001b[37m\u001b[0m \u001b[1m4s\u001b[0m 84ms/step - accuracy: 0.5136 - loss: 1.4331 - val_accuracy: 0.5350 - val_loss: 1.4212\n",
            "\u001b[1m50/50\u001b[0m \u001b[32m━━━━━━━━━━━━━━━━━━━━\u001b[0m\u001b[37m\u001b[0m \u001b[1m4s\u001b[0m 84ms/step - accuracy: 0.4814 - loss: 1.4180 - val_accuracy: 0.4663 - val_loss: 1.4064\n"
          ]
        },
        {
          "metadata": {
            "tags": null
          },
          "name": "stderr",
          "output_type": "stream",
          "text": [
            "[I 2024-08-15 19:47:36,927] Trial 20 pruned. \n"
          ]
        },
        {
          "metadata": {
            "tags": null
          },
          "name": "stdout",
          "output_type": "stream",
          "text": [
            "Trial 21 started with hyperparameters: num_layers=4, filters=[121, 64, 32, 83], kernel_size=2, l1=0.00791869968865425, l2=0.0004524565642141639, dense_units=251, dropout_rate=0.2607883271974111, learning_rate=1.2108079063529068e-05\n",
            "\u001b[1m50/50\u001b[0m \u001b[32m━━━━━━━━━━━━━━━━━━━━\u001b[0m\u001b[37m\u001b[0m \u001b[1m17s\u001b[0m 168ms/step - accuracy: 0.5129 - loss: 20.7942 - val_accuracy: 0.5288 - val_loss: 20.6130\n",
            "\u001b[1m50/50\u001b[0m \u001b[32m━━━━━━━━━━━━━━━━━━━━\u001b[0m\u001b[37m\u001b[0m \u001b[1m5s\u001b[0m 101ms/step - accuracy: 0.5203 - loss: 20.5544 - val_accuracy: 0.6125 - val_loss: 20.3731\n",
            "\u001b[1m50/50\u001b[0m \u001b[32m━━━━━━━━━━━━━━━━━━━━\u001b[0m\u001b[37m\u001b[0m \u001b[1m5s\u001b[0m 101ms/step - accuracy: 0.5391 - loss: 20.3131 - val_accuracy: 0.5288 - val_loss: 20.1336\n",
            "\u001b[1m50/50\u001b[0m \u001b[32m━━━━━━━━━━━━━━━━━━━━\u001b[0m\u001b[37m\u001b[0m \u001b[1m5s\u001b[0m 101ms/step - accuracy: 0.5318 - loss: 20.0760 - val_accuracy: 0.5100 - val_loss: 19.8977\n",
            "\u001b[1m50/50\u001b[0m \u001b[32m━━━━━━━━━━━━━━━━━━━━\u001b[0m\u001b[37m\u001b[0m \u001b[1m5s\u001b[0m 101ms/step - accuracy: 0.5538 - loss: 19.8392 - val_accuracy: 0.5088 - val_loss: 19.6617\n",
            "\u001b[1m50/50\u001b[0m \u001b[32m━━━━━━━━━━━━━━━━━━━━\u001b[0m\u001b[37m\u001b[0m \u001b[1m5s\u001b[0m 101ms/step - accuracy: 0.5263 - loss: 19.6041 - val_accuracy: 0.4950 - val_loss: 19.4288\n",
            "\u001b[1m50/50\u001b[0m \u001b[32m━━━━━━━━━━━━━━━━━━━━\u001b[0m\u001b[37m\u001b[0m \u001b[1m5s\u001b[0m 101ms/step - accuracy: 0.5239 - loss: 19.3718 - val_accuracy: 0.5337 - val_loss: 19.1927\n",
            "\u001b[1m50/50\u001b[0m \u001b[32m━━━━━━━━━━━━━━━━━━━━\u001b[0m\u001b[37m\u001b[0m \u001b[1m5s\u001b[0m 101ms/step - accuracy: 0.5596 - loss: 19.1381 - val_accuracy: 0.5150 - val_loss: 18.9641\n",
            "\u001b[1m50/50\u001b[0m \u001b[32m━━━━━━━━━━━━━━━━━━━━\u001b[0m\u001b[37m\u001b[0m \u001b[1m5s\u001b[0m 101ms/step - accuracy: 0.5452 - loss: 18.9070 - val_accuracy: 0.6737 - val_loss: 18.7333\n",
            "\u001b[1m125/125\u001b[0m \u001b[32m━━━━━━━━━━━━━━━━━━━━\u001b[0m\u001b[37m\u001b[0m \u001b[1m1s\u001b[0m 11ms/step - accuracy: 0.6635 - loss: 18.7335\n"
          ]
        },
        {
          "metadata": {
            "tags": null
          },
          "name": "stderr",
          "output_type": "stream",
          "text": [
            "[I 2024-08-15 20:03:01,444] Trial 21 finished with value: 0.656000018119812 and parameters: {'num_layers': 4, 'filters_0': 121, 'filters_1': 64, 'filters_2': 32, 'filters_3': 83, 'kernel_size': 2, 'l1': 0.00791869968865425, 'l2': 0.0004524565642141639, 'dense_units': 251, 'dropout_rate': 0.2607883271974111, 'learning_rate': 1.2108079063529068e-05}. Best is trial 2 with value: 0.8489999771118164.\n"
          ]
        },
        {
          "metadata": {
            "tags": null
          },
          "name": "stdout",
          "output_type": "stream",
          "text": [
            "Trial 22 started with hyperparameters: num_layers=4, filters=[118, 49, 46, 49], kernel_size=2, l1=3.818214179488352e-05, l2=0.0023744987775793317, dense_units=230, dropout_rate=0.31779843406604513, learning_rate=0.00010103225599334773\n",
            "\u001b[1m50/50\u001b[0m \u001b[32m━━━━━━━━━━━━━━━━━━━━\u001b[0m\u001b[37m\u001b[0m \u001b[1m0s\u001b[0m 90ms/step - accuracy: 0.5201 - loss: 1.1606"
          ]
        },
        {
          "metadata": {
            "tags": null
          },
          "name": "stderr",
          "output_type": "stream",
          "text": [
            "[I 2024-08-15 20:04:42,529] Trial 22 pruned. Trial was pruned at epoch 0.\n"
          ]
        },
        {
          "metadata": {
            "tags": null
          },
          "name": "stdout",
          "output_type": "stream",
          "text": [
            "Trial 23 started with hyperparameters: num_layers=4, filters=[98, 79, 76, 112], kernel_size=2, l1=0.009215728434978135, l2=0.00037429057275382597, dense_units=250, dropout_rate=0.28403963137868943, learning_rate=1.730228125417594e-05\n",
            "\u001b[1m50/50\u001b[0m \u001b[32m━━━━━━━━━━━━━━━━━━━━\u001b[0m\u001b[37m\u001b[0m \u001b[1m20s\u001b[0m 179ms/step - accuracy: 0.5061 - loss: 38.8972 - val_accuracy: 0.5713 - val_loss: 38.3622\n",
            "\u001b[1m50/50\u001b[0m \u001b[32m━━━━━━━━━━━━━━━━━━━━\u001b[0m\u001b[37m\u001b[0m \u001b[1m5s\u001b[0m 101ms/step - accuracy: 0.5249 - loss: 38.1852 - val_accuracy: 0.5462 - val_loss: 37.6571\n",
            "\u001b[1m50/50\u001b[0m \u001b[32m━━━━━━━━━━━━━━━━━━━━\u001b[0m\u001b[37m\u001b[0m \u001b[1m5s\u001b[0m 101ms/step - accuracy: 0.5476 - loss: 37.4814 - val_accuracy: 0.6263 - val_loss: 36.9589\n",
            "\u001b[1m50/50\u001b[0m \u001b[32m━━━━━━━━━━━━━━━━━━━━\u001b[0m\u001b[37m\u001b[0m \u001b[1m5s\u001b[0m 101ms/step - accuracy: 0.5322 - loss: 36.7867 - val_accuracy: 0.6675 - val_loss: 36.2674\n",
            "\u001b[1m50/50\u001b[0m \u001b[32m━━━━━━━━━━━━━━━━━━━━\u001b[0m\u001b[37m\u001b[0m \u001b[1m5s\u001b[0m 101ms/step - accuracy: 0.5850 - loss: 36.0953 - val_accuracy: 0.5088 - val_loss: 35.5830\n",
            "\u001b[1m50/50\u001b[0m \u001b[32m━━━━━━━━━━━━━━━━━━━━\u001b[0m\u001b[37m\u001b[0m \u001b[1m5s\u001b[0m 101ms/step - accuracy: 0.5613 - loss: 35.4142 - val_accuracy: 0.4950 - val_loss: 34.9093\n",
            "\u001b[1m50/50\u001b[0m \u001b[32m━━━━━━━━━━━━━━━━━━━━\u001b[0m\u001b[37m\u001b[0m \u001b[1m5s\u001b[0m 101ms/step - accuracy: 0.5351 - loss: 34.7412 - val_accuracy: 0.5337 - val_loss: 34.2351\n",
            "\u001b[1m50/50\u001b[0m \u001b[32m━━━━━━━━━━━━━━━━━━━━\u001b[0m\u001b[37m\u001b[0m \u001b[1m5s\u001b[0m 101ms/step - accuracy: 0.5543 - loss: 34.0734 - val_accuracy: 0.4863 - val_loss: 33.5794\n",
            "\u001b[1m50/50\u001b[0m \u001b[32m━━━━━━━━━━━━━━━━━━━━\u001b[0m\u001b[37m\u001b[0m \u001b[1m5s\u001b[0m 101ms/step - accuracy: 0.5396 - loss: 33.4132 - val_accuracy: 0.5962 - val_loss: 32.9214\n",
            "\u001b[1m125/125\u001b[0m \u001b[32m━━━━━━━━━━━━━━━━━━━━\u001b[0m\u001b[37m\u001b[0m \u001b[1m1s\u001b[0m 11ms/step - accuracy: 0.6049 - loss: 32.9221\n"
          ]
        },
        {
          "metadata": {
            "tags": null
          },
          "name": "stderr",
          "output_type": "stream",
          "text": [
            "[I 2024-08-15 20:20:22,178] Trial 23 finished with value: 0.6014999747276306 and parameters: {'num_layers': 4, 'filters_0': 98, 'filters_1': 79, 'filters_2': 76, 'filters_3': 112, 'kernel_size': 2, 'l1': 0.009215728434978135, 'l2': 0.00037429057275382597, 'dense_units': 250, 'dropout_rate': 0.28403963137868943, 'learning_rate': 1.730228125417594e-05}. Best is trial 2 with value: 0.8489999771118164.\n"
          ]
        },
        {
          "metadata": {
            "tags": null
          },
          "name": "stdout",
          "output_type": "stream",
          "text": [
            "Trial 24 started with hyperparameters: num_layers=5, filters=[128, 64, 34, 76, 91], kernel_size=2, l1=0.001828556622088585, l2=6.318677246811508e-05, dense_units=215, dropout_rate=0.17839402027625523, learning_rate=7.24355865263655e-05\n",
            "\u001b[1m50/50\u001b[0m \u001b[32m━━━━━━━━━━━━━━━━━━━━\u001b[0m\u001b[37m\u001b[0m \u001b[1m19s\u001b[0m 186ms/step - accuracy: 0.5067 - loss: 7.7418 - val_accuracy: 0.5175 - val_loss: 7.3562\n",
            "\u001b[1m50/50\u001b[0m \u001b[32m━━━━━━━━━━━━━━━━━━━━\u001b[0m\u001b[37m\u001b[0m \u001b[1m5s\u001b[0m 104ms/step - accuracy: 0.5052 - loss: 7.2321 - val_accuracy: 0.5200 - val_loss: 6.8615\n",
            "\u001b[1m50/50\u001b[0m \u001b[32m━━━━━━━━━━━━━━━━━━━━\u001b[0m\u001b[37m\u001b[0m \u001b[1m5s\u001b[0m 104ms/step - accuracy: 0.5174 - loss: 6.7421 - val_accuracy: 0.5387 - val_loss: 6.3880\n",
            "\u001b[1m50/50\u001b[0m \u001b[32m━━━━━━━━━━━━━━━━━━━━\u001b[0m\u001b[37m\u001b[0m \u001b[1m5s\u001b[0m 104ms/step - accuracy: 0.5322 - loss: 6.2738 - val_accuracy: 0.4950 - val_loss: 5.9351\n"
          ]
        },
        {
          "metadata": {
            "tags": null
          },
          "name": "stderr",
          "output_type": "stream",
          "text": [
            "[I 2024-08-15 20:26:45,371] Trial 24 pruned. \n"
          ]
        },
        {
          "metadata": {
            "tags": null
          },
          "name": "stdout",
          "output_type": "stream",
          "text": [
            "Trial 25 started with hyperparameters: num_layers=4, filters=[115, 84, 50, 47], kernel_size=3, l1=3.6846488093229495e-05, l2=0.001188745050392654, dense_units=230, dropout_rate=0.23950178238793157, learning_rate=6.0281231073095473e-05\n",
            "\u001b[1m50/50\u001b[0m \u001b[32m━━━━━━━━━━━━━━━━━━━━\u001b[0m\u001b[37m\u001b[0m \u001b[1m0s\u001b[0m 107ms/step - accuracy: 0.5059 - loss: 1.1112"
          ]
        },
        {
          "metadata": {
            "tags": null
          },
          "name": "stderr",
          "output_type": "stream",
          "text": [
            "[I 2024-08-15 20:28:35,764] Trial 25 pruned. Trial was pruned at epoch 0.\n"
          ]
        },
        {
          "metadata": {
            "tags": null
          },
          "name": "stdout",
          "output_type": "stream",
          "text": [
            "Trial 26 started with hyperparameters: num_layers=3, filters=[55, 75, 62], kernel_size=2, l1=4.918557208885916e-06, l2=0.007655834383289113, dense_units=146, dropout_rate=0.3367713063108462, learning_rate=3.478233642791295e-05\n",
            "\u001b[1m50/50\u001b[0m \u001b[32m━━━━━━━━━━━━━━━━━━━━\u001b[0m\u001b[37m\u001b[0m \u001b[1m0s\u001b[0m 59ms/step - accuracy: 0.5015 - loss: 1.7201"
          ]
        },
        {
          "metadata": {
            "tags": null
          },
          "name": "stderr",
          "output_type": "stream",
          "text": [
            "[I 2024-08-15 20:30:15,223] Trial 26 pruned. Trial was pruned at epoch 0.\n"
          ]
        },
        {
          "metadata": {
            "tags": null
          },
          "name": "stdout",
          "output_type": "stream",
          "text": [
            "Trial 27 started with hyperparameters: num_layers=5, filters=[70, 50, 89, 68, 65], kernel_size=3, l1=0.004056300283953868, l2=0.00010429887529713262, dense_units=254, dropout_rate=0.39399346368136073, learning_rate=0.00012971193794584514\n",
            "\u001b[1m50/50\u001b[0m \u001b[32m━━━━━━━━━━━━━━━━━━━━\u001b[0m\u001b[37m\u001b[0m \u001b[1m18s\u001b[0m 164ms/step - accuracy: 0.4958 - loss: 23.0234 - val_accuracy: 0.5175 - val_loss: 19.9504\n",
            "\u001b[1m50/50\u001b[0m \u001b[32m━━━━━━━━━━━━━━━━━━━━\u001b[0m\u001b[37m\u001b[0m \u001b[1m4s\u001b[0m 78ms/step - accuracy: 0.5153 - loss: 18.9897 - val_accuracy: 0.6325 - val_loss: 16.2102\n",
            "\u001b[1m50/50\u001b[0m \u001b[32m━━━━━━━━━━━━━━━━━━━━\u001b[0m\u001b[37m\u001b[0m \u001b[1m4s\u001b[0m 78ms/step - accuracy: 0.5525 - loss: 15.3490 - val_accuracy: 0.6850 - val_loss: 12.8743\n",
            "\u001b[1m50/50\u001b[0m \u001b[32m━━━━━━━━━━━━━━━━━━━━\u001b[0m\u001b[37m\u001b[0m \u001b[1m4s\u001b[0m 78ms/step - accuracy: 0.5462 - loss: 12.1149 - val_accuracy: 0.5350 - val_loss: 9.9438\n",
            "\u001b[1m50/50\u001b[0m \u001b[32m━━━━━━━━━━━━━━━━━━━━\u001b[0m\u001b[37m\u001b[0m \u001b[1m4s\u001b[0m 78ms/step - accuracy: 0.5427 - loss: 9.2853 - val_accuracy: 0.5088 - val_loss: 7.4186\n",
            "\u001b[1m50/50\u001b[0m \u001b[32m━━━━━━━━━━━━━━━━━━━━\u001b[0m\u001b[37m\u001b[0m \u001b[1m4s\u001b[0m 78ms/step - accuracy: 0.5079 - loss: 6.8615 - val_accuracy: 0.5050 - val_loss: 5.2995\n",
            "\u001b[1m50/50\u001b[0m \u001b[32m━━━━━━━━━━━━━━━━━━━━\u001b[0m\u001b[37m\u001b[0m \u001b[1m4s\u001b[0m 78ms/step - accuracy: 0.4809 - loss: 4.8441 - val_accuracy: 0.4663 - val_loss: 3.5873\n",
            "\u001b[1m50/50\u001b[0m \u001b[32m━━━━━━━━━━━━━━━━━━━━\u001b[0m\u001b[37m\u001b[0m \u001b[1m4s\u001b[0m 78ms/step - accuracy: 0.5052 - loss: 3.2328 - val_accuracy: 0.4787 - val_loss: 2.2800\n",
            "\u001b[1m50/50\u001b[0m \u001b[32m━━━━━━━━━━━━━━━━━━━━\u001b[0m\u001b[37m\u001b[0m \u001b[1m4s\u001b[0m 78ms/step - accuracy: 0.5073 - loss: 2.0272 - val_accuracy: 0.5025 - val_loss: 1.3792\n",
            "\u001b[1m125/125\u001b[0m \u001b[32m━━━━━━━━━━━━━━━━━━━━\u001b[0m\u001b[37m\u001b[0m \u001b[1m1s\u001b[0m 9ms/step - accuracy: 0.4971 - loss: 1.3792\n"
          ]
        },
        {
          "metadata": {
            "tags": null
          },
          "name": "stderr",
          "output_type": "stream",
          "text": [
            "[I 2024-08-15 20:45:33,304] Trial 27 finished with value: 0.5 and parameters: {'num_layers': 5, 'filters_0': 70, 'filters_1': 50, 'filters_2': 89, 'filters_3': 68, 'filters_4': 65, 'kernel_size': 3, 'l1': 0.004056300283953868, 'l2': 0.00010429887529713262, 'dense_units': 254, 'dropout_rate': 0.39399346368136073, 'learning_rate': 0.00012971193794584514}. Best is trial 2 with value: 0.8489999771118164.\n"
          ]
        },
        {
          "metadata": {
            "tags": null
          },
          "name": "stdout",
          "output_type": "stream",
          "text": [
            "Trial 28 started with hyperparameters: num_layers=4, filters=[97, 60, 119, 99], kernel_size=2, l1=0.00021825830051074905, l2=5.945680923982165e-06, dense_units=185, dropout_rate=0.15690751677625725, learning_rate=0.0002144328031697602\n",
            "\u001b[1m50/50\u001b[0m \u001b[32m━━━━━━━━━━━━━━━━━━━━\u001b[0m\u001b[37m\u001b[0m \u001b[1m0s\u001b[0m 86ms/step - accuracy: 0.5004 - loss: 1.6215"
          ]
        },
        {
          "metadata": {
            "tags": null
          },
          "name": "stderr",
          "output_type": "stream",
          "text": [
            "[I 2024-08-15 20:47:15,550] Trial 28 pruned. Trial was pruned at epoch 0.\n"
          ]
        },
        {
          "metadata": {
            "tags": null
          },
          "name": "stdout",
          "output_type": "stream",
          "text": [
            "Trial 29 started with hyperparameters: num_layers=5, filters=[32, 114, 82, 87, 45], kernel_size=3, l1=0.0008450124377955986, l2=3.024994363365193e-05, dense_units=105, dropout_rate=0.490789528415082, learning_rate=0.0006221680743356741\n",
            "\u001b[1m50/50\u001b[0m \u001b[32m━━━━━━━━━━━━━━━━━━━━\u001b[0m\u001b[37m\u001b[0m \u001b[1m0s\u001b[0m 61ms/step - accuracy: 0.5230 - loss: 5.3749"
          ]
        },
        {
          "metadata": {
            "tags": null
          },
          "name": "stderr",
          "output_type": "stream",
          "text": [
            "[I 2024-08-15 20:48:59,858] Trial 29 pruned. Trial was pruned at epoch 0.\n"
          ]
        },
        {
          "metadata": {
            "tags": null
          },
          "name": "stdout",
          "output_type": "stream",
          "text": [
            "Trial 30 started with hyperparameters: num_layers=6, filters=[122, 91, 40, 41, 100, 127], kernel_size=3, l1=0.003058409977456954, l2=0.0002473688248279976, dense_units=222, dropout_rate=0.2915775251366818, learning_rate=0.0008167994770003849\n",
            "\u001b[1m50/50\u001b[0m \u001b[32m━━━━━━━━━━━━━━━━━━━━\u001b[0m\u001b[37m\u001b[0m \u001b[1m0s\u001b[0m 112ms/step - accuracy: 0.4922 - loss: 20.7744"
          ]
        },
        {
          "metadata": {
            "tags": null
          },
          "name": "stderr",
          "output_type": "stream",
          "text": [
            "[I 2024-08-15 20:50:52,960] Trial 30 pruned. Trial was pruned at epoch 0.\n"
          ]
        },
        {
          "metadata": {
            "tags": null
          },
          "name": "stdout",
          "output_type": "stream",
          "text": [
            "Trial 31 started with hyperparameters: num_layers=4, filters=[119, 68, 34, 85], kernel_size=2, l1=0.009346351300539183, l2=0.00046310502752562344, dense_units=256, dropout_rate=0.25761289466853726, learning_rate=1.2742548383848586e-05\n",
            "\u001b[1m50/50\u001b[0m \u001b[32m━━━━━━━━━━━━━━━━━━━━\u001b[0m\u001b[37m\u001b[0m \u001b[1m18s\u001b[0m 180ms/step - accuracy: 0.4962 - loss: 25.7719 - val_accuracy: 0.5175 - val_loss: 25.5301\n",
            "\u001b[1m50/50\u001b[0m \u001b[32m━━━━━━━━━━━━━━━━━━━━\u001b[0m\u001b[37m\u001b[0m \u001b[1m5s\u001b[0m 107ms/step - accuracy: 0.5275 - loss: 25.4512 - val_accuracy: 0.5225 - val_loss: 25.2120\n",
            "\u001b[1m50/50\u001b[0m \u001b[32m━━━━━━━━━━━━━━━━━━━━\u001b[0m\u001b[37m\u001b[0m \u001b[1m5s\u001b[0m 107ms/step - accuracy: 0.5425 - loss: 25.1334 - val_accuracy: 0.5813 - val_loss: 24.8962\n",
            "\u001b[1m50/50\u001b[0m \u001b[32m━━━━━━━━━━━━━━━━━━━━\u001b[0m\u001b[37m\u001b[0m \u001b[1m5s\u001b[0m 107ms/step - accuracy: 0.5526 - loss: 24.8177 - val_accuracy: 0.5025 - val_loss: 24.5834\n",
            "\u001b[1m50/50\u001b[0m \u001b[32m━━━━━━━━━━━━━━━━━━━━\u001b[0m\u001b[37m\u001b[0m \u001b[1m5s\u001b[0m 107ms/step - accuracy: 0.5535 - loss: 24.5047 - val_accuracy: 0.5088 - val_loss: 24.2714\n",
            "\u001b[1m50/50\u001b[0m \u001b[32m━━━━━━━━━━━━━━━━━━━━\u001b[0m\u001b[37m\u001b[0m \u001b[1m5s\u001b[0m 107ms/step - accuracy: 0.5530 - loss: 24.1943 - val_accuracy: 0.4950 - val_loss: 23.9627\n",
            "\u001b[1m50/50\u001b[0m \u001b[32m━━━━━━━━━━━━━━━━━━━━\u001b[0m\u001b[37m\u001b[0m \u001b[1m5s\u001b[0m 107ms/step - accuracy: 0.5127 - loss: 23.8879 - val_accuracy: 0.6900 - val_loss: 23.6560\n",
            "\u001b[1m50/50\u001b[0m \u001b[32m━━━━━━━━━━━━━━━━━━━━\u001b[0m\u001b[37m\u001b[0m \u001b[1m5s\u001b[0m 107ms/step - accuracy: 0.5895 - loss: 23.5800 - val_accuracy: 0.6075 - val_loss: 23.3519\n",
            "\u001b[1m50/50\u001b[0m \u001b[32m━━━━━━━━━━━━━━━━━━━━\u001b[0m\u001b[37m\u001b[0m \u001b[1m5s\u001b[0m 107ms/step - accuracy: 0.5647 - loss: 23.2772 - val_accuracy: 0.7312 - val_loss: 23.0494\n",
            "\u001b[1m125/125\u001b[0m \u001b[32m━━━━━━━━━━━━━━━━━━━━\u001b[0m\u001b[37m\u001b[0m \u001b[1m2s\u001b[0m 12ms/step - accuracy: 0.7416 - loss: 23.0496\n"
          ]
        },
        {
          "metadata": {
            "tags": null
          },
          "name": "stderr",
          "output_type": "stream",
          "text": [
            "[I 2024-08-15 21:06:19,945] Trial 31 finished with value: 0.7367500066757202 and parameters: {'num_layers': 4, 'filters_0': 119, 'filters_1': 68, 'filters_2': 34, 'filters_3': 85, 'kernel_size': 2, 'l1': 0.009346351300539183, 'l2': 0.00046310502752562344, 'dense_units': 256, 'dropout_rate': 0.25761289466853726, 'learning_rate': 1.2742548383848586e-05}. Best is trial 2 with value: 0.8489999771118164.\n"
          ]
        },
        {
          "metadata": {
            "tags": null
          },
          "name": "stdout",
          "output_type": "stream",
          "text": [
            "Trial 32 started with hyperparameters: num_layers=4, filters=[110, 66, 41, 93], kernel_size=2, l1=1.5384447300575337e-05, l2=0.0010021070499630054, dense_units=241, dropout_rate=0.2524176013973417, learning_rate=1.603265236131554e-05\n",
            "\u001b[1m50/50\u001b[0m \u001b[32m━━━━━━━━━━━━━━━━━━━━\u001b[0m\u001b[37m\u001b[0m \u001b[1m0s\u001b[0m 94ms/step - accuracy: 0.4794 - loss: 0.9291"
          ]
        },
        {
          "metadata": {
            "tags": null
          },
          "name": "stderr",
          "output_type": "stream",
          "text": [
            "[I 2024-08-15 21:08:05,608] Trial 32 pruned. Trial was pruned at epoch 0.\n"
          ]
        },
        {
          "output_type": "stream",
          "name": "stdout",
          "text": [
            "Trial 33 started with hyperparameters: num_layers=4, filters=[101, 59, 36, 69], kernel_size=2, l1=0.0051724954555286634, l2=0.002731804782986102, dense_units=242, dropout_rate=0.23186288562192803, learning_rate=1.9861663548284886e-05\n",
            "\u001b[1m50/50\u001b[0m \u001b[32m━━━━━━━━━━━━━━━━━━━━\u001b[0m\u001b[37m\u001b[0m \u001b[1m13s\u001b[0m 143ms/step - accuracy: 0.5103 - loss: 12.9922 - val_accuracy: 0.5175 - val_loss: 12.8189\n",
            "\u001b[1m50/50\u001b[0m \u001b[32m━━━━━━━━━━━━━━━━━━━━\u001b[0m\u001b[37m\u001b[0m \u001b[1m5s\u001b[0m 92ms/step - accuracy: 0.5445 - loss: 12.7621 - val_accuracy: 0.5213 - val_loss: 12.5905\n",
            "\u001b[1m50/50\u001b[0m \u001b[32m━━━━━━━━━━━━━━━━━━━━\u001b[0m\u001b[37m\u001b[0m \u001b[1m5s\u001b[0m 92ms/step - accuracy: 0.5437 - loss: 12.5343 - val_accuracy: 0.5750 - val_loss: 12.3651\n",
            "\u001b[1m50/50\u001b[0m \u001b[32m━━━━━━━━━━━━━━━━━━━━\u001b[0m\u001b[37m\u001b[0m \u001b[1m5s\u001b[0m 92ms/step - accuracy: 0.5524 - loss: 12.3102 - val_accuracy: 0.5013 - val_loss: 12.1436\n",
            "\u001b[1m50/50\u001b[0m \u001b[32m━━━━━━━━━━━━━━━━━━━━\u001b[0m\u001b[37m\u001b[0m \u001b[1m5s\u001b[0m 92ms/step - accuracy: 0.5611 - loss: 12.0876 - val_accuracy: 0.5088 - val_loss: 11.9217\n",
            "\u001b[1m50/50\u001b[0m \u001b[32m━━━━━━━━━━━━━━━━━━━━\u001b[0m\u001b[37m\u001b[0m \u001b[1m5s\u001b[0m 91ms/step - accuracy: 0.5524 - loss: 11.8681 - val_accuracy: 0.4950 - val_loss: 11.7052\n",
            "\u001b[1m50/50\u001b[0m \u001b[32m━━━━━━━━━━━━━━━━━━━━\u001b[0m\u001b[37m\u001b[0m \u001b[1m5s\u001b[0m 92ms/step - accuracy: 0.5237 - loss: 11.6515 - val_accuracy: 0.6062 - val_loss: 11.4879\n"
          ]
        },
        {
          "output_type": "stream",
          "name": "stderr",
          "text": [
            "[I 2024-08-15 21:18:52,075] Trial 33 pruned. \n"
          ]
        },
        {
          "output_type": "stream",
          "name": "stdout",
          "text": [
            "Trial 34 started with hyperparameters: num_layers=4, filters=[117, 70, 51, 83], kernel_size=2, l1=0.005522827411386624, l2=0.0005559322310118843, dense_units=241, dropout_rate=0.4569592789853135, learning_rate=1.2901044524278269e-05\n",
            "\u001b[1m50/50\u001b[0m \u001b[32m━━━━━━━━━━━━━━━━━━━━\u001b[0m\u001b[37m\u001b[0m \u001b[1m15s\u001b[0m 168ms/step - accuracy: 0.5092 - loss: 18.3678 - val_accuracy: 0.5175 - val_loss: 18.1939\n",
            "\u001b[1m50/50\u001b[0m \u001b[32m━━━━━━━━━━━━━━━━━━━━\u001b[0m\u001b[37m\u001b[0m \u001b[1m5s\u001b[0m 107ms/step - accuracy: 0.5024 - loss: 18.1385 - val_accuracy: 0.5462 - val_loss: 17.9651\n",
            "\u001b[1m50/50\u001b[0m \u001b[32m━━━━━━━━━━━━━━━━━━━━\u001b[0m\u001b[37m\u001b[0m \u001b[1m5s\u001b[0m 108ms/step - accuracy: 0.5099 - loss: 17.9092 - val_accuracy: 0.5387 - val_loss: 17.7372\n",
            "\u001b[1m50/50\u001b[0m \u001b[32m━━━━━━━━━━━━━━━━━━━━\u001b[0m\u001b[37m\u001b[0m \u001b[1m5s\u001b[0m 108ms/step - accuracy: 0.5050 - loss: 17.6822 - val_accuracy: 0.4938 - val_loss: 17.5119\n",
            "\u001b[1m50/50\u001b[0m \u001b[32m━━━━━━━━━━━━━━━━━━━━\u001b[0m\u001b[37m\u001b[0m \u001b[1m5s\u001b[0m 108ms/step - accuracy: 0.5307 - loss: 17.4554 - val_accuracy: 0.5088 - val_loss: 17.2865\n",
            "\u001b[1m50/50\u001b[0m \u001b[32m━━━━━━━━━━━━━━━━━━━━\u001b[0m\u001b[37m\u001b[0m \u001b[1m5s\u001b[0m 108ms/step - accuracy: 0.5303 - loss: 17.2320 - val_accuracy: 0.5013 - val_loss: 17.0639\n",
            "\u001b[1m50/50\u001b[0m \u001b[32m━━━━━━━━━━━━━━━━━━━━\u001b[0m\u001b[37m\u001b[0m \u001b[1m5s\u001b[0m 108ms/step - accuracy: 0.5197 - loss: 17.0093 - val_accuracy: 0.5325 - val_loss: 16.8429\n",
            "\u001b[1m50/50\u001b[0m \u001b[32m━━━━━━━━━━━━━━━━━━━━\u001b[0m\u001b[37m\u001b[0m \u001b[1m5s\u001b[0m 107ms/step - accuracy: 0.5559 - loss: 16.7873 - val_accuracy: 0.7038 - val_loss: 16.6227\n",
            "\u001b[1m50/50\u001b[0m \u001b[32m━━━━━━━━━━━━━━━━━━━━\u001b[0m\u001b[37m\u001b[0m \u001b[1m5s\u001b[0m 107ms/step - accuracy: 0.5439 - loss: 16.5688 - val_accuracy: 0.6913 - val_loss: 16.4039\n",
            "\u001b[1m125/125\u001b[0m \u001b[32m━━━━━━━━━━━━━━━━━━━━\u001b[0m\u001b[37m\u001b[0m \u001b[1m1s\u001b[0m 12ms/step - accuracy: 0.6752 - loss: 16.4044\n"
          ]
        },
        {
          "output_type": "stream",
          "name": "stderr",
          "text": [
            "[I 2024-08-15 21:34:18,350] Trial 34 finished with value: 0.6752499938011169 and parameters: {'num_layers': 4, 'filters_0': 117, 'filters_1': 70, 'filters_2': 51, 'filters_3': 83, 'kernel_size': 2, 'l1': 0.005522827411386624, 'l2': 0.0005559322310118843, 'dense_units': 241, 'dropout_rate': 0.4569592789853135, 'learning_rate': 1.2901044524278269e-05}. Best is trial 2 with value: 0.8489999771118164.\n"
          ]
        },
        {
          "output_type": "stream",
          "name": "stdout",
          "text": [
            "Trial 35 started with hyperparameters: num_layers=3, filters=[122, 76, 61], kernel_size=2, l1=0.002329172254656529, l2=6.600998966848208e-05, dense_units=256, dropout_rate=0.2697514688014021, learning_rate=1.0031257541071617e-05\n",
            "\u001b[1m50/50\u001b[0m \u001b[32m━━━━━━━━━━━━━━━━━━━━\u001b[0m\u001b[37m\u001b[0m \u001b[1m0s\u001b[0m 102ms/step - accuracy: 0.5024 - loss: 6.7458"
          ]
        },
        {
          "output_type": "stream",
          "name": "stderr",
          "text": [
            "[I 2024-08-15 21:36:03,933] Trial 35 pruned. Trial was pruned at epoch 0.\n"
          ]
        },
        {
          "output_type": "stream",
          "name": "stdout",
          "text": [
            "Trial 36 started with hyperparameters: num_layers=5, filters=[39, 52, 68, 58, 76], kernel_size=2, l1=9.252341051453357e-06, l2=0.00017571571711985605, dense_units=197, dropout_rate=0.18727547346572015, learning_rate=4.9217816595154716e-05\n",
            "\u001b[1m49/50\u001b[0m \u001b[32m━━━━━━━━━━━━━━━━━━━\u001b[0m\u001b[37m━\u001b[0m \u001b[1m0s\u001b[0m 43ms/step - accuracy: 0.4901 - loss: 0.7638"
          ]
        },
        {
          "output_type": "stream",
          "name": "stderr",
          "text": [
            "[I 2024-08-15 21:37:43,101] Trial 36 pruned. Trial was pruned at epoch 0.\n"
          ]
        },
        {
          "output_type": "stream",
          "name": "stdout",
          "text": [
            "Trial 37 started with hyperparameters: num_layers=6, filters=[105, 60, 45, 115, 32, 63], kernel_size=2, l1=6.096237272349088e-05, l2=0.00030021226460095465, dense_units=168, dropout_rate=0.31364829861579235, learning_rate=2.5785661575931412e-05\n",
            "\u001b[1m50/50\u001b[0m \u001b[32m━━━━━━━━━━━━━━━━━━━━\u001b[0m\u001b[37m\u001b[0m \u001b[1m0s\u001b[0m 84ms/step - accuracy: 0.5126 - loss: 1.0286"
          ]
        },
        {
          "output_type": "stream",
          "name": "stderr",
          "text": [
            "[I 2024-08-15 21:39:28,810] Trial 37 pruned. Trial was pruned at epoch 0.\n"
          ]
        },
        {
          "output_type": "stream",
          "name": "stdout",
          "text": [
            "Trial 38 started with hyperparameters: num_layers=4, filters=[128, 44, 57, 102], kernel_size=2, l1=0.0006682911215413306, l2=0.002214194884102093, dense_units=127, dropout_rate=0.10413290125401814, learning_rate=7.397188712030801e-05\n",
            "\u001b[1m50/50\u001b[0m \u001b[32m━━━━━━━━━━━━━━━━━━━━\u001b[0m\u001b[37m\u001b[0m \u001b[1m0s\u001b[0m 96ms/step - accuracy: 0.5129 - loss: 2.9461"
          ]
        },
        {
          "output_type": "stream",
          "name": "stderr",
          "text": [
            "[I 2024-08-15 21:41:10,346] Trial 38 pruned. Trial was pruned at epoch 0.\n"
          ]
        },
        {
          "output_type": "stream",
          "name": "stdout",
          "text": [
            "Trial 39 started with hyperparameters: num_layers=3, filters=[84, 67, 90], kernel_size=3, l1=4.423317910863234e-06, l2=3.7288634125071584e-05, dense_units=219, dropout_rate=0.275278343197994, learning_rate=0.0004329500848107311\n",
            "\u001b[1m50/50\u001b[0m \u001b[32m━━━━━━━━━━━━━━━━━━━━\u001b[0m\u001b[37m\u001b[0m \u001b[1m0s\u001b[0m 86ms/step - accuracy: 0.4939 - loss: 0.8231"
          ]
        },
        {
          "output_type": "stream",
          "name": "stderr",
          "text": [
            "[I 2024-08-15 21:42:53,180] Trial 39 pruned. Trial was pruned at epoch 0.\n"
          ]
        },
        {
          "output_type": "stream",
          "name": "stdout",
          "text": [
            "Trial 40 started with hyperparameters: num_layers=4, filters=[54, 99, 73, 124], kernel_size=3, l1=0.0003183338704656658, l2=2.096340722046245e-06, dense_units=236, dropout_rate=0.2204905972238333, learning_rate=1.4106735375132477e-05\n",
            "\u001b[1m50/50\u001b[0m \u001b[32m━━━━━━━━━━━━━━━━━━━━\u001b[0m\u001b[37m\u001b[0m \u001b[1m0s\u001b[0m 74ms/step - accuracy: 0.5073 - loss: 2.6011"
          ]
        },
        {
          "output_type": "stream",
          "name": "stderr",
          "text": [
            "[I 2024-08-15 21:44:37,861] Trial 40 pruned. Trial was pruned at epoch 0.\n"
          ]
        },
        {
          "output_type": "stream",
          "name": "stdout",
          "text": [
            "Trial 41 started with hyperparameters: num_layers=4, filters=[111, 72, 50, 80], kernel_size=2, l1=0.005438905655706879, l2=0.0004336637146723017, dense_units=243, dropout_rate=0.4735245075086472, learning_rate=2.1087162247092514e-05\n",
            "\u001b[1m50/50\u001b[0m \u001b[32m━━━━━━━━━━━━━━━━━━━━\u001b[0m\u001b[37m\u001b[0m \u001b[1m15s\u001b[0m 166ms/step - accuracy: 0.5049 - loss: 17.7317 - val_accuracy: 0.5175 - val_loss: 17.4606\n",
            "\u001b[1m50/50\u001b[0m \u001b[32m━━━━━━━━━━━━━━━━━━━━\u001b[0m\u001b[37m\u001b[0m \u001b[1m5s\u001b[0m 104ms/step - accuracy: 0.5288 - loss: 17.3721 - val_accuracy: 0.5312 - val_loss: 17.1051\n",
            "\u001b[1m50/50\u001b[0m \u001b[32m━━━━━━━━━━━━━━━━━━━━\u001b[0m\u001b[37m\u001b[0m \u001b[1m5s\u001b[0m 104ms/step - accuracy: 0.5229 - loss: 17.0169 - val_accuracy: 0.5275 - val_loss: 16.7531\n",
            "\u001b[1m50/50\u001b[0m \u001b[32m━━━━━━━━━━━━━━━━━━━━\u001b[0m\u001b[37m\u001b[0m \u001b[1m5s\u001b[0m 104ms/step - accuracy: 0.5446 - loss: 16.6657 - val_accuracy: 0.4938 - val_loss: 16.4072\n",
            "\u001b[1m50/50\u001b[0m \u001b[32m━━━━━━━━━━━━━━━━━━━━\u001b[0m\u001b[37m\u001b[0m \u001b[1m5s\u001b[0m 104ms/step - accuracy: 0.5385 - loss: 16.3213 - val_accuracy: 0.5088 - val_loss: 16.0624\n",
            "\u001b[1m50/50\u001b[0m \u001b[32m━━━━━━━━━━━━━━━━━━━━\u001b[0m\u001b[37m\u001b[0m \u001b[1m5s\u001b[0m 104ms/step - accuracy: 0.5475 - loss: 15.9786 - val_accuracy: 0.4950 - val_loss: 15.7240\n",
            "\u001b[1m50/50\u001b[0m \u001b[32m━━━━━━━━━━━━━━━━━━━━\u001b[0m\u001b[37m\u001b[0m \u001b[1m5s\u001b[0m 104ms/step - accuracy: 0.5275 - loss: 15.6417 - val_accuracy: 0.7450 - val_loss: 15.3874\n",
            "\u001b[1m50/50\u001b[0m \u001b[32m━━━━━━━━━━━━━━━━━━━━\u001b[0m\u001b[37m\u001b[0m \u001b[1m5s\u001b[0m 104ms/step - accuracy: 0.5594 - loss: 15.3061 - val_accuracy: 0.5913 - val_loss: 15.0578\n",
            "\u001b[1m50/50\u001b[0m \u001b[32m━━━━━━━━━━━━━━━━━━━━\u001b[0m\u001b[37m\u001b[0m \u001b[1m5s\u001b[0m 104ms/step - accuracy: 0.5529 - loss: 14.9768 - val_accuracy: 0.6675 - val_loss: 14.7301\n",
            "\u001b[1m125/125\u001b[0m \u001b[32m━━━━━━━━━━━━━━━━━━━━\u001b[0m\u001b[37m\u001b[0m \u001b[1m1s\u001b[0m 11ms/step - accuracy: 0.6746 - loss: 14.7308\n"
          ]
        },
        {
          "output_type": "stream",
          "name": "stderr",
          "text": [
            "[I 2024-08-15 22:00:08,962] Trial 41 finished with value: 0.6679999828338623 and parameters: {'num_layers': 4, 'filters_0': 111, 'filters_1': 72, 'filters_2': 50, 'filters_3': 80, 'kernel_size': 2, 'l1': 0.005438905655706879, 'l2': 0.0004336637146723017, 'dense_units': 243, 'dropout_rate': 0.4735245075086472, 'learning_rate': 2.1087162247092514e-05}. Best is trial 2 with value: 0.8489999771118164.\n"
          ]
        },
        {
          "output_type": "stream",
          "name": "stdout",
          "text": [
            "Trial 42 started with hyperparameters: num_layers=4, filters=[117, 69, 52, 91], kernel_size=2, l1=0.006923351138195969, l2=0.0007610807504087665, dense_units=247, dropout_rate=0.44262498052018395, learning_rate=1.3566206693834481e-05\n",
            "\u001b[1m50/50\u001b[0m \u001b[32m━━━━━━━━━━━━━━━━━━━━\u001b[0m\u001b[37m\u001b[0m \u001b[1m15s\u001b[0m 166ms/step - accuracy: 0.5040 - loss: 23.2172 - val_accuracy: 0.5163 - val_loss: 22.9816\n",
            "\u001b[1m50/50\u001b[0m \u001b[32m━━━━━━━━━━━━━━━━━━━━\u001b[0m\u001b[37m\u001b[0m \u001b[1m5s\u001b[0m 108ms/step - accuracy: 0.5113 - loss: 22.9057 - val_accuracy: 0.5437 - val_loss: 22.6716\n",
            "\u001b[1m50/50\u001b[0m \u001b[32m━━━━━━━━━━━━━━━━━━━━\u001b[0m\u001b[37m\u001b[0m \u001b[1m5s\u001b[0m 108ms/step - accuracy: 0.5391 - loss: 22.5959 - val_accuracy: 0.5350 - val_loss: 22.3637\n",
            "\u001b[1m50/50\u001b[0m \u001b[32m━━━━━━━━━━━━━━━━━━━━\u001b[0m\u001b[37m\u001b[0m \u001b[1m5s\u001b[0m 108ms/step - accuracy: 0.5504 - loss: 22.2887 - val_accuracy: 0.5088 - val_loss: 22.0593\n",
            "\u001b[1m50/50\u001b[0m \u001b[32m━━━━━━━━━━━━━━━━━━━━\u001b[0m\u001b[37m\u001b[0m \u001b[1m5s\u001b[0m 108ms/step - accuracy: 0.5670 - loss: 21.9835 - val_accuracy: 0.5088 - val_loss: 21.7554\n",
            "\u001b[1m50/50\u001b[0m \u001b[32m━━━━━━━━━━━━━━━━━━━━\u001b[0m\u001b[37m\u001b[0m \u001b[1m5s\u001b[0m 108ms/step - accuracy: 0.5683 - loss: 21.6806 - val_accuracy: 0.4950 - val_loss: 21.4553\n",
            "\u001b[1m50/50\u001b[0m \u001b[32m━━━━━━━━━━━━━━━━━━━━\u001b[0m\u001b[37m\u001b[0m \u001b[1m5s\u001b[0m 108ms/step - accuracy: 0.5375 - loss: 21.3822 - val_accuracy: 0.7362 - val_loss: 21.1555\n",
            "\u001b[1m50/50\u001b[0m \u001b[32m━━━━━━━━━━━━━━━━━━━━\u001b[0m\u001b[37m\u001b[0m \u001b[1m5s\u001b[0m 108ms/step - accuracy: 0.5888 - loss: 21.0834 - val_accuracy: 0.6413 - val_loss: 20.8609\n",
            "\u001b[1m50/50\u001b[0m \u001b[32m━━━━━━━━━━━━━━━━━━━━\u001b[0m\u001b[37m\u001b[0m \u001b[1m5s\u001b[0m 108ms/step - accuracy: 0.5764 - loss: 20.7880 - val_accuracy: 0.7487 - val_loss: 20.5660\n",
            "\u001b[1m125/125\u001b[0m \u001b[32m━━━━━━━━━━━━━━━━━━━━\u001b[0m\u001b[37m\u001b[0m \u001b[1m2s\u001b[0m 12ms/step - accuracy: 0.7484 - loss: 20.5665\n"
          ]
        },
        {
          "output_type": "stream",
          "name": "stderr",
          "text": [
            "[I 2024-08-15 22:15:39,196] Trial 42 finished with value: 0.7427499890327454 and parameters: {'num_layers': 4, 'filters_0': 117, 'filters_1': 69, 'filters_2': 52, 'filters_3': 91, 'kernel_size': 2, 'l1': 0.006923351138195969, 'l2': 0.0007610807504087665, 'dense_units': 247, 'dropout_rate': 0.44262498052018395, 'learning_rate': 1.3566206693834481e-05}. Best is trial 2 with value: 0.8489999771118164.\n"
          ]
        },
        {
          "output_type": "stream",
          "name": "stdout",
          "text": [
            "Trial 43 started with hyperparameters: num_layers=4, filters=[119, 55, 38, 96], kernel_size=2, l1=0.001783433176378295, l2=0.0016185998700096107, dense_units=256, dropout_rate=0.4439313067646459, learning_rate=1.1819525881697562e-05\n",
            "\u001b[1m50/50\u001b[0m \u001b[32m━━━━━━━━━━━━━━━━━━━━\u001b[0m\u001b[37m\u001b[0m \u001b[1m0s\u001b[0m 91ms/step - accuracy: 0.4969 - loss: 5.5208"
          ]
        },
        {
          "output_type": "stream",
          "name": "stderr",
          "text": [
            "[I 2024-08-15 22:17:21,567] Trial 43 pruned. Trial was pruned at epoch 0.\n"
          ]
        },
        {
          "output_type": "stream",
          "name": "stdout",
          "text": [
            "Trial 44 started with hyperparameters: num_layers=4, filters=[123, 87, 43, 88], kernel_size=2, l1=0.00906769342259855, l2=0.0009073729006269186, dense_units=225, dropout_rate=0.3974953465738716, learning_rate=3.8214849052855736e-05\n",
            "\u001b[1m50/50\u001b[0m \u001b[32m━━━━━━━━━━━━━━━━━━━━\u001b[0m\u001b[37m\u001b[0m \u001b[1m19s\u001b[0m 192ms/step - accuracy: 0.4937 - loss: 31.9327 - val_accuracy: 0.5175 - val_loss: 30.9798\n",
            "\u001b[1m50/50\u001b[0m \u001b[32m━━━━━━━━━━━━━━━━━━━━\u001b[0m\u001b[37m\u001b[0m \u001b[1m6s\u001b[0m 112ms/step - accuracy: 0.5375 - loss: 30.6666 - val_accuracy: 0.5725 - val_loss: 29.7358\n",
            "\u001b[1m50/50\u001b[0m \u001b[32m━━━━━━━━━━━━━━━━━━━━\u001b[0m\u001b[37m\u001b[0m \u001b[1m6s\u001b[0m 112ms/step - accuracy: 0.5433 - loss: 29.4301 - val_accuracy: 0.6025 - val_loss: 28.5192\n",
            "\u001b[1m50/50\u001b[0m \u001b[32m━━━━━━━━━━━━━━━━━━━━\u001b[0m\u001b[37m\u001b[0m \u001b[1m6s\u001b[0m 113ms/step - accuracy: 0.5297 - loss: 28.2214 - val_accuracy: 0.4988 - val_loss: 27.3315\n",
            "\u001b[1m50/50\u001b[0m \u001b[32m━━━━━━━━━━━━━━━━━━━━\u001b[0m\u001b[37m\u001b[0m \u001b[1m6s\u001b[0m 112ms/step - accuracy: 0.5633 - loss: 27.0387 - val_accuracy: 0.5088 - val_loss: 26.1687\n",
            "\u001b[1m50/50\u001b[0m \u001b[32m━━━━━━━━━━━━━━━━━━━━\u001b[0m\u001b[37m\u001b[0m \u001b[1m6s\u001b[0m 112ms/step - accuracy: 0.5281 - loss: 25.8847 - val_accuracy: 0.4950 - val_loss: 25.0367\n",
            "\u001b[1m50/50\u001b[0m \u001b[32m━━━━━━━━━━━━━━━━━━━━\u001b[0m\u001b[37m\u001b[0m \u001b[1m6s\u001b[0m 112ms/step - accuracy: 0.5346 - loss: 24.7597 - val_accuracy: 0.5987 - val_loss: 23.9278\n",
            "\u001b[1m50/50\u001b[0m \u001b[32m━━━━━━━━━━━━━━━━━━━━\u001b[0m\u001b[37m\u001b[0m \u001b[1m6s\u001b[0m 112ms/step - accuracy: 0.5895 - loss: 23.6584 - val_accuracy: 0.5813 - val_loss: 22.8503\n",
            "\u001b[1m50/50\u001b[0m \u001b[32m━━━━━━━━━━━━━━━━━━━━\u001b[0m\u001b[37m\u001b[0m \u001b[1m6s\u001b[0m 113ms/step - accuracy: 0.5653 - loss: 22.5857 - val_accuracy: 0.7262 - val_loss: 21.7973\n",
            "\u001b[1m125/125\u001b[0m \u001b[32m━━━━━━━━━━━━━━━━━━━━\u001b[0m\u001b[37m\u001b[0m \u001b[1m2s\u001b[0m 12ms/step - accuracy: 0.7170 - loss: 21.7976\n"
          ]
        },
        {
          "output_type": "stream",
          "name": "stderr",
          "text": [
            "[I 2024-08-15 22:32:52,234] Trial 44 finished with value: 0.7102500200271606 and parameters: {'num_layers': 4, 'filters_0': 123, 'filters_1': 87, 'filters_2': 43, 'filters_3': 88, 'kernel_size': 2, 'l1': 0.00906769342259855, 'l2': 0.0009073729006269186, 'dense_units': 225, 'dropout_rate': 0.3974953465738716, 'learning_rate': 3.8214849052855736e-05}. Best is trial 2 with value: 0.8489999771118164.\n"
          ]
        },
        {
          "output_type": "stream",
          "name": "stdout",
          "text": [
            "Trial 45 started with hyperparameters: num_layers=5, filters=[114, 77, 64, 107, 108], kernel_size=2, l1=2.172510415159692e-05, l2=0.0007204728839915865, dense_units=245, dropout_rate=0.34428092827570334, learning_rate=2.752223897156171e-05\n",
            "\u001b[1m50/50\u001b[0m \u001b[32m━━━━━━━━━━━━━━━━━━━━\u001b[0m\u001b[37m\u001b[0m \u001b[1m0s\u001b[0m 98ms/step - accuracy: 0.4910 - loss: 1.0694"
          ]
        },
        {
          "output_type": "stream",
          "name": "stderr",
          "text": [
            "[I 2024-08-15 22:34:36,752] Trial 45 pruned. Trial was pruned at epoch 0.\n"
          ]
        },
        {
          "output_type": "stream",
          "name": "stdout",
          "text": [
            "Trial 46 started with hyperparameters: num_layers=3, filters=[68, 68, 101], kernel_size=2, l1=0.0032482681889338173, l2=1.7470688302631674e-05, dense_units=235, dropout_rate=0.4052098813028488, learning_rate=1.4822946028785465e-05\n",
            "\u001b[1m50/50\u001b[0m \u001b[32m━━━━━━━━━━━━━━━━━━━━\u001b[0m\u001b[37m\u001b[0m \u001b[1m0s\u001b[0m 72ms/step - accuracy: 0.5130 - loss: 8.1183"
          ]
        },
        {
          "output_type": "stream",
          "name": "stderr",
          "text": [
            "[I 2024-08-15 22:36:15,728] Trial 46 pruned. Trial was pruned at epoch 0.\n"
          ]
        },
        {
          "output_type": "stream",
          "name": "stdout",
          "text": [
            "Trial 47 started with hyperparameters: num_layers=4, filters=[108, 61, 54, 74], kernel_size=3, l1=1.0369686971736563e-05, l2=0.00016742107910421673, dense_units=111, dropout_rate=0.19614519586076273, learning_rate=1.9518004697123924e-05\n",
            "\u001b[1m50/50\u001b[0m \u001b[32m━━━━━━━━━━━━━━━━━━━━\u001b[0m\u001b[37m\u001b[0m \u001b[1m0s\u001b[0m 93ms/step - accuracy: 0.5183 - loss: 0.7705"
          ]
        },
        {
          "output_type": "stream",
          "name": "stderr",
          "text": [
            "[I 2024-08-15 22:38:00,157] Trial 47 pruned. Trial was pruned at epoch 0.\n"
          ]
        },
        {
          "output_type": "stream",
          "name": "stdout",
          "text": [
            "Trial 48 started with hyperparameters: num_layers=5, filters=[39, 46, 58, 93, 57], kernel_size=3, l1=0.0012667763400342734, l2=0.003682685765450511, dense_units=139, dropout_rate=0.4845060484893591, learning_rate=0.00030795973582653806\n",
            "\u001b[1m49/50\u001b[0m \u001b[32m━━━━━━━━━━━━━━━━━━━\u001b[0m\u001b[37m━\u001b[0m \u001b[1m0s\u001b[0m 45ms/step - accuracy: 0.5125 - loss: 7.1020"
          ]
        },
        {
          "output_type": "stream",
          "name": "stderr",
          "text": [
            "[I 2024-08-15 22:39:40,914] Trial 48 pruned. Trial was pruned at epoch 0.\n"
          ]
        },
        {
          "output_type": "stream",
          "name": "stdout",
          "text": [
            "Trial 49 started with hyperparameters: num_layers=4, filters=[94, 40, 48, 40], kernel_size=2, l1=2.5482400563578544e-05, l2=0.00014165152095220067, dense_units=158, dropout_rate=0.3658281936168829, learning_rate=0.00014919084206189214\n",
            "\u001b[1m50/50\u001b[0m \u001b[32m━━━━━━━━━━━━━━━━━━━━\u001b[0m\u001b[37m\u001b[0m \u001b[1m0s\u001b[0m 75ms/step - accuracy: 0.4937 - loss: 0.7630"
          ]
        },
        {
          "output_type": "stream",
          "name": "stderr",
          "text": [
            "[I 2024-08-15 22:41:20,505] Trial 49 pruned. Trial was pruned at epoch 0.\n"
          ]
        },
        {
          "output_type": "stream",
          "name": "stdout",
          "text": [
            "Best trial:\n",
            "Value: 0.8489999771118164\n",
            "Params: \n",
            "    num_layers: 4\n",
            "    filters_0: 112\n",
            "    filters_1: 70\n",
            "    filters_2: 66\n",
            "    filters_3: 97\n",
            "    kernel_size: 3\n",
            "    l1: 1.4140077757263846e-05\n",
            "    l2: 6.14525850610673e-05\n",
            "    dense_units: 136\n",
            "    dropout_rate: 0.24035812561692615\n",
            "    learning_rate: 0.000944861039761829\n",
            "Elapsed time: 20013.26 seconds\n"
          ]
        }
      ]
    },
    {
      "cell_type": "markdown",
      "source": [
        "Recent weak selection"
      ],
      "metadata": {
        "id": "c2Jiw_QTaoqM"
      }
    }
  ]
}