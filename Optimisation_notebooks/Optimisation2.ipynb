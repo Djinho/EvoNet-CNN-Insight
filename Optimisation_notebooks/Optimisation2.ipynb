{
  "nbformat": 4,
  "nbformat_minor": 0,
  "metadata": {
    "colab": {
      "provenance": [],
      "machine_shape": "hm",
      "gpuType": "A100"
    },
    "kernelspec": {
      "name": "python3",
      "display_name": "Python 3"
    },
    "language_info": {
      "name": "python"
    },
    "accelerator": "GPU"
  },
  "cells": [
    {
      "cell_type": "markdown",
      "source": [
        "**Bayesian Optimization for Evolutionary Scenarios**\n",
        "\n",
        "Bayesian Optimization for all 9 selection scenarios\n",
        "\n",
        "**Number of Trials: 50**\n",
        "\n",
        "**Number of Simulations Used: 40,000**\n",
        "\n",
        "**GPU Used: A100**"
      ],
      "metadata": {
        "id": "9LlA-VuXYO9a"
      }
    },
    {
      "cell_type": "code",
      "execution_count": 1,
      "metadata": {
        "colab": {
          "base_uri": "https://localhost:8080/"
        },
        "id": "7Thsi7YMYNnj",
        "outputId": "f16432d3-7b6e-4d18-9e6e-17f43c2add79"
      },
      "outputs": [
        {
          "output_type": "stream",
          "name": "stdout",
          "text": [
            "Cloning into 'EvoNet-CNN-Insight'...\n",
            "remote: Enumerating objects: 6038, done.\u001b[K\n",
            "remote: Counting objects: 100% (1659/1659), done.\u001b[K\n",
            "remote: Compressing objects: 100% (1023/1023), done.\u001b[K\n",
            "remote: Total 6038 (delta 711), reused 1525 (delta 618), pack-reused 4379\u001b[K\n",
            "Receiving objects: 100% (6038/6038), 8.08 GiB | 17.50 MiB/s, done.\n",
            "Resolving deltas: 100% (2302/2302), done.\n",
            "Updating files: 100% (216/216), done.\n",
            "/content/EvoNet-CNN-Insight/Optimisation_notebooks\n"
          ]
        }
      ],
      "source": [
        "\n",
        "!git clone https://github.com/Djinho/EvoNet-CNN-Insight.git\n",
        "\n",
        "# Navigate to the cloned repository\n",
        "%cd EvoNet-CNN-Insight/Optimisation_notebooks"
      ]
    },
    {
      "cell_type": "code",
      "source": [
        "\n",
        "!pip install optuna\n",
        "!pip install optuna-integration"
      ],
      "metadata": {
        "colab": {
          "base_uri": "https://localhost:8080/"
        },
        "id": "wKfpCApeaCKn",
        "outputId": "cf1adbea-e821-48db-dbb0-d30e5684deb8"
      },
      "execution_count": 2,
      "outputs": [
        {
          "output_type": "stream",
          "name": "stdout",
          "text": [
            "Collecting optuna\n",
            "  Downloading optuna-3.6.1-py3-none-any.whl.metadata (17 kB)\n",
            "Collecting alembic>=1.5.0 (from optuna)\n",
            "  Downloading alembic-1.13.2-py3-none-any.whl.metadata (7.4 kB)\n",
            "Collecting colorlog (from optuna)\n",
            "  Downloading colorlog-6.8.2-py3-none-any.whl.metadata (10 kB)\n",
            "Requirement already satisfied: numpy in /usr/local/lib/python3.10/dist-packages (from optuna) (1.26.4)\n",
            "Requirement already satisfied: packaging>=20.0 in /usr/local/lib/python3.10/dist-packages (from optuna) (24.1)\n",
            "Requirement already satisfied: sqlalchemy>=1.3.0 in /usr/local/lib/python3.10/dist-packages (from optuna) (2.0.32)\n",
            "Requirement already satisfied: tqdm in /usr/local/lib/python3.10/dist-packages (from optuna) (4.66.5)\n",
            "Requirement already satisfied: PyYAML in /usr/local/lib/python3.10/dist-packages (from optuna) (6.0.2)\n",
            "Collecting Mako (from alembic>=1.5.0->optuna)\n",
            "  Downloading Mako-1.3.5-py3-none-any.whl.metadata (2.9 kB)\n",
            "Requirement already satisfied: typing-extensions>=4 in /usr/local/lib/python3.10/dist-packages (from alembic>=1.5.0->optuna) (4.12.2)\n",
            "Requirement already satisfied: greenlet!=0.4.17 in /usr/local/lib/python3.10/dist-packages (from sqlalchemy>=1.3.0->optuna) (3.0.3)\n",
            "Requirement already satisfied: MarkupSafe>=0.9.2 in /usr/local/lib/python3.10/dist-packages (from Mako->alembic>=1.5.0->optuna) (2.1.5)\n",
            "Downloading optuna-3.6.1-py3-none-any.whl (380 kB)\n",
            "\u001b[2K   \u001b[90m━━━━━━━━━━━━━━━━━━━━━━━━━━━━━━━━━━━━━━━━\u001b[0m \u001b[32m380.1/380.1 kB\u001b[0m \u001b[31m25.0 MB/s\u001b[0m eta \u001b[36m0:00:00\u001b[0m\n",
            "\u001b[?25hDownloading alembic-1.13.2-py3-none-any.whl (232 kB)\n",
            "\u001b[2K   \u001b[90m━━━━━━━━━━━━━━━━━━━━━━━━━━━━━━━━━━━━━━━━\u001b[0m \u001b[32m233.0/233.0 kB\u001b[0m \u001b[31m22.3 MB/s\u001b[0m eta \u001b[36m0:00:00\u001b[0m\n",
            "\u001b[?25hDownloading colorlog-6.8.2-py3-none-any.whl (11 kB)\n",
            "Downloading Mako-1.3.5-py3-none-any.whl (78 kB)\n",
            "\u001b[2K   \u001b[90m━━━━━━━━━━━━━━━━━━━━━━━━━━━━━━━━━━━━━━━━\u001b[0m \u001b[32m78.6/78.6 kB\u001b[0m \u001b[31m8.1 MB/s\u001b[0m eta \u001b[36m0:00:00\u001b[0m\n",
            "\u001b[?25hInstalling collected packages: Mako, colorlog, alembic, optuna\n",
            "Successfully installed Mako-1.3.5 alembic-1.13.2 colorlog-6.8.2 optuna-3.6.1\n",
            "Collecting optuna-integration\n",
            "  Downloading optuna_integration-3.6.0-py3-none-any.whl.metadata (10 kB)\n",
            "Requirement already satisfied: optuna in /usr/local/lib/python3.10/dist-packages (from optuna-integration) (3.6.1)\n",
            "Requirement already satisfied: alembic>=1.5.0 in /usr/local/lib/python3.10/dist-packages (from optuna->optuna-integration) (1.13.2)\n",
            "Requirement already satisfied: colorlog in /usr/local/lib/python3.10/dist-packages (from optuna->optuna-integration) (6.8.2)\n",
            "Requirement already satisfied: numpy in /usr/local/lib/python3.10/dist-packages (from optuna->optuna-integration) (1.26.4)\n",
            "Requirement already satisfied: packaging>=20.0 in /usr/local/lib/python3.10/dist-packages (from optuna->optuna-integration) (24.1)\n",
            "Requirement already satisfied: sqlalchemy>=1.3.0 in /usr/local/lib/python3.10/dist-packages (from optuna->optuna-integration) (2.0.32)\n",
            "Requirement already satisfied: tqdm in /usr/local/lib/python3.10/dist-packages (from optuna->optuna-integration) (4.66.5)\n",
            "Requirement already satisfied: PyYAML in /usr/local/lib/python3.10/dist-packages (from optuna->optuna-integration) (6.0.2)\n",
            "Requirement already satisfied: Mako in /usr/local/lib/python3.10/dist-packages (from alembic>=1.5.0->optuna->optuna-integration) (1.3.5)\n",
            "Requirement already satisfied: typing-extensions>=4 in /usr/local/lib/python3.10/dist-packages (from alembic>=1.5.0->optuna->optuna-integration) (4.12.2)\n",
            "Requirement already satisfied: greenlet!=0.4.17 in /usr/local/lib/python3.10/dist-packages (from sqlalchemy>=1.3.0->optuna->optuna-integration) (3.0.3)\n",
            "Requirement already satisfied: MarkupSafe>=0.9.2 in /usr/local/lib/python3.10/dist-packages (from Mako->alembic>=1.5.0->optuna->optuna-integration) (2.1.5)\n",
            "Downloading optuna_integration-3.6.0-py3-none-any.whl (93 kB)\n",
            "\u001b[2K   \u001b[90m━━━━━━━━━━━━━━━━━━━━━━━━━━━━━━━━━━━━━━━━\u001b[0m \u001b[32m93.4/93.4 kB\u001b[0m \u001b[31m9.0 MB/s\u001b[0m eta \u001b[36m0:00:00\u001b[0m\n",
            "\u001b[?25hInstalling collected packages: optuna-integration\n",
            "Successfully installed optuna-integration-3.6.0\n"
          ]
        }
      ]
    },
    {
      "cell_type": "code",
      "source": [
        "import optuna\n",
        "import tensorflow as tf\n",
        "from tensorflow.keras import models, layers, regularizers, callbacks\n",
        "from tensorflow.keras.callbacks import EarlyStopping\n",
        "from sklearn.model_selection import train_test_split\n",
        "from sklearn.metrics import accuracy_score\n",
        "import numpy as np\n",
        "import logging\n",
        "import os\n",
        "import time\n",
        "import gzip\n",
        "import skimage.transform\n",
        "from optuna.integration import TFKerasPruningCallback"
      ],
      "metadata": {
        "id": "8zrYIXPkaFj-"
      },
      "execution_count": 3,
      "outputs": []
    },
    {
      "cell_type": "code",
      "source": [
        "\n",
        "%run -i ../ImaGene.py\n"
      ],
      "metadata": {
        "id": "KsL3dYFraI_O"
      },
      "execution_count": 4,
      "outputs": []
    },
    {
      "cell_type": "code",
      "source": [],
      "metadata": {
        "id": "nnkdeva9aRFG"
      },
      "execution_count": null,
      "outputs": []
    },
    {
      "cell_type": "code",
      "source": [
        "# Configure logging to file in the current directory with the specified name\n",
        "logging.basicConfig(filename='Ancient_Scenarios_AM.log', level=logging.INFO,\n",
        "                    format='%(asctime)s:%(levelname)s:%(message)s')\n",
        "\n",
        "# Function to preprocess data\n",
        "def preprocess_data(simulations_folder, batch_number):\n",
        "    # Create ImaFile object for the specified simulation folder and model\n",
        "    file_sim = ImaFile(simulations_folder=os.path.join(simulations_folder, f'Simulations{batch_number}'), nr_samples=198, model_name='Marth-3epoch-CEU')\n",
        "\n",
        "    # Read the simulation data\n",
        "    gene_sim = file_sim.read_simulations(parameter_name='selection_coeff_hetero', max_nrepl=4000)\n",
        "\n",
        "    # Filter simulations based on frequency threshold\n",
        "    gene_sim.filter_freq(0.01)\n",
        "\n",
        "    # Sort simulations by row frequency\n",
        "    gene_sim.sort('rows_freq')\n",
        "\n",
        "    # Resize simulation data to the required dimensions\n",
        "    gene_sim.resize((198, 192))\n",
        "\n",
        "    # Convert simulation data (flip=True allows for data augmentation)\n",
        "    gene_sim.convert(flip=True)\n",
        "\n",
        "    # Get a random subset of indices and subset the simulation data\n",
        "    gene_sim.subset(get_index_random(gene_sim))\n",
        "\n",
        "    # Convert targets to binary format\n",
        "    gene_sim.targets = to_binary(gene_sim.targets)\n",
        "\n",
        "    return gene_sim\n",
        "\n",
        "# Objective function for Optuna optimization\n",
        "def objective(trial, simulations_folder, epochs=1):\n",
        "    # Set random seed\n",
        "    np.random.seed(42)\n",
        "    tf.random.set_seed(42)\n",
        "\n",
        "    # Hyperparameters to be optimized\n",
        "    num_layers = trial.suggest_int('num_layers', 3, 6)  # Limit the number of layers to avoid excessive reduction\n",
        "    filters = [trial.suggest_int(f'filters_{i}', 32, 128) for i in range(num_layers)]  # Adjust filters range\n",
        "    kernel_size = trial.suggest_int('kernel_size', 2, 3)  # Limit the kernel size to avoid excessive reduction\n",
        "    l1 = trial.suggest_float('l1', 1e-6, 1e-2, log=True)\n",
        "    l2 = trial.suggest_float('l2', 1e-6, 1e-2, log=True)\n",
        "    dense_units = trial.suggest_int('dense_units', 64, 256)  # Adjust dense units range\n",
        "    dropout_rate = trial.suggest_float('dropout_rate', 0.1, 0.5)\n",
        "    learning_rate = trial.suggest_float('learning_rate', 1e-5, 1e-3, log=True)\n",
        "\n",
        "    # Log the hyperparameters at the start of each trial\n",
        "    logging.info(f'Trial {trial.number} started with hyperparameters: num_layers={num_layers}, filters={filters}, '\n",
        "                 f'kernel_size={kernel_size}, l1={l1}, l2={l2}, dense_units={dense_units}, '\n",
        "                 f'dropout_rate={dropout_rate}, learning_rate={learning_rate}')\n",
        "    print(f'Trial {trial.number} started with hyperparameters: num_layers={num_layers}, filters={filters}, '\n",
        "          f'kernel_size={kernel_size}, l1={l1}, l2={l2}, dense_units={dense_units}, '\n",
        "          f'dropout_rate={dropout_rate}, learning_rate={learning_rate}')\n",
        "\n",
        "    # Building the model based on sampled hyperparameters\n",
        "    model = models.Sequential()\n",
        "    model.add(layers.Input(shape=(198, 192, 1)))  # Define the input layer\n",
        "    for i in range(num_layers):\n",
        "        model.add(layers.Conv2D(filters=filters[i], kernel_size=(kernel_size, kernel_size), strides=(1, 1), activation='relu',\n",
        "                                kernel_regularizer=regularizers.l1_l2(l1=l1, l2=l2), padding='same'))  # Use 'same' padding to avoid dimension issues\n",
        "        model.add(layers.MaxPooling2D(pool_size=(2, 2)))\n",
        "\n",
        "    model.add(layers.Flatten())  # Flatten the output for the Dense layers\n",
        "    model.add(layers.Dense(units=dense_units, activation='relu'))  # Add Dense layer\n",
        "    model.add(layers.Dropout(rate=dropout_rate))  # Add Dropout layer\n",
        "    model.add(layers.Dense(units=1, activation='sigmoid'))  # Output layer with sigmoid activation\n",
        "\n",
        "    optimizer = tf.keras.optimizers.Adam(learning_rate=learning_rate)  # Define optimizer\n",
        "    model.compile(optimizer=optimizer, loss='binary_crossentropy', metrics=['accuracy'])  # Compile the model\n",
        "\n",
        "    # Pruning callback to terminate unpromising trials\n",
        "    pruning_callback = TFKerasPruningCallback(trial, 'val_loss')\n",
        "\n",
        "    # Early stopping to prevent overfitting\n",
        "    early_stopping = EarlyStopping(monitor='val_loss', patience=3, restore_best_weights=True)\n",
        "\n",
        "    # Incremental training on 9 batches\n",
        "    best_val_loss = np.inf  # Track the best validation loss\n",
        "    for batch_number in range(1, 10):\n",
        "        gene_sim = preprocess_data(simulations_folder, batch_number)  # Preprocess data\n",
        "        history = model.fit(gene_sim.data, gene_sim.targets, batch_size=64, epochs=epochs, verbose=1, validation_split=0.2,\n",
        "                            callbacks=[early_stopping, pruning_callback])  # Train the model with callbacks\n",
        "\n",
        "        # Get the validation loss for the current epoch\n",
        "        val_loss = min(history.history['val_loss'])\n",
        "        if val_loss < best_val_loss:\n",
        "            best_val_loss = val_loss\n",
        "            trial.report(val_loss, batch_number)\n",
        "            if trial.should_prune():\n",
        "                raise optuna.exceptions.TrialPruned()\n",
        "\n",
        "    # Evaluate the model on the 10th batch\n",
        "    gene_sim = preprocess_data(simulations_folder, 10)\n",
        "    evaluation = model.evaluate(gene_sim.data, gene_sim.targets, verbose=1)\n",
        "    return evaluation[1]  # Return the accuracy\n",
        "\n",
        "# Function to run the optimization process\n",
        "def run_optimization():\n",
        "    start_time = time.time()  # Record start time\n",
        "\n",
        "    simulations_folder = '/content/EvoNet-CNN-Insight/model_training/Ancient_moderate/AM'  # Folder for this dataset\n",
        "    logging.info(f\"Starting optimization for {simulations_folder}\")\n",
        "    print(f\"Starting optimization for {simulations_folder}\")\n",
        "\n",
        "    # Create an Optuna study and optimize the objective function\n",
        "    study = optuna.create_study(direction='maximize', pruner=optuna.pruners.MedianPruner(), storage='sqlite:///am_study.db', load_if_exists=True)  # Use SQLite storage\n",
        "    study.optimize(lambda trial: objective(trial, simulations_folder), n_trials=50)  # Set to 50 trials\n",
        "\n",
        "    try:\n",
        "        trial = study.best_trial\n",
        "        print('Best trial:')\n",
        "        print('Value: {}'.format(trial.value))\n",
        "        print('Params: ')\n",
        "        for key, value in trial.params.items():\n",
        "            print('    {}: {}'.format(key, value))  # Print best trial parameters\n",
        "\n",
        "        logging.info('Best trial:')\n",
        "        logging.info('Value: {}'.format(trial.value))\n",
        "        logging.info('Params: ')\n",
        "        for key, value in trial.params.items():\n",
        "            logging.info('    {}: {}'.format(key, value))  # Log best trial parameters\n",
        "\n",
        "    except ValueError as e:\n",
        "        logging.error(f\"No completed trials: {e}\")  # Log error if no trials are completed\n",
        "\n",
        "    elapsed_time = time.time() - start_time  # Calculate elapsed time\n",
        "    print(f\"Elapsed time: {elapsed_time:.2f} seconds\")\n",
        "    logging.info(f\"Elapsed time: {elapsed_time:.2f} seconds\")  # Log elapsed time\n",
        "\n",
        "# Run the optimization process\n",
        "if __name__ == '__main__':\n",
        "    run_optimization()  # Execute the optimization function\n"
      ],
      "metadata": {
        "colab": {
          "base_uri": "https://localhost:8080/"
        },
        "id": "5uxWUypfaRau",
        "outputId": "3be4b393-5879-424e-df65-7f8ce57c6d69"
      },
      "execution_count": 5,
      "outputs": [
        {
          "output_type": "stream",
          "name": "stdout",
          "text": [
            "Starting optimization for /content/EvoNet-CNN-Insight/model_training/Ancient_moderate/AM\n"
          ]
        },
        {
          "output_type": "stream",
          "name": "stderr",
          "text": [
            "[I 2024-08-11 21:04:32,025] A new study created in RDB with name: no-name-c492fb7f-dc7c-4412-9dbd-8d7338bfea6c\n"
          ]
        },
        {
          "output_type": "stream",
          "name": "stdout",
          "text": [
            "Trial 0 started with hyperparameters: num_layers=6, filters=[55, 60, 87, 50, 64, 33], kernel_size=2, l1=0.00035664681070305104, l2=0.0005729901632281326, dense_units=193, dropout_rate=0.3107556174793292, learning_rate=1.690623670619887e-05\n",
            "\u001b[1m50/50\u001b[0m \u001b[32m━━━━━━━━━━━━━━━━━━━━\u001b[0m\u001b[37m\u001b[0m \u001b[1m13s\u001b[0m 79ms/step - accuracy: 0.4912 - loss: 2.2807 - val_accuracy: 0.5175 - val_loss: 2.2617\n",
            "\u001b[1m50/50\u001b[0m \u001b[32m━━━━━━━━━━━━━━━━━━━━\u001b[0m\u001b[37m\u001b[0m \u001b[1m1s\u001b[0m 21ms/step - accuracy: 0.4865 - loss: 2.2570 - val_accuracy: 0.5200 - val_loss: 2.2383\n"
          ]
        },
        {
          "output_type": "stream",
          "name": "stderr",
          "text": [
            "/usr/local/lib/python3.10/dist-packages/optuna/trial/_trial.py:493: UserWarning: The reported value is ignored because this `step` 0 is already reported.\n",
            "  warnings.warn(\n"
          ]
        },
        {
          "output_type": "stream",
          "name": "stdout",
          "text": [
            "\u001b[1m50/50\u001b[0m \u001b[32m━━━━━━━━━━━━━━━━━━━━\u001b[0m\u001b[37m\u001b[0m \u001b[1m1s\u001b[0m 21ms/step - accuracy: 0.5119 - loss: 2.2325 - val_accuracy: 0.4725 - val_loss: 2.2162\n",
            "\u001b[1m50/50\u001b[0m \u001b[32m━━━━━━━━━━━━━━━━━━━━\u001b[0m\u001b[37m\u001b[0m \u001b[1m1s\u001b[0m 22ms/step - accuracy: 0.5042 - loss: 2.2096 - val_accuracy: 0.5150 - val_loss: 2.1921\n",
            "\u001b[1m50/50\u001b[0m \u001b[32m━━━━━━━━━━━━━━━━━━━━\u001b[0m\u001b[37m\u001b[0m \u001b[1m1s\u001b[0m 21ms/step - accuracy: 0.5149 - loss: 2.1866 - val_accuracy: 0.5225 - val_loss: 2.1693\n",
            "\u001b[1m50/50\u001b[0m \u001b[32m━━━━━━━━━━━━━━━━━━━━\u001b[0m\u001b[37m\u001b[0m \u001b[1m1s\u001b[0m 21ms/step - accuracy: 0.5344 - loss: 2.1640 - val_accuracy: 0.5275 - val_loss: 2.1474\n",
            "\u001b[1m50/50\u001b[0m \u001b[32m━━━━━━━━━━━━━━━━━━━━\u001b[0m\u001b[37m\u001b[0m \u001b[1m1s\u001b[0m 21ms/step - accuracy: 0.5222 - loss: 2.1422 - val_accuracy: 0.5962 - val_loss: 2.1251\n",
            "\u001b[1m50/50\u001b[0m \u001b[32m━━━━━━━━━━━━━━━━━━━━\u001b[0m\u001b[37m\u001b[0m \u001b[1m1s\u001b[0m 21ms/step - accuracy: 0.5661 - loss: 2.1198 - val_accuracy: 0.5987 - val_loss: 2.1034\n",
            "\u001b[1m50/50\u001b[0m \u001b[32m━━━━━━━━━━━━━━━━━━━━\u001b[0m\u001b[37m\u001b[0m \u001b[1m1s\u001b[0m 21ms/step - accuracy: 0.5483 - loss: 2.0986 - val_accuracy: 0.6137 - val_loss: 2.0821\n",
            "\u001b[1m125/125\u001b[0m \u001b[32m━━━━━━━━━━━━━━━━━━━━\u001b[0m\u001b[37m\u001b[0m \u001b[1m1s\u001b[0m 4ms/step - accuracy: 0.6110 - loss: 2.0821\n"
          ]
        },
        {
          "output_type": "stream",
          "name": "stderr",
          "text": [
            "[I 2024-08-11 21:18:35,205] Trial 0 finished with value: 0.6065000295639038 and parameters: {'num_layers': 6, 'filters_0': 55, 'filters_1': 60, 'filters_2': 87, 'filters_3': 50, 'filters_4': 64, 'filters_5': 33, 'kernel_size': 2, 'l1': 0.00035664681070305104, 'l2': 0.0005729901632281326, 'dense_units': 193, 'dropout_rate': 0.3107556174793292, 'learning_rate': 1.690623670619887e-05}. Best is trial 0 with value: 0.6065000295639038.\n"
          ]
        },
        {
          "output_type": "stream",
          "name": "stdout",
          "text": [
            "Trial 1 started with hyperparameters: num_layers=3, filters=[101, 116, 54], kernel_size=3, l1=0.0009986048540607797, l2=0.002627859757716432, dense_units=241, dropout_rate=0.21088086063305855, learning_rate=0.00023080165846634928\n",
            "\u001b[1m50/50\u001b[0m \u001b[32m━━━━━━━━━━━━━━━━━━━━\u001b[0m\u001b[37m\u001b[0m \u001b[1m12s\u001b[0m 89ms/step - accuracy: 0.5148 - loss: 5.5126 - val_accuracy: 0.5437 - val_loss: 4.3061\n",
            "\u001b[1m50/50\u001b[0m \u001b[32m━━━━━━━━━━━━━━━━━━━━\u001b[0m\u001b[37m\u001b[0m \u001b[1m2s\u001b[0m 32ms/step - accuracy: 0.6149 - loss: 3.9706 - val_accuracy: 0.6837 - val_loss: 3.0750\n",
            "\u001b[1m50/50\u001b[0m \u001b[32m━━━━━━━━━━━━━━━━━━━━\u001b[0m\u001b[37m\u001b[0m \u001b[1m2s\u001b[0m 32ms/step - accuracy: 0.6621 - loss: 2.8511 - val_accuracy: 0.6812 - val_loss: 2.2365\n",
            "\u001b[1m50/50\u001b[0m \u001b[32m━━━━━━━━━━━━━━━━━━━━\u001b[0m\u001b[37m\u001b[0m \u001b[1m2s\u001b[0m 33ms/step - accuracy: 0.6299 - loss: 2.1231 - val_accuracy: 0.7063 - val_loss: 1.6910\n",
            "\u001b[1m50/50\u001b[0m \u001b[32m━━━━━━━━━━━━━━━━━━━━\u001b[0m\u001b[37m\u001b[0m \u001b[1m2s\u001b[0m 33ms/step - accuracy: 0.6496 - loss: 1.6247 - val_accuracy: 0.6913 - val_loss: 1.3721\n",
            "\u001b[1m50/50\u001b[0m \u001b[32m━━━━━━━━━━━━━━━━━━━━\u001b[0m\u001b[37m\u001b[0m \u001b[1m2s\u001b[0m 33ms/step - accuracy: 0.6450 - loss: 1.3613 - val_accuracy: 0.7075 - val_loss: 1.2188\n",
            "\u001b[1m50/50\u001b[0m \u001b[32m━━━━━━━━━━━━━━━━━━━━\u001b[0m\u001b[37m\u001b[0m \u001b[1m2s\u001b[0m 32ms/step - accuracy: 0.6967 - loss: 1.1997 - val_accuracy: 0.6862 - val_loss: 1.1489\n",
            "\u001b[1m50/50\u001b[0m \u001b[32m━━━━━━━━━━━━━━━━━━━━\u001b[0m\u001b[37m\u001b[0m \u001b[1m2s\u001b[0m 33ms/step - accuracy: 0.6696 - loss: 1.1365 - val_accuracy: 0.6675 - val_loss: 1.0940\n",
            "\u001b[1m50/50\u001b[0m \u001b[32m━━━━━━━━━━━━━━━━━━━━\u001b[0m\u001b[37m\u001b[0m \u001b[1m2s\u001b[0m 32ms/step - accuracy: 0.6700 - loss: 1.0861 - val_accuracy: 0.7138 - val_loss: 1.0207\n",
            "\u001b[1m125/125\u001b[0m \u001b[32m━━━━━━━━━━━━━━━━━━━━\u001b[0m\u001b[37m\u001b[0m \u001b[1m1s\u001b[0m 5ms/step - accuracy: 0.7010 - loss: 1.0292\n"
          ]
        },
        {
          "output_type": "stream",
          "name": "stderr",
          "text": [
            "[I 2024-08-11 21:32:41,237] Trial 1 finished with value: 0.6942499876022339 and parameters: {'num_layers': 3, 'filters_0': 101, 'filters_1': 116, 'filters_2': 54, 'kernel_size': 3, 'l1': 0.0009986048540607797, 'l2': 0.002627859757716432, 'dense_units': 241, 'dropout_rate': 0.21088086063305855, 'learning_rate': 0.00023080165846634928}. Best is trial 1 with value: 0.6942499876022339.\n"
          ]
        },
        {
          "output_type": "stream",
          "name": "stdout",
          "text": [
            "Trial 2 started with hyperparameters: num_layers=5, filters=[101, 125, 126, 65, 52], kernel_size=2, l1=0.0005247649260976362, l2=5.5740227692451466e-05, dense_units=80, dropout_rate=0.3467266196564742, learning_rate=7.566885128723997e-05\n",
            "\u001b[1m50/50\u001b[0m \u001b[32m━━━━━━━━━━━━━━━━━━━━\u001b[0m\u001b[37m\u001b[0m \u001b[1m13s\u001b[0m 96ms/step - accuracy: 0.5034 - loss: 4.1769 - val_accuracy: 0.5625 - val_loss: 3.9600\n",
            "\u001b[1m50/50\u001b[0m \u001b[32m━━━━━━━━━━━━━━━━━━━━\u001b[0m\u001b[37m\u001b[0m \u001b[1m2s\u001b[0m 33ms/step - accuracy: 0.5260 - loss: 3.8908 - val_accuracy: 0.4863 - val_loss: 3.6872\n",
            "\u001b[1m50/50\u001b[0m \u001b[32m━━━━━━━━━━━━━━━━━━━━\u001b[0m\u001b[37m\u001b[0m \u001b[1m2s\u001b[0m 33ms/step - accuracy: 0.5605 - loss: 3.6217 - val_accuracy: 0.4988 - val_loss: 3.4357\n",
            "\u001b[1m50/50\u001b[0m \u001b[32m━━━━━━━━━━━━━━━━━━━━\u001b[0m\u001b[37m\u001b[0m \u001b[1m2s\u001b[0m 34ms/step - accuracy: 0.5420 - loss: 3.3719 - val_accuracy: 0.5150 - val_loss: 3.1866\n",
            "\u001b[1m50/50\u001b[0m \u001b[32m━━━━━━━━━━━━━━━━━━━━\u001b[0m\u001b[37m\u001b[0m \u001b[1m2s\u001b[0m 33ms/step - accuracy: 0.6015 - loss: 3.1300 - val_accuracy: 0.5775 - val_loss: 2.9556\n",
            "\u001b[1m50/50\u001b[0m \u001b[32m━━━━━━━━━━━━━━━━━━━━\u001b[0m\u001b[37m\u001b[0m \u001b[1m2s\u001b[0m 33ms/step - accuracy: 0.5985 - loss: 2.9113 - val_accuracy: 0.5725 - val_loss: 2.7728\n",
            "\u001b[1m50/50\u001b[0m \u001b[32m━━━━━━━━━━━━━━━━━━━━\u001b[0m\u001b[37m\u001b[0m \u001b[1m2s\u001b[0m 34ms/step - accuracy: 0.6151 - loss: 2.7059 - val_accuracy: 0.6325 - val_loss: 2.5712\n",
            "\u001b[1m50/50\u001b[0m \u001b[32m━━━━━━━━━━━━━━━━━━━━\u001b[0m\u001b[37m\u001b[0m \u001b[1m2s\u001b[0m 33ms/step - accuracy: 0.6427 - loss: 2.5201 - val_accuracy: 0.6187 - val_loss: 2.4031\n",
            "\u001b[1m50/50\u001b[0m \u001b[32m━━━━━━━━━━━━━━━━━━━━\u001b[0m\u001b[37m\u001b[0m \u001b[1m2s\u001b[0m 33ms/step - accuracy: 0.6243 - loss: 2.3605 - val_accuracy: 0.6662 - val_loss: 2.2355\n",
            "\u001b[1m125/125\u001b[0m \u001b[32m━━━━━━━━━━━━━━━━━━━━\u001b[0m\u001b[37m\u001b[0m \u001b[1m1s\u001b[0m 6ms/step - accuracy: 0.6653 - loss: 2.2384\n"
          ]
        },
        {
          "output_type": "stream",
          "name": "stderr",
          "text": [
            "[I 2024-08-11 21:46:47,489] Trial 2 finished with value: 0.6495000123977661 and parameters: {'num_layers': 5, 'filters_0': 101, 'filters_1': 125, 'filters_2': 126, 'filters_3': 65, 'filters_4': 52, 'kernel_size': 2, 'l1': 0.0005247649260976362, 'l2': 5.5740227692451466e-05, 'dense_units': 80, 'dropout_rate': 0.3467266196564742, 'learning_rate': 7.566885128723997e-05}. Best is trial 1 with value: 0.6942499876022339.\n"
          ]
        },
        {
          "output_type": "stream",
          "name": "stdout",
          "text": [
            "Trial 3 started with hyperparameters: num_layers=6, filters=[91, 63, 88, 117, 90, 102], kernel_size=2, l1=0.0001471663445242385, l2=1.4016363124151108e-06, dense_units=252, dropout_rate=0.11766010734232119, learning_rate=0.0007862862563853406\n",
            "\u001b[1m50/50\u001b[0m \u001b[32m━━━━━━━━━━━━━━━━━━━━\u001b[0m\u001b[37m\u001b[0m \u001b[1m12s\u001b[0m 89ms/step - accuracy: 0.5069 - loss: 1.6121 - val_accuracy: 0.5175 - val_loss: 1.1366\n",
            "\u001b[1m50/50\u001b[0m \u001b[32m━━━━━━━━━━━━━━━━━━━━\u001b[0m\u001b[37m\u001b[0m \u001b[1m1s\u001b[0m 27ms/step - accuracy: 0.5244 - loss: 1.0251 - val_accuracy: 0.4800 - val_loss: 0.7845\n",
            "\u001b[1m50/50\u001b[0m \u001b[32m━━━━━━━━━━━━━━━━━━━━\u001b[0m\u001b[37m\u001b[0m \u001b[1m1s\u001b[0m 27ms/step - accuracy: 0.4991 - loss: 0.7560 - val_accuracy: 0.4725 - val_loss: 0.7127\n",
            "\u001b[1m50/50\u001b[0m \u001b[32m━━━━━━━━━━━━━━━━━━━━\u001b[0m\u001b[37m\u001b[0m \u001b[1m1s\u001b[0m 27ms/step - accuracy: 0.4957 - loss: 0.7081 - val_accuracy: 0.5063 - val_loss: 0.6999\n",
            "\u001b[1m50/50\u001b[0m \u001b[32m━━━━━━━━━━━━━━━━━━━━\u001b[0m\u001b[37m\u001b[0m \u001b[1m1s\u001b[0m 28ms/step - accuracy: 0.4995 - loss: 0.6990 - val_accuracy: 0.5088 - val_loss: 0.6969\n",
            "\u001b[1m50/50\u001b[0m \u001b[32m━━━━━━━━━━━━━━━━━━━━\u001b[0m\u001b[37m\u001b[0m \u001b[1m1s\u001b[0m 27ms/step - accuracy: 0.4981 - loss: 0.6966 - val_accuracy: 0.5050 - val_loss: 0.6960\n",
            "\u001b[1m50/50\u001b[0m \u001b[32m━━━━━━━━━━━━━━━━━━━━\u001b[0m\u001b[37m\u001b[0m \u001b[1m1s\u001b[0m 27ms/step - accuracy: 0.4887 - loss: 0.6960 - val_accuracy: 0.4663 - val_loss: 0.6960\n",
            "\u001b[1m50/50\u001b[0m \u001b[32m━━━━━━━━━━━━━━━━━━━━\u001b[0m\u001b[37m\u001b[0m \u001b[1m1s\u001b[0m 27ms/step - accuracy: 0.5091 - loss: 0.6957 - val_accuracy: 0.4787 - val_loss: 0.6959\n",
            "\u001b[1m50/50\u001b[0m \u001b[32m━━━━━━━━━━━━━━━━━━━━\u001b[0m\u001b[37m\u001b[0m \u001b[1m1s\u001b[0m 27ms/step - accuracy: 0.5066 - loss: 0.6956 - val_accuracy: 0.5025 - val_loss: 0.6956\n",
            "\u001b[1m125/125\u001b[0m \u001b[32m━━━━━━━━━━━━━━━━━━━━\u001b[0m\u001b[37m\u001b[0m \u001b[1m1s\u001b[0m 5ms/step - accuracy: 0.4971 - loss: 0.6956\n"
          ]
        },
        {
          "output_type": "stream",
          "name": "stderr",
          "text": [
            "[I 2024-08-11 22:00:49,929] Trial 3 finished with value: 0.5 and parameters: {'num_layers': 6, 'filters_0': 91, 'filters_1': 63, 'filters_2': 88, 'filters_3': 117, 'filters_4': 90, 'filters_5': 102, 'kernel_size': 2, 'l1': 0.0001471663445242385, 'l2': 1.4016363124151108e-06, 'dense_units': 252, 'dropout_rate': 0.11766010734232119, 'learning_rate': 0.0007862862563853406}. Best is trial 1 with value: 0.6942499876022339.\n"
          ]
        },
        {
          "output_type": "stream",
          "name": "stdout",
          "text": [
            "Trial 4 started with hyperparameters: num_layers=5, filters=[65, 128, 77, 48, 127], kernel_size=2, l1=5.39171365329603e-06, l2=0.000508098182990793, dense_units=122, dropout_rate=0.44775481260866545, learning_rate=0.00023021217142648836\n",
            "\u001b[1m50/50\u001b[0m \u001b[32m━━━━━━━━━━━━━━━━━━━━\u001b[0m\u001b[37m\u001b[0m \u001b[1m11s\u001b[0m 82ms/step - accuracy: 0.5052 - loss: 0.8700 - val_accuracy: 0.4825 - val_loss: 0.8408\n",
            "\u001b[1m50/50\u001b[0m \u001b[32m━━━━━━━━━━━━━━━━━━━━\u001b[0m\u001b[37m\u001b[0m \u001b[1m1s\u001b[0m 26ms/step - accuracy: 0.5252 - loss: 0.8306 - val_accuracy: 0.6600 - val_loss: 0.7767\n",
            "\u001b[1m50/50\u001b[0m \u001b[32m━━━━━━━━━━━━━━━━━━━━\u001b[0m\u001b[37m\u001b[0m \u001b[1m1s\u001b[0m 26ms/step - accuracy: 0.6258 - loss: 0.7596 - val_accuracy: 0.6787 - val_loss: 0.7007\n",
            "\u001b[1m50/50\u001b[0m \u001b[32m━━━━━━━━━━━━━━━━━━━━\u001b[0m\u001b[37m\u001b[0m \u001b[1m1s\u001b[0m 26ms/step - accuracy: 0.6415 - loss: 0.7069 - val_accuracy: 0.7013 - val_loss: 0.6433\n",
            "\u001b[1m50/50\u001b[0m \u001b[32m━━━━━━━━━━━━━━━━━━━━\u001b[0m\u001b[37m\u001b[0m \u001b[1m1s\u001b[0m 26ms/step - accuracy: 0.6849 - loss: 0.6692 - val_accuracy: 0.7225 - val_loss: 0.6261\n",
            "\u001b[1m50/50\u001b[0m \u001b[32m━━━━━━━━━━━━━━━━━━━━\u001b[0m\u001b[37m\u001b[0m \u001b[1m1s\u001b[0m 26ms/step - accuracy: 0.6714 - loss: 0.6735 - val_accuracy: 0.6988 - val_loss: 0.6283\n",
            "\u001b[1m50/50\u001b[0m \u001b[32m━━━━━━━━━━━━━━━━━━━━\u001b[0m\u001b[37m\u001b[0m \u001b[1m1s\u001b[0m 26ms/step - accuracy: 0.7113 - loss: 0.6254 - val_accuracy: 0.7138 - val_loss: 0.6227\n",
            "\u001b[1m50/50\u001b[0m \u001b[32m━━━━━━━━━━━━━━━━━━━━\u001b[0m\u001b[37m\u001b[0m \u001b[1m1s\u001b[0m 26ms/step - accuracy: 0.6983 - loss: 0.6266 - val_accuracy: 0.6900 - val_loss: 0.6343\n",
            "\u001b[1m50/50\u001b[0m \u001b[32m━━━━━━━━━━━━━━━━━━━━\u001b[0m\u001b[37m\u001b[0m \u001b[1m1s\u001b[0m 26ms/step - accuracy: 0.7021 - loss: 0.6237 - val_accuracy: 0.7437 - val_loss: 0.5712\n",
            "\u001b[1m125/125\u001b[0m \u001b[32m━━━━━━━━━━━━━━━━━━━━\u001b[0m\u001b[37m\u001b[0m \u001b[1m1s\u001b[0m 4ms/step - accuracy: 0.7276 - loss: 0.5879\n"
          ]
        },
        {
          "output_type": "stream",
          "name": "stderr",
          "text": [
            "[I 2024-08-11 22:14:50,576] Trial 4 finished with value: 0.7225000262260437 and parameters: {'num_layers': 5, 'filters_0': 65, 'filters_1': 128, 'filters_2': 77, 'filters_3': 48, 'filters_4': 127, 'kernel_size': 2, 'l1': 5.39171365329603e-06, 'l2': 0.000508098182990793, 'dense_units': 122, 'dropout_rate': 0.44775481260866545, 'learning_rate': 0.00023021217142648836}. Best is trial 4 with value: 0.7225000262260437.\n"
          ]
        },
        {
          "output_type": "stream",
          "name": "stdout",
          "text": [
            "Trial 5 started with hyperparameters: num_layers=6, filters=[50, 37, 89, 53, 42, 107], kernel_size=2, l1=1.9233496604683495e-06, l2=1.2753896003404279e-05, dense_units=87, dropout_rate=0.21603343000694922, learning_rate=2.161713178224045e-05\n",
            "\u001b[1m47/50\u001b[0m \u001b[32m━━━━━━━━━━━━━━━━━━\u001b[0m\u001b[37m━━\u001b[0m \u001b[1m0s\u001b[0m 15ms/step - accuracy: 0.4880 - loss: 0.7037"
          ]
        },
        {
          "output_type": "stream",
          "name": "stderr",
          "text": [
            "[I 2024-08-11 22:16:23,913] Trial 5 pruned. Trial was pruned at epoch 0.\n"
          ]
        },
        {
          "output_type": "stream",
          "name": "stdout",
          "text": [
            "Trial 6 started with hyperparameters: num_layers=3, filters=[76, 66, 78], kernel_size=2, l1=7.468164125503987e-05, l2=0.00010731043098283127, dense_units=252, dropout_rate=0.3129886989076277, learning_rate=0.00015987305851459204\n",
            "\u001b[1m49/50\u001b[0m \u001b[32m━━━━━━━━━━━━━━━━━━━\u001b[0m\u001b[37m━\u001b[0m \u001b[1m0s\u001b[0m 20ms/step - accuracy: 0.5149 - loss: 0.8900"
          ]
        },
        {
          "output_type": "stream",
          "name": "stderr",
          "text": [
            "[I 2024-08-11 22:17:55,198] Trial 6 pruned. Trial was pruned at epoch 0.\n"
          ]
        },
        {
          "output_type": "stream",
          "name": "stdout",
          "text": [
            "Trial 7 started with hyperparameters: num_layers=4, filters=[38, 54, 90, 126], kernel_size=3, l1=0.0014879423280489527, l2=2.1657315660506146e-05, dense_units=241, dropout_rate=0.11048325371090782, learning_rate=0.0005747780546337774\n",
            "\u001b[1m50/50\u001b[0m \u001b[32m━━━━━━━━━━━━━━━━━━━━\u001b[0m\u001b[37m\u001b[0m \u001b[1m10s\u001b[0m 73ms/step - accuracy: 0.5065 - loss: 7.0148 - val_accuracy: 0.4825 - val_loss: 3.5540\n",
            "\u001b[1m50/50\u001b[0m \u001b[32m━━━━━━━━━━━━━━━━━━━━\u001b[0m\u001b[37m\u001b[0m \u001b[1m1s\u001b[0m 22ms/step - accuracy: 0.5146 - loss: 2.8116 - val_accuracy: 0.5200 - val_loss: 1.3449\n",
            "\u001b[1m50/50\u001b[0m \u001b[32m━━━━━━━━━━━━━━━━━━━━\u001b[0m\u001b[37m\u001b[0m \u001b[1m1s\u001b[0m 22ms/step - accuracy: 0.5187 - loss: 1.1761 - val_accuracy: 0.5275 - val_loss: 0.8900\n",
            "\u001b[1m50/50\u001b[0m \u001b[32m━━━━━━━━━━━━━━━━━━━━\u001b[0m\u001b[37m\u001b[0m \u001b[1m1s\u001b[0m 22ms/step - accuracy: 0.5047 - loss: 0.8566 - val_accuracy: 0.4938 - val_loss: 0.7884\n",
            "\u001b[1m50/50\u001b[0m \u001b[32m━━━━━━━━━━━━━━━━━━━━\u001b[0m\u001b[37m\u001b[0m \u001b[1m1s\u001b[0m 22ms/step - accuracy: 0.5063 - loss: 0.7766 - val_accuracy: 0.4913 - val_loss: 0.7504\n",
            "\u001b[1m50/50\u001b[0m \u001b[32m━━━━━━━━━━━━━━━━━━━━\u001b[0m\u001b[37m\u001b[0m \u001b[1m1s\u001b[0m 22ms/step - accuracy: 0.5109 - loss: 0.7448 - val_accuracy: 0.5050 - val_loss: 0.7319\n",
            "\u001b[1m50/50\u001b[0m \u001b[32m━━━━━━━━━━━━━━━━━━━━\u001b[0m\u001b[37m\u001b[0m \u001b[1m1s\u001b[0m 21ms/step - accuracy: 0.4892 - loss: 0.7293 - val_accuracy: 0.4663 - val_loss: 0.7227\n",
            "\u001b[1m50/50\u001b[0m \u001b[32m━━━━━━━━━━━━━━━━━━━━\u001b[0m\u001b[37m\u001b[0m \u001b[1m1s\u001b[0m 22ms/step - accuracy: 0.5091 - loss: 0.7210 - val_accuracy: 0.4787 - val_loss: 0.7179\n",
            "\u001b[1m50/50\u001b[0m \u001b[32m━━━━━━━━━━━━━━━━━━━━\u001b[0m\u001b[37m\u001b[0m \u001b[1m1s\u001b[0m 21ms/step - accuracy: 0.5066 - loss: 0.7169 - val_accuracy: 0.5025 - val_loss: 0.7153\n",
            "\u001b[1m125/125\u001b[0m \u001b[32m━━━━━━━━━━━━━━━━━━━━\u001b[0m\u001b[37m\u001b[0m \u001b[1m1s\u001b[0m 4ms/step - accuracy: 0.4971 - loss: 0.7153\n"
          ]
        },
        {
          "output_type": "stream",
          "name": "stderr",
          "text": [
            "[I 2024-08-11 22:31:51,961] Trial 7 finished with value: 0.5 and parameters: {'num_layers': 4, 'filters_0': 38, 'filters_1': 54, 'filters_2': 90, 'filters_3': 126, 'kernel_size': 3, 'l1': 0.0014879423280489527, 'l2': 2.1657315660506146e-05, 'dense_units': 241, 'dropout_rate': 0.11048325371090782, 'learning_rate': 0.0005747780546337774}. Best is trial 4 with value: 0.7225000262260437.\n"
          ]
        },
        {
          "output_type": "stream",
          "name": "stdout",
          "text": [
            "Trial 8 started with hyperparameters: num_layers=6, filters=[64, 98, 81, 128, 95, 98], kernel_size=2, l1=0.0007330625519980488, l2=0.00027240298047426155, dense_units=183, dropout_rate=0.2374804565684054, learning_rate=0.000594663300729966\n",
            "\u001b[1m50/50\u001b[0m \u001b[32m━━━━━━━━━━━━━━━━━━━━\u001b[0m\u001b[37m\u001b[0m \u001b[1m11s\u001b[0m 86ms/step - accuracy: 0.4911 - loss: 5.8061 - val_accuracy: 0.4825 - val_loss: 3.3954\n",
            "\u001b[1m50/50\u001b[0m \u001b[32m━━━━━━━━━━━━━━━━━━━━\u001b[0m\u001b[37m\u001b[0m \u001b[1m1s\u001b[0m 26ms/step - accuracy: 0.5079 - loss: 2.8064 - val_accuracy: 0.4800 - val_loss: 1.4064\n",
            "\u001b[1m50/50\u001b[0m \u001b[32m━━━━━━━━━━━━━━━━━━━━\u001b[0m\u001b[37m\u001b[0m \u001b[1m1s\u001b[0m 26ms/step - accuracy: 0.5041 - loss: 1.1530 - val_accuracy: 0.4725 - val_loss: 0.7402\n",
            "\u001b[1m50/50\u001b[0m \u001b[32m━━━━━━━━━━━━━━━━━━━━\u001b[0m\u001b[37m\u001b[0m \u001b[1m1s\u001b[0m 26ms/step - accuracy: 0.4949 - loss: 0.7236 - val_accuracy: 0.5063 - val_loss: 0.7062\n",
            "\u001b[1m50/50\u001b[0m \u001b[32m━━━━━━━━━━━━━━━━━━━━\u001b[0m\u001b[37m\u001b[0m \u001b[1m1s\u001b[0m 27ms/step - accuracy: 0.4934 - loss: 0.7056 - val_accuracy: 0.5088 - val_loss: 0.7042\n",
            "\u001b[1m50/50\u001b[0m \u001b[32m━━━━━━━━━━━━━━━━━━━━\u001b[0m\u001b[37m\u001b[0m \u001b[1m1s\u001b[0m 26ms/step - accuracy: 0.4988 - loss: 0.7040 - val_accuracy: 0.5050 - val_loss: 0.7035\n",
            "\u001b[1m50/50\u001b[0m \u001b[32m━━━━━━━━━━━━━━━━━━━━\u001b[0m\u001b[37m\u001b[0m \u001b[1m1s\u001b[0m 26ms/step - accuracy: 0.4861 - loss: 0.7036 - val_accuracy: 0.4663 - val_loss: 0.7036\n",
            "\u001b[1m50/50\u001b[0m \u001b[32m━━━━━━━━━━━━━━━━━━━━\u001b[0m\u001b[37m\u001b[0m \u001b[1m1s\u001b[0m 26ms/step - accuracy: 0.5064 - loss: 0.7033 - val_accuracy: 0.4787 - val_loss: 0.7035\n",
            "\u001b[1m50/50\u001b[0m \u001b[32m━━━━━━━━━━━━━━━━━━━━\u001b[0m\u001b[37m\u001b[0m \u001b[1m1s\u001b[0m 26ms/step - accuracy: 0.5062 - loss: 0.7032 - val_accuracy: 0.5025 - val_loss: 0.7033\n",
            "\u001b[1m125/125\u001b[0m \u001b[32m━━━━━━━━━━━━━━━━━━━━\u001b[0m\u001b[37m\u001b[0m \u001b[1m1s\u001b[0m 5ms/step - accuracy: 0.4971 - loss: 0.7033\n"
          ]
        },
        {
          "output_type": "stream",
          "name": "stderr",
          "text": [
            "[I 2024-08-11 22:45:52,816] Trial 8 finished with value: 0.5 and parameters: {'num_layers': 6, 'filters_0': 64, 'filters_1': 98, 'filters_2': 81, 'filters_3': 128, 'filters_4': 95, 'filters_5': 98, 'kernel_size': 2, 'l1': 0.0007330625519980488, 'l2': 0.00027240298047426155, 'dense_units': 183, 'dropout_rate': 0.2374804565684054, 'learning_rate': 0.000594663300729966}. Best is trial 4 with value: 0.7225000262260437.\n"
          ]
        },
        {
          "output_type": "stream",
          "name": "stdout",
          "text": [
            "Trial 9 started with hyperparameters: num_layers=5, filters=[76, 91, 48, 79, 107], kernel_size=3, l1=0.0004385157374745225, l2=0.00034722794470527866, dense_units=220, dropout_rate=0.28324351282481897, learning_rate=0.0008555021458350018\n",
            "\u001b[1m48/50\u001b[0m \u001b[32m━━━━━━━━━━━━━━━━━━━\u001b[0m\u001b[37m━\u001b[0m \u001b[1m0s\u001b[0m 23ms/step - accuracy: 0.4867 - loss: 3.0759"
          ]
        },
        {
          "output_type": "stream",
          "name": "stderr",
          "text": [
            "[I 2024-08-11 22:47:27,719] Trial 9 pruned. Trial was pruned at epoch 0.\n"
          ]
        },
        {
          "output_type": "stream",
          "name": "stdout",
          "text": [
            "Trial 10 started with hyperparameters: num_layers=4, filters=[127, 108, 125, 37], kernel_size=3, l1=3.188962156786051e-06, l2=0.007563562152050047, dense_units=126, dropout_rate=0.46610330603845346, learning_rate=6.711938117634237e-05\n",
            "\u001b[1m49/50\u001b[0m \u001b[32m━━━━━━━━━━━━━━━━━━━\u001b[0m\u001b[37m━\u001b[0m \u001b[1m0s\u001b[0m 29ms/step - accuracy: 0.4925 - loss: 2.8461"
          ]
        },
        {
          "output_type": "stream",
          "name": "stderr",
          "text": [
            "[I 2024-08-11 22:49:03,567] Trial 10 pruned. Trial was pruned at epoch 0.\n"
          ]
        },
        {
          "output_type": "stream",
          "name": "stdout",
          "text": [
            "Trial 11 started with hyperparameters: num_layers=3, filters=[110, 126, 50], kernel_size=3, l1=0.005850985615973771, l2=0.004149861116907144, dense_units=135, dropout_rate=0.45420502943650126, learning_rate=0.00023577617701059668\n",
            "\u001b[1m50/50\u001b[0m \u001b[32m━━━━━━━━━━━━━━━━━━━━\u001b[0m\u001b[37m\u001b[0m \u001b[1m13s\u001b[0m 92ms/step - accuracy: 0.5082 - loss: 28.2606 - val_accuracy: 0.4825 - val_loss: 19.8869\n",
            "\u001b[1m50/50\u001b[0m \u001b[32m━━━━━━━━━━━━━━━━━━━━\u001b[0m\u001b[37m\u001b[0m \u001b[1m2s\u001b[0m 35ms/step - accuracy: 0.5370 - loss: 17.5322 - val_accuracy: 0.6562 - val_loss: 11.2243\n",
            "\u001b[1m50/50\u001b[0m \u001b[32m━━━━━━━━━━━━━━━━━━━━\u001b[0m\u001b[37m\u001b[0m \u001b[1m2s\u001b[0m 35ms/step - accuracy: 0.5683 - loss: 9.5633 - val_accuracy: 0.6237 - val_loss: 5.3047\n",
            "\u001b[1m50/50\u001b[0m \u001b[32m━━━━━━━━━━━━━━━━━━━━\u001b[0m\u001b[37m\u001b[0m \u001b[1m2s\u001b[0m 35ms/step - accuracy: 0.5711 - loss: 4.3094 - val_accuracy: 0.4938 - val_loss: 1.9975\n",
            "\u001b[1m50/50\u001b[0m \u001b[32m━━━━━━━━━━━━━━━━━━━━\u001b[0m\u001b[37m\u001b[0m \u001b[1m2s\u001b[0m 35ms/step - accuracy: 0.5521 - loss: 1.6184 - val_accuracy: 0.4913 - val_loss: 0.9696\n",
            "\u001b[1m50/50\u001b[0m \u001b[32m━━━━━━━━━━━━━━━━━━━━\u001b[0m\u001b[37m\u001b[0m \u001b[1m2s\u001b[0m 35ms/step - accuracy: 0.5085 - loss: 0.9067 - val_accuracy: 0.4950 - val_loss: 0.8148\n",
            "\u001b[1m50/50\u001b[0m \u001b[32m━━━━━━━━━━━━━━━━━━━━\u001b[0m\u001b[37m\u001b[0m \u001b[1m2s\u001b[0m 35ms/step - accuracy: 0.5140 - loss: 0.8015 - val_accuracy: 0.4663 - val_loss: 0.7748\n",
            "\u001b[1m50/50\u001b[0m \u001b[32m━━━━━━━━━━━━━━━━━━━━\u001b[0m\u001b[37m\u001b[0m \u001b[1m2s\u001b[0m 35ms/step - accuracy: 0.5019 - loss: 0.7683 - val_accuracy: 0.4787 - val_loss: 0.7550\n",
            "\u001b[1m50/50\u001b[0m \u001b[32m━━━━━━━━━━━━━━━━━━━━\u001b[0m\u001b[37m\u001b[0m \u001b[1m2s\u001b[0m 35ms/step - accuracy: 0.5064 - loss: 0.7517 - val_accuracy: 0.5025 - val_loss: 0.7442\n",
            "\u001b[1m125/125\u001b[0m \u001b[32m━━━━━━━━━━━━━━━━━━━━\u001b[0m\u001b[37m\u001b[0m \u001b[1m1s\u001b[0m 6ms/step - accuracy: 0.4971 - loss: 0.7443\n"
          ]
        },
        {
          "output_type": "stream",
          "name": "stderr",
          "text": [
            "[I 2024-08-11 23:03:08,437] Trial 11 finished with value: 0.5 and parameters: {'num_layers': 3, 'filters_0': 110, 'filters_1': 126, 'filters_2': 50, 'kernel_size': 3, 'l1': 0.005850985615973771, 'l2': 0.004149861116907144, 'dense_units': 135, 'dropout_rate': 0.45420502943650126, 'learning_rate': 0.00023577617701059668}. Best is trial 4 with value: 0.7225000262260437.\n"
          ]
        },
        {
          "output_type": "stream",
          "name": "stdout",
          "text": [
            "Trial 12 started with hyperparameters: num_layers=4, filters=[90, 112, 62, 100], kernel_size=3, l1=1.6776832482223923e-05, l2=0.0017014002167894209, dense_units=147, dropout_rate=0.4037807699360157, learning_rate=0.0002750711894255622\n",
            "\u001b[1m48/50\u001b[0m \u001b[32m━━━━━━━━━━━━━━━━━━━\u001b[0m\u001b[37m━\u001b[0m \u001b[1m0s\u001b[0m 24ms/step - accuracy: 0.5135 - loss: 1.1949"
          ]
        },
        {
          "output_type": "stream",
          "name": "stderr",
          "text": [
            "[I 2024-08-11 23:04:43,214] Trial 12 pruned. Trial was pruned at epoch 0.\n"
          ]
        },
        {
          "output_type": "stream",
          "name": "stdout",
          "text": [
            "Trial 13 started with hyperparameters: num_layers=5, filters=[117, 128, 65, 32, 125], kernel_size=3, l1=1.287797680255723e-05, l2=0.001815137638159481, dense_units=106, dropout_rate=0.18492885975517534, learning_rate=0.0001577363589629533\n",
            "\u001b[1m49/50\u001b[0m \u001b[32m━━━━━━━━━━━━━━━━━━━\u001b[0m\u001b[37m━\u001b[0m \u001b[1m0s\u001b[0m 28ms/step - accuracy: 0.4864 - loss: 1.3033"
          ]
        },
        {
          "output_type": "stream",
          "name": "stderr",
          "text": [
            "[I 2024-08-11 23:06:19,592] Trial 13 pruned. Trial was pruned at epoch 0.\n"
          ]
        },
        {
          "output_type": "stream",
          "name": "stdout",
          "text": [
            "Trial 14 started with hyperparameters: num_layers=3, filters=[90, 84, 105], kernel_size=2, l1=0.008500573643902871, l2=0.0011882180831240027, dense_units=170, dropout_rate=0.407165388247748, learning_rate=3.790575365022451e-05\n",
            "\u001b[1m50/50\u001b[0m \u001b[32m━━━━━━━━━━━━━━━━━━━━\u001b[0m\u001b[37m\u001b[0m \u001b[1m9s\u001b[0m 76ms/step - accuracy: 0.5176 - loss: 26.1239 - val_accuracy: 0.6012 - val_loss: 25.3230\n",
            "\u001b[1m50/50\u001b[0m \u001b[32m━━━━━━━━━━━━━━━━━━━━\u001b[0m\u001b[37m\u001b[0m \u001b[1m1s\u001b[0m 28ms/step - accuracy: 0.5627 - loss: 25.0661 - val_accuracy: 0.6525 - val_loss: 24.2905\n",
            "\u001b[1m50/50\u001b[0m \u001b[32m━━━━━━━━━━━━━━━━━━━━\u001b[0m\u001b[37m\u001b[0m \u001b[1m1s\u001b[0m 28ms/step - accuracy: 0.5745 - loss: 24.0472 - val_accuracy: 0.5663 - val_loss: 23.3062\n",
            "\u001b[1m50/50\u001b[0m \u001b[32m━━━━━━━━━━━━━━━━━━━━\u001b[0m\u001b[37m\u001b[0m \u001b[1m1s\u001b[0m 28ms/step - accuracy: 0.5430 - loss: 23.0712 - val_accuracy: 0.6237 - val_loss: 22.3380\n",
            "\u001b[1m50/50\u001b[0m \u001b[32m━━━━━━━━━━━━━━━━━━━━\u001b[0m\u001b[37m\u001b[0m \u001b[1m1s\u001b[0m 28ms/step - accuracy: 0.5962 - loss: 22.1125 - val_accuracy: 0.5675 - val_loss: 21.4174\n",
            "\u001b[1m50/50\u001b[0m \u001b[32m━━━━━━━━━━━━━━━━━━━━\u001b[0m\u001b[37m\u001b[0m \u001b[1m1s\u001b[0m 28ms/step - accuracy: 0.5750 - loss: 21.2044 - val_accuracy: 0.5975 - val_loss: 20.5435\n",
            "\u001b[1m50/50\u001b[0m \u001b[32m━━━━━━━━━━━━━━━━━━━━\u001b[0m\u001b[37m\u001b[0m \u001b[1m1s\u001b[0m 28ms/step - accuracy: 0.6154 - loss: 20.3181 - val_accuracy: 0.5875 - val_loss: 19.6828\n",
            "\u001b[1m50/50\u001b[0m \u001b[32m━━━━━━━━━━━━━━━━━━━━\u001b[0m\u001b[37m\u001b[0m \u001b[1m1s\u001b[0m 28ms/step - accuracy: 0.6240 - loss: 19.4608 - val_accuracy: 0.6225 - val_loss: 18.8441\n",
            "\u001b[1m50/50\u001b[0m \u001b[32m━━━━━━━━━━━━━━━━━━━━\u001b[0m\u001b[37m\u001b[0m \u001b[1m1s\u001b[0m 28ms/step - accuracy: 0.6364 - loss: 18.6379 - val_accuracy: 0.6538 - val_loss: 18.0323\n",
            "\u001b[1m125/125\u001b[0m \u001b[32m━━━━━━━━━━━━━━━━━━━━\u001b[0m\u001b[37m\u001b[0m \u001b[1m1s\u001b[0m 4ms/step - accuracy: 0.6778 - loss: 18.0304\n"
          ]
        },
        {
          "output_type": "stream",
          "name": "stderr",
          "text": [
            "[I 2024-08-11 23:20:17,302] Trial 14 finished with value: 0.659500002861023 and parameters: {'num_layers': 3, 'filters_0': 90, 'filters_1': 84, 'filters_2': 105, 'kernel_size': 2, 'l1': 0.008500573643902871, 'l2': 0.0011882180831240027, 'dense_units': 170, 'dropout_rate': 0.407165388247748, 'learning_rate': 3.790575365022451e-05}. Best is trial 4 with value: 0.7225000262260437.\n"
          ]
        },
        {
          "output_type": "stream",
          "name": "stdout",
          "text": [
            "Trial 15 started with hyperparameters: num_layers=4, filters=[66, 111, 34, 86], kernel_size=3, l1=3.310951904532454e-05, l2=0.009565654474100124, dense_units=204, dropout_rate=0.49946774203592376, learning_rate=0.00032488137445442727\n",
            "\u001b[1m49/50\u001b[0m \u001b[32m━━━━━━━━━━━━━━━━━━━\u001b[0m\u001b[37m━\u001b[0m \u001b[1m0s\u001b[0m 22ms/step - accuracy: 0.5037 - loss: 2.3440"
          ]
        },
        {
          "output_type": "stream",
          "name": "stderr",
          "text": [
            "[I 2024-08-11 23:21:50,812] Trial 15 pruned. Trial was pruned at epoch 0.\n"
          ]
        },
        {
          "output_type": "stream",
          "name": "stdout",
          "text": [
            "Trial 16 started with hyperparameters: num_layers=5, filters=[108, 104, 67, 68, 122], kernel_size=2, l1=6.43214458309404e-06, l2=0.00011974684010563846, dense_units=119, dropout_rate=0.16730856075362402, learning_rate=0.00012038112268041093\n",
            "\u001b[1m48/50\u001b[0m \u001b[32m━━━━━━━━━━━━━━━━━━━\u001b[0m\u001b[37m━\u001b[0m \u001b[1m0s\u001b[0m 24ms/step - accuracy: 0.5047 - loss: 0.7695"
          ]
        },
        {
          "output_type": "stream",
          "name": "stderr",
          "text": [
            "[I 2024-08-11 23:23:24,304] Trial 16 pruned. Trial was pruned at epoch 0.\n"
          ]
        },
        {
          "output_type": "stream",
          "name": "stdout",
          "text": [
            "Trial 17 started with hyperparameters: num_layers=3, filters=[41, 117, 105], kernel_size=3, l1=0.0026233912758075674, l2=0.0008732903608781751, dense_units=64, dropout_rate=0.36205951032019856, learning_rate=0.000362650503410307\n",
            "\u001b[1m50/50\u001b[0m \u001b[32m━━━━━━━━━━━━━━━━━━━━\u001b[0m\u001b[37m\u001b[0m \u001b[1m11s\u001b[0m 78ms/step - accuracy: 0.5330 - loss: 11.1344 - val_accuracy: 0.4863 - val_loss: 7.1090\n",
            "\u001b[1m50/50\u001b[0m \u001b[32m━━━━━━━━━━━━━━━━━━━━\u001b[0m\u001b[37m\u001b[0m \u001b[1m1s\u001b[0m 26ms/step - accuracy: 0.5638 - loss: 6.0550 - val_accuracy: 0.6750 - val_loss: 3.4067\n",
            "\u001b[1m50/50\u001b[0m \u001b[32m━━━━━━━━━━━━━━━━━━━━\u001b[0m\u001b[37m\u001b[0m \u001b[1m1s\u001b[0m 26ms/step - accuracy: 0.6116 - loss: 2.8524 - val_accuracy: 0.6587 - val_loss: 1.6398\n",
            "\u001b[1m50/50\u001b[0m \u001b[32m━━━━━━━━━━━━━━━━━━━━\u001b[0m\u001b[37m\u001b[0m \u001b[1m1s\u001b[0m 26ms/step - accuracy: 0.6007 - loss: 1.5367 - val_accuracy: 0.6650 - val_loss: 1.1756\n",
            "\u001b[1m50/50\u001b[0m \u001b[32m━━━━━━━━━━━━━━━━━━━━\u001b[0m\u001b[37m\u001b[0m \u001b[1m1s\u001b[0m 26ms/step - accuracy: 0.6528 - loss: 1.1539 - val_accuracy: 0.6450 - val_loss: 1.0386\n",
            "\u001b[1m50/50\u001b[0m \u001b[32m━━━━━━━━━━━━━━━━━━━━\u001b[0m\u001b[37m\u001b[0m \u001b[1m1s\u001b[0m 26ms/step - accuracy: 0.6482 - loss: 1.0344 - val_accuracy: 0.6250 - val_loss: 1.0051\n",
            "\u001b[1m50/50\u001b[0m \u001b[32m━━━━━━━━━━━━━━━━━━━━\u001b[0m\u001b[37m\u001b[0m \u001b[1m1s\u001b[0m 26ms/step - accuracy: 0.6700 - loss: 0.9582 - val_accuracy: 0.6787 - val_loss: 0.9288\n",
            "\u001b[1m50/50\u001b[0m \u001b[32m━━━━━━━━━━━━━━━━━━━━\u001b[0m\u001b[37m\u001b[0m \u001b[1m1s\u001b[0m 26ms/step - accuracy: 0.6329 - loss: 0.9400 - val_accuracy: 0.6600 - val_loss: 0.8956\n",
            "\u001b[1m50/50\u001b[0m \u001b[32m━━━━━━━━━━━━━━━━━━━━\u001b[0m\u001b[37m\u001b[0m \u001b[1m1s\u001b[0m 26ms/step - accuracy: 0.6701 - loss: 0.8846 - val_accuracy: 0.6737 - val_loss: 0.8549\n",
            "\u001b[1m125/125\u001b[0m \u001b[32m━━━━━━━━━━━━━━━━━━━━\u001b[0m\u001b[37m\u001b[0m \u001b[1m1s\u001b[0m 5ms/step - accuracy: 0.6567 - loss: 0.8649\n"
          ]
        },
        {
          "output_type": "stream",
          "name": "stderr",
          "text": [
            "[I 2024-08-11 23:37:26,232] Trial 17 finished with value: 0.6522499918937683 and parameters: {'num_layers': 3, 'filters_0': 41, 'filters_1': 117, 'filters_2': 105, 'kernel_size': 3, 'l1': 0.0026233912758075674, 'l2': 0.0008732903608781751, 'dense_units': 64, 'dropout_rate': 0.36205951032019856, 'learning_rate': 0.000362650503410307}. Best is trial 4 with value: 0.7225000262260437.\n"
          ]
        },
        {
          "output_type": "stream",
          "name": "stdout",
          "text": [
            "Trial 18 started with hyperparameters: num_layers=4, filters=[66, 74, 32, 49], kernel_size=2, l1=0.00011124044512628608, l2=0.002599954369235233, dense_units=160, dropout_rate=0.2598227524252472, learning_rate=7.718808572875722e-05\n",
            "\u001b[1m49/50\u001b[0m \u001b[32m━━━━━━━━━━━━━━━━━━━\u001b[0m\u001b[37m━\u001b[0m \u001b[1m0s\u001b[0m 19ms/step - accuracy: 0.4970 - loss: 1.3104"
          ]
        },
        {
          "output_type": "stream",
          "name": "stderr",
          "text": [
            "[I 2024-08-11 23:38:58,387] Trial 18 pruned. Trial was pruned at epoch 0.\n"
          ]
        },
        {
          "output_type": "stream",
          "name": "stdout",
          "text": [
            "Trial 19 started with hyperparameters: num_layers=5, filters=[95, 95, 52, 93, 68], kernel_size=3, l1=1.1522206550040683e-06, l2=1.343772951699216e-06, dense_units=218, dropout_rate=0.1704341149775896, learning_rate=4.481344781656836e-05\n",
            "\u001b[1m50/50\u001b[0m \u001b[32m━━━━━━━━━━━━━━━━━━━━\u001b[0m\u001b[37m\u001b[0m \u001b[1m0s\u001b[0m 24ms/step - accuracy: 0.4977 - loss: 0.7024"
          ]
        },
        {
          "output_type": "stream",
          "name": "stderr",
          "text": [
            "[I 2024-08-11 23:40:33,859] Trial 19 pruned. Trial was pruned at epoch 0.\n"
          ]
        },
        {
          "output_type": "stream",
          "name": "stdout",
          "text": [
            "Trial 20 started with hyperparameters: num_layers=3, filters=[82, 118, 72], kernel_size=2, l1=2.8957670425913994e-05, l2=0.00031408644658553265, dense_units=148, dropout_rate=0.40164284630032987, learning_rate=0.00018185255688058928\n",
            "\u001b[1m49/50\u001b[0m \u001b[32m━━━━━━━━━━━━━━━━━━━\u001b[0m\u001b[37m━\u001b[0m \u001b[1m0s\u001b[0m 22ms/step - accuracy: 0.5192 - loss: 0.8428"
          ]
        },
        {
          "output_type": "stream",
          "name": "stderr",
          "text": [
            "[I 2024-08-11 23:42:05,161] Trial 20 pruned. Trial was pruned at epoch 0.\n"
          ]
        },
        {
          "output_type": "stream",
          "name": "stdout",
          "text": [
            "Trial 21 started with hyperparameters: num_layers=3, filters=[84, 88, 109], kernel_size=2, l1=0.00881378065388581, l2=0.0009081347616933861, dense_units=170, dropout_rate=0.41657172761174804, learning_rate=3.368890025576175e-05\n",
            "\u001b[1m50/50\u001b[0m \u001b[32m━━━━━━━━━━━━━━━━━━━━\u001b[0m\u001b[37m\u001b[0m \u001b[1m9s\u001b[0m 73ms/step - accuracy: 0.5212 - loss: 27.7895 - val_accuracy: 0.6250 - val_loss: 27.0204\n",
            "\u001b[1m50/50\u001b[0m \u001b[32m━━━━━━━━━━━━━━━━━━━━\u001b[0m\u001b[37m\u001b[0m \u001b[1m1s\u001b[0m 27ms/step - accuracy: 0.5551 - loss: 26.7755 - val_accuracy: 0.6625 - val_loss: 26.0299\n",
            "\u001b[1m50/50\u001b[0m \u001b[32m━━━━━━━━━━━━━━━━━━━━\u001b[0m\u001b[37m\u001b[0m \u001b[1m1s\u001b[0m 27ms/step - accuracy: 0.5877 - loss: 25.7976 - val_accuracy: 0.5875 - val_loss: 25.0819\n",
            "\u001b[1m50/50\u001b[0m \u001b[32m━━━━━━━━━━━━━━━━━━━━\u001b[0m\u001b[37m\u001b[0m \u001b[1m1s\u001b[0m 27ms/step - accuracy: 0.5540 - loss: 24.8591 - val_accuracy: 0.6413 - val_loss: 24.1456\n",
            "\u001b[1m50/50\u001b[0m \u001b[32m━━━━━━━━━━━━━━━━━━━━\u001b[0m\u001b[37m\u001b[0m \u001b[1m1s\u001b[0m 27ms/step - accuracy: 0.6317 - loss: 23.9242 - val_accuracy: 0.6212 - val_loss: 23.2418\n",
            "\u001b[1m50/50\u001b[0m \u001b[32m━━━━━━━━━━━━━━━━━━━━\u001b[0m\u001b[37m\u001b[0m \u001b[1m1s\u001b[0m 27ms/step - accuracy: 0.6163 - loss: 23.0373 - val_accuracy: 0.5888 - val_loss: 22.3954\n",
            "\u001b[1m50/50\u001b[0m \u001b[32m━━━━━━━━━━━━━━━━━━━━\u001b[0m\u001b[37m\u001b[0m \u001b[1m1s\u001b[0m 27ms/step - accuracy: 0.6049 - loss: 22.1799 - val_accuracy: 0.4938 - val_loss: 21.5764\n",
            "\u001b[1m50/50\u001b[0m \u001b[32m━━━━━━━━━━━━━━━━━━━━\u001b[0m\u001b[37m\u001b[0m \u001b[1m1s\u001b[0m 27ms/step - accuracy: 0.6106 - loss: 21.3419 - val_accuracy: 0.6300 - val_loss: 20.7312\n",
            "\u001b[1m50/50\u001b[0m \u001b[32m━━━━━━━━━━━━━━━━━━━━\u001b[0m\u001b[37m\u001b[0m \u001b[1m1s\u001b[0m 27ms/step - accuracy: 0.6313 - loss: 20.5278 - val_accuracy: 0.6488 - val_loss: 19.9370\n",
            "\u001b[1m125/125\u001b[0m \u001b[32m━━━━━━━━━━━━━━━━━━━━\u001b[0m\u001b[37m\u001b[0m \u001b[1m1s\u001b[0m 4ms/step - accuracy: 0.6499 - loss: 19.9335\n"
          ]
        },
        {
          "output_type": "stream",
          "name": "stderr",
          "text": [
            "[I 2024-08-11 23:56:01,220] Trial 21 finished with value: 0.6417499780654907 and parameters: {'num_layers': 3, 'filters_0': 84, 'filters_1': 88, 'filters_2': 109, 'kernel_size': 2, 'l1': 0.00881378065388581, 'l2': 0.0009081347616933861, 'dense_units': 170, 'dropout_rate': 0.41657172761174804, 'learning_rate': 3.368890025576175e-05}. Best is trial 4 with value: 0.7225000262260437.\n"
          ]
        },
        {
          "output_type": "stream",
          "name": "stdout",
          "text": [
            "Trial 22 started with hyperparameters: num_layers=3, filters=[99, 81, 103], kernel_size=2, l1=0.0030205380093875005, l2=0.004358094362758423, dense_units=106, dropout_rate=0.4421838793353998, learning_rate=3.105629094949289e-05\n",
            "\u001b[1m50/50\u001b[0m \u001b[32m━━━━━━━━━━━━━━━━━━━━\u001b[0m\u001b[37m\u001b[0m \u001b[1m10s\u001b[0m 79ms/step - accuracy: 0.5152 - loss: 10.4365 - val_accuracy: 0.4825 - val_loss: 10.1787\n",
            "\u001b[1m50/50\u001b[0m \u001b[32m━━━━━━━━━━━━━━━━━━━━\u001b[0m\u001b[37m\u001b[0m \u001b[1m2s\u001b[0m 30ms/step - accuracy: 0.5501 - loss: 10.0947 - val_accuracy: 0.6425 - val_loss: 9.8455\n",
            "\u001b[1m50/50\u001b[0m \u001b[32m━━━━━━━━━━━━━━━━━━━━\u001b[0m\u001b[37m\u001b[0m \u001b[1m2s\u001b[0m 31ms/step - accuracy: 0.5714 - loss: 9.7680 - val_accuracy: 0.5387 - val_loss: 9.5377\n",
            "\u001b[1m50/50\u001b[0m \u001b[32m━━━━━━━━━━━━━━━━━━━━\u001b[0m\u001b[37m\u001b[0m \u001b[1m2s\u001b[0m 31ms/step - accuracy: 0.5505 - loss: 9.4602 - val_accuracy: 0.5475 - val_loss: 9.2186\n",
            "\u001b[1m50/50\u001b[0m \u001b[32m━━━━━━━━━━━━━━━━━━━━\u001b[0m\u001b[37m\u001b[0m \u001b[1m2s\u001b[0m 30ms/step - accuracy: 0.6061 - loss: 9.1489 - val_accuracy: 0.6338 - val_loss: 8.9172\n",
            "\u001b[1m50/50\u001b[0m \u001b[32m━━━━━━━━━━━━━━━━━━━━\u001b[0m\u001b[37m\u001b[0m \u001b[1m2s\u001b[0m 31ms/step - accuracy: 0.5939 - loss: 8.8588 - val_accuracy: 0.6100 - val_loss: 8.6471\n",
            "\u001b[1m50/50\u001b[0m \u001b[32m━━━━━━━━━━━━━━━━━━━━\u001b[0m\u001b[37m\u001b[0m \u001b[1m2s\u001b[0m 30ms/step - accuracy: 0.6001 - loss: 8.5804 - val_accuracy: 0.4950 - val_loss: 8.3965\n",
            "\u001b[1m50/50\u001b[0m \u001b[32m━━━━━━━━━━━━━━━━━━━━\u001b[0m\u001b[37m\u001b[0m \u001b[1m2s\u001b[0m 30ms/step - accuracy: 0.6034 - loss: 8.3086 - val_accuracy: 0.6350 - val_loss: 8.1110\n",
            "\u001b[1m50/50\u001b[0m \u001b[32m━━━━━━━━━━━━━━━━━━━━\u001b[0m\u001b[37m\u001b[0m \u001b[1m2s\u001b[0m 30ms/step - accuracy: 0.6369 - loss: 8.0437 - val_accuracy: 0.6562 - val_loss: 7.8542\n",
            "\u001b[1m125/125\u001b[0m \u001b[32m━━━━━━━━━━━━━━━━━━━━\u001b[0m\u001b[37m\u001b[0m \u001b[1m1s\u001b[0m 5ms/step - accuracy: 0.6576 - loss: 7.8514\n"
          ]
        },
        {
          "output_type": "stream",
          "name": "stderr",
          "text": [
            "[I 2024-08-12 00:09:59,552] Trial 22 finished with value: 0.6464999914169312 and parameters: {'num_layers': 3, 'filters_0': 99, 'filters_1': 81, 'filters_2': 103, 'kernel_size': 2, 'l1': 0.0030205380093875005, 'l2': 0.004358094362758423, 'dense_units': 106, 'dropout_rate': 0.4421838793353998, 'learning_rate': 3.105629094949289e-05}. Best is trial 4 with value: 0.7225000262260437.\n"
          ]
        },
        {
          "output_type": "stream",
          "name": "stdout",
          "text": [
            "Trial 23 started with hyperparameters: num_layers=4, filters=[107, 38, 98, 68], kernel_size=2, l1=0.0016257514995275525, l2=0.0009336596993429519, dense_units=226, dropout_rate=0.36290029476435487, learning_rate=0.00040575781715401294\n",
            "\u001b[1m48/50\u001b[0m \u001b[32m━━━━━━━━━━━━━━━━━━━\u001b[0m\u001b[37m━\u001b[0m \u001b[1m0s\u001b[0m 22ms/step - accuracy: 0.5027 - loss: 5.1857"
          ]
        },
        {
          "output_type": "stream",
          "name": "stderr",
          "text": [
            "[I 2024-08-12 00:11:31,655] Trial 23 pruned. Trial was pruned at epoch 0.\n"
          ]
        },
        {
          "output_type": "stream",
          "name": "stdout",
          "text": [
            "Trial 24 started with hyperparameters: num_layers=3, filters=[75, 101, 112], kernel_size=2, l1=0.004516284770849155, l2=0.00018714220922998463, dense_units=175, dropout_rate=0.4839784648495332, learning_rate=1.2253759134421204e-05\n",
            "\u001b[1m50/50\u001b[0m \u001b[32m━━━━━━━━━━━━━━━━━━━━\u001b[0m\u001b[37m\u001b[0m \u001b[1m9s\u001b[0m 76ms/step - accuracy: 0.4910 - loss: 15.6002 - val_accuracy: 0.4825 - val_loss: 15.4424\n",
            "\u001b[1m50/50\u001b[0m \u001b[32m━━━━━━━━━━━━━━━━━━━━\u001b[0m\u001b[37m\u001b[0m \u001b[1m1s\u001b[0m 29ms/step - accuracy: 0.4868 - loss: 15.3934 - val_accuracy: 0.5587 - val_loss: 15.2315\n",
            "\u001b[1m50/50\u001b[0m \u001b[32m━━━━━━━━━━━━━━━━━━━━\u001b[0m\u001b[37m\u001b[0m \u001b[1m1s\u001b[0m 29ms/step - accuracy: 0.5166 - loss: 15.1826 - val_accuracy: 0.4900 - val_loss: 15.0288\n",
            "\u001b[1m50/50\u001b[0m \u001b[32m━━━━━━━━━━━━━━━━━━━━\u001b[0m\u001b[37m\u001b[0m \u001b[1m1s\u001b[0m 29ms/step - accuracy: 0.5169 - loss: 14.9776 - val_accuracy: 0.6625 - val_loss: 14.8227\n",
            "\u001b[1m50/50\u001b[0m \u001b[32m━━━━━━━━━━━━━━━━━━━━\u001b[0m\u001b[37m\u001b[0m \u001b[1m1s\u001b[0m 29ms/step - accuracy: 0.5320 - loss: 14.7738 - val_accuracy: 0.5587 - val_loss: 14.6178\n",
            "\u001b[1m50/50\u001b[0m \u001b[32m━━━━━━━━━━━━━━━━━━━━\u001b[0m\u001b[37m\u001b[0m \u001b[1m1s\u001b[0m 29ms/step - accuracy: 0.5442 - loss: 14.5710 - val_accuracy: 0.5125 - val_loss: 14.4207\n",
            "\u001b[1m50/50\u001b[0m \u001b[32m━━━━━━━━━━━━━━━━━━━━\u001b[0m\u001b[37m\u001b[0m \u001b[1m1s\u001b[0m 29ms/step - accuracy: 0.5546 - loss: 14.3713 - val_accuracy: 0.5575 - val_loss: 14.2196\n",
            "\u001b[1m50/50\u001b[0m \u001b[32m━━━━━━━━━━━━━━━━━━━━\u001b[0m\u001b[37m\u001b[0m \u001b[1m1s\u001b[0m 29ms/step - accuracy: 0.5367 - loss: 14.1749 - val_accuracy: 0.4775 - val_loss: 14.0297\n",
            "\u001b[1m50/50\u001b[0m \u001b[32m━━━━━━━━━━━━━━━━━━━━\u001b[0m\u001b[37m\u001b[0m \u001b[1m1s\u001b[0m 29ms/step - accuracy: 0.5449 - loss: 13.9772 - val_accuracy: 0.6425 - val_loss: 13.8297\n",
            "\u001b[1m125/125\u001b[0m \u001b[32m━━━━━━━━━━━━━━━━━━━━\u001b[0m\u001b[37m\u001b[0m \u001b[1m1s\u001b[0m 5ms/step - accuracy: 0.6596 - loss: 13.8292\n"
          ]
        },
        {
          "output_type": "stream",
          "name": "stderr",
          "text": [
            "[I 2024-08-12 00:25:32,243] Trial 24 finished with value: 0.643750011920929 and parameters: {'num_layers': 3, 'filters_0': 75, 'filters_1': 101, 'filters_2': 112, 'kernel_size': 2, 'l1': 0.004516284770849155, 'l2': 0.00018714220922998463, 'dense_units': 175, 'dropout_rate': 0.4839784648495332, 'learning_rate': 1.2253759134421204e-05}. Best is trial 4 with value: 0.7225000262260437.\n"
          ]
        },
        {
          "output_type": "stream",
          "name": "stdout",
          "text": [
            "Trial 25 started with hyperparameters: num_layers=4, filters=[56, 118, 117, 105], kernel_size=2, l1=0.0011808612592300316, l2=0.0028097376649125474, dense_units=150, dropout_rate=0.34472590351113835, learning_rate=0.00010475342836908468\n",
            "\u001b[1m50/50\u001b[0m \u001b[32m━━━━━━━━━━━━━━━━━━━━\u001b[0m\u001b[37m\u001b[0m \u001b[1m11s\u001b[0m 77ms/step - accuracy: 0.4945 - loss: 7.7965 - val_accuracy: 0.4825 - val_loss: 7.1262\n",
            "\u001b[1m50/50\u001b[0m \u001b[32m━━━━━━━━━━━━━━━━━━━━\u001b[0m\u001b[37m\u001b[0m \u001b[1m1s\u001b[0m 26ms/step - accuracy: 0.5139 - loss: 6.9114 - val_accuracy: 0.6637 - val_loss: 6.2938\n",
            "\u001b[1m50/50\u001b[0m \u001b[32m━━━━━━━━━━━━━━━━━━━━\u001b[0m\u001b[37m\u001b[0m \u001b[1m1s\u001b[0m 26ms/step - accuracy: 0.5941 - loss: 6.1011 - val_accuracy: 0.5825 - val_loss: 5.5494\n",
            "\u001b[1m50/50\u001b[0m \u001b[32m━━━━━━━━━━━━━━━━━━━━\u001b[0m\u001b[37m\u001b[0m \u001b[1m1s\u001b[0m 26ms/step - accuracy: 0.5381 - loss: 5.3862 - val_accuracy: 0.6162 - val_loss: 4.8837\n",
            "\u001b[1m50/50\u001b[0m \u001b[32m━━━━━━━━━━━━━━━━━━━━\u001b[0m\u001b[37m\u001b[0m \u001b[1m1s\u001b[0m 27ms/step - accuracy: 0.6132 - loss: 4.7356 - val_accuracy: 0.5238 - val_loss: 4.3116\n",
            "\u001b[1m50/50\u001b[0m \u001b[32m━━━━━━━━━━━━━━━━━━━━\u001b[0m\u001b[37m\u001b[0m \u001b[1m1s\u001b[0m 26ms/step - accuracy: 0.6062 - loss: 4.1829 - val_accuracy: 0.5850 - val_loss: 3.8229\n",
            "\u001b[1m50/50\u001b[0m \u001b[32m━━━━━━━━━━━━━━━━━━━━\u001b[0m\u001b[37m\u001b[0m \u001b[1m1s\u001b[0m 26ms/step - accuracy: 0.6249 - loss: 3.6775 - val_accuracy: 0.5838 - val_loss: 3.3708\n",
            "\u001b[1m50/50\u001b[0m \u001b[32m━━━━━━━━━━━━━━━━━━━━\u001b[0m\u001b[37m\u001b[0m \u001b[1m1s\u001b[0m 26ms/step - accuracy: 0.6426 - loss: 3.2445 - val_accuracy: 0.5975 - val_loss: 2.9744\n",
            "\u001b[1m50/50\u001b[0m \u001b[32m━━━━━━━━━━━━━━━━━━━━\u001b[0m\u001b[37m\u001b[0m \u001b[1m1s\u001b[0m 26ms/step - accuracy: 0.6238 - loss: 2.8793 - val_accuracy: 0.6575 - val_loss: 2.6115\n",
            "\u001b[1m125/125\u001b[0m \u001b[32m━━━━━━━━━━━━━━━━━━━━\u001b[0m\u001b[37m\u001b[0m \u001b[1m1s\u001b[0m 5ms/step - accuracy: 0.6617 - loss: 2.6133\n"
          ]
        },
        {
          "output_type": "stream",
          "name": "stderr",
          "text": [
            "[I 2024-08-12 00:39:32,143] Trial 25 finished with value: 0.6489999890327454 and parameters: {'num_layers': 4, 'filters_0': 56, 'filters_1': 118, 'filters_2': 117, 'filters_3': 105, 'kernel_size': 2, 'l1': 0.0011808612592300316, 'l2': 0.0028097376649125474, 'dense_units': 150, 'dropout_rate': 0.34472590351113835, 'learning_rate': 0.00010475342836908468}. Best is trial 4 with value: 0.7225000262260437.\n"
          ]
        },
        {
          "output_type": "stream",
          "name": "stdout",
          "text": [
            "Trial 26 started with hyperparameters: num_layers=5, filters=[88, 80, 41, 43, 108], kernel_size=3, l1=0.0002222414768642496, l2=0.0006251149025768911, dense_units=201, dropout_rate=0.4166486701205026, learning_rate=4.4986642939331467e-05\n",
            "\u001b[1m49/50\u001b[0m \u001b[32m━━━━━━━━━━━━━━━━━━━\u001b[0m\u001b[37m━\u001b[0m \u001b[1m0s\u001b[0m 21ms/step - accuracy: 0.4911 - loss: 1.9908"
          ]
        },
        {
          "output_type": "stream",
          "name": "stderr",
          "text": [
            "[I 2024-08-12 00:41:07,009] Trial 26 pruned. Trial was pruned at epoch 0.\n"
          ]
        },
        {
          "output_type": "stream",
          "name": "stdout",
          "text": [
            "Trial 27 started with hyperparameters: num_layers=3, filters=[116, 120, 57], kernel_size=2, l1=0.009774673125284444, l2=4.493262264686182e-05, dense_units=106, dropout_rate=0.3811091217971302, learning_rate=0.00019950886575246181\n",
            "\u001b[1m50/50\u001b[0m \u001b[32m━━━━━━━━━━━━━━━━━━━━\u001b[0m\u001b[37m\u001b[0m \u001b[1m10s\u001b[0m 80ms/step - accuracy: 0.5132 - loss: 33.2027 - val_accuracy: 0.5987 - val_loss: 27.5526\n",
            "\u001b[1m50/50\u001b[0m \u001b[32m━━━━━━━━━━━━━━━━━━━━\u001b[0m\u001b[37m\u001b[0m \u001b[1m2s\u001b[0m 31ms/step - accuracy: 0.5573 - loss: 25.8406 - val_accuracy: 0.6637 - val_loss: 20.9728\n",
            "\u001b[1m50/50\u001b[0m \u001b[32m━━━━━━━━━━━━━━━━━━━━\u001b[0m\u001b[37m\u001b[0m \u001b[1m2s\u001b[0m 30ms/step - accuracy: 0.6078 - loss: 19.5204 - val_accuracy: 0.6037 - val_loss: 15.4091\n",
            "\u001b[1m50/50\u001b[0m \u001b[32m━━━━━━━━━━━━━━━━━━━━\u001b[0m\u001b[37m\u001b[0m \u001b[1m2s\u001b[0m 30ms/step - accuracy: 0.6020 - loss: 14.1980 - val_accuracy: 0.6313 - val_loss: 10.8018\n",
            "\u001b[1m50/50\u001b[0m \u001b[32m━━━━━━━━━━━━━━━━━━━━\u001b[0m\u001b[37m\u001b[0m \u001b[1m2s\u001b[0m 31ms/step - accuracy: 0.6087 - loss: 9.8351 - val_accuracy: 0.6438 - val_loss: 7.1631\n",
            "\u001b[1m50/50\u001b[0m \u001b[32m━━━━━━━━━━━━━━━━━━━━\u001b[0m\u001b[37m\u001b[0m \u001b[1m2s\u001b[0m 31ms/step - accuracy: 0.5974 - loss: 6.4310 - val_accuracy: 0.6288 - val_loss: 4.4289\n",
            "\u001b[1m50/50\u001b[0m \u001b[32m━━━━━━━━━━━━━━━━━━━━\u001b[0m\u001b[37m\u001b[0m \u001b[1m2s\u001b[0m 32ms/step - accuracy: 0.5935 - loss: 3.9019 - val_accuracy: 0.4663 - val_loss: 2.6000\n",
            "\u001b[1m50/50\u001b[0m \u001b[32m━━━━━━━━━━━━━━━━━━━━\u001b[0m\u001b[37m\u001b[0m \u001b[1m2s\u001b[0m 31ms/step - accuracy: 0.5921 - loss: 2.2625 - val_accuracy: 0.5412 - val_loss: 1.5759\n",
            "\u001b[1m50/50\u001b[0m \u001b[32m━━━━━━━━━━━━━━━━━━━━\u001b[0m\u001b[37m\u001b[0m \u001b[1m2s\u001b[0m 30ms/step - accuracy: 0.5867 - loss: 1.4563 - val_accuracy: 0.6425 - val_loss: 1.1860\n",
            "\u001b[1m125/125\u001b[0m \u001b[32m━━━━━━━━━━━━━━━━━━━━\u001b[0m\u001b[37m\u001b[0m \u001b[1m1s\u001b[0m 5ms/step - accuracy: 0.6563 - loss: 1.1857\n"
          ]
        },
        {
          "output_type": "stream",
          "name": "stderr",
          "text": [
            "[I 2024-08-12 00:55:07,496] Trial 27 finished with value: 0.6417499780654907 and parameters: {'num_layers': 3, 'filters_0': 116, 'filters_1': 120, 'filters_2': 57, 'kernel_size': 2, 'l1': 0.009774673125284444, 'l2': 4.493262264686182e-05, 'dense_units': 106, 'dropout_rate': 0.3811091217971302, 'learning_rate': 0.00019950886575246181}. Best is trial 4 with value: 0.7225000262260437.\n"
          ]
        },
        {
          "output_type": "stream",
          "name": "stdout",
          "text": [
            "Trial 28 started with hyperparameters: num_layers=4, filters=[69, 45, 97, 58], kernel_size=3, l1=5.2864069920816947e-05, l2=0.0015445262126257005, dense_units=126, dropout_rate=0.43728615143030924, learning_rate=0.0005076040857399163\n",
            "\u001b[1m49/50\u001b[0m \u001b[32m━━━━━━━━━━━━━━━━━━━\u001b[0m\u001b[37m━\u001b[0m \u001b[1m0s\u001b[0m 19ms/step - accuracy: 0.5067 - loss: 1.1397"
          ]
        },
        {
          "output_type": "stream",
          "name": "stderr",
          "text": [
            "[I 2024-08-12 00:56:40,075] Trial 28 pruned. Trial was pruned at epoch 0.\n"
          ]
        },
        {
          "output_type": "stream",
          "name": "stdout",
          "text": [
            "Trial 29 started with hyperparameters: num_layers=6, filters=[58, 55, 75, 80, 80, 54], kernel_size=2, l1=0.00025865447712319125, l2=0.0004900546860617423, dense_units=189, dropout_rate=0.3127073339126526, learning_rate=1.975392074179577e-05\n",
            "\u001b[1m47/50\u001b[0m \u001b[32m━━━━━━━━━━━━━━━━━━\u001b[0m\u001b[37m━━\u001b[0m \u001b[1m0s\u001b[0m 17ms/step - accuracy: 0.4891 - loss: 2.1442"
          ]
        },
        {
          "output_type": "stream",
          "name": "stderr",
          "text": [
            "[I 2024-08-12 00:58:12,824] Trial 29 pruned. Trial was pruned at epoch 0.\n"
          ]
        },
        {
          "output_type": "stream",
          "name": "stdout",
          "text": [
            "Trial 30 started with hyperparameters: num_layers=3, filters=[48, 72, 83], kernel_size=2, l1=0.0008626417947292036, l2=4.357768305182219e-06, dense_units=90, dropout_rate=0.2750093944755879, learning_rate=5.3581969337740576e-05\n",
            "\u001b[1m49/50\u001b[0m \u001b[32m━━━━━━━━━━━━━━━━━━━\u001b[0m\u001b[37m━\u001b[0m \u001b[1m0s\u001b[0m 15ms/step - accuracy: 0.4976 - loss: 2.3752"
          ]
        },
        {
          "output_type": "stream",
          "name": "stderr",
          "text": [
            "[I 2024-08-12 00:59:42,280] Trial 30 pruned. Trial was pruned at epoch 0.\n"
          ]
        },
        {
          "output_type": "stream",
          "name": "stdout",
          "text": [
            "Trial 31 started with hyperparameters: num_layers=3, filters=[33, 115, 98], kernel_size=3, l1=0.003841339338919923, l2=0.0009761895198890836, dense_units=74, dropout_rate=0.3754078136861881, learning_rate=0.00034389671414568253\n",
            "\u001b[1m50/50\u001b[0m \u001b[32m━━━━━━━━━━━━━━━━━━━━\u001b[0m\u001b[37m\u001b[0m \u001b[1m10s\u001b[0m 77ms/step - accuracy: 0.5433 - loss: 14.3668 - val_accuracy: 0.6350 - val_loss: 9.1196\n",
            "\u001b[1m50/50\u001b[0m \u001b[32m━━━━━━━━━━━━━━━━━━━━\u001b[0m\u001b[37m\u001b[0m \u001b[1m1s\u001b[0m 25ms/step - accuracy: 0.6052 - loss: 7.8270 - val_accuracy: 0.6650 - val_loss: 4.5228\n",
            "\u001b[1m50/50\u001b[0m \u001b[32m━━━━━━━━━━━━━━━━━━━━\u001b[0m\u001b[37m\u001b[0m \u001b[1m1s\u001b[0m 25ms/step - accuracy: 0.6326 - loss: 3.7932 - val_accuracy: 0.4950 - val_loss: 2.2157\n",
            "\u001b[1m50/50\u001b[0m \u001b[32m━━━━━━━━━━━━━━━━━━━━\u001b[0m\u001b[37m\u001b[0m \u001b[1m1s\u001b[0m 25ms/step - accuracy: 0.5756 - loss: 1.9463 - val_accuracy: 0.6700 - val_loss: 1.4567\n",
            "\u001b[1m50/50\u001b[0m \u001b[32m━━━━━━━━━━━━━━━━━━━━\u001b[0m\u001b[37m\u001b[0m \u001b[1m1s\u001b[0m 25ms/step - accuracy: 0.6476 - loss: 1.4075 - val_accuracy: 0.6675 - val_loss: 1.2318\n",
            "\u001b[1m50/50\u001b[0m \u001b[32m━━━━━━━━━━━━━━━━━━━━\u001b[0m\u001b[37m\u001b[0m \u001b[1m1s\u001b[0m 25ms/step - accuracy: 0.6244 - loss: 1.2465 - val_accuracy: 0.6225 - val_loss: 1.1745\n",
            "\u001b[1m50/50\u001b[0m \u001b[32m━━━━━━━━━━━━━━━━━━━━\u001b[0m\u001b[37m\u001b[0m \u001b[1m1s\u001b[0m 25ms/step - accuracy: 0.6434 - loss: 1.1266 - val_accuracy: 0.6575 - val_loss: 1.0678\n",
            "\u001b[1m50/50\u001b[0m \u001b[32m━━━━━━━━━━━━━━━━━━━━\u001b[0m\u001b[37m\u001b[0m \u001b[1m1s\u001b[0m 25ms/step - accuracy: 0.6141 - loss: 1.0864 - val_accuracy: 0.6700 - val_loss: 1.0284\n",
            "\u001b[1m50/50\u001b[0m \u001b[32m━━━━━━━━━━━━━━━━━━━━\u001b[0m\u001b[37m\u001b[0m \u001b[1m1s\u001b[0m 25ms/step - accuracy: 0.6560 - loss: 1.0075 - val_accuracy: 0.6637 - val_loss: 0.9581\n",
            "\u001b[1m125/125\u001b[0m \u001b[32m━━━━━━━━━━━━━━━━━━━━\u001b[0m\u001b[37m\u001b[0m \u001b[1m1s\u001b[0m 5ms/step - accuracy: 0.6524 - loss: 0.9664\n"
          ]
        },
        {
          "output_type": "stream",
          "name": "stderr",
          "text": [
            "[I 2024-08-12 01:13:39,503] Trial 31 finished with value: 0.6422500014305115 and parameters: {'num_layers': 3, 'filters_0': 33, 'filters_1': 115, 'filters_2': 98, 'kernel_size': 3, 'l1': 0.003841339338919923, 'l2': 0.0009761895198890836, 'dense_units': 74, 'dropout_rate': 0.3754078136861881, 'learning_rate': 0.00034389671414568253}. Best is trial 4 with value: 0.7225000262260437.\n"
          ]
        },
        {
          "output_type": "stream",
          "name": "stdout",
          "text": [
            "Trial 32 started with hyperparameters: num_layers=3, filters=[42, 121, 108], kernel_size=3, l1=0.002183541015313407, l2=0.000598258203807373, dense_units=94, dropout_rate=0.32884900748673535, learning_rate=0.00042264191595240325\n",
            "\u001b[1m49/50\u001b[0m \u001b[32m━━━━━━━━━━━━━━━━━━━\u001b[0m\u001b[37m━\u001b[0m \u001b[1m0s\u001b[0m 20ms/step - accuracy: 0.5134 - loss: 9.5980"
          ]
        },
        {
          "output_type": "stream",
          "name": "stderr",
          "text": [
            "[I 2024-08-12 01:15:11,587] Trial 32 pruned. Trial was pruned at epoch 0.\n"
          ]
        },
        {
          "output_type": "stream",
          "name": "stdout",
          "text": [
            "Trial 33 started with hyperparameters: num_layers=3, filters=[101, 105, 117], kernel_size=3, l1=0.0029869865599696666, l2=0.004094779831042744, dense_units=68, dropout_rate=0.3827371639523426, learning_rate=0.00012431562531388848\n",
            "\u001b[1m50/50\u001b[0m \u001b[32m━━━━━━━━━━━━━━━━━━━━\u001b[0m\u001b[37m\u001b[0m \u001b[1m11s\u001b[0m 85ms/step - accuracy: 0.5248 - loss: 17.8767 - val_accuracy: 0.5875 - val_loss: 15.0690\n",
            "\u001b[1m50/50\u001b[0m \u001b[32m━━━━━━━━━━━━━━━━━━━━\u001b[0m\u001b[37m\u001b[0m \u001b[1m2s\u001b[0m 34ms/step - accuracy: 0.5722 - loss: 14.2272 - val_accuracy: 0.6650 - val_loss: 11.8415\n",
            "\u001b[1m50/50\u001b[0m \u001b[32m━━━━━━━━━━━━━━━━━━━━\u001b[0m\u001b[37m\u001b[0m \u001b[1m2s\u001b[0m 35ms/step - accuracy: 0.5869 - loss: 11.1539 - val_accuracy: 0.5400 - val_loss: 9.1799\n",
            "\u001b[1m50/50\u001b[0m \u001b[32m━━━━━━━━━━━━━━━━━━━━\u001b[0m\u001b[37m\u001b[0m \u001b[1m2s\u001b[0m 34ms/step - accuracy: 0.6053 - loss: 8.5953 - val_accuracy: 0.6675 - val_loss: 6.9519\n",
            "\u001b[1m50/50\u001b[0m \u001b[32m━━━━━━━━━━━━━━━━━━━━\u001b[0m\u001b[37m\u001b[0m \u001b[1m2s\u001b[0m 35ms/step - accuracy: 0.6183 - loss: 6.4975 - val_accuracy: 0.4963 - val_loss: 5.2372\n",
            "\u001b[1m50/50\u001b[0m \u001b[32m━━━━━━━━━━━━━━━━━━━━\u001b[0m\u001b[37m\u001b[0m \u001b[1m2s\u001b[0m 34ms/step - accuracy: 0.6067 - loss: 4.8423 - val_accuracy: 0.6762 - val_loss: 3.7802\n",
            "\u001b[1m50/50\u001b[0m \u001b[32m━━━━━━━━━━━━━━━━━━━━\u001b[0m\u001b[37m\u001b[0m \u001b[1m2s\u001b[0m 35ms/step - accuracy: 0.6350 - loss: 3.5047 - val_accuracy: 0.6637 - val_loss: 2.7448\n",
            "\u001b[1m50/50\u001b[0m \u001b[32m━━━━━━━━━━━━━━━━━━━━\u001b[0m\u001b[37m\u001b[0m \u001b[1m2s\u001b[0m 34ms/step - accuracy: 0.6371 - loss: 2.5602 - val_accuracy: 0.6475 - val_loss: 2.0509\n",
            "\u001b[1m50/50\u001b[0m \u001b[32m━━━━━━━━━━━━━━━━━━━━\u001b[0m\u001b[37m\u001b[0m \u001b[1m2s\u001b[0m 34ms/step - accuracy: 0.6025 - loss: 1.9388 - val_accuracy: 0.6550 - val_loss: 1.6210\n",
            "\u001b[1m125/125\u001b[0m \u001b[32m━━━━━━━━━━━━━━━━━━━━\u001b[0m\u001b[37m\u001b[0m \u001b[1m1s\u001b[0m 6ms/step - accuracy: 0.6553 - loss: 1.6223\n"
          ]
        },
        {
          "output_type": "stream",
          "name": "stderr",
          "text": [
            "[I 2024-08-12 01:29:23,632] Trial 33 finished with value: 0.6430000066757202 and parameters: {'num_layers': 3, 'filters_0': 101, 'filters_1': 105, 'filters_2': 117, 'kernel_size': 3, 'l1': 0.0029869865599696666, 'l2': 0.004094779831042744, 'dense_units': 68, 'dropout_rate': 0.3827371639523426, 'learning_rate': 0.00012431562531388848}. Best is trial 4 with value: 0.7225000262260437.\n"
          ]
        },
        {
          "output_type": "stream",
          "name": "stdout",
          "text": [
            "Trial 34 started with hyperparameters: num_layers=5, filters=[94, 123, 127, 60, 32], kernel_size=3, l1=0.005603181151604657, l2=0.00018435697984292123, dense_units=165, dropout_rate=0.3570088088440216, learning_rate=0.00022041738598489063\n",
            "\u001b[1m50/50\u001b[0m \u001b[32m━━━━━━━━━━━━━━━━━━━━\u001b[0m\u001b[37m\u001b[0m \u001b[1m15s\u001b[0m 108ms/step - accuracy: 0.4901 - loss: 48.1408 - val_accuracy: 0.5175 - val_loss: 34.6428\n",
            "\u001b[1m50/50\u001b[0m \u001b[32m━━━━━━━━━━━━━━━━━━━━\u001b[0m\u001b[37m\u001b[0m \u001b[1m2s\u001b[0m 34ms/step - accuracy: 0.5087 - loss: 30.7839 - val_accuracy: 0.4800 - val_loss: 20.2873\n",
            "\u001b[1m50/50\u001b[0m \u001b[32m━━━━━━━━━━━━━━━━━━━━\u001b[0m\u001b[37m\u001b[0m \u001b[1m2s\u001b[0m 34ms/step - accuracy: 0.5028 - loss: 17.4370 - val_accuracy: 0.4725 - val_loss: 9.9835\n",
            "\u001b[1m50/50\u001b[0m \u001b[32m━━━━━━━━━━━━━━━━━━━━\u001b[0m\u001b[37m\u001b[0m \u001b[1m2s\u001b[0m 34ms/step - accuracy: 0.4827 - loss: 8.1456 - val_accuracy: 0.4938 - val_loss: 3.7257\n",
            "\u001b[1m50/50\u001b[0m \u001b[32m━━━━━━━━━━━━━━━━━━━━\u001b[0m\u001b[37m\u001b[0m \u001b[1m2s\u001b[0m 34ms/step - accuracy: 0.5046 - loss: 2.8962 - val_accuracy: 0.4913 - val_loss: 1.4052\n",
            "\u001b[1m50/50\u001b[0m \u001b[32m━━━━━━━━━━━━━━━━━━━━\u001b[0m\u001b[37m\u001b[0m \u001b[1m2s\u001b[0m 35ms/step - accuracy: 0.5055 - loss: 1.2578 - val_accuracy: 0.5050 - val_loss: 0.9707\n",
            "\u001b[1m50/50\u001b[0m \u001b[32m━━━━━━━━━━━━━━━━━━━━\u001b[0m\u001b[37m\u001b[0m \u001b[1m2s\u001b[0m 35ms/step - accuracy: 0.5020 - loss: 0.9147 - val_accuracy: 0.4663 - val_loss: 0.7886\n",
            "\u001b[1m50/50\u001b[0m \u001b[32m━━━━━━━━━━━━━━━━━━━━\u001b[0m\u001b[37m\u001b[0m \u001b[1m2s\u001b[0m 34ms/step - accuracy: 0.5091 - loss: 0.7691 - val_accuracy: 0.4787 - val_loss: 0.7459\n",
            "\u001b[1m50/50\u001b[0m \u001b[32m━━━━━━━━━━━━━━━━━━━━\u001b[0m\u001b[37m\u001b[0m \u001b[1m2s\u001b[0m 34ms/step - accuracy: 0.5066 - loss: 0.7452 - val_accuracy: 0.5025 - val_loss: 0.7448\n",
            "\u001b[1m125/125\u001b[0m \u001b[32m━━━━━━━━━━━━━━━━━━━━\u001b[0m\u001b[37m\u001b[0m \u001b[1m1s\u001b[0m 6ms/step - accuracy: 0.4971 - loss: 0.7449\n"
          ]
        },
        {
          "output_type": "stream",
          "name": "stderr",
          "text": [
            "[I 2024-08-12 01:43:31,358] Trial 34 finished with value: 0.5 and parameters: {'num_layers': 5, 'filters_0': 94, 'filters_1': 123, 'filters_2': 127, 'filters_3': 60, 'filters_4': 32, 'kernel_size': 3, 'l1': 0.005603181151604657, 'l2': 0.00018435697984292123, 'dense_units': 165, 'dropout_rate': 0.3570088088440216, 'learning_rate': 0.00022041738598489063}. Best is trial 4 with value: 0.7225000262260437.\n"
          ]
        },
        {
          "output_type": "stream",
          "name": "stdout",
          "text": [
            "Trial 35 started with hyperparameters: num_layers=3, filters=[46, 113, 92], kernel_size=3, l1=0.00047348901987143453, l2=0.0011066167695260138, dense_units=237, dropout_rate=0.33515993922415543, learning_rate=0.00027755787911711374\n",
            "\u001b[1m49/50\u001b[0m \u001b[32m━━━━━━━━━━━━━━━━━━━\u001b[0m\u001b[37m━\u001b[0m \u001b[1m0s\u001b[0m 20ms/step - accuracy: 0.5546 - loss: 2.6839"
          ]
        },
        {
          "output_type": "stream",
          "name": "stderr",
          "text": [
            "[I 2024-08-12 01:45:03,905] Trial 35 pruned. Trial was pruned at epoch 0.\n"
          ]
        },
        {
          "output_type": "stream",
          "name": "stdout",
          "text": [
            "Trial 36 started with hyperparameters: num_layers=3, filters=[52, 125, 84], kernel_size=2, l1=0.0019158424457454044, l2=0.0024230777061791395, dense_units=83, dropout_rate=0.14083733934066237, learning_rate=0.0009667814426629445\n",
            "\u001b[1m49/50\u001b[0m \u001b[32m━━━━━━━━━━━━━━━━━━━\u001b[0m\u001b[37m━\u001b[0m \u001b[1m0s\u001b[0m 18ms/step - accuracy: 0.5276 - loss: 5.8074"
          ]
        },
        {
          "output_type": "stream",
          "name": "stderr",
          "text": [
            "[I 2024-08-12 01:46:34,781] Trial 36 pruned. Trial was pruned at epoch 0.\n"
          ]
        },
        {
          "output_type": "stream",
          "name": "stdout",
          "text": [
            "Trial 37 started with hyperparameters: num_layers=4, filters=[59, 86, 103, 75], kernel_size=2, l1=0.0008773356479125744, l2=5.592390927151675e-05, dense_units=253, dropout_rate=0.2274012331348199, learning_rate=0.0006462443606347697\n",
            "\u001b[1m49/50\u001b[0m \u001b[32m━━━━━━━━━━━━━━━━━━━\u001b[0m\u001b[37m━\u001b[0m \u001b[1m0s\u001b[0m 19ms/step - accuracy: 0.5177 - loss: 3.8550"
          ]
        },
        {
          "output_type": "stream",
          "name": "stderr",
          "text": [
            "[I 2024-08-12 01:48:06,698] Trial 37 pruned. Trial was pruned at epoch 0.\n"
          ]
        },
        {
          "output_type": "stream",
          "name": "stdout",
          "text": [
            "Trial 38 started with hyperparameters: num_layers=6, filters=[73, 95, 70, 42, 109, 127], kernel_size=3, l1=4.378846246542669e-06, l2=0.006048991154340429, dense_units=117, dropout_rate=0.42870848825449315, learning_rate=0.00014219146683435628\n",
            "\u001b[1m49/50\u001b[0m \u001b[32m━━━━━━━━━━━━━━━━━━━\u001b[0m\u001b[37m━\u001b[0m \u001b[1m0s\u001b[0m 23ms/step - accuracy: 0.5032 - loss: 2.9574"
          ]
        },
        {
          "output_type": "stream",
          "name": "stderr",
          "text": [
            "[I 2024-08-12 01:49:42,820] Trial 38 pruned. Trial was pruned at epoch 0.\n"
          ]
        },
        {
          "output_type": "stream",
          "name": "stdout",
          "text": [
            "Trial 39 started with hyperparameters: num_layers=5, filters=[32, 107, 41, 89, 127], kernel_size=2, l1=0.0001851417978379945, l2=0.0004493479084926034, dense_units=66, dropout_rate=0.4684068039488271, learning_rate=8.233606414020829e-05\n",
            "\u001b[1m47/50\u001b[0m \u001b[32m━━━━━━━━━━━━━━━━━━\u001b[0m\u001b[37m━━\u001b[0m \u001b[1m0s\u001b[0m 15ms/step - accuracy: 0.4939 - loss: 1.5915"
          ]
        },
        {
          "output_type": "stream",
          "name": "stderr",
          "text": [
            "[I 2024-08-12 01:51:14,908] Trial 39 pruned. Trial was pruned at epoch 0.\n"
          ]
        },
        {
          "output_type": "stream",
          "name": "stdout",
          "text": [
            "Trial 40 started with hyperparameters: num_layers=3, filters=[84, 99, 121], kernel_size=3, l1=0.008031966773381092, l2=0.00015362550719592123, dense_units=137, dropout_rate=0.2936072973850422, learning_rate=0.0004631266137429955\n",
            "\u001b[1m50/50\u001b[0m \u001b[32m━━━━━━━━━━━━━━━━━━━━\u001b[0m\u001b[37m\u001b[0m \u001b[1m12s\u001b[0m 89ms/step - accuracy: 0.5158 - loss: 36.4344 - val_accuracy: 0.4825 - val_loss: 18.2724\n",
            "\u001b[1m50/50\u001b[0m \u001b[32m━━━━━━━━━━━━━━━━━━━━\u001b[0m\u001b[37m\u001b[0m \u001b[1m2s\u001b[0m 32ms/step - accuracy: 0.5363 - loss: 13.9469 - val_accuracy: 0.5587 - val_loss: 4.2760\n",
            "\u001b[1m50/50\u001b[0m \u001b[32m━━━━━━━━━━━━━━━━━━━━\u001b[0m\u001b[37m\u001b[0m \u001b[1m2s\u001b[0m 33ms/step - accuracy: 0.5264 - loss: 2.9871 - val_accuracy: 0.4725 - val_loss: 1.2204\n",
            "\u001b[1m50/50\u001b[0m \u001b[32m━━━━━━━━━━━━━━━━━━━━\u001b[0m\u001b[37m\u001b[0m \u001b[1m2s\u001b[0m 33ms/step - accuracy: 0.4695 - loss: 1.0932 - val_accuracy: 0.4938 - val_loss: 0.8913\n",
            "\u001b[1m50/50\u001b[0m \u001b[32m━━━━━━━━━━━━━━━━━━━━\u001b[0m\u001b[37m\u001b[0m \u001b[1m2s\u001b[0m 33ms/step - accuracy: 0.4992 - loss: 0.8714 - val_accuracy: 0.4913 - val_loss: 0.8331\n",
            "\u001b[1m50/50\u001b[0m \u001b[32m━━━━━━━━━━━━━━━━━━━━\u001b[0m\u001b[37m\u001b[0m \u001b[1m2s\u001b[0m 32ms/step - accuracy: 0.5077 - loss: 0.8263 - val_accuracy: 0.5050 - val_loss: 0.8099\n",
            "\u001b[1m50/50\u001b[0m \u001b[32m━━━━━━━━━━━━━━━━━━━━\u001b[0m\u001b[37m\u001b[0m \u001b[1m2s\u001b[0m 33ms/step - accuracy: 0.4873 - loss: 0.8068 - val_accuracy: 0.4663 - val_loss: 0.7980\n",
            "\u001b[1m50/50\u001b[0m \u001b[32m━━━━━━━━━━━━━━━━━━━━\u001b[0m\u001b[37m\u001b[0m \u001b[1m2s\u001b[0m 33ms/step - accuracy: 0.5097 - loss: 0.7956 - val_accuracy: 0.4787 - val_loss: 0.7900\n",
            "\u001b[1m50/50\u001b[0m \u001b[32m━━━━━━━━━━━━━━━━━━━━\u001b[0m\u001b[37m\u001b[0m \u001b[1m2s\u001b[0m 32ms/step - accuracy: 0.5093 - loss: 0.7886 - val_accuracy: 0.5025 - val_loss: 0.7850\n",
            "\u001b[1m125/125\u001b[0m \u001b[32m━━━━━━━━━━━━━━━━━━━━\u001b[0m\u001b[37m\u001b[0m \u001b[1m1s\u001b[0m 6ms/step - accuracy: 0.4971 - loss: 0.7850\n"
          ]
        },
        {
          "output_type": "stream",
          "name": "stderr",
          "text": [
            "[I 2024-08-12 02:05:18,803] Trial 40 finished with value: 0.5 and parameters: {'num_layers': 3, 'filters_0': 84, 'filters_1': 99, 'filters_2': 121, 'kernel_size': 3, 'l1': 0.008031966773381092, 'l2': 0.00015362550719592123, 'dense_units': 137, 'dropout_rate': 0.2936072973850422, 'learning_rate': 0.0004631266137429955}. Best is trial 4 with value: 0.7225000262260437.\n"
          ]
        },
        {
          "output_type": "stream",
          "name": "stdout",
          "text": [
            "Trial 41 started with hyperparameters: num_layers=5, filters=[101, 128, 89, 66, 53], kernel_size=2, l1=0.0005410448439361618, l2=1.5019174442954534e-05, dense_units=95, dropout_rate=0.39408841978068737, learning_rate=2.4602853922383222e-05\n",
            "\u001b[1m50/50\u001b[0m \u001b[32m━━━━━━━━━━━━━━━━━━━━\u001b[0m\u001b[37m\u001b[0m \u001b[1m0s\u001b[0m 26ms/step - accuracy: 0.5017 - loss: 3.9037"
          ]
        },
        {
          "output_type": "stream",
          "name": "stderr",
          "text": [
            "[I 2024-08-12 02:06:52,647] Trial 41 pruned. Trial was pruned at epoch 0.\n"
          ]
        },
        {
          "output_type": "stream",
          "name": "stdout",
          "text": [
            "Trial 42 started with hyperparameters: num_layers=6, filters=[114, 116, 120, 60, 62, 70], kernel_size=2, l1=0.0003474581078107183, l2=5.4363529445257805e-05, dense_units=82, dropout_rate=0.20325059758290642, learning_rate=6.538763443256017e-05\n",
            "\u001b[1m49/50\u001b[0m \u001b[32m━━━━━━━━━━━━━━━━━━━\u001b[0m\u001b[37m━\u001b[0m \u001b[1m0s\u001b[0m 27ms/step - accuracy: 0.5010 - loss: 3.2617"
          ]
        },
        {
          "output_type": "stream",
          "name": "stderr",
          "text": [
            "[I 2024-08-12 02:08:28,077] Trial 42 pruned. Trial was pruned at epoch 0.\n"
          ]
        },
        {
          "output_type": "stream",
          "name": "stdout",
          "text": [
            "Trial 43 started with hyperparameters: num_layers=5, filters=[121, 122, 59, 74, 78], kernel_size=2, l1=0.0027636696152467, l2=2.6406796039693778e-05, dense_units=75, dropout_rate=0.2558999999617405, learning_rate=9.848971914684154e-05\n",
            "\u001b[1m50/50\u001b[0m \u001b[32m━━━━━━━━━━━━━━━━━━━━\u001b[0m\u001b[37m\u001b[0m \u001b[1m13s\u001b[0m 99ms/step - accuracy: 0.5005 - loss: 16.1369 - val_accuracy: 0.5175 - val_loss: 14.8713\n",
            "\u001b[1m50/50\u001b[0m \u001b[32m━━━━━━━━━━━━━━━━━━━━\u001b[0m\u001b[37m\u001b[0m \u001b[1m2s\u001b[0m 36ms/step - accuracy: 0.5061 - loss: 14.4664 - val_accuracy: 0.6750 - val_loss: 13.2732\n",
            "\u001b[1m50/50\u001b[0m \u001b[32m━━━━━━━━━━━━━━━━━━━━\u001b[0m\u001b[37m\u001b[0m \u001b[1m2s\u001b[0m 36ms/step - accuracy: 0.5481 - loss: 12.8913 - val_accuracy: 0.5763 - val_loss: 11.7711\n",
            "\u001b[1m50/50\u001b[0m \u001b[32m━━━━━━━━━━━━━━━━━━━━\u001b[0m\u001b[37m\u001b[0m \u001b[1m2s\u001b[0m 35ms/step - accuracy: 0.5368 - loss: 11.4134 - val_accuracy: 0.4938 - val_loss: 10.3648\n",
            "\u001b[1m50/50\u001b[0m \u001b[32m━━━━━━━━━━━━━━━━━━━━\u001b[0m\u001b[37m\u001b[0m \u001b[1m2s\u001b[0m 35ms/step - accuracy: 0.5202 - loss: 10.0310 - val_accuracy: 0.5537 - val_loss: 9.0552\n",
            "\u001b[1m50/50\u001b[0m \u001b[32m━━━━━━━━━━━━━━━━━━━━\u001b[0m\u001b[37m\u001b[0m \u001b[1m2s\u001b[0m 35ms/step - accuracy: 0.5327 - loss: 8.7462 - val_accuracy: 0.5625 - val_loss: 7.8433\n",
            "\u001b[1m50/50\u001b[0m \u001b[32m━━━━━━━━━━━━━━━━━━━━\u001b[0m\u001b[37m\u001b[0m \u001b[1m2s\u001b[0m 36ms/step - accuracy: 0.5190 - loss: 7.5585 - val_accuracy: 0.4663 - val_loss: 6.7303\n",
            "\u001b[1m50/50\u001b[0m \u001b[32m━━━━━━━━━━━━━━━━━━━━\u001b[0m\u001b[37m\u001b[0m \u001b[1m2s\u001b[0m 36ms/step - accuracy: 0.5091 - loss: 6.4683 - val_accuracy: 0.4787 - val_loss: 5.7132\n",
            "\u001b[1m50/50\u001b[0m \u001b[32m━━━━━━━━━━━━━━━━━━━━\u001b[0m\u001b[37m\u001b[0m \u001b[1m2s\u001b[0m 35ms/step - accuracy: 0.5066 - loss: 5.4766 - val_accuracy: 0.5025 - val_loss: 4.7944\n",
            "\u001b[1m125/125\u001b[0m \u001b[32m━━━━━━━━━━━━━━━━━━━━\u001b[0m\u001b[37m\u001b[0m \u001b[1m1s\u001b[0m 6ms/step - accuracy: 0.4971 - loss: 4.7945\n"
          ]
        },
        {
          "output_type": "stream",
          "name": "stderr",
          "text": [
            "[I 2024-08-12 02:22:36,551] Trial 43 finished with value: 0.5 and parameters: {'num_layers': 5, 'filters_0': 121, 'filters_1': 122, 'filters_2': 59, 'filters_3': 74, 'filters_4': 78, 'kernel_size': 2, 'l1': 0.0027636696152467, 'l2': 2.6406796039693778e-05, 'dense_units': 75, 'dropout_rate': 0.2558999999617405, 'learning_rate': 9.848971914684154e-05}. Best is trial 4 with value: 0.7225000262260437.\n"
          ]
        },
        {
          "output_type": "stream",
          "name": "stdout",
          "text": [
            "Trial 44 started with hyperparameters: num_layers=5, filters=[103, 112, 78, 40, 49], kernel_size=2, l1=0.0013058933367586076, l2=8.522613983168593e-05, dense_units=102, dropout_rate=0.31737730166211486, learning_rate=0.0007216548117487627\n",
            "\u001b[1m48/50\u001b[0m \u001b[32m━━━━━━━━━━━━━━━━━━━\u001b[0m\u001b[37m━\u001b[0m \u001b[1m0s\u001b[0m 24ms/step - accuracy: 0.4971 - loss: 5.8841"
          ]
        },
        {
          "output_type": "stream",
          "name": "stderr",
          "text": [
            "[I 2024-08-12 02:24:11,204] Trial 44 pruned. Trial was pruned at epoch 0.\n"
          ]
        },
        {
          "output_type": "stream",
          "name": "stdout",
          "text": [
            "Trial 45 started with hyperparameters: num_layers=4, filters=[89, 128, 113, 51], kernel_size=2, l1=0.0006400891210760033, l2=4.276627025612399e-06, dense_units=115, dropout_rate=0.3497139081494682, learning_rate=0.00026281657856792764\n",
            "\u001b[1m49/50\u001b[0m \u001b[32m━━━━━━━━━━━━━━━━━━━\u001b[0m\u001b[37m━\u001b[0m \u001b[1m0s\u001b[0m 23ms/step - accuracy: 0.5174 - loss: 3.8853"
          ]
        },
        {
          "output_type": "stream",
          "name": "stderr",
          "text": [
            "[I 2024-08-12 02:25:43,985] Trial 45 pruned. Trial was pruned at epoch 0.\n"
          ]
        },
        {
          "output_type": "stream",
          "name": "stdout",
          "text": [
            "Trial 46 started with hyperparameters: num_layers=5, filters=[94, 110, 93, 47, 34], kernel_size=3, l1=8.209959216736836e-05, l2=0.0013686588869021746, dense_units=78, dropout_rate=0.45808570306516744, learning_rate=0.0003480568819856838\n",
            "\u001b[1m49/50\u001b[0m \u001b[32m━━━━━━━━━━━━━━━━━━━\u001b[0m\u001b[37m━\u001b[0m \u001b[1m0s\u001b[0m 27ms/step - accuracy: 0.4875 - loss: 1.6114"
          ]
        },
        {
          "output_type": "stream",
          "name": "stderr",
          "text": [
            "[I 2024-08-12 02:27:19,097] Trial 46 pruned. Trial was pruned at epoch 0.\n"
          ]
        },
        {
          "output_type": "stream",
          "name": "stdout",
          "text": [
            "Trial 47 started with hyperparameters: num_layers=5, filters=[79, 60, 54, 33, 76], kernel_size=2, l1=0.00014116885181233933, l2=0.00027449355210544, dense_units=138, dropout_rate=0.3727881545028794, learning_rate=0.00015463239814699859\n",
            "\u001b[1m49/50\u001b[0m \u001b[32m━━━━━━━━━━━━━━━━━━━\u001b[0m\u001b[37m━\u001b[0m \u001b[1m0s\u001b[0m 19ms/step - accuracy: 0.5069 - loss: 1.1370"
          ]
        },
        {
          "output_type": "stream",
          "name": "stderr",
          "text": [
            "[I 2024-08-12 02:28:51,438] Trial 47 pruned. Trial was pruned at epoch 0.\n"
          ]
        },
        {
          "output_type": "stream",
          "name": "stdout",
          "text": [
            "Trial 48 started with hyperparameters: num_layers=3, filters=[40, 124, 103], kernel_size=3, l1=2.195655020140089e-06, l2=0.0006963405631647386, dense_units=239, dropout_rate=0.13236113984711123, learning_rate=1.4527206048438652e-05\n",
            "\u001b[1m49/50\u001b[0m \u001b[32m━━━━━━━━━━━━━━━━━━━\u001b[0m\u001b[37m━\u001b[0m \u001b[1m0s\u001b[0m 18ms/step - accuracy: 0.5064 - loss: 0.8293"
          ]
        },
        {
          "output_type": "stream",
          "name": "stderr",
          "text": [
            "[I 2024-08-12 02:30:23,438] Trial 48 pruned. Trial was pruned at epoch 0.\n"
          ]
        },
        {
          "output_type": "stream",
          "name": "stdout",
          "text": [
            "Trial 49 started with hyperparameters: num_layers=4, filters=[97, 66, 43, 56], kernel_size=2, l1=1.045876041342991e-05, l2=0.002171021539639442, dense_units=210, dropout_rate=0.4140624319100813, learning_rate=3.339705968715223e-05\n",
            "\u001b[1m48/50\u001b[0m \u001b[32m━━━━━━━━━━━━━━━━━━━\u001b[0m\u001b[37m━\u001b[0m \u001b[1m0s\u001b[0m 22ms/step - accuracy: 0.5085 - loss: 1.1111"
          ]
        },
        {
          "output_type": "stream",
          "name": "stderr",
          "text": [
            "[I 2024-08-12 02:31:55,453] Trial 49 pruned. Trial was pruned at epoch 0.\n"
          ]
        },
        {
          "output_type": "stream",
          "name": "stdout",
          "text": [
            "Best trial:\n",
            "Value: 0.7225000262260437\n",
            "Params: \n",
            "    num_layers: 5\n",
            "    filters_0: 65\n",
            "    filters_1: 128\n",
            "    filters_2: 77\n",
            "    filters_3: 48\n",
            "    filters_4: 127\n",
            "    kernel_size: 2\n",
            "    l1: 5.39171365329603e-06\n",
            "    l2: 0.000508098182990793\n",
            "    dense_units: 122\n",
            "    dropout_rate: 0.44775481260866545\n",
            "    learning_rate: 0.00023021217142648836\n",
            "Elapsed time: 19644.33 seconds\n"
          ]
        }
      ]
    }
  ]
}
