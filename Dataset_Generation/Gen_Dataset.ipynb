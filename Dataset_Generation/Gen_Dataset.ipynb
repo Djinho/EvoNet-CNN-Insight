{
  "nbformat": 4,
  "nbformat_minor": 0,
  "metadata": {
    "colab": {
      "provenance": [],
      "authorship_tag": "ABX9TyO65nTmNjQy51F/mRubR1BO",
      "include_colab_link": true
    },
    "kernelspec": {
      "name": "python3",
      "display_name": "Python 3"
    },
    "language_info": {
      "name": "python"
    }
  },
  "cells": [
    {
      "cell_type": "markdown",
      "metadata": {
        "id": "view-in-github",
        "colab_type": "text"
      },
      "source": [
        "<a href=\"https://colab.research.google.com/github/Djinho/EvoNet-CNN-Insight/blob/main/Dataset_Generation/Gen_Dataset.ipynb\" target=\"_parent\"><img src=\"https://colab.research.google.com/assets/colab-badge.svg\" alt=\"Open In Colab\"/></a>"
      ]
    },
    {
      "cell_type": "code",
      "execution_count": 1,
      "metadata": {
        "colab": {
          "base_uri": "https://localhost:8080/"
        },
        "id": "qoxszbXcJkTP",
        "outputId": "ff5fd6eb-eaf5-4ee9-95e4-262c1c66a3b3"
      },
      "outputs": [
        {
          "output_type": "stream",
          "name": "stdout",
          "text": [
            "Cloning into 'EvoNet-CNN-Insight'...\n",
            "remote: Enumerating objects: 239, done.\u001b[K\n",
            "remote: Counting objects: 100% (237/237), done.\u001b[K\n",
            "remote: Compressing objects: 100% (186/186), done.\u001b[K\n",
            "remote: Total 239 (delta 127), reused 95 (delta 41), pack-reused 2\u001b[K\n",
            "Receiving objects: 100% (239/239), 2.41 MiB | 11.28 MiB/s, done.\n",
            "Resolving deltas: 100% (127/127), done.\n",
            "/content/EvoNet-CNN-Insight/Dataset_Generation\n"
          ]
        }
      ],
      "source": [
        "# Cloning the EvoNet-CNN-Insight GitHub repository\n",
        "!git clone https://github.com/Djinho/EvoNet-CNN-Insight.git\n",
        "\n",
        "# Change directory to Dataset_Generation within the cloned repository\n",
        "%cd /content/EvoNet-CNN-Insight/Dataset_Generation\n",
        "\n",
        "\n"
      ]
    },
    {
      "cell_type": "code",
      "source": [
        "import subprocess\n",
        "\n",
        "# List of parameter files\n",
        "params_files = [\n",
        "    \"params_early_weak.txt\",\n",
        "    \"params_early_moderate.txt\",\n",
        "    \"params_early_strong.txt\",\n",
        "    \"params_mid_weak.txt\",\n",
        "    \"params_mid_moderate.txt\",\n",
        "    \"params_mid_strong.txt\",\n",
        "    \"params_late_weak.txt\",\n",
        "    \"params_late_moderate.txt\",\n",
        "    \"params_late_strong.txt\",\n",
        "]\n",
        "\n",
        "# Execute the generate_dataset.sh script with each parameter file\n",
        "for params_file in params_files:\n",
        "    print(f\"Running simulation for {params_file}\")\n",
        "    subprocess.call([\"bash\", \"../generate_dataset.sh\", params_file])\n",
        "\n",
        "print(\"All simulations completed.\")"
      ],
      "metadata": {
        "id": "gLBaxjs8Omy-"
      },
      "execution_count": null,
      "outputs": []
    },
    {
      "cell_type": "code",
      "source": [
        "!pwd"
      ],
      "metadata": {
        "colab": {
          "base_uri": "https://localhost:8080/"
        },
        "id": "7PzmfuZtRM88",
        "outputId": "7328971c-9424-4026-c3cd-14e319473d66"
      },
      "execution_count": null,
      "outputs": [
        {
          "output_type": "stream",
          "name": "stdout",
          "text": [
            "/content/EvoNet-CNN-Insight/Dataset_Generation\n"
          ]
        }
      ]
    }
  ]
}