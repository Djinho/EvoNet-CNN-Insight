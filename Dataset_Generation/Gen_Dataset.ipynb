{
 "cells": [
  {
   "cell_type": "markdown",
   "metadata": {},
   "source": [
    "# Reproducible Dataset Generation"
   ]
  },
  {
   "cell_type": "code",
   "execution_count": null,
   "metadata": {},
   "outputs": [],
   "source": [
    "# Cloning the EvoNet-CNN-Insight GitHub repository\n",
    "!git clone https:\/\/github.com\/Djinho\/EvoNet-CNN-Insight.git\n",
    "\n",
    "# Change directory to Dataset_Generation within the cloned repository\n",
    "%cd \/content\/EvoNet-CNN-Insight\/Dataset_Generation"
   ]
  },
  {
   "cell_type": "code",
   "execution_count": null,
   "metadata": {},
   "outputs": [],
   "source": [
    "import subprocess\n",
    "import numpy as np\n",
    "\n",
    "# Set a base seed for reproducibility\n",
    "base_seed = 42\n",
    "np.random.seed(base_seed)\n",
    "\n",
    "# List of parameter files and scenarios\n",
    "params_files = [\n",
    "    \"params_early_weak.txt\",\n",
    "    \"params_early_moderate.txt\",\n",
    "    \"params_early_strong.txt\",\n",
    "    \"params_mid_weak.txt\",\n",
    "    \"params_mid_moderate.txt\",\n",
    "    \"params_mid_strong.txt\",\n",
    "    \"params_late_weak.txt\",\n",
    "    \"params_late_moderate.txt\",\n",
    "    \"params_late_strong.txt\",\n",
    "]\n",
    "\n",
    "# Execute the generate_dataset.sh script with each parameter file\n",
    "for params_file in params_files:\n",
    "    for dataset_index in range(2):  # Generate 2 different datasets per scenario\n",
    "        # Create a reproducible seed\n",
    "        seed = np.random.randint(0, 10000)\n",
    "        \n",
    "        print(f\"Running simulation for {params_file} with seed {seed}\")\n",
    "        subprocess.call([\"bash\", \"..\/generate_dataset.sh\", params_file, str(seed)])\n",
    "\n",
    "print(\"All simulations completed.\")"
   ]
  }
 ],
 "metadata": {
  "kernelspec": {
   "display_name": "Python 3",
   "language": "python",
   "name": "python3"
  },
  "language_info": {
   "codemirror_mode": {
    "name": "ipython",
    "version": 3
   },
   "file_extension": ".py",
   "mimetype": "text/x-python",
   "name": "python",
   "nbconvert_exporter": "python",
   "pygments_lexer": "ipython3",
   "version": "3.8.10"
  }
 },
 "nbformat": 4,
 "nbformat_minor": 4
}
