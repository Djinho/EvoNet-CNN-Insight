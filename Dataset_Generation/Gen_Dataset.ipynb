{
  "nbformat": 4,
  "nbformat_minor": 0,
  "metadata": {
    "colab": {
      "provenance": [],
      "authorship_tag": "ABX9TyMXF31tnHY+TzJ9/NZiqoxM",
      "include_colab_link": true
    },
    "kernelspec": {
      "name": "python3",
      "display_name": "Python 3"
    },
    "language_info": {
      "name": "python"
    }
  },
  "cells": [
    {
      "cell_type": "markdown",
      "metadata": {
        "id": "view-in-github",
        "colab_type": "text"
      },
      "source": [
        "<a href=\"https://colab.research.google.com/github/Djinho/EvoNet-CNN-Insight/blob/main/Dataset_Generation/Gen_Dataset.ipynb\" target=\"_parent\"><img src=\"https://colab.research.google.com/assets/colab-badge.svg\" alt=\"Open In Colab\"/></a>"
      ]
    },
    {
      "cell_type": "code",
      "execution_count": 4,
      "metadata": {
        "colab": {
          "base_uri": "https://localhost:8080/"
        },
        "id": "qoxszbXcJkTP",
        "outputId": "03c1c9b2-40cd-44bb-fcfa-dc2377e9712b"
      },
      "outputs": [
        {
          "output_type": "stream",
          "name": "stdout",
          "text": [
            "Cloning into 'EvoNet-CNN-Insight'...\n",
            "remote: Enumerating objects: 196, done.\u001b[K\n",
            "remote: Counting objects: 100% (194/194), done.\u001b[K\n",
            "remote: Compressing objects: 100% (144/144), done.\u001b[K\n",
            "remote: Total 196 (delta 98), reused 95 (delta 41), pack-reused 2\u001b[K\n",
            "Receiving objects: 100% (196/196), 2.40 MiB | 13.09 MiB/s, done.\n",
            "Resolving deltas: 100% (98/98), done.\n",
            "/content/EvoNet-CNN-Insight/Dataset_Generation\n"
          ]
        }
      ],
      "source": [
        "# Cloning the EvoNet-CNN-Insight GitHub repository\n",
        "!git clone https://github.com/Djinho/EvoNet-CNN-Insight.git\n",
        "\n",
        "# Change directory to Dataset_Generation within the cloned repository\n",
        "%cd /content/EvoNet-CNN-Insight/Dataset_Generation\n",
        "\n",
        "\n"
      ]
    },
    {
      "cell_type": "code",
      "source": [
        "# if you wish to generate new training data, do not run otherwise\n",
        "import subprocess\n",
        "subprocess.call(\"bash ../generate_dataset.sh params_early_weak.txt\".split());"
      ],
      "metadata": {
        "id": "gLBaxjs8Omy-"
      },
      "execution_count": 3,
      "outputs": []
    },
    {
      "cell_type": "code",
      "source": [
        "!pwd"
      ],
      "metadata": {
        "colab": {
          "base_uri": "https://localhost:8080/"
        },
        "id": "7PzmfuZtRM88",
        "outputId": "7328971c-9424-4026-c3cd-14e319473d66"
      },
      "execution_count": null,
      "outputs": [
        {
          "output_type": "stream",
          "name": "stdout",
          "text": [
            "/content/EvoNet-CNN-Insight/Dataset_Generation\n"
          ]
        }
      ]
    }
  ]
}