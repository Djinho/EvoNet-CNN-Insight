# Cloning the EvoNet-CNN-Insight GitHub repository
!git clone https://github.com/Djinho/EvoNet-CNN-Insight.git

# Change directory to Dataset_Generation within the cloned repository
%cd /content/EvoNet-CNN-Insight/Dataset_Generation

import subprocess
import numpy as np

# Set a base seed for reproducibility
base_seed = 42
np.random.seed(base_seed)

# List of parameter files and scenarios
params_files = [
    "params_early_weak.txt",
    "params_early_moderate.txt",
    "params_early_strong.txt",
    "params_mid_weak.txt",
    "params_mid_moderate.txt",
    "params_mid_strong.txt",
    "params_late_weak.txt",
    "params_late_moderate.txt",
    "params_late_strong.txt",
]

# Execute the generate_dataset.sh script with each parameter file
for params_file in params_files:
    for dataset_index in range(2):  # Generate 2 different datasets per scenario
        # Create a reproducible seed
        seed = np.random.randint(0, 10000)
        
        print(f"Running simulation for {params_file} with seed {seed}")
        subprocess.call(["bash", "../generate_dataset.sh", params_file, str(seed)])

print("All simulations completed.")
