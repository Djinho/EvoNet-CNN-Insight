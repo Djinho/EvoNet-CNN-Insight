{
 "cells": [
  {
   "cell_type": "markdown",
   "metadata": {
    "id": "ph4H-zWydWqP"
   },
   "source": [
    "### Data Analysis Pipeline\n",
    "\n",
    "- **Create Simulation**: Represent Ancient and strong selection.\n",
    "- **Leverage Pre-trained Model**: Use a model trained on recent and strong selection with high accuracy. Model can be considered fit for purpose if 80% accuracy and above\n",
    "- **Training Regimen**:\n",
    "  - Train for 9 epochs.\n",
    "  - 1 epochs each from batches 1-9 of training data.\n",
    "  - Test on the final batch of unseen data.\n",
    "- **40k Simulations used**\n",
    "\n",
    "\n"
   ]
  },
  {
   "cell_type": "code",
   "execution_count": null,
   "metadata": {},
   "outputs": [],
   "source": [
    "!pip3 install 'tensorflow==2.15.0' --force-reinstall"
   ]
  },
  {
   "cell_type": "code",
   "execution_count": null,
   "metadata": {
    "colab": {
     "base_uri": "https://localhost:8080/"
    },
    "id": "MwegN_Tjd-7v",
    "outputId": "73c98480-d02e-415c-e6c1-5c9e216db223"
   },
   "outputs": [],
   "source": [
    "!git clone https://github.com/Djinho/EvoNet-CNN-Insight.git\n",
    "\n",
    "# Navigate to the cloned repository\n",
    "%cd EvoNet-CNN-Insight/model_training/Ancient_strong"
   ]
  },
  {
   "cell_type": "code",
   "execution_count": null,
   "metadata": {
    "id": "U5UU4g1XdWqQ"
   },
   "outputs": [],
   "source": [
    "import os\n",
    "import gzip\n",
    "import _pickle as pickle\n",
    "\n",
    "import numpy as np\n",
    "import scipy.stats\n",
    "import matplotlib.pyplot as plt\n",
    "\n",
    "import tensorflow as tf\n",
    "from tensorflow.keras import models, layers, activations, optimizers, regularizers\n",
    "from tensorflow.keras.utils import plot_model\n",
    "from tensorflow.keras.models import load_model\n",
    "import tensorflow as tf\n",
    "from tensorflow.keras.models import load_model\n",
    "from tensorflow.keras.callbacks import CSVLogger\n",
    "import matplotlib.pyplot as plt\n",
    "from sklearn.metrics import f1_score, roc_curve, auc, precision_recall_fscore_support, confusion_matrix\n",
    "\n",
    "import itertools\n",
    "import matplotlib.pyplot as plt\n",
    "import skimage.transform\n",
    "from sklearn.metrics import confusion_matrix\n",
    "import pandas as pd\n",
    "import seaborn as sns\n",
    "from tensorflow.keras.models import Sequential\n",
    "from tensorflow.keras.layers import Conv2D, MaxPooling2D, Flatten, Dense, Dropout\n",
    "from sklearn.model_selection import train_test_split\n",
    "from sklearn.metrics import accuracy_score\n",
    "from tensorflow.keras.applications import EfficientNetB0\n",
    "from tensorflow.keras.layers import GlobalAveragePooling2D, Dense,Input, Dropout\n",
    "from tensorflow.keras.models import Model\n",
    "from tensorflow.keras.optimizers import Adam\n",
    "from tensorflow.keras.preprocessing.image import ImageDataGenerator\n",
    "import warnings\n",
    "warnings.filterwarnings(\"ignore\")\n",
    "\n",
    "\n",
    "# Set a fixed random seed for reproducibility\n",
    "seed = 42\n",
    "np.random.seed(seed)\n",
    "tf.random.set_seed(seed)"
   ]
  },
  {
   "cell_type": "markdown",
   "metadata": {
    "id": "kpaBYfdAdWqS"
   },
   "source": [
    "Run ImaGene.py"
   ]
  },
  {
   "cell_type": "code",
   "execution_count": null,
   "metadata": {
    "id": "hgeyDstcdWqS"
   },
   "outputs": [],
   "source": [
    "%run -i ../../ImaGene.py"
   ]
  },
  {
   "cell_type": "code",
   "execution_count": null,
   "metadata": {
    "id": "MPVDFWt9dWqW"
   },
   "outputs": [],
   "source": [
    "#run to make simulations\n",
    "import subprocess\n",
    "subprocess.call(\"bash ../../generate_dataset.sh params_Ancient_strong.txt\".split());"
   ]
  },
  {
   "cell_type": "markdown",
   "metadata": {
    "id": "CilygMPadWqW"
   },
   "source": [
    " the first iteration of training.\n"
   ]
  },
  {
   "cell_type": "code",
   "execution_count": null,
   "metadata": {
    "id": "c8csMaP1dWqW"
   },
   "outputs": [],
   "source": [
    "\n",
    "path_sim = './'"
   ]
  },
  {
   "cell_type": "code",
   "execution_count": null,
   "metadata": {
    "id": "xDk6e3RDdWqW"
   },
   "outputs": [],
   "source": [
    "file_sim = ImaFile(simulations_folder=path_sim + 'AS/Simulations1', nr_samples=198, model_name='Marth-3epoch-CEU');"
   ]
  },
  {
   "cell_type": "markdown",
   "metadata": {
    "id": "pzVhCTSydWqW"
   },
   "source": [
    "Then, we populate an _ImaGene_ object by specifying the variable we want to estimate/predict (`selection_coeff_hetero`) and how many data points per class we wish to retain.\n",
    "As a quick example, we will use only 2000 data points per class."
   ]
  },
  {
   "cell_type": "code",
   "execution_count": null,
   "metadata": {
    "id": "qCQpUsXsdWqW"
   },
   "outputs": [],
   "source": [
    "gene_sim = file_sim.read_simulations(parameter_name='selection_coeff_hetero', max_nrepl=4000);"
   ]
  },
  {
   "cell_type": "markdown",
   "metadata": {
    "id": "6_lltiy1dWqW"
   },
   "source": [
    "We can have a look at the data stored in this object."
   ]
  },
  {
   "cell_type": "code",
   "execution_count": null,
   "metadata": {
    "colab": {
     "base_uri": "https://localhost:8080/"
    },
    "id": "Fk6gAdgddWqW",
    "outputId": "54b40214-0a67-4732-be49-a816d8d9b7ac"
   },
   "outputs": [],
   "source": [
    "gene_sim.summary();"
   ]
  },
  {
   "cell_type": "code",
   "execution_count": null,
   "metadata": {
    "colab": {
     "base_uri": "https://localhost:8080/"
    },
    "id": "iyZUp2EMdWqY",
    "outputId": "05334d5b-271b-42a2-d52f-e4cff284168e"
   },
   "outputs": [],
   "source": [
    "# Filter simulations based on frequency threshold of 0.01\n",
    "gene_sim.filter_freq(0.01)\n",
    "\n",
    "# Sort simulations by row frequency\n",
    "gene_sim.sort('rows_freq')\n",
    "\n",
    "# Provide summary of the simulation data\n",
    "gene_sim.summary()\n",
    "# Resize simulation data to (198, 192)\n",
    "gene_sim.resize((198, 192))\n",
    "\n",
    "# Provide summary of the simulation data\n",
    "gene_sim.summary()\n",
    "# Convert simulation data with data augmentation (flip)\n",
    "gene_sim.convert(flip=True)\n",
    "\n",
    "# Provide summary of the simulation data\n",
    "gene_sim.summary()\n"
   ]
  },
  {
   "cell_type": "markdown",
   "metadata": {
    "id": "CoRS8fbydWqZ"
   },
   "source": [
    "information on the corresponding targets (in this case the selection coefficient, either 0 or selection coefficient of choice in $2N_e$ units with $N_e = 10000$)."
   ]
  },
  {
   "cell_type": "code",
   "execution_count": null,
   "metadata": {
    "colab": {
     "base_uri": "https://localhost:8080/",
     "height": 887
    },
    "id": "-j9ACqSTdWqZ",
    "outputId": "9b1e1e46-93c0-47d5-eb9b-274e01945d9e"
   },
   "outputs": [],
   "source": [
    "for sel in gene_sim.classes:\n",
    "    print(sel)\n",
    "    gene_sim.plot(np.where(gene_sim.targets == sel)[0][0])"
   ]
  },
  {
   "cell_type": "code",
   "execution_count": null,
   "metadata": {
    "id": "p-K5TWEFdWqZ"
   },
   "outputs": [],
   "source": [
    "# Subset the simulation data with random indices\n",
    "gene_sim.subset(get_index_random(gene_sim))\n",
    "\n",
    "# Convert targets to binary format\n",
    "gene_sim.targets = to_binary(gene_sim.targets)\n"
   ]
  },
  {
   "cell_type": "markdown",
   "metadata": {},
   "source": [
    "Transfer Learning with EfficientNet model\n",
    "> Applied the data augmentation "
   ]
  },
  {
   "cell_type": "code",
   "execution_count": null,
   "metadata": {
    "colab": {
     "base_uri": "https://localhost:8080/"
    },
    "id": "gtCuHEOTdWqb",
    "outputId": "ba1d18a3-a8ad-4c98-b9a1-8ea960084156"
   },
   "outputs": [],
   "source": [
    "base_model = EfficientNetB0(weights='imagenet', include_top=False, input_shape=(198, 192, 3))\n",
    "\n",
    "for layer in base_model.layers:\n",
    "    layer.trainable = False\n",
    "\n",
    "x = base_model.output\n",
    "x = GlobalAveragePooling2D()(x)\n",
    "x = Dense(128, activation='relu')(x)\n",
    "x = Dropout(0.5)(x)\n",
    "predictions = Dense(1, activation='sigmoid')(x)\n",
    "\n",
    "model = Model(inputs=base_model.input, outputs=predictions)\n",
    "datagen = ImageDataGenerator(\n",
    "    rotation_range=40,\n",
    "    width_shift_range=0.3,\n",
    "    height_shift_range=0.3,\n",
    "    shear_range=0.3,\n",
    "    zoom_range=0.3,\n",
    "    fill_mode='nearest'\n",
    ")\n",
    "\n",
    "X_train, X_val, y_train, y_val = train_test_split(gene_sim.data, gene_sim.targets, test_size=0.2, random_state=seed)\n",
    "X_train_rgb = np.repeat(X_train, 3, axis=-1)\n",
    "X_val_rgb = np.repeat(X_val, 3, axis=-1)\n",
    "\n",
    "for layer in base_model.layers[-4:]:\n",
    "    layer.trainable = True\n",
    "\n",
    "model.compile(optimizer=tf.keras.optimizers.Adam(1e-5), loss='binary_crossentropy', metrics=['accuracy'])\n",
    "model.summary()"
   ]
  },
  {
   "cell_type": "code",
   "execution_count": null,
   "metadata": {
    "colab": {
     "base_uri": "https://localhost:8080/"
    },
    "id": "KkhiQZWHdWqc",
    "outputId": "a147cb7a-b267-48db-fb99-c11f8bbbfcb0"
   },
   "outputs": [],
   "source": [
    "score = model.fit(datagen.flow(X_train_rgb, y_train, batch_size=64),epochs=30, validation_data=(X_val_rgb, y_val))"
   ]
  },
  {
   "cell_type": "code",
   "execution_count": null,
   "metadata": {
    "id": "vdo1QQY5dWqc"
   },
   "outputs": [],
   "source": [
    "net_LCT = ImaNet(name='BaseModel_FineTuned_D128')\n"
   ]
  },
  {
   "cell_type": "code",
   "execution_count": null,
   "metadata": {
    "id": "ruRCBgdOdWqc"
   },
   "outputs": [],
   "source": [
    "net_LCT.update_scores(score);"
   ]
  },
  {
   "cell_type": "code",
   "execution_count": null,
   "metadata": {
    "colab": {
     "base_uri": "https://localhost:8080/",
     "height": 702
    },
    "id": "gkAh9JwzdWqc",
    "outputId": "2dfac19a-01ba-4a19-86ff-abb9dd8d8864"
   },
   "outputs": [],
   "source": [
    "i = 2\n",
    "all_scores = {\n",
    "    'loss': [],\n",
    "    'val_loss': [],\n",
    "    'accuracy': [],\n",
    "    'val_accuracy': []\n",
    "}\n",
    "\n",
    "# Loop to iterate through different simulation datasets\n",
    "while i < 10:\n",
    "    print(i)\n",
    "\n",
    "    # Create ImaFile object for the specified simulation folder and model\n",
    "    file_sim = ImaFile(simulations_folder=path_sim + 'AS/Simulations' + str(i), nr_samples=198, model_name='Marth-3epoch-CEU')\n",
    "\n",
    "    # Read the simulation data\n",
    "    gene_sim = file_sim.read_simulations(parameter_name='selection_coeff_hetero', max_nrepl=4000)\n",
    "\n",
    "    # Filter simulations based on frequency threshold\n",
    "    gene_sim.filter_freq(0.01)\n",
    "\n",
    "    # Sort simulations by row frequency\n",
    "    gene_sim.sort('rows_freq')\n",
    "\n",
    "    # Resize simulation data to the required dimensions\n",
    "    gene_sim.resize((198, 192))\n",
    "\n",
    "    # Convert simulation data (flip=True allows for data augmentation)\n",
    "    gene_sim.convert(flip=True)\n",
    "\n",
    "    # Get a random subset of indices and subset the simulation data\n",
    "    gene_sim.subset(get_index_random(gene_sim))\n",
    "\n",
    "    # Convert targets to binary format\n",
    "    gene_sim.targets = to_binary(gene_sim.targets)\n",
    "\n",
    "    # Train the model on the current subset of simulation data\n",
    "    X_train, X_val, y_train, y_val = train_test_split(gene_sim.data, gene_sim.targets, test_size=0.2, random_state=seed)\n",
    "    X_train_rgb = np.repeat(X_train, 3, axis=-1)\n",
    "    X_val_rgb = np.repeat(X_val, 3, axis=-1)\n",
    "    score = model.fit(datagen.flow(X_train_rgb, y_train, batch_size=64), epochs=10, validation_data=(X_val_rgb, y_val))\n",
    "\n",
    "    # Update scores with the current training results\n",
    "    all_scores['loss'].extend(score.history['loss'])\n",
    "    all_scores['val_loss'].extend(score.history['val_loss'])\n",
    "    all_scores['accuracy'].extend(score.history['accuracy'])\n",
    "    all_scores['val_accuracy'].extend(score.history['val_accuracy'])\n",
    "\n",
    "    # Increment the index for the next iteration\n",
    "    i += 1\n",
    "\n",
    "# Define the number of epochs for plotting\n",
    "epochs = range(1, len(all_scores['loss']) + 1)\n",
    "\n",
    "# Create a figure for plotting\n",
    "plt.figure(figsize=(12, 4))\n",
    "\n",
    "# Plot training and validation loss\n",
    "plt.subplot(1, 2, 1)\n",
    "plt.plot(epochs, all_scores['loss'], 'bo', label='Training loss')\n",
    "plt.plot(epochs, all_scores['val_loss'], 'b', label='Validation loss')\n",
    "plt.title('Training and Validation Loss')\n",
    "plt.xlabel('Epochs')\n",
    "plt.ylabel('Loss')\n",
    "plt.legend()\n",
    "\n",
    "# Plot training and validation accuracy\n",
    "plt.subplot(1, 2, 2)\n",
    "plt.plot(epochs, all_scores['accuracy'], 'bo', label='Training accuracy')\n",
    "plt.plot(epochs, all_scores['val_accuracy'], 'b', label='Validation accuracy')\n",
    "plt.title('Training and Validation Accuracy')\n",
    "plt.xlabel('Epochs')\n",
    "plt.ylabel('Accuracy')\n",
    "plt.legend()\n",
    "\n",
    "# Show the plots\n",
    "plt.show()"
   ]
  },
  {
   "cell_type": "markdown",
   "metadata": {
    "id": "57pzB2ZVdWqd"
   },
   "source": [
    "Evaluate the training on the testing dataset, Which is the last batch of the the 10th simulation in the file\n",
    "The log the testing validation and loss alongside the F1,"
   ]
  },
  {
   "cell_type": "code",
   "execution_count": null,
   "metadata": {
    "id": "AkvIbavWdWqd"
   },
   "outputs": [],
   "source": [
    "# Set the simulation index\n",
    "i = 10\n",
    "\n",
    "# Create an ImaFile object for the specified simulation folder and model\n",
    "file_sim = ImaFile(simulations_folder=path_sim + 'AS/Simulations' + str(i), nr_samples=198, model_name='Marth-3epoch-CEU')\n",
    "\n",
    "# Read the simulation data with the specified parameter and maximum number of replicates\n",
    "gene_sim_test = file_sim.read_simulations(parameter_name='selection_coeff_hetero', max_nrepl=4000)\n",
    "\n",
    "# Filter the simulations based on a frequency threshold of 0.01\n",
    "gene_sim_test.filter_freq(0.01)\n",
    "\n",
    "# Sort the simulations by row frequency\n",
    "gene_sim_test.sort('rows_freq')\n",
    "\n",
    "# Resize the simulation data to the specified dimensions (198, 192)\n",
    "gene_sim_test.resize((198, 192))\n",
    "\n",
    "# Convert the simulation data with data augmentation (flip=True)\n",
    "gene_sim_test.convert(flip=True)\n",
    "\n",
    "# Get a random subset of indices and subset the simulation data\n",
    "rnd_idx = get_index_random(gene_sim_test)  # no need to create this extra variable\n",
    "gene_sim_test.subset(rnd_idx)\n",
    "\n",
    "# Convert the targets to binary format\n",
    "gene_sim_test.targets = to_binary(gene_sim_test.targets)\n"
   ]
  },
  {
   "cell_type": "code",
   "execution_count": null,
   "metadata": {
    "colab": {
     "base_uri": "https://localhost:8080/"
    },
    "id": "MG-_g8fyhwnO",
    "outputId": "408f252c-4805-4bdf-c264-b9cefb953ab0"
   },
   "outputs": [],
   "source": [
    "# Evaluate the model on the test data to obtain loss and accuracy\n",
    "gene_sim_test.data = np.repeat(gene_sim_test.data, 3, axis=-1)\n",
    "net_LCT.test = model.evaluate(gene_sim_test.data, gene_sim_test.targets, batch_size=None, verbose=0)\n",
    "\n",
    "# Print the evaluation results, which include loss and accuracy\n",
    "print(net_LCT.test)  # It will report [loss, accuracy]\n"
   ]
  },
  {
   "cell_type": "code",
   "execution_count": null,
   "metadata": {
    "colab": {
     "base_uri": "https://localhost:8080/",
     "height": 545
    },
    "id": "jYa_mcCDi7kp",
    "outputId": "3acfb649-f454-4724-fe2e-198d18c3ee24"
   },
   "outputs": [],
   "source": [
    "# Make predictions on the validation data\n",
    "predictions = model.predict(gene_sim_test.data)\n",
    "\n",
    "# Calculate F1 score\n",
    "f1 = f1_score(gene_sim_test.targets, predictions.round())\n",
    "\n",
    "# Calculate precision, recall, and F-score\n",
    "precision, recall, fscore, _ = precision_recall_fscore_support(gene_sim_test.targets, predictions.round(), average='binary')\n",
    "\n",
    "# Recall is equivalent to sensitivity\n",
    "sensitivity = recall\n",
    "\n",
    "# Compute ROC curve and AUC (Area Under the Curve)\n",
    "fpr, tpr, _ = roc_curve(gene_sim_test.targets, predictions)\n",
    "roc_auc = auc(fpr, tpr)\n",
    "\n",
    "# Plot ROC curve\n",
    "plt.figure()\n",
    "plt.plot(fpr, tpr, color='darkorange', lw=2, label=f'ROC curve (area = {roc_auc:0.2f})')\n",
    "plt.plot([0, 1], [0, 1], color='navy', lw=2, linestyle='--')\n",
    "plt.xlim([0.0, 1.0])\n",
    "plt.ylim([0.0, 1.05])\n",
    "plt.xlabel('False Positive Rate')\n",
    "plt.ylabel('True Positive Rate')\n",
    "plt.title('Receiver Operating Characteristic (ROC) Curve')\n",
    "plt.legend(loc=\"lower right\")\n",
    "plt.show()\n",
    "\n",
    "# Print additional metrics\n",
    "print(f'F1 Score: {f1}')\n",
    "print(f'Precision: {precision}')\n",
    "print(f'Recall (Sensitivity): {sensitivity}')"
   ]
  },
  {
   "cell_type": "code",
   "execution_count": null,
   "metadata": {
    "colab": {
     "base_uri": "https://localhost:8080/",
     "height": 523
    },
    "id": "q_Gpu1ELhxwI",
    "outputId": "8fa13113-b48a-4990-9f23-42b42bddc039"
   },
   "outputs": [],
   "source": [
    "# Make predictions on the test data using the trained model and store the results in net_LCT\n",
    "net_LCT.predict(gene_sim_test, model)\n",
    "\n",
    "# Plot the confusion matrix of the predictions against the true classes, with text labels for clarity\n",
    "net_LCT.plot_cm(gene_sim_test.classes, text=True)\n"
   ]
  },
  {
   "cell_type": "code",
   "execution_count": null,
   "metadata": {
    "id": "RauARMTt8wSD"
   },
   "outputs": [],
   "source": [
    "path = './'\n",
    "filename = 'AS_transfer_learning_EfficientNet.keras'\n",
    "\n",
    "# Save the trained model to a file using the recommended Keras format\n",
    "model.save(path + filename)"
   ]
  }
 ],
 "metadata": {
  "colab": {
   "provenance": []
  },
  "kernelspec": {
   "display_name": "Python 3 (ipykernel)",
   "language": "python",
   "name": "python3"
  },
  "language_info": {
   "codemirror_mode": {
    "name": "ipython",
    "version": 3
   },
   "file_extension": ".py",
   "mimetype": "text/x-python",
   "name": "python",
   "nbconvert_exporter": "python",
   "pygments_lexer": "ipython3",
   "version": "3.11.3"
  }
 },
 "nbformat": 4,
 "nbformat_minor": 4
}
