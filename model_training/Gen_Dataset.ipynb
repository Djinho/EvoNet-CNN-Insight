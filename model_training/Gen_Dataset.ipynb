{
  "cells": [
    {
      "cell_type": "markdown",c
      "metadata": {
        "id": "0S3hjaYbl4NB"
      },
      "source": [
        "# Reproducible Dataset Generation"
      ]
    },
    {
      "cell_type": "code",
      "execution_count": null,
      "metadata": {
        "id": "3k8jLjA5l4ND"
      },
      "outputs": [],
      "source": [
        "# Cloning the EvoNet-CNN-Insight GitHub repository\n",
        "!git clone https://github.com/Djinho/EvoNet-CNN-Insight.git\n",
        "\n",
        "# Change directory to Dataset_Generation within the cloned repository\n",
        "%cd /content/EvoNet-CNN-Insight/Dataset_Generation"
      ]
    },
    {
      "cell_type": "code",
      "execution_count": null,
      "metadata": {
        "id": "Y2aVDbmOl4NE"
      },
      "outputs": [],
      "source": [
        "import subprocess\n",
        "\n",
        "# List of parameter files and scenarios\n",
        "params_files = [\n",
        "    \"params_early_weak.txt\",\n",
        "    \"params_early_moderate.txt\",\n",
        "    \"params_early_strong.txt\",\n",
        "    \"params_mid_weak.txt\",\n",
        "    \"params_mid_moderate.txt\",\n",
        "    \"params_mid_strong.txt\",\n",
        "    \"params_late_weak.txt\",\n",
        "    \"params_late_moderate.txt\",\n",
        "    \"params_late_strong.txt\",\n",
        "]\n",
        "\n",
        "# Execute the generate_dataset.sh script with each parameter file\n",
        "for params_file in params_files:\n",
        "    print(f\"Running simulation for {params_file}\")\n",
        "    subprocess.call([\"bash\", \"../generate_dataset.sh\", params_file])\n",
        "\n",
        "print(\"All simulations completed.\")\n"
      ]
    }
  ],
  "metadata": {
    "kernelspec": {
      "display_name": "Python 3",
      "language": "python",
      "name": "python3"
    },
    "language_info": {
      "codemirror_mode": {
        "name": "ipython",
        "version": 3
      },
      "file_extension": ".py",
      "mimetype": "text/x-python",
      "name": "python",
      "nbconvert_exporter": "python",
      "pygments_lexer": "ipython3",
      "version": "3.8.10"
    },
    "colab": {
      "provenance": []
    }
  },
  "nbformat": 4,
  "nbformat_minor": 0
}
