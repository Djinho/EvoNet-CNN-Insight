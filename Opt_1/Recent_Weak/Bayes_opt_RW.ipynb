{
  "cells": [
    {
      "cell_type": "markdown",
      "metadata": {
        "id": "BK3KvnjK-QcE"
      },
      "source": [
        "Data Analysis Pipeline:\n",
        "\n",
        "\n",
        "*  Clone the repo to carry the dependencies over and to invoke imagene.py.\n",
        "*  Import all necessary modules.\n",
        "\n",
        "\n",
        "*   Simulate data for ancient and moderate strength selection selrange = seq 0 100 100 / timerange = 0.01 50kya\n",
        "*   Build and compile baseline model.\n",
        "\n",
        "\n",
        "*  optmised cnn\n",
        "\n",
        "*   Test trained network on unseen data.\n",
        "*  \n",
        "This notebook seeks to utilise the optimsied hyperpamaters achived by bayseian optimisation where optimisation was done on 5 batches of data\n",
        "\n",
        "\n",
        "\n",
        "\n",
        "\n",
        "\n",
        "\n",
        "\n",
        "\n",
        "\n",
        "\n"
      ]
    },
    {
      "cell_type": "code",
      "source": [
        "# Cloning the GitHub repository\n",
        "!git clone https://github.com/Djinho/EvoNet-CNN-Insight.git\n",
        "\n",
        "# Change directories into the specified directory\n",
        "%cd EvoNet-CNN-Insight/Opt_1/Recent_Weak\n",
        "\n"
      ],
      "metadata": {
        "id": "R_VVQbWtDaI-",
        "outputId": "2d90eef2-bb03-43ab-d302-5cb1923df8a5",
        "colab": {
          "base_uri": "https://localhost:8080/"
        }
      },
      "execution_count": 9,
      "outputs": [
        {
          "output_type": "stream",
          "name": "stdout",
          "text": [
            "fatal: destination path 'EvoNet-CNN-Insight' already exists and is not an empty directory.\n",
            "/content/EvoNet-CNN-Insight/Opt_1/Recent_Weak\n"
          ]
        }
      ]
    },
    {
      "cell_type": "code",
      "execution_count": 10,
      "metadata": {
        "id": "T9u8r4IE-QcG"
      },
      "outputs": [],
      "source": [
        "import os\n",
        "import gzip\n",
        "import _pickle as pickle\n",
        "\n",
        "import numpy as np\n",
        "import scipy.stats\n",
        "import arviz\n",
        "\n",
        "import tensorflow as tf\n",
        "from tensorflow.keras import models, layers, optimizers, regularizers\n",
        "from tensorflow.keras.utils import plot_model\n",
        "from tensorflow.keras.models import load_model\n",
        "from tensorflow.keras import layers, models, optimizers\n",
        "\n",
        "\n",
        "\n",
        "# Set seeds for reproducibility\n",
        "np.random.seed(42)\n",
        "tf.random.set_seed(42)\n",
        "\n",
        "from sklearn.model_selection import train_test_split\n",
        "\n",
        "\n",
        "import itertools\n",
        "import matplotlib.pyplot as plt\n",
        "import skimage.transform\n",
        "from sklearn.metrics import confusion_matrix, recall_score, precision_score, f1_score, roc_curve, auc\n",
        "import pydot  # Optional, but required by keras to plot the model"
      ]
    },
    {
      "cell_type": "code",
      "execution_count": 11,
      "metadata": {
        "id": "KgbCr3IL-QcH"
      },
      "outputs": [],
      "source": [
        "%run -i ../../ImaGene.py"
      ]
    },
    {
      "cell_type": "markdown",
      "metadata": {
        "id": "jtD-SiZf-QcK"
      },
      "source": [
        "ImaGene uses msms to run simulations for training. Use ../generate_dataset.sh with ../params.txt (modify as needed).\n",
        "\n",
        " simulates 200,000 loci (80kbp) under neutral evolution or positive selection (1.5% selection coefficient). Mutation rate: 1.5e-8, recombination rate: 1e-8. Model follows Marth et al. 2004, sampling 198 chromosomal copies.\n",
        "\n",
        "Specify directories for msms and simulation storage, then run the command. The script splits simulations into batches for training."
      ]
    },
    {
      "cell_type": "code",
      "source": [
        "!pwd"
      ],
      "metadata": {
        "id": "fAtW6rs5Pzrm",
        "outputId": "96485bcf-0667-4ce4-af0b-059926d9a436",
        "colab": {
          "base_uri": "https://localhost:8080/"
        }
      },
      "execution_count": 8,
      "outputs": [
        {
          "output_type": "stream",
          "name": "stdout",
          "text": [
            "/content\n"
          ]
        }
      ]
    },
    {
      "cell_type": "code",
      "execution_count": 4,
      "metadata": {
        "id": "GpJ0fu9--QcK"
      },
      "outputs": [],
      "source": [
        "# if you wish to generate new training data, do not run otherwise\n",
        "import subprocess\n",
        "subprocess.call(\"bash ../../generate_dataset.sh params_Recent_Weak.txt\".split());"
      ]
    },
    {
      "cell_type": "code",
      "source": [
        "path = './'"
      ],
      "metadata": {
        "id": "znzk6fGjIbiX"
      },
      "execution_count": 19,
      "outputs": []
    },
    {
      "cell_type": "code",
      "execution_count": 20,
      "metadata": {
        "id": "utIwRbBK-QcK"
      },
      "outputs": [],
      "source": [
        "\n",
        "path_sim = './'"
      ]
    },
    {
      "cell_type": "code",
      "execution_count": 21,
      "metadata": {
        "id": "MchXp6DQ-QcK"
      },
      "outputs": [],
      "source": [
        "file_sim = ImaFile(simulations_folder=path_sim + 'RW/Simulations1', nr_samples=198, model_name='Marth-3epoch-CEU');"
      ]
    },
    {
      "cell_type": "markdown",
      "metadata": {
        "id": "EF_VYGM9-QcK"
      },
      "source": [
        "Populate an ImaGene object by specifying the variable to estimate (selection_coeff_hetero) and the number of data points per class. Use 8000 data points per class as an example."
      ]
    },
    {
      "cell_type": "code",
      "execution_count": 22,
      "metadata": {
        "id": "4WJsx4eN-QcK"
      },
      "outputs": [],
      "source": [
        "gene_sim = file_sim.read_simulations(parameter_name='selection_coeff_hetero', max_nrepl=8000);"
      ]
    },
    {
      "cell_type": "code",
      "execution_count": 23,
      "metadata": {
        "id": "5FGJbyMg-QcL"
      },
      "outputs": [],
      "source": [
        "gene_sim.filter_freq(0.01);\n",
        "gene_sim.sort('rows_freq');\n"
      ]
    },
    {
      "cell_type": "code",
      "execution_count": 24,
      "metadata": {
        "id": "8tYlmeE6-QcL"
      },
      "outputs": [],
      "source": [
        "gene_sim.resize((198, 192));"
      ]
    },
    {
      "cell_type": "code",
      "execution_count": 25,
      "metadata": {
        "id": "bhxn9cgB-QcL"
      },
      "outputs": [],
      "source": [
        "gene_sim.convert(flip=True);\n"
      ]
    },
    {
      "cell_type": "markdown",
      "metadata": {
        "id": "8VXYbA4b-QcM"
      },
      "source": [
        "shuffle images before using them for training network.\n"
      ]
    },
    {
      "cell_type": "code",
      "execution_count": 26,
      "metadata": {
        "id": "FSV9FO0y-QcM"
      },
      "outputs": [],
      "source": [
        "gene_sim.subset(get_index_random(gene_sim));"
      ]
    },
    {
      "cell_type": "code",
      "execution_count": 27,
      "metadata": {
        "id": "WT-e8RG1-QcM"
      },
      "outputs": [],
      "source": [
        "gene_sim.targets = to_binary(gene_sim.targets);"
      ]
    },
    {
      "cell_type": "code",
      "execution_count": 28,
      "metadata": {
        "id": "li1KC-KV-QcM",
        "colab": {
          "base_uri": "https://localhost:8080/"
        },
        "outputId": "edd5632f-b0fd-4209-9b60-7dcf497a2ee9"
      },
      "outputs": [
        {
          "output_type": "execute_result",
          "data": {
            "text/plain": [
              "0"
            ]
          },
          "metadata": {},
          "execution_count": 28
        }
      ],
      "source": [
        "gene_sim.save(file=path + 'gene_sim.binary')"
      ]
    },
    {
      "cell_type": "code",
      "execution_count": 29,
      "metadata": {
        "id": "si67YCk1-QcM"
      },
      "outputs": [],
      "source": [
        "gene_sim = load_imagene(file=path + 'gene_sim.binary')"
      ]
    },
    {
      "cell_type": "markdown",
      "metadata": {
        "id": "p3WdFdhP-QcN"
      },
      "source": [
        "Build and compile the model."
      ]
    },
    {
      "cell_type": "code",
      "execution_count": 30,
      "metadata": {
        "id": "1jIcAFB5-QcN",
        "colab": {
          "base_uri": "https://localhost:8080/"
        },
        "outputId": "0bc54a57-d27a-4fc7-bb88-57fea16211be"
      },
      "outputs": [
        {
          "output_type": "stream",
          "name": "stdout",
          "text": [
            "Model: \"sequential\"\n",
            "_________________________________________________________________\n",
            " Layer (type)                Output Shape              Param #   \n",
            "=================================================================\n",
            " conv2d (Conv2D)             (None, 194, 188, 20)      520       \n",
            "                                                                 \n",
            " max_pooling2d (MaxPooling2  (None, 97, 94, 20)        0         \n",
            " D)                                                              \n",
            "                                                                 \n",
            " conv2d_1 (Conv2D)           (None, 93, 90, 117)       58617     \n",
            "                                                                 \n",
            " max_pooling2d_1 (MaxPoolin  (None, 46, 45, 117)       0         \n",
            " g2D)                                                            \n",
            "                                                                 \n",
            " conv2d_2 (Conv2D)           (None, 42, 41, 120)       351120    \n",
            "                                                                 \n",
            " max_pooling2d_2 (MaxPoolin  (None, 21, 20, 120)       0         \n",
            " g2D)                                                            \n",
            "                                                                 \n",
            " flatten (Flatten)           (None, 50400)             0         \n",
            "                                                                 \n",
            " dense (Dense)               (None, 128)               6451328   \n",
            "                                                                 \n",
            " dense_1 (Dense)             (None, 1)                 129       \n",
            "                                                                 \n",
            "=================================================================\n",
            "Total params: 6861714 (26.18 MB)\n",
            "Trainable params: 6861714 (26.18 MB)\n",
            "Non-trainable params: 0 (0.00 Byte)\n",
            "_________________________________________________________________\n"
          ]
        }
      ],
      "source": [
        "from tensorflow.keras import models, layers, regularizers\n",
        "\n",
        "model = models.Sequential([\n",
        "    layers.Conv2D(filters=20, kernel_size=(5, 5), strides=1, activation='relu',\n",
        "                  kernel_regularizer=regularizers.l1_l2(l1=3.776e-05, l2=0.005409),\n",
        "                  padding='valid', input_shape=gene_sim.data.shape[1:]),\n",
        "    layers.MaxPooling2D(pool_size=(2, 2)),\n",
        "    layers.Conv2D(filters=117, kernel_size=(5, 5), strides=1, activation='relu',\n",
        "                  kernel_regularizer=regularizers.l1_l2(l1=3.776e-05, l2=0.005409),\n",
        "                  padding='valid'),\n",
        "    layers.MaxPooling2D(pool_size=(2, 2)),\n",
        "    layers.Conv2D(filters=120, kernel_size=(5, 5), strides=1, activation='relu',\n",
        "                  kernel_regularizer=regularizers.l1_l2(l1=3.776e-05, l2=0.005409),\n",
        "                  padding='valid'),\n",
        "    layers.MaxPooling2D(pool_size=(2, 2)),\n",
        "    layers.Flatten(),\n",
        "    layers.Dense(units=128, activation='relu'),\n",
        "    layers.Dense(units=1, activation='sigmoid')\n",
        "])\n",
        "\n",
        "# Compile the model\n",
        "model.compile(optimizer=tf.keras.optimizers.Adam(learning_rate=0.004910),\n",
        "              loss='binary_crossentropy',\n",
        "              metrics=['accuracy'])\n",
        "\n",
        "# Summary of the model\n",
        "model.summary()\n"
      ]
    },
    {
      "cell_type": "markdown",
      "metadata": {
        "id": "A_NyM2oX-QcN"
      },
      "source": [
        "summary of the model"
      ]
    },
    {
      "cell_type": "code",
      "execution_count": 31,
      "metadata": {
        "id": "e7rSsKW6-QcO"
      },
      "outputs": [],
      "source": [
        "net_LCT = ImaNet(name='[C20+P][C117+P][C120+P]+D128+D1')\n"
      ]
    },
    {
      "cell_type": "code",
      "source": [
        "from IPython.display import Javascript, display\n",
        "\n",
        "def keep_alive():\n",
        "    display(Javascript('''\n",
        "        function ClickConnect() {\n",
        "          console.log(\"Clicked on connect button to prevent timeout\");\n",
        "          document.querySelector(\"colab-toolbar-button#connect\").click();\n",
        "        }\n",
        "        setInterval(ClickConnect, 60000); // 60 seconds\n",
        "    '''))\n",
        "\n",
        "keep_alive()\n"
      ],
      "metadata": {
        "id": "XIhq7rJOEVQ1",
        "colab": {
          "base_uri": "https://localhost:8080/",
          "height": 17
        },
        "outputId": "b9d0b3e9-41a5-4e34-d168-bcad3efa4be5"
      },
      "execution_count": 20,
      "outputs": [
        {
          "output_type": "display_data",
          "data": {
            "text/plain": [
              "<IPython.core.display.Javascript object>"
            ],
            "application/javascript": [
              "\n",
              "        function ClickConnect() {\n",
              "          console.log(\"Clicked on connect button to prevent timeout\");\n",
              "          document.querySelector(\"colab-toolbar-button#connect\").click();\n",
              "        }\n",
              "        setInterval(ClickConnect, 60000); // 60 seconds\n",
              "    "
            ]
          },
          "metadata": {}
        }
      ]
    },
    {
      "cell_type": "markdown",
      "metadata": {
        "id": "gtjM_zR9-QcO"
      },
      "source": [
        "train batches from 1-9"
      ]
    },
    {
      "cell_type": "code",
      "execution_count": 21,
      "metadata": {
        "id": "Z4-vMnDN-QcO",
        "colab": {
          "base_uri": "https://localhost:8080/",
          "height": 1000
        },
        "outputId": "c3d8a73e-3f36-449e-8bf5-4860c34889fb"
      },
      "outputs": [
        {
          "output_type": "stream",
          "name": "stdout",
          "text": [
            "1\n",
            "113/113 [==============================] - 1344s 12s/step - loss: 1.5588 - accuracy: 0.4933 - val_loss: 1.0507 - val_accuracy: 0.5050\n",
            "2\n",
            "113/113 [==============================] - 1345s 12s/step - loss: 0.9693 - accuracy: 0.4947 - val_loss: 0.9035 - val_accuracy: 0.5050\n",
            "3\n",
            "113/113 [==============================] - 1407s 12s/step - loss: 0.8615 - accuracy: 0.4936 - val_loss: 0.8256 - val_accuracy: 0.5075\n",
            "4\n",
            "113/113 [==============================] - 1332s 12s/step - loss: 0.8011 - accuracy: 0.4949 - val_loss: 0.7798 - val_accuracy: 0.4762\n",
            "5\n",
            "113/113 [==============================] - 1311s 12s/step - loss: 0.7646 - accuracy: 0.4958 - val_loss: 0.7514 - val_accuracy: 0.4925\n",
            "6\n",
            "113/113 [==============================] - 1354s 12s/step - loss: 0.7421 - accuracy: 0.4956 - val_loss: 0.7341 - val_accuracy: 0.4975\n",
            "7\n",
            "113/113 [==============================] - 1288s 11s/step - loss: 0.7281 - accuracy: 0.4990 - val_loss: 0.7228 - val_accuracy: 0.4888\n",
            "8\n",
            "113/113 [==============================] - 1348s 12s/step - loss: 0.7192 - accuracy: 0.4946 - val_loss: 0.7160 - val_accuracy: 0.5063\n",
            "9\n",
            "113/113 [==============================] - 1324s 12s/step - loss: 0.7138 - accuracy: 0.4922 - val_loss: 0.7123 - val_accuracy: 0.4775\n",
            "Total epochs trained: 9\n"
          ]
        },
        {
          "output_type": "display_data",
          "data": {
            "text/plain": [
              "<Figure size 1000x600 with 1 Axes>"
            ],
            "image/png": "[encoded data removed]"
          },
          "metadata": {}
        },
        {
          "output_type": "display_data",
          "data": {
            "text/plain": [
              "<Figure size 1000x600 with 1 Axes>"
            ],
            "image/png": "[encoded data removed]"
          },
          "metadata": {}
        }
      ],
      "source": [
        "import csv\n",
        "\n",
        "\n",
        "total_epochs = 0\n",
        "losses = []\n",
        "val_losses = []\n",
        "accuracies = []\n",
        "val_accuracies = []\n",
        "\n",
        "i = 1\n",
        "while i < 10:\n",
        "    print(i)\n",
        "\n",
        "    file_sim = ImaFile(simulations_folder=path_sim + 'RW/Simulations' + str(i), nr_samples=198, model_name='Marth-3epoch-CEU')\n",
        "    gene_sim = file_sim.read_simulations(parameter_name='selection_coeff_hetero', max_nrepl=8000)\n",
        "\n",
        "    gene_sim.filter_freq(0.01)\n",
        "    gene_sim.sort('rows_freq')\n",
        "    gene_sim.resize((198, 192))\n",
        "    gene_sim.convert(flip=True)\n",
        "\n",
        "    gene_sim.subset(get_index_random(gene_sim))\n",
        "    gene_sim.targets = to_binary(gene_sim.targets)\n",
        "\n",
        "    score = model.fit(gene_sim.data, gene_sim.targets, batch_size=64, epochs=1, verbose=1, validation_split=0.10)\n",
        "\n",
        "    # Append the loss, validation loss, accuracy, and validation accuracy values for each epoch\n",
        "    losses.extend(score.history['loss'])\n",
        "    val_losses.extend(score.history['val_loss'])\n",
        "    accuracies.extend(score.history['accuracy'])\n",
        "    val_accuracies.extend(score.history['val_accuracy'])\n",
        "\n",
        "    # Update the total number of epochs trained\n",
        "    total_epochs += len(score.history['loss'])\n",
        "\n",
        "    net_LCT.update_scores(score)\n",
        "\n",
        "    i += 1\n",
        "\n",
        "# Print the total number of epochs\n",
        "print(f'Total epochs trained: {total_epochs}')\n",
        "\n",
        "# Save the loss, validation loss, accuracy, and validation accuracy to a CSV file\n",
        "with open('training_metrics.csv', 'w', newline='') as csvfile:\n",
        "    csvwriter = csv.writer(csvfile)\n",
        "    csvwriter.writerow(['Epoch', 'Training Loss', 'Validation Loss', 'Training Accuracy', 'Validation Accuracy'])\n",
        "    for epoch in range(total_epochs):\n",
        "        training_loss = losses[epoch] if epoch < len(losses) else ''\n",
        "        validation_loss = val_losses[epoch] if epoch < len(val_losses) else ''\n",
        "        training_accuracy = accuracies[epoch] if epoch < len(accuracies) else ''\n",
        "        validation_accuracy = val_accuracies[epoch] if epoch < len(val_accuracies) else ''\n",
        "        csvwriter.writerow([epoch + 1, training_loss, validation_loss, training_accuracy, validation_accuracy])\n",
        "\n",
        "# Plot the loss and validation loss over epochs\n",
        "plt.figure(figsize=(10, 6))\n",
        "plt.plot(range(total_epochs), losses, label='Training Loss')\n",
        "plt.plot(range(total_epochs), val_losses, label='Validation Loss')\n",
        "plt.xlabel('Epoch')\n",
        "plt.ylabel('Loss')\n",
        "plt.title('Loss Decay Over Epochs')\n",
        "plt.legend()\n",
        "plt.show()\n",
        "\n",
        "# Plot the accuracy and validation accuracy over epochs\n",
        "plt.figure(figsize=(10, 6))\n",
        "plt.plot(range(total_epochs), accuracies, label='Training Accuracy')\n",
        "plt.plot(range(total_epochs), val_accuracies, label='Validation Accuracy')\n",
        "plt.xlabel('Epoch')\n",
        "plt.ylabel('Accuracy')\n",
        "plt.title('Accuracy Over Epochs')\n",
        "plt.legend()\n",
        "plt.show()\n"
      ]
    },
    {
      "cell_type": "markdown",
      "metadata": {
        "id": "PhwevgDT-QcP"
      },
      "source": [
        "We can plot loss and validation accuracy during the training to check, for instance, for overfitting."
      ]
    },
    {
      "cell_type": "code",
      "execution_count": null,
      "metadata": {
        "id": "eyMB4bDN-QcP"
      },
      "outputs": [],
      "source": [
        "net_LCT.plot_train()"
      ]
    },
    {
      "cell_type": "markdown",
      "metadata": {
        "id": "-ywZ9OL4-QcP"
      },
      "source": [
        "We save (and/or load) the final trained model."
      ]
    },
    {
      "cell_type": "code",
      "execution_count": 22,
      "metadata": {
        "id": "aC1Qh3zu-QcP",
        "colab": {
          "base_uri": "https://localhost:8080/"
        },
        "outputId": "c1501336-1617-4b60-ca6b-3b8ddce5657b"
      },
      "outputs": [
        {
          "output_type": "stream",
          "name": "stderr",
          "text": [
            "/usr/local/lib/python3.10/dist-packages/keras/src/engine/training.py:3103: UserWarning: You are saving your model as an HDF5 file via `model.save()`. This file format is considered legacy. We recommend using instead the native Keras format, e.g. `model.save('my_model.keras')`.\n",
            "  saving_api.save_model(\n"
          ]
        }
      ],
      "source": [
        "model.save(path + 'model.RW.h5')"
      ]
    },
    {
      "cell_type": "code",
      "execution_count": 23,
      "metadata": {
        "id": "3hAa3CRO-QcP"
      },
      "outputs": [],
      "source": [
        "model = load_model(path + 'model.RW.h5')"
      ]
    },
    {
      "cell_type": "markdown",
      "metadata": {
        "id": "BJE0eiGy-QcP"
      },
      "source": [
        "You can also save the network itself (and load it)."
      ]
    },
    {
      "cell_type": "code",
      "execution_count": 24,
      "metadata": {
        "id": "z_udnl3i-QcP"
      },
      "outputs": [],
      "source": [
        "net_LCT.save(path + 'net_LCT.RW');"
      ]
    },
    {
      "cell_type": "code",
      "execution_count": 25,
      "metadata": {
        "id": "qzxbqjjJ-QcP"
      },
      "outputs": [],
      "source": [
        "net_LCT = load_imanet(path + 'net_LCT.RW')"
      ]
    },
    {
      "cell_type": "markdown",
      "metadata": {
        "id": "laW632Lh-QcP"
      },
      "source": [
        "Finally, we evaluate the training on the testing dataset, i.e. the last batch of simulated data."
      ]
    },
    {
      "cell_type": "code",
      "execution_count": 32,
      "metadata": {
        "id": "2WQtQPBF-QcP"
      },
      "outputs": [],
      "source": [
        "i = 10\n",
        "file_sim = ImaFile(simulations_folder=path_sim + 'RW/Simulations' + str(i), nr_samples=198, model_name='Marth-3epoch-CEU')\n",
        "gene_sim_test = file_sim.read_simulations(parameter_name='selection_coeff_hetero', max_nrepl=8000)\n",
        "\n",
        "gene_sim_test.filter_freq(0.01)\n",
        "gene_sim_test.sort('rows_freq')\n",
        "gene_sim_test.resize((198, 192))\n",
        "gene_sim_test.convert(flip=True)\n",
        "\n",
        "rnd_idx = get_index_random(gene_sim_test)\n",
        "gene_sim_test.subset(rnd_idx)\n",
        "\n",
        "gene_sim_test.targets = to_binary(gene_sim_test.targets);"
      ]
    },
    {
      "cell_type": "markdown",
      "metadata": {
        "id": "1RzUUL7N-QcQ"
      },
      "source": [
        "Let's report loss and accuracy on the testing set."
      ]
    },
    {
      "cell_type": "code",
      "execution_count": 33,
      "metadata": {
        "id": "yfnyOoDI-QcQ",
        "colab": {
          "base_uri": "https://localhost:8080/"
        },
        "outputId": "9885e312-5351-460e-c39b-3a393289bb19"
      },
      "outputs": [
        {
          "output_type": "stream",
          "name": "stdout",
          "text": [
            "[1.795241117477417, 0.5]\n"
          ]
        }
      ],
      "source": [
        "\n",
        "net_LCT.test = model.evaluate(gene_sim_test.data, gene_sim_test.targets, batch_size=None, verbose=0)\n",
        "print(net_LCT.test)  # it will report [loss, accuracy]\n",
        "\n"
      ]
    },
    {
      "cell_type": "code",
      "source": [
        "# Add the following code for ROC and AUC calculation and plotting\n",
        "y_pred_prob = model.predict(gene_sim_test.data)\n",
        "fpr, tpr, _ = roc_curve(gene_sim_test.targets, y_pred_prob)\n",
        "roc_auc = auc(fpr, tpr)\n",
        "\n",
        "plt.figure()\n",
        "plt.plot(fpr, tpr, color='darkorange', lw=2, label='ROC curve (area = %0.2f)' % roc_auc)\n",
        "plt.plot([0, 1], [0, 1], color='navy', lw=2, linestyle='--')\n",
        "plt.xlim([0.0, 1.0])\n",
        "plt.ylim([0.0, 1.05])\n",
        "plt.xlabel('False Positive Rate')\n",
        "plt.ylabel('True Positive Rate')\n",
        "plt.title('Receiver Operating Characteristic')\n",
        "plt.legend(loc=\"lower right\")\n",
        "plt.show()\n",
        "\n",
        "\n",
        "# Convert probabilities to binary predictions\n",
        "y_pred = (y_pred_prob > 0.5).astype(int)\n",
        "\n",
        "# Calculate confusion matrix\n",
        "tn, fp, fn, tp = confusion_matrix(gene_sim_test.targets, y_pred).ravel()\n",
        "\n",
        "# Calculate sensitivity (recall)\n",
        "sensitivity = recall_score(gene_sim_test.targets, y_pred)\n",
        "\n",
        "# Calculate specificity\n",
        "specificity = tn / (tn + fp)\n",
        "\n",
        "# Calculate precision\n",
        "precision = precision_score(gene_sim_test.targets, y_pred)\n",
        "\n",
        "# Calculate F1 score\n",
        "f1 = f1_score(gene_sim_test.targets, y_pred)\n",
        "\n",
        "# Print metrics\n",
        "print(f\"Sensitivity (Recall): {sensitivity:.2f}\")\n",
        "print(f\"Specificity: {specificity:.2f}\")\n",
        "print(f\"Precision: {precision:.2f}\")\n",
        "print(f\"F1 Score: {f1:.2f}\")"
      ],
      "metadata": {
        "id": "dsUPWFGlBZcQ",
        "colab": {
          "base_uri": "https://localhost:8080/",
          "height": 219
        },
        "outputId": "eeaf902c-59c9-45d4-a2c2-ba4f0163a031"
      },
      "execution_count": 1,
      "outputs": [
        {
          "output_type": "error",
          "ename": "NameError",
          "evalue": "name 'model' is not defined",
          "traceback": [
            "\u001b[0;31m---------------------------------------------------------------------------\u001b[0m",
            "\u001b[0;31mNameError\u001b[0m                                 Traceback (most recent call last)",
            "\u001b[0;32m<ipython-input-1-b8106bba5dbd>\u001b[0m in \u001b[0;36m<cell line: 2>\u001b[0;34m()\u001b[0m\n\u001b[1;32m      1\u001b[0m \u001b[0;31m# Add the following code for ROC and AUC calculation and plotting\u001b[0m\u001b[0;34m\u001b[0m\u001b[0;34m\u001b[0m\u001b[0m\n\u001b[0;32m----> 2\u001b[0;31m \u001b[0my_pred_prob\u001b[0m \u001b[0;34m=\u001b[0m \u001b[0mmodel\u001b[0m\u001b[0;34m.\u001b[0m\u001b[0mpredict\u001b[0m\u001b[0;34m(\u001b[0m\u001b[0mgene_sim_test\u001b[0m\u001b[0;34m.\u001b[0m\u001b[0mdata\u001b[0m\u001b[0;34m)\u001b[0m\u001b[0;34m\u001b[0m\u001b[0;34m\u001b[0m\u001b[0m\n\u001b[0m\u001b[1;32m      3\u001b[0m \u001b[0mfpr\u001b[0m\u001b[0;34m,\u001b[0m \u001b[0mtpr\u001b[0m\u001b[0;34m,\u001b[0m \u001b[0m_\u001b[0m \u001b[0;34m=\u001b[0m \u001b[0mroc_curve\u001b[0m\u001b[0;34m(\u001b[0m\u001b[0mgene_sim_test\u001b[0m\u001b[0;34m.\u001b[0m\u001b[0mtargets\u001b[0m\u001b[0;34m,\u001b[0m \u001b[0my_pred_prob\u001b[0m\u001b[0;34m)\u001b[0m\u001b[0;34m\u001b[0m\u001b[0;34m\u001b[0m\u001b[0m\n\u001b[1;32m      4\u001b[0m \u001b[0mroc_auc\u001b[0m \u001b[0;34m=\u001b[0m \u001b[0mauc\u001b[0m\u001b[0;34m(\u001b[0m\u001b[0mfpr\u001b[0m\u001b[0;34m,\u001b[0m \u001b[0mtpr\u001b[0m\u001b[0;34m)\u001b[0m\u001b[0;34m\u001b[0m\u001b[0;34m\u001b[0m\u001b[0m\n\u001b[1;32m      5\u001b[0m \u001b[0;34m\u001b[0m\u001b[0m\n",
            "\u001b[0;31mNameError\u001b[0m: name 'model' is not defined"
          ]
        }
      ]
    },
    {
      "cell_type": "markdown",
      "metadata": {
        "id": "Pl6AgDO9-QcQ"
      },
      "source": [
        "For a binary (or multiclass) classification, it is convenient to plot the confusion matrix after predicting the responses from the testing data."
      ]
    },
    {
      "cell_type": "code",
      "execution_count": 34,
      "metadata": {
        "id": "xEZFWDyG-QcQ",
        "colab": {
          "base_uri": "https://localhost:8080/",
          "height": 523
        },
        "outputId": "f59ed63e-ae56-4743-865b-16c4c0f9258f"
      },
      "outputs": [
        {
          "output_type": "stream",
          "name": "stdout",
          "text": [
            "250/250 [==============================] - 395s 2s/step\n"
          ]
        },
        {
          "output_type": "display_data",
          "data": {
            "text/plain": [
              "<Figure size 640x480 with 2 Axes>"
            ],
            "image/png": "[encoded data removed]"
          },
          "metadata": {}
        },
        {
          "output_type": "execute_result",
          "data": {
            "text/plain": [
              "0"
            ]
          },
          "metadata": {},
          "execution_count": 34
        }
      ],
      "source": [
        "net_LCT.predict(gene_sim_test, model)\n",
        "net_LCT.plot_cm(gene_sim_test.classes, text=True)"
      ]
    }
  ],
  "metadata": {
    "kernelspec": {
      "display_name": "Python 3 (ipykernel)",
      "language": "python",
      "name": "python3"
    },
    "language_info": {
      "codemirror_mode": {
        "name": "ipython",
        "version": 3
      },
      "file_extension": ".py",
      "mimetype": "text/x-python",
      "name": "python",
      "nbconvert_exporter": "python",
      "pygments_lexer": "ipython3",
      "version": "3.10.4"
    },
    "colab": {
      "provenance": []
    }
  },
  "nbformat": 4,
  "nbformat_minor": 0
}